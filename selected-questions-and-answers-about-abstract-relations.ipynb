{
 "cells": [
  {
   "cell_type": "markdown",
   "metadata": {
    "id": "MDyTS5DlkJEE"
   },
   "source": [
    "# <font color=blue>Selected Questions and Answers about Abstract Relations</font>\n",
    "## <font color=blue>Plus Advice</font>\n"
   ]
  },
  {
   "cell_type": "markdown",
   "metadata": {
    "id": "Z5C007bakPRk"
   },
   "source": [
    "## <font color=red>Help!!</font>\n"
   ]
  },
  {
   "cell_type": "markdown",
   "metadata": {
    "id": "6scQBoowkQLk"
   },
   "source": [
    "I need help! All this abstractness is really hard to understand. What do you suggest?\n"
   ]
  },
  {
   "cell_type": "markdown",
   "metadata": {
    "id": "Yz24turjkTzJ"
   },
   "source": [
    "## <font color=red>Advice from Former Students and TAs</font>\n"
   ]
  },
  {
   "cell_type": "markdown",
   "metadata": {
    "id": "5ydl5qRekVKc"
   },
   "source": [
    "### 1\n"
   ]
  },
  {
   "cell_type": "markdown",
   "metadata": {
    "id": "JNmo0JotkYQm"
   },
   "source": [
    "My suggestion would be to get help from the TAs. They want to help you succeed, but you just have to put the effort into the class.\n"
   ]
  },
  {
   "cell_type": "markdown",
   "metadata": {
    "id": "jaJ6ZwtMkZeO"
   },
   "source": [
    "Getting a group is also a valuable thing. You can help others where they struggle and others may be able to do the same for you where you struggle.\n"
   ]
  },
  {
   "cell_type": "markdown",
   "metadata": {
    "id": "uIkuRLPRkay-"
   },
   "source": [
    "### 2\n"
   ]
  },
  {
   "cell_type": "markdown",
   "metadata": {
    "id": "F51Agkyzkb0A"
   },
   "source": [
    "I would definitely second the group part. I had someone I worked with in Discrete Math 1, but it wasn't very often, and we never had a set time to meet, so it was not super effective. This week I am in a group with 2 other students and we meet up once or twice a week to work through problems and understand the concepts, and it has made a world of difference."
   ]
  },
  {
   "cell_type": "markdown",
   "metadata": {
    "id": "dpe8kroOkeh2"
   },
   "source": [
    "### 3\n"
   ]
  },
  {
   "cell_type": "markdown",
   "metadata": {
    "id": "ZH8ohBZ3kggc"
   },
   "source": [
    "The biggest piece of advice I have to give is that the concepts are not as complex as they seem. In reality you only need to know a few rules and properties to be able to get through the homework. The hard part is knowing how to get the result you desire by using the rules and properties.\n"
   ]
  },
  {
   "cell_type": "markdown",
   "metadata": {
    "id": "w01NwGxKkiFg"
   },
   "source": [
    "Also know that there are countless applications to the things you are learning. It helps me to know that there are applications to things. Many of the applications of relations are useful for not only things in computer science, but everyday life.\n"
   ]
  },
  {
   "cell_type": "markdown",
   "metadata": {
    "id": "ee9GiktskjTM"
   },
   "source": [
    "### 4\n"
   ]
  },
  {
   "cell_type": "markdown",
   "metadata": {
    "id": "sLvGim2jkkrQ"
   },
   "source": [
    "My main piece of advice for this topic, and frankly most of the topics in Discrete Math, is to make sure that you &ldquo;get your hands dirty.&rdquo; The book does a good job of introducing the definitions of terms, and gives enough examples that you should be able to figure out what it is being taught through a careful reading or two of the material. Nonetheless, your understanding will not be anywhere near complete until you have gone through the exercises and problems for the week, making sure to both reach, and more importantly understand, a solution for each of them. If the solution does not come quickly to you --- by which I mean not within five or ten minutes --- that is a good thing, and means that you should press onward! Since taking Discrete Math 1 I have regularly run across situations in higher level courses in which a solution to a problem was not immediately obvious to me. Often the solution came down to making a connection I had previously missed, which is a large component of this section. As far as advice on the topic of actually making connections, I highly suggest that you get yourselves comfortable with sets and set representation in Python or your programming language of choice. Helper functions can save you hours of work on the homework, but only if you know how to code them in such a way as to not only be correct, but to also provide meaningful output from an intuitive input.\n"
   ]
  },
  {
   "cell_type": "markdown",
   "metadata": {
    "id": "mOdB5tuikqVu"
   },
   "source": [
    "### 5\n"
   ]
  },
  {
   "cell_type": "markdown",
   "metadata": {
    "id": "XmK6-AvcksTy"
   },
   "source": [
    "If I could take DM I again this week I would have spent more time on learning the definitions of the binary relations.\n"
   ]
  },
  {
   "cell_type": "markdown",
   "metadata": {
    "id": "cQMchs2FkumO"
   },
   "source": [
    "In general I wish I would have torn this apart and made complete sense with graphs pictures and diagrams, “a binary relation over [sets](https://en.wikipedia.org/wiki/Set_(mathematics)) $X$ and $Y$ is a [subset](https://en.wikipedia.org/wiki/Subset) of the [Cartesian product](https://en.wikipedia.org/wiki/Cartesian_product) $X \\times Y$; that is, it is a set of [ordered pairs](https://en.wikipedia.org/wiki/Ordered_pair) $(x, y)$ consisting of elements $x \\in X$ and $y \\in Y$ [[1]](https://en.wikipedia.org/wiki/Binary_relation#cite_note-Codd1970-1). It encodes the information of a [relation](https://en.wikipedia.org/wiki/Glossary_of_set_theory#relation): an element $x$ is related to an element $y$, [if and only if](https://en.wikipedia.org/wiki/If_and_only_if) the pair $(x, y)$ belongs to the set.” --- this was taken from Wikipedia.\n"
   ]
  },
  {
   "cell_type": "markdown",
   "metadata": {
    "id": "fJL69GLflLW2"
   },
   "source": [
    "When I was in DM1 I barely understood what a Cartesian product was. I had learned what it was from linear algebra but I still didn’t understand it. If I had written out a few examples and done some exercises from online, I think that week would have gone much easier for me. I would have understood the next sentence stating that ordered pairs, one taken from set $X$ and one taken from set $Y$, are related ($xRy$), and that their relationship would then have made much more sense when talking about binary relations and their definitions. I should have asked questions more even if I don’t understand or make sense of the questions I thought of.\n"
   ]
  },
  {
   "cell_type": "markdown",
   "metadata": {
    "id": "t0sa7evAlOHq"
   },
   "source": [
    "I am a visual learner more than anything. This pdf helped me this semester to understand relations more:\n"
   ]
  },
  {
   "cell_type": "markdown",
   "metadata": {
    "id": "5uiyffvslPcB"
   },
   "source": [
    "http://web.stanford.edu/class/archive/cs/cs103/cs103.1142/lectures/07/Small07.pdf\n"
   ]
  },
  {
   "cell_type": "markdown",
   "metadata": {
    "id": "4nfsp7fDlfy3"
   },
   "source": [
    "### 6\n"
   ]
  },
  {
   "cell_type": "markdown",
   "metadata": {
    "id": "pjjq0-jDlg5K"
   },
   "source": [
    "For me, some of the abstract mathematical concepts of discrete mathematics can become too theoretical and especially too focused on symbols rather than visual representations of problems. Taking the abstract and applying it to applications that can be observed rather than read can be a difficult task, but luckily the internet is a medium that exists. Using simple searches, we can gain visual representations of complex or confusing concepts. Though fairly simple in concept, I found it somewhat difficult to visualize the differences just from the reading.\n"
   ]
  },
  {
   "cell_type": "markdown",
   "metadata": {
    "id": "P0iF50Pilixj"
   },
   "source": [
    "As we delve into deeper topics within the rabbit hole that is discrete mathematics, I urge anyone who is struggling with a particular concept to research and find a visual representation. It has helped me better understand what is happening in class and makes understanding symbols and research papers much easier.\n"
   ]
  },
  {
   "cell_type": "markdown",
   "metadata": {
    "id": "vgNvEtndlj6b"
   },
   "source": [
    "### 7\n"
   ]
  },
  {
   "cell_type": "markdown",
   "metadata": {
    "id": "UJWNtl44llAs"
   },
   "source": [
    "Make a table with reflexive, symmetric, antisymmetric, transitive, irreflexivity, nonreflexivity, and asymmetry. Then write an example that reminds you what the relation is. Then start combining the relations together like antisymmetic and symmetric and ask yourself what example has these relations. Repeat this pattern till you run out of possible relation combinations. Throughout this process ask other students and Brother Neff for examples of relations that you struggle with understanding.\n"
   ]
  },
  {
   "cell_type": "markdown",
   "metadata": {
    "id": "Jx9sEZunln2v"
   },
   "source": [
    "## <font color=red>Questions</font>\n"
   ]
  },
  {
   "cell_type": "markdown",
   "metadata": {
    "id": "w5QPEqLklorq"
   },
   "source": [
    "### 1\n"
   ]
  },
  {
   "cell_type": "markdown",
   "metadata": {
    "id": "W42zOg3slpxy"
   },
   "source": [
    "Section 4.2 describes four properties of binary relations: reflexivity, symmetry, antisymmetry, and transitivity.\n"
   ]
  },
  {
   "cell_type": "markdown",
   "metadata": {
    "id": "FDa7TQ1-lri1"
   },
   "source": [
    "Is it possible for a relation to have all four of these properties?\n"
   ]
  },
  {
   "cell_type": "markdown",
   "metadata": {
    "id": "rVnvNkZslsl4"
   },
   "source": [
    "If so, give an example. If not, argue why not.\n"
   ]
  },
  {
   "cell_type": "markdown",
   "metadata": {
    "id": "-qRbxBLBltzK"
   },
   "source": [
    "### 2\n"
   ]
  },
  {
   "cell_type": "markdown",
   "metadata": {
    "id": "-L98SZMXluzT"
   },
   "source": [
    "There are 16 possible binary self-relations on a two-element set. They each correspond to a binary truth function. Make a table with a row for each of these relations. The columns of the table should include the corresponding truth function, if it is reflexive, if it is symmetric, if it is antisymmetric, if it is transitive, and if it is an equivalence relation.\n"
   ]
  },
  {
   "cell_type": "markdown",
   "metadata": {
    "id": "fwc3SlKUlv1H"
   },
   "source": [
    "Here is a sample table with one row filled out:\n"
   ]
  },
  {
   "cell_type": "markdown",
   "metadata": {
    "id": "R8vLWlUolwz-"
   },
   "source": [
    "| truth-function | reflexive | symmetric | antisymmetric | transitive | equivalence |\n",
    "|----------------|:---------:|:---------:|:-------------:|:----------:|:-----------:|\n",
    "| Disjunction    | No        | Yes       | No            | No         | No          |\n"
   ]
  },
  {
   "cell_type": "markdown",
   "metadata": {
    "id": "xw9eZexnl16b"
   },
   "source": [
    "Add the remaining rows to the table. What are some of the patterns you see?\n"
   ]
  },
  {
   "cell_type": "markdown",
   "metadata": {
    "id": "6Zmef9M1l2Oz"
   },
   "source": [
    "### 3\n"
   ]
  },
  {
   "cell_type": "markdown",
   "metadata": {
    "id": "Pf9VwE9Xl3Su"
   },
   "source": [
    "Categorize the following binary relations as reflexive, symmetric, antisymmetric and/or transitive for the set of all integers:\n"
   ]
  },
  {
   "cell_type": "markdown",
   "metadata": {
    "id": "aqsMm8eQl4f3"
   },
   "source": [
    "1. $x < y$\n",
    "2. $x \\ge y$\n",
    "3. $x = y$\n",
    "4. $y = x + 1$\n",
    "5. $x = -y$\n"
   ]
  },
  {
   "cell_type": "markdown",
   "metadata": {
    "id": "FOw9ODfhl6HM"
   },
   "source": [
    "### 4\n"
   ]
  },
  {
   "cell_type": "markdown",
   "metadata": {
    "id": "LDWFjBD6l7Qg"
   },
   "source": [
    "Loosely speaking:\n"
   ]
  },
  {
   "cell_type": "markdown",
   "metadata": {
    "id": "z0BDyM_fl8NJ"
   },
   "source": [
    "**Reflexive** means always holding between a term and itself.\n"
   ]
  },
  {
   "cell_type": "markdown",
   "metadata": {
    "id": "DqDDZlZQmC97"
   },
   "source": [
    "**Symmetric** means made up of exactly similar parts facing each other.\n"
   ]
  },
  {
   "cell_type": "markdown",
   "metadata": {
    "id": "_ME-HvfrmEAX"
   },
   "source": [
    "**Antisymmetric** means unaltered in magnitude but changed in sign by exchange of two variables or by a particular symmetry operation.\n"
   ]
  },
  {
   "cell_type": "markdown",
   "metadata": {
    "id": "ATIXMxbcmFEC"
   },
   "source": [
    "**Transitive** means that, if a relation applies between successive members of a sequence, it must also apply between any two members taken in order. For instance, if A is larger than B, and B is larger than C, then A is larger than C.\n"
   ]
  },
  {
   "cell_type": "markdown",
   "metadata": {
    "id": "oGXSq-H7mGWI"
   },
   "source": [
    "Consider Moroni 10:20 --- &ldquo;Wherefore, there must be faith; and if there must be faith there must also be hope; and if there must be hope there must also be charity.&rdquo;\n"
   ]
  },
  {
   "cell_type": "markdown",
   "metadata": {
    "id": "QoeVEQufmJv8"
   },
   "source": [
    "Suppose faith is assigned to the number 1, hope to the number 2, and charity to the number 3. The set to be used is: Truth = {1, 2, 3}.\n"
   ]
  },
  {
   "cell_type": "markdown",
   "metadata": {
    "id": "EReogx16mP1I"
   },
   "source": [
    "What pairs from set Truth $\\times$ Truth would need to be in a relation in order for it to possess all four of these properties while maintaining the truthfulness of the scripture above?\n"
   ]
  },
  {
   "cell_type": "markdown",
   "metadata": {
    "id": "u_-ialgzmRQD"
   },
   "source": [
    "For example: $R = \\{(1, 2), (2, 3), \\ldots\\}$.\n"
   ]
  },
  {
   "cell_type": "markdown",
   "metadata": {
    "id": "L6wx79UAmRry"
   },
   "source": [
    "## <font color=red>Answers</font>"
   ]
  },
  {
   "cell_type": "markdown",
   "metadata": {
    "id": "MphuUSNzmfya"
   },
   "source": [
    "### 1\n"
   ]
  },
  {
   "cell_type": "markdown",
   "metadata": {
    "id": "Vai1SVvgmThi"
   },
   "source": [
    "Yes, it is possible. The identity relation, where everything is related to itself, is reflexive (naturally), but also (vacuously) symmetric, antisymmetric, and transitive.\n"
   ]
  },
  {
   "cell_type": "markdown",
   "metadata": {
    "id": "nh9DCX-6mhAH"
   },
   "source": [
    "### 2\n"
   ]
  },
  {
   "cell_type": "markdown",
   "metadata": {
    "id": "569zHol1mmsr"
   },
   "source": [
    "See https://en.wikipedia.org/wiki/Truth_function.\n"
   ]
  },
  {
   "cell_type": "markdown",
   "metadata": {
    "id": "MKokZeqPm3la"
   },
   "source": [
    "| truth-function               | personality | reflexive | symmetric | antisymmetric | transitive | equivalence |\n",
    "|------------------------------|:-----------:|:---------:|:---------:|:-------------:|:----------:|:-----------:|\n",
    "| Contradiction ($0$)          |    0000     |    No     |    Yes    |      Yes      |    Yes     |     No      |\n",
    "| Conjunction ($p \\land q$)    |    0001     |    No     |    Yes    |      Yes      |    Yes     |     No      |\n",
    "| $p \\land \\lnot q$            |    0010     |    No     |    No     |      Yes      |    Yes     |     No      |\n",
    "| $p$                          |    0011     |    No     |    No     |      Yes      |    Yes     |     No      |\n",
    "| $\\lnot p \\land q$             |    0100     |    No     |    No     |      Yes      |    Yes     |     No      |\n",
    "| $q$                          |    0101     |    No     |    No     |      Yes      |    Yes     |     No      |\n",
    "| XOR ($p \\oplus q$)           |    0110     |    No     |    Yes    |      No       |     No     |     No      |\n",
    "| Disjunction ($p \\lor q$)     |    0111     |    No     |    Yes    |      No       |     No     |     No      |\n",
    "| NOR $\\lnot(p \\lor q)$        |    1000     |    No     |    Yes    |      Yes      |    Yes     |     No      |\n",
    "| Biconditional ($p \\leftrightarrow q$)        |    1001     |    Yes    |    Yes    |      Yes      |    Yes     |     Yes     |\n",
    "| $\\lnot q$                    |    1010     |    No     |    No     |      Yes      |    Yes     |     No      |\n",
    "| Reverse Implication ($p \\leftarrow q$)  |    1011     |    Yes    |    No     |      Yes      |    Yes     |     No      |\n",
    "| $\\lnot p$                    |    1100     |    No     |    No     |      Yes      |    Yes     |     No      |\n",
    "| Material Implication ($p \\rightarrow q$) |    1101     |    Yes    |    No     |      Yes      |    Yes     |     No      |\n",
    "| NAND $\\lnot(p \\land q)$      |    1110     |    No     |    Yes    |      No       |     No     |     No      |\n",
    "| Tautology ($1$)              |    1111     |    Yes    |    Yes    |      No       |    Yes     |     Yes     |\n"
   ]
  },
  {
   "cell_type": "markdown",
   "metadata": {
    "id": "L5KOOTK1nFlk"
   },
   "source": [
    "### 3\n"
   ]
  },
  {
   "cell_type": "markdown",
   "metadata": {
    "id": "cdoTvszbnF7w"
   },
   "source": [
    "| # | Relation  | Reflexive | Symmetric | Antisymmetric | Transitive |\n",
    "|---|:----------|:---------:|:---------:|:-------------:|:----------:|\n",
    "| 1 |   $x < y$ |    No     |    No     |      Yes      |    Yes     |\n",
    "| 2 | $x \\ge y$ |    Yes    |    No     |      Yes      |    Yes     |\n",
    "| 3 | $x = y$   |    Yes    |    Yes    |      Yes      |    Yes     |\n",
    "| 4 | $y = x+1$ |    No    |    No     |      Yes      |     No     |\n",
    "| 5 | $x = -y$  |    No     |    Yes    |      No       |     No     |\n"
   ]
  },
  {
   "cell_type": "markdown",
   "metadata": {
    "id": "nfgqnCwCoAeh"
   },
   "source": [
    "### 4"
   ]
  },
  {
   "cell_type": "markdown",
   "metadata": {
    "id": "10pcFLLfoBVE"
   },
   "source": [
    "Under one interpretation, $R = \\{(1, 1), (1, 2), (2, 2), (2, 3), (1, 3), (3, 3)\\}$.\n"
   ]
  },
  {
   "cell_type": "markdown",
   "metadata": {
    "id": "bMGZmKHhoCxj"
   },
   "source": [
    "There are others, where, for example, you would leave out the self-pairings."
   ]
  }
 ],
 "metadata": {
  "colab": {
   "authorship_tag": "ABX9TyNNZpxkSdHDIbvSLLTiS10f",
   "collapsed_sections": [
    "Z5C007bakPRk",
    "Yz24turjkTzJ",
    "5ydl5qRekVKc",
    "uIkuRLPRkay-",
    "dpe8kroOkeh2",
    "ee9GiktskjTM",
    "mOdB5tuikqVu",
    "4nfsp7fDlfy3",
    "vgNvEtndlj6b",
    "w5QPEqLklorq",
    "-qRbxBLBltzK",
    "6Zmef9M1l2Oz",
    "MphuUSNzmfya",
    "nh9DCX-6mhAH",
    "L5KOOTK1nFlk",
    "g0i684I7r1gs",
    "qw87DSwex584"
   ],
   "name": "selected-questions-and-answers-about-abstract-relations.ipynb",
   "private_outputs": true,
   "provenance": []
  },
  "kernelspec": {
   "display_name": "Python 3",
   "language": "python",
   "name": "python3"
  },
  "language_info": {
   "codemirror_mode": {
    "name": "ipython",
    "version": 3
   },
   "file_extension": ".py",
   "mimetype": "text/x-python",
   "name": "python",
   "nbconvert_exporter": "python",
   "pygments_lexer": "ipython3",
   "version": "3.9.0"
  }
 },
 "nbformat": 4,
 "nbformat_minor": 1
}
