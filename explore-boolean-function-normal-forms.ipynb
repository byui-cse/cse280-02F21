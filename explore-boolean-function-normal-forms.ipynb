{
 "cells": [
  {
   "cell_type": "markdown",
   "metadata": {
    "id": "aRDErTo0SlFy"
   },
   "source": [
    "# <font color=blue>Explore Boolean Function Normal Forms</font>\n",
    "## <font color=blue>Ponder and Prove</font>"
   ]
  },
  {
   "cell_type": "markdown",
   "metadata": {
    "id": "IfKEOT0SI417"
   },
   "source": [
    "## <font color=red>The Goal</font>\n"
   ]
  },
  {
   "cell_type": "markdown",
   "metadata": {
    "id": "qjE110VeWO5Z"
   },
   "source": [
    "**Understand Boolean Functions and Expressions Better**"
   ]
  },
  {
   "cell_type": "markdown",
   "metadata": {
    "id": "j-T456f9ii9X"
   },
   "source": [
    "Two Boolean expressions are said to be equal if they evaluate to the same truth value for all truth assignments.\n",
    "\n",
    "A Boolean expression is a **tautology** if it evaluates to true for **all** truth assignments.\n",
    "\n",
    "A Boolean expression is **satisfiable** if it evaluates to true for **at least one** truth assignment."
   ]
  },
  {
   "cell_type": "markdown",
   "metadata": {
    "id": "5n2M5mEtilxX"
   },
   "source": [
    "### De Morgan's Laws"
   ]
  },
  {
   "cell_type": "markdown",
   "metadata": {
    "id": "5b8m5yyHina0"
   },
   "source": [
    "$\\lnot(p \\lor q) \\leftrightarrow \\lnot p \\land \\lnot q$\n",
    "\n",
    "$\\lnot(p \\land q) \\leftrightarrow \\lnot p \\lor \\lnot q$\n"
   ]
  },
  {
   "cell_type": "markdown",
   "metadata": {
    "id": "0OFGFq71iujJ"
   },
   "source": [
    "### Double-Negation Elimination Rule"
   ]
  },
  {
   "cell_type": "markdown",
   "metadata": {
    "id": "Gwv56O6BixN0"
   },
   "source": [
    "$\\lnot \\lnot p \\leftrightarrow p$"
   ]
  },
  {
   "cell_type": "markdown",
   "metadata": {
    "id": "VDBZTPfCiy7L"
   },
   "source": [
    "### Distributive Properties"
   ]
  },
  {
   "cell_type": "markdown",
   "metadata": {
    "id": "RjcqdSYui0SW"
   },
   "source": [
    "$(p \\land (q \\lor r)) \\leftrightarrow ((p \\land q) \\lor (p \\land r))$\n",
    "\n",
    "In truth table form:\n",
    "\n",
    "| ( | p | $\\land$ | ( | q | $\\lor$ | r | ) | ) | $\\leftrightarrow$ | ( | ( | p | $\\land$ | q | ) | $\\lor$ | ( | p | $\\land$ | r | ) | ) |\n",
    "|---|---|---|---|---|---|---|---|---|---|---|---|---|---|---|---|---|---|---|---|---|---|---|\n",
    "|   | 0 | 0 |   | 0 | 0 | 0 |   |   | 1 |   |   | 0 | 0 | 0 |   | 0 |   | 0 | 0 | 0 |   |   |\n",
    "|   | 0 | 0 |   | 0 | 1 | 1 |   |   | 1 |   |   | 0 | 0 | 0 |   | 0 |   | 0 | 0 | 1 |   |   |\n",
    "|   | 0 | 0 |   | 1 | 1 | 0 |   |   | 1 |   |   | 0 | 0 | 1 |   | 0 |   | 0 | 0 | 0 |   |   |\n",
    "|   | 0 | 0 |   | 1 | 1 | 1 |   |   | 1 |   |   | 0 | 0 | 1 |   | 0 |   | 0 | 0 | 1 |   |   |\n",
    "|   | 1 | 0 |   | 0 | 0 | 0 |   |   | 1 |   |   | 1 | 0 | 0 |   | 0 |   | 1 | 0 | 0 |   |   |\n",
    "|   | 1 | 1 |   | 0 | 1 | 1 |   |   | 1 |   |   | 1 | 0 | 0 |   | 1 |   | 1 | 1 | 1 |   |   |\n",
    "|   | 1 | 1 |   | 1 | 1 | 0 |   |   | 1 |   |   | 1 | 1 | 1 |   | 1 |   | 1 | 0 | 0 |   |   |\n",
    "|   | 1 | 1 |   | 1 | 1 | 1 |   |   | 1 |   |   | 1 | 1 | 1 |   | 1 |   | 1 | 1 | 1 |   |   |\n"
   ]
  },
  {
   "cell_type": "markdown",
   "metadata": {
    "id": "FlJJV8k5i_4J"
   },
   "source": [
    "$(p \\lor (q \\land r)) \\leftrightarrow ((p \\lor q) \\land (p \\lor r))$\n",
    "\n",
    "In truth table form:\n",
    "\n",
    "| ( | p | $\\lor$ | ( | q | $\\land$ | r | ) | ) | $\\leftrightarrow$ | ( | ( | p | $\\lor$ | q | ) | $\\land$ | ( | p | $\\lor$ | r | ) | ) |\n",
    "|---|---|---|---|---|---|---|---|---|---|---|---|---|---|---|---|---|---|---|---|---|---|---|\n",
    "|   | 0 | 0 |   | 0 | 0 | 0 |   |   | 1 |   |   | 0 | 0 | 0 |   | 0 |   | 0 | 0 | 0 |   |   |\n",
    "|   | 0 | 0 |   | 0 | 0 | 1 |   |   | 1 |   |   | 0 | 0 | 0 |   | 0 |   | 0 | 1 | 1 |   |   |\n",
    "|   | 0 | 0 |   | 1 | 0 | 0 |   |   | 1 |   |   | 0 | 1 | 1 |   | 1 |   | 0 | 0 | 0 |   |   |\n",
    "|   | 0 | 1 |   | 1 | 1 | 1 |   |   | 1 |   |   | 0 | 1 | 1 |   | 1 |   | 0 | 1 | 1 |   |   |\n",
    "|   | 1 | 1 |   | 0 | 0 | 0 |   |   | 1 |   |   | 1 | 1 | 0 |   | 1 |   | 1 | 1 | 0 |   |   |\n",
    "|   | 1 | 1 |   | 0 | 0 | 1 |   |   | 1 |   |   | 1 | 1 | 0 |   | 1 |   | 1 | 1 | 1 |   |   |\n",
    "|   | 1 | 1 |   | 1 | 0 | 0 |   |   | 1 |   |   | 1 | 1 | 1 |   | 1 |   | 1 | 1 | 0 |   |   |\n",
    "|   | 1 | 1 |   | 1 | 1 | 1 |   |   | 1 |   |   | 1 | 1 | 1 |   | 1 |   | 1 | 1 | 1 |   |   |\n"
   ]
  },
  {
   "cell_type": "markdown",
   "metadata": {
    "id": "LBwG-2MXjG6o"
   },
   "source": [
    "## <font color=red>Investigate Normal Forms</font>"
   ]
  },
  {
   "cell_type": "markdown",
   "metadata": {
    "id": "JHAh7h8KjJWX"
   },
   "source": [
    "How hard is it to convert Disjunctive Normal Form (DNF) to Conjunctive Normal Form (CNF)? Or vice versa?"
   ]
  },
  {
   "cell_type": "markdown",
   "metadata": {
    "id": "g3jCszASjLBo"
   },
   "source": [
    "### Make a blank truth table:"
   ]
  },
  {
   "cell_type": "markdown",
   "metadata": {
    "id": "C-9ZLwMvjMnB"
   },
   "source": [
    "| p | q | r | f(p, q, r) |\n",
    "|---|---|---|------------|\n",
    "| 0 | 0 | 0 |            |\n",
    "| 0 | 0 | 1 |            |\n",
    "| 0 | 1 | 0 |            |\n",
    "| 0 | 1 | 1 |            |\n",
    "| 1 | 0 | 0 |            |\n",
    "| 1 | 0 | 1 |            |\n",
    "| 1 | 1 | 0 |            |\n",
    "| 1 | 1 | 1 |            |"
   ]
  },
  {
   "cell_type": "markdown",
   "metadata": {
    "id": "_R0qaFGDjO6U"
   },
   "source": [
    "### Flesh Out Personality"
   ]
  },
  {
   "cell_type": "markdown",
   "metadata": {
    "id": "Am1IFgyfjSyV"
   },
   "source": [
    "| p | q | r | f(p, q, r) |\n",
    "|---|---|---|------------|\n",
    "| 0 | 0 | 0 |          0 |\n",
    "| 0 | 0 | 1 |          1 |\n",
    "| 0 | 1 | 0 |          0 |\n",
    "| 0 | 1 | 1 |          0 |\n",
    "| 1 | 0 | 0 |          0 |\n",
    "| 1 | 0 | 1 |          1 |\n",
    "| 1 | 1 | 0 |          1 |\n",
    "| 1 | 1 | 1 |          0 |"
   ]
  },
  {
   "cell_type": "markdown",
   "metadata": {
    "id": "XhCXd0wWjVGL"
   },
   "source": [
    "### Flesh Out DNF"
   ]
  },
  {
   "cell_type": "markdown",
   "metadata": {
    "id": "YIjnwZoW0_lw"
   },
   "source": [
    "Hereafter, we let:\n",
    "\n",
    "! = not ($\\lnot$);\n",
    "\n",
    "\\+ = or ($\\lor$); and\n",
    "\n",
    "\\* = and ($\\land$)."
   ]
  },
  {
   "cell_type": "markdown",
   "metadata": {
    "id": "Yv4uLlwHjW5I"
   },
   "source": [
    "| p | q | r | f(p, q, r) | DNF             |\n",
    "|---|---|---|------------|-----------------|\n",
    "| 0 | 0 | 0 |          0 |                 |\n",
    "| 0 | 0 | 1 |          1 | (!p * !q * r) + |\n",
    "| 0 | 1 | 0 |          0 |                 |\n",
    "| 0 | 1 | 1 |          0 |                 |\n",
    "| 1 | 0 | 0 |          0 |                 |\n",
    "| 1 | 0 | 1 |          1 | (p * !q * r) +  |\n",
    "| 1 | 1 | 0 |          1 | (p * q * !r)    |\n",
    "| 1 | 1 | 1 |          0 |                 |"
   ]
  },
  {
   "cell_type": "markdown",
   "metadata": {
    "id": "ZGcFvV1IjZdn"
   },
   "source": [
    "### Flesh Out Negated DNF Personality"
   ]
  },
  {
   "cell_type": "markdown",
   "metadata": {
    "id": "lNS6gMxbjbnc"
   },
   "source": [
    "| p | q | r | f(p, q, r) | DNF             | !DNF |\n",
    "|---|---|---|------------|-----------------|------|\n",
    "| 0 | 0 | 0 |          0 |                 |    1 |\n",
    "| 0 | 0 | 1 |          1 | (!p * !q * r) + |    0 |\n",
    "| 0 | 1 | 0 |          0 |                 |    1 |\n",
    "| 0 | 1 | 1 |          0 |                 |    1 |\n",
    "| 1 | 0 | 0 |          0 |                 |    1 |\n",
    "| 1 | 0 | 1 |          1 | (p * !q * r) +  |    0 |\n",
    "| 1 | 1 | 0 |          1 | (p * q * !r)    |    0 |\n",
    "| 1 | 1 | 1 |          0 |                 |    1 |"
   ]
  },
  {
   "cell_type": "markdown",
   "metadata": {
    "id": "4pbXk3FFjmfJ"
   },
   "source": [
    "### Flesh Out CNF Target"
   ]
  },
  {
   "cell_type": "markdown",
   "metadata": {
    "id": "owYFEnNAjo05"
   },
   "source": [
    "| p | q | r | f(p, q, r) | DNF             | !DNF | CNF     |\n",
    "|---|---|---|------------|-----------------|------|---------|\n",
    "| 0 | 0 | 0 |          0 |                 |    1 | ( ? ) * |\n",
    "| 0 | 0 | 1 |          1 | (!p * !q * r) + |    0 |         |\n",
    "| 0 | 1 | 0 |          0 |                 |    1 | ( ? ) * |\n",
    "| 0 | 1 | 1 |          0 |                 |    1 | ( ? ) * |\n",
    "| 1 | 0 | 0 |          0 |                 |    1 | ( ? ) * |\n",
    "| 1 | 0 | 1 |          1 | (p * !q * r) +  |    0 |         |\n",
    "| 1 | 1 | 0 |          1 | (p * q * !r)    |    0 |         |\n",
    "| 1 | 1 | 1 |          0 |                 |    1 | ( ? )   |"
   ]
  },
  {
   "cell_type": "markdown",
   "metadata": {
    "id": "2JUYXRiHjqt3"
   },
   "source": [
    "### Fleshed Out (Almost) Full Process"
   ]
  },
  {
   "cell_type": "markdown",
   "metadata": {
    "id": "U8hEnGLRjsY5"
   },
   "source": [
    "| p | q | r | f(p, q, r) | DNF             |  !f(p, q, r) | !DNF             | !!DNF             | CNF             |\n",
    "|---|---|---|------------|-----------------|--------------|------------------|-------------------|-----------------|\n",
    "| 0 | 0 | 0 |          0 |                 |            1 | (!p * !q * !r) + | !(!p * !q * !r) * | (p + q + r) *   |\n",
    "| 0 | 0 | 1 |          1 | (!p * !q * r) + |            0 |                  |                   |                 |\n",
    "| 0 | 1 | 0 |          0 |                 |            1 | (!p * q * !r) +  | !(!p * q * !r) *  | (p + !q + r) *  |\n",
    "| 0 | 1 | 1 |          0 |                 |            1 | (!p * q * r) +   | !(!p * q * r) *   | (p + !q + !r) * |\n",
    "| 1 | 0 | 0 |          0 |                 |            1 | (p * !q * !r) +  | !(p * !q * !r) *  | (!p + q + r) *  |\n",
    "| 1 | 0 | 1 |          1 | (p * !q * r) +  |            0 |                  |                   |                 |\n",
    "| 1 | 1 | 0 |          1 | (p * q * !r)    |            0 |                  |                   |                 |\n",
    "| 1 | 1 | 1 |          0 |                 |            1 | (p * q * r)      | !(p * q * r)      | (!p + !q + !r)  |"
   ]
  },
  {
   "cell_type": "markdown",
   "metadata": {
    "id": "qJ31b_zdYZ-_"
   },
   "source": [
    "## <font color=red>Original code by Kyle Mueller</font>"
   ]
  },
  {
   "cell_type": "code",
   "execution_count": null,
   "metadata": {
    "id": "LYKRF05pezgd"
   },
   "outputs": [],
   "source": [
    "from inspect import signature\n",
    "\n",
    "def get_arity(f):\n",
    "  \"\"\"returns the arity (number of parameters) of function f\"\"\"\n",
    "  return len(signature(f).parameters)\n",
    "\n",
    "def get_bits(n):\n",
    "  return [*map(lambda x:[*map(int,bin(x)[2::].zfill(n))],range(2**n))]\n",
    "\n",
    "def bf1_dnf(p, q, r):\n",
    "  \"((not p) and (not q) and r) or (p and (not q) and r) or (p and q and (not r))\"\n",
    "  return int(eval(bf1_dnf.__doc__))\n",
    "\n",
    "def bf1_cnf(p, q, r):\n",
    "  \"(p or q or r) and (p or (not q) or r) and (p or (not q) or (not r)) and ((not p) or q or r) and ((not p) or (not q) or (not r))\"\n",
    "  return int(eval(bf1_cnf.__doc__))\n",
    "\n",
    "def checker(f):\n",
    "  return [*map(f,*zip(*get_bits(get_arity(f))))]\n",
    "\n",
    "print(checker(bf1_dnf))\n",
    "print(checker(bf1_cnf))"
   ]
  },
  {
   "cell_type": "code",
   "execution_count": null,
   "metadata": {
    "id": "R0wPpgUeMBW4"
   },
   "outputs": [],
   "source": [
    "get_bits(3)"
   ]
  },
  {
   "cell_type": "code",
   "execution_count": null,
   "metadata": {
    "id": "yBleKmK0AqDE"
   },
   "outputs": [],
   "source": [
    "def truth_table_inputs(f):\n",
    "  n = get_arity(f)\n",
    "  vars = list(signature(f).parameters.keys())\n",
    "  inputs = get_bits(n)\n",
    "  table = (map(lambda row: '| ' + '| '.join(map(str, row)) + '|', inputs))\n",
    "  header = '|' + ''.join(map(lambda v: v + ' |', vars))\n",
    "  print(header)\n",
    "  print('|--' * n + '|')\n",
    "  for row_as_str in table:\n",
    "    print(row_as_str)"
   ]
  },
  {
   "cell_type": "code",
   "execution_count": null,
   "metadata": {
    "id": "8jGkwnbFA_Nr"
   },
   "outputs": [],
   "source": [
    "truth_table_inputs(bf1_dnf)"
   ]
  },
  {
   "cell_type": "markdown",
   "metadata": {
    "id": "7dPghKEt6Gjh"
   },
   "source": [
    "|p |q |r |\n",
    "|--|--|--|\n",
    "| 0| 0| 0|\n",
    "| 0| 0| 1|\n",
    "| 0| 1| 0|\n",
    "| 0| 1| 1|\n",
    "| 1| 0| 0|\n",
    "| 1| 0| 1|\n",
    "| 1| 1| 0|\n",
    "| 1| 1| 1|"
   ]
  },
  {
   "cell_type": "markdown",
   "metadata": {
    "id": "90tZRRySYzI-"
   },
   "source": [
    "## <font color=purple>Other Questions to Answer</font>\n"
   ]
  },
  {
   "cell_type": "markdown",
   "metadata": {
    "id": "ebgeV_JTY6D6"
   },
   "source": [
    "1. Can you use the function \"docstring\" to render the entire truth table?\n",
    "2. Can you use IPython.display.Javascript to output the truth table, instead of having to copy-and-paste it from the code cell?"
   ]
  },
  {
   "cell_type": "code",
   "execution_count": null,
   "metadata": {
    "id": "ZGID12iKYisn"
   },
   "outputs": [],
   "source": [
    "import IPython\n",
    "js_code = '''\n",
    "document.querySelector(\"#output-area\").appendChild(document.createTextNode(\"hello world!\"));\n",
    "'''\n",
    "display(IPython.display.Javascript(js_code))"
   ]
  }
 ],
 "metadata": {
  "colab": {
   "collapsed_sections": [],
   "name": "explore-boolean-function-normal-forms.ipynb",
   "provenance": []
  },
  "kernelspec": {
   "display_name": "Python 3",
   "language": "python",
   "name": "python3"
  },
  "language_info": {
   "codemirror_mode": {
    "name": "ipython",
    "version": 3
   },
   "file_extension": ".py",
   "mimetype": "text/x-python",
   "name": "python",
   "nbconvert_exporter": "python",
   "pygments_lexer": "ipython3",
   "version": "3.9.0"
  }
 },
 "nbformat": 4,
 "nbformat_minor": 1
}
