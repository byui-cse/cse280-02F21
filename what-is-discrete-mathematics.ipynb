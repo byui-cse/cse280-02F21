{
 "cells": [
  {
   "cell_type": "markdown",
   "metadata": {
    "id": "fUFMJDMMuD1-"
   },
   "source": [
    "# <font color=blue>What is Discrete Mathematics?</font>"
   ]
  },
  {
   "cell_type": "markdown",
   "metadata": {
    "id": "xBrx8-qO-GPr"
   },
   "source": [
    "## <font color=red>In a nutshell...</font>"
   ]
  },
  {
   "cell_type": "markdown",
   "metadata": {
    "id": "YsOHqzqN-SYW"
   },
   "source": [
    "### <font color=purple>Think Digital versus Analog</font>"
   ]
  },
  {
   "cell_type": "markdown",
   "metadata": {
    "id": "1Vqbb3f-uSG7"
   },
   "source": [
    "As in digital versus analog [clocks](https://www.mathsisfun.com/time-clocks.html)."
   ]
  },
  {
   "cell_type": "markdown",
   "metadata": {
    "id": "t1D5YlJcueTN"
   },
   "source": [
    "### <font color=red>Think Cycles</font>"
   ]
  },
  {
   "cell_type": "markdown",
   "metadata": {
    "id": "aS95X6AzwJOH"
   },
   "source": [
    "| Period | As Manifest In |\n",
    "|-------:|----------------|\n",
    "| 12     | Clocks         |\n",
    "| 10     | Decimal numbers|\n",
    "|  7     | Calendar weeks |\n",
    "|  2     | Binary numbers |\n"
   ]
  },
  {
   "cell_type": "markdown",
   "metadata": {
    "id": "ydPg8nt69k8A"
   },
   "source": [
    "#### <font color=brown>The Cycle with Period 2</font>"
   ]
  },
  {
   "cell_type": "markdown",
   "metadata": {
    "id": "UO9jR_M2wri1"
   },
   "source": [
    "Binary numbers are AKA **bitstrings**.\n",
    "\n",
    "How many bitstrings of length $n$ are there?"
   ]
  },
  {
   "cell_type": "markdown",
   "metadata": {
    "id": "PnXQZQtPwxdS"
   },
   "source": [
    "| n | # | List                                            |\n",
    "|---|---|-------------------------------------------------|\n",
    "| 0 | 1 | \"\" (the empty bitstring)                        |\n",
    "| 1 | 2 | 0, 1 |\n",
    "| 2 | 4 | 00, 01, 10, 11 |\n",
    "| 3 | 8 | 000, 001, 010, 011, 100, 101, 110, 111 |"
   ]
  },
  {
   "cell_type": "markdown",
   "metadata": {
    "id": "RdqAVGQwpNoh"
   },
   "source": [
    "##### Proceed"
   ]
  },
  {
   "cell_type": "markdown",
   "metadata": {
    "id": "D07kZVa6o_od"
   },
   "source": [
    "| n | # | List                                            |\n",
    "|---|---|-------------------------------------------------|\n",
    "| 0 | 1 | \"\" (the empty bitstring)                        |\n",
    "| 1 | 2 | 0, 1                                            |\n",
    "| 2 | 4 | 00, 01, 10, 11                                  |\n",
    "| 3 | 8 | 000, 001, 010, 011, 100, 101, 110, 111          |"
   ]
  },
  {
   "cell_type": "markdown",
   "metadata": {
    "id": "k0kdLkdOwCsp"
   },
   "source": [
    "###### <font color=red>Bitstrings with Code</font>"
   ]
  },
  {
   "cell_type": "code",
   "execution_count": null,
   "metadata": {
    "id": "y9IPM5MLlADh"
   },
   "outputs": [],
   "source": [
    "bitstrings = ['']"
   ]
  },
  {
   "cell_type": "code",
   "execution_count": null,
   "metadata": {
    "id": "xLmViLfXlGbL"
   },
   "outputs": [],
   "source": [
    "def double_bitstrings_and_prepend_half_0s_and_half_1s(bitstrings):\n",
    "  bitstrings.extend(bitstrings.copy())\n",
    "  n = len(bitstrings)\n",
    "  for i in range(0, n // 2):\n",
    "    bitstrings[i] = '0' + bitstrings[i]\n",
    "  for i in range(n // 2, n):\n",
    "    bitstrings[i] = '1' + bitstrings[i]\n",
    "  return bitstrings\n",
    "\n",
    "def display_bitstrings(bitstrings):\n",
    "  for i in range(0, len(bitstrings)):\n",
    "    print(f'{i+1:10d}: {bitstrings[i]}')\n",
    "  return bitstrings"
   ]
  },
  {
   "cell_type": "code",
   "execution_count": null,
   "metadata": {
    "id": "OVafY3j5mJ1a"
   },
   "outputs": [],
   "source": [
    "bitstrings = display_bitstrings(double_bitstrings_and_prepend_half_0s_and_half_1s(bitstrings))"
   ]
  }
 ],
 "metadata": {
  "colab": {
   "authorship_tag": "ABX9TyMGgFUrtlF6zWYM1xZj8U4b",
   "collapsed_sections": [],
   "name": "what-is-discrete-mathematics.ipynb",
   "private_outputs": true,
   "provenance": []
  },
  "kernelspec": {
   "display_name": "Python 3",
   "language": "python",
   "name": "python3"
  },
  "language_info": {
   "codemirror_mode": {
    "name": "ipython",
    "version": 3
   },
   "file_extension": ".py",
   "mimetype": "text/x-python",
   "name": "python",
   "nbconvert_exporter": "python",
   "pygments_lexer": "ipython3",
   "version": "3.9.0"
  }
 },
 "nbformat": 4,
 "nbformat_minor": 1
}
