{
 "cells": [
  {
   "cell_type": "markdown",
   "metadata": {
    "id": "xx7ZreohG9UF"
   },
   "source": [
    "# <font color=blue>Prepare for Languages and Grammars</font>\n"
   ]
  },
  {
   "cell_type": "markdown",
   "metadata": {
    "id": "Y_cy8aGBHLgX"
   },
   "source": [
    "## <font color=red>Instructions</font>\n"
   ]
  },
  {
   "cell_type": "markdown",
   "metadata": {
    "id": "zVqW5bk-zu9p"
   },
   "source": [
    "Like last week, there will be a few questions from previous course content. Be sure to review Chapter 5 Combinatorics and Probability and Chapter 6 Number Theory and Practice.\n"
   ]
  },
  {
   "cell_type": "markdown",
   "metadata": {
    "id": "Ox_oMCCtHMrP"
   },
   "source": [
    "Answer questions on the content from the book, Chapter 9 Languages and Grammars, and all first-level links therefrom."
   ]
  },
  {
   "cell_type": "markdown",
   "metadata": {
    "id": "y-YBHzJVx6cv"
   },
   "source": [
    "There will also be some questions from [this slide deck](https://byui-cse.github.io/cse280-course/grammars-languages-and-lexical-analyzers.pdf), which offers a similar take on these same topics."
   ]
  },
  {
   "cell_type": "markdown",
   "metadata": {
    "id": "GXsDpASKHQxd"
   },
   "source": [
    "## <font color=red>Access</font>\n"
   ]
  },
  {
   "cell_type": "markdown",
   "metadata": {
    "id": "hL5HO5UtHU1q"
   },
   "source": [
    "[Take the Quiz](https://byui.instructure.com/courses/149380/quizzes/2724931)"
   ]
  }
 ],
 "metadata": {
  "colab": {
   "authorship_tag": "ABX9TyNMQW6WKJqaTJOR3X2Bv16/",
   "collapsed_sections": [],
   "name": "prepare-for-languages-and-grammars.ipynb",
   "private_outputs": true,
   "provenance": []
  },
  "kernelspec": {
   "display_name": "Python 3",
   "language": "python",
   "name": "python3"
  },
  "language_info": {
   "codemirror_mode": {
    "name": "ipython",
    "version": 3
   },
   "file_extension": ".py",
   "mimetype": "text/x-python",
   "name": "python",
   "nbconvert_exporter": "python",
   "pygments_lexer": "ipython3",
   "version": "3.9.0"
  }
 },
 "nbformat": 4,
 "nbformat_minor": 1
}
