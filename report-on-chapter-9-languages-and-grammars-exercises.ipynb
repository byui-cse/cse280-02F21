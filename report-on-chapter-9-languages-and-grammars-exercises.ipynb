{
 "cells": [
  {
   "cell_type": "markdown",
   "metadata": {
    "id": "H5BlnMxJQ1tK"
   },
   "source": [
    "# <font color=blue>Report on Chapter 9 Languages and Grammars Exercises</font>\n"
   ]
  },
  {
   "cell_type": "markdown",
   "metadata": {
    "id": "IWGkhP6kQ7nP"
   },
   "source": [
    "## <font color=red>Instructions</font>\n"
   ]
  },
  {
   "cell_type": "markdown",
   "metadata": {
    "id": "OJOF9A6cQ8aO"
   },
   "source": [
    "For this final set of exercises, assertions give you a point for each box you can truthfully check, as for example:\n"
   ]
  },
  {
   "cell_type": "markdown",
   "metadata": {
    "id": "u4fU7dLEQ9bc"
   },
   "source": [
    "$\\boxtimes$ I did Exercise 9.6.2 and got the right answer.\n"
   ]
  },
  {
   "cell_type": "markdown",
   "metadata": {
    "id": "BW2FIN4LRgvg"
   },
   "source": [
    "## <font color=purple>Access</font>\n"
   ]
  },
  {
   "cell_type": "markdown",
   "metadata": {
    "id": "7aJ5i4I7RiF_"
   },
   "source": [
    "[Take the Self-Assessment]()"
   ]
  }
 ],
 "metadata": {
  "colab": {
   "authorship_tag": "ABX9TyMRRhbSxyZcVBrRFaG27rjx",
   "collapsed_sections": [],
   "name": "report-on-chapter-9-languages-and-grammars-exercises.ipynb",
   "private_outputs": true,
   "provenance": []
  },
  "kernelspec": {
   "display_name": "Python 3",
   "language": "python",
   "name": "python3"
  },
  "language_info": {
   "codemirror_mode": {
    "name": "ipython",
    "version": 3
   },
   "file_extension": ".py",
   "mimetype": "text/x-python",
   "name": "python",
   "nbconvert_exporter": "python",
   "pygments_lexer": "ipython3",
   "version": "3.9.0"
  }
 },
 "nbformat": 4,
 "nbformat_minor": 1
}
