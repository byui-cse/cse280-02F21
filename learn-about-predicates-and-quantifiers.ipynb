{
 "cells": [
  {
   "cell_type": "markdown",
   "metadata": {
    "id": "N3BPNoRECWNH"
   },
   "source": [
    "# <font color=blue>Learn About Predicates and Quantifiers</font>\n",
    "## <font color=blue>Teach One Another</font>"
   ]
  },
  {
   "cell_type": "markdown",
   "metadata": {
    "id": "Is73q60QL6b2"
   },
   "source": [
    "## What means this?\n"
   ]
  },
  {
   "cell_type": "markdown",
   "metadata": {
    "id": "fWsPQ-ROL8nx"
   },
   "source": [
    "$\\forall x\\ A(x) \\land [\\exists y\\ (T(y) \\land u \\in y) \\rightarrow \\forall z\\ C(z)]$\n"
   ]
  },
  {
   "cell_type": "markdown",
   "metadata": {
    "id": "-71h3CpxMD56"
   },
   "source": [
    "### With predicates\n"
   ]
  },
  {
   "cell_type": "markdown",
   "metadata": {
    "id": "8NsW_sCnMFvV"
   },
   "source": [
    "* A = is-awesome\n",
    "* T = is-a-team\n",
    "* C = is-cool\n"
   ]
  },
  {
   "cell_type": "markdown",
   "metadata": {
    "id": "T12VmlfoMHIQ"
   },
   "source": [
    "### And free variable\n"
   ]
  },
  {
   "cell_type": "markdown",
   "metadata": {
    "id": "X_uNYQRaMIbN"
   },
   "source": [
    "* u = you\n"
   ]
  },
  {
   "cell_type": "markdown",
   "metadata": {
    "id": "9UZAUBwxMJ8Q"
   },
   "source": [
    "### Or\n"
   ]
  },
  {
   "cell_type": "markdown",
   "metadata": {
    "id": "wtw2RQpHMPs1"
   },
   "source": [
    "* u = Emmet\n"
   ]
  },
  {
   "cell_type": "code",
   "execution_count": null,
   "metadata": {
    "id": "yI-khon3MQQ3"
   },
   "outputs": [],
   "source": [
    "from IPython.display import YouTubeVideo\n",
    "YouTubeVideo('StTqXEQ2l-Y')"
   ]
  },
  {
   "cell_type": "markdown",
   "metadata": {
    "id": "63hCbGBiMVMR"
   },
   "source": [
    "### Meaning revealed\n"
   ]
  },
  {
   "cell_type": "markdown",
   "metadata": {
    "id": "pj1i7hcRMVoU"
   },
   "source": [
    "* Everything is awesome\n",
    "* Everything is cool when you&rsquo;re part of a team!"
   ]
  },
  {
   "cell_type": "markdown",
   "metadata": {
    "id": "UhAFfg5ZMYTL"
   },
   "source": [
    "## De Morgan&rsquo;s Laws"
   ]
  },
  {
   "cell_type": "markdown",
   "metadata": {
    "id": "o_B7zgghMZJq"
   },
   "source": [
    "### For Propositional Logic\n"
   ]
  },
  {
   "cell_type": "markdown",
   "metadata": {
    "id": "zRukG0KFMaxD"
   },
   "source": [
    "The negation of a disjunction/conjunction is equivalent to the conjunction/disjunction of the negations of the disjuncts/conjuncts.\n"
   ]
  },
  {
   "cell_type": "markdown",
   "metadata": {
    "id": "7AvNUvXHMcTd"
   },
   "source": [
    "#### In symbols\n"
   ]
  },
  {
   "cell_type": "markdown",
   "metadata": {
    "id": "3XApgAa2Mdfa"
   },
   "source": [
    "* $\\lnot (p \\lor q) \\equiv \\lnot p \\land \\lnot q$\n",
    "* $\\lnot (p \\land q) \\equiv \\lnot p \\lor \\lnot q$\n"
   ]
  },
  {
   "cell_type": "markdown",
   "metadata": {
    "id": "_5vQIO1ZMfNb"
   },
   "source": [
    "### For Quantifiers\n"
   ]
  },
  {
   "cell_type": "markdown",
   "metadata": {
    "id": "mJV88RjCMh7c"
   },
   "source": [
    "$\\forall x\\ Even(x)$\n"
   ]
  },
  {
   "cell_type": "markdown",
   "metadata": {
    "id": "7hqSh2ceMjly"
   },
   "source": [
    "#### A Large Universe\n"
   ]
  },
  {
   "cell_type": "markdown",
   "metadata": {
    "id": "SAg50kZgMkw0"
   },
   "source": [
    "$\\forall x\\ Even(x) \\equiv Even(2) \\land Even(4) \\land Even(6) \\land Even(8) \\land \\ldots$\n"
   ]
  },
  {
   "cell_type": "markdown",
   "metadata": {
    "id": "45hkDdhJMm_8"
   },
   "source": [
    "#### A Small Universe\n"
   ]
  },
  {
   "cell_type": "markdown",
   "metadata": {
    "id": "D7Qx6pQmMoEJ"
   },
   "source": [
    "Consisting of two elements: $\\{2, 4\\}$\n"
   ]
  },
  {
   "cell_type": "markdown",
   "metadata": {
    "id": "WdY2NUsXMpn9"
   },
   "source": [
    "$\\forall x\\ Even(x) \\equiv Even(2) \\land Even(4)$\n"
   ]
  },
  {
   "cell_type": "markdown",
   "metadata": {
    "id": "ySqZEacWMrAX"
   },
   "source": [
    "#### Negated\n"
   ]
  },
  {
   "cell_type": "markdown",
   "metadata": {
    "id": "wMQVtE0oMsZI"
   },
   "source": [
    "$\\begin{array}{rcl}\n",
    "\\lnot \\forall x\\ Even(x) & \\equiv & \\lnot (Even(2) \\land Even(4))\\\\\n",
    "                         & \\equiv & \\lnot Even(2) \\lor \\lnot Even(4)\\\\\n",
    "                         & \\equiv & \\exists x\\ \\lnot Even(x)\\\\\n",
    "\\end{array}$\n"
   ]
  },
  {
   "cell_type": "markdown",
   "metadata": {
    "id": "LuCLLgxnMufx"
   },
   "source": [
    "#### How About For Some?\n"
   ]
  },
  {
   "cell_type": "markdown",
   "metadata": {
    "id": "Q99e6Y84MwzR"
   },
   "source": [
    "$LT$ = LessThan\n",
    "\n",
    "$\\begin{array}{rcl}\n",
    "\\exists x\\ LT(x, 4) & \\equiv & LT(2, 4) \\lor LT(4, 4)\\\\\n",
    "negated:  &  & \\\\\n",
    "\\lnot \\exists x\\ LT(x, 4) & \\equiv & \\lnot (LT(2, 4) \\lor LT(4, 4))\\\\\n",
    "            & \\equiv & \\lnot LT(2, 4) \\land \\lnot LT(4, 4)\\\\\n",
    "            & \\equiv & \\forall x\\ \\lnot LT(x, 4)\\\\\n",
    "\\end{array}$\n"
   ]
  },
  {
   "cell_type": "markdown",
   "metadata": {
    "id": "5-au7JJcM0nl"
   },
   "source": [
    "#### Neither All\n"
   ]
  },
  {
   "cell_type": "markdown",
   "metadata": {
    "id": "kfoSZggGM1hk"
   },
   "source": [
    "Not All does *not* mean None.\n"
   ]
  },
  {
   "cell_type": "markdown",
   "metadata": {
    "id": "Byf0GZeOM25-"
   },
   "source": [
    "It means Some are NOT (but maybe Some Are).\n"
   ]
  },
  {
   "cell_type": "markdown",
   "metadata": {
    "id": "fKyt2jTYM4Zy"
   },
   "source": [
    "#### Nor Some\n"
   ]
  },
  {
   "cell_type": "markdown",
   "metadata": {
    "id": "Q_hb3cuqM6Tx"
   },
   "source": [
    "Not Some does *not* mean All.\n"
   ]
  },
  {
   "cell_type": "markdown",
   "metadata": {
    "id": "5VyUlx8uM7XF"
   },
   "source": [
    "It means All are NOT.\n",
    "\n",
    "Or, None are."
   ]
  },
  {
   "cell_type": "markdown",
   "metadata": {
    "id": "4VnpMxfOM9EP"
   },
   "source": [
    "### An Axiom of Real Numbers\n"
   ]
  },
  {
   "cell_type": "markdown",
   "metadata": {
    "id": "fy1eb3iDM-yo"
   },
   "source": [
    "Trichotomy: one (and only one) of these three statements is true:\n",
    "1. $x < y$\n",
    "2. $x = y$\n",
    "3. $x > y$\n"
   ]
  },
  {
   "cell_type": "markdown",
   "metadata": {
    "id": "btEcX9HhNA_G"
   },
   "source": [
    "$\\begin{array}{|r|l|l|}\n",
    "\\hline\n",
    " \\# & negated  & means \\\\\n",
    "\\hline\n",
    "1 & \\lnot (x < y) & x \\ge y \\\\\n",
    "2 & \\lnot (x = y) & x < y \\lor x > y \\\\\n",
    "3 & \\lnot (x > y) & x \\le y \\\\\n",
    "\\hline\n",
    "\\end{array}$\n"
   ]
  },
  {
   "cell_type": "markdown",
   "metadata": {
    "id": "AtWXvFBjNGE0"
   },
   "source": [
    "### Math To English\n"
   ]
  },
  {
   "cell_type": "markdown",
   "metadata": {
    "id": "qa4LL2lKNHi0"
   },
   "source": [
    "Some of your Chapter 3 Predicates and Quantifiers Exercises ask you to translate predicate logic math to good English.\n"
   ]
  },
  {
   "cell_type": "markdown",
   "metadata": {
    "id": "IKbsCmVrNI_-"
   },
   "source": [
    "Here are some hints and helps:\n",
    "1. $x < 0$\n",
    "2. $x > 0$\n",
    "3. $x \\ge 0$\n",
    "4. $x \\le 0$\n"
   ]
  },
  {
   "cell_type": "markdown",
   "metadata": {
    "id": "BQjdqmZhNLJF"
   },
   "source": [
    "#### Without Relational Comparison\n"
   ]
  },
  {
   "cell_type": "markdown",
   "metadata": {
    "id": "4mgJQpcQNMxI"
   },
   "source": [
    "1. $x$ is a negative number.\n",
    "2. $x$ is a positive number.\n",
    "3. $x$ is a NONnegative number.\n",
    "4. $x$ is a NONpositive number.\n"
   ]
  },
  {
   "cell_type": "markdown",
   "metadata": {
    "id": "8U-_60VHNO7T"
   },
   "source": [
    "##### More Succinctly\n"
   ]
  },
  {
   "cell_type": "markdown",
   "metadata": {
    "id": "V4v8NUz4NQIp"
   },
   "source": [
    "1. $x$ is negative.\n",
    "2. $x$ is positive.\n",
    "3. $x$ is nonnegative.\n",
    "4. $x$ is nonpositive.\n"
   ]
  },
  {
   "cell_type": "markdown",
   "metadata": {
    "id": "UTIVh3acNRYF"
   },
   "source": [
    "### Example 1\n"
   ]
  },
  {
   "cell_type": "markdown",
   "metadata": {
    "id": "X4susfPeNSO6"
   },
   "source": [
    "$\\exists x \\exists y\\ (((x \\ge 0) \\land (y \\ge 0)) \\rightarrow (xy \\ge 0))$\n"
   ]
  },
  {
   "cell_type": "markdown",
   "metadata": {
    "id": "9I3qHthLNUFj"
   },
   "source": [
    "#### Not the Most Succinct Answer\n"
   ]
  },
  {
   "cell_type": "markdown",
   "metadata": {
    "id": "os7xj8i5NVCZ"
   },
   "source": [
    "For some $x$ and some $y$, when $x \\ge 0$ and $y \\ge 0$ then $x$ times $y$ will be greater than or equal to zero.\n"
   ]
  },
  {
   "cell_type": "markdown",
   "metadata": {
    "id": "NxoYLsatNWSt"
   },
   "source": [
    "#### More succinctly\n"
   ]
  },
  {
   "cell_type": "markdown",
   "metadata": {
    "id": "xBVluz7cNXtl"
   },
   "source": [
    "The product of some two nonnegatives is nonnegative.\n"
   ]
  },
  {
   "cell_type": "markdown",
   "metadata": {
    "id": "MeW2Sc9BNY-b"
   },
   "source": [
    "### Example 2\n"
   ]
  },
  {
   "cell_type": "markdown",
   "metadata": {
    "id": "2ChvIqLENaKu"
   },
   "source": [
    "$\\forall x \\forall y\\ ((x < 0) \\land (y < 0) \\rightarrow (xy > 0))$\n"
   ]
  },
  {
   "cell_type": "markdown",
   "metadata": {
    "id": "8v5OI3ycNblD"
   },
   "source": [
    "#### Answer\n"
   ]
  },
  {
   "cell_type": "markdown",
   "metadata": {
    "id": "4qtGS-n1Nci8"
   },
   "source": [
    "The product of two negatives is positive.\n"
   ]
  },
  {
   "cell_type": "markdown",
   "metadata": {
    "id": "MkWyABzANdaI"
   },
   "source": [
    "### Example 3\n"
   ]
  },
  {
   "cell_type": "markdown",
   "metadata": {
    "id": "JelsU2bdNeSB"
   },
   "source": [
    "$\\forall x \\forall y ((x > 0) \\land (y > 0) \\rightarrow ((x + y)/2 > 0))$\n"
   ]
  },
  {
   "cell_type": "markdown",
   "metadata": {
    "id": "qMBEO62_NfhS"
   },
   "source": [
    "#### Answer\n"
   ]
  },
  {
   "cell_type": "markdown",
   "metadata": {
    "id": "HU3yV6P8Ngaa"
   },
   "source": [
    "The average of two positives is positive."
   ]
  },
  {
   "cell_type": "markdown",
   "metadata": {
    "id": "oWM7cYcKNh5g"
   },
   "source": [
    "### Example 4\n"
   ]
  },
  {
   "cell_type": "markdown",
   "metadata": {
    "id": "zjn6ti7jNjgJ"
   },
   "source": [
    "$\\forall x \\forall y\\ [(x < 0) \\land (y < 0) \\rightarrow (x - y < 0)]$\n"
   ]
  },
  {
   "cell_type": "markdown",
   "metadata": {
    "id": "0-kzazicNk8R"
   },
   "source": [
    "#### Answer"
   ]
  },
  {
   "cell_type": "markdown",
   "metadata": {
    "id": "evJuI3eFNmjW"
   },
   "source": [
    "The difference of two negatives is negative.\n"
   ]
  },
  {
   "cell_type": "markdown",
   "metadata": {
    "id": "psdxpn3wNnfC"
   },
   "source": [
    "#### Is It?\n"
   ]
  },
  {
   "cell_type": "markdown",
   "metadata": {
    "id": "Z41X_e60Nqnx"
   },
   "source": [
    "No, the statement is *false*.\n"
   ]
  },
  {
   "cell_type": "markdown",
   "metadata": {
    "id": "bUfipknLNsKi"
   },
   "source": [
    "#### How to Show?"
   ]
  },
  {
   "cell_type": "markdown",
   "metadata": {
    "id": "NmkW7rJcNuuM"
   },
   "source": [
    "Here is a counterexample: $-3 - -4 = 1$.\n"
   ]
  },
  {
   "cell_type": "markdown",
   "metadata": {
    "id": "hIcpdnZUNwRW"
   },
   "source": [
    "## Explore\n"
   ]
  },
  {
   "cell_type": "markdown",
   "metadata": {
    "id": "UIkZ9AbMNymZ"
   },
   "source": [
    "$\\lnot \\forall x \\forall y\\ [(x < 0) \\land (y < 0) \\rightarrow (x - y < 0)] \\equiv$\n",
    "\n",
    "$\\exists x \\lnot \\forall y\\ [(x < 0) \\land (y < 0) \\rightarrow (x - y < 0)] \\equiv$\n",
    "\n",
    "$\\exists x \\exists y\\ \\lnot [(x < 0) \\land (y < 0) \\rightarrow (x - y < 0)]$.\n",
    "\n",
    "With $p = (x < 0) \\land (y < 0)$\n",
    "\n",
    "and $q = (x - y < 0)$\n",
    "\n",
    "what is $\\lnot (p \\rightarrow q)$?\n"
   ]
  },
  {
   "cell_type": "markdown",
   "metadata": {
    "id": "caCt6_m-N8pi"
   },
   "source": [
    "### Negate and Apply De Morgan\n"
   ]
  },
  {
   "cell_type": "markdown",
   "metadata": {
    "id": "F0Aebw70N-be"
   },
   "source": [
    "$\\lnot (\\lnot p \\lor q) \\equiv \\lnot \\lnot p \\land \\lnot q \\equiv p \\land \\lnot q$\n",
    "\n",
    "$\\exists x \\exists y\\ (x < 0) \\land (y < 0) \\land (x - y \\ge 0)$\n"
   ]
  },
  {
   "cell_type": "markdown",
   "metadata": {
    "id": "Yn9LXlLqOVHs"
   },
   "source": [
    "#### Now the statement is true."
   ]
  },
  {
   "cell_type": "markdown",
   "metadata": {
    "id": "jitXz3DjOWRK"
   },
   "source": [
    "$x = -3, y = -4$ is one of infinitely many examples."
   ]
  },
  {
   "cell_type": "markdown",
   "metadata": {
    "id": "uCTIunrtOYIV"
   },
   "source": [
    "## Explain\n"
   ]
  },
  {
   "cell_type": "markdown",
   "metadata": {
    "id": "N2D2Q_2QOdrP"
   },
   "source": [
    "By breaking it into pieces:\n",
    "\n",
    "$\\lnot \\forall x \\forall y\\ ((x < 0) \\land (y < 0) \\rightarrow (x - y < 0)$\n",
    "\n",
    "$\\lnot (p \\lor q) \\equiv \\lnot p \\land \\lnot q$\n",
    "\n",
    "$p \\rightarrow q \\equiv \\lnot p \\lor q$\n",
    "\n",
    "Let $p = (x < 0) \\land (y < 0)$.\n",
    "\n",
    "Let $q = (x - y < 0)$.\n"
   ]
  },
  {
   "cell_type": "markdown",
   "metadata": {
    "id": "I0McPhUaOioI"
   },
   "source": [
    "### Step By Step"
   ]
  },
  {
   "cell_type": "markdown",
   "metadata": {
    "id": "pT_Sb4YeOmBZ"
   },
   "source": [
    "$\\begin{array}{ll}\n",
    " \\mbox{Step} & \\mbox{Reason} \\\\\n",
    " \\hline\n",
    " \\exists x \\exists y\\ \\lnot (((x < 0) \\land (y < 0)) \\rightarrow (x - y < 0)) & \\mbox{push}\\ \\lnot\\ \\mbox{across the}\\ \\forall x \\forall y \\\\\n",
    " \\exists x \\exists y\\ \\lnot (\\lnot ((x < 0) \\land (y < 0)) \\lor (x - y < 0)) & \\mbox{eliminate conditional}\\ (p \\rightarrow q \\equiv \\lnot p \\lor q) \\\\\n",
    " \\exists x \\exists y\\ \\lnot \\lnot ((x < 0) \\land (y < 0)) \\land \\lnot (x - y < 0) & \\mbox{apply De Morgan} \\\\\n",
    " \\exists x \\exists y\\ ((x < 0) \\land (y < 0)) \\land \\lnot (x - y < 0) & \\mbox{eliminate double negation} \\\\\n",
    " \\exists x \\exists y\\ ((x < 0) \\land (y < 0)) \\land (x - y \\ge 0)     & \\mbox{eliminate last negation} \\\\\n",
    " \\exists x \\exists y\\ (x < 0) \\land (y < 0) \\land (x - y \\ge 0)       & \\mbox{remove unnecessary parentheses} \\\\\n",
    "\\end{array}$"
   ]
  },
  {
   "cell_type": "markdown",
   "metadata": {
    "id": "IFTWOCfAO9jE"
   },
   "source": [
    "## <font color=red>**TODO** Your First Task</font>"
   ]
  },
  {
   "cell_type": "markdown",
   "metadata": {
    "id": "uXFKujIAO_m1"
   },
   "source": [
    "Write the symbolic equivalent of the full quantified proposition\n",
    "\n",
    "> Everything is cool when you&rsquo;re part of a team (AND) \\\\\n",
    "> Everything is awesome when we&rsquo;re living our dream."
   ]
  },
  {
   "cell_type": "markdown",
   "metadata": {
    "id": "qJdaToiHPKE6"
   },
   "source": [
    "### Use these predicates"
   ]
  },
  {
   "cell_type": "markdown",
   "metadata": {
    "id": "Rt2C2Fu9PMag"
   },
   "source": [
    "* A = is awesome\n",
    "* T = is a team\n",
    "* C = is cool\n",
    "* D = is living dream"
   ]
  },
  {
   "cell_type": "markdown",
   "metadata": {
    "id": "VRj0cRPKPS7P"
   },
   "source": [
    "## <font color=red>**TODO** Your Second Task</font>"
   ]
  },
  {
   "cell_type": "markdown",
   "metadata": {
    "id": "EThdkM_1PUb7"
   },
   "source": [
    "After you translate the proposition to symbols, negate it by following the steps shown above.\n"
   ]
  }
 ],
 "metadata": {
  "colab": {
   "authorship_tag": "ABX9TyMFs1bV8uyKn2SvbuPHG7Mz",
   "name": "Learn About Predicates and Quantifiers.ipynb",
   "private_outputs": true,
   "provenance": []
  },
  "kernelspec": {
   "display_name": "Python 3",
   "language": "python",
   "name": "python3"
  },
  "language_info": {
   "codemirror_mode": {
    "name": "ipython",
    "version": 3
   },
   "file_extension": ".py",
   "mimetype": "text/x-python",
   "name": "python",
   "nbconvert_exporter": "python",
   "pygments_lexer": "ipython3",
   "version": "3.9.0"
  }
 },
 "nbformat": 4,
 "nbformat_minor": 1
}
