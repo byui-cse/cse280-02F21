{
  "cells": [
    {
      "cell_type": "markdown",
      "metadata": {
        "id": "PtfY5Hea9dEk"
      },
      "source": [
        "# Logic symbols in Python"
      ]
    },
    {
      "cell_type": "code",
      "execution_count": null,
      "metadata": {
        "id": "XsDVwBAz9hPp"
      },
      "outputs": [],
      "source": [
        "# or\n",
        "p = True\n",
        "q = True\n",
        "\n",
        "p or q\n"
      ]
    },
    {
      "cell_type": "code",
      "execution_count": null,
      "metadata": {
        "id": "qDO_At-z9jV0"
      },
      "outputs": [],
      "source": [
        "# and\n",
        "p and q"
      ]
    },
    {
      "cell_type": "code",
      "execution_count": null,
      "metadata": {
        "id": "pUgT607V9kDl"
      },
      "outputs": [],
      "source": [
        "\n",
        "# not\n",
        "not p"
      ]
    },
    {
      "cell_type": "code",
      "execution_count": null,
      "metadata": {},
      "outputs": [],
      "source": [
        "# xor, kind of\n",
        "\n",
        "p ^ q"
      ]
    },
    {
      "cell_type": "code",
      "execution_count": null,
      "metadata": {},
      "outputs": [],
      "source": [
        "not p ^ q"
      ]
    },
    {
      "cell_type": "markdown",
      "metadata": {
        "id": "AV3fwRCk9Z0Y"
      },
      "source": [
        "# Truth Tables"
      ]
    },
    {
      "cell_type": "markdown",
      "metadata": {
        "id": "jLTEUb7l9xmY"
      },
      "source": [
        "$p \\lor q$"
      ]
    },
    {
      "cell_type": "code",
      "execution_count": null,
      "metadata": {
        "id": "yErAQO0c9XYt"
      },
      "outputs": [],
      "source": [
        "# p or q\n",
        "\n",
        "print(\"p q p or q\")\n",
        "for p in [True, False]:\n",
        "  for q in [True, False]:\n",
        "    print(p, q, p or q)\n"
      ]
    },
    {
      "cell_type": "code",
      "execution_count": null,
      "metadata": {
        "id": "8YOviQTDI54z"
      },
      "outputs": [],
      "source": [
        "values = [(p,q, p or q) for p in [0,1] for q in [0,1]]\n",
        "print(*values, sep=\"\\n\")\n"
      ]
    },
    {
      "cell_type": "markdown",
      "metadata": {
        "id": "IwmZrnMe9zym"
      },
      "source": [
        "$p \\land q$"
      ]
    },
    {
      "cell_type": "code",
      "execution_count": null,
      "metadata": {
        "id": "kJyb8kRs9sPE"
      },
      "outputs": [],
      "source": [
        "# p and q"
      ]
    },
    {
      "cell_type": "markdown",
      "metadata": {
        "id": "hZaJRvNX93rD"
      },
      "source": [
        "$\\lnot p \\lor q$"
      ]
    },
    {
      "cell_type": "code",
      "execution_count": null,
      "metadata": {
        "id": "uBoUUNY49uW1"
      },
      "outputs": [],
      "source": [
        "# not p or q"
      ]
    },
    {
      "cell_type": "markdown",
      "metadata": {},
      "source": [
        "# Conditionals"
      ]
    },
    {
      "cell_type": "code",
      "execution_count": 56,
      "metadata": {},
      "outputs": [
        {
          "name": "stdout",
          "output_type": "stream",
          "text": [
            "We will go to the beach\n"
          ]
        }
      ],
      "source": [
        "weather = \"sunny\"\n",
        "# weather = \"cloudy\"\n",
        "# weather = \"fair\"\n",
        "# weather = \"rain\"\n",
        "# forecast = \"sunny\"\n",
        "forecast = \"rain\"\n",
        "\n",
        "\n",
        "if weather == \"sunny\" or weather == \"fair\" and forecast != \"rain\": \n",
        "    # do we need parenthesis somewhere?\n",
        "    print(\"We will go to the beach\")\n",
        "elif weather == \"cloudy\" and forecast != \"rain\":\n",
        "    print(\"We will go on a hike\")\n",
        "elif forecast == \"rain\":\n",
        "    print(\"We will go to a movie\")\n",
        "else:\n",
        "    print(\"Let's wait and see\")\n",
        "    "
      ]
    },
    {
      "cell_type": "code",
      "execution_count": 64,
      "metadata": {},
      "outputs": [
        {
          "name": "stdout",
          "output_type": "stream",
          "text": [
            "You can ride.\n",
            "You can ride.\n"
          ]
        }
      ],
      "source": [
        "# Rules to ride the roller coaster\n",
        "\n",
        "# 1. Must be at least 12 years old and 46 inches tall\n",
        "# 2. Cannot be older than 85\n",
        "# 3. If under 12 but over 46 inches tall, can ride if \n",
        "#    accompanied by someone who is at least 18 years old \n",
        "#    and over 46 inches tall\n",
        "\n",
        "\n",
        "# Constants\n",
        "MIN_AGE = 12\n",
        "MAX_AGE = 85\n",
        "MIN_HEIGHT = 46\n",
        "ACCOMPANY_AGE = 18\n",
        "\n",
        "\n",
        "# Inputs\n",
        "rider1_age = 11\n",
        "rider1_height = 66\n",
        "rider2_age = 19   \n",
        "rider2_height = 67\n",
        "\n",
        "# Logic\n",
        "can_ride = False\n",
        "if ((rider1_age >= MIN_AGE \n",
        "    and rider1_age <= MAX_AGE \n",
        "    and rider1_height >= MIN_HEIGHT) \n",
        "    or\n",
        "    (rider1_age <= MAX_AGE\n",
        "    and rider1_height >= MIN_HEIGHT\n",
        "    and rider2_age >= MIN_AGE\n",
        "    and rider2_age <= MAX_AGE\n",
        "    and rider2_height >= MIN_HEIGHT)):\n",
        "    can_ride = True\n",
        "\n",
        "print(f\"You {'can' if can_ride else 'cannot'} ride.\")\n",
        "\n",
        "\n",
        "\n",
        "\n",
        "\n",
        "\n",
        "# # Another way\n",
        "# condition1 = (rider1_age >= MIN_AGE \n",
        "#     and rider1_age <= MAX_AGE \n",
        "#     and rider1_height >= MIN_HEIGHT)\n",
        "# condition2 = (rider1_age <= MAX_AGE\n",
        "#     and rider1_height >= MIN_HEIGHT\n",
        "#     and rider2_age >= MIN_AGE\n",
        "#     and rider2_age <= MAX_AGE\n",
        "#     and rider2_height >= MIN_HEIGHT)\n",
        "\n",
        "# if condition1 or condition2:\n",
        "#     can_ride = True\n",
        "\n",
        "# print(f\"You {'can' if can_ride else 'cannot'} ride.\")"
      ]
    }
  ],
  "metadata": {
    "colab": {
      "collapsed_sections": [],
      "provenance": []
    },
    "kernelspec": {
      "display_name": "Python 3.9.0 ('.env': venv)",
      "language": "python",
      "name": "python3"
    },
    "language_info": {
      "codemirror_mode": {
        "name": "ipython",
        "version": 3
      },
      "file_extension": ".py",
      "mimetype": "text/x-python",
      "name": "python",
      "nbconvert_exporter": "python",
      "pygments_lexer": "ipython3",
      "version": "3.9.0"
    },
    "vscode": {
      "interpreter": {
        "hash": "1977c1262a5a71e57f8e1e2a9337f4268800bf2d1a595fc1ecb322ccb8b2351d"
      }
    }
  },
  "nbformat": 4,
  "nbformat_minor": 0
}
