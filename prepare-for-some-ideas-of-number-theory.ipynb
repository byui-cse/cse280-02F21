{
 "cells": [
  {
   "cell_type": "markdown",
   "metadata": {
    "id": "kBCdacwyG6nw"
   },
   "source": [
    "# <font color=blue>Prepare for Some Ideas of Number Theory</font>\n"
   ]
  },
  {
   "cell_type": "markdown",
   "metadata": {
    "id": "uKG0HImGG_9A"
   },
   "source": [
    "## <font color=red>Instructions</font>\n"
   ]
  },
  {
   "cell_type": "markdown",
   "metadata": {
    "id": "MjjxWHb9HANX"
   },
   "source": [
    "Answer questions on the content from the book, Chapter 6 Number Theory and Practice, section 6.1 - 6.14, and any first-level links therefrom.\n"
   ]
  },
  {
   "cell_type": "markdown",
   "metadata": {
    "id": "KmiWpq6uHBwV"
   },
   "source": [
    "## <font color=red>Access</font>\n"
   ]
  },
  {
   "cell_type": "markdown",
   "metadata": {
    "id": "l3VrY8YpHDSF"
   },
   "source": [
    "[Take the Quiz](https://byui.instructure.com/courses/149380/quizzes/2724875)\n"
   ]
  }
 ],
 "metadata": {
  "colab": {
   "authorship_tag": "ABX9TyMB63mpZWExsePpPt4mLX76",
   "name": "prepare-for-some-ideas-of-number-theory.ipynb",
   "private_outputs": true,
   "provenance": []
  },
  "kernelspec": {
   "display_name": "Python 3",
   "language": "python",
   "name": "python3"
  },
  "language_info": {
   "codemirror_mode": {
    "name": "ipython",
    "version": 3
   },
   "file_extension": ".py",
   "mimetype": "text/x-python",
   "name": "python",
   "nbconvert_exporter": "python",
   "pygments_lexer": "ipython3",
   "version": "3.9.0"
  }
 },
 "nbformat": 4,
 "nbformat_minor": 1
}
