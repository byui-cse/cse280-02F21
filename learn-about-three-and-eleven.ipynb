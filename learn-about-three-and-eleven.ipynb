{
 "cells": [
  {
   "cell_type": "markdown",
   "metadata": {
    "id": "unoW8PqzYUfu"
   },
   "source": [
    "# <font color=blue>Learn About Three and Eleven</font>\n",
    "## <font color=blue>Teach One Another</font>"
   ]
  },
  {
   "cell_type": "markdown",
   "metadata": {
    "id": "lR-VmW4fZwyU"
   },
   "source": [
    "## <font color=red>**TODO** Your Task --- Exercise Your Creativity</font>"
   ]
  },
  {
   "cell_type": "markdown",
   "metadata": {},
   "source": [
    "Find (or make) some connections between three and eleven."
   ]
  },
  {
   "cell_type": "markdown",
   "metadata": {},
   "source": [
    "For example, these two numbers are both small primes."
   ]
  },
  {
   "cell_type": "markdown",
   "metadata": {},
   "source": [
    "For another example, 11 is 3 in binary."
   ]
  },
  {
   "cell_type": "markdown",
   "metadata": {},
   "source": [
    "So that's the idea --- see how many other creative connections your mind can find or concoct in the time allotted."
   ]
  },
  {
   "cell_type": "markdown",
   "metadata": {},
   "source": [
    "(This is open-ended and subjective --- there is no right answer.)"
   ]
  }
 ],
 "metadata": {
  "colab": {
   "authorship_tag": "ABX9TyOm2TLPOASZFen/zCf+jNsG",
   "name": "learn-about-three-and-eleven.ipynb",
   "private_outputs": true,
   "provenance": []
  },
  "kernelspec": {
   "display_name": "Python 3",
   "language": "python",
   "name": "python3"
  },
  "language_info": {
   "codemirror_mode": {
    "name": "ipython",
    "version": 3
   },
   "file_extension": ".py",
   "mimetype": "text/x-python",
   "name": "python",
   "nbconvert_exporter": "python",
   "pygments_lexer": "ipython3",
   "version": "3.9.0"
  }
 },
 "nbformat": 4,
 "nbformat_minor": 1
}
