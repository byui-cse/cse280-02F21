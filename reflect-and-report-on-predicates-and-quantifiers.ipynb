{
 "cells": [
  {
   "cell_type": "markdown",
   "metadata": {
    "id": "sJsr9fATGt26"
   },
   "source": [
    "# <font color=blue>Reflect and Report on Predicates And Quantifiers</font>\n",
    "## <font color=blue>Prepare</font>\n"
   ]
  },
  {
   "cell_type": "markdown",
   "metadata": {
    "id": "IXAnfYA9Gwl-"
   },
   "source": [
    "## <font color=red>Instructions</font>"
   ]
  },
  {
   "cell_type": "markdown",
   "metadata": {
    "id": "H2OTbmTIG0wR"
   },
   "source": [
    "You will be asked to assert the usual:\n",
    "* I attended class on Tuesday this week.\n",
    "* I participated in the In-Class Exercise(s) on Tuesday this week.\n",
    "* I attended class on Thursday this week.\n",
    "* I participated in the In-Class Exercise(s) on Thursday this week."
   ]
  },
  {
   "cell_type": "markdown",
   "metadata": {
    "id": "Z8wSaMvvG70B"
   },
   "source": [
    "## <font color=red>Access</font>\n"
   ]
  },
  {
   "cell_type": "markdown",
   "metadata": {
    "id": "HeTttKm2G8uW"
   },
   "source": [
    "[Take the Self-Assessment](https://byui.instructure.com/courses/149380/quizzes/2724919)"
   ]
  }
 ],
 "metadata": {
  "colab": {
   "authorship_tag": "ABX9TyM0WC4ifd57YHHCx/cOv0yy",
   "name": "reflect-and-report-on-predicates-and-quantifiers.ipynb",
   "private_outputs": true,
   "provenance": []
  },
  "kernelspec": {
   "display_name": "Python 3",
   "language": "python",
   "name": "python3"
  },
  "language_info": {
   "codemirror_mode": {
    "name": "ipython",
    "version": 3
   },
   "file_extension": ".py",
   "mimetype": "text/x-python",
   "name": "python",
   "nbconvert_exporter": "python",
   "pygments_lexer": "ipython3",
   "version": "3.9.0"
  }
 },
 "nbformat": 4,
 "nbformat_minor": 1
}
