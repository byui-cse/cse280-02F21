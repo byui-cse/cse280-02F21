{
 "cells": [
  {
   "cell_type": "code",
   "execution_count": null,
   "metadata": {},
   "outputs": [],
   "source": []
  },
  {
   "cell_type": "markdown",
   "metadata": {},
   "source": [
    "### Universal Quantifier $\\forall$"
   ]
  },
  {
   "cell_type": "markdown",
   "metadata": {},
   "source": [
    "How do we determine whether **all** items in a list match some predicate?"
   ]
  },
  {
   "cell_type": "code",
   "execution_count": 1,
   "metadata": {},
   "outputs": [
    {
     "data": {
      "text/plain": [
       "True"
      ]
     },
     "execution_count": 1,
     "metadata": {},
     "output_type": "execute_result"
    }
   ],
   "source": [
    "odds = [1, 3, 5, 7, 9]\n",
    "is_odd = lambda x: x%2\n",
    "\n",
    "# are all of these numbers odd?\n",
    "len([*filter(is_odd, odds)]) == len(odds)\n",
    "\n",
    "# or create an \"all\" function that takes a predicate and a sequence\n",
    "def forall(p, s):\n",
    "    for x in s:\n",
    "        if not p(x):\n",
    "            return False\n",
    "    return True\n",
    "\n",
    "forall(is_odd, odds)"
   ]
  },
  {
   "cell_type": "markdown",
   "metadata": {},
   "source": [
    "Python has a built-in **all** function. It takes a list and returns True if every item in the list is True."
   ]
  },
  {
   "cell_type": "code",
   "execution_count": 2,
   "metadata": {},
   "outputs": [
    {
     "data": {
      "text/plain": [
       "True"
      ]
     },
     "execution_count": 2,
     "metadata": {},
     "output_type": "execute_result"
    }
   ],
   "source": [
    "all(map(is_odd, odds))"
   ]
  },
  {
   "cell_type": "markdown",
   "metadata": {},
   "source": [
    "Python also has a built-in **any** function. It takes a list and returns True if at least one item in the list is True."
   ]
  },
  {
   "cell_type": "code",
   "execution_count": 3,
   "metadata": {},
   "outputs": [
    {
     "name": "stdout",
     "output_type": "stream",
     "text": [
      "True\n",
      "True\n",
      "False\n"
     ]
    }
   ],
   "source": [
    "mixed = [1,2,4,6,8,10]\n",
    "evens = [2,4,6,8,10]\n",
    "\n",
    "print(any(map(is_odd, odds)))\n",
    "print(any(map(is_odd, mixed)))\n",
    "print(any(map(is_odd, evens)))"
   ]
  }
 ],
 "metadata": {
  "interpreter": {
   "hash": "6a8e4dad0b4e8ea345e3fd0a3780de1d4c1a41dc382b6d487e229e2a51e4f041"
  },
  "kernelspec": {
   "display_name": "Python 3.9.0 ('.env': venv)",
   "language": "python",
   "name": "python3"
  },
  "language_info": {
   "codemirror_mode": {
    "name": "ipython",
    "version": 3
   },
   "file_extension": ".py",
   "mimetype": "text/x-python",
   "name": "python",
   "nbconvert_exporter": "python",
   "pygments_lexer": "ipython3",
   "version": "3.9.0"
  },
  "orig_nbformat": 4
 },
 "nbformat": 4,
 "nbformat_minor": 2
}
