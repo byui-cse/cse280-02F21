{
 "cells": [
  {
   "cell_type": "markdown",
   "metadata": {},
   "source": [
    "# Euclid's algorithm for finding the GCD\n",
    "\n",
    "Write a function to compute the GCD of two numbers using Euclid's algorithm."
   ]
  },
  {
   "cell_type": "code",
   "execution_count": 26,
   "metadata": {},
   "outputs": [],
   "source": [
    "# Implement Euclid's algorithm to find GCD of two numbers\n",
    "def gcd(x, y):\n",
    "    if y < x: # swap x and y\n",
    "        temp = y\n",
    "        y = x\n",
    "        x = temp\n",
    "\n",
    "    r = y % x\n",
    "\n",
    "    while r != 0:\n",
    "        y = x\n",
    "        x = r\n",
    "        r = y % x\n",
    "    \n",
    "    return x\n",
    "\n",
    "\n"
   ]
  },
  {
   "cell_type": "code",
   "execution_count": 70,
   "metadata": {},
   "outputs": [
    {
     "name": "stdout",
     "output_type": "stream",
     "text": [
      "5\n",
      "1\n"
     ]
    }
   ],
   "source": [
    "# Implement using functional programming style\n",
    "divide = lambda x,r: divide(r, x%r) if r != 0 else x\n",
    "gcd_f = lambda x,y: divide(x, y%x)\n",
    "\n",
    "\n",
    "print(gcd_f(5,10))\n",
    "print(gcd_f(100,143))\n",
    "\n"
   ]
  },
  {
   "cell_type": "markdown",
   "metadata": {},
   "source": [
    "Try your gcd function on several numbers."
   ]
  },
  {
   "cell_type": "code",
   "execution_count": 72,
   "metadata": {},
   "outputs": [
    {
     "name": "stdout",
     "output_type": "stream",
     "text": [
      "14\n",
      "14\n",
      "14\n",
      "1\n",
      "1\n",
      "1\n",
      "1\n",
      "1\n",
      "1\n",
      "25\n",
      "25\n"
     ]
    }
   ],
   "source": [
    "print(gcd(210, 56))\n",
    "print(gcd_f(210, 56))\n",
    "print(gcd_f(56, 210))\n",
    "print(gcd(7, 5))\n",
    "print(gcd_f(7, 5))\n",
    "print(gcd(29348, 233))\n",
    "print(gcd_f(29348, 233))\n",
    "print(gcd(100, 143))\n",
    "print(gcd_f(100, 143))\n",
    "print(gcd(100, 25))\n",
    "print(gcd_f(100, 25))"
   ]
  },
  {
   "cell_type": "code",
   "execution_count": null,
   "metadata": {},
   "outputs": [],
   "source": []
  }
 ],
 "metadata": {
  "interpreter": {
   "hash": "6a8e4dad0b4e8ea345e3fd0a3780de1d4c1a41dc382b6d487e229e2a51e4f041"
  },
  "kernelspec": {
   "display_name": "Python 3.9.0 ('.env': venv)",
   "language": "python",
   "name": "python3"
  },
  "language_info": {
   "codemirror_mode": {
    "name": "ipython",
    "version": 3
   },
   "file_extension": ".py",
   "mimetype": "text/x-python",
   "name": "python",
   "nbconvert_exporter": "python",
   "pygments_lexer": "ipython3",
   "version": "3.9.0"
  },
  "orig_nbformat": 4
 },
 "nbformat": 4,
 "nbformat_minor": 2
}
