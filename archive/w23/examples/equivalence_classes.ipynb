{
  "cells": [
    {
      "cell_type": "markdown",
      "metadata": {
        "id": "ylra8_VZN8cd"
      },
      "source": [
        "# Equivalence classes"
      ]
    },
    {
      "cell_type": "markdown",
      "metadata": {
        "id": "KzHeGVCTCiJB"
      },
      "source": [
        "Find the equivalance classes for the following equivalence relation.\n",
        "\n",
        "The domain of the equivalence relation D is the set S:\n",
        "\n",
        "S = {7, 2, 13, 44, 56, 34, 99, 31, 4, 17}\n",
        "\n",
        "For any x, y ∈ S, xDy if x has the same remainder as y when divided by 4. Show the partition of S defined by the equivalence classes of D."
      ]
    },
    {
      "cell_type": "markdown",
      "metadata": {
        "id": "dRKwBZC_Cv_5"
      },
      "source": [
        "Using list comprehensions:"
      ]
    },
    {
      "cell_type": "code",
      "execution_count": 2,
      "metadata": {
        "colab": {
          "base_uri": "https://localhost:8080/"
        },
        "id": "1BhGACyGtyi9",
        "outputId": "91ad20cf-008b-43e8-ccfa-efc824e18d77"
      },
      "outputs": [
        {
          "name": "stdout",
          "output_type": "stream",
          "text": [
            "[0]: [4, 44, 56]\n",
            "[1]: [13, 17]\n",
            "[2]: [2, 34]\n",
            "[3]: [99, 7, 31]\n"
          ]
        }
      ],
      "source": [
        "S = {7, 2, 13, 44, 56, 34, 99, 31, 4, 17}\n",
        "\n",
        "S_0 = [x for x in S if x%4 == 0]\n",
        "S_1 = [x for x in S if x%4 == 1]\n",
        "S_2 = [x for x in S if x%4 == 2]\n",
        "S_3 = [x for x in S if x%4 == 3]\n",
        "\n",
        "print(f'[0]: {S_0}\\n[1]: {S_1}\\n[2]: { S_2}\\n[3]: {S_3}')\n"
      ]
    },
    {
      "cell_type": "markdown",
      "metadata": {
        "id": "u_wSdSkSCozk"
      },
      "source": [
        "Using python dictionaries:"
      ]
    },
    {
      "cell_type": "code",
      "execution_count": 5,
      "metadata": {
        "colab": {
          "base_uri": "https://localhost:8080/"
        },
        "id": "xO-3zDYBv6CT",
        "outputId": "65f85f55-5b8f-4033-8dc7-ed88ae682a92"
      },
      "outputs": [
        {
          "name": "stdout",
          "output_type": "stream",
          "text": [
            "{2: [2, 34], 3: [99, 7, 31], 0: [4, 44, 56], 1: [13, 17]}\n"
          ]
        }
      ],
      "source": [
        "result = {} \n",
        "for x in S:\n",
        "  result.setdefault(x%4, [])\n",
        "  result[x%4].append(x)\n",
        "\n",
        "print(result)"
      ]
    },
    {
      "cell_type": "markdown",
      "metadata": {
        "id": "rKGMvVjaCzLV"
      },
      "source": [
        "Another way, using defaultdict."
      ]
    },
    {
      "cell_type": "code",
      "execution_count": 6,
      "metadata": {
        "colab": {
          "base_uri": "https://localhost:8080/"
        },
        "id": "WJEECrQ2CHcR",
        "outputId": "e8a06a9b-b511-4a04-a6eb-b5fddfb71b08"
      },
      "outputs": [
        {
          "name": "stdout",
          "output_type": "stream",
          "text": [
            "defaultdict(<class 'list'>, {2: [2, 34], 3: [99, 7, 31], 0: [4, 44, 56], 1: [13, 17]})\n"
          ]
        }
      ],
      "source": [
        "from collections import defaultdict\n",
        "result = defaultdict(list) # creates a dictionary where each value is an empty list\n",
        "for x in S:\n",
        "  result[x%4].append(x)\n",
        "\n",
        "print(result)"
      ]
    },
    {
      "cell_type": "markdown",
      "metadata": {
        "id": "DJ5wrqTuC29E"
      },
      "source": [
        "Using map and dictionary"
      ]
    },
    {
      "cell_type": "code",
      "execution_count": 7,
      "metadata": {
        "colab": {
          "base_uri": "https://localhost:8080/"
        },
        "id": "K1OGjBU-3nHb",
        "outputId": "32552f96-1228-4125-a494-50ffeb23ecbd"
      },
      "outputs": [
        {
          "name": "stdout",
          "output_type": "stream",
          "text": [
            "[(3, 7), (2, 2), (1, 13), (0, 44), (0, 56), (2, 34), (3, 99), (3, 31), (0, 4), (1, 17)]\n",
            "defaultdict(<class 'list'>, {3: [7, 99, 31], 2: [2, 34], 1: [13, 17], 0: [44, 56, 4]})\n"
          ]
        }
      ],
      "source": [
        "S = [7, 2, 13, 44, 56, 34, 99, 31, 4, 17]\n",
        "\n",
        "# Compute each item's equivalence % 4\n",
        "ec = [*map(lambda x: (x%4, x), S)]\n",
        "print(ec)\n",
        "\n",
        "# Add to a dictionary\n",
        "from collections import defaultdict\n",
        "result = defaultdict(list)\n",
        "for k, v in ec:\n",
        "  result[k].append(v)\n",
        "print(result)\n",
        "\n"
      ]
    }
  ],
  "metadata": {
    "colab": {
      "collapsed_sections": [],
      "provenance": []
    },
    "kernelspec": {
      "display_name": "Python 3.9.0 ('.env': venv)",
      "language": "python",
      "name": "python3"
    },
    "language_info": {
      "codemirror_mode": {
        "name": "ipython",
        "version": 3
      },
      "file_extension": ".py",
      "mimetype": "text/x-python",
      "name": "python",
      "nbconvert_exporter": "python",
      "pygments_lexer": "ipython3",
      "version": "3.9.0"
    },
    "vscode": {
      "interpreter": {
        "hash": "1977c1262a5a71e57f8e1e2a9337f4268800bf2d1a595fc1ecb322ccb8b2351d"
      }
    }
  },
  "nbformat": 4,
  "nbformat_minor": 0
}
