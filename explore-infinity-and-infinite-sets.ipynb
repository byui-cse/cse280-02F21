{
 "cells": [
  {
   "cell_type": "markdown",
   "metadata": {
    "id": "Zv5ADq8Y25lq"
   },
   "source": [
    "# <font color=blue>Explore Infinity and Infinite Sets</font>\n",
    "## <font color=blue>Ponder and Prove</font>"
   ]
  },
  {
   "cell_type": "markdown",
   "metadata": {
    "id": "jcmk_195Jn3X"
   },
   "source": [
    "## <font color=red>Infinity</font>"
   ]
  },
  {
   "cell_type": "markdown",
   "metadata": {
    "id": "sL3trCbRJsmX"
   },
   "source": [
    "One of the goals of this exploration is for you to be exposed to and ponder some of the deep ramifications of the idea of infinity and infiniteness."
   ]
  },
  {
   "cell_type": "markdown",
   "metadata": {
    "id": "esJU8v19JusT"
   },
   "source": [
    "One good way to do this is to read [Brother Kent Bessey&rsquo;s](#scrollTo=517qLAIW7k4U&line=1&uniqifier=1) essay [*To Infinity and Beyond $\\ldots$*](https://byui-cse.github.io/cse280-course/to-infinity-and-beyond.pdf), then reflect on what you read, discuss it with someone, and write a response.\n",
    "\n",
    "It would make sense to include in your response a summary of your discussion, which would ideally be with someone who is not now in the class, nor has taken it before, nor indeed is studying or practicing in any STEM field. This will make you both think of more questions than if you discussed it with someone familiar with these ideas.\n",
    "\n",
    "When you read this essay, you&rsquo;ll note that the running footer on odd-numbered pages is &ldquo;Thinking as Latter-day Saints&rdquo; and for even-numbered pages it is &ldquo;Perspective&rdquo; (the name of the publication). In that light, consider that the outcomes for DM1 and DM2 are mostly the same, except in DM2 the fourth outcome is that you will learn to:\n",
    "\n",
    "+ Think like a mathematician by making sense of ambiguity, contradiction, and paradox.\n",
    "\n",
    "This definitely requires you to broaden your *Perspective*, but it may not seem to have much to do with *Thinking as Latter-day Saints*. However, consider that the gospel deals with many paradoxical, or seemingly contradictory ideas! These are ideas that can only be resolved by looking at a larger context. Can you think of some examples?"
   ]
  },
  {
   "cell_type": "markdown",
   "metadata": {
    "id": "Tv__KgM1-kC7"
   },
   "source": [
    "Another way to study these ideas is to watch any of the plethora of YouTube videos out there, for example:"
   ]
  },
  {
   "cell_type": "code",
   "execution_count": null,
   "metadata": {
    "id": "ROcgUY4I-SAD"
   },
   "outputs": [],
   "source": [
    "# How to Count Past Infinity (23:46 long at normal speed)\n",
    "from IPython.display import YouTubeVideo\n",
    "YouTubeVideo('SrU9YDoXE88')"
   ]
  },
  {
   "cell_type": "markdown",
   "metadata": {
    "id": "njgFz8Nh_CRt"
   },
   "source": [
    "## <font color=red>The Infinite Binary Tree</font>"
   ]
  },
  {
   "cell_type": "markdown",
   "metadata": {
    "id": "1lrODKbBITdj"
   },
   "source": [
    "Refer to the animated image linked to from side note 7 on page $x$ of the Preface of the Book. This is a (very) \"finite binary tree\".\n",
    "\n",
    "Depicted below is the \"infinite binary tree\". (Naturally, this is only a conceptualization of something that cannot actually be drawn.) The tree is constructed by letting all possible paths move upward, forking infinitely many times. By continually halving distances, an infinite number of \"branches\" (or nodes) will fit below the horizontal line. Imagine each point on this line as being a \"leaf\" that lies at the end of one of the infinitely zigzagged paths up through the tree. Starting from the bottom (the root of the tree) to trace a complete path up to the horizontal line one makes an infinite number of Left-Right decisions (Left corresponding to 0 and Right to 1). For example, the path where the squiggly line meets the horizontal line corresponds to the infinite sequence: 0, 1, 1, 0, 1, .... Starting from the bottom single node, the number of nodes at each step doubles as the distance to the horizontal line halves.\n",
    "\n",
    "After learning from other sources the meaning of **countable** versus **uncountable**, ponder which of the following statements (one only) is true of this tree in its finished form, and why do you think so?\n",
    "\n",
    "1. It has a countable number of nodes and a countable number of paths.\n",
    "2. It has a countable number of nodes and an uncountable number of paths.\n",
    "3. It has an uncountable number of nodes and a countable number of paths.\n",
    "4. It has an uncountable number of nodes and an uncountable number of paths.\n"
   ]
  },
  {
   "cell_type": "markdown",
   "metadata": {
    "id": "qw_9HBX9IBMt"
   },
   "source": [
    "![infinitebinarytree.png](data:image/png;base64,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)"
   ]
  },
  {
   "cell_type": "markdown",
   "metadata": {
    "id": "GkV7Uy5nJsMV"
   },
   "source": [
    "How do you map a number $n$ to its address in the IBT?\n",
    "\n",
    "Define address to be a pair of numbers, level and position, where both level and position start at zero."
   ]
  },
  {
   "cell_type": "code",
   "execution_count": null,
   "metadata": {
    "id": "dqbU4r3XJqgN"
   },
   "outputs": [],
   "source": [
    "from math import floor, log2\n",
    "\n",
    "def to_IBT_address(n):\n",
    "  level = floor(log2(n))\n",
    "  position = n - 2 ** level\n",
    "  return level, position\n",
    "\n",
    "def from_IBT_address(IBT_address):\n",
    "  level, position = IBT_address\n",
    "  return 2 ** level + position"
   ]
  },
  {
   "cell_type": "code",
   "execution_count": null,
   "metadata": {
    "id": "02TRqhXEKJXi"
   },
   "outputs": [],
   "source": [
    "to_IBT_address(1029)"
   ]
  },
  {
   "cell_type": "code",
   "execution_count": null,
   "metadata": {
    "id": "f_DUW0FrKPMX"
   },
   "outputs": [],
   "source": [
    "from_IBT_address([10, 5])"
   ]
  },
  {
   "cell_type": "code",
   "execution_count": null,
   "metadata": {
    "id": "uMlf_knkKXJa"
   },
   "outputs": [],
   "source": [
    "from_IBT_address(to_IBT_address(1029))"
   ]
  },
  {
   "cell_type": "markdown",
   "metadata": {
    "id": "2Qjvfe42I6Eu"
   },
   "source": [
    "## <font color=red>What About Infinite Sets?</font>\n",
    "\n"
   ]
  },
  {
   "cell_type": "markdown",
   "metadata": {
    "id": "qcCqU8AlI6Ev"
   },
   "source": [
    "Computer representation of sets in general has several intriguing aspects. *Infinite* sets, whose members of course can be neither stored nor listed in\n",
    "their entirety, are problematic, but they *can* be represented in part, as for\n",
    "example, the set of all integers:\n",
    "\n",
    "$$\\mathbb{Z} = \\{\\ldots, -3, -2, -1, 0, 1, 2, 3, \\ldots\\}$$\n",
    "\n",
    "An alternate representation that requires only one ellipsis is\n",
    "\n",
    "$$\\mathbb{Z} = \\{0, 1, -1, 2, -2, 3, -3, \\ldots\\}$$\n",
    "\n",
    "which has the disadvantage of not being ordered by magnitude (unless we mean\n",
    "by *absolute value*).\n",
    "\n",
    "Or, a few magnitude-ordered one-sided infinite sets:\n",
    "\n",
    "Primes $= \\{2, 3, 5, 7, 11, 13, 17, 19, 23, 29, \\ldots\\}$.\n",
    "\n",
    "Fibonacci $= \\{0, 1, 1, 2, 3, 5, 8, 13, 21, 34, 55, \\ldots\\}$.\n",
    "\n",
    "TwoPowers $= \\{2, 4, 8, 16, 32, 64, 128, 256, 512, 1024 \\ldots\\}$.\n",
    "\n",
    "The empty set is easily represented as $\\emptyset$ (or $\\{\\}$), and while of\n",
    "course not infinite itself, it can be the result of a set operation on two\n",
    "infinite sets, e.g., the intersection of the Evens and the Odds.\n",
    "\n",
    "Imagination and creativity help us find ways to represent and manipulate these\n",
    "sets and their features. There is a key insight to be grasped &#x2014; to see how to determine set membership in feasible ways. Can you grasp it?!\n",
    "\n"
   ]
  },
  {
   "cell_type": "markdown",
   "metadata": {
    "id": "VgKsAAJBI6Ew"
   },
   "source": [
    "### <font color=purple>More Considerations</font>\n",
    "\n"
   ]
  },
  {
   "cell_type": "markdown",
   "metadata": {
    "id": "ImoC7u_JI6Ex"
   },
   "source": [
    "Think of a good way to print out a partial but humanly readable representation\n",
    "of an infinite set.\n",
    "\n",
    "Set intersection, union, and complement are relatively straightforward, but\n",
    "set inclusion &#x2014; determining whether or not one set is a subset of another\n",
    "&#x2014; is not, as it seems to require iteration over all the elements of the set\n",
    "to be tested for inclusion in another.\n",
    "\n"
   ]
  },
  {
   "cell_type": "markdown",
   "metadata": {
    "id": "VjGbYu4K7iH2"
   },
   "source": [
    "## <font color=brown>Footnote</font>"
   ]
  },
  {
   "cell_type": "markdown",
   "metadata": {
    "id": "517qLAIW7k4U"
   },
   "source": [
    "Brother Bessey holds the copyright to this essay, which means:\n",
    "\n",
    "*All rights are reserved (by him). Reproduced by permission (from him). Read-only. Please do not copy, print, transmit or save a copy of this work*\n",
    "--- which he has authorized your temporary use of."
   ]
  }
 ],
 "metadata": {
  "colab": {
   "authorship_tag": "ABX9TyMSCijQ3Mb66lDQDplkKI85",
   "name": "explore-infinity-and-infinite sets.ipynb",
   "private_outputs": true,
   "provenance": []
  },
  "kernelspec": {
   "display_name": "Python 3",
   "language": "python",
   "name": "python3"
  },
  "language_info": {
   "codemirror_mode": {
    "name": "ipython",
    "version": 3
   },
   "file_extension": ".py",
   "mimetype": "text/x-python",
   "name": "python",
   "nbconvert_exporter": "python",
   "pygments_lexer": "ipython3",
   "version": "3.9.0"
  }
 },
 "nbformat": 4,
 "nbformat_minor": 1
}
