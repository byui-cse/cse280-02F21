{
  "cells": [
    {
      "attachments": {},
      "cell_type": "markdown",
      "metadata": {
        "id": "xq1PLyAr_0v0"
      },
      "source": [
        "# Functional Programming"
      ]
    },
    {
      "attachments": {},
      "cell_type": "markdown",
      "metadata": {},
      "source": [
        "Functional programming is a programming paradigm that emphasizes the use of functions to solve problems. Unlike imperative programming, where programs are structured around sequences of instructions that modify program state, functional programming involves defining functions that take inputs and produce outputs, without modifying any external state. This style of programming also favors the use of higher-order functions, which are functions that take other functions as arguments or return functions as results. \n",
        "\n",
        "In functional programming, data structures are typically immutable, meaning that they cannot be modified once they are created. One benefit of immutable data structions is that multiple threads or processes can safely access and manipulate the same data without interfering with each other. Since the data is immutable, there is no need to worry about race conditions or other concurrency issues that can arise in mutable data structures. Functions are often designed to operate on collections of data, such as sets, lists, or dictionaries, which can be easily partitioned and processed in parallel. This makes it straightforward to distribute workloads across multiple threads or processes, taking advantage of multi-core CPUs or distributed computing environments.\n",
        "\n",
        "The functional programming approach approach has its roots in mathematical concepts such as lambda calculus and set theory. This makes functional programming a powerful tool for solving problems in discrete mathematics, where the manipulation of mathematical functions and structures such as sets is often required.\n",
        "\n",
        "This reading will serve as a brief introduction to several functional programming concepts, including anonymous functions, and the higher-order functions `filter`, `map` and `reduce`."
      ]
    },
    {
      "attachments": {},
      "cell_type": "markdown",
      "metadata": {},
      "source": [
        "## Introduction to *lambda* functions"
      ]
    },
    {
      "attachments": {},
      "cell_type": "markdown",
      "metadata": {
        "id": "YJODv_0zw4gH"
      },
      "source": [
        "Lambda functions are small, anonymous functions that can be created in Python using the `lambda` keyword. They are restricted to a single expression and have an implicit return statement. Lambda functions are freqently used because they can be passed as arguments to functions that take other functions as arguments, such as `map()` or `filter()`. \n",
        "\n",
        "The syntax to create a `lambda` function is\n",
        "\n",
        "    lambda [parameters]: expression\n",
        "\n",
        "For example, the following lambda function takes two parameters, `a` and `b`, then returns their sum."
      ]
    },
    {
      "cell_type": "code",
      "execution_count": null,
      "metadata": {},
      "outputs": [],
      "source": [
        "lambda a, b: a + b"
      ]
    },
    {
      "attachments": {},
      "cell_type": "markdown",
      "metadata": {},
      "source": [
        "On its own, this function doesn't do much. But if we assign it to a variable, then we can call it just like a regular Python function. Read the following code block, then run it to see what it does."
      ]
    },
    {
      "cell_type": "code",
      "execution_count": null,
      "metadata": {},
      "outputs": [],
      "source": [
        "# Assign an anonymous function to a variable\n",
        "adder = lambda a, b: a + b\n",
        "\n",
        "# Call the function just like a normal Python function\n",
        "adder(3, 5) # returns 8"
      ]
    },
    {
      "attachments": {},
      "cell_type": "markdown",
      "metadata": {},
      "source": [
        "This is equivalent to the same Python function defined using the `def` keyword:"
      ]
    },
    {
      "cell_type": "code",
      "execution_count": null,
      "metadata": {},
      "outputs": [],
      "source": [
        "def adder2(a, b):\n",
        "    return a + b\n",
        "\n",
        "adder2(3, 5) # returns 8"
      ]
    },
    {
      "attachments": {},
      "cell_type": "markdown",
      "metadata": {},
      "source": [
        "Consider the following example and try to predict what it will do. Then run it to see if you were right."
      ]
    },
    {
      "cell_type": "code",
      "execution_count": null,
      "metadata": {
        "id": "8aeGHc7_w6Xh"
      },
      "outputs": [],
      "source": [
        "# Simple example, what does this do?\n",
        "z = 5\n",
        "print((lambda x: x * x) (z))"
      ]
    },
    {
      "cell_type": "code",
      "execution_count": null,
      "metadata": {
        "id": "Lo1q5UIgxGmf"
      },
      "outputs": [],
      "source": [
        "# This is the same thing as:\n",
        "def square(x):\n",
        "  return x * x\n",
        "\n",
        "print(square(5))"
      ]
    },
    {
      "cell_type": "code",
      "execution_count": null,
      "metadata": {
        "id": "xTskXA5JsNd7"
      },
      "outputs": [],
      "source": [
        "# We could also assign the lambda function a name, then call it like a regular function.\n",
        "square = lambda x: x*x\n",
        "\n",
        "print(square(5))\n",
        "print(square(10))"
      ]
    },
    {
      "attachments": {},
      "cell_type": "markdown",
      "metadata": {},
      "source": [
        "Note how a `lambda` function has an implicit return statement. That means we never need to include the keyword `return` in the function body. The result of the expression in the `lambda` function body will be returned automatically.\n",
        "\n",
        "Why would you ever need to create a lambda function? Let's first read about three few higher-order functions, `filter()`, `map()`, and `reduce()`.\n",
        "\n",
        "These functions work on collections of items, such as sets, lists, and tuples. Instead of iteratively looping through each item in the collection, one-by-one, `filter`, `map`, and `reduce` can potentially work on collections in parallel. Learning to use these functions enables programmers to write code that is more conducive to building parallel and massively distributed systems. (Note: Most Python implementations do not actually perform operations in parallel when using `filter`, `map`, and `reduce`. However, learning to use these functional programming style functions will help you think about building code that could run in parallel.)"
      ]
    },
    {
      "attachments": {},
      "cell_type": "markdown",
      "metadata": {
        "id": "np12jYYBrthB"
      },
      "source": [
        "## Filter\n",
        "\n",
        "`filter(predicate, iterable)`\n",
        "\n",
        "Python has a built-in function called `filter` that takes a predicate function and an [iterable](https://docs.python.org/3/glossary.html#term-iterable), then returns an [iterator](https://docs.python.org/3/glossary.html#term-iterator) yielding only those items in the iterable for which the predicate is true.\n",
        "\n",
        "Recall that a **predicate** is a function that returns True or False.\n",
        "\n",
        "An **iterable** is an object capable of returning its members one at a time [\\[1\\]](https://docs.python.org/3/glossary.html#term-iterable). Examples of **iterables** include all sequence types (such as list, str, and tuple) and some non-sequence types like dict.\n",
        "\n",
        "This example shows how the `filter` function can be used to \"filter out\" everything in a list of numbers that matches a given predicate."
      ]
    },
    {
      "cell_type": "code",
      "execution_count": null,
      "metadata": {
        "id": "AlU607Joru5M"
      },
      "outputs": [],
      "source": [
        "# Show how filter works\n",
        "\n",
        "nums = [1,2,3,4,5]  # this list is an iterable\n",
        "\n",
        "# Find everything greater than 2\n",
        "result = list(filter(lambda x: x > 2, nums)) # The predicate here is a lambda function that returns True if x > 2\n",
        "print(result)"
      ]
    },
    {
      "attachments": {},
      "cell_type": "markdown",
      "metadata": {},
      "source": [
        "The predicate in the above example is the anonymous `lambda` function that takes a single argument and returns True if that argument is greater than 2.\n",
        "\n",
        "    lambda x: x > 2\n",
        "\n",
        "Notice how the `filter` function above is wrapped in a `list()`. This is because the `filter` function returns an iterator of all the elements from the original list for which the predicate is True. One way to extract the elements in the iterator is to convert it to a `list`. \n",
        "\n",
        "Another way to extract the elements of the iterator is to use the iterable \"unpacking\" operator, denoted by a single `*`. The unpacking operator expands an iterable into a sequence of items, which are included in a new tuple, list, or set.  \n",
        "\n",
        "Here is the same example, using the unpacking operator to extract the filter iterator into a list."
      ]
    },
    {
      "cell_type": "code",
      "execution_count": null,
      "metadata": {},
      "outputs": [],
      "source": [
        "# Show how filter works\n",
        "nums = [1,2,3,4,5]  # this list is an iterable\n",
        "\n",
        "# Find everything greater than 2\n",
        "result = [*filter(lambda x: x > 2, nums)] # The predicate here is a lambda function that returns True if x > 2\n",
        "print(result)"
      ]
    },
    {
      "attachments": {},
      "cell_type": "markdown",
      "metadata": {},
      "source": [
        "### You try it"
      ]
    },
    {
      "attachments": {},
      "cell_type": "markdown",
      "metadata": {},
      "source": [
        "Use the filter function and a lambda predicate function to find all values in this list that are multiples of 5.\n",
        "\n",
        "    nums = [*range(1,100,3)]"
      ]
    },
    {
      "cell_type": "code",
      "execution_count": null,
      "metadata": {},
      "outputs": [],
      "source": [
        "# Your code here"
      ]
    },
    {
      "cell_type": "code",
      "execution_count": null,
      "metadata": {},
      "outputs": [],
      "source": [
        "#@title Sample Solution: {display-mode: \"form\"}\n",
        "nums = [*range(1, 100, 3)]\n",
        "\n",
        "result = [*filter(lambda x: x % 5 == 0, nums)] # The predicate here is a lambda function that returns True if x is a multiple of 5\n",
        "print(result)\n"
      ]
    },
    {
      "attachments": {},
      "cell_type": "markdown",
      "metadata": {
        "id": "4cbdi4FlrdjH"
      },
      "source": [
        "## Map\n",
        "\n",
        "`map(function, iterable, *iterables)`\n",
        "\n",
        "Python has a built-in function called `map()` that takes a function and an [iterable](https://docs.python.org/3/glossary.html#term-iterable), or iterables, then returns an [iterator](https://docs.python.org/3/glossary.html#term-iterator) that computes the function using each item in the original iterables as arguments.\n",
        "\n",
        "In other words, `map()` does something to each item in a list and returns a new list. (It is not completely accurate to say that `map` returns a list. Just like `filter()`, `map()` returns an iterator, which we can then \"unpack\" into a list).\n",
        "\n",
        "For example, `map()` can be used to double each number in a list of numbers. Study the following code block, then run it to see what happens."
      ]
    },
    {
      "cell_type": "code",
      "execution_count": null,
      "metadata": {
        "id": "QFeIK6csrfVf"
      },
      "outputs": [],
      "source": [
        "# Show how map works\n",
        "nums = [1,2,3,4,5]\n",
        "\n",
        "# Double each number in the list\n",
        "result = [*map(lambda x: 2 * x, nums)]\n",
        "\n",
        "print(result)"
      ]
    },
    {
      "attachments": {},
      "cell_type": "markdown",
      "metadata": {},
      "source": [
        "Notice how `map()` takes a function as its first argument and a list as its second argument, then applies that function to each item in the list, returning a new list. (More accurately, `map()` returns an iterator to a sequence of numbers, then we can use the unpacking operator to extract each of the numbers and store them in a list.)\n",
        "\n",
        "Here are a few more examples of using `map()` to do something to each item in a sequence. Try running each example, then modify them to see what happens."
      ]
    },
    {
      "cell_type": "code",
      "execution_count": null,
      "metadata": {
        "id": "2t98mZQoNbIS"
      },
      "outputs": [],
      "source": [
        "# Do something else with each number in the list. What is it doing?\n",
        "result = [*map(lambda x: 3*x - 1, nums)]\n",
        "print(result)"
      ]
    },
    {
      "attachments": {},
      "cell_type": "markdown",
      "metadata": {},
      "source": [
        "This next example shows how `map()` can take multiple iterables and perform the function on each of them."
      ]
    },
    {
      "cell_type": "code",
      "execution_count": null,
      "metadata": {},
      "outputs": [],
      "source": [
        "# Add two lists together, item-by-item\n",
        "sequence_a = [1, 2, 3, 4,  5,  6]\n",
        "sequence_b = [7, 8, 9, 10, 11, 12]\n",
        "result = [*map(lambda a, b: a + b, sequence_a, sequence_b)]\n",
        "print(result)"
      ]
    },
    {
      "attachments": {},
      "cell_type": "markdown",
      "metadata": {},
      "source": [
        "Here's another example, with a completely different application than the previous examples."
      ]
    },
    {
      "cell_type": "code",
      "execution_count": null,
      "metadata": {},
      "outputs": [],
      "source": [
        "# Create a list containing the length of each word\n",
        "words = [\"apple\", \"banana\", \"orange\", \"grape\", \"kiwi\", \"pineapple\", \"watermelon\", \"strawberry\"]\n",
        "\n",
        "result = [*map(lambda word: len(word), words)]\n",
        "print(result)"
      ]
    },
    {
      "attachments": {},
      "cell_type": "markdown",
      "metadata": {
        "id": "K_t-R5pj_0v2"
      },
      "source": [
        "### You try it"
      ]
    },
    {
      "attachments": {},
      "cell_type": "markdown",
      "metadata": {
        "id": "syAaMWKl_0v2"
      },
      "source": [
        "Use `map()` and a `lambda` function to convert the following list of strings to uppercase:\n",
        "\n",
        "['apple', 'banana', 'cherry', 'date']"
      ]
    },
    {
      "cell_type": "code",
      "execution_count": null,
      "metadata": {},
      "outputs": [],
      "source": [
        "# Your code here"
      ]
    },
    {
      "cell_type": "code",
      "execution_count": null,
      "metadata": {
        "id": "J6XACR-K_0v2"
      },
      "outputs": [],
      "source": [
        "#@title Sample Solution: {display-mode: \"form\"}\n",
        "\n",
        "fruits = ['apple', 'banana', 'cherry', 'date']\n",
        "\n",
        "# Convert to uppercase using map\n",
        "[*map(lambda fruit: fruit.upper(), fruits)]"
      ]
    },
    {
      "attachments": {},
      "cell_type": "markdown",
      "metadata": {
        "id": "CZK_anhEpD4B"
      },
      "source": [
        "## Reduce\n",
        "\n",
        "`functools.reduce(function, iterable[, initializer])`\n",
        "\n",
        "Python has a function called `reduce()` in the `itertools` module. The `reduce()` function takes a function, an [iterable](https://docs.python.org/3/glossary.html#term-iterable), and an optional initializer value, then applies the function cumulatively to the items of the sequence, from left to right, so as to reduce the sequence to a single value.\n",
        "\n",
        "For example, `reduce(lambda x, y: x+y, [1, 2, 3, 4, 5])` calculates `((((1+2)+3)+4)+5)`. If an optional initial value is present, it is placed before the items of the sequence in the calculation, and serves as a default when the sequence is empty.\n",
        "\n",
        "Let's first look at an example that does not use `reduce()`, then we'll look at how to do the same thing using `reduce()`."
      ]
    },
    {
      "cell_type": "code",
      "execution_count": null,
      "metadata": {
        "id": "czBWMzTJpF-7"
      },
      "outputs": [],
      "source": [
        "# Add a sequence of numbers without using reduce\n",
        "nums = [1,2,3,4,5]\n",
        "\n",
        "# Using a loop\n",
        "result = 0\n",
        "for x in nums:\n",
        "  result += x\n",
        "\n",
        "print(result)"
      ]
    },
    {
      "attachments": {},
      "cell_type": "markdown",
      "metadata": {},
      "source": [
        "This is how we could accomplish the same thing, adding a list of numbers together, using `reduce()`:"
      ]
    },
    {
      "cell_type": "code",
      "execution_count": null,
      "metadata": {
        "id": "VzT3gVnwN9Jx"
      },
      "outputs": [],
      "source": [
        "# Add a sequence of numbers using reduce\n",
        "from functools import reduce\n",
        "nums = [1,2,3,4,5]\n",
        "\n",
        "result = reduce(lambda a, b: a + b, nums) # (((((0 + 1) + 2) + 3) + 4) + 5) = 15\n",
        "print(result)"
      ]
    },
    {
      "attachments": {},
      "cell_type": "markdown",
      "metadata": {},
      "source": [
        "This next example does the same thing, but instead of starting the addition at 0, it starts at 10."
      ]
    },
    {
      "cell_type": "code",
      "execution_count": null,
      "metadata": {},
      "outputs": [],
      "source": [
        "# Add a sequence of numbers, using an initial starting value of 10\n",
        "nums = [1,2,3,4,5]\n",
        "result = reduce(lambda a, b: a + b, nums, 10) # (((((10 + 1) + 2) + 3) + 4) + 5) = 15\n",
        "print(result)"
      ]
    },
    {
      "attachments": {},
      "cell_type": "markdown",
      "metadata": {},
      "source": [
        "Here's another example of using `reduce()`, to combine items in a list."
      ]
    },
    {
      "cell_type": "code",
      "execution_count": null,
      "metadata": {
        "id": "LSCMFiJJOLld"
      },
      "outputs": [],
      "source": [
        "# Combine items in a list\n",
        "bits = ['0', '0', '1', '1', '0']\n",
        "result = reduce(lambda a,b: a + ' ' + b, bits)\n",
        "print(result)\n",
        "\n",
        "# We can also use the string.join method:\n",
        "result = ' '.join(bits)\n",
        "print(result)"
      ]
    },
    {
      "attachments": {},
      "cell_type": "markdown",
      "metadata": {},
      "source": [
        "This next example will find the maximum value in a sequence of numbers."
      ]
    },
    {
      "cell_type": "code",
      "execution_count": null,
      "metadata": {
        "id": "QtCV7B3LPIsc"
      },
      "outputs": [],
      "source": [
        "# Find the maximum value in a sequence\n",
        "nums = [5,3,2,6,9,10,1,0,4]\n",
        "result = reduce(lambda a,b: a if a > b else b, nums)\n",
        "print(result)"
      ]
    },
    {
      "attachments": {},
      "cell_type": "markdown",
      "metadata": {
        "id": "syw8es-8_0v5"
      },
      "source": [
        "### More on `lambda` functions"
      ]
    },
    {
      "attachments": {},
      "cell_type": "markdown",
      "metadata": {
        "id": "wgGVkzm8_0v5"
      },
      "source": [
        "The real power of lambda functions comes when we need to pass a function as an argument to another function, or return a function as the result of another function. For example, the builtin Python function `filter` takes two arguments. The first argument is a *function* that represents a property or *predicate* returning `True` or `False`. The second argument is an iterable, such as a list or set. The `filter` function will return an iterator containing only those items from the original  that match the predicate.\n",
        "\n",
        "Here is an example of using `filter` and a `lambda` function to select only those items in the list `s` that are multiples of 3."
      ]
    },
    {
      "cell_type": "code",
      "execution_count": null,
      "metadata": {
        "id": "P_MX-JmV_0v5"
      },
      "outputs": [],
      "source": [
        "s = [1,2,3,4,5,6,7,8,9,10,11,12,13,14,15]\n",
        "result = filter(lambda x: not x%3, s)\n",
        "print(result) # prints an iterator"
      ]
    },
    {
      "attachments": {},
      "cell_type": "markdown",
      "metadata": {
        "id": "lV21jTBa_0v5"
      },
      "source": [
        "Notice that we can extract the results from the `filter` function by using the `unpacking` operator `*`."
      ]
    },
    {
      "cell_type": "code",
      "execution_count": null,
      "metadata": {
        "id": "Gc512_dL_0v5"
      },
      "outputs": [],
      "source": [
        "print(*result) # unpack the elements in the filter object"
      ]
    },
    {
      "attachments": {},
      "cell_type": "markdown",
      "metadata": {
        "id": "0p-luroT_0v5"
      },
      "source": [
        "We can use the `unpacking` operator to extract from the `filter` iterator directly:"
      ]
    },
    {
      "cell_type": "code",
      "execution_count": null,
      "metadata": {
        "id": "B0F-xf8x_0v5"
      },
      "outputs": [],
      "source": [
        "s = [1,2,3,4,5,6,7,8,9,10,11,12,13,14,15]\n",
        "result = [*filter(lambda x: not x%3, s)]\n",
        "print(result)"
      ]
    },
    {
      "attachments": {},
      "cell_type": "markdown",
      "metadata": {
        "id": "jV-NsDVi_0v6"
      },
      "source": [
        "#### You try it:"
      ]
    },
    {
      "attachments": {},
      "cell_type": "markdown",
      "metadata": {
        "id": "J31RrcH7_0v6"
      },
      "source": [
        "Use `filter` and `lambda` to find all multiples of 3 **or** 7 up to 100"
      ]
    },
    {
      "cell_type": "code",
      "execution_count": null,
      "metadata": {},
      "outputs": [],
      "source": [
        "# Your code here"
      ]
    },
    {
      "cell_type": "code",
      "execution_count": null,
      "metadata": {
        "id": "3K1kcYt0_0v6"
      },
      "outputs": [],
      "source": [
        "#@title Sample Solution: {display-mode: \"form\"}\n",
        "\n",
        "# Find all multiples of 3 or 7 up to 100\n",
        "result = [*filter(lambda x: not x%3 or not x%7, range(100))]\n",
        "print(result)"
      ]
    },
    {
      "attachments": {},
      "cell_type": "markdown",
      "metadata": {
        "id": "ZzM_4fp-_0v6"
      },
      "source": [
        "Use `filter` and `lambda` to find all multiples of 3 **and** 7 up to 100"
      ]
    },
    {
      "cell_type": "code",
      "execution_count": null,
      "metadata": {},
      "outputs": [],
      "source": [
        "# Your code here"
      ]
    },
    {
      "cell_type": "code",
      "execution_count": null,
      "metadata": {
        "id": "GyFQBZUw_0v6"
      },
      "outputs": [],
      "source": [
        "#@title Sample Solution: {display-mode: \"form\"}\n",
        "\n",
        "# Find all multiples of 3 and 7 up to 100\n",
        "result = [*filter(lambda x: not x%3 and not x%7, range(100))]\n",
        "print(result)"
      ]
    }
  ],
  "metadata": {
    "colab": {
      "collapsed_sections": [
        "x3jDo0XI-xop",
        "inPz8IXf-z7k",
        "mvprI7h9v7Lc",
        "LuohlTdm_0vq",
        "xPc5hOI5_0vr",
        "oqCev_cu-2dt",
        "PaMZKJiZ9CsP",
        "dkjJbtXE9vg3",
        "pHJU08e_W9fh",
        "wxusHNI5xRlT",
        "KkNF2I_IxbU_",
        "fEsvdcaTx3d_",
        "xwLsYNdu_0v0",
        "_KOBm1N4_0v0",
        "xq1PLyAr_0v0",
        "YJODv_0zw4gH",
        "4cbdi4FlrdjH",
        "K_t-R5pj_0v2",
        "ypsMPVZt_0v2",
        "pypw3dCnAE2c",
        "np12jYYBrthB",
        "CZK_anhEpD4B",
        "syw8es-8_0v5",
        "jV-NsDVi_0v6",
        "vJRRHkPL_0v6",
        "1FP7Mppj_0v6"
      ],
      "provenance": []
    },
    "kernelspec": {
      "display_name": ".env",
      "language": "python",
      "name": "python3"
    },
    "language_info": {
      "codemirror_mode": {
        "name": "ipython",
        "version": 3
      },
      "file_extension": ".py",
      "mimetype": "text/x-python",
      "name": "python",
      "nbconvert_exporter": "python",
      "pygments_lexer": "ipython3",
      "version": "3.9.0"
    },
    "vscode": {
      "interpreter": {
        "hash": "1977c1262a5a71e57f8e1e2a9337f4268800bf2d1a595fc1ecb322ccb8b2351d"
      }
    }
  },
  "nbformat": 4,
  "nbformat_minor": 0
}
