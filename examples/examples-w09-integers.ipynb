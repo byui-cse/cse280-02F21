{
    "cells": [
        {
            "attachments": {},
            "cell_type": "markdown",
            "metadata": {
                "id": "k5lqHI-sggvz"
            },
            "source": [
                "# Number Theory"
            ]
        },
        {
            "attachments": {},
            "cell_type": "markdown",
            "metadata": {
                "id": "1xpThXl1gjpg"
            },
            "source": [
                "## Division Theorem"
            ]
        },
        {
            "cell_type": "code",
            "execution_count": null,
            "metadata": {
                "id": "gsLVKalGglWP"
            },
            "outputs": [],
            "source": [
                "# Does d evenly divide n?\n",
                "\n",
                "d_divides_n = lambda d,n: n % d == 0\n",
                "\n",
                "print(d_divides_n(3,12))\n",
                "print(d_divides_n(3,13))\n",
                "print(d_divides_n(13,52))\n",
                "print(d_divides_n(14,58))\n"
            ]
        },
        {
            "cell_type": "code",
            "execution_count": null,
            "metadata": {
                "id": "L557BO-LhQ6n"
            },
            "outputs": [],
            "source": [
                "# What about for any n?\n",
                "\n",
                "# Let's try is with some random number n\n",
                "n = 392412123\n",
                "print(d_divides_n(1,n))\n",
                "print(d_divides_n(n,n))\n",
                "print(d_divides_n(n,0))\n",
                "print(d_divides_n(0,n))"
            ]
        },
        {
            "attachments": {},
            "cell_type": "markdown",
            "metadata": {
                "id": "YYhcdAq13jfd"
            },
            "source": [
                "What are $q$ and $r$ when $-11$ is divided by $3$?"
            ]
        },
        {
            "cell_type": "code",
            "execution_count": null,
            "metadata": {
                "id": "ZQ3ebjWAgcn3"
            },
            "outputs": [],
            "source": [
                "from math import floor\n",
                "n = -11\n",
                "d = 3\n",
                "q = floor(-11 / 3)\n",
                "r = n - d*q\n",
                "\n",
                "print(q)\n",
                "print(r)"
            ]
        },
        {
            "attachments": {},
            "cell_type": "markdown",
            "metadata": {},
            "source": [
                "Python floor or integer division"
            ]
        },
        {
            "cell_type": "code",
            "execution_count": null,
            "metadata": {},
            "outputs": [],
            "source": [
                "-11 // 3"
            ]
        },
        {
            "attachments": {},
            "cell_type": "markdown",
            "metadata": {},
            "source": [
                "Python modulo division"
            ]
        },
        {
            "cell_type": "code",
            "execution_count": null,
            "metadata": {},
            "outputs": [],
            "source": [
                "-11 % 3"
            ]
        },
        {
            "attachments": {},
            "cell_type": "markdown",
            "metadata": {},
            "source": [
                "## Procedural version of the Division Algorithm"
            ]
        },
        {
            "attachments": {},
            "cell_type": "markdown",
            "metadata": {},
            "source": [
                "Subtract $d$ from $n$ until the result is less than $d$. The number of times the subtraction was performed is $q$. The remaining number is $r$.\n",
                "\n",
                "Try it with these:"
            ]
        },
        {
            "attachments": {},
            "cell_type": "markdown",
            "metadata": {},
            "source": [
                "$n = 29, d=7$\n",
                "\n",
                "$n = -29, d=7$\n",
                "\n",
                "$n=58, d=9$ \n",
                "\n",
                "$n=-58, d=9$ \n"
            ]
        },
        {
            "cell_type": "code",
            "execution_count": null,
            "metadata": {},
            "outputs": [],
            "source": [
                "29 - 7"
            ]
        },
        {
            "cell_type": "code",
            "execution_count": null,
            "metadata": {},
            "outputs": [],
            "source": [
                "# the _ in a jupyter notebook is \"the previous result\"\n",
                "\n",
                "_ - 7"
            ]
        },
        {
            "cell_type": "code",
            "execution_count": null,
            "metadata": {},
            "outputs": [],
            "source": [
                "(-58 // 9, -58 % 9)"
            ]
        },
        {
            "attachments": {},
            "cell_type": "markdown",
            "metadata": {},
            "source": [
                "# Integer Division\n",
                "\n",
                "How is integer division performed in Python? \n",
                "\n",
                "Write a function that takes two numbers $a$ and $b$, then return the quotient and remainder.\n"
            ]
        },
        {
            "cell_type": "code",
            "execution_count": null,
            "metadata": {},
            "outputs": [],
            "source": [
                "# Define a function to perform integer division, \n",
                "# returning an integer and a remainder.\n",
                "integer_division = lambda a,b: (a//b, a%b)\n",
                "\n",
                "result = integer_division(9,4)\n",
                "print(f'{result[0]}r{result[1]}')\n"
            ]
        },
        {
            "attachments": {},
            "cell_type": "markdown",
            "metadata": {},
            "source": [
                "## Linear Combinations"
            ]
        },
        {
            "attachments": {},
            "cell_type": "markdown",
            "metadata": {},
            "source": [
                "If a number $x$ divides two different numbers, $y$ and $z$, then $x$ divides *any* linear combination of $y$ and $z$."
            ]
        },
        {
            "attachments": {},
            "cell_type": "markdown",
            "metadata": {},
            "source": [
                "### Theorem 9.1.1"
            ]
        },
        {
            "attachments": {},
            "cell_type": "markdown",
            "metadata": {},
            "source": [
                "Let $x$, $y$, and $z$ be integers. If $x|y$ and $x|z$, then $x|(sy + tz)$ for any integers $s$ and $t$.\n",
                "\n"
            ]
        },
        {
            "attachments": {},
            "cell_type": "markdown",
            "metadata": {},
            "source": [
                "Using quantifiers:\n",
                "\n",
                "Let $x$, $y$, $z$, $s$, and $t$ be integers.  $\\forall s \\forall t ((x|y \\wedge x|z) \\rightarrow (x | (s*y + t*z))$"
            ]
        },
        {
            "attachments": {},
            "cell_type": "markdown",
            "metadata": {},
            "source": [
                "Let's use Python to get a feel for this theorem."
            ]
        },
        {
            "attachments": {},
            "cell_type": "markdown",
            "metadata": {},
            "source": [
                "Pick $x=5$. Now let's choose two numbers, $y$ and $z$ that are both multiples of $x$.\n",
                "\n",
                "How about $y=15$ and $z=35$."
            ]
        },
        {
            "attachments": {},
            "cell_type": "markdown",
            "metadata": {},
            "source": [
                "Is the first part of the conditional true? \n",
                "\n",
                "Does $x|y$ and $x|z$?"
            ]
        },
        {
            "attachments": {},
            "cell_type": "markdown",
            "metadata": {},
            "source": [
                "A linear combination of $y$ and $z$ would look like this:\n",
                "\n",
                "$s*y + t*z$\n",
                "\n",
                "Using our values for $y$ and $z$, we get:\n",
                "\n",
                "$s*15 + t*35$"
            ]
        },
        {
            "attachments": {},
            "cell_type": "markdown",
            "metadata": {},
            "source": [
                "The theorem says that for **any** $s$ and $t$, the result of this equation will be a multiple of $5$.\n",
                "\n",
                "$\\forall s \\forall t ((5|15 \\wedge 5|35) \\rightarrow (5 | (s*15 + t*35))$"
            ]
        },
        {
            "attachments": {},
            "cell_type": "markdown",
            "metadata": {},
            "source": [
                "Let's play with some different values for $s$ and $t$ and see if the result is a multiple of 5. In other words, does 5 divide all linear combinations of $15$ and $35$?"
            ]
        },
        {
            "cell_type": "code",
            "execution_count": null,
            "metadata": {},
            "outputs": [],
            "source": [
                "x = 5\n",
                "y = 15\n",
                "z = 35\n",
                "\n",
                "s = 7\n",
                "t = 26\n",
                "s*y + t*z"
            ]
        },
        {
            "attachments": {},
            "cell_type": "markdown",
            "metadata": {},
            "source": [
                "How do we know if something is a multiple of 5 in Python?"
            ]
        },
        {
            "cell_type": "code",
            "execution_count": null,
            "metadata": {},
            "outputs": [],
            "source": [
                "# Use the modulo operator\n",
                "(s*y + t*z) % 5  # results in 0 if it is a multiple of 5"
            ]
        },
        {
            "cell_type": "code",
            "execution_count": null,
            "metadata": {},
            "outputs": [],
            "source": [
                "# plug in some different values for s and t\n",
                "(89*y + 15*z) % 5 "
            ]
        },
        {
            "attachments": {},
            "cell_type": "markdown",
            "metadata": {},
            "source": [
                "Let's use a list comprehension and lamda to test it for 40000 different values of s and t. Do they all result in a multiple of 5?"
            ]
        },
        {
            "cell_type": "code",
            "execution_count": null,
            "metadata": {},
            "outputs": [],
            "source": [
                "all(map(lambda x: (x[0]*15 + x[1]*35) % 5 == 0, [(s,t) for s in range(-100, 100) for t in range(-100, 100)]))"
            ]
        },
        {
            "attachments": {},
            "cell_type": "markdown",
            "metadata": {
                "id": "AzesZl9RM5sC"
            },
            "source": [
                "## Congruences"
            ]
        },
        {
            "attachments": {},
            "cell_type": "markdown",
            "metadata": {
                "id": "BEQiqXE7M-Fv"
            },
            "source": [
                "### Demonstrate modulo in Python"
            ]
        },
        {
            "attachments": {},
            "cell_type": "markdown",
            "metadata": {
                "id": "ebeaQZXBN3DU"
            },
            "source": [
                "#### Show 19 and 37 are congruent modulo 9:"
            ]
        },
        {
            "cell_type": "code",
            "execution_count": null,
            "metadata": {
                "id": "NMi3fbA5N54k"
            },
            "outputs": [],
            "source": [
                "a = 19\n",
                "b = 37\n",
                "m = 9\n",
                "\n",
                "print(a % m)\n",
                "print(b % m)\n",
                "print(a % m == b % m)"
            ]
        },
        {
            "cell_type": "code",
            "execution_count": null,
            "metadata": {
                "id": "AQbQ2hUZOBHa"
            },
            "outputs": [],
            "source": [
                "# can also do this:\n",
                "print((a - b) % m == 0)\n",
                "print((b - a) % m == 0)"
            ]
        },
        {
            "attachments": {},
            "cell_type": "markdown",
            "metadata": {
                "id": "OJFAjQF0GR_e"
            },
            "source": [
                "In other words, is the *difference* between $a$ and $b$ a multiple of 9? If it is, then they are congruent modulo 9."
            ]
        },
        {
            "attachments": {},
            "cell_type": "markdown",
            "metadata": {
                "id": "32-S3hmMNESI"
            },
            "source": [
                "##### Show that each item in this list is congruent modulo 9\n",
                "\n",
                "[-17, -8, 1, 10, 19, 28, 37]\n"
            ]
        },
        {
            "cell_type": "code",
            "execution_count": null,
            "metadata": {
                "id": "ALiQsdw4NZzd"
            },
            "outputs": [],
            "source": [
                "A = [-17, -8, 1, 10, 19, 28, 37]\n",
                "m = 9\n",
                "\n",
                "for a in A:\n",
                "  print(a % m)"
            ]
        },
        {
            "cell_type": "code",
            "execution_count": null,
            "metadata": {
                "id": "r04iouxcO2JM"
            },
            "outputs": [],
            "source": [
                "# Using map:\n",
                "remainder = A[0] % m\n",
                "[*map(lambda a: a % m == remainder, A)]"
            ]
        },
        {
            "cell_type": "code",
            "execution_count": null,
            "metadata": {
                "id": "ohry2iBcG7FE"
            },
            "outputs": [],
            "source": [
                "# Using filter\n",
                "[*filter(lambda a: a % m == remainder, A)]"
            ]
        },
        {
            "cell_type": "code",
            "execution_count": null,
            "metadata": {
                "id": "F5OTnExgPsY-"
            },
            "outputs": [],
            "source": [
                "# Using reduce\n",
                "from functools import reduce\n",
                "reduce(lambda a,b: a if a%m == b%m else b, A) == A[0]\n"
            ]
        },
        {
            "attachments": {},
            "cell_type": "markdown",
            "metadata": {
                "id": "vHMpCGGOQWzr"
            },
            "source": [
                "##### Generate the equivalence class for 3 if the relation is congruent modulo 5\n",
                "\n",
                "$ [3]_5 = {?} $\n"
            ]
        },
        {
            "cell_type": "code",
            "execution_count": null,
            "metadata": {},
            "outputs": [],
            "source": [
                "# Using a list comprehension\n",
                "[x for x in range(-20,21) if x%5 == 3]"
            ]
        },
        {
            "cell_type": "code",
            "execution_count": null,
            "metadata": {
                "id": "6_ViiObrQl6m"
            },
            "outputs": [],
            "source": [
                "m = 5\n",
                "a = 3\n",
                "for b in range(-20,21):\n",
                "  if b % m == a % m:\n",
                "    print(b)"
            ]
        },
        {
            "cell_type": "code",
            "execution_count": null,
            "metadata": {
                "id": "elGCFynMTtaq"
            },
            "outputs": [],
            "source": [
                "# Using filter\n",
                "a = 3\n",
                "m = 5\n",
                "A = range(-20,21)\n",
                "[*filter(lambda b: b % m == a % m, A)]"
            ]
        },
        {
            "cell_type": "code",
            "execution_count": null,
            "metadata": {
                "id": "4qI2bjUctR3F"
            },
            "outputs": [],
            "source": [
                "def p(b):\n",
                "  return b%m == a%m\n",
                "\n",
                "[*filter(p, A)]\n",
                "\n"
            ]
        },
        {
            "attachments": {},
            "cell_type": "markdown",
            "metadata": {},
            "source": [
                "## Pseudo-random number generator using congruence"
            ]
        },
        {
            "attachments": {},
            "cell_type": "markdown",
            "metadata": {},
            "source": [
                "One of the common ways  to generate pseudo-random numbers is by using a linear congruential generator (LCG). This generator is a recurrence relation defined as:\n",
                "\n",
                "$X_{n+1} = (aX_n + c) \\bmod m$\n",
                "\n",
                "The values for $a$, $c$, and $m$ must be chosen carefully.\n",
                "\n",
                "For more reading, see [Linear congruential generator](https://en.wikipedia.org/wiki/Linear_congruential_generator) on Wikipedia."
            ]
        },
        {
            "attachments": {},
            "cell_type": "markdown",
            "metadata": {},
            "source": [
                "We can implement the LCG using a recursive function to calculate the nth random number in the sequence."
            ]
        },
        {
            "cell_type": "code",
            "execution_count": null,
            "metadata": {},
            "outputs": [],
            "source": [
                "# Using a recursive function to implement the recurrence relation:\n",
                "def gen_random(n, seed=0, m=32, a=17, c=19):\n",
                "    if n == 0:\n",
                "        return (a*seed + c) % m\n",
                "    else:\n",
                "        return (a*gen_random(n=n-1) + c) % m\n",
                "\n",
                "# Generate the first 16 random numbers\n",
                "[gen_random(x) for x in range(16)]"
            ]
        },
        {
            "attachments": {},
            "cell_type": "markdown",
            "metadata": {},
            "source": [
                "A better way is to use the Python `yield` keyword to create a `generator` function, which will calculate one result at a time."
            ]
        },
        {
            "cell_type": "code",
            "execution_count": null,
            "metadata": {},
            "outputs": [],
            "source": [
                "# Define a random number generator\n",
                "def gen_random(seed=0, m=32, a=17, c=19):\n",
                "    while True:\n",
                "        seed = (a * seed + c) % m\n",
                "        yield seed"
            ]
        },
        {
            "cell_type": "code",
            "execution_count": null,
            "metadata": {},
            "outputs": [],
            "source": [
                "# initialize the generator\n",
                "r = gen_random(seed=0)"
            ]
        },
        {
            "cell_type": "code",
            "execution_count": null,
            "metadata": {},
            "outputs": [],
            "source": [
                "# generate 64 random numbers\n",
                "print([next(r) for x in range(64)])"
            ]
        },
        {
            "cell_type": "code",
            "execution_count": null,
            "metadata": {},
            "outputs": [],
            "source": [
                "# Use a different seed\n",
                "r = gen_random(seed=7)"
            ]
        },
        {
            "cell_type": "code",
            "execution_count": null,
            "metadata": {},
            "outputs": [],
            "source": [
                "# generate 64 random numbers\n",
                "print([next(r) for x in range(64)])"
            ]
        },
        {
            "cell_type": "code",
            "execution_count": null,
            "metadata": {},
            "outputs": [],
            "source": [
                "# try using different parameters for m, a, c\n",
                "r = gen_random(seed=0, m=32, a=1, c=1)\n",
                "print([next(r) for _ in range(64)])"
            ]
        },
        {
            "attachments": {},
            "cell_type": "markdown",
            "metadata": {},
            "source": [
                "See [parameters in common use](https://en.wikipedia.org/wiki/Linear_congruential_generator#Parameters_in_common_use) for a table of common values for m, a, and c.\n",
                "\n",
                "Here is an example of the values used in the Borland C/C++ pseudo-random number generator."
            ]
        },
        {
            "cell_type": "code",
            "execution_count": null,
            "metadata": {},
            "outputs": [],
            "source": [
                "r = gen_random(seed=1, m=2**32, a=22695477, c=1) # Borland C/C++\n",
                "print([next(r) for _ in range(64)])"
            ]
        }
    ],
    "metadata": {
        "colab": {
            "authorship_tag": "ABX9TyOG9WOxbzCs8jZ104xK/E1O",
            "collapsed_sections": [
                "1xpThXl1gjpg",
                "750NdZ94FY2v",
                "C54k5-JjObtg",
                "e2oScCHOFVlX",
                "7Ru-XRyLO9ak",
                "k6O-VRnZCnfg",
                "VmG3vfVNKOMi"
            ],
            "provenance": []
        },
        "kernelspec": {
            "display_name": "Python 3",
            "language": "python",
            "name": "python3"
        },
        "language_info": {
            "codemirror_mode": {
                "name": "ipython",
                "version": 3
            },
            "file_extension": ".py",
            "mimetype": "text/x-python",
            "name": "python",
            "nbconvert_exporter": "python",
            "pygments_lexer": "ipython3",
            "version": "3.9.0"
        },
        "vscode": {
            "interpreter": {
                "hash": "81794d4967e6c3204c66dcd87b604927b115b27c00565d3d43f05ba2f3a2cb0d"
            }
        }
    },
    "nbformat": 4,
    "nbformat_minor": 0
}
