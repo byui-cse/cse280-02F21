{
 "cells": [
  {
   "cell_type": "markdown",
   "metadata": {},
   "source": [
    "## Conditional Probability"
   ]
  },
  {
   "cell_type": "markdown",
   "metadata": {},
   "source": [
    "Let's do 12.3.2 from Additional Exercises in the textbook, using Python.\n",
    "\n",
    "\n",
    "The letters {a, b, c, d, e, f, g} are put in a random order. Each permutation is equally likely. Define the following events:\n",
    "\n",
    "A: The letter b falls in the middle (with three before it and three after it)\n",
    "\n",
    "B: The letter c appears to the right of b, although c is not necessarily immediately to the right of b. For example, \"agbdcef\" would be an outcome in this event.\n",
    "\n",
    "C: The letters \"def\" occur together in that order (e.g. \"gdefbca\")\n",
    "\n",
    "\n",
    "1. Calculate the probability of each individual event. That is, calculate p(A), p(B), and p(C).\n",
    "\n",
    "2. What is p(A|C)?\n",
    "\n",
    "3. What is p(B|C)?\n",
    "\n",
    "4. What is p(A|B)?\n",
    "\n",
    "5. Which pairs of events among A, B, and C are independent?"
   ]
  },
  {
   "cell_type": "code",
   "execution_count": null,
   "metadata": {},
   "outputs": [],
   "source": [
    "letters = {'a','b','c','d','e','f','g'}\n",
    "\n",
    "from itertools import permutations\n",
    "S = permutations(letters)\n",
    "\n",
    "S = list(S)\n",
    "print(f'|S| = {len(S)}')"
   ]
  },
  {
   "cell_type": "markdown",
   "metadata": {},
   "source": [
    "Calculate the probability of each individual event. That is, calculate p(A), p(B), and p(C)."
   ]
  },
  {
   "cell_type": "code",
   "execution_count": null,
   "metadata": {},
   "outputs": [],
   "source": [
    "# First define a function to calculate probablity based on E and S\n",
    "\n",
    "# Define P(E,S) = |E| / |S|\n",
    "P = lambda E,S: len(E) / len(S)"
   ]
  },
  {
   "cell_type": "code",
   "execution_count": null,
   "metadata": {},
   "outputs": [],
   "source": [
    "# First find all the outcomes in A\n",
    "A = {x for x in S if x[3] == 'b'}\n",
    "\n",
    "print(f'P(A): {P(A,S)}')"
   ]
  },
  {
   "cell_type": "code",
   "execution_count": null,
   "metadata": {},
   "outputs": [],
   "source": [
    "# Now find all the outcomes in B\n",
    "B = {x for x in S if x.index('b') < x.index('c')}\n",
    "print(f'P(B): {P(B,S)}')"
   ]
  },
  {
   "cell_type": "code",
   "execution_count": null,
   "metadata": {},
   "outputs": [],
   "source": [
    "# Now find all the outcomes in C\n",
    "C = {x for x in S if 'def' in ''.join(x)}\n",
    "print(f'P(C): {P(C,S)}')"
   ]
  },
  {
   "cell_type": "code",
   "execution_count": null,
   "metadata": {},
   "outputs": [],
   "source": [
    "# Another way, using filter and lambdas\n",
    "\n",
    "A = {*filter(lambda x: x[3] == 'b', S)}\n",
    "B = {*filter(lambda x: x.index('b') < x.index('c'), S)}\n",
    "C = {*filter(lambda x: 'def' in ''.join(x), S)}\n",
    "\n",
    "print(f'P(A): {P(A,S)}')\n",
    "print(f'P(B): {P(B,S)}')\n",
    "print(f'P(C): {P(C,S)}')"
   ]
  },
  {
   "cell_type": "markdown",
   "metadata": {},
   "source": [
    "What is p(A|C)?\n",
    "\n",
    "Use the conditional probability formula:\n",
    "\n",
    "$P(E|F) = \\frac{P(E\\cap F)}{P(F)} = \\frac{| E \\cap F |}{ |F| }$"
   ]
  },
  {
   "cell_type": "code",
   "execution_count": null,
   "metadata": {},
   "outputs": [],
   "source": [
    "# Find intersection of A and C\n",
    "A_given_C = P(A.intersection(C), C)\n",
    "print(f'P(A|C): {A_given_C}')"
   ]
  },
  {
   "cell_type": "markdown",
   "metadata": {},
   "source": [
    "What is p(B|C)?"
   ]
  },
  {
   "cell_type": "code",
   "execution_count": null,
   "metadata": {},
   "outputs": [],
   "source": [
    "B_given_C = P(B.intersection(C), C)\n",
    "print(f'P(B|C): {B_given_C}')"
   ]
  },
  {
   "cell_type": "markdown",
   "metadata": {},
   "source": [
    "What is p(A|B)?"
   ]
  },
  {
   "cell_type": "code",
   "execution_count": null,
   "metadata": {},
   "outputs": [],
   "source": [
    "A_given_B = P(A.intersection(B), B)\n",
    "print(f'P(A|B): {A_given_B}')"
   ]
  },
  {
   "cell_type": "markdown",
   "metadata": {},
   "source": [
    "Which pairs of events among A, B, and C are independent?"
   ]
  },
  {
   "cell_type": "markdown",
   "metadata": {},
   "source": [
    "## All together"
   ]
  },
  {
   "cell_type": "code",
   "execution_count": null,
   "metadata": {},
   "outputs": [],
   "source": [
    "letters = {'a','b','c','d','e','f','g'}\n",
    "\n",
    "from itertools import permutations\n",
    "S = permutations(letters)\n",
    "\n",
    "S = list(S)\n",
    "print(f'|S| = {len(S)}')\n",
    "\n",
    "# Define P(E,S) = |E| / |S|\n",
    "P = lambda E,S: len(E) / len(S)\n",
    "\n",
    "\n",
    "A = {*filter(lambda x: x[3] == 'b', S)}\n",
    "B = {*filter(lambda x: x.index('b') < x.index('c'), S)}\n",
    "C = {*filter(lambda x: 'def' in ''.join(x), S)}\n",
    "\n",
    "print(f'P(A): {P(A,S)}')\n",
    "print(f'P(B): {P(B,S)}')\n",
    "print(f'P(C): {P(C,S)}')\n",
    "\n",
    "\n",
    "A_given_C = P(A.intersection(C), C)\n",
    "print(f'P(A|C): {A_given_C}')\n",
    "\n",
    "B_given_C = P(B.intersection(C), C)\n",
    "print(f'P(B|C): {B_given_C}')\n",
    "\n",
    "A_given_B = P(A.intersection(B), B)\n",
    "print(f'P(A|B): {A_given_B}')\n",
    "\n",
    "# Which pairs are independent? Just look at the numbers and compare.\n"
   ]
  },
  {
   "cell_type": "markdown",
   "metadata": {},
   "source": [
    "## Expected Value"
   ]
  },
  {
   "cell_type": "code",
   "execution_count": null,
   "metadata": {},
   "outputs": [],
   "source": [
    "expected_value = 2*(1/36)+3*(1/18)+4*(1/12)+5*(1/9)+6*(5/36)+7*(1/6)+8*(5/36)+9*(1/9)+10*(1/12)+11*(1/18)+12*(1/36)\n",
    "print(f'{expected_value:.1f}')\n",
    "\n",
    "\n",
    "expected_value_2 = (1/36)*(2+3+3+4+4+4+5+5+5+5+6+6+6+6+6+7+7+7+7+7+7+8+8+8+8+8+9+9+9+9+10+10+10+11+11+12)\n",
    "print(f'{expected_value_2:.1f}')"
   ]
  }
 ],
 "metadata": {
  "kernelspec": {
   "display_name": "Python 3.9.0 ('.env': venv)",
   "language": "python",
   "name": "python3"
  },
  "language_info": {
   "codemirror_mode": {
    "name": "ipython",
    "version": 3
   },
   "file_extension": ".py",
   "mimetype": "text/x-python",
   "name": "python",
   "nbconvert_exporter": "python",
   "pygments_lexer": "ipython3",
   "version": "3.9.0"
  },
  "orig_nbformat": 4,
  "vscode": {
   "interpreter": {
    "hash": "1977c1262a5a71e57f8e1e2a9337f4268800bf2d1a595fc1ecb322ccb8b2351d"
   }
  }
 },
 "nbformat": 4,
 "nbformat_minor": 2
}
