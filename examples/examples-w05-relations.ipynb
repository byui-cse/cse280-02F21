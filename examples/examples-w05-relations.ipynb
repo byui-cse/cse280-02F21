{
 "cells": [
  {
   "attachments": {},
   "cell_type": "markdown",
   "metadata": {},
   "source": [
    "# Relations"
   ]
  },
  {
   "attachments": {},
   "cell_type": "markdown",
   "metadata": {},
   "source": [
    "We can represent relations in Python using sets of ordered pairs"
   ]
  },
  {
   "cell_type": "code",
   "execution_count": 1,
   "metadata": {},
   "outputs": [],
   "source": [
    "S = {1,2,3,4,5}\n",
    "R1 = {(1,1), (2,2), (3,3), (4,4), (5,5)} \n",
    "R2 = {(1,2), (2,1)}\n",
    "R3 = {(1,2), (2,3), (1,3)}\n",
    "R4 = {(1,2), (2,1), (1,1), (2,2), (3,3), (1,3), (3,1), (3,2), (2,3)}\n",
    "R5 = {(1,1), (2,2), (3,3), (4,4), (5,5), (1,2), (2,1), (1,3), (3,1), (2,3), (3,2)}"
   ]
  },
  {
   "attachments": {},
   "cell_type": "markdown",
   "metadata": {},
   "source": [
    "Let's create a function called `is_reflexive(relation, set)` to determine whether a given relation is reflexive over a set."
   ]
  },
  {
   "cell_type": "code",
   "execution_count": 2,
   "metadata": {},
   "outputs": [
    {
     "name": "stdout",
     "output_type": "stream",
     "text": [
      "True\n",
      "Not reflexive, missing (1, 1)\n",
      "False\n"
     ]
    }
   ],
   "source": [
    "def is_reflexive(relation, S):\n",
    "    # forall x in set, (x,x) is in relation\n",
    "    for x in S:\n",
    "        if not (x,x) in relation:\n",
    "            print(f'Not reflexive, missing {(x,x)}') # this can be helpful to see why a set is not reflexive\n",
    "            return False\n",
    "    return True\n",
    "\n",
    "print(is_reflexive(R1, S)) # True\n",
    "print(is_reflexive(R2, S)) # False"
   ]
  },
  {
   "attachments": {},
   "cell_type": "markdown",
   "metadata": {},
   "source": [
    "Now create functions to determine whether a given relation over a set is symmetric, transitive, and an equivalence relation."
   ]
  },
  {
   "cell_type": "code",
   "execution_count": null,
   "metadata": {},
   "outputs": [],
   "source": [
    "def is_reflexive(relation, S):\n",
    "    pass # Your code here\n",
    "\n",
    "def is_symmetric(relation, S):\n",
    "    pass # Your code here\n",
    "\n",
    "def is_transitive(relation, S):\n",
    "    pass # Your code here\n",
    "\n",
    "def is_equivalence_relation(relation, S):\n",
    "    pass # Your code here\n",
    "\n",
    "\n",
    "# Here is some test code to help. The result should be all True\n",
    "print(is_reflexive(R1, S) == True)\n",
    "print(is_reflexive(R2, S) == False)\n",
    "print(is_symmetric(R2, S) == True)\n",
    "print(is_symmetric(R3, S) == False)\n",
    "print(is_symmetric(R5, S) == True)\n",
    "print(is_transitive(R2, S) == False)\n",
    "print(is_transitive(R3, S) == True)\n",
    "print(is_transitive(R4, S) == True)\n",
    "print(is_transitive(R5, S) == True)\n",
    "print(is_equivalence_relation(R5, S) == True)\n"
   ]
  },
  {
   "attachments": {},
   "cell_type": "markdown",
   "metadata": {},
   "source": [
    "### Sample solution"
   ]
  },
  {
   "cell_type": "code",
   "execution_count": null,
   "metadata": {},
   "outputs": [],
   "source": [
    "def is_reflexive(relation, S):\n",
    "    # forall x in set, (x,x) is in relation\n",
    "    for x in S:\n",
    "        if not (x,x) in relation:\n",
    "            print(f'Not reflexive, missing {(x,x)}')\n",
    "            return False\n",
    "    return True\n",
    "\n",
    "def is_symmetric(relation, S):\n",
    "    # forall (x,y) in relation, (y,x) is also in relation\n",
    "    for x,y in relation:\n",
    "        if not (y,x) in relation:\n",
    "            print(f'Not symmetric, missing {(y,x)}')\n",
    "            return False\n",
    "    return True\n",
    "\n",
    "def is_transitive(relation, S):\n",
    "    # forall (x,y) and (y,z) in relation, (x,z) is also in relation\n",
    "    for x,y in relation:\n",
    "        check = {(y1,z) for (y1,z) in relation if y1 == y}\n",
    "        if len(check) > 0:\n",
    "            for _,z in check:\n",
    "                if not (x,z) in relation:\n",
    "                    print(f'Not transitive, missing {(x,z)}')\n",
    "                    return False\n",
    "    return True\n",
    "\n",
    "def is_equivalence_relation(relation, S):\n",
    "    return (\n",
    "        is_reflexive(relation, S) \n",
    "        and is_symmetric(relation, S) \n",
    "        and is_transitive(relation, S)\n",
    "    )\n",
    "\n",
    "print(is_reflexive(R1, S) == True)\n",
    "print(is_symmetric(R2, S) == True)\n",
    "print(is_symmetric(R5, S) == True)\n",
    "print(is_transitive(R3, S) == True)\n",
    "print(is_transitive(R4, S) == True)\n",
    "print(is_transitive(R5, S) == True)\n",
    "print(is_equivalence_relation(R5, S) == True)\n"
   ]
  },
  {
   "attachments": {},
   "cell_type": "markdown",
   "metadata": {},
   "source": [
    "# Directed graphs"
   ]
  },
  {
   "cell_type": "code",
   "execution_count": null,
   "metadata": {},
   "outputs": [],
   "source": [
    "from graphviz import Source\n",
    "from IPython.display import Image\n",
    "\n",
    "sample_directed_graph = '''\n",
    "digraph {\n",
    "    layout=neato;\n",
    "    label=\"Sample Graph\";\n",
    "    labeljust=l;\n",
    "    labelloc=t;\n",
    "    edge [arrowsize=0.75]; # specifies the arrowhead size\n",
    "    node [shape=circle; fixedsize=true; width=0.30]; # specifies the node size/shape\n",
    "    a->b;\n",
    "    b->a;\n",
    "    a->c;\n",
    "    a->d;\n",
    "    b->c;\n",
    "    d->d;\n",
    "  }\n",
    " '''\n",
    "g = Source(sample_directed_graph, filename='sample_directed_graph', format='png')\n",
    "g.render()\n",
    "Image('sample_directed_graph.png')"
   ]
  },
  {
   "cell_type": "code",
   "execution_count": null,
   "metadata": {},
   "outputs": [],
   "source": [
    "from graphviz import Source\n",
    "from IPython.display import Image\n",
    "\n",
    "g = '''\n",
    "digraph {\n",
    "    layout=neato;\n",
    "    label=\"Sample Graph\";\n",
    "    labeljust=l;\n",
    "    labelloc=t;\n",
    "    edge [arrowsize=0.75; color=red]; # specifies the arrowhead size\n",
    "    node [shape=circle; fixedsize=true; width=0.30]; # specifies the node size/shape\n",
    "    a->b;a->g;a->a;\n",
    "    b->c; b->a;\n",
    "    c->d; c->f; c->g;\n",
    "    d->b;\n",
    "    e->c;\n",
    "    g->e;\n",
    "    f->e;\n",
    "    f->d; d->f;\n",
    "  }\n",
    " '''\n",
    "Source(g)"
   ]
  },
  {
   "cell_type": "markdown",
   "metadata": {},
   "source": [
    "# Transitive Closure"
   ]
  },
  {
   "cell_type": "markdown",
   "metadata": {},
   "source": [
    "The transitive closure of a graph or relation tells us which nodes are reachable from other nodes, no matter the length of the walk. \n",
    "\n",
    "If a graph is stored using a matrix, we can compute the transitive closure by using matrix multiplication.\n",
    "\n",
    "If a graph is stored using ordered pairs, we can compute the transitive closure by finding all the ordered pairs in a that are of the form (x,y) and (y,z), then adding (x,z), continuing the process and adding each new (x,z) until no new pairs are found. \n",
    "\n",
    "Here is an example of how we could do this with Python."
   ]
  },
  {
   "cell_type": "code",
   "execution_count": 8,
   "metadata": {},
   "outputs": [
    {
     "data": {
      "text/plain": [
       "{(1, 2), (1, 3), (1, 4), (2, 3), (2, 4), (3, 4)}"
      ]
     },
     "execution_count": 8,
     "metadata": {},
     "output_type": "execute_result"
    }
   ],
   "source": [
    "A = {(1,2), (2,3), (3,4)}\n",
    "# Note the transitive closure would be {(1,2), (1,3), (1,4), (2,3), (2,4), (3,4)}\n",
    "\n",
    "def transitive_closure(A: set) -> set:\n",
    "    closure = set(A)  # This will store the final closure, which consists of at least all pairs in A\n",
    "    while True: # Loop until we find all pairs in the transitive closure\n",
    "        closure_new_pairs = {(x,z) for (x,y) in closure for (w,z) in closure if w == y}\n",
    "        closure_new_pairs = closure.union(closure_new_pairs) # include all pairs that were already known, plus the new pairs just found\n",
    "        if closure == closure_new_pairs: # No new pairs found, we are done\n",
    "            break\n",
    "        closure = closure_new_pairs\n",
    "            \n",
    "    \n",
    "    return closure\n",
    "        \n",
    "transitive_closure(A)"
   ]
  }
 ],
 "metadata": {
  "kernelspec": {
   "display_name": ".env",
   "language": "python",
   "name": "python3"
  },
  "language_info": {
   "codemirror_mode": {
    "name": "ipython",
    "version": 3
   },
   "file_extension": ".py",
   "mimetype": "text/x-python",
   "name": "python",
   "nbconvert_exporter": "python",
   "pygments_lexer": "ipython3",
   "version": "3.9.0"
  },
  "orig_nbformat": 4,
  "vscode": {
   "interpreter": {
    "hash": "1977c1262a5a71e57f8e1e2a9337f4268800bf2d1a595fc1ecb322ccb8b2351d"
   }
  }
 },
 "nbformat": 4,
 "nbformat_minor": 2
}
