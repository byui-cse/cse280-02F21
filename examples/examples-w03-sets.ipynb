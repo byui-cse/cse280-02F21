{
    "cells": [
        {
            "cell_type": "markdown",
            "metadata": {
                "id": "8La6nkra1IBG"
            },
            "source": [
                "# Sets with Python\n"
            ]
        },
        {
            "cell_type": "markdown",
            "metadata": {
                "id": "eJNy_RAK1IBK"
            },
            "source": [
                "## Set membership"
            ]
        },
        {
            "cell_type": "markdown",
            "metadata": {
                "id": "hZlTX5Q01IBL"
            },
            "source": [
                "Use Python to show membership in a set.\n",
                "\n",
                "Let $A = \\{apple, banana, cherry, date\\}$\n",
                "\n",
                "Are these propositions true?\n",
                "\n",
                "$apple \\in A$\n",
                "\n",
                "$pear \\in A$"
            ]
        },
        {
            "cell_type": "markdown",
            "metadata": {
                "id": "j_fQCSIl1IBL"
            },
            "source": [
                "### In Python"
            ]
        },
        {
            "cell_type": "code",
            "execution_count": null,
            "metadata": {
                "id": "-dpwBOTq1IBM"
            },
            "outputs": [],
            "source": [
                "A = {'apple', 'banana', 'cherry', 'date'}\n",
                "\n",
                "print('apple' in A)\n",
                "print('pear' in A)"
            ]
        },
        {
            "cell_type": "markdown",
            "metadata": {
                "id": "icJ-cPRA1IBN"
            },
            "source": [
                "## Set Builder Notation"
            ]
        },
        {
            "cell_type": "markdown",
            "metadata": {
                "id": "u0onwLw31IBO"
            },
            "source": [
                "What are the members of this set if the domain or universe of discourse is $\\mathbb{Z}$?\n",
                "\n",
                "$A = \\{x: 2 \\lt x \\lt 10 \\}$\n",
                "\n"
            ]
        },
        {
            "cell_type": "markdown",
            "metadata": {
                "id": "ZxjG6wCu1IBP"
            },
            "source": [
                "### In Python:"
            ]
        },
        {
            "cell_type": "code",
            "execution_count": null,
            "metadata": {
                "id": "IxQRbDFI1IBP"
            },
            "outputs": [],
            "source": [
                "# This is called a list comprehension\n",
                "# It works with [] or {} for list or set\n",
                "\n",
                "A = [x for x in range(3,10)]\n",
                "print(A)"
            ]
        },
        {
            "cell_type": "markdown",
            "metadata": {
                "id": "nsMbP-yH1IBQ"
            },
            "source": [
                "What about this set?\n",
                "\n",
                "$A = \\{x: 2 \\lt x \\lt 10 \\texttt{ and } x \\texttt{ is even }  \\}$"
            ]
        },
        {
            "cell_type": "code",
            "execution_count": null,
            "metadata": {
                "id": "Ef1TbkIf1IBR"
            },
            "outputs": [],
            "source": [
                "A = [x for x in range(3,10) if not x%2]\n",
                "print(A)"
            ]
        },
        {
            "cell_type": "markdown",
            "metadata": {
                "id": "lk2rCuVG1IBR"
            },
            "source": [
                "## Cardinality"
            ]
        },
        {
            "cell_type": "markdown",
            "metadata": {
                "id": "dlU3y2Ir1IBR"
            },
            "source": [
                "What is the cardinality of $A = \\{1,2,3,4,5\\}$?"
            ]
        },
        {
            "cell_type": "markdown",
            "metadata": {
                "id": "s3vmaQZ01IBS"
            },
            "source": [
                "### Try it in Python"
            ]
        },
        {
            "cell_type": "code",
            "execution_count": null,
            "metadata": {
                "id": "xAtdWWSg1IBS"
            },
            "outputs": [],
            "source": [
                "A = {1,2,3,4,5}\n",
                "print(A)\n",
                "print(len(A))"
            ]
        },
        {
            "cell_type": "code",
            "execution_count": null,
            "metadata": {
                "id": "lP97U25P1IBT"
            },
            "outputs": [],
            "source": [
                "B = [1,2,3,4,5,5,5,5,5] # What if we use a list?\n",
                "print(B)\n",
                "print(len(B))"
            ]
        },
        {
            "cell_type": "code",
            "execution_count": null,
            "metadata": {
                "id": "F5FeHRXA1IBT"
            },
            "outputs": [],
            "source": [
                "C = set(B) # What happens when we convert the list B into a set?\n",
                "print(C)\n",
                "print(len(C))"
            ]
        },
        {
            "cell_type": "markdown",
            "metadata": {
                "id": "IPvBcBOW1IBT"
            },
            "source": [
                "## Union and Intersection"
            ]
        },
        {
            "cell_type": "markdown",
            "metadata": {
                "id": "eJYGUrNC1IBU"
            },
            "source": [
                "Python has built-in methods for working with sets."
            ]
        },
        {
            "cell_type": "code",
            "execution_count": null,
            "metadata": {
                "id": "RELtW5qW1IBU"
            },
            "outputs": [],
            "source": [
                "A = {1,2,3,4,5}\n",
                "B = {4,5,6,7,8}\n",
                "\n",
                "print(A.intersection(B))\n",
                "print(A.union(B))\n",
                "print(A.difference(B))"
            ]
        },
        {
            "cell_type": "code",
            "execution_count": null,
            "metadata": {
                "id": "EbqPkAY41IBU"
            },
            "outputs": [],
            "source": [
                "# We can also use &, |, and -\n",
                "print(A & B)\n",
                "print(A | B)\n",
                "print(A - B)"
            ]
        },
        {
            "cell_type": "markdown",
            "metadata": {
                "id": "rvD_13LX1IBV"
            },
            "source": [
                "### Symmetric Difference"
            ]
        },
        {
            "cell_type": "markdown",
            "metadata": {
                "id": "PvOGmEug1IBV"
            },
            "source": [
                "How would we do *symmetric difference*? \n",
                "\n",
                "Recall the symmetric difference can be described as $A \\oplus B$, which is also $(A-B) \\cap (B-A)$."
            ]
        },
        {
            "cell_type": "markdown",
            "metadata": {
                "id": "utkmI5lN1IBV"
            },
            "source": [
                "What is the symmetric difference of A and B?"
            ]
        },
        {
            "cell_type": "markdown",
            "metadata": {
                "id": "edqQg3RZ1IBV"
            },
            "source": [
                "#### Answer:"
            ]
        },
        {
            "cell_type": "markdown",
            "metadata": {
                "id": "NVUq4PNC1IBV"
            },
            "source": [
                "{1, 2, 3, 6, 7, 8}"
            ]
        },
        {
            "cell_type": "markdown",
            "metadata": {
                "id": "E3gmMSaF1IBW"
            },
            "source": [
                "#### In Python:"
            ]
        },
        {
            "cell_type": "code",
            "execution_count": null,
            "metadata": {
                "id": "uDFkaDeG1IBW"
            },
            "outputs": [],
            "source": [
                "# (A-B) ∩ (B-A)\n",
                "print(A.difference(B).union(B.difference(A)))\n"
            ]
        },
        {
            "cell_type": "code",
            "execution_count": null,
            "metadata": {
                "id": "inCdbI9n1IBW"
            },
            "outputs": [],
            "source": [
                "# Built-in Python method\n",
                "print(A.symmetric_difference(B))\n"
            ]
        },
        {
            "cell_type": "code",
            "execution_count": null,
            "metadata": {
                "id": "rYR9eQOC1IBW"
            },
            "outputs": [],
            "source": [
                "# Or use the \"xor\" symbol...apparently it is overloaded to work with sets\n",
                "print(A ^ B)"
            ]
        }
    ],
    "metadata": {
        "kernelspec": {
            "display_name": "Python 3.8.10 64-bit (microsoft store)",
            "language": "python",
            "name": "python3"
        },
        "language_info": {
            "codemirror_mode": {
                "name": "ipython",
                "version": 3
            },
            "file_extension": ".py",
            "mimetype": "text/x-python",
            "name": "python",
            "nbconvert_exporter": "python",
            "pygments_lexer": "ipython3",
            "version": "3.8.10"
        },
        "orig_nbformat": 4,
        "vscode": {
            "interpreter": {
                "hash": "01aa1c9116ce7c8b0b72202eab7fb34d3440e94a48f0d84ade500d64d3a8c91e"
            }
        },
        "colab": {
            "provenance": [
                {
                    "file_id": "https://github.com/byui-cse/cse280-course-notebooks/blob/main/examples/examples-w03-sets.ipynb",
                    "timestamp": 1664381559054
                }
            ],
            "collapsed_sections": [
                "eJNy_RAK1IBK",
                "j_fQCSIl1IBL",
                "icJ-cPRA1IBN",
                "ZxjG6wCu1IBP",
                "lk2rCuVG1IBR",
                "s3vmaQZ01IBS",
                "IPvBcBOW1IBT",
                "rvD_13LX1IBV",
                "edqQg3RZ1IBV",
                "E3gmMSaF1IBW"
            ]
        }
    },
    "nbformat": 4,
    "nbformat_minor": 0
}