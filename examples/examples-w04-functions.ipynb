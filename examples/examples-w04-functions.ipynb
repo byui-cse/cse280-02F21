{
  "cells": [
    {
      "attachments": {},
      "cell_type": "markdown",
      "metadata": {
        "id": "pHJU08e_W9fh"
      },
      "source": [
        "# Functions"
      ]
    },
    {
      "cell_type": "code",
      "execution_count": null,
      "metadata": {
        "id": "97VTUkd7IlDT"
      },
      "outputs": [],
      "source": [
        "def square(n):\n",
        "  return n*n\n"
      ]
    },
    {
      "attachments": {},
      "cell_type": "markdown",
      "metadata": {
        "id": "Te9BvPUUuaQK"
      },
      "source": [
        "Try this out on your own. Can you demonstrate the domain? How about the codomain?"
      ]
    },
    {
      "attachments": {},
      "cell_type": "markdown",
      "metadata": {
        "id": "wxusHNI5xRlT"
      },
      "source": [
        "#### What is the domain?\n"
      ]
    },
    {
      "attachments": {},
      "cell_type": "markdown",
      "metadata": {
        "id": "plBTE0ypxTwv"
      },
      "source": [
        "All Real Numbers ($\\mathbb{R}$)"
      ]
    },
    {
      "attachments": {},
      "cell_type": "markdown",
      "metadata": {
        "id": "KkNF2I_IxbU_"
      },
      "source": [
        "#### What is the codomain?"
      ]
    },
    {
      "attachments": {},
      "cell_type": "markdown",
      "metadata": {
        "id": "T299K-YQxdwt"
      },
      "source": [
        "All positive real numbers and 0 ($\\mathbb{R}^+ \\cup {0}$)"
      ]
    },
    {
      "attachments": {},
      "cell_type": "markdown",
      "metadata": {
        "id": "fEsvdcaTx3d_"
      },
      "source": [
        "#### Demonstration\n"
      ]
    },
    {
      "cell_type": "code",
      "execution_count": null,
      "metadata": {
        "id": "QNYVOB2Tx6o0"
      },
      "outputs": [],
      "source": [
        "print(square(2))\n",
        "print(square(0))\n",
        "print(square(-1))\n",
        "print(square(3.14))"
      ]
    },
    {
      "attachments": {},
      "cell_type": "markdown",
      "metadata": {},
      "source": [
        "We could use Python [type hinting](https://docs.python.org/3/library/typing.html#module-typing) to specify the domain and codomain. While the Python interpreter doesn't honor type hinting, it is still a good practice to help you think about the inputs and outputs of your functions.\n",
        "\n",
        "Example of Python type hinting:"
      ]
    },
    {
      "cell_type": "code",
      "execution_count": null,
      "metadata": {},
      "outputs": [],
      "source": [
        "# This function works with ints\n",
        "def square(n: int) -> int:\n",
        "    return n * n\n",
        "\n",
        "square(2)"
      ]
    },
    {
      "cell_type": "code",
      "execution_count": null,
      "metadata": {},
      "outputs": [],
      "source": [
        "# This function works with floats\n",
        "def square(n: float) -> float:\n",
        "    return n * n\n",
        "\n",
        "square(2.0)"
      ]
    },
    {
      "attachments": {},
      "cell_type": "markdown",
      "metadata": {
        "id": "XoQI2Uxku192"
      },
      "source": [
        "\n",
        "\n",
        "---\n",
        "\n"
      ]
    },
    {
      "attachments": {},
      "cell_type": "markdown",
      "metadata": {
        "id": "xwLsYNdu_0v0"
      },
      "source": [
        "### Floor"
      ]
    },
    {
      "cell_type": "code",
      "execution_count": null,
      "metadata": {
        "id": "1NZavgik_0v0"
      },
      "outputs": [],
      "source": [
        "from math import floor\n",
        "floor(-3.5)"
      ]
    },
    {
      "attachments": {},
      "cell_type": "markdown",
      "metadata": {
        "id": "_KOBm1N4_0v0"
      },
      "source": [
        "### Ceiling"
      ]
    },
    {
      "cell_type": "code",
      "execution_count": null,
      "metadata": {
        "id": "Ndgl-pe6_0v0"
      },
      "outputs": [],
      "source": [
        "from math import ceil\n",
        "ceil(-0.5)"
      ]
    },
    {
      "attachments": {},
      "cell_type": "markdown",
      "metadata": {},
      "source": [
        "\n",
        "\n",
        "---\n",
        "\n"
      ]
    },
    {
      "attachments": {},
      "cell_type": "markdown",
      "metadata": {},
      "source": [
        "### Logarithms"
      ]
    },
    {
      "attachments": {},
      "cell_type": "markdown",
      "metadata": {},
      "source": [
        "Python has several different functions to calculate logarithms. These are include in the `math` module.\n",
        "\n",
        "`log(x, [base=math.e])` - Compute the *natural* logarithm by default, but can specify a specific base as the second argument.\n",
        "\n",
        "`log10(x)` - Compute log base 10\n",
        "\n",
        "`log2(x)` - Compute log base 2\n"
      ]
    },
    {
      "cell_type": "code",
      "execution_count": 7,
      "metadata": {},
      "outputs": [
        {
          "name": "stdout",
          "output_type": "stream",
          "text": [
            "2.772588722239781\n",
            "1.2041199826559248\n",
            "1.2041199826559246\n",
            "4.0\n",
            "4.0\n"
          ]
        }
      ],
      "source": [
        "from math import log, log10, log2\n",
        "print(log(16)) # natural log\n",
        "print(log10(16)) # base 10\n",
        "print(log(16, 10)) # also base 10\n",
        "print(log2(16)) # base 2\n",
        "print(log(16, 2))  # also base 2"
      ]
    }
  ],
  "metadata": {
    "colab": {
      "collapsed_sections": [
        "x3jDo0XI-xop",
        "inPz8IXf-z7k",
        "mvprI7h9v7Lc",
        "LuohlTdm_0vq",
        "xPc5hOI5_0vr",
        "oqCev_cu-2dt",
        "PaMZKJiZ9CsP",
        "dkjJbtXE9vg3",
        "pHJU08e_W9fh",
        "wxusHNI5xRlT",
        "KkNF2I_IxbU_",
        "fEsvdcaTx3d_",
        "xwLsYNdu_0v0",
        "_KOBm1N4_0v0",
        "xq1PLyAr_0v0",
        "YJODv_0zw4gH",
        "4cbdi4FlrdjH",
        "K_t-R5pj_0v2",
        "ypsMPVZt_0v2",
        "pypw3dCnAE2c",
        "np12jYYBrthB",
        "CZK_anhEpD4B",
        "syw8es-8_0v5",
        "jV-NsDVi_0v6",
        "vJRRHkPL_0v6",
        "1FP7Mppj_0v6"
      ],
      "provenance": []
    },
    "kernelspec": {
      "display_name": ".env",
      "language": "python",
      "name": "python3"
    },
    "language_info": {
      "codemirror_mode": {
        "name": "ipython",
        "version": 3
      },
      "file_extension": ".py",
      "mimetype": "text/x-python",
      "name": "python",
      "nbconvert_exporter": "python",
      "pygments_lexer": "ipython3",
      "version": "3.9.0"
    },
    "vscode": {
      "interpreter": {
        "hash": "1977c1262a5a71e57f8e1e2a9337f4268800bf2d1a595fc1ecb322ccb8b2351d"
      }
    }
  },
  "nbformat": 4,
  "nbformat_minor": 0
}
