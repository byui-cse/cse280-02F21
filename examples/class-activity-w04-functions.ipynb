{
 "cells": [
  {
   "attachments": {},
   "cell_type": "markdown",
   "metadata": {},
   "source": [
    "# Class Activity - Functional Programming"
   ]
  },
  {
   "attachments": {},
   "cell_type": "markdown",
   "metadata": {},
   "source": [
    "Use lambda, filter, map, and reduce to solve the following exercises."
   ]
  },
  {
   "attachments": {},
   "cell_type": "markdown",
   "metadata": {},
   "source": [
    "## Activity 1\n",
    "Write a function that takes a list of integers and returns a new list containing only the even numbers. Use `filter` and a `lambda` function to accomplish this."
   ]
  },
  {
   "cell_type": "code",
   "execution_count": null,
   "metadata": {},
   "outputs": [],
   "source": [
    "numbers = [*range(0,100, 7)] # Generate some numbers\n",
    "\n",
    "# Your code here to find only the even numbers"
   ]
  },
  {
   "cell_type": "code",
   "execution_count": null,
   "metadata": {},
   "outputs": [],
   "source": [
    "#@title Sample Solution: {display-mode: \"form\"}\n",
    "numbers = [*range(0,100, 7)] # Generate some numbers\n",
    "[*filter(lambda x: x%2==0, numbers)]"
   ]
  },
  {
   "attachments": {},
   "cell_type": "markdown",
   "metadata": {},
   "source": [
    "## Activity 2\n",
    "Write a function that takes a list of integers and returns a new list with each element multiplied by 3. Use `map` and a `lambda` function to accomplish this.\n"
   ]
  },
  {
   "cell_type": "code",
   "execution_count": null,
   "metadata": {},
   "outputs": [],
   "source": [
    "numbers = [2,4,6,8,10,12]\n",
    "# Your code here"
   ]
  },
  {
   "cell_type": "code",
   "execution_count": null,
   "metadata": {},
   "outputs": [],
   "source": [
    "#@title Sample Solution: {display-mode: \"form\"}\n",
    "numbers = [2,4,6,8,10,12]\n",
    "[*map(lambda x: x*3, numbers)]"
   ]
  },
  {
   "attachments": {},
   "cell_type": "markdown",
   "metadata": {},
   "source": [
    "## Activity 3\n",
    "Write a function that takes a list of strings and returns a new list containing only the strings that have a length greater than 5. Use `filter` and a `lambda` function to accomplish this."
   ]
  },
  {
   "cell_type": "code",
   "execution_count": null,
   "metadata": {},
   "outputs": [],
   "source": [
    "strings = ['apple', 'banana', 'cherry', 'date', 'elderberry', 'fig', 'grape', 'honeydew']\n",
    "# Your code here"
   ]
  },
  {
   "cell_type": "code",
   "execution_count": null,
   "metadata": {},
   "outputs": [],
   "source": [
    "#@title Sample Solution: {display-mode: \"form\"}\n",
    "strings = ['apple', 'banana', 'cherry', 'date', 'elderberry', 'fig', 'grape', 'honeydew']\n",
    "\n",
    "[*filter(lambda s: len(s) > 5, strings)]"
   ]
  },
  {
   "attachments": {},
   "cell_type": "markdown",
   "metadata": {},
   "source": [
    "## Activity 4\n",
    "Write a function that takes a list of integers and returns the sum of all the numbers. Use `reduce` and a `lambda` function to accomplish this."
   ]
  },
  {
   "cell_type": "code",
   "execution_count": null,
   "metadata": {},
   "outputs": [],
   "source": [
    "numbers = [1, 2, 3, 4, 5, 6, 7, 8, 9, 10, 11, 12, 13, 14, 15, \n",
    "           16, 17, 18, 19, 20, 21, 22, 23, 24, 25, 26, 27, 28, \n",
    "           29, 30, 31, 32, 33, 34, 35, 36, 37, 38, 39, 40, 41, \n",
    "           42, 43, 44, 45, 46, 47, 48, 49, 50, 51, 52, 53, 54, \n",
    "           55, 56, 57, 58, 59, 60, 61, 62, 63, 64, 65, 66, 67, \n",
    "           68, 69, 70, 71, 72, 73, 74, 75, 76, 77, 78, 79, 80, \n",
    "           81, 82, 83, 84, 85, 86, 87, 88, 89, 90, 91, 92, 93, \n",
    "           94, 95, 96, 97, 98, 99, 100]\n",
    "\n",
    "from functools import reduce\n",
    "\n",
    "# Your code here"
   ]
  },
  {
   "cell_type": "code",
   "execution_count": null,
   "metadata": {},
   "outputs": [],
   "source": [
    "#@title Sample Solution: {display-mode: \"form\"}\n",
    "numbers = [1, 2, 3, 4, 5, 6, 7, 8, 9, 10, 11, 12, 13, 14, 15, \n",
    "           16, 17, 18, 19, 20, 21, 22, 23, 24, 25, 26, 27, 28, \n",
    "           29, 30, 31, 32, 33, 34, 35, 36, 37, 38, 39, 40, 41, \n",
    "           42, 43, 44, 45, 46, 47, 48, 49, 50, 51, 52, 53, 54, \n",
    "           55, 56, 57, 58, 59, 60, 61, 62, 63, 64, 65, 66, 67, \n",
    "           68, 69, 70, 71, 72, 73, 74, 75, 76, 77, 78, 79, 80, \n",
    "           81, 82, 83, 84, 85, 86, 87, 88, 89, 90, 91, 92, 93, \n",
    "           94, 95, 96, 97, 98, 99, 100]\n",
    "\n",
    "from functools import reduce\n",
    "reduce(lambda a, b: a + b, numbers, 0)"
   ]
  },
  {
   "attachments": {},
   "cell_type": "markdown",
   "metadata": {},
   "source": [
    "## Activity 5\n",
    "Write a function that takes a list of integers and returns the product of all the numbers. Use `reduce` and a `lambda` function to accomplish this."
   ]
  },
  {
   "cell_type": "code",
   "execution_count": null,
   "metadata": {},
   "outputs": [],
   "source": [
    "numbers = [1, 2, 3, 4, 5, 6, 7, 8, 9, 10, 11, 12, 13, 14, 15, \n",
    "           16, 17, 18, 19, 20, 21, 22, 23, 24, 25, 26, 27, 28, \n",
    "           29, 30, 31, 32, 33, 34, 35, 36, 37, 38, 39, 40, 41, \n",
    "           42, 43, 44, 45, 46, 47, 48, 49, 50, 51, 52, 53, 54, \n",
    "           55, 56, 57, 58, 59, 60, 61, 62, 63, 64, 65, 66, 67, \n",
    "           68, 69, 70, 71, 72, 73, 74, 75, 76, 77, 78, 79, 80, \n",
    "           81, 82, 83, 84, 85, 86, 87, 88, 89, 90, 91, 92, 93, \n",
    "           94, 95, 96, 97, 98, 99, 100]\n",
    "\n",
    "from functools import reduce\n",
    "\n",
    "# Your code here"
   ]
  },
  {
   "cell_type": "code",
   "execution_count": null,
   "metadata": {},
   "outputs": [],
   "source": [
    "#@title Sample Solution: {display-mode: \"form\"}\n",
    "numbers = [1, 2, 3, 4, 5, 6, 7, 8, 9, 10, 11, 12, 13, 14, 15, \n",
    "           16, 17, 18, 19, 20, 21, 22, 23, 24, 25, 26, 27, 28, \n",
    "           29, 30, 31, 32, 33, 34, 35, 36, 37, 38, 39, 40, 41, \n",
    "           42, 43, 44, 45, 46, 47, 48, 49, 50, 51, 52, 53, 54, \n",
    "           55, 56, 57, 58, 59, 60, 61, 62, 63, 64, 65, 66, 67, \n",
    "           68, 69, 70, 71, 72, 73, 74, 75, 76, 77, 78, 79, 80, \n",
    "           81, 82, 83, 84, 85, 86, 87, 88, 89, 90, 91, 92, 93, \n",
    "           94, 95, 96, 97, 98, 99, 100]\n",
    "\n",
    "from functools import reduce\n",
    "reduce(lambda a, b: a * b, numbers, 1)"
   ]
  },
  {
   "attachments": {},
   "cell_type": "markdown",
   "metadata": {},
   "source": [
    "## Activity 6\n",
    "Write a function that takes a list of strings and returns a new list with all the strings in uppercase. Use `map` and a `lambda` function to accomplish this."
   ]
  },
  {
   "cell_type": "code",
   "execution_count": null,
   "metadata": {},
   "outputs": [],
   "source": [
    "strings = ['apple', 'banana', 'cherry', 'date', 'elderberry', 'fig', 'grape', 'honeydew']\n",
    "\n",
    "# Your code here"
   ]
  },
  {
   "cell_type": "code",
   "execution_count": null,
   "metadata": {},
   "outputs": [],
   "source": [
    "#@title Sample Solution: {display-mode: \"form\"}\n",
    "strings = ['apple', 'banana', 'cherry', 'date', 'elderberry', 'fig', 'grape', 'honeydew']\n",
    "[*map(lambda s: s.upper(), strings)]"
   ]
  },
  {
   "attachments": {},
   "cell_type": "markdown",
   "metadata": {},
   "source": [
    "## Activity 7\n",
    "Write a function that takes a list of integers and returns a new list with each element squared. Use `map` and a `lambda` function to accomplish this."
   ]
  },
  {
   "cell_type": "code",
   "execution_count": null,
   "metadata": {},
   "outputs": [],
   "source": [
    "numbers = [1, 2, 3, 4, 5, 6, 7, 8, 9, 10, 11, 12, 13, 14, 15, \n",
    "           16, 17, 18, 19, 20, 21, 22, 23, 24, 25, 26, 27, 28, \n",
    "           29, 30, 31, 32, 33, 34, 35, 36, 37, 38, 39, 40, 41, \n",
    "           42, 43, 44, 45, 46, 47, 48, 49, 50, 51, 52, 53, 54, \n",
    "           55, 56, 57, 58, 59, 60, 61, 62, 63, 64, 65, 66, 67, \n",
    "           68, 69, 70, 71, 72, 73, 74, 75, 76, 77, 78, 79, 80, \n",
    "           81, 82, 83, 84, 85, 86, 87, 88, 89, 90, 91, 92, 93, \n",
    "           94, 95, 96, 97, 98, 99, 100]\n",
    "\n",
    "# Your code here"
   ]
  },
  {
   "cell_type": "code",
   "execution_count": null,
   "metadata": {},
   "outputs": [],
   "source": [
    "#@title Sample Solution: {display-mode: \"form\"}\n",
    "numbers = [1, 2, 3, 4, 5, 6, 7, 8, 9, 10, 11, 12, 13, 14, 15, \n",
    "           16, 17, 18, 19, 20, 21, 22, 23, 24, 25, 26, 27, 28, \n",
    "           29, 30, 31, 32, 33, 34, 35, 36, 37, 38, 39, 40, 41, \n",
    "           42, 43, 44, 45, 46, 47, 48, 49, 50, 51, 52, 53, 54, \n",
    "           55, 56, 57, 58, 59, 60, 61, 62, 63, 64, 65, 66, 67, \n",
    "           68, 69, 70, 71, 72, 73, 74, 75, 76, 77, 78, 79, 80, \n",
    "           81, 82, 83, 84, 85, 86, 87, 88, 89, 90, 91, 92, 93, \n",
    "           94, 95, 96, 97, 98, 99, 100]\n",
    "print([*map(lambda x: x**2, numbers)])"
   ]
  },
  {
   "attachments": {},
   "cell_type": "markdown",
   "metadata": {},
   "source": [
    "## Activity 8\n",
    "Write a function that takes a list of integers and returns the largest number in the list. Use `reduce` and a `lambda` function to accomplish this."
   ]
  },
  {
   "cell_type": "code",
   "execution_count": null,
   "metadata": {},
   "outputs": [],
   "source": [
    "from random import randrange\n",
    "from functools import reduce\n",
    "#generate some random numbers\n",
    "numbers = [randrange(1,1000) for x in range(10)]\n",
    "print(numbers)\n",
    "\n",
    "# Your code here to find the largest number"
   ]
  },
  {
   "cell_type": "code",
   "execution_count": null,
   "metadata": {},
   "outputs": [],
   "source": [
    "#@title Sample Solution: {display-mode: \"form\"}\n",
    "from random import randrange\n",
    "from functools import reduce\n",
    "#generate some random numbers\n",
    "numbers = [randrange(1,1000) for x in range(10)]\n",
    "print(numbers)\n",
    "\n",
    "# Find the largest number \n",
    "from functools import reduce\n",
    "reduce(lambda a, b: a if a > b else b, numbers)"
   ]
  },
  {
   "attachments": {},
   "cell_type": "markdown",
   "metadata": {},
   "source": [
    "## Activity 9\n",
    "Write a function that takes a list of strings and returns the concatenated string. Use `reduce` and a `lambda` function to accomplish this."
   ]
  },
  {
   "cell_type": "code",
   "execution_count": null,
   "metadata": {},
   "outputs": [],
   "source": [
    "from functools import reduce\n",
    "strings = ['apple', 'banana', 'cherry', 'date', 'elderberry', 'fig', 'grape', 'honeydew']\n",
    "\n",
    "# Your code here"
   ]
  },
  {
   "cell_type": "code",
   "execution_count": null,
   "metadata": {},
   "outputs": [],
   "source": [
    "#@title Sample Solution: {display-mode: \"form\"}\n",
    "from functools import reduce\n",
    "strings = ['apple', 'banana', 'cherry', 'date', 'elderberry', 'fig', 'grape', 'honeydew']\n",
    "\n",
    "# Your code here\n",
    "reduce(lambda a, b: a + b, strings, '')"
   ]
  },
  {
   "attachments": {},
   "cell_type": "markdown",
   "metadata": {},
   "source": [
    "## Activity 10\n",
    "Write a Python program that takes a list of integers and returns a new list with only the odd numbers, squared."
   ]
  },
  {
   "cell_type": "code",
   "execution_count": null,
   "metadata": {},
   "outputs": [],
   "source": [
    "numbers = [1, 2, 3, 4, 5, 6, 7, 8, 9, 10, 11, 12, 13, 14, 15, \n",
    "           16, 17, 18, 19, 20, 21, 22, 23, 24, 25, 26, 27, 28, \n",
    "           29, 30, 31, 32, 33, 34, 35, 36, 37, 38, 39, 40, 41, \n",
    "           42, 43, 44, 45, 46, 47, 48, 49, 50, 51, 52, 53, 54, \n",
    "           55, 56, 57, 58, 59, 60, 61, 62, 63, 64, 65, 66, 67, \n",
    "           68, 69, 70, 71, 72, 73, 74, 75, 76, 77, 78, 79, 80, \n",
    "           81, 82, 83, 84, 85, 86, 87, 88, 89, 90, 91, 92, 93, \n",
    "           94, 95, 96, 97, 98, 99, 100]\n",
    "\n",
    "# Your code here"
   ]
  },
  {
   "cell_type": "code",
   "execution_count": null,
   "metadata": {},
   "outputs": [],
   "source": [
    "#@title Sample Solution: {display-mode: \"form\"}\n",
    "numbers = [1, 2, 3, 4, 5, 6, 7, 8, 9, 10, 11, 12, 13, 14, 15, \n",
    "           16, 17, 18, 19, 20, 21, 22, 23, 24, 25, 26, 27, 28, \n",
    "           29, 30, 31, 32, 33, 34, 35, 36, 37, 38, 39, 40, 41, \n",
    "           42, 43, 44, 45, 46, 47, 48, 49, 50, 51, 52, 53, 54, \n",
    "           55, 56, 57, 58, 59, 60, 61, 62, 63, 64, 65, 66, 67, \n",
    "           68, 69, 70, 71, 72, 73, 74, 75, 76, 77, 78, 79, 80, \n",
    "           81, 82, 83, 84, 85, 86, 87, 88, 89, 90, 91, 92, 93, \n",
    "           94, 95, 96, 97, 98, 99, 100]\n",
    "print([*map(lambda x: x*x, filter(lambda x: x%2, numbers))])"
   ]
  }
 ],
 "metadata": {
  "kernelspec": {
   "display_name": ".env",
   "language": "python",
   "name": "python3"
  },
  "language_info": {
   "codemirror_mode": {
    "name": "ipython",
    "version": 3
   },
   "file_extension": ".py",
   "mimetype": "text/x-python",
   "name": "python",
   "nbconvert_exporter": "python",
   "pygments_lexer": "ipython3",
   "version": "3.9.0"
  },
  "orig_nbformat": 4
 },
 "nbformat": 4,
 "nbformat_minor": 2
}
