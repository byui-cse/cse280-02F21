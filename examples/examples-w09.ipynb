{
  "cells": [
    {
      "cell_type": "markdown",
      "metadata": {
        "id": "Y39ZCWXgRhAa"
      },
      "source": [
        "# Sequences"
      ]
    },
    {
      "cell_type": "markdown",
      "metadata": {
        "id": "zBCNAYe_Rppf"
      },
      "source": [
        "Is this an arithmetic or geometric sequence?\n",
        "\n",
        "$ 1, 6, 11, 16, 21 $"
      ]
    },
    {
      "cell_type": "markdown",
      "metadata": {
        "id": "qaYvp_SQQgVU"
      },
      "source": [
        "##  "
      ]
    },
    {
      "cell_type": "markdown",
      "metadata": {
        "id": "UTukuunEQgVV"
      },
      "source": [
        "This is an arithmetic sequence of the form:\n",
        "\n",
        "$a_n = a_0 + nd$, where $a_0=1$, $n=0,1,2,3,4$, and $d=5$"
      ]
    },
    {
      "cell_type": "code",
      "execution_count": null,
      "metadata": {
        "id": "LAsv_vbqRjrQ"
      },
      "outputs": [],
      "source": [
        "# We can use the range() function to generate some arithmetic sequences\n",
        "\n",
        "result = [*range(1, 22, 5)]\n",
        "print(result)\n"
      ]
    },
    {
      "cell_type": "markdown",
      "metadata": {
        "id": "H-5wY8B7QgVW"
      },
      "source": [
        "Can we generate any arithmetic sequence with Python?"
      ]
    },
    {
      "cell_type": "markdown",
      "metadata": {
        "id": "wyIogPODQgVX"
      },
      "source": [
        "###  "
      ]
    },
    {
      "cell_type": "markdown",
      "metadata": {
        "id": "I_k-ZvucQgVX"
      },
      "source": [
        "What about a sequence where $d$ is not an integer?\n",
        "\n",
        "$a_n = a_0 + n*1.5$, where $a_0 = 1$ and $d=1.5$"
      ]
    },
    {
      "cell_type": "code",
      "execution_count": null,
      "metadata": {
        "id": "n4X4AEHzQgVY"
      },
      "outputs": [],
      "source": [
        "[*range(0, 10, 1.5)]"
      ]
    },
    {
      "cell_type": "markdown",
      "metadata": {
        "id": "IfInbySNQgVZ"
      },
      "source": [
        "Is there a way to generate this sequence in Python?"
      ]
    },
    {
      "cell_type": "markdown",
      "metadata": {
        "id": "tXHD9d_4QgVZ"
      },
      "source": [
        "####  "
      ]
    },
    {
      "cell_type": "code",
      "execution_count": null,
      "metadata": {
        "id": "mCxDKgcyQgVa"
      },
      "outputs": [],
      "source": [
        "a_0 = 1\n",
        "d = 1.5\n",
        "[a_0 + n*d for n in range(0,10)]"
      ]
    },
    {
      "cell_type": "code",
      "execution_count": null,
      "metadata": {
        "id": "dQPabemrQgVa"
      },
      "outputs": [],
      "source": [
        "# Or just write a function to return a_n\n",
        "sequence = lambda n: a_0 + n*d\n",
        "sequence(9)"
      ]
    },
    {
      "cell_type": "markdown",
      "metadata": {
        "id": "otpTzY6BQgVa"
      },
      "source": [
        "###  "
      ]
    },
    {
      "cell_type": "markdown",
      "metadata": {
        "id": "cQ3WIniRVcHX"
      },
      "source": [
        "Is this an arithmetic or geometric sequence?\n",
        "\n",
        "$1, 3, 9, 27, 81$"
      ]
    },
    {
      "cell_type": "markdown",
      "metadata": {
        "id": "YywDle-RQgVb"
      },
      "source": [
        "####  "
      ]
    },
    {
      "cell_type": "markdown",
      "metadata": {
        "id": "eAVeACOMQgVb"
      },
      "source": [
        "This is a geometric progression of the form:\n",
        "\n",
        "$a_n = a_0 * r^n$, where $a_0=1$, $n=0,1,2,3,4$, and $r=3$"
      ]
    },
    {
      "cell_type": "code",
      "execution_count": null,
      "metadata": {
        "id": "T_S8YxvVVrWz"
      },
      "outputs": [],
      "source": [
        "# Using list comprehension\n",
        "a_0 = 1\n",
        "r = 3\n",
        "result = [a_0 * r**n for n in range(0, 5)]\n",
        "print(result)"
      ]
    },
    {
      "cell_type": "code",
      "execution_count": null,
      "metadata": {
        "id": "0r8a7TPwIsyH"
      },
      "outputs": [],
      "source": [
        "# Using a different a_0\n",
        "a_0 = 4\n",
        "r = 3\n",
        "result = [a_0 * r**n for n in range(0, 5)]\n",
        "print(result)"
      ]
    },
    {
      "cell_type": "markdown",
      "metadata": {
        "id": "wVCiuevxQgVc"
      },
      "source": [
        "#### You try it"
      ]
    },
    {
      "cell_type": "markdown",
      "metadata": {
        "id": "o4jX42nnQgVc"
      },
      "source": [
        "Write a Python list comprehension to generate this sequence:\n",
        "\n",
        "2.0, 1.0, 0.5, 0.25, 0.125, 0.0625, 0.03125, 0.015625, 0.0078125, 0.00390625"
      ]
    },
    {
      "cell_type": "markdown",
      "metadata": {
        "id": "nGYqSw_jQgVd"
      },
      "source": [
        "#####  "
      ]
    },
    {
      "cell_type": "code",
      "execution_count": null,
      "metadata": {
        "id": "1GnBbGiYQgVd"
      },
      "outputs": [],
      "source": [
        "result = [2 * 0.5**n for n in range(10)]\n",
        "print(result)"
      ]
    },
    {
      "cell_type": "markdown",
      "metadata": {
        "id": "Kw9wYTKVQgVd"
      },
      "source": [
        "## Recurrence relations"
      ]
    },
    {
      "cell_type": "markdown",
      "metadata": {
        "id": "9Zd1aGiEQgVd"
      },
      "source": [
        "Write a function to generate the sequence $f_n$ where \n",
        "\n",
        "$f_0 = 4$\\\n",
        "$f_n = f_{n-1} + 2n \\text{,   for } n\\ge1$"
      ]
    },
    {
      "cell_type": "code",
      "execution_count": null,
      "metadata": {
        "id": "q4_bLTOnQgVe"
      },
      "outputs": [],
      "source": [
        "# Define the function\n",
        "def f(n):\n",
        "    if n==0:\n",
        "        return 4\n",
        "    else:\n",
        "        return f(n-1) + 2*n"
      ]
    },
    {
      "cell_type": "code",
      "execution_count": null,
      "metadata": {
        "id": "HaUmnoEFQgVe"
      },
      "outputs": [],
      "source": [
        "# Display the first 10 numbers in the sequence\n",
        "[f(n) for n in range(10)]"
      ]
    },
    {
      "cell_type": "markdown",
      "metadata": {
        "id": "kqeN0Kb1QgVe"
      },
      "source": [
        "Using lambda"
      ]
    },
    {
      "cell_type": "code",
      "execution_count": null,
      "metadata": {
        "id": "Pou1eVA-QgVe"
      },
      "outputs": [],
      "source": [
        "f = lambda n: 4 if n==0 else f(n-1) + 2*n\n",
        "\n",
        "[f(n) for n in range(10)]"
      ]
    },
    {
      "cell_type": "markdown",
      "metadata": {
        "id": "81VrhoOzQgVe"
      },
      "source": [
        "### Try it"
      ]
    },
    {
      "cell_type": "markdown",
      "metadata": {
        "id": "PycjCnZ_QgVe"
      },
      "source": [
        "Write a function, then generate the first 10 numbers in $f_n$ defined as:\n",
        "\n",
        "$f_0 = 1$\\\n",
        "$f_n = n^2 * f_{n-1} \\text{, for } n\\ge 1$"
      ]
    },
    {
      "cell_type": "markdown",
      "metadata": {
        "id": "xkoHU7q0QgVf"
      },
      "source": [
        "####  "
      ]
    },
    {
      "cell_type": "code",
      "execution_count": null,
      "metadata": {
        "id": "QtnRJ-J7QgVf"
      },
      "outputs": [],
      "source": [
        "f = lambda n: 1 if n==0 else n**2 * f(n-1)\n",
        "[f(n) for n in range(10)]"
      ]
    },
    {
      "cell_type": "code",
      "execution_count": null,
      "metadata": {
        "id": "VQrsOJktQgVf"
      },
      "outputs": [],
      "source": [
        "[*map(lambda n: 1 if n==0 else n**2 * f(n-1), range(10))]"
      ]
    },
    {
      "cell_type": "markdown",
      "metadata": {
        "id": "xFvM_B1wR9BL"
      },
      "source": [
        "##### Fibonacci\n",
        "The Fibonacci sequence is defined as:\n",
        "\n",
        "$f_0 = 0$\\\n",
        "$f_1 = 1$\\\n",
        "$f_n = f_{n-1} + f_{n-2} \\text{ , for } n\\ge2$\n",
        "\n",
        "Write a function using *lambda*, then generate the first 10 numbers in the sequence.\n"
      ]
    },
    {
      "cell_type": "markdown",
      "metadata": {
        "id": "IAtaIylUS4VM"
      },
      "source": [
        "######  "
      ]
    },
    {
      "cell_type": "code",
      "execution_count": null,
      "metadata": {
        "id": "y1wwJyabSASe"
      },
      "outputs": [],
      "source": [
        "fib = lambda n: 0 if n==0 else 1 if n==1 else fib(n-1) + fib(n-2)\n",
        "[fib(n) for n in range(10)]"
      ]
    },
    {
      "cell_type": "markdown",
      "metadata": {
        "id": "8fZiQvoExjJq"
      },
      "source": [
        "## Summations"
      ]
    },
    {
      "cell_type": "markdown",
      "metadata": {
        "id": "a0ZaJm_buLPk"
      },
      "source": [
        "Let's find the answer to this summation using Python.\n",
        "\n",
        "$$ \\sum_{i = 1}^{100}  i = 1 + 2 + 3 + 4 + \\dots  + 100$$\n"
      ]
    },
    {
      "cell_type": "markdown",
      "metadata": {
        "id": "u0ALz8ZZIk5J"
      },
      "source": [
        "#### In Python"
      ]
    },
    {
      "cell_type": "code",
      "execution_count": null,
      "metadata": {
        "id": "-TQCuEhlvMwO"
      },
      "outputs": [],
      "source": [
        "# Using sum\n",
        "result = sum(range(1,101))\n",
        "print(result)"
      ]
    },
    {
      "cell_type": "markdown",
      "metadata": {
        "id": "u5J9Y7JEvFAW"
      },
      "source": [
        "#### Another way"
      ]
    },
    {
      "cell_type": "code",
      "execution_count": null,
      "metadata": {
        "id": "gJUuZHy9xk3u"
      },
      "outputs": [],
      "source": [
        "# Using reduce\n",
        "from functools import reduce\n",
        "result = reduce(lambda a,b: a + b, range(1, 101))\n",
        "print(result)\n",
        "\n",
        "# Can also use the 'add' operator\n",
        "from operator import add\n",
        "result = reduce(add, range(1, 101))\n",
        "print(result)"
      ]
    },
    {
      "cell_type": "markdown",
      "metadata": {
        "id": "gTos_sX0vNEw"
      },
      "source": [
        "#### Use Python to find the following summation:"
      ]
    },
    {
      "cell_type": "markdown",
      "metadata": {
        "id": "JLdY_aYfzd5o"
      },
      "source": [
        "\n",
        "$$ \\sum_{k=1}^{42} k^2 = 1^2 + 2^2 + 3^2 + 4^2 + \\dots + 42^2 = 1 + 4 + 9 + 16 + \\dots = ? $$"
      ]
    },
    {
      "cell_type": "markdown",
      "metadata": {
        "id": "kaRDtstbv9fd"
      },
      "source": [
        "##### Sample Solution:"
      ]
    },
    {
      "cell_type": "code",
      "execution_count": null,
      "metadata": {
        "id": "GYbYQnoqt6J6"
      },
      "outputs": [],
      "source": [
        "# Using list comprehension\n",
        "n = 42\n",
        "result = sum([k**2 for k in range(1, n+1)])\n",
        "print(result)"
      ]
    },
    {
      "cell_type": "code",
      "execution_count": null,
      "metadata": {
        "id": "FkYvAqxDx9kd"
      },
      "outputs": [],
      "source": [
        "# Using lambda\n",
        "result = sum(map(lambda k: k**2, range(1, n+1)))\n",
        "print(result)"
      ]
    },
    {
      "cell_type": "code",
      "execution_count": null,
      "metadata": {
        "id": "cIPk-J6xwMV1"
      },
      "outputs": [],
      "source": [
        "# Using reduce\n",
        "from functools import reduce\n",
        "from operator import add\n",
        "result = reduce(add, map(lambda i: i**2, range(1,n+1)))\n",
        "print(result)"
      ]
    },
    {
      "cell_type": "markdown",
      "metadata": {
        "id": "KsGhrTL-GHMz"
      },
      "source": [
        "# Probability"
      ]
    },
    {
      "cell_type": "markdown",
      "metadata": {
        "id": "8DPeGy7kGMUx"
      },
      "source": [
        "Let's figure out the probability of getting one head and one tail when flipping two coins (or one coin twice)."
      ]
    },
    {
      "cell_type": "code",
      "execution_count": null,
      "metadata": {
        "id": "yZOkbXTHGV9V"
      },
      "outputs": [],
      "source": [
        "coin = {'H', 'T'}\n",
        "\n",
        "# We can generate the complete sample space using Cartesian product:\n",
        "from itertools import product\n",
        "\n",
        "sample_space = [*product(coin, coin)] # flipping two coins  {H,T} X {H,T}\n",
        "\n",
        "print(sample_space)\n"
      ]
    },
    {
      "cell_type": "code",
      "execution_count": null,
      "metadata": {
        "id": "8aZNk8rmGuVm"
      },
      "outputs": [],
      "source": [
        "# The event of getting one head and one tail can be found by \n",
        "# keeping only those outcomes in the sample space that \n",
        "# consist of one head and one tail.\n",
        "\n",
        "event_space = [*filter(lambda x: x[0] != x[1], sample_space)]\n",
        "print(event_space)"
      ]
    },
    {
      "cell_type": "code",
      "execution_count": null,
      "metadata": {
        "id": "BiRcsVwuHDSO"
      },
      "outputs": [],
      "source": [
        "# Now we can compute the probability of flipping one H and one T:\n",
        "\n",
        "probability = len(event_space) / len(sample_space)\n",
        "print(probability)"
      ]
    },
    {
      "cell_type": "markdown",
      "metadata": {
        "id": "pnAO1c_3QgVj"
      },
      "source": [
        "### Dice"
      ]
    },
    {
      "cell_type": "code",
      "execution_count": null,
      "metadata": {
        "id": "zbVi_eAHQgVj"
      },
      "outputs": [],
      "source": [
        "die = {1,2,3,4,5,6}\n",
        "\n",
        "# sample_space = [(d1, d2) for d1 in die for d2 in die]\n",
        "sample_space = [*product(die, die)]\n",
        "print(sample_space)"
      ]
    },
    {
      "cell_type": "markdown",
      "metadata": {
        "id": "_FNRteJ5QgVj"
      },
      "source": [
        "What is the probability of rolling two numbers that sum to 5?"
      ]
    },
    {
      "cell_type": "code",
      "execution_count": null,
      "metadata": {
        "id": "HqvjoUWhQgVj"
      },
      "outputs": [],
      "source": [
        "# Find the event space\n",
        "event_space = [*filter(lambda x: x[0] + x[1] == 5, sample_space)]\n",
        "print(event_space)\n",
        "\n",
        "# Calculate the probablity\n",
        "probability_event = len(event_space) / len(sample_space)\n",
        "print(f'Probability: {len(event_space)}/{len(sample_space)} = {probability_event}')"
      ]
    },
    {
      "cell_type": "markdown",
      "metadata": {
        "id": "7bIYlvXlQgVj"
      },
      "source": [
        "### Choose six numbers from 1 to 40."
      ]
    },
    {
      "cell_type": "markdown",
      "metadata": {
        "id": "XXWL3kx1QgVj"
      },
      "source": [
        "Imagine you are participating in a game show where you win $1,000,000 if you correctly guess a set of six numbers between 1 and 40. What are your chances of winning?"
      ]
    },
    {
      "cell_type": "code",
      "execution_count": null,
      "metadata": {
        "id": "IPC1ygsYQgVj"
      },
      "outputs": [],
      "source": [
        "# Use subsets / combinations because it is a set of six numbers.\n",
        "# 40 choose 6\n",
        "\n",
        "# from math import comb\n",
        "from scipy.special import comb\n",
        "sample_space = comb(40,6)\n",
        "print(sample_space)\n",
        "\n",
        "event_space = 1\n",
        "\n",
        "print(f'probability = {event_space / sample_space}')\n",
        "\n"
      ]
    },
    {
      "cell_type": "markdown",
      "metadata": {
        "id": "S6qBBZtUQgVk"
      },
      "source": [
        "What if you have to guess the six numbers in order? (Assume no number will be chosen twice)."
      ]
    },
    {
      "cell_type": "code",
      "execution_count": null,
      "metadata": {
        "id": "SfgwWj2dQgVk"
      },
      "outputs": [],
      "source": [
        "# from math import perm\n",
        "from scipy.special import perm\n",
        "\n",
        "sample_space = perm(40,6)\n",
        "print(sample_space)\n",
        "\n",
        "print(f'probability = {event_space / sample_space:.15f}')\n",
        "\n",
        "\n"
      ]
    },
    {
      "cell_type": "markdown",
      "metadata": {
        "id": "Cla1feKgQgVk"
      },
      "source": [
        "### Probability Union"
      ]
    },
    {
      "cell_type": "markdown",
      "metadata": {
        "id": "k_5Jaod1QgVk"
      },
      "source": [
        "What is the probability that a randomly chosen number between 1 and 100 (inclusive) is divisible by either 3 or 5?\n",
        "\n",
        "$ P(E_1 \\cup E_2) = P(E_1) + P(E_2) - P(E_1 \\cap E_2)$\n"
      ]
    },
    {
      "cell_type": "code",
      "execution_count": null,
      "metadata": {
        "id": "TDlPVuWAQgVk"
      },
      "outputs": [],
      "source": [
        "S = list(range(1,101)) # 1 to 100 inclusive\n",
        "E1 = {x for x in S if not x%3} # all numbers divisible by 3\n",
        "print(f'E1: {E1}')\n",
        "print(f'|E1| = {len(E1)}')"
      ]
    },
    {
      "cell_type": "code",
      "execution_count": null,
      "metadata": {
        "id": "fJgUqKTsQgVk"
      },
      "outputs": [],
      "source": [
        "# all numbers divisible by 5\n",
        "E2 = {x for x in S if not x%5}\n",
        "print(f'E2: {E2}')\n",
        "print(f'|E2| = {len(E2)}')"
      ]
    },
    {
      "cell_type": "code",
      "execution_count": null,
      "metadata": {
        "id": "qCOz54koQgVl"
      },
      "outputs": [],
      "source": [
        "# All numbers divisible by 3 and 5. These are counted twice. \n",
        "E1_and_E2 = {x for x in S if not x%3 and not x%5}\n",
        "print(f'E1 ∩ E2: {E1_and_E2}')\n",
        "print(f'|E1 ∩ E2|: {len(E1_and_E2)}')"
      ]
    },
    {
      "cell_type": "code",
      "execution_count": null,
      "metadata": {
        "id": "Yd_f2jqDQgVl"
      },
      "outputs": [],
      "source": [
        "# We can also use sets.\n",
        "E1_and_E2 = E1.intersection(E2)\n",
        "print(f'E1 ∩ E2: {E1_and_E2}')\n",
        "print(f'|E1 ∩ E2|: {len(E1_and_E2)}')"
      ]
    },
    {
      "cell_type": "code",
      "execution_count": null,
      "metadata": {
        "id": "PD9kDgy1QgVl"
      },
      "outputs": [],
      "source": [
        "# Define a probability function that takes an event space and a sample space\n",
        "def P(E, S):\n",
        "    return len(E) / len(S) # assumes a uniform distribution"
      ]
    },
    {
      "cell_type": "markdown",
      "metadata": {
        "id": "-dkpAW7mQgVm"
      },
      "source": [
        "What is the probability that a randomly chosen number between 1 and 100 (inclusive) is divisible by either 3 or 5?\n",
        "\n",
        "Let's apply our definition of the union of the probability of events:\n",
        "\n",
        "$ P(E_1 \\cup E_2) = P(E_1) + P(E_2) - P(E_1 \\cap E_2)$"
      ]
    },
    {
      "cell_type": "code",
      "execution_count": null,
      "metadata": {
        "id": "3TbJ6b9kQgVm"
      },
      "outputs": [],
      "source": [
        "Prob_E1_or_E2 = P(E1, S) + P(E2, S) - P(E1.intersection(E2), S)\n",
        "print(f'Probability of E1 or E2: {Prob_E1_or_E2:.2f}')"
      ]
    },
    {
      "cell_type": "markdown",
      "metadata": {
        "id": "eIcBplJMQgVm"
      },
      "source": [
        "### More coin flips"
      ]
    },
    {
      "cell_type": "markdown",
      "metadata": {
        "id": "nvsrQx0WQgVm"
      },
      "source": [
        "A coin is flipped four times. For each of the events described below, express the event as a set using roster notation. Each outcome in the sample space can be written as a string of length 4 from {H, T}, such as HHTH. Assuming the coin is a fair coin, give the probability of each event."
      ]
    },
    {
      "cell_type": "markdown",
      "metadata": {
        "id": "Io6O7nqzQgVm"
      },
      "source": [
        "a. \n",
        "The first and last flips come up heads."
      ]
    },
    {
      "cell_type": "code",
      "execution_count": null,
      "metadata": {
        "id": "M69G-RyZQgVm"
      },
      "outputs": [],
      "source": [
        "#@title Solution {display-mode: \"form\"}\n",
        "coin = {'H', 'T'}\n",
        "from itertools import product\n",
        "sample_space = [*product(coin, coin, coin, coin)]\n",
        "print(f'Sample space: {sample_space}')\n",
        "\n",
        "# first and last come up heads\n",
        "event_space = [*filter(lambda x: x[0] == x[3] == 'H', sample_space)]\n",
        "print(f'Event space: {event_space}')\n",
        "\n",
        "print(f'Probability: {len(event_space) / len(sample_space)}')\n",
        "\n",
        "\n",
        "# could also do this:\n",
        "event_space = [*product({'H'}, coin, coin, {'H'})]\n",
        "print(f'Event space: {event_space}')\n",
        "print(f'Probability: {len(event_space) / len(sample_space)}')"
      ]
    },
    {
      "cell_type": "markdown",
      "metadata": {
        "id": "gVy119nKQgVm"
      },
      "source": [
        "b. There are at least two consecutive flips that come up heads."
      ]
    },
    {
      "cell_type": "code",
      "execution_count": null,
      "metadata": {
        "id": "Unt3TNizQgVn"
      },
      "outputs": [],
      "source": [
        "#@title Solution {display-mode: \"form\"}\n",
        "# two consecutive heads\n",
        "event_space = [*filter(lambda x: (x[0] == x[1] == 'H') or (x[1] == x[2] == 'H') or (x[2] == x[3] == 'H') , sample_space)]\n",
        "print(f'Event space: {event_space}')\n",
        "\n",
        "print(f'Probability: {len(event_space)/len(sample_space)}')"
      ]
    },
    {
      "cell_type": "markdown",
      "metadata": {
        "id": "bTh1VUZ9QgVp"
      },
      "source": [
        "c. The first flip comes up tails and there are at least two consecutive flips that come up heads."
      ]
    },
    {
      "cell_type": "code",
      "execution_count": null,
      "metadata": {
        "id": "e6NSBFWzQgVp"
      },
      "outputs": [],
      "source": [
        "#@title Solution {display-mode: \"form\"}\n",
        "# first flip tails and two consecutive heads\n",
        "event_space = [*filter(lambda x: x[0]=='T' and (x[1]==x[2]=='H' or x[2]==x[3]=='H'), sample_space)]\n",
        "print(f'Event space: {event_space}')\n",
        "\n",
        "print(f'Probability: {len(event_space)}/{len(sample_space)}')"
      ]
    }
  ],
  "metadata": {
    "colab": {
      "collapsed_sections": [
        "Y39ZCWXgRhAa",
        "qaYvp_SQQgVU",
        "wyIogPODQgVX",
        "tXHD9d_4QgVZ",
        "otpTzY6BQgVa",
        "YywDle-RQgVb",
        "wVCiuevxQgVc",
        "nGYqSw_jQgVd",
        "Kw9wYTKVQgVd",
        "81VrhoOzQgVe",
        "xkoHU7q0QgVf",
        "xFvM_B1wR9BL",
        "IAtaIylUS4VM",
        "8fZiQvoExjJq",
        "u0ALz8ZZIk5J",
        "u5J9Y7JEvFAW",
        "gTos_sX0vNEw",
        "kaRDtstbv9fd",
        "KsGhrTL-GHMz",
        "pnAO1c_3QgVj",
        "7bIYlvXlQgVj",
        "Cla1feKgQgVk",
        "eIcBplJMQgVm"
      ],
      "provenance": []
    },
    "interpreter": {
      "hash": "1977c1262a5a71e57f8e1e2a9337f4268800bf2d1a595fc1ecb322ccb8b2351d"
    },
    "kernelspec": {
      "display_name": "Python 3.9.0 ('.env': venv)",
      "language": "python",
      "name": "python3"
    },
    "language_info": {
      "codemirror_mode": {
        "name": "ipython",
        "version": 3
      },
      "file_extension": ".py",
      "mimetype": "text/x-python",
      "name": "python",
      "nbconvert_exporter": "python",
      "pygments_lexer": "ipython3",
      "version": "3.9.0"
    },
    "orig_nbformat": 4
  },
  "nbformat": 4,
  "nbformat_minor": 0
}
