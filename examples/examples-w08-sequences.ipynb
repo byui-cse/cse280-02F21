{
  "cells": [
    {
      "attachments": {},
      "cell_type": "markdown",
      "metadata": {
        "id": "Y39ZCWXgRhAa"
      },
      "source": [
        "# Sequences, Summations, Recursion"
      ]
    },
    {
      "attachments": {},
      "cell_type": "markdown",
      "metadata": {},
      "source": [
        "Learn more about sequences, summations, and recursion through the following Python examples."
      ]
    },
    {
      "attachments": {},
      "cell_type": "markdown",
      "metadata": {},
      "source": [
        "## Sequences"
      ]
    },
    {
      "attachments": {},
      "cell_type": "markdown",
      "metadata": {
        "id": "zBCNAYe_Rppf"
      },
      "source": [
        "Is this an arithmetic or geometric sequence?\n",
        "\n",
        "$ 1, 6, 11, 16, 21 $"
      ]
    },
    {
      "attachments": {},
      "cell_type": "markdown",
      "metadata": {
        "id": "qaYvp_SQQgVU"
      },
      "source": [
        "### Expand for discussion"
      ]
    },
    {
      "attachments": {},
      "cell_type": "markdown",
      "metadata": {
        "id": "UTukuunEQgVV"
      },
      "source": [
        "An arithmetic sequence is a sequence in which there is a common difference between every subsequent two terms. \n",
        "\n",
        "Notice in the example above, there is a difference of 5 between each subsequent two terms.\n",
        "\n",
        "Any arithmetic sequence can be expressed using an equation of the form\n",
        "\n",
        "$a_n = a_0 + nd$,\n",
        "\n",
        "where $a_0$ represents the initial or starting term, and $d$ represents the common difference between subsequent terms.\n",
        "\n",
        "The sequence $1, 6, 11, 16, 21$ is an arithmetic sequence of the form:\n",
        "\n",
        "$a_n = a_0 + nd$, where $a_0=1$, $n=0,1,2,3,4$, and $d=5$.\n",
        "\n",
        "\\\n",
        "\\\n",
        "We can use the Python `range()` function to create some arithmetic sequences. `range()` takes a starting value, an ending value, and an optional \"step\" value. "
      ]
    },
    {
      "cell_type": "code",
      "execution_count": null,
      "metadata": {
        "id": "LAsv_vbqRjrQ"
      },
      "outputs": [],
      "source": [
        "# We can use the range() function to generate some arithmetic sequences\n",
        "result = [*range(1, 22, 5)]\n",
        "print(result)"
      ]
    },
    {
      "attachments": {},
      "cell_type": "markdown",
      "metadata": {
        "id": "H-5wY8B7QgVW"
      },
      "source": [
        "Can we generate *any* arithmetic sequence with Python?"
      ]
    },
    {
      "attachments": {},
      "cell_type": "markdown",
      "metadata": {
        "id": "I_k-ZvucQgVX"
      },
      "source": [
        "What about a sequence where $d$ is not an integer?\n",
        "\n",
        "Example:\n",
        "$a_n = a_0 + n*1.5$, where $a_0 = 1$ and $d=1.5$"
      ]
    },
    {
      "cell_type": "code",
      "execution_count": null,
      "metadata": {
        "id": "n4X4AEHzQgVY"
      },
      "outputs": [],
      "source": [
        "# Will this work? Run it to find out.\n",
        "[*range(0, 10, 1.5)]"
      ]
    },
    {
      "attachments": {},
      "cell_type": "markdown",
      "metadata": {
        "id": "IfInbySNQgVZ"
      },
      "source": [
        "Is there a way to generate this arithmetic sequence in Python?"
      ]
    },
    {
      "attachments": {},
      "cell_type": "markdown",
      "metadata": {
        "id": "tXHD9d_4QgVZ"
      },
      "source": [
        "##### Expand to find out"
      ]
    },
    {
      "cell_type": "code",
      "execution_count": null,
      "metadata": {
        "id": "mCxDKgcyQgVa"
      },
      "outputs": [],
      "source": [
        "# Generate an arithmetic sequence where a_0 = 1 and d = 1.5\n",
        "\n",
        "a_0 = 1\n",
        "d = 1.5\n",
        "[a_0 + n*d for n in range(0,10)]"
      ]
    },
    {
      "attachments": {},
      "cell_type": "markdown",
      "metadata": {},
      "source": [
        "Note how we can use a list comprehension to easily generate any arithmetic sequence.\n",
        "\n",
        "\\\n",
        "\\\n",
        "If we want to get the $nth$ term in a sequence rather than all of the first $n$ terms, we can do it this way, using a `lambda` function:"
      ]
    },
    {
      "cell_type": "code",
      "execution_count": null,
      "metadata": {
        "id": "dQPabemrQgVa"
      },
      "outputs": [],
      "source": [
        "sequence = lambda n: a_0 + n*d\n",
        "sequence(9) # get the 9th term of the sequence"
      ]
    },
    {
      "attachments": {},
      "cell_type": "markdown",
      "metadata": {
        "id": "otpTzY6BQgVa"
      },
      "source": [
        "###  Continue learning about sequences"
      ]
    },
    {
      "attachments": {},
      "cell_type": "markdown",
      "metadata": {
        "id": "cQ3WIniRVcHX"
      },
      "source": [
        "Is this an arithmetic or geometric sequence?\n",
        "\n",
        "$1, 3, 9, 27, 81$"
      ]
    },
    {
      "attachments": {},
      "cell_type": "markdown",
      "metadata": {
        "id": "YywDle-RQgVb"
      },
      "source": [
        "####  Expand for discussion"
      ]
    },
    {
      "attachments": {},
      "cell_type": "markdown",
      "metadata": {
        "id": "eAVeACOMQgVb"
      },
      "source": [
        "This is a geometric progression of the form:\n",
        "\n",
        "$a_n = a_0 * r^n$, where $a_0=1$, $n=0,1,2,3,4$, and $r=3$\n",
        "\n",
        "Just like with an arithmetic progression, we can generate a geometric progression using a list comprehension."
      ]
    },
    {
      "cell_type": "code",
      "execution_count": null,
      "metadata": {
        "id": "T_S8YxvVVrWz"
      },
      "outputs": [],
      "source": [
        "# Using list comprehension\n",
        "a_0 = 1\n",
        "r = 3\n",
        "result = [a_0 * r**n for n in range(0, 5)]\n",
        "print(result)"
      ]
    },
    {
      "cell_type": "code",
      "execution_count": null,
      "metadata": {
        "id": "0r8a7TPwIsyH"
      },
      "outputs": [],
      "source": [
        "# Using a different a_0\n",
        "a_0 = 4\n",
        "r = 3\n",
        "result = [a_0 * r**n for n in range(0, 5)]\n",
        "print(result)"
      ]
    },
    {
      "attachments": {},
      "cell_type": "markdown",
      "metadata": {
        "id": "wVCiuevxQgVc"
      },
      "source": [
        "#### You try it"
      ]
    },
    {
      "attachments": {},
      "cell_type": "markdown",
      "metadata": {
        "id": "o4jX42nnQgVc"
      },
      "source": [
        "Write a Python list comprehension to generate this sequence:\n",
        "\n",
        "2.0, 1.0, 0.5, 0.25, 0.125, 0.0625, 0.03125, 0.015625, 0.0078125, 0.00390625\n",
        "\n",
        "Is this geometric or arithmetic?"
      ]
    },
    {
      "attachments": {},
      "cell_type": "markdown",
      "metadata": {
        "id": "nGYqSw_jQgVd"
      },
      "source": [
        "#####  "
      ]
    },
    {
      "cell_type": "code",
      "execution_count": null,
      "metadata": {
        "id": "1GnBbGiYQgVd"
      },
      "outputs": [],
      "source": [
        "#@title Sample Solution {display-mode: \"form\"}\n",
        "a_0 = 2\n",
        "r = 0.5\n",
        "result = [a_0 * r**n for n in range(10)]\n",
        "print(result)"
      ]
    },
    {
      "attachments": {},
      "cell_type": "markdown",
      "metadata": {
        "id": "Kw9wYTKVQgVd"
      },
      "source": [
        "## Recurrence relations"
      ]
    },
    {
      "attachments": {},
      "cell_type": "markdown",
      "metadata": {
        "id": "9Zd1aGiEQgVd"
      },
      "source": [
        "Write a function to generate the sequence $f_n$ where \n",
        "\n",
        "$f_0 = 4$\\\n",
        "$f_n = f_{n-1} + 2n \\text{,   for } n\\ge1$"
      ]
    },
    {
      "cell_type": "code",
      "execution_count": null,
      "metadata": {
        "id": "q4_bLTOnQgVe"
      },
      "outputs": [],
      "source": [
        "# Define the function\n",
        "def f(n):\n",
        "    if n==0:\n",
        "        return 4\n",
        "    else:\n",
        "        return f(n-1) + 2*n"
      ]
    },
    {
      "cell_type": "code",
      "execution_count": null,
      "metadata": {
        "id": "HaUmnoEFQgVe"
      },
      "outputs": [],
      "source": [
        "# Display the first 10 numbers in the sequence\n",
        "[f(n) for n in range(10)]"
      ]
    },
    {
      "attachments": {},
      "cell_type": "markdown",
      "metadata": {
        "id": "kqeN0Kb1QgVe"
      },
      "source": [
        "Using lambda"
      ]
    },
    {
      "cell_type": "code",
      "execution_count": null,
      "metadata": {
        "id": "Pou1eVA-QgVe"
      },
      "outputs": [],
      "source": [
        "f = lambda n: 4 if n==0 else f(n-1) + 2*n\n",
        "\n",
        "[f(n) for n in range(10)]"
      ]
    },
    {
      "attachments": {},
      "cell_type": "markdown",
      "metadata": {
        "id": "81VrhoOzQgVe"
      },
      "source": [
        "### Try it"
      ]
    },
    {
      "attachments": {},
      "cell_type": "markdown",
      "metadata": {
        "id": "PycjCnZ_QgVe"
      },
      "source": [
        "Write a function, then generate the first 10 numbers in $f_n$ defined as:\n",
        "\n",
        "$f_0 = 1$\\\n",
        "$f_n = n^2 * f_{n-1} \\text{, for } n\\ge 1$"
      ]
    },
    {
      "attachments": {},
      "cell_type": "markdown",
      "metadata": {
        "id": "xkoHU7q0QgVf"
      },
      "source": [
        "####  "
      ]
    },
    {
      "cell_type": "code",
      "execution_count": null,
      "metadata": {},
      "outputs": [],
      "source": [
        "def f(n):\n",
        "    if n==0:\n",
        "        return 1\n",
        "    else:\n",
        "        return n**2 * f(n-1)\n",
        "    \n",
        "[f(n) for n in range(10)]"
      ]
    },
    {
      "cell_type": "code",
      "execution_count": null,
      "metadata": {
        "id": "QtnRJ-J7QgVf"
      },
      "outputs": [],
      "source": [
        "f = lambda n: 1 if n==0 else n**2 * f(n-1)\n",
        "[f(n) for n in range(10)]"
      ]
    },
    {
      "cell_type": "code",
      "execution_count": null,
      "metadata": {
        "id": "VQrsOJktQgVf"
      },
      "outputs": [],
      "source": [
        "[*map(lambda n: 1 if n==0 else n**2 * f(n-1), range(10))]"
      ]
    },
    {
      "attachments": {},
      "cell_type": "markdown",
      "metadata": {
        "id": "xFvM_B1wR9BL"
      },
      "source": [
        "##### Fibonacci\n",
        "The Fibonacci sequence is defined as:\n",
        "\n",
        "$f_0 = 0$\\\n",
        "$f_1 = 1$\\\n",
        "$f_n = f_{n-1} + f_{n-2} \\text{ , for } n\\ge2$\n",
        "\n",
        "Write a function using *lambda*, then generate the first 10 numbers in the sequence.\n"
      ]
    },
    {
      "attachments": {},
      "cell_type": "markdown",
      "metadata": {
        "id": "IAtaIylUS4VM"
      },
      "source": [
        "######  "
      ]
    },
    {
      "cell_type": "code",
      "execution_count": null,
      "metadata": {
        "id": "y1wwJyabSASe"
      },
      "outputs": [],
      "source": [
        "fib = lambda n: 0 if n==0 else 1 if n==1 else fib(n-1) + fib(n-2)\n",
        "[fib(n) for n in range(10)]"
      ]
    },
    {
      "cell_type": "code",
      "execution_count": null,
      "metadata": {},
      "outputs": [],
      "source": [
        "%%timeit\n",
        "[fib(n) for n in range(10)]"
      ]
    },
    {
      "cell_type": "code",
      "execution_count": null,
      "metadata": {},
      "outputs": [],
      "source": [
        "# Better using tail recursion\n",
        "fib = lambda n, a=0, b=1: a if n==0 else b if n==1 else fib(n-1, b, a+b)\n",
        "%timeit [fib(n) for n in range(10)]"
      ]
    },
    {
      "attachments": {},
      "cell_type": "markdown",
      "metadata": {},
      "source": [
        "Another way, using a generator with Python `yield`. This is not using recursion, but generating each fib number iteratively."
      ]
    },
    {
      "cell_type": "code",
      "execution_count": null,
      "metadata": {},
      "outputs": [],
      "source": [
        "def fib():\n",
        "    a = 0\n",
        "    b = 1\n",
        "    while True:\n",
        "        yield b\n",
        "        a,b = b,a+b"
      ]
    },
    {
      "cell_type": "code",
      "execution_count": null,
      "metadata": {},
      "outputs": [],
      "source": [
        "f = fib()\n",
        "print([next(f) for _ in range(20)])"
      ]
    },
    {
      "cell_type": "code",
      "execution_count": null,
      "metadata": {},
      "outputs": [],
      "source": [
        "%%timeit\n",
        "f = fib()\n",
        "[next(f) for _ in range(10)]"
      ]
    },
    {
      "attachments": {},
      "cell_type": "markdown",
      "metadata": {
        "id": "8fZiQvoExjJq"
      },
      "source": [
        "## Summations"
      ]
    },
    {
      "attachments": {},
      "cell_type": "markdown",
      "metadata": {
        "id": "a0ZaJm_buLPk"
      },
      "source": [
        "Let's find the answer to this summation using Python.\n",
        "\n",
        "$$ \\sum_{i = 1}^{100}  i = 1 + 2 + 3 + 4 + \\dots  + 100$$\n"
      ]
    },
    {
      "attachments": {},
      "cell_type": "markdown",
      "metadata": {
        "id": "u0ALz8ZZIk5J"
      },
      "source": [
        "#### In Python"
      ]
    },
    {
      "cell_type": "code",
      "execution_count": null,
      "metadata": {
        "id": "-TQCuEhlvMwO"
      },
      "outputs": [],
      "source": [
        "# Using sum\n",
        "result = sum(range(1,101))\n",
        "print(result)"
      ]
    },
    {
      "attachments": {},
      "cell_type": "markdown",
      "metadata": {
        "id": "u5J9Y7JEvFAW"
      },
      "source": [
        "#### Another way"
      ]
    },
    {
      "cell_type": "code",
      "execution_count": null,
      "metadata": {
        "id": "gJUuZHy9xk3u"
      },
      "outputs": [],
      "source": [
        "# Using reduce\n",
        "from functools import reduce\n",
        "result = reduce(lambda a,b: a + b, range(1, 101))\n",
        "print(result)\n",
        "\n",
        "# Can also use the 'add' operator\n",
        "from operator import add\n",
        "result = reduce(add, range(1, 101))\n",
        "print(result)"
      ]
    },
    {
      "attachments": {},
      "cell_type": "markdown",
      "metadata": {
        "id": "gTos_sX0vNEw"
      },
      "source": [
        "#### Use Python to find the following summation:"
      ]
    },
    {
      "attachments": {},
      "cell_type": "markdown",
      "metadata": {
        "id": "JLdY_aYfzd5o"
      },
      "source": [
        "\n",
        "$$ \\sum_{k=1}^{42} k^2 = 1^2 + 2^2 + 3^2 + 4^2 + \\dots + 42^2 = 1 + 4 + 9 + 16 + \\dots = ? $$"
      ]
    },
    {
      "attachments": {},
      "cell_type": "markdown",
      "metadata": {
        "id": "kaRDtstbv9fd"
      },
      "source": [
        "##### Sample Solution:"
      ]
    },
    {
      "cell_type": "code",
      "execution_count": null,
      "metadata": {
        "id": "GYbYQnoqt6J6"
      },
      "outputs": [],
      "source": [
        "# Using list comprehension\n",
        "n = 42\n",
        "result = sum([k**2 for k in range(1, n+1)])\n",
        "print(result)"
      ]
    },
    {
      "cell_type": "code",
      "execution_count": null,
      "metadata": {
        "id": "FkYvAqxDx9kd"
      },
      "outputs": [],
      "source": [
        "# Using lambda\n",
        "result = sum(map(lambda k: k**2, range(1, n+1)))\n",
        "print(result)"
      ]
    },
    {
      "cell_type": "code",
      "execution_count": null,
      "metadata": {
        "id": "cIPk-J6xwMV1"
      },
      "outputs": [],
      "source": [
        "# Using reduce\n",
        "from functools import reduce\n",
        "from operator import add\n",
        "result = reduce(add, map(lambda i: i**2, range(1,n+1)))\n",
        "print(result)"
      ]
    }
  ],
  "metadata": {
    "colab": {
      "collapsed_sections": [
        "Y39ZCWXgRhAa",
        "qaYvp_SQQgVU",
        "wyIogPODQgVX",
        "tXHD9d_4QgVZ",
        "otpTzY6BQgVa",
        "YywDle-RQgVb",
        "wVCiuevxQgVc",
        "nGYqSw_jQgVd",
        "Kw9wYTKVQgVd",
        "81VrhoOzQgVe",
        "xkoHU7q0QgVf",
        "xFvM_B1wR9BL",
        "IAtaIylUS4VM",
        "8fZiQvoExjJq",
        "u0ALz8ZZIk5J",
        "u5J9Y7JEvFAW",
        "gTos_sX0vNEw",
        "kaRDtstbv9fd",
        "KsGhrTL-GHMz",
        "pnAO1c_3QgVj",
        "7bIYlvXlQgVj",
        "Cla1feKgQgVk",
        "eIcBplJMQgVm"
      ],
      "provenance": []
    },
    "interpreter": {
      "hash": "1977c1262a5a71e57f8e1e2a9337f4268800bf2d1a595fc1ecb322ccb8b2351d"
    },
    "kernelspec": {
      "display_name": "Python 3.9.0 ('.env': venv)",
      "language": "python",
      "name": "python3"
    },
    "language_info": {
      "codemirror_mode": {
        "name": "ipython",
        "version": 3
      },
      "file_extension": ".py",
      "mimetype": "text/x-python",
      "name": "python",
      "nbconvert_exporter": "python",
      "pygments_lexer": "ipython3",
      "version": "3.9.0"
    },
    "orig_nbformat": 4
  },
  "nbformat": 4,
  "nbformat_minor": 0
}
