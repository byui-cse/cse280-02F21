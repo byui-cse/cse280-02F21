{
  "cells": [
    {
      "attachments": {},
      "cell_type": "markdown",
      "metadata": {
        "id": "Y39ZCWXgRhAa"
      },
      "source": [
        "# Sequences, Summations, Recursion"
      ]
    },
    {
      "attachments": {},
      "cell_type": "markdown",
      "metadata": {},
      "source": [
        "Learn more about sequences, summations, and recursion through the following Python examples."
      ]
    },
    {
      "attachments": {},
      "cell_type": "markdown",
      "metadata": {},
      "source": [
        "## Sequences"
      ]
    },
    {
      "attachments": {},
      "cell_type": "markdown",
      "metadata": {
        "id": "zBCNAYe_Rppf"
      },
      "source": [
        "Is this an arithmetic or geometric sequence?\n",
        "\n",
        "$ 1, 6, 11, 16, 21 $"
      ]
    },
    {
      "attachments": {},
      "cell_type": "markdown",
      "metadata": {
        "id": "qaYvp_SQQgVU"
      },
      "source": [
        "### Expand for discussion"
      ]
    },
    {
      "attachments": {},
      "cell_type": "markdown",
      "metadata": {
        "id": "UTukuunEQgVV"
      },
      "source": [
        "An arithmetic sequence is a sequence in which there is a common difference between every subsequent two terms. \n",
        "\n",
        "Notice in the example above, there is a difference of 5 between each subsequent two terms.\n",
        "\n",
        "Any arithmetic sequence can be expressed using an equation of the form\n",
        "\n",
        "$a_n = a_0 + nd$,\n",
        "\n",
        "where $a_0$ represents the initial or starting term, and $d$ represents the common difference between subsequent terms.\n",
        "\n",
        "The sequence $1, 6, 11, 16, 21$ is an arithmetic sequence of the form:\n",
        "\n",
        "$a_n = a_0 + nd$, where $a_0=1$, $n=0,1,2,3,4$, and $d=5$.\n",
        "\n",
        "\\\n",
        "\\\n",
        "We can use the Python `range()` function to create some arithmetic sequences. `range()` takes a starting value, an ending value, and an optional \"step\" value. "
      ]
    },
    {
      "cell_type": "code",
      "execution_count": null,
      "metadata": {
        "id": "LAsv_vbqRjrQ"
      },
      "outputs": [],
      "source": [
        "# We can use the range() function to generate some arithmetic sequences\n",
        "result = [*range(1, 22, 5)]\n",
        "print(result)"
      ]
    },
    {
      "attachments": {},
      "cell_type": "markdown",
      "metadata": {
        "id": "H-5wY8B7QgVW"
      },
      "source": [
        "Can we generate *any* arithmetic sequence with Python?"
      ]
    },
    {
      "attachments": {},
      "cell_type": "markdown",
      "metadata": {
        "id": "I_k-ZvucQgVX"
      },
      "source": [
        "What about a sequence where $d$ is not an integer?\n",
        "\n",
        "Example:\n",
        "$a_n = a_0 + n*1.5$, where $a_0 = 1$ and $d=1.5$"
      ]
    },
    {
      "cell_type": "code",
      "execution_count": null,
      "metadata": {
        "id": "n4X4AEHzQgVY"
      },
      "outputs": [],
      "source": [
        "# Will this work? Run it to find out.\n",
        "[*range(0, 10, 1.5)]"
      ]
    },
    {
      "attachments": {},
      "cell_type": "markdown",
      "metadata": {
        "id": "IfInbySNQgVZ"
      },
      "source": [
        "Is there a way to generate this arithmetic sequence in Python?"
      ]
    },
    {
      "attachments": {},
      "cell_type": "markdown",
      "metadata": {
        "id": "tXHD9d_4QgVZ"
      },
      "source": [
        "##### Expand to find out"
      ]
    },
    {
      "cell_type": "markdown",
      "metadata": {},
      "source": [
        "We can use a list comprehension to generate a sequence."
      ]
    },
    {
      "cell_type": "code",
      "execution_count": 3,
      "metadata": {
        "id": "mCxDKgcyQgVa"
      },
      "outputs": [
        {
          "data": {
            "text/plain": [
              "[1.0, 2.5, 4.0, 5.5, 7.0, 8.5, 10.0, 11.5, 13.0, 14.5]"
            ]
          },
          "execution_count": 3,
          "metadata": {},
          "output_type": "execute_result"
        }
      ],
      "source": [
        "# Generate an arithmetic sequence where a_0 = 1 and d = 1.5\n",
        "\n",
        "a_0 = 1\n",
        "d = 1.5\n",
        "[(a_0 + n*d) for n in range(0,10)]"
      ]
    },
    {
      "attachments": {},
      "cell_type": "markdown",
      "metadata": {},
      "source": [
        "Note how we can use a list comprehension to easily generate any arithmetic sequence. The pattern we can use is:\n",
        "\n",
        "`[(a_0 + n*d) for n in range(0, n+1)]`\n",
        "\n",
        "\\\n",
        "\\\n",
        "If we want to get the $nth$ term in a sequence rather than all of the first $n$ terms, we can do it this way, using a `lambda` function:"
      ]
    },
    {
      "cell_type": "code",
      "execution_count": null,
      "metadata": {
        "id": "dQPabemrQgVa"
      },
      "outputs": [],
      "source": [
        "sequence = lambda n: a_0 + n*d\n",
        "sequence(9) # get the 9th term of the sequence"
      ]
    },
    {
      "attachments": {},
      "cell_type": "markdown",
      "metadata": {
        "id": "otpTzY6BQgVa"
      },
      "source": [
        "###  Continue learning about sequences"
      ]
    },
    {
      "attachments": {},
      "cell_type": "markdown",
      "metadata": {
        "id": "cQ3WIniRVcHX"
      },
      "source": [
        "Is this an arithmetic or geometric sequence?\n",
        "\n",
        "$1, 3, 9, 27, 81$"
      ]
    },
    {
      "attachments": {},
      "cell_type": "markdown",
      "metadata": {
        "id": "YywDle-RQgVb"
      },
      "source": [
        "####  Expand for discussion"
      ]
    },
    {
      "attachments": {},
      "cell_type": "markdown",
      "metadata": {
        "id": "eAVeACOMQgVb"
      },
      "source": [
        "This is a geometric progression of the form:\n",
        "\n",
        "$a_n = a_0 * r^n$, where $a_0=1$, $n=0,1,2,3,4$, and $r=3$\n",
        "\n",
        "Just like with an arithmetic progression, we can generate a geometric progression using a list comprehension."
      ]
    },
    {
      "cell_type": "code",
      "execution_count": 4,
      "metadata": {
        "id": "T_S8YxvVVrWz"
      },
      "outputs": [
        {
          "name": "stdout",
          "output_type": "stream",
          "text": [
            "[1, 3, 9, 27, 81]\n"
          ]
        }
      ],
      "source": [
        "# Using list comprehension\n",
        "a_0 = 1\n",
        "r = 3\n",
        "result = [(a_0 * r**n) for n in range(0, 5)]\n",
        "print(result)"
      ]
    },
    {
      "cell_type": "code",
      "execution_count": 5,
      "metadata": {
        "id": "0r8a7TPwIsyH"
      },
      "outputs": [
        {
          "name": "stdout",
          "output_type": "stream",
          "text": [
            "[4, 12, 36, 108, 324]\n"
          ]
        }
      ],
      "source": [
        "# Using a different a_0\n",
        "a_0 = 4\n",
        "r = 3\n",
        "result = [(a_0 * r**n) for n in range(0, 5)]\n",
        "print(result)"
      ]
    },
    {
      "cell_type": "markdown",
      "metadata": {},
      "source": [
        "The general pattern we can use to generate a geometric sequence is\n",
        "\n",
        "`[(a_0 * r**n) for n in range(0, n+1)]`"
      ]
    },
    {
      "attachments": {},
      "cell_type": "markdown",
      "metadata": {
        "id": "wVCiuevxQgVc"
      },
      "source": [
        "#### You try it"
      ]
    },
    {
      "attachments": {},
      "cell_type": "markdown",
      "metadata": {
        "id": "o4jX42nnQgVc"
      },
      "source": [
        "Write a Python list comprehension to generate this sequence:\n",
        "\n",
        "2.0, 1.0, 0.5, 0.25, 0.125, 0.0625, 0.03125, 0.015625, 0.0078125, 0.00390625\n",
        "\n",
        "Is this geometric or arithmetic?"
      ]
    },
    {
      "attachments": {},
      "cell_type": "markdown",
      "metadata": {
        "id": "nGYqSw_jQgVd"
      },
      "source": [
        "#####  "
      ]
    },
    {
      "cell_type": "code",
      "execution_count": null,
      "metadata": {
        "id": "1GnBbGiYQgVd"
      },
      "outputs": [],
      "source": [
        "#@title Sample Solution {display-mode: \"form\"}\n",
        "a_0 = 2\n",
        "r = 0.5\n",
        "result = [a_0 * r**n for n in range(10)]\n",
        "print(result)"
      ]
    },
    {
      "attachments": {},
      "cell_type": "markdown",
      "metadata": {
        "id": "Kw9wYTKVQgVd"
      },
      "source": [
        "## Recurrence relations"
      ]
    },
    {
      "attachments": {},
      "cell_type": "markdown",
      "metadata": {
        "id": "9Zd1aGiEQgVd"
      },
      "source": [
        "Write a function to generate the sequence $f_n$ where \n",
        "\n",
        "$f_0 = 4$\\\n",
        "$f_n = f_{n-1} + 2n \\text{,   for } n\\ge1$"
      ]
    },
    {
      "cell_type": "markdown",
      "metadata": {},
      "source": [
        "Note we need to define the base case and the recursive case."
      ]
    },
    {
      "cell_type": "code",
      "execution_count": null,
      "metadata": {
        "id": "q4_bLTOnQgVe"
      },
      "outputs": [],
      "source": [
        "# Define the function\n",
        "def f(n):\n",
        "    if n==0: # base case\n",
        "        return 4\n",
        "    else: # recursive case\n",
        "        return f(n-1) + 2*n"
      ]
    },
    {
      "cell_type": "code",
      "execution_count": null,
      "metadata": {
        "id": "HaUmnoEFQgVe"
      },
      "outputs": [],
      "source": [
        "# Use a list comprehension to generate the first 10 numbers in the sequence\n",
        "[f(n) for n in range(10)]"
      ]
    },
    {
      "attachments": {},
      "cell_type": "markdown",
      "metadata": {
        "id": "kqeN0Kb1QgVe"
      },
      "source": [
        "Using lambda"
      ]
    },
    {
      "cell_type": "code",
      "execution_count": null,
      "metadata": {
        "id": "Pou1eVA-QgVe"
      },
      "outputs": [],
      "source": [
        "# Alternative solution using lambda function\n",
        "f = lambda n: 4 if n==0 else f(n-1) + 2*n\n",
        "\n",
        "[f(n) for n in range(10)]"
      ]
    },
    {
      "attachments": {},
      "cell_type": "markdown",
      "metadata": {
        "id": "81VrhoOzQgVe"
      },
      "source": [
        "### Try it"
      ]
    },
    {
      "attachments": {},
      "cell_type": "markdown",
      "metadata": {
        "id": "PycjCnZ_QgVe"
      },
      "source": [
        "Write a function, then generate the first 10 numbers in $f_n$ defined as:\n",
        "\n",
        "$f_0 = 1$\\\n",
        "$f_n = n^2 * f_{n-1} \\text{, for } n\\ge 1$"
      ]
    },
    {
      "attachments": {},
      "cell_type": "markdown",
      "metadata": {
        "id": "xkoHU7q0QgVf"
      },
      "source": [
        "####  "
      ]
    },
    {
      "cell_type": "code",
      "execution_count": null,
      "metadata": {},
      "outputs": [],
      "source": [
        "# @title Sample Solution {display-mode: \"form\"}\n",
        "def f(n):\n",
        "    if n==0: # base case\n",
        "        return 1\n",
        "    else: # recursive case\n",
        "        return n**2 * f(n-1)\n",
        "    \n",
        "[f(n) for n in range(10)]"
      ]
    },
    {
      "cell_type": "code",
      "execution_count": null,
      "metadata": {
        "id": "QtnRJ-J7QgVf"
      },
      "outputs": [],
      "source": [
        "# @title Alternative Sample solution {display-mode: \"form\"}\n",
        "# Using a lambda function\n",
        "f = lambda n: 1 if n==0 else n**2 * f(n-1)\n",
        "[f(n) for n in range(10)]"
      ]
    },
    {
      "cell_type": "code",
      "execution_count": null,
      "metadata": {
        "id": "VQrsOJktQgVf"
      },
      "outputs": [],
      "source": [
        "# @title Alternative Sample solution {display-mode: \"form\"}\n",
        "# Another way to write the same thing using map()\n",
        "[*map(lambda n: 1 if n==0 else n**2 * f(n-1), range(10))]"
      ]
    },
    {
      "attachments": {},
      "cell_type": "markdown",
      "metadata": {
        "id": "xFvM_B1wR9BL"
      },
      "source": [
        "##### Fibonacci\n",
        "The Fibonacci sequence is defined as:\n",
        "\n",
        "$f_0 = 0$\\\n",
        "$f_1 = 1$\\\n",
        "$f_n = f_{n-1} + f_{n-2} \\text{ , for } n\\ge2$"
      ]
    },
    {
      "cell_type": "markdown",
      "metadata": {},
      "source": [
        "##### Try it"
      ]
    },
    {
      "cell_type": "markdown",
      "metadata": {},
      "source": [
        "Write a function to represent the Fibonacci sequence, first using a regular Python function, then using *lambda*. Then generate the first 10 numbers in the sequence."
      ]
    },
    {
      "cell_type": "code",
      "execution_count": 12,
      "metadata": {},
      "outputs": [
        {
          "data": {
            "text/plain": [
              "[0, 1, 1, 2, 3, 5, 8, 13, 21, 34]"
            ]
          },
          "execution_count": 12,
          "metadata": {},
          "output_type": "execute_result"
        }
      ],
      "source": [
        "#@title Sample Solution using regular Python function{display-mode: \"form\"}\n",
        "def fib(n):\n",
        "    if n==0: # first base case\n",
        "        return 0\n",
        "    elif n==1: # second base case\n",
        "        return 1\n",
        "    else: # recursive case\n",
        "        return fib(n-1) + fib(n-2)\n",
        "    \n",
        "[fib(n) for n in range(10)]"
      ]
    },
    {
      "cell_type": "code",
      "execution_count": 13,
      "metadata": {},
      "outputs": [
        {
          "name": "stdout",
          "output_type": "stream",
          "text": [
            "14.6 µs ± 462 ns per loop (mean ± std. dev. of 7 runs, 100,000 loops each)\n"
          ]
        }
      ],
      "source": [
        "%%timeit # This is a Jupyter notebook addition that will time the execution of the cell\n",
        "[fib(n) for n in range(10)]"
      ]
    },
    {
      "attachments": {},
      "cell_type": "markdown",
      "metadata": {
        "id": "IAtaIylUS4VM"
      },
      "source": [
        "######  "
      ]
    },
    {
      "cell_type": "code",
      "execution_count": 14,
      "metadata": {
        "id": "y1wwJyabSASe"
      },
      "outputs": [
        {
          "data": {
            "text/plain": [
              "[0, 1, 1, 2, 3, 5, 8, 13, 21, 34]"
            ]
          },
          "execution_count": 14,
          "metadata": {},
          "output_type": "execute_result"
        }
      ],
      "source": [
        "# @title Sample Solution {display-mode: \"form\"}\n",
        "# Alternative solution using lambda function\n",
        "fib2 = lambda n: 0 if n==0 else 1 if n==1 else fib2(n-1) + fib2(n-2)\n",
        "[fib2(n) for n in range(10)]"
      ]
    },
    {
      "cell_type": "markdown",
      "metadata": {},
      "source": [
        "Let's see how long that takes to run"
      ]
    },
    {
      "cell_type": "code",
      "execution_count": 15,
      "metadata": {},
      "outputs": [
        {
          "name": "stdout",
          "output_type": "stream",
          "text": [
            "13.9 µs ± 377 ns per loop (mean ± std. dev. of 7 runs, 100,000 loops each)\n"
          ]
        }
      ],
      "source": [
        "%%timeit # This is a Jupyter notebook addition that will time the execution of the cell\n",
        "[fib2(n) for n in range(10)]"
      ]
    },
    {
      "cell_type": "markdown",
      "metadata": {},
      "source": [
        "If you're interested, explore using tail recursion, which can greatly increase performance of a recursive function."
      ]
    },
    {
      "cell_type": "code",
      "execution_count": 18,
      "metadata": {},
      "outputs": [
        {
          "data": {
            "text/plain": [
              "[0, 1, 1, 2, 3, 5, 8, 13, 21, 34]"
            ]
          },
          "execution_count": 18,
          "metadata": {},
          "output_type": "execute_result"
        }
      ],
      "source": [
        "# Fibonacci sequence using tail recursion\n",
        "def fib_tr(n, a=0, b=1):\n",
        "    if n==0: # base case\n",
        "        return a\n",
        "    elif n==1:\n",
        "        return b\n",
        "    else: # recursive case\n",
        "        return fib_tr(n-1, b, a+b)\n",
        "    \n",
        "[fib_tr(n) for n in range(10)]"
      ]
    },
    {
      "cell_type": "code",
      "execution_count": 19,
      "metadata": {},
      "outputs": [
        {
          "name": "stdout",
          "output_type": "stream",
          "text": [
            "3.38 µs ± 247 ns per loop (mean ± std. dev. of 7 runs, 100,000 loops each)\n"
          ]
        }
      ],
      "source": [
        "%%timeit\n",
        "[fib_tr(n) for n in range(10)]"
      ]
    },
    {
      "cell_type": "code",
      "execution_count": 20,
      "metadata": {},
      "outputs": [
        {
          "name": "stdout",
          "output_type": "stream",
          "text": [
            "3.12 µs ± 72 ns per loop (mean ± std. dev. of 7 runs, 100,000 loops each)\n"
          ]
        }
      ],
      "source": [
        "# Tail recursion using lambda\n",
        "fib_tr = lambda n, a=0, b=1: a if n==0 else b if n==1 else fib_tr(n-1, b, a+b)\n",
        "%timeit [fib_tr(n) for n in range(10)]"
      ]
    },
    {
      "attachments": {},
      "cell_type": "markdown",
      "metadata": {},
      "source": [
        "Another way, using a generator with Python `yield`. This is not using recursion, but generating each fib number iteratively."
      ]
    },
    {
      "cell_type": "code",
      "execution_count": 21,
      "metadata": {},
      "outputs": [],
      "source": [
        "def fib():\n",
        "    a = 0\n",
        "    b = 1\n",
        "    while True:\n",
        "        yield b\n",
        "        a,b = b,a+b"
      ]
    },
    {
      "cell_type": "code",
      "execution_count": 22,
      "metadata": {},
      "outputs": [
        {
          "name": "stdout",
          "output_type": "stream",
          "text": [
            "[1, 1, 2, 3, 5, 8, 13, 21, 34, 55, 89, 144, 233, 377, 610, 987, 1597, 2584, 4181, 6765]\n"
          ]
        }
      ],
      "source": [
        "f = fib()\n",
        "print([next(f) for _ in range(20)])"
      ]
    },
    {
      "cell_type": "code",
      "execution_count": 23,
      "metadata": {},
      "outputs": [
        {
          "name": "stdout",
          "output_type": "stream",
          "text": [
            "770 ns ± 21.4 ns per loop (mean ± std. dev. of 7 runs, 1,000,000 loops each)\n"
          ]
        }
      ],
      "source": [
        "%%timeit\n",
        "f = fib()\n",
        "[next(f) for _ in range(10)]"
      ]
    },
    {
      "attachments": {},
      "cell_type": "markdown",
      "metadata": {
        "id": "8fZiQvoExjJq"
      },
      "source": [
        "## Summations"
      ]
    },
    {
      "attachments": {},
      "cell_type": "markdown",
      "metadata": {
        "id": "a0ZaJm_buLPk"
      },
      "source": [
        "Let's find the answer to this simple summation using Python.\n",
        "\n",
        "$$ \\sum_{i = 1}^{100}  i = 1 + 2 + 3 + 4 + \\dots  + 100$$\n"
      ]
    },
    {
      "attachments": {},
      "cell_type": "markdown",
      "metadata": {
        "id": "u0ALz8ZZIk5J"
      },
      "source": [
        "#### In Python"
      ]
    },
    {
      "cell_type": "markdown",
      "metadata": {},
      "source": [
        "We can use a list comprehension to create the sequence of numbers represented by the summation. Then use the `sum()` function to add them all together."
      ]
    },
    {
      "cell_type": "code",
      "execution_count": 1,
      "metadata": {},
      "outputs": [
        {
          "data": {
            "text/plain": [
              "5050"
            ]
          },
          "execution_count": 1,
          "metadata": {},
          "output_type": "execute_result"
        }
      ],
      "source": [
        "# First generate the sequence produced by the summation using a list comprehension\n",
        "sequence = [i for i in range(1, 101)]\n",
        "\n",
        "# Then sum the sequence using the sum() function\n",
        "sum(sequence)\n"
      ]
    },
    {
      "cell_type": "markdown",
      "metadata": {},
      "source": [
        "Since this summation is so simple, we can also just use the `range()` function directly."
      ]
    },
    {
      "cell_type": "code",
      "execution_count": 2,
      "metadata": {
        "id": "-TQCuEhlvMwO"
      },
      "outputs": [
        {
          "name": "stdout",
          "output_type": "stream",
          "text": [
            "5050\n"
          ]
        }
      ],
      "source": [
        "# Using sum and range\n",
        "result = sum(range(1,101))\n",
        "print(result)"
      ]
    },
    {
      "attachments": {},
      "cell_type": "markdown",
      "metadata": {
        "id": "gTos_sX0vNEw"
      },
      "source": [
        "#### Use Python to find the following summation:"
      ]
    },
    {
      "attachments": {},
      "cell_type": "markdown",
      "metadata": {
        "id": "JLdY_aYfzd5o"
      },
      "source": [
        "\n",
        "$$ \\sum_{k=1}^{42} k^2 = 1^2 + 2^2 + 3^2 + 4^2 + \\dots + 42^2 = 1 + 4 + 9 + 16 + \\dots = ? $$"
      ]
    },
    {
      "cell_type": "markdown",
      "metadata": {},
      "source": [
        "Hint: Use a list comprehension to create the sequence, then use the `sum()` function."
      ]
    },
    {
      "attachments": {},
      "cell_type": "markdown",
      "metadata": {
        "id": "kaRDtstbv9fd"
      },
      "source": [
        "##### Sample Solution:"
      ]
    },
    {
      "cell_type": "code",
      "execution_count": null,
      "metadata": {
        "id": "GYbYQnoqt6J6"
      },
      "outputs": [],
      "source": [
        "# Using list comprehension\n",
        "n = 42\n",
        "result = sum([k**2 for k in range(1, n+1)])\n",
        "print(result)"
      ]
    },
    {
      "cell_type": "markdown",
      "metadata": {},
      "source": [
        "This could alternatively be done using a `lambda` function"
      ]
    },
    {
      "cell_type": "code",
      "execution_count": null,
      "metadata": {
        "id": "FkYvAqxDx9kd"
      },
      "outputs": [],
      "source": [
        "# Using lambda\n",
        "result = sum(map(lambda k: k**2, range(1, n+1)))\n",
        "print(result)"
      ]
    },
    {
      "cell_type": "markdown",
      "metadata": {},
      "source": [
        "##### Another Summation Example\n"
      ]
    },
    {
      "cell_type": "markdown",
      "metadata": {},
      "source": [
        "Use Python to print the sequence and compute the sum.\n",
        "\n",
        "$ \\sum_{k=1}^{50} (3 + 7*k) = (3+7) + (3+14) + (3 + 21) \\dots + (3 + 350) = 10 + 17 + 24 + \\dots = ? $"
      ]
    },
    {
      "cell_type": "code",
      "execution_count": 26,
      "metadata": {},
      "outputs": [
        {
          "name": "stdout",
          "output_type": "stream",
          "text": [
            "[10, 17, 24, 31, 38, 45, 52, 59, 66, 73, 80, 87, 94, 101, 108, 115, 122, 129, 136, 143, 150, 157, 164, 171, 178, 185, 192, 199, 206, 213, 220, 227, 234, 241, 248, 255, 262, 269, 276, 283, 290, 297, 304, 311, 318, 325, 332, 339, 346, 353]\n",
            "9075\n"
          ]
        }
      ],
      "source": [
        "# @title Sample Solution {display-mode: \"form\"}\n",
        "# Using list comprehension\n",
        "sequence = [(3 + 7*k) for k in range(1, 51)]\n",
        "print(sequence)\n",
        "summation = sum(sequence)\n",
        "print(summation)"
      ]
    }
  ],
  "metadata": {
    "colab": {
      "collapsed_sections": [
        "Y39ZCWXgRhAa",
        "qaYvp_SQQgVU",
        "wyIogPODQgVX",
        "tXHD9d_4QgVZ",
        "otpTzY6BQgVa",
        "YywDle-RQgVb",
        "wVCiuevxQgVc",
        "nGYqSw_jQgVd",
        "Kw9wYTKVQgVd",
        "81VrhoOzQgVe",
        "xkoHU7q0QgVf",
        "xFvM_B1wR9BL",
        "IAtaIylUS4VM",
        "8fZiQvoExjJq",
        "u0ALz8ZZIk5J",
        "u5J9Y7JEvFAW",
        "gTos_sX0vNEw",
        "kaRDtstbv9fd",
        "KsGhrTL-GHMz",
        "pnAO1c_3QgVj",
        "7bIYlvXlQgVj",
        "Cla1feKgQgVk",
        "eIcBplJMQgVm"
      ],
      "provenance": []
    },
    "interpreter": {
      "hash": "1977c1262a5a71e57f8e1e2a9337f4268800bf2d1a595fc1ecb322ccb8b2351d"
    },
    "kernelspec": {
      "display_name": "Python 3.9.0 ('.env': venv)",
      "language": "python",
      "name": "python3"
    },
    "language_info": {
      "codemirror_mode": {
        "name": "ipython",
        "version": 3
      },
      "file_extension": ".py",
      "mimetype": "text/x-python",
      "name": "python",
      "nbconvert_exporter": "python",
      "pygments_lexer": "ipython3",
      "version": "3.9.0"
    },
    "orig_nbformat": 4
  },
  "nbformat": 4,
  "nbformat_minor": 0
}
