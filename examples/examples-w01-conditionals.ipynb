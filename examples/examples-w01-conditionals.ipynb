{
  "cells": [
    {
      "attachments": {},
      "cell_type": "markdown",
      "metadata": {
        "id": "PtfY5Hea9dEk"
      },
      "source": [
        "##  XOR in Python"
      ]
    },
    {
      "attachments": {},
      "cell_type": "markdown",
      "metadata": {},
      "source": [
        "The integer 5 is either less than 6 or greater than 6. It is not both. Let's demonstrate this using propositions."
      ]
    },
    {
      "cell_type": "code",
      "execution_count": null,
      "metadata": {
        "id": "XsDVwBAz9hPp"
      },
      "outputs": [],
      "source": [
        "p = 5 < 6    # p represents the proposition \"5 is less than 6\"\n",
        "q = 5 > 6    # q represents the proposition \"5 is greater than 6\" "
      ]
    },
    {
      "attachments": {},
      "cell_type": "markdown",
      "metadata": {},
      "source": [
        "We can use *exclusive or* (XOR) to represent the idea that *either* $p$ *or* $q$ is true, but both cannot be true.\n",
        "\n",
        "In Python, XOR operation can be done using the `^` operator, **as long as both arguments are Booleans**. If integers are used instead, the `^` operator will perform *bitwise* XOR."
      ]
    },
    {
      "cell_type": "code",
      "execution_count": null,
      "metadata": {
        "id": "qDO_At-z9jV0"
      },
      "outputs": [],
      "source": [
        "print(p ^ q)  # p XOR q"
      ]
    },
    {
      "attachments": {},
      "cell_type": "markdown",
      "metadata": {},
      "source": [
        "### XOR Truth Table"
      ]
    },
    {
      "attachments": {},
      "cell_type": "markdown",
      "metadata": {},
      "source": [
        "Create a truth table for XOR."
      ]
    },
    {
      "cell_type": "code",
      "execution_count": null,
      "metadata": {
        "id": "pUgT607V9kDl"
      },
      "outputs": [],
      "source": [
        "# Using nested for loops\n",
        "print(\"p      q      p xor q\")\n",
        "for p in [True, False]:\n",
        "    for q in [True, False]:\n",
        "        print(f'{p}    {q}    {p ^ q}')"
      ]
    },
    {
      "attachments": {},
      "cell_type": "markdown",
      "metadata": {},
      "source": [
        "We can format this more nicely. The `!s` forces the variables to be printed as a string \"True\" or \"False\" rather than 0 or 1."
      ]
    },
    {
      "cell_type": "code",
      "execution_count": null,
      "metadata": {
        "id": "pUgT607V9kDl"
      },
      "outputs": [],
      "source": [
        "# Using nested for loops\n",
        "print(\"p      q      p xor q\")\n",
        "for p in [True, False]:\n",
        "    for q in [True, False]:\n",
        "        print(f'{p!s:<7}{q!s:<7}{p ^ q!s:<7}')"
      ]
    },
    {
      "attachments": {},
      "cell_type": "markdown",
      "metadata": {
        "id": "AV3fwRCk9Z0Y"
      },
      "source": [
        "## Other Truth Tables"
      ]
    },
    {
      "cell_type": "markdown",
      "metadata": {
        "id": "jLTEUb7l9xmY"
      },
      "source": [
        "$p \\lor q$"
      ]
    },
    {
      "cell_type": "code",
      "execution_count": null,
      "metadata": {
        "id": "yErAQO0c9XYt"
      },
      "outputs": [],
      "source": [
        "# p or q\n",
        "\n",
        "print(\"p    q    p or q\")\n",
        "for p in [False, True]:\n",
        "  for q in [False, True]:\n",
        "    print(p, q, p or q)\n"
      ]
    },
    {
      "attachments": {},
      "cell_type": "markdown",
      "metadata": {},
      "source": [
        "We can also use a Python List Comprehension and Tuple to create the same truth table. The `*values` uses the Python `*` operator, called the \"unpack\" operator, to extract each item in the `values` list."
      ]
    },
    {
      "cell_type": "code",
      "execution_count": null,
      "metadata": {},
      "outputs": [],
      "source": [
        "print(' p  q  p or q')\n",
        "values = [(p,q, p or q) for p in [False, True] for q in [False, True]]\n",
        "print(*values, sep=\"\\n\")"
      ]
    },
    {
      "attachments": {},
      "cell_type": "markdown",
      "metadata": {},
      "source": [
        "Or we can use `0` and `1` to represent False and True."
      ]
    },
    {
      "cell_type": "code",
      "execution_count": null,
      "metadata": {
        "id": "8YOviQTDI54z"
      },
      "outputs": [],
      "source": [
        "print(' p  q  p or q')\n",
        "values = [(p,q, p or q) for p in [0,1] for q in [0,1]]\n",
        "print(*values, sep=\"\\n\")\n"
      ]
    },
    {
      "attachments": {},
      "cell_type": "markdown",
      "metadata": {
        "id": "IwmZrnMe9zym"
      },
      "source": [
        "### You try it:\n",
        "\n",
        "Create a truth table for $p \\land q$"
      ]
    },
    {
      "cell_type": "code",
      "execution_count": null,
      "metadata": {
        "id": "kJyb8kRs9sPE"
      },
      "outputs": [],
      "source": [
        "# p and q"
      ]
    },
    {
      "attachments": {},
      "cell_type": "markdown",
      "metadata": {
        "id": "hZaJRvNX93rD"
      },
      "source": [
        "Create a truth table for $\\lnot p \\lor q$"
      ]
    },
    {
      "cell_type": "code",
      "execution_count": null,
      "metadata": {
        "id": "uBoUUNY49uW1"
      },
      "outputs": [],
      "source": [
        "# not p or q"
      ]
    },
    {
      "attachments": {},
      "cell_type": "markdown",
      "metadata": {},
      "source": [
        "## Conditional propositions (also called \"implications\")"
      ]
    },
    {
      "attachments": {},
      "cell_type": "markdown",
      "metadata": {},
      "source": [
        "$p$: The weather is nice \\\n",
        "$q$: I will go for a walk\n",
        "\n",
        "$p \\rightarrow q$\n",
        "\n",
        "\n",
        "If the weather is nice, then I will go for a walk.\n",
        "\n",
        "(If the weather is not nice, I might or might not go for a walk.)"
      ]
    },
    {
      "cell_type": "code",
      "execution_count": null,
      "metadata": {},
      "outputs": [],
      "source": [
        "p = False\n",
        "if p:\n",
        "    print(\"I will go for a walk\")\n",
        "\n",
        "# what if p is not true?\n",
        "else:\n",
        "    # Both of the following would be valid to use\n",
        "    print(\"I will go for a walk\")\n",
        "    # print(\"I will not go for a walk\")"
      ]
    },
    {
      "attachments": {},
      "cell_type": "markdown",
      "metadata": {},
      "source": [
        "But what if the weather is nice and I don't go for a walk?\n",
        "\n",
        "This cannot be done in Python, because it would be false."
      ]
    },
    {
      "cell_type": "code",
      "execution_count": null,
      "metadata": {},
      "outputs": [],
      "source": [
        "p = True # The weather is nice\n",
        "if p:\n",
        "    print(\"I will go for a walk\")\n",
        "\n"
      ]
    },
    {
      "attachments": {},
      "cell_type": "markdown",
      "metadata": {},
      "source": [
        "There is no way for Python to print (\"I will not go for a walk\") if $p$ is True.\n",
        "\n",
        "$T \\rightarrow F$ is false."
      ]
    },
    {
      "cell_type": "code",
      "execution_count": null,
      "metadata": {},
      "outputs": [],
      "source": [
        "weather_is_nice = False\n",
        "go_for_walk = True\n",
        "\n",
        "if weather_is_nice:\n",
        "    go_for_walk = True\n",
        "\n",
        "# what if p is not true?\n",
        "else:\n",
        "    go_for_walk = True\n",
        "\n",
        "print(f'I {\"will\" if go_for_walk else \"will not\"} go for a walk' )"
      ]
    },
    {
      "attachments": {},
      "cell_type": "markdown",
      "metadata": {},
      "source": [
        "The only situation in which this proposition is false is if the weather is nice and I *don't* go for a walk. This is false because it is an impossible situation."
      ]
    },
    {
      "attachments": {},
      "cell_type": "markdown",
      "metadata": {},
      "source": [
        "## Compound Propositions"
      ]
    },
    {
      "attachments": {},
      "cell_type": "markdown",
      "metadata": {},
      "source": [
        "Let's look at some compound propositions in the context of Python.\n",
        "\n",
        "Let\n",
        "\n",
        "$p$ = The weather is sunny \\\n",
        "$q$ = The weather is fair \\\n",
        "$r$ = The forecast is rain \\\n",
        "$s$ = We will go to the beach\n",
        "\n",
        "Let's represent the following compound statement using Python:\n",
        "\n",
        "\"If the weather is sunny or the weather is fair and it is not raining, we will go to the beach.\"\n",
        "\n",
        "As a compound proposition, this would be:\n",
        "\n",
        "$((p \\lor q) \\land \\lnot r) \\rightarrow s$\n",
        "\n",
        "\n",
        "In Python:"
      ]
    },
    {
      "cell_type": "code",
      "execution_count": null,
      "metadata": {},
      "outputs": [],
      "source": [
        "# Create some variables to represent the state of the system\n",
        "weather = \"sunny\"\n",
        "# weather = \"cloudy\"\n",
        "# weather = \"fair\"\n",
        "# weather = \"rain\"\n",
        "# forecast = \"sunny\"\n",
        "forecast = \"rain\"\n",
        "\n",
        "# Determine the values of our propositions\n",
        "p = (weather == \"sunny\")\n",
        "q = (weather == \"fair\")\n",
        "r = (forecast == \"rain\")\n",
        "s = False # Default state. The could start as either True or False.\n",
        "\n",
        "if (p or q) and not r:  # do we need parenthesis?\n",
        "    s = True  # we will go to the beach\n",
        "\n",
        "# Display the results\n",
        "print(f'We will {\"\" if s else \"not \"}go to the beach')"
      ]
    },
    {
      "attachments": {},
      "cell_type": "markdown",
      "metadata": {},
      "source": [
        "Does this say anything about what we will do if the weather is not sunny or not fair or if the forecast includes rain?\n",
        "\n",
        "In order to make it more robust, we can use the biconditional and an `if..else` clause.\n",
        "\n",
        "\"We will go to the beach if and only if the weather is sunny or the weather is fair and it is not raining.\n",
        "\n",
        "As a compound proposition, this would be:\n",
        "\n",
        "$((p \\lor q) \\land \\lnot r) \\iff s$\n",
        "\n",
        "Then we could represent this in Python like this:"
      ]
    },
    {
      "cell_type": "code",
      "execution_count": null,
      "metadata": {},
      "outputs": [],
      "source": [
        "# Create some variables to represent the state of the system\n",
        "weather = \"sunny\"\n",
        "# weather = \"cloudy\"\n",
        "# weather = \"fair\"\n",
        "# weather = \"rain\"\n",
        "# forecast = \"sunny\"\n",
        "forecast = \"rain\"\n",
        "\n",
        "# Determine the values of our propositions\n",
        "p = (weather == \"sunny\")\n",
        "q = (weather == \"fair\")\n",
        "r = (forecast == \"rain\")\n",
        "s = False # Default state. The could start as either True or False.\n",
        "\n",
        "if (p or q) and not r:  # do we need parenthesis?\n",
        "    s = True  # we will go to the beach\n",
        "else:\n",
        "    s = False # we will not go to the beach\n",
        "\n",
        "# Display the results\n",
        "print(f'We will {\"\" if s else \"not \"}go to the beach')"
      ]
    },
    {
      "attachments": {},
      "cell_type": "markdown",
      "metadata": {},
      "source": [
        "Note how we will explicitly not go to the beach if the weather is not sunny or the weather is not fair or the forecast is rain."
      ]
    },
    {
      "attachments": {},
      "cell_type": "markdown",
      "metadata": {},
      "source": [
        "### Roller Coaster\n",
        "\n",
        "Here's another example of using conditional statements in Python to implement rules in a system."
      ]
    },
    {
      "cell_type": "code",
      "execution_count": null,
      "metadata": {},
      "outputs": [],
      "source": [
        "# Rules to ride the roller coaster\n",
        "\n",
        "# 1. Must be at least 12 years old and 46 inches tall\n",
        "# 2. Cannot be older than 85\n",
        "# 3. If under 12 but over 46 inches tall, can ride if \n",
        "#    accompanied by someone who is at least 18 years old \n",
        "#    and over 46 inches tall\n",
        "\n",
        "\n",
        "# Constants\n",
        "MIN_AGE = 12\n",
        "MAX_AGE = 85\n",
        "MIN_HEIGHT = 46\n",
        "ACCOMPANY_AGE = 18\n",
        "\n",
        "\n",
        "# Inputs\n",
        "rider1_age = 11\n",
        "rider1_height = 66\n",
        "rider2_age = 19   \n",
        "rider2_height = 67\n",
        "\n",
        "# Logic\n",
        "can_ride = False\n",
        "if ((rider1_age >= MIN_AGE \n",
        "    and rider1_age <= MAX_AGE \n",
        "    and rider1_height >= MIN_HEIGHT) \n",
        "    or\n",
        "    (rider1_age <= MAX_AGE\n",
        "    and rider1_height >= MIN_HEIGHT\n",
        "    and rider2_age >= MIN_AGE\n",
        "    and rider2_age <= MAX_AGE\n",
        "    and rider2_height >= MIN_HEIGHT)):\n",
        "    can_ride = True\n",
        "\n",
        "print(f\"You {'can' if can_ride else 'cannot'} ride.\")\n",
        "\n",
        "\n",
        "\n",
        "\n",
        "\n",
        "\n",
        "# # Another way\n",
        "# condition1 = (rider1_age >= MIN_AGE \n",
        "#     and rider1_age <= MAX_AGE \n",
        "#     and rider1_height >= MIN_HEIGHT)\n",
        "# condition2 = (rider1_age <= MAX_AGE\n",
        "#     and rider1_height >= MIN_HEIGHT\n",
        "#     and rider2_age >= MIN_AGE\n",
        "#     and rider2_age <= MAX_AGE\n",
        "#     and rider2_height >= MIN_HEIGHT)\n",
        "\n",
        "# if condition1 or condition2:\n",
        "#     can_ride = True\n",
        "\n",
        "# print(f\"You {'can' if can_ride else 'cannot'} ride.\")"
      ]
    }
  ],
  "metadata": {
    "colab": {
      "collapsed_sections": [],
      "provenance": []
    },
    "kernelspec": {
      "display_name": "Python 3.9.0 ('.env': venv)",
      "language": "python",
      "name": "python3"
    },
    "language_info": {
      "codemirror_mode": {
        "name": "ipython",
        "version": 3
      },
      "file_extension": ".py",
      "mimetype": "text/x-python",
      "name": "python",
      "nbconvert_exporter": "python",
      "pygments_lexer": "ipython3",
      "version": "3.9.0"
    },
    "vscode": {
      "interpreter": {
        "hash": "1977c1262a5a71e57f8e1e2a9337f4268800bf2d1a595fc1ecb322ccb8b2351d"
      }
    }
  },
  "nbformat": 4,
  "nbformat_minor": 0
}
