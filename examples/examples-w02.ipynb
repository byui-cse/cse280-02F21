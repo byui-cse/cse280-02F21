{
 "cells": [
  {
   "cell_type": "markdown",
   "metadata": {},
   "source": [
    "# Predicates & Quantifiers"
   ]
  },
  {
   "cell_type": "markdown",
   "metadata": {},
   "source": [
    "## Predicates"
   ]
  },
  {
   "cell_type": "markdown",
   "metadata": {},
   "source": [
    "Let's use a predicate to determine which numbers in a list are even "
   ]
  },
  {
   "cell_type": "code",
   "execution_count": null,
   "metadata": {},
   "outputs": [],
   "source": [
    "seq = [0, 1, 2, 3, 5, 8, 13]\n",
    "\n",
    "# Create a predicate to determine\n",
    "# whether x is even\n",
    "def P(x):\n",
    "    return x%2 == 0"
   ]
  },
  {
   "cell_type": "markdown",
   "metadata": {},
   "source": [
    "Try our predicate for a couple of values"
   ]
  },
  {
   "cell_type": "code",
   "execution_count": null,
   "metadata": {},
   "outputs": [],
   "source": [
    "print(P(1)) # False\n",
    "print(P(2)) # True"
   ]
  },
  {
   "cell_type": "markdown",
   "metadata": {},
   "source": [
    "Now let's figure out which items in the list `seq` are even"
   ]
  },
  {
   "cell_type": "code",
   "execution_count": null,
   "metadata": {},
   "outputs": [],
   "source": [
    "# Which items in seq are even?\n",
    "for x in seq:\n",
    "    print(P(x))"
   ]
  },
  {
   "cell_type": "code",
   "execution_count": null,
   "metadata": {},
   "outputs": [],
   "source": [
    "# Or do it this way\n",
    "for x in seq:\n",
    "    if P(x):\n",
    "        print(x)"
   ]
  },
  {
   "cell_type": "markdown",
   "metadata": {},
   "source": [
    "Python has a built-in function called `filter` that takes a predicate and returns only those items in a list for which the predicate is true."
   ]
  },
  {
   "cell_type": "code",
   "execution_count": null,
   "metadata": {},
   "outputs": [],
   "source": [
    "print(list(filter(P, seq)))"
   ]
  },
  {
   "cell_type": "markdown",
   "metadata": {},
   "source": [
    "What if we want to determine some other predicate? We don't need to give the predicate function a name, we can use an anonymous function instead. This is called a **lambda** function."
   ]
  },
  {
   "cell_type": "code",
   "execution_count": null,
   "metadata": {},
   "outputs": [],
   "source": [
    "# Find all values greater than 2\n",
    "print(list(filter(lambda x: x > 2, seq)))"
   ]
  },
  {
   "cell_type": "code",
   "execution_count": null,
   "metadata": {},
   "outputs": [],
   "source": [
    "# Another way using the unpack operator *\n",
    "print([*filter(lambda x: x > 2, seq)])"
   ]
  },
  {
   "cell_type": "markdown",
   "metadata": {},
   "source": [
    "Note that a **lambda** function has an implicit return statement built in. \n",
    "\n",
    "We can also assign a lambda function to a variable."
   ]
  },
  {
   "cell_type": "code",
   "execution_count": null,
   "metadata": {},
   "outputs": [],
   "source": [
    "is_odd = lambda x: x % 2\n",
    "is_even = lambda x: not x%2\n",
    "\n",
    "print([*filter(is_odd, seq)])\n",
    "print([*filter(is_even, seq)])"
   ]
  },
  {
   "cell_type": "markdown",
   "metadata": {},
   "source": [
    "## Quantifiers"
   ]
  },
  {
   "cell_type": "markdown",
   "metadata": {},
   "source": [
    "### List of names"
   ]
  },
  {
   "cell_type": "markdown",
   "metadata": {},
   "source": [
    "The universe of discourse $N$ is the name of everyone in your group. Let $C(n,x)$ mean \"name $n$ contains the letter $x$.\"\n",
    "\n",
    "Let's figure out $\\exists n \\ C(n, \\texttt{\"e\"}) $"
   ]
  },
  {
   "cell_type": "code",
   "execution_count": null,
   "metadata": {},
   "outputs": [],
   "source": [
    "names = ['Alice', 'Bob', 'Sue']\n",
    "letter = 'e'\n",
    "\n",
    "# This is a predicate. \n",
    "# It returns True or False based on a variable or variables.\n",
    "def C(name, letter):\n",
    "  return letter in name"
   ]
  },
  {
   "cell_type": "code",
   "execution_count": null,
   "metadata": {},
   "outputs": [],
   "source": [
    "# Let's check for the name \"Alice\"\n",
    "print(C(\"Alice\", letter))"
   ]
  },
  {
   "cell_type": "code",
   "execution_count": null,
   "metadata": {},
   "outputs": [],
   "source": [
    "# How do we check each name in the list of names?\n",
    "for name in names:\n",
    "  if C(name, letter):\n",
    "    print(name)"
   ]
  },
  {
   "cell_type": "code",
   "execution_count": null,
   "metadata": {},
   "outputs": [],
   "source": [
    "# How do we find out if there is at least one?\n",
    "for name in names:\n",
    "  if C(name, letter):\n",
    "    print(True)\n"
   ]
  },
  {
   "cell_type": "code",
   "execution_count": null,
   "metadata": {},
   "outputs": [],
   "source": [
    "# How do we find out if ALL names contain the letter?\n",
    "for name in names:\n",
    "    if not C(name, letter):\n",
    "        print(False)\n",
    "        break\n",
    "\n"
   ]
  },
  {
   "cell_type": "code",
   "execution_count": null,
   "metadata": {},
   "outputs": [],
   "source": [
    "# A better way....We can use the built-in filter function\n",
    "[*filter(lambda name: C(name, letter), names)]"
   ]
  },
  {
   "cell_type": "markdown",
   "metadata": {},
   "source": [
    "Back to our problem:\n",
    "\n",
    "$ \\exists n \\ C(n, \\texttt{\"e\"}) $"
   ]
  },
  {
   "cell_type": "code",
   "execution_count": null,
   "metadata": {},
   "outputs": [],
   "source": [
    "names = ['Alice', 'Bob', 'Carol', 'Dave', 'Eliza']\n",
    "\n",
    "# names = ['Bob', 'Carol']\n",
    "\n",
    "# What is the predicate?\n",
    "result = len([*filter(lambda name: 'e' in name, names)]) > 0\n",
    "\n",
    "# What is the result?\n",
    "print(result)"
   ]
  }
 ],
 "metadata": {
  "kernelspec": {
   "display_name": "Python 3.9.0 ('.env': venv)",
   "language": "python",
   "name": "python3"
  },
  "language_info": {
   "codemirror_mode": {
    "name": "ipython",
    "version": 3
   },
   "file_extension": ".py",
   "mimetype": "text/x-python",
   "name": "python",
   "nbconvert_exporter": "python",
   "pygments_lexer": "ipython3",
   "version": "3.9.0"
  },
  "orig_nbformat": 4,
  "vscode": {
   "interpreter": {
    "hash": "1977c1262a5a71e57f8e1e2a9337f4268800bf2d1a595fc1ecb322ccb8b2351d"
   }
  }
 },
 "nbformat": 4,
 "nbformat_minor": 2
}
