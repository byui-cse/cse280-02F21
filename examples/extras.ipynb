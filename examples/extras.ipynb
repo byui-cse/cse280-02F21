{
 "cells": [
  {
   "cell_type": "markdown",
   "metadata": {
    "id": "pypw3dCnAE2c"
   },
   "source": [
    "#### Simple encryption algorithm"
   ]
  },
  {
   "cell_type": "code",
   "execution_count": null,
   "metadata": {
    "id": "rADnpjDBMsnZ"
   },
   "outputs": [],
   "source": [
    "# Simple encryption algorithm that shifts \n",
    "# each character by 3\n",
    "alphabet = [chr(letter + 32) for letter in range(0, 95)]\n",
    "print(alphabet)\n",
    "\n",
    "rotate = lambda text, shift: ''.join(map(lambda c: alphabet[alphabet.index(c) - shift % len(alphabet)], text))\n",
    "derotate = lambda text, shift: rotate(text, -shift)\n",
    "\n",
    "plaintext = 'Hello class, this is the plaintext'\n",
    "print('Plaintext:', plaintext)\n",
    "ciphertext = rotate(plaintext, 5)\n",
    "print('Ciphertext:', ciphertext)\n",
    "print('Plaintext:', derotate(ciphertext, 5))\n"
   ]
  }
 ],
 "metadata": {
  "kernelspec": {
   "display_name": ".env",
   "language": "python",
   "name": "python3"
  },
  "language_info": {
   "name": "python",
   "version": "3.9.0 (tags/v3.9.0:9cf6752, Oct  5 2020, 15:34:40) [MSC v.1927 64 bit (AMD64)]"
  },
  "orig_nbformat": 4,
  "vscode": {
   "interpreter": {
    "hash": "1977c1262a5a71e57f8e1e2a9337f4268800bf2d1a595fc1ecb322ccb8b2351d"
   }
  }
 },
 "nbformat": 4,
 "nbformat_minor": 2
}
