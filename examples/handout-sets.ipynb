{
  "cells": [
    {
      "attachments": {},
      "cell_type": "markdown",
      "metadata": {
        "id": "HWfxanJ3n8OW"
      },
      "source": [
        "# Set Builder Notation and List/Set Comprehensions in Python\n",
        "\n",
        "## Set Builder Notation\n",
        "\n",
        "Sets can be defined in two ways:\n",
        "1. **roster** notation \n",
        "2. **set builder** notation. \n",
        "\n",
        "**Roster notation** defines a set by listing all the elements of the set inside curly braces and separated by commas. This notation is useful when the number of elements in a set is small. For example, the set consisting of all odd positive integers less than 10 can be defined using roster notation as:\n",
        "\n",
        "$A = \\{1,3,5,7,9\\}$\n",
        "\n",
        "\n",
        "**Set builder** notation is a way to define a set based on some condition or rule. \n",
        "\n",
        "The format for set builder notation is $A = \\{ x \\in S:\\, P(x) \\}$, where $x$ is a variable representing elements of the set $A$ being defined, $S$ is a larger set from which elements of $A$ can be taken, and $P(x)$ is a condition or **predicate** that determines whether $x$ is an element of the set. For example, the set of all odd positive integers less than 10 can be defined using set builder notation as:\n",
        "\n",
        "$A = \\{ x \\in \\mathbb{Z} :\\, x \\textrm{ is odd and } 0 < x < 10  \\}$\n",
        "\n",
        "\n",
        "Recall that a **predicate** is a logical statement whose truth value is a function of one or more variables. In the above statement, the predicate is \"$x \\textrm{ is odd and } 0 < x < 10$\". This predicate is a condition or *truth value* that depends on the variable $x$."
      ]
    },
    {
      "attachments": {},
      "cell_type": "markdown",
      "metadata": {
        "id": "F1YXDzZWn8Ol"
      },
      "source": [
        "## Set Comprehensions in Python\n",
        "\n",
        "Just like how mathematical sets can be constructed using roster notation or set builder notation, Python also offers two methods for constructing not only sets, but also lists and dictionaries. [\\[1\\]](https://docs.python.org/3/reference/expressions.html#displays-for-lists-sets-and-dictionaries)\n",
        "\n",
        "1. The container elements can be listed explicity, similar to roster notation.\n",
        "\n",
        "   `L = [2,4,6,8,10] # a list` \\\n",
        "   `S = {2,4,6,8,10} # a set` \\\n",
        "   `D = {'apples': 1, 'bananas': 3, 'cherries': 7, 'dates': 2, 'oranges': 1} # a dictionary`\n",
        "\n",
        "2. Or, the container elements can be generated using a *comprehension*. The rest of this section will discuss Python comprehensions.\n",
        "\n",
        "Python set comprehensions are similar to Python [list comprehensions](https://docs.python.org/3.10/tutorial/datastructures.html#list-comprehensions), but they use curly braces {} instead of square brackets []. Both are patterned after the mathematical set builder notation. \n",
        "\n",
        "The comprehension syntax is `{ expression for variable in iterable if condition }`, where `expression` is the final value of each element in the set, `for variable in iterable` describes a sequence from which elements of the new container will be taken, and `condition` is an optional **predicate** that determines whether the element is included in the set. \n",
        "\n",
        "For example, the set of all odd integers between 0 and 10 can be defined using a set comprehension in Python as:\n",
        "\n",
        "`A = { x for x in range(1, 10) if x % 2 }`\n",
        "\n",
        "In this expression, `x` is a varable representing elements of the set $A$ being defined, `for x in range(1, 10)` is \"larger set\" from which each `x` is taken, and `if x % 2` is the condition or predicate that detemines whether each `x` is an element of the set being defined. \n",
        "\n",
        "The set of the first twenty even numbers can be represented using set builder notation as:\n",
        "\n",
        "$S = \\{ x \\in \\mathbb{Z} :\\, x \\textrm{ is even and } 0 \\le x < 40  \\}$\n",
        "\n",
        "This set can be created in Python like this:\n",
        "\n",
        "`S = {x for x in range(0, 40) if x % 2 == 0}`"
      ]
    },
    {
      "cell_type": "code",
      "execution_count": null,
      "metadata": {
        "id": "bESxAbSkn8Oo"
      },
      "outputs": [],
      "source": [
        "#@title Try it: {display-mode: \"form\"}\n",
        "S = {x for x in range(0, 40) if x % 2 == 0}\n",
        "print(S)"
      ]
    },
    {
      "attachments": {},
      "cell_type": "markdown",
      "metadata": {
        "id": "Oz6_bUWTn8Ot"
      },
      "source": [
        "Another way to represent this same set of the first twenty even numbers would be:\n",
        "\n",
        "$S = \\{x \\in \\mathbb{Z}: x = 2n \\textrm{ and } 0 \\le n < 20 \\}$\n",
        "\n",
        "In Python, this would be:\n",
        "\n",
        "`S = {2*n for n in range(0, 20)}`"
      ]
    },
    {
      "cell_type": "code",
      "execution_count": null,
      "metadata": {
        "id": "IZG3JHVzn8Ou"
      },
      "outputs": [],
      "source": [
        "#@title Try it: {display-mode: \"form\"}\n",
        "S = {2*n for n in range(0, 20)}\n",
        "print(S)"
      ]
    },
    {
      "attachments": {},
      "cell_type": "markdown",
      "metadata": {
        "id": "geO7VGt4n8Ov"
      },
      "source": [
        "Note that in Python, the larger set $\\mathbb{Z}$ is implied by the use of the `range()` function, which only generates integers."
      ]
    },
    {
      "attachments": {},
      "cell_type": "markdown",
      "metadata": {
        "id": "1l7EDsNSn8Ow"
      },
      "source": [
        "## Nested loops\n",
        "Python comprehensions can have one or more `for` clauses and zero or more `if` clauses. For example, to find the Cartesian Product of two sets, we can use a set comprehension that contains all possible pairs of elements from two sets.\n",
        "\n",
        "    list1 = [1, 2, 3]\n",
        "    list2 = ['a', 'b', 'c']\n",
        "    pairs = [(x, y) for x in list1 for y in list2]"
      ]
    },
    {
      "cell_type": "code",
      "execution_count": null,
      "metadata": {
        "id": "pBd_bKaZn8Ox"
      },
      "outputs": [],
      "source": [
        "#@title Try it: {display-mode: \"form\"}\n",
        "\n",
        "list1 = [1, 2, 3]\n",
        "list2 = ['a', 'b', 'c']\n",
        "pairs = [(x, y) for x in list1 for y in list2]\n",
        "print(pairs)"
      ]
    },
    {
      "attachments": {},
      "cell_type": "markdown",
      "metadata": {
        "id": "GI003aZOn8Oy"
      },
      "source": [
        "## Examples\n",
        "Here are a few more examples of set builder notation and their equivalent set comprehensions in Python. Note that we can't represent an infinite set in Python, so we will sometimes need to choose an appropriate range to represent the set $\\mathbb{Z}$.\n",
        "\n",
        "1. The set of all two-digit multiples of 3:\n",
        "\n",
        "  Set builder notation: $\\{ x:\\, x \\textrm{ is a multiple of }3 \\textrm{ and } 10 \\le x < 100 \\}$\\\n",
        "  Set comprehension in Python: `{ x for x in range(10, 100) if x % 3 == 0 }`\n",
        "\n",
        "2. The set of all words in a list that contain the letter \"e\":\n",
        "\n",
        "  Set builder notation: $\\{ w:\\, w \\textrm{ is a word in the list and \"e\" is in }w \\}$\\\n",
        "  Set comprehension in Python: `{ w for w in lst if \"e\" in w }`\n",
        "\n",
        "3. The set of all words in a list that start with the letter \"a\":\n",
        "\n",
        "  Set builder notation: $\\{ w:\\, w \\textrm{ is a word in the list and } w \\textrm{ starts with \"a\"} \\}$\\\n",
        "  Set comprehension in Python: `{ w for w in lst if w.startswith(\"a\") }`\n"
      ]
    },
    {
      "cell_type": "code",
      "execution_count": null,
      "metadata": {
        "id": "zenFgYJyn8Oz"
      },
      "outputs": [],
      "source": [
        "#@title Try it: {display-mode: \"form\"}\n",
        "#1\n",
        "print({ x for x in range(10, 100) if x % 3 == 0 })\n",
        "\n",
        "#2 \n",
        "lst = ['apple', 'banana', 'avocado', 'orange']\n",
        "print({ w for w in lst if \"e\" in w })\n",
        "\n",
        "#3\n",
        "lst = ['apple', 'banana', 'avocado', 'orange']\n",
        "print({ w for w in lst if w.startswith(\"a\") })"
      ]
    },
    {
      "attachments": {},
      "cell_type": "markdown",
      "metadata": {
        "id": "JRnDr00on8O1"
      },
      "source": [
        "## Using Python Comprehensions to solve problems\n",
        "Here are a few examples of using Python comprehensions.\n",
        "\n",
        "1. Cartesian product: Given two lists, create a new list that contains all possible pairs of elements from the two lists.\n",
        "\n",
        "        list1 = [1, 2, 3]\n",
        "        list2 = ['a', 'b', 'c']\n",
        "        pairs = [(x, y) for x in list1 for y in list2]\n",
        "\n",
        "2. Set intersection: Given two sets, create a new set that contains only the elements that are present in both sets.\n",
        "\n",
        "        set1 = {1, 2, 3, 4, 5}\n",
        "        set2 = {4, 5, 6, 7, 8}\n",
        "        intersection = {x for x in set1 if x in set2}\n",
        "\n",
        "3. Set difference: Given two sets, create a new set that contains only the elements that are present in one set but not the other.\n",
        "\n",
        "        set1 = {1, 2, 3, 4, 5}\n",
        "        set2 = {4, 5, 6, 7, 8}\n",
        "        difference = {x for x in set1 if x not in set2}\n",
        "\n",
        "4. Filtering: Given a list of numbers, create a new list that contains only numbers divisible by 9.\n",
        "\n",
        "        numbers = [5071, 8625, 3984, 2573, 5086, 978, 2935, \n",
        "                   5257, 8455, 1116, 5610, 4077, 2097, 7116, \n",
        "                   821, 5342, 2813, 794, 5323, 6228, 843]\n",
        "        divisible_by_9 = [x for x in numbers if not x % 9]\n",
        "\n",
        "5. Mapping: Given a list of strings, create a new list that contains the lengths of each string.\n",
        "\n",
        "        words = ['apple', 'banana', 'cherry', 'date']\n",
        "        word_lengths = [len(word) for word in words]\n",
        "\n"
      ]
    },
    {
      "attachments": {},
      "cell_type": "markdown",
      "metadata": {
        "id": "b0Mq3Ep1n8O2"
      },
      "source": [
        "Try running the above examples to get a feel for how they work."
      ]
    },
    {
      "cell_type": "markdown",
      "metadata": {},
      "source": [
        "### Optional:\n",
        "Watch this video to learn about why list comprehensions are more efficient than `for` loops in Python.\n",
        "\n",
        "[![THIS is Why List Comprehension is SO Efficient!](https://img.youtube.com/vi/U88M8YbAzQk/0.jpg)](https://www.youtube.com/watch?v=U88M8YbAzQk \"THIS is Why List Comprehension is SO Efficient!\")"
      ]
    },
    {
      "attachments": {},
      "cell_type": "markdown",
      "metadata": {
        "id": "d1xZC6IQn8O2"
      },
      "source": [
        "## Activity 1\n",
        "Use set comprehensions in Python to find the members of the following sets.\n",
        "\n",
        "1. The set of all positive numbers less than or equal to 100 that are divisible by 7.\n",
        "\n",
        "2. The set of all positive numbers less than or equal to 100 that are divisible by 3 and by 5.\n",
        "\n",
        "3. The set of all uppercase letters in a given string. For example, if a given string is \"Hello, World!\", then the set would be \"{H, W}\".\n",
        "\n",
        "4. The set of all words in the following quotation that are longer than 5 characters: \"In the beginning God created the heaven and the earth. And the earth was without form, and void; and darkness was upon the face of the deep. And the Spirit of God moved upon the face of the waters.\""
      ]
    },
    {
      "cell_type": "code",
      "execution_count": null,
      "metadata": {},
      "outputs": [],
      "source": [
        "# Your code here"
      ]
    },
    {
      "cell_type": "code",
      "execution_count": null,
      "metadata": {
        "id": "oPnVG63An8O3"
      },
      "outputs": [],
      "source": [
        "#@title Sample Solutions: {display-mode: \"form\"}\n",
        "\n",
        "# 1\n",
        "print({ x for x in range(1, 101) if x % 7 == 0 })\n",
        "\n",
        "\n",
        "# 2\n",
        "print({ x for x in range(1, 101) if x % 3 == 0 and x % 5 == 0 })\n",
        "\n",
        "# 3\n",
        "s = \"Hello, World!\"\n",
        "upper_letters = { x for x in s if x.isupper() }\n",
        "print(upper_letters)  # {'H', 'W'}\n",
        "\n",
        "# 4\n",
        "phrase = '''\n",
        "In the beginning God created the heaven and the earth. \n",
        "And the earth was without form, and void; and darkness \n",
        "was upon the face of the deep. And the Spirit of God \n",
        "moved upon the face of the waters.\n",
        "'''\n",
        "print({ x for x in phrase.split() if len(x.strip(';,.')) > 5 })"
      ]
    },
    {
      "attachments": {},
      "cell_type": "markdown",
      "metadata": {},
      "source": [
        "# Power sets"
      ]
    },
    {
      "attachments": {},
      "cell_type": "markdown",
      "metadata": {},
      "source": [
        "The power set of set $A$, expressed as $\\mathcal{P}(A)$, is the set of all possible subsets of $A$. \n",
        "\n",
        "$A = \\{a, b, c\\}$ \\\n",
        "$\\mathcal{P}(A) = \\{ \\emptyset, \\{a\\}, \\{b\\}, \\{c\\}, \\{a, b\\}, \\{a,c\\}, \\{b,c\\}, \\{a,b,c\\} \\}$\n",
        "\n",
        "If the cardinality of $A$, expressed as $|A|$, is $n$, then the size of $\\mathcal{P}(A)$ is $2^n$.\n",
        "\n",
        "One way to find the cardinality of the power set is to list each element of $A$, then for each one, assign it a truth value of $0$ or $1$ to indicate whether it is part of a given subset. For example:\n",
        "\n",
        "a|b|c|subset|\n",
        "-|-|-|:-:\n",
        "0|0|0|$$\\emptyset$$\n",
        "0|0|1|$$\\{c\\}$$\n",
        "0|1|0|$$\\{b\\}$$\n",
        "0|1|1|$$\\{b,c\\}$$\n",
        "1|0|0|$$\\{a\\}$$\n",
        "1|0|1|$$\\{a,c\\}$$\n",
        "1|1|0|$$\\{a,b\\}$$\n",
        "1|1|1|$$\\{a,b,c\\}$$\n",
        "\n",
        "\n",
        "This is the same as determining the number of possible bit strings of length $n$, or the number of different patterns that can be made with $n$ bits, which is $2^n$.\n"
      ]
    },
    {
      "attachments": {},
      "cell_type": "markdown",
      "metadata": {},
      "source": [
        "## Activity 2\n",
        "\n",
        "Use Python to generate the power set of a given set with three elements. \n",
        "\n",
        "Begin by generating the Cartesian product of $\\{0,1\\} \\times \\{0,1\\} \\times \\{0,1\\} = \\{0,1\\}^3$. Use a list comprehension to do this. (See examples above.) Print this out to see what you get.\n",
        "\n",
        "Next, convert the set to a list (because a list is subscriptable/indexable).\n",
        "\n",
        "Next, iterate through each element of $\\{0,1\\}^3$, and for each one use a list comprehension to generate a subset by iterating over the size of the original set and using a predicate to check if the same element in $\\{0,1\\}^3$ is a $1$. If so, include it in the subset."
      ]
    },
    {
      "cell_type": "code",
      "execution_count": null,
      "metadata": {},
      "outputs": [],
      "source": [
        "# Your code here"
      ]
    },
    {
      "cell_type": "code",
      "execution_count": null,
      "metadata": {},
      "outputs": [],
      "source": [
        "#@title Sample Solution: {display-mode: \"form\"}\n",
        "# Power set in Python, one way. Note this currently only works with sets of three elements.\n",
        "\n",
        "def powerset(s):\n",
        "  s = list(s) # turn the set into a list because sets are not subscriptable\n",
        "\n",
        "  # only works for a set of 3\n",
        "  for i in [(x,y,z) for x in [0,1] for y in [0,1] for z in [0,1]]:\n",
        "    print([s[x] for x in range(len(s)) if i[x] == 1 ])\n",
        "\n",
        "s = {'a', 'b', 'c'}\n",
        "powerset(s)"
      ]
    }
  ],
  "metadata": {
    "colab": {
      "collapsed_sections": [
        "j_fQCSIl1IBL",
        "ZxjG6wCu1IBP",
        "s3vmaQZ01IBS",
        "edqQg3RZ1IBV",
        "E3gmMSaF1IBW",
        "pH3ztWY9WUuw",
        "mvprI7h9v7Lc",
        "dkjJbtXE9vg3"
      ],
      "provenance": []
    },
    "kernelspec": {
      "display_name": ".env",
      "language": "python",
      "name": "python3"
    },
    "language_info": {
      "codemirror_mode": {
        "name": "ipython",
        "version": 3
      },
      "file_extension": ".py",
      "mimetype": "text/x-python",
      "name": "python",
      "nbconvert_exporter": "python",
      "pygments_lexer": "ipython3",
      "version": "3.9.0"
    },
    "orig_nbformat": 4,
    "vscode": {
      "interpreter": {
        "hash": "1977c1262a5a71e57f8e1e2a9337f4268800bf2d1a595fc1ecb322ccb8b2351d"
      }
    }
  },
  "nbformat": 4,
  "nbformat_minor": 0
}
