{
 "cells": [
  {
   "cell_type": "markdown",
   "metadata": {},
   "source": [
    "# Relations"
   ]
  },
  {
   "cell_type": "markdown",
   "metadata": {},
   "source": [
    "We can represent relations in Python using sets of ordered pairs"
   ]
  },
  {
   "cell_type": "code",
   "execution_count": null,
   "metadata": {},
   "outputs": [],
   "source": [
    "S = {1,2,3,4,5}\n",
    "R1 = {(1,1), (2,2), (3,3), (4,4), (5,5)} \n",
    "R2 = {(1,2), (2,1)}\n",
    "R3 = {(1,2), (2,3), (1,3)}\n",
    "R4 = {(1,2), (2,1), (1,1), (2,2), (3,3), (1,3), (3,1), (3,2), (2,3)}\n",
    "R5 = {(1,1), (2,2), (3,3), (4,4), (5,5), (1,2), (2,1), (1,3), (3,1), (2,3), (3,2)}"
   ]
  },
  {
   "attachments": {},
   "cell_type": "markdown",
   "metadata": {},
   "source": [
    "Let's create a function called `is_reflexive(relation, set)` to determine whether a given relation is reflexive over a set."
   ]
  },
  {
   "cell_type": "code",
   "execution_count": null,
   "metadata": {},
   "outputs": [],
   "source": [
    "def is_reflexive(relation, set):\n",
    "    # forall x in set, (x,x) is in relation\n",
    "    for x in set:\n",
    "        if not (x,x) in relation:\n",
    "            print(f'Not reflexive, missing {(x,x)}') # this can be helpful to see why a set is not reflexive\n",
    "            return False\n",
    "    return True\n",
    "\n",
    "print(is_reflexive(R1, S)) # True\n",
    "print(is_reflexive(R2, S)) # False"
   ]
  },
  {
   "attachments": {},
   "cell_type": "markdown",
   "metadata": {},
   "source": [
    "Now create functions to determine whether a given relation over a set is symmetric, transitive, and an equivalence relation."
   ]
  },
  {
   "cell_type": "code",
   "execution_count": null,
   "metadata": {},
   "outputs": [],
   "source": [
    "def is_reflexive(relation, set):\n",
    "    pass # Your code here\n",
    "\n",
    "def is_symmetric(relation, set):\n",
    "    pass # Your code here\n",
    "\n",
    "def is_transitive(relation, set):\n",
    "    pass # Your code here\n",
    "\n",
    "def is_equivalence_relation(relation, set):\n",
    "    pass # Your code here\n",
    "\n",
    "\n",
    "# Here is some test code to help. The result should be all True\n",
    "print(is_reflexive(R1, S) == True)\n",
    "print(is_reflexive(R2, S) == False)\n",
    "print(is_symmetric(R2, S) == True)\n",
    "print(is_symmetric(R3, S) == False)\n",
    "print(is_symmetric(R5, S) == True)\n",
    "print(is_transitive(R2, S) == False)\n",
    "print(is_transitive(R3, S) == True)\n",
    "print(is_transitive(R4, S) == True)\n",
    "print(is_transitive(R5, S) == True)\n",
    "print(is_equivalence_relation(R5, S) == True)\n"
   ]
  },
  {
   "attachments": {},
   "cell_type": "markdown",
   "metadata": {},
   "source": [
    "### Sample solution"
   ]
  },
  {
   "cell_type": "code",
   "execution_count": null,
   "metadata": {},
   "outputs": [],
   "source": [
    "def is_reflexive(relation, set):\n",
    "    # forall x in set, (x,x) is in relation\n",
    "    for x in set:\n",
    "        if not (x,x) in relation:\n",
    "            print(f'Not reflexive, missing {(x,x)}')\n",
    "            return False\n",
    "    return True\n",
    "\n",
    "def is_symmetric(relation, set):\n",
    "    # forall (x,y) in relation, (y,x) is also in relation\n",
    "    for x,y in relation:\n",
    "        if not (y,x) in relation:\n",
    "            print(f'Not symmetric, missing {(y,x)}')\n",
    "            return False\n",
    "    return True\n",
    "\n",
    "def is_transitive(relation, set):\n",
    "    # forall (x,y) and (y,z) in relation, (x,z) is also in relation\n",
    "    for x,y in relation:\n",
    "        check = {(y1,z) for (y1,z) in relation if y1 == y}\n",
    "        if len(check) > 0:\n",
    "            for _,z in check:\n",
    "                if not (x,z) in relation:\n",
    "                    print(f'Not transitive, missing {(x,z)}')\n",
    "                    return False\n",
    "    return True\n",
    "\n",
    "def is_equivalence_relation(relation, set):\n",
    "    return (\n",
    "        is_reflexive(relation, set) \n",
    "        and is_symmetric(relation, set) \n",
    "        and is_transitive(relation, set)\n",
    "    )\n",
    "\n",
    "print(is_reflexive(R1, S) == True)\n",
    "print(is_symmetric(R2, S) == True)\n",
    "print(is_symmetric(R5, S) == True)\n",
    "print(is_transitive(R3, S) == True)\n",
    "print(is_transitive(R4, S) == True)\n",
    "print(is_transitive(R5, S) == True)\n",
    "print(is_equivalence_relation(R5, S) == True)\n"
   ]
  },
  {
   "attachments": {},
   "cell_type": "markdown",
   "metadata": {},
   "source": [
    "# Directed graphs"
   ]
  },
  {
   "cell_type": "code",
   "execution_count": null,
   "metadata": {},
   "outputs": [],
   "source": [
    "from graphviz import Source\n",
    "from IPython.display import Image\n",
    "\n",
    "sample_directed_graph = '''\n",
    "digraph {\n",
    "    layout=neato;\n",
    "    label=\"Sample Graph\";\n",
    "    labeljust=l;\n",
    "    labelloc=t;\n",
    "    edge [arrowsize=0.75]; # specifies the arrowhead size\n",
    "    node [shape=circle; fixedsize=true; width=0.30]; # specifies the node size/shape\n",
    "    a->b;\n",
    "    b->a;\n",
    "    a->c;\n",
    "    a->d;\n",
    "    b->c;\n",
    "    d->d;\n",
    "  }\n",
    " '''\n",
    "g = Source(sample_directed_graph, filename='sample_directed_graph', format='png')\n",
    "g.render()\n",
    "Image('sample_directed_graph.png')"
   ]
  },
  {
   "cell_type": "code",
   "execution_count": null,
   "metadata": {},
   "outputs": [],
   "source": [
    "from graphviz import Source\n",
    "from IPython.display import Image\n",
    "\n",
    "g = '''\n",
    "digraph {\n",
    "    layout=neato;\n",
    "    label=\"Sample Graph\";\n",
    "    labeljust=l;\n",
    "    labelloc=t;\n",
    "    edge [arrowsize=0.75; color=red]; # specifies the arrowhead size\n",
    "    node [shape=circle; fixedsize=true; width=0.30]; # specifies the node size/shape\n",
    "    a->b;a->g;a->a;\n",
    "    b->c; b->a;\n",
    "    c->d; c->f; c->g;\n",
    "    d->b;\n",
    "    e->c;\n",
    "    g->e;\n",
    "    f->e;\n",
    "    f->d; d->f;\n",
    "  }\n",
    " '''\n",
    "Source(g)"
   ]
  }
 ],
 "metadata": {
  "kernelspec": {
   "display_name": ".env",
   "language": "python",
   "name": "python3"
  },
  "language_info": {
   "codemirror_mode": {
    "name": "ipython",
    "version": 3
   },
   "file_extension": ".py",
   "mimetype": "text/x-python",
   "name": "python",
   "nbconvert_exporter": "python",
   "pygments_lexer": "ipython3",
   "version": "3.9.0"
  },
  "orig_nbformat": 4,
  "vscode": {
   "interpreter": {
    "hash": "1977c1262a5a71e57f8e1e2a9337f4268800bf2d1a595fc1ecb322ccb8b2351d"
   }
  }
 },
 "nbformat": 4,
 "nbformat_minor": 2
}
