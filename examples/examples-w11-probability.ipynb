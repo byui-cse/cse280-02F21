{
 "cells": [
  {
   "cell_type": "markdown",
   "metadata": {},
   "source": [
    "# Probability"
   ]
  },
  {
   "cell_type": "markdown",
   "metadata": {},
   "source": [
    "Let's figure out the probability of getting one head and one tail when flipping two coins (or one coin twice)."
   ]
  },
  {
   "cell_type": "code",
   "execution_count": null,
   "metadata": {},
   "outputs": [],
   "source": [
    "coin = {'H', 'T'}\n",
    "\n",
    "# We can generate the complete sample space using Cartesian product:\n",
    "from itertools import product\n",
    "\n",
    "sample_space = {*product(coin, coin)} # flipping two coins  {H,T} X {H,T}\n",
    "\n",
    "print(sample_space)\n"
   ]
  },
  {
   "cell_type": "code",
   "execution_count": null,
   "metadata": {},
   "outputs": [],
   "source": [
    "# The event of getting one head and one tail can be found by \n",
    "# keeping only those outcomes in the sample space that \n",
    "# consist of one head and one tail.\n",
    "\n",
    "event_space = {*filter(lambda x: x[0] != x[1], sample_space)}\n",
    "print(event_space)"
   ]
  },
  {
   "cell_type": "code",
   "execution_count": null,
   "metadata": {},
   "outputs": [],
   "source": [
    "# Now we can compute the probability of flipping one H and one T:\n",
    "\n",
    "probability = len(event_space) / len(sample_space)\n",
    "print(probability)"
   ]
  },
  {
   "cell_type": "markdown",
   "metadata": {},
   "source": [
    "### Dice"
   ]
  },
  {
   "cell_type": "code",
   "execution_count": null,
   "metadata": {},
   "outputs": [],
   "source": [
    "die = {1,2,3,4,5,6}\n",
    "\n",
    "# sample_space = [(d1, d2) for d1 in die for d2 in die]\n",
    "sample_space = {*product(die, die)}\n",
    "print(sample_space)"
   ]
  },
  {
   "cell_type": "markdown",
   "metadata": {},
   "source": [
    "What is the probability of rolling two numbers that sum to 5?"
   ]
  },
  {
   "cell_type": "code",
   "execution_count": null,
   "metadata": {},
   "outputs": [],
   "source": [
    "# Find the event space\n",
    "event_space = {*filter(lambda x: x[0] + x[1] == 5, sample_space)}\n",
    "print(event_space)\n",
    "\n",
    "# Calculate the probablity\n",
    "probability_event = len(event_space) / len(sample_space)\n",
    "print(f'Probability: {len(event_space)}/{len(sample_space)} = {probability_event}')"
   ]
  },
  {
   "cell_type": "markdown",
   "metadata": {},
   "source": [
    "### Choose six numbers from 1 to 40."
   ]
  },
  {
   "cell_type": "markdown",
   "metadata": {},
   "source": [
    "Imagine you are participating in a game show where you win $1,000,000 if you correctly guess a set of six numbers between 1 and 40. What are your chances of winning?"
   ]
  },
  {
   "cell_type": "code",
   "execution_count": null,
   "metadata": {},
   "outputs": [],
   "source": [
    "# Use subsets / combinations because it is a set of six numbers.\n",
    "# 40 choose 6\n",
    "\n",
    "# from math import comb\n",
    "from scipy.special import comb\n",
    "sample_space = comb(40,6)\n",
    "print(sample_space)\n",
    "\n",
    "event_space = 1\n",
    "\n",
    "print(f'probability = {event_space / sample_space:.2e}')\n",
    "\n"
   ]
  },
  {
   "cell_type": "markdown",
   "metadata": {},
   "source": [
    "What if you have to guess the six numbers in order? (Assume no number will be chosen twice)."
   ]
  },
  {
   "cell_type": "code",
   "execution_count": null,
   "metadata": {},
   "outputs": [],
   "source": [
    "# from math import perm\n",
    "from scipy.special import perm\n",
    "\n",
    "sample_space = perm(40,6)\n",
    "print(sample_space)\n",
    "\n",
    "print(f'probability = {event_space / sample_space:.2e}')\n",
    "\n",
    "\n"
   ]
  },
  {
   "cell_type": "markdown",
   "metadata": {},
   "source": [
    "### Probability Union"
   ]
  },
  {
   "cell_type": "markdown",
   "metadata": {},
   "source": [
    "What is the probability that a randomly chosen number between 1 and 100 (inclusive) is divisible by either 3 or 5?\n",
    "\n",
    "$ P(E_1 \\cup E_2) = P(E_1) + P(E_2) - P(E_1 \\cap E_2)$\n"
   ]
  },
  {
   "cell_type": "code",
   "execution_count": null,
   "metadata": {},
   "outputs": [],
   "source": [
    "S = list(range(1,101)) # 1 to 100 inclusive\n",
    "E1 = {x for x in S if not x%3} # all numbers divisible by 3\n",
    "print(f'E1: {E1}')\n",
    "print(f'|E1| = {len(E1)}')"
   ]
  },
  {
   "cell_type": "code",
   "execution_count": null,
   "metadata": {},
   "outputs": [],
   "source": [
    "# all numbers divisible by 5\n",
    "E2 = {x for x in S if not x%5}\n",
    "print(f'E2: {E2}')\n",
    "print(f'|E2| = {len(E2)}')"
   ]
  },
  {
   "cell_type": "code",
   "execution_count": null,
   "metadata": {},
   "outputs": [],
   "source": [
    "# All numbers divisible by 3 and 5. These are counted twice. \n",
    "E1_and_E2 = {x for x in S if not x%3 and not x%5}\n",
    "print(f'E1 ∩ E2: {E1_and_E2}')\n",
    "print(f'|E1 ∩ E2|: {len(E1_and_E2)}')"
   ]
  },
  {
   "cell_type": "code",
   "execution_count": null,
   "metadata": {},
   "outputs": [],
   "source": [
    "# We can also use sets.\n",
    "E1_and_E2 = E1.intersection(E2)\n",
    "print(f'E1 ∩ E2: {E1_and_E2}')\n",
    "print(f'|E1 ∩ E2|: {len(E1_and_E2)}')"
   ]
  },
  {
   "cell_type": "code",
   "execution_count": null,
   "metadata": {},
   "outputs": [],
   "source": [
    "# Define a probability function that takes an event space and a sample space\n",
    "def P(E, S):\n",
    "    return len(E) / len(S) # assumes a uniform distribution"
   ]
  },
  {
   "cell_type": "markdown",
   "metadata": {},
   "source": [
    "What is the probability that a randomly chosen number between 1 and 100 (inclusive) is divisible by either 3 or 5?\n",
    "\n",
    "Let's apply our definition of the union of the probability of events:\n",
    "\n",
    "$ P(E_1 \\cup E_2) = P(E_1) + P(E_2) - P(E_1 \\cap E_2)$"
   ]
  },
  {
   "cell_type": "code",
   "execution_count": null,
   "metadata": {},
   "outputs": [],
   "source": [
    "Prob_E1_or_E2 = P(E1, S) + P(E2, S) - P(E1.intersection(E2), S)\n",
    "print(f'Probability of E1 or E2: {Prob_E1_or_E2:.2f}')"
   ]
  },
  {
   "cell_type": "markdown",
   "metadata": {},
   "source": [
    "### More coin flips"
   ]
  },
  {
   "cell_type": "markdown",
   "metadata": {},
   "source": [
    "A coin is flipped four times. For each of the events described below, express the event as a set using roster notation. Each outcome in the sample space can be written as a string of length 4 from {H, T}, such as HHTH. Assuming the coin is a fair coin, give the probability of each event."
   ]
  },
  {
   "cell_type": "markdown",
   "metadata": {},
   "source": [
    "a. \n",
    "The first and last flips come up heads."
   ]
  },
  {
   "cell_type": "code",
   "execution_count": null,
   "metadata": {},
   "outputs": [],
   "source": [
    "#@title Hint {display-mode: \"form\"}\n",
    "coin = {'H', 'T'}\n",
    "from itertools import product\n",
    "sample_space = {*product(coin, coin, coin, coin)}\n",
    "print(f'Sample space: {sample_space}')\n",
    "\n",
    "# Now use `filter` to figure out how many outcomes in the sample space look like `HxxH`"
   ]
  },
  {
   "cell_type": "code",
   "execution_count": null,
   "metadata": {},
   "outputs": [],
   "source": [
    "#@title Solution {display-mode: \"form\"}\n",
    "\n",
    "# first and last come up heads\n",
    "event_space = {*filter(lambda x: x[0] == x[3] == 'H', sample_space)}\n",
    "print(f'Event space: {event_space}')\n",
    "\n",
    "print(f'Probability: {len(event_space) / len(sample_space)}')\n",
    "\n",
    "\n",
    "# could also do this:\n",
    "event_space = {*product({'H'}, coin, coin, {'H'})}\n",
    "print(f'Event space: {event_space}')\n",
    "print(f'Probability: {len(event_space) / len(sample_space)}')"
   ]
  },
  {
   "cell_type": "markdown",
   "metadata": {},
   "source": [
    "b. There are at least two consecutive flips that come up heads."
   ]
  },
  {
   "cell_type": "code",
   "execution_count": null,
   "metadata": {},
   "outputs": [],
   "source": [
    "#@title Solution {display-mode: \"form\"}\n",
    "# two consecutive heads\n",
    "event_space = {*filter(lambda x: (x[0] == x[1] == 'H') or (x[1] == x[2] == 'H') or (x[2] == x[3] == 'H') , sample_space)}\n",
    "print(f'Event space: {event_space}')\n",
    "\n",
    "print(f'Probability: {len(event_space)/len(sample_space)}')"
   ]
  },
  {
   "cell_type": "markdown",
   "metadata": {},
   "source": [
    "c. The first flip comes up tails and there are at least two consecutive flips that come up heads."
   ]
  },
  {
   "cell_type": "code",
   "execution_count": null,
   "metadata": {},
   "outputs": [],
   "source": [
    "#@title Solution {display-mode: \"form\"}\n",
    "# first flip tails and two consecutive heads\n",
    "event_space = {*filter(lambda x: x[0]=='T' and (x[1]==x[2]=='H' or x[2]==x[3]=='H'), sample_space)}\n",
    "print(f'Event space: {event_space}')\n",
    "\n",
    "print(f'Probability: {len(event_space)}/{len(sample_space)}')"
   ]
  }
 ],
 "metadata": {
  "kernelspec": {
   "display_name": ".env",
   "language": "python",
   "name": "python3"
  },
  "language_info": {
   "codemirror_mode": {
    "name": "ipython",
    "version": 3
   },
   "file_extension": ".py",
   "mimetype": "text/x-python",
   "name": "python",
   "nbconvert_exporter": "python",
   "pygments_lexer": "ipython3",
   "version": "3.9.0"
  },
  "orig_nbformat": 4,
  "vscode": {
   "interpreter": {
    "hash": "1977c1262a5a71e57f8e1e2a9337f4268800bf2d1a595fc1ecb322ccb8b2351d"
   }
  }
 },
 "nbformat": 4,
 "nbformat_minor": 2
}
