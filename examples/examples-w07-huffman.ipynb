{
    "cells": [
        {
            "attachments": {},
            "cell_type": "markdown",
            "metadata": {
                "id": "RQAV4fm5X88d"
            },
            "source": [
                "# Huffman Codes\n",
                "\n",
                "Learn about implementing Huffman encoding in Python by going through each item on this page."
            ]
        },
        {
            "cell_type": "code",
            "execution_count": null,
            "metadata": {
                "id": "1E8T-mObWOzv"
            },
            "outputs": [],
            "source": [
                "message = \"aardvark\" # The message we will encode"
            ]
        },
        {
            "attachments": {},
            "cell_type": "markdown",
            "metadata": {
                "id": "P184sLbNYECF"
            },
            "source": [
                "## Build a frequency table:"
            ]
        },
        {
            "cell_type": "code",
            "execution_count": null,
            "metadata": {
                "id": "EoDuoX4FV1rm"
            },
            "outputs": [],
            "source": [
                "def make_freq_table(message):\n",
                "  \"\"\"Create a dictionary of letters and their counts.\n",
                "  \"\"\"\n",
                "  freq_table = {}\n",
                "  for letter in message:\n",
                "    freq_table[letter] = message.count(letter)\n",
                "\n",
                "  return freq_table"
            ]
        },
        {
            "cell_type": "code",
            "execution_count": null,
            "metadata": {
                "id": "SNnJZtiDWVNx"
            },
            "outputs": [],
            "source": [
                "make_freq_table(message)"
            ]
        },
        {
            "cell_type": "code",
            "execution_count": null,
            "metadata": {
                "id": "TcIND8kFWFcA"
            },
            "outputs": [],
            "source": [
                "# Another way:\n",
                "def make_freq_table(message):\n",
                "  return {n: message.count(n) for n in dict.fromkeys(message)}"
            ]
        },
        {
            "cell_type": "code",
            "execution_count": null,
            "metadata": {
                "id": "krAoLpPvWYvl"
            },
            "outputs": [],
            "source": [
                "make_freq_table(message)"
            ]
        },
        {
            "attachments": {},
            "cell_type": "markdown",
            "metadata": {
                "id": "-f2RRIkiYMo7"
            },
            "source": [
                "## Define a single node in the priority queue"
            ]
        },
        {
            "cell_type": "code",
            "execution_count": null,
            "metadata": {
                "id": "f0lDaXSFWDbm"
            },
            "outputs": [],
            "source": [
                "def node(name, weight):\n",
                "  \"\"\"Create one node containing a value and weight.\n",
                "  \"\"\"\n",
                "  return {'name': name, 'weight': weight, 'left-child': None, 'right-child': None}"
            ]
        },
        {
            "cell_type": "code",
            "execution_count": null,
            "metadata": {
                "id": "GMtqC3XkWhID"
            },
            "outputs": [],
            "source": [
                "node('a', 3)"
            ]
        },
        {
            "attachments": {},
            "cell_type": "markdown",
            "metadata": {
                "id": "wGL3pQICYWl8"
            },
            "source": [
                "## Make a priority queue"
            ]
        },
        {
            "cell_type": "code",
            "execution_count": null,
            "metadata": {
                "id": "KNcZNpJ5Wl51"
            },
            "outputs": [],
            "source": [
                "def make_q(freq_table):\n",
                "  \"\"\"Build a queue of nodes, sorted in order from lowest weight to\n",
                "  highest weight.\n",
                "  \"\"\"\n",
                "  # Create the list of nodes, sorted by weight\n",
                "  # Each item in freq_table.items() is a tuple of the form (name, weight). Example: ('a', 3)\n",
                "  q = [node(key,value) for key,value in sorted(freq_table.items(), key=lambda item: item[1]) ] #item[1] = weight\n",
                "  return q"
            ]
        },
        {
            "cell_type": "code",
            "execution_count": null,
            "metadata": {
                "id": "U1e1ss-KWsYI"
            },
            "outputs": [],
            "source": [
                "freq_table = make_freq_table(message)\n",
                "print(freq_table)"
            ]
        },
        {
            "cell_type": "code",
            "execution_count": null,
            "metadata": {
                "id": "NBEoQGi4WwmP"
            },
            "outputs": [],
            "source": [
                "make_q(freq_table)"
            ]
        },
        {
            "attachments": {},
            "cell_type": "markdown",
            "metadata": {
                "id": "b1HfeWYvYayd"
            },
            "source": [
                "## Create a huffman tree"
            ]
        },
        {
            "cell_type": "code",
            "execution_count": null,
            "metadata": {
                "id": "Ee_ocPQqW0nm"
            },
            "outputs": [],
            "source": [
                "# combines two nodes into a single node\n",
                "\n",
                "def make_tree(left, right):\n",
                "  \"\"\"Create a tree from a left and right child.\n",
                "  \"\"\"\n",
                "  root = node(left['name'] + right['name'], left['weight'] + right['weight'])\n",
                "  root['left-child'] = left\n",
                "  root['right-child'] = right\n",
                "  return root"
            ]
        },
        {
            "cell_type": "code",
            "execution_count": null,
            "metadata": {
                "id": "MgyPGIskW8gW"
            },
            "outputs": [],
            "source": [
                "left = node('a', 1)\n",
                "right = node('b', 1)\n",
                "make_tree(left, right)"
            ]
        },
        {
            "cell_type": "code",
            "execution_count": null,
            "metadata": {
                "id": "61gocSvrXHiQ"
            },
            "outputs": [],
            "source": [
                "# Inserts a node into the right place in a queue\n",
                "\n",
                "def insert_into_tree(T, Q):\n",
                "  \"\"\"Insert a tree into the proper place in the queue.\n",
                "  \"\"\"\n",
                "  for i,node in enumerate(Q):\n",
                "    if node['weight'] >= T['weight']:\n",
                "      Q.insert(i,T)\n",
                "      return\n",
                "  \n",
                "  Q.append(T)"
            ]
        },
        {
            "cell_type": "code",
            "execution_count": null,
            "metadata": {
                "id": "7VOggeanXKW0"
            },
            "outputs": [],
            "source": [
                "def huffman(Q):\n",
                "  \"\"\"The huffman algorithm.\n",
                "  Works through a queue and creates a Huffman tree.\n",
                "  \"\"\"\n",
                "  if len(Q) == 0:\n",
                "    return Q\n",
                "  if len(Q) == 1:\n",
                "    return Q[0]\n",
                "  \n",
                "  while len(Q) > 1:\n",
                "    T_left = Q[0]\n",
                "    Q = Q[1:]\n",
                "    T_right = Q[0]\n",
                "    Q = Q[1:]\n",
                "\n",
                "    T = make_tree(T_left, T_right)\n",
                "\n",
                "    insert_into_tree(T, Q)\n",
                "  \n",
                "  return T"
            ]
        },
        {
            "cell_type": "code",
            "execution_count": null,
            "metadata": {
                "id": "UpjMe3rmXT9Z"
            },
            "outputs": [],
            "source": [
                "message = \"aardvark\"\n",
                "# message = \"mississippi\"\n",
                "# message = \"huffman\"\n",
                "# message = \"trees\"\n",
                "# message = \"data\"\n",
                "# message = \"compression\"\n",
                "#message = \"Lorem ipsum dolor sit amet, consectetur adipiscing elit, sed do eiusmod tempor incididunt ut labore et dolore magna aliqua. Ut enim ad minim veniam, quis nostrud exercitation ullamco laboris nisi ut aliquip ex ea commodo consequat. Duis aute irure dolor in reprehenderit in voluptate velit esse cillum dolore eu fugiat nulla pariatur. Excepteur sint occaecat cupidatat non proident, sunt in culpa qui officia deserunt mollit anim id est laborum\"\n",
                "\n",
                "freq_table = make_freq_table(message)\n",
                "print(freq_table)\n",
                "Q = make_q(freq_table)\n",
                "print(Q)\n",
                "T = huffman(Q)\n",
                "print(T)"
            ]
        },
        {
            "cell_type": "code",
            "execution_count": null,
            "metadata": {
                "id": "c0N3TOXT5dsz"
            },
            "outputs": [],
            "source": [
                "def print_tree(T, level=0):\n",
                "  \"\"\"Print a huffman tree T.\n",
                "  \"\"\"\n",
                "  root = T\n",
                "  print(f'{root[\"name\"]}:{root[\"weight\"]}')\n",
                "  if root['left-child'] is not None:\n",
                "    print('    '*level, '|')\n",
                "    print('    '*level, '|___', end='')\n",
                "    print_tree(root['left-child'], level+1)\n",
                "\n",
                "  if root['right-child'] is not None:\n",
                "    print('    '*level, '|')\n",
                "    print('    '*level, '|___', end='')\n",
                "    print_tree(root['right-child'], level+1)\n",
                "    \n",
                "print_tree(T, 0)"
            ]
        },
        {
            "attachments": {},
            "cell_type": "markdown",
            "metadata": {
                "id": "VDj0jSJ5Ytxo"
            },
            "source": [
                "## Extract the codes"
            ]
        },
        {
            "cell_type": "code",
            "execution_count": null,
            "metadata": {
                "id": "cyo73FvJXxfa"
            },
            "outputs": [],
            "source": [
                "codes = {}\n",
                "def make_codes(T, code=''):\n",
                "  \"\"\"Walk tree to create the codes\n",
                "  \"\"\"\n",
                "  root = T\n",
                "  # root is a leaf\n",
                "  if root['left-child'] is None and root['right-child'] is None:\n",
                "    codes[root['name']] = code\n",
                "    return\n",
                "  \n",
                "  # walk left side\n",
                "  if root['left-child'] is not None:\n",
                "    code += '0'\n",
                "    make_codes(root['left-child'], code)\n",
                "    code = code[:-1]\n",
                "  \n",
                "  # walk right side\n",
                "  if root['right-child'] is not None:\n",
                "    code += '1'\n",
                "    make_codes(root['right-child'], code)\n",
                "    code = code[:-1]\n",
                "\n"
            ]
        },
        {
            "cell_type": "code",
            "execution_count": null,
            "metadata": {
                "id": "2nSSRpNUX17c"
            },
            "outputs": [],
            "source": [
                "make_codes(T)\n",
                "print(codes)"
            ]
        },
        {
            "cell_type": "code",
            "execution_count": null,
            "metadata": {
                "id": "koofcV6Bn6zd"
            },
            "outputs": [],
            "source": [
                "encoded_message = ''\n",
                "for letter in message:\n",
                "  encoded_message += codes[letter]\n",
                "\n",
                "print(encoded_message)"
            ]
        },
        {
            "attachments": {},
            "cell_type": "markdown",
            "metadata": {
                "id": "8SW1mikUZEL3"
            },
            "source": [
                "## All at once"
            ]
        },
        {
            "cell_type": "code",
            "execution_count": null,
            "metadata": {
                "id": "IvJcwU-3ZGcI"
            },
            "outputs": [],
            "source": [
                "# Implement the Huffman Tree algorithm\n",
                "\n",
                "def node(name, weight):\n",
                "  \"\"\"Create one node containing a value and weight.\n",
                "  \"\"\"\n",
                "  return {'name': name, 'weight': weight, 'left-child': None, 'right-child': None}\n",
                "\n",
                "# # Create a queue of nodes\n",
                "# Q = [node('a', 8), node('b', 10), node('c', 12), node('d', 15), node('e', 20), node('f', 35)]\n",
                "# Q = [node('d', 1), node('k', 1), node('v', 1), node('r', 2), node('a', 3)]\n",
                "\n",
                "def make_freq_table(message):\n",
                "  \"\"\"Create a dictionary of letters and their counts.\n",
                "  \"\"\"\n",
                "  freq_table = {}\n",
                "  for letter in message:\n",
                "    freq_table[letter] = message.count(letter)\n",
                "\n",
                "  return freq_table\n",
                "\n",
                "# freq_table = make_freq_table(message)\n",
                "# print(freq_table)\n",
                "\n",
                "def make_q(freq_table):\n",
                "  \"\"\"Build a queue of nodes, sorted in order from lowest weight to\n",
                "  highest weight.\n",
                "  \"\"\"\n",
                "  # Create the list of nodes, sorted by weight\n",
                "  # Each item in freq_table.items() is a tuple of the form (name, weight). Example: ('a', 3)\n",
                "  q = [node(key,value) for key,value in sorted(freq_table.items(), key=lambda item: item[1]) ] #item[1] = weight\n",
                "  return q\n",
                "\n",
                "\n",
                "# q = make_q(freq_table)\n",
                "# print(f'queue: {q}')\n",
                "\n",
                "\n",
                "def make_tree(left, right):\n",
                "  \"\"\"Create a tree from a left and right child.\n",
                "  \"\"\"\n",
                "  root = node(left['name'] + right['name'], left['weight'] + right['weight'])\n",
                "  root['left-child'] = left\n",
                "  root['right-child'] = right\n",
                "  return root\n",
                "\n",
                "\n",
                "def insert_into_tree(T, Q):\n",
                "  \"\"\"Insert a tree into the proper place in the queue.\n",
                "  \"\"\"\n",
                "  for i,node in enumerate(Q):\n",
                "    if node['weight'] >= T['weight']:\n",
                "      Q.insert(i,T)\n",
                "      return\n",
                "  \n",
                "  Q.append(T)\n",
                "      \n",
                "\n",
                "def huffman(Q):\n",
                "  \"\"\"The huffman algorithm.\n",
                "  Works through a queue and creates a Huffman tree.\n",
                "  \"\"\"\n",
                "  if len(Q) == 0:\n",
                "    return Q\n",
                "  if len(Q) == 1:\n",
                "    return Q[0]\n",
                "  \n",
                "  while len(Q) > 1:\n",
                "    T_left = Q[0]\n",
                "    Q = Q[1:]\n",
                "    T_right = Q[0]\n",
                "    Q = Q[1:]\n",
                "\n",
                "    T = make_tree(T_left, T_right)\n",
                "\n",
                "    insert_into_tree(T, Q)\n",
                "\n",
                "  return T\n",
                "\n",
                "codes = {}\n",
                "def make_codes(T, code=''):\n",
                "  \"\"\"Walk tree to create the codes\n",
                "  \"\"\"\n",
                "  root = T\n",
                "  # root is a leaf\n",
                "  if root['left-child'] is None and root['right-child'] is None:\n",
                "    codes[root['name']] = code\n",
                "    return\n",
                "  \n",
                "  # walk left side\n",
                "  if root['left-child'] is not None:\n",
                "    code += '0'\n",
                "    make_codes(root['left-child'], code)\n",
                "    code = code[:-1]\n",
                "  \n",
                "  # walk right side\n",
                "  if root['right-child'] is not None:\n",
                "    code += '1'\n",
                "    make_codes(root['right-child'], code)\n",
                "    code = code[:-1]\n",
                "  \n",
                "\n",
                "def print_tree(T, level=0):\n",
                "  \"\"\"Print a huffman tree T.\n",
                "  \"\"\"\n",
                "  root = T\n",
                "  print(f'{root[\"name\"]}:{root[\"weight\"]}')\n",
                "  if root['left-child'] is not None:\n",
                "    print('    '*level, '|')\n",
                "    print('    '*level, '|___', end='')\n",
                "    print_tree(root['left-child'], level+1)\n",
                "\n",
                "  if root['right-child'] is not None:\n",
                "    print('    '*level, '|')\n",
                "    print('    '*level, '|___', end='')\n",
                "    print_tree(root['right-child'], level+1)\n",
                "\n",
                "\n",
                "message = \"aardvark\"\n",
                "message = \"mississippi\"\n",
                "message = \"firstthreeodds\"\n",
                "message = \"huffman\"\n",
                "message = \"trees\"\n",
                "message = \"data\"\n",
                "message = \"compression\"\n",
                "message = \"abcdefghijklmnopqrstuvwxyz lorem ipsum dolor sit amet consectetur adipiscing elit sed do eiusmod tempor incididunt ut labore et dolore magna aliqua ut enim ad minim veniam quis nostrud exercitation ullamco laboris nisi ut aliquip ex ea commodo consequat duis aute irure dolor in reprehenderit in voluptate velit esse cillum dolore eu fugiat nulla pariatur excepteur sint occaecat cupidatat non proident sunt in culpa qui officia deserunt mollit anim id est laborum\"\n",
                "freq_table = make_freq_table(message)\n",
                "print(freq_table)\n",
                "Q = make_q(freq_table)\n",
                "print(Q)\n",
                "T = huffman(Q)\n",
                "print(T)\n",
                "print_tree(T)\n",
                "make_codes(T)\n",
                "print(codes)"
            ]
        },
        {
            "attachments": {},
            "cell_type": "markdown",
            "metadata": {
                "id": "T-B8LcZaZVQ6"
            },
            "source": [
                "## Scriptures"
            ]
        },
        {
            "cell_type": "code",
            "execution_count": null,
            "metadata": {
                "id": "UNbyBfzUZXXG"
            },
            "outputs": [],
            "source": [
                "!curl -s -O https://byui-cse.github.io/cse280-course/scriptures.txt\n",
                "!head -20 scriptures.txt"
            ]
        },
        {
            "cell_type": "code",
            "execution_count": null,
            "metadata": {
                "id": "1k_qqWT-aREZ"
            },
            "outputs": [],
            "source": [
                "!cp scriptures.txt scriptures.tmp\n",
                "!gzip scriptures.tmp\n",
                "!wc -c scriptures.txt      # prints the byte count\n",
                "!wc -c scriptures.tmp.gz\n"
            ]
        },
        {
            "attachments": {},
            "cell_type": "markdown",
            "metadata": {
                "id": "9Bm3Gd9deoSk"
            },
            "source": [
                "What is the compression ratio for gzip?"
            ]
        },
        {
            "cell_type": "code",
            "execution_count": null,
            "metadata": {
                "id": "1fDRvtbmopd_"
            },
            "outputs": [],
            "source": [
                "(6285497 - 1824084) / 6285497"
            ]
        },
        {
            "cell_type": "code",
            "execution_count": null,
            "metadata": {
                "id": "MVhpiGD9ZYqj"
            },
            "outputs": [],
            "source": [
                "\n",
                "with open('scriptures.txt') as f:\n",
                "  message = f.read()\n",
                "\n",
                "\n",
                "# a better way to make a freq table\n",
                "from collections import Counter\n",
                "freq_table = Counter(message)\n",
                "\n",
                "print(freq_table)"
            ]
        },
        {
            "cell_type": "code",
            "execution_count": null,
            "metadata": {
                "id": "50DF5jPxafkC"
            },
            "outputs": [],
            "source": [
                "Q = make_q(freq_table)\n",
                "print(Q)"
            ]
        },
        {
            "cell_type": "code",
            "execution_count": null,
            "metadata": {
                "id": "M2r8hDsOamH1"
            },
            "outputs": [],
            "source": [
                "T = huffman(Q)"
            ]
        },
        {
            "cell_type": "code",
            "execution_count": null,
            "metadata": {
                "id": "XG6rQYKcaoBX"
            },
            "outputs": [],
            "source": [
                "codes = {}\n",
                "make_codes(T)\n",
                "print(codes)"
            ]
        },
        {
            "cell_type": "code",
            "execution_count": null,
            "metadata": {
                "id": "D-xrOMl_azkb"
            },
            "outputs": [],
            "source": [
                "# calculate compression ratio\n",
                "\n",
                "# How many unique symbols?\n",
                "unique_symbols = len(freq_table.keys())\n",
                "print(f'{unique_symbols} unique sybmols\\n')\n",
                "\n",
                "# How many bits would it take to represent that many unique symbols using fixed encoding?\n",
                "from math import log2, ceil\n",
                "bits_per_symbol_fixed = ceil(log2(unique_symbols))\n",
                "print(f'{bits_per_symbol_fixed} bits per symbol')\n",
                "\n",
                "\n",
                "# How many total bits would it take to represent the scriptures?\n",
                "total_bits_fixed = bits_per_symbol_fixed * len(message)\n",
                "print(f'Total bits fixed: {total_bits_fixed}')\n",
                "print(f'Total bytes fixed: {total_bits_fixed // 8}\\n')\n",
                "\n",
                "\n",
                "# How many total bits to represent the scriptures using the original encoding of 8-bits per symbol?\n",
                "print('Using 8-bits per symbol (ASCII):')\n",
                "print(f'Total bits: {8*len(message)}')\n",
                "print(f'Total bytes: {len(message)}\\n')\n",
                "\n",
                "\n",
                "# How many bits using our variable length encoding?\n",
                "total_bits_variable = 0\n",
                "for x in freq_table.keys():\n",
                "  total_bits_variable += len(codes[x]) * freq_table[x]\n",
                "\n",
                "bits_per_symbol_variable = total_bits_variable / len(message)\n",
                "\n",
                "total_bits_ascii = 8*len(message)\n",
                "print(f'{bits_per_symbol_variable:.2f} average bits per symbol (variable)')\n",
                "print(f'Total bits variable: {total_bits_variable}\\n')\n",
                "print(f'Compression (compared with 7-bit fixed): {(total_bits_fixed - total_bits_variable) / total_bits_fixed}')\n",
                "print(f'Compression (compared with 8-bit ASCII): {(total_bits_ascii - total_bits_variable) / total_bits_ascii}')\n",
                "\n"
            ]
        }
    ],
    "metadata": {
        "colab": {
            "authorship_tag": "ABX9TyO7fz12AHZQ8XOGeyWxzvJ+",
            "collapsed_sections": [
                "P184sLbNYECF",
                "-f2RRIkiYMo7",
                "wGL3pQICYWl8",
                "b1HfeWYvYayd",
                "VDj0jSJ5Ytxo",
                "8SW1mikUZEL3",
                "T-B8LcZaZVQ6"
            ],
            "name": "huffman-example.ipynb",
            "provenance": []
        },
        "kernelspec": {
            "display_name": "Python 3.8.10 64-bit (microsoft store)",
            "language": "python",
            "name": "python3"
        },
        "language_info": {
            "codemirror_mode": {
                "name": "ipython",
                "version": 3
            },
            "file_extension": ".py",
            "mimetype": "text/x-python",
            "name": "python",
            "nbconvert_exporter": "python",
            "pygments_lexer": "ipython3",
            "version": "3.9.0"
        },
        "vscode": {
            "interpreter": {
                "hash": "01aa1c9116ce7c8b0b72202eab7fb34d3440e94a48f0d84ade500d64d3a8c91e"
            }
        }
    },
    "nbformat": 4,
    "nbformat_minor": 0
}
