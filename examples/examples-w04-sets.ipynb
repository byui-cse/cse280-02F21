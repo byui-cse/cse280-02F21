{
    "cells": [
        {
            "cell_type": "markdown",
            "metadata": {
                "id": "8La6nkra1IBG"
            },
            "source": [
                "# Sets with Python\n"
            ]
        },
        {
            "cell_type": "markdown",
            "metadata": {
                "id": "eJNy_RAK1IBK"
            },
            "source": [
                "## Set membership"
            ]
        },
        {
            "cell_type": "markdown",
            "metadata": {
                "id": "hZlTX5Q01IBL"
            },
            "source": [
                "Use Python to show membership in a set.\n",
                "\n",
                "Let $A = \\{apple, banana, cherry, date\\}$\n",
                "\n",
                "Are these propositions true?\n",
                "\n",
                "$apple \\in A$\n",
                "\n",
                "$pear \\in A$"
            ]
        },
        {
            "cell_type": "markdown",
            "metadata": {
                "id": "j_fQCSIl1IBL"
            },
            "source": [
                "### In Python"
            ]
        },
        {
            "cell_type": "code",
            "execution_count": null,
            "metadata": {
                "id": "-dpwBOTq1IBM"
            },
            "outputs": [],
            "source": [
                "A = {'apple', 'banana', 'cherry', 'date'}\n",
                "\n",
                "print('apple' in A)\n",
                "print('pear' in A)"
            ]
        },
        {
            "cell_type": "markdown",
            "metadata": {
                "id": "icJ-cPRA1IBN"
            },
            "source": [
                "## Set Builder Notation"
            ]
        },
        {
            "cell_type": "markdown",
            "metadata": {
                "id": "u0onwLw31IBO"
            },
            "source": [
                "What are the members of this set if the domain or universe of discourse is $\\mathbb{Z}$?\n",
                "\n",
                "$A = \\{x: 2 \\lt x \\lt 10 \\}$\n",
                "\n"
            ]
        },
        {
            "cell_type": "markdown",
            "metadata": {
                "id": "ZxjG6wCu1IBP"
            },
            "source": [
                "### In Python:"
            ]
        },
        {
            "cell_type": "code",
            "execution_count": null,
            "metadata": {
                "id": "IxQRbDFI1IBP"
            },
            "outputs": [],
            "source": [
                "# This is called a list comprehension if using square brackets [], \n",
                "# a set comprehension if using curly braces {}\n",
                "\n",
                "# A = [x for x in range(3,10)]\n",
                "A = {x for x in range(3,10)}\n",
                "print(A)"
            ]
        },
        {
            "cell_type": "markdown",
            "metadata": {
                "id": "nsMbP-yH1IBQ"
            },
            "source": [
                "What about this set?\n",
                "\n",
                "$A = \\{x: 2 \\lt x \\lt 10 \\texttt{ and } x \\texttt{ is even }  \\}$"
            ]
        },
        {
            "cell_type": "code",
            "execution_count": null,
            "metadata": {
                "id": "Ef1TbkIf1IBR"
            },
            "outputs": [],
            "source": [
                "# define is_even function\n",
                "is_even = lambda x: x%2==0\n",
                "\n",
                "# use a list comprehension to find all even numbers in this range\n",
                "A = {x for x in range(3,10) if is_even(x)}\n",
                "print(A)"
            ]
        },
        {
            "cell_type": "markdown",
            "metadata": {
                "id": "lk2rCuVG1IBR"
            },
            "source": [
                "## Cardinality"
            ]
        },
        {
            "cell_type": "markdown",
            "metadata": {
                "id": "dlU3y2Ir1IBR"
            },
            "source": [
                "What is the cardinality of $A = \\{1,2,3,4,5\\}$?"
            ]
        },
        {
            "cell_type": "markdown",
            "metadata": {
                "id": "s3vmaQZ01IBS"
            },
            "source": [
                "### Try it in Python"
            ]
        },
        {
            "cell_type": "code",
            "execution_count": null,
            "metadata": {
                "id": "xAtdWWSg1IBS"
            },
            "outputs": [],
            "source": [
                "A = {1,2,3,4,5}\n",
                "print(A)\n",
                "print(len(A)) # len() is used to find cardinality"
            ]
        },
        {
            "cell_type": "code",
            "execution_count": null,
            "metadata": {
                "id": "lP97U25P1IBT"
            },
            "outputs": [],
            "source": [
                "B = [1,2,3,4,5,5,5,5,5] # What if we use a list?\n",
                "print(B)\n",
                "print(len(B))"
            ]
        },
        {
            "cell_type": "code",
            "execution_count": null,
            "metadata": {
                "id": "F5FeHRXA1IBT"
            },
            "outputs": [],
            "source": [
                "C = set(B) # What happens when we convert the list B into a set?\n",
                "print(C)\n",
                "print(len(C))"
            ]
        },
        {
            "cell_type": "markdown",
            "metadata": {
                "id": "IPvBcBOW1IBT"
            },
            "source": [
                "## Union and Intersection"
            ]
        },
        {
            "cell_type": "markdown",
            "metadata": {
                "id": "eJYGUrNC1IBU"
            },
            "source": [
                "Python has built-in methods for working with sets."
            ]
        },
        {
            "cell_type": "code",
            "execution_count": null,
            "metadata": {
                "id": "RELtW5qW1IBU"
            },
            "outputs": [],
            "source": [
                "A = {1,2,3,4,5}\n",
                "B = {4,5,6,7,8}\n",
                "\n",
                "print(A.intersection(B))\n",
                "print(A.union(B))\n",
                "print(A.difference(B))"
            ]
        },
        {
            "cell_type": "code",
            "execution_count": null,
            "metadata": {
                "id": "EbqPkAY41IBU"
            },
            "outputs": [],
            "source": [
                "# We can also use &, |, and -\n",
                "print(A & B)\n",
                "print(A | B)\n",
                "print(A - B)"
            ]
        },
        {
            "cell_type": "markdown",
            "metadata": {
                "id": "rvD_13LX1IBV"
            },
            "source": [
                "### Symmetric Difference"
            ]
        },
        {
            "cell_type": "markdown",
            "metadata": {
                "id": "PvOGmEug1IBV"
            },
            "source": [
                "How would we do *symmetric difference*? \n",
                "\n",
                "Symmetric difference is the set of elements that are a member of either $A$ or $B$, but not both.\n",
                "\n",
                "Recall the symmetric difference can be described as $A \\oplus B$, which is also $(A-B) \\cup (B-A)$."
            ]
        },
        {
            "cell_type": "markdown",
            "metadata": {
                "id": "utkmI5lN1IBV"
            },
            "source": [
                "What is the symmetric difference of A and B?\n",
                "\n",
                "$A = {1,2,3,4,5}$\n",
                "\n",
                "$B = {4,5,6,7,8}$"
            ]
        },
        {
            "cell_type": "markdown",
            "metadata": {
                "id": "edqQg3RZ1IBV"
            },
            "source": [
                "#### Answer:"
            ]
        },
        {
            "cell_type": "markdown",
            "metadata": {
                "id": "NVUq4PNC1IBV"
            },
            "source": [
                "{1, 2, 3, 6, 7, 8}"
            ]
        },
        {
            "cell_type": "markdown",
            "metadata": {
                "id": "E3gmMSaF1IBW"
            },
            "source": [
                "#### In Python:"
            ]
        },
        {
            "cell_type": "code",
            "execution_count": null,
            "metadata": {
                "id": "uDFkaDeG1IBW"
            },
            "outputs": [],
            "source": [
                "# (A-B) ∪ (B-A)\n",
                "print(A.difference(B).union(B.difference(A)))\n"
            ]
        },
        {
            "cell_type": "code",
            "execution_count": null,
            "metadata": {
                "id": "inCdbI9n1IBW"
            },
            "outputs": [],
            "source": [
                "# Built-in Python method\n",
                "print(A.symmetric_difference(B))\n"
            ]
        },
        {
            "cell_type": "code",
            "execution_count": null,
            "metadata": {
                "id": "rYR9eQOC1IBW"
            },
            "outputs": [],
            "source": [
                "# Or use the \"xor\" symbol...apparently it is overloaded to work with sets\n",
                "print(A ^ B)"
            ]
        },
        {
            "cell_type": "markdown",
            "metadata": {
                "id": "inPz8IXf-z7k"
            },
            "source": [
                "## Cartesian Product"
            ]
        },
        {
            "attachments": {},
            "cell_type": "markdown",
            "metadata": {},
            "source": [
                "Using set builder notation, the cartesian product of two sets $A$ and $B$ is defined as the set of all possible ordered pairs with the first element in the pair from set $A$ and the second element in the pair from set $B$.\n",
                "\n",
                "$A \\times B = \\{ (a, b) : a \\in A \\land b \\in B \\}$\n",
                "\n",
                "Let A = {1,2,3,4,5} \\\n",
                "Let B = {a, b, c, d, e}\n",
                "\n",
                "What is $A \\times B$? "
            ]
        },
        {
            "attachments": {},
            "cell_type": "markdown",
            "metadata": {},
            "source": [
                "### "
            ]
        },
        {
            "attachments": {},
            "cell_type": "markdown",
            "metadata": {},
            "source": [
                "{(1, a), (1, b), (1, c), (1, d), (1, e), (2, a), (2, b), (2, c), (2, d), (2, e), (3, a), (3, b), (3, c), (3, d), (3, e), (4, a), (4, b), (4, c), (4, d), (4, e), (5, a), (5, b), (5, c), (5, d), (5, e)}"
            ]
        },
        {
            "attachments": {},
            "cell_type": "markdown",
            "metadata": {},
            "source": [
                "We can do this in Python using a set comprehension. Notice the similarites between Python set (or list) comprehension notation and the set builder notation used above."
            ]
        },
        {
            "cell_type": "code",
            "execution_count": null,
            "metadata": {},
            "outputs": [],
            "source": [
                "# Define sets A and B\n",
                "A = {1,2,3,4,5}\n",
                "B = {'a', 'b','c','d', 'e'}\n",
                "# B = \"abcde\" # Can also do this\n",
                "\n",
                "# List comprehension to \"build\" the set A x B\n",
                "{(a, b) for a in A for b in B}"
            ]
        },
        {
            "cell_type": "markdown",
            "metadata": {
                "id": "mvprI7h9v7Lc"
            },
            "source": [
                "### Find $ A \\times A$ if $A = \\{0,1\\}$"
            ]
        },
        {
            "cell_type": "code",
            "execution_count": null,
            "metadata": {
                "id": "gfFyGK42wK9d"
            },
            "outputs": [],
            "source": [
                "A = {0, 1}\n",
                "\n",
                "{(a1,a2) for a1 in A for a2 in A}"
            ]
        },
        {
            "cell_type": "markdown",
            "metadata": {
                "id": "LuohlTdm_0vq"
            },
            "source": [
                "#### Try it:"
            ]
        },
        {
            "attachments": {},
            "cell_type": "markdown",
            "metadata": {
                "id": "8E4wSUsF_0vr"
            },
            "source": [
                "Can you generate $\\{0,1\\}^5$ and list them all? (Note that this is the same thing as creating all bitstrings of length 5)"
            ]
        },
        {
            "cell_type": "markdown",
            "metadata": {
                "id": "xPc5hOI5_0vr"
            },
            "source": [
                "##### Sample solution"
            ]
        },
        {
            "cell_type": "code",
            "execution_count": null,
            "metadata": {
                "id": "kNlsjX3C_0vs"
            },
            "outputs": [],
            "source": [
                "A = {0, 1}\n",
                "{(a1, a2, a3, a4, a5) for a1 in A for a2 in A for a3 in A for a4 in A for a5 in A}"
            ]
        },
        {
            "cell_type": "markdown",
            "metadata": {
                "id": "YqvkffkO_0vt"
            },
            "source": [
                "Another way:"
            ]
        },
        {
            "cell_type": "code",
            "execution_count": null,
            "metadata": {
                "id": "KpuIPWVs_0vt"
            },
            "outputs": [],
            "source": [
                "# Python includes a Cartesian Product function\n",
                "from itertools import product\n",
                "{*product(A,A,A,A,A)}"
            ]
        },
        {
            "cell_type": "markdown",
            "metadata": {
                "id": "oqCev_cu-2dt"
            },
            "source": [
                "#### How would we do a Cartesian Product of {1,2,3} and {a,b,c} in Python?"
            ]
        },
        {
            "cell_type": "code",
            "execution_count": null,
            "metadata": {
                "id": "Q_9LQQIR-sPe"
            },
            "outputs": [],
            "source": [
                "# Cartesian Product\n",
                "A = {'a', 'b', 'c'}\n",
                "B = {1,2,3}\n",
                "\n",
                "# Using a list comprehension\n",
                "cartesian_product = {(a,b) for a in A for b in B}\n",
                "print(cartesian_product)\n",
                "\n",
                "len(cartesian_product)\n",
                "\n",
                "\n"
            ]
        },
        {
            "cell_type": "code",
            "execution_count": null,
            "metadata": {
                "id": "AWYIRrjoATtV"
            },
            "outputs": [],
            "source": [
                "# Using product function\n",
                "from itertools import product\n",
                "cartesian_product = {*product(A,B)}\n",
                "\n",
                "# cartesian_product = product(A,B)\n",
                "print(cartesian_product)\n"
            ]
        },
        {
            "cell_type": "code",
            "execution_count": null,
            "metadata": {
                "id": "tVEkuhDWAWij"
            },
            "outputs": [],
            "source": [
                "# Note that A x B is not the same as B x A\n",
                "axb = {*product(A,B)}\n",
                "bxa = {*product(B,A)}\n",
                "print(axb)\n",
                "print(bxa)"
            ]
        },
        {
            "cell_type": "markdown",
            "metadata": {
                "id": "wWMfAwIOAs3n"
            },
            "source": [
                "A = {0, 1}\n",
                "\n",
                "What is $ A \\times A \\times A $?"
            ]
        },
        {
            "cell_type": "code",
            "execution_count": null,
            "metadata": {
                "id": "1ndmd_LWA7Jx"
            },
            "outputs": [],
            "source": [
                "A = {0,1}\n",
                "\n",
                "print(*product(A,A,A))\n"
            ]
        },
        {
            "cell_type": "code",
            "execution_count": null,
            "metadata": {
                "id": "PYdaAYMH_0vw"
            },
            "outputs": [],
            "source": [
                "# Another way\n",
                "for a in A:\n",
                "  for b in A:\n",
                "    for c in A:\n",
                "      print(a,b,c)"
            ]
        },
        {
            "cell_type": "markdown",
            "metadata": {
                "id": "PaMZKJiZ9CsP"
            },
            "source": [
                "## Group activity"
            ]
        },
        {
            "cell_type": "markdown",
            "metadata": {
                "id": "nYAzlMnA9Giw"
            },
            "source": [
                "You own an ice cream shop. If you offer 15 different flavors of ice cream, how many types of 3-scoop cones might you be able to claim in your advertising if you use the Cartesian product to build the set of possibilities?\n"
            ]
        },
        {
            "cell_type": "markdown",
            "metadata": {
                "id": "dkjJbtXE9vg3"
            },
            "source": [
                "### Sample solution"
            ]
        },
        {
            "cell_type": "code",
            "execution_count": null,
            "metadata": {
                "id": "OsG3JH2z9x8g"
            },
            "outputs": [],
            "source": [
                "# represent each of the 15 different flavors\n",
                "flavors = range(0,15)\n",
                "\n",
                "# compute Cartesian Product\n",
                "number_of_possible_cones = len([(scoop1, scoop2, scoop3) for scoop1 in flavors for scoop2 in flavors for scoop3 in flavors])\n",
                "\n",
                "print(number_of_possible_cones)\n"
            ]
        },
        {
            "cell_type": "code",
            "execution_count": null,
            "metadata": {
                "id": "iGnY-jcA-Riy"
            },
            "outputs": [],
            "source": [
                "# Using product function\n",
                "from itertools import product\n",
                "len([*product(flavors,flavors,flavors)])"
            ]
        },
        {
            "cell_type": "code",
            "execution_count": null,
            "metadata": {
                "id": "WsDKyuez-uMy"
            },
            "outputs": [],
            "source": [
                "# Shorter way:\n",
                "flavors = 15\n",
                "n = flavors**3\n",
                "print(n)"
            ]
        }
    ],
    "metadata": {
        "colab": {
            "collapsed_sections": [
                "eJNy_RAK1IBK",
                "j_fQCSIl1IBL",
                "icJ-cPRA1IBN",
                "ZxjG6wCu1IBP",
                "lk2rCuVG1IBR",
                "s3vmaQZ01IBS",
                "IPvBcBOW1IBT",
                "rvD_13LX1IBV",
                "edqQg3RZ1IBV",
                "E3gmMSaF1IBW"
            ],
            "provenance": [
                {
                    "file_id": "https://github.com/byui-cse/cse280-course-notebooks/blob/main/examples/examples-w03-sets.ipynb",
                    "timestamp": 1664381559054
                }
            ]
        },
        "kernelspec": {
            "display_name": ".env",
            "language": "python",
            "name": "python3"
        },
        "language_info": {
            "codemirror_mode": {
                "name": "ipython",
                "version": 3
            },
            "file_extension": ".py",
            "mimetype": "text/x-python",
            "name": "python",
            "nbconvert_exporter": "python",
            "pygments_lexer": "ipython3",
            "version": "3.9.0"
        },
        "orig_nbformat": 4,
        "vscode": {
            "interpreter": {
                "hash": "1977c1262a5a71e57f8e1e2a9337f4268800bf2d1a595fc1ecb322ccb8b2351d"
            }
        }
    },
    "nbformat": 4,
    "nbformat_minor": 0
}
