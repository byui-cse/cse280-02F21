{
 "cells": [
  {
   "cell_type": "markdown",
   "metadata": {
    "id": "unoW8PqzYUfu"
   },
   "source": [
    "# <font color=blue>Learn About Square Roots and Factorials</font>\n",
    "## <font color=blue>Teach One Another</font>"
   ]
  },
  {
   "cell_type": "markdown",
   "metadata": {
    "id": "tlQndv3fYihk"
   },
   "source": [
    "## <font color=red>**TODO** Warmup Exercise</font>"
   ]
  },
  {
   "cell_type": "markdown",
   "metadata": {
    "id": "xBOgMT_GYnLz"
   },
   "source": [
    "Find a way to insert into the ten lines below a combination of the four standard math operators $(+, -, \\times, \\div)$,\n",
    "\n",
    "!\n",
    "\n",
    "(factorial --- 0! is defined to be 1),\n",
    "\n",
    "$\\sqrt{}$\n",
    "\n",
    "(square root),\n",
    "\n",
    "and parentheses for grouping, to make ten different expressions that each evaluate to 6.\n",
    "\n",
    "For example: $\\sqrt{4} + \\sqrt{4} + \\sqrt{4} = 6$."
   ]
  },
  {
   "cell_type": "markdown",
   "metadata": {
    "id": "z3uHCci1ZmTF"
   },
   "source": [
    "$$\\begin{array}{rlrlrllr}\n",
    "0 &  & 0 &  & 0 &  & = & 6\\\\\n",
    "&  &  &  &  &  &  & \\\\\n",
    "1 &  & 1 &  & 1 &  & = & 6\\\\\n",
    "&  &  &  &  &  &  & \\\\\n",
    "2 &  & 2 &  & 2 &  & = & 6\\\\\n",
    "&  &  &  &  &  &  & \\\\\n",
    "3 &  & 3 &  & 3 &  & = & 6\\\\\n",
    "&  &  &  &  &  &  & \\\\\n",
    "\\sqrt{4} & + & \\sqrt{4} & + & \\sqrt{4} &  & = & 6\\\\\n",
    "&  &  &  &  &  &  & \\\\\n",
    "5 &  & 5 &  & 5 &  & = & 6\\\\\n",
    "&  &  &  &  &  &  & \\\\\n",
    "6 &  & 6 &  & 6 &  & = & 6\\\\\n",
    "&  &  &  &  &  &  & \\\\\n",
    "7 &  & 7 &  & 7 &  & = & 6\\\\\n",
    "&  &  &  &  &  &  & \\\\\n",
    "8 &  & 8 &  & 8 &  & = & 6\\\\\n",
    "&  &  &  &  &  &  & \\\\\n",
    "9 &  & 9 &  & 9 &  & = & 6\\\\\n",
    "&  &  &  &  &  &  & \\\\\n",
    "\\end{array}$$"
   ]
  },
  {
   "cell_type": "markdown",
   "metadata": {
    "id": "lR-VmW4fZwyU"
   },
   "source": [
    "## <font color=red>**TODO** The Main Task</font>"
   ]
  },
  {
   "cell_type": "markdown",
   "metadata": {
    "id": "7TqNMgd8Z1z1"
   },
   "source": [
    "This is a more challenging search task:\n",
    "\n",
    "Starting with the number 4, find a sequence of factorial (for nonnegative integers only), square root, and floor operations to reach the first 10 positive integers.\n",
    "\n",
    "For example, here is how to reach 5:\n"
   ]
  },
  {
   "cell_type": "markdown",
   "metadata": {
    "id": "tgdpRq7jaBOI"
   },
   "source": [
    "$$\\lfloor{\\sqrt{\\sqrt{\\sqrt{\\sqrt{\\sqrt{(4!)!}}}}}}\\rfloor = 5.$$"
   ]
  },
  {
   "cell_type": "markdown",
   "metadata": {
    "id": "LeXdnDTDcmkH"
   },
   "source": [
    "Or, drawing the floor brackets better:"
   ]
  },
  {
   "cell_type": "markdown",
   "metadata": {
    "id": "9hon0pwAchqu"
   },
   "source": [
    "![reaching-5.png](data:image/png;base64,iVBORw0KGgoAAAANSUhEUgAAARAAAAC3CAYAAADaZAH3AAABQGlDQ1BJQ0MgUHJvZmlsZQAAKJFjYGASSCwoyGFhYGDIzSspCnJ3UoiIjFJgf8rAwiDHwM5gxKCWmFxc4BgQ4ANUwgCjUcG3awyMIPqyLsgs+XK+4obY7LX96sVvrSdfFcJUjwK4UlKLk4H0HyBOSi4oKmFgYEwAspXLSwpA7BYgW6QI6CggewaInQ5hrwGxkyDsA2A1IUHOQPYVIFsgOSMxBch+AmTrJCGJpyOxofaCAIdHgIKrkbERAaeSDkpSK0pAtHN+QWVRZnpGiYIjMIRSFTzzkvV0FIwMjAwZGEDhDVH9+QY4HBnFOBBiaYsYGEzEgYzrCLEsPgaG3UDHCssjxNTUgF7awcCw36IgsSgR7gDGbyzFaVCPMXJvZ2Bgnfb//+dwBgZ2TQaGv9f///+9/f//v8sYGJhvMTAc+AYA/xJcDZNHr3QAAABiZVhJZk1NACoAAAAIAAIBEgADAAAAAQABAACHaQAEAAAAAQAAACYAAAAAAAOShgAHAAAAEgAAAFCgAgAEAAAAAQAAARCgAwAEAAAAAQAAALcAAAAAQVNDSUkAAABTY3JlZW5zaG90qwJtCAAAAj1pVFh0WE1MOmNvbS5hZG9iZS54bXAAAAAAADx4OnhtcG1ldGEgeG1sbnM6eD0iYWRvYmU6bnM6bWV0YS8iIHg6eG1wdGs9IlhNUCBDb3JlIDYuMC4wIj4KICAgPHJkZjpSREYgeG1sbnM6cmRmPSJodHRwOi8vd3d3LnczLm9yZy8xOTk5LzAyLzIyLXJkZi1zeW50YXgtbnMjIj4KICAgICAgPHJkZjpEZXNjcmlwdGlvbiByZGY6YWJvdXQ9IiIKICAgICAgICAgICAgeG1sbnM6ZXhpZj0iaHR0cDovL25zLmFkb2JlLmNvbS9leGlmLzEuMC8iCiAgICAgICAgICAgIHhtbG5zOnRpZmY9Imh0dHA6Ly9ucy5hZG9iZS5jb20vdGlmZi8xLjAvIj4KICAgICAgICAgPGV4aWY6UGl4ZWxZRGltZW5zaW9uPjE4MzwvZXhpZjpQaXhlbFlEaW1lbnNpb24+CiAgICAgICAgIDxleGlmOlVzZXJDb21tZW50PlNjcmVlbnNob3Q8L2V4aWY6VXNlckNvbW1lbnQ+CiAgICAgICAgIDxleGlmOlBpeGVsWERpbWVuc2lvbj4yNzI8L2V4aWY6UGl4ZWxYRGltZW5zaW9uPgogICAgICAgICA8dGlmZjpPcmllbnRhdGlvbj4xPC90aWZmOk9yaWVudGF0aW9uPgogICAgICA8L3JkZjpEZXNjcmlwdGlvbj4KICAgPC9yZGY6UkRGPgo8L3g6eG1wbWV0YT4KB3Ij9QAAJU1JREFUeAHt3QewJUX5NvBBWHSXRRRWUERdwFUEIyBgXsUEKIhZDFVargHFjKhloLTKHEtlQbAkmBUURQRUVBREFMwZFAyAuCQBCSr89zff11vj5YQ5cyecM/d9q+6eu/fMdPc83f30m7pnvZvWShYSCAQCgUAFBG5R4Z64JRAIBAKBHIEgkBgIgUAgUBmBIJDK0MWNgUAgEAQSYyAQCAQqIxAEUhm6uDEQCASCQGIMBAKBQGUEgkAqQxc3BgKBQBBIjIFAIBCojEAQSGXo4sZAIBAIAokxEAgEApURCAKpDF3cGAgEAkEgMQYCgUCgMgJBIJWhixsDgUAgCCTGQCAQCFRGIAikMnRxYyAQCASBxBgIBAKByghsUPnOwo2XXnppdtFFF2U33nhjtsMOO2Trr79+4dv4NRAIBLpEwLy85JJL8p+lS5dmW221VbbhhhvW0qRaNJDTTjstO+igg7IDDjggu+aaa2ppWBQSCAQC9SBw/fXXZyeeeGI+Pw899NDs8ssvr6fgtaXUooFceOGF2RlnnJFdccUV2b///e/aGle2oDVr1mTHHntsds4552T//e9/R952i1vcIrvjHe+Y7bPPPtl666038tr4MhCYFQS222677Ja3vOXA5poTF1xwQWah32ijjbLrrrtu4HVV/lgLgVSpuM57mE/HHHNMdtZZZ5UqdsmSJdkhhxxS6tq4KBCYBQR+8IMfZNtss03rTe0FgWDYa6+9NnvjG9+YHXjggdnixYtHAklTufrqq0deE18GArOEwB3ucIdOmtsLApkUuR133HHSW+L6QCAQGIBALU7UAeXGnwKBQGABIBAEsgA6OR4xEGgKgSCQppCNcgOBBYBAEMgC6OR4xECgKQSCQJpCNsoNBBYAAkEgC6CT4xEDgaYQCAJpCtkoNxBYAAgEgSyATo5HDASaQiAIpClko9xAYAEgsCAzUbvq11NPPTU7/fTTs6233jpbtGhRV82IenuIwF577ZXZqt+2BIG0hLhjDo477rjsqKOOyvfqxE7gloBfINXssssuQSB97mtHDvz5z3/Odt9992z16tXZpptu2ufHjWdrGYG6DgiatNm1aCA33XRT5idkOAJ///vfMz8rV67MNt5446FnNwwvIb4JBKohYG46lYykz2ol3fyuWpyoTjxKBwmNO9Dn5k1YGH+5+OKL82MfV6xYEeSxMLp8ap7SnEzHV1x55ZXZDTfcUFvbaiGQDTbYYN05qF3Y9gD517/+lZ9GVjfD1oG0Njm1TSfe6U53yuAVEgi0hYBT+G51q1vl1fms88zi2glEY9uW//znP/kxbSbqNJpSyO2vf/1r5tCXZcuWxVGKbQ+QBV6fOZl8JA7bmjoC6bp/sOomm2ySr+xdENi457/qqquyv/zlL9ny5cuz29zmNuMuj+8DgZlBoH11oQFokAZWZT51YUKNeyR255/+9KfsLne5S050466P7wOBWUGgFwQy7WA7Rv+8887L/R+3vvWtp7250b5AoDQCQSCloap2Ib+M8C0zhg8k2aLVSou7AoHpQiAIpOH+EN5mvngXjZ+QQKBPCASBNNybcmR+97vfZVtssUV2+9vfvuHaovhAoF0EIiGhYbwRyK9//eucQDbffPOGaxtcPDPKi4dOOumkfL/ENEaqBrc8/loWgVWrVnUS4QsCKdtDFa/zGsFf/epX2T3ucY9ss802q1jK/G5jRn3sYx/LTj755PztZcNegTi/WuLuLhHYb7/9gkC67ICm6pZARgOQwt5VBioCoX3stttu2WGHHbYuK7GpZ45y20egq+heaCAN9/Uvf/nLPPdj2223bbim4cWfe+65eRr9Pe95z/DDDIcpvqmAQDhRK4A2yS0//elPM6uDJLKu5Hvf+15OYve73/26akLU21MEgkAa7tgf//jHOYHYRNeVfOMb38iPENhhhx26akLU21MEgkAa7Fib6IRwhW+7OkDo2muvzY9RvN3tbpfvxWnwcaPoBYhAEEiDnf6HP/whP3th++23r3UH5CRNFkL+5z//me244475UYqT3BvXBgLjEAgCGYfQPL4/55xz8sODEEhX8v3vfz8nrwc+8IFdNSHq7TECQSANdu5ZZ52VE8jd7373BmsZXfR3v/vdPHx8//vff/SF8W0gUAGBWsK422yzTeZYeTZ/V7kOFZ690VscbCT701klXYVwnYB2xhlnZPwf+ihkYSLgqIvtttsu23fffTPacJ2JhLVoIH/84x+zr33ta9mXvvSlzOlgbYtErS7qHfWczgD5zW9+kzsuu0ry+cUvfpGfVbvHHntM5Tkpo/CL7+pDwJmov/3tb/P5yay2vaIuqYVA6mpM1XKQh3NRp+kwIdEXWsiuu+5a9bHmfd/ZZ5+dD5ZHPOIR8y4rCggEBiFQiwkzqOA2/+aMjSVLlkzVeaj2vyCQrpK31M2Bai/OAx7wgDa742Z18QV9+ctfrnXlu1klC/wPr3vd63JTtW0YekEgbYNWpr6f/exn+R6Ye93rXmUur/2aSy+9NDv//PMzDlwHGXUl9uG87W1vy/fiPOlJT8piJ3AzPdHV61SCQBroz+RATZvoGqhibJFyUK644orsUY96VKeTlu1tP9CDHvSg7CMf+chUmZljQZyhC7o6rDsIpIFBcskll+RHGJo0XR1hKIHMWawPechDGnjC8kUyoziUn/WsZ+WvtCh/Z1w5Cwj0wok6bUCLSkkh7yp5i+YjAiOMKwO1K+HtP/XUU3M/zOMe97iumhH1NohAEEgD4DIf5MTstNNODZQ+vsh//OMf+XtoxPy72oOjlSJRXihOC5KLEtI/BIJAGuhT+R/XXHNNZxEYk/Zvf/tbJvu0zqShSaGSc6Atj3/84zv1w0za7ri+PAJBIOWxKnUltZ0Js3Tp0myrrbYqdU/dFzkF3pvwmC9d+WAQqLNQmFNMuWnK0akb74VcXhBIzb3PfFizZk1273vfO1u0aFHNpY8vLr1GApEJ4Xa1tYDmwZG78847dxpGHo9YXDEfBIJA5oPegHuZDqIfCKSLnAehWxrQXe9619zv0NXK//vf/z535D7sYQ/r5LDfAV0Tf2oAgSCQmkG18l522WWZ80e7mLw0IE5cDtTb3va2NT9dueI4kH/+85/nmaf3uc994hyScrDN5FVBIDV2mwQy2Z80kLvd7W6daCBeo2n1V/8mm2xS49OVL4oJ96Mf/SjbZZdd4hS08rDN5JWRSFZjt9l34jUOdt92Eba0qRCB0QC23nrrTl7fgERh4CxYyWNbbrlljQhPXhRnsvZ4raijFfoq3jlk237bEgRSI+JMF1mozIeNNtqoxpLLFYU4bOJz9sed73zncjfVfBUSE761N8M+INGorkQG7JFHHpl94QtfyF/s1UWftPXs73jHO/K3H7ZVX6onCCQhUcMn1f3CCy/M/R92B7ctKXTqFRJdvcibFuYUeCYUR3IXfqCEu3wc5KEvnIrfZU5MalNTn11oH56lFgJxFofwIelqV2Beecf/0D6oy/vss08njkMr7plnnpk997nP7ewFUkhU+vree++dv42vqy5BptrBqfz2t789P42rq0nWBgajtCtz0rYGctVVV62bq3W0qxYCYfd2KV3X79m1QQiXD0ICWRernegLO997eLtKIPv2t7+dt+HBD35wvvJ3NS44k48++ujckbty5coFH0pOKQXIpM75UksUxmRJSVNdsDxWveiii/INbF0dbUh1v/jii/Oog/fAdKG6//CHP8w233zz/PzLLiaugclk0IYuDzHSjhNOOCH3Rz3ykY8sHQmqc2KVwb+t+szJZFLb9l/n4lILgZQBq8lrAAQULNvFxPVsVGbaB/8Dj3jbYjB6heWyZcvyJLK261efVf+UU07J/Q20oK5EMt3q1aszOSiPfexjx44J5jfHr9T7toTZrz5aY1eLXh3P2gsCYf+ZtDShLjQgHcHGlAHKfOkigYsWZkCqv6sTyBysrQ9M2i5MuDQhPvnJT+bO7Mc85jFjyZTmeNxxx2XPfOYz81P0Uxl1fBoTCNVxjhYX+4KSqJe29trXvjZz5GMZEnH/BRdckB1//PHZt771rfzAqFReV5+9IJA6wdOxtIlJxdvfbF+X99AFgVhBaSFW3WROTvoM87ne4P70pz+d+z+YDV0JM/IDH/hAHsZ+6lOfOlL7MGlN7je84Q35iWnyViYRTvPvfOc7Qye/aNSLX/zi7EUvelF2xBFH5BnKqfyNN94422+//fLDwA8++OB839A4k8bY/NCHPpSXt//++2fe+VOGeFKdTXwGgcxB1YCSBDWJ6HjeflGQrhKWrEg0sa4OELLC/uQnP8m8wFsItyv51Kc+la/ST3/608f6Pk4//fScbOTNvPnNb84TAMu2m9nzlre8JXv1q1+d9/2g+775zW/mWinTDjYylJMwtb2r5YADDsicXytSVPw+XVf8RCB8O0hStrHNikyhLmWqCMRE7DIMTItwALB9HJOINp933nn54T3yDbrwwzAfOMq6OsRZyNQpbA5OrtNJN0k/cKR//OMfz5PXnv/854/cSiBf56ijjsq1AuSh3yaRY489NjdBaJ0m9iAp4uD3uTuj/f/hD394bj7xX33uc58bVMy6vxlXRe2SmZiiK+suavmXqSEQ5OFNbjLquhKH/p577rn5C6EmaQM1UtKS9PUuErisXPwfVlIRoLZF3331q1/NV8MnPOEJbVe/rr7PfOYzeR6OVxxsscUW6/4+9xfm1mmnnZb7Pp7xjGdk973vfScifeetvPe97801B2V7/kEiGpWEyTLIL+RvT3va03Lf1UEHHbSuzHRf8RNZFJ9LRGUuKRWvb+P3qSEQadjvete78kQo5kDbIoeDSkolRCIpMa5MOxCIFHKO3KoOTIOQalpFA+OEc/9DH/rQMs2t/RqRBJg5+2P58uW1l1+mQAl8tAKrNP/AKNHXTB17lmBmcpcV49RCY8EYJ2UIRBkWHae26XvkV3S2FusQIBBlI55T+7sKGqR2TQ2BOL37K1/5SobdvVOlTUEAnFOp43jPTeay4vAery6ggVTdRGdQr1q1Kk9GK1tvuo4tb0B1dYiz9+/KQOUU7EJMPGMHkZmAo3Yh62Nkz8HpjX18NmXFODnppJPyqAlyGDd5i2NhmAaS6oad60WQbAAcJDSQlCLAXPWj37uUqSAQE/atb31rjoMwlYiCzmpLDKgTTzxxnTooJGpClxW2NweqHJBBauq4cqxq7HEkOmkugsnjPjY2VbxtYf8zPWlswrddCO3DxLYiP/GJTxzZBO1M/qLddtvtf0yCkTeu/dLi9vnPfz5zSBLyGWc+FAnEpsJRY4P56Qxb4/6LX/ziwKYUCQRJLl68eOB1bf5xKghEXDs5LoVQaSBCZG0I7eETn/hEnjmZkp84U4etAoPapO0Gb5XoA9PD/hUONAlQfp9EkJf8E6/QTKvTJPfP91rRF45E9XdxBiwC5c+A27Of/eyxzlCOXi+B11ZRkLJOSOPSxEb2fBZlXuSUzA2aigjZOMJBSp7HYmZczhVtTafsqz8IZC1CQlgcUq9//evzHAagCXmZFG0Ibcc7VJ7znOesMwFMZJpQWdFeK4xVZFJBAOxxb3AjvPGTiLabFHvuueckt/3PtVZlpI0IJhX1W5lpH8Wow6TlVL2eqXnyySfn6v+jH/3osZOKr4Z2yQSZJPJCM7TQyS1BPGVMh6R1IA8mzLh7vIjMgkKjGjT+igRiwQoCWTtqrLxCUy996UvzHZwGEluWWTGJI7PqAKT6Cn06gjC9x4UJ42hCq0EZ4cQ0WJZP6ED0fHIFRDBSeE5Zw8KCg9qCvKyKVq8qYsAiUWFPG+H8v6xop4nFfDP4x62wZcstex1/Bt8TkwSB8meMm6TMLUI7KBsxMw6Y2MbJvvvuu66vxrUTHogqEci462nAtEgmvRyPuTKXQKbhgKROTRirB9v/Na95Tc7QJgGQ2IE6elxizVyAq/zfxJEHIHvU+RXEJOIULFO/tlKhObQmjcBYaY455pg8WzFlb6Y9EmWexcDm/0Agjg+sIvrgFa94RZ48Z9DSvsqKlRzRq9tkHDd5h5UL70mIK5WD6C1AQpu0D6vyOKHZWrnLntimXRzs8nxoycigrDBd+EHKEohFhBlMoxymgSQHMY1mwROIwQ8wL4A2+KzgKZIgTVcGX9NCjU12JdU0raIIxM84oS3peA6wSSaQgUn7sBK+5CUvyckHeZKyfhB+Gqv/7rvvXnpVLD6PE9RkQtJ6iNWcSVVGtD9FzOy8TRiWubd4DRKgQdhJPKkwuewncXQA/MsIwtRfaSKOu8fZrlLdLTKTmqj6MxFIWeIxHmh2Et0GCUdsIqRRTtlB9zbxt041EJ2uc1IcnvqWXgbNOccuL2tG1AGOdqRBwolbJh9FGw3IKhmgBr7NVNRc6ndyzNFoygjyQnLMh0mF78mksLIy3wgCQUpltAFOPv4PBCD6w4SbRNRBG3jf+96Xm64+rbxlhfny0Y9+NCdg791N2I27n9ZkkUhjbtT1yOZNb3pT9uQnPzmTcDap0ECMaRpPWQJBOLTQYUEEWgeSSf6VSdtU9/WdEoiwJ7svrfpA5odIq5mVqc1wLnBTKJT2YwCNk7PPPjvPB0gRnHHXp+9pK+4RvSC0n7Qq2otTZjJJZkJyu+66ayq29KddolbXD3/4w7n/w43KQiKDIgBzC6b50JQQp3fQTKJ98f3QPi0e73znO3PCogXBsqwgbvuWLELCqmUlEcg4wqMFHHbYYbk/wj4Vi8SkQgNBIMzbcfWlshGIRXNY/9M6zI9emTDSp2UhiquPS65JQA36BDiTJvkiqPjU7DYlaRJWaAQyTgPiq0GA3gI3HzEJkw3P90IzGCUGGA3EirTtttuOunTgdzSeD37wg7n2Au+0g5gpQasYJ7CxExUJWgjKCs2DecopyXdh7wxB2PwZZRzntA9bHow1mkFqe5k2eDZkN26cioZxbr/85S+vfEB10kBS0leZ9o3za4h00bYstmWjXuaVsDVT01ipQobD2l7LkYYcb9RR+RM6dz7CD2ISG5zUc7tMJ91mPZ/6kyZhIPMHmKjDVg/PaxJr8ySDeFD7dLDVyuBGWqIbybQYdD0Vl7lh+37SXAZdN+xviaR9zwFKE7IhzuTWn1bCYaKPRX98uq+MOZDK8nzqs4vVzmELhGMAaD00IuHsROLpnrmftJWvf/3ruebFeTqJmKC0Cz/DJIXWTVDjQF1zRThYP3keY5U/hqmi7fqRVNFARGAsSGkxmVsvDQTxGpPjSDDdi7ThbKzy+Y1bFNN9ZT5rIRCdoYEGXhn7eVTDAMOMAZJVSY5EmwRSTAaj7lqxhhEILcGzMyEMlvmIVcGEotoz26jzo55bBEeoWf6FFW4+wqZWdzqEmG9jxYoVQ4vUPrkXy9cSJwIxiSYR2pofmCEqWoSNcEwyWueot/oZX6IiErte+cpXlvYtpPYhesQ76swX41jfMyVf+MIXDnw+hAcHk5Ej2rPwnzEJ054kfSozVmCgrI+G9om4hhE4fxm/TFmfiueGmUidBdl4nu8in7D0Ob9RXyyppt8NRoMyOTPlaZTxRdRUfa5JpHeqmKSj1HkD3iBK+SPzbYNJnFY9+1uUPUyE+TiaTbb5JhTRYJg0VmeDzSQetRCYfNR7pot34EwqJlsiXP39qle9Kl91aXSe2wQfJkxGe2/4PvbYY49hlw39O1MRrqP61SIiuoOgaRpW7rk/THYCe8Tre7gx45N4NqF9frX0vOm7YZ8WYsST/IBzrzM+aMlpjM79vu3/Tx2BAMDqp6OTiib1uC2hIiZ/hknKWThMOBwNRoRXhzArkn1qkg7KBVAPs0oIleZhICWcqrbBQIc5Ry7hYB11UI2Jop1W1vlqP+pjhjkXgyAIiW2DVknaHo2UhnDw2lO8yk7KvOD//w9ygB+SGqbKw5PGwLc37MdEJrCjLbjOZ/q77/QhsoMnjWbQM7kuCdJ2UJAyaIVzxffKgb9yR5Hg3Hub+v9UEghWpwYmv4LVoIxzrQ6QEEhS33WWFWHQamwwUPXrcKCmdnNwpWdmCxtMg8QE8p3Vf5iqO+i+UX9bvtYcSc/NNBu1XZ25oZ1JVR9VbpnvTFjvskFK8h9kxHrGucKso6FY/SUdVhFkj/T5OfRtFUE8aUz4HEa2tGchZmekcFiPWoy0g+NeMh9Slug2VxCfiNBee+2VPeUpT8n9g8NIcO69Tf1/KgnEw8qRSM4om9XSXpGmgEjlYv9kPlnxmDGDTAmDz2C3og3zkaQyy34yIZJqTJ0flM6sLHX7Tt2DVqqy9RWvY1vTvFIUQIh0kPBLcWwb4FXMl0Fl0iSo/kw4Yms+p3yapP5mNefMpDk4Y7S40vu+rDB9EBV/gAWirJioNELHABx55JH5uHCvhc1mTG3j3NVvSWhTiJC/hDk0TmNIO7GNp+TMT2X5VI7oUHLwG39BIEWECr9bjXm0DS7MSw1sQwzMYljSajxohTGYDOqizVtH+1IincGWfCzFck0qk1i7YFQlAlMsL/1uUrHVOa/JZz/72YEqN/LgkJN6X4f5kupXr30mhG+HFlLUOpODVdo8zJkOVYTGhqT51dRTVoxBmPDXyF1BDPwUMHCGx4EHHpi9+93v/p8yZVjT6hy0zUQbR/ZC6MY7Ik2LZ7F9yN1bD5E9HPRXyqEqXtfm77VEYZposAFN/eOs03m8/lK+0wrZRJ3K1IE6yI9QKScaApnr9eaDYGakVbOu9qSkMCsLNVtyV3GPjUnFfBE6pQXUOYA4ZNWFHDkF1ZP8Iun5nIehzvns/k1lFT+ZrTJqOXPtr7HK26eE0PX/d9aGSv2dKcDfUFWYqHbUygAWZfHqhzJOaNeIinluYwSB+UlaEpNW2cUNeitXrsy35utLuI4iXM8onA1bxwWoY64Y+wjMKyi0Bw6Drpt7X5P/n1oC8dBClIiE6saUYMpU3TQ2CYjse1oIAhHfH6SBmGC0BA7AOqWYn5FyPYoEAgs5GOL5y9f6LeoUjmvlUsVNCNGFIoFQ+X3HxCu2s442mIzIQ1YpoqBxMBdMdn3vuEJOWyRjTFQV99IGaCIyaS0EZUwxfhrkUCSIcW1AKDAtI7C2YCCFYbktMDI2k5+sTLlNX3Nzmmu6xgnKp9ZSAwmVU45EYvwJipn4Ukk8JhKxClPZi2JFMcD5SJK/pPj9fH436KxcxDMb4EVRp0lMLa77AB+ThAmVEsNsJShGDiSZwcLBPQZz3ZIcsyapfpbv4XnZ/RYPY4HZNl8RubLKw5HfoWs/ggWKGUQLqZo2P19Mqt4/1QTioQxWIsFGh4/zZOcXz/MfEyhNTgP4/Dm2MgecdrClTfi6JflBaCAIpDjAmTRWaO0bliswn/ZY5ROBqMfqTziSaQRMqCZPXpdunZLThCod4nP44Yfn9j4CmY/2kXBBVFLokb8UgUmcqamMuj4RtMiS0LV+R2yzJFNPINRN/gjCH2Hlb1p4wYt29tw6qZpIhJO3Th9Eeq70YmorE+990bPPfOGMYzo1Yf/y/ic1nY8nHS0g+iFsTd0X/WlKaH7Cw8k5bMewepk2gyITVdvBAcmXQLtxJkvRYVu1zCr3WZwOPfTQvC+9FaCJ8VSlXWXvmXoCkdDDmUr4HdpQOTnuEEhaiQ3gogif0QQM6CY6HDElhxuHJrJKwoyzgtY5mVLZPtWLtJkoCMTRAswJDkfRH1vbmyCu1Ab17r333utIjAmJVPhCqoZuU9nFT05xb68ztrx2Us5G20KrRl7G9Mte9rJ1Ify22zGf+qaeQDycQUusxLZxA75p4WNIzkv2d1FoBSaTlZjfoG5BmokgmDBMmSTCqAikSS1AZILQgOSbUPGZE0KX6bvUniY++TmSuYI0pKxzsNYtiMnLnGhzTsWbu1DUXV+xPBoP0hLV8koHpksT5nCxziZ+nwkCYRMnb7ZsxFF7JeoCKYVylWf1TX4Ik4oGYqXm5G1iNabVpIQyWpcJTAvgj/DsxbND6nreYjlCycw4dTLXhNBpAvoh+YaK19f9u+d3yLVQpZ8XvOAFtfg+BrXTuFq9enWeuOg52xIRvHQWrSMDLAqzKDNBIEyJtHHKZBZaLUYHmgBemC8l/iCNFA2xCpvQBl6y0+uu3wRioxPOS3YyZy4tgBPRBG8iCpKew6RN71dBlvITEAitYG4+TLqn7k9k5TUKfBTFUHLd9cCRpumdurSQtoQD/D3veU++o5jG2WR/NvlMM0EgEmiENpMHvo2NRDIBEUjq2KTeSiOnCVCz60phn9vBzKKifwVhynoVBaHmmlxNSyIQZqMcBc+MuJpO5Cs+F8LiDwqZXgRqIRD2XFLxm9AMTCj7NNIBO3Yj2njUpKRMv2SXpn0K6uUDWb42iaspAkFaTKiU8yCcirikd1utmlyRE6YiIcVDbSTwSa5LhJqui8/pR8CcpMESeTxprtbR8loIhIqfwmB1Nq74gKIichSIsKpJ1bRIFU9mCtOJT0D0RYIXB1yTq7HJmzIkbSRkLzOdpM43RVxFPBFVcbetTWjF0Hbx2vh9uhEwJyWpEflL5mtdUguBmEgpxNZEWNPDGtAO7kmr4gknnJBP6LqAGFSOjMVUH+etTqDK8wOwm5uIwKR28Pukc0l0uvfnIOmq29hTuZN8pnfdstdFKlJYe5Iy4truETAnU98xzZNWXUfLaiEQEylFI5pScdVhRU6TioMtqWV1ADGoDFpGAl7omCPVNnN/T8ltg+6r429IqngmhM1kVpIqr3Co2h4an8EGcz6Z1MdVy4v7ukHAnEwLu4W+zn6shUDagsXW6KTW8wlw7jUpckESgTBf+EFkw9I+UoSmqfoRJg0ohU2RpdWjDf9HeiZE+bznPS/PUWgiDyPVE5+zi8BMEQhVWgSCOUOOPvroRpFHHux+k5kjih+CP8LfBp3XUHdjEFVRC/EGurSS1F3XoPKQ5CGHHJK/2oBTOSQQmIvATBGIxosGWJmJLL5imnf+x5r/ofFQ42kgzAhmDPOlDUemetKzeqz0/tyaHzGKCwQqIzBzBEKVtosy2XFNZw9KGWc3Jg3EpJZE1pSvp9iTNC5mBA2ItOn/KLYjfg8EhiEwcwQiKsK5lzQAx8w1FToGGrJIESb/Z7oUtQJ/a0poPvJNhJIRid9DAoFpQmDmCAR4VPmUn2FznchIU8IHUSQQexaSY7OpOovlSiaz5yadzlb8Ln4PBLpGYKqPNBwGDjPGxLKxzKYkvommBGE4H0P+B+HA5dxsS2yqc6CONrTpQG3r+aKe2UZgJjUQGoETvPkh7NVwYnvKhK27O/ha0n6MZFK0GZFAWEw25ksbfpe68Yvy+o3ATBKILvFyHSsy56bcjLTZrYnuSgcnS+5K53Q0Uc+wMoM4hiETf+8agZklECZMGye066CUvEbzSG9v67rjov5AYBoQmFkCAd6qVatuhqF8jbolZX86REhUJiQQCAT+HwIz6URNneeQIT4Ch/w0KaIgTiKnibTpQG3ymaLsQKAOBGaaQCR1Se/20qEmRSLX+9///nxfTDGk22SdUXYgMAsIzLQJA+D0PtWmwZYP0vQGuqafIcoPBOpGYOYJxDtUYmLXPSyivECgHAIzTyB8IOnA5XKPHFcFAoFAXQjMPIHYE+PoPQcu+0kbz+oCKMoJBAKB4QjMPIFwatqluv/+++enhqeT24c/cnwTCAQCdSEw01GYBIIt995qjkzSNv/0XXwGAoFAcwj0gkCYLeldss1BFSUHAoHAXARm3oSZ+0Dx/0AgEGgPgSCQ9rCOmgKB3iEQBNK7Lo0HCgTaQyAIpD2so6ZAoHcIBIH0rkvjgQKB9hAIAmkP66gpEOgdAkEgvevSeKBAoD0EgkDawzpqCgR6h0AQSO+6NB4oEGgPgSCQ9rCOmgKB3iEQBNK7Lo0HCgTaQyAIpD2so6ZAoHcIBIH0rkvjgQKB9hAIAmkP66gpEOgdAkEgvevSeKBAoD0EgkDawzpqCgR6h0AQSO+6NB4oEGgPgSCQ9rCOmgKB3iEQBNK7Lo0HCgTaQyAIpD2so6ZAoHcIBIH0rkvjgQKB9hAIAmkP66gpEOgdAkEgvevSeKBAoD0EgkDawzpqCgR6h0AQSO+6NB4oEGgPgSCQ9rCOmgKB3iEQBNK7Lo0HCgTaQyAIpD2so6ZAoHcIBIH0rkvjgQKB9hDYoO6qrr/++uy6664bWuyiRYuy9ddff+j38UUgEAhMjsANN9yQ3XjjjQNvNB9934TUTiCHH354tmTJkoFtXW+99bI999wz23777Qd+H38MBAKBaggcf/zx2fnnnz/wZov6mWeeOfC7+f6xdgI5+OCDh7YJgWy55ZZBIEMRii8CgWoIHHHEEdkpp5xS7eZ53FULgSCFnXfeObvyyivHNmXTTTcde01cEAgEApMhsNNOO2WXX3752JtWrFiRbbjhhmOvK3vBejetlbIXD7vu6quvzi677LKhNljxvmXLlmVLly4t/il+DwQCgXkisGbNmsw8HCeLFy/ONttss2yDDWrRHbJaCGRco+P7QCAQ6CcCEcbtZ7/GUwUCrSAQBNIKzFFJINBPBIJA+tmv8VSBQCsIBIG0AnNUEgj0E4EgkH72azxVINAKAkEgrcAclQQC/UQgCKSf/RpPFQi0gkAQSCswRyWBQD8RCALpZ7/GUwUCrSAQBNIKzFFJINBPBIJA+tmv8VSBQCsIBIG0AnNUEgj0E4EgkH72azxVINAKAkEgrcAclQQC/UTg/wAMkcb3boT1YwAAAABJRU5ErkJggg==)"
   ]
  },
  {
   "cell_type": "markdown",
   "metadata": {
    "id": "iFj4iSwFcsSa"
   },
   "source": [
    "Or, using Python:"
   ]
  },
  {
   "cell_type": "code",
   "execution_count": null,
   "metadata": {
    "id": "1GYgnvI8aeyL"
   },
   "outputs": [],
   "source": [
    "from math import floor as fl, sqrt as sr, factorial as fa\n",
    "\n",
    "fl(sr(sr(sr(sr(sr(fa(fa(4))))))))"
   ]
  },
  {
   "cell_type": "markdown",
   "metadata": {
    "id": "wWnrXamZbhkV"
   },
   "source": [
    "Note that if you square root something you must floor the result before applying factorial (even if you square root a perfect square)."
   ]
  }
 ],
 "metadata": {
  "colab": {
   "authorship_tag": "ABX9TyOm2TLPOASZFen/zCf+jNsG",
   "name": "learn-about-square-roots-and-factorials.ipynb",
   "private_outputs": true,
   "provenance": []
  },
  "kernelspec": {
   "display_name": "Python 3",
   "language": "python",
   "name": "python3"
  },
  "language_info": {
   "codemirror_mode": {
    "name": "ipython",
    "version": 3
   },
   "file_extension": ".py",
   "mimetype": "text/x-python",
   "name": "python",
   "nbconvert_exporter": "python",
   "pygments_lexer": "ipython3",
   "version": "3.9.0"
  }
 },
 "nbformat": 4,
 "nbformat_minor": 1
}
