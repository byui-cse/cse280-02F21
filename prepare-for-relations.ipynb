{
 "cells": [
  {
   "cell_type": "markdown",
   "metadata": {
    "id": "eKUTKekJMwFV"
   },
   "source": [
    "# <font color=blue>Prepare for Relations</font>"
   ]
  },
  {
   "cell_type": "markdown",
   "metadata": {
    "id": "4EK7pb_hS-Ox"
   },
   "source": [
    "## <font color=red>Instructions</font>"
   ]
  },
  {
   "cell_type": "markdown",
   "metadata": {
    "id": "7700sAfYgfR1"
   },
   "source": [
    "Answer questions on the content from the book, Chapter 4 Relations, and any first-level links therefrom."
   ]
  },
  {
   "cell_type": "markdown",
   "metadata": {
    "id": "DJm1MaXor4UB"
   },
   "source": [
    "## <font color=red>Access</font>"
   ]
  },
  {
   "cell_type": "markdown",
   "metadata": {
    "id": "W62erXo_sHbj"
   },
   "source": [
    "[Take the Quiz](https://byui.instructure.com/courses/149380/quizzes/2724909)"
   ]
  }
 ],
 "metadata": {
  "colab": {
   "authorship_tag": "ABX9TyNqn1rWtoZru0yc8t78YEb7",
   "name": "prepare-for-relations.ipynb",
   "private_outputs": true,
   "provenance": []
  },
  "kernelspec": {
   "display_name": "Python 3",
   "language": "python",
   "name": "python3"
  },
  "language_info": {
   "codemirror_mode": {
    "name": "ipython",
    "version": 3
   },
   "file_extension": ".py",
   "mimetype": "text/x-python",
   "name": "python",
   "nbconvert_exporter": "python",
   "pygments_lexer": "ipython3",
   "version": "3.9.0"
  }
 },
 "nbformat": 4,
 "nbformat_minor": 1
}
