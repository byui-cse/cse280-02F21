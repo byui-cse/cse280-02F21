{
 "cells": [
  {
   "cell_type": "markdown",
   "metadata": {
    "id": "BLnDxzrzRbBB"
   },
   "source": [
    "# <font color=blue>Connecting Primes and Algorithmic Information Theory</font>\n",
    "## <font color=blue>Ponder and Prove</font>\n"
   ]
  },
  {
   "cell_type": "markdown",
   "metadata": {
    "id": "-KW8B5QU5hzz"
   },
   "source": [
    "The [Wikipedia page on Algorithmic Information Theory](https://en.wikipedia.org/wiki/Algorithmic_information_theory) is very dense.\n"
   ]
  },
  {
   "cell_type": "markdown",
   "metadata": {
    "id": "6IUMsr-E5mQD"
   },
   "source": [
    "[Here is a gentler introduction](https://byui-cse.github.io/cse280-course/descriptive-complexity.pdf) by one of the leading lights of this theory.\n"
   ]
  },
  {
   "cell_type": "markdown",
   "metadata": {
    "id": "6Hzb-apF7haB"
   },
   "source": [
    "# <font color=red>**TODO** Explore Huffman Trees and Huffman Codes for Data Compression</font>\n"
   ]
  },
  {
   "cell_type": "markdown",
   "metadata": {
    "id": "FT7il92P7jkX"
   },
   "source": [
    "How does one go about compressing information as compactly as possible?\n"
   ]
  },
  {
   "cell_type": "markdown",
   "metadata": {
    "id": "8ZgVPcsL7kh5"
   },
   "source": [
    "How about if the information to be compressed is the first ten million primes?\n"
   ]
  },
  {
   "cell_type": "markdown",
   "metadata": {
    "id": "58Dof3Li7m6F"
   },
   "source": [
    "The first ten of the first ten million primes:\n"
   ]
  },
  {
   "cell_type": "markdown",
   "metadata": {
    "id": "ncuQkiUA7r9L"
   },
   "source": [
    "|    |\n",
    "|---:|\n",
    "|  2 |\n",
    "|  3 |\n",
    "|  5 |\n",
    "|  7 |\n",
    "| 11 |\n",
    "| 13 |\n",
    "| 17 |\n",
    "| 19 |\n",
    "| 23 |\n",
    "| 29 |\n"
   ]
  },
  {
   "cell_type": "markdown",
   "metadata": {
    "id": "vDu3Q-P37nmw"
   },
   "source": [
    "The last ten of the first ten million primes:\n"
   ]
  },
  {
   "cell_type": "markdown",
   "metadata": {
    "id": "op604SKH7xZO"
   },
   "source": [
    "|           |\n",
    "|----------:|\n",
    "| 179424551 |\n",
    "| 179424571 |\n",
    "| 179424577 |\n",
    "| 179424601 |\n",
    "| 179424611 |\n",
    "| 179424617 |\n",
    "| 179424629 |\n",
    "| 179424667 |\n",
    "| 179424671 |\n",
    "| 179424673 |\n"
   ]
  },
  {
   "cell_type": "markdown",
   "metadata": {
    "id": "o9ryzCsE8hBl"
   },
   "source": [
    "As ASCII text stored in a file with one prime per line, the size of this file is slightly over 89 megabytes (93484450 bytes, to be exact).\n"
   ]
  },
  {
   "cell_type": "markdown",
   "metadata": {
    "id": "LBSFSjM58juX"
   },
   "source": [
    "It is possible to compress this down to just over 5 megabytes (5589056 bytes, to be exact).\n"
   ]
  },
  {
   "cell_type": "markdown",
   "metadata": {
    "id": "mVDdMeDt8l6H"
   },
   "source": [
    "That's a 94% compression ratio!\n"
   ]
  },
  {
   "cell_type": "markdown",
   "metadata": {
    "id": "HedAvLaC8oHa"
   },
   "source": [
    "Standard compression tools can only get about a 73% compression ratio for this ASCII data.\n"
   ]
  },
  {
   "cell_type": "markdown",
   "metadata": {
    "id": "7XG7LhKL8o1H"
   },
   "source": [
    "A more clever approach is needed.\n"
   ]
  },
  {
   "cell_type": "markdown",
   "metadata": {
    "id": "eg4xkg288piT"
   },
   "source": [
    "Instead of compressing the list of prime numbers, compress a list of the **gaps** between them!\n"
   ]
  },
  {
   "cell_type": "markdown",
   "metadata": {
    "id": "t5ymI1Xj8qbP"
   },
   "source": [
    "Generating this list is very straightforward:\n"
   ]
  },
  {
   "cell_type": "code",
   "execution_count": null,
   "metadata": {
    "id": "rupo3stPxTjd"
   },
   "outputs": [],
   "source": [
    "from sympy import prime, sieve\n",
    "# ftmp = first ten million primes\n",
    "ftmp = list(sieve.primerange(2, prime(10000000) + 1))"
   ]
  },
  {
   "cell_type": "code",
   "execution_count": null,
   "metadata": {
    "id": "bejZwqpe4Eql"
   },
   "outputs": [],
   "source": [
    "gaps = [*map(lambda i: ftmp[i] - ftmp[i - 1], range(1, 10000000))]"
   ]
  },
  {
   "cell_type": "markdown",
   "metadata": {
    "id": "_UN7XEIB6Crb"
   },
   "source": [
    "Check to see if the list of primes is restorable from the gaps list:"
   ]
  },
  {
   "cell_type": "code",
   "execution_count": null,
   "metadata": {
    "id": "nFS5oF0R4PsR"
   },
   "outputs": [],
   "source": [
    "pl = [2]\n",
    "[pl.append(pl[-1] + g) for g in gaps]\n",
    "pl == ftmp"
   ]
  },
  {
   "cell_type": "markdown",
   "metadata": {
    "id": "6yasJn4k89Kh"
   },
   "source": [
    "For Huffman encoding, the larger the frequency of occurrence of a gap size, the smaller the number of bits encoding that gap size.\n"
   ]
  },
  {
   "cell_type": "markdown",
   "metadata": {
    "id": "3n5ylymr9Kbr"
   },
   "source": [
    "Counting how many times each gap size occurs is a two-liner:\n"
   ]
  },
  {
   "cell_type": "code",
   "execution_count": null,
   "metadata": {
    "id": "AAoVLlOC6m7-"
   },
   "outputs": [],
   "source": [
    "from collections import Counter\n",
    "gap_dict = Counter(gaps)\n",
    "gap_dict # doesn't count as a line of code!"
   ]
  },
  {
   "cell_type": "markdown",
   "metadata": {
    "id": "l_WDoN_89PNt"
   },
   "source": [
    "As a correctness check, here are the first ten and the last ten gap counts:\n"
   ]
  },
  {
   "cell_type": "markdown",
   "metadata": {
    "id": "xEdiAt1u9SQ0"
   },
   "source": [
    "|  Gap | Count   |\n",
    "|-----:|--------:|\n",
    "|    1 |       1 |\n",
    "|    2 |  738597 |\n",
    "|    4 |  738717 |\n",
    "|    6 | 1297540 |\n",
    "|    8 |  566151 |\n",
    "|   10 |  729808 |\n",
    "|   12 |  920661 |\n",
    "|   14 |  503524 |\n",
    "|   16 |  371677 |\n",
    "|   18 |  667734 |\n",
    "|      |         |\n",
    "|  190 |       1 |\n",
    "|  192 |       3 |\n",
    "|  194 |       1 |\n",
    "|  196 |       1 |\n",
    "|  198 |       6 |\n",
    "|  202 |       2 |\n",
    "|  204 |       3 |\n",
    "|  210 |       4 |\n",
    "|  220 |       1 |\n",
    "|  222 |       1 |\n"
   ]
  },
  {
   "cell_type": "markdown",
   "metadata": {
    "id": "h5cv56fy9Szc"
   },
   "source": [
    "Note two things from these partial gap counts:\n"
   ]
  },
  {
   "cell_type": "markdown",
   "metadata": {
    "id": "iRT0UwPi9Veh"
   },
   "source": [
    "1. Small even numbers (< 100) are well represented, larger ones (< 1000) less so.\n",
    "2. Ten million primes aren't enough to have **every** even number represented; for example, 200, 206, 208, 212, 214, 216, and 218 do not appear even once.\n"
   ]
  },
  {
   "cell_type": "markdown",
   "metadata": {
    "id": "5rxmss6g9W82"
   },
   "source": [
    "## <font color=red>**TODO** Questions to Answer</font>\n"
   ]
  },
  {
   "cell_type": "markdown",
   "metadata": {
    "id": "8_1-8DLg9X3C"
   },
   "source": [
    "1. Is it possible to get better compression using a binary encoding instead of ASCII --- storing each prime with 32 bits (4 bytes)?\n",
    "2. Is a fixed-width encoding of the gap counts, which requires knowing how many different gap sizes there are, better or worse than binary?\n",
    "3. Is the Huffman tree small enough to make graphically viewing it feasible using the [anytree](https://pypi.org/project/anytree) Python module?\n",
    "4. What does this compression technique have to do with algorithmic information theory?\n"
   ]
  }
 ],
 "metadata": {
  "colab": {
   "authorship_tag": "ABX9TyPl0OMm2JL/t5iOPlmMByno",
   "collapsed_sections": [],
   "name": "connecting-primes-and-algorithmic-information-theory.ipynb",
   "private_outputs": true,
   "provenance": []
  },
  "kernelspec": {
   "display_name": "Python 3",
   "language": "python",
   "name": "python3"
  },
  "language_info": {
   "codemirror_mode": {
    "name": "ipython",
    "version": 3
   },
   "file_extension": ".py",
   "mimetype": "text/x-python",
   "name": "python",
   "nbconvert_exporter": "python",
   "pygments_lexer": "ipython3",
   "version": "3.9.0"
  }
 },
 "nbformat": 4,
 "nbformat_minor": 1
}
