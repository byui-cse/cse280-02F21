{
 "cells": [
  {
   "cell_type": "markdown",
   "metadata": {
    "id": "R-STpDOl3_bd"
   },
   "source": [
    "# <font color=blue>Learn About String Transformations</font>\n",
    "## <font color=blue>Solutions</font>"
   ]
  },
  {
   "cell_type": "markdown",
   "metadata": {
    "id": "swQpr-Rl6S7w"
   },
   "source": [
    "For the *arbitrary* mapping:\n"
   ]
  },
  {
   "cell_type": "markdown",
   "metadata": {
    "id": "DIYWO20a6U5P"
   },
   "source": [
    "| Map | To  |\n",
    "|-----|-----|\n",
    "| `'C'` | `' '` |\n",
    "| `'I'` | `'U'` |\n",
    "| `'D'` | `'F'` |\n",
    "| `'R'` | `'W'` |\n",
    "| `'S'` | `'N'` |\n",
    "| `'E'` | `'I'` |"
   ]
  },
  {
   "cell_type": "markdown",
   "metadata": {
    "id": "oiz2AV7E6qAx"
   },
   "source": [
    "Every other (uppercase) character maps to itself."
   ]
  },
  {
   "cell_type": "markdown",
   "metadata": {
    "id": "m0rmOs-J6ryf"
   },
   "source": [
    "So transforming the string `'DESIRED RESULT'` would give `'FINUWIF WINULT'`."
   ]
  },
  {
   "cell_type": "markdown",
   "metadata": {
    "id": "cwAs8e8s6zRe"
   },
   "source": [
    "## <font color=red>**DONE** A Programming Challenge</font>\n"
   ]
  },
  {
   "cell_type": "markdown",
   "metadata": {
    "id": "zPpudWe_60ey"
   },
   "source": [
    "Here are four different ways to implement this mapping:"
   ]
  },
  {
   "cell_type": "code",
   "execution_count": null,
   "metadata": {
    "id": "xfQgQNwXyBTZ"
   },
   "outputs": [],
   "source": [
    "# Used for all solutions\n",
    "def xf(text):\n",
    "  return ''.join(map(xf_char, text))"
   ]
  },
  {
   "cell_type": "code",
   "execution_count": null,
   "metadata": {},
   "outputs": [],
   "source": [
    "# Solution 1\n",
    "def xf_char(char):\n",
    "    index = ord(char) - ord('A')\n",
    "    return \"AB FIFGHUJKLMNOPQWNTUVWXYZ\"[index] if index in range(26) else char"
   ]
  },
  {
   "cell_type": "code",
   "execution_count": null,
   "metadata": {
    "id": "ndmd6l30yqUc"
   },
   "outputs": [],
   "source": [
    "xf('DESIRED RESULT')"
   ]
  },
  {
   "cell_type": "code",
   "execution_count": null,
   "metadata": {
    "id": "2JpNq03_ykjl"
   },
   "outputs": [],
   "source": [
    "# Solution 2\n",
    "def xf_char(char):\n",
    "  return ' ' if char == 'C' else \\\n",
    "         'F' if char == 'D' else \\\n",
    "         'W' if char == 'R' else \\\n",
    "         'N' if char == 'S' else \\\n",
    "         'U' if char == 'I' else \\\n",
    "         'I' if char == 'E' else \\\n",
    "         char"
   ]
  },
  {
   "cell_type": "code",
   "execution_count": null,
   "metadata": {
    "id": "ndmd6l30yqUc"
   },
   "outputs": [],
   "source": [
    "xf('DESIRED RESULT')"
   ]
  },
  {
   "cell_type": "code",
   "execution_count": null,
   "metadata": {},
   "outputs": [],
   "source": [
    "# Solution 3\n",
    "# How about using a dictionary?\n",
    "def xf_char(char):\n",
    "  return {'C':' ','D':'F','R':'W','S':'N','I':'U','E':'I'}.get(char, char)"
   ]
  },
  {
   "cell_type": "code",
   "execution_count": null,
   "metadata": {
    "id": "ndmd6l30yqUc"
   },
   "outputs": [],
   "source": [
    "xf('DESIRED RESULT')"
   ]
  },
  {
   "cell_type": "markdown",
   "metadata": {
    "id": "cUNlNhvjlwy0"
   },
   "source": [
    "This fourth solution only works in [Python 10](https://www.python.org/downloads/release/python-3100b2/) that introduces `match` (like `switch` in `C`, `C++`, `Java`, etc.):"
   ]
  },
  {
   "cell_type": "code",
   "execution_count": null,
   "metadata": {
    "id": "Kcapoq8ZzBE5"
   },
   "outputs": [],
   "source": [
    "# Solution 4\n",
    "xfC = lambda:' '\n",
    "xfD = lambda:'F'\n",
    "xfR = lambda:'W'\n",
    "xfS = lambda:'N'\n",
    "xfI = lambda:'U'\n",
    "xfE = lambda:'I'\n",
    "\n",
    "def xf_char(char):\n",
    "  match char:\n",
    "    case 'C': return xfC()\n",
    "    case 'D': return xfD()\n",
    "    case 'R': return xfR()\n",
    "    case 'S': return xfS()\n",
    "    case 'I': return xfI()\n",
    "    case 'E': return xfE()\n",
    "    case _: return char\n"
   ]
  }
 ],
 "metadata": {
  "colab": {
   "authorship_tag": "ABX9TyNkC8ymxPJtajfN4wyH10X8",
   "collapsed_sections": [],
   "name": "learn-about-string-transformations-solutions.ipynb",
   "private_outputs": true,
   "provenance": []
  },
  "kernelspec": {
   "display_name": "Python 3",
   "language": "python",
   "name": "python3"
  },
  "language_info": {
   "codemirror_mode": {
    "name": "ipython",
    "version": 3
   },
   "file_extension": ".py",
   "mimetype": "text/x-python",
   "name": "python",
   "nbconvert_exporter": "python",
   "pygments_lexer": "ipython3",
   "version": "3.9.0"
  }
 },
 "nbformat": 4,
 "nbformat_minor": 1
}
