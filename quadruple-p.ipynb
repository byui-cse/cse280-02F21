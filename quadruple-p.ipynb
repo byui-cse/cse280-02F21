{
 "cells": [
  {
   "cell_type": "markdown",
   "metadata": {
    "id": "-dY6i69W7pJe"
   },
   "source": [
    "# <font color=blue>The Pigeonhole Principle</font>\n",
    "## <font color=blue>Ponder and Prove</font>\n"
   ]
  },
  {
   "cell_type": "markdown",
   "metadata": {
    "id": "_Bl4X8VO-71V"
   },
   "source": [
    "You are invited to explore, ponder, and prove some of the ramifications of the *Pigeonhole Principle*, a fascinating counting principle belonging to combinatorics.\n"
   ]
  },
  {
   "cell_type": "markdown",
   "metadata": {
    "id": "gLh3FfXW-9wK"
   },
   "source": [
    "### <font color=red>**TODO** Read and Respond</font>\n"
   ]
  },
  {
   "cell_type": "markdown",
   "metadata": {
    "id": "qAqFyFeX-_p9"
   },
   "source": [
    "Read Brother Kent Bessey's essay entitled *Pigeons and Pigeonholes*, think about and explore the topics therein, and write your response thereto.\n"
   ]
  },
  {
   "cell_type": "markdown",
   "metadata": {
    "id": "CQUBdO2s_BEf"
   },
   "source": [
    "Include in your response a description of a discussion about this essay that you will have had with someone *not in the class* (nor in any of the STEM majors). This person can be a spouse, friend, roommate, or relative. The point is to find someone who is not mathematically strong, and has probably never heard of the Pigeonhole Principle, or combinatorics (or discrete mathematics) in general.\n"
   ]
  },
  {
   "cell_type": "markdown",
   "metadata": {
    "id": "vJwNgei2_CqF"
   },
   "source": [
    "#### <font color=purple>Copyright Note</font>\n"
   ]
  },
  {
   "cell_type": "markdown",
   "metadata": {
    "id": "gsdnd-rs_Dk9"
   },
   "source": [
    "Brother Kent A. Bessey, Professor of Mathematics at BYU-Idaho, holds the copyright to this essay, which means:\n"
   ]
  },
  {
   "cell_type": "markdown",
   "metadata": {
    "id": "oRD6F4dO_FJK"
   },
   "source": [
    "> All rights reserved (by him). Reproduced by permission (from him). Read-only. Please do not copy, print, transmit or save a copy of this work.\n"
   ]
  },
  {
   "cell_type": "markdown",
   "metadata": {
    "id": "ajIWhC_E_Gib"
   },
   "source": [
    "He has authorized your temporary use of his work, which [you can find here](https://byui-cse.github.io/cse280-course/pigeons-and-pigeonholes.pdf).\n"
   ]
  },
  {
   "cell_type": "markdown",
   "metadata": {
    "id": "xlYuiXZ-_I5o"
   },
   "source": [
    "### <font color=red>**TODO** Concretize the Abstract by Writing Some Code</font>\n"
   ]
  },
  {
   "cell_type": "markdown",
   "metadata": {
    "id": "ZwST9Gze_JYM"
   },
   "source": [
    "Specifically, write some Python code to help you figure out the problem on page 40, which Brother Bessey prefaces by saying:\n"
   ]
  },
  {
   "cell_type": "markdown",
   "metadata": {
    "id": "xlG_W41L_K0R"
   },
   "source": [
    "> I leave it to the reader to verify the calculations for a final (albeit challenging) exercise ...!\n"
   ]
  },
  {
   "cell_type": "markdown",
   "metadata": {
    "id": "kc6DAaoX_L68"
   },
   "source": [
    "Include the results of your grappling with this problem, and note the two stubbed functions below that you must flesh out in order to verify the calculations and explain the hows and whys.\n"
   ]
  },
  {
   "cell_type": "markdown",
   "metadata": {
    "id": "-AIQP89r_NYI"
   },
   "source": [
    "#### <font color=purple>Stub Code</font>\n"
   ]
  },
  {
   "cell_type": "code",
   "execution_count": null,
   "metadata": {
    "id": "O0Xgq7oU_OYy"
   },
   "outputs": [],
   "source": [
    "# What is the parameter n?\n",
    "def calculate_number_of_possible_initials_including_middle_initial_if_any(n):\n",
    "  # YOUR CODE GOES HERE\n",
    "  raise NotImplementedError # remove this line"
   ]
  },
  {
   "cell_type": "code",
   "execution_count": null,
   "metadata": {
    "id": "k4seHieA_RKU"
   },
   "outputs": [],
   "source": [
    "def pigeonhole_from_pigeon(pigeon_represented_as_a_person_with_traits):\n",
    "  # YOUR CODE GOES HERE\n",
    "  raise NotImplementedError # remove this line"
   ]
  },
  {
   "cell_type": "markdown",
   "metadata": {
    "id": "Fy6i--yK_ZVy"
   },
   "source": [
    "### <font color=red>**TODO** Find Applications of the Pigeonhole Principle</font>\n"
   ]
  },
  {
   "cell_type": "markdown",
   "metadata": {
    "id": "8ow29kof_agT"
   },
   "source": [
    "Especially in graph theory --- there are many!\n"
   ]
  },
  {
   "cell_type": "markdown",
   "metadata": {
    "id": "g9O5_aBx_bcx"
   },
   "source": [
    "### <font color=red>**TODO** Answer Questions</font>\n"
   ]
  },
  {
   "cell_type": "markdown",
   "metadata": {
    "id": "2RsatO7r_fvA"
   },
   "source": [
    "(Some of these can also be taken as hints!)\n"
   ]
  },
  {
   "cell_type": "markdown",
   "metadata": {
    "id": "ir4z_61o_hI_"
   },
   "source": [
    "What did you think about the essay in general?\n"
   ]
  },
  {
   "cell_type": "markdown",
   "metadata": {
    "id": "w2cpApto_iOx"
   },
   "source": [
    "What did you think about the certainty-not-chance feature of the pigeonhole principle?\n"
   ]
  },
  {
   "cell_type": "markdown",
   "metadata": {
    "id": "NOYKXeij_jN2"
   },
   "source": [
    "What did you think bout the philosophical aspect of the pigeonhole principle (per page 41)?\n"
   ]
  },
  {
   "cell_type": "markdown",
   "metadata": {
    "id": "2SGgGusi_mH0"
   },
   "source": [
    "How did your discussion with a non-STEM non-classmate go?\n"
   ]
  },
  {
   "cell_type": "markdown",
   "metadata": {
    "id": "kH0jxm-a_nwl"
   },
   "source": [
    "It's possible, so did you implement the first function (the one with the absurdly long name) in one or two lines of code?\n"
   ]
  },
  {
   "cell_type": "markdown",
   "metadata": {
    "id": "55tnh_VA_olp"
   },
   "source": [
    "Did you use either the sum rule and product rule together or else just the product rule in the first function?\n"
   ]
  },
  {
   "cell_type": "markdown",
   "metadata": {
    "id": "fg1qlv2j_pig"
   },
   "source": [
    "Did you call the first function with the appropriate argument and use the result?\n"
   ]
  },
  {
   "cell_type": "markdown",
   "metadata": {
    "id": "XGVlPZ5A_qeO"
   },
   "source": [
    "Did you make it so the second function inputs a dictionary like {'Name': 'John Doe', 'LDS': True, 'Likes Cats': True, 'Born Before': True, 'Wears Contacts': False, 'Bites Fingernails': False, 'Lives Close': True} and returns the string 'J D:111001'?\n"
   ]
  },
  {
   "cell_type": "markdown",
   "metadata": {
    "id": "1LnFG6UQ_rph"
   },
   "source": [
    "Is it significant that the length of the string the second function returns is 10?\n"
   ]
  },
  {
   "cell_type": "markdown",
   "metadata": {
    "id": "X9paWjQ4_shY"
   },
   "source": [
    "Is it significant that the cardinality of the codomain of the second function (the set of its possible return values) is over a million?\n"
   ]
  }
 ],
 "metadata": {
  "colab": {
   "authorship_tag": "ABX9TyOPyAwZph2GDBevFIctG5uo",
   "name": "quadruple-p.ipynb",
   "private_outputs": true,
   "provenance": []
  },
  "kernelspec": {
   "display_name": "Python 3",
   "language": "python",
   "name": "python3"
  },
  "language_info": {
   "codemirror_mode": {
    "name": "ipython",
    "version": 3
   },
   "file_extension": ".py",
   "mimetype": "text/x-python",
   "name": "python",
   "nbconvert_exporter": "python",
   "pygments_lexer": "ipython3",
   "version": "3.9.0"
  }
 },
 "nbformat": 4,
 "nbformat_minor": 1
}
