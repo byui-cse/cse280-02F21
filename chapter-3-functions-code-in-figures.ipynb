{
 "cells": [
  {
   "cell_type": "markdown",
   "metadata": {
    "id": "DfsK1eiW6oLL"
   },
   "source": [
    "# <font color=blue>Chapter 3 Functions Code in Figures</font>\n",
    "## <font color=blue>Prepare</font>"
   ]
  },
  {
   "cell_type": "markdown",
   "metadata": {
    "id": "_kYR2J016Pqi"
   },
   "source": [
    "Figure 3.1"
   ]
  },
  {
   "cell_type": "code",
   "execution_count": null,
   "metadata": {
    "id": "mcRImB7K6Pqo"
   },
   "outputs": [],
   "source": [
    "def list_some_computations_on(a, b, c, d):\n",
    "    \"\"\"Add, divide, subtract, multiply\n",
    "       four numbers pairwise in a certain\n",
    "       fashion.\n",
    "    \"\"\"\n",
    "    return [a + b, d / b, d - a, c * d]\n",
    "\n",
    "print(list_some_computations_on(1, 2, 3, 4))"
   ]
  },
  {
   "cell_type": "markdown",
   "metadata": {
    "id": "gxzSjg276Pqp"
   },
   "source": [
    "Figure 3.2"
   ]
  },
  {
   "cell_type": "code",
   "execution_count": null,
   "metadata": {
    "id": "MwSUxPQk6Pqq"
   },
   "outputs": [],
   "source": [
    "a = 1\n",
    "b = 2\n",
    "c = 3\n",
    "d = 4\n",
    "print([a + b, d / b, d - a, c * d])"
   ]
  },
  {
   "cell_type": "markdown",
   "metadata": {
    "id": "zw6-KHqr6Pqq"
   },
   "source": [
    "Figure 3.3"
   ]
  },
  {
   "cell_type": "code",
   "execution_count": null,
   "metadata": {
    "id": "pUbO0Mr36Pqr"
   },
   "outputs": [],
   "source": [
    "print(list_some_computations_on(1, 2, 3, 4))\n",
    "print(list_some_computations_on(5, 6, 7, 8))\n",
    "#...\n",
    "print(list_some_computations_on(97, 98, 99, 100))"
   ]
  },
  {
   "cell_type": "markdown",
   "metadata": {
    "id": "3ODMIaRv6Pqr"
   },
   "source": [
    "Figure 3.4"
   ]
  },
  {
   "cell_type": "code",
   "execution_count": null,
   "metadata": {
    "id": "hn_N8Ans6Pqs"
   },
   "outputs": [],
   "source": [
    "def do_some_computations_on(a, b, c, d):\n",
    "    \"\"\"Add, integer divide, subtract, multiply\n",
    "       four numbers pairwise in a certain\n",
    "       fashion.\n",
    "    \"\"\"\n",
    "    return a + b, d // b, d - a, c * d\n",
    "\n",
    "print(do_some_computations_on(1, 2, 3, 4))"
   ]
  },
  {
   "cell_type": "markdown",
   "metadata": {
    "id": "o3HV_YmR6Pq0"
   },
   "source": [
    "Figure 3.5"
   ]
  },
  {
   "cell_type": "code",
   "execution_count": null,
   "metadata": {
    "id": "634timTd6Pq5"
   },
   "outputs": [],
   "source": [
    "def square(number):\n",
    "    \"\"\"Squaring is multiplying\n",
    "       a number by itself.\n",
    "    \"\"\"\n",
    "    return number * number"
   ]
  },
  {
   "cell_type": "markdown",
   "metadata": {
    "id": "6piG48Dx6Pq6"
   },
   "source": [
    "Figure 3.6"
   ]
  },
  {
   "cell_type": "code",
   "execution_count": null,
   "metadata": {
    "id": "VYfR41Hu6Pq7"
   },
   "outputs": [],
   "source": [
    "def square(number):\n",
    "    \"\"\"Squaring is raising a\n",
    "       number to the power of 2.\n",
    "    \"\"\"\n",
    "    return number ** 2"
   ]
  },
  {
   "cell_type": "markdown",
   "metadata": {
    "id": "tq_OIoBO6Pq7"
   },
   "source": [
    "Figure 3.8"
   ]
  },
  {
   "cell_type": "code",
   "execution_count": null,
   "metadata": {
    "id": "c0r0W6TO6Pq8"
   },
   "outputs": [],
   "source": [
    "def multiply(L):\n",
    "    if not L:\n",
    "        return 1\n",
    "    else:\n",
    "        return L[0] * \\\n",
    "        multiply(L[1:])"
   ]
  },
  {
   "cell_type": "markdown",
   "metadata": {
    "id": "uoIiHnMQ6Pq8"
   },
   "source": [
    "Figure 3.9"
   ]
  },
  {
   "cell_type": "code",
   "execution_count": null,
   "metadata": {
    "id": "cmkNTmx56Pq8"
   },
   "outputs": [],
   "source": [
    "def not_with_0_or_1(arg_is_0_or_1):\n",
    "    \"\"\"Logical not with 0 for\n",
    "       false and 1 for true.\n",
    "       Subtracts argument from\n",
    "       1, so 1 - 0 yields 1,\n",
    "       and 1 - 1 yields 0.\n",
    "    \"\"\"\n",
    "    return 1 - arg_is_0_or_1"
   ]
  },
  {
   "cell_type": "markdown",
   "metadata": {
    "id": "Gk_16-FN6Pq8"
   },
   "source": [
    "Figure 3.11"
   ]
  },
  {
   "cell_type": "code",
   "execution_count": null,
   "metadata": {
    "id": "zjwdkQqK6Pq9"
   },
   "outputs": [],
   "source": [
    "mymap = {}\n",
    "mymap['one'] = 'red'\n",
    "mymap['two'] = 'blue'\n",
    "mymap['three'] = 'green'\n",
    "\n",
    "for key in mymap.keys():\n",
    "    print(key + ': ' + mymap[key])\n",
    "# the same dictionary in\n",
    "# literal syntax\n",
    "for key in {'one': 'red', \\\n",
    "           'two': 'blue', \\\n",
    "           'three': 'green'}. \\\n",
    "           keys():\n",
    "    print(mymap[key] + ': ' + key)"
   ]
  },
  {
   "cell_type": "markdown",
   "metadata": {
    "id": "gAzu5ag76Pq9"
   },
   "source": [
    "Figure 3.12"
   ]
  },
  {
   "cell_type": "code",
   "execution_count": null,
   "metadata": {
    "id": "-OhGWNlf6Pq9"
   },
   "outputs": [],
   "source": [
    "def double(n):\n",
    "    return n * 2"
   ]
  },
  {
   "cell_type": "code",
   "execution_count": null,
   "metadata": {
    "id": "QytCEClj6Pq-"
   },
   "outputs": [],
   "source": [
    "lambda n: n * 2"
   ]
  },
  {
   "cell_type": "markdown",
   "metadata": {
    "id": "xVoBe55y6Pq-"
   },
   "source": [
    "Figure 3.13"
   ]
  },
  {
   "cell_type": "code",
   "execution_count": null,
   "metadata": {
    "id": "ZU_LLySp6Pq-"
   },
   "outputs": [],
   "source": [
    "(lambda x: x * 3 + 1 \\\n",
    "    if x % 2 else x // 2)(27)"
   ]
  },
  {
   "cell_type": "markdown",
   "metadata": {
    "id": "sDtGW_CR6Pq-"
   },
   "source": [
    "Figure 3.14"
   ]
  },
  {
   "cell_type": "code",
   "execution_count": null,
   "metadata": {
    "id": "3o5Z-trW6Pq_"
   },
   "outputs": [],
   "source": [
    "n, m = 0, 7\n",
    "while n <= m:\n",
    "    print('{0} --> {1:2d}'.format\\\n",
    "        (n, (lambda x: x * 3 + 1\\\n",
    "            if x % 2 else x // 2)\\\n",
    "        (n)))\n",
    "    n += 1"
   ]
  },
  {
   "cell_type": "markdown",
   "metadata": {
    "id": "gfStFBmk6Pq_"
   },
   "source": [
    "Figure 3.15"
   ]
  },
  {
   "cell_type": "code",
   "execution_count": null,
   "metadata": {
    "id": "d0nbjOvM6Pq_"
   },
   "outputs": [],
   "source": [
    "for n in [1, 2, 3, 4, 5, 6, 7]:\n",
    "    print('{0} --> {1:2d}'.format\\\n",
    "        (n, \\\n",
    "        (lambda x: x * 3 + 1 \\\n",
    "            if x % 2 else x // 2)\\\n",
    "        (n)))"
   ]
  },
  {
   "cell_type": "markdown",
   "metadata": {
    "id": "2FzVaBgc6Pq_"
   },
   "source": [
    "Figure 3.16"
   ]
  },
  {
   "cell_type": "code",
   "execution_count": null,
   "metadata": {
    "id": "Zv_C9WrJ6PrA"
   },
   "outputs": [],
   "source": [
    "def morphify(f, l):\n",
    "    results = []\n",
    "    for e in l:\n",
    "        results.append(f(e))\n",
    "    return results\n",
    "\n",
    "print(morphify(lambda x: x ** 2, \\\n",
    "    [1, 2, 3]))"
   ]
  },
  {
   "cell_type": "markdown",
   "metadata": {
    "id": "FCQhIZ-L6PrA"
   },
   "source": [
    "Figure 3.17"
   ]
  },
  {
   "cell_type": "code",
   "execution_count": null,
   "metadata": {
    "id": "jvYDVgkk6PrA"
   },
   "outputs": [],
   "source": [
    "def morphifyr(f, l, a):\n",
    "    if l:\n",
    "        a.append(f(l[0]))\n",
    "        morphifyr(f, l[1:], a)\n",
    "\n",
    "accum = [] \n",
    "morphifyr(lambda x: x ** 2, \\\n",
    "    [1, 2, 3], accum)\n",
    "print(accum)"
   ]
  },
  {
   "cell_type": "markdown",
   "metadata": {
    "id": "q8gEBYH_6PrA"
   },
   "source": [
    "Figure 3.18"
   ]
  },
  {
   "cell_type": "code",
   "execution_count": null,
   "metadata": {
    "id": "AX4xRO0s6PrA"
   },
   "outputs": [],
   "source": [
    "first_3_squares_map = \\\n",
    "map(lambda x: x ** 2, \\\n",
    "    [1, 2, 3])\n",
    "\n",
    "print(first_3_squares_map)\n",
    "print(list(first_3_squares_map))"
   ]
  },
  {
   "cell_type": "markdown",
   "metadata": {
    "id": "lCEl1xKs6PrA"
   },
   "source": [
    "Figure 3.19"
   ]
  },
  {
   "cell_type": "code",
   "execution_count": null,
   "metadata": {
    "id": "JSRtmxjt6PrB"
   },
   "outputs": [],
   "source": [
    "from operator import concat\n",
    "from functools import reduce\n",
    "\n",
    "def personality3(boolfunc3):\n",
    "    inputs = [(0, 0, 0), (0, 0, 1), (0, 1, 0), (0, 1, 1), (1, 0, 0), (1, 0, 1), (1, 1, 0), (1, 1, 1)]\n",
    "    outputs = map(boolfunc3, map(lambda x:x[0], inputs), map(lambda x:x[1], inputs), map(lambda x:x[2], inputs))\n",
    "    return reduce(concat, map(str, outputs))"
   ]
  },
  {
   "cell_type": "markdown",
   "metadata": {
    "id": "S_Quaw9z6PrC"
   },
   "source": [
    "Figure 3.20"
   ]
  },
  {
   "cell_type": "code",
   "execution_count": null,
   "metadata": {
    "id": "y9xCuEjp6PrC"
   },
   "outputs": [],
   "source": [
    "from operator import concat\n",
    "from functools import reduce\n",
    "\n",
    "def first(x):\n",
    "    return x[0]\n",
    "\n",
    "def second(x):\n",
    "    return x[1]\n",
    "\n",
    "def third(x):\n",
    "    return x[2]\n",
    "\n",
    "def personality3(boolfunc3):\n",
    "    inputs = [(0, 0, 0), (0, 0, 1), (0, 1, 0), (0, 1, 1), (1, 0, 0), (1, 0, 1), (1, 1, 0), (1, 1, 1)]\n",
    "    outputs = map(boolfunc3, map(first, inputs), map(second, inputs), map(third, inputs))\n",
    "    return reduce(concat, map(str, outputs))"
   ]
  },
  {
   "cell_type": "markdown",
   "metadata": {
    "id": "1dzs4KBf6PrC"
   },
   "source": [
    "Figure 3.21"
   ]
  },
  {
   "cell_type": "code",
   "execution_count": null,
   "metadata": {
    "id": "pyil-a5K6PrC"
   },
   "outputs": [],
   "source": [
    "def f1(p, q, r):\n",
    "    return or2(and2(p, q), not1(r))\n",
    "\n",
    "boolfunc3 = f1\n",
    "\n",
    "# the three lists are the 1st, 2nd, and 3rd elements of each 3-tuple\n",
    "map(boolfunc3, [0, 0, 0, 0, 1, 1, 1, 1],\n",
    "               [0, 0, 1, 1, 0, 0, 1, 1],\n",
    "               [0, 1, 0, 1, 0, 1, 0, 1])\n",
    "# which then becomes the equivalent of\n",
    "[boolfunc3(0, 0, 0), boolfunc3(0, 0, 1), boolfunc3(0, 1, 0), boolfunc3(0, 1, 1),\n",
    " boolfunc3(1, 0, 0), boolfunc3(1, 0, 1), boolfunc3(1, 1, 0), boolfunc3(1, 1, 1)]"
   ]
  },
  {
   "cell_type": "markdown",
   "metadata": {
    "id": "qXzmJ-PX6PrD"
   },
   "source": [
    "Figure 3.22"
   ]
  },
  {
   "cell_type": "code",
   "execution_count": null,
   "metadata": {
    "id": "slsmHAg16PrD"
   },
   "outputs": [],
   "source": [
    "def f(x): return x * x\n",
    "def g(x): return x * 3 + 1\n",
    "def fog(x): return f(g(x))\n",
    "def gof(x): return g(f(x))\n",
    "print('f(2) =', f(2), 'and g(2) =', g(2))\n",
    "print('fog(2) =', fog(2), 'and gof(2) =', gof(2))"
   ]
  },
  {
   "cell_type": "markdown",
   "metadata": {
    "id": "SA62haY06PrD"
   },
   "source": [
    "Figure 3.23"
   ]
  },
  {
   "cell_type": "code",
   "execution_count": null,
   "metadata": {
    "id": "23prA96d6PrD"
   },
   "outputs": [],
   "source": [
    "print(list(range(10, 18)))\n",
    "print(list(range(4, 31, 3)))\n",
    "print(list(range(1, 37, 4)))\n",
    "print(list(range(21, 141, 17)))"
   ]
  },
  {
   "cell_type": "markdown",
   "metadata": {
    "id": "lBx3gaBG6PrD"
   },
   "source": [
    "Figure 3.24"
   ]
  },
  {
   "cell_type": "code",
   "execution_count": null,
   "metadata": {
    "id": "Lq-kBIgN6PrD"
   },
   "outputs": [],
   "source": [
    "from operator import add\n",
    "from functools import reduce\n",
    "print(reduce(add, range(1, 101)))"
   ]
  },
  {
   "cell_type": "markdown",
   "metadata": {
    "id": "h9R5rfqf6PrE"
   },
   "source": [
    "Figure 3.25"
   ]
  },
  {
   "cell_type": "code",
   "execution_count": null,
   "metadata": {
    "id": "Zq9LSgeR6PrE"
   },
   "outputs": [],
   "source": [
    "sum = 0\n",
    "for k in range(1, 4):\n",
    "    for i in range(1, 3):\n",
    "        sum += k * k * i\n",
    "print(sum)"
   ]
  },
  {
   "cell_type": "markdown",
   "metadata": {
    "id": "EWnluLP68Yfy"
   },
   "source": [
    "## <font color=red>All in One</font>"
   ]
  },
  {
   "cell_type": "markdown",
   "metadata": {
    "id": "DKps7KnA8bb0"
   },
   "source": [
    "[The Code in Figures](https://byui-cse.github.io/cse280-course/chapter_3_functions_code_in_figures.py)"
   ]
  }
 ],
 "metadata": {
  "colab": {
   "name": "chapter-3-functions-code-in-figures.ipynb",
   "provenance": []
  },
  "kernelspec": {
   "display_name": "Python 3",
   "language": "python",
   "name": "python3"
  },
  "language_info": {
   "codemirror_mode": {
    "name": "ipython",
    "version": 3
   },
   "file_extension": ".py",
   "mimetype": "text/x-python",
   "name": "python",
   "nbconvert_exporter": "python",
   "pygments_lexer": "ipython3",
   "version": "3.9.0"
  }
 },
 "nbformat": 4,
 "nbformat_minor": 1
}
