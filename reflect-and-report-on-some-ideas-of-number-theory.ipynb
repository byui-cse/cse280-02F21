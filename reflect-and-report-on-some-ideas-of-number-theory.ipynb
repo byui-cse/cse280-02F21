{
 "cells": [
  {
   "cell_type": "markdown",
   "metadata": {
    "id": "OXF2XRUnr-aW"
   },
   "source": [
    "# <font color=blue>Reflect and Report on Some Ideas of Number Theory</font>\n",
    "## <font color=blue>Prepare</font>"
   ]
  },
  {
   "cell_type": "markdown",
   "metadata": {
    "id": "RW8AnZmmsGTD"
   },
   "source": [
    "## <font color=red>Instructions</font>\n"
   ]
  },
  {
   "cell_type": "markdown",
   "metadata": {
    "id": "t53YMdjcsIqv"
   },
   "source": [
    "You will be asked to assert the usual:\n"
   ]
  },
  {
   "cell_type": "markdown",
   "metadata": {
    "id": "jAmgU9b-sKXv"
   },
   "source": [
    "* I attended class on Tuesday this week.\n",
    "* I participated in the In-Class Exercise(s) on Tuesday this week.\n",
    "* I attended class on Thursday this week.\n",
    "* I participated in the In-Class Exercise(s) on Thursday this week."
   ]
  },
  {
   "cell_type": "markdown",
   "metadata": {
    "id": "VXar28CVsVRK"
   },
   "source": [
    "## <font color=red>Access</font>\n"
   ]
  },
  {
   "cell_type": "markdown",
   "metadata": {
    "id": "Kayo5x5UsWFk"
   },
   "source": [
    "[Take the Self-Assessment](https://byui.instructure.com/courses/149380/quizzes/2724917)\n"
   ]
  }
 ],
 "metadata": {
  "colab": {
   "authorship_tag": "ABX9TyMlOydTeH5wZT/VKl9xWRQv",
   "name": "reflect-and-report-on-some-ideas-of-number-theory.ipynb",
   "private_outputs": true,
   "provenance": []
  },
  "kernelspec": {
   "display_name": "Python 3",
   "language": "python",
   "name": "python3"
  },
  "language_info": {
   "codemirror_mode": {
    "name": "ipython",
    "version": 3
   },
   "file_extension": ".py",
   "mimetype": "text/x-python",
   "name": "python",
   "nbconvert_exporter": "python",
   "pygments_lexer": "ipython3",
   "version": "3.9.0"
  }
 },
 "nbformat": 4,
 "nbformat_minor": 1
}
