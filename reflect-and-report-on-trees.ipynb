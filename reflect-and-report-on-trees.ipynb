{
 "cells": [
  {
   "cell_type": "markdown",
   "metadata": {
    "id": "G8-neQdRzlt3"
   },
   "source": [
    "# <font color=blue>Reflect and Report on Trees</font>\n",
    "## <font color=blue>Prepare</font>\n"
   ]
  },
  {
   "cell_type": "markdown",
   "metadata": {
    "id": "L2f4AXKqdHN3"
   },
   "source": [
    "## <font color=red>Instructions</font>\n"
   ]
  },
  {
   "cell_type": "markdown",
   "metadata": {
    "id": "pOarjYDKdPj4"
   },
   "source": [
    "You will be asked to assert the usual:\n"
   ]
  },
  {
   "cell_type": "markdown",
   "metadata": {
    "id": "B6HvFwPMdP07"
   },
   "source": [
    "* I attended class on Tuesday this week.\n",
    "* I participated in the In-Class Exercise(s) on Tuesday this week.\n",
    "* I attended class on Thursday this week.\n",
    "* I participated in the In-Class Exercise(s) on Thursday this week.\n"
   ]
  },
  {
   "cell_type": "markdown",
   "metadata": {
    "id": "UV7rTww8dX_4"
   },
   "source": [
    "## <font color=red>Access</font>\n"
   ]
  },
  {
   "cell_type": "markdown",
   "metadata": {
    "id": "2QK0N2hLerS3"
   },
   "source": [
    "[Take the Self-Assessment](https://byui.instructure.com/courses/149380/quizzes/2724877)"
   ]
  }
 ],
 "metadata": {
  "colab": {
   "authorship_tag": "ABX9TyPreqL0kooy3EVbR41Len0u",
   "collapsed_sections": [],
   "name": "reflect-and-report-on-trees.ipynb",
   "private_outputs": true,
   "provenance": []
  },
  "kernelspec": {
   "display_name": "Python 3",
   "language": "python",
   "name": "python3"
  },
  "language_info": {
   "codemirror_mode": {
    "name": "ipython",
    "version": 3
   },
   "file_extension": ".py",
   "mimetype": "text/x-python",
   "name": "python",
   "nbconvert_exporter": "python",
   "pygments_lexer": "ipython3",
   "version": "3.9.0"
  }
 },
 "nbformat": 4,
 "nbformat_minor": 1
}
