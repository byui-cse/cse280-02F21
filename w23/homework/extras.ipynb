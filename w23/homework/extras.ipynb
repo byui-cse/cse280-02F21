{
 "cells": [
  {
   "cell_type": "code",
   "execution_count": null,
   "metadata": {},
   "outputs": [],
   "source": [
    "def conditional(p, q):\n",
    "    return not p or q\n",
    "\n",
    "def biconditional(p, q):\n",
    "    return conditional(p, q) and conditional(q, p)\n",
    "    \n",
    "def xor(p, q):\n",
    "    return not p if q else p\n",
    "\n",
    "def not1(p):\n",
    "    return not p\n",
    "\n",
    "def and1(p, q):\n",
    "    return p * q\n",
    "\n",
    "def or1(p, q):\n",
    "    return (p + q) - (p * q)\n",
    "\n",
    "operators = {\n",
    "    'and1': '∧',\n",
    "    'or1': '∨',\n",
    "    'not1': '¬',\n",
    "    'xor': '⊕',\n",
    "    'conditional': '⟶',\n",
    "    'biconditional': '⟷',\n",
    "}\n",
    "\n",
    "# Print a truth table\n",
    "def print_truth_table(operation):\n",
    "    print(f\"p    q    p {operators[operation.__name__]} q\")\n",
    "    for p in [0, 1]:\n",
    "        for q in [0, 1]:\n",
    "            print(f'{p}    {q}    {operation(p,q):d}')\n",
    "    print()\n",
    "\n",
    "print_truth_table(conditional)\n",
    "print_truth_table(biconditional)\n",
    "print_truth_table(xor)\n",
    "print_truth_table(and1)\n",
    "print_truth_table(or1)\n",
    "\n",
    "\n",
    "\n",
    "# result = [(p, q, conditional(p,q)) for p in [True, False] for q in [True, False]]\n",
    "# print('\\n'.join(map(lambda x: str(x), result)))"
   ]
  },
  {
   "cell_type": "code",
   "execution_count": null,
   "metadata": {},
   "outputs": [],
   "source": [
    "def not1(p):\n",
    "    return 1 - p\n",
    "\n",
    "def and1(p, q):\n",
    "    return p * q\n",
    "\n",
    "def or1(p, q):\n",
    "    return (p + q) - (p * q)\n",
    "\n",
    "\n",
    "\n",
    "def f1(p, q, r):\n",
    "    # (p ∧ q) ∨ ¬r\n",
    "    return or1(and1(p, q), not1(r))\n",
    "\n",
    "def f2(p, q, r):\n",
    "    # p ∧ (q ∨ ¬r)\n",
    "    return and1(p, or1(q, not1(r)))\n",
    "\n",
    "def f3(p, q, r):\n",
    "    # p ∨ (q ∧ r)\n",
    "    return or1(p, and1(q, r))\n",
    "\n",
    "\n",
    "\n",
    "def personality(function):\n",
    "    return ''.join([str(function(p,q,r)) for p in [0,1] for q in [0,1] for r in [0,1]])\n",
    "\n",
    "\n",
    "print(personality(f1) == '10101011')\n",
    "print(personality(f2) == '00001011')\n",
    "print(personality(f3) == '00011111')"
   ]
  },
  {
   "cell_type": "markdown",
   "metadata": {},
   "source": []
  },
  {
   "cell_type": "markdown",
   "metadata": {
    "id": "q8rtqeShiFhj"
   },
   "source": [
    "### Exercise 6.5.3\n"
   ]
  },
  {
   "cell_type": "markdown",
   "metadata": {
    "id": "9Jzu3tv0iG04"
   },
   "source": [
    "Find the smallest primes such that $n^{2} < p < (n + 1)^{2}$ for the first 100 pairs\n",
    "of consecutive squares. That is, find the smallest primes in the ranges (1, 4), (4, 9), (9, 16), etc.\n"
   ]
  },
  {
   "cell_type": "code",
   "execution_count": null,
   "metadata": {
    "id": "qX8TUN6UiJ5t"
   },
   "outputs": [],
   "source": [
    "#@title Hint {display-mode: \"form\"}\n",
    "print('Find them all with the help of a small amount of code.')\n"
   ]
  },
  {
   "cell_type": "code",
   "execution_count": null,
   "metadata": {
    "id": "g50sAyYBiPEM"
   },
   "outputs": [],
   "source": [
    "#@title Answer {display-mode: \"form\"}\n",
    "from IPython.display import Markdown\n",
    "display(Markdown('''\n",
    "```[2,5,11,17,29,37,53,67,83,101,127,149,173,197,227,257,293,331,367,401,443,487,541,577,631,677,733,787,853,907,967,1031,1091,1163,1229,1297,1373,1447,1523,1601,1693,1777,1861,1949,2027,2129,2213,2309,2411,2503,2609,2707,2819,2917,3037,3137,3251,3371,3491,3607,3727,3847,3989,4099,4229,4357,4493,4637,4783,4903,5051,5189,5333,5477,5639,5779,5939,6089,6247,6421,6563,6733,6899,7057,7229,7411,7573,7753,7927,8101,8287,8467,8663,8837,9029,9221,9413,9613,9803,10007]```\n",
    "'''))\n"
   ]
  },
  {
   "cell_type": "markdown",
   "metadata": {
    "id": "bRaU5sD1iSAS"
   },
   "source": [
    "### Exercise 6.5.4\n"
   ]
  },
  {
   "cell_type": "markdown",
   "metadata": {
    "id": "CM6JBJU3iTHT"
   },
   "source": [
    "How many 7-digit primes have the form $n^{2} + 1$? What are they?\n"
   ]
  },
  {
   "cell_type": "code",
   "execution_count": null,
   "metadata": {
    "id": "e-IT9w3viU0n"
   },
   "outputs": [],
   "source": [
    "#@title Hint {display-mode: \"form\"}\n",
    "print('''\n",
    "A working prime sieve or an already-generated list of big enough primes, plus a\n",
    "little code, will reveal the answer.\n",
    "''')\n"
   ]
  },
  {
   "cell_type": "code",
   "execution_count": null,
   "metadata": {
    "id": "dM__hQgbiX5g"
   },
   "outputs": [],
   "source": [
    "#@title Answer {display-mode: \"form\"}\n",
    "print('There are 204 primes of this form between 1008017 and 9985601 inclusive.')\n"
   ]
  },
  {
   "cell_type": "markdown",
   "metadata": {
    "id": "1waVeNVSu4sx"
   },
   "source": [
    "### Exercise 6.10.2"
   ]
  },
  {
   "cell_type": "markdown",
   "metadata": {
    "id": "uyrsKtcou79m"
   },
   "source": [
    "Find if there is an integer-pair solution to $91x + 11y = 1$ in the range from $-49$ to $50$.\n"
   ]
  },
  {
   "cell_type": "code",
   "execution_count": null,
   "metadata": {
    "id": "NJbJ5f6wu9TA"
   },
   "outputs": [],
   "source": [
    "def forsomeforsome(predicate, domainX, domainY):\n",
    "  return any(map(lambda x: any(map(lambda y: predicate(x, y),\n",
    "                 domainY)), domainX))"
   ]
  },
  {
   "cell_type": "code",
   "execution_count": null,
   "metadata": {
    "id": "lZdJ3KHzvWcj"
   },
   "outputs": [],
   "source": [
    "predicate = # your predicate goes here\n",
    "print(forsomeforsome(predicate, range(-49, 51), range(-49, 51)))"
   ]
  },
  {
   "cell_type": "code",
   "execution_count": null,
   "metadata": {
    "id": "dZz5MTsEvC8L"
   },
   "outputs": [],
   "source": [
    "#@title Hint {display-mode: \"form\"}\n",
    "from IPython.display import Markdown\n",
    "display(Markdown('''\n",
    "Think about how a straightforward translation of the equation $91x + 11y = 1$\n",
    "could be written as a ```lambda``` predicate suitable for passing to\n",
    "```forsomeforsome``` in the given code.\n",
    "'''))\n"
   ]
  },
  {
   "cell_type": "code",
   "execution_count": null,
   "metadata": {
    "id": "jh3aiT-rvINB"
   },
   "outputs": [],
   "source": [
    "#@title Answer {display-mode: \"form\"}\n",
    "predicate = lambda x, y: 91 * x + 11 * y == 1\n",
    "# print(forsomeforsome(predicate, domain, domain))\n",
    "print(forsomeforsome(predicate, range(-49,50), range(-49,50)))"
   ]
  },
  {
   "cell_type": "markdown",
   "metadata": {
    "id": "mXypXv0Gvqw1"
   },
   "source": [
    "### Exercise 6.10.3\n"
   ]
  },
  {
   "cell_type": "markdown",
   "metadata": {
    "id": "6mEwZw6VvuNz"
   },
   "source": [
    "What is the largest **unfillable** order of chicken nuggets that only come 5 to\n",
    "a box or 7 to a box, with no partial boxes allowed? Note that negative boxes\n",
    "aren't allowed either, but zero boxes are, hence every multiple of 5 or 7 is a\n",
    "fillable number.\n"
   ]
  },
  {
   "cell_type": "code",
   "execution_count": null,
   "metadata": {
    "id": "E8u9IfEsvw1n"
   },
   "outputs": [],
   "source": [
    "#@title Hint {display-mode: \"form\"}\n",
    "print('''\n",
    "Get your hands dirty. Try lots of numbers and look for patterns.\n",
    "\n",
    "Functions from (or like those in) the previous two exercises might be helpful.\n",
    "''')\n"
   ]
  },
  {
   "cell_type": "code",
   "execution_count": null,
   "metadata": {
    "id": "1-Fg03M9vy4y"
   },
   "outputs": [],
   "source": [
    "#@title Answer {display-mode: \"form\"}\n",
    "print('23 nuggets is the largest unfillable order.')"
   ]
  },
  {
   "cell_type": "code",
   "execution_count": null,
   "metadata": {},
   "outputs": [],
   "source": [
    "sorted([*map(lambda pair: 5*pair[0] + 7*pair[1], [(x,y) for x in range(0,10) for y in range(0,10)])])"
   ]
  },
  {
   "cell_type": "markdown",
   "metadata": {},
   "source": [
    "### Exercise 7.3"
   ]
  },
  {
   "cell_type": "markdown",
   "metadata": {},
   "source": [
    "Implement a recursive version of Euclid's GCD algorithm using the GCD Theorem as a guide. The GCD Theorem says:\n",
    "\n",
    "Let x and y be two positive integers such that x ≠ 0. Then gcd(x, y) = gcd(y mod x, x)."
   ]
  },
  {
   "cell_type": "markdown",
   "metadata": {},
   "source": [
    "#### Your Answer:"
   ]
  },
  {
   "cell_type": "code",
   "execution_count": null,
   "metadata": {},
   "outputs": [],
   "source": [
    "# Euclid's GCD Algorithm recursively\n",
    "\n",
    "def rgcd(x, y):\n",
    "    # your code here\n",
    "    pass\n",
    "\n",
    "\n",
    "# This should print True if your gcd function is correct\n",
    "print(rgcd(0, 1) == 1\n",
    "      and rgcd(1, 1) == 1\n",
    "      and rgcd(1, 0) == 1\n",
    "      and rgcd(5, 7) == 1\n",
    "      and rgcd(7, 5) == 1\n",
    "      and rgcd(5, 7) == 1\n",
    "      and rgcd(25, 100) == 25\n",
    "      and rgcd(27, 36) == 9\n",
    "      and rgcd(36, 27) == 9\n",
    "      and rgcd(39, 93) == 3)\n"
   ]
  },
  {
   "cell_type": "markdown",
   "metadata": {},
   "source": [
    "### Sample Solution 7.3"
   ]
  },
  {
   "cell_type": "code",
   "execution_count": null,
   "metadata": {},
   "outputs": [],
   "source": [
    "# Euclid's GCD Algorithm recursively\n",
    "\n",
    "def rgcd(x, y):\n",
    "    if x == 0:\n",
    "        return y\n",
    "    else:\n",
    "        return rgcd(y % x, x)\n",
    "\n",
    "\n",
    "print(rgcd(0, 1) == 1\n",
    "      and rgcd(1, 1) == 1\n",
    "      and rgcd(1, 0) == 1\n",
    "      and rgcd(5, 7) == 1\n",
    "      and rgcd(7, 5) == 1\n",
    "      and rgcd(5, 7) == 1\n",
    "      and rgcd(25, 100) == 25\n",
    "      and rgcd(27, 36) == 9\n",
    "      and rgcd(36, 27) == 9\n",
    "      and rgcd(39, 93) == 3)\n"
   ]
  },
  {
   "cell_type": "markdown",
   "metadata": {},
   "source": [
    "## For Counting"
   ]
  },
  {
   "cell_type": "markdown",
   "metadata": {},
   "source": [
    "To do:\n",
    "\n",
    "Implement permutation P(n,k)\n",
    "    from math import factorial\n",
    "\n",
    "Implement combination C(n,k)\n",
    "\n",
    "Implment multichoose MC(n,k)\n",
    "\n"
   ]
  }
 ],
 "metadata": {
  "interpreter": {
   "hash": "6a8e4dad0b4e8ea345e3fd0a3780de1d4c1a41dc382b6d487e229e2a51e4f041"
  },
  "kernelspec": {
   "display_name": "Python 3.9.0 ('.env': venv)",
   "language": "python",
   "name": "python3"
  },
  "language_info": {
   "codemirror_mode": {
    "name": "ipython",
    "version": 3
   },
   "file_extension": ".py",
   "mimetype": "text/x-python",
   "name": "python",
   "nbconvert_exporter": "python",
   "pygments_lexer": "ipython3",
   "version": "3.9.0"
  },
  "orig_nbformat": 4
 },
 "nbformat": 4,
 "nbformat_minor": 2
}
