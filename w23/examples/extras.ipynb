{
 "cells": [
  {
   "cell_type": "markdown",
   "metadata": {
    "id": "pypw3dCnAE2c"
   },
   "source": [
    "#### Simple encryption algorithm"
   ]
  },
  {
   "cell_type": "code",
   "execution_count": null,
   "metadata": {
    "id": "rADnpjDBMsnZ"
   },
   "outputs": [],
   "source": [
    "# Simple encryption algorithm that shifts \n",
    "# each character by 3\n",
    "alphabet = [chr(letter + 32) for letter in range(0, 95)]\n",
    "print(alphabet)\n",
    "\n",
    "rotate = lambda text, shift: ''.join(map(lambda c: alphabet[alphabet.index(c) - shift % len(alphabet)], text))\n",
    "derotate = lambda text, shift: rotate(text, -shift)\n",
    "\n",
    "plaintext = 'Hello class, this is the plaintext'\n",
    "print('Plaintext:', plaintext)\n",
    "ciphertext = rotate(plaintext, 5)\n",
    "print('Ciphertext:', ciphertext)\n",
    "print('Plaintext:', derotate(ciphertext, 5))\n"
   ]
  },
  {
   "cell_type": "markdown",
   "metadata": {},
   "source": [
    "## Modular Exponentiation"
   ]
  },
  {
   "cell_type": "markdown",
   "metadata": {},
   "source": [
    "### Demo"
   ]
  },
  {
   "cell_type": "code",
   "execution_count": null,
   "metadata": {},
   "outputs": [
    {
     "data": {
      "text/plain": [
       "6018531076210112040799931070577897870431567650673088110124808736145496368408203125"
      ]
     },
     "metadata": {},
     "output_type": "display_data"
    }
   ],
   "source": [
    "5**117 # this is a fairly large number (but python can handle it)"
   ]
  },
  {
   "cell_type": "code",
   "execution_count": null,
   "metadata": {},
   "outputs": [
    {
     "data": {
      "text/plain": [
       "True"
      ]
     },
     "metadata": {},
     "output_type": "display_data"
    }
   ],
   "source": [
    "# Show 117 is same as 1+4+16+32+64\n",
    "5**117 == (5**1 * 5**4 * 5**16 * 5**32 * 5**64)"
   ]
  },
  {
   "cell_type": "code",
   "execution_count": null,
   "metadata": {},
   "outputs": [
    {
     "data": {
      "text/plain": [
       "1"
      ]
     },
     "metadata": {},
     "output_type": "display_data"
    }
   ],
   "source": [
    "5**117 % 19"
   ]
  },
  {
   "cell_type": "code",
   "execution_count": null,
   "metadata": {},
   "outputs": [
    {
     "data": {
      "text/plain": [
       "1"
      ]
     },
     "metadata": {},
     "output_type": "display_data"
    }
   ],
   "source": [
    "# Which is larger, 5**117 or 61200?\n",
    "\n",
    "61200 % 19"
   ]
  },
  {
   "cell_type": "code",
   "execution_count": null,
   "metadata": {},
   "outputs": [
    {
     "data": {
      "text/plain": [
       "123"
      ]
     },
     "metadata": {},
     "output_type": "display_data"
    }
   ],
   "source": [
    "91*2261 % 4721\n",
    "\n",
    "2748 * 1974 % 4721"
   ]
  },
  {
   "cell_type": "markdown",
   "metadata": {},
   "source": [
    "If we convert $1357$ to binary, we find that $1357$ is the same as $1024+256+64+8+4+1$\n",
    "\n",
    "Thus $893^{1357}$ is the same as $893^{1024} * 893^{256} * 893^{64} * 893^{8} * 893^{4} * 893$\n",
    "\n",
    "\n",
    "\n"
   ]
  },
  {
   "cell_type": "code",
   "execution_count": null,
   "metadata": {},
   "outputs": [
    {
     "data": {
      "text/plain": [
       "True"
      ]
     },
     "metadata": {},
     "output_type": "display_data"
    }
   ],
   "source": [
    "893**1357 == 893**1024 * 893**256 * 893**64 * 893**8 * 893**4 * 893**1\n"
   ]
  }
 ],
 "metadata": {
  "kernelspec": {
   "display_name": ".env",
   "language": "python",
   "name": "python3"
  },
  "language_info": {
   "name": "python",
   "version": "3.9.0"
  },
  "orig_nbformat": 4,
  "vscode": {
   "interpreter": {
    "hash": "1977c1262a5a71e57f8e1e2a9337f4268800bf2d1a595fc1ecb322ccb8b2351d"
   }
  }
 },
 "nbformat": 4,
 "nbformat_minor": 2
}
