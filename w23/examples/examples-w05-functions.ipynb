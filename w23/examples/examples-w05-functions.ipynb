{
  "cells": [
    {
      "cell_type": "markdown",
      "metadata": {
        "id": "pHJU08e_W9fh"
      },
      "source": [
        "# Functions"
      ]
    },
    {
      "cell_type": "code",
      "execution_count": null,
      "metadata": {
        "id": "97VTUkd7IlDT"
      },
      "outputs": [],
      "source": [
        "def square(n):\n",
        "  return n*n\n"
      ]
    },
    {
      "cell_type": "markdown",
      "metadata": {
        "id": "Te9BvPUUuaQK"
      },
      "source": [
        "Try this out on your own. Can you demonstrate the domain? How about the codomain?"
      ]
    },
    {
      "cell_type": "markdown",
      "metadata": {
        "id": "wxusHNI5xRlT"
      },
      "source": [
        "#### What is the domain?\n"
      ]
    },
    {
      "cell_type": "markdown",
      "metadata": {
        "id": "plBTE0ypxTwv"
      },
      "source": [
        "All Real Numbers ($\\mathbb{R}$)"
      ]
    },
    {
      "cell_type": "markdown",
      "metadata": {
        "id": "KkNF2I_IxbU_"
      },
      "source": [
        "#### What is the codomain?"
      ]
    },
    {
      "cell_type": "markdown",
      "metadata": {
        "id": "T299K-YQxdwt"
      },
      "source": [
        "All positive real numbers and 0 ($\\mathbb{R}^+ \\cup {0}$)"
      ]
    },
    {
      "cell_type": "markdown",
      "metadata": {
        "id": "fEsvdcaTx3d_"
      },
      "source": [
        "#### Demonstration\n"
      ]
    },
    {
      "cell_type": "code",
      "execution_count": null,
      "metadata": {
        "id": "QNYVOB2Tx6o0"
      },
      "outputs": [],
      "source": [
        "print(square(2))\n",
        "print(square(0))\n",
        "print(square(-1))\n",
        "print(square(3.14))"
      ]
    },
    {
      "attachments": {},
      "cell_type": "markdown",
      "metadata": {},
      "source": [
        "We could use Python [type hinting](https://docs.python.org/3/library/typing.html#module-typing) to specify the domain and codomain. While the Python interpreter doesn't honor type hinting, it is still a good practice to help you think about the inputs and outputs of your functions.\n",
        "\n",
        "Example of Python type hinting:"
      ]
    },
    {
      "cell_type": "code",
      "execution_count": null,
      "metadata": {},
      "outputs": [],
      "source": [
        "# This function works with ints\n",
        "def square(n: int) -> int:\n",
        "    return n * n\n",
        "\n",
        "square(2)"
      ]
    },
    {
      "cell_type": "code",
      "execution_count": null,
      "metadata": {},
      "outputs": [],
      "source": [
        "# This function works with floats\n",
        "def square(n: float) -> float:\n",
        "    return n * n\n",
        "\n",
        "square(2.0)"
      ]
    },
    {
      "cell_type": "markdown",
      "metadata": {
        "id": "XoQI2Uxku192"
      },
      "source": [
        "\n",
        "\n",
        "---\n",
        "\n"
      ]
    },
    {
      "cell_type": "markdown",
      "metadata": {
        "id": "xwLsYNdu_0v0"
      },
      "source": [
        "### Floor"
      ]
    },
    {
      "cell_type": "code",
      "execution_count": null,
      "metadata": {
        "id": "1NZavgik_0v0"
      },
      "outputs": [],
      "source": [
        "from math import floor\n",
        "floor(-3.5)"
      ]
    },
    {
      "cell_type": "markdown",
      "metadata": {
        "id": "_KOBm1N4_0v0"
      },
      "source": [
        "### Ceiling"
      ]
    },
    {
      "cell_type": "code",
      "execution_count": null,
      "metadata": {
        "id": "Ndgl-pe6_0v0"
      },
      "outputs": [],
      "source": [
        "from math import ceil\n",
        "ceil(-0.5)"
      ]
    },
    {
      "cell_type": "markdown",
      "metadata": {
        "id": "xq1PLyAr_0v0"
      },
      "source": [
        "## Functional Programming"
      ]
    },
    {
      "attachments": {},
      "cell_type": "markdown",
      "metadata": {
        "id": "YJODv_0zw4gH"
      },
      "source": [
        "### Lambda functions\n",
        "Python allows the creation of small *anonymous* functions using the `lambda` keyword. These functions are restricted to a single expression and have an implicit return statement.\n",
        "\n",
        "The syntax to create a `lambda` function is `lambda [parameters]: expression`\n",
        "\n",
        "For example, the following anonymous function takes two parameters, `a` and `b`, then returns their sum."
      ]
    },
    {
      "cell_type": "code",
      "execution_count": null,
      "metadata": {},
      "outputs": [],
      "source": [
        "lambda a, b: a+b"
      ]
    },
    {
      "attachments": {},
      "cell_type": "markdown",
      "metadata": {},
      "source": [
        "We can supply arguments to a lambda function like this:"
      ]
    },
    {
      "cell_type": "code",
      "execution_count": null,
      "metadata": {},
      "outputs": [],
      "source": [
        "(lambda a, b: a*b) (2,3)  #multiply 2 and 3"
      ]
    },
    {
      "attachments": {},
      "cell_type": "markdown",
      "metadata": {},
      "source": [
        "We can even assign a lambda function to a variable, then we can call it just like a regular Python function."
      ]
    },
    {
      "cell_type": "code",
      "execution_count": null,
      "metadata": {},
      "outputs": [],
      "source": [
        "# Assign an anonymous function to a variable\n",
        "adder = lambda a, b: a + b\n",
        "\n",
        "# Call the function just like a normal Python function\n",
        "adder(3, 5) # returns 8"
      ]
    },
    {
      "cell_type": "markdown",
      "metadata": {},
      "source": [
        "This is equivalent to the same Python function defined using the `def` keyword:"
      ]
    },
    {
      "cell_type": "code",
      "execution_count": null,
      "metadata": {},
      "outputs": [],
      "source": [
        "def adder2(a, b):\n",
        "    return a + b\n",
        "\n",
        "adder2(3, 5) # returns 8"
      ]
    },
    {
      "cell_type": "code",
      "execution_count": null,
      "metadata": {
        "id": "8aeGHc7_w6Xh"
      },
      "outputs": [],
      "source": [
        "# Simple example, what does this do?\n",
        "z = 5\n",
        "print((lambda x: x * x) (z))\n"
      ]
    },
    {
      "cell_type": "code",
      "execution_count": null,
      "metadata": {
        "id": "Lo1q5UIgxGmf"
      },
      "outputs": [],
      "source": [
        "# This is the same thing as:\n",
        "def square(x):\n",
        "  return x * x\n",
        "\n",
        "print(square(5))"
      ]
    },
    {
      "cell_type": "code",
      "execution_count": null,
      "metadata": {
        "id": "xTskXA5JsNd7"
      },
      "outputs": [],
      "source": [
        "# We could also do this:\n",
        "\n",
        "square = lambda x: x*x\n",
        "\n",
        "print(square(5))\n",
        "print(square(10))"
      ]
    },
    {
      "cell_type": "code",
      "execution_count": null,
      "metadata": {
        "id": "ilKDFdNfX5Uq"
      },
      "outputs": [],
      "source": [
        "# Lambda with two arguments\n",
        "\n",
        "result = (lambda a,b: a + b)(2,3)\n",
        "print(result)"
      ]
    },
    {
      "cell_type": "code",
      "execution_count": null,
      "metadata": {
        "id": "28uohUYhQFjt"
      },
      "outputs": [],
      "source": [
        "result = (lambda a,b: 2*a+4*b)(2,3)\n",
        "print(result)"
      ]
    },
    {
      "attachments": {},
      "cell_type": "markdown",
      "metadata": {
        "id": "np12jYYBrthB"
      },
      "source": [
        "### Filter\n",
        "\n",
        "`filter(function, iterable)`\n",
        "\n",
        "Python has a built-in function called `filter` that takes a predicate and an [iterable](https://docs.python.org/3/glossary.html#term-iterable), then returns an [iterator](https://docs.python.org/3/glossary.html#term-iterator) yielding only those items in the iterable for which the predicate is true.\n",
        "\n",
        "A **predicate** is a function that returns True or False.\n",
        "\n",
        "Examples of **iterables** include all sequence types (such as list, str, and tuple) and some non-sequence types like dict."
      ]
    },
    {
      "cell_type": "code",
      "execution_count": null,
      "metadata": {
        "id": "AlU607Joru5M"
      },
      "outputs": [],
      "source": [
        "# Show how filter works\n",
        "nums = [1,2,3,4,5]  # this list is an iterable\n",
        "\n",
        "# Find everything greater than 2\n",
        "result = [*filter(lambda x: x > 2, nums)]\n",
        "print(result)"
      ]
    },
    {
      "attachments": {},
      "cell_type": "markdown",
      "metadata": {
        "id": "4cbdi4FlrdjH"
      },
      "source": [
        "### Map\n",
        "\n",
        "`map(function, iterable, *iterables)`\n",
        "\n",
        "Python has a built-in function called `map` that takes a function and an [iterable](https://docs.python.org/3/glossary.html#term-iterable), or iterables, then returns an [iterator](https://docs.python.org/3/glossary.html#term-iterator) that computes the function using each item in the original iterators as arguments."
      ]
    },
    {
      "cell_type": "code",
      "execution_count": null,
      "metadata": {
        "id": "QFeIK6csrfVf"
      },
      "outputs": [],
      "source": [
        "# Show how map works\n",
        "nums = [1,2,3,4,5]\n",
        "\n",
        "# Double each number in the list\n",
        "result = [*map(lambda x: 2 * x, nums)]\n",
        "\n",
        "print(result)"
      ]
    },
    {
      "cell_type": "code",
      "execution_count": null,
      "metadata": {
        "id": "2t98mZQoNbIS"
      },
      "outputs": [],
      "source": [
        "# Or do something else with each number in the list\n",
        "result = [*map(lambda x: 3*x - 1, nums)]\n",
        "print(result)"
      ]
    },
    {
      "cell_type": "code",
      "execution_count": null,
      "metadata": {},
      "outputs": [],
      "source": [
        "# Add two lists together, item-by-item\n",
        "sequence_a = [1, 2, 3, 4,  5,  6]\n",
        "sequence_b = [7, 8, 9, 10, 11, 12]\n",
        "result = [*map(lambda a, b: a + b, sequence_a, sequence_b)]\n",
        "print(result)\n"
      ]
    },
    {
      "cell_type": "markdown",
      "metadata": {
        "id": "K_t-R5pj_0v2"
      },
      "source": [
        "##### You try it"
      ]
    },
    {
      "cell_type": "markdown",
      "metadata": {
        "id": "syAaMWKl_0v2"
      },
      "source": [
        "Use `map` and a `lambda` function to convert the following list of strings to uppercase:\n",
        "\n",
        "['apple', 'banana', 'cherry', 'date']"
      ]
    },
    {
      "cell_type": "markdown",
      "metadata": {
        "id": "ypsMPVZt_0v2"
      },
      "source": [
        "##### Sample solution"
      ]
    },
    {
      "cell_type": "code",
      "execution_count": null,
      "metadata": {
        "id": "J6XACR-K_0v2"
      },
      "outputs": [],
      "source": [
        "fruits = ['apple', 'banana', 'cherry', 'date']\n",
        "\n",
        "# Convert to uppercase using map\n",
        "[*map(lambda x: x.upper(), fruits)]"
      ]
    },
    {
      "attachments": {},
      "cell_type": "markdown",
      "metadata": {
        "id": "CZK_anhEpD4B"
      },
      "source": [
        "### Reduce\n",
        "\n",
        "`functools.reduce(function, iterable[, initializer])`\n",
        "\n",
        "Python has a function called `reduce` in the `itertools` module. The `reduce` function takes a function, an [iterable](https://docs.python.org/3/glossary.html#term-iterable), and an optional initializer value, then applies the function cumulatively to the items of the sequence, from left to right, so as to reduce the sequence to a single value.\n",
        "\n",
        "For example, `reduce(lambda x, y: x+y, [1, 2, 3, 4, 5])` calculates `((((1+2)+3)+4)+5)`. If an optional initial value is present, it is placed before the items of the sequence in the calculation, and serves as a default when the sequence is empty."
      ]
    },
    {
      "cell_type": "code",
      "execution_count": null,
      "metadata": {
        "id": "czBWMzTJpF-7"
      },
      "outputs": [],
      "source": [
        "# Add a sequence of numbers without using reduce\n",
        "nums = [1,2,3,4,5]\n",
        "\n",
        "# Using a loop\n",
        "result = 0\n",
        "for x in nums:\n",
        "  result += x\n",
        "\n",
        "print(result)"
      ]
    },
    {
      "cell_type": "code",
      "execution_count": null,
      "metadata": {
        "id": "VzT3gVnwN9Jx"
      },
      "outputs": [],
      "source": [
        "# Add up five numbers in a list using reduce\n",
        "from functools import reduce\n",
        "nums = [1,2,3,4,5]\n",
        "\n",
        "result = reduce(lambda a, b: a + b, nums) # ((((1 + 2) + 3) + 4) + 5) = 15\n",
        "print(result)"
      ]
    },
    {
      "cell_type": "code",
      "execution_count": null,
      "metadata": {},
      "outputs": [],
      "source": [
        "# Add up numbers in a list, using an intial starting value of 10:\n",
        "result = reduce(lambda a, b: a + b, nums, 10) # (((((10 + 1) + 2) + 3) + 4) + 5) = 15\n",
        "print(result)"
      ]
    },
    {
      "cell_type": "code",
      "execution_count": null,
      "metadata": {
        "id": "LSCMFiJJOLld"
      },
      "outputs": [],
      "source": [
        "# Combine items in a list\n",
        "bits = ['0', '0', '1', '1', '0']\n",
        "result = reduce(lambda a,b: a + ' ' + b, bits)\n",
        "print(result)\n",
        "\n",
        "# We can also use the string.join method:\n",
        "result = ' '.join(bits)\n",
        "print(result)"
      ]
    },
    {
      "cell_type": "code",
      "execution_count": null,
      "metadata": {
        "id": "QtCV7B3LPIsc"
      },
      "outputs": [],
      "source": [
        "# Find the maximum value in a sequence\n",
        "nums = [5,3,2,6,9,10,1,0,4]\n",
        "result = reduce(lambda a,b: a if a > b else b, nums)\n",
        "print(result)"
      ]
    },
    {
      "cell_type": "markdown",
      "metadata": {
        "id": "syw8es-8_0v5"
      },
      "source": [
        "### More on `lambda` functions"
      ]
    },
    {
      "cell_type": "markdown",
      "metadata": {
        "id": "wgGVkzm8_0v5"
      },
      "source": [
        "The real power of lambda functions comes when we need to pass a function as an argument to another function, or return a function as the result of another function. For example, the builtin Python function `filter` takes two arguments. The first argument is a *function* that represents a property or *predicate* returning `True` or `False`. The second argument is an iterable, such as a list or set. The `filter` function will return an iterator containing only those items from the original  that match the predicate.\n",
        "\n",
        "Here is an example of using `filter` and a `lambda` function to select only those items in the list `s` that are multiples of 3."
      ]
    },
    {
      "cell_type": "code",
      "execution_count": null,
      "metadata": {
        "id": "P_MX-JmV_0v5"
      },
      "outputs": [],
      "source": [
        "s = [1,2,3,4,5,6,7,8,9,10,11,12,13,14,15]\n",
        "result = filter(lambda x: not x%3, s)\n",
        "print(result) # prints an iterator"
      ]
    },
    {
      "cell_type": "markdown",
      "metadata": {
        "id": "lV21jTBa_0v5"
      },
      "source": [
        "Notice that we can extract the results from the `filter` function by using the `unpack` operator `*`."
      ]
    },
    {
      "cell_type": "code",
      "execution_count": null,
      "metadata": {
        "id": "Gc512_dL_0v5"
      },
      "outputs": [],
      "source": [
        "print(*result) # unpack the elements in the filter object"
      ]
    },
    {
      "cell_type": "markdown",
      "metadata": {
        "id": "0p-luroT_0v5"
      },
      "source": [
        "We can use the `unpack` operator to extract from the `filter` iterator directly:"
      ]
    },
    {
      "cell_type": "code",
      "execution_count": null,
      "metadata": {
        "id": "B0F-xf8x_0v5"
      },
      "outputs": [],
      "source": [
        "s = [1,2,3,4,5,6,7,8,9,10,11,12,13,14,15]\n",
        "result = [*filter(lambda x: not x%3, s)]\n",
        "print(result)"
      ]
    },
    {
      "cell_type": "markdown",
      "metadata": {
        "id": "jV-NsDVi_0v6"
      },
      "source": [
        "#### You try it:"
      ]
    },
    {
      "cell_type": "markdown",
      "metadata": {
        "id": "J31RrcH7_0v6"
      },
      "source": [
        "Use `filter` and `lambda` to find all multiples of 3 **or** 7 up to 100"
      ]
    },
    {
      "cell_type": "markdown",
      "metadata": {
        "id": "vJRRHkPL_0v6"
      },
      "source": [
        "##### Sample solution"
      ]
    },
    {
      "cell_type": "code",
      "execution_count": null,
      "metadata": {
        "id": "3K1kcYt0_0v6"
      },
      "outputs": [],
      "source": [
        "# Find all multiples of 3 or 7 up to 100\n",
        "result = [*filter(lambda x: not x%3 or not x%7, range(100))]\n",
        "print(result)"
      ]
    },
    {
      "cell_type": "markdown",
      "metadata": {
        "id": "ZzM_4fp-_0v6"
      },
      "source": [
        "Use `filter` and `lambda` to find all multiples of 3 **and** 7 up to 100"
      ]
    },
    {
      "cell_type": "markdown",
      "metadata": {
        "id": "1FP7Mppj_0v6"
      },
      "source": [
        "##### Sample solution"
      ]
    },
    {
      "cell_type": "code",
      "execution_count": null,
      "metadata": {
        "id": "GyFQBZUw_0v6"
      },
      "outputs": [],
      "source": [
        "# Find all multiples of 3 and 7 up to 100\n",
        "result = [*filter(lambda x: not x%3 and not x%7, range(100))]\n",
        "print(result)"
      ]
    }
  ],
  "metadata": {
    "colab": {
      "collapsed_sections": [
        "x3jDo0XI-xop",
        "inPz8IXf-z7k",
        "mvprI7h9v7Lc",
        "LuohlTdm_0vq",
        "xPc5hOI5_0vr",
        "oqCev_cu-2dt",
        "PaMZKJiZ9CsP",
        "dkjJbtXE9vg3",
        "pHJU08e_W9fh",
        "wxusHNI5xRlT",
        "KkNF2I_IxbU_",
        "fEsvdcaTx3d_",
        "xwLsYNdu_0v0",
        "_KOBm1N4_0v0",
        "xq1PLyAr_0v0",
        "YJODv_0zw4gH",
        "4cbdi4FlrdjH",
        "K_t-R5pj_0v2",
        "ypsMPVZt_0v2",
        "pypw3dCnAE2c",
        "np12jYYBrthB",
        "CZK_anhEpD4B",
        "syw8es-8_0v5",
        "jV-NsDVi_0v6",
        "vJRRHkPL_0v6",
        "1FP7Mppj_0v6"
      ],
      "provenance": []
    },
    "kernelspec": {
      "display_name": ".env",
      "language": "python",
      "name": "python3"
    },
    "language_info": {
      "codemirror_mode": {
        "name": "ipython",
        "version": 3
      },
      "file_extension": ".py",
      "mimetype": "text/x-python",
      "name": "python",
      "nbconvert_exporter": "python",
      "pygments_lexer": "ipython3",
      "version": "3.9.0"
    },
    "vscode": {
      "interpreter": {
        "hash": "1977c1262a5a71e57f8e1e2a9337f4268800bf2d1a595fc1ecb322ccb8b2351d"
      }
    }
  },
  "nbformat": 4,
  "nbformat_minor": 0
}
