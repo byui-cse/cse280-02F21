{
 "cells": [
  {
   "cell_type": "markdown",
   "metadata": {
    "id": "vZYuEGuXoa60"
   },
   "source": [
    "# <font color=blue>Learn About Relations and Fractions</font>\n",
    "## <font color=blue>Solutions</font>\n"
   ]
  },
  {
   "cell_type": "markdown",
   "metadata": {
    "id": "_HkepOA5pjRY"
   },
   "source": [
    "## <font color=red>**DONE** Solve for $x$</font>"
   ]
  },
  {
   "cell_type": "markdown",
   "metadata": {
    "id": "zusv3VtopnH1"
   },
   "source": [
    "$$\\frac{x}{1} + \\frac{x}{1+2} + \\frac{x}{1+2+3} + \\frac{x}{1+2+3+4} + \\cdots + \\frac{x}{1+2+3+\\cdots+4041} = 4041.$$\n"
   ]
  },
  {
   "cell_type": "markdown",
   "metadata": {},
   "source": [
    "Here are three (loop-free!) approaches Kyle Mueller thought up (and coded) for solving for $x$:"
   ]
  },
  {
   "cell_type": "code",
   "execution_count": null,
   "metadata": {},
   "outputs": [],
   "source": [
    "from fractions import Fraction as frac"
   ]
  },
  {
   "cell_type": "code",
   "execution_count": null,
   "metadata": {},
   "outputs": [],
   "source": [
    "# Naïve approach\n",
    "\n",
    "n = 4041\n",
    "x = n/sum(map(lambda i: frac(1,sum(range(i+1))),range(1,n+1)))\n",
    "print(x)"
   ]
  },
  {
   "cell_type": "code",
   "execution_count": null,
   "metadata": {},
   "outputs": [],
   "source": [
    "# Better approach\n",
    "\n",
    "# Returns the nth Triangular Number\n",
    "tn = lambda n: n*(n+1)//2\n",
    "\n",
    "n = 4041\n",
    "x = n/sum(map(lambda i: frac(1,tn(i)),range(1,n+1)))\n",
    "print(x)"
   ]
  },
  {
   "cell_type": "code",
   "execution_count": null,
   "metadata": {},
   "outputs": [],
   "source": [
    "# Best approach\n",
    "\n",
    "n = 4041\n",
    "x = n/(2*(1-frac(1,n+1)))\n",
    "print(x)"
   ]
  },
  {
   "cell_type": "markdown",
   "metadata": {},
   "source": [
    "The explanation for this last, best approach is as follows:"
   ]
  },
  {
   "cell_type": "markdown",
   "metadata": {},
   "source": [
    "$$x + \\frac{x}{1+2} + \\frac{x}{1+2+3} + \\frac{x}{1+2+3+4} + \\cdots + \\frac{x}{1+2+\\cdots+4041} = 4041.$$\n",
    "\n",
    "Factor out the $x$:\n",
    "\n",
    "$$x\\left(1 + \\frac{1}{1+2} + \\frac{1}{1+2+3} + \\frac{1}{1+2+3+4} + \\cdots + \\frac{1}{1+2+\\cdots+4041}\\right) = 4041.$$\n",
    "\n",
    "Let $S$ be the sum in parentheses. Then $x \\cdot S = 4041$, or $x = \\frac{4041}{S}$.\n",
    "\n",
    "So how is $S = 2 \\cdot (1 - \\frac{1}{4042})$?\n",
    "\n",
    "First, verify that $x = \\frac{4041}{2 \\cdot \\left(1 - \\frac{1}{4042}\\right)} = 2021$.\n",
    "\n",
    "Simplify the denominator to $2 \\cdot \\left(\\frac{4042 - 1}{4042}\\right)$ and bring the $4042$ to the numerator to get\n",
    "\n",
    "$$\\frac{4041(4042)}{2(4041)}.$$\n",
    "\n",
    "The $4041$ in the numerator cancels the one in the denominator, leaving $\\frac{4042}{2} = 2021$.\n",
    "\n",
    "Now to show $S = 2 \\cdot (1 - \\frac{1}{4042}).$\n",
    "\n",
    "To do this, we need a little algebraic identity that is the trick to make this a problem doable by hand:\n",
    "\n",
    "$\\frac{1}{n(n+1)} = \\frac{1}{n} - \\frac{1}{n + 1}$.\n",
    "\n",
    "This nifty identity allows the splitting of a product in the denominators to get the difference of two fractions whose denominators are the factors in that product.\n",
    "\n",
    "Thus, using the formula for the $n^{th}$ Triangular number:\n",
    "$$T_n = \\frac{n(n+1)}{2}$$\n",
    "we have\n",
    "$$\\frac{1}{1} + \\frac{1}{1+2} + \\frac{1}{1+2+3} + \\frac{1}{1+2+3+4} + \\cdots + \\frac{1}{1+2+\\cdots+4041}$$\n",
    "\n",
    "being equal to\n",
    "\n",
    "$$\\sum_{n=1}^{4041}{\\frac{1}{T_{n}}}=\\sum_{n=1}^{4041}{\\frac{2}{n(n+1)}}=2\\sum_{n=1}^{4041}{\\left(\\frac{1}{n}-\\frac{1}{n+1}\\right)}.$$\n",
    "\n",
    "When we expand the last sum from the equality above, we get:\n",
    "\n",
    "$$\\frac{2}{1} - \\frac{2}{2} + \\frac{2}{2} - \\frac{2}{3} + \\frac{2}{3} - \\frac{2}{4} + \\frac{2}{4} + \\cdots - \\frac{2}{4042}.$$\n",
    "\n",
    "Factor out the $2$ in each numerator and regroup the subtractions and additions to get:\n",
    "\n",
    "$$2\\left(\\frac{1}{1} \\left(- \\frac{1}{2} + \\frac{1}{2}\\right) \\left(- \\frac{1}{3} + \\frac{1}{3}\\right) \\left(- \\frac{1}{4} + \\frac{1}{4}\\right) + \\cdots - \\frac{1}{4042}\\right).$$\n",
    "\n",
    "After cancelling the adjacent $-$ and $+$ terms, we have the expression for $S$ above:\n",
    "\n",
    "$$2\\left(\\frac{1}{1} - \\frac{1}{4042}\\right) = 2 \\cdot \\left(1 - \\frac{1}{4042}\\right).$$\n",
    "\n",
    "Voil&agrave;!"
   ]
  }
 ],
 "metadata": {
  "colab": {
   "authorship_tag": "ABX9TyPnIRFAEiF98iqRZZTuym+2",
   "collapsed_sections": [
    "_HkepOA5pjRY"
   ],
   "name": "learn-about-relations-and-fractions-solutions.ipynb",
   "private_outputs": true,
   "provenance": []
  },
  "kernelspec": {
   "display_name": "Python 3",
   "language": "python",
   "name": "python3"
  },
  "language_info": {
   "codemirror_mode": {
    "name": "ipython",
    "version": 3
   },
   "file_extension": ".py",
   "mimetype": "text/x-python",
   "name": "python",
   "nbconvert_exporter": "python",
   "pygments_lexer": "ipython3",
   "version": "3.9.0"
  }
 },
 "nbformat": 4,
 "nbformat_minor": 1
}
