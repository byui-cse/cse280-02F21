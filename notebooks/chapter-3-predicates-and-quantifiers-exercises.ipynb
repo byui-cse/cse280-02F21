{
 "cells": [
  {
   "cell_type": "markdown",
   "source": [
    "# <font color=blue>Chapter 3 Predicates and Quantifiers Exercises</font>\n",
    "## <font color=blue>Prepare</font>"
   ],
   "metadata": {
    "id": "TnVHqhsGXNRo"
   }
  },
  {
   "cell_type": "markdown",
   "source": [
    "## <font color=red>3.12 Quantifiers</font>"
   ],
   "metadata": {
    "id": "yAbrb0Rjw5PN"
   }
  },
  {
   "cell_type": "markdown",
   "source": [
    "### Exercise 3.12.1"
   ],
   "metadata": {
    "id": "Fd-nWFj1foSb"
   }
  },
  {
   "cell_type": "markdown",
   "source": [
    "The domain of discourse for this exercise is the set of all people, and:\n",
    "* $P(x) = x$ is older than 21\n",
    "* $S(x) = x$ is a student\n",
    "\n",
    "Express in good English the following statements:\n",
    "1. $\\exists x\\ P(x)$.\n",
    "2. $\\forall x\\ P(x)$.\n",
    "3. $\\exists x\\ \\lnot P(x)$.\n",
    "4. $\\forall x\\ \\lnot P(x)$.\n",
    "5. $\\exists x\\ S(x)$.\n",
    "6. $\\forall x\\ S(x)$.\n",
    "7. $\\lnot \\exists x\\ S(x)$.\n",
    "8. $\\exists x\\ \\lnot S(x)$.\n",
    "9. $\\lnot \\forall x\\ \\lnot S(x)$.\n",
    "10. $\\forall x\\ \\lnot S(x)$."
   ],
   "metadata": {
    "id": "8Utd8McNw5PO"
   }
  },
  {
   "cell_type": "code",
   "execution_count": null,
   "source": [
    "#@title Hint {display-mode: \"form\"}\r\n",
    "print('''\r\n",
    "1. Don't use the word 'exists'.\r\n",
    "2. Don't use the word 'all'.\r\n",
    "3. Use the word `someone'.\r\n",
    "4. 'No one' sounds better than 'Everyone is not'.\r\n",
    "5. `Some' <something> `is a' <something else>.\r\n",
    "6. Start with 'Everyone'.\r\n",
    "7. Start with 'There is'.\r\n",
    "8. Start with 'There is'\r\n",
    "9. Start with 'No all'.\r\n",
    "10. Start with 'No one'.\r\n",
    "''')"
   ],
   "outputs": [],
   "metadata": {
    "id": "mTbD83STWV66"
   }
  },
  {
   "cell_type": "code",
   "execution_count": null,
   "source": [
    "#@title Answer {display-mode: \"form\"}\r\n",
    "print('''\r\n",
    "1. Somebody is older than 21.\r\n",
    "2. Everyone is older than 21.\r\n",
    "3. Someone is not older than 21.\r\n",
    "4. No one is older than 21.\r\n",
    "5. Someone (or some person) is a student.\r\n",
    "6. Everyone is a student.\r\n",
    "7. There is no student.\r\n",
    "8. There is someone who is not a student.\r\n",
    "9. Not all people are non-students.\r\n",
    "10. No one is a student.\r\n",
    "''')"
   ],
   "outputs": [],
   "metadata": {
    "id": "42a7AycOWWfS"
   }
  },
  {
   "cell_type": "markdown",
   "source": [
    "### Exercise 3.12.2"
   ],
   "metadata": {
    "id": "LOidAiIjpGFO"
   }
  },
  {
   "cell_type": "markdown",
   "source": [
    "The domain of discourse for this exercise is the set of all people, and:\n",
    "* $F(x) = x$ is a friend\n",
    "* $C(x) = x$ is cool\n",
    "* $S(x) = x$ is a student\n",
    "* $N(x) = x$ is from Nepal\n",
    "\n",
    "Express in good English the following statements:\n",
    "1. $\\forall x\\ (F(x) \\rightarrow C(x))$.\n",
    "2. $\\exists x\\ (F(x) \\land C(x))$.\n",
    "3. $\\forall x\\ (F(x) \\land C(x))$.\n",
    "4. $\\exists x\\ (F(x) \\rightarrow C(x))$.\n",
    "5. $\\forall x\\ (S(x) \\rightarrow N(x))$.\n",
    "6. $\\exists x\\ (S(x) \\rightarrow N(x))$.\n",
    "7. $\\forall x\\ (S(x) \\land N(x))$.\n",
    "8. $\\exists x\\ (S(x) \\land N(x))$.\n",
    " "
   ],
   "metadata": {
    "id": "tCdbghBApIWA"
   }
  },
  {
   "cell_type": "code",
   "execution_count": null,
   "source": [
    "#@title Hint {display-mode: \"form\"}\r\n",
    "print('''\r\n",
    "1. Start with 'All'.\r\n",
    "2. Start with 'Some'.\r\n",
    "3. Start with 'Everyone'.\r\n",
    "4. Start with 'Some'.\r\n",
    "5. Start with 'All'.\r\n",
    "6. Start with 'Someone' and use 'if' and 'then'.\r\n",
    "7. Start with 'Everyone'.\r\n",
    "8. 'Some student ...'.\r\n",
    "''')"
   ],
   "outputs": [],
   "metadata": {
    "id": "Ud2ILiJbuAxx"
   }
  },
  {
   "cell_type": "code",
   "execution_count": null,
   "source": [
    "#@title Answer {display-mode: \"form\"}\r\n",
    "print('''\r\n",
    "1. All friends are cool.\r\n",
    "2. Someone is a friend and is cool.\r\n",
    "3. Everyone is a friend and is cool.\r\n",
    "4. Some friends are cool. (Better than 'For some person, if that person is a friend, then that person is cool.')\r\n",
    "5. All students are from Nepal.\r\n",
    "6. Someone, if he/she is a student then he/she is from Nepal. (Better than 'For some person, if that person is a student, then that student is from Nepal.)\r\n",
    "7. Everyone is a student and is from Nepal.\r\n",
    "8. Some student is from Nepal.\r\n",
    "''')"
   ],
   "outputs": [],
   "metadata": {
    "id": "mz91zQ_NuA-Q"
   }
  },
  {
   "cell_type": "markdown",
   "source": [
    "### Exercise 3.12.3"
   ],
   "metadata": {
    "id": "le4z-RBmuh6p"
   }
  },
  {
   "cell_type": "markdown",
   "source": [
    "Translate the following statements into logical expressions using predicates, quantifiers, and logical connectives:\n",
    "1. Everyone's a critic.\n",
    "2. No one is perfect.\n",
    "3. At least one of your friends is perfect.\n",
    "4. All of your friends are critics.\n",
    "5. Everyone is a critic or someone is your friend.\n",
    "6. No one is a critic and everyone is your friend.\n",
    "7. Some state has no neighboring states.\n",
    "8. Whenever there is an error, at least one error message is displayed.\n",
    "9. All the programs have been scanned, but at least one program has a virus."
   ],
   "metadata": {
    "id": "Hplq9f-xuh6p"
   }
  },
  {
   "cell_type": "code",
   "execution_count": null,
   "source": [
    "#@title Hint {display-mode: \"form\"}\r\n",
    "print('''\r\n",
    "1. Use the predicates C (is a Critic), P (is Perfect), and F (is your Friend).\r\n",
    "2. Remember to push the negation sign to the right of the quantifier (and change the flavor of the quantifier).\r\n",
    "3. Remember which connective to use with the existential quantifier?\r\n",
    "4. Remember which connective to use with the universal quantifier?\r\n",
    "5. This looks like the disjunction of two quantified statements.\r\n",
    "6. This looks like the conjunction of two quantified statements, one of them negated.\r\n",
    "7. Use a unary *and* a binary predicate.\r\n",
    "8. There are two different domains at play here.\r\n",
    "9. Use three predicates with programs as their domain.\r\n",
    "''')"
   ],
   "outputs": [],
   "metadata": {
    "id": "rtHun4Eiuh6q"
   }
  },
  {
   "cell_type": "code",
   "execution_count": null,
   "source": [
    "#@title Answer {display-mode: \"form\"}\r\n",
    "from IPython.display import Markdown\r\n",
    "display(Markdown('''\r\n",
    "1. $\\\\forall x\\\\ C(x)$\r\n",
    "2. $\\\\forall x\\\\ \\\\lnot P(x)$\r\n",
    "3. $\\\\exists x\\\\ (F(x) \\\\land P(x))$\r\n",
    "4. $\\\\forall x\\\\ (F(x) \\\\rightarrow C(x))$\r\n",
    "5. $\\\\forall x\\\\ C(x) \\\\lor \\\\exists x\\\\ F(x)$\r\n",
    "6. $\\\\lnot \\\\exists x\\\\ C(x) \\\\land \\\\forall x\\\\ F(x)$\r\n",
    "7. $\\\\exists x\\\\ State(x) \\\\land (\\\\forall y\\\\ State(y) \\\\rightarrow \\\\lnot ShareABorder(x, y))$\r\n",
    "8. $\\\\exists x\\\\ is\\_an\\_Error(x) \\\\rightarrow (\\\\exists y\\\\ is\\_an\\_error\\_Message(y) \\\\land is\\_Displayed(y))$\r\n",
    "9. $[\\\\forall x\\\\ (is\\_a\\_Program(x) \\\\rightarrow has\\_been\\_Scanned(x))] \\\\land [\\\\exists x\\\\ (is\\_a\\_Program(x) \\\\land has\\_a\\_Virus(x))]$\r\n",
    "'''))"
   ],
   "outputs": [],
   "metadata": {
    "id": "WmpQNI1Auh6q"
   }
  },
  {
   "cell_type": "markdown",
   "source": [
    "## <font color=red>3.13 Negating Quantifiers</font>"
   ],
   "metadata": {
    "id": "qTATYaqA9IFU"
   }
  },
  {
   "cell_type": "markdown",
   "source": [
    "### Exercise 3.13.1"
   ],
   "metadata": {
    "id": "IXDTyw-qG83G"
   }
  },
  {
   "cell_type": "markdown",
   "source": [
    "Express the following statements using quantifiers; then form the negation of the statement so that no $\\lnot$ is to the left of a quantifier; then express the negation in simple English.\n",
    "\n",
    "1. All horses have hooves.\n",
    "2. No horse can fly.\n",
    "3. Every bat is blind.\n",
    "4. No bear can dance.\n",
    "5. There is at least one penguin that can swim and catch fish."
   ],
   "metadata": {
    "id": "1S_jxnGHG83L"
   }
  },
  {
   "cell_type": "code",
   "execution_count": null,
   "source": [
    "#@title Hint {display-mode: \"form\"}\r\n",
    "print('''\r\n",
    "1. Use the predicates H = is a horse, and V = has hooves.\r\n",
    "2. Use H as in Part 1, and the predicate F = can fly.\r\n",
    "3. This is like Part 1.\r\n",
    "4. Use B for Bear and D for Dance (as in 'can dance).\r\n",
    "5. Use three predicates with one quantifier.\r\n",
    "''')"
   ],
   "outputs": [],
   "metadata": {
    "id": "4DdLOMTgG83L"
   }
  },
  {
   "cell_type": "code",
   "execution_count": null,
   "source": [
    "#@title Answer {display-mode: \"form\"}\r\n",
    "from IPython.display import Markdown\r\n",
    "display(Markdown('''\r\n",
    "1. $\\\\forall x\\\\ H(x) \\\\rightarrow V(x)$; negated is $\\\\exists x\\\\ H(x) \\\\land \\\\lnot V(x)$ = 'Some horse does not have hooves.'\r\n",
    "2. $\\\\forall x\\\\ H(x) \\\\rightarrow \\\\lnot F(x)$; negated is $\\\\exists x\\\\ H(x) \\\\land F(x) =$ 'Some horse can fly'.\r\n",
    "3. $\\\\forall x\\\\ Bat(x) \\\\rightarrow Blind(x)$; negated is $\\\\exists x\\\\ Bat(x) \\\\land \\\\lnot Blind(x) =$ 'Some bat is not blind'.\r\n",
    "4. $\\\\forall x\\\\ B(x) \\\\rightarrow \\\\lnot D(x)$; negated is $\\\\exists x\\\\ bear(x) \\\\land D(x) =$ 'Some bear can dance'. \r\n",
    "5. $\\\\exists x\\\\ Penguin(x) \\\\land can\\_Swim(x) \\\\land can\\_Catch\\_Fish(x)$; negated is $\\\\forall x\\\\ \\\\lnot Penguin(x) \\\\lor \\\\lnot can\\_Swim(x) \\\\lor \\\\lnot can\\_Catch\\_Fish(x) = $ 'Everything is either a non-penguin or a non-swimmer or a non-fish-catcher' (or better: 'No penguin can swim and catch fish').\r\n",
    "'''))"
   ],
   "outputs": [],
   "metadata": {
    "id": "TD4mTN8yG83M"
   }
  },
  {
   "cell_type": "markdown",
   "source": [
    "### Exercise 3.13.2"
   ],
   "metadata": {
    "id": "huTlmPImune6"
   }
  },
  {
   "cell_type": "markdown",
   "source": [
    "The notation $\\exists !x\\ P(x)$ means \"There exisits a unique $x$ such that $P(x)$ is true.\"\n",
    "\n",
    "Let $\\mathbb{Z}$ be the domain for $x$.\n",
    "\n",
    "True or false? $\\exists !x\\ (x > 1)$.\n"
   ],
   "metadata": {
    "id": "nyeEfJKPune9"
   }
  },
  {
   "cell_type": "code",
   "execution_count": null,
   "source": [
    "#@title Hint {display-mode: \"form\"}\r\n",
    "print('''\r\n",
    "How many numbers are greater than 1?!\r\n",
    "''')"
   ],
   "outputs": [],
   "metadata": {
    "id": "suSy3imqune9"
   }
  },
  {
   "cell_type": "code",
   "execution_count": null,
   "source": [
    "#@title Answer {display-mode: \"form\"}\r\n",
    "print('''\r\n",
    "The statement is false. There is not just one, but\r\n",
    "infinitely many integers are greater than one.\r\n",
    "''')"
   ],
   "outputs": [],
   "metadata": {
    "id": "FFarvEZWune-"
   }
  },
  {
   "cell_type": "markdown",
   "source": [
    "### Exercise 3.13.3"
   ],
   "metadata": {
    "id": "9Idm_9Dqv6kY"
   }
  },
  {
   "cell_type": "markdown",
   "source": [
    "Which of the following statements is/are true?\n",
    "1. $\\exists !x \\in \\mathbb{Z}\\ (x^{2} = 1)$.\n",
    "2. $\\exists !x \\in \\mathbb{Z}\\ (x + 3 = 2x)$.\n",
    "3. $\\exists !x \\in \\mathbb{Z}\\ (x = x + 1)$.\n",
    "4. $\\exists x \\in \\mathbb{R}\\ (x^{3} = -9)$.\n",
    "5. $\\exists x \\in \\mathbb{R}\\ (x^{4} > x^{2})$.\n",
    "6. $\\forall x \\in \\mathbb{R}\\ ((-x)^{2} = x^{2})$.\n",
    "7. $\\forall x \\in \\mathbb{R}\\ (2x > x)$."
   ],
   "metadata": {
    "id": "qXy5H4evv6kZ"
   }
  },
  {
   "cell_type": "code",
   "execution_count": null,
   "source": [
    "#@title Hint {display-mode: \"form\"}\r\n",
    "print('''\r\n",
    "1. The definition is in Exercise 3.13.2 in case you missed it.\r\n",
    "2. Just do the algebra.\r\n",
    "3. Algebra won't help here, but logical thinking will.\r\n",
    "4. Algebra works!\r\n",
    "5. Take advantage of the fact that both sides of the inequality are positive (or zero).\r\n",
    "6. A negative times a negative equals a what?\r\n",
    "7. Be careful here.\r\n",
    "''')"
   ],
   "outputs": [],
   "metadata": {
    "id": "WmAGKw21v6kZ"
   }
  },
  {
   "cell_type": "code",
   "execution_count": null,
   "source": [
    "#@title Answer {display-mode: \"form\"}\r\n",
    "print('''\r\n",
    "1. False. There are two: 1 and -1.\r\n",
    "2. True. x = 3 is the unique solution to the equation. \r\n",
    "3. False. There is no number (integer or otherwise) equal to one more than that number.\r\n",
    "4. True. The cube root of -9 exists and is a negative number.\r\n",
    "5. True. The inequality simplifies to 'x-squared is greater than 1', which has infinite solutions.\r\n",
    "6. True. A number squared is the same as the negative of that number squared.\r\n",
    "7. False. This fails for negative x.\r\n",
    "''')"
   ],
   "outputs": [],
   "metadata": {
    "id": "McP8e3jzv6ka"
   }
  },
  {
   "cell_type": "markdown",
   "source": [
    "### Exercise 3.13.4"
   ],
   "metadata": {
    "id": "Ps9VWGU6w5PO"
   }
  },
  {
   "cell_type": "markdown",
   "source": [
    "Let $E(x) = x$ is an excuse,\n",
    "\n",
    "$I(x) = x$ is ignored,\n",
    "\n",
    "$L(x) = x$ is a lie, and\n",
    "\n",
    "$R(x) = x$ is a reason,\n",
    "\n",
    "and let the domain for $x$ consist of all English words.\n",
    "\n",
    "Express each of these statements using quantifiers, logical connectives, and $E(x)$, $L(x)$, and $R(x)$:\n",
    "1. Some excuses are ignored.\n",
    "2. Not all lies are reasons.\n",
    "3. Some excuses are not reasons.\n",
    "4. Some excuses are lies.\n"
   ],
   "metadata": {
    "id": "3jCRLk4_pd5k"
   }
  },
  {
   "cell_type": "code",
   "execution_count": null,
   "source": [
    "#@title Hint {display-mode: \"form\"}\r\n",
    "print('''\r\n",
    "This should be getting easier.\r\n",
    "''')"
   ],
   "outputs": [],
   "metadata": {
    "id": "_3Qvx5Gdpofk"
   }
  },
  {
   "cell_type": "code",
   "execution_count": null,
   "source": [
    "#@title Answer {display-mode: \"form\"}\r\n",
    "from IPython.display import Markdown\r\n",
    "display(Markdown('''\r\n",
    "1. $\\\\exists x\\\\ (E(x) \\\\land I(x))$.\r\n",
    "2. $\\\\lnot \\\\forall x\\\\ L(x) \\\\rightarrow R(x)$. Or, $\\\\exists x\\\\ (L(x) \\\\land \\\\lnot R(x))$.\r\n",
    "3. $\\\\exists x\\\\ (E(x) \\\\land \\\\lnot R(x))$.\r\n",
    "4. $\\\\exists x\\\\ (E(x) \\\\land L(x))$.\r\n",
    "'''))"
   ],
   "outputs": [],
   "metadata": {
    "id": "Y-0vIlXRpwnU"
   }
  },
  {
   "cell_type": "markdown",
   "source": [
    "### Exercise 3.13.5"
   ],
   "metadata": {
    "id": "q3KuZdvPJnBb"
   }
  },
  {
   "cell_type": "markdown",
   "source": [
    "Let $T = $ is a teetotaler,\n",
    "\n",
    "$F = $ is one of my friends,\n",
    "\n",
    "$R =$ is a soldier, and\n",
    "\n",
    "$D =$ is willing to drink. \n",
    "\n",
    "Express each of the following statements using quantifiers, logical connectives, and $T(x)$, $F(x)$, $R(x)$, and $D(x)$.\n",
    "1. No teetotaler is willing to drink.\n",
    "2. No soldiers ever decline a drink.\n",
    "3. All my friends are teetotalers.\n",
    "4. My friends are not soldiers.\n",
    "\n",
    "Does 4 follow logically from 1, 2 and 3? If not, is there a correct conclusion?"
   ],
   "metadata": {
    "id": "vl2hlaLjJnBc"
   }
  },
  {
   "cell_type": "code",
   "execution_count": null,
   "source": [
    "#@title Hint {display-mode: \"form\"}\r\n",
    "print('''\r\n",
    "This is easier than it looks.\r\n",
    "''')"
   ],
   "outputs": [],
   "metadata": {
    "id": "wTe4Y3I1JnBc"
   }
  },
  {
   "cell_type": "code",
   "execution_count": null,
   "source": [
    "#@title Answer {display-mode: \"form\"}\r\n",
    "from IPython.display import Markdown\r\n",
    "display(Markdown('''\r\n",
    "1. $\\\\forall x\\\\ T(x) \\\\rightarrow \\\\lnot D(x)$.\r\n",
    "2. $\\\\forall x\\\\ R(x) \\\\rightarrow D(x)$.\r\n",
    "3. $\\\\forall x\\\\ F(x) \\\\rightarrow T(x)$.\r\n",
    "4. $\\\\forall x\\\\ F(x) \\\\rightarrow \\\\lnot R(x)$.\r\n",
    "'''))\r\n",
    "print('''\r\n",
    "Yes, 4 logically follows from 1, 2 and 3.\r\n",
    "No friend of mine is willing to drink by 1 and 3,\r\n",
    "and soldiers are willing to drink by 2, so no\r\n",
    "soldier can be a friend of mine.\r\n",
    "''')"
   ],
   "outputs": [],
   "metadata": {
    "id": "YrV2Or6fJnBd"
   }
  },
  {
   "cell_type": "markdown",
   "source": [
    "## <font color=red>3.14 Free and Bound</font>"
   ],
   "metadata": {
    "id": "fBouumi6Ej4J"
   }
  },
  {
   "cell_type": "markdown",
   "source": [
    "### Exercise 3.14.1"
   ],
   "metadata": {
    "id": "LwhsPYwyntRL"
   }
  },
  {
   "cell_type": "markdown",
   "source": [
    "Write the formal definitions of **injective** and **surjective** given in Exercise 3.5.1 using quantifier symbols instead of words."
   ],
   "metadata": {
    "id": "NYQJjyswntRN"
   }
  },
  {
   "cell_type": "code",
   "execution_count": null,
   "source": [
    "#@title Hint {display-mode: \"form\"}\r\n",
    "from IPython.display import Markdown\r\n",
    "display(Markdown('''\r\n",
    "$\\\\forall m, n \\\\in A$ is short for $\\\\forall m \\\\in A \\\\land \\\\forall n \\\\in A$.\r\n",
    "'''))"
   ],
   "outputs": [],
   "metadata": {
    "id": "BwO4iY_AntRN"
   }
  },
  {
   "cell_type": "code",
   "execution_count": null,
   "source": [
    "#@title Answer {display-mode: \"form\"}\r\n",
    "from IPython.display import Markdown\r\n",
    "display(Markdown('''\r\n",
    "For $f : A \\\\longrightarrow B$,\r\n",
    "\r\n",
    "$f$ is injective means $\\\\forall m,n \\\\in A, f(m) \\\\ne f(n)$ whenever $m \\\\ne n$, and\r\n",
    "\r\n",
    "$f$ is surjective means $\\\\forall b \\\\in B, \\\\exists a \\\\in A$ such that $f(a) = b$.\r\n",
    "'''))"
   ],
   "outputs": [],
   "metadata": {
    "id": "i5ZIL2rxntRO"
   }
  },
  {
   "cell_type": "markdown",
   "source": [
    "### Exercise 3.14.2"
   ],
   "metadata": {
    "id": "pEkbAbC8ntmm"
   }
  },
  {
   "cell_type": "markdown",
   "source": [
    "Translate these statements into English, where the domain for each variable consists of all real numbers.\n",
    "1. $\\exists x \\forall y\\ (x > y)$.\n",
    "2. $\\exists x \\exists y\\ (((x \\ge 0) \\land (y \\ge 0)) \\rightarrow (xy \\ge 0))$.\n",
    "3. $\\exists x \\forall y \\exists z\\ (x = y + z)$."
   ],
   "metadata": {
    "id": "5KaBVs2dntmn"
   }
  },
  {
   "cell_type": "code",
   "execution_count": null,
   "source": [
    "#@title Hint {display-mode: \"form\"}\r\n",
    "print('''\r\n",
    "It might help to plug in some actual numbers (\"concretize\").\r\n",
    "''')"
   ],
   "outputs": [],
   "metadata": {
    "id": "QVNtttntntmn"
   }
  },
  {
   "cell_type": "code",
   "execution_count": null,
   "source": [
    "#@title Answer {display-mode: \"form\"}\r\n",
    "print('''\r\n",
    "1. Some number is greater than every number.\r\n",
    "   (Or, there is a greatest number. Clearly false!)\r\n",
    "2. The product of some nonnegative numbers is nonnegative.\r\n",
    "3. Some number is the sum of every number and some other number.\r\n",
    "''')"
   ],
   "outputs": [],
   "metadata": {
    "id": "0kisB8Ymntmo"
   }
  },
  {
   "cell_type": "markdown",
   "source": [
    "### Exercise 3.14.3"
   ],
   "metadata": {
    "id": "o3z70hQintxh"
   }
  },
  {
   "cell_type": "markdown",
   "source": [
    "Let $Q(x, y)$ be the statement &ldquo;$x$ asks $y$ a question&rdquo;, where the domain for both $x$ and $y$ consists of all students in a study group.\n",
    "\n",
    "Express each nested quantification as an English sentence.\n",
    "1. $\\forall x \\exists y\\ Q(x, y)$.\n",
    "2. $\\forall x \\forall y\\ Q(x, y)$.\n",
    "3. $\\exists x \\exists y\\ Q(x, y)$.\n",
    "4. $\\exists x \\forall y\\ Q(x, y)$.\n",
    "5. $\\forall y \\exists x\\ Q(x, y)$.\n",
    "6. $\\exists y \\exists x\\ Q(x, y)$."
   ],
   "metadata": {
    "id": "X4vYB9bMntxh"
   }
  },
  {
   "cell_type": "code",
   "execution_count": null,
   "source": [
    "#@title Hint {display-mode: \"form\"}\r\n",
    "print('''\r\n",
    "Use \"every\" and \"some\" (or \"at least one\").\r\n",
    "''')"
   ],
   "outputs": [],
   "metadata": {
    "id": "aFEAF9Aantxi"
   }
  },
  {
   "cell_type": "code",
   "execution_count": null,
   "source": [
    "#@title Answer {display-mode: \"form\"}\r\n",
    "print('''\r\n",
    "1. Every student asks some student a question.\r\n",
    "2. Every student asks every student a question.\r\n",
    "3. Some student asks at least one student a question.\r\n",
    "4. Some student asks every student a question.\r\n",
    "5. Every student is asked a question by some (or at least one) student.\r\n",
    "6. Some student asks some student a question. (Another way to say the answer to 3.)\r\n",
    "''')"
   ],
   "outputs": [],
   "metadata": {
    "id": "MtY47PhCntxi"
   }
  },
  {
   "cell_type": "markdown",
   "source": [
    "### Exercise 3.14.4"
   ],
   "metadata": {
    "id": "b7-egK9ont44"
   }
  },
  {
   "cell_type": "markdown",
   "source": [
    "Let $Q(x, y)$ be &ldquo;$x$ asks $y$ a question&rdquo;, where the domain for both $x$ and $y$ consists of all people at your school.\n",
    "\n",
    "Express each of the sentences below in terms of $Q(x, y)$, quantifiers, and logical connectives.\n",
    "\n",
    "(To distinguish different roles for people, use the predicates $S(x) = x$ is a student, $T(x) = x$ is a teacher, and $A(x) = x$ is a TA.) \n",
    "1. No student has ever asked a teacher a question.\n",
    "2. There is a student who has asked a teacher a question.\n",
    "3. Every student has asked a teacher and a TA a question.\n",
    "4. At least two students have asked a teacher a question."
   ],
   "metadata": {
    "id": "NLIaPtFunt44"
   }
  },
  {
   "cell_type": "code",
   "execution_count": null,
   "source": [
    "#@title Hint {display-mode: \"form\"}\r\n",
    "print('''\r\n",
    "The last two need three quantifiers.\r\n",
    "''')"
   ],
   "outputs": [],
   "metadata": {
    "id": "Cw4eg2j8nt44"
   }
  },
  {
   "cell_type": "code",
   "execution_count": null,
   "source": [
    "#@title Answer {display-mode: \"form\"}\r\n",
    "from IPython.display import Markdown\r\n",
    "display(Markdown('''\r\n",
    "1. $\\\\forall x \\\\forall y\\\\ S(x) \\land T(y) \\\\rightarrow \\\\lnot Q(x, y)$.\r\n",
    "2. $\\\\exists x \\\\exists y\\\\ S(x) \\\\land T(y) \\\\land Q(x, y)$.\r\n",
    "3. $\\\\forall x \\\\exists y \\\\exists z\\\\ S(x) \\\\land T(y) \\\\land A(z) \\\\rightarrow (Q(x, y) \\\\land Q(x, z))$.\r\n",
    "4. $\\\\exists x \\\\exists y \\\\exists z\\\\ S(x) \\\\land S(y) \\\\land x \\\\ne y \\\\land T(z) \\\\land Q(x, z) \\\\land Q(y, z)$.\r\n",
    "'''))"
   ],
   "outputs": [],
   "metadata": {
    "id": "eW1TOlAXnt44"
   }
  },
  {
   "cell_type": "markdown",
   "source": [
    "### Exercise 3.14.5"
   ],
   "metadata": {
    "id": "CeiyKAPJnt-f"
   }
  },
  {
   "cell_type": "markdown",
   "source": [
    "Let $T(x, y)$ be $x$ has taught $y$, where the domain for $x$ is all teachers teaching in some department, and the domain for $y$ is all classes taught in that department.\n",
    "\n",
    "Express each of these sentences in terms of $T(x, y)$, quantifiers, and logical connectives:\n",
    "1. No teacher has taught every class.\n",
    "2. Every teacher has taught every class.\n",
    "3. Every teacher has taught some class.\n",
    "4. At least two teachers have taught a class."
   ],
   "metadata": {
    "id": "v1c70rXjnt-g"
   }
  },
  {
   "cell_type": "code",
   "execution_count": null,
   "source": [
    "#@title Hint {display-mode: \"form\"}\r\n",
    "print('''\r\n",
    "The last one needs three quantifiers binding three different variables.\r\n",
    "''')"
   ],
   "outputs": [],
   "metadata": {
    "id": "rbdxE_VNnt-g"
   }
  },
  {
   "cell_type": "code",
   "execution_count": null,
   "source": [
    "#@title Answer {display-mode: \"form\"}\r\n",
    "from IPython.display import Markdown\r\n",
    "display(Markdown('''\r\n",
    "1. $\\\\lnot \\\\exists x \\\\forall y\\\\ T(x, y)$. Better as $\\\\forall x \\\\exists y\\\\ \\\\lnot T(x, y)$.\r\n",
    "2. $\\\\forall x \\\\forall y\\\\ T(x, y)$.\r\n",
    "3. $\\\\forall x \\\\exists y\\\\ T(x, y)$.\r\n",
    "4. $\\\\exists x \\\\exists y \\\\exists z\\\\ T(x, z) \\\\land T(y, z) \\\\land x \\\\ne y$.\r\n",
    "'''))"
   ],
   "outputs": [],
   "metadata": {
    "id": "sWT20-9Gnt-g"
   }
  },
  {
   "cell_type": "markdown",
   "source": [
    "### Exercise 3.14.6"
   ],
   "metadata": {
    "id": "MWtpv_OxnuD0"
   }
  },
  {
   "cell_type": "markdown",
   "source": [
    "Use quantifiers and predicates, some with two variables, to express these statements **and** their negations:\n",
    "1. Every student needs a laptop.\n",
    "2. No student has been in every building on campus.\n",
    "3. Exactly one student has been in every room of exactly one building on campus.\n",
    "4. Every student has been in at least one room of every building on campus."
   ],
   "metadata": {
    "id": "YYp9r7N1nuD0"
   }
  },
  {
   "cell_type": "code",
   "execution_count": null,
   "source": [
    "#@title Hint {display-mode: \"form\"}\r\n",
    "from IPython.display import Markdown\r\n",
    "display(Markdown('''\r\n",
    "Use the predicates:\\\\\r\n",
    "$S(x) = x$ is a student,\\\\\r\n",
    "$N(x, y) = x$ needs $y$,\\\\\r\n",
    "$B(x) = x$ is a building on campus,\\\\\r\n",
    "$R(x, y) = x$ is a room in building $y$, and\\\\\r\n",
    "$I(x, y) = x$ has been in $y$.\r\n",
    "'''))"
   ],
   "outputs": [],
   "metadata": {
    "id": "RNZzWQ5QnuD0"
   }
  },
  {
   "cell_type": "code",
   "execution_count": null,
   "source": [
    "#@title Answer {display-mode: \"form\"}\r\n",
    "from IPython.display import Markdown\r\n",
    "display(Markdown('''\r\n",
    "1. $\\\\forall x\\\\ S(x) \\\\rightarrow N(x, laptop)$.\r\n",
    "2. $\\\\forall x \\\\exists y\\\\ [S(x) \\\\land B(y) \\\\land \\\\lnot I(x, y)]$.\r\n",
    "3. $\\\\exists! x \\\\forall y \\\\exists! z\\\\ [(S(x) \\\\land R(y, z) \\\\land B(z)) \\\\rightarrow I(x, y)]$.\r\n",
    "4. $\\\\forall s\\\\ \\\\forall b\\\\ \\\\exists r\\\\ [R(r, b) \\\\land I(s, r)]$\r\n",
    "\r\n",
    "Negations:\r\n",
    "\r\n",
    "1. $\\\\exists x\\\\ S(x) \\\\land \\\\lnot N(x, laptop)$.\r\n",
    "2. $\\\\exists x \\\\forall y\\\\ [\\\\lnot S(x) \\\\lor \\\\lnot B(y) \\\\lor I(x, y)]$.\r\n",
    "3. $\\\\forall x \\\\exists y \\\\forall z\\\\ [S(x) \\\\land R(y, z) \\\\land B(z) \\\\land \\\\lnot I(x, y)]$.\r\n",
    "4. $\\\\exists s\\\\ \\\\exists b\\\\ \\\\forall r\\\\ [R(r, b) \\\\rightarrow \\\\lnot I(s, r)]$.\r\n",
    "'''))"
   ],
   "outputs": [],
   "metadata": {
    "id": "_NmylLwAnuD1"
   }
  },
  {
   "cell_type": "markdown",
   "source": [
    "### Exercise 3.14.7"
   ],
   "metadata": {
    "id": "lp9AU1x_nuJD"
   }
  },
  {
   "cell_type": "markdown",
   "source": [
    "Express each of these statements using predicates, quantifiers, logical connectives, and mathematical operators where the domain consists of all integers.\n",
    "1. The average of two numbers is not greater than those two numbers.\n",
    "2. The product of a positive number and a negative number is negative.\n",
    "3. There is no solution in radicals to a quintic equation.\n",
    "4. All positive numbers are greater than all negative numbers."
   ],
   "metadata": {
    "id": "I62y-IpZnuJD"
   }
  },
  {
   "cell_type": "code",
   "execution_count": null,
   "source": [
    "#@title Hint {display-mode: \"form\"}\r\n",
    "print('''\r\n",
    "Both the second one and the fourth one need an implication.\r\n",
    "All involve two universal quantifiers except the third one,\r\n",
    "which involves just one after applying De Morgan's rule for\r\n",
    "negating quantified statements.\r\n",
    "''')"
   ],
   "outputs": [],
   "metadata": {
    "id": "C5m_Nw-6nuJD"
   }
  },
  {
   "cell_type": "code",
   "execution_count": null,
   "source": [
    "#@title Answer {display-mode: \"form\"}\r\n",
    "from IPython.display import Markdown\r\n",
    "display(Markdown('''\r\n",
    "1. $\\\\forall x \\\\forall y\\\\ ((x + y)/2 \\\\le x) \\\\lor ((x + y)/2 \\\\le y)$.\r\n",
    "2. $\\\\forall x \\\\forall y\\\\ (((x > 0) \\\\land (y < 0)) \\\\rightarrow xy < 0)$.\r\n",
    "3. $\\\\forall x\\\\ IsQuinticEquation(x) \\\\rightarrow \\\\lnot HasSolutionInRadicals(x)$.\r\n",
    "4. $\\\\forall x \\\\forall y\\\\ (((x > 0) \\\\land (y < 0)) \\\\rightarrow x > y)$.\r\n",
    "'''))\r\n",
    "print('''\r\n",
    "\r\n",
    "''')"
   ],
   "outputs": [],
   "metadata": {
    "id": "cATvO312nuJD"
   }
  },
  {
   "cell_type": "markdown",
   "source": [
    "### Exercise 3.14.8"
   ],
   "metadata": {
    "id": "tI4hCz0PnuOA"
   }
  },
  {
   "cell_type": "markdown",
   "source": [
    "Express the statement &ldquo;no prime number has 3 factors&rdquo; using predicates, quantifiers, logical connectives, and mathematical operators."
   ],
   "metadata": {
    "id": "9dUIVe1BnuOA"
   }
  },
  {
   "cell_type": "code",
   "execution_count": null,
   "source": [
    "#@title Hint {display-mode: \"form\"}\r\n",
    "print('''\r\n",
    "This needs four universal quantifiers binding four different variables,\r\n",
    "and it definitely calls for an application of the gersy principle!\r\n",
    "''')"
   ],
   "outputs": [],
   "metadata": {
    "id": "nltJNSkHnuOA"
   }
  },
  {
   "cell_type": "code",
   "execution_count": null,
   "source": [
    "#@title Answer {display-mode: \"form\"}\r\n",
    "from IPython.display import Markdown\r\n",
    "display(Markdown('''\r\n",
    "$\\\\forall p \\\\forall x \\\\forall y \\\\forall z\\\\ [Prime(p) \\\\land x > 1 \\\\land y > 1 \\\\land z > 1 \\\\rightarrow p \\\\ne xyz]$.\r\n",
    "'''))"
   ],
   "outputs": [],
   "metadata": {
    "id": "gS-flXl_nuOA"
   }
  },
  {
   "cell_type": "markdown",
   "source": [
    "### Exercise 3.14.9"
   ],
   "metadata": {
    "id": "Wcbf55P9nuSk"
   }
  },
  {
   "cell_type": "markdown",
   "source": [
    "If the domain for $x$ and $y$ is $\\mathbb{Z}$, what are the truth values of these statements?\n",
    "1. $\\forall x \\forall y\\ ((x \\ne 0) \\land (y \\ne 0) \\leftrightarrow (xy \\ne 0))$.\n",
    "2. $\\exists x \\forall y\\ (x + y > y)$.\n",
    "3. $\\exists x \\forall y\\ (x + y < y)$.\n",
    "4. $\\exists !x \\forall y\\ (x + y = y)$."
   ],
   "metadata": {
    "id": "mUnYPiOenuSk"
   }
  },
  {
   "cell_type": "code",
   "execution_count": null,
   "source": [
    "#@title Hint {display-mode: \"form\"}\r\n",
    "from IPython.display import Markdown\r\n",
    "display(Markdown('''\r\n",
    "Recall that $\\mathbb{Z}$ is the set of all integers.\r\n",
    "'''))"
   ],
   "outputs": [],
   "metadata": {
    "id": "0e57F8UBnuSk"
   }
  },
  {
   "cell_type": "code",
   "execution_count": null,
   "source": [
    "#@title Answer {display-mode: \"form\"}\r\n",
    "print('''\r\n",
    "All of these are true.\r\n",
    "''')"
   ],
   "outputs": [],
   "metadata": {
    "id": "EC1baG_pnuSl"
   }
  },
  {
   "cell_type": "markdown",
   "source": [
    "### Exercise 3.14.10"
   ],
   "metadata": {
    "id": "rIMeagPYnuXG"
   }
  },
  {
   "cell_type": "markdown",
   "source": [
    "What are the truth values of the expressions below if $T(x, y)$ is $xy < y$, where the domain for both $x$ and $y$ is $\\mathbb{Z}$?\n",
    "1. $T(0, 5)$.\n",
    "2. $T(1, 1)$.\n",
    "3. $T(7, -3)$.\n",
    "4. $\\exists x \\forall y\\ T(x, y)$.\n",
    "5. $\\exists x\\ T(x, 2)$.\n",
    "6. $\\forall y\\ T(9, y)$.\n",
    "7. $\\forall x \\forall y\\ T(x, y)$.\n",
    "8. $\\forall x \\exists y\\ T(x, y)$."
   ],
   "metadata": {
    "id": "iDxpANcrnuXG"
   }
  },
  {
   "cell_type": "code",
   "execution_count": null,
   "source": [
    "#@title Hint {display-mode: \"form\"}\r\n",
    "from IPython.display import Markdown\r\n",
    "display(Markdown('''\r\n",
    "Write some code that implements the $T$ predicate and tests it.\r\n",
    "'''))"
   ],
   "outputs": [],
   "metadata": {
    "id": "byo_cFATnuXG"
   }
  },
  {
   "cell_type": "code",
   "execution_count": null,
   "source": [
    "#@title Answer {display-mode: \"form\"}\r\n",
    "print('''\r\n",
    "1. True\r\n",
    "2. False\r\n",
    "3. True\r\n",
    "4. False\r\n",
    "5. True\r\n",
    "6. False\r\n",
    "7. False\r\n",
    "8. True\r\n",
    "''')"
   ],
   "outputs": [],
   "metadata": {
    "id": "3zGQToL8nuXH"
   }
  },
  {
   "cell_type": "markdown",
   "source": [
    "### Exercise 3.14.11"
   ],
   "metadata": {
    "id": "aY9iKjFgnubW"
   }
  },
  {
   "cell_type": "markdown",
   "source": [
    "Determine the truth value of the statement $\\forall x \\exists y\\ (x - y \\ge x)$ if the domain for $x$ and $y$ is\r\n",
    "1. the real numbers.\r\n",
    "2. the natural numbers, including 0.\r\n",
    "3. the negative integers.\r\n",
    "4. the rational numbers."
   ],
   "metadata": {
    "id": "MK2pb-EgnubX"
   }
  },
  {
   "cell_type": "code",
   "execution_count": null,
   "source": [
    "#@title Hint {display-mode: \"form\"}\r\n",
    "print('''\r\n",
    "Plug in concrete numbers if necessary.\r\n",
    "''')"
   ],
   "outputs": [],
   "metadata": {
    "id": "CJbyrHnMnubX"
   }
  },
  {
   "cell_type": "code",
   "execution_count": null,
   "source": [
    "#@title Answer {display-mode: \"form\"}\r\n",
    "print('''\r\n",
    "All of these are true.\r\n",
    "''')"
   ],
   "outputs": [],
   "metadata": {
    "id": "bqZP9wSbnubX"
   }
  },
  {
   "cell_type": "markdown",
   "source": [
    "### Exercise 3.14.12"
   ],
   "metadata": {
    "id": "8FFxFKP-nvUS"
   }
  },
  {
   "cell_type": "markdown",
   "source": [
    "Another highly useful higher-order function is ```filter```, which takes a predicate and a sequence and creates a new sequence filtered through the predicate. Items in the original sequence for which the predicate returns true remain, if false they are filtered out.\n",
    "\n",
    "For example, the following prints out a list of the first three odds:"
   ],
   "metadata": {
    "id": "yRdlC3L4nvUS"
   }
  },
  {
   "cell_type": "code",
   "execution_count": null,
   "source": [
    "print(list(filter(lambda x: x % 2 == 1, range(1, 7))))"
   ],
   "outputs": [],
   "metadata": {
    "id": "1qG2aWl2B4yY"
   }
  },
  {
   "cell_type": "markdown",
   "source": [
    "Write a function called ```summer``` (that has nothing to do with sums or series) and make it so the summer months (June, July, August) are kept and the others discarded when passing ```summer``` to ```filter``` with the list:\n"
   ],
   "metadata": {
    "id": "OrMvJwxJB-ak"
   }
  },
  {
   "cell_type": "code",
   "execution_count": null,
   "source": [
    "months = ['January', 'February', 'March',\n",
    "          'April', 'May', 'June',\n",
    "          'July','August', 'September',\n",
    "          'October', 'November', 'December']"
   ],
   "outputs": [],
   "metadata": {
    "id": "yVMK4CPJCCYl"
   }
  },
  {
   "cell_type": "code",
   "execution_count": null,
   "source": [
    "#@title Hint {display-mode: \"form\"}\n",
    "print('''\n",
    "Make the filter code as efficient as possible.\n",
    "''')"
   ],
   "outputs": [],
   "metadata": {
    "id": "08Mlexa1nvUT"
   }
  },
  {
   "cell_type": "code",
   "execution_count": null,
   "source": [
    "#@title Answer {display-mode: \"form\"}\n",
    "# Exploit the fact that the summer months all have\n",
    "# a 'u' as their second letter:\n",
    "def summer(month):\n",
    "  return month[1] == 'u'\n",
    "\n",
    "list(filter(summer, months))"
   ],
   "outputs": [],
   "metadata": {
    "id": "IGpHRvX0nvUT"
   }
  },
  {
   "cell_type": "markdown",
   "source": [
    "### Exercise 3.14.13"
   ],
   "metadata": {
    "id": "EddlWVIRs-XA"
   }
  },
  {
   "cell_type": "markdown",
   "source": [
    "In the spirit of nested quantifiers, define a &ldquo;nested filter&rdquo; creator function.\n",
    "\n",
    "This is a function that takes two parameters, ```m``` and ```r```, and returns a ```lambda``` filter with parameter ```x``` and expression ```(x % m) == r```.\n",
    "\n",
    "Call this function with three different pairs of values for ```m``` and ```r``` to create three filters.\n",
    "\n",
    "Apply these filters to the ```range(0, 100)``` and print lists of the filtered results.\n",
    "\n",
    "Where have you seen this type of list before?"
   ],
   "metadata": {
    "id": "VgnZsF5Gs7kC"
   }
  },
  {
   "cell_type": "code",
   "execution_count": null,
   "source": [
    "#@title Hint {display-mode: \"form\"}\n",
    "print('''\n",
    "This foreshadows some number theoretic concepts coming later,\n",
    "but introduced in Chapter 4 with the TLA CMM.\n",
    "''')"
   ],
   "outputs": [],
   "metadata": {
    "id": "o9VkcOMhs-XD"
   }
  },
  {
   "cell_type": "code",
   "execution_count": null,
   "source": [
    "#@title Answer {display-mode: \"form\"}\n",
    "def create_filter(m, r):\n",
    "  \"\"\"Seen before as arithmetic progressions.\n",
    "  \"\"\"\n",
    "  return lambda x: (x % m) == r\n",
    "\n",
    "f53 = create_filter(5, 3)\n",
    "\n",
    "f74 = create_filter(7, 4)\n",
    "\n",
    "f118 = create_filter(11, 8)\n",
    "\n",
    "print(list(filter(f53, range(100))))\n",
    "\n",
    "print(list(filter(f74, range(100))))\n",
    "\n",
    "print(list(filter(f118, range(100))))"
   ],
   "outputs": [],
   "metadata": {
    "id": "Hdj-iZxDs-XE"
   }
  },
  {
   "cell_type": "markdown",
   "source": [
    "### Exercise 3.14.14"
   ],
   "metadata": {
    "id": "BdBEczWUBR6b"
   }
  },
  {
   "cell_type": "markdown",
   "source": [
    "Write a predicate for which the call to the ```test_predicate``` function shown below returns True. (You'll need your ```forall```\n",
    "function too.)"
   ],
   "metadata": {
    "id": "3vw7BIetBR6c"
   }
  },
  {
   "cell_type": "code",
   "execution_count": null,
   "source": [
    "def test_predicate(predicate):\n",
    "  return forall(predicate, [['Discrete', 8], ['Math', 8],\n",
    "                            ['Is', 6], ['Awesome', 28]]) and \\\n",
    "         not forall(predicate, [['Oracle', 0], ['Apple', 11],\n",
    "                                ['Microsoft', -18], ['Google', 25]])\n",
    "\n",
    "def my_predicate(data):\n",
    "  # YOUR ANSWER GOES HERE\n",
    "  raise NotImplementedError\n",
    "  \n",
    "print(test_predicate(my_predicate))"
   ],
   "outputs": [],
   "metadata": {
    "id": "KLJ4PgppEQJB"
   }
  },
  {
   "cell_type": "code",
   "execution_count": null,
   "source": [
    "#@title Hint {display-mode: \"form\"}\n",
    "print('''\n",
    "This will require some thought. But it's simpler than it looks.\n",
    "Put your code (a one-liner) in the place of the line that says\n",
    "\"YOUR ANSWER GOES HERE\". After doing so, you can remove the\n",
    "\"raise NotImplementedError\" line, or leave it, it won't matter.\n",
    "''')"
   ],
   "outputs": [],
   "metadata": {
    "id": "VPSoJdn7BR6e"
   }
  },
  {
   "cell_type": "code",
   "execution_count": null,
   "source": [
    "#@title Answer {display-mode: \"form\"}\n",
    "def my_predicate(data):\n",
    "  \"\"\"Returns whether or not the length of the word\n",
    "     data[0] divides the number data[1] evenly.\n",
    "  \"\"\"\n",
    "  return data[1] % len(data[0]) == 0"
   ],
   "outputs": [],
   "metadata": {
    "id": "gKtA71NdBR6f"
   }
  }
 ],
 "metadata": {
  "colab": {
   "authorship_tag": "ABX9TyM2oFHg6PQtEb99phZf8EzH",
   "name": "chapter-3-predicates-and-quantifiers-exercises.ipynb",
   "private_outputs": true,
   "provenance": [],
   "collapsed_sections": [],
   "toc_visible": true
  },
  "kernelspec": {
   "display_name": "Python 3",
   "language": "python",
   "name": "python3"
  },
  "language_info": {
   "codemirror_mode": {
    "name": "ipython",
    "version": 3
   },
   "file_extension": ".py",
   "mimetype": "text/x-python",
   "name": "python",
   "nbconvert_exporter": "python",
   "pygments_lexer": "ipython3",
   "version": "3.9.0"
  }
 },
 "nbformat": 4,
 "nbformat_minor": 1
}