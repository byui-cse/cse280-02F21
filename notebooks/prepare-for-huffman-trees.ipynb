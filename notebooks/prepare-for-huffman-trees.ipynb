{
 "cells": [
  {
   "cell_type": "markdown",
   "source": [
    "# <font color=blue>Prepare for Huffman Trees</font>\n"
   ],
   "metadata": {
    "id": "zac1_7eGNKoG"
   }
  },
  {
   "cell_type": "markdown",
   "source": [
    "## <font color=red>Instructions</font>\n"
   ],
   "metadata": {
    "id": "tbT8xKH-NY-Z"
   }
  },
  {
   "cell_type": "markdown",
   "source": [
    "Your exercises this week will consist of answering questions on the content from the book, Chapter 7 Trees (7.9 through 7.11), and all first-level links therefrom.\r\n"
   ],
   "metadata": {
    "id": "hPN1ropvNbAo"
   }
  },
  {
   "cell_type": "markdown",
   "source": [
    "The questions are all about Huffman Trees. Be aware that starting next week, reading quizzes will align with the statement in the syllabus:\n"
   ],
   "metadata": {
    "id": "oebabbqZNcIr"
   }
  },
  {
   "cell_type": "markdown",
   "source": [
    "> Quiz questions will be on any current or previously discussed course content, to encourage steady knowledge accumulation and retention.\n"
   ],
   "metadata": {
    "id": "d1eGg_llNdsh"
   }
  },
  {
   "cell_type": "markdown",
   "source": [
    "Make sure you are comfortable with Python dictionaries, and that you have a good grasp of Huffman encoding/decoding and compression ratio calculation. Study the code below!\r\n"
   ],
   "metadata": {
    "id": "OaO94HRVNevq"
   }
  },
  {
   "cell_type": "markdown",
   "source": [
    "(Extra time will be given for this quiz to allow you to find and give the correct answer to the last question.)\n"
   ],
   "metadata": {
    "id": "MjtC6LOlNgcp"
   }
  },
  {
   "cell_type": "code",
   "execution_count": null,
   "source": [
    "#@title The Code to Study {display-mode: \"form\"}\r\n",
    "\r\n",
    "def make_frequency_table(message):\r\n",
    "  freq_table = {n: message.count(n) for n in sorted(list(dict.fromkeys(message)))}\r\n",
    "  return freq_table\r\n",
    "\r\n",
    "def make_node(symbol, frequency):\r\n",
    "  new_node = {}\r\n",
    "  new_node['name'] = symbol\r\n",
    "  new_node['value'] = frequency\r\n",
    "  return new_node\r\n",
    "\r\n",
    "def make_internal_node(left_subtree, right_subtree):\r\n",
    "  new_node = make_node(left_subtree['name'] + right_subtree['name'], left_subtree['value'] + right_subtree['value'])\r\n",
    "  left_subtree['parent'] = new_node\r\n",
    "  right_subtree['parent'] = new_node\r\n",
    "  new_node['left'] = left_subtree\r\n",
    "  new_node['right'] = right_subtree\r\n",
    "  return new_node\r\n",
    "\r\n",
    "def make_node_list_from_table(frequency_table):\r\n",
    "  return list(map(lambda key: make_node(key, frequency_table[key]), frequency_table.keys()))\r\n",
    "\r\n",
    "def compare_nodes(node1, node2):\r\n",
    "  return node1['value'] <= node2['value']\r\n",
    "\r\n",
    "def compare_node(node):\r\n",
    "  return node['value']\r\n",
    "\r\n",
    "def insert_sort(node, node_list):\r\n",
    "  if len(node_list):\r\n",
    "    node1 = node_list[0]\r\n",
    "  else:\r\n",
    "    node1 = []\r\n",
    "  new_front = []\r\n",
    "  new_back = node_list\r\n",
    "  while node1 and compare_nodes(node1, node):\r\n",
    "    new_front.append(node1)\r\n",
    "    new_back = new_back[1:]\r\n",
    "    if len(new_back):\r\n",
    "      node1 = new_back[0]\r\n",
    "    else:\r\n",
    "      node1 = []\r\n",
    "  new_front.append(node)\r\n",
    "  return new_front + new_back\r\n",
    "\r\n",
    "def make_huffman_tree(Q):\r\n",
    "  Tl = {}\r\n",
    "  Tr = {}\r\n",
    "  while len(Q) > 1:\r\n",
    "    Tl = Q[0]\r\n",
    "    Q = Q[1:]\r\n",
    "    Tr = Q[0]\r\n",
    "    Q = Q[1:]\r\n",
    "    Q = insert_sort(make_internal_node(Tl, Tr), Q)\r\n",
    "  return Q[0]\r\n",
    "\r\n",
    "def calculate_compression_ratio(f, v):\r\n",
    "  return 100 * (f - v) / f\r\n",
    "\r\n",
    "def flatten(x):\r\n",
    "  if isinstance(x, list):\r\n",
    "    return [a for i in x for a in flatten(i)]\r\n",
    "  else:\r\n",
    "    return [x]\r\n",
    "\r\n",
    "def get_ancestry(node):\r\n",
    "  if not node.get('parent', None):\r\n",
    "    return node\r\n",
    "  return [node, get_ancestry(node.get('parent'))]\r\n",
    "\r\n",
    "def get_flattened_ancestry(node):\r\n",
    "  return flatten(get_ancestry(node))\r\n",
    "\r\n",
    "def put_code(leaf_node):\r\n",
    "  ancestry = get_flattened_ancestry(leaf_node)\r\n",
    "  ancestry.reverse()\r\n",
    "  code = ''\r\n",
    "  for node, next_node in zip(ancestry[:-1], ancestry[1:]):\r\n",
    "    code += ['1', '0'][next_node == node.get('left', None)]\r\n",
    "    leaf_node['code'] = code\r\n",
    "  return code\r\n",
    "\r\n",
    "def get_node_plist(node):\r\n",
    "  left_child = 'left: ' + node['left']['name'] if node.get('left', False) else ''\r\n",
    "  right_child = 'right: ' + node['right']['name'] if node.get('right', False) else ''\r\n",
    "  parent = 'parent: ' + node['parent']['name'] if node.get('parent', False) else ''\r\n",
    "  plist = [left_child, right_child, parent]\r\n",
    "  return [a for a in plist if a != '']\r\n",
    "\r\n",
    "def show_node(node):\r\n",
    "  print(node['name'], node['value'], *get_node_plist(node))\r\n",
    "\r\n",
    "def show_tree(root):\r\n",
    "  show_node(root)\r\n",
    "  if (root.get('left', {})):\r\n",
    "    show_tree(root.get('left'))\r\n",
    "  if (root.get('right', {})):\r\n",
    "    show_tree(root.get('right'))\r\n",
    "\r\n",
    "def get_code(node):\r\n",
    "  return code_dict[node.get('name')]"
   ],
   "outputs": [],
   "metadata": {
    "id": "KCbyNPFQNhdr"
   }
  },
  {
   "cell_type": "markdown",
   "source": [
    "### <font color=purple>Sample Use</font>\n"
   ],
   "metadata": {
    "id": "nUNC8fsVO0JB"
   }
  },
  {
   "cell_type": "code",
   "execution_count": null,
   "source": [
    "message = 'AARDVARK'"
   ],
   "outputs": [],
   "metadata": {
    "id": "JC8F317sO_Bn"
   }
  },
  {
   "cell_type": "code",
   "execution_count": null,
   "source": [
    "from math import ceil, log2\r\n",
    "\r\n",
    "frequency_table = make_frequency_table(message)\r\n",
    "print('\\nFrequency table:')\r\n",
    "print(frequency_table)\r\n",
    "\r\n",
    "list_of_nodes = make_node_list_from_table(frequency_table)\r\n",
    "list_of_nodes.sort(key=compare_node)\r\n",
    "\r\n",
    "print('\\nList of nodes:')\r\n",
    "print(list_of_nodes)\r\n",
    "\r\n",
    "huffman_tree = make_huffman_tree(list_of_nodes.copy())\r\n",
    "show_tree(huffman_tree)\r\n",
    "\r\n",
    "code_list = list(map(lambda node: [node.get('name', None), put_code(node)], list_of_nodes))\r\n",
    "code_dict = dict(code_list)\r\n",
    "\r\n",
    "print('\\nCode dictionary:')\r\n",
    "[print(f'{k} : {v}') for k, v in code_dict.items()]\r\n",
    "\r\n",
    "code_list_expanded = [*map(lambda x: [x[0], x[1], len(x[1]), frequency_table.get(x[0]), frequency_table.get(x[0]) * len(x[1])], code_list)]\r\n",
    "print('\\nCode list expanded:')\r\n",
    "[print(*x) for x in code_list_expanded]\r\n",
    "\r\n",
    "num_keys = len(code_list)\r\n",
    "num_bits_per_key_with_fixed_encoding = ceil(log2(num_keys))\r\n",
    "total_bits_encoded_with_huffman_encoding = 0\r\n",
    "total_bits_encoded_with_fixed_encoding = 0\r\n",
    "\r\n",
    "for key in frequency_table.keys():\r\n",
    "  freq = frequency_table[key]\r\n",
    "  total_bits_encoded_with_huffman_encoding += freq * len(code_dict[key])\r\n",
    "  total_bits_encoded_with_fixed_encoding += freq * num_bits_per_key_with_fixed_encoding\r\n",
    "\r\n",
    "compression_ratio = calculate_compression_ratio(total_bits_encoded_with_fixed_encoding, total_bits_encoded_with_huffman_encoding)\r\n",
    "print(f'\\nCompression ratio: {compression_ratio:.2f}')"
   ],
   "outputs": [],
   "metadata": {
    "id": "QKNzFB2MOMXz"
   }
  },
  {
   "cell_type": "code",
   "execution_count": null,
   "source": [
    "#@title Define ```state_cities_dict``` {display-mode: \"form\"}\r\n",
    "#\r\n",
    "#          /---------------------------------------------\\\r\n",
    "##########| Some (but NOT ALL) cities in the 50 US states |##########\r\n",
    "#          \\---------------------------------------------/\r\n",
    "#\r\n",
    "state_cities_dict = {'ALABAMA': ['ALEXANDER CITY', 'ANDALUSIA', 'ANNISTON', 'ATHENS', 'ATMORE', 'AUBURN', 'BESSEMER', 'BIRMINGHAM', 'CHICKASAW', 'CLANTON', 'CULLMAN', 'DECATUR', 'DEMOPOLIS', 'DOTHAN', 'ENTERPRISE', 'EUFAULA', 'FLORENCE', 'FORT PAYNE', 'GADSDEN', 'GREENVILLE', 'GUNTERSVILLE', 'HUNTSVILLE', 'JASPER', 'MARION', 'MOBILE', 'MONTGOMERY', 'OPELIKA', 'OZARK', 'PHENIX CITY', 'PRICHARD', 'SCOTTSBORO', 'SELMA', 'SHEFFIELD', 'SYLACAUGA', 'TALLADEGA', 'TROY', 'TUSCALOOSA', 'TUSCUMBIA', 'TUSKEGEE'],\r\n",
    "'ALASKA': ['ANCHORAGE', 'CORDOVA', 'FAIRBANKS', 'HAINES', 'HOMER', 'JUNEAU', 'KETCHIKAN', 'KODIAK', 'KOTZEBUE', 'NOME', 'PALMER', 'SEWARD', 'SITKA', 'SKAGWAY', 'VALDEZ'],\r\n",
    "'ARIZONA': ['AJO', 'AVONDALE', 'BISBEE', 'CASA GRANDE', 'CHANDLER', 'CLIFTON', 'DOUGLAS', 'FLAGSTAFF', 'FLORENCE', 'GILA BEND', 'GLENDALE', 'GLOBE', 'KINGMAN', 'LAKE HAVASU CITY', 'MESA', 'NOGALES', 'ORAIBI', 'PHOENIX', 'PRESCOTT', 'SCOTTSDALE', 'SIERRA VISTA', 'TEMPE', 'TOMBSTONE', 'TUCSON', 'WALPI', 'WINDOW ROCK', 'WINSLOW', 'YUMA'],\r\n",
    "'ARKANSAS': ['ARKADELPHIA', 'ARKANSAS POST', 'BATESVILLE', 'BENTON', 'BLYTHEVILLE', 'CAMDEN', 'CONWAY', 'CROSSETT', 'EL DORADO', 'FAYETTEVILLE', 'FORREST CITY', 'FORT SMITH', 'HARRISON', 'HELENA', 'HOPE', 'HOT SPRINGS', 'JACKSONVILLE', 'JONESBORO', 'LITTLE ROCK', 'MAGNOLIA', 'MORRILTON', 'NEWPORT', 'NORTH LITTLE ROCK', 'OSCEOLA', 'PINE BLUFF', 'ROGERS', 'SEARCY', 'STUTTGART', 'VAN BUREN', 'WEST MEMPHIS'],\r\n",
    "'CALIFORNIA': ['ALAMEDA', 'ALHAMBRA', 'ANAHEIM', 'ANTIOCH', 'ARCADIA', 'BAKERSFIELD', 'BARSTOW', 'BELMONT', 'BERKELEY', 'BEVERLY HILLS', 'BREA', 'BUENA PARK', 'BURBANK', 'CALEXICO', 'CALISTOGA', 'CARLSBAD', 'CARMEL', 'CHICO', 'CHULA VISTA', 'CLAREMONT', 'COMPTON', 'CONCORD', 'CORONA', 'CORONADO', 'COSTA MESA', 'CULVER CITY', 'DALY CITY', 'DAVIS', 'DOWNEY', 'EL CENTRO', 'EL CERRITO', 'EL MONTE', 'ESCONDIDO', 'EUREKA', 'FAIRFIELD', 'FONTANA', 'FREMONT', 'FRESNO', 'FULLERTON', 'GARDEN GROVE', 'GLENDALE', 'HAYWARD', 'HOLLYWOOD', 'HUNTINGTON BEACH', 'INDIO', 'INGLEWOOD', 'IRVINE', 'LA HABRA', 'LAGUNA BEACH', 'LANCASTER', 'LIVERMORE', 'LODI', 'LOMPOC', 'LONG BEACH', 'LOS ANGELES', 'MALIBU', 'MARTINEZ', 'MARYSVILLE', 'MENLO PARK', 'MERCED', 'MODESTO', 'MONTEREY', 'MOUNTAIN VIEW', 'NAPA', 'NEEDLES', 'NEWPORT BEACH', 'NORWALK', 'NOVATO', 'OAKLAND', 'OCEANSIDE', 'OJAI', 'ONTARIO', 'ORANGE', 'OROVILLE', 'OXNARD', 'PACIFIC GROVE', 'PALM SPRINGS', 'PALMDALE', 'PALO ALTO', 'PASADENA', 'PETALUMA', 'POMONA', 'PORT HUENEME', 'RANCHO CUCAMONGA', 'RED BLUFF', 'REDDING', 'REDLANDS', 'REDONDO BEACH', 'REDWOOD CITY', 'RICHMOND', 'RIVERSIDE', 'ROSEVILLE', 'SACRAMENTO', 'SALINAS', 'SAN BERNARDINO', 'SAN CLEMENTE', 'SAN DIEGO', 'SAN FERNANDO', 'SAN FRANCISCO', 'SAN GABRIEL', 'SAN JOSE', 'SAN JUAN CAPISTRANO', 'SAN LEANDRO', 'SAN LUIS OBISPO', 'SAN MARINO', 'SAN MATEO', 'SAN PEDRO', 'SAN RAFAEL', 'SAN SIMEON', 'SANTA ANA', 'SANTA BARBARA', 'SANTA CLARA', 'SANTA CLARITA', 'SANTA CRUZ', 'SANTA MONICA', 'SANTA ROSA', 'SAUSALITO', 'SIMI VALLEY', 'SONOMA', 'SOUTH SAN FRANCISCO', 'STOCKTON', 'SUNNYVALE', 'SUSANVILLE', 'THOUSAND OAKS', 'TORRANCE', 'TURLOCK', 'UKIAH', 'VALLEJO', 'VENTURA', 'VICTORVILLE', 'VISALIA', 'WALNUT CREEK', 'WATTS', 'WEST COVINA', 'WHITTIER', 'WOODLAND', 'YORBA LINDA', 'YUBA CITY'],\r\n",
    "'COLORADO': ['ALAMOSA', 'ASPEN', 'AURORA', 'BOULDER', 'BRECKENRIDGE', 'BRIGHTON', 'CANON CITY', 'CENTRAL CITY', 'CLIMAX', 'COLORADO SPRINGS', 'CORTEZ', 'CRIPPLE CREEK', 'DENVER', 'DURANGO', 'ENGLEWOOD', 'ESTES PARK', 'FORT COLLINS', 'FORT MORGAN', 'GEORGETOWN', 'GLENWOOD SPRINGS', 'GOLDEN', 'GRAND JUNCTION', 'GREELEY', 'GUNNISON', 'LA JUNTA', 'LEADVILLE', 'LITTLETON', 'LONGMONT', 'LOVELAND', 'MONTROSE', 'OURAY', 'PAGOSA SPRINGS', 'PUEBLO', 'SILVERTON', 'STEAMBOAT SPRINGS', 'STERLING', 'TELLURIDE', 'TRINIDAD', 'VAIL', 'WALSENBURG', 'WESTMINSTER'],\r\n",
    "'CONNECTICUT': ['ANSONIA', 'BERLIN', 'BLOOMFIELD', 'BRANFORD', 'BRIDGEPORT', 'BRISTOL', 'COVENTRY', 'DANBURY', 'DARIEN', 'DERBY', 'EAST HARTFORD', 'EAST HAVEN', 'ENFIELD', 'FAIRFIELD', 'FARMINGTON', 'GREENWICH', 'GROTON', 'GUILFORD', 'HAMDEN', 'HARTFORD', 'LEBANON', 'LITCHFIELD', 'MANCHESTER', 'MANSFIELD', 'MERIDEN', 'MIDDLETOWN', 'MILFORD', 'MYSTIC', 'NAUGATUCK', 'NEW BRITAIN', 'NEW HAVEN', 'NEW LONDON', 'NORTH HAVEN', 'NORWALK', 'NORWICH', 'OLD SAYBROOK', 'ORANGE', 'SEYMOUR', 'SHELTON', 'SIMSBURY', 'SOUTHINGTON', 'STAMFORD', 'STONINGTON', 'STRATFORD', 'TORRINGTON', 'WALLINGFORD', 'WATERBURY', 'WATERFORD', 'WATERTOWN', 'WEST HARTFORD', 'WEST HAVEN', 'WESTPORT', 'WETHERSFIELD', 'WILLIMANTIC', 'WINDHAM', 'WINDSOR', 'WINDSOR LOCKS', 'WINSTED'],\r\n",
    "'DELAWARE': ['DOVER', 'LEWES', 'MILFORD', 'NEW CASTLE', 'NEWARK', 'SMYRNA', 'WILMINGTON'],\r\n",
    "'FLORIDA': ['APALACHICOLA', 'BARTOW', 'BELLE GLADE', 'BOCA RATON', 'BRADENTON', 'CAPE CORAL', 'CLEARWATER', 'COCOA BEACH', 'COCOA ROCKLEDGE', 'CORAL GABLES', 'DAYTONA BEACH', 'DE LAND', 'DEERFIELD BEACH', 'DELRAY BEACH', 'FERNANDINA BEACH', 'FORT LAUDERDALE', 'FORT MYERS', 'FORT PIERCE', 'FORT WALTON BEACH', 'GAINESVILLE', 'HALLANDALE BEACH', 'HIALEAH', 'HOLLYWOOD', 'HOMESTEAD', 'JACKSONVILLE', 'KEY WEST', 'LAKE CITY', 'LAKE WALES', 'LAKELAND', 'LARGO', 'MELBOURNE', 'MIAMI', 'MIAMI BEACH', 'NAPLES', 'NEW SMYRNA BEACH', 'OCALA', 'ORLANDO', 'ORMOND BEACH', 'PALATKA', 'PALM BAY', 'PALM BEACH', 'PANAMA CITY', 'PENSACOLA', 'POMPANO BEACH', 'SAINT AUGUSTINE', 'SAINT PETERSBURG', 'SANFORD', 'SARASOTA', 'SEBRING', 'TALLAHASSEE', 'TAMPA', 'TARPON SPRINGS', 'TITUSVILLE', 'VENICE', 'WEST PALM BEACH', 'WHITE SPRINGS', 'WINTER HAVEN', 'WINTER PARK'],\r\n",
    "'GEORGIA': ['ALBANY', 'AMERICUS', 'ANDERSONVILLE', 'ATHENS', 'ATLANTA', 'AUGUSTA', 'BAINBRIDGE', 'BLAIRSVILLE', 'BRUNSWICK', 'CALHOUN', 'CARROLLTON', 'COLUMBUS', 'DAHLONEGA', 'DALTON', 'DARIEN', 'DECATUR', 'DOUGLAS', 'EAST POINT', 'FITZGERALD', 'FORT VALLEY', 'GAINESVILLE', 'LA GRANGE', 'MACON', 'MARIETTA', 'MILLEDGEVILLE', 'PLAINS', 'ROME', 'SAVANNAH', 'TOCCOA', 'VALDOSTA', 'WARM SPRINGS', 'WARNER ROBINS', 'WASHINGTON', 'WAYCROSS'],\r\n",
    "'HAWAII': ['HANALEI', 'HILO', 'HONAUNAU', 'HONOLULU', 'KAHULUI', 'KANEOHE', 'KAPAA', 'KAWAIHAE', 'LAHAINA', 'LAIE', 'WAHIAWA', 'WAILUKU', 'WAIMEA'],\r\n",
    "'IDAHO': ['BLACKFOOT', 'BOISE', 'BONNERS FERRY', 'CALDWELL', 'COEUR D ALENE', 'IDAHO CITY', 'IDAHO FALLS', 'KELLOGG', 'LEWISTON', 'MOSCOW', 'NAMPA', 'POCATELLO', 'PRIEST RIVER', 'REXBURG', 'SUN VALLEY', 'TWIN FALLS'],\r\n",
    "'ILLINOIS': ['ALTON', 'ARLINGTON HEIGHTS', 'ARTHUR', 'AURORA', 'BELLEVILLE', 'BELVIDERE', 'BLOOMINGTON', 'BROOKFIELD', 'CAHOKIA', 'CAIRO', 'CALUMET CITY', 'CANTON', 'CARBONDALE', 'CARLINVILLE', 'CARTHAGE', 'CENTRALIA', 'CHAMPAIGN', 'CHARLESTON', 'CHESTER', 'CHICAGO', 'CHICAGO HEIGHTS', 'CICERO', 'COLLINSVILLE', 'DANVILLE', 'DECATUR', 'DEKALB', 'DES PLAINES', 'DIXON', 'EAST MOLINE', 'EAST SAINT LOUIS', 'EFFINGHAM', 'ELGIN', 'ELMHURST', 'EVANSTON', 'FREEPORT', 'GALENA', 'GALESBURG', 'GLEN ELLYN', 'GLENVIEW', 'GRANITE CITY', 'HARRISBURG', 'HERRIN', 'HIGHLAND PARK', 'JACKSONVILLE', 'JOLIET', 'KANKAKEE', 'KASKASKIA', 'KEWANEE', 'LA SALLE', 'LAKE FOREST', 'LIBERTYVILLE', 'LINCOLN', 'LISLE', 'LOMBARD', 'MACOMB', 'MATTOON', 'MOLINE', 'MONMOUTH', 'MOUNT VERNON', 'MUNDELEIN', 'NAPERVILLE', 'NAUVOO', 'NORMAL', 'NORTH CHICAGO', 'OAK PARK', 'OREGON', 'OTTAWA', 'PALATINE', 'PARK FOREST', 'PARK RIDGE', 'PEKIN', 'PEORIA', 'PETERSBURG', 'PONTIAC', 'QUINCY', 'RANTOUL', 'RIVER FOREST', 'ROCK ISLAND', 'ROCKFORD', 'SALEM', 'SHAWNEETOWN', 'SKOKIE', 'SOUTH HOLLAND', 'SPRINGFIELD', 'STREATOR', 'SUMMIT', 'URBANA', 'VANDALIA', 'VIRDEN', 'WAUKEGAN', 'WHEATON', 'WILMETTE', 'WINNETKA', 'WOOD RIVER', 'ZION'],\r\n",
    "'INDIANA': ['ANDERSON', 'BEDFORD', 'BLOOMINGTON', 'COLUMBUS', 'CONNERSVILLE', 'CORYDON', 'CRAWFORDSVILLE', 'EAST CHICAGO', 'ELKHART', 'ELWOOD', 'EVANSVILLE', 'FORT WAYNE', 'FRENCH LICK', 'GARY', 'GENEVA', 'GOSHEN', 'GREENFIELD', 'HAMMOND', 'HOBART', 'HUNTINGTON', 'INDIANAPOLIS', 'JEFFERSONVILLE', 'KOKOMO', 'LAFAYETTE', 'MADISON', 'MARION', 'MICHIGAN CITY', 'MISHAWAKA', 'MUNCIE', 'NAPPANEE', 'NASHVILLE', 'NEW ALBANY', 'NEW CASTLE', 'NEW HARMONY', 'PERU', 'PLYMOUTH', 'RICHMOND', 'SANTA CLAUS', 'SHELBYVILLE', 'SOUTH BEND', 'TERRE HAUTE', 'VALPARAISO', 'VINCENNES', 'WABASH', 'WEST LAFAYETTE'],\r\n",
    "'IOWA': ['AMANA COLONIES', 'AMES', 'BOONE', 'BURLINGTON', 'CEDAR FALLS', 'CEDAR RAPIDS', 'CHARLES CITY', 'CHEROKEE', 'CLINTON', 'COUNCIL BLUFFS', 'DAVENPORT', 'DES MOINES', 'DUBUQUE', 'ESTHERVILLE', 'FAIRFIELD', 'FORT DODGE', 'GRINNELL', 'INDIANOLA', 'IOWA CITY', 'KEOKUK', 'MASON CITY', 'MOUNT PLEASANT', 'MUSCATINE', 'NEWTON', 'OSKALOOSA', 'OTTUMWA', 'SIOUX CITY', 'WATERLOO', 'WEBSTER CITY', 'WEST DES MOINES'],\r\n",
    "'KANSAS': ['ABILENE', 'ARKANSAS CITY', 'ATCHISON', 'CHANUTE', 'COFFEYVILLE', 'COUNCIL GROVE', 'DODGE CITY', 'EMPORIA', 'FORT SCOTT', 'GARDEN CITY', 'GREAT BEND', 'HAYS', 'HUTCHINSON', 'INDEPENDENCE', 'JUNCTION CITY', 'KANSAS CITY', 'LAWRENCE', 'LEAVENWORTH', 'LIBERAL', 'MANHATTAN', 'MCPHERSON', 'MEDICINE LODGE', 'NEWTON', 'OLATHE', 'OSAWATOMIE', 'OTTAWA', 'OVERLAND PARK', 'PITTSBURG', 'SALINA', 'SHAWNEE', 'SMITH CENTER', 'TOPEKA', 'WICHITA'],\r\n",
    "'KENTUCKY': ['ASHLAND', 'BARBOURVILLE', 'BARDSTOWN', 'BEREA', 'BOONESBOROUGH', 'BOWLING GREEN', 'CAMPBELLSVILLE', 'COVINGTON', 'DANVILLE', 'ELIZABETHTOWN', 'FRANKFORT', 'HARLAN', 'HARRODSBURG', 'HAZARD', 'HENDERSON', 'HODGENVILLE', 'HOPKINSVILLE', 'LEXINGTON', 'LOUISVILLE', 'MAYFIELD', 'MAYSVILLE', 'MIDDLESBORO', 'NEWPORT', 'OWENSBORO', 'PADUCAH', 'PARIS', 'RICHMOND'],\r\n",
    "'LOUISIANA': ['ABBEVILLE', 'ALEXANDRIA', 'BASTROP', 'BATON ROUGE', 'BOGALUSA', 'BOSSIER CITY', 'GRETNA', 'HOUMA', 'LAFAYETTE', 'LAKE CHARLES', 'MONROE', 'MORGAN CITY', 'NATCHITOCHES', 'NEW IBERIA', 'NEW ORLEANS', 'OPELOUSAS', 'RUSTON', 'SAINT MARTINVILLE', 'SHREVEPORT', 'THIBODAUX'],\r\n",
    "'MAINE': ['AUBURN', 'AUGUSTA', 'BANGOR', 'BAR HARBOR', 'BATH', 'BELFAST', 'BIDDEFORD', 'BOOTHBAY HARBOR', 'BRUNSWICK', 'CALAIS', 'CARIBOU', 'CASTINE', 'EASTPORT', 'ELLSWORTH', 'FARMINGTON', 'FORT KENT', 'GARDINER', 'HOULTON', 'KENNEBUNKPORT', 'KITTERY', 'LEWISTON', 'LUBEC', 'MACHIAS', 'ORONO', 'PORTLAND', 'PRESQUE ISLE', 'ROCKLAND', 'RUMFORD', 'SACO', 'SCARBOROUGH', 'WATERVILLE', 'YORK'],\r\n",
    "'MARYLAND': ['ABERDEEN', 'ANNAPOLIS', 'BALTIMORE', 'BETHESDA CHEVY CHASE', 'BOWIE', 'CAMBRIDGE', 'CATONSVILLE', 'COLLEGE PARK', 'COLUMBIA', 'CUMBERLAND', 'EASTON', 'ELKTON', 'EMMITSBURG', 'FREDERICK', 'GREENBELT', 'HAGERSTOWN', 'HYATTSVILLE', 'LAUREL', 'OAKLAND', 'OCEAN CITY', 'ROCKVILLE', 'SAINT MARYS CITY', 'SALISBURY', 'SILVER SPRING', 'TAKOMA PARK', 'TOWSON', 'WESTMINSTER'],\r\n",
    "'MASSACHUSETTS': ['ABINGTON', 'ADAMS', 'AMESBURY', 'AMHERST', 'ANDOVER', 'ARLINGTON', 'ATHOL', 'ATTLEBORO', 'BARNSTABLE', 'BEDFORD', 'BEVERLY', 'BOSTON', 'BOURNE', 'BRAINTREE', 'BROCKTON', 'BROOKLINE', 'CAMBRIDGE', 'CANTON', 'CHARLESTOWN', 'CHELMSFORD', 'CHELSEA', 'CHICOPEE', 'CLINTON', 'COHASSET', 'CONCORD', 'DANVERS', 'DARTMOUTH', 'DEDHAM', 'DENNIS', 'DUXBURY', 'EASTHAM', 'EDGARTOWN', 'EVERETT', 'FAIRHAVEN', 'FALL RIVER', 'FALMOUTH', 'FITCHBURG', 'FRAMINGHAM', 'GLOUCESTER', 'GREAT BARRINGTON', 'GREENFIELD', 'GROTON', 'HARWICH', 'HAVERHILL', 'HINGHAM', 'HOLYOKE', 'HYANNIS', 'IPSWICH', 'LAWRENCE', 'LENOX', 'LEOMINSTER', 'LEXINGTON', 'LOWELL', 'LUDLOW', 'LYNN', 'MALDEN', 'MARBLEHEAD', 'MARLBOROUGH', 'MEDFORD', 'MILTON', 'NAHANT', 'NATICK', 'NEW BEDFORD', 'NEWBURYPORT', 'NEWTON', 'NORTH ADAMS', 'NORTHAMPTON', 'NORTON', 'NORWOOD', 'PEABODY', 'PITTSFIELD', 'PLYMOUTH', 'PROVINCETOWN', 'QUINCY', 'RANDOLPH', 'REVERE', 'SALEM', 'SANDWICH', 'SAUGUS', 'SOMERVILLE', 'SOUTH HADLEY', 'SPRINGFIELD', 'STOCKBRIDGE', 'STOUGHTON', 'STURBRIDGE', 'SUDBURY', 'TAUNTON', 'TEWKSBURY', 'TRURO', 'WATERTOWN', 'WEBSTER', 'WELLESLEY', 'WELLFLEET', 'WEST BRIDGEWATER', 'WEST SPRINGFIELD', 'WESTFIELD', 'WEYMOUTH', 'WHITMAN', 'WILLIAMSTOWN', 'WOBURN', 'WOODS HOLE', 'WORCESTER'],\r\n",
    "'MICHIGAN': ['ADRIAN', 'ALMA', 'ANN ARBOR', 'BATTLE CREEK', 'BAY CITY', 'BENTON HARBOR', 'BLOOMFIELD HILLS', 'CADILLAC', 'CHARLEVOIX', 'CHEBOYGAN', 'DEARBORN', 'DETROIT', 'EAST LANSING', 'EASTPOINTE', 'ECORSE', 'ESCANABA', 'FLINT', 'GRAND HAVEN', 'GRAND RAPIDS', 'GRAYLING', 'GROSSE POINTE', 'HANCOCK', 'HIGHLAND PARK', 'HOLLAND', 'HOUGHTON', 'INTERLOCHEN', 'IRON MOUNTAIN', 'IRONWOOD', 'ISHPEMING', 'JACKSON', 'KALAMAZOO', 'LANSING', 'LIVONIA', 'LUDINGTON', 'MACKINAW CITY', 'MANISTEE', 'MARQUETTE', 'MENOMINEE', 'MIDLAND', 'MONROE', 'MOUNT CLEMENS', 'MOUNT PLEASANT', 'MUSKEGON', 'NILES', 'PETOSKEY', 'PONTIAC', 'PORT HURON', 'ROYAL OAK', 'SAGINAW', 'SAINT IGNACE', 'SAINT JOSEPH', 'SAULT SAINTE MARIE', 'TRAVERSE CITY', 'TRENTON', 'WARREN', 'WYANDOTTE', 'YPSILANTI'],\r\n",
    "'MINNESOTA': ['ALBERT LEA', 'ALEXANDRIA', 'AUSTIN', 'BEMIDJI', 'BLOOMINGTON', 'BRAINERD', 'CROOKSTON', 'DULUTH', 'ELY', 'EVELETH', 'FARIBAULT', 'FERGUS FALLS', 'HASTINGS', 'HIBBING', 'INTERNATIONAL FALLS', 'LITTLE FALLS', 'MANKATO', 'MINNEAPOLIS', 'MOORHEAD', 'NEW ULM', 'NORTHFIELD', 'OWATONNA', 'PIPESTONE', 'RED WING', 'ROCHESTER', 'SAINT CLOUD', 'SAINT PAUL', 'SAUK CENTRE', 'SOUTH SAINT PAUL', 'STILLWATER', 'VIRGINIA', 'WILLMAR', 'WINONA'],\r\n",
    "'MISSISSIPPI': ['BAY SAINT LOUIS', 'BILOXI', 'CANTON', 'CLARKSDALE', 'COLUMBIA', 'COLUMBUS', 'CORINTH', 'GREENVILLE', 'GREENWOOD', 'GRENADA', 'GULFPORT', 'HATTIESBURG', 'HOLLY SPRINGS', 'JACKSON', 'LAUREL', 'MERIDIAN', 'NATCHEZ', 'OCEAN SPRINGS', 'OXFORD', 'PASCAGOULA', 'PASS CHRISTIAN', 'PHILADELPHIA', 'PORT GIBSON', 'STARKVILLE', 'TUPELO', 'VICKSBURG', 'WEST POINT', 'YAZOO CITY'],\r\n",
    "'MISSOURI': ['BOONVILLE', 'BRANSON', 'CAPE GIRARDEAU', 'CARTHAGE', 'CHILLICOTHE', 'CLAYTON', 'COLUMBIA', 'EXCELSIOR SPRINGS', 'FERGUSON', 'FLORISSANT', 'FULTON', 'HANNIBAL', 'INDEPENDENCE', 'JEFFERSON CITY', 'JOPLIN', 'KANSAS CITY', 'KIRKSVILLE', 'LAMAR', 'LEBANON', 'LEXINGTON', 'MARYVILLE', 'MEXICO', 'MONETT', 'NEOSHO', 'NEW MADRID', 'ROLLA', 'SAINT CHARLES', 'SAINT JOSEPH', 'SAINT LOUIS', 'SAINTE GENEVIEVE', 'SALEM', 'SEDALIA', 'SPRINGFIELD', 'WARRENSBURG', 'WEST PLAINS'],\r\n",
    "'MONTANA': ['ANACONDA', 'BILLINGS', 'BOZEMAN', 'BUTTE', 'DILLON', 'FORT BENTON', 'GLENDIVE', 'GREAT FALLS', 'HAVRE', 'HELENA', 'KALISPELL', 'LEWISTOWN', 'LIVINGSTON', 'MILES CITY', 'MISSOULA', 'VIRGINIA CITY'],\r\n",
    "'NEBRASKA': ['BEATRICE', 'BELLEVUE', 'BOYS TOWN', 'CHADRON', 'COLUMBUS', 'FREMONT', 'GRAND ISLAND', 'HASTINGS', 'KEARNEY', 'LINCOLN', 'MCCOOK', 'MINDEN', 'NEBRASKA CITY', 'NORFOLK', 'NORTH PLATTE', 'OMAHA', 'PLATTSMOUTH', 'RED CLOUD', 'SIDNEY'],\r\n",
    "'NEVADA': ['BOULDER CITY', 'CARSON CITY', 'ELKO', 'ELY', 'FALLON', 'GENOA', 'GOLDFIELD', 'HENDERSON', 'LAS VEGAS', 'NORTH LAS VEGAS', 'RENO', 'SPARKS', 'VIRGINIA CITY', 'WINNEMUCCA'],\r\n",
    "'NEW HAMPSHIRE': ['BERLIN', 'CLAREMONT', 'CONCORD', 'DERRY', 'DOVER', 'DURHAM', 'EXETER', 'FRANKLIN', 'HANOVER', 'HILLSBOROUGH', 'KEENE', 'LACONIA', 'LEBANON', 'MANCHESTER', 'NASHUA', 'PETERBOROUGH', 'PLYMOUTH', 'PORTSMOUTH', 'ROCHESTER', 'SALEM', 'SOMERSWORTH'],\r\n",
    "'NEW JERSEY': ['ASBURY PARK', 'ATLANTIC CITY', 'BAYONNE', 'BLOOMFIELD', 'BORDENTOWN', 'BOUND BROOK', 'BRIDGETON', 'BURLINGTON', 'CALDWELL', 'CAMDEN', 'CAPE MAY', 'CLIFTON', 'CRANFORD', 'EAST ORANGE', 'EDISON', 'ELIZABETH', 'ENGLEWOOD', 'FORT LEE', 'GLASSBORO', 'HACKENSACK', 'HADDONFIELD', 'HOBOKEN', 'IRVINGTON', 'JERSEY CITY', 'LAKEHURST', 'LAKEWOOD', 'LONG BEACH', 'LONG BRANCH', 'MADISON', 'MENLO PARK', 'MILLBURN', 'MILLVILLE', 'MONTCLAIR', 'MORRISTOWN', 'MOUNT HOLLY', 'NEW BRUNSWICK', 'NEW MILFORD', 'NEWARK', 'OCEAN CITY', 'ORANGE', 'PARSIPPANY TROY HILLS', 'PASSAIC', 'PATERSON', 'PERTH AMBOY', 'PLAINFIELD', 'PRINCETON', 'RIDGEWOOD', 'ROSELLE', 'RUTHERFORD', 'SALEM', 'SOMERVILLE', 'SOUTH ORANGE VILLAGE', 'TOTOWA', 'TRENTON', 'UNION', 'UNION CITY', 'VINELAND', 'WAYNE', 'WEEHAWKEN', 'WEST NEW YORK', 'WEST ORANGE', 'WILLINGBORO', 'WOODBRIDGE'],\r\n",
    "'NEW MEXICO': ['ACOMA', 'ALAMOGORDO', 'ALBUQUERQUE', 'ARTESIA', 'BELEN', 'CARLSBAD', 'CLOVIS', 'DEMING', 'FARMINGTON', 'GALLUP', 'GRANTS', 'HOBBS', 'LAS CRUCES', 'LAS VEGAS', 'LOS ALAMOS', 'LOVINGTON', 'PORTALES', 'RATON', 'ROSWELL', 'SANTA FE', 'SHIPROCK', 'SILVER CITY', 'SOCORRO', 'TAOS', 'TRUTH OR CONSEQUENCES', 'TUCUMCARI'],\r\n",
    "'NEW YORK': ['ALBANY', 'AMSTERDAM', 'AUBURN', 'BABYLON', 'BATAVIA', 'BEACON', 'BEDFORD', 'BINGHAMTON', 'BRONX', 'BROOKLYN', 'BUFFALO', 'CHAUTAUQUA', 'CHEEKTOWAGA', 'CLINTON', 'COHOES', 'CONEY ISLAND', 'COOPERSTOWN', 'CORNING', 'CORTLAND', 'CROWN POINT', 'DUNKIRK', 'EAST AURORA', 'EAST HAMPTON', 'EASTCHESTER', 'ELMIRA', 'FLUSHING', 'FOREST HILLS', 'FREDONIA', 'GARDEN CITY', 'GENEVA', 'GLENS FALLS', 'GLOVERSVILLE', 'GREAT NECK', 'HAMMONDSPORT', 'HARLEM', 'HEMPSTEAD', 'HERKIMER', 'HUDSON', 'HUNTINGTON', 'HYDE PARK', 'ILION', 'ITHACA', 'JAMESTOWN', 'JOHNSTOWN', 'KINGSTON', 'LACKAWANNA', 'LAKE PLACID', 'LEVITTOWN', 'LOCKPORT', 'MAMARONECK', 'MANHATTAN', 'MASSENA', 'MIDDLETOWN', 'MINEOLA', 'MOUNT VERNON', 'NEW PALTZ', 'NEW ROCHELLE', 'NEW WINDSOR', 'NEW YORK CITY', 'NEWBURGH', 'NIAGARA FALLS', 'NORTH HEMPSTEAD', 'NYACK', 'OGDENSBURG', 'OLEAN', 'ONEIDA', 'ONEONTA', 'OSSINING', 'OSWEGO', 'OYSTER BAY', 'PALMYRA', 'PEEKSKILL', 'PLATTSBURGH', 'PORT WASHINGTON', 'POTSDAM', 'POUGHKEEPSIE', 'QUEENS', 'RENSSELAER', 'ROCHESTER', 'ROME', 'ROTTERDAM', 'RYE', 'SAG HARBOR', 'SARANAC LAKE', 'SARATOGA SPRINGS', 'SCARSDALE', 'SCHENECTADY', 'SENECA FALLS', 'SOUTHAMPTON', 'STATEN ISLAND', 'STONY BROOK', 'STONY POINT', 'SYRACUSE', 'TARRYTOWN', 'TICONDEROGA', 'TONAWANDA', 'TROY', 'UTICA', 'WATERTOWN', 'WATERVLIET', 'WATKINS GLEN', 'WEST SENECA', 'WHITE PLAINS', 'WOODSTOCK', 'YONKERS'],\r\n",
    "'NORTH CAROLINA': ['ASHEBORO', 'ASHEVILLE', 'BATH', 'BEAUFORT', 'BOONE', 'BURLINGTON', 'CHAPEL HILL', 'CHARLOTTE', 'CONCORD', 'DURHAM', 'EDENTON', 'ELIZABETH CITY', 'FAYETTEVILLE', 'GASTONIA', 'GOLDSBORO', 'GREENSBORO', 'GREENVILLE', 'HALIFAX', 'HENDERSON', 'HICKORY', 'HIGH POINT', 'HILLSBOROUGH', 'JACKSONVILLE', 'KINSTON', 'KITTY HAWK', 'LUMBERTON', 'MOREHEAD CITY', 'MORGANTON', 'NAGS HEAD', 'NEW BERN', 'PINEHURST', 'RALEIGH', 'ROCKY MOUNT', 'SALISBURY', 'SHELBY', 'WASHINGTON', 'WILMINGTON', 'WILSON', 'WINSTON SALEM'],\r\n",
    "'NORTH DAKOTA': ['BISMARCK', 'DEVILS LAKE', 'DICKINSON', 'FARGO', 'GRAND FORKS', 'JAMESTOWN', 'MANDAN', 'MINOT', 'RUGBY', 'VALLEY CITY', 'WAHPETON', 'WILLISTON'],\r\n",
    "'OHIO': ['AKRON', 'ALLIANCE', 'ASHTABULA', 'ATHENS', 'BARBERTON', 'BEDFORD', 'BELLEFONTAINE', 'BOWLING GREEN', 'CANTON', 'CHILLICOTHE', 'CINCINNATI', 'CLEVELAND', 'CLEVELAND HEIGHTS', 'COLUMBUS', 'CONNEAUT', 'CUYAHOGA FALLS', 'DAYTON', 'DEFIANCE', 'DELAWARE', 'EAST CLEVELAND', 'EAST LIVERPOOL', 'ELYRIA', 'EUCLID', 'FINDLAY', 'GALLIPOLIS', 'GREENVILLE', 'HAMILTON', 'KENT', 'KETTERING', 'LAKEWOOD', 'LANCASTER', 'LIMA', 'LORAIN', 'MANSFIELD', 'MARIETTA', 'MARION', 'MARTINS FERRY', 'MASSILLON', 'MENTOR', 'MIDDLETOWN', 'MILAN', 'MOUNT VERNON', 'NEW PHILADELPHIA', 'NEWARK', 'NILES', 'NORTH COLLEGE HILL', 'NORWALK', 'OBERLIN', 'PAINESVILLE', 'PARMA', 'PIQUA', 'PORTSMOUTH', 'PUT IN BAY', 'SALEM', 'SANDUSKY', 'SHAKER HEIGHTS', 'SPRINGFIELD', 'STEUBENVILLE', 'TIFFIN', 'TOLEDO', 'URBANA', 'WARREN', 'WOOSTER', 'WORTHINGTON', 'XENIA', 'YELLOW SPRINGS', 'YOUNGSTOWN', 'ZANESVILLE'],\r\n",
    "'OKLAHOMA': ['ADA', 'ALTUS', 'ALVA', 'ANADARKO', 'ARDMORE', 'BARTLESVILLE', 'BETHANY', 'CHICKASHA', 'CLAREMORE', 'CLINTON', 'CUSHING', 'DUNCAN', 'DURANT', 'EDMOND', 'EL RENO', 'ELK CITY', 'ENID', 'EUFAULA', 'FREDERICK', 'GUTHRIE', 'GUYMON', 'HOBART', 'HOLDENVILLE', 'HUGO', 'LAWTON', 'MCALESTER', 'MIAMI', 'MIDWEST CITY', 'MOORE', 'MUSKOGEE', 'NORMAN', 'OKLAHOMA CITY', 'OKMULGEE', 'PAULS VALLEY', 'PAWHUSKA', 'PERRY', 'PONCA CITY', 'PRYOR', 'SALLISAW', 'SAND SPRINGS', 'SAPULPA', 'SEMINOLE', 'SHAWNEE', 'STILLWATER', 'TAHLEQUAH', 'THE VILLAGE', 'TULSA', 'VINITA', 'WEWOKA', 'WOODWARD'],\r\n",
    "'OREGON': ['ALBANY', 'ASHLAND', 'ASTORIA', 'BAKER CITY', 'BEAVERTON', 'BEND', 'BROOKINGS', 'BURNS', 'COOS BAY', 'CORVALLIS', 'EUGENE', 'GRANTS PASS', 'HILLSBORO', 'HOOD RIVER', 'JACKSONVILLE', 'JOHN DAY', 'KLAMATH FALLS', 'LA GRANDE', 'LAKE OSWEGO', 'LAKEVIEW', 'MCMINNVILLE', 'MEDFORD', 'NEWBERG', 'NEWPORT', 'ONTARIO', 'OREGON CITY', 'PENDLETON', 'PORT ORFORD', 'PORTLAND', 'PRINEVILLE', 'REDMOND', 'REEDSPORT', 'ROSEBURG', 'SALEM', 'SEASIDE', 'SPRINGFIELD', 'THE DALLES', 'TILLAMOOK'],\r\n",
    "'PENNSYLVANIA': ['ABINGTON', 'ALIQUIPPA', 'ALLENTOWN', 'ALTOONA', 'AMBRIDGE', 'BEDFORD', 'BETHLEHEM', 'BLOOMSBURG', 'BRADFORD', 'BRISTOL', 'CARBONDALE', 'CARLISLE', 'CHAMBERSBURG', 'CHESTER', 'COLUMBIA', 'EASTON', 'ERIE', 'FRANKLIN', 'GERMANTOWN', 'GETTYSBURG', 'GREENSBURG', 'HANOVER', 'HARMONY', 'HARRISBURG', 'HAZLETON', 'HERSHEY', 'HOMESTEAD', 'HONESDALE', 'INDIANA', 'JEANNETTE', 'JIM THORPE', 'JOHNSTOWN', 'LANCASTER', 'LEBANON', 'LEVITTOWN', 'LEWISTOWN', 'LOCK HAVEN', 'LOWER SOUTHAMPTON', 'MCKEESPORT', 'MEADVILLE', 'MIDDLETOWN', 'MONROEVILLE', 'NANTICOKE', 'NEW CASTLE', 'NEW HOPE', 'NEW KENSINGTON', 'NORRISTOWN', 'OIL CITY', 'PHILADELPHIA', 'PHOENIXVILLE', 'PITTSBURGH', 'POTTSTOWN', 'POTTSVILLE', 'READING', 'SCRANTON', 'SHAMOKIN', 'SHARON', 'STATE COLLEGE', 'STROUDSBURG', 'SUNBURY', 'SWARTHMORE', 'TAMAQUA', 'TITUSVILLE', 'UNIONTOWN', 'WARREN', 'WASHINGTON', 'WEST CHESTER', 'WILKES BARRE', 'WILLIAMSPORT', 'YORK'],\r\n",
    "'RHODE ISLAND': ['BARRINGTON', 'BRISTOL', 'CENTRAL FALLS', 'CRANSTON', 'EAST GREENWICH', 'EAST PROVIDENCE', 'KINGSTON', 'MIDDLETOWN', 'NARRAGANSETT', 'NEWPORT', 'NORTH KINGSTOWN', 'PAWTUCKET', 'PORTSMOUTH', 'PROVIDENCE', 'SOUTH KINGSTOWN', 'TIVERTON', 'WARREN', 'WARWICK', 'WESTERLY', 'WICKFORD', 'WOONSOCKET'],\r\n",
    "'SOUTH CAROLINA': ['ABBEVILLE', 'AIKEN', 'ANDERSON', 'BEAUFORT', 'CAMDEN', 'CHARLESTON', 'COLUMBIA', 'DARLINGTON', 'FLORENCE', 'GAFFNEY', 'GEORGETOWN', 'GREENVILLE', 'GREENWOOD', 'HARTSVILLE', 'LANCASTER', 'MOUNT PLEASANT', 'MYRTLE BEACH', 'ORANGEBURG', 'ROCK HILL', 'SPARTANBURG', 'SUMTER', 'UNION'],\r\n",
    "'SOUTH DAKOTA': ['ABERDEEN', 'BELLE FOURCHE', 'BROOKINGS', 'CANTON', 'CUSTER', 'DE SMET', 'DEADWOOD', 'HOT SPRINGS', 'HURON', 'LEAD', 'MADISON', 'MILBANK', 'MITCHELL', 'MOBRIDGE', 'PIERRE', 'RAPID CITY', 'SIOUX FALLS', 'SPEARFISH', 'STURGIS', 'VERMILLION', 'WATERTOWN', 'YANKTON'],\r\n",
    "'TENNESSEE': ['ALCOA', 'ATHENS', 'CHATTANOOGA', 'CLARKSVILLE', 'CLEVELAND', 'COLUMBIA', 'COOKEVILLE', 'DAYTON', 'ELIZABETHTON', 'FRANKLIN', 'GALLATIN', 'GATLINBURG', 'GREENEVILLE', 'JACKSON', 'JOHNSON CITY', 'JONESBOROUGH', 'KINGSPORT', 'KNOXVILLE', 'LEBANON', 'MARYVILLE', 'MEMPHIS', 'MORRISTOWN', 'MURFREESBORO', 'NASHVILLE', 'NORRIS', 'OAK RIDGE', 'SHELBYVILLE', 'TULLAHOMA'],\r\n",
    "'TEXAS': ['ABILENE', 'ALPINE', 'AMARILLO', 'ARLINGTON', 'AUSTIN', 'BAYTOWN', 'BEAUMONT', 'BIG SPRING', 'BORGER', 'BROWNSVILLE', 'BRYAN', 'CANYON', 'CLEBURNE', 'COLLEGE STATION', 'CORPUS CHRISTI', 'CRYSTAL CITY', 'DALLAS', 'DEL RIO', 'DENISON', 'DENTON', 'EAGLE PASS', 'EDINBURG', 'EL PASO', 'FORT WORTH', 'FREEPORT', 'GALVESTON', 'GARLAND', 'GOLIAD', 'GREENVILLE', 'HARLINGEN', 'HOUSTON', 'HUNTSVILLE', 'IRVING', 'JOHNSON CITY', 'KILGORE', 'KILLEEN', 'KINGSVILLE', 'LAREDO', 'LONGVIEW', 'LUBBOCK', 'LUFKIN', 'MARSHALL', 'MCALLEN', 'MCKINNEY', 'MESQUITE', 'MIDLAND', 'MISSION', 'NACOGDOCHES', 'NEW BRAUNFELS', 'ODESSA', 'ORANGE', 'PAMPA', 'PARIS', 'PASADENA', 'PECOS', 'PHARR', 'PLAINVIEW', 'PLANO', 'PORT ARTHUR', 'PORT LAVACA', 'RICHARDSON', 'SAN ANGELO', 'SAN ANTONIO', 'SAN FELIPE', 'SAN MARCOS', 'SHERMAN', 'SWEETWATER', 'TEMPLE', 'TEXARKANA', 'TEXAS CITY', 'TYLER', 'UVALDE', 'VICTORIA', 'WACO', 'WEATHERFORD', 'WICHITA FALLS', 'YSLETA'],\r\n",
    "'UTAH': ['ALTA', 'AMERICAN FORK', 'BOUNTIFUL', 'BRIGHAM CITY', 'CEDAR CITY', 'CLEARFIELD', 'DELTA', 'FILLMORE', 'GREEN RIVER', 'HEBER CITY', 'KANAB', 'LAYTON', 'LEHI', 'LOGAN', 'MANTI', 'MOAB', 'MONTICELLO', 'MURRAY', 'NEPHI', 'OGDEN', 'ORDERVILLE', 'OREM', 'PANGUITCH', 'PARK CITY', 'PAYSON', 'PRICE', 'PROVO', 'SAINT GEORGE', 'SALT LAKE CITY', 'SPANISH FORK', 'SPRINGVILLE', 'TOOELE', 'VERNAL'],\r\n",
    "'VERMONT': ['BARRE', 'BELLOWS FALLS', 'BENNINGTON', 'BRATTLEBORO', 'BURLINGTON', 'ESSEX', 'MANCHESTER', 'MIDDLEBURY', 'MONTPELIER', 'NEWPORT', 'PLYMOUTH', 'RUTLAND', 'SAINT ALBANS', 'SAINT JOHNSBURY', 'SHARON', 'WINOOSKI'],\r\n",
    "'VIRGINIA': ['ABINGDON', 'ALEXANDRIA', 'BRISTOL', 'CHARLOTTESVILLE', 'CHESAPEAKE', 'DANVILLE', 'FAIRFAX', 'FALLS CHURCH', 'FREDERICKSBURG', 'HAMPTON', 'HANOVER', 'HOPEWELL', 'LEXINGTON', 'LYNCHBURG', 'MANASSAS', 'MARTINSVILLE', 'NEW MARKET', 'NEWPORT NEWS', 'NORFOLK', 'PETERSBURG', 'PORTSMOUTH', 'RESTON', 'RICHMOND', 'ROANOKE', 'STAUNTON', 'SUFFOLK', 'VIRGINIA BEACH', 'WAYNESBORO', 'WILLIAMSBURG', 'WINCHESTER'],\r\n",
    "'WASHINGTON': ['ABERDEEN', 'ANACORTES', 'AUBURN', 'BELLEVUE', 'BELLINGHAM', 'BREMERTON', 'CENTRALIA', 'COULEE DAM', 'COUPEVILLE', 'ELLENSBURG', 'EPHRATA', 'EVERETT', 'HOQUIAM', 'KELSO', 'KENNEWICK', 'LONGVIEW', 'MOSES LAKE', 'OAK HARBOR', 'OLYMPIA', 'PASCO', 'POINT ROBERTS', 'PORT ANGELES', 'PULLMAN', 'PUYALLUP', 'REDMOND', 'RENTON', 'RICHLAND', 'SEATTLE', 'SPOKANE', 'TACOMA', 'VANCOUVER', 'WALLA WALLA', 'WENATCHEE', 'YAKIMA'],\r\n",
    "'WEST VIRGINIA': ['BATH', 'BECKLEY', 'BLUEFIELD', 'BUCKHANNON', 'CHARLES TOWN', 'CHARLESTON', 'CLARKSBURG', 'ELKINS', 'FAIRMONT', 'GRAFTON', 'HARPERS FERRY', 'HILLSBORO', 'HINTON', 'HUNTINGTON', 'KEYSER', 'LEWISBURG', 'LOGAN', 'MARTINSBURG', 'MORGANTOWN', 'MOUNDSVILLE', 'NEW MARTINSVILLE', 'PARKERSBURG', 'PHILIPPI', 'POINT PLEASANT', 'PRINCETON', 'ROMNEY', 'SHEPHERDSTOWN', 'SOUTH CHARLESTON', 'SUMMERSVILLE', 'WEIRTON', 'WELCH', 'WELLSBURG', 'WESTON', 'WHEELING', 'WHITE SULPHUR SPRINGS', 'WILLIAMSON'],\r\n",
    "'WISCONSIN': ['APPLETON', 'ASHLAND', 'BARABOO', 'BELMONT', 'BELOIT', 'EAU CLAIRE', 'FOND DU LAC', 'GREEN BAY', 'HAYWARD', 'JANESVILLE', 'KENOSHA', 'LA CROSSE', 'LAKE GENEVA', 'MADISON', 'MANITOWOC', 'MARINETTE', 'MENASHA', 'MILWAUKEE', 'NEENAH', 'NEW GLARUS', 'OCONTO', 'OSHKOSH', 'PESHTIGO', 'PORTAGE', 'PRAIRIE DU CHIEN', 'RACINE', 'RHINELANDER', 'RIPON', 'SHEBOYGAN', 'SPRING GREEN', 'STEVENS POINT', 'STURGEON BAY', 'SUPERIOR', 'WAUKESHA', 'WAUSAU', 'WAUWATOSA', 'WEST ALLIS', 'WEST BEND', 'WISCONSIN DELLS'],\r\n",
    "'WYOMING': ['BUFFALO', 'CASPER', 'CHEYENNE', 'CODY', 'DOUGLAS', 'EVANSTON', 'GILLETTE', 'GREEN RIVER', 'JACKSON', 'LANDER', 'LARAMIE', 'NEWCASTLE', 'POWELL', 'RAWLINS', 'RIVERTON', 'ROCK SPRINGS', 'SHERIDAN', 'TEN SLEEP', 'THERMOPOLIS', 'TORRINGTON', 'WORLAND']}\r\n"
   ],
   "outputs": [],
   "metadata": {
    "id": "BtyZr1pFP4XG"
   }
  },
  {
   "cell_type": "markdown",
   "source": [
    "## <font color=red>Access</font>\n"
   ],
   "metadata": {
    "id": "uevZBp58QWss"
   }
  },
  {
   "cell_type": "markdown",
   "source": [
    "[Take the Quiz](https://byui.instructure.com/courses/149380/quizzes/2724881)\n"
   ],
   "metadata": {
    "id": "GC1vsJrSQZG4"
   }
  }
 ],
 "metadata": {
  "colab": {
   "authorship_tag": "ABX9TyM9joUBLEXhxSTDkab0rliQ",
   "collapsed_sections": [],
   "name": "prepare-for-huffman-trees.ipynb",
   "private_outputs": true,
   "provenance": []
  },
  "kernelspec": {
   "display_name": "Python 3",
   "language": "python",
   "name": "python3"
  },
  "language_info": {
   "codemirror_mode": {
    "name": "ipython",
    "version": 3
   },
   "file_extension": ".py",
   "mimetype": "text/x-python",
   "name": "python",
   "nbconvert_exporter": "python",
   "pygments_lexer": "ipython3",
   "version": "3.9.0"
  }
 },
 "nbformat": 4,
 "nbformat_minor": 1
}