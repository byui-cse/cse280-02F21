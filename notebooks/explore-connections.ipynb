{
 "cells": [
  {
   "cell_type": "markdown",
   "metadata": {
    "id": "XIwVJJz1lDRZ"
   },
   "source": [
    "# <font color=blue>Explore Connections</font>\n",
    "## <font color=blue>Ponder and Prove</font>\n"
   ]
  },
  {
   "cell_type": "markdown",
   "metadata": {
    "id": "HoeFOPynns-T"
   },
   "source": [
    "## <font color=red>Your Choice</font>\n"
   ]
  },
  {
   "cell_type": "markdown",
   "metadata": {
    "id": "Q0gjdsdU4mNY"
   },
   "source": [
    "Choose one of the following three Explorations:\n"
   ]
  },
  {
   "cell_type": "markdown",
   "metadata": {
    "id": "0TELICvE4nnW"
   },
   "source": [
    "- [Creating a Web of Knowledge](https://colab.research.google.com/github/byui-cse/cse280-course-notebooks/blob/main/notebooks/creating-a-web-of-knowledge.ipynb)\n",
    "- [Linking Eulerian Graphs and Bioinformatics](https://colab.research.google.com/github/byui-cse/cse280-course-notebooks/blob/main/notebooks/linking-eulerian-graphs-and-bioinformatics.ipynb)\n",
    "- [Connecting Primes and Algorithmic Information Theory](https://colab.research.google.com/github/byui-cse/cse280-course-notebooks/blob/main/notebooks/connecting-primes-and-algorithmic-information-theory.ipynb)\n"
   ]
  },
  {
   "cell_type": "markdown",
   "metadata": {
    "id": "Lzqg7Kml4pGR"
   },
   "source": [
    "## <font color=red>Rubric</font>\n"
   ]
  },
  {
   "cell_type": "markdown",
   "metadata": {
    "id": "FjRqZz_B4qVZ"
   },
   "source": [
    "As Part 3 of the course is all about **Connections**, I cannot stress enough the importance of focusing on the same-named category of the rubric, and finding/making those connections between something you will learn and something you already know. To reinforce the point, please read the first option, Creating a Web of Knowledge, more than once!\n"
   ]
  },
  {
   "cell_type": "markdown",
   "metadata": {
    "id": "q8NEeCYq5jUW"
   },
   "source": [
    "## <font color=red>Submit</font>\n"
   ]
  },
  {
   "cell_type": "markdown",
   "metadata": {
    "id": "piGNV0CC8Oqa"
   },
   "source": [
    "[Assignment](https://byui.instructure.com/courses/149380/assignments/7513067)\n"
   ]
  }
 ],
 "metadata": {
  "colab": {
   "authorship_tag": "ABX9TyNKWAIK1opr/8My/60oISi3",
   "collapsed_sections": [],
   "name": "explore-connections.ipynb",
   "private_outputs": true,
   "provenance": []
  },
  "kernelspec": {
   "display_name": "Python 3",
   "language": "python",
   "name": "python3"
  },
  "language_info": {
   "codemirror_mode": {
    "name": "ipython",
    "version": 3
   },
   "file_extension": ".py",
   "mimetype": "text/x-python",
   "name": "python",
   "nbconvert_exporter": "python",
   "pygments_lexer": "ipython3",
   "version": "3.9.0"
  }
 },
 "nbformat": 4,
 "nbformat_minor": 1
}
