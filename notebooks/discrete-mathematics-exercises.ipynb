{
 "cells": [
  {
   "cell_type": "markdown",
   "source": [
    "# <font color=blue>Discrete Mathematics Course Notebook</font>\n",
    "## <font color=blue>CSE 280 02</font>\n",
    "### <font color=blue>Fall 2021</font>"
   ],
   "metadata": {
    "id": "tk6nSj5UYWET"
   }
  },
  {
   "cell_type": "markdown",
   "source": [
    "## <font color=red>Week 01: Introduction</font>"
   ],
   "metadata": {
    "id": "NgeEB8Bu0lIR"
   }
  },
  {
   "cell_type": "markdown",
   "source": [
    "[Chapter 1 Introductions Exercises](https://colab.research.google.com/github/byui-cse/cse280-course-notebooks/blob/main/notebooks/chapter-1-introductions-exercises.ipynb)"
   ],
   "metadata": {
    "id": "-hE6H865kovL"
   }
  },
  {
   "cell_type": "markdown",
   "source": [
    "## <font color=red>Week 02: Sets and Logic</font>"
   ],
   "metadata": {
    "id": "cXDFp9-H15se"
   }
  },
  {
   "cell_type": "markdown",
   "source": [
    "[Chapter 2 Sets and Logic Exercises](https://colab.research.google.com/github/byui-cse/cse280-course-notebooks/blob/main/notebooks/chapter-2-sets-and-logic-exercises.ipynb)"
   ],
   "metadata": {
    "id": "ucvVlAooCJQg"
   }
  },
  {
   "cell_type": "markdown",
   "source": [
    "## <font color=red>Week 03: Functions</font>"
   ],
   "metadata": {
    "id": "ktNIvALm150N"
   }
  },
  {
   "cell_type": "markdown",
   "source": [
    "[Chapter 3 Functions Exercises](https://colab.research.google.com/github/byui-cse/cse280-course-notebooks/blob/main/notebooks/chapter-3-functions-exercises.ipynb)"
   ],
   "metadata": {
    "id": "CPKLDDJJuaBe"
   }
  },
  {
   "cell_type": "markdown",
   "source": [
    "## <font color=red>Week 04: Predicates and Quantifiers</font>"
   ],
   "metadata": {
    "id": "g3MDaTqn155H"
   }
  },
  {
   "cell_type": "markdown",
   "source": [
    "[Chapter 3 Predicates and Quantifiers Exercises](https://colab.research.google.com/github/byui-cse/cse280-course-notebooks/blob/main/notebooks/chapter-3-predicates-and-quantifiers-exercises.ipynb)"
   ],
   "metadata": {
    "id": "MLPn6uIBvm5I"
   }
  },
  {
   "cell_type": "markdown",
   "source": [
    "## <font color=red>Week 05: Relations</font>"
   ],
   "metadata": {
    "id": "8pkhawEgva8V"
   }
  },
  {
   "cell_type": "markdown",
   "source": [
    "[Chapter 4 Relations Exercises](https://colab.research.google.com/github/byui-cse/cse280-course-notebooks/blob/main/notebooks/chapter-4-relations-exercises.ipynb)"
   ],
   "metadata": {
    "id": "pX-KsO8UyBVR"
   }
  },
  {
   "cell_type": "markdown",
   "source": [
    "## <font color=red>Week 06: Combinatorics and Probability</font>"
   ],
   "metadata": {
    "id": "0rvsHgvM1580"
   }
  },
  {
   "cell_type": "markdown",
   "source": [
    "[Chapter 5 Combinatorics and Probability Exercises](https://colab.research.google.com/github/byui-cse/cse280-course-notebooks/blob/main/notebooks/chapter-5-combinatorics-and-probability-exercises.ipynb)"
   ],
   "metadata": {
    "id": "7vjWwfTuzgAV"
   }
  },
  {
   "cell_type": "markdown",
   "source": [
    "## <font color=red>Week 07: Some Ideas of Number Theory </font>"
   ],
   "metadata": {
    "id": "5bX1dtPg16Dq"
   }
  },
  {
   "cell_type": "markdown",
   "source": [
    "[Chapter 6 Some Ideas of Number Theory Exercises](https://colab.research.google.com/github/byui-cse/cse280-course-notebooks/blob/main/notebooks/chapter-6-number-theory-and-practice-exercises.ipynb)\n"
   ],
   "metadata": {
    "id": "NAWDyr0UzmQG"
   }
  },
  {
   "cell_type": "markdown",
   "source": [
    "## <font color=red>Week 08: The Practice of Number Theory</font>"
   ],
   "metadata": {
    "id": "usYKES7E16Gp"
   }
  },
  {
   "cell_type": "markdown",
   "source": [
    "[Chapter 6 The Practice of Number Theory Exercises](https://colab.research.google.com/github/byui-cse/cse280-course-notebooks/blob/main/notebooks/chapter-6-number-theory-and-practice-exercises.ipynb)"
   ],
   "metadata": {
    "id": "Zlc2_eFrzt3A"
   }
  },
  {
   "cell_type": "markdown",
   "source": [
    "## <font color=red>Week 09: Trees</font>"
   ],
   "metadata": {
    "id": "UnFn3uKO16KV"
   }
  },
  {
   "cell_type": "markdown",
   "source": [
    "[Chapter 7 Trees Exercises](https://colab.research.google.com/github/byui-cse/cse280-course-notebooks/blob/main/notebooks/chapter-7-trees-exercises.ipynb)"
   ],
   "metadata": {
    "id": "qIG7YlU6zzef"
   }
  },
  {
   "cell_type": "markdown",
   "source": [
    "## <font color=red>Week 10: Huffman Trees</font>"
   ],
   "metadata": {
    "id": "Vd2UZ0l-16N2"
   }
  },
  {
   "cell_type": "markdown",
   "source": [
    "[Chapter 7 Huffman Trees Exercises](https://colab.research.google.com/github/byui-cse/cse280-course-notebooks/blob/main/notebooks/chapter-7-huffman-trees-exercises.ipynb)\n"
   ],
   "metadata": {
    "id": "vSU5kH1kz8v7"
   }
  },
  {
   "cell_type": "markdown",
   "source": [
    "## <font color=red>Week 11: Graphs</font>"
   ],
   "metadata": {
    "id": "rK1LxaUa16Sc"
   }
  },
  {
   "cell_type": "markdown",
   "source": [
    "[Chapter 8 Graphs Exercises](https://colab.research.google.com/github/byui-cse/cse280-course-notebooks/blob/main/notebooks/chapter-8-graphs-exercises.ipynb)"
   ],
   "metadata": {
    "id": "H1HtWLi20Af2"
   }
  },
  {
   "cell_type": "markdown",
   "source": [
    "## <font color=red>Week 12: More Graphs</font>"
   ],
   "metadata": {
    "id": "xlionf9U16YF"
   }
  },
  {
   "cell_type": "markdown",
   "source": [
    "[Chapter 8 More Graphs Exercises](https://colab.research.google.com/github/byui-cse/cse280-course-notebooks/blob/main/notebooks/chapter-8-graphs-exercises.ipynb)"
   ],
   "metadata": {
    "id": "q5_u6CFERmDW"
   }
  },
  {
   "cell_type": "markdown",
   "source": [
    "## <font color=red>Week 13: Languages and Grammars</font>"
   ],
   "metadata": {
    "id": "HXwxqgD416ew"
   }
  },
  {
   "cell_type": "markdown",
   "source": [
    "[Chapter 9 Languages and Grammars Exercises](https://colab.research.google.com/github/byui-cse/cse280-course-notebooks/blob/main/notebooks/chapter-9-languages-and-grammars-exercises.ipynb)\n"
   ],
   "metadata": {
    "id": "4ox7s-v1b4Am"
   }
  }
 ],
 "metadata": {
  "colab": {
   "authorship_tag": "ABX9TyNAYPKBcNXyZNAAevD9N6Og",
   "name": "discrete-mathematics-course-notebook.ipynb",
   "private_outputs": true,
   "provenance": []
  },
  "kernelspec": {
   "display_name": "Python 3",
   "language": "python",
   "name": "python3"
  },
  "language_info": {
   "codemirror_mode": {
    "name": "ipython",
    "version": 3
   },
   "file_extension": ".py",
   "mimetype": "text/x-python",
   "name": "python",
   "nbconvert_exporter": "python",
   "pygments_lexer": "ipython3",
   "version": "3.9.0"
  }
 },
 "nbformat": 4,
 "nbformat_minor": 1
}