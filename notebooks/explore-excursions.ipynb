{
 "cells": [
  {
   "cell_type": "markdown",
   "metadata": {
    "id": "ADDygKdLRrrR"
   },
   "source": [
    "# <font color=blue>Explore Excursions</font>\n",
    "## <font color=blue>Ponder and Prove</font>\n"
   ]
  },
  {
   "cell_type": "markdown",
   "metadata": {
    "id": "yZrkN8GqScvI"
   },
   "source": [
    "## <font color=red>Your Choice</font>\n"
   ]
  },
  {
   "cell_type": "markdown",
   "metadata": {
    "id": "pmrsVWD0SeIQ"
   },
   "source": [
    "Choose one of the following four Explorations:"
   ]
  },
  {
   "cell_type": "markdown",
   "metadata": {
    "id": "yk7tf2biX4hY"
   },
   "source": [
    "- [Analyze Yahtzee](https://colab.research.google.com/github/byui-cse/cse280-02F21/blob/main/analyze-yahtzee.ipynb)\n",
    "- [Investigate Probability](https://colab.research.google.com/github/byui-cse/cse280-02F21/blob/main/investigate-probability.ipynb)\n",
    "- [Dissect Cryptology](https://colab.research.google.com/github/byui-cse/cse280-02F21/blob/main/dissect-cryptology.ipynb)\n",
    "- [Quadruple P](https://colab.research.google.com/github/byui-cse/cse280-02F21/blob/main/quadruple-p.ipynb)\n"
   ]
  },
  {
   "cell_type": "markdown",
   "metadata": {
    "id": "sXTfne31Sgwc"
   },
   "source": [
    "## <font color=red>To aid in grading</font>\n"
   ]
  },
  {
   "cell_type": "markdown",
   "metadata": {
    "id": "ta2voXs8Sh3z"
   },
   "source": [
    "[Old Exploration Rubric](https://colab.research.google.com/github/byui-cse/cse280-02F21/blob/main/old-exploration-rubric.ipynb)\n"
   ]
  },
  {
   "cell_type": "markdown",
   "metadata": {
    "id": "QRsieI2Xlx9I"
   },
   "source": [
    "## <font color=red>Consider for Comparison</font>"
   ]
  },
  {
   "cell_type": "markdown",
   "metadata": {
    "id": "qwvvquu-DX75"
   },
   "source": [
    "[Another Sample Exploration](https://colab.research.google.com/github/byui-cse/cse280-02F21/blob/main/another-sample-exploration.ipynb)"
   ]
  },
  {
   "cell_type": "markdown",
   "metadata": {
    "id": "cKfQwphLmm4a"
   },
   "source": [
    "## <font color=red>New Rubric</font>\n"
   ]
  },
  {
   "cell_type": "markdown",
   "metadata": {
    "id": "iGFxnKh6moqn"
   },
   "source": [
    "In the **Connections** category, here are the ratings to be considered from now on:\n"
   ]
  },
  {
   "cell_type": "markdown",
   "metadata": {
    "id": "RFwacdpImqHv"
   },
   "source": [
    "* Missing = no mention of connections whatsoever.\n",
    "* Developing = some mention of connections, even if only to say you couldn't find any.\n",
    "* Acceptable = 1 or 2 **explicitly stated** connections.\n",
    "* Good = 3 or 4 **explicitly stated** connections.\n",
    "* Exceptional = 5 or more **explicitly stated** connections.\n"
   ]
  },
  {
   "cell_type": "markdown",
   "metadata": {
    "id": "Fzn-22JRmrhv"
   },
   "source": [
    "What does it mean to **explicitly state** a connection?\n"
   ]
  },
  {
   "cell_type": "markdown",
   "metadata": {
    "id": "T0crn9OjmtAU"
   },
   "source": [
    "Use these words: “I have made a connection between [something I already knew] and [something I learned].”\n"
   ]
  },
  {
   "cell_type": "markdown",
   "metadata": {
    "id": "XvXxXAoimy6E"
   },
   "source": [
    "Then describe the nature of the connection.\n"
   ]
  },
  {
   "cell_type": "markdown",
   "metadata": {
    "id": "2193h8H_m0k9"
   },
   "source": [
    "The other significant changes are\n"
   ]
  },
  {
   "cell_type": "markdown",
   "metadata": {
    "id": "qU8isz9Wm09X"
   },
   "source": [
    "1. Connections has been bumped up to 40% of the total; and\n",
    "2. Mechanics is now 10% EXTRA CREDIT. Namely:\n",
    "  * Zero MIs = 10 bonus points\n",
    "  * Only 1-2 MIs = 6 bonus points\n",
    "  * Only 3-4 MIs = 4 bonus points\n",
    "  * Only 5-6 MIs = 2 bonus points\n",
    "  * 7 or more MIs = 0 bonus points\n"
   ]
  },
  {
   "cell_type": "markdown",
   "metadata": {
    "id": "2MFC-K0aSjFf"
   },
   "source": [
    "## <font color=red>Submit</font>\n"
   ]
  },
  {
   "cell_type": "markdown",
   "metadata": {
    "id": "SfNOxfg6bo9u"
   },
   "source": [
    "[Assignment](https://byui.instructure.com/courses/149380/assignments/7513069)\n"
   ]
  }
 ],
 "metadata": {
  "colab": {
   "authorship_tag": "ABX9TyM/GRP25ZeHrdFPbZ3LZ4ci",
   "collapsed_sections": [
    "sXTfne31Sgwc",
    "QRsieI2Xlx9I",
    "cKfQwphLmm4a"
   ],
   "name": "explore-excursions.ipynb",
   "private_outputs": true,
   "provenance": []
  },
  "kernelspec": {
   "display_name": "Python 3",
   "language": "python",
   "name": "python3"
  },
  "language_info": {
   "codemirror_mode": {
    "name": "ipython",
    "version": 3
   },
   "file_extension": ".py",
   "mimetype": "text/x-python",
   "name": "python",
   "nbconvert_exporter": "python",
   "pygments_lexer": "ipython3",
   "version": "3.9.0"
  }
 },
 "nbformat": 4,
 "nbformat_minor": 1
}
