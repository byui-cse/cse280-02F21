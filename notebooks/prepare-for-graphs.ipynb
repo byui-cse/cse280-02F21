{
 "cells": [
  {
   "cell_type": "markdown",
   "metadata": {
    "id": "S7-hDIExZ7Py"
   },
   "source": [
    "# <font color=blue>Prepare for Graphs</font>\n"
   ]
  },
  {
   "cell_type": "markdown",
   "metadata": {
    "id": "XihA7sK1aASQ"
   },
   "source": [
    "## <font color=red>Instructions</font>\n"
   ]
  },
  {
   "cell_type": "markdown",
   "metadata": {
    "id": "wsqB89zZaA9I"
   },
   "source": [
    "Answer questions on the content from the book, Chapter 8 Graphs (sections 8.1 - 8.11), and any first-level links therefrom.\n"
   ]
  },
  {
   "cell_type": "markdown",
   "metadata": {
    "id": "XI7YdUWhaCAo"
   },
   "source": [
    "## <font color=red>Access</font>\n"
   ]
  },
  {
   "cell_type": "markdown",
   "metadata": {
    "id": "KzGqPGLfvZfn"
   },
   "source": [
    "[Take the Quiz](https://byui.instructure.com/courses/149380/quizzes/2724929)\n"
   ]
  }
 ],
 "metadata": {
  "colab": {
   "authorship_tag": "ABX9TyOwUnfVjmCRKnAkEeN81PDc",
   "collapsed_sections": [],
   "name": "prepare-for-graphs.ipynb",
   "private_outputs": true,
   "provenance": []
  },
  "kernelspec": {
   "display_name": "Python 3",
   "language": "python",
   "name": "python3"
  },
  "language_info": {
   "codemirror_mode": {
    "name": "ipython",
    "version": 3
   },
   "file_extension": ".py",
   "mimetype": "text/x-python",
   "name": "python",
   "nbconvert_exporter": "python",
   "pygments_lexer": "ipython3",
   "version": "3.9.0"
  }
 },
 "nbformat": 4,
 "nbformat_minor": 1
}
