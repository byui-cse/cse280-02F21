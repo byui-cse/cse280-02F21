{
 "cells": [
  {
   "cell_type": "markdown",
   "metadata": {
    "id": "T7PjQ0FaPWx7"
   },
   "source": [
    "# <font color=blue>Find the Connection Between a Pair of Words and a Three-Word Title</font>\n",
    "## <font color=blue>Teach One Another</font>"
   ]
  },
  {
   "cell_type": "markdown",
   "metadata": {
    "id": "AIKaFDYfbbdB"
   },
   "source": [
    "## <font color=red>Investigate</font>"
   ]
  },
  {
   "cell_type": "markdown",
   "metadata": {
    "id": "PI3JTw87Pm6h"
   },
   "source": [
    "On page *xii* in the Preface, something is said to &ldquo;have something to do with the title of this book&rdquo; and asks &ldquo;What is the connection?&rdquo; This is your opportunity to answer that question. Only you must find **the** connection that the author found to truly answer it!"
   ]
  },
  {
   "cell_type": "markdown",
   "metadata": {
    "id": "pfKr2H6Zbg-q"
   },
   "source": [
    "## <font color=red>Discuss</font>"
   ]
  },
  {
   "cell_type": "markdown",
   "metadata": {
    "id": "H9Zo-qT7bkXQ"
   },
   "source": [
    "Use the Course Chat tool.\n",
    "\n",
    "Choose a representative for your group to enter &ldquo;We found it!&rdquo; as soon as you think you found it. DO NOT enter the solution, just the fact that you found it.\n",
    "\n",
    "Your instructor will verify your solution."
   ]
  },
  {
   "cell_type": "markdown",
   "metadata": {
    "id": "KmFELThQbLw0"
   },
   "source": [
    "## <font color=red>Hint</font>"
   ]
  },
  {
   "cell_type": "markdown",
   "metadata": {
    "id": "UsaNVR5Ml91z"
   },
   "source": [
    "Ask your instructor or a TA."
   ]
  }
 ],
 "metadata": {
  "colab": {
   "authorship_tag": "ABX9TyPd2QEoQI/y1N4KRkwC+cki",
   "name": "find-the-connection-between-a-pair-of-words-and-a-three-word-title.ipynb",
   "private_outputs": true,
   "provenance": []
  },
  "kernelspec": {
   "display_name": "Python 3",
   "language": "python",
   "name": "python3"
  },
  "language_info": {
   "codemirror_mode": {
    "name": "ipython",
    "version": 3
   },
   "file_extension": ".py",
   "mimetype": "text/x-python",
   "name": "python",
   "nbconvert_exporter": "python",
   "pygments_lexer": "ipython3",
   "version": "3.9.0"
  }
 },
 "nbformat": 4,
 "nbformat_minor": 1
}
