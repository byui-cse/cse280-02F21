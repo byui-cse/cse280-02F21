{
 "cells": [
  {
   "cell_type": "markdown",
   "metadata": {
    "id": "WUte_w_IAHyy"
   },
   "source": [
    "# <font color=blue>Report on Chapter 5 Combinatorics and Probability Exercises</font>"
   ]
  },
  {
   "cell_type": "markdown",
   "metadata": {
    "id": "VEpS9aJBAK9m"
   },
   "source": [
    "## <font color=red>Instructions</font>\n"
   ]
  },
  {
   "cell_type": "markdown",
   "metadata": {
    "id": "zDfy_27fALxI"
   },
   "source": [
    "This self-assessment again asks you to enter the approximate number of hours (rounded up to the nearest whole number) you spent doing the Chapter 5 exercises.\n"
   ]
  },
  {
   "cell_type": "markdown",
   "metadata": {
    "id": "CAdL-8R_AMvf"
   },
   "source": [
    "This time there are six questions with multiple answers, earning you as before a point for each box you can truthfully check to assert that you **did** the Chapter 5 exercises, to whatever extent you did them.\n"
   ]
  },
  {
   "cell_type": "markdown",
   "metadata": {
    "id": "85dJeiT6AOJK"
   },
   "source": [
    "Here is how to interpret the assertion \"I did the ___ exercise(s)\":\n"
   ]
  },
  {
   "cell_type": "markdown",
   "metadata": {
    "id": "GZaQcXXjAO_p"
   },
   "source": [
    "> I learned something new or achieved something meaningful, or something I can build upon at a later time, from doing the ___ exercise(s).\n"
   ]
  },
  {
   "cell_type": "markdown",
   "metadata": {
    "id": "bDkZLqs1AULh"
   },
   "source": [
    "## <font color=purple>Access</font>\n"
   ]
  },
  {
   "cell_type": "markdown",
   "metadata": {
    "id": "XE82mUOEAU-r"
   },
   "source": [
    "[Take the Self-Assessment](https://byui.instructure.com/courses/149380/quizzes/2724923)"
   ]
  }
 ],
 "metadata": {
  "colab": {
   "authorship_tag": "ABX9TyMR1H3Sm55TduHR00laKNdO",
   "name": "report-on-chapter-5-combinatorics-and-probability-exercises.ipynb",
   "private_outputs": true,
   "provenance": []
  },
  "kernelspec": {
   "display_name": "Python 3",
   "language": "python",
   "name": "python3"
  },
  "language_info": {
   "codemirror_mode": {
    "name": "ipython",
    "version": 3
   },
   "file_extension": ".py",
   "mimetype": "text/x-python",
   "name": "python",
   "nbconvert_exporter": "python",
   "pygments_lexer": "ipython3",
   "version": "3.9.0"
  }
 },
 "nbformat": 4,
 "nbformat_minor": 1
}
