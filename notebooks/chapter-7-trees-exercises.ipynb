{
 "cells": [
  {
   "cell_type": "markdown",
   "source": [
    "# <font color=blue>Chapter 7 Trees Exercises</font>\n",
    "## <font color=blue>Prepare</font>\n"
   ],
   "metadata": {
    "id": "72ToSoZJ9HZO"
   }
  },
  {
   "cell_type": "markdown",
   "source": [
    "Unless otherwise indicated, all Exercise contributions were made by students in a Fall Semester 2020 course."
   ],
   "metadata": {
    "id": "v3K_32fP9e4U"
   }
  },
  {
   "cell_type": "markdown",
   "source": [
    "## <font color=red>7.1 Growing Trees Left and Right</font>\n"
   ],
   "metadata": {
    "id": "qpqZZL9_9lWw"
   }
  },
  {
   "cell_type": "markdown",
   "source": [
    "Code from Figures 7.3, 7.4, and 7.5 to represent a list as a chain of cons cells, a tree with three cons cells, and a tree with seven cons cells:\n"
   ],
   "metadata": {
    "id": "v3Ut5IRf9mUo"
   }
  },
  {
   "cell_type": "code",
   "execution_count": null,
   "source": [
    "!pip install cons\r\n",
    "from cons import *\r\n",
    "print(cons(1, cons(2, cons(3, cons(4, None)))))\r\n",
    "# prints [1, 2, 3, 4]\r\n",
    "\r\n",
    "print(cons(cons(1,2), cons(3,4)))\r\n",
    "# prints\r\n",
    "# ((1 . 2) . (3 . 4))\r\n",
    "\r\n",
    "print(cons(cons(cons(1, 2), cons(3, 4)), cons(cons(5, 6), cons(7, 8))))"
   ],
   "outputs": [],
   "metadata": {
    "id": "IZeeP6ee9nsL"
   }
  },
  {
   "cell_type": "code",
   "execution_count": null,
   "source": [
    "# evaluated without the print function to show the nested ConsPair objects\r\n",
    "cons(cons(cons(1, 2), cons(3, 4)), cons(cons(5, 6), cons(7, 8)))"
   ],
   "outputs": [],
   "metadata": {
    "id": "YWUGntLq96wv"
   }
  },
  {
   "cell_type": "markdown",
   "source": [
    "### Exercise 7.1.1\n"
   ],
   "metadata": {
    "id": "cD3yBXHL-Sqh"
   }
  },
  {
   "cell_type": "markdown",
   "source": [
    "Contributed by James Zimsky.\n"
   ],
   "metadata": {
    "id": "nobeCNu4-T18"
   }
  },
  {
   "cell_type": "markdown",
   "source": [
    "Look at the following code and what it prints. The resulting tree has how many levels, and is it balanced, right-heavy, or left-heavy?\n"
   ],
   "metadata": {
    "id": "Ac18-jl0-UpO"
   }
  },
  {
   "cell_type": "code",
   "execution_count": null,
   "source": [
    "print(cons(cons(cons(cons(12, cons(13, 14)), 2), cons(3, 4)), cons(cons(5, 6), cons(cons(15, 16), 7))))"
   ],
   "outputs": [],
   "metadata": {
    "id": "86WdZOWy-VjG"
   }
  },
  {
   "cell_type": "code",
   "execution_count": null,
   "source": [
    "#@title Hint {display-mode: \"form\"}\r\n",
    "print('Draw the tree if the code looks too complicated. See Sections 7.4 and 7.7 for definitions.')\r\n"
   ],
   "outputs": [],
   "metadata": {
    "id": "aVO6RiaI-clm"
   }
  },
  {
   "cell_type": "code",
   "execution_count": null,
   "source": [
    "#@title Answer {display-mode: \"form\"}\r\n",
    "print('Five levels. Left-heavy.')"
   ],
   "outputs": [],
   "metadata": {
    "id": "jWHnO6RH-qUq"
   }
  },
  {
   "cell_type": "markdown",
   "source": [
    "## <font color=red>7.2 Nomenclature</font>\n"
   ],
   "metadata": {
    "id": "Em5_Bv7f-vTe"
   }
  },
  {
   "cell_type": "markdown",
   "source": [
    "### Exercise 7.2.1\n"
   ],
   "metadata": {
    "id": "xrfaVOtN-weq"
   }
  },
  {
   "cell_type": "markdown",
   "source": [
    "Contributed by Reynolds Kynaston.\n"
   ],
   "metadata": {
    "id": "3M1TrV-L-xVD"
   }
  },
  {
   "cell_type": "markdown",
   "source": [
    "Logically speaking, why should a tree always have one more node than it has links?\n"
   ],
   "metadata": {
    "id": "GZnzZLos-yC8"
   }
  },
  {
   "cell_type": "code",
   "execution_count": null,
   "source": [
    "#@title Hint {display-mode: \"form\"}\r\n",
    "print('Visualize a tree with lots of branches and leaves.')\r\n",
    "print('Start at any leaf and trace links up until you arrive at the root.')\r\n",
    "print('What do you observe?')\r\n"
   ],
   "outputs": [],
   "metadata": {
    "id": "2t8yLMTk-zJx"
   }
  },
  {
   "cell_type": "code",
   "execution_count": null,
   "source": [
    "#@title Answer {display-mode: \"form\"}\r\n",
    "from IPython.display import Markdown\r\n",
    "display(Markdown('''\r\n",
    "Contributed by Cameron Lyman.\r\n",
    "\r\n",
    "Start traversing up a tree from any leaf.\r\n",
    "\r\n",
    "As you go up the tree, you will find that all nodes have a link above them except the root.\r\n",
    "\r\n",
    "Because all other nodes have the root as one of their ancestors, there is always one more node than links.\r\n",
    "'''))\r\n"
   ],
   "outputs": [],
   "metadata": {
    "id": "dJCrZ__b-4On"
   }
  },
  {
   "cell_type": "markdown",
   "source": [
    "## <font color=red>7.3 Branching Out</font>\n"
   ],
   "metadata": {
    "id": "vVmc3Muz-8a1"
   }
  },
  {
   "cell_type": "markdown",
   "source": [
    "Code from Figure 7.10 Enumerating all 24 factors of 360:\n"
   ],
   "metadata": {
    "id": "10-zp047-9-U"
   }
  },
  {
   "cell_type": "code",
   "execution_count": null,
   "source": [
    "def print_one_factor(i, j, k, x, y, z):\r\n",
    "  print(f'2^{i} * 3^{j} * 5^{k} = {x} * {y} * {z} = {x * y * z:3d}')\r\n",
    "\r\n",
    "def show_all_factors_of_360():\r\n",
    "  for i in range(4):\r\n",
    "    for j in range(3):\r\n",
    "      for k in range(2):\r\n",
    "        print_one_factor(i, j, k, 2 ** i, 3 ** j, 5 ** k)\r\n",
    "\r\n",
    "show_all_factors_of_360()\r\n",
    "\r\n",
    "paths_in_tree = [[1,1,1], [1,1,5], [1,3,1], [1,3,5],\r\n",
    "                 [1,9,1], [1,9,5], [2,1,1], [2,1,5],\r\n",
    "                 [2,3,1], [2,3,5], [2,9,1], [2,9,5],\r\n",
    "                 [4,1,1], [4,1,5], [4,3,1], [4,3,5],\r\n",
    "                 [4,9,1], [4,9,5], [8,1,1], [8,1,5],\r\n",
    "                 [8,3,1], [8,3,5], [8,9,1], [8,9,5]]\r\n",
    "\r\n",
    "import functools, math, operator, sys\r\n",
    "\r\n",
    "if sys.version_info >= (3, 8):\r\n",
    "  product = math.prod\r\n",
    "else:\r\n",
    "  product = functools.partial(functools.reduce, operator.mul)\r\n",
    "\r\n",
    "print(list(map(product,paths_in_tree)))\r\n"
   ],
   "outputs": [],
   "metadata": {
    "id": "odKClmM1-_p4"
   }
  },
  {
   "cell_type": "markdown",
   "source": [
    "### Exercise 7.3.1\n"
   ],
   "metadata": {
    "id": "MoDKAs1y_PMx"
   }
  },
  {
   "cell_type": "markdown",
   "source": [
    "Contributed by Spencer Williams.\n"
   ],
   "metadata": {
    "id": "ufuzn2tg_Udl"
   }
  },
  {
   "cell_type": "markdown",
   "source": [
    "Consider the regular tree with 4 levels (0-3) and branching factors of 5, 4, 3, and 2. Answer the following questions:\n",
    "1. How many nodes does the tree have?\n",
    "2. What is the total factor count?\n",
    "3. The tree produced represents all the factors of what number?\n"
   ],
   "metadata": {
    "id": "zotbgbtH_VMh"
   }
  },
  {
   "cell_type": "markdown",
   "source": [
    "Write a Python function that displays all the factors of that number.\n"
   ],
   "metadata": {
    "id": "epgK2llo_WXj"
   }
  },
  {
   "cell_type": "code",
   "execution_count": null,
   "source": [
    "#@title Hint {display-mode: \"form\"}\r\n",
    "from IPython.display import Markdown\r\n",
    "display(Markdown('''\r\n",
    "If you know how many links or leaves there are in the tree,\r\n",
    "then it will be simple to figure out how many nodes it has too.\r\n",
    "Prime factorization and factorials are your friends for solving this exercise.\r\n",
    "'''))\r\n"
   ],
   "outputs": [],
   "metadata": {
    "id": "-hRs7KAe_Xf_"
   }
  },
  {
   "cell_type": "code",
   "execution_count": null,
   "source": [
    "#@title Answer {display-mode: \"form\"}\r\n",
    "from IPython.display import Markdown\r\n",
    "display(Markdown('''\r\n",
    "The tree:\r\n",
    "1. Has $2(5!) - 1 = 2(120) - 1 = 240 - 1 = 239$ nodes.\r\n",
    "2. Has a total factor count of $5! = 120$.\r\n",
    "3. Shows the factors of the number $2^4 \\cdot 3^3 \\cdot 5^2 \\cdot 7 = 75600$.\r\n",
    "'''))\r\n"
   ],
   "outputs": [],
   "metadata": {
    "id": "hELeEF7o_cjb"
   }
  },
  {
   "cell_type": "code",
   "execution_count": null,
   "source": [
    "#@title Answer {display-mode: \"form\"}\r\n",
    "def print_one_factor(i, j, k, l, x, y, z, a):\r\n",
    "  print(f'2^{i} * 3^{j} * 5^{k} * 7^{l} = {x} * {y} * {z} = {x * y * z * a:4d}')\r\n",
    "\r\n",
    "def show_all_factors():\r\n",
    "  for i in range(5):\r\n",
    "    for j in range(4):\r\n",
    "      for k in range(3):\r\n",
    "        for l in range(2):\r\n",
    "          print_one_factor(i, j, k, l, 2 ** i, 3 ** j, 5 ** k, 7 ** l)\r\n",
    "\r\n",
    "show_all_factors()\r\n"
   ],
   "outputs": [],
   "metadata": {
    "id": "HAngJzZu_hEv"
   }
  },
  {
   "cell_type": "markdown",
   "source": [
    "### Exercise 7.3.2\n"
   ],
   "metadata": {
    "id": "tgtL5zWb_m6z"
   }
  },
  {
   "cell_type": "markdown",
   "source": [
    "Contributed by Logan Hunt.\n"
   ],
   "metadata": {
    "id": "t74b1SEI_oPs"
   }
  },
  {
   "cell_type": "markdown",
   "source": [
    "Implement a permutation tree data structure in Python.\n"
   ],
   "metadata": {
    "id": "vbQJOvEX_pNv"
   }
  },
  {
   "cell_type": "code",
   "execution_count": null,
   "source": [
    "#@title Hint {display-mode: \"form\"}\r\n",
    "print('This is most easily done using classes and recursion.')\r\n"
   ],
   "outputs": [],
   "metadata": {
    "id": "MMP58gSl_sBv"
   }
  },
  {
   "cell_type": "code",
   "execution_count": null,
   "source": [
    "#@title Answer {display-mode: \"form\"}\r\n",
    "class TreeNode(object):\r\n",
    "  def __init__(self, data=None):\r\n",
    "    self.children = []\r\n",
    "    self.data = data\r\n",
    "\r\n",
    "class PermutationTree(object):\r\n",
    "  def __init__(self, nums):\r\n",
    "    self.nums = nums\r\n",
    "    self.root = TreeNode()\r\n",
    "    self.initialize_Tree()\r\n",
    "    self.build_PermutationTree(self.root, nums)\r\n",
    "\r\n",
    "  def initialize_Tree(self):\r\n",
    "    for i in self.nums:\r\n",
    "      self.root.children.append(TreeNode(i))\r\n",
    "\r\n",
    "  def build_PermutationTree(self, root, nums):\r\n",
    "    # Recursively build a permutation tree\r\n",
    "    for child in root.children:\r\n",
    "      copy_nums = nums.copy()\r\n",
    "      copy_nums.remove(child.data)\r\n",
    "      for num in copy_nums:\r\n",
    "        child.children.append(TreeNode(num))\r\n",
    "      self.build_PermutationTree(child, copy_nums)\r\n",
    "\r\n",
    "  def print_tree(self, root, visited=[], num_spaces=0):\r\n",
    "    if id(root) not in visited:\r\n",
    "      print(\"--\" * num_spaces + str(root.data))\r\n",
    "      num_spaces += 1\r\n",
    "      visited.append(id(root))\r\n",
    "      for child in root.children:\r\n",
    "        self.print_tree(child, visited, num_spaces)\r\n",
    "    else:\r\n",
    "      num_spaces -= 1\r\n",
    "\r\n",
    "ptree = PermutationTree(['A', 'B', 'C', 'D'])\r\n",
    "ptree.print_tree(ptree.root)\r\n"
   ],
   "outputs": [],
   "metadata": {
    "id": "hxn4hgJD_tkm"
   }
  },
  {
   "cell_type": "markdown",
   "source": [
    "## <font color=red>7.4 Rooted or Not</font>\n"
   ],
   "metadata": {
    "id": "Sqp41nxb_3jT"
   }
  },
  {
   "cell_type": "markdown",
   "source": [
    "### Exercise 7.4.1\n"
   ],
   "metadata": {
    "id": "llG1Ri2R_33U"
   }
  },
  {
   "cell_type": "markdown",
   "source": [
    "Contributed by Caleb Limb.\n"
   ],
   "metadata": {
    "id": "8LD8lzLG_4u2"
   }
  },
  {
   "cell_type": "markdown",
   "source": [
    "How many different unrooted trees are there with 6 unlabeled nodes?\n"
   ],
   "metadata": {
    "id": "mqgK3Y8y_5qp"
   }
  },
  {
   "cell_type": "code",
   "execution_count": null,
   "source": [
    "#@title Hint {display-mode: \"form\"}\r\n",
    "print('There are few enough that you should be able to draw them all.')\r\n"
   ],
   "outputs": [],
   "metadata": {
    "id": "eRZ9kE9EAO0d"
   }
  },
  {
   "cell_type": "code",
   "execution_count": null,
   "source": [
    "#@title Answer {display-mode: \"form\"}\r\n",
    "from IPython.display import Markdown\r\n",
    "display(Markdown('''\r\n",
    "![six-unrooted-unlabeled-node-trees.png](data:image/png;base64,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)\r\n",
    "\r\n",
    "'''))"
   ],
   "outputs": [],
   "metadata": {
    "id": "VqtgnWr1AWqI"
   }
  },
  {
   "cell_type": "markdown",
   "source": [
    "## <font color=red>7.5 Expressions</font>\n"
   ],
   "metadata": {
    "id": "DcF9WdY4AvDL"
   }
  },
  {
   "cell_type": "markdown",
   "source": [
    "### Exercise 7.5.1\n"
   ],
   "metadata": {
    "id": "I18wmiTcAx19"
   }
  },
  {
   "cell_type": "markdown",
   "source": [
    "Contributed by Michael Heninger.\n"
   ],
   "metadata": {
    "id": "qOVDNEsnA1BI"
   }
  },
  {
   "cell_type": "markdown",
   "source": [
    "Print a tree representation of this expression tree, and then write code to evaluate it:\n"
   ],
   "metadata": {
    "id": "k61DDLuiA13o"
   }
  },
  {
   "cell_type": "code",
   "execution_count": null,
   "source": [
    "et = ['-',['*',13,['+',['/',32,-4],12]],['*',['+',['-',10,1],3],4]]"
   ],
   "outputs": [],
   "metadata": {
    "id": "jfjleYU_A4dM"
   }
  },
  {
   "cell_type": "code",
   "execution_count": null,
   "source": [
    "#@title Hint {display-mode: \"form\"}\r\n",
    "from IPython.display import Markdown\r\n",
    "display(Markdown('''\r\n",
    "To display the tree, look for a python library to help. (Examples include anytree and treelib )\r\n",
    "\r\n",
    "To evaluate the tree, try writing a recursive function that can parse the operations using a &ldquo;multi-way if&rdquo; statement,\r\n",
    "one branch for each operator.\r\n",
    "'''))\r\n"
   ],
   "outputs": [],
   "metadata": {
    "id": "wsI4u8MgBJMt"
   }
  },
  {
   "cell_type": "code",
   "execution_count": null,
   "source": [
    "#@title Answer {display-mode: \"form\"}\r\n",
    "!pip install anytree\r\n",
    "from anytree import *\r\n",
    "\r\n",
    "root = Node('-')\r\n",
    "\r\n",
    "l = Node('*', parent=root)\r\n",
    "r = Node('*', parent=root)\r\n",
    "ll = Node('13', parent=l)\r\n",
    "lr = Node('+', parent=l)\r\n",
    "rl = Node('+', parent=r)\r\n",
    "rr = Node('4', parent=r)\r\n",
    "lrl = Node('/', parent=lr)\r\n",
    "lrr = Node('12', parent=lr)\r\n",
    "rll = Node('-', parent=rl)\r\n",
    "rlr = Node('3', parent=rl)\r\n",
    "lrll = Node('32', parent=lrl)\r\n",
    "lrlr = Node('-4', parent=lrl)\r\n",
    "rlll = Node('10', parent=rll)\r\n",
    "rllr = Node('1', parent=rll)\r\n",
    "\r\n",
    "print(RenderTree(root).by_attr())\r\n",
    "\r\n",
    "def evaluate(l):\r\n",
    "  if isinstance(l, int):\r\n",
    "    return l\r\n",
    "  elif l[0] == '+':\r\n",
    "    return evaluate(l[1]) + evaluate(l[2])\r\n",
    "  elif l[0] == '-':\r\n",
    "    return evaluate(l[1]) - evaluate(l[2])\r\n",
    "  elif l[0] == '*':\r\n",
    "    return evaluate(l[1]) * evaluate(l[2])\r\n",
    "  elif l[0] == '/':\r\n",
    "    return evaluate(l[1]) / evaluate(l[2])\r\n",
    "  else:\r\n",
    "    raise ValueError()\r\n",
    "\r\n",
    "print(evaluate(et))\r\n"
   ],
   "outputs": [],
   "metadata": {
    "id": "Rk6BmJqkBUkd"
   }
  },
  {
   "cell_type": "markdown",
   "source": [
    "## <font color=red>7.6 Fast and Glorious</font>\n"
   ],
   "metadata": {
    "id": "IRY-bnzrBeTR"
   }
  },
  {
   "cell_type": "markdown",
   "source": [
    "Code in Figure 7.17 Orderable numbers as keys:\n"
   ],
   "metadata": {
    "id": "pIU19dRvBjZ7"
   }
  },
  {
   "cell_type": "code",
   "execution_count": null,
   "source": [
    "items = [1, 2, 3, 4]\n",
    "key = 3\n",
    "for item in items:\n",
    "  print('<' if key < item else '=' if key == item else '>')\n"
   ],
   "outputs": [],
   "metadata": {
    "id": "dHlK5r5PBkB9"
   }
  },
  {
   "cell_type": "markdown",
   "source": [
    "### Exercise 7.6.1\n"
   ],
   "metadata": {
    "id": "eQ4YlrERBoWW"
   }
  },
  {
   "cell_type": "markdown",
   "source": [
    "Contributed by Paul Powell.\n"
   ],
   "metadata": {
    "id": "W0JlSsCuBpme"
   }
  },
  {
   "cell_type": "markdown",
   "source": [
    "Create a binary search tree from these acronyms, inserting them in the order they appear in the HUD, as follows:\n"
   ],
   "metadata": {
    "id": "GSHfUwDTBqQ9"
   }
  },
  {
   "cell_type": "markdown",
   "source": [
    "```NPC HP FPS PVP PVE agro nomana DPS AC```\n"
   ],
   "metadata": {
    "id": "IjLdsXpoBtfX"
   }
  },
  {
   "cell_type": "code",
   "execution_count": null,
   "source": [
    "#@title Hint {display-mode: \"form\"}\n",
    "print('How many of these acronyms do you know?')\n"
   ],
   "outputs": [],
   "metadata": {
    "id": "xXuJ_Ug6Bt5t"
   }
  },
  {
   "cell_type": "code",
   "execution_count": null,
   "source": [
    "#@title Answer {display-mode: \"form\"}\n",
    "# Ask a gamer if you don't know these acronyms.\n",
    "!pip install anytree\n",
    "from anytree import *\n",
    "\n",
    "root = Node('NPC')\n",
    "l = Node('HP', parent=root)\n",
    "r = Node('FPS', parent=root)\n",
    "ll = Node('PVP', parent=l)\n",
    "lr = Node('PVE', parent=l)\n",
    "rl = Node('agro', parent=r)\n",
    "rr = Node('nomana', parent=r)\n",
    "lll = Node('DPS', parent=ll)\n",
    "llr = Node('AC', parent=ll)\n",
    "\n",
    "print(RenderTree(root).by_attr())\n"
   ],
   "outputs": [],
   "metadata": {
    "id": "_tEXHrScBw-k"
   }
  },
  {
   "cell_type": "markdown",
   "source": [
    "### Exercise 7.6.2\n"
   ],
   "metadata": {
    "id": "-f_87XVMB3Wu"
   }
  },
  {
   "cell_type": "markdown",
   "source": [
    "Contributed by Jake Paul.\n"
   ],
   "metadata": {
    "id": "8F_B5QUvB59F"
   }
  },
  {
   "cell_type": "markdown",
   "source": [
    "Write a program to see if using a binary search really does make searching for something faster than other approaches. For comparison, try three different ways to search for something: a binary search, a linear search, and a random search.\n"
   ],
   "metadata": {
    "id": "p0JLyut_B6mV"
   }
  },
  {
   "cell_type": "code",
   "execution_count": null,
   "source": [
    "#@title Hint {display-mode: \"form\"}\n",
    "from IPython.display import Markdown\n",
    "display(Markdown('''\n",
    "Add code to time each one.\n",
    "\n",
    "Even with the maximum number of items to search as low as about $2000$, see if binary search is many times faster.\n",
    "'''))\n"
   ],
   "outputs": [],
   "metadata": {
    "id": "GXjhc8zQB8sF"
   }
  },
  {
   "cell_type": "code",
   "execution_count": null,
   "source": [
    "#@title Answer {display-mode: \"form\"}\n",
    "import time\n",
    "from math import log\n",
    "from random import randrange\n",
    "\n",
    "items = []\n",
    "min_items = 0\n",
    "max_items = 2048\n",
    "\n",
    "for i in range(max_items):\n",
    "  items.append(i)\n",
    "\n",
    "key = 1024\n",
    "t = True\n",
    "\n",
    "while key >= max_items:\n",
    "  key -= 1\n",
    "\n",
    "while key <= 0:\n",
    " key += 1\n",
    "\n",
    "start = time.perf_counter()\n",
    "\n",
    "while t:\n",
    "  if (key == randrange(0, max_items)):\n",
    "    t = False\n",
    "\n",
    "stop = time.perf_counter()\n",
    "\n",
    "print('random search time:', stop - start)\n",
    "\n",
    "start = time.perf_counter()\n",
    "\n",
    "for i in range(0, int(log(max_items, 2))):\n",
    "  if key == items[int((min_items + max_items)/2)]:\n",
    "    stop = time.perf_counter()\n",
    "    break\n",
    "  if key < items[int((min_items + max_items)/2)]:\n",
    "    max_items = int((min_items + max_items)/2)\n",
    "  if key > items[int((min_items + max_items)/2)]:\n",
    "    min_items = int((min_items + max_items)/2)\n",
    "\n",
    "print('binary search time:', stop - start)\n",
    "\n",
    "start = time.perf_counter()\n",
    "\n",
    "for i in range(0, max_items):\n",
    "  if key == items[i]:\n",
    "    stop = time.perf_counter()\n",
    "    break\n",
    "\n",
    "print('linear search time:', stop - start)\n"
   ],
   "outputs": [],
   "metadata": {
    "id": "P07-dtZBCE4Q"
   }
  },
  {
   "cell_type": "markdown",
   "source": [
    "## <font color=red>7.7 Balancing Act</font>\n"
   ],
   "metadata": {
    "id": "5-9e3CfICGgr"
   }
  },
  {
   "cell_type": "markdown",
   "source": [
    "### Exercise 7.7.1\n"
   ],
   "metadata": {
    "id": "0NcOOTdECI0r"
   }
  },
  {
   "cell_type": "markdown",
   "source": [
    "Contributed by Amberlee Crowther.\n"
   ],
   "metadata": {
    "id": "-asxTWf6CKWQ"
   }
  },
  {
   "cell_type": "markdown",
   "source": [
    "Given the sentence: &ldquo;A balanced binary tree is one in which the left and right subtrees of every node differ in height by no more than one.&rdquo; --- which word would be the root of a balanced BST created from these 22 (distinct) words?\n"
   ],
   "metadata": {
    "id": "pdp4Va2MCK_j"
   }
  },
  {
   "cell_type": "code",
   "execution_count": null,
   "source": [
    "#@title Hint {display-mode: \"form\"}\n",
    "from IPython.display import Markdown\n",
    "display(Markdown('''\n",
    "Don't insert the duplicate words &ldquo;one&rdquo; and &ldquo;in&rdquo; more than once.\n",
    "\n",
    "The word &ldquo;is&rdquo; will become the root of the balanced tree. See code below:\n",
    "'''))\n"
   ],
   "outputs": [],
   "metadata": {
    "id": "YlYVFFvSCN2V"
   }
  },
  {
   "cell_type": "code",
   "execution_count": null,
   "source": [
    "#@title Answer {display-mode: \"form\"}\n",
    "sentence = 'A balanced binary tree is one in which the left and right '\n",
    "sentence += 'subtrees of every node differ in height by no more than one.'\n",
    "words = sentence.split(' ')\n",
    "for n, word in enumerate(sorted(words)):\n",
    "  print(n + 1, word)\n"
   ],
   "outputs": [],
   "metadata": {
    "id": "34eoYQ4rCRA3"
   }
  },
  {
   "cell_type": "code",
   "execution_count": null,
   "source": [
    "#@title Answer Supplemental {display-mode: \"form\"}\n",
    "from IPython.display import Markdown\n",
    "display(Markdown('''\n",
    "Go to [this website](https://www.cs.usfca.edu/~galles/visualization/AVLtree.html).\n",
    "\n",
    "Insert the keys in the self-balancing AVL Tree in the order\n",
    "\n",
    "> 1 3 4 21 10 16 9 22 20 11 2 17 18 15 7 14 6 8 5 13 12 19\n",
    "\n",
    "which are the associated number keys of the words unsorted back to their original order.\n",
    "\n",
    "You should get the following tree, which shows that the word &ldquo;is&rdquo; is at the root node:\n",
    "\n",
    "![balanced-binary-search-tree.png](data:image/png;base64,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)\n",
    "'''))\n"
   ],
   "outputs": [],
   "metadata": {
    "id": "pHzJENEACnVl"
   }
  },
  {
   "cell_type": "markdown",
   "source": [
    "## <font color=red>7.8 Optimal Search</font>\n"
   ],
   "metadata": {
    "id": "qXRozV0vDANu"
   }
  },
  {
   "cell_type": "markdown",
   "source": [
    "### Exercise 7.8.1\n"
   ],
   "metadata": {
    "id": "ZQwtXBE0DB1c"
   }
  },
  {
   "cell_type": "markdown",
   "source": [
    "Contributed by Audrey Mae Moncada.\n"
   ],
   "metadata": {
    "id": "RS9Nl7BRDC4d"
   }
  },
  {
   "cell_type": "markdown",
   "source": [
    "Find the expected search cost of the BST in Figure 7.27 with weights $\\{1:0.4,\\ 2:0.3,\\ 3:0.2,\\ 4:0.1\\}$.\n"
   ],
   "metadata": {
    "id": "fSDVBgq_DDlG"
   }
  },
  {
   "cell_type": "markdown",
   "source": [
    "Is it more or less than that of Figure 7.26?\n"
   ],
   "metadata": {
    "id": "zrS-8AVrDGsn"
   }
  },
  {
   "cell_type": "code",
   "execution_count": null,
   "source": [
    "#@title Hint {display-mode: \"form\"}\n",
    "print('Refer to Figures 7.26 and 7.25.')\n"
   ],
   "outputs": [],
   "metadata": {
    "id": "5Jh_m9j_DIW6"
   }
  },
  {
   "cell_type": "code",
   "execution_count": null,
   "source": [
    "#@title Answer {display-mode: \"form\"}\n",
    "from IPython.display import Markdown\n",
    "display(Markdown('''\n",
    "The expected search cost is $3(0.4) + 4(0.3) + 2(0.3) + 1(0.1) = 2.9$, which is more than that of Figure 7.26.\n",
    "'''))\n"
   ],
   "outputs": [],
   "metadata": {
    "id": "mEUYZzclDSza"
   }
  },
  {
   "cell_type": "markdown",
   "source": [
    "## <font color=red>7.9 Compression Confession</font>\n"
   ],
   "metadata": {
    "id": "1ntVYabyD_J4"
   }
  },
  {
   "cell_type": "markdown",
   "source": [
    "### Exercise 7.9.1\n"
   ],
   "metadata": {
    "id": "pwqEAg69D_hb"
   }
  },
  {
   "cell_type": "markdown",
   "source": [
    "Investigate other encoding methods that yield prefix-free (AKA prefix) codes. Are these always uniquely decodable? Are only prefix-free codes uniquely decodable?\n"
   ],
   "metadata": {
    "id": "0JFj9LqVEAkt"
   }
  },
  {
   "cell_type": "code",
   "execution_count": null,
   "source": [
    "#@title Hint {display-mode: \"form\"}\n",
    "print('A simple web search is at your fingertips.')\n"
   ],
   "outputs": [],
   "metadata": {
    "id": "pQ3E9VfiEEt0"
   }
  },
  {
   "cell_type": "code",
   "execution_count": null,
   "source": [
    "#@title Answer {display-mode: \"form\"}\n",
    "from IPython.display import Markdown\n",
    "display(Markdown('''\n",
    "The answers are &ldquo;yes&rdquo; and &ldquo;no.&rdquo;\n",
    "'''))\n"
   ],
   "outputs": [],
   "metadata": {
    "id": "-VpjupMrEIIz"
   }
  },
  {
   "cell_type": "markdown",
   "source": [
    "### Exercise 7.9.2\n"
   ],
   "metadata": {
    "id": "VE8UO8NKEMea"
   }
  },
  {
   "cell_type": "markdown",
   "source": [
    "Contributed by Hannah Parker.\n"
   ],
   "metadata": {
    "id": "Nn3AQzrSENh6"
   }
  },
  {
   "cell_type": "markdown",
   "source": [
    "Create by hand a Huffman tree for the title of the book, &ldquo;First Three Odds&rdquo; (all uppercased and without the spaces).\n"
   ],
   "metadata": {
    "id": "KIf44BvGERKo"
   }
  },
  {
   "cell_type": "code",
   "execution_count": null,
   "source": [
    "#@title Hint {display-mode: \"form\"}\n",
    "print('Use a drawing tool for neatness.')\n",
    "print('The challenge is in doing it by hand and really understanding the algorithm without looking at an implementation of it.')\n"
   ],
   "outputs": [],
   "metadata": {
    "id": "P4bU5wd3EUDL"
   }
  },
  {
   "cell_type": "code",
   "execution_count": null,
   "source": [
    "#@title Answer {display-mode: \"form\"}\n",
    "from IPython.display import Markdown\n",
    "display(Markdown('''\n",
    "Visit the website by clicking on the link printed out by running the code block below if you already have a solution to compare with the solution shown there.\n",
    "'''))\n"
   ],
   "outputs": [],
   "metadata": {
    "id": "UffxZ09MEbVI"
   }
  },
  {
   "cell_type": "code",
   "execution_count": null,
   "source": [
    "#@title Answer {display-mode: \"form\"}\n",
    "print('http://huffman.ooz.ie/?text=FIRSTTHREEODDS')\n"
   ],
   "outputs": [],
   "metadata": {
    "id": "2nlKPCkbFCsz"
   }
  },
  {
   "cell_type": "markdown",
   "source": [
    "## <font color=red>7.10 Encoding and Decoding</font>\n"
   ],
   "metadata": {
    "id": "cFIH8k54FITS"
   }
  },
  {
   "cell_type": "markdown",
   "source": [
    "### Exercise 7.10.1\n"
   ],
   "metadata": {
    "id": "cba1rkf4FJr4"
   }
  },
  {
   "cell_type": "markdown",
   "source": [
    "Contributed by Chat Wilkerson.\n"
   ],
   "metadata": {
    "id": "WXp9JSrOFKbr"
   }
  },
  {
   "cell_type": "markdown",
   "source": [
    "What does ```1110000011110101010010110000111001011111``` decode to given the encoding table below?\n"
   ],
   "metadata": {
    "id": "rmIB2XY1FLEn"
   }
  },
  {
   "cell_type": "markdown",
   "source": [
    "|         |            |\n",
    "|---------|------------|\n",
    "| ```a``` | ```1100``` |\n",
    "| ```c``` | ```1101``` |\n",
    "| ```d``` | ```1110``` |\n",
    "| ```h``` | ```1111``` |\n",
    "| ```i``` | ```000``` |\n",
    "| ```m``` | ```001``` |\n",
    "| ```r``` | ```010``` |\n",
    "| ```s``` | ```011``` |\n",
    "| ```e``` | ```100``` |\n",
    "| ```t``` | ```101``` |\n"
   ],
   "metadata": {
    "id": "fjNE-1XJFMV1"
   }
  },
  {
   "cell_type": "code",
   "execution_count": null,
   "source": [
    "#@title Hint {display-mode: \"form\"}\n",
    "print(\"Think of the general subject you're studying.\")\n"
   ],
   "outputs": [],
   "metadata": {
    "id": "RHvLL8N9FTK-"
   }
  },
  {
   "cell_type": "code",
   "execution_count": null,
   "source": [
    "#@title Answer {display-mode: \"form\"}\n",
    "from IPython.display import Markdown\n",
    "display(Markdown('''\n",
    "The message &ldquo;discretemath&rdquo; is the answer.\n",
    "'''))\n"
   ],
   "outputs": [],
   "metadata": {
    "id": "YcePzUIEFYWg"
   }
  },
  {
   "cell_type": "markdown",
   "source": [
    "## <font color=red>7.11 Walking It Through</font>\n"
   ],
   "metadata": {
    "id": "zK52s_FjFbuM"
   }
  },
  {
   "cell_type": "markdown",
   "source": [
    "### Exercise 7.11.1\n"
   ],
   "metadata": {
    "id": "FfLemp2uFc3r"
   }
  },
  {
   "cell_type": "markdown",
   "source": [
    "Contributed by Colin Dye.\n"
   ],
   "metadata": {
    "id": "vCjyD-qjFdtd"
   }
  },
  {
   "cell_type": "markdown",
   "source": [
    "Huffman encode ```AARDVARK```.\n"
   ],
   "metadata": {
    "id": "vi9eLbHkFf4J"
   }
  },
  {
   "cell_type": "code",
   "execution_count": null,
   "source": [
    "#@title Hint {display-mode: \"form\"}\n",
    "print('What are the interesting questions to answer?')\n"
   ],
   "outputs": [],
   "metadata": {
    "id": "Dg-UgRBoFgR9"
   }
  },
  {
   "cell_type": "code",
   "execution_count": null,
   "source": [
    "#@title Answer {display-mode: \"form\"}\n",
    "from IPython.display import Markdown\n",
    "display(Markdown('''\n",
    "Frequency table:\n",
    "```{'A': 3, 'D': 1, 'K': 1, 'R': 2, 'V': 1}```\n",
    "\n",
    "Huffman Tree:\n",
    "\n",
    "```\n",
    "             VRDKA8\n",
    "            0/    \\\\1\n",
    "            VR    DKA\n",
    "          0/ \\\\1   0/ \\\\1\n",
    "          V   R   DK  A\n",
    "                 0/\\\\1\n",
    "                 D  K\n",
    "```\n",
    "In the following table, expand the abbreviations in the column headers as follows:\n",
    "* Char = Character\n",
    "* C = Code\n",
    "* B = # of Bits in Code\n",
    "* F = Frequency Count\n",
    "* $\\\\times$ = # of Bits $\\\\times$ Count\n",
    "\n",
    "| Char | C | B | F | $\\\\times$ |\n",
    "|------|--:|--:|--:|----------:|\n",
    "| D      | 100  |  3 | 1 |  3 |\n",
    "| K      | 101  |  3 | 1 |  3 |\n",
    "| V      |  00  |  2 | 1 |  2 |\n",
    "| R      |  01  |  2 | 2 |  4 |\n",
    "| A      |  11  |  2 | 3 |  6 |\n",
    "| Totals |      | 12 | 8 | 18 |\n",
    "'''))\n"
   ],
   "outputs": [],
   "metadata": {
    "id": "y13HQL2eGkQa"
   }
  },
  {
   "cell_type": "code",
   "execution_count": null,
   "source": [
    "#@title Answer {display-mode: \"form\"}\n",
    "# Compression Ratio:\n",
    "total_characters = len('AARDVARK')\n",
    "fixed_bits_per_character = 3 # = log base 2 of total_characters\n",
    "fixed_size = fixed_bits_per_character * total_characters\n",
    "size = 18 # from above table\n",
    "(fixed_size - size) / fixed_size * 100\n"
   ],
   "outputs": [],
   "metadata": {
    "id": "gKdOwbhTHOSq"
   }
  },
  {
   "cell_type": "markdown",
   "source": [
    "### Exercise 7.11.2\n"
   ],
   "metadata": {
    "id": "VaHu1zz7HTeZ"
   }
  },
  {
   "cell_type": "markdown",
   "source": [
    "Contributed by Kendall Carr.\n"
   ],
   "metadata": {
    "id": "NKZu1vfdHVCv"
   }
  },
  {
   "cell_type": "markdown",
   "source": [
    "Can two-letter words be compressed with Huffman Encoding?\n"
   ],
   "metadata": {
    "id": "Wz9rJoYbHVs7"
   }
  },
  {
   "cell_type": "code",
   "execution_count": null,
   "source": [
    "#@title Hint {display-mode: \"form\"}\n",
    "print('Try it!')\n"
   ],
   "outputs": [],
   "metadata": {
    "id": "LE1aBxaXHWf7"
   }
  },
  {
   "cell_type": "code",
   "execution_count": null,
   "source": [
    "#@title Answer {display-mode: \"form\"}\n",
    "from IPython.display import Markdown\n",
    "display(Markdown('''\n",
    "No, because the Huffman tree is balanced in this case.\n",
    "\n",
    "There would be no difference in length between Huffman and fixed-length encoding.\n",
    "\n",
    "The compression ratio would be zero.\n",
    "'''))\n"
   ],
   "outputs": [],
   "metadata": {
    "id": "7vEf-5jTHY6-"
   }
  },
  {
   "cell_type": "markdown",
   "source": [
    "### Exercise 7.11.3\n"
   ],
   "metadata": {
    "id": "F6DjX3A8He-l"
   }
  },
  {
   "cell_type": "markdown",
   "source": [
    "Contributed by Trevor Neri.\n"
   ],
   "metadata": {
    "id": "qONt2fndHhli"
   }
  },
  {
   "cell_type": "markdown",
   "source": [
    "Find the best compression ratio achievable when Huffman encoding the following four words, each as an individual message:\n",
    "1. data\n",
    "2. compression\n",
    "3. huffman\n",
    "4. trees\n"
   ],
   "metadata": {
    "id": "kJi-toZxHiee"
   }
  },
  {
   "cell_type": "code",
   "execution_count": null,
   "source": [
    "#@title Hint {display-mode: \"form\"}\n",
    "print('These are easy enough to do by hand.')\n"
   ],
   "outputs": [],
   "metadata": {
    "id": "ZBWHDTcBHj26"
   }
  },
  {
   "cell_type": "code",
   "execution_count": null,
   "source": [
    "#@title Answer {display-mode: \"form\"}\n",
    "from IPython.display import Markdown\n",
    "display(Markdown('''\n",
    "The winner is &ldquo;data.&rdquo;\n",
    "1. data: 25%\n",
    "2. compression: 20.45%\n",
    "3. huffman: 14.29%\n",
    "4. trees: 0.00%\n",
    "'''))\n"
   ],
   "outputs": [],
   "metadata": {
    "id": "mifq37ZJHmY-"
   }
  },
  {
   "cell_type": "markdown",
   "source": [
    "### Exercise 7.11.4\n"
   ],
   "metadata": {
    "id": "gYnwwbaVHqWK"
   }
  },
  {
   "cell_type": "markdown",
   "source": [
    "Contributed by Austin Lundberg.\n"
   ],
   "metadata": {
    "id": "WwWpK-cKHqoj"
   }
  },
  {
   "cell_type": "markdown",
   "source": [
    "Which message out of the following list will yield the lowest compression ratio without being zero?\n"
   ],
   "metadata": {
    "id": "z-bHlmRZIH9J"
   }
  },
  {
   "cell_type": "markdown",
   "source": [
    "What is the compression ratio?\n"
   ],
   "metadata": {
    "id": "IY-IUnuUIIsm"
   }
  },
  {
   "cell_type": "markdown",
   "source": [
    "Why it is the lowest?\n"
   ],
   "metadata": {
    "id": "SLbq7AnuIJYs"
   }
  },
  {
   "cell_type": "code",
   "execution_count": null,
   "source": [
    "list_of_sauces = [\n",
    "  'anchovyessence',\n",
    "  'avgolemono',\n",
    "  'avocadosauce',\n",
    "  'barbecuesauce',\n",
    "  'breadsauce',\n",
    "  'cocktailsauce',\n",
    "  'cornsauce',\n",
    "  'coulis',\n",
    "  'ducksauce',\n",
    "  'egusisauce',\n",
    "  'frysauce',\n",
    "  'mahyawa',\n",
    "  'mignonettesauce',\n",
    "  'mintsauce',\n",
    "  'mushroomketchup',\n",
    "  'normandesauce',\n",
    "  'pansauce',\n",
    "  'peppercornsauce',\n",
    "  'rainbowsauce',\n",
    "  'ravigotesauce',\n",
    "  'romesco',\n",
    "  'saladdressing',\n",
    "  'salsa',\n",
    "  'satzibeli',\n",
    "  'sauceandalouse',\n",
    "  'sofrito',\n",
    "  'sourcreamsauce',\n",
    "  'steaksauce',\n",
    "  'sweetchilisauce',\n",
    "  'tomatosauce',\n",
    "  'vinaigrette',\n",
    "  'worcestershiresauce'\n",
    "  ]\n"
   ],
   "outputs": [],
   "metadata": {
    "id": "qEzMRRoQIKgm"
   }
  },
  {
   "cell_type": "code",
   "execution_count": null,
   "source": [
    "#@title Hint {display-mode: \"form\"}\n",
    "print('Make use of code for this one, and remember that unbalanced trees yield higher compression ratios.')\n"
   ],
   "outputs": [],
   "metadata": {
    "id": "SMZ2k4IzIP7B"
   }
  },
  {
   "cell_type": "code",
   "execution_count": null,
   "source": [
    "#@title Answer {display-mode: \"form\"}\n",
    "from IPython.display import Markdown\n",
    "display(Markdown('''\n",
    "The lowest compression ratio is realized by &ldquo;avocadosauce&rdquo; at 2.78%.\n",
    "\n",
    "This is because it has the most even distribution of its letters of all the words in this list,\n",
    "\n",
    "besides the ones that are so balanced that they have a 0% compression.\n",
    "\n",
    "A more balanced Huffman tree leads to a lower compression ratio.\n",
    "'''))\n"
   ],
   "outputs": [],
   "metadata": {
    "id": "kkV4Y_tvIT17"
   }
  },
  {
   "cell_type": "code",
   "execution_count": null,
   "source": [
    "#@title Answer {display-mode: \"form\"}\n",
    "# Helper code by Logan Hunt\n",
    "from math import ceil, log2\n",
    "\n",
    "class HuffmanNode(object):\n",
    "  def __init__(self, symbol=None, frequency=None):\n",
    "    self.symbol = symbol\n",
    "    self.freq = frequency\n",
    "    self.right = None\n",
    "    self.left = None\n",
    "  def __str__(self,):\n",
    "    # string representation\n",
    "    return \"(\" + str(self.symbol) + \",\" + str(round(self.freq,3)) + \")\"\n",
    "\n",
    "def findMinNode(list_of_nodes):\n",
    "  # 1 is the largest possible frequency\n",
    "  min_node = HuffmanNode(frequency=1)\n",
    "  for i in list_of_nodes:\n",
    "    if i.freq < min_node.freq:\n",
    "      min_node = i\n",
    "  return min_node\n",
    "\n",
    "def findUniqueLetters(dataString):\n",
    "  letters = []\n",
    "  for i in dataString:\n",
    "    if i not in letters:\n",
    "      letters.append(i)\n",
    "  return letters\n",
    "\n",
    "def buildHuffman(dataString):\n",
    "  # Initialize the list of huffman nodes\n",
    "  q = list(map(lambda x: HuffmanNode(x, dataString.count(x) / len(dataString)),\n",
    "               findUniqueLetters(dataString)))\n",
    "  T = HuffmanNode()\n",
    "  while (len(q) > 1):\n",
    "    left_node = findMinNode(q)\n",
    "    q.remove(left_node)\n",
    "    right_node = findMinNode(q)\n",
    "    q.remove(right_node)\n",
    "    T = HuffmanNode(frequency=left_node.freq + right_node.freq)\n",
    "    T.right = right_node\n",
    "    T.left = left_node\n",
    "    q.append(T)\n",
    "\n",
    "  return T\n",
    "\n",
    "def isLeaf(tree):\n",
    "  if (tree):\n",
    "    return (tree.right == tree.left and tree.right is None)\n",
    "\n",
    "def generateCodes(tree, curr_code=None, codes=None):\n",
    "  if (curr_code is None):\n",
    "    curr_code = list()\n",
    "  if (codes is None):\n",
    "    codes = dict()\n",
    "  if (tree.left):\n",
    "    curr_code.append(\"0\")\n",
    "    generateCodes(tree.left, curr_code, codes)\n",
    "    curr_code.pop()\n",
    "  if (tree.right):\n",
    "    curr_code.append(\"1\")\n",
    "    generateCodes(tree.right, curr_code, codes)\n",
    "    curr_code.pop()\n",
    "\n",
    "  if tree.symbol:\n",
    "    codes[\"\".join(curr_code)] = str(tree.symbol)\n",
    "    curr_code = \"\"\n",
    "\n",
    "  return codes\n",
    "\n",
    "def encodeHuffman(dataString, codes=None):\n",
    "  returnTree  = False\n",
    "  if (codes is None):\n",
    "    returnTree = True\n",
    "    tempTree = buildHuffman(dataString)\n",
    "    codes = generateCodes(tempTree)\n",
    "  encoded = \"\"\n",
    "  reversed_codes = dict(list(map(lambda x: [codes[x], x], codes.keys())))\n",
    "  for i in dataString:\n",
    "    encoded += reversed_codes[str(i)]\n",
    "\n",
    "  if (returnTree):\n",
    "    return [encoded, tempTree]\n",
    "  return encoded\n",
    "\n",
    "calcF = lambda num_objects: ceil(log2(num_objects))\n",
    "\n",
    "def calculateCompressionRatio(string):\n",
    "  tempTree = buildHuffman(string)\n",
    "  codes = generateCodes(tempTree)\n",
    "  numBitsWithFixed = len(string) * calcF(len(codes))\n",
    "  numBitsWithHuffman = len(encodeHuffman(string, codes))\n",
    "  return round(100*((numBitsWithFixed-numBitsWithHuffman)/numBitsWithFixed), 2)\n",
    "\n",
    "list_of_sauces = ['anchovyessence','avgolemono','avocadosauce','barbecuesauce',\n",
    "                  'breadsauce','cocktailsauce','cornsauce','coulis','ducksauce',\n",
    "                  'egusisauce','frysauce','mahyawa','mignonettesauce',\n",
    "                  'mintsauce','mushroomketchup','normandesauce','pansauce',\n",
    "                  'peppercornsauce','rainbowsauce','ravigotesauce','romesco',\n",
    "                  'saladdressing','salsa','satzibeli','sauceandalouse',\n",
    "                  'sofrito','sourcreamsauce','steaksauce','sweetchilisauce',\n",
    "                  'tomatosauce','vinaigrette','worcestershiresauce']\n",
    "\n",
    "min_cr = float('inf')\n",
    "word = None\n",
    "for sauce in list_of_sauces:\n",
    "  curr_cr = calculateCompressionRatio(sauce)\n",
    "  if (curr_cr < min_cr and not curr_cr == 0):\n",
    "    min_cr = curr_cr\n",
    "    word = sauce\n",
    "\n",
    "print(\"Minimum: \" + str(min_cr) + \" \" + word)\n"
   ],
   "outputs": [],
   "metadata": {
    "id": "tEUhR-jmIZM7"
   }
  },
  {
   "cell_type": "markdown",
   "source": [
    "### Exercise 7.11.5\n"
   ],
   "metadata": {
    "id": "zEhVA-h_IgS1"
   }
  },
  {
   "cell_type": "markdown",
   "source": [
    "Contributed by Aaron Picker.\n"
   ],
   "metadata": {
    "id": "p6EMmaqsIkuB"
   }
  },
  {
   "cell_type": "markdown",
   "source": [
    "Hopefully by now you've noticed that the trace of the &ldquo;ever-shrinking queue&rdquo; is very similar to the tree that is built from it.\n"
   ],
   "metadata": {
    "id": "zvZUAqfYIlaM"
   }
  },
  {
   "cell_type": "markdown",
   "source": [
    "How can you get the character bit code lengths from this trace without drawing the tree?\n"
   ],
   "metadata": {
    "id": "67MmuZJWIpXE"
   }
  },
  {
   "cell_type": "code",
   "execution_count": null,
   "source": [
    "#@title Hint {display-mode: \"form\"}\n",
    "print('You can do this by sight.')\n"
   ],
   "outputs": [],
   "metadata": {
    "id": "mcFL7IS9Ist_"
   }
  },
  {
   "cell_type": "code",
   "execution_count": null,
   "source": [
    "#@title Answer {display-mode: \"form\"}\n",
    "from IPython.display import Markdown\n",
    "display(Markdown('''\n",
    "The point of this is to further illustrate that after completing the process of consolidating the nodes, you already have the tree in front of you.\n",
    "\n",
    "Creating a tree may help to visualize the information, but is unnecessary except to store the data.\n",
    "\n",
    "Starting at the bottom, count the number of times a given character changes grouping.\n",
    "\n",
    "Once you reach the single character, you're done.\n",
    "\n",
    "Do this for all of the characters and you have all the information you need to calculate compression.\n",
    "\n",
    "Of course, you can do the same thing starting at the top.\n",
    "'''))\n"
   ],
   "outputs": [],
   "metadata": {
    "id": "mZi2J9xjIvQa"
   }
  },
  {
   "cell_type": "code",
   "execution_count": null,
   "source": [
    "#@title Answer {display-mode: \"form\"}\n",
    "#### For example\n",
    "# tesq = The Ever-Shrinking Queue\n",
    "# For clarity, separate letter combinations from\n",
    "# their frequency counts with a '-' character.\n",
    "tesq = '''\n",
    "A-1 D-1 H-1 M-1 R-1 N-1 P-1 T-2 L-2 O-2 E-3 S-4\n",
    "H-1 M-1 R-1 N-1 P-1 T-2 L-2 O-2 AD-2 E-3 S-4\n",
    "R-1 N-1 P-1 T-2 L-2 O-2 AD-2 HM-2 E-3 S-4\n",
    "P-1 T-2 L-2 O-2 AD-2 HM-2 RN-2 E-3 S-4\n",
    "L-2 O-2 AD-2 HM-2 RN-2 E-3 PT-3 S-4\n",
    "AD-2 HM-2 RN-2 E-3 PT-3 S-4 LO-4\n",
    "RN-2 E-3 PT-3 S-4 LO-4 ADHM-4\n",
    "PT-3 S-4 LO-4 ADHM-4 RNE-5\n",
    "LO-4 ADHM-4 RNE-5 PTS-7\n",
    "RNE-5 PTS-7 LOADHM-8\n",
    "LOADHM-8 RNEPTS-12\n",
    "LOADHMRNEPTS-20\n",
    "'''\n",
    "# Start at line 16 and move backwards\n",
    "# All letter bit code lengths are initially zero\n",
    "\n",
    "chars = ['A', 'D', 'H', 'M', 'R', 'N', 'P', 'T', 'L', 'O', 'E', 'S']\n",
    "freqs = dict(zip(chars, [0]*len(chars)))\n",
    "# At line 15, all letters have changed groupings\n",
    "for key in freqs.keys():\n",
    "  freqs[key] += 1\n",
    "# At line 14, 'RNE' and 'PTS' have changed groupings\n",
    "for key in 'RNEPTS':\n",
    "  freqs[key] += 1\n",
    "# At line 13, 'LO' and 'ADHM' have changed groupings\n",
    "for key in 'LOADHM':\n",
    "  freqs[key] += 1\n",
    "# At line 12, 'PT' and 'S' have changed groupings\n",
    "for key in 'PTS':\n",
    "  freqs[key] += 1\n",
    "# At line 11, 'RN' and 'E' have changed groupings\n",
    "for key in 'RNE':\n",
    "  freqs[key] += 1\n",
    "# At line 10, 'AD' and 'HM' have changed groupings\n",
    "for key in 'ADHM':\n",
    "  freqs[key] += 1\n",
    "# At line 9, 'L' and 'O' have changed groupings\n",
    "for key in 'LO':\n",
    "  freqs[key] += 1\n",
    "# At line 8, 'P' and 'T' have changed groupings\n",
    "for key in 'PT':\n",
    "  freqs[key] += 1\n",
    "# At line 7, 'R' and 'N' have changed groupings\n",
    "for key in 'RN':\n",
    "  freqs[key] += 1\n",
    "# At line 6, 'H' and 'M' have changed groupings\n",
    "for key in 'HM':\n",
    "  freqs[key] += 1\n",
    "# At line 5, 'A' and 'D' have changed groupings\n",
    "for key in 'AD':\n",
    "  freqs[key] += 1\n",
    "print(freqs)\n"
   ],
   "outputs": [],
   "metadata": {
    "id": "I7QjIxaHI8Od"
   }
  },
  {
   "cell_type": "markdown",
   "source": [
    "### Exercise 7.11.6\n"
   ],
   "metadata": {
    "id": "x9CfBFfIJCdS"
   }
  },
  {
   "cell_type": "markdown",
   "source": [
    "Contributed by Fernando Gomez.\n"
   ],
   "metadata": {
    "id": "VsV9TsBrJFH0"
   }
  },
  {
   "cell_type": "markdown",
   "source": [
    "Write your own python code to determine the frequency of each letter in a song with repetitious lyrics, for example, the famous Beatles song &ldquo;Here Comes the Sun,&rdquo; then\n"
   ],
   "metadata": {
    "id": "3jOHdLlVJGR9"
   }
  },
  {
   "cell_type": "markdown",
   "source": [
    "1. Manually draw the Huffman tree.\n",
    "2. Find the bit encodings for each letter.\n",
    "3. Build a table like Table 7.10 and calculate the average number of bits and the compression ratio.\n"
   ],
   "metadata": {
    "id": "Zx6OG212JIXX"
   }
  },
  {
   "cell_type": "code",
   "execution_count": null,
   "source": [
    "#@title Hint {display-mode: \"form\"}\n",
    "from IPython.display import Markdown\n",
    "display(Markdown('''\n",
    "Walk it through! This is an exercise that involves string manipulation in Python.\n",
    "\n",
    "Get rid of commas, apostrophes, and spaces.\n",
    "\n",
    "Then use whatever program you want to draw the Huffman tree.\n",
    "'''))\n"
   ],
   "outputs": [],
   "metadata": {
    "id": "FwYpwgbNJN4H"
   }
  },
  {
   "cell_type": "code",
   "execution_count": null,
   "source": [
    "#@title Answer {display-mode: \"form\"}\n",
    "#### Character Frequency\n",
    "\n",
    "song = \"\"\"Here comes the sun, do, dun, do, do\n",
    "Here comes the sun, and I say\n",
    "It's all right\n",
    "Little darling, it's been a long cold lonely winter\n",
    "Little darling, it feels like years since it's been here\n",
    "Here comes the sun, do, dun, do, do\n",
    "Here comes the sun, and I say\n",
    "It's all right\n",
    "Little darling, the smile's returning to their faces\n",
    "Little darling, it seems like years since it's been here\n",
    "Here comes the\n",
    "Here comes the\n",
    "It's all right\n",
    "Sun, sun, sun,\n",
    "Sun, sun, sun,\n",
    "Sun, sun, sun,\n",
    "Sun, sun, sun,\n",
    "Sun, sun, sun,\n",
    "Little darling, I feel that ice is slowly melting\n",
    "Little darling, it seems like years since it's been clear\n",
    "Here comes the sun, do, dun, do, do\n",
    "Here comes the sun, and I say\n",
    "sun, do, dun, do, do sun, and I say\n",
    "here it comes\n",
    "here it comes\n",
    "here it comes\n",
    "here it comes\n",
    "here it comes\n",
    "It's all right\n",
    "Here comes the sun, do, dun, do, do\n",
    "Here comes the sun\n",
    "It's all right\n",
    "It's all right\"\"\"\n",
    "\n",
    "message = song.replace(' ','').replace(\"'\",'').replace(',','').replace('\\n','').upper()\n",
    "\n",
    "all_freq = {}\n",
    "\n",
    "for i in message:\n",
    "  if i in all_freq:\n",
    "    all_freq[i] += 1\n",
    "  else:\n",
    "    all_freq[i] = 1\n",
    "\n",
    "print('Letter count:', len(message))\n",
    "print({k: v for k, v in sorted(all_freq.items(), key=lambda item: item[1])})\n"
   ],
   "outputs": [],
   "metadata": {
    "id": "4PIdVFbVJP_o"
   }
  },
  {
   "cell_type": "code",
   "execution_count": null,
   "source": [
    "#@title Answer Continued {display-mode: \"form\"}\n",
    "from IPython.display import Markdown\n",
    "display(Markdown('''\n",
    "Huffman Tree\n",
    "============\n",
    "\n",
    "![here-comes-the-sun-Huffman-tree.png](data:image/png;base64,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)\n",
    "\n",
    "Data Extracted from Huffman Tree\n",
    "================================\n",
    "\n",
    "In the following table, expand the abbreviations in the column headers as follows:\n",
    "* Char = Character\n",
    "* C = Code\n",
    "* B = # of Bits in Code\n",
    "* F = Frequency Count\n",
    "* $\\\\times$ = # of Bits $\\\\times$ Count\n",
    "\n",
    "| Char | C | B | F | $\\\\times$ |\n",
    "|------|--:|--:|--:|----------:|\n",
    "| W      | 10010100 |  8 |   2 |   16 |\n",
    "| F      | 10010101 |  8 |   3 |   24 |\n",
    "| K      | 10010110 |  8 |   3 |   24 |\n",
    "| B      | 10010111 |  8 |   4 |   32 |\n",
    "| Y      |   100100 |  6 |   9 |   54 |\n",
    "| G      |    00110 |  5 |  15 |   75 |\n",
    "| M      |    00111 |  5 |  19 |   95 |\n",
    "| C      |    10011 |  5 |  22 |  110 |\n",
    "| A      |     0000 |  4 |  27 |  108 |\n",
    "| D      |     0001 |  4 |  31 |  124 |\n",
    "| U      |     0010 |  4 |  31 |  124 |\n",
    "| O      |     0110 |  4 |  35 |  140 |\n",
    "| H      |     0111 |  4 |  36 |  144 |\n",
    "| R      |     1000 |  4 |  37 |  148 |\n",
    "| L      |     1010 |  4 |  44 |  176 |\n",
    "| N      |     1011 |  4 |  53 |  212 |\n",
    "| I      |     1110 |  4 |  54 |  216 |\n",
    "| T      |     1111 |  4 |  54 |  216 |\n",
    "| S      |      010 |  3 |  70 |  210 |\n",
    "| E      |      110 |  3 | 100 |  300 |\n",
    "| Totals |          | 99 | 649 | 2548 |\n",
    "'''))\n"
   ],
   "outputs": [],
   "metadata": {
    "id": "RKdE_8tIJfHy"
   }
  },
  {
   "cell_type": "code",
   "execution_count": null,
   "source": [
    "#@title Answer Calculations {display-mode: \"form\"}\n",
    "# Fixed length encoding is 5\n",
    "# 5 x 649 = 3245\n",
    "# 3245 - 2546 = 697 bits are saved!\n",
    "# Average Number of Bits\n",
    "ave_num_bits = 2548/649\n",
    "print(f'{ave_num_bits:.2f}') # Prints 3.93\n",
    "# Compression\n",
    "fixed_num_bits = 5\n",
    "compression_ratio = ((fixed_num_bits - ave_num_bits) / fixed_num_bits) * 100\n",
    "print(f'{compression_ratio:.1f}%') # Prints 21.5%\n"
   ],
   "outputs": [],
   "metadata": {
    "id": "esW8HQW7LCU2"
   }
  },
  {
   "cell_type": "markdown",
   "source": [
    "### Exercise 7.11.7\n"
   ],
   "metadata": {
    "id": "qeqm3hGjLMmP"
   }
  },
  {
   "cell_type": "markdown",
   "source": [
    "Contributed by Davis Kerr.\n"
   ],
   "metadata": {
    "id": "WiMsa62ULM8D"
   }
  },
  {
   "cell_type": "markdown",
   "source": [
    "Create a function that takes a text document and saves it in a compressed form.\n"
   ],
   "metadata": {
    "id": "tuY0eo4BLNwb"
   }
  },
  {
   "cell_type": "markdown",
   "source": [
    "Then create a function that decompresses it back.\n"
   ],
   "metadata": {
    "id": "PvU4mun8LTSZ"
   }
  },
  {
   "cell_type": "markdown",
   "source": [
    "Note the space differences of the saved files.\n"
   ],
   "metadata": {
    "id": "mtFtgWyRLUAt"
   }
  },
  {
   "cell_type": "code",
   "execution_count": null,
   "source": [
    "#@title Hint {display-mode: \"form\"}\n",
    "from IPython.display import Markdown\n",
    "display(Markdown('''\n",
    "What is a binary file?\n",
    "* Create a function that takes a text document and saves it in a compressed form.\n",
    "* Then create a function that decompresses it back.\n",
    "* Note the space differences of the saved files.\n",
    "'''))"
   ],
   "outputs": [],
   "metadata": {
    "id": "oU4TZyDLLU1k"
   }
  },
  {
   "cell_type": "code",
   "execution_count": null,
   "source": [
    "#@title Answer {display-mode: \"form\"}\n",
    "from IPython.display import Markdown\n",
    "display(Markdown('''\n",
    "Try it yourself! Study the code below, then create text files with as much text as you want.\n",
    "\n",
    "Send them to the compress function. The compress function will return a decode key.\n",
    "\n",
    "Use the key to decode the compressed file.\n",
    "\n",
    "Note: Do not include the extension in the filename when calling compress or decompress.\n",
    "'''))\n"
   ],
   "outputs": [],
   "metadata": {
    "id": "Myd2Zl8HLhGB"
   }
  },
  {
   "cell_type": "code",
   "execution_count": null,
   "source": [
    "#@title Answer {display-mode: \"form\"}\n",
    "# Utility Functions\n",
    "def buildTree(queue):\n",
    "  arr = []\n",
    "  while len(queue) > 1:\n",
    "    if len(queue) > 2:\n",
    "      item = ([queue[0][0], queue[1][0]], queue[0][1] + queue[1][1])\n",
    "      queue = insertQueue(queue[2:], item)\n",
    "    else:\n",
    "      queue = [[queue[0][0], queue[1][0]]]\n",
    "\n",
    "  return queue[0]\n",
    "\n",
    "def insertQueue(queue, item):\n",
    "  index = len(queue) // 2\n",
    "  val = item[1]\n",
    "  found = False\n",
    "  end = len(queue) - 1\n",
    "  while not found:\n",
    "    if queue[index][1] > val:\n",
    "      if index != 0:\n",
    "        if queue[index - 1][1] < val:\n",
    "          found = True\n",
    "          queue.insert(index, item)\n",
    "          break\n",
    "        else:\n",
    "          end = index\n",
    "          index = len(queue[0:index]) // 2\n",
    "      else:\n",
    "        queue.insert(0, item)\n",
    "        break\n",
    "    else:\n",
    "      if index != len(queue) - 1:\n",
    "        if queue[index + 1][1] > val:\n",
    "          found = True\n",
    "          queue.insert(index + 1, item)\n",
    "          break\n",
    "        else:\n",
    "          index = (len(queue[index + 1: end]) // 2) + index + 1\n",
    "      else:\n",
    "        found = True\n",
    "        queue.append(item)\n",
    "        break\n",
    "  return queue\n",
    "\n",
    "def encode(tree, message):\n",
    "  ref = tree_dict(tree, dict({}))\n",
    "  chars = [x for x in message]\n",
    "  bits = []\n",
    "  while len(chars) != 0:\n",
    "    found = False\n",
    "    for key in ref:\n",
    "      if ref[key] == chars[0]:\n",
    "        bits.append(key)\n",
    "        chars = chars[1:]\n",
    "        found = True\n",
    "        break\n",
    "    if not found:\n",
    "      print(f'ERROR! MESSAGE INCOMPATIBLE AT CHAR {chars[0]}')\n",
    "      return False\n",
    "  return ''.join(bits)\n",
    "\n",
    "def decode(tree, message):\n",
    "  ref = tree_dict(tree, dict({}))\n",
    "  final = []\n",
    "  temp = ''\n",
    "  for bit in message:\n",
    "    temp = temp + bit\n",
    "    if temp in ref:\n",
    "      final.append(ref[temp])\n",
    "      temp = ''\n",
    "  if temp != '':\n",
    "    print(\"ERROR! Invalid encoded string!\")\n",
    "    return False\n",
    "  else:\n",
    "    return ''.join(final)\n",
    "\n",
    "def tree_dict(tree, ref, current_path=''):\n",
    "  if len(tree) == 2:\n",
    "    if isinstance(tree[0], str):\n",
    "      d = {current_path + '0' : tree[0]}\n",
    "      ref.update(d)\n",
    "    else:\n",
    "      ref = tree_dict(tree[0], ref, current_path + '0')\n",
    "    if isinstance(tree[1], str):\n",
    "      d = {current_path + '1' : tree[1]}\n",
    "      ref.update(d)\n",
    "    else:\n",
    "      ref = tree_dict(tree[1], ref, current_path + '1')\n",
    "  return ref\n",
    "\n",
    "# Compress\n",
    "from array import *\n",
    "import os\n",
    "\n",
    "def findFreq(text):\n",
    "  final = []\n",
    "  freq = dict({})\n",
    "  for letter in text:\n",
    "    if letter in freq:\n",
    "      freq[letter] += 1\n",
    "    else:\n",
    "      d = {letter : 1}\n",
    "      freq.update(d)\n",
    "  for key in freq:\n",
    "    final.append((key, freq[key]))\n",
    "  final.sort(key=sortHelper)\n",
    "  return final\n",
    "\n",
    "def sortHelper(e):\n",
    "  return e[1]\n",
    "\n",
    "def _to_Bytes(data):\n",
    "  left = []\n",
    "  b = bytearray()\n",
    "  for i in range(0, len(data), 8):\n",
    "    if i < (len(data) - 8):\n",
    "      pass\n",
    "      b.append(int(data[i:i+8], 2))\n",
    "    else:\n",
    "      left = data[i:]\n",
    "  b.append(int(left, 2))\n",
    "  flag = len(left)\n",
    "  b.append(flag)\n",
    "  return bytes(b)\n",
    "\n",
    "def compress(filePath):\n",
    "  old_size = 0\n",
    "  new_size = 0\n",
    "  try:\n",
    "    file = open(filePath + '.txt')\n",
    "    text = file.read()\n",
    "    old_size = os.path.getsize(filePath + '.txt')\n",
    "    file.close()\n",
    "  except FileNotFoundError:\n",
    "    print(\"NO SUCH FILE. PROGRAM TERMINATING.\")\n",
    "    return False\n",
    "  freq = findFreq(text)\n",
    "  tree = buildTree(freq)\n",
    "  bits = encode(tree, text)\n",
    "  encoding = _to_Bytes(bits)\n",
    "  new_file = open(filePath + \"_compressed.bin\", \"wb\")\n",
    "  new_file.write(encoding)\n",
    "  file.close()\n",
    "  new_size = os.path.getsize(filePath + \"_compressed.bin\")\n",
    "  print(f'Compression complete. The file was compressed by {new_size / old_size * 100}%')\n",
    "  print(f'with a change from {old_size} to {new_size}')\n",
    "  return tree\n",
    "\n",
    "# Decompress\n",
    "def _to_Bits(data):\n",
    "  bits = []\n",
    "  number = bytearray(data)\n",
    "  for i in range(len(number) - 1):\n",
    "    if i != len(number) - 2:\n",
    "      bits.append('{0:08b}'.format(number[i]))\n",
    "    else:\n",
    "      flag = '{0:0' + str(number[-1]) +'b}'\n",
    "      bits.append(flag.format(number[i]))\n",
    "  return ''.join(bits)\n",
    "\n",
    "def decompress(filePath, tree):\n",
    "  try:\n",
    "    file = open(filePath + '.bin', 'rb')\n",
    "    encoded = file.read()\n",
    "  except FileNotFoundError:\n",
    "    print(\"NO SUCH FILE. PROGRAM TERMINATING.\")\n",
    "    return False\n",
    "  bits = _to_Bits(encoded)\n",
    "  message = decode(tree, bits)\n",
    "  if message != False:\n",
    "    new_path = filePath + '_decompressed.txt'\n",
    "    new_file = open(new_path, 'w')\n",
    "    new_file.write(message)\n",
    "    new_file.close()\n",
    "    return f'Decompressed the file to {new_path}'\n",
    "  else:\n",
    "    return \"Failed!\"\n",
    "\n",
    "# Example usage one:\n",
    "!pip install python-lorem\n",
    "from lorem import get_paragraph\n",
    "# Generate a file with 40 lorem ipsum paragraphs\n",
    "with open('longtext.txt', 'w') as f:\n",
    "  f.write(get_paragraph(40))\n",
    "key = compress('longtext')\n",
    "print(decompress('longtext_compressed', key))\n",
    "\n",
    "# Example usage two\n",
    "# Generate a file with 100 lorem ipsum paragraphs\n",
    "with open('longertext.txt', 'w') as f:\n",
    "  f.write(get_paragraph(100))\n",
    "newkey = compress('longertext')\n",
    "print(decompress('longertext_compressed', newkey))\n",
    "!ls -l long*"
   ],
   "outputs": [],
   "metadata": {
    "id": "ChCNXXtLMTF_"
   }
  },
  {
   "cell_type": "markdown",
   "source": [
    "### Exercise 7.11.8\n"
   ],
   "metadata": {
    "id": "2-VnKGesQQu5"
   }
  },
  {
   "cell_type": "markdown",
   "source": [
    "Contributed by Cameron Lyman.\n"
   ],
   "metadata": {
    "id": "rR7Vpnj8QX4e"
   }
  },
  {
   "cell_type": "markdown",
   "source": [
    "What are some problems that Huffman encoding has when used in real-world scenarios?\n"
   ],
   "metadata": {
    "id": "8FnHehWtQYhn"
   }
  },
  {
   "cell_type": "markdown",
   "source": [
    "What methods or alternative compression algorithms can overcome those problems?\n"
   ],
   "metadata": {
    "id": "hoOxqlVnQZVF"
   }
  },
  {
   "cell_type": "code",
   "execution_count": null,
   "source": [
    "#@title Hint {display-mode: \"form\"}\n",
    "print('Think about how much space the key takes up.')\n"
   ],
   "outputs": [],
   "metadata": {
    "id": "d3stmRsWQcAP"
   }
  },
  {
   "cell_type": "code",
   "execution_count": null,
   "source": [
    "#@title Answer {display-mode: \"form\"}\n",
    "from IPython.display import Markdown\n",
    "display(Markdown('''\n",
    "In the case of very short messages, the key may take up more space than the compressed message.\n",
    "\n",
    "One workaround for this is to use the same encoding scheme of a given type, regardless of what the message may contain.\n",
    "\n",
    "A more complicated algorithm is &ldquo;arithmetic encoding.&rdquo;\n",
    "\n",
    "This has the advantage of working faster than Huffman encoding and can offer better compression, but it is more difficult to implement.\n",
    "'''))\n"
   ],
   "outputs": [],
   "metadata": {
    "id": "zLSvqjl2QfdW"
   }
  },
  {
   "cell_type": "markdown",
   "source": [
    "### Exercise 7.11.9\n"
   ],
   "metadata": {
    "id": "aVR9f3bLQq6k"
   }
  },
  {
   "cell_type": "markdown",
   "source": [
    "Contributed by Aaron Pennington.\n"
   ],
   "metadata": {
    "id": "Xjy_GV_cQrN5"
   }
  },
  {
   "cell_type": "markdown",
   "source": [
    "What other compression algorithms exist?\n"
   ],
   "metadata": {
    "id": "HGeY9IkBQsK4"
   }
  },
  {
   "cell_type": "markdown",
   "source": [
    "Is Huffman encoding the most effective one (in terms of compression ratio)?\n"
   ],
   "metadata": {
    "id": "KaKmkiuUQxQQ"
   }
  },
  {
   "cell_type": "markdown",
   "source": [
    "If not, what are the characteristics of a more efficient algorithm?\n"
   ],
   "metadata": {
    "id": "6kVxR5UnQyNe"
   }
  },
  {
   "cell_type": "code",
   "execution_count": null,
   "source": [
    "#@title Hint {display-mode: \"form\"}\n",
    "print('A delightful GPAO awaits.')\n"
   ],
   "outputs": [],
   "metadata": {
    "id": "3G2VZ3H_QzDk"
   }
  },
  {
   "cell_type": "code",
   "execution_count": null,
   "source": [
    "#@title Answer {display-mode: \"form\"}\n",
    "print('Or see the answer to Exercise 7.11.8.')\n"
   ],
   "outputs": [],
   "metadata": {
    "id": "ylF5wqMFQ1aC"
   }
  }
 ],
 "metadata": {
  "colab": {
   "authorship_tag": "ABX9TyNPM58p61YMTVKaDpz50bBo",
   "name": "chapter-7-trees-exercises.ipynb",
   "private_outputs": true,
   "provenance": [],
   "collapsed_sections": [],
   "toc_visible": true
  },
  "kernelspec": {
   "display_name": "Python 3",
   "language": "python",
   "name": "python3"
  },
  "language_info": {
   "codemirror_mode": {
    "name": "ipython",
    "version": 3
   },
   "file_extension": ".py",
   "mimetype": "text/x-python",
   "name": "python",
   "nbconvert_exporter": "python",
   "pygments_lexer": "ipython3",
   "version": "3.9.0"
  }
 },
 "nbformat": 4,
 "nbformat_minor": 1
}