{
 "cells": [
  {
   "cell_type": "markdown",
   "metadata": {
    "id": "tk6nSj5UYWET"
   },
   "source": [
    "# <font color=blue>Discrete Mathematics Course Notebook</font>\n",
    "## <font color=blue>CSE 280 02</font>\n",
    "### <font color=blue>Fall 2021</font>"
   ]
  },
  {
   "cell_type": "markdown",
   "metadata": {
    "id": "NgeEB8Bu0lIR"
   },
   "source": [
    "## <font color=red>Week 01: Introduction</font>"
   ]
  },
  {
   "cell_type": "markdown",
   "metadata": {
    "id": "QjabZgxL_dk6"
   },
   "source": [
    "[What is Discrete Mathematics?](https://colab.research.google.com/github/byui-cse/cse280-course-notebooks/blob/main/notebooks/what-is-discrete-mathematics.ipynb)"
   ]
  },
  {
   "cell_type": "markdown",
   "metadata": {
    "id": "Na9AqBro_xvI"
   },
   "source": [
    "[Prepare for Learning](https://colab.research.google.com/github/byui-cse/cse280-course-notebooks/blob/main/notebooks/prepare-for-learning.ipynb)"
   ]
  },
  {
   "cell_type": "markdown",
   "metadata": {
    "id": "-hE6H865kovL"
   },
   "source": [
    "[Chapter 1 Introductions Exercises](https://colab.research.google.com/github/byui-cse/cse280-course-notebooks/blob/main/notebooks/chapter-1-introductions-exercises.ipynb)"
   ]
  },
  {
   "cell_type": "markdown",
   "metadata": {
    "id": "kKPCFKRQmC7L"
   },
   "source": [
    "[Report on Chapter 1 Introductions Exercises](https://colab.research.google.com/github/byui-cse/cse280-course-notebooks/blob/main/notebooks/report-on-chapter-1-introductions-exercises.ipynb)"
   ]
  },
  {
   "cell_type": "markdown",
   "metadata": {
    "id": "R9-UXn3FsNOi"
   },
   "source": [
    "[Reflect and Report on Learning](https://colab.research.google.com/github/byui-cse/cse280-course-notebooks/blob/main/notebooks/reflect-and-report-on-learning.ipynb)"
   ]
  },
  {
   "cell_type": "markdown",
   "metadata": {
    "id": "_0AXuYUPUj00"
   },
   "source": [
    "### <font color=purple>In-Class Exercises</font>\n",
    "\n"
   ]
  },
  {
   "cell_type": "markdown",
   "metadata": {
    "id": "AU94ytR-2JwN"
   },
   "source": [
    "[Learn About Three and Eleven](https://colab.research.google.com/github/byui-cse/cse280-course-notebooks/blob/main/notebooks/learn-about-three-and-eleven.ipynb)"
   ]
  },
  {
   "cell_type": "markdown",
   "metadata": {
    "id": "cXDFp9-H15se"
   },
   "source": [
    "## <font color=red>Week 02: Sets and Logic</font>"
   ]
  },
  {
   "cell_type": "markdown",
   "metadata": {
    "id": "eody0ienCCVv"
   },
   "source": [
    "[Prepare for Sets and Logic](https://colab.research.google.com/github/byui-cse/cse280-course-notebooks/blob/main/notebooks/prepare-for-sets-and-logic.ipynb)"
   ]
  },
  {
   "cell_type": "markdown",
   "metadata": {
    "id": "ucvVlAooCJQg"
   },
   "source": [
    "[Chapter 2 Sets and Logic Exercises](https://colab.research.google.com/github/byui-cse/cse280-course-notebooks/blob/main/notebooks/chapter-2-sets-and-logic-exercises.ipynb)"
   ]
  },
  {
   "cell_type": "markdown",
   "metadata": {
    "id": "DSD0cmqKpVc-"
   },
   "source": [
    "[Report on Chapter 2 Sets and Logic Exercises](https://colab.research.google.com/github/byui-cse/cse280-course-notebooks/blob/main/notebooks/report-on-chapter-2-sets-and-logic-exercises.ipynb)"
   ]
  },
  {
   "cell_type": "markdown",
   "metadata": {
    "id": "-_vak8OaCT9i"
   },
   "source": [
    "[Think Logic](https://colab.research.google.com/github/byui-cse/cse280-course-notebooks/blob/main/notebooks/think-logic.ipynb)"
   ]
  },
  {
   "cell_type": "markdown",
   "metadata": {
    "id": "yHPQJg9yDBGF"
   },
   "source": [
    "[Reflect and Report on Sets and Logic](https://colab.research.google.com/github/byui-cse/cse280-course-notebooks/blob/main/notebooks/reflect-and-report-on-sets-and-logic.ipynb)"
   ]
  },
  {
   "cell_type": "markdown",
   "metadata": {
    "id": "Fll71evd9HQT"
   },
   "source": [
    "[Explore Foundations](https://colab.research.google.com/github/byui-cse/cse280-course-notebooks/blob/main/notebooks/explore-foundations.ipynb)"
   ]
  },
  {
   "cell_type": "markdown",
   "metadata": {
    "id": "f6EEEBpy5mGL"
   },
   "source": [
    "### <font color=purple>In-Class Exercises</font>\n",
    "\n"
   ]
  },
  {
   "cell_type": "markdown",
   "metadata": {
    "id": "yJMMbqcXCeTV"
   },
   "source": [
    "[Find the Connection Between a Pair of Words and a Three-Word Title](https://colab.research.google.com/github/byui-cse/cse280-course-notebooks/blob/main/notebooks/find-the-connection-between-a-pair-of-words-and-a-three-word-title.ipynb)"
   ]
  },
  {
   "cell_type": "markdown",
   "metadata": {
    "id": "CiYLfQLIe4H4"
   },
   "source": [
    "[Chapter 2 Sets and Logic In-Class Exercises](https://colab.research.google.com/github/byui-cse/cse280-course-notebooks/blob/main/notebooks/chapter-2-sets-and-logic-in-class-exercises.ipynb)"
   ]
  },
  {
   "cell_type": "markdown",
   "metadata": {
    "id": "qM5x8isWfAs0"
   },
   "source": [
    "[Solve Some Logic Puzzles](https://colab.research.google.com/github/byui-cse/cse280-course-notebooks/blob/main/notebooks/solve-some-logic-puzzles.ipynb)"
   ]
  },
  {
   "cell_type": "markdown",
   "metadata": {
    "id": "ktNIvALm150N"
   },
   "source": [
    "## <font color=red>Week 03: Functions</font>"
   ]
  },
  {
   "cell_type": "markdown",
   "metadata": {
    "id": "nJjT4NRkgQTF"
   },
   "source": [
    "[Prepare for Functions](https://colab.research.google.com/github/byui-cse/cse280-course-notebooks/blob/main/notebooks/prepare-for-functions.ipynb)"
   ]
  },
  {
   "cell_type": "markdown",
   "metadata": {
    "id": "CPKLDDJJuaBe"
   },
   "source": [
    "[Chapter 3 Functions Exercises](https://colab.research.google.com/github/byui-cse/cse280-course-notebooks/blob/main/notebooks/chapter-3-functions-exercises.ipynb)"
   ]
  },
  {
   "cell_type": "markdown",
   "metadata": {
    "id": "D3_c_0oNC5-U"
   },
   "source": [
    "[Report on Chapter 3 Functions Exercises](https://colab.research.google.com/github/byui-cse/cse280-course-notebooks/blob/main/notebooks/report-on-chapter-3-functions-exercises.ipynb)"
   ]
  },
  {
   "cell_type": "markdown",
   "metadata": {
    "id": "R9-UXn3FsNOi"
   },
   "source": [
    "[Reflect and Report on Functions](https://colab.research.google.com/github/byui-cse/cse280-course-notebooks/blob/main/notebooks/reflect-and-report-on-functions.ipynb)"
   ]
  },
  {
   "cell_type": "markdown",
   "metadata": {
    "id": "_0AXuYUPUj00"
   },
   "source": [
    "### <font color=purple>In-Class Exercises</font>\n",
    "\n"
   ]
  },
  {
   "cell_type": "markdown",
   "metadata": {
    "id": "AU94ytR-2JwN"
   },
   "source": [
    "[Learn About Square Roots and Factorials](https://colab.research.google.com/github/byui-cse/cse280-course-notebooks/blob/main/notebooks/learn-about-square-roots-and-factorials.ipynb)"
   ]
  },
  {
   "cell_type": "markdown",
   "metadata": {
    "id": "g3MDaTqn155H"
   },
   "source": [
    "## <font color=red>Week 04: Predicates and Quantifiers</font>"
   ]
  },
  {
   "cell_type": "markdown",
   "metadata": {
    "id": "9KYt4yKfveze"
   },
   "source": [
    "[Prepare for Predicates and Quantifiers](https://colab.research.google.com/github/byui-cse/cse280-course-notebooks/blob/main/notebooks/prepare-for-predicates-and-quantifiers.ipynb)"
   ]
  },
  {
   "cell_type": "markdown",
   "metadata": {
    "id": "MLPn6uIBvm5I"
   },
   "source": [
    "[Chapter 3 Predicates and Quantifiers Exercises](https://colab.research.google.com/github/byui-cse/cse280-course-notebooks/blob/main/notebooks/chapter-3-predicates-and-quantifiers-exercises.ipynb)"
   ]
  },
  {
   "cell_type": "markdown",
   "metadata": {
    "id": "l903oK7JxhSX"
   },
   "source": [
    "[Report on Chapter 3 Predicates and Quantifiers Exercises](https://colab.research.google.com/github/byui-cse/cse280-course-notebooks/blob/main/notebooks/report-on-chapter-3-predicates-and-quantifiers-exercises.ipynb)\n"
   ]
  },
  {
   "cell_type": "markdown",
   "metadata": {
    "id": "G9CtiQFlxhrj"
   },
   "source": [
    "[Reflect and Report on Predicates and Quantifiers](https://colab.research.google.com/github/byui-cse/cse280-course-notebooks/blob/main/notebooks/reflect-and-report-on-predicates-and-quantifiers.ipynb)\n"
   ]
  },
  {
   "cell_type": "markdown",
   "metadata": {
    "id": "6NSw4Kogm-98"
   },
   "source": [
    "### <font color=purple>In-Class Exercises</font>\n",
    "\n"
   ]
  },
  {
   "cell_type": "markdown",
   "metadata": {
    "id": "L8ck7UOom_ql"
   },
   "source": [
    "[Learn About Predicates and Quantifiers](https://colab.research.google.com/github/byui-cse/cse280-course-notebooks/blob/main/notebooks/learn-about-predicates-and-quantifiers.ipynb)"
   ]
  },
  {
   "cell_type": "markdown",
   "metadata": {
    "id": "aK6Hn1xJ8BTs"
   },
   "source": [
    "[Chapter 3 Predicates and Quantifiers In-Class Exercises](https://colab.research.google.com/github/byui-cse/cse280-course-notebooks/blob/main/notebooks/chapter-3-predicates-and-quantifiers-in-class-exercises.ipynb)\n"
   ]
  },
  {
   "cell_type": "markdown",
   "metadata": {
    "id": "8pkhawEgva8V"
   },
   "source": [
    "## <font color=red>Week 05: Relations</font>"
   ]
  },
  {
   "cell_type": "markdown",
   "metadata": {
    "id": "RlmkooFUuAxj"
   },
   "source": [
    "[Prepare for Relations](https://colab.research.google.com/github/byui-cse/cse280-course-notebooks/blob/main/notebooks/prepare-for-relations.ipynb)"
   ]
  },
  {
   "cell_type": "markdown",
   "metadata": {
    "id": "pX-KsO8UyBVR"
   },
   "source": [
    "[Chapter 4 Relations Exercises](https://colab.research.google.com/github/byui-cse/cse280-course-notebooks/blob/main/notebooks/chapter-4-relations-exercises.ipynb)"
   ]
  },
  {
   "cell_type": "markdown",
   "metadata": {
    "id": "QfmMHYlRyL0F"
   },
   "source": [
    "[Report on Chapter 4 Relations Exercises](https://colab.research.google.com/github/byui-cse/cse280-course-notebooks/blob/main/notebooks/report-on-chapter-4-relations-exercises.ipynb)"
   ]
  },
  {
   "cell_type": "markdown",
   "metadata": {
    "id": "F55SsqkWsii8"
   },
   "source": [
    "[Reflect and Report on Relations](https://colab.research.google.com/github/byui-cse/cse280-course-notebooks/blob/main/notebooks/reflect-and-report-on-relations.ipynb)\n"
   ]
  },
  {
   "cell_type": "markdown",
   "metadata": {
    "id": "ktlF3RqvrZKR"
   },
   "source": [
    "### <font color=purple>In-Class Exercises</font>\n",
    "\n"
   ]
  },
  {
   "cell_type": "markdown",
   "metadata": {
    "id": "WsfHHaLMrZKS"
   },
   "source": [
    "[Learn About Relations and Fractions](https://colab.research.google.com/github/byui-cse/cse280-course-notebooks/blob/main/notebooks/learn-about-relations-and-fractions.ipynb)\n"
   ]
  },
  {
   "cell_type": "markdown",
   "metadata": {
    "id": "6VvRNuYZD-Y9"
   },
   "source": [
    "[Relations with Quizlet Live](https://quizlet.com/live/572167)"
   ]
  },
  {
   "cell_type": "markdown",
   "metadata": {
    "id": "zL9drfBcPPfM"
   },
   "source": [
    "[Selected Questions and Answers About Abstract Relations](https://colab.research.google.com/github/byui-cse/cse280-course-notebooks/blob/main/notebooks/selected-questions-and-answers-about-abstract-relations.ipynb)\n"
   ]
  },
  {
   "cell_type": "markdown",
   "metadata": {
    "id": "0rvsHgvM1580"
   },
   "source": [
    "## <font color=red>Week 06: Combinatorics and Probability</font>"
   ]
  },
  {
   "cell_type": "markdown",
   "metadata": {
    "id": "eil1LG5OuJQi"
   },
   "source": [
    "[Prepare for Combinatorics and Probability](https://colab.research.google.com/github/byui-cse/cse280-course-notebooks/blob/main/notebooks/prepare-for-combinatorics-and-probability.ipynb)"
   ]
  },
  {
   "cell_type": "markdown",
   "metadata": {
    "id": "7vjWwfTuzgAV"
   },
   "source": [
    "[Chapter 5 Combinatorics and Probability Exercises](https://colab.research.google.com/github/byui-cse/cse280-course-notebooks/blob/main/notebooks/chapter-5-combinatorics-and-probability-exercises.ipynb)"
   ]
  },
  {
   "cell_type": "markdown",
   "metadata": {
    "id": "6gR0vWe60TGo"
   },
   "source": [
    "[Report on Chapter 5 Combinatorics and Probability Exercises](https://colab.research.google.com/github/byui-cse/cse280-course-notebooks/blob/main/notebooks/report-on-chapter-5-combinatorics-and-probability-exercises.ipynb)\n"
   ]
  },
  {
   "cell_type": "markdown",
   "metadata": {
    "id": "Xd4Vh_zpsj-t"
   },
   "source": [
    "[Reflect and Report on Combinatorics and Probability](https://colab.research.google.com/github/byui-cse/cse280-course-notebooks/blob/main/notebooks/reflect-and-report-on-combinatorics-and-probability.ipynb)\n"
   ]
  },
  {
   "cell_type": "markdown",
   "metadata": {
    "id": "QYwPqatIWRg7"
   },
   "source": [
    "[Explore Excursions](https://colab.research.google.com/github/byui-cse/cse280-course-notebooks/blob/main/notebooks/explore-excursions.ipynb)\n"
   ]
  },
  {
   "cell_type": "markdown",
   "metadata": {
    "id": "W5H5dE9Mre3s"
   },
   "source": [
    "### <font color=purple>In-Class Exercises</font>\n",
    "\n"
   ]
  },
  {
   "cell_type": "markdown",
   "metadata": {
    "id": "1dF-UUqire3s"
   },
   "source": [
    "[Learn About Counting From Ron Graham](https://colab.research.google.com/github/byui-cse/cse280-course-notebooks/blob/main/notebooks/learn-about-counting-from-ron-graham.ipynb)\n"
   ]
  },
  {
   "cell_type": "markdown",
   "metadata": {
    "id": "rUJbImDlNHIq"
   },
   "source": [
    "[Learn About Basic Probability Theory](https://colab.research.google.com/github/byui-cse/cse280-course-notebooks/blob/main/notebooks/learn-about-basic-probability-theory.ipynb)\n"
   ]
  },
  {
   "cell_type": "markdown",
   "metadata": {
    "id": "5bX1dtPg16Dq"
   },
   "source": [
    "## <font color=red>Week 07: Some Ideas of Number Theory </font>"
   ]
  },
  {
   "cell_type": "markdown",
   "metadata": {
    "id": "VeyZzQc1uRqk"
   },
   "source": [
    "[Prepare for Some Ideas of Number Theory](https://colab.research.google.com/github/byui-cse/cse280-course-notebooks/blob/main/notebooks/prepare-for-some-ideas-of-number-theory.ipynb)"
   ]
  },
  {
   "cell_type": "markdown",
   "metadata": {
    "id": "NAWDyr0UzmQG"
   },
   "source": [
    "[Chapter 6 Some Ideas of Number Theory Exercises](https://colab.research.google.com/github/byui-cse/cse280-course-notebooks/blob/main/notebooks/chapter-6-number-theory-and-practice-exercises.ipynb)\n"
   ]
  },
  {
   "cell_type": "markdown",
   "metadata": {
    "id": "ion90EZ30VIB"
   },
   "source": [
    "[Report on Chapter 6 Some Ideas of Number Theory Exercises](https://colab.research.google.com/github/byui-cse/cse280-course-notebooks/blob/main/notebooks/report-on-chapter-6-some-ideas-of-number-theory-exercises.ipynb)\n"
   ]
  },
  {
   "cell_type": "markdown",
   "metadata": {
    "id": "ObymtDOvslq-"
   },
   "source": [
    "[Reflect and Report on Some Ideas of Number Theory](https://colab.research.google.com/github/byui-cse/cse280-course-notebooks/blob/main/notebooks/reflect-and-report-on-some-ideas-of-number-theory.ipynb)\n"
   ]
  },
  {
   "cell_type": "markdown",
   "metadata": {
    "id": "I-N1ZDbGrf-2"
   },
   "source": [
    "### <font color=purple>In-Class Exercises</font>\n",
    "\n"
   ]
  },
  {
   "cell_type": "markdown",
   "metadata": {
    "id": "mFOF1MOqrf-3"
   },
   "source": [
    "[Learn About Elementary Number Theory](https://colab.research.google.com/github/byui-cse/cse280-course-notebooks/blob/main/notebooks/learn-about-elementary-number-theory.ipynb)"
   ]
  },
  {
   "cell_type": "markdown",
   "metadata": {
    "id": "usYKES7E16Gp"
   },
   "source": [
    "## <font color=red>Week 08: The Practice of Number Theory</font>"
   ]
  },
  {
   "cell_type": "markdown",
   "metadata": {
    "id": "9JcwDZnEuX9n"
   },
   "source": [
    "[Prepare for The Practice of Number Theory](https://colab.research.google.com/github/byui-cse/cse280-course-notebooks/blob/main/notebooks/prepare-for-the-practice-of-number-theory.ipynb)\n"
   ]
  },
  {
   "cell_type": "markdown",
   "metadata": {
    "id": "Zlc2_eFrzt3A"
   },
   "source": [
    "[Chapter 6 The Practice of Number Theory Exercises](https://colab.research.google.com/github/byui-cse/cse280-course-notebooks/blob/main/notebooks/chapter-6-number-theory-and-practice-exercises.ipynb)"
   ]
  },
  {
   "cell_type": "markdown",
   "metadata": {
    "id": "0-Gv94py0WpQ"
   },
   "source": [
    "[Report on Chapter 6 The Practice of Number Theory Exercises](https://colab.research.google.com/github/byui-cse/cse280-course-notebooks/blob/main/notebooks/report-on-chapter-6-the-practice-of-number-theory-exercises.ipynb)\n"
   ]
  },
  {
   "cell_type": "markdown",
   "metadata": {
    "id": "l6mrQxQ-smQm"
   },
   "source": [
    "[Reflect and Report on The Practice of Number Theory](https://colab.research.google.com/github/byui-cse/cse280-course-notebooks/blob/main/notebooks/reflect-and-report-on-the-practice-of-number-theory.ipynb)\n"
   ]
  },
  {
   "cell_type": "markdown",
   "metadata": {
    "id": "KZEOfaPGrguq"
   },
   "source": [
    "### <font color=purple>In-Class Exercises</font>\n",
    "\n"
   ]
  },
  {
   "cell_type": "markdown",
   "metadata": {
    "id": "VwsOmXhB11oH"
   },
   "source": [
    "[Learn More About Residue Number Systems](https://colab.research.google.com/github/byui-cse/cse280-course-notebooks/blob/main/notebooks/learn-more-about-residue-number-systems.ipynb)\n"
   ]
  },
  {
   "cell_type": "markdown",
   "metadata": {
    "id": "0OjBvqkPCKMj"
   },
   "source": [
    "[Learn More About The RSA Cryptosystem](https://colab.research.google.com/github/byui-cse/cse280-course-notebooks/blob/main/notebooks/learn-more-about-the-rsa-cryptosystem.ipynb)\n"
   ]
  },
  {
   "cell_type": "markdown",
   "metadata": {
    "id": "UnFn3uKO16KV"
   },
   "source": [
    "## <font color=red>Week 09: Trees</font>"
   ]
  },
  {
   "cell_type": "markdown",
   "metadata": {
    "id": "S3aAxGqpulY-"
   },
   "source": [
    "[Prepare for Trees](https://colab.research.google.com/github/byui-cse/cse280-course-notebooks/blob/main/notebooks/prepare-for-trees.ipynb)"
   ]
  },
  {
   "cell_type": "markdown",
   "metadata": {
    "id": "qIG7YlU6zzef"
   },
   "source": [
    "[Chapter 7 Trees Exercises](https://colab.research.google.com/github/byui-cse/cse280-course-notebooks/blob/main/notebooks/chapter-7-trees-exercises.ipynb)"
   ]
  },
  {
   "cell_type": "markdown",
   "metadata": {
    "id": "MWM5yPCa0Xz4"
   },
   "source": [
    "[Report on Chapter 7 Trees Exercises](https://colab.research.google.com/github/byui-cse/cse280-course-notebooks/blob/main/notebooks/report-on-chapter-7-trees-exercises.ipynb)\n"
   ]
  },
  {
   "cell_type": "markdown",
   "metadata": {
    "id": "LjjH5tgOsm_r"
   },
   "source": [
    "[Reflect and Report on Trees](https://colab.research.google.com/github/byui-cse/cse280-course-notebooks/blob/main/notebooks/reflect-and-report-on-trees.ipynb)"
   ]
  },
  {
   "cell_type": "markdown",
   "metadata": {
    "id": "9rX-wnJOA5yJ"
   },
   "source": [
    "[Explore Connections](https://colab.research.google.com/github/byui-cse/cse280-course-notebooks/blob/main/notebooks/explore-connections.ipynb)\n"
   ]
  },
  {
   "cell_type": "markdown",
   "metadata": {
    "id": "J9HiomoTrhcY"
   },
   "source": [
    "### <font color=purple>In-Class Exercises</font>\n",
    "\n"
   ]
  },
  {
   "cell_type": "markdown",
   "metadata": {
    "id": "KQ9Co3umrhcY"
   },
   "source": [
    "[Learn About Binary Search Trees](https://colab.research.google.com/github/byui-cse/cse280-course-notebooks/blob/main/notebooks/learn-about-binary-search-trees.ipynb)\n"
   ]
  },
  {
   "cell_type": "markdown",
   "metadata": {
    "id": "yftYH-fY62RV"
   },
   "source": [
    "[Learn About Optimal Binary Search Trees](https://colab.research.google.com/github/byui-cse/cse280-course-notebooks/blob/main/notebooks/learn-about-optimal-binary-search-trees.ipynb)\n"
   ]
  },
  {
   "cell_type": "markdown",
   "metadata": {
    "id": "Vd2UZ0l-16N2"
   },
   "source": [
    "## <font color=red>Week 10: Huffman Trees</font>"
   ]
  },
  {
   "cell_type": "markdown",
   "metadata": {
    "id": "w7wcjE-ozNmE"
   },
   "source": [
    "[Prepare for Huffman Trees](https://colab.research.google.com/github/byui-cse/cse280-course-notebooks/blob/main/notebooks/prepare-for-huffman-trees.ipynb)\n"
   ]
  },
  {
   "cell_type": "markdown",
   "metadata": {
    "id": "vSU5kH1kz8v7"
   },
   "source": [
    "[Chapter 7 Huffman Trees Exercises](https://colab.research.google.com/github/byui-cse/cse280-course-notebooks/blob/main/notebooks/chapter-7-huffman-trees-exercises.ipynb)\n"
   ]
  },
  {
   "cell_type": "markdown",
   "metadata": {
    "id": "dA75KZhO0Yyl"
   },
   "source": [
    "[Report on Chapter 7 Huffman Trees Exercises](https://colab.research.google.com/github/byui-cse/cse280-course-notebooks/blob/main/notebooks/report-on-chapter-7-huffman-trees-exercises.ipynb)"
   ]
  },
  {
   "cell_type": "markdown",
   "metadata": {
    "id": "hwyQIK7LzTSK"
   },
   "source": [
    "[Reflect and Report on Huffman Trees](https://colab.research.google.com/github/byui-cse/cse280-course-notebooks/blob/main/notebooks/reflect-and-report-on-huffman-trees.ipynb)"
   ]
  },
  {
   "cell_type": "markdown",
   "metadata": {
    "id": "bZwuovaZrin9"
   },
   "source": [
    "### <font color=purple>In-Class Exercises</font>\n",
    "\n"
   ]
  },
  {
   "cell_type": "markdown",
   "metadata": {
    "id": "AcAAU02drin-"
   },
   "source": [
    "[Learn More About Huffman Trees](https://colab.research.google.com/github/byui-cse/cse280-course-notebooks/blob/main/notebooks/learn-more-about-huffman-trees.ipynb)"
   ]
  },
  {
   "cell_type": "markdown",
   "metadata": {
    "id": "rK1LxaUa16Sc"
   },
   "source": [
    "## <font color=red>Week 11: Graphs</font>"
   ]
  },
  {
   "cell_type": "markdown",
   "metadata": {
    "id": "3kpFgFeLwRkL"
   },
   "source": [
    "[Prepare for Graphs](https://colab.research.google.com/github/byui-cse/cse280-course-notebooks/blob/main/notebooks/prepare-for-graphs.ipynb)"
   ]
  },
  {
   "cell_type": "markdown",
   "metadata": {
    "id": "H1HtWLi20Af2"
   },
   "source": [
    "[Chapter 8 Graphs Exercises](https://colab.research.google.com/github/byui-cse/cse280-course-notebooks/blob/main/notebooks/chapter-8-graphs-exercises.ipynb)"
   ]
  },
  {
   "cell_type": "markdown",
   "metadata": {
    "id": "9mJXOeZiV7FG"
   },
   "source": [
    "[Report on Chapter 8 Graphs Exercises](https://colab.research.google.com/github/byui-cse/cse280-course-notebooks/blob/main/notebooks/report-on-chapter-8-graphs-exercises.ipynb)\n"
   ]
  },
  {
   "cell_type": "markdown",
   "metadata": {
    "id": "BJsEjuHKIyPz"
   },
   "source": [
    "[Reflect and Report on Graphs](https://colab.research.google.com/github/byui-cse/cse280-course-notebooks/blob/main/notebooks/reflect-and-report-on-graphs.ipynb)"
   ]
  },
  {
   "cell_type": "markdown",
   "metadata": {
    "id": "h0iq15SdrjKm"
   },
   "source": [
    "### <font color=purple>In-Class Exercises</font>\n",
    "\n"
   ]
  },
  {
   "cell_type": "markdown",
   "metadata": {
    "id": "DdNQmL-PPU6o"
   },
   "source": [
    "[Learn About Finding Paths in Graphs](https://colab.research.google.com/github/byui-cse/cse280-course-notebooks/blob/main/notebooks/learn-about-finding-paths-in-graphs.ipynb)\n"
   ]
  },
  {
   "cell_type": "markdown",
   "metadata": {
    "id": "DdNQmL-PPU6o"
   },
   "source": [
    "[Learn About Shortest Paths in Graphs](https://colab.research.google.com/github/byui-cse/cse280-course-notebooks/blob/main/notebooks/learn-about-shortest-paths-in-graphs.ipynb)\n"
   ]
  },
  {
   "cell_type": "markdown",
   "metadata": {
    "id": "s0lRavJfIhOl"
   },
   "source": [
    "[Learn About Shortest Paths in Word Graphs](https://colab.research.google.com/github/byui-cse/cse280-course-notebooks/blob/main/notebooks/learn-about-shortest-paths-in-word-graphs.ipynb)\n"
   ]
  },
  {
   "cell_type": "markdown",
   "metadata": {
    "id": "xlionf9U16YF"
   },
   "source": [
    "## <font color=red>Week 12: More Graphs</font>"
   ]
  },
  {
   "cell_type": "markdown",
   "metadata": {
    "id": "FdR_RaHAuvJJ"
   },
   "source": [
    "[Prepare for More Graphs](https://colab.research.google.com/github/byui-cse/cse280-course-notebooks/blob/main/notebooks/prepare-for-more-graphs.ipynb)"
   ]
  },
  {
   "cell_type": "markdown",
   "metadata": {
    "id": "q5_u6CFERmDW"
   },
   "source": [
    "[Chapter 8 More Graphs Exercises](https://colab.research.google.com/github/byui-cse/cse280-course-notebooks/blob/main/notebooks/chapter-8-graphs-exercises.ipynb)"
   ]
  },
  {
   "cell_type": "markdown",
   "metadata": {
    "id": "TQZ0GC6Y7Eiu"
   },
   "source": [
    "[Report on Chapter 8 More Graphs Exercises](https://colab.research.google.com/github/byui-cse/cse280-course-notebooks/blob/main/notebooks/report-on-chapter-8-more-graphs-exercises.ipynb)\n"
   ]
  },
  {
   "cell_type": "markdown",
   "metadata": {
    "id": "bwHc_bNJsoGs"
   },
   "source": [
    "[Reflect and Report on More Graphs](https://colab.research.google.com/github/byui-cse/cse280-course-notebooks/blob/main/notebooks/reflect-and-report-on-more-graphs.ipynb)\n"
   ]
  },
  {
   "cell_type": "markdown",
   "metadata": {
    "id": "O8XNMY3Qrj0E"
   },
   "source": [
    "### <font color=purple>In-Class Exercises</font>\n",
    "\n"
   ]
  },
  {
   "cell_type": "markdown",
   "metadata": {
    "id": "RfR3uqNdN10w"
   },
   "source": [
    "[Learn More About Shortest Paths in Graphs](https://colab.research.google.com/github/byui-cse/cse280-course-notebooks/blob/main/notebooks/learn-more-about-shortest-paths-in-graphs.ipynb)\n"
   ]
  },
  {
   "cell_type": "markdown",
   "metadata": {
    "id": "HXwxqgD416ew"
   },
   "source": [
    "## <font color=red>Week 13: Languages and Grammars</font>"
   ]
  },
  {
   "cell_type": "markdown",
   "metadata": {
    "id": "F_vfYRek2m2s"
   },
   "source": [
    "[Prepare for Languages and Grammars](https://colab.research.google.com/github/byui-cse/cse280-course-notebooks/blob/main/notebooks/prepare-for-languages-and-grammars.ipynb)"
   ]
  },
  {
   "cell_type": "markdown",
   "metadata": {
    "id": "4ox7s-v1b4Am"
   },
   "source": [
    "[Chapter 9 Languages and Grammars Exercises](https://colab.research.google.com/github/byui-cse/cse280-course-notebooks/blob/main/notebooks/chapter-9-languages-and-grammars-exercises.ipynb)\n"
   ]
  },
  {
   "cell_type": "markdown",
   "metadata": {
    "id": "TQZ0GC6Y7Eiu"
   },
   "source": [
    "[Report on Chapter 9 Languages and Grammars Exercises](https://colab.research.google.com/github/byui-cse/cse280-course-notebooks/blob/main/notebooks/report-on-chapter-9-languages-and-grammars-exercises.ipynb)\n"
   ]
  },
  {
   "cell_type": "markdown",
   "metadata": {
    "id": "bwHc_bNJsoGs"
   },
   "source": [
    "[Reflect and Report on Languages and Grammars](https://colab.research.google.com/github/byui-cse/cse280-course-notebooks/blob/main/notebooks/reflect-and-report-on-languages-and-grammars.ipynb)\n"
   ]
  },
  {
   "cell_type": "markdown",
   "metadata": {
    "id": "pZqR-tCJrkiT"
   },
   "source": [
    "### <font color=purple>In-Class Exercises</font>\n",
    "\n"
   ]
  },
  {
   "cell_type": "markdown",
   "metadata": {
    "id": "XMoOq8iGrkiT"
   },
   "source": [
    "[Learn About Languages and Grammars](https://colab.research.google.com/github/byui-cse/cse280-course-notebooks/blob/main/notebooks/learn-about-languages-and-grammars.ipynb)\n"
   ]
  },
  {
   "cell_type": "markdown",
   "metadata": {
    "id": "r3dDq3mOX75e"
   },
   "source": [
    "[Learn About String Transformations](https://colab.research.google.com/github/byui-cse/cse280-course-notebooks/blob/main/notebooks/learn-about-string-transformations.ipynb)\n"
   ]
  },
  {
   "cell_type": "markdown",
   "metadata": {
    "id": "8fh1_7HN16mp"
   },
   "source": [
    "## <font color=red>Week 14: Conclusion</font>"
   ]
  },
  {
   "cell_type": "markdown",
   "metadata": {
    "id": "yZvSSNu0sHYV"
   },
   "source": [
    "[End of Course Evaluation](https://byui.instructure.com/courses/149380)"
   ]
  }
 ],
 "metadata": {
  "colab": {
   "authorship_tag": "ABX9TyNAYPKBcNXyZNAAevD9N6Og",
   "name": "discrete-mathematics-course-notebook.ipynb",
   "private_outputs": true,
   "provenance": []
  },
  "kernelspec": {
   "display_name": "Python 3",
   "language": "python",
   "name": "python3"
  },
  "language_info": {
   "codemirror_mode": {
    "name": "ipython",
    "version": 3
   },
   "file_extension": ".py",
   "mimetype": "text/x-python",
   "name": "python",
   "nbconvert_exporter": "python",
   "pygments_lexer": "ipython3",
   "version": "3.9.0"
  }
 },
 "nbformat": 4,
 "nbformat_minor": 1
}
