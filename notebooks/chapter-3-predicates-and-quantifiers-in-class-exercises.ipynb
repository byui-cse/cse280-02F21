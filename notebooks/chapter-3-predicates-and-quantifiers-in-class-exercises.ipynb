{
 "cells": [
  {
   "cell_type": "markdown",
   "metadata": {
    "id": "yCS1mUARLIV9"
   },
   "source": [
    "# <font color=blue>Chapter 3 Predicates and Quantifiers In-Class Exercises</font>\n",
    "## <font color=blue>Teach One Another</font>"
   ]
  },
  {
   "cell_type": "markdown",
   "metadata": {
    "id": "oSWyNwbAT9oh"
   },
   "source": [
    "## <font color=red>3.13 Negating Quantifiers</font>"
   ]
  },
  {
   "cell_type": "markdown",
   "metadata": {
    "id": "mHPJ9zmoLdyD"
   },
   "source": [
    "### Exercise 3.13.10"
   ]
  },
  {
   "cell_type": "markdown",
   "metadata": {
    "id": "Xq9pO1smI0oi"
   },
   "source": [
    "True or false?\n",
    "\n",
    "$\\exists !x\\ P(x) \\rightarrow \\exists x\\ P(x)$."
   ]
  },
  {
   "cell_type": "code",
   "execution_count": null,
   "metadata": {
    "id": "4WTf9XVjJgAV"
   },
   "outputs": [],
   "source": [
    "#@title Hint {display-mode: \"form\"}\n",
    "print('''\n",
    "Does 'exactly one' imply 'at least one'?\n",
    "''')"
   ]
  },
  {
   "cell_type": "markdown",
   "metadata": {
    "id": "qEXm4Z7J37Qy"
   },
   "source": [
    "### Exercise 3.13.11"
   ]
  },
  {
   "cell_type": "markdown",
   "metadata": {
    "id": "m2YFAolS37Q0"
   },
   "source": [
    "True or false?\n",
    "\n",
    "$\\forall x\\ P(x) \\rightarrow \\exists !x\\ P(x)$."
   ]
  },
  {
   "cell_type": "code",
   "execution_count": null,
   "metadata": {
    "id": "DTC6C9Ht37Q0"
   },
   "outputs": [],
   "source": [
    "#@title Hint {display-mode: \"form\"}\n",
    "print('''\n",
    "Think about small universes --- as in really small.\n",
    "''')"
   ]
  },
  {
   "cell_type": "markdown",
   "metadata": {
    "id": "43FmwLHV8K8q"
   },
   "source": [
    "### Exercise 3.13.12"
   ]
  },
  {
   "cell_type": "markdown",
   "metadata": {
    "id": "Ia51fTwT8K8x"
   },
   "source": [
    "True or false?\n",
    "\n",
    "$\\exists !x\\ \\lnot P(x) \\rightarrow \\lnot \\forall x\\ P(x)$."
   ]
  },
  {
   "cell_type": "code",
   "execution_count": null,
   "metadata": {
    "id": "cHQpB6aN8K8x"
   },
   "outputs": [],
   "source": [
    "#@title Hint {display-mode: \"form\"}\n",
    "print('''\n",
    "Don't get tied up in \"nots\".\n",
    "''')"
   ]
  },
  {
   "cell_type": "markdown",
   "metadata": {
    "id": "vO6OHFodCPEp"
   },
   "source": [
    "### Exercise 3.13.13"
   ]
  },
  {
   "cell_type": "markdown",
   "metadata": {
    "id": "8_CmBAlFCSox"
   },
   "source": [
    "Consider the two functions shown below:"
   ]
  },
  {
   "cell_type": "code",
   "execution_count": null,
   "metadata": {
    "id": "ZDvP9lVGCW-h"
   },
   "outputs": [],
   "source": [
    "def forall(P, S):\n",
    "  for x in S:\n",
    "    if not P(x):\n",
    "      return False\n",
    "  return True\n",
    "\n",
    "def forsome(P, S):\n",
    "  for x in S:\n",
    "    if P(x):\n",
    "      return True\n",
    "  return False"
   ]
  },
  {
   "cell_type": "markdown",
   "metadata": {
    "id": "_OgoqKvNCrdZ"
   },
   "source": [
    "Test this code:"
   ]
  },
  {
   "cell_type": "code",
   "execution_count": null,
   "metadata": {
    "id": "WvPmceaGCm04"
   },
   "outputs": [],
   "source": [
    "even = lambda x: x % 2 == 0\n",
    "\n",
    "odd  = lambda x: x % 2 == 1\n",
    "\n",
    "all_evens = [2, 4, 6, 8, 10]\n",
    "not_all_evens = [2, 4, 5, 8, 10]\n",
    "all_odds = [1, 3, 5, 7, 9]\n",
    "not_all_odds = [1, 3, 6, 7, 9]\n",
    "\n",
    "print(forall(odd, not_all_odds))\n",
    "print(forall(odd, all_odds))\n",
    "print(forall(even, not_all_evens))\n",
    "print(forall(even, all_evens))\n",
    "\n",
    "print(forsome(odd, not_all_evens))\n",
    "print(forsome(odd, all_evens))\n",
    "print(forsome(even, not_all_odds))\n",
    "print(forsome(even, all_odds))"
   ]
  },
  {
   "cell_type": "markdown",
   "metadata": {
    "id": "R3Zea71QCvoM"
   },
   "source": [
    "The function ```forall``` operationalizes the Universal Quantification of $P(x)$, the proposition that is true if and only if $P(x)$ is true for all $x \\in S$.\n",
    "\n",
    "```forall``` loops through each value in a set $S$ of finite size to see if the predicate $P$ is always true. If it encounters a value for which $P$ is false, then it short-circuits the loop and returns False. Otherwise it finishes the loop and returns True.\n",
    "\n",
    "The function ```forsome``` operationalizes the Existential Quantification of $P(x)$, the proposition that is true if and only if there exists an $x$ in the set $S$ such that $P(x)$ is true.\n",
    "\n",
    "```forsome``` loops through each value in a set $S$ of finite size to see if the predicate $P$ is ever true. If it encounters any value for which $P$ is true, then it short-circuits the loop and returns True. Otherwise it finishes the loop and returns False.\n",
    "\n",
    "Find and explore the builtin Python functional (loop-free) equivalents of these two functions."
   ]
  },
  {
   "cell_type": "code",
   "execution_count": null,
   "metadata": {
    "id": "ugAGM9wuD9LZ"
   },
   "outputs": [],
   "source": [
    "#@title Hint {display-mode: \"form\"}\n",
    "from IPython.display import Markdown\n",
    "display(Markdown('''\n",
    "Test your findings with the ```even``` and ```odd``` predicates, plus some you find or create.\n",
    "'''))"
   ]
  },
  {
   "cell_type": "markdown",
   "metadata": {
    "id": "DduLmuoMEQlw"
   },
   "source": [
    "### Exercise 3.13.14"
   ]
  },
  {
   "cell_type": "markdown",
   "metadata": {
    "id": "jtGfAo0cEQly"
   },
   "source": [
    "True or false?\n",
    "\n",
    "$\\forall x\\ P(x) \\rightarrow \\exists x\\ P(x)$."
   ]
  },
  {
   "cell_type": "code",
   "execution_count": null,
   "metadata": {
    "id": "tleFL3tTEQlz"
   },
   "outputs": [],
   "source": [
    "#@title Hint {display-mode: \"form\"}\n",
    "print('''\n",
    "Study Exercise 3.13.11 and the two functions defined\n",
    "in Exercise 3.13.13.\n",
    "''')"
   ]
  },
  {
   "cell_type": "markdown",
   "metadata": {
    "id": "Qj2h9VjWO1SD"
   },
   "source": [
    "## <font color=red>3.14 Free and Bound</font>"
   ]
  },
  {
   "cell_type": "markdown",
   "metadata": {
    "id": "wcgpTWWHPApL"
   },
   "source": [
    "### Exercise 3.14.20"
   ]
  },
  {
   "cell_type": "markdown",
   "metadata": {
    "id": "sGO30HhXPFNr"
   },
   "source": [
    "Expand to two nested quantifiers the code you explored for one quantifier in Exercise 3.13.13.\n",
    "\n",
    "Specifically, implement these four functions, shown side-by-side with their symbolic logic equivalents:\n",
    "\n",
    "| Function Name        | In Symbols            |\n",
    "|----------------------|-----------------------|\n",
    "| ```forallforall```   | $\\forall x \\forall y$ |\n",
    "| ```forallforsome```  | $\\forall x \\exists y$ |\n",
    "| ```forsomeforall```  | $\\exists x \\forall y$ |\n",
    "| ```forsomeforsome``` | $\\exists x \\exists y$ |\n"
   ]
  },
  {
   "cell_type": "markdown",
   "metadata": {
    "id": "QIsNcUjkQmKy"
   },
   "source": [
    "Look at these quantifications in the context of loops and a generic predicate $P$. These will be *nested* loops, an outer one wrapping an inner one, because *nested* quantification is what is being expressed. The predicate (function) call $P(x, y)$ goes in the inner loop, which controls the $y$, while the outer loop controls the $x$."
   ]
  },
  {
   "cell_type": "markdown",
   "metadata": {
    "id": "8zFlLsC9Q6Zs"
   },
   "source": [
    "&ldquo;For all $x$ for all $y$&rdquo; wants to find $P(x, y)$ always true. That's what it means for the nested quantification to be true, and naturally, this only works if the domains of $x$ and $y$ are finite. Even then, it really only **works** if these domains are reasonably finite — not *too* big. Iteration is serial, after all, and time is limited."
   ]
  },
  {
   "cell_type": "markdown",
   "metadata": {
    "id": "HkKJnzhXRJNp"
   },
   "source": [
    "So, ```forallforall``` loops through $x$'s domain, and for each $x$ loops through each $y$ in $y$'s domain. On each inner-loop iteration it calls $P(x, y)$ and checks the value. If the value is ever false, ```forallforall``` is false --- immediately --- no need to check any further. Some $y$ has been found for some $x$ where the predicate is false. If both loops finish with no false evaluation, ```forallforall``` is ultimately true. There is no $x$ for which, for any $y$, $P(x, y)$ is false."
   ]
  },
  {
   "cell_type": "markdown",
   "metadata": {
    "id": "R3Lo_EhMRXGO"
   },
   "source": [
    "The other function with relatively simple logic is ```forsomeforsome```. This function loops through $x$'s domain, and for each $x$ loops through each $y$ in $y$'s domain. On each inner-loop iteration it calls $P(x, y)$ and checks the value. If a true value is found, then ```forsomeforsome``` is true --- immediately --- no need to check any further. If both loops finish never having triggered true, ```forsomeforsome``` is ultimately false. There is no $x$ for which there is some $y$ for which $P(x, y)$ is true."
   ]
  },
  {
   "cell_type": "markdown",
   "metadata": {
    "id": "oS5vGg96Rfs4"
   },
   "source": [
    "The other two are trickier: &ldquo;for all x for some y&rdquo; wants $P(x, y)$ to always be true *sometimes*, and &ldquo;for some x for all y&rdquo; wants $P(x, y)$ to sometimes be true *always*."
   ]
  },
  {
   "cell_type": "markdown",
   "metadata": {
    "id": "gUgvA1pjRtVO"
   },
   "source": [
    "Implement ```forallforsome``` and ```forsomeforall``` the best, most elegant way you can. Test your implementations of all four functions using suitable binary (2-ary) predicates, for example &lsquo;$>$&rsquo;, and their associated domains."
   ]
  },
  {
   "cell_type": "code",
   "execution_count": null,
   "metadata": {
    "id": "oiKF4sslQdVh"
   },
   "outputs": [],
   "source": [
    "#@title Hint {display-mode: \"form\"}\n",
    "print('''\n",
    "Can you do it with map instead of looping?\n",
    "''')"
   ]
  }
 ],
 "metadata": {
  "colab": {
   "authorship_tag": "ABX9TyN9s4hkg7BE5TKwMIl5rVze",
   "name": "chapter-3-predicates-and-quantifiers-in-class-exercises.ipynb",
   "private_outputs": true,
   "provenance": []
  },
  "kernelspec": {
   "display_name": "Python 3",
   "language": "python",
   "name": "python3"
  },
  "language_info": {
   "codemirror_mode": {
    "name": "ipython",
    "version": 3
   },
   "file_extension": ".py",
   "mimetype": "text/x-python",
   "name": "python",
   "nbconvert_exporter": "python",
   "pygments_lexer": "ipython3",
   "version": "3.9.0"
  }
 },
 "nbformat": 4,
 "nbformat_minor": 1
}
