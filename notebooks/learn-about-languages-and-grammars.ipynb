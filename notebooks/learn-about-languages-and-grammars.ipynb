{
 "cells": [
  {
   "cell_type": "markdown",
   "metadata": {
    "id": "89GCdwPteJDK"
   },
   "source": [
    "# <font color=blue>Learn About Languages and Grammars</font>\n",
    "## <font color=blue>Teach One Another</font>"
   ]
  },
  {
   "cell_type": "markdown",
   "metadata": {
    "id": "0mUMjzrOekdR"
   },
   "source": [
    "## <font color=red>**TODO** Task 1</font>\n"
   ]
  },
  {
   "cell_type": "markdown",
   "metadata": {
    "id": "Mtb2HAa6eldQ"
   },
   "source": [
    "Study the Peter Norvig code shown in Exercise 9.7.1 and reproduced below:\n"
   ]
  },
  {
   "cell_type": "code",
   "execution_count": null,
   "metadata": {
    "id": "aF07qpxlemua"
   },
   "outputs": [],
   "source": [
    "import random\n",
    "\n",
    "def Grammar(**grammar):\n",
    "  \"Create a dictionary mapping symbols to alternatives.\"\n",
    "  for (cat, rhs) in grammar.items():\n",
    "    grammar[cat] = [alt.split() for alt in rhs.split('|')]\n",
    "  return grammar\n",
    "\n",
    "grammar = Grammar(\n",
    "  S   = 'NP VP | S and S',\n",
    "  NP  = 'Art N | Name',\n",
    "  VP  = 'V NP',\n",
    "  Art = 'the | a | every | some',\n",
    "  N   = 'man | ball | woman | table | dog | cat | wombat',\n",
    "  V   = 'hit | took | saw | liked | worshiped | remembered',\n",
    "  Name= 'Alice | Bob | Carlos | Dan | Eve'\n",
    "  )\n",
    "\n",
    "def generate(symbol='S'):\n",
    "  \"Replace symbol with a random entry in grammar (recursively); join into a string.\"\n",
    "  global grammar\n",
    "  if symbol not in grammar:\n",
    "    return symbol\n",
    "  else:\n",
    "    return ' '.join(map(generate, random.choice(grammar[symbol])))\n",
    "\n",
    "def generate_tree(symbol='S'):\n",
    "  \"Replace symbol with a random entry in grammar (recursively); return a tree.\"\n",
    "  global grammar\n",
    "  if symbol not in grammar:\n",
    "    return symbol\n",
    "  else:\n",
    "    return {symbol: [generate_tree(x) for x in random.choice(grammar[symbol])]}"
   ]
  },
  {
   "cell_type": "code",
   "execution_count": null,
   "metadata": {
    "id": "3hAl1nI6e6Eo"
   },
   "outputs": [],
   "source": [
    "print(generate())"
   ]
  },
  {
   "cell_type": "code",
   "execution_count": null,
   "metadata": {
    "id": "Hs9iMEHifTZ8"
   },
   "outputs": [],
   "source": [
    "print(generate_tree())"
   ]
  },
  {
   "cell_type": "markdown",
   "metadata": {
    "id": "tfcOHROLfal4"
   },
   "source": [
    "Modify this code to handle the grammar below, and generate some sentences with it:"
   ]
  },
  {
   "cell_type": "markdown",
   "metadata": {
    "id": "cpUdvlsyfb12"
   },
   "source": [
    "| **Category** | $\\rightarrow$ | **Right-Hand Side** |\n",
    "|--------------|---------------|---------------------|\n",
    "| S   | $\\rightarrow$ | NP VP  |\n",
    "| NP  | $\\rightarrow$ | CN $\\vert$ CN PP |\n",
    "| VP  | $\\rightarrow$ | CV $\\vert$ CV PP |\n",
    "| PP  | $\\rightarrow$ | P CN |\n",
    "| CN  | $\\rightarrow$ | Art N |\n",
    "| CV  | $\\rightarrow$ | V NP $\\vert$ V |\n",
    "| Art | $\\rightarrow$ | a $\\vert$ the |\n",
    "| N   | $\\rightarrow$ | boy $\\vert$ girl $\\vert$ flower |\n",
    "| V   | $\\rightarrow$ | touches $\\vert$ likes $\\vert$ sees |\n",
    "| P   | $\\rightarrow$ | with |\n"
   ]
  },
  {
   "cell_type": "markdown",
   "metadata": {
    "id": "67u3RTAuffZ1"
   },
   "source": [
    "## <font color=red>**TODO** Task 2</font>\n"
   ]
  },
  {
   "cell_type": "markdown",
   "metadata": {
    "id": "poAoeposfgzI"
   },
   "source": [
    "How many strings are in this language?\n",
    "\n",
    "(Hint: Use the product rule and sum rule)\n"
   ]
  }
 ],
 "metadata": {
  "colab": {
   "authorship_tag": "ABX9TyOCDngyditrgtEQMgN9lB0v",
   "collapsed_sections": [],
   "name": "learn-about-languages-and-grammars.ipynb",
   "private_outputs": true,
   "provenance": []
  },
  "kernelspec": {
   "display_name": "Python 3",
   "language": "python",
   "name": "python3"
  },
  "language_info": {
   "codemirror_mode": {
    "name": "ipython",
    "version": 3
   },
   "file_extension": ".py",
   "mimetype": "text/x-python",
   "name": "python",
   "nbconvert_exporter": "python",
   "pygments_lexer": "ipython3",
   "version": "3.9.0"
  }
 },
 "nbformat": 4,
 "nbformat_minor": 1
}
