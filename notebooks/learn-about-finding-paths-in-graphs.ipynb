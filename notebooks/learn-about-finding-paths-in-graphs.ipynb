{
  "cells": [
    {
      "cell_type": "markdown",
      "metadata": {
        "id": "0S66g0g0QTu7"
      },
      "source": [
        "# <font color=blue>Learn About Finding Paths in Graphs</font>\n",
        "## <font color=blue>Teach One Another</font>\n"
      ]
    },
    {
      "cell_type": "markdown",
      "metadata": {
        "id": "CcRzN9i8xW1t"
      },
      "source": [
        "## <font color=red>Graph Searching</font>"
      ]
    },
    {
      "cell_type": "markdown",
      "metadata": {
        "id": "3wVc6vmaxYEF"
      },
      "source": [
        "Finding paths in graphs is one of the main applications of graph theory. Various graph-searching algorithms come into play, the best known of these are depth-first search and breadth-first search."
      ]
    },
    {
      "cell_type": "markdown",
      "metadata": {
        "id": "2Lmt2NqaxaVo"
      },
      "source": [
        "### Depth-First Search"
      ]
    },
    {
      "cell_type": "code",
      "execution_count": null,
      "metadata": {
        "id": "3Qp2wj73V6gu"
      },
      "outputs": [],
      "source": [
        "def find_node_adjacencies(N, L):\n",
        "  adjacencies = dict()\n",
        "  for node in N:\n",
        "    adjacent_nodes = set()\n",
        "    for link in L:\n",
        "      if node == link[0]:\n",
        "        adjacent_nodes.add(link[1])\n",
        "      if node == link[1]:\n",
        "        adjacent_nodes.add(link[0])\n",
        "    adjacencies[node] = adjacent_nodes\n",
        "  return adjacencies"
      ]
    },
    {
      "cell_type": "code",
      "execution_count": null,
      "metadata": {
        "collapsed": true,
        "id": "sZ4iWsqrJfYN"
      },
      "outputs": [],
      "source": [
        "# This is a global variable --- global so it gets\n",
        "# incremented correctly in the recursive calls to\n",
        "# the dfs helper function.\n",
        "count = 0"
      ]
    },
    {
      "cell_type": "code",
      "execution_count": null,
      "metadata": {
        "id": "OPzDSeMFQjP5"
      },
      "outputs": [],
      "source": [
        "def DFS(G):\n",
        "  \"\"\"Implements a depth-first search traversal\n",
        "     of a given graph G = (N, L). Returns a\n",
        "     marking dictionary with keys from N and\n",
        "     values being consecutive integers showing\n",
        "     for each node the order it was first\n",
        "     encountered by the DFS traversal.\n",
        "  \"\"\"\n",
        "  N = G[0]\n",
        "  L = G[1]\n",
        "  adjacencies = find_node_adjacencies(N, L)\n",
        "  marked = dict()\n",
        "  global count\n",
        "  count = 0\n",
        "  for node in N:\n",
        "    if not marked.get(node, 0):\n",
        "      dfs(node, adjacencies, marked)\n",
        "  return marked\n",
        "\n",
        "def dfs(node, adjacencies, marked):\n",
        "  \"\"\"Visits recursively all the unvisited nodes\n",
        "     connected to node by a path and numbers them\n",
        "     in the order they are encountered.\n",
        "  \"\"\"\n",
        "  global count\n",
        "  count += 1\n",
        "  marked[node] = count\n",
        "  for n in adjacencies[node]:\n",
        "    if not marked.get(n, 0): # n is not yet marked\n",
        "      dfs(n, adjacencies, marked)"
      ]
    },
    {
      "cell_type": "markdown",
      "metadata": {
        "id": "HDnOHAbNxdXf"
      },
      "source": [
        "### Breadth-First Search"
      ]
    },
    {
      "cell_type": "code",
      "execution_count": null,
      "metadata": {
        "id": "NgxauTIAV-aJ"
      },
      "outputs": [],
      "source": [
        "def BFS(G):\n",
        "  \"\"\"Implements a breadth-first search traversal\n",
        "     of a given graph G = (N, L). Returns a\n",
        "     marking dictionary with keys from N and\n",
        "     values being consecutive integers showing\n",
        "     for each node the order it was first\n",
        "     encountered by the BFS traversal.\n",
        "  \"\"\"\n",
        "  N = G[0]\n",
        "  L = G[1]\n",
        "  adjacencies = find_node_adjacencies(N, L)\n",
        "  marked = dict()\n",
        "  count = 0\n",
        "  for node in N:\n",
        "    if not marked.get(node, 0):\n",
        "      bfs(node, adjacencies, marked, count)\n",
        "  return marked\n",
        "\n",
        "def bfs(node, adjacencies, marked, count):\n",
        "  \"\"\"Visits all the unvisited nodes\n",
        "     connected to node by a path and numbers them\n",
        "     in the order they are encountered.\n",
        "  \"\"\"\n",
        "  count += 1\n",
        "  marked[node] = count\n",
        "  visited = [node]\n",
        "  while len(visited) > 0: # while the list is not empty\n",
        "    first_node = visited[0]\n",
        "    for n in adjacencies[first_node]:\n",
        "      if not marked.get(n, 0): # n is not yet marked\n",
        "        count += 1\n",
        "        marked[n] = count\n",
        "        visited.append(n)\n",
        "    visited.remove(first_node)"
      ]
    },
    {
      "cell_type": "markdown",
      "metadata": {
        "id": "zM_bQzWoxjZL"
      },
      "source": [
        "## For Practice"
      ]
    },
    {
      "cell_type": "markdown",
      "metadata": {
        "id": "R6a9ELN3xpFM"
      },
      "source": [
        "Here is a picture of a graph that you can practice tracing through these algorithms with:"
      ]
    },
    {
      "cell_type": "markdown",
      "metadata": {},
      "source": [
        "![image.png](data:image/png;base64,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)"
      ]
    },
    {
      "cell_type": "markdown",
      "metadata": {
        "id": "UslUpu9jcYsP"
      },
      "source": [
        "## Weighted or Not?"
      ]
    },
    {
      "cell_type": "markdown",
      "metadata": {
        "id": "WkcLlxz4xt5h"
      },
      "source": [
        "If the links have weights (lengths, distances) attached to them, then finding a minimum-length path is a little more work than if they don&rsquo;t. But even unweighted links can be thought of as having a default weight of one, so that a minimum is achieved by just finding a path with the lowest number of links."
      ]
    },
    {
      "cell_type": "markdown",
      "metadata": {
        "id": "d2QlXCZCxvMK"
      },
      "source": [
        "## Your Tasks"
      ]
    },
    {
      "cell_type": "markdown",
      "metadata": {
        "id": "llZIQgD9xwme"
      },
      "source": [
        "### <font color=red>TODO Set up for Practice</font>"
      ]
    },
    {
      "cell_type": "markdown",
      "metadata": {
        "id": "6aOwZoZUxxsm"
      },
      "source": [
        "* Create a list of each node\n",
        "* Create a list of each link (pair of nodes) in the graph."
      ]
    },
    {
      "cell_type": "markdown",
      "metadata": {
        "id": "S-9lB3ZSyCI0"
      },
      "source": [
        "### <font color=red>TODO Trace DFS Algorithm</font>"
      ]
    },
    {
      "cell_type": "markdown",
      "metadata": {
        "id": "8OPU5-M9yEhk"
      },
      "source": [
        "* List the nodes in the order they are visited.\n",
        "* Use the DFS to find the order the nodes are visited starting at ID.\n",
        "* Sort the output based on order visited"
      ]
    },
    {
      "cell_type": "markdown",
      "metadata": {
        "id": "X07RPGMoyF35"
      },
      "source": [
        "### <font color=red>TODO Trace BFS Algorithm</font>"
      ]
    },
    {
      "cell_type": "markdown",
      "metadata": {
        "id": "8OPU5-M9yEhk"
      },
      "source": [
        "* List the nodes in the order they are visited.\n",
        "* Use the BFS to find the order the nodes are visited starting at ID.\n",
        "* Sort the output based on order visited"
      ]
    }
  ],
  "metadata": {
    "colab": {
      "name": "learn-about-finding-paths-in-graphs.ipynb",
      "private_outputs": true,
      "provenance": []
    },
    "kernelspec": {
      "display_name": "Python 3.9.0 ('.env': venv)",
      "language": "python",
      "name": "python3"
    },
    "language_info": {
      "codemirror_mode": {
        "name": "ipython",
        "version": 3
      },
      "file_extension": ".py",
      "mimetype": "text/x-python",
      "name": "python",
      "nbconvert_exporter": "python",
      "pygments_lexer": "ipython3",
      "version": "3.9.0"
    },
    "vscode": {
      "interpreter": {
        "hash": "1977c1262a5a71e57f8e1e2a9337f4268800bf2d1a595fc1ecb322ccb8b2351d"
      }
    }
  },
  "nbformat": 4,
  "nbformat_minor": 0
}
