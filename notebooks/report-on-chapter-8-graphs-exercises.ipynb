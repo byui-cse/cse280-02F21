{
 "cells": [
  {
   "cell_type": "markdown",
   "metadata": {
    "id": "H5BlnMxJQ1tK"
   },
   "source": [
    "# <font color=blue>Report on Chapter 8 Graphs Exercises</font>\n"
   ]
  },
  {
   "cell_type": "markdown",
   "metadata": {
    "id": "IWGkhP6kQ7nP"
   },
   "source": [
    "## <font color=red>Instructions</font>\n"
   ]
  },
  {
   "cell_type": "markdown",
   "metadata": {
    "id": "OJOF9A6cQ8aO"
   },
   "source": [
    "Same as before, assertions give you a point for each box you can truthfully check, as for example:\n"
   ]
  },
  {
   "cell_type": "markdown",
   "metadata": {
    "id": "u4fU7dLEQ9bc"
   },
   "source": [
    "$\\boxtimes$ I did Exercise 7.1.1 and got the right answer.\n"
   ]
  },
  {
   "cell_type": "markdown",
   "metadata": {
    "id": "RJhCJndSRFXa"
   },
   "source": [
    "Different than before, here is the form of the assertions (two for each assigned exercise):\n"
   ]
  },
  {
   "cell_type": "markdown",
   "metadata": {
    "id": "AnWHjLOvRQj4"
   },
   "source": [
    "$\\square$ I did Exercise 8.4.1\n",
    "\n",
    "$\\square$ I am **sure** I got the right answer to Exercise 8.4.1.\n"
   ]
  },
  {
   "cell_type": "markdown",
   "metadata": {
    "id": "HeNCVPKRRTR3"
   },
   "source": [
    "## <font color=purple>Protocol</font>\n"
   ]
  },
  {
   "cell_type": "markdown",
   "metadata": {
    "id": "NgXIeZIhRVS4"
   },
   "source": [
    "Question 1: What does it mean to be &ldquo;**sure**&rdquo;?\n"
   ]
  },
  {
   "cell_type": "markdown",
   "metadata": {
    "id": "5-h5Qh2uRWHd"
   },
   "source": [
    "Answer 1: It means you got the right answer, and you know that you got the right answer, because you requested and received the key, used the key to decrypt and examine the exemplary answer, and compared your answer to it.\n"
   ]
  },
  {
   "cell_type": "markdown",
   "metadata": {
    "id": "bKezh3rARaaN"
   },
   "source": [
    "Question 2: How do I request a key?\n"
   ]
  },
  {
   "cell_type": "markdown",
   "metadata": {
    "id": "weul8VfJRbsG"
   },
   "source": [
    "Answer 2:\n"
   ]
  },
  {
   "cell_type": "markdown",
   "metadata": {},
   "source": [
    "If your instructor has set up a gmail acount using templates and filters to auto-reply:"
   ]
  },
  {
   "cell_type": "markdown",
   "metadata": {
    "id": "6PXhwrmYRdfx"
   },
   "source": [
    "1. Send your instructor an email with an attachment that has the answer you're seeking the key for.\n",
    "2. Make sure your email has a subject, and that it has exactly this form (replacing #.# with the right section and sequential numbers): \n",
    "\n",
    "`Exercise 8.#.# Key Request`\n",
    "\n"
   ]
  },
  {
   "cell_type": "markdown",
   "metadata": {
    "id": "BW2FIN4LRgvg"
   },
   "source": [
    "## <font color=purple>Access</font>\n"
   ]
  },
  {
   "cell_type": "markdown",
   "metadata": {
    "id": "7aJ5i4I7RiF_"
   },
   "source": [
    "[Take the Self-Assessment](https://byui.instructure.com/courses/149380/quizzes/2724913)"
   ]
  }
 ],
 "metadata": {
  "colab": {
   "authorship_tag": "ABX9TyMRRhbSxyZcVBrRFaG27rjx",
   "collapsed_sections": [],
   "name": "report-on-chapter-8-graphs-exercises.ipynb",
   "private_outputs": true,
   "provenance": []
  },
  "kernelspec": {
   "display_name": "Python 3",
   "language": "python",
   "name": "python3"
  },
  "language_info": {
   "codemirror_mode": {
    "name": "ipython",
    "version": 3
   },
   "file_extension": ".py",
   "mimetype": "text/x-python",
   "name": "python",
   "nbconvert_exporter": "python",
   "pygments_lexer": "ipython3",
   "version": "3.9.0"
  }
 },
 "nbformat": 4,
 "nbformat_minor": 1
}
