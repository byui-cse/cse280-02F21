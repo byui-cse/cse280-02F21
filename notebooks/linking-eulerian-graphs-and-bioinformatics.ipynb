{
 "cells": [
  {
   "cell_type": "markdown",
   "metadata": {
    "id": "aY9yN-Gn4DaO"
   },
   "source": [
    "# <font color=blue>Linking Eulerian Graphs and Bioinformatics</font>\n",
    "## <font color=blue>Ponder and Prove</font>\n"
   ]
  },
  {
   "cell_type": "markdown",
   "metadata": {
    "id": "STA7L84L4PZj"
   },
   "source": [
    "Of all of the Exploration options given you so far, this is by far the most open-ended.\n"
   ]
  },
  {
   "cell_type": "markdown",
   "metadata": {
    "id": "S48-iNf14Rsg"
   },
   "source": [
    "## <font color=red>Of Unknown Provenance</font>\n"
   ]
  },
  {
   "cell_type": "markdown",
   "metadata": {
    "id": "CeKxONz24SlG"
   },
   "source": [
    "I found [this document](https://byui-cse.github.io/cse280-course/eulerian-graph.pdf) online many years ago, but now I can't find it --- so I'm glad I kept a copy!\n"
   ]
  },
  {
   "cell_type": "markdown",
   "metadata": {
    "id": "RpuGEAG14V7L"
   },
   "source": [
    "If this topic interests you, you may want to see if you can borrow Brother Clement's book on [Bioinformatics Algorithms](https://www.amazon.com/Introduction-Bioinformatics-Algorithms-Computational-Molecular/dp/0262101068) --- it is almost surely the source of the information in this PDF.\n"
   ]
  },
  {
   "cell_type": "markdown",
   "metadata": {
    "id": "x4gkD-kQ4Xv6"
   },
   "source": [
    "Regardless, the PDF has enough content to spark and spur investigation into the many connections between graph theory and biology --- specifically in the sequencing of DNA.\n"
   ]
  }
 ],
 "metadata": {
  "colab": {
   "authorship_tag": "ABX9TyM/bI7ikaGUve+4+A4Ey+cx",
   "collapsed_sections": [],
   "name": "linking-eulerian-graphs-and-bioinformatics.ipynb",
   "private_outputs": true,
   "provenance": []
  },
  "kernelspec": {
   "display_name": "Python 3",
   "language": "python",
   "name": "python3"
  },
  "language_info": {
   "codemirror_mode": {
    "name": "ipython",
    "version": 3
   },
   "file_extension": ".py",
   "mimetype": "text/x-python",
   "name": "python",
   "nbconvert_exporter": "python",
   "pygments_lexer": "ipython3",
   "version": "3.9.0"
  }
 },
 "nbformat": 4,
 "nbformat_minor": 1
}
