{
 "cells": [
  {
   "cell_type": "markdown",
   "metadata": {
    "id": "J1JIqlkuhhq5"
   },
   "source": [
    "# <font color=blue>Prepare for Combinatorics and Probability</font>\n"
   ]
  },
  {
   "cell_type": "markdown",
   "metadata": {
    "id": "Rgxbc_P0hnAN"
   },
   "source": [
    "## <font color=red>Instructions</font>\n"
   ]
  },
  {
   "cell_type": "markdown",
   "metadata": {
    "id": "zGVX-W8Vhnyp"
   },
   "source": [
    "Answer questions on the content from the book, Chapter 5 Combinatorics and Probability, and any first-level links therefrom.\n"
   ]
  },
  {
   "cell_type": "markdown",
   "metadata": {
    "id": "J_IbvmxshowW"
   },
   "source": [
    "## <font color=red>Access</font>\n"
   ]
  },
  {
   "cell_type": "markdown",
   "metadata": {
    "id": "46NUQKVXhpwU"
   },
   "source": [
    "[Take the Quiz]()\n"
   ]
  }
 ],
 "metadata": {
  "colab": {
   "authorship_tag": "ABX9TyO+1V/wmfrffsDMnL/RPTC3",
   "name": "prepare-for-combinatorics-and-probability.ipynb",
   "private_outputs": true,
   "provenance": []
  },
  "kernelspec": {
   "display_name": "Python 3",
   "language": "python",
   "name": "python3"
  },
  "language_info": {
   "codemirror_mode": {
    "name": "ipython",
    "version": 3
   },
   "file_extension": ".py",
   "mimetype": "text/x-python",
   "name": "python",
   "nbconvert_exporter": "python",
   "pygments_lexer": "ipython3",
   "version": "3.9.0"
  }
 },
 "nbformat": 4,
 "nbformat_minor": 1
}
