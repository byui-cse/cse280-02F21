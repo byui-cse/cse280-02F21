{
 "cells": [
  {
   "cell_type": "markdown",
   "metadata": {
    "id": "Dge03LGFDMSZ"
   },
   "source": [
    "# <font color=blue>Hints for Chapter 1 Introductions Exercises</font>\n",
    "## <font color=blue>Prepare</font>"
   ]
  },
  {
   "cell_type": "code",
   "execution_count": null,
   "metadata": {
    "executionInfo": {
     "elapsed": 338,
     "status": "ok",
     "timestamp": 1619130947885,
     "user": {
      "displayName": "Rick Neff",
      "photoUrl": "",
      "userId": "06633377643603496480"
     },
     "user_tz": 360
    },
    "id": "27uKPfYGE44q"
   },
   "outputs": [],
   "source": [
    "from codecs import decode"
   ]
  },
  {
   "cell_type": "markdown",
   "metadata": {
    "id": "yZQPenktDawj"
   },
   "source": [
    "## Exercise 1.4.1"
   ]
  },
  {
   "cell_type": "code",
   "execution_count": null,
   "metadata": {
    "id": "6-Qu1xnbFR3q"
   },
   "outputs": [],
   "source": [
    "hint = 'Yrjvf Pneebyy vf lbhe sevraq urer.'\n",
    "print(decode(hint, 'rot-13'))"
   ]
  },
  {
   "cell_type": "markdown",
   "metadata": {
    "id": "aqngF-1JDkvy"
   },
   "source": [
    "## Exercise 1.4.2"
   ]
  },
  {
   "cell_type": "code",
   "execution_count": null,
   "metadata": {
    "id": "DAT3Rv6gFvy4"
   },
   "outputs": [],
   "source": [
    "hint = \"Ybbx sbe jbeqf jvgu whfg bar ibjry va gurz. Pbhag 'l' nf n ibjry, rira jura vg vf gur svefg yrggre bs n jbeq.\"\n",
    "print(decode(hint, 'rot-13'))"
   ]
  },
  {
   "cell_type": "markdown",
   "metadata": {
    "id": "vslkPs3XD1J6"
   },
   "source": [
    "## Exercise 1.4.3"
   ]
  },
  {
   "cell_type": "code",
   "execution_count": null,
   "metadata": {
    "id": "2gIJZj98GOXm"
   },
   "outputs": [],
   "source": [
    "hint = \"Gur cvpxrq ahzore vf ersreerq gb nf 'gung ahzore' guerr gvzrf. Vg qbrfa'g punatr qhevat gur sbezvat bs gur cebqhpg. Gel qvivqvat nyy gur cebqhpgf ol 6.\"\n",
    "print(decode(hint, 'rot-13'))"
   ]
  },
  {
   "cell_type": "markdown",
   "metadata": {
    "id": "KBEUQkdhECru"
   },
   "source": [
    "## Exercise 1.4.4"
   ]
  },
  {
   "cell_type": "code",
   "execution_count": null,
   "metadata": {
    "id": "ktK313SiEFL3"
   },
   "outputs": [],
   "source": [
    "hint = \"Frr gur svefg cnentencu bs frpgvba 0.3 Nhgbovbtencuvpny Nfvqr va gur Cersnpr.\"\n",
    "print(decode(hint, 'rot-13'))"
   ]
  },
  {
   "cell_type": "markdown",
   "metadata": {
    "id": "qTPsL0fiEjbp"
   },
   "source": [
    "## Exercise 1.4.5"
   ]
  },
  {
   "cell_type": "code",
   "execution_count": null,
   "metadata": {
    "id": "06aZfvN1EldC"
   },
   "outputs": [],
   "source": [
    "hint = \"Nabgure anzr sbe guvf ceboyrz vf gur *Yvzvgvat Enqvhf* ceboyrz. Gel n *gevtbabzrgevp nccebnpu*, nf Noh fnvq.\"\n",
    "print(decode(hint, 'rot-13'))"
   ]
  },
  {
   "cell_type": "markdown",
   "metadata": {
    "id": "5jIeVXbaih1N"
   },
   "source": [
    "### Stronger hint"
   ]
  },
  {
   "cell_type": "markdown",
   "metadata": {
    "id": "O9rvqjrcNCKh"
   },
   "source": [
    "Study [this image](https://byui-cse.github.io/cse280-course/images/limiting-radius-problem-solution-attempt.png)."
   ]
  }
 ],
 "metadata": {
  "colab": {
   "authorship_tag": "ABX9TyNmgstbTzdP7ENWacWoywcy",
   "collapsed_sections": [],
   "name": "chapter-1-introductions-exercises-hints.ipynb",
   "provenance": []
  },
  "kernelspec": {
   "display_name": "Python 3",
   "language": "python",
   "name": "python3"
  },
  "language_info": {
   "codemirror_mode": {
    "name": "ipython",
    "version": 3
   },
   "file_extension": ".py",
   "mimetype": "text/x-python",
   "name": "python",
   "nbconvert_exporter": "python",
   "pygments_lexer": "ipython3",
   "version": "3.9.0"
  }
 },
 "nbformat": 4,
 "nbformat_minor": 1
}
