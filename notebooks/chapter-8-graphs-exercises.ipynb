{
 "cells": [
  {
   "cell_type": "markdown",
   "metadata": {
    "id": "WTP-3HbXzxZQ"
   },
   "source": [
    "# <font color=blue>Chapter 8 Graphs Exercises</font>\n",
    "## <font color=blue>Prepare</font>\n"
   ]
  },
  {
   "cell_type": "markdown",
   "metadata": {
    "id": "BKs4deGexgJw"
   },
   "source": [
    "<font color=red>**For Week 11: Do all the exercises in sections 8.1 - 8.7.**</font>\n",
    "\n",
    "<font color=red>**For Week 12: Do all the exercises in sections 8.8 - 8.13.**</font>"
   ]
  },
  {
   "cell_type": "code",
   "execution_count": null,
   "metadata": {
    "id": "WSABAQhXzym-"
   },
   "outputs": [],
   "source": [
    "#@title Run this block first. {display-mode: \"form\"}\n",
    "!pip install cryptography\n",
    "from cryptography.fernet import Fernet\n",
    "\n",
    "def decrypt_answer(string, key):\n",
    "  return Fernet(key).decrypt(string).decode()\n",
    "\n",
    "from IPython.display import Markdown\n",
    "\n",
    "# display(Markdown('**Keys are available on request.**'))\n",
    "Key_8_4_1 = b'WfXYs-ltFM5kkbX8td-v0JYUQkUWMcwVpPXMz3VsZBw='\n",
    "Key_8_6_1 = b'04ma_Fu2HKAY8-OgFhVhLbCzTWvePDU3JJnDgiWAJLI='\n",
    "Key_8_6_2 = b'ovwqALxSI8nIWiS9a0aKgh4JFR8SbXMYaBj4KaFePTk='\n",
    "Key_8_6_3 = b'u-19COa2KDMn8Hf7U4EqLy4Z2RW0saafuYcc50zzXo4='\n",
    "Key_8_7_1 = b'_LBD69hePk0Zd24ewM90NsBHOjpYo60V31g-HzE1Ooo='\n",
    "Key_8_7_2 = b'U_SeckCS-GnNwc39XtL3IuSCrdeW8IICydr3P9t6nZc='\n",
    "Key_8_7_3 = b'fp4h4Q2IthW1YKzdLuP7gqv25WLcepVgHfJCX-LAWuo='\n",
    "Key_8_7_4 = b'pbn08l_-llVGf5dl2s6FSQBCALvuN0mBn9abY2x1a-s='\n",
    "Key_8_7_5 = b'gNVncXOTZmOiA1xDp6mDAWHiBDVs7J2gf93g8Sddda4='\n",
    "Key_8_8_1 = b'dhHBpdUXhnnm_sHGaXh7-wo-bVOuNX_5TtdvH90Gv7s='\n",
    "Key_8_9_1 = b'LsfYa4UAn59Nu5sorW83b3nTgX7pRkleavm2PJN8XxY='\n",
    "Key_8_9_2 = b'UFyAHgBiwLsb9HELvoyxwPu-YgoM60p0wOloPlgmUaw='\n",
    "Key_8_10_1 = b'TMIQaq__UlaUunij74egC77CPhUMg3Uf2DWidNk7rBg='\n",
    "Key_8_10_2 = b'tlhAncSLXr64Ps3nwjWp16VKdm5xlpBfm4pCdZyTXcA='\n",
    "Key_8_10_3 = b'N0hNEMq99Tt7yH1oXGDSDZ8njTvRA5GWD63_NBS7-B4='\n",
    "Key_8_10_4 = b'rIN6DJTXQbCReA1Bumu6OT7BbR9jo4-7OFdKvy4xuvM='\n",
    "Key_8_10_5 = b'ZIyZEhVJoscRqw3wZ3Uz1fCCHX1GNq_McZdfG_VfqiU='\n",
    "Key_8_10_6 = b'zvwdG0bgHriXjDONfn1WulBog3r8AR6vMw1BTGkteYo='\n",
    "Key_8_10_7 = b'uiICHmhGrNsyAEKQHybmFxRThADePT7nfE8TYR8BUt0='\n",
    "Key_8_11_1 = b'dVDN5FM1mzrolR8-_U2eM6MpPeyV45x9ZBa0hR5zWT8='\n",
    "Key_8_11_2 = b'WNC-pupbqj49dY_dS4i6GZE4Hv5EbvuZv0MNfjwxR8A='\n",
    "Key_8_11_3 = b'Dr9qfsRTzQcb7G7_R_EVg3FYXWvmz3yAw5dEX8tYGIA='\n",
    "Key_8_11_4 = b'VGSyQReejVJNpTJrMtMLWlC4clAvuwAL-z9xVBgiIMg='\n",
    "Key_8_11_5 = b'dfceboBXD4oOb7wY07ySExzM9n_mntF5XUy8QruTtXI='\n",
    "Key_8_12_1 = b'6S3IBAtOp-TGJsv4_B0tYwMDOgKIbrO0WyUWdoblgG0='\n",
    "Key_8_12_2 = b'lb2nb1auXGr-sDiCjxSjwapCvHXKNEYeraJxpCn1eQo='\n",
    "Key_8_12_3 = b'DOAIKwdSaCNLSByppTXK6dJJQ2kSVRNrCfWjm_SOp6I='\n",
    "Key_8_12_4 = b'VOhhwZa1hBEFdDNyCue12VqeReS0lNRqlU_26IBifMk='\n",
    "Key_8_12_5 = b'DaM7mvhHIloevUQi4ettq8R2TU8tuOIPPEPxiGzuwxY='"
   ]
  },
  {
   "cell_type": "markdown",
   "metadata": {
    "id": "tgClRxJO0gnk"
   },
   "source": [
    "## <font color=red>8.1 Applications Abound</font>"
   ]
  },
  {
   "cell_type": "markdown",
   "metadata": {
    "id": "2KxELwjT0iZH"
   },
   "source": [
    "No exercises.\n"
   ]
  },
  {
   "cell_type": "markdown",
   "metadata": {
    "id": "01JGtXm00k8k"
   },
   "source": [
    "## <font color=red>8.2 Origins</font>"
   ]
  },
  {
   "cell_type": "markdown",
   "metadata": {
    "id": "m_WL2_va0mHF"
   },
   "source": [
    "No exercises.\n"
   ]
  },
  {
   "cell_type": "markdown",
   "metadata": {
    "id": "DAAVDtFb0nPA"
   },
   "source": [
    "## <font color=red>8.3 Visually Appealing</font>\n"
   ]
  },
  {
   "cell_type": "markdown",
   "metadata": {
    "id": "kpEMgZbD0oF1"
   },
   "source": [
    "No exercises.\n"
   ]
  },
  {
   "cell_type": "markdown",
   "metadata": {
    "id": "GKCfeMPT0o4y"
   },
   "source": [
    "## <font color=red>8.4 Cycles, Links, Paths</font>\n"
   ]
  },
  {
   "cell_type": "markdown",
   "metadata": {
    "id": "BPOoafDw0pyz"
   },
   "source": [
    "### Exercise 8.4.1\n"
   ]
  },
  {
   "cell_type": "markdown",
   "metadata": {
    "id": "407MyffG0rPV"
   },
   "source": [
    "1. In the sequence-of-links representation; and\n",
    "2. in the sequence-of-nodes representation;\n",
    "list seven of the simple paths from ```MT``` to ```NM```, including the shortest path(s) and the longest path(s).\n"
   ]
  },
  {
   "cell_type": "code",
   "execution_count": null,
   "metadata": {
    "id": "tO5CqRt400uk"
   },
   "outputs": [],
   "source": [
    "#@title Hint {display-mode: \"form\"}\n",
    "print('These can be seen in Figure 8.3 Intermountain West adjoining states.')\n"
   ]
  },
  {
   "cell_type": "code",
   "execution_count": null,
   "metadata": {
    "id": "EXq1wbJe04Gv"
   },
   "outputs": [],
   "source": [
    "#@title Answer {display-mode: \"form\"}\n",
    "Answer_8_4_1_encrypted = b'gAAAAABgzjhR-iBboS7EIQdfb5_E9j5QFrN9v8tV538RQh7BijN-3j127YvWHPJ_RkzIf-KK3en-Umvn6Jlk1tFCbQ-v-UToT6nyQudJ5FTBhALhgpwBVi9kKbfacKfwST_IowpqZK-5uPBej7SkLgELC4EypPB1xFY7GsktspXnV21cwgunm-FUohLW0zYga0ADrqPZE3fw7P3gTYsyaRlVhxmNwO3vOW_JG3qpwwtau8NYr-qd-fjTy4n_9IHRtNdXoa9rFrofWr0JtGc_97THJqBAGV7dw23GQhDqF0693QJe0REBUTKUvs5-d3_2MS5l7P3EZXnmCPI6wDg1_guoS7aj514Ba4aelLFXFZF5YsHBD5pL0jE05mI2G8BugbhBJdGCBxIV-8ULeqtxZzLnnbO4Qz3m8IEdWmC8AG-QLR-ZfwTzycoCKXk4xNYhVBGzmtAnh431NojZ5WU9VyEVTot5OurbqTiD31pOkFf8oaDs9CjCMKC0q3aGhcCCcP1NCeCwCv5O0VElg0lzqx3L-BdssfDKz5PZEL5zyYrI8CFlTT4kU0HkIi23woHRAsZlkt4dQN1vgxXl2IBUqtCJ5jz-oJ1j_gBX4SDyufVd78tHVxMl71IjeJBRYOeHuwzAQ9MMbrmXvD9Pc-fczNezymEXMRsH87Bs1-X160utVqai8esUcbF-45NvEQsqv4aphaxvxySXrL1B7JlHs5gbKLzhKbPa_hlVANNRMbo2M3Ll6Y0CJTSWBuK4NC0sTgwr9xHxJdWQoJnfVn_YSkBAsWcgbob8lWuae6oZoatN_zChXbhQfrG6bgPiPteTxvYGOnqRhQaJ0aDoT3Pdcp1EWiODNuxyRvLIS-R1d4J6NkSD0JUvE0Acv_zHcJchTC9a-3xnocVdNKMpsNGa-5SE0YN6qhG2-MZYdpCvJ0oZkHtCJXVsgcXmf1eP2m2ZSpku6KMBj0GpIRVcrgzgmjDSRNH79Y5Sp9CnzTgfHOgZopAGOCuXHlZUH-4VjWyAxpWnDXRy8cylun6-y4iUmD0yNc2EVPdVCJ0MgKPdRkB0ZxCbIfRwoTzFA9yHZP0P4-OYGmTqe2N-a7MEkUT0SDTIREBh2xwdOg=='\n",
    "Answer_8_4_1_decrypted = decrypt_answer(Answer_8_4_1_encrypted, Key_8_4_1)\n",
    "display(Markdown(Answer_8_4_1_decrypted))"
   ]
  },
  {
   "cell_type": "markdown",
   "metadata": {
    "id": "VZNDoG9n08wC"
   },
   "source": [
    "## <font color=red>8.5 Simplicity Abandoned</font>\n"
   ]
  },
  {
   "cell_type": "markdown",
   "metadata": {
    "id": "sJ9TzV0b0_ge"
   },
   "source": [
    "No exercises.\n"
   ]
  },
  {
   "cell_type": "markdown",
   "metadata": {
    "id": "AEXSRRed1ANU"
   },
   "source": [
    "## <font color=red>8.6 Add Direction</font>\n"
   ]
  },
  {
   "cell_type": "markdown",
   "metadata": {
    "id": "Abq9zU1T1A89"
   },
   "source": [
    "### Exercise 8.6.1\n"
   ]
  },
  {
   "cell_type": "markdown",
   "metadata": {
    "id": "ViFt4A0D1Bp7"
   },
   "source": [
    "Refer to Figure 8.5: A tournament graph is a directed graph.\n",
    "\n",
    "Which node in this graph represents Abu in the ping-pong tournament he was in?\n"
   ]
  },
  {
   "cell_type": "code",
   "execution_count": null,
   "metadata": {
    "id": "kWKoO7P71DwP"
   },
   "outputs": [],
   "source": [
    "#@title Hint {display-mode: \"form\"}\n",
    "print('See Section 8.2.')\n"
   ]
  },
  {
   "cell_type": "code",
   "execution_count": null,
   "metadata": {
    "id": "6jpZ7ReA1Gas"
   },
   "outputs": [],
   "source": [
    "#@title Answer {display-mode: \"form\"}\n",
    "Answer_8_6_1_encrypted = b'gAAAAABgzja7w5-GuUc8BXWbDU9usfZSkWbLqIi_wnrOL9MfISGvBOVBMqwnJL-Wh7sU_nRF4jKrG0DQiZb0WMkjvL9szyQZaVMCjHtTh01fgmnms2-In2kD2flR9lmKteIz0EXB69Cw4k_hUtLqRz6RuhCJn4VMENuHeFOMglBA346tVU-g9Te8-YUDCShF3lXzYOpNJrir'\n",
    "Answer_8_6_1_decrypted = decrypt_answer(Answer_8_6_1_encrypted, Key_8_6_1)\n",
    "display(Markdown(Answer_8_6_1_decrypted))\n"
   ]
  },
  {
   "cell_type": "markdown",
   "metadata": {
    "id": "-HRl2pyE1L6T"
   },
   "source": [
    "### Exercise 8.6.2\n"
   ]
  },
  {
   "cell_type": "markdown",
   "metadata": {
    "id": "h5zVAANI1M5N"
   },
   "source": [
    "Make connections between the four relation types and the existence or nonexistence\n",
    "of certain features in the graph of the relation:\n"
   ]
  },
  {
   "cell_type": "markdown",
   "metadata": {
    "id": "ox578_My1OAR"
   },
   "source": [
    "* Reflexive = *every* node has a link that is a loop.\n",
    "* Symmetric = there are *no* single link arrows (one-way trips) --- every link arrow is a double one (roundtrip).\n",
    "* Antisymmetric = there is *no* double arrow (going both ways) *unless* it is a loop.\n",
    "* Transitive = there is *no* two-leg journey (think flight with a layover) without a shortcut (non-stop flight).\n"
   ]
  },
  {
   "cell_type": "code",
   "execution_count": null,
   "metadata": {
    "id": "vkoOIDI01U0f"
   },
   "outputs": [],
   "source": [
    "#@title Hint {display-mode: \"form\"}\n",
    "print('''\n",
    "Refer to Figure 8.6 Digraph of a binary relation.\n",
    "\n",
    "Use this digraph to make these connections concrete in your mind.\n",
    "''')\n"
   ]
  },
  {
   "cell_type": "code",
   "execution_count": null,
   "metadata": {
    "id": "ejvoz1CU1W4q"
   },
   "outputs": [],
   "source": [
    "#@title Answer {display-mode: \"form\"}\n",
    "Answer_8_6_2_encrypted = b'gAAAAABgznqspYsuNE-UxVEvDFsxEJ4fS9bjJIFy0kfaIujEslr90ckZWzBPl81qSlKWIIXYszDNBiaIVB9rxNUDPnlNCNubjOxyfhXRWcedqSBcggh-IQk='\n",
    "Answer_8_6_2_decrypted = decrypt_answer(Answer_8_6_2_encrypted, Key_8_6_2)\n",
    "display(Markdown(Answer_8_6_2_decrypted))\n"
   ]
  },
  {
   "cell_type": "markdown",
   "metadata": {
    "id": "999wqJmm1bOc"
   },
   "source": [
    "### Exercise 8.6.3\n"
   ]
  },
  {
   "cell_type": "markdown",
   "metadata": {
    "id": "SqTTP3F91cwh"
   },
   "source": [
    "What is a familiar example, used every day, of a directed multigraph?\n"
   ]
  },
  {
   "cell_type": "code",
   "execution_count": null,
   "metadata": {
    "id": "WdwXEeDk1eeh"
   },
   "outputs": [],
   "source": [
    "#@title Hint {display-mode: \"form\"}\n",
    "display(Markdown('''An activity called *surfing* comes to mind.'''))\n"
   ]
  },
  {
   "cell_type": "code",
   "execution_count": null,
   "metadata": {
    "id": "uXxTrYUc1iMr"
   },
   "outputs": [],
   "source": [
    "#@title Answer {display-mode: \"form\"}\n",
    "Answer_8_6_3_encrypted = b'gAAAAABgznrf5XhC2SPGD7Y_vtRUIzYJTCmPBvTwJOaqTuW85Pnf3YlTTA6du_Wtc70rlpqzS1NxMrOLU-vhRgaKPdXVXZRAY1R5o6wgMcwfzn17iEN9zS2qug-KLlMYHgS9zu-XjKmqCahbvhfGmvBiGHyRNr59dWaH8-RvviH6CnaAbh4RnphPcihhEdTEMIEkDIYPezzxyXT7eoZY6LmDQLx2WocFSO5M0tr3j3K86d986dX0aorSj1-bcCHyb8q307pEXcF0up7AI5B_kpuOZYX8I00H67J-J1aLG8uadkfQU-QI6vloVnw6U-k1gESwtToZa-ftEotM3a-bVqdcyh9mWCc1Xw=='\n",
    "Answer_8_6_3_decrypted = decrypt_answer(Answer_8_6_3_encrypted, Key_8_6_3)\n",
    "display(Markdown(Answer_8_6_3_decrypted))\n"
   ]
  },
  {
   "cell_type": "markdown",
   "metadata": {
    "id": "ySsDC3Of1opn"
   },
   "source": [
    "## <font color=red>8.7 Adjacency Counts</font>\n"
   ]
  },
  {
   "cell_type": "markdown",
   "metadata": {
    "id": "kVMw8eWc1p8D"
   },
   "source": [
    "### Exercise 8.7.1\n"
   ]
  },
  {
   "cell_type": "markdown",
   "metadata": {
    "id": "LuWx1hYF1q3I"
   },
   "source": [
    "What is the degree sequence of a **perfect** (full, complete) binary tree with 3 levels?\n"
   ]
  },
  {
   "cell_type": "code",
   "execution_count": null,
   "metadata": {
    "id": "B2KHOc2Q1r7r"
   },
   "outputs": [],
   "source": [
    "#@title Hint {display-mode: \"form\"}\n",
    "print('Draw it (or see Figure 7.6 in Section 7.1) and count carefully.')\n"
   ]
  },
  {
   "cell_type": "code",
   "execution_count": null,
   "metadata": {
    "id": "RnGVyy-u10y2"
   },
   "outputs": [],
   "source": [
    "#@title Answer {display-mode: \"form\"}\n",
    "Answer_8_7_1_encrypted = b'gAAAAABgzoAclL3cipjNIY4ISCcdOoAfS_dTsyQZVHpYSfwIju3vFHXA1ExCD_EsG560PuTHzn_FkLz95-V9WoYkPx0h5mHq1xF-S4iqoxtAQChbVv_41-8HMixxlXiVIZ0lqKm6L-5DplzimZMaZIp5dg7j4s6WoCCITS02XxigmASE-T_2GW0U4BC_wtDZg1rX5O6CMowG4VxS2RUZwF6iNF4-ctvw_R0OuZnG6RMGYfhoH5n0M7M-_8j65N-ImWqis1qibFmxVhfLQNQypl15WIlsncss_uFjryoWUQiJ0wx2CU7epSimPvlH0UIH437xT0cmaLHSb4oZkSCzX7jdao0bZkMJiVPgheXD60m650B5Rsb4TgZHgdNN-PEDK6FxW3zyibeVCAFhiXD8veG1R-UDD0-7G1nivBjOtdmeUqvSUUscxL2zhm7IRH1J3pTgPdVUsdmxfsRR3_34RL9BtZ9DBvLiXu80qugxZc-bR3hPCQe-tQihnH-qCoaUqTxOs0H3EpgOHS98_M3lpd6kkd85tTjc9P-126ApVGMF9l6Sw8bC0URu9KxmVVWj6PU8u2N_DWKqpWGQfVMezDyr1wzb1PLQWEYRAIlrJSKqSponj79R0Ck='\n",
    "Answer_8_7_1_decrypted = decrypt_answer(Answer_8_7_1_encrypted, Key_8_7_1)\n",
    "display(Markdown(Answer_8_7_1_decrypted))\n"
   ]
  },
  {
   "cell_type": "markdown",
   "metadata": {
    "id": "xFZa3yo917IZ"
   },
   "source": [
    "### Exercise 8.7.2\n"
   ]
  },
  {
   "cell_type": "markdown",
   "metadata": {
    "id": "J9npFZwI18cc"
   },
   "source": [
    "In another multigraph example, refer to Figure 8.7 Four nodes, seven links.\n"
   ]
  },
  {
   "cell_type": "markdown",
   "metadata": {
    "id": "QmSBt5-a19wG"
   },
   "source": [
    "What is the connection between this graph and the &ldquo;birth of graph theory&rdquo;?\n"
   ]
  },
  {
   "cell_type": "code",
   "execution_count": null,
   "metadata": {
    "id": "o2_1EnOj1_7q"
   },
   "outputs": [],
   "source": [
    "#@title Hint {display-mode: \"form\"}\n",
    "print('What do its nodes and links represent? What is its degree sequence?')\n"
   ]
  },
  {
   "cell_type": "code",
   "execution_count": null,
   "metadata": {
    "id": "criisC_I2CdM"
   },
   "outputs": [],
   "source": [
    "#@title Answer {display-mode: \"form\"}\n",
    "Answer_8_7_2_encrypted = b'gAAAAABgzoBysSm9quFcvFmlgHTtw0uLvEwLLhTewdHaai4nexpd40hAvVS4fO1beY-f5zWEFty4NfoPnrfTxReJOqvrySNKP5ES9j4ZctJJC4saV6zkDlCTfWLRKx-gu9zfhJjm1SkJ7uErYvLuOa980fNaSIvtf8yNncTCdYV7Z0KzRCceTMl9awJ86k-f19m1K2CW7k81MSc8yBzTC33QH1V0TBl0J2y9za3R3Tx-WE6mNkrBrUli_pmEnwL3HaHsSkVJXdW_6hw43WgJlXVaUuOb9qkfRc6U6B6Lv3UHIQPP_69RtoqUMPZh4x-JJ6_W3iKhR0480ncEUlo0L2uTa-2iLgXSFQ=='\n",
    "Answer_8_7_2_decrypted = decrypt_answer(Answer_8_7_2_encrypted, Key_8_7_2)\n",
    "display(Markdown(Answer_8_7_2_decrypted))\n"
   ]
  },
  {
   "cell_type": "markdown",
   "metadata": {
    "id": "nQNAGoYP2Hlk"
   },
   "source": [
    "### Exercise 8.7.3\n"
   ]
  },
  {
   "cell_type": "markdown",
   "metadata": {
    "id": "j0irWlE52Iq0"
   },
   "source": [
    "Refer again to Figure 8.7 Four nodes, seven links.\n"
   ]
  },
  {
   "cell_type": "markdown",
   "metadata": {
    "id": "JBQ4P6Yy2JhH"
   },
   "source": [
    "Does this graph have the property &ldquo;Eulerian&rdquo;? (Look it up.)\n"
   ]
  },
  {
   "cell_type": "markdown",
   "metadata": {
    "id": "iYAY6HdO2KS1"
   },
   "source": [
    "For a graph to be Eulerian, there are necessary and sufficient conditions.\n"
   ]
  },
  {
   "cell_type": "markdown",
   "metadata": {
    "id": "vSUmlsk62LYH"
   },
   "source": [
    "Describe these conditions.\n"
   ]
  },
  {
   "cell_type": "code",
   "execution_count": null,
   "metadata": {
    "id": "_x0hxWzd2Mkj"
   },
   "outputs": [],
   "source": [
    "#@title Hint {display-mode: \"form\"}\n",
    "print('''\n",
    "This is a good concept that stems from the very origins of graph theory\n",
    "(the reason it's named after Euler).''')\n"
   ]
  },
  {
   "cell_type": "code",
   "execution_count": null,
   "metadata": {
    "id": "lEYrA9dX2QSC"
   },
   "outputs": [],
   "source": [
    "#@title Answer {display-mode: \"form\"}\n",
    "Answer_8_7_3_encrypted = b'gAAAAABgzoDRBrf4Ngif0ffRvTH5AUzY-yZJcxRl7Z5pCq5DSmXLnNmrOow9NvRslxnH83HAVwKXHLAdXS6fA3bpvp_U8ewt7gY8fps234f2IseSH_0eDnGQxiMKYogr2jCUkNFw-PA_1mbpMQWTugQtL7SOywpv4nmip538oilUreCK_pXB8IgyjWje5UncY7lmFQXk0elDuGuWREMKtKz-WyJKiyPI1Jk8DZRJmddlnrJxX6wdJmr_t_E1_4SWn8lx2Nj9ppcTwrjR7Ol1I6LNXqlJjIAXBy81H7B0Zbo6BXACAs4L7murx4Xfr91UGhUKWSYNsWn9vR7RFhwtjWLNKQsDDtgUkz9NkIqYzM7sxuIRsbSXU_8CXJaYUm80EDBJLoLLUdmHNSpuvPqfaYfvtU81hHdAit-s7A659Mo3BcrmIcn8GOW2QoAV9abh5gYz9thQIx-RsThRf1Qq-XIz_uTtbRzHx9y0R_R5Wt_-sDGVFcI9TOe7KRLl3Q7D1xy5QotqhrsdR10MWYuFPY48SPGE5qwWj6SHtgMmdO_lEFROa-ocGp5rZzMJqjtNNawW2v-00PCabwtIFSsMtX02w2e8_0VpZkqa9Ggy6zd8gN7gmR_5m94='\n",
    "Answer_8_7_3_decrypted = decrypt_answer(Answer_8_7_3_encrypted, Key_8_7_3)\n",
    "display(Markdown(Answer_8_7_3_decrypted))\n"
   ]
  },
  {
   "cell_type": "markdown",
   "metadata": {
    "id": "SD6n9d6l2TX_"
   },
   "source": [
    "### Exercise 8.7.4\n"
   ]
  },
  {
   "cell_type": "markdown",
   "metadata": {
    "id": "iPnvYYgg2VW4"
   },
   "source": [
    "Explore the question: Does a graph’s degree sequence alone contain enough\n",
    "information to reconstruct the graph?\n"
   ]
  },
  {
   "cell_type": "code",
   "execution_count": null,
   "metadata": {
    "id": "x1pGsVLe2W0D"
   },
   "outputs": [],
   "source": [
    "#@title Hint {display-mode: \"form\"}\n",
    "print('Explore means answer the question and investigate the ramifications of the answer.')\n"
   ]
  },
  {
   "cell_type": "code",
   "execution_count": null,
   "metadata": {
    "id": "6_MWsuSY2ZTI"
   },
   "outputs": [],
   "source": [
    "#@title Answer {display-mode: \"form\"}\n",
    "Answer_8_7_4_encrypted = b'gAAAAABgzoEcA56T3k1PAZaATgDETEELa06FNii5uJVwUj5GE1pXrXAsOvImXTw_YbgGSlSkFva1K2Z6pfkYev53_XoDbz6ZxPpS4O8M5xbMda4uTWrCAtCLb0-ZbeC8U6bMTsNmnJepa0F8NBh89elgAEiqWGkqoGeGzT4ahY2Bg5Sp2ipK7jGYMoLb_kn6C2YoaLlH4dTTOUpWtzb5GWnhnpJSyNQ3PpeIH0KXmG2N2bFvjycxZAk8BxvWaMe_8-R3_5ZQbKFCZl5oZJKQF1kORqNBXvXrxMAWnd92P2mKZhhKS4hhDMxYZmGhberK11VKUlY744Kji9yTm9_1OgE4la-kO1OdNWpzrlxSPdIg7_ze4wpQYLLp_Xgmjvok1USXlitDZI2Y0si3usAROtcAiLLu-VE1cqVaAh8ymu01dWxRwy3OCbVpfEJTwqPfXSaEEG3StOOEH8kLLOHao14PaokkcicYMptPZJpaZeqqIHBWoyD6U0LKO6EINv2U_diOnhEXeT3ndhf8wyZOGCi6OC4cGWR31Sxwop6BF_haGj1G1OWsLjZGp29m9gEiV7pKetN4j4mQPZaIWOPvoOBeyn_kyqsrckKQsFiKZP1IrZn4FzJUuT7RxAqvdLzBJ6JB7un_VqaT'\n",
    "Answer_8_7_4_decrypted = decrypt_answer(Answer_8_7_4_encrypted, Key_8_7_4)\n",
    "display(Markdown(Answer_8_7_4_decrypted))\n"
   ]
  },
  {
   "cell_type": "markdown",
   "metadata": {
    "id": "Ow0TrJ1P2d4b"
   },
   "source": [
    "### Exercise 8.7.5\n"
   ]
  },
  {
   "cell_type": "markdown",
   "metadata": {
    "id": "71ZMr5au2fAV"
   },
   "source": [
    "Draw the graphs of these ten 2d degree sequences:\n"
   ]
  },
  {
   "cell_type": "markdown",
   "metadata": {
    "id": "MGDyKdqR2f_H"
   },
   "source": [
    "$\\begin{array}{rrllrrrlrrllrr}\n",
    "1 &  &  &  & 2 & 2 &  &  & 2 & 2 &  &  & 1 & 1\\\\\n",
    " &  &  &  &  &  &  &  &  &  &  &  & 4 & \\\\\n",
    "2 & 1 &  &  & 2 & 2 &  &  & 2 & 2 &  &  & 1 & 1\\\\\n",
    " &  &  &  &  &  &  &  &  &  &  &  &  & \\\\\n",
    " &  &  &  &  &  &  &  &  &  &  &  &  & \\\\\n",
    "2 & 2 &  &  & 1 & 3 & 1 &  &  &  &  &  &  & \\\\\n",
    "3 & 3 &  &  &  &  &  &  &  &  &  &  &  & \\\\\n",
    "1 & 1 &  &  &  & 1 &  &  &  &  &  &  &  & \\\\\n",
    " &  &  &  &  &  &  &  &  &  &  &  &  & \\\\\n",
    " &  &  &  &  &  &  &  &  &  &  &  &  & \\\\\n",
    "1 &  & 1 &  &  & 2 & 2 &  &  & 1 & 1 &  &  & 1\\\\\n",
    " & 3 &  &  &  &  &  &  &  &  &  &  &  & 1\\\\\n",
    " & 1 &  &  &  & 2 & 2 &  &  & 2 & 2 &  &  & 0\\\\\n",
    "\\end{array}$\n"
   ]
  },
  {
   "cell_type": "code",
   "execution_count": null,
   "metadata": {
    "id": "1zsk8acK2jWQ"
   },
   "outputs": [],
   "source": [
    "#@title Hint {display-mode: \"form\"}\n",
    "print('Treat the ten clusters as separate degree sequences.')\n"
   ]
  },
  {
   "cell_type": "code",
   "execution_count": null,
   "metadata": {
    "id": "CLRsHa472ocs"
   },
   "outputs": [],
   "source": [
    "#@title Answer {display-mode: \"form\"}\n",
    "Answer_8_7_5_encrypted = b'gAAAAABgzoKj6WsiamYqQhUODOCL_wnxmgfEiXUUOq5NucCXmd1Of61dgBY3rHzCPoe7-93V5lNtIQOVlFY7WwN2u90oT3V1ZRDBizZAfDNzfnQIQoG9ni0='\n",
    "Answer_8_7_5_decrypted = decrypt_answer(Answer_8_7_5_encrypted, Key_8_7_5)\n",
    "display(Markdown(Answer_8_7_5_decrypted))\n"
   ]
  },
  {
   "cell_type": "markdown",
   "metadata": {
    "id": "J7wZvBLv2rwx"
   },
   "source": [
    "## <font color=red>8.8 Handshaking</font>\n"
   ]
  },
  {
   "cell_type": "markdown",
   "metadata": {
    "id": "_1UlNo402su9"
   },
   "source": [
    "### Exercise 8.8.1\n"
   ]
  },
  {
   "cell_type": "markdown",
   "metadata": {
    "id": "6fZxtBxb2tew"
   },
   "source": [
    "Is there, i.e., can there possibly exist, a simple graph with degree sequence\n",
    "```[3, 2, 1, 0]```?"
   ]
  },
  {
   "cell_type": "markdown",
   "metadata": {
    "id": "mEP28XzR2yno"
   },
   "source": [
    "Why or why not?\n"
   ]
  },
  {
   "cell_type": "code",
   "execution_count": null,
   "metadata": {
    "id": "jMiuMocr2z_d"
   },
   "outputs": [],
   "source": [
    "#@title Hint {display-mode: \"form\"}\n",
    "print('This is a real test of your understanding.')\n"
   ]
  },
  {
   "cell_type": "code",
   "execution_count": null,
   "metadata": {
    "id": "DYHrHT1Y22jU"
   },
   "outputs": [],
   "source": [
    "#@title Answer {display-mode: \"form\"}\n",
    "Answer_8_8_1_encrypted = b'gAAAAABgzoMH4WAySnJdXS3mTxrT2R9Spd-1fhEJ87gfy7AELQNxqBbOOed0gojMI4IVjvE6jWIeRLwSbahyyytWlqziquWUZbgc7Zoqg5W8Nb1O1IwlSaXXaDM8PkcqsXAbC2K7RPXBiikT-apL-cmrsTbm995rvCuju1YTjVCUtSt8MKqwU5xLJZ3Yh9XwLTq1dgYoag3TgqyGLcjZHTfIBBs8GVKxr_-qgKDf9mrwgeM8UNWU_VAa7akcRsG04cF57zyEJfrKm908YnKohTidpbELp8oUa7PG4qbncfjWM6hJBow2C956UToMjsGG4kw3LvFUu-Q68VJ6_gWQHS4ddDCi0fvFS8qlrkyilYk1e2rJ3M8rZU7yH5Lw1K9rWo7umAZVZfvCLrmMAoKQ2Rk0_qxSXym3cSSC1fMcjU0uo9mUsNgAbBXN9h2L_XdWr4aVKg7vBugtpTm4uP_ugRok_97hIQVjfXZ9aUwC4iMTcCXmbsSYjCzvU2wfPOBPYQVrh42hD2ECG4ghB37HFfkXB8OhxNvAAc3M6q-XH9Ij8kB8Ut30s0PVMzHWRsmrSbkZJqWrHb6LqRK490eGo5j1TRl1IUat-osHPpkjALw95JEdERdhye9AHlXlhk0kSSQMoxXA7Qz7NQOdhAvTFYWJBSuRfUlwmqfYdlYb1prWZfHlR1HUBU7oujYfYP5pvzYXvsWmfg6_kfK8QFqJXu7-aCUJPl9-7ZY66dLmZyb-hbjEeK3Sam7dxNzCFT6_x3D6yuqc6q3CXrS0pKgxJp46KHXiDEXmFLcx84zXDukv8P7mSSqxLV6QhnKUwen7MpNsXdpzaejn'\n",
    "Answer_8_8_1_decrypted = decrypt_answer(Answer_8_8_1_encrypted, Key_8_8_1)\n",
    "display(Markdown(Answer_8_8_1_decrypted))\n"
   ]
  },
  {
   "cell_type": "markdown",
   "metadata": {
    "id": "_o0Ucfmo26u4"
   },
   "source": [
    "## <font color=red>8.9 Get Directed</font>\n"
   ]
  },
  {
   "cell_type": "markdown",
   "metadata": {
    "id": "dOdKWbvo28H_"
   },
   "source": [
    "### Exercise 8.9.1\n"
   ]
  },
  {
   "cell_type": "markdown",
   "metadata": {
    "id": "Z08oQvJc283Y"
   },
   "source": [
    "Refer again to Figure 8.5: A tournament graph is a directed graph.\n"
   ]
  },
  {
   "cell_type": "markdown",
   "metadata": {
    "id": "C8E_9jeB2-BF"
   },
   "source": [
    "Choose a link in this graph and use all of the *directed adjacency* vocabulary to describe it.\n"
   ]
  },
  {
   "cell_type": "code",
   "execution_count": null,
   "metadata": {
    "id": "29JxWXWH2_Vz"
   },
   "outputs": [],
   "source": [
    "#@title Hint {display-mode: \"form\"}\n",
    "print('Be succinct.')\n"
   ]
  },
  {
   "cell_type": "code",
   "execution_count": null,
   "metadata": {
    "id": "qfrLzSTI3BrN"
   },
   "outputs": [],
   "source": [
    "#@title Answer {display-mode: \"form\"}\n",
    "Answer_8_9_1_encrypted = b'gAAAAABgzoN7bUc2XLtkZ7_Yu-Ziu70u2sj3Rs7Id-YCth1MsfmJURmQFZ7y9G68doRFSFDEXlzNVgdwjstSDWpIsgMI8S67dTDrj4tQaago5KV5fMQVOAXBbSdncNcq7I_nhOZ_P6UMiqYUu_5aNH-HecbzUui8H_VxtA-TX01qetOEhxckcTmscGDVjwaCHgipnU7k3TIYaD6xrFDvdfKkP9atHGS1HAf0OYrY9x4uEart9RXD1xjdoqRPu2bTe1XGu6aYpvdfgz85ABkyHhM1OS8pH1M7JcJJywywXdOl1RWDybiQDrHddaVbebMIyMxVJOMMTpqookXzwk1Xlmrn4z9yOpxFK7SLUgv_uD_Hc7gCfodOTAGJ23YGWv5DsquLqe_dvjRhfwReNvhmevHvny2rvrdie_xQ043Dwf0dwhs_85PWRgySA18_lk0Avxc5Z9NduJ4EE2xrqnluLz5UqLwcEELbWDjoLrqWHdkRSur5EPi3pN5ig9QxUYp9S61_DziPvwf4Zz14ti7TsLUqqQi7PUrRBi2pM7Yb1g-M2zXg_uz5lgSKS_iMeXStMY4GaYy6DdNMpue7sF-fvFWwJixneyWPgDSHeplDbVnJ9wdnOMxqKuFt-TnpOd7yzxBQNlu2od1-0NE4e-NYBfasleG-vcUqiA_KBZIFwZ4uSSGUYACk4WMLaanV9BtNR91Bu1XnLeeOfjRI8IDHnKmhc80JX_hQYA=='\n",
    "Answer_8_9_1_decrypted = decrypt_answer(Answer_8_9_1_encrypted, Key_8_9_1)\n",
    "display(Markdown(Answer_8_9_1_decrypted))\n"
   ]
  },
  {
   "cell_type": "markdown",
   "metadata": {
    "id": "QqHvy2c-3Gli"
   },
   "source": [
    "### Exercise 8.9.2\n"
   ]
  },
  {
   "cell_type": "markdown",
   "metadata": {
    "id": "VrD74_zd3Hqm"
   },
   "source": [
    "Refer again to Figure 8.5: A tournament graph is a directed graph.\n"
   ]
  },
  {
   "cell_type": "markdown",
   "metadata": {
    "id": "rvLABReK3IWB"
   },
   "source": [
    "Using the list-of-nodes representation, list all the directed paths in this graph from node $\\mathtt{A}$ to $\\mathtt{F}$.\n"
   ]
  },
  {
   "cell_type": "markdown",
   "metadata": {
    "id": "i8v7PC7Y3I_e"
   },
   "source": [
    "How many of these paths include node $\\mathtt{G}$?\n"
   ]
  },
  {
   "cell_type": "code",
   "execution_count": null,
   "metadata": {
    "id": "S_h0oZue3Kpn"
   },
   "outputs": [],
   "source": [
    "#@title Hint {display-mode: \"form\"}\n",
    "print('Be systematic about listing these.')\n"
   ]
  },
  {
   "cell_type": "code",
   "execution_count": null,
   "metadata": {
    "id": "IBptlXdG3MUr"
   },
   "outputs": [],
   "source": [
    "#@title Answer {display-mode: \"form\"}\n",
    "Answer_8_9_2_encrypted = b'gAAAAABgzoPN3j1MxyrNWpRBErlacnr9pslraX8W2eSjcl-sHUagwWIp5DdTnz8_kvyXwpt_VlnW57gaXxY6aTfZpXWO1vka9BEbRZ_QISLOdVorO7WXCTpnWut9a7l0JRcnMSd47aPzBLIWe2lrT_KMSSYXkH3c9U4W2HxlnFEegvlBzB0lSDiZD8Qh2O0agwPeH5nwDj-0oFwN74wnqDSjq5K4ylIfVEjZ4axhlu0y8t1BrDZYOMlLZSbRZEKwEIv7jUJ3YSXK0KYhixsO8Bogcuj3hluAPbKA76tbFJkCrHnIcyJDNS1R07ZlTtwRAb1978q9NgbErm6MqV3Kil0wLVyIvHZXrI7kLr06P1Pk0_1pQE-W163R8FcvJQPx_TTSpYfCG-SRvU44UIRfONm3kXnwjRoKYiWLzwdGDp4mOrwCEN93Rkh324N2J1Q6lsEIuEy1K1ieizukzvVxV71RtDmO9Hgon0za-OR9J8h59n2VjW2XQdyIKXeyeyp7pmQ3KnTijBfuB2XnXWvIPAF-2GBEaW35pw3aLoZX6K8jno_L6-KXX-cAYMCIkTwcLw5kcn--4-3HuBt1Q39P7Z-LK2bKlbNRdL7G3WZ0DbmZY2XKpHtEEWsa-UL7urCjyOwThBbp02gv8WLmvt39Z3CdoC_j0FgUdZF7_mESZ2vVyxty6hSBgct7yqWAdVwNMLRfQ9-dH9siKDHLFfQ7gKO4MhEJuo6p6VzlgQKxq9TsvTxyUaLZRUXarjfEp57_dZ23y08jVeA0yfbF6aSjLj9NpqQWsTeje9BUDuZPkmPFNzAarxmV40cLcSA9GL00edUGm1jyN6pXhNN9S5JJAg-tX6YZa7FYu6FIKl5n455ph_62ldUDDrcYxI5CDyfKbfJ-VqepFwufCxxg_AXVMVE0igCWHditAmYP4a-SvmZjToCCU7EkhEuCJ0CBawKI3n5HPLSxsWGZ2jlr2UtXajWbqlDNSzQJR_KfjqjwDAjbSzODIxZOkNbkavq6RWljtHgOLVjY9xqjWP9UoYpwoHfbCZPcq0oTHFn7CwYlVds0yZT-99sCzFyFGBrpwFPqF8g87g1kYu-glpJ-WklviSlcQt_VKlfWMXywNnbf04WVIOi57HTqdk7Ijv4vOrtP9gHfNPO_w261BESdn3vDyfiLa9bYInTfDJImcfhEZEQoNySmp5YYsgxoM-1sK5ZBg3Hij4jPqOD0C54jra4opt-JYSm4br_p0KtgoLl8AfXvASor8bVk0dHpa_TnQHybV-1cc04gKdCYqQmeCNO8KDHr8eQ0k50in-2jgYH_VbA21TTpKwpzDoXYFvwsifnV-2mRTayP3N-9fCITZOv4TLc9g7MONih9Ta6-87EPrL7U2to8Nku3HBRQLqf4_QKApymo4Sim5_53PSsin8XTgHe7TdXndHjflum7E3ze4n6aTe-blCGxafYFtpbs_RTxtODnirAnRYPglivMFk4WWaBycqI8wfLB8UTFREAkR9AKHLbQC4SO2DzV8EHeEl_U6rwlp1-a88BgJbLaW_ynj-vqhxIMGENjXg=='\n",
    "Answer_8_9_2_decrypted = decrypt_answer(Answer_8_9_2_encrypted, Key_8_9_2)\n",
    "display(Markdown(Answer_8_9_2_decrypted))\n"
   ]
  },
  {
   "cell_type": "markdown",
   "metadata": {
    "id": "PboibvsT3RK6"
   },
   "source": [
    "## <font color=red>8.10 Special Graphs</font>\n"
   ]
  },
  {
   "cell_type": "markdown",
   "metadata": {
    "id": "ZePweC-43S-y"
   },
   "source": [
    "### Exercise 8.10.1\n"
   ]
  },
  {
   "cell_type": "markdown",
   "metadata": {
    "id": "ht0dTlDh3Ttt"
   },
   "source": [
    "As a function of $n$, how many nodes and links does a $C_n$ have?\n"
   ]
  },
  {
   "cell_type": "code",
   "execution_count": null,
   "metadata": {
    "id": "_ZxWejqD3VCy"
   },
   "outputs": [],
   "source": [
    "#@title Hint {display-mode: \"form\"}\n",
    "print('This is straightforward.')\n"
   ]
  },
  {
   "cell_type": "code",
   "execution_count": null,
   "metadata": {
    "id": "Lx3ttY-B3W6p"
   },
   "outputs": [],
   "source": [
    "#@title Answer {display-mode: \"form\"}\n",
    "Answer_8_10_1_encrypted = b'gAAAAABgzoQTghX5kC81p9a6PDkT388N5bzAlgcbRoWSgzhFV5dqo04uiBGdH3PWQwVB0HmqxySywy8fVn86Ez8_CuOV3CinchXo3Sj45dv58Iuj36beMB7S5-gSiZ6W5aOjDVdMdLDi'\n",
    "Answer_8_10_1_decrypted = decrypt_answer(Answer_8_10_1_encrypted, Key_8_10_1)\n",
    "display(Markdown(Answer_8_10_1_decrypted))\n"
   ]
  },
  {
   "cell_type": "markdown",
   "metadata": {
    "id": "5Tm6hPnI3Z5a"
   },
   "source": [
    "### Exercise 8.10.2\n"
   ]
  },
  {
   "cell_type": "markdown",
   "metadata": {
    "id": "3igembuB3bUc"
   },
   "source": [
    "As a function of $n$, how many nodes and links does a $W_n$ graph have?\n"
   ]
  },
  {
   "cell_type": "code",
   "execution_count": null,
   "metadata": {
    "id": "6VOxdh9O3c_z"
   },
   "outputs": [],
   "source": [
    "#@title Hint {display-mode: \"form\"}\n",
    "print('A wheel graph has one more node than a cycle graph, and a few more links.')\n"
   ]
  },
  {
   "cell_type": "code",
   "execution_count": null,
   "metadata": {
    "id": "ILoPFqrG3fJG"
   },
   "outputs": [],
   "source": [
    "#@title Answer {display-mode: \"form\"}\n",
    "Answer_8_10_2_encrypted = b'gAAAAABgzoRGhCGBNFz0Js4G98xaldqbucGeFfIJOytPosP8xxWVpQLfG6sdN5rMQZE1_qEeZSnKzILyp1zm8ZOT-rT2WD5aJBoV1J8N-bTAehjGm8TviJQxagoGHne8Nn2SKIEQELOy'\n",
    "Answer_8_10_2_decrypted = decrypt_answer(Answer_8_10_2_encrypted, Key_8_10_2)\n",
    "display(Markdown(Answer_8_10_2_decrypted))\n"
   ]
  },
  {
   "cell_type": "markdown",
   "metadata": {
    "id": "HqoUBMaD3jLl"
   },
   "source": [
    "### Exercise 8.10.3\n"
   ]
  },
  {
   "cell_type": "markdown",
   "metadata": {
    "id": "QbJ_20ok3kl2"
   },
   "source": [
    "$W_3$ is the same as which complete graph?\n"
   ]
  },
  {
   "cell_type": "code",
   "execution_count": null,
   "metadata": {
    "id": "DiW3G2II3ls2"
   },
   "outputs": [],
   "source": [
    "#@title Hint {display-mode: \"form\"}\n",
    "print('Think alternatively.')\n"
   ]
  },
  {
   "cell_type": "code",
   "execution_count": null,
   "metadata": {
    "id": "wXI9ApgX3nkj"
   },
   "outputs": [],
   "source": [
    "#@title Answer {display-mode: \"form\"}\n",
    "Answer_8_10_3_encrypted = b'gAAAAABgzoRwcD-Nf3qP_o3CEgb67_ZdR7aQPxZbVwDWLmxeM5k2_9XAcS3PMzTXXLt0jjpkeU4v9Uv4ggQMaKVfhllNP_ukmA-BGYbqZ1wJl6JGHXdqALJ1ZAQ7P1RsW80UVT0m291q'\n",
    "Answer_8_10_3_decrypted = decrypt_answer(Answer_8_10_3_encrypted, Key_8_10_3)\n",
    "display(Markdown(Answer_8_10_3_decrypted))\n"
   ]
  },
  {
   "cell_type": "markdown",
   "metadata": {
    "id": "sxWfjJez3p7u"
   },
   "source": [
    "### Exercise 8.10.4\n"
   ]
  },
  {
   "cell_type": "markdown",
   "metadata": {
    "id": "iBYE8bhG3rdS"
   },
   "source": [
    "What is the degree sequence for the wheel graph $W_5$?\n"
   ]
  },
  {
   "cell_type": "markdown",
   "metadata": {
    "id": "rxoebHhi3sO4"
   },
   "source": [
    "What is the degree sequence for the wheel graph $W_n$, in general?\n"
   ]
  },
  {
   "cell_type": "code",
   "execution_count": null,
   "metadata": {
    "id": "sWJSRK413tRz"
   },
   "outputs": [],
   "source": [
    "#@title Hint {display-mode: \"form\"}\n",
    "print('Remember to go from high degree to low degree.')\n"
   ]
  },
  {
   "cell_type": "code",
   "execution_count": null,
   "metadata": {
    "id": "VvvmVieZ3vqN"
   },
   "outputs": [],
   "source": [
    "#@title Answer {display-mode: \"form\"}\n",
    "Answer_8_10_4_encrypted = b'gAAAAABgzoSaw9Bg0BbnZpm4P8pRUvL3jKn9eKnsiHzZiTKxNOMk_IGXj2SaZgjfgrvXctTI0vboUdeYhvtclCIcywpwxjaz5LJFZdU8ZYCDyw2yIJeAJz6YzQG3lWuntFcPtx2UgYwu7pQ4JMCQfN9efnqgkAmG4pXWwEc1b_ZpZ-h3A0_JZwJ6cwqG8-ceeKp6O8kavIJDCZMmRyQU4QxJyMlZC4F1SgjXPdzqqq8lRNTsCRWTwO0='\n",
    "Answer_8_10_4_decrypted = decrypt_answer(Answer_8_10_4_encrypted, Key_8_10_4)\n",
    "display(Markdown(Answer_8_10_4_decrypted))\n"
   ]
  },
  {
   "cell_type": "markdown",
   "metadata": {
    "id": "UOQdXN9J3ygA"
   },
   "source": [
    "### Exercise 8.10.5\n"
   ]
  },
  {
   "cell_type": "markdown",
   "metadata": {
    "id": "71RNEqhr3z6K"
   },
   "source": [
    "$Q_n$ graphs have $2^n$ nodes, and how many links?\n"
   ]
  },
  {
   "cell_type": "code",
   "execution_count": null,
   "metadata": {
    "id": "eeUxWblP31Vi"
   },
   "outputs": [],
   "source": [
    "#@title Hint {display-mode: \"form\"}\n",
    "display(Markdown('''The answer is a non-trivial function of $n$.'''))\n"
   ]
  },
  {
   "cell_type": "code",
   "execution_count": null,
   "metadata": {
    "id": "LereHA7l33ab"
   },
   "outputs": [],
   "source": [
    "#@title Answer {display-mode: \"form\"}\n",
    "Answer_8_10_5_encrypted = b'gAAAAABgzoTISo7JcmMb8Nvq_Wjl25dK5V10PgGlwLlW6ozWgUoLqGaHJoG0Ro29Eca7TsqjUXhqrFDVzEuLY59S3CSxEdWGV319Wq4rfM1g3e2ecezbVC0ZS5K8fKkdgKyhoDRttsew'\n",
    "Answer_8_10_5_decrypted = decrypt_answer(Answer_8_10_5_encrypted, Key_8_10_5)\n",
    "display(Markdown(Answer_8_10_5_decrypted))\n"
   ]
  },
  {
   "cell_type": "markdown",
   "metadata": {
    "id": "LfyeXjPo36j4"
   },
   "source": [
    "### Exercise 8.10.6\n"
   ]
  },
  {
   "cell_type": "markdown",
   "metadata": {
    "id": "-_FM8jnM39zT"
   },
   "source": [
    "What are $m$ and $n$ for the three $K_{m,n}$ graphs shown in Figures 8.19, 8.20, and 8.21?\n"
   ]
  },
  {
   "cell_type": "code",
   "execution_count": null,
   "metadata": {
    "id": "gZHeFfUP3-4V"
   },
   "outputs": [],
   "source": [
    "#@title Hint {display-mode: \"form\"}\n",
    "display(Markdown('''Count $m$ nodes in the top set, $n$ nodes in the bottom set.'''))\n"
   ]
  },
  {
   "cell_type": "code",
   "execution_count": null,
   "metadata": {
    "id": "O4ReerVA4BbI"
   },
   "outputs": [],
   "source": [
    "#@title Answer {display-mode: \"form\"}\n",
    "Answer_8_10_6_encrypted = b'gAAAAABgzoT10km1aOu_vHdtYwKrvwvHotM9N0JCoES5y5tzCov5aVSCoL3m6rnC3r2teU-2wFVX0rrMJAYjP50SNpSjARVnCCbmzE_F4VQ9q46kIyiSwV2XPhw480cwS23xanT1DleIv3qyBbOHPYwyQLDZlP70v-ZX_G-Cwc-MqyQwn6-IF0lMW3gOlJTo-if0X0K4WC1cfCdu9YAH42oC7PwvOKUWMw=='\n",
    "Answer_8_10_6_decrypted = decrypt_answer(Answer_8_10_6_encrypted, Key_8_10_6)\n",
    "display(Markdown(Answer_8_10_6_decrypted))\n"
   ]
  },
  {
   "cell_type": "markdown",
   "metadata": {
    "id": "KayvVsLa4D1c"
   },
   "source": [
    "### Exercise 8.10.7\n"
   ]
  },
  {
   "cell_type": "markdown",
   "metadata": {
    "id": "XxvWOTTG4Ewf"
   },
   "source": [
    "In what sense is a $K_{3,3}$ like a $K_5$?\n"
   ]
  },
  {
   "cell_type": "code",
   "execution_count": null,
   "metadata": {
    "id": "iLX9xRIo4Fso"
   },
   "outputs": [],
   "source": [
    "#@title Hint {display-mode: \"form\"}\n",
    "display(Markdown('''\n",
    "This ties back to the special property we said &ldquo;we'll look at later&rdquo; in the context of planar graphs.\n",
    "'''))\n"
   ]
  },
  {
   "cell_type": "code",
   "execution_count": null,
   "metadata": {
    "id": "q61Or6rc4Iay"
   },
   "outputs": [],
   "source": [
    "#@title Answer {display-mode: \"form\"}\n",
    "Answer_8_10_7_encrypted = b'gAAAAABgzoUnRmlult5coxqRfeiq7zcNw0mxmCS2wgUcG8R1Ek8xmrOUj83MyPoXUGT5r4H587KDmVYlVU_-GPeVBhl_xJhD6w5F7zW2wOWMeFYBPR72Av6CkynyEHIQEQje2T0Is2RFNyK1Y3i4SMhJ5dkar7dZPkzkKfsMWyLS5Hk_BWGmEAVkFwatZRKHyNGPjjui-kWKsaLzhamVFikhfC_SHrRgHneg2_vSlFyQAf_fzI67jT8dmRgJNcfiGI6PGRe8zDd1TcHJxb4LqtcRxF_o049fnesclM0HHbFvhiNCaUBIaa5XfLAmPLLBcXMnZFOUEyBUVNeOOrIeJduXGNS58vySEvRP3f-7zqxwYUBo0nZoA1U='\n",
    "Answer_8_10_7_decrypted = decrypt_answer(Answer_8_10_7_encrypted, Key_8_10_7)\n",
    "display(Markdown(Answer_8_10_7_decrypted))\n"
   ]
  },
  {
   "cell_type": "markdown",
   "metadata": {
    "id": "lIdx08Ob4NF3"
   },
   "source": [
    "## <font color=red>8.11 Graph Representation</font>\n"
   ]
  },
  {
   "cell_type": "markdown",
   "metadata": {
    "id": "vwFhr0C54PF_"
   },
   "source": [
    "### Exercise 8.11.1\n"
   ]
  },
  {
   "cell_type": "markdown",
   "metadata": {
    "id": "3i0K2Cwe4Q3t"
   },
   "source": [
    "Draw this small graph having 8 nodes and the following 13 links (for less clutter, rendered without the quote marks):\n"
   ]
  },
  {
   "cell_type": "markdown",
   "metadata": {
    "id": "ULmLyTmh4RwT"
   },
   "source": [
    "```[(p, q), (p, n), (q, n), (p, t), (q, t), (e, t), (d, t), (d, e), (m, e), (m, n), (m, c), (c, d), (c, n)]```\n"
   ]
  },
  {
   "cell_type": "code",
   "execution_count": null,
   "metadata": {
    "id": "avEwdm9u4Tc4"
   },
   "outputs": [],
   "source": [
    "#@title Hint {display-mode: \"form\"}\n",
    "print('You have seen this graph before.')\n"
   ]
  },
  {
   "cell_type": "code",
   "execution_count": null,
   "metadata": {
    "id": "CDfNE4QR4cQx"
   },
   "outputs": [],
   "source": [
    "#@title Answer {display-mode: \"form\"}\n",
    "Answer_8_11_1_encrypted = b'gAAAAABgzoVk0W_99HvJtVFEZwfVUhfeJREgZ5pCulj-uz14xiO_aABnIRQA2ONkgPPO7si7iAnoj7R8HkRzuQPfZl2Of115GeyLvm5hYyN-ePf668iGF6o='\n",
    "Answer_8_11_1_decrypted = decrypt_answer(Answer_8_11_1_encrypted, Key_8_11_1)\n",
    "display(Markdown(Answer_8_11_1_decrypted))\n"
   ]
  },
  {
   "cell_type": "markdown",
   "metadata": {
    "id": "wk4k_9iF4gnl"
   },
   "source": [
    "### Exercise 8.11.2\n"
   ]
  },
  {
   "cell_type": "markdown",
   "metadata": {
    "id": "ol0TB1uE4iHM"
   },
   "source": [
    "Give adjacency list, adjacency matrix, and incidence matrix representations of the graph of Exercise 8.11.1."
   ]
  },
  {
   "cell_type": "code",
   "execution_count": null,
   "metadata": {
    "id": "yAmuOCDJ4liD"
   },
   "outputs": [],
   "source": [
    "#@title Hint {display-mode: \"form\"}\n",
    "print('Follow the examples shown, and this is easy enough to do by hand.')\n"
   ]
  },
  {
   "cell_type": "code",
   "execution_count": null,
   "metadata": {
    "id": "4XWUxQJC4oc6"
   },
   "outputs": [],
   "source": [
    "#@title Answer {display-mode: \"form\"}\n",
    "Answer_8_11_2_encrypted = b'gAAAAABgzoWReua2lgIixm-D1wi8xwtuTnhBz7NEccZ7os50CVcDiju8QuNyAvhFQJyg3ZS0FWVci_03ln5WjF_-m5RXfXPx_Qz1mS8A4I5OvJxvmYcMX8I='\n",
    "Answer_8_11_2_decrypted = decrypt_answer(Answer_8_11_2_encrypted, Key_8_11_2)\n",
    "display(Markdown(Answer_8_11_2_decrypted))\n"
   ]
  },
  {
   "cell_type": "markdown",
   "metadata": {
    "id": "7Co8lcCn4sNX"
   },
   "source": [
    "### Exercise 8.11.3\n"
   ]
  },
  {
   "cell_type": "markdown",
   "metadata": {
    "id": "6YcDoiYL4tOO"
   },
   "source": [
    "Construct a graph using the following list of eight words as node labels:\n"
   ]
  },
  {
   "cell_type": "markdown",
   "metadata": {
    "id": "diHjBtVr4uM_"
   },
   "source": [
    "```dine, done, gone, tine, tone, wind, wine, wins```\n"
   ]
  },
  {
   "cell_type": "markdown",
   "metadata": {
    "id": "BC36osL34vK4"
   },
   "source": [
    "Link two nodes if they differ in only one letter *in the same position*,\n"
   ]
  },
  {
   "cell_type": "markdown",
   "metadata": {
    "id": "M_jioU7q4wXf"
   },
   "source": [
    "e.g., ```wind``` and ```wins``` differ in the fourth letter only,\n"
   ]
  },
  {
   "cell_type": "markdown",
   "metadata": {
    "id": "WEdriRhj4xF5"
   },
   "source": [
    "so that defines a link.\n"
   ]
  },
  {
   "cell_type": "markdown",
   "metadata": {
    "id": "-z1Go3a74yJw"
   },
   "source": [
    "But ```dine``` and ```tone``` differ in the first *and* second letters, so no link there.\n"
   ]
  },
  {
   "cell_type": "code",
   "execution_count": null,
   "metadata": {
    "id": "pEePAmsQ40TB"
   },
   "outputs": [],
   "source": [
    "#@title Hint {display-mode: \"form\"}\n",
    "print('It might help to line up pairs of words vertically.')\n"
   ]
  },
  {
   "cell_type": "code",
   "execution_count": null,
   "metadata": {
    "id": "-IWFmsAN43N2"
   },
   "outputs": [],
   "source": [
    "#@title Answer {display-mode: \"form\"}\n",
    "Answer_8_11_3_encrypted = b'gAAAAABgzolG1Y5hJMRoM2Z864a8SedNPMeEw_o5lDgEaAZTK5Nzq5Ath-MBqK9Us9ZLvLjaIKy4KVFNPKYncHetyFo0bqfxU6tLK-AMxYjl5LTODfD8ZUygftUSYsXF8QjY3bJ4pGoRtr2Eed7esEqbOYqZuZxnSUR4DEOqWKwGbSK3wr-zJF2BHrsjy705TYL8-Umv8PNK6ifSI2ipPQVA03gHmBaPIf8Zivth1k5tiAodGAQ0Jqwiv3kXn-IJQ2kejn_JIl-1qTXWqAzcb8v1TqCsmuqfwo0S9nSRS2rOweOJt-WgnGwT2nbswHAaAzfHa3aFL9lJLNpXLe3fzI2OgYCxIb5xfNE6Qll68QHR7L9guqyW9hQI7UPDyYxiT3vSKKMvaQyejYDHjzWmcxsZgIoZyXp8Ahddxt1JlEFKnrS3DphjP0Ka9KgnGQ8ST1UpBE8Ce5Ae'\n",
    "Answer_8_11_3_decrypted = decrypt_answer(Answer_8_11_3_encrypted, Key_8_11_3)\n",
    "display(Markdown(Answer_8_11_3_decrypted))\n"
   ]
  },
  {
   "cell_type": "markdown",
   "metadata": {
    "id": "C4M-V52p4774"
   },
   "source": [
    "### Exercise 8.11.4\n"
   ]
  },
  {
   "cell_type": "markdown",
   "metadata": {
    "id": "zyN2KhId49u1"
   },
   "source": [
    "Give adjacency list, adjacency matrix, and incidence matrix representations of the graph of Exercise 8.11.3.\n"
   ]
  },
  {
   "cell_type": "code",
   "execution_count": null,
   "metadata": {
    "id": "RP20xzjm4_f_"
   },
   "outputs": [],
   "source": [
    "#@title Hint {display-mode: \"form\"}\n",
    "print('This should be only slightly more difficult than the previous one.')\n"
   ]
  },
  {
   "cell_type": "code",
   "execution_count": null,
   "metadata": {
    "id": "OF2OG1aA5B-S"
   },
   "outputs": [],
   "source": [
    "#@title Answer {display-mode: \"form\"}\n",
    "Answer_8_11_4_encrypted = b'gAAAAABgzolyzWfXboNf7dLT6sU7gz3GiS_Or0JFG0D7cgxwYMW2FVR8Hbrw6aCZzTeogXq9moRKN9Ushbnnb5K53u-0IIjHVjetRXcMReDJcdAARyAEE6yaXDnYXVR3QWrwVSqtBq88pStB9dGgbbLnNHdIU0vChjCivrwMOP0jW_fglEfaHp40H4RdTQfVs9tVlQ0Yz0sknOlqEIlg_XzeWJXJnuQ-a9oHYZXm8QhfIHi_0opYGvq6QFqGVNSIRpRBwIoDzE_6_d9j2fX7BTDMJy6b4YPyOySYZCLZZ2QUx2lp0i2E8ZEP84qH3BzcPNGkXEwt66SHNaPWipRgtRuJ4x4GDQ1UIRbcPJ1WQwz3LiwA_QyQhu6yGRpYsXuqa0jS_GB9g5I4_kgoKedyW93aEMQ5TXe1cLM9lTBmZlYiwt2ykM5aaB7bb8pFxb8cnYXL66jz0OGNEkfnlnVw-zrQzVZQB2a455hf_8R2xU4HFy7Lh8ZGatC73MK1qcDhX7eT3ekUQw8apCo5x0m2IiZpB0PWMXqjKg75JFG-MSSoSkp0Q8w5C0YNbZvmWbOuYMuaaOlhEed_PoZDo7gQe2pSqttm5SMq-ozRwp2aMUIW_0n2Fs-qKS_4K5C0lvWFu2ukjkHfLMDpnW3cuNLUm-uw72Jkex9weqyj6a_xbUBxaQd9lW7BN61ebc9JLO6QkAgMrQFXw8CgJ_9WOXogMc2R677GwZn-fj8eGDhH1G2a3lVoMEE0n_KI5sugvi7fc5EsiPtRJ7qhHzq1e4aQGC2NbWdaqE622R1B24v1UKUJl8AyhLjPoWQDCZbcmEzKktFC5AXs9BSb8vS-wp_UWm54l4oVP4-N-QWRye3vr3-X37Xsi5KAjxSnnPPTg_Dqd3noGdupYp-rdjrrVYnL2zdMeFW6oS_5qzWMhgGj1Z_GlzMo7IMPeQjR_mN9FxFCILAvqOtRe3FR04tvvWSGeKp5cGTCw0xEkld_q_4JnI_cBEJHPHOOU4cYDAB2cPHDzwfwJEaFmgXXvDpeQty2fBtdFNY4n90veG7PUT1KeFm1opPVdIfPJ0c44-2TCtt3Pw6NHLVl3FN1a7wNXs0m3sYGDTSrWiHjk1NPd3pMRdPp5f9jTF-5xYmKVa-j4MA483_G4YGUlgqQEoSNxo9V1sDA5RVgNdHo_ypP6Mo9l0EtlOVtWgRtSbhfmHqmjBtoHwY8trcfXtZIEN2dRE0WCVwPADhxdzl3vu9E7TtlTcnwMFjPkO5Rn4j9Y93Wv6ANjjktql82F1M8B9huHWuNvx1OZsZkIZlBX-XCc5cLJpboXyeX9xNL-pd-aleDMcocLY88qpFgY1CXXpfpxB5epKINPoJXPKifCqcRrjsVtFBaDRIMi0jkRkCoxwKFVGMHO22TVHvGmioQY73SdKXFnYgCKNefr1GWltprpxNUdKdFe7dlK6e_WBDG3G8gESVjentxtOQj0WPVZ66lPT5aYdEVeNbDD5uNjH8FakelvlLtGNYccFTKXbAEEt_XuGueZI_3EEDVRRQFAEAR01WQRuzoFpq0-9wlSfEiGyvlc_kgGIVPHPEBRNHOchxl7dyJR9UZm2IgoGBu_jSkxHTQhOQFMi1BQYteTzJY25usxXo4SiXCUtQxlL0bi-6JraZ3h0KR3wCHy8qmXJNM2vMWi9OQUxgbuxeHdfxcOlM3CG6m5vU4U484PKAJQhG6xZ1qQO6dbjsI_8MhcVaQSJegEDi43lt13AJAloOCZZ_VikwWc2ODdzq9s2LLeUfeSRw1WztPn1TC5xHLRcOpXUkWhCjc14MmZMbT7CWUOkaCx69TXc5kJ9z0J-RRyLatNwtbgeAUQRV1BNqeC1n5A2dIxsXnRx2zNJAHxcpSZLBBST4G-v8pkUwH5KSxVnheKe3HaSa8I2_oFeR_'\n",
    "Answer_8_11_4_decrypted = decrypt_answer(Answer_8_11_4_encrypted, Key_8_11_4)\n",
    "display(Markdown(Answer_8_11_4_decrypted))\n"
   ]
  },
  {
   "cell_type": "markdown",
   "metadata": {
    "id": "A8jhvM0_5HXS"
   },
   "source": [
    "### Exercise 8.11.5\n"
   ]
  },
  {
   "cell_type": "markdown",
   "metadata": {
    "id": "dcoY8bq55Kfe"
   },
   "source": [
    "Make a connection between graph theory and probability theory.\n"
   ]
  },
  {
   "cell_type": "markdown",
   "metadata": {
    "id": "KkEHfnzL5LVF"
   },
   "source": [
    "Randomly select two nodes of the graph of Exercise 8.11.3.\n"
   ]
  },
  {
   "cell_type": "markdown",
   "metadata": {
    "id": "9eeZJpnf5ML7"
   },
   "source": [
    "What is the probability that there is a link between those two nodes?\n"
   ]
  },
  {
   "cell_type": "code",
   "execution_count": null,
   "metadata": {
    "id": "P6IA0T635Ns9"
   },
   "outputs": [],
   "source": [
    "#@title Hint {display-mode: \"form\"}\n",
    "print('What does the graph of the probability space look like?')\n"
   ]
  },
  {
   "cell_type": "code",
   "execution_count": null,
   "metadata": {
    "id": "zOXgPRPp5Sey"
   },
   "outputs": [],
   "source": [
    "#@title Answer {display-mode: \"form\"}\n",
    "Answer_8_11_5_encrypted = b'gAAAAABgzom-1Xsn6NMKwtsOi0_2dPQINNodVZEGJFQDMmtEIRqvYRSVapCWH0d1Q1sPgubpXpuRSDCnqaMlp_uzW88LuWX4cc8UE4ofZ_UHVBBhq8CRmSziMub0DkX6WE7-wzpi7-Fw_E9_4_P16ij5ui7wkAeAdkbE8Sor18wM20FFR_88Jr2U2Pll8Bqbl4gVTKGNBHdHC_ZCFIXHKb__KjfXKMUT5BoNV_MEdseHzUoreNeZa-0igrW-uXo5xBzPYi9IpepBlGxGrfWJThLvjaQfrmdtYQ=='\n",
    "Answer_8_11_5_decrypted = decrypt_answer(Answer_8_11_5_encrypted, Key_8_11_5)\n",
    "display(Markdown(Answer_8_11_5_decrypted))\n"
   ]
  },
  {
   "cell_type": "markdown",
   "metadata": {
    "id": "CVsUNiq25UVR"
   },
   "source": [
    "## <font color=red>8.12 Graphs and Set Operations</font>\n"
   ]
  },
  {
   "cell_type": "markdown",
   "metadata": {
    "id": "OGjPXLeO5Wrk"
   },
   "source": [
    "### Exercise 8.12.1\n"
   ]
  },
  {
   "cell_type": "markdown",
   "metadata": {
    "id": "OAGU5zHB5Xij"
   },
   "source": [
    "Describe $H$ in terms of subsets of $G$ represented as:\n"
   ]
  },
  {
   "cell_type": "markdown",
   "metadata": {
    "id": "tKvJVngF5YUf"
   },
   "source": [
    "```([1, 2, 3, 4, 5, 6, 7, 8, 9, 10],```\n",
    "``` [(1, 2), (1, 3), (1, 7), (2, 4), (2, 6), (2, 5), (3, 4),```\n",
    "```  (3, 6), (3, 7), (3, 8), (4, 5), (4, 7), (4, 8), (5, 9),```\n",
    "```  (5, 10), (6, 9), (7, 8), (8, 9), (9, 10)])```.\n"
   ]
  },
  {
   "cell_type": "code",
   "execution_count": null,
   "metadata": {
    "id": "8lpLpMmt5ahQ"
   },
   "outputs": [],
   "source": [
    "#@title Hint {display-mode: \"form\"}\n",
    "display(Markdown('''\n",
    "Label $G$'s nodes left-to-right, top-to-bottom in increasing order.\n",
    "'''))\n"
   ]
  },
  {
   "cell_type": "code",
   "execution_count": null,
   "metadata": {
    "id": "Gip7QFU15dqi"
   },
   "outputs": [],
   "source": [
    "#@title Answer {display-mode: \"form\"}\n",
    "Answer_8_12_1_encrypted = b'gAAAAABgzonrw8HCNpez2oRkDsjOPDHE6f5n984D1RFrCFBiUycMkhaA7aAEV7Pfx2T1IgsAbXVHGq-5pvlvJFzULqv2SDda2I5i1gDsOcL75dvDp_ij7-lic4uTKkeOzhjL0kVfFRkv0HDw9PEe8-PsU4TS9UsUitp0hvI9RJaUxTFW5cjtYtdy_l2Ca0JDzA2HmNFebykuNkpjqth18DavYEn1S4MVhD59TWKQ30Mjfgm0X7A91gdpvVKSu7csUw-Xu4O7DiEwflSHqH-1UL75JLw45ovnFw=='\n",
    "Answer_8_12_1_decrypted = decrypt_answer(Answer_8_12_1_encrypted, Key_8_12_1)\n",
    "display(Markdown(Answer_8_12_1_decrypted))\n"
   ]
  },
  {
   "cell_type": "markdown",
   "metadata": {
    "id": "Ad60VvPR5f3h"
   },
   "source": [
    "### Exercise 8.12.2\n"
   ]
  },
  {
   "cell_type": "markdown",
   "metadata": {
    "id": "IbGqUm6e5iCw"
   },
   "source": [
    "Refer to the graph in Figure 8.30.\n"
   ]
  },
  {
   "cell_type": "markdown",
   "metadata": {
    "id": "ZcnfEqMg5i0T"
   },
   "source": [
    "This graph is well-known in graph theory.\n"
   ]
  },
  {
   "cell_type": "markdown",
   "metadata": {
    "id": "9ecc-BeS5jke"
   },
   "source": [
    "What is its name?\n"
   ]
  },
  {
   "cell_type": "markdown",
   "metadata": {
    "id": "GIyHUCCs5kS3"
   },
   "source": [
    "What are some of its attributes?\n"
   ]
  },
  {
   "cell_type": "code",
   "execution_count": null,
   "metadata": {
    "id": "wAqOE-Cx5lNM"
   },
   "outputs": [],
   "source": [
    "#@title Hint {display-mode: \"form\"}\n",
    "print(\"It's not hard to find this on the web.\")\n"
   ]
  },
  {
   "cell_type": "code",
   "execution_count": null,
   "metadata": {
    "id": "iLoDkuNw5uZ5"
   },
   "outputs": [],
   "source": [
    "#@title Answer {display-mode: \"form\"}\n",
    "Answer_8_12_2_encrypted = b'gAAAAABgzooVg4p5ENkLfVIK8ggdUkY3xfYesc7JF1xBsTiGh5tNh6qSGeJSrdAePr4WVEwklA4agusk2Durt_HibSI5CNWkvg-bVE4j8AINV0vqqr57mZSMrByq1T9VoQ_CoyHx8sUP_dmoH2ArbLaZoaEWZBlxqpTOV8eMhTkwFmpBcreBcCoS6tqnZSlW_vUMAnepPoT0TP3LF__aHuOwGOmJJyZWjFeFsxedgQ784ELWASbH7-0vG2J6HH4Ar9elDBAhjHzBfsiZ57dlVzhTIiF3qANTjn-OSP94obtHZPEW6ELvz5PqF1GJP8YK__0Z8l-0v4B-g0VYGkKVORswrUnoPjug7vsvAsugOAO5jTdSPj-0-HTEOPcVxIg-OsOrsrGhYHNUeI8W-EI2fXOmhEBUIo7guFO6kYXL0XNuwJpgHkduyt6dftAW9G4o-glUF0mbL5wxcCV_AjINJB6WapNy_WMa6twGXVZKTFb3mLEClJ554Ha_70fDWvafMRSSIzikIykHfBqwyloISsIXgZ_L1U8cYn4bEYf6dLhLzIGUZvtm-CyeMltklf3niXjgN1QMJnz31pFXcpr0_bJ_wmERkFGBZhsn59ppuRnwLaDxBWyCV53ebD5x8zwWw85BIJk7UBcXsIGalLsJbpnzzVjNBfCV0dRb8Hc4LDlj4v6UBkE60fA='\n",
    "Answer_8_12_2_decrypted = decrypt_answer(Answer_8_12_2_encrypted, Key_8_12_2)\n",
    "display(Markdown(Answer_8_12_2_decrypted))\n"
   ]
  },
  {
   "cell_type": "markdown",
   "metadata": {
    "id": "6Rht3GfE55PS"
   },
   "source": [
    "### Exercise 8.12.3\n"
   ]
  },
  {
   "cell_type": "markdown",
   "metadata": {
    "id": "FvAdqJWl58A6"
   },
   "source": [
    "Create two graphs with node sets and link sets that have nonempty intersections.\n"
   ]
  },
  {
   "cell_type": "markdown",
   "metadata": {
    "id": "UXIMUYCt580k"
   },
   "source": [
    "Do the graph intersection of these two graphs two ways,\n"
   ]
  },
  {
   "cell_type": "markdown",
   "metadata": {
    "id": "iCf-MhWR59n7"
   },
   "source": [
    "the way described by the definition,\n"
   ]
  },
  {
   "cell_type": "markdown",
   "metadata": {
    "id": "WXUucBgl5-Uw"
   },
   "source": [
    "and the alternate way using DeMorgan's law.\n"
   ]
  },
  {
   "cell_type": "code",
   "execution_count": null,
   "metadata": {
    "id": "D2BJmngR5_ME"
   },
   "outputs": [],
   "source": [
    "#@title Hint {display-mode: \"form\"}\n",
    "print('Make the two graphs small, but not too small.')\n"
   ]
  },
  {
   "cell_type": "code",
   "execution_count": null,
   "metadata": {
    "id": "1OKufoGt6B31"
   },
   "outputs": [],
   "source": [
    "#@title Answer {display-mode: \"form\"}\n",
    "Answer_8_12_3_encrypted = b'gAAAAABgzopb8VW4xiWx00D3VAUV250FGF-6nLX2-TRKxFGiNiZbm1S9CaMOAlcR4cmB_g9PNebxWFZJlk4Ftg9MciUVJIG2Kw=='\n",
    "Answer_8_12_3_decrypted = decrypt_answer(Answer_8_12_3_encrypted, Key_8_12_3)\n",
    "display(Markdown(Answer_8_12_3_decrypted))\n"
   ]
  },
  {
   "cell_type": "markdown",
   "metadata": {
    "id": "kgDY30DD6ElW"
   },
   "source": [
    "### Exercise 8.12.4\n"
   ]
  },
  {
   "cell_type": "markdown",
   "metadata": {
    "id": "tW-xT9wp6Fw8"
   },
   "source": [
    "Not to be confused with **graph intersection**, the **intersection graph** of a\n",
    "collection of sets $A_1, A_2, \\ldots, A_n$ is the graph that has a node for each of\n",
    "these sets and has a link connecting the nodes representing two sets if these\n",
    "sets have a nonempty intersection.\n"
   ]
  },
  {
   "cell_type": "markdown",
   "metadata": {
    "id": "Mk3A5naf6HHG"
   },
   "source": [
    "Construct the intersection graph of this collection of five sets:\n"
   ]
  },
  {
   "cell_type": "markdown",
   "metadata": {
    "id": "H-k5PEns6INj"
   },
   "source": [
    "| Set Name | Set Elements |\n",
    "|----------|--------------|\n",
    "| $A_1$ | ```{-4, -3, -2, -1, 0}``` |\n",
    "| $A_2$ | ```{-2, -1, 0, 1, 2}``` |\n",
    "| $A_3$ | ```{-6, -4, -2, 0, 2, 4, 6}``` |\n",
    "| $A_4$ | ```{-5, -3, -1, 1, 3, 5}``` |\n",
    "| $A_5$ | ```{-6, -3, 0, 3, 6}``` |\n"
   ]
  },
  {
   "cell_type": "markdown",
   "metadata": {
    "id": "EgL7Gkq_6Jua"
   },
   "source": [
    "What is the degree sequence of this graph?\n"
   ]
  },
  {
   "cell_type": "code",
   "execution_count": null,
   "metadata": {
    "id": "k76lA8BQ6LS5"
   },
   "outputs": [],
   "source": [
    "#@title Hint {display-mode: \"form\"}\n",
    "print('Draw the graph to make it easier to see the answer.')\n"
   ]
  },
  {
   "cell_type": "code",
   "execution_count": null,
   "metadata": {
    "id": "GkACMEXx6NH_"
   },
   "outputs": [],
   "source": [
    "#@title Answer {display-mode: \"form\"}\n",
    "Answer_8_12_4_encrypted = b'gAAAAABgzoqTrPBz2GjdsEmWbMHvpiFVkmbd51I8alzj-2INqSmtvWcKhRTg4xmuHyp8Fpma3KJppQKb1bgp5KsHNVMtQN3PcliyH470jgGFbdK8fpoVme0vpTqLArKBXl6ZNKhmQLNSGxqBbyWDLtsgZzYe6llBt8dG36D87rs4SdF8OIMhDPwMRc51zhPf5brYZoEI64Rr_0txDsPkcOwtH5ifhpy3O6cksmrnvIBIycXD3r14MvLJpMW4NYxKcwOUlBVwpp4cHPRuW1eozqPIT85FISdj1pZHcc4DHTLG7TAD303o9NeCj0Mx0FC7wf_E1DIbqPEoeDyNhzRWl__V2X9f-ZAwYaDU_EHS6A_IQ_xsywN5VwfprZL2Ln5dk5Iu1JogJorf'\n",
    "Answer_8_12_4_decrypted = decrypt_answer(Answer_8_12_4_encrypted, Key_8_12_4)\n",
    "display(Markdown(Answer_8_12_4_decrypted))\n"
   ]
  },
  {
   "cell_type": "markdown",
   "metadata": {
    "id": "BcVx5VLq6QWA"
   },
   "source": [
    "### Exercise 8.12.5\n"
   ]
  },
  {
   "cell_type": "markdown",
   "metadata": {
    "id": "T9J04xQE6RUF"
   },
   "source": [
    "Here is an adjacency-list representation of a graph implemented as a Python\n"
   ]
  },
  {
   "cell_type": "markdown",
   "metadata": {
    "id": "WMmY995_6SCW"
   },
   "source": [
    "dictionary mapping nodes (represented as numbers) to lists of adjacent nodes.\n"
   ]
  },
  {
   "cell_type": "markdown",
   "metadata": {
    "id": "3C59wY8P6T8H"
   },
   "source": [
    "What does this graph model?\n"
   ]
  },
  {
   "cell_type": "markdown",
   "metadata": {
    "id": "F0GPQHob6UXe"
   },
   "source": [
    "```mystery_graph = {```\n",
    "\n",
    "```1:[22,13],2:[21,23,14],3:[11,22,24,15],4:[12,23,25,16],```\n",
    "\n",
    "```5:[13,24,26,17],6:[14,25,27,18],7:[15,26,28],8:[16,27],```\n",
    "\n",
    "```11:[32,23],12:[31,33,24],13:[21,32,34,25],14:[22,33,35,26],```\n",
    "\n",
    "```15:[23,34,36,27],16:[24,35,37,28],17:[25,36,38],18:[26,37],```\n",
    "\n",
    "```21:[42,33],22:[41,43,34],23:[31,42,44,35],24:[32,43,45,36],```\n",
    "\n",
    "```25:[33,44,46,37],26:[34,45,47,38],27:[35,46,48],28:[36,47],```\n",
    "\n",
    "```31:[52,43],32:[51,53,44],33:[41,52,54,45],34:[42,53,55,46],```\n",
    "\n",
    "```35:[43,54,56,47],36:[44,55,57,48],37:[45,56,58],38:[46,57],```\n",
    "\n",
    "```41:[62,53],42:[61,63,54],43:[51,62,64,55],44:[52,63,65,56],```\n",
    "\n",
    "```45:[53,64,66,57],46:[54,65,67,58],47:[55,66,68],48:[56,67],```\n",
    "\n",
    "```51:[72,63],52:[71,73,64],53:[61,72,74,65],54:[62,73,75,66],```\n",
    "\n",
    "```55:[63,74,76,67],56:[64,75,77,68],57:[65,76,78],58:[66,77],```\n",
    "\n",
    "```61:[73],62:[74],63:[71,75],64:[72,76],65:[73,77],66:[74,78],```\n",
    "\n",
    "```67:[75],68:[76]}```\n"
   ]
  },
  {
   "cell_type": "code",
   "execution_count": null,
   "metadata": {
    "id": "TN5b4yq86YLr"
   },
   "outputs": [],
   "source": [
    "#@title Hint {display-mode: \"form\"}\n",
    "display(Markdown('''\n",
    "[Click here to see the mystery graph](https://byui-cse.github.io/cse280-course/images/mystery-graph.png).\n",
    "'''))"
   ]
  },
  {
   "cell_type": "code",
   "execution_count": null,
   "metadata": {
    "id": "V89qf-7n6gFU"
   },
   "outputs": [],
   "source": [
    "#@title Answer {display-mode: \"form\"}\n",
    "Answer_8_12_5_encrypted = b'gAAAAABgzorelREAi1jYkg5GlldKiDKr0YksgMfxZKXd-VakOVaL_oJDQvALe7CLun_q3moYYHI9lY5iINuub0e4ZP3MYC5IRUwF_M13BBvOfCmYxQe0qDcpx-TawHeSRe9ZSOHyUCZMVLvxK_6lENqEwMn6pjsX6Q=='\n",
    "Answer_8_12_5_decrypted = decrypt_answer(Answer_8_12_5_encrypted, Key_8_12_5)\n",
    "display(Markdown(Answer_8_12_5_decrypted))\n"
   ]
  },
  {
   "cell_type": "markdown",
   "metadata": {
    "id": "dX1JJGlL6kzW"
   },
   "source": [
    "## <font color=red>8.13 Exploration</font>\n"
   ]
  },
  {
   "cell_type": "markdown",
   "metadata": {
    "id": "i7gDVYT96lsB"
   },
   "source": [
    "No exercises.\n"
   ]
  }
 ],
 "metadata": {
  "colab": {
   "authorship_tag": "ABX9TyNVTnznuqGr0gfVFFMh20h4",
   "collapsed_sections": [],
   "name": "chapter-8-graphs-exercises.ipynb",
   "private_outputs": true,
   "provenance": [],
   "toc_visible": true
  },
  "kernelspec": {
   "display_name": "Python 3",
   "language": "python",
   "name": "python3"
  },
  "language_info": {
   "codemirror_mode": {
    "name": "ipython",
    "version": 3
   },
   "file_extension": ".py",
   "mimetype": "text/x-python",
   "name": "python",
   "nbconvert_exporter": "python",
   "pygments_lexer": "ipython3",
   "version": "3.9.0"
  }
 },
 "nbformat": 4,
 "nbformat_minor": 1
}
