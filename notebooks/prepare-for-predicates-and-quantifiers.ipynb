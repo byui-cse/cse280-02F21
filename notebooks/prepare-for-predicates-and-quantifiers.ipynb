{
 "cells": [
  {
   "cell_type": "markdown",
   "metadata": {
    "id": "pH96Wgsvllfu"
   },
   "source": [
    "# <font color=blue>Prepare for Predicates and Quantifiers</font>"
   ]
  },
  {
   "cell_type": "markdown",
   "metadata": {
    "id": "4EK7pb_hS-Ox"
   },
   "source": [
    "## <font color=red>Instructions</font>"
   ]
  },
  {
   "cell_type": "markdown",
   "metadata": {
    "id": "04cG8534tgTM"
   },
   "source": [
    "Answer questions on the content from the book, Chapter 3 sections 3.11 - 3.14 on Predicates and Quantifiers, and all first-level links therefrom."
   ]
  },
  {
   "cell_type": "markdown",
   "metadata": {
    "id": "DJm1MaXor4UB"
   },
   "source": [
    "## <font color=red>Access</font>"
   ]
  },
  {
   "cell_type": "markdown",
   "metadata": {
    "id": "W62erXo_sHbj"
   },
   "source": [
    "[Take the Quiz](https://byui.instructure.com/courses/149380/quizzes/2724921)"
   ]
  }
 ],
 "metadata": {
  "colab": {
   "authorship_tag": "ABX9TyPdudMre3+X0DA+JN8TEj1K",
   "name": "prepare-for-predicates-and-quantifiers.ipynb",
   "private_outputs": true,
   "provenance": []
  },
  "kernelspec": {
   "display_name": "Python 3",
   "language": "python",
   "name": "python3"
  },
  "language_info": {
   "codemirror_mode": {
    "name": "ipython",
    "version": 3
   },
   "file_extension": ".py",
   "mimetype": "text/x-python",
   "name": "python",
   "nbconvert_exporter": "python",
   "pygments_lexer": "ipython3",
   "version": "3.9.0"
  }
 },
 "nbformat": 4,
 "nbformat_minor": 1
}
