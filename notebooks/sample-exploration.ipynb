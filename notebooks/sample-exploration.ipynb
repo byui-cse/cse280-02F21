{
 "cells": [
  {
   "cell_type": "markdown",
   "metadata": {
    "id": "Z_hrc4jFVRvr"
   },
   "source": [
    "# <font color=blue>Cellular Automata</font>\n",
    "## <font color=blue>**Author:** Blake Stephens</font>\n",
    "### <font color=blue>**Date:** 10 April 2010</font>\n",
    "\n"
   ]
  },
  {
   "cell_type": "markdown",
   "metadata": {
    "id": "_1CQhO4RVRvx"
   },
   "source": [
    "## A different kind of computer\n",
    "\n"
   ]
  },
  {
   "cell_type": "markdown",
   "metadata": {
    "id": "1TyzhVscVRvy"
   },
   "source": [
    "In his book *A New Kind of Science* Stephen Wolfram makes the statement that\n",
    "cellular automata (CA) represent a new kind of science (hence the name); a new\n",
    "and revolutionary way of looking at the world. He goes on to claim that &ldquo;I\n",
    "have come to view [my discovery] as one of the most important single\n",
    "discoveries in the whole history of theoretical science&rdquo; [Wolfram (2002a)](#scrollTo=lzYMNNwKpGy_).\n",
    "\n",
    "This, of course, brought the scientific community on his head with accusations\n",
    "of plagiarism, puffery, and simply repeating the research of those who came\n",
    "before [Kurzweil (n.d.)](#scrollTo=VbRU6AFUpHQI). But while his self-aggrandizement was derided, as were\n",
    "his methods and his rather misleading usage of the word &ldquo;science,&rdquo; the\n",
    "importance of his thoughts on CA was not. He exposes the surprising complexity\n",
    "of CA and claims that they may be able to explain the complexities of life,\n",
    "intelligence, and the universe. He claims that the universe itself may, in\n",
    "fact, be one large CA.\n",
    "\n",
    "Whether this is true or not is debatable (and indeed it is still a hot topic\n",
    "on the web), but what cannot be denied is the remarkable properties CA display\n",
    "and what they may say about the nature of our world. CA are capable of\n",
    "displaying a complexity that belies their representation. They can replicate\n",
    "the feats of our most advanced computational systems, yet even a child can\n",
    "understand their rules and create surprisingly complex effects. In them has\n",
    "been observed the emergence of order out of chaos and total, unpredictable\n",
    "chaos emerging from simple order. In them we can see something of our universe\n",
    "and perhaps something of ourselves.\n",
    "\n"
   ]
  },
  {
   "cell_type": "markdown",
   "metadata": {
    "id": "5y_Vn3toVRvz"
   },
   "source": [
    "## What are cellular automata?\n",
    "\n"
   ]
  },
  {
   "cell_type": "markdown",
   "metadata": {
    "id": "R_hA9aS9VRvz"
   },
   "source": [
    "A CA (singular) is something like a Turing machine (TM). A CA is represented\n",
    "by a grid of *cells*. Each cell has a finite number of states (1/0, on/off,\n",
    "black/white/red/etc.). The grid can be in any finite number of dimensions and\n",
    "extends infinitely in every direction in that dimension. An initial state,\n",
    "called a seed, is selected by assigning a state to each cell. For each cell a\n",
    "set of cells called its neighborhood is defined relative to the first cell.\n",
    "Each generation the cells will change their value as defined by a set of\n",
    "rules. A rule defines what the new value will be based on the current\n",
    "neighborhood state.\n",
    "\n",
    "CAs differ from TMs in that while a TM may have a large number of situational\n",
    "rules and states, CA have a discrete set of fixed rules. Each rule is absolute\n",
    "and uniquely describes a possible neighborhood state. There is no &ldquo;cause and\n",
    "effect&rdquo; in between generations, no starting state transition, just a set of\n",
    "rules that are applied universally. As an example, if on a binary grid a\n",
    "neighborhood is defined as two (2) cells there must be 4 rules, one for each\n",
    "state. The number of rules, then, is dependent on the neighborhood size. A\n",
    "*generation* occurs when the rules are applied to the grid. The rules are\n",
    "applied simultaneously to every cell in the grid.\n",
    "\n"
   ]
  },
  {
   "cell_type": "markdown",
   "metadata": {
    "id": "5SGyv438VRv1"
   },
   "source": [
    "## The history of cellular automata\n",
    "\n"
   ]
  },
  {
   "cell_type": "markdown",
   "metadata": {
    "id": "W0y2b_jjVRv1"
   },
   "source": [
    "While Wolfram was the latest to spark intense debate about CA, he was far from\n",
    "the first. The TM, invented in 1936, is often seen as an early example of CA,\n",
    "but differs from true CA in its use and application of rules.\n",
    "\n",
    "John von Neumann is the most famous and influential of the early CA\n",
    "developers. Inspired by his colleague Stanislaw Ulam&rsquo;s studies of the growth\n",
    "of crystals, and his own research into cybernetics, von Neuman began to study\n",
    "the possibility of self-replicating robots. Ulam suggested developing his\n",
    "design around mathematical abstraction, much as he was doing to study crystal\n",
    "growth. The result was the first CA as well as the first self-replicator\n",
    "algorithm.\n",
    "\n",
    "Other notable researchers like Norbert Wiener and Arturo Rosenblueth continued\n",
    "to move forward CA theory. But it wasn&rsquo;t until John Conway developed his &ldquo;Game\n",
    "of Life&rdquo; that CA garnered significant interest. The game was published in the\n",
    "October issue of Scientific American and made Conway instantly famous. More\n",
    "importantly however, it was the catalyst that opened CA as a new field of\n",
    "mathematical research. The &ldquo;Game of Life&rdquo; was the first CA to demonstrate\n",
    "emergent self-organization. Even more amazing, it has been demonstrated to\n",
    "have the power of a universal Turing machine.\n",
    "\n",
    "A large portion of the &ldquo;Game of Life&rsquo;s&rdquo; popularity can be traced to the\n",
    "emergence of low-cost microcomputers. It was often run for hours overnight. It\n",
    "soon developed a cult following of programmers, mathematicians, and\n",
    "philosophers. The &ldquo;Game of Life&rdquo; will be discussed more in its own section.\n",
    "\n",
    "Interest in CA continued on through the 1970s and into the 1980s. In 1983\n",
    "Stephen Wolfram published the first of a series of papers investigating a very\n",
    "basic subset of CA which he called elementary cellular automata (ECA). These\n",
    "one-dimensional, binary CA represent the simplest possible examples of CA.\n",
    "They only required eight rules to fully describe, yet amazingly&#x2014;just like\n",
    "their big brothers CA and TM&#x2014;displayed a complexity that defied analysis.\n",
    "Matthew Cook, a research assistant of Wolfram&rsquo;s, was later able to prove that\n",
    "some rule sets, #110 in his proof, are universal [Wolfram (2002a)](#scrollTo=lzYMNNwKpGy_). Wolfram\n",
    "continued his research for nearly 20 years, finally (self-) publishing his\n",
    "findings in 2002 in the book *A New Kind of Science*, which argues that these\n",
    "unique traits are not isolated to CA, but intrinsic to all disciplines of\n",
    "science and our understanding of the universe.\n",
    "\n"
   ]
  },
  {
   "cell_type": "markdown",
   "metadata": {
    "id": "idROO3myVRv2"
   },
   "source": [
    "## Examples of CA\n",
    "\n"
   ]
  },
  {
   "cell_type": "markdown",
   "metadata": {
    "id": "8WhWKQkfVRv2"
   },
   "source": [
    "### Conway&rsquo;s Game of Life\n",
    "\n"
   ]
  },
  {
   "cell_type": "markdown",
   "metadata": {
    "id": "ezaE-Qk6VRv2"
   },
   "source": [
    "Conway was interested in the self-replication problem presented by von\n",
    "Neumann. He attempted to simplify and expand upon von Neumann&rsquo;s ideas. To\n",
    "accomplish this, he carefully chose rules to meet three criteria:\n",
    "\n",
    "1.  There should be no initial pattern for which there is a simple proof\n",
    "    that the population can grow without limit.\n",
    "2.  There should be initial patterns that apparently do grow without limit.\n",
    "3.  There should be simple initial patterns that grow and change for a\n",
    "    considerable period of time before coming to an end in the following\n",
    "    possible ways:\n",
    "    -   Fading away completely (from overcrowding or from becoming too\n",
    "        sparse), or\n",
    "    -   Settling into a stable configuration that remains unchanged\n",
    "        thereafter, or\n",
    "    -   Entering an oscillating phase in which they endlessly repeat a\n",
    "        cycle of two or more periods.\n",
    "\n",
    "The &ldquo;Game of Life&rdquo; takes place on a binary, two-dimensional grid. A cell&rsquo;s\n",
    "neighborhood consists of its eight neighbors. It has only four rules:\n",
    "\n",
    "1.  Any live cell with fewer than two live neighbors dies, as if caused by\n",
    "    underpopulation.\n",
    "2.  Any live cell with more than three live neighbors dies, as if by\n",
    "    overcrowding.\n",
    "3.  Any live cell with two or three live neighbors lives on to the next\n",
    "    generation.\n",
    "4.  Any dead cell with exactly three live neighbors becomes a live cell.\n",
    "\n",
    "Conway&rsquo;s discovery of the &ldquo;Game of Life&rdquo; was significant. From a theoretical\n",
    "point of view it is interesting because it has the power of a universal TM\n",
    "[Wikipedia (n.d.)](#scrollTo=_vbbp8zfpG7l), [Chapman (2002)](#scrollTo=bOh2WCNnVrUL). Logic gates were soon simulated and fully developed circuits and computer programs followed. Developers went so far as to create emulations of traditional computers systems on life boards [Rendell (2000)](#scrollTo=naNDMPC7pHCn), [Goucher (n.d.)](#scrollTo=npC1Fe2npHYv&line=3&uniqifier=1).\n",
    "\n"
   ]
  },
  {
   "cell_type": "markdown",
   "metadata": {
    "id": "cPqgPdBjVRv2"
   },
   "source": [
    "### Wolfram&rsquo;s Elementary Cellular Automata\n",
    "\n"
   ]
  },
  {
   "cell_type": "markdown",
   "metadata": {
    "id": "js3QUPG4VRv3"
   },
   "source": [
    "In his studies, Wolfram focused on taking CA research to its logical\n",
    "conclusion. He believed the true importance of CA was their ability to\n",
    "simulate complex behavior using simple rules. To accomplish this he explored\n",
    "the simplest set of CA he could think of, which he called Elementary Cellular\n",
    "Automata (ECA). His findings were surprising.\n",
    "\n",
    "ECA are a one-dimensional, binary cellular automata with a neighborhood of\n",
    "three (the initial cell and its two neighbors), totaling in eight possible\n",
    "state rules [Levasseur (n.d.)](#scrollTo=LTWErkbUpHIk). Wolfram took a systematic approach to exploring\n",
    "ECA: he assigned each of the possible states a position based on what they\n",
    "would represent in binary (000 is first, 001 second, 010 third, etc.). He then\n",
    "assigned each set of rules a number based on the new state they would\n",
    "represent. For example, the state transition:\n",
    "\n",
    "|        |   |   |   |   |   |   |   |   |\n",
    "|--------|--:|--:|--:|--:|--:|--:|--:|--:|\n",
    "| Current|111|110|101|100|011|010|001|000|\n",
    "| pattern|||||||||\n",
    "| New cell|0|0|0|0|1|0|0|1|\n",
    "| state|||||||||\n",
    "\n",
    "can be interpreted as the binary number 00001001=9. Since there is no way to\n",
    "predict the patterns without running them, Wolfram proceeded to simply run all\n",
    "of them.\n",
    "\n",
    "There are 256 possible rules, but in practice most of them are equivalent to\n",
    "each other. They may produce the same pattern, a mirror pattern, or an\n",
    "inverse. Of the 256 rules there are 88 unique patterns: 0, 1, 4, 5, 18, 19,\n",
    "22, 23, 32, 33, 36, 37, 50, 51, 54, 55, 72, 73, 76, 77, 90, 91, 94, 95, 104,\n",
    "105, 108, 109, 122, 123, 126, 127, 128, 129, 132, 133, 146, 147, 150, 151,\n",
    "160, 161, 164, 165, 178, 179, 182, 183, 200, 201, 204, 205, 218, 219, 222,\n",
    "223, 232, 233, 236, 237, 250, 251, 254, and 255 [Wolfram (2002b)](#scrollTo=oNJOrfHipGqL).\n",
    "\n",
    "However, even with such a simple seed, many of them have surprisingly complex\n",
    "properties. Rule 30, for instance, seems to be totally random and chaotic,\n",
    "resisting all attempts at prediction and classification. As a result, it is\n",
    "used in *Mathematica* as a random number generator for large integers\n",
    "[Wolfram (2002c)](#scrollTo=1adOwKgvpGZe).\n",
    "\n",
    "Another interesting rule is Rule 110, which was verified by Matthew Cook to be\n",
    "capable of universal computation, equivalent to TMs and Conway&rsquo;s much more\n",
    "complex &ldquo;Game of Life.&rdquo;\n",
    "\n",
    "Wolfram identifies four classes of ECA:\n",
    "\n",
    "-   Nearly all initial patterns evolve quickly into a stable, homogeneous state.\n",
    "    Any randomness in the initial pattern disappears.\n",
    "-   Nearly all initial patterns evolve quickly into stable or oscillating\n",
    "    structures. Some of the randomness in the initial pattern may filter out,\n",
    "    but some remains. Local changes to the initial pattern tend to remain local.\n",
    "-   Nearly all initial patterns evolve in a pseudo-random or chaotic manner. Any\n",
    "    stable structures that appear are quickly destroyed by the surrounding\n",
    "    noise. Local changes to the initial pattern tend to spread indefinitely.\n",
    "-   Nearly all initial patterns evolve into structures that interact in complex\n",
    "    and interesting ways. Class 2 type stable or oscillating structures may be\n",
    "    the eventual outcome, but the number of steps required to reach this state\n",
    "    may be very large, even when the initial pattern is relatively simple. Local\n",
    "    changes to the initial pattern may spread indefinitely. Wolfram has\n",
    "    conjectured that many, if not all, Class 4 cellular automata are capable of\n",
    "    universal computation. This has been proven for Rule 110 and Conway&rsquo;s &ldquo;Game\n",
    "    of Life.&rdquo;\n",
    "\n",
    "These definitions are not absolute and have room for interpretation, and\n",
    "Wolfram himself said their main purpose is to illustrate the differences\n",
    "between different types of ECA.\n",
    "\n"
   ]
  },
  {
   "cell_type": "markdown",
   "metadata": {
    "id": "sVrt2V-3VRv5"
   },
   "source": [
    "## Other cellular automata systems\n",
    "\n"
   ]
  },
  {
   "cell_type": "markdown",
   "metadata": {
    "id": "Kfg9c1koVRv5"
   },
   "source": [
    "Since a new system can be defined by the dimension, number of states, and\n",
    "neighborhood of a grid, there are an infinite number of CA. The vast majority\n",
    "produce simple, trivial patterns. Many are more interesting though. Some are\n",
    "optimized for certain types of behavior, like Wireworld&rsquo;s circuit simulations\n",
    "or Ulam&rsquo;s crystal growth. Others, like Patterson&rsquo;s Worms, specialize in\n",
    "producing fractal patterns. Any of which are Turing-complete. With infinite\n",
    "variety there is a lot to try, though ECA and the &ldquo;Game of Life&rdquo; remain by far\n",
    "the most popular and studied.\n",
    "\n"
   ]
  },
  {
   "cell_type": "markdown",
   "metadata": {
    "id": "isRMlw28VRv5"
   },
   "source": [
    "## Why should we care?\n",
    "\n"
   ]
  },
  {
   "cell_type": "markdown",
   "metadata": {
    "id": "nxulJYeCVRv5"
   },
   "source": [
    "So there exist CA that are TM equivalent, what do we care? We already have a\n",
    "good TM equivalent, the TM. In fact, most CA are simulated on TMs, making them\n",
    "more of a theoretical toy than a serious problem solver.\n",
    "\n",
    "Most of the interest in CA has to do with their philosophical implications.\n",
    "TMs may be able to simulate the world, but CA seems to act like the world.\n",
    "Many TM physics simulations are actually just a CA being simulated on a TM.\n",
    "Neural networks, which attempt to simulate the way biological systems compute,\n",
    "are also CA simulations. In fact, almost any simulation that attempts to mimic\n",
    "physical systems instead of just predict them mathematically ends up falling\n",
    "under the category of CA. The undeniable conclusion is that our world acts\n",
    "like CA, which has led to the speculation that our universe may actually be a\n",
    "CA.\n",
    "\n",
    "An interesting phenomenon and parallel to our universe is the unpredictable\n",
    "nature of the system as well as the appearance of predictable structures\n",
    "within it. So far no method has been devised to predict the outcome of a life\n",
    "seed short of simply running it to its conclusion. What&rsquo;s more, since we\n",
    "cannot predict future generations without actually generating them, we cannot\n",
    "determine if a given system will ever stabilize, short of a loop presenting\n",
    "itself.\n",
    "\n",
    "Despite this, predictable patterns do form. Stable patterns (still lives),\n",
    "repeating stationary patterns (oscillators), and moving patterns (space ships)\n",
    "were some of the first to be discovered. But we were only able to discover\n",
    "them through observation. In spite of Wolfram&rsquo;s claims to the contrary, this\n",
    "may well validate the scientific process. If the universe is like a CA, then\n",
    "the only valid methods of discovery and prediction are observation and\n",
    "validation (the scientific method), or revelation of outcomes by someone who\n",
    "already knows the patterns (Deity).\n",
    "\n",
    "Philosophically, the parallels with reality are compelling. All matter acts\n",
    "simultaneously and changes state according to a simple set of rules (physics).\n",
    "Is time as we perceive it simply iteration at high speed? If the speed is high\n",
    "enough, is there even a difference between iteration and continuous action? If\n",
    "the universe is like a CA then complete computation or prediction is, by\n",
    "definition, impossible. The only way to know future states of a CA is to\n",
    "observe them. By definition we can never have enough storage to represent our\n",
    "universe, as we will always be a strict subset of said universe. We can never\n",
    "iterate faster than the universe, as its iteration determines the maximum\n",
    "iteration of whatever it contains.\n",
    "\n",
    "What is the seed then, and what is free will? Are our actions simply\n",
    "predetermined changes to previous states? Cognitive scientist Daniel Dennett\n",
    "has used CA to illustrate the possible evolution of consciousness and free\n",
    "will from a simple set of deterministic laws [Dennett (1991)](cite:dennett). Conversely, what is\n",
    "the seed? CA allow for continual seed input. Being visitors from outside of\n",
    "this physical world, our spirits may continually act as seed generators,\n",
    "pushing in new input, changing the calculation.\n",
    "\n",
    "One of the most important results to come from Wolfram&rsquo;s studies is that\n",
    "beyond a certain point additional rules do not add to the level of complexity\n",
    "observed. As he moved beyond ECA into three-state and four-state automata and\n",
    "two-dimensional grids he found that there was no significant increase in\n",
    "complexity, and many times there was actually a decrease. He demonstrated that\n",
    "a very small set of rules may be enough to simulate the entirety of creation,\n",
    "or at least compute all that we currently believe to be computable. This may\n",
    "well verify one of the fundamental&#x2014;and theoretically\n",
    "unprovable&#x2014;assumptions of the scientific method; that the rules of the\n",
    "universe are inherently simple, and thus the simplest solution is the most\n",
    "likely.\n",
    "\n"
   ]
  },
  {
   "cell_type": "markdown",
   "metadata": {
    "id": "2NDLM20XVRv6"
   },
   "source": [
    "## Is it real?\n",
    "\n"
   ]
  },
  {
   "cell_type": "markdown",
   "metadata": {
    "id": "Seva6tnNVRv6"
   },
   "source": [
    "The implications are astounding. If our universe really does act like a CA\n",
    "then we may have uncovered one of the great secrets of creation. Which is not\n",
    "to say CA do not have their detractors. Randomness is not the same thing as\n",
    "complexity: humans are complex, yet not entirely unpredictable or unordered.\n",
    "The ability to compute is not the same thing as the ability to be. A universal\n",
    "Turing machine is not the same thing as a universe, it cannot solve\n",
    "interesting problems on its own, it cannot choose. And while we do obtain many\n",
    "interesting patterns, they are ultimately quite limited. There is an upper\n",
    "limit to their complexity. True chaos is not found in CA, and the realities of\n",
    "the quantum world appear to be poorly represented. Even if we add interaction,\n",
    "mutation, evolution, and employ genetic algorithms, CA somehow still seem\n",
    "limited. We can obtain surprisingly complex behavior from the repeated\n",
    "application of simple computational transformations, but we never seem to\n",
    "approach anything like the natural universe.\n",
    "\n",
    "In the end, while many natural phenomena can be easily explained by the\n",
    "repetition of simple processes like CA, they seem to fall short when it comes\n",
    "to describing intelligent patterns. While the parallels are compelling, they\n",
    "seem to fall short. Something is missing.\n",
    "\n"
   ]
  },
  {
   "cell_type": "markdown",
   "metadata": {
    "id": "ki0xVs0YVRv6"
   },
   "source": [
    "## Conclusions?\n",
    "\n"
   ]
  },
  {
   "cell_type": "markdown",
   "metadata": {
    "id": "eppB-C_hVRv6"
   },
   "source": [
    "My personal conclusion is that CA do not represent the whole story. They do\n",
    "seem to represent the mechanics of the universe well, but don&rsquo;t quite measure\n",
    "up in dealing with intelligent systems. Something else is at work here. Living\n",
    "creatures have a divine spark that makes them more than a set of reactions, a\n",
    "free will that seems to defy simple rules. I would argue that while the world\n",
    "itself may act like an automata, the seed comes from somewhere else.\n",
    "\n",
    "So while CA may indeed hold the secrets of the physical universe, they once\n",
    "again leave us with those same, burning questions that science never seems to\n",
    "be able to solve: who are we, why are we here, and where are we going?\n",
    "\n",
    "And the answer to *these* questions can only be found by asking the one who\n",
    "set the seed.\n",
    "\n"
   ]
  },
  {
   "cell_type": "markdown",
   "metadata": {
    "id": "UCSXyYgYVpK8"
   },
   "source": [
    "## Bibliography"
   ]
  },
  {
   "cell_type": "markdown",
   "metadata": {
    "id": "bOh2WCNnVrUL"
   },
   "source": [
    "Chapman, P. (2002). Life universal computer. http://www.igblan.free-online.co.uk/igblan/ca/.\n",
    "\n",
    "\n",
    "\n",
    "\n",
    "\n",
    "\n",
    "\n",
    "\n",
    "\n"
   ]
  },
  {
   "cell_type": "markdown",
   "metadata": {
    "id": "WqFV2FlHpHgJ"
   },
   "source": [
    "Dennett, D. C. (1991). Consciousness explained. Back Bay Books."
   ]
  },
  {
   "cell_type": "markdown",
   "metadata": {
    "id": "npC1Fe2npHYv"
   },
   "source": [
    "Goucher, A. P. (n.d.). Spartan universal computer-constructor. http://conwaylife.com/wiki/Spartan_universal_computer-constructor."
   ]
  },
  {
   "cell_type": "markdown",
   "metadata": {
    "id": "VbRU6AFUpHQI"
   },
   "source": [
    "Kurzweil, R. (n.d.). Reflections on Stephen Wolfram’s “A New Kind of Science”. http://www.kurzweilai.net/reflections-on-stephen-wolfram-s-a-new-kind-of-science."
   ]
  },
  {
   "cell_type": "markdown",
   "metadata": {
    "id": "LTWErkbUpHIk"
   },
   "source": [
    "Levasseur, K. (n.d.). One-dimensional cellular automata. http://www.hostsrv.com/webmaa/app1/MSP/webm1010/onedca."
   ]
  },
  {
   "cell_type": "markdown",
   "metadata": {
    "id": "naNDMPC7pHCn"
   },
   "source": [
    "Rendell, P. (2000). A Turing machine in Conway’s game of life. http://rendell-attic.org/gol/tm.htm."
   ]
  },
  {
   "cell_type": "markdown",
   "metadata": {
    "id": "_vbbp8zfpG7l"
   },
   "source": [
    "Wikipedia. (n.d.). Conway’s game of life. http://en.wikipedia.org/wiki/Conway%27s_Game_of_Life; Wikipedia."
   ]
  },
  {
   "cell_type": "markdown",
   "metadata": {
    "id": "lzYMNNwKpGy_"
   },
   "source": [
    "Wolfram, S. (2002a). A new kind of science. In (p. 2). Wolfram Media Inc."
   ]
  },
  {
   "cell_type": "markdown",
   "metadata": {
    "id": "oNJOrfHipGqL"
   },
   "source": [
    "Wolfram, S. (2002b). A new kind of science. In (p. 57). Wolfram Media Inc."
   ]
  },
  {
   "cell_type": "markdown",
   "metadata": {
    "id": "1adOwKgvpGZe"
   },
   "source": [
    "Wolfram, S. (2002c). A new kind of science. In (p. 317). Wolfram Media Inc."
   ]
  }
 ],
 "metadata": {
  "colab": {
   "name": "sample-exploration.ipynb",
   "provenance": []
  },
  "kernelspec": {
   "display_name": "Python 3",
   "language": "python",
   "name": "python3"
  },
  "language_info": {
   "codemirror_mode": {
    "name": "ipython",
    "version": 3
   },
   "file_extension": ".py",
   "mimetype": "text/x-python",
   "name": "python",
   "nbconvert_exporter": "python",
   "pygments_lexer": "ipython3",
   "version": "3.9.0"
  },
  "org": null
 },
 "nbformat": 4,
 "nbformat_minor": 1
}
