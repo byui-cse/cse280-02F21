{
 "cells": [
  {
   "cell_type": "markdown",
   "metadata": {
    "id": "dyiWG2041mE_"
   },
   "source": [
    "# <font color=blue>Chapter 9 Languages and Grammars Exercises</font>\n",
    "## <font color=blue>Prepare</font>"
   ]
  },
  {
   "cell_type": "markdown",
   "metadata": {
    "id": "DFhlD6Ix1us3"
   },
   "source": [
    "Answers available on request.\n"
   ]
  },
  {
   "cell_type": "code",
   "execution_count": null,
   "metadata": {
    "id": "Vso9c67_2on5"
   },
   "outputs": [],
   "source": [
    "#@title Run this block first to enable seeing Hints. {display-mode: \"form\"}\n",
    "from IPython.display import Markdown"
   ]
  },
  {
   "cell_type": "markdown",
   "metadata": {
    "id": "AcQXMy6r1wCq"
   },
   "source": [
    "## <font color=red>9.1 Help or Hurt</font>\n"
   ]
  },
  {
   "cell_type": "markdown",
   "metadata": {
    "id": "SkvYora21xTK"
   },
   "source": [
    "No exercises.\n"
   ]
  },
  {
   "cell_type": "markdown",
   "metadata": {
    "id": "Bf5TeAYc1yOk"
   },
   "source": [
    "## <font color=red>9.2 Order Matters</font>\n"
   ]
  },
  {
   "cell_type": "markdown",
   "metadata": {
    "id": "6HM_-zhe1zFE"
   },
   "source": [
    "No exercises.\n"
   ]
  },
  {
   "cell_type": "markdown",
   "metadata": {
    "id": "dtSw-MDx1z0g"
   },
   "source": [
    "## <font color=red>9.3 Logic, Beads, and Strings</font>\n"
   ]
  },
  {
   "cell_type": "markdown",
   "metadata": {
    "id": "Lgx2NBGV10qU"
   },
   "source": [
    "No exercises.\n"
   ]
  },
  {
   "cell_type": "markdown",
   "metadata": {
    "id": "e3ODHbnh11d-"
   },
   "source": [
    "## <font color=red>9.4 Common Mold</font>\n"
   ]
  },
  {
   "cell_type": "markdown",
   "metadata": {
    "id": "FBcQ7tJd12Uf"
   },
   "source": [
    "No exercises.\n"
   ]
  },
  {
   "cell_type": "markdown",
   "metadata": {
    "id": "Y58L08A614pL"
   },
   "source": [
    "## <font color=red>9.5 Language Language</font>\n"
   ]
  },
  {
   "cell_type": "markdown",
   "metadata": {
    "id": "igp-sX7g15kE"
   },
   "source": [
    "No exercises.\n"
   ]
  },
  {
   "cell_type": "markdown",
   "metadata": {
    "id": "xXxdADN-16uF"
   },
   "source": [
    "## <font color=red>9.6 Grammar Composition</font>\n"
   ]
  },
  {
   "cell_type": "markdown",
   "metadata": {
    "id": "Qq0_tdB_17lQ"
   },
   "source": [
    "Here is the code from Figure 9.2 Finding a random derivation:\n"
   ]
  },
  {
   "cell_type": "code",
   "execution_count": null,
   "metadata": {
    "id": "imD7r9FA19VM"
   },
   "outputs": [],
   "source": [
    "from random import choice\n",
    "\n",
    "terminals = {'a', 'the', 'hungry', 'sleepy', 'cat', 'dog',\n",
    "             'chases', 'runs', 'slowly', 'quickly'}\n",
    "\n",
    "productions = {\n",
    "  'SENTENCE': [['NOUN_PHRASE', 'VERB_PHRASE', 'NOUN_PHRASE'],\n",
    "               ['NOUN_PHRASE', 'VERB_PHRASE']],\n",
    "  'NOUN_PHRASE': [['ARTICLE', 'ADJECTIVE', 'NOUN'],\n",
    "                  ['ARTICLE', 'NOUN']],\n",
    "  'VERB_PHRASE': [['VERB', 'ADVERB'], ['VERB']],\n",
    "  'ARTICLE': ['a', 'the'],\n",
    "  'ADJECTIVE': ['hungry', 'sleepy'],\n",
    "  'NOUN': ['cat', 'dog'],\n",
    "  'VERB': ['chases', 'runs'],\n",
    "  'ADVERB': ['slowly', 'quickly']}\n",
    "\n",
    "nonterminals = set(productions.keys())\n",
    "\n",
    "G = {'nonterminals': nonterminals,\n",
    "     'terminals': terminals,\n",
    "     'start_symbol': 'SENTENCE',\n",
    "     'productions': productions}\n",
    "\n",
    "def nonterminals_remain(grammar, segment):\n",
    "  nonterminals = grammar['nonterminals']\n",
    "  return any(map(lambda s: s in nonterminals, segment))\n",
    "\n",
    "def derive(grammar, LHS):\n",
    "  RHS = grammar['productions'][LHS]\n",
    "  if isinstance(RHS[0], list):\n",
    "    return choice(RHS)\n",
    "  else:\n",
    "    return [choice(RHS)]\n",
    "\n",
    "def find_derivation(grammar):\n",
    "  derivation = [grammar['start_symbol']]\n",
    "  terminals = grammar['terminals']\n",
    "  while nonterminals_remain(grammar, derivation):\n",
    "    print(' '.join(derivation))\n",
    "    derive_one = []\n",
    "    for i in range(len(derivation)):\n",
    "      symbol = derivation[i]\n",
    "      if symbol in terminals:\n",
    "        derive_one.append(symbol)\n",
    "      else:\n",
    "        derive_one.extend(derive(grammar, symbol))\n",
    "        derive_one.extend(derivation[i+1:])\n",
    "        break\n",
    "    derivation = derive_one\n",
    "  return ' '.join(derivation)"
   ]
  },
  {
   "cell_type": "code",
   "execution_count": null,
   "metadata": {
    "id": "LhNZLfS52CKw"
   },
   "outputs": [],
   "source": [
    "print(find_derivation(G))"
   ]
  },
  {
   "cell_type": "markdown",
   "metadata": {
    "id": "kmQrTWYk2KUG"
   },
   "source": [
    "### Exercise 9.6.1\n"
   ]
  },
  {
   "cell_type": "markdown",
   "metadata": {
    "id": "agvTB4m92LSJ"
   },
   "source": [
    "Run the above `print(find_derivation(G))` code block several times.\n"
   ]
  },
  {
   "cell_type": "markdown",
   "metadata": {
    "id": "UxO8smzQ2PBX"
   },
   "source": [
    "How many times does it take you to derive five different sentences?\n"
   ]
  },
  {
   "cell_type": "code",
   "execution_count": null,
   "metadata": {
    "id": "59yI941c2TSM"
   },
   "outputs": [],
   "source": [
    "#@title Hint{display-mode: \"form\"}\n",
    "display(Markdown('''It will be different for everybody.'''))\n"
   ]
  },
  {
   "cell_type": "markdown",
   "metadata": {
    "id": "JUAwYbK-2XNh"
   },
   "source": [
    "### Exercise 9.6.2\n"
   ]
  },
  {
   "cell_type": "markdown",
   "metadata": {
    "id": "bsUKvC1J2YiQ"
   },
   "source": [
    "Combinatorially speaking, how many different sentences can eventually be derived by repeated calls to `find_derivation(G)`?\n"
   ]
  },
  {
   "cell_type": "code",
   "execution_count": null,
   "metadata": {
    "id": "bW1MJVSk2cTu"
   },
   "outputs": [],
   "source": [
    "#@title Hint{display-mode: \"form\"}\n",
    "display(Markdown('''\n",
    "Count how many choices there are for each Nonterminal and for each Terminal.\n",
    "\n",
    "Use the sum rule and the product rule.\n",
    "'''))\n"
   ]
  },
  {
   "cell_type": "markdown",
   "metadata": {
    "id": "qlXF76Wo3P07"
   },
   "source": [
    "### Exercise 9.6.3\n"
   ]
  },
  {
   "cell_type": "markdown",
   "metadata": {
    "id": "igDV8-ml3QWS"
   },
   "source": [
    "With this simple grammar is there a derivation for the following sentence?\n"
   ]
  },
  {
   "cell_type": "markdown",
   "metadata": {
    "id": "QfarlW9T3STF"
   },
   "source": [
    "`the hungry sleepy dog runs`\n"
   ]
  },
  {
   "cell_type": "code",
   "execution_count": null,
   "metadata": {
    "id": "8cLVm_R53VXb"
   },
   "outputs": [],
   "source": [
    "#@title Hint{display-mode: \"form\"}\n",
    "display(Markdown('''\n",
    "Look at the `ADJECTIVE` rule closely.\n",
    "'''))\n"
   ]
  },
  {
   "cell_type": "markdown",
   "metadata": {
    "id": "f0-caGAe3dP7"
   },
   "source": [
    "### Exercise 9.6.4"
   ]
  },
  {
   "cell_type": "markdown",
   "metadata": {
    "id": "eNW1ieB53eVr"
   },
   "source": [
    "Moving towards a more sophisticated grammar, what rules would need to be changed or added to generate this sentence?\n"
   ]
  },
  {
   "cell_type": "markdown",
   "metadata": {
    "id": "dcX4PNXs3fOo"
   },
   "source": [
    "`the quick brown fox jumps over the lazy dog`\n"
   ]
  },
  {
   "cell_type": "code",
   "execution_count": null,
   "metadata": {
    "id": "4LA0TXfm3grx"
   },
   "outputs": [],
   "source": [
    "#@title Hint{display-mode: \"form\"}\n",
    "display(Markdown('''\n",
    "What type of word is &ldquo;over&rdquo;? You will need to add three rules, and change\n",
    "the `ADJECTIVE` rule like you had to do for Exercise 9.6.3.\n",
    "'''))\n"
   ]
  },
  {
   "cell_type": "markdown",
   "metadata": {
    "id": "6i217MFw3n6F"
   },
   "source": [
    "## <font color=red>9.7 Parsing Up a Tree</font>\n"
   ]
  },
  {
   "cell_type": "markdown",
   "metadata": {
    "id": "OQ4BmgkB3osu"
   },
   "source": [
    "### Exercise 9.7.1\n"
   ]
  },
  {
   "cell_type": "markdown",
   "metadata": {
    "id": "Xw-N3uq_3qNA"
   },
   "source": [
    "[Courtesy Peter Norvig](https://norvig.com/python-lisp.html), taken from the bottom of that document, there is a better way to implement a PSG --- the code below:\n"
   ]
  },
  {
   "cell_type": "code",
   "execution_count": null,
   "metadata": {
    "id": "CROSQVMk39Df"
   },
   "outputs": [],
   "source": [
    "\"\"\"Generate random sentences from a grammar.  The grammar\n",
    "consists of entries that can be written as S = 'NP VP | S and S',\n",
    "which gets translated to {'S': [['NP', 'VP'], ['S', 'and', 'S']]}, and\n",
    "means that one of the top-level lists will be chosen at random, and\n",
    "then each element of the second-level list will be rewritten; if a symbol is\n",
    "not in the grammar it rewrites as itself.   The functions generate and\n",
    "generate_tree generate a string and tree representation, respectively, of\n",
    "a random sentence.\"\"\"\n",
    "\n",
    "import random\n",
    "\n",
    "def Grammar(**grammar):\n",
    "  \"Create a dictionary mapping symbols to alternatives.\"\n",
    "  for (cat, rhs) in grammar.items():\n",
    "    grammar[cat] = [alt.split() for alt in rhs.split('|')]\n",
    "  return grammar\n",
    "\n",
    "grammar = Grammar(\n",
    "  S   = 'NP VP | S and S',\n",
    "  NP  = 'Art N | Name',\n",
    "  VP  = 'V NP',\n",
    "  Art = 'the | a | every | some',\n",
    "  N   = 'man | ball | woman | table | dog | cat | wombat',\n",
    "  V   = 'hit | took | saw | liked | greeted | remembered',\n",
    "  Name= 'Alice | Bob | Carlos | Dan | Eve'\n",
    "  )\n",
    "\n",
    "def generate(symbol='S'):\n",
    "  \"Replace symbol with a random entry in grammar (recursively); join into a string.\"\n",
    "  if symbol not in grammar:\n",
    "    return symbol\n",
    "  else:\n",
    "    return ' '.join(map(generate, random.choice(grammar[symbol])))\n",
    "\n",
    "def generate_tree(symbol='S'):\n",
    "  \"Replace symbol with a random entry in grammar (recursively); return a tree.\"\n",
    "  if symbol not in grammar:\n",
    "    return symbol\n",
    "  else:\n",
    "    return {symbol: [generate_tree(x) for x in random.choice(grammar[symbol])]}"
   ]
  },
  {
   "cell_type": "code",
   "execution_count": null,
   "metadata": {
    "id": "uBLTFXZp4BW7"
   },
   "outputs": [],
   "source": [
    "print(generate())"
   ]
  },
  {
   "cell_type": "code",
   "execution_count": null,
   "metadata": {
    "id": "uCE4F3YA4FEE"
   },
   "outputs": [],
   "source": [
    "print(generate_tree())"
   ]
  },
  {
   "cell_type": "markdown",
   "metadata": {
    "id": "Pt-V5Pqx4IkB"
   },
   "source": [
    "Generate three sentences and three trees with this grammar."
   ]
  },
  {
   "cell_type": "markdown",
   "metadata": {
    "id": "3HLSIljH4LJO"
   },
   "source": [
    "Now let `S` be short for `SENTENCE`, `NP` for `NOUN_PHRASE`,\n",
    "`VP` for `VERB_PHRASE`, `ART` for `ARTICLE`, `ADJ` for `ADJECTIVE`,\n",
    "`N` for `NOUN`, `V` for `VERB`, and `ADV` for `ADVERB`.\n"
   ]
  },
  {
   "cell_type": "markdown",
   "metadata": {
    "id": "gzTKlr4-4Vtu"
   },
   "source": [
    "Use the code\n"
   ]
  },
  {
   "cell_type": "markdown",
   "metadata": {
    "id": "82BykIYK4WMj"
   },
   "source": [
    "`grammar = Grammar(S = 'NP VP NP | NP VP',)`\n"
   ]
  },
  {
   "cell_type": "markdown",
   "metadata": {
    "id": "ZhiwTgol4Y2X"
   },
   "source": [
    "as a starting point. Extend it to match the grammar found in Section 9.6.\n"
   ]
  },
  {
   "cell_type": "markdown",
   "metadata": {
    "id": "f7f6crIG4bsH"
   },
   "source": [
    "Generate three more sentences and three more trees with this grammar."
   ]
  },
  {
   "cell_type": "code",
   "execution_count": null,
   "metadata": {
    "id": "gPxnU1vo4c4t"
   },
   "outputs": [],
   "source": [
    "#@title Hint{display-mode: \"form\"}\n",
    "display(Markdown('''\n",
    "This is straightforward, but you should make sure you understand how Norvig's code works.\n",
    "'''))"
   ]
  },
  {
   "cell_type": "markdown",
   "metadata": {
    "id": "GjCIK3RrSGGz"
   },
   "source": [
    "### Exercise 9.7.2\n"
   ]
  },
  {
   "cell_type": "markdown",
   "metadata": {
    "id": "IMOq9OttSGdH"
   },
   "source": [
    "To help with the syntax-tree building process, please use [this tool](http://www.ironcreek.net/phpsyntaxtree/), whose so-called *labelled bracket notation* is just the tree-as-nested-list representation, only without the commas.\n"
   ]
  },
  {
   "cell_type": "markdown",
   "metadata": {
    "id": "wcJrINkhSPtH"
   },
   "source": [
    "Build a parse tree for\n"
   ]
  },
  {
   "cell_type": "markdown",
   "metadata": {
    "id": "atyRVWJWSQMk"
   },
   "source": [
    "`the quick brown fox jumps over the lazy dog`.\n"
   ]
  },
  {
   "cell_type": "markdown",
   "metadata": {
    "id": "e-HcQTRCSRPL"
   },
   "source": [
    "Include a picture and the list representation as your answer.\n"
   ]
  },
  {
   "cell_type": "markdown",
   "metadata": {
    "id": "aHmyjg7lST7-"
   },
   "source": [
    "[Here is an example](https://byui-cse.github.io/cse280-course/images/simple-phrase.png) of a picture of a parse tree created by this tool."
   ]
  },
  {
   "cell_type": "code",
   "execution_count": null,
   "metadata": {
    "id": "pq1OGr45SW-i"
   },
   "outputs": [],
   "source": [
    "#@title Hint{display-mode: \"form\"}\n",
    "display(Markdown('''\n",
    "Use the extended PSG you created in Exercise 9.6.4.\n",
    "'''))"
   ]
  },
  {
   "cell_type": "markdown",
   "metadata": {
    "id": "ahZuVLvdSZf5"
   },
   "source": [
    "### Exercise 9.7.3\n"
   ]
  },
  {
   "cell_type": "markdown",
   "metadata": {
    "id": "-49NnL7KSazP"
   },
   "source": [
    "Build parse trees for the following sentences:\n"
   ]
  },
  {
   "cell_type": "markdown",
   "metadata": {
    "id": "XbzW4xI8Sb4I"
   },
   "source": [
    "1. `a cat chases a hungry dog`.\n",
    "2. `the dog runs quickly`.\n",
    "3. `the sleepy dog chases quickly a hungry cat`.\n"
   ]
  },
  {
   "cell_type": "code",
   "execution_count": null,
   "metadata": {
    "id": "t3Gu2nKTSe_c"
   },
   "outputs": [],
   "source": [
    "#@title Hint{display-mode: \"form\"}\n",
    "display(Markdown('''\n",
    "Use the same approach you did for Exercise 9.7.2.\n",
    "'''))"
   ]
  },
  {
   "cell_type": "markdown",
   "metadata": {
    "id": "9i06KG5XSiOL"
   },
   "source": [
    "## <font color=red>9.8 Moving Closer to Useful</font>"
   ]
  },
  {
   "cell_type": "markdown",
   "metadata": {
    "id": "B1-NdlGCSlOG"
   },
   "source": [
    "### Exercise 9.8.1"
   ]
  },
  {
   "cell_type": "markdown",
   "metadata": {
    "id": "-WQKgUhVSmOc"
   },
   "source": [
    "Implement the PSG you get by combining the four rules for building propositions seen in Section 2.5 (Rules to Build By) with the five rules in the grammar for matching parentheses. You may end up with more than nine rules.\n"
   ]
  },
  {
   "cell_type": "code",
   "execution_count": null,
   "metadata": {
    "id": "B0bL-ZQkSpjc"
   },
   "outputs": [],
   "source": [
    "#@title Hint{display-mode: \"form\"}\n",
    "display(Markdown('''\n",
    "Use the Norvig code and generate lots of different logical propositions that use parentheses for grouping.\n",
    "'''))"
   ]
  },
  {
   "cell_type": "markdown",
   "metadata": {
    "id": "w4d5GEJESunR"
   },
   "source": [
    "## <font color=red>9.9 Irregular</font>\n"
   ]
  },
  {
   "cell_type": "markdown",
   "metadata": {
    "id": "d4ZtE4kjSu84"
   },
   "source": [
    "No exercises.\n"
   ]
  },
  {
   "cell_type": "markdown",
   "metadata": {
    "id": "FL3MadCESvle"
   },
   "source": [
    "## <font color=red>9.10 Regular</font>\n"
   ]
  },
  {
   "cell_type": "markdown",
   "metadata": {
    "id": "2Tu7QwTPSwSI"
   },
   "source": [
    "No exercises.\n"
   ]
  },
  {
   "cell_type": "markdown",
   "metadata": {
    "id": "KEe-D7pUSxEt"
   },
   "source": [
    "## <font color=red>9.11 Star Power</font>\n"
   ]
  },
  {
   "cell_type": "markdown",
   "metadata": {
    "id": "l57-KALaSx-u"
   },
   "source": [
    "No exercises.\n"
   ]
  },
  {
   "cell_type": "markdown",
   "metadata": {
    "id": "ZL0hhhX4Syu6"
   },
   "source": [
    "## <font color=red>9.12 State Machinery</font>\n"
   ]
  },
  {
   "cell_type": "markdown",
   "metadata": {
    "id": "tOlnMMFESzl5"
   },
   "source": [
    "No exercises.\n"
   ]
  },
  {
   "cell_type": "markdown",
   "metadata": {
    "id": "OE89sSiOS0dz"
   },
   "source": [
    "## <font color=red>9.13 Recognition</font>\n"
   ]
  },
  {
   "cell_type": "markdown",
   "metadata": {
    "id": "uaukymDMS1T9"
   },
   "source": [
    "### Exercise 9.13.1\n"
   ]
  },
  {
   "cell_type": "markdown",
   "metadata": {
    "id": "TGhLzUYVS2OT"
   },
   "source": [
    "Add a state and the necessary transitions to make the machine in this figure a valid state machine.\n",
    "\n",
    "![image.png](data:image/png;base64,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)\n"
   ]
  },
  {
   "cell_type": "code",
   "execution_count": null,
   "metadata": {
    "id": "PI3eWOzaS3v4"
   },
   "outputs": [],
   "source": [
    "#@title Hint1{display-mode: \"form\"}\n",
    "display(Markdown('''\n",
    "Remember the *very important rule*?\n",
    "'''))"
   ]
  },
  {
   "cell_type": "code",
   "execution_count": null,
   "metadata": {
    "id": "PI3eWOzaS3v4"
   },
   "outputs": [],
   "source": [
    "#@title Hint2{display-mode: \"form\"}\n",
    "display(Markdown('''\n",
    "Each node must have a 0 and a 1 coming out of it. This will require a reject state, which you can label **R**\n",
    "'''))"
   ]
  },
  {
   "cell_type": "markdown",
   "metadata": {
    "id": "CmAYQn7KS9HQ"
   },
   "source": [
    "### Exercise 9.13.2\n"
   ]
  },
  {
   "cell_type": "markdown",
   "metadata": {
    "id": "dX-b-YCXS-XT"
   },
   "source": [
    "Compare and contrast the `1(0` $\\cup$ `1)`$^{*}$ machine with the `(0` $\\cup$ `1)`$^{*}$`1` machine.\n"
   ]
  },
  {
   "cell_type": "code",
   "execution_count": null,
   "metadata": {
    "id": "J4ZV0FpQTE6V"
   },
   "outputs": [],
   "source": [
    "#@title Hint{display-mode: \"form\"}\n",
    "display(Markdown('''\n",
    "Make at least two points of comparison (how they are the same) and two points of contrast (how they are different).\n",
    "'''))"
   ]
  },
  {
   "cell_type": "markdown",
   "metadata": {
    "id": "gzjdHraATH8m"
   },
   "source": [
    "### Exercise 9.13.3\n"
   ]
  },
  {
   "cell_type": "markdown",
   "metadata": {
    "id": "t7HV8WsPTKlU"
   },
   "source": [
    "This figure shows a machine that recognizes the language of all bitstrings whose *second-to-last* bit is a `0`. Using this as a pattern, create (and draw) a recognizer of bitstrings whose *third-to-last* bit is a `0`.\n",
    "\n",
    "![image.png](data:image/png;base64,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)"
   ]
  },
  {
   "cell_type": "code",
   "execution_count": null,
   "metadata": {
    "id": "ggdM5n0LTO8a"
   },
   "outputs": [],
   "source": [
    "#@title Hint{display-mode: \"form\"}\n",
    "display(Markdown('''\n",
    "This machine needs eight states --- four accept states plus four reject (non-accept) states.\n",
    "'''))"
   ]
  },
  {
   "cell_type": "markdown",
   "metadata": {
    "id": "ZjtuNLDrTXIQ"
   },
   "source": [
    "### Exercise 9.13.4\n"
   ]
  },
  {
   "cell_type": "markdown",
   "metadata": {
    "id": "ed-St7HHTXcd"
   },
   "source": [
    "This three-production grammar\n"
   ]
  },
  {
   "cell_type": "markdown",
   "metadata": {
    "id": "x3VqMLn3TYQq"
   },
   "source": [
    "`S` $\\rightarrow$ `A1`\n",
    "\n",
    "`A` $\\rightarrow$ `A0`\n",
    "\n",
    "`A` $\\rightarrow \\lambda$\n"
   ]
  },
  {
   "cell_type": "markdown",
   "metadata": {
    "id": "3jqd0chMTagR"
   },
   "source": [
    "generates the simple language consisting of any number of `0`s (including zero `0`s) followed by a single `1`. Build a state machine to model it.\n"
   ]
  },
  {
   "cell_type": "code",
   "execution_count": null,
   "metadata": {
    "id": "k4ymxi9CTdNC"
   },
   "outputs": [],
   "source": [
    "#@title Hint{display-mode: \"form\"}\n",
    "display(Markdown('''\n",
    "Your machine should have exactly three states.\n",
    "'''))"
   ]
  },
  {
   "cell_type": "markdown",
   "metadata": {
    "id": "4yWDkiAQTuWZ"
   },
   "source": [
    "### Exercise 9.13.5\n"
   ]
  },
  {
   "cell_type": "markdown",
   "metadata": {
    "id": "vwlD7B6QTutO"
   },
   "source": [
    "The machine in this figure recognizes which language?\n",
    "\n",
    "![image.png](data:image/png;base64,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)\n"
   ]
  },
  {
   "cell_type": "code",
   "execution_count": null,
   "metadata": {
    "id": "f6-HtZAVTvi_"
   },
   "outputs": [],
   "source": [
    "#@title Hint{display-mode: \"form\"}\n",
    "display(Markdown('''\n",
    "It's a very small language. Does it have an accept state?\n",
    "'''))"
   ]
  },
  {
   "cell_type": "markdown",
   "metadata": {
    "id": "wLFRIdgqT9zT"
   },
   "source": [
    "## <font color=red>9.14 Tiny Computer</font>"
   ]
  },
  {
   "cell_type": "markdown",
   "metadata": {
    "id": "YQ7aDiNdT-Wx"
   },
   "source": [
    "### Exercise 9.14.1\n"
   ]
  },
  {
   "cell_type": "markdown",
   "metadata": {
    "id": "9rJ0YxRCT_Yi"
   },
   "source": [
    "Find another example of a small computer, one with fewer than 10 states.\n"
   ]
  },
  {
   "cell_type": "code",
   "execution_count": null,
   "metadata": {
    "id": "t0rRtTcXUAyp"
   },
   "outputs": [],
   "source": [
    "#@title Hint{display-mode: \"form\"}\n",
    "display(Markdown('''\n",
    "There are approximately five billion out there to find.\n",
    "'''))"
   ]
  },
  {
   "cell_type": "markdown",
   "metadata": {
    "id": "R4N9ln92UEYn"
   },
   "source": [
    "## <font color=red>9.15 Back and Forth</font>\n"
   ]
  },
  {
   "cell_type": "markdown",
   "metadata": {
    "id": "2_cM5iS2UFgr"
   },
   "source": [
    "### Exercise 9.15.1\n"
   ]
  },
  {
   "cell_type": "markdown",
   "metadata": {
    "id": "iSwfvmwsUGWz"
   },
   "source": [
    "Let `N` = `{S, A, B}`, `T` = `{0, 1}`, and `S` = `S`.\n"
   ]
  },
  {
   "cell_type": "markdown",
   "metadata": {
    "id": "KYj6WE2SUHNT"
   },
   "source": [
    "Find the language generated by the `(N, T, S, P)` grammar when the set `P` of productions is each of the following:\n"
   ]
  },
  {
   "cell_type": "markdown",
   "metadata": {
    "id": "sLqap0j8UId_"
   },
   "source": [
    "First\n"
   ]
  },
  {
   "cell_type": "markdown",
   "metadata": {
    "id": "msJLa49DUJoh"
   },
   "source": [
    "`S` $\\rightarrow$ `AB`\n",
    "\n",
    "`A` $\\rightarrow$ `01`\n",
    "\n",
    "`B` $\\rightarrow$ `11`\n"
   ]
  },
  {
   "cell_type": "markdown",
   "metadata": {
    "id": "V_uL_WBlULP2"
   },
   "source": [
    "Second"
   ]
  },
  {
   "cell_type": "markdown",
   "metadata": {
    "id": "58-XVmu3UMNX"
   },
   "source": [
    "`S` $\\rightarrow$ `AB`\n",
    "\n",
    "`S` $\\rightarrow$ `AA`\n",
    "\n",
    "`A` $\\rightarrow$ `0B`\n",
    "\n",
    "`A` $\\rightarrow$ `01`\n",
    "\n",
    "`B` $\\rightarrow$ `1`\n"
   ]
  },
  {
   "cell_type": "markdown",
   "metadata": {
    "id": "SV9TldxrUOoQ"
   },
   "source": [
    "Third\n"
   ]
  },
  {
   "cell_type": "markdown",
   "metadata": {
    "id": "pz4GYSjfUQSC"
   },
   "source": [
    "`S` $\\rightarrow$ `AA`\n",
    "\n",
    "`S` $\\rightarrow$ `B`\n",
    "\n",
    "`A` $\\rightarrow$ `00A`\n",
    "\n",
    "`A` $\\rightarrow$ `00`\n",
    "\n",
    "`B` $\\rightarrow$ `1B`\n",
    "\n",
    "`B` $\\rightarrow$ `1`\n"
   ]
  },
  {
   "cell_type": "markdown",
   "metadata": {
    "id": "X4LHNfRnUXOw"
   },
   "source": [
    "Fourth\n"
   ]
  },
  {
   "cell_type": "markdown",
   "metadata": {
    "id": "kP8zrxwJUZgo"
   },
   "source": [
    "`S` $\\rightarrow$ `AB`\n",
    "\n",
    "`A` $\\rightarrow$ `0A1`\n",
    "\n",
    "`B` $\\rightarrow$ `1B0`\n",
    "\n",
    "`A` $\\rightarrow \\lambda$\n",
    "\n",
    "`B` $\\rightarrow \\lambda$\n"
   ]
  },
  {
   "cell_type": "code",
   "execution_count": null,
   "metadata": {
    "id": "d16rRzz-Ubo1"
   },
   "outputs": [],
   "source": [
    "#@title Hint{display-mode: \"form\"}\n",
    "display(Markdown('''\n",
    "If just staring at these fails to reveal the answers, use code from Exercise 9.7.1\n",
    "that you've already seen to implement these grammars, and see how many strings they will generate.\n",
    "'''))\n"
   ]
  },
  {
   "cell_type": "markdown",
   "metadata": {
    "id": "WTbkg8GgWjsh"
   },
   "source": [
    "### Exercise 9.15.2\n"
   ]
  },
  {
   "cell_type": "markdown",
   "metadata": {
    "id": "-hdLs0RDWm-T"
   },
   "source": [
    "Construct PSGs to generate each of the following languages:\n"
   ]
  },
  {
   "cell_type": "markdown",
   "metadata": {
    "id": "CWGJ-0LGWnsW"
   },
   "source": [
    "First\n"
   ]
  },
  {
   "cell_type": "markdown",
   "metadata": {
    "id": "1zxnNodNWoYp"
   },
   "source": [
    "$\\{\\mathtt{0}^{2n}\\ |\\ n \\ge 0\\}$.\n"
   ]
  },
  {
   "cell_type": "markdown",
   "metadata": {
    "id": "uhFN6pooWp3O"
   },
   "source": [
    "Second\n"
   ]
  },
  {
   "cell_type": "markdown",
   "metadata": {
    "id": "P_d9lxz6Wqp1"
   },
   "source": [
    "$\\{\\mathtt{0}^{n}\\mathtt{1}^{2n}\\ |\\ n \\ge 0\\}$.\n"
   ]
  },
  {
   "cell_type": "markdown",
   "metadata": {
    "id": "G2XRDO4RWsGr"
   },
   "source": [
    "Third\n"
   ]
  },
  {
   "cell_type": "markdown",
   "metadata": {
    "id": "fpwe67ZVWs46"
   },
   "source": [
    "$\\{\\mathtt{0}^{n}\\mathtt{1}^{m}\\mathtt{0}^{n}\\ |\\ m \\ge 0,\\ n \\ge 0\\}$.\n"
   ]
  },
  {
   "cell_type": "code",
   "execution_count": null,
   "metadata": {
    "id": "lPwU0bXYWvfY"
   },
   "outputs": [],
   "source": [
    "#@title Hint{display-mode: \"form\"}\n",
    "display(Markdown('''\n",
    "First\n",
    "\n",
    "You can do this with two productions (with one of them being a recursive\n",
    "production, and the other being a $\\lambda$ production), but it might\n",
    "be easier to try it with three productions.\n",
    "\n",
    "Second\n",
    "\n",
    "For this one, only two productions are needed.\n",
    "\n",
    "Third\n",
    "\n",
    "Only four productions are needed for this one.\n",
    "'''))\n"
   ]
  },
  {
   "cell_type": "markdown",
   "metadata": {
    "id": "Vof5zAVaW2DK"
   },
   "source": [
    "## <font color=red>9.16 Taxonomy</font>\n"
   ]
  },
  {
   "cell_type": "markdown",
   "metadata": {
    "id": "vE6PrevHW39e"
   },
   "source": [
    "### Exercise 9.16.1\n"
   ]
  },
  {
   "cell_type": "markdown",
   "metadata": {
    "id": "8z6-zGtNW4sO"
   },
   "source": [
    "Find an example of each of the four types of grammars.\n"
   ]
  },
  {
   "cell_type": "code",
   "execution_count": null,
   "metadata": {
    "id": "lLZhrGkcW5dP"
   },
   "outputs": [],
   "source": [
    "#@title Hint{display-mode: \"form\"}\n",
    "display(Markdown('''\n",
    "Look at the examples in this chapter, or online for lots of others.\n",
    "'''))\n"
   ]
  },
  {
   "cell_type": "markdown",
   "metadata": {
    "id": "wjtS3tgOW-Ts"
   },
   "source": [
    "## <font color=red>9.17 Conclusion</font>\n"
   ]
  },
  {
   "cell_type": "markdown",
   "metadata": {
    "id": "Ia7dHUdIW-kn"
   },
   "source": [
    "No exercises.\n"
   ]
  }
 ],
 "metadata": {
  "colab": {
   "authorship_tag": "ABX9TyN3uDf4MdpFZOArigspijWO",
   "collapsed_sections": [],
   "name": "chapter-9-languages-and-grammars-exercises.ipynb",
   "private_outputs": true,
   "provenance": [],
   "toc_visible": true
  },
  "kernelspec": {
   "display_name": "Python 3",
   "language": "python",
   "name": "python3"
  },
  "language_info": {
   "codemirror_mode": {
    "name": "ipython",
    "version": 3
   },
   "file_extension": ".py",
   "mimetype": "text/x-python",
   "name": "python",
   "nbconvert_exporter": "python",
   "pygments_lexer": "ipython3",
   "version": "3.9.0"
  }
 },
 "nbformat": 4,
 "nbformat_minor": 1
}
