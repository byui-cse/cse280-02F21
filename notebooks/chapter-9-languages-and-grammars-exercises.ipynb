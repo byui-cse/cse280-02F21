{
 "cells": [
  {
   "cell_type": "markdown",
   "metadata": {
    "id": "dyiWG2041mE_"
   },
   "source": [
    "# <font color=blue>Chapter 9 Languages and Grammars Exercises</font>\n",
    "## <font color=blue>Prepare</font>"
   ]
  },
  {
   "cell_type": "markdown",
   "metadata": {
    "id": "DFhlD6Ix1us3"
   },
   "source": [
    "Answers available on request.\n"
   ]
  },
  {
   "cell_type": "code",
   "execution_count": null,
   "metadata": {
    "id": "Vso9c67_2on5"
   },
   "outputs": [],
   "source": [
    "#@title Run this block first to enable seeing Hints. {display-mode: \"form\"}\n",
    "from IPython.display import Markdown"
   ]
  },
  {
   "cell_type": "markdown",
   "metadata": {
    "id": "AcQXMy6r1wCq"
   },
   "source": [
    "## <font color=red>9.1 Help or Hurt</font>\n"
   ]
  },
  {
   "cell_type": "markdown",
   "metadata": {
    "id": "SkvYora21xTK"
   },
   "source": [
    "No exercises.\n"
   ]
  },
  {
   "cell_type": "markdown",
   "metadata": {
    "id": "Bf5TeAYc1yOk"
   },
   "source": [
    "## <font color=red>9.2 Order Matters</font>\n"
   ]
  },
  {
   "cell_type": "markdown",
   "metadata": {
    "id": "6HM_-zhe1zFE"
   },
   "source": [
    "No exercises.\n"
   ]
  },
  {
   "cell_type": "markdown",
   "metadata": {
    "id": "dtSw-MDx1z0g"
   },
   "source": [
    "## <font color=red>9.3 Logic, Beads, and Strings</font>\n"
   ]
  },
  {
   "cell_type": "markdown",
   "metadata": {
    "id": "Lgx2NBGV10qU"
   },
   "source": [
    "No exercises.\n"
   ]
  },
  {
   "cell_type": "markdown",
   "metadata": {
    "id": "e3ODHbnh11d-"
   },
   "source": [
    "## <font color=red>9.4 Common Mold</font>\n"
   ]
  },
  {
   "cell_type": "markdown",
   "metadata": {
    "id": "FBcQ7tJd12Uf"
   },
   "source": [
    "No exercises.\n"
   ]
  },
  {
   "cell_type": "markdown",
   "metadata": {
    "id": "Y58L08A614pL"
   },
   "source": [
    "## <font color=red>9.5 Language Language</font>\n"
   ]
  },
  {
   "cell_type": "markdown",
   "metadata": {
    "id": "igp-sX7g15kE"
   },
   "source": [
    "No exercises.\n"
   ]
  },
  {
   "cell_type": "markdown",
   "metadata": {
    "id": "xXxdADN-16uF"
   },
   "source": [
    "## <font color=red>9.6 Grammar Composition</font>\n"
   ]
  },
  {
   "cell_type": "markdown",
   "metadata": {
    "id": "Qq0_tdB_17lQ"
   },
   "source": [
    "Here is the code from Figure 9.2 Finding a random derivation:\n"
   ]
  },
  {
   "cell_type": "code",
   "execution_count": null,
   "metadata": {
    "id": "imD7r9FA19VM"
   },
   "outputs": [],
   "source": [
    "from random import choice\n",
    "\n",
    "terminals = {'a', 'the', 'hungry', 'sleepy', 'cat', 'dog',\n",
    "             'chases', 'runs', 'slowly', 'quickly'}\n",
    "\n",
    "productions = {\n",
    "  'SENTENCE': [['NOUN_PHRASE', 'VERB_PHRASE', 'NOUN_PHRASE'],\n",
    "               ['NOUN_PHRASE', 'VERB_PHRASE']],\n",
    "  'NOUN_PHRASE': [['ARTICLE', 'ADJECTIVE', 'NOUN'],\n",
    "                  ['ARTICLE', 'NOUN']],\n",
    "  'VERB_PHRASE': [['VERB', 'ADVERB'], ['VERB']],\n",
    "  'ARTICLE': ['a', 'the'],\n",
    "  'ADJECTIVE': ['hungry', 'sleepy'],\n",
    "  'NOUN': ['cat', 'dog'],\n",
    "  'VERB': ['chases', 'runs'],\n",
    "  'ADVERB': ['slowly', 'quickly']}\n",
    "\n",
    "nonterminals = set(productions.keys())\n",
    "\n",
    "G = {'nonterminals': nonterminals,\n",
    "     'terminals': terminals,\n",
    "     'start_symbol': 'SENTENCE',\n",
    "     'productions': productions}\n",
    "\n",
    "def nonterminals_remain(grammar, segment):\n",
    "  nonterminals = grammar['nonterminals']\n",
    "  return any(map(lambda s: s in nonterminals, segment))\n",
    "\n",
    "def derive(grammar, LHS):\n",
    "  RHS = grammar['productions'][LHS]\n",
    "  if isinstance(RHS[0], list):\n",
    "    return choice(RHS)\n",
    "  else:\n",
    "    return [choice(RHS)]\n",
    "\n",
    "def find_derivation(grammar):\n",
    "  derivation = [grammar['start_symbol']]\n",
    "  terminals = grammar['terminals']\n",
    "  while nonterminals_remain(grammar, derivation):\n",
    "    print(' '.join(derivation))\n",
    "    derive_one = []\n",
    "    for i in range(len(derivation)):\n",
    "      symbol = derivation[i]\n",
    "      if symbol in terminals:\n",
    "        derive_one.append(symbol)\n",
    "      else:\n",
    "        derive_one.extend(derive(grammar, symbol))\n",
    "        derive_one.extend(derivation[i+1:])\n",
    "        break\n",
    "    derivation = derive_one\n",
    "  return ' '.join(derivation)"
   ]
  },
  {
   "cell_type": "code",
   "execution_count": null,
   "metadata": {
    "id": "LhNZLfS52CKw"
   },
   "outputs": [],
   "source": [
    "print(find_derivation(G))"
   ]
  },
  {
   "cell_type": "markdown",
   "metadata": {
    "id": "kmQrTWYk2KUG"
   },
   "source": [
    "### Exercise 9.6.1\n"
   ]
  },
  {
   "cell_type": "markdown",
   "metadata": {
    "id": "agvTB4m92LSJ"
   },
   "source": [
    "Run the above `print(find_derivation(G))` code block several times.\n"
   ]
  },
  {
   "cell_type": "markdown",
   "metadata": {
    "id": "UxO8smzQ2PBX"
   },
   "source": [
    "How many times does it take you to derive five different sentences?\n"
   ]
  },
  {
   "cell_type": "code",
   "execution_count": null,
   "metadata": {
    "id": "59yI941c2TSM"
   },
   "outputs": [],
   "source": [
    "#@title Hint{display-mode: \"form\"}\n",
    "display(Markdown('''It will be different for everybody.'''))\n"
   ]
  },
  {
   "cell_type": "markdown",
   "metadata": {
    "id": "JUAwYbK-2XNh"
   },
   "source": [
    "### Exercise 9.6.2\n"
   ]
  },
  {
   "cell_type": "markdown",
   "metadata": {
    "id": "bsUKvC1J2YiQ"
   },
   "source": [
    "Combinatorially speaking, how many different sentences can eventually be derived by repeated calls to `find_derivation(G)`?\n"
   ]
  },
  {
   "cell_type": "code",
   "execution_count": null,
   "metadata": {
    "id": "bW1MJVSk2cTu"
   },
   "outputs": [],
   "source": [
    "#@title Hint{display-mode: \"form\"}\n",
    "display(Markdown('''\n",
    "Count how many choices there are for each Nonterminal and for each Terminal.\n",
    "\n",
    "Use the sum rule and the product rule.\n",
    "'''))\n"
   ]
  },
  {
   "cell_type": "markdown",
   "metadata": {
    "id": "qlXF76Wo3P07"
   },
   "source": [
    "### Exercise 9.6.3\n"
   ]
  },
  {
   "cell_type": "markdown",
   "metadata": {
    "id": "igDV8-ml3QWS"
   },
   "source": [
    "With this simple grammar is there a derivation for the following sentence?\n"
   ]
  },
  {
   "cell_type": "markdown",
   "metadata": {
    "id": "QfarlW9T3STF"
   },
   "source": [
    "`the hungry sleepy dog runs`\n"
   ]
  },
  {
   "cell_type": "code",
   "execution_count": null,
   "metadata": {
    "id": "8cLVm_R53VXb"
   },
   "outputs": [],
   "source": [
    "#@title Hint{display-mode: \"form\"}\n",
    "display(Markdown('''\n",
    "Look at the `ADJECTIVE` rule closely.\n",
    "'''))\n"
   ]
  },
  {
   "cell_type": "markdown",
   "metadata": {
    "id": "f0-caGAe3dP7"
   },
   "source": [
    "### Exercise 9.6.4"
   ]
  },
  {
   "cell_type": "markdown",
   "metadata": {
    "id": "eNW1ieB53eVr"
   },
   "source": [
    "Moving towards a more sophisticated grammar, what rules would need to be changed or added to generate this sentence?\n"
   ]
  },
  {
   "cell_type": "markdown",
   "metadata": {
    "id": "dcX4PNXs3fOo"
   },
   "source": [
    "`the quick brown fox jumps over the lazy dog`\n"
   ]
  },
  {
   "cell_type": "code",
   "execution_count": null,
   "metadata": {
    "id": "4LA0TXfm3grx"
   },
   "outputs": [],
   "source": [
    "#@title Hint{display-mode: \"form\"}\n",
    "display(Markdown('''\n",
    "What type of word is &ldquo;over&rdquo;? You will need to add three rules, and change\n",
    "the `ADJECTIVE` rule like you had to do for Exercise 9.6.3.\n",
    "'''))\n"
   ]
  },
  {
   "cell_type": "markdown",
   "metadata": {
    "id": "6i217MFw3n6F"
   },
   "source": [
    "## <font color=red>9.7 Parsing Up a Tree</font>\n"
   ]
  },
  {
   "cell_type": "markdown",
   "metadata": {
    "id": "OQ4BmgkB3osu"
   },
   "source": [
    "### Exercise 9.7.1\n"
   ]
  },
  {
   "cell_type": "markdown",
   "metadata": {
    "id": "Xw-N3uq_3qNA"
   },
   "source": [
    "[Courtesy Peter Norvig](https://norvig.com/python-lisp.html), taken from the bottom of that document, there is a better way to implement a PSG --- the code below:\n"
   ]
  },
  {
   "cell_type": "code",
   "execution_count": null,
   "metadata": {
    "id": "CROSQVMk39Df"
   },
   "outputs": [],
   "source": [
    "\"\"\"Generate random sentences from a grammar.  The grammar\n",
    "consists of entries that can be written as S = 'NP VP | S and S',\n",
    "which gets translated to {'S': [['NP', 'VP'], ['S', 'and', 'S']]}, and\n",
    "means that one of the top-level lists will be chosen at random, and\n",
    "then each element of the second-level list will be rewritten; if a symbol is\n",
    "not in the grammar it rewrites as itself.   The functions generate and\n",
    "generate_tree generate a string and tree representation, respectively, of\n",
    "a random sentence.\"\"\"\n",
    "\n",
    "import random\n",
    "\n",
    "def Grammar(**grammar):\n",
    "  \"Create a dictionary mapping symbols to alternatives.\"\n",
    "  for (cat, rhs) in grammar.items():\n",
    "    grammar[cat] = [alt.split() for alt in rhs.split('|')]\n",
    "  return grammar\n",
    "\n",
    "grammar = Grammar(\n",
    "  S   = 'NP VP | S and S',\n",
    "  NP  = 'Art N | Name',\n",
    "  VP  = 'V NP',\n",
    "  Art = 'the | a | every | some',\n",
    "  N   = 'man | ball | woman | table | dog | cat | wombat',\n",
    "  V   = 'hit | took | saw | liked | worshiped | remembered',\n",
    "  Name= 'Alice | Bob | Carlos | Dan | Eve'\n",
    "  )\n",
    "\n",
    "def generate(symbol='S'):\n",
    "  \"Replace symbol with a random entry in grammar (recursively); join into a string.\"\n",
    "  if symbol not in grammar:\n",
    "    return symbol\n",
    "  else:\n",
    "    return ' '.join(map(generate, random.choice(grammar[symbol])))\n",
    "\n",
    "def generate_tree(symbol='S'):\n",
    "  \"Replace symbol with a random entry in grammar (recursively); return a tree.\"\n",
    "  if symbol not in grammar:\n",
    "    return symbol\n",
    "  else:\n",
    "    return {symbol: [generate_tree(x) for x in random.choice(grammar[symbol])]}"
   ]
  },
  {
   "cell_type": "code",
   "execution_count": null,
   "metadata": {
    "id": "uBLTFXZp4BW7"
   },
   "outputs": [],
   "source": [
    "print(generate())"
   ]
  },
  {
   "cell_type": "code",
   "execution_count": null,
   "metadata": {
    "id": "uCE4F3YA4FEE"
   },
   "outputs": [],
   "source": [
    "print(generate_tree())"
   ]
  },
  {
   "cell_type": "markdown",
   "metadata": {
    "id": "Pt-V5Pqx4IkB"
   },
   "source": [
    "Generate three sentences and three trees with this grammar."
   ]
  },
  {
   "cell_type": "markdown",
   "metadata": {
    "id": "3HLSIljH4LJO"
   },
   "source": [
    "Now let `S` be short for `SENTENCE`, `NP` for `NOUN_PHRASE`,\n",
    "`VP` for `VERB_PHRASE`, `ART` for `ARTICLE`, `ADJ` for `ADJECTIVE`,\n",
    "`N` for `NOUN`, `V` for `VERB`, and `ADV` for `ADVERB`.\n"
   ]
  },
  {
   "cell_type": "markdown",
   "metadata": {
    "id": "gzTKlr4-4Vtu"
   },
   "source": [
    "Use the code\n"
   ]
  },
  {
   "cell_type": "markdown",
   "metadata": {
    "id": "82BykIYK4WMj"
   },
   "source": [
    "`grammar = Grammar(S = 'NP VP NP | NP VP',)`\n"
   ]
  },
  {
   "cell_type": "markdown",
   "metadata": {
    "id": "ZhiwTgol4Y2X"
   },
   "source": [
    "as a starting point. Extend it to match the grammar found in Section 9.6.\n"
   ]
  },
  {
   "cell_type": "markdown",
   "metadata": {
    "id": "f7f6crIG4bsH"
   },
   "source": [
    "Generate three more sentences and three more trees with this grammar."
   ]
  },
  {
   "cell_type": "code",
   "execution_count": null,
   "metadata": {
    "id": "gPxnU1vo4c4t"
   },
   "outputs": [],
   "source": [
    "#@title Hint{display-mode: \"form\"}\n",
    "display(Markdown('''\n",
    "This is straightforward, but you should make sure you understand how Norvig's code works.\n",
    "'''))"
   ]
  },
  {
   "cell_type": "markdown",
   "metadata": {
    "id": "GjCIK3RrSGGz"
   },
   "source": [
    "### Exercise 9.7.2\n"
   ]
  },
  {
   "cell_type": "markdown",
   "metadata": {
    "id": "IMOq9OttSGdH"
   },
   "source": [
    "To help with the syntax-tree building process, please use [this tool](http://www.ironcreek.net/phpsyntaxtree/), whose so-called *labelled bracket notation* is just the tree-as-nested-list representation, only without the commas.\n"
   ]
  },
  {
   "cell_type": "markdown",
   "metadata": {
    "id": "wcJrINkhSPtH"
   },
   "source": [
    "Build a parse tree for\n"
   ]
  },
  {
   "cell_type": "markdown",
   "metadata": {
    "id": "atyRVWJWSQMk"
   },
   "source": [
    "`the quick brown fox jumps over the lazy dog`.\n"
   ]
  },
  {
   "cell_type": "markdown",
   "metadata": {
    "id": "e-HcQTRCSRPL"
   },
   "source": [
    "Include a picture and the list representation as your answer.\n"
   ]
  },
  {
   "cell_type": "markdown",
   "metadata": {
    "id": "aHmyjg7lST7-"
   },
   "source": [
    "[Here is an example](https://byui-cse.github.io/cse280-course/images/simple-phrase.png) of a picture of a parse tree created by this tool."
   ]
  },
  {
   "cell_type": "code",
   "execution_count": null,
   "metadata": {
    "id": "pq1OGr45SW-i"
   },
   "outputs": [],
   "source": [
    "#@title Hint{display-mode: \"form\"}\n",
    "display(Markdown('''\n",
    "Use the extended PSG you created in Exercise 9.6.4.\n",
    "'''))"
   ]
  },
  {
   "cell_type": "markdown",
   "metadata": {
    "id": "ahZuVLvdSZf5"
   },
   "source": [
    "### Exercise 9.7.3\n"
   ]
  },
  {
   "cell_type": "markdown",
   "metadata": {
    "id": "-49NnL7KSazP"
   },
   "source": [
    "Build parse trees for the following sentences:\n"
   ]
  },
  {
   "cell_type": "markdown",
   "metadata": {
    "id": "XbzW4xI8Sb4I"
   },
   "source": [
    "1. `a cat chases a hungry dog`.\n",
    "2. `the dog runs quickly`.\n",
    "3. `the sleepy dog chases quickly a hungry cat`.\n"
   ]
  },
  {
   "cell_type": "code",
   "execution_count": null,
   "metadata": {
    "id": "t3Gu2nKTSe_c"
   },
   "outputs": [],
   "source": [
    "#@title Hint{display-mode: \"form\"}\n",
    "display(Markdown('''\n",
    "Use the same approach you did for Exercise 9.7.2.\n",
    "'''))"
   ]
  },
  {
   "cell_type": "markdown",
   "metadata": {
    "id": "9i06KG5XSiOL"
   },
   "source": [
    "## <font color=red>9.8 Moving Closer to Useful</font>"
   ]
  },
  {
   "cell_type": "markdown",
   "metadata": {
    "id": "B1-NdlGCSlOG"
   },
   "source": [
    "### Exercise 9.8.1"
   ]
  },
  {
   "cell_type": "markdown",
   "metadata": {
    "id": "-WQKgUhVSmOc"
   },
   "source": [
    "Implement the PSG you get by combining the four rules for building propositions seen in Section 2.5 (Rules to Build By) with the five rules in the grammar for matching parentheses. You may end up with more than nine rules.\n"
   ]
  },
  {
   "cell_type": "code",
   "execution_count": null,
   "metadata": {
    "id": "B0bL-ZQkSpjc"
   },
   "outputs": [],
   "source": [
    "#@title Hint{display-mode: \"form\"}\n",
    "display(Markdown('''\n",
    "Use the Norvig code and generate lots of different logical propositions that use parentheses for grouping.\n",
    "'''))"
   ]
  },
  {
   "cell_type": "markdown",
   "metadata": {
    "id": "w4d5GEJESunR"
   },
   "source": [
    "## <font color=red>9.9 Irregular</font>\n"
   ]
  },
  {
   "cell_type": "markdown",
   "metadata": {
    "id": "d4ZtE4kjSu84"
   },
   "source": [
    "No exercises.\n"
   ]
  },
  {
   "cell_type": "markdown",
   "metadata": {
    "id": "FL3MadCESvle"
   },
   "source": [
    "## <font color=red>9.10 Regular</font>\n"
   ]
  },
  {
   "cell_type": "markdown",
   "metadata": {
    "id": "2Tu7QwTPSwSI"
   },
   "source": [
    "No exercises.\n"
   ]
  },
  {
   "cell_type": "markdown",
   "metadata": {
    "id": "KEe-D7pUSxEt"
   },
   "source": [
    "## <font color=red>9.11 Star Power</font>\n"
   ]
  },
  {
   "cell_type": "markdown",
   "metadata": {
    "id": "l57-KALaSx-u"
   },
   "source": [
    "No exercises.\n"
   ]
  },
  {
   "cell_type": "markdown",
   "metadata": {
    "id": "ZL0hhhX4Syu6"
   },
   "source": [
    "## <font color=red>9.12 State Machinery</font>\n"
   ]
  },
  {
   "cell_type": "markdown",
   "metadata": {
    "id": "tOlnMMFESzl5"
   },
   "source": [
    "No exercises.\n"
   ]
  },
  {
   "cell_type": "markdown",
   "metadata": {
    "id": "OE89sSiOS0dz"
   },
   "source": [
    "## <font color=red>9.13 Recognition</font>\n"
   ]
  },
  {
   "cell_type": "markdown",
   "metadata": {
    "id": "uaukymDMS1T9"
   },
   "source": [
    "### Exercise 9.13.1\n"
   ]
  },
  {
   "cell_type": "markdown",
   "metadata": {
    "id": "TGhLzUYVS2OT"
   },
   "source": [
    "Add a state and the necessary transitions to make the machine in this figure a valid state machine.\n",
    "\n",
    "![image.png](data:image/png;base64,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)\n"
   ]
  },
  {
   "cell_type": "code",
   "execution_count": null,
   "metadata": {
    "id": "PI3eWOzaS3v4"
   },
   "outputs": [],
   "source": [
    "#@title Hint1{display-mode: \"form\"}\n",
    "display(Markdown('''\n",
    "Remember the *very important rule*?\n",
    "'''))"
   ]
  },
  {
   "cell_type": "code",
   "execution_count": null,
   "metadata": {
    "id": "PI3eWOzaS3v4"
   },
   "outputs": [],
   "source": [
    "#@title Hint2{display-mode: \"form\"}\n",
    "display(Markdown('''\n",
    "Each node must have a 0 and a 1 coming out of it. This will require a reject state, which you can label **R**\n",
    "'''))"
   ]
  },
  {
   "cell_type": "markdown",
   "metadata": {
    "id": "CmAYQn7KS9HQ"
   },
   "source": [
    "### Exercise 9.13.2\n"
   ]
  },
  {
   "cell_type": "markdown",
   "metadata": {
    "id": "dX-b-YCXS-XT"
   },
   "source": [
    "Compare and contrast the `1(0` $\\cup$ `1)`$^{*}$ machine with the `(0` $\\cup$ `1)`$^{*}$`1` machine.\n"
   ]
  },
  {
   "cell_type": "code",
   "execution_count": null,
   "metadata": {
    "id": "J4ZV0FpQTE6V"
   },
   "outputs": [],
   "source": [
    "#@title Hint{display-mode: \"form\"}\n",
    "display(Markdown('''\n",
    "Make at least two points of comparison (how they are the same) and two points of contrast (how they are different).\n",
    "'''))"
   ]
  },
  {
   "cell_type": "markdown",
   "metadata": {
    "id": "gzjdHraATH8m"
   },
   "source": [
    "### Exercise 9.13.3\n"
   ]
  },
  {
   "cell_type": "markdown",
   "metadata": {
    "id": "t7HV8WsPTKlU"
   },
   "source": [
    "Figure 9.24 shows a machine that recognizes the language of all bitstrings whose *second-to-last* bit is a `0`. Using this as a pattern, create (and draw) a recognizer of bitstrings whose *third-to-last* bit is a `0`."
   ]
  },
  {
   "cell_type": "code",
   "execution_count": null,
   "metadata": {
    "id": "ggdM5n0LTO8a"
   },
   "outputs": [],
   "source": [
    "#@title Hint{display-mode: \"form\"}\n",
    "display(Markdown('''\n",
    "This machine needs eight states --- four accept states plus four reject (non-accept) states.\n",
    "'''))"
   ]
  },
  {
   "cell_type": "markdown",
   "metadata": {
    "id": "ZjtuNLDrTXIQ"
   },
   "source": [
    "### Exercise 9.13.4\n"
   ]
  },
  {
   "cell_type": "markdown",
   "metadata": {
    "id": "ed-St7HHTXcd"
   },
   "source": [
    "This three-production grammar\n"
   ]
  },
  {
   "cell_type": "markdown",
   "metadata": {
    "id": "x3VqMLn3TYQq"
   },
   "source": [
    "`S` $\\rightarrow$ `A1`\n",
    "\n",
    "`A` $\\rightarrow$ `A0`\n",
    "\n",
    "`A` $\\rightarrow \\lambda$\n"
   ]
  },
  {
   "cell_type": "markdown",
   "metadata": {
    "id": "3jqd0chMTagR"
   },
   "source": [
    "generates the simple language consisting of any number of `0`s (including zero `0`s) followed by a single `1`. Build a state machine to model it.\n"
   ]
  },
  {
   "cell_type": "code",
   "execution_count": null,
   "metadata": {
    "id": "k4ymxi9CTdNC"
   },
   "outputs": [],
   "source": [
    "#@title Hint{display-mode: \"form\"}\n",
    "display(Markdown('''\n",
    "Your machine should have exactly three states.\n",
    "'''))"
   ]
  },
  {
   "cell_type": "markdown",
   "metadata": {
    "id": "4yWDkiAQTuWZ"
   },
   "source": [
    "### Exercise 9.13.5\n"
   ]
  },
  {
   "cell_type": "markdown",
   "metadata": {
    "id": "vwlD7B6QTutO"
   },
   "source": [
    "The machine in Figure 9.25 recognizes which language?\n"
   ]
  },
  {
   "cell_type": "code",
   "execution_count": null,
   "metadata": {
    "id": "f6-HtZAVTvi_"
   },
   "outputs": [],
   "source": [
    "#@title Hint{display-mode: \"form\"}\n",
    "display(Markdown('''\n",
    "It's a very small language.\n",
    "'''))"
   ]
  },
  {
   "cell_type": "markdown",
   "metadata": {
    "id": "wLFRIdgqT9zT"
   },
   "source": [
    "## <font color=red>9.14 Tiny Computer</font>"
   ]
  },
  {
   "cell_type": "markdown",
   "metadata": {
    "id": "YQ7aDiNdT-Wx"
   },
   "source": [
    "### Exercise 9.14.1\n"
   ]
  },
  {
   "cell_type": "markdown",
   "metadata": {
    "id": "9rJ0YxRCT_Yi"
   },
   "source": [
    "Find another example of a small computer, one with fewer than 10 states.\n"
   ]
  },
  {
   "cell_type": "code",
   "execution_count": null,
   "metadata": {
    "id": "t0rRtTcXUAyp"
   },
   "outputs": [],
   "source": [
    "#@title Hint{display-mode: \"form\"}\n",
    "display(Markdown('''\n",
    "There are approximately five billion out there to find.\n",
    "'''))"
   ]
  },
  {
   "cell_type": "markdown",
   "metadata": {
    "id": "R4N9ln92UEYn"
   },
   "source": [
    "## <font color=red>9.15 Back and Forth</font>\n"
   ]
  },
  {
   "cell_type": "markdown",
   "metadata": {
    "id": "2_cM5iS2UFgr"
   },
   "source": [
    "### Exercise 9.15.1\n"
   ]
  },
  {
   "cell_type": "markdown",
   "metadata": {
    "id": "iSwfvmwsUGWz"
   },
   "source": [
    "Let `N` = `{S, A, B}`, `T` = `{0, 1}`, and `S` = `S`.\n"
   ]
  },
  {
   "cell_type": "markdown",
   "metadata": {
    "id": "KYj6WE2SUHNT"
   },
   "source": [
    "Find the language generated by the `(N, T, S, P)` grammar when the set `P` of productions is each of the following:\n"
   ]
  },
  {
   "cell_type": "markdown",
   "metadata": {
    "id": "sLqap0j8UId_"
   },
   "source": [
    "First\n"
   ]
  },
  {
   "cell_type": "markdown",
   "metadata": {
    "id": "msJLa49DUJoh"
   },
   "source": [
    "`S` $\\rightarrow$ `AB`\n",
    "\n",
    "`A` $\\rightarrow$ `01`\n",
    "\n",
    "`B` $\\rightarrow$ `11`\n"
   ]
  },
  {
   "cell_type": "markdown",
   "metadata": {
    "id": "V_uL_WBlULP2"
   },
   "source": [
    "Second"
   ]
  },
  {
   "cell_type": "markdown",
   "metadata": {
    "id": "58-XVmu3UMNX"
   },
   "source": [
    "`S` $\\rightarrow$ `AB`\n",
    "\n",
    "`S` $\\rightarrow$ `AA`\n",
    "\n",
    "`A` $\\rightarrow$ `0B`\n",
    "\n",
    "`A` $\\rightarrow$ `01`\n",
    "\n",
    "`B` $\\rightarrow$ `1`\n"
   ]
  },
  {
   "cell_type": "markdown",
   "metadata": {
    "id": "SV9TldxrUOoQ"
   },
   "source": [
    "Third\n"
   ]
  },
  {
   "cell_type": "markdown",
   "metadata": {
    "id": "pz4GYSjfUQSC"
   },
   "source": [
    "`S` $\\rightarrow$ `AA`\n",
    "\n",
    "`S` $\\rightarrow$ `B`\n",
    "\n",
    "`A` $\\rightarrow$ `00A`\n",
    "\n",
    "`A` $\\rightarrow$ `00`\n",
    "\n",
    "`B` $\\rightarrow$ `1B`\n",
    "\n",
    "`B` $\\rightarrow$ `1`\n"
   ]
  },
  {
   "cell_type": "markdown",
   "metadata": {
    "id": "X4LHNfRnUXOw"
   },
   "source": [
    "Fourth\n"
   ]
  },
  {
   "cell_type": "markdown",
   "metadata": {
    "id": "kP8zrxwJUZgo"
   },
   "source": [
    "`S` $\\rightarrow$ `AB`\n",
    "\n",
    "`A` $\\rightarrow$ `0A1`\n",
    "\n",
    "`B` $\\rightarrow$ `1B0`\n",
    "\n",
    "`A` $\\rightarrow \\lambda$\n",
    "\n",
    "`B` $\\rightarrow \\lambda$\n"
   ]
  },
  {
   "cell_type": "code",
   "execution_count": null,
   "metadata": {
    "id": "d16rRzz-Ubo1"
   },
   "outputs": [],
   "source": [
    "#@title Hint{display-mode: \"form\"}\n",
    "display(Markdown('''\n",
    "If just staring at these fails to reveal the answers, use code from Exercise 9.7.1\n",
    "that you've already seen to implement these grammars, and see how many strings they will generate.\n",
    "'''))\n"
   ]
  },
  {
   "cell_type": "markdown",
   "metadata": {
    "id": "WTbkg8GgWjsh"
   },
   "source": [
    "### Exercise 9.15.2\n"
   ]
  },
  {
   "cell_type": "markdown",
   "metadata": {
    "id": "-hdLs0RDWm-T"
   },
   "source": [
    "Construct PSGs to generate each of the following languages:\n"
   ]
  },
  {
   "cell_type": "markdown",
   "metadata": {
    "id": "CWGJ-0LGWnsW"
   },
   "source": [
    "First\n"
   ]
  },
  {
   "cell_type": "markdown",
   "metadata": {
    "id": "1zxnNodNWoYp"
   },
   "source": [
    "$\\{\\mathtt{0}^{2n}\\ |\\ n \\ge 0\\}$.\n"
   ]
  },
  {
   "cell_type": "markdown",
   "metadata": {
    "id": "uhFN6pooWp3O"
   },
   "source": [
    "Second\n"
   ]
  },
  {
   "cell_type": "markdown",
   "metadata": {
    "id": "P_d9lxz6Wqp1"
   },
   "source": [
    "$\\{\\mathtt{0}^{n}\\mathtt{1}^{2n}\\ |\\ n \\ge 0\\}$.\n"
   ]
  },
  {
   "cell_type": "markdown",
   "metadata": {
    "id": "G2XRDO4RWsGr"
   },
   "source": [
    "Third\n"
   ]
  },
  {
   "cell_type": "markdown",
   "metadata": {
    "id": "fpwe67ZVWs46"
   },
   "source": [
    "$\\{\\mathtt{0}^{n}\\mathtt{1}^{m}\\mathtt{0}^{n}\\ |\\ m \\ge 0,\\ n \\ge 0\\}$.\n"
   ]
  },
  {
   "cell_type": "code",
   "execution_count": null,
   "metadata": {
    "id": "lPwU0bXYWvfY"
   },
   "outputs": [],
   "source": [
    "#@title Hint{display-mode: \"form\"}\n",
    "display(Markdown('''\n",
    "First\n",
    "\n",
    "You can do this with two productions (with one of them being a recursive\n",
    "production, and the other being a $\\lambda$ production), but it might\n",
    "be easier to try it with three productions.\n",
    "\n",
    "Second\n",
    "\n",
    "For this one, only two productions are needed.\n",
    "\n",
    "Third\n",
    "\n",
    "Only four productions are needed for this one.\n",
    "'''))\n"
   ]
  },
  {
   "cell_type": "markdown",
   "metadata": {
    "id": "Vof5zAVaW2DK"
   },
   "source": [
    "## <font color=red>9.16 Taxonomy</font>\n"
   ]
  },
  {
   "cell_type": "markdown",
   "metadata": {
    "id": "vE6PrevHW39e"
   },
   "source": [
    "### Exercise 9.16.1\n"
   ]
  },
  {
   "cell_type": "markdown",
   "metadata": {
    "id": "8z6-zGtNW4sO"
   },
   "source": [
    "Find an example of each of the four types of grammars.\n"
   ]
  },
  {
   "cell_type": "code",
   "execution_count": null,
   "metadata": {
    "id": "lLZhrGkcW5dP"
   },
   "outputs": [],
   "source": [
    "#@title Hint{display-mode: \"form\"}\n",
    "display(Markdown('''\n",
    "Look at the examples in this chapter, or online for lots of others.\n",
    "'''))\n"
   ]
  },
  {
   "cell_type": "markdown",
   "metadata": {
    "id": "wjtS3tgOW-Ts"
   },
   "source": [
    "## <font color=red>9.17 Conclusion</font>\n"
   ]
  },
  {
   "cell_type": "markdown",
   "metadata": {
    "id": "Ia7dHUdIW-kn"
   },
   "source": [
    "No exercises.\n"
   ]
  }
 ],
 "metadata": {
  "colab": {
   "authorship_tag": "ABX9TyN3uDf4MdpFZOArigspijWO",
   "collapsed_sections": [],
   "name": "chapter-9-languages-and-grammars-exercises.ipynb",
   "private_outputs": true,
   "provenance": [],
   "toc_visible": true
  },
  "kernelspec": {
   "display_name": "Python 3",
   "language": "python",
   "name": "python3"
  },
  "language_info": {
   "codemirror_mode": {
    "name": "ipython",
    "version": 3
   },
   "file_extension": ".py",
   "mimetype": "text/x-python",
   "name": "python",
   "nbconvert_exporter": "python",
   "pygments_lexer": "ipython3",
   "version": "3.9.0"
  }
 },
 "nbformat": 4,
 "nbformat_minor": 1
}
