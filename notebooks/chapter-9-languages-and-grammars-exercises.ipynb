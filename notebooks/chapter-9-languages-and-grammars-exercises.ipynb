{
 "cells": [
  {
   "cell_type": "markdown",
   "metadata": {
    "id": "dyiWG2041mE_"
   },
   "source": [
    "# <font color=blue>Chapter 9 Languages and Grammars Exercises</font>\n",
    "## <font color=blue>Prepare</font>"
   ]
  },
  {
   "cell_type": "markdown",
   "metadata": {
    "id": "DFhlD6Ix1us3"
   },
   "source": [
    "Answers available on request.\n"
   ]
  },
  {
   "cell_type": "code",
   "execution_count": null,
   "metadata": {
    "id": "Vso9c67_2on5"
   },
   "outputs": [],
   "source": [
    "#@title Run this block first to enable seeing Hints. {display-mode: \"form\"}\n",
    "from IPython.display import Markdown"
   ]
  },
  {
   "cell_type": "markdown",
   "metadata": {
    "id": "AcQXMy6r1wCq"
   },
   "source": [
    "## <font color=red>9.1 Help or Hurt</font>\n"
   ]
  },
  {
   "cell_type": "markdown",
   "metadata": {
    "id": "SkvYora21xTK"
   },
   "source": [
    "No exercises.\n"
   ]
  },
  {
   "cell_type": "markdown",
   "metadata": {
    "id": "Bf5TeAYc1yOk"
   },
   "source": [
    "## <font color=red>9.2 Order Matters</font>\n"
   ]
  },
  {
   "cell_type": "markdown",
   "metadata": {
    "id": "6HM_-zhe1zFE"
   },
   "source": [
    "No exercises.\n"
   ]
  },
  {
   "cell_type": "markdown",
   "metadata": {
    "id": "dtSw-MDx1z0g"
   },
   "source": [
    "## <font color=red>9.3 Logic, Beads, and Strings</font>\n"
   ]
  },
  {
   "cell_type": "markdown",
   "metadata": {
    "id": "Lgx2NBGV10qU"
   },
   "source": [
    "No exercises.\n"
   ]
  },
  {
   "cell_type": "markdown",
   "metadata": {
    "id": "e3ODHbnh11d-"
   },
   "source": [
    "## <font color=red>9.4 Common Mold</font>\n"
   ]
  },
  {
   "cell_type": "markdown",
   "metadata": {
    "id": "FBcQ7tJd12Uf"
   },
   "source": [
    "No exercises.\n"
   ]
  },
  {
   "cell_type": "markdown",
   "metadata": {
    "id": "Y58L08A614pL"
   },
   "source": [
    "## <font color=red>9.5 Language Language</font>\n"
   ]
  },
  {
   "cell_type": "markdown",
   "metadata": {
    "id": "igp-sX7g15kE"
   },
   "source": [
    "No exercises.\n"
   ]
  },
  {
   "cell_type": "markdown",
   "metadata": {
    "id": "xXxdADN-16uF"
   },
   "source": [
    "## <font color=red>9.6 Grammar Composition</font>\n"
   ]
  },
  {
   "cell_type": "markdown",
   "metadata": {
    "id": "Qq0_tdB_17lQ"
   },
   "source": [
    "Here is the code from Figure 9.2 Finding a random derivation:\n"
   ]
  },
  {
   "cell_type": "code",
   "execution_count": null,
   "metadata": {
    "id": "imD7r9FA19VM"
   },
   "outputs": [],
   "source": [
    "from random import choice\n",
    "\n",
    "terminals = {'a', 'the', 'hungry', 'sleepy', 'cat', 'dog',\n",
    "             'chases', 'runs', 'slowly', 'quickly'}\n",
    "\n",
    "productions = {\n",
    "  'SENTENCE': [['NOUN_PHRASE', 'VERB_PHRASE', 'NOUN_PHRASE'],\n",
    "               ['NOUN_PHRASE', 'VERB_PHRASE']],\n",
    "  'NOUN_PHRASE': [['ARTICLE', 'ADJECTIVE', 'NOUN'],\n",
    "                  ['ARTICLE', 'NOUN']],\n",
    "  'VERB_PHRASE': [['VERB', 'ADVERB'], ['VERB']],\n",
    "  'ARTICLE': ['a', 'the'],\n",
    "  'ADJECTIVE': ['hungry', 'sleepy'],\n",
    "  'NOUN': ['cat', 'dog'],\n",
    "  'VERB': ['chases', 'runs'],\n",
    "  'ADVERB': ['slowly', 'quickly']}\n",
    "\n",
    "nonterminals = set(productions.keys())\n",
    "\n",
    "G = {'nonterminals': nonterminals,\n",
    "     'terminals': terminals,\n",
    "     'start_symbol': 'SENTENCE',\n",
    "     'productions': productions}\n",
    "\n",
    "def nonterminals_remain(grammar, segment):\n",
    "  nonterminals = grammar['nonterminals']\n",
    "  return any(map(lambda s: s in nonterminals, segment))\n",
    "\n",
    "def derive(grammar, LHS):\n",
    "  RHS = grammar['productions'][LHS]\n",
    "  if isinstance(RHS[0], list):\n",
    "    return choice(RHS)\n",
    "  else:\n",
    "    return [choice(RHS)]\n",
    "\n",
    "def find_derivation(grammar):\n",
    "  derivation = [grammar['start_symbol']]\n",
    "  terminals = grammar['terminals']\n",
    "  while nonterminals_remain(grammar, derivation):\n",
    "    print(' '.join(derivation))\n",
    "    derive_one = []\n",
    "    for i in range(len(derivation)):\n",
    "      symbol = derivation[i]\n",
    "      if symbol in terminals:\n",
    "        derive_one.append(symbol)\n",
    "      else:\n",
    "        derive_one.extend(derive(grammar, symbol))\n",
    "        derive_one.extend(derivation[i+1:])\n",
    "        break\n",
    "    derivation = derive_one\n",
    "  return ' '.join(derivation)"
   ]
  },
  {
   "cell_type": "code",
   "execution_count": null,
   "metadata": {
    "id": "LhNZLfS52CKw"
   },
   "outputs": [],
   "source": [
    "print(find_derivation(G))"
   ]
  },
  {
   "cell_type": "markdown",
   "metadata": {
    "id": "kmQrTWYk2KUG"
   },
   "source": [
    "### Exercise 9.6.1\n"
   ]
  },
  {
   "cell_type": "markdown",
   "metadata": {
    "id": "agvTB4m92LSJ"
   },
   "source": [
    "Run the above `print(find_derivation(G))` code block several times.\n"
   ]
  },
  {
   "cell_type": "markdown",
   "metadata": {
    "id": "UxO8smzQ2PBX"
   },
   "source": [
    "How many times does it take you to derive five different sentences?\n"
   ]
  },
  {
   "cell_type": "code",
   "execution_count": null,
   "metadata": {
    "id": "59yI941c2TSM"
   },
   "outputs": [],
   "source": [
    "#@title Hint{display-mode: \"form\"}\n",
    "display(Markdown('''It will be different for everybody.'''))\n"
   ]
  },
  {
   "cell_type": "markdown",
   "metadata": {
    "id": "JUAwYbK-2XNh"
   },
   "source": [
    "### Exercise 9.6.2\n"
   ]
  },
  {
   "cell_type": "markdown",
   "metadata": {
    "id": "bsUKvC1J2YiQ"
   },
   "source": [
    "Combinatorially speaking, how many different sentences can eventually be derived by repeated calls to `find_derivation(G)`?\n"
   ]
  },
  {
   "cell_type": "code",
   "execution_count": null,
   "metadata": {
    "id": "bW1MJVSk2cTu"
   },
   "outputs": [],
   "source": [
    "#@title Hint{display-mode: \"form\"}\n",
    "display(Markdown('''\n",
    "Count how many choices there are for each Nonterminal and for each Terminal.\n",
    "\n",
    "Use the sum rule and the product rule.\n",
    "'''))\n"
   ]
  },
  {
   "cell_type": "markdown",
   "metadata": {
    "id": "qlXF76Wo3P07"
   },
   "source": [
    "### Exercise 9.6.3\n"
   ]
  },
  {
   "cell_type": "markdown",
   "metadata": {
    "id": "igDV8-ml3QWS"
   },
   "source": [
    "With this simple grammar is there a derivation for the following sentence?\n"
   ]
  },
  {
   "cell_type": "markdown",
   "metadata": {
    "id": "QfarlW9T3STF"
   },
   "source": [
    "`the hungry sleepy dog runs`\n"
   ]
  },
  {
   "cell_type": "code",
   "execution_count": null,
   "metadata": {
    "id": "8cLVm_R53VXb"
   },
   "outputs": [],
   "source": [
    "#@title Hint{display-mode: \"form\"}\n",
    "display(Markdown('''\n",
    "Look at the `ADJECTIVE` rule closely.\n",
    "'''))\n"
   ]
  },
  {
   "cell_type": "markdown",
   "metadata": {
    "id": "f0-caGAe3dP7"
   },
   "source": [
    "### Exercise 9.6.4"
   ]
  },
  {
   "cell_type": "markdown",
   "metadata": {
    "id": "eNW1ieB53eVr"
   },
   "source": [
    "Moving towards a more sophisticated grammar, what rules would need to be changed or added to generate this sentence?\n"
   ]
  },
  {
   "cell_type": "markdown",
   "metadata": {
    "id": "dcX4PNXs3fOo"
   },
   "source": [
    "`the quick brown fox jumps over the lazy dog`\n"
   ]
  },
  {
   "cell_type": "code",
   "execution_count": null,
   "metadata": {
    "id": "4LA0TXfm3grx"
   },
   "outputs": [],
   "source": [
    "#@title Hint{display-mode: \"form\"}\n",
    "display(Markdown('''\n",
    "What type of word is &ldquo;over&rdquo;? You will need to add three rules, and change\n",
    "the `ADJECTIVE` rule like you had to do for Exercise 9.6.3.\n",
    "'''))\n"
   ]
  },
  {
   "cell_type": "markdown",
   "metadata": {
    "id": "6i217MFw3n6F"
   },
   "source": [
    "## <font color=red>9.7 Parsing Up a Tree</font>\n"
   ]
  },
  {
   "cell_type": "markdown",
   "metadata": {
    "id": "OQ4BmgkB3osu"
   },
   "source": [
    "### Exercise 9.7.1\n"
   ]
  },
  {
   "cell_type": "markdown",
   "metadata": {
    "id": "Xw-N3uq_3qNA"
   },
   "source": [
    "[Courtesy Peter Norvig](https://norvig.com/python-lisp.html), taken from the bottom of that document, there is a better way to implement a PSG --- the code below:\n"
   ]
  },
  {
   "cell_type": "code",
   "execution_count": null,
   "metadata": {
    "id": "CROSQVMk39Df"
   },
   "outputs": [],
   "source": [
    "\"\"\"Generate random sentences from a grammar.  The grammar\n",
    "consists of entries that can be written as S = 'NP VP | S and S',\n",
    "which gets translated to {'S': [['NP', 'VP'], ['S', 'and', 'S']]}, and\n",
    "means that one of the top-level lists will be chosen at random, and\n",
    "then each element of the second-level list will be rewritten; if a symbol is\n",
    "not in the grammar it rewrites as itself.   The functions generate and\n",
    "generate_tree generate a string and tree representation, respectively, of\n",
    "a random sentence.\"\"\"\n",
    "\n",
    "import random\n",
    "\n",
    "def Grammar(**grammar):\n",
    "  \"Create a dictionary mapping symbols to alternatives.\"\n",
    "  for (cat, rhs) in grammar.items():\n",
    "    grammar[cat] = [alt.split() for alt in rhs.split('|')]\n",
    "  return grammar\n",
    "\n",
    "grammar = Grammar(\n",
    "  S   = 'NP VP | S and S',\n",
    "  NP  = 'Art N | Name',\n",
    "  VP  = 'V NP',\n",
    "  Art = 'the | a | every | some',\n",
    "  N   = 'man | ball | woman | table | dog | cat | wombat',\n",
    "  V   = 'hit | took | saw | liked | worshiped | remembered',\n",
    "  Name= 'Alice | Bob | Carlos | Dan | Eve'\n",
    "  )\n",
    "\n",
    "def generate(symbol='S'):\n",
    "  \"Replace symbol with a random entry in grammar (recursively); join into a string.\"\n",
    "  if symbol not in grammar:\n",
    "    return symbol\n",
    "  else:\n",
    "    return ' '.join(map(generate, random.choice(grammar[symbol])))\n",
    "\n",
    "def generate_tree(symbol='S'):\n",
    "  \"Replace symbol with a random entry in grammar (recursively); return a tree.\"\n",
    "  if symbol not in grammar:\n",
    "    return symbol\n",
    "  else:\n",
    "    return {symbol: [generate_tree(x) for x in random.choice(grammar[symbol])]}"
   ]
  },
  {
   "cell_type": "code",
   "execution_count": null,
   "metadata": {
    "id": "uBLTFXZp4BW7"
   },
   "outputs": [],
   "source": [
    "print(generate())"
   ]
  },
  {
   "cell_type": "code",
   "execution_count": null,
   "metadata": {
    "id": "uCE4F3YA4FEE"
   },
   "outputs": [],
   "source": [
    "print(generate_tree())"
   ]
  },
  {
   "cell_type": "markdown",
   "metadata": {
    "id": "Pt-V5Pqx4IkB"
   },
   "source": [
    "Generate three sentences and three trees with this grammar."
   ]
  },
  {
   "cell_type": "markdown",
   "metadata": {
    "id": "3HLSIljH4LJO"
   },
   "source": [
    "Now let `S` be short for `SENTENCE`, `NP` for `NOUN_PHRASE`,\n",
    "`VP` for `VERB_PHRASE`, `ART` for `ARTICLE`, `ADJ` for `ADJECTIVE`,\n",
    "`N` for `NOUN`, `V` for `VERB`, and `ADV` for `ADVERB`.\n"
   ]
  },
  {
   "cell_type": "markdown",
   "metadata": {
    "id": "gzTKlr4-4Vtu"
   },
   "source": [
    "Use the code\n"
   ]
  },
  {
   "cell_type": "markdown",
   "metadata": {
    "id": "82BykIYK4WMj"
   },
   "source": [
    "`grammar = Grammar(S = 'NP VP NP | NP VP',)`\n"
   ]
  },
  {
   "cell_type": "markdown",
   "metadata": {
    "id": "ZhiwTgol4Y2X"
   },
   "source": [
    "as a starting point. Extend it to match the grammar found in Section 9.6.\n"
   ]
  },
  {
   "cell_type": "markdown",
   "metadata": {
    "id": "f7f6crIG4bsH"
   },
   "source": [
    "Generate three more sentences and three more trees with this grammar."
   ]
  },
  {
   "cell_type": "code",
   "execution_count": null,
   "metadata": {
    "id": "gPxnU1vo4c4t"
   },
   "outputs": [],
   "source": [
    "#@title Hint{display-mode: \"form\"}\n",
    "display(Markdown('''\n",
    "This is straightforward, but you should make sure you understand how Norvig's code works.\n",
    "'''))"
   ]
  },
  {
   "cell_type": "markdown",
   "metadata": {
    "id": "GjCIK3RrSGGz"
   },
   "source": [
    "### Exercise 9.7.2\n"
   ]
  },
  {
   "cell_type": "markdown",
   "metadata": {
    "id": "IMOq9OttSGdH"
   },
   "source": [
    "To help with the syntax-tree building process, please use [this tool](http://www.ironcreek.net/phpsyntaxtree/), whose so-called *labelled bracket notation* is just the tree-as-nested-list representation, only without the commas.\n"
   ]
  },
  {
   "cell_type": "markdown",
   "metadata": {
    "id": "wcJrINkhSPtH"
   },
   "source": [
    "Build a parse tree for\n"
   ]
  },
  {
   "cell_type": "markdown",
   "metadata": {
    "id": "atyRVWJWSQMk"
   },
   "source": [
    "`the quick brown fox jumps over the lazy dog`.\n"
   ]
  },
  {
   "cell_type": "markdown",
   "metadata": {
    "id": "e-HcQTRCSRPL"
   },
   "source": [
    "Include a picture and the list representation as your answer.\n"
   ]
  },
  {
   "cell_type": "markdown",
   "metadata": {
    "id": "aHmyjg7lST7-"
   },
   "source": [
    "[Here is an example](https://byui-cse.github.io/cse280-course/images/simple-phrase.png) of a picture of a parse tree created by this tool."
   ]
  },
  {
   "cell_type": "code",
   "execution_count": null,
   "metadata": {
    "id": "pq1OGr45SW-i"
   },
   "outputs": [],
   "source": [
    "#@title Hint{display-mode: \"form\"}\n",
    "display(Markdown('''\n",
    "Use the extended PSG you created in Exercise 9.6.4.\n",
    "'''))"
   ]
  },
  {
   "cell_type": "markdown",
   "metadata": {
    "id": "ahZuVLvdSZf5"
   },
   "source": [
    "### Exercise 9.7.3\n"
   ]
  },
  {
   "cell_type": "markdown",
   "metadata": {
    "id": "-49NnL7KSazP"
   },
   "source": [
    "Build parse trees for the following sentences:\n"
   ]
  },
  {
   "cell_type": "markdown",
   "metadata": {
    "id": "XbzW4xI8Sb4I"
   },
   "source": [
    "1. `a cat chases a hungry dog`.\n",
    "2. `the dog runs quickly`.\n",
    "3. `the sleepy dog chases quickly a hungry cat`.\n"
   ]
  },
  {
   "cell_type": "code",
   "execution_count": null,
   "metadata": {
    "id": "t3Gu2nKTSe_c"
   },
   "outputs": [],
   "source": [
    "#@title Hint{display-mode: \"form\"}\n",
    "display(Markdown('''\n",
    "Use the same approach you did for Exercise 9.7.2.\n",
    "'''))"
   ]
  },
  {
   "cell_type": "markdown",
   "metadata": {
    "id": "9i06KG5XSiOL"
   },
   "source": [
    "## <font color=red>9.8 Moving Closer to Useful</font>"
   ]
  },
  {
   "cell_type": "markdown",
   "metadata": {
    "id": "B1-NdlGCSlOG"
   },
   "source": [
    "### Exercise 9.8.1"
   ]
  },
  {
   "cell_type": "markdown",
   "metadata": {
    "id": "-WQKgUhVSmOc"
   },
   "source": [
    "Implement the PSG you get by combining the four rules for building propositions seen in Section 2.5 (Rules to Build By) with the five rules in the grammar for matching parentheses. You may end up with more than nine rules.\n"
   ]
  },
  {
   "cell_type": "code",
   "execution_count": null,
   "metadata": {
    "id": "B0bL-ZQkSpjc"
   },
   "outputs": [],
   "source": [
    "#@title Hint{display-mode: \"form\"}\n",
    "display(Markdown('''\n",
    "Use the Norvig code and generate lots of different logical propositions that use parentheses for grouping.\n",
    "'''))"
   ]
  },
  {
   "cell_type": "markdown",
   "metadata": {
    "id": "w4d5GEJESunR"
   },
   "source": [
    "## <font color=red>9.9 Irregular</font>\n"
   ]
  },
  {
   "cell_type": "markdown",
   "metadata": {
    "id": "d4ZtE4kjSu84"
   },
   "source": [
    "No exercises.\n"
   ]
  },
  {
   "cell_type": "markdown",
   "metadata": {
    "id": "FL3MadCESvle"
   },
   "source": [
    "## <font color=red>9.10 Regular</font>\n"
   ]
  },
  {
   "cell_type": "markdown",
   "metadata": {
    "id": "2Tu7QwTPSwSI"
   },
   "source": [
    "No exercises.\n"
   ]
  },
  {
   "cell_type": "markdown",
   "metadata": {
    "id": "KEe-D7pUSxEt"
   },
   "source": [
    "## <font color=red>9.11 Star Power</font>\n"
   ]
  },
  {
   "cell_type": "markdown",
   "metadata": {
    "id": "l57-KALaSx-u"
   },
   "source": [
    "No exercises.\n"
   ]
  },
  {
   "cell_type": "markdown",
   "metadata": {
    "id": "ZL0hhhX4Syu6"
   },
   "source": [
    "## <font color=red>9.12 State Machinery</font>\n"
   ]
  },
  {
   "cell_type": "markdown",
   "metadata": {
    "id": "tOlnMMFESzl5"
   },
   "source": [
    "No exercises.\n"
   ]
  },
  {
   "cell_type": "markdown",
   "metadata": {
    "id": "OE89sSiOS0dz"
   },
   "source": [
    "## <font color=red>9.13 Recognition</font>\n"
   ]
  },
  {
   "cell_type": "markdown",
   "metadata": {
    "id": "uaukymDMS1T9"
   },
   "source": [
    "### Exercise 9.13.1\n"
   ]
  },
  {
   "cell_type": "markdown",
   "metadata": {
    "id": "TGhLzUYVS2OT"
   },
   "source": [
    "Add a state and the necessary transitions to make the machine in Figure 9.23 a valid state machine.\n"
   ]
  },
  {
   "cell_type": "code",
   "execution_count": null,
   "metadata": {
    "id": "PI3eWOzaS3v4"
   },
   "outputs": [],
   "source": [
    "#@title Hint{display-mode: \"form\"}\n",
    "display(Markdown('''\n",
    "Remember the *very important rule*?\n",
    "'''))"
   ]
  },
  {
   "cell_type": "markdown",
   "metadata": {
    "id": "CmAYQn7KS9HQ"
   },
   "source": [
    "### Exercise 9.13.2\n"
   ]
  },
  {
   "cell_type": "markdown",
   "metadata": {
    "id": "dX-b-YCXS-XT"
   },
   "source": [
    "Compare and contrast the `1(0` $\\cup$ `1)`$^{*}$ machine with the `(0` $\\cup$ `1)`$^{*}$`1` machine.\n"
   ]
  },
  {
   "cell_type": "code",
   "execution_count": null,
   "metadata": {
    "id": "J4ZV0FpQTE6V"
   },
   "outputs": [],
   "source": [
    "#@title Hint{display-mode: \"form\"}\n",
    "display(Markdown('''\n",
    "Make at least two points of comparison (how they are the same) and two points of contrast (how they are different).\n",
    "'''))"
   ]
  },
  {
   "cell_type": "markdown",
   "metadata": {
    "id": "gzjdHraATH8m"
   },
   "source": [
    "### Exercise 9.13.3\n"
   ]
  },
  {
   "cell_type": "markdown",
   "metadata": {
    "id": "t7HV8WsPTKlU"
   },
   "source": [
    "Figure 9.24 shows a machine that recognizes the language of all bitstrings whose *second-to-last* bit is a `0`. Using this as a pattern, create (and draw) a recognizer of bitstrings whose *third-to-last* bit is a `0`."
   ]
  },
  {
   "cell_type": "code",
   "execution_count": null,
   "metadata": {
    "id": "ggdM5n0LTO8a"
   },
   "outputs": [],
   "source": [
    "#@title Hint{display-mode: \"form\"}\n",
    "display(Markdown('''\n",
    "This machine needs eight states --- four accept states plus four reject (non-accept) states.\n",
    "'''))"
   ]
  },
  {
   "cell_type": "markdown",
   "metadata": {
    "id": "ZjtuNLDrTXIQ"
   },
   "source": [
    "### Exercise 9.13.4\n"
   ]
  },
  {
   "cell_type": "markdown",
   "metadata": {
    "id": "ed-St7HHTXcd"
   },
   "source": [
    "This three-production grammar\n"
   ]
  },
  {
   "cell_type": "markdown",
   "metadata": {
    "id": "x3VqMLn3TYQq"
   },
   "source": [
    "`S` $\\rightarrow$ `A1`\n",
    "\n",
    "`A` $\\rightarrow$ `A0`\n",
    "\n",
    "`A` $\\rightarrow \\lambda$\n"
   ]
  },
  {
   "cell_type": "markdown",
   "metadata": {
    "id": "3jqd0chMTagR"
   },
   "source": [
    "generates the simple language consisting of any number of `0`s (including zero `0`s) followed by a single `1`. Build a state machine to model it.\n"
   ]
  },
  {
   "cell_type": "code",
   "execution_count": null,
   "metadata": {
    "id": "k4ymxi9CTdNC"
   },
   "outputs": [],
   "source": [
    "#@title Hint{display-mode: \"form\"}\n",
    "display(Markdown('''\n",
    "Your machine should have exactly three states.\n",
    "'''))"
   ]
  },
  {
   "cell_type": "markdown",
   "metadata": {
    "id": "4yWDkiAQTuWZ"
   },
   "source": [
    "### Exercise 9.13.5\n"
   ]
  },
  {
   "cell_type": "markdown",
   "metadata": {
    "id": "vwlD7B6QTutO"
   },
   "source": [
    "The machine in Figure 9.25 recognizes which language?\n"
   ]
  },
  {
   "cell_type": "code",
   "execution_count": null,
   "metadata": {
    "id": "f6-HtZAVTvi_"
   },
   "outputs": [],
   "source": [
    "#@title Hint{display-mode: \"form\"}\n",
    "display(Markdown('''\n",
    "It's a very small language.\n",
    "'''))"
   ]
  },
  {
   "cell_type": "markdown",
   "metadata": {
    "id": "wLFRIdgqT9zT"
   },
   "source": [
    "## <font color=red>9.14 Tiny Computer</font>"
   ]
  },
  {
   "cell_type": "markdown",
   "metadata": {
    "id": "YQ7aDiNdT-Wx"
   },
   "source": [
    "### Exercise 9.14.1\n"
   ]
  },
  {
   "cell_type": "markdown",
   "metadata": {
    "id": "9rJ0YxRCT_Yi"
   },
   "source": [
    "Find another example of a small computer, one with fewer than 10 states.\n"
   ]
  },
  {
   "cell_type": "code",
   "execution_count": null,
   "metadata": {
    "id": "t0rRtTcXUAyp"
   },
   "outputs": [],
   "source": [
    "#@title Hint{display-mode: \"form\"}\n",
    "display(Markdown('''\n",
    "There are approximately five billion out there to find.\n",
    "'''))"
   ]
  },
  {
   "cell_type": "markdown",
   "metadata": {
    "id": "R4N9ln92UEYn"
   },
   "source": [
    "## <font color=red>9.15 Back and Forth</font>\n"
   ]
  },
  {
   "cell_type": "markdown",
   "metadata": {
    "id": "2_cM5iS2UFgr"
   },
   "source": [
    "### Exercise 9.15.1\n"
   ]
  },
  {
   "cell_type": "markdown",
   "metadata": {
    "id": "iSwfvmwsUGWz"
   },
   "source": [
    "Let `N` = `{S, A, B}`, `T` = `{0, 1}`, and `S` = `S`.\n"
   ]
  },
  {
   "cell_type": "markdown",
   "metadata": {
    "id": "KYj6WE2SUHNT"
   },
   "source": [
    "Find the language generated by the `(N, T, S, P)` grammar when the set `P` of productions is each of the following:\n"
   ]
  },
  {
   "cell_type": "markdown",
   "metadata": {
    "id": "sLqap0j8UId_"
   },
   "source": [
    "First\n"
   ]
  },
  {
   "cell_type": "markdown",
   "metadata": {
    "id": "msJLa49DUJoh"
   },
   "source": [
    "`S` $\\rightarrow$ `AB`\n",
    "\n",
    "`A` $\\rightarrow$ `01`\n",
    "\n",
    "`B` $\\rightarrow$ `11`\n"
   ]
  },
  {
   "cell_type": "markdown",
   "metadata": {
    "id": "V_uL_WBlULP2"
   },
   "source": [
    "Second"
   ]
  },
  {
   "cell_type": "markdown",
   "metadata": {
    "id": "58-XVmu3UMNX"
   },
   "source": [
    "`S` $\\rightarrow$ `AB`\n",
    "\n",
    "`S` $\\rightarrow$ `AA`\n",
    "\n",
    "`A` $\\rightarrow$ `0B`\n",
    "\n",
    "`A` $\\rightarrow$ `01`\n",
    "\n",
    "`B` $\\rightarrow$ `1`\n"
   ]
  },
  {
   "cell_type": "markdown",
   "metadata": {
    "id": "SV9TldxrUOoQ"
   },
   "source": [
    "Third\n"
   ]
  },
  {
   "cell_type": "markdown",
   "metadata": {
    "id": "pz4GYSjfUQSC"
   },
   "source": [
    "`S` $\\rightarrow$ `AA`\n",
    "\n",
    "`S` $\\rightarrow$ `B`\n",
    "\n",
    "`A` $\\rightarrow$ `00A`\n",
    "\n",
    "`A` $\\rightarrow$ `00`\n",
    "\n",
    "`B` $\\rightarrow$ `1B`\n",
    "\n",
    "`B` $\\rightarrow$ `1`\n"
   ]
  },
  {
   "cell_type": "markdown",
   "metadata": {
    "id": "X4LHNfRnUXOw"
   },
   "source": [
    "Fourth\n"
   ]
  },
  {
   "cell_type": "markdown",
   "metadata": {
    "id": "kP8zrxwJUZgo"
   },
   "source": [
    "`S` $\\rightarrow$ `AB`\n",
    "\n",
    "`A` $\\rightarrow$ `0A1`\n",
    "\n",
    "`B` $\\rightarrow$ `1B0`\n",
    "\n",
    "`A` $\\rightarrow \\lambda$\n",
    "\n",
    "`B` $\\rightarrow \\lambda$\n"
   ]
  },
  {
   "cell_type": "code",
   "execution_count": null,
   "metadata": {
    "id": "d16rRzz-Ubo1"
   },
   "outputs": [],
   "source": [
    "#@title Hint{display-mode: \"form\"}\n",
    "display(Markdown('''\n",
    "If just staring at these fails to reveal the answers, use code from Exercise 9.7.1\n",
    "that you've already seen to implement these grammars, and see how many strings they will generate.\n",
    "'''))\n"
   ]
  },
  {
   "cell_type": "markdown",
   "metadata": {
    "id": "WTbkg8GgWjsh"
   },
   "source": [
    "### Exercise 9.15.2\n"
   ]
  },
  {
   "cell_type": "markdown",
   "metadata": {
    "id": "-hdLs0RDWm-T"
   },
   "source": [
    "Construct PSGs to generate each of the following languages:\n"
   ]
  },
  {
   "cell_type": "markdown",
   "metadata": {
    "id": "CWGJ-0LGWnsW"
   },
   "source": [
    "First\n"
   ]
  },
  {
   "cell_type": "markdown",
   "metadata": {
    "id": "1zxnNodNWoYp"
   },
   "source": [
    "$\\{\\mathtt{0}^{2n}\\ |\\ n \\ge 0\\}$.\n"
   ]
  },
  {
   "cell_type": "markdown",
   "metadata": {
    "id": "uhFN6pooWp3O"
   },
   "source": [
    "Second\n"
   ]
  },
  {
   "cell_type": "markdown",
   "metadata": {
    "id": "P_d9lxz6Wqp1"
   },
   "source": [
    "$\\{\\mathtt{0}^{n}\\mathtt{1}^{2n}\\ |\\ n \\ge 0\\}$.\n"
   ]
  },
  {
   "cell_type": "markdown",
   "metadata": {
    "id": "G2XRDO4RWsGr"
   },
   "source": [
    "Third\n"
   ]
  },
  {
   "cell_type": "markdown",
   "metadata": {
    "id": "fpwe67ZVWs46"
   },
   "source": [
    "$\\{\\mathtt{0}^{n}\\mathtt{1}^{m}\\mathtt{0}^{n}\\ |\\ m \\ge 0,\\ n \\ge 0\\}$.\n"
   ]
  },
  {
   "cell_type": "code",
   "execution_count": null,
   "metadata": {
    "id": "lPwU0bXYWvfY"
   },
   "outputs": [],
   "source": [
    "#@title Hint{display-mode: \"form\"}\n",
    "display(Markdown('''\n",
    "First\n",
    "\n",
    "You can do this with two productions (with one of them being a recursive\n",
    "production, and the other being a $\\lambda$ production), but it might\n",
    "be easier to try it with three productions.\n",
    "\n",
    "Second\n",
    "\n",
    "For this one, only two productions are needed.\n",
    "\n",
    "Third\n",
    "\n",
    "Only four productions are needed for this one.\n",
    "'''))\n"
   ]
  },
  {
   "cell_type": "markdown",
   "metadata": {
    "id": "Vof5zAVaW2DK"
   },
   "source": [
    "## <font color=red>9.16 Taxonomy</font>\n"
   ]
  },
  {
   "cell_type": "markdown",
   "metadata": {
    "id": "vE6PrevHW39e"
   },
   "source": [
    "### Exercise 9.16.1\n"
   ]
  },
  {
   "cell_type": "markdown",
   "metadata": {
    "id": "8z6-zGtNW4sO"
   },
   "source": [
    "Find an example of each of the four types of grammars.\n"
   ]
  },
  {
   "cell_type": "code",
   "execution_count": null,
   "metadata": {
    "id": "lLZhrGkcW5dP"
   },
   "outputs": [],
   "source": [
    "#@title Hint{display-mode: \"form\"}\n",
    "display(Markdown('''\n",
    "Look at the examples in this chapter, or online for lots of others.\n",
    "'''))\n"
   ]
  },
  {
   "cell_type": "markdown",
   "metadata": {
    "id": "wjtS3tgOW-Ts"
   },
   "source": [
    "## <font color=red>9.17 Conclusion</font>\n"
   ]
  },
  {
   "cell_type": "markdown",
   "metadata": {
    "id": "Ia7dHUdIW-kn"
   },
   "source": [
    "No exercises.\n"
   ]
  }
 ],
 "metadata": {
  "colab": {
   "authorship_tag": "ABX9TyN3uDf4MdpFZOArigspijWO",
   "collapsed_sections": [],
   "name": "chapter-9-languages-and-grammars-exercises.ipynb",
   "private_outputs": true,
   "provenance": [],
   "toc_visible": true
  },
  "kernelspec": {
   "display_name": "Python 3",
   "language": "python",
   "name": "python3"
  },
  "language_info": {
   "codemirror_mode": {
    "name": "ipython",
    "version": 3
   },
   "file_extension": ".py",
   "mimetype": "text/x-python",
   "name": "python",
   "nbconvert_exporter": "python",
   "pygments_lexer": "ipython3",
   "version": "3.9.0"
  }
 },
 "nbformat": 4,
 "nbformat_minor": 1
}
