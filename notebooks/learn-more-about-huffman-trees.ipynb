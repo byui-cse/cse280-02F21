{
 "cells": [
  {
   "cell_type": "markdown",
   "metadata": {
    "id": "RFn_SuYmhHod"
   },
   "source": [
    "# <font color=blue>Learn More About Huffman Trees</font>\n",
    "## <font color=blue>Teach One Another</font>\n"
   ]
  },
  {
   "cell_type": "markdown",
   "metadata": {
    "id": "gkeGJc_Ywu-U"
   },
   "source": [
    "## <font color=red>**TODO** Study a Simple Huffman Tree Representation</font>\n"
   ]
  },
  {
   "cell_type": "markdown",
   "metadata": {
    "id": "I4GftOT7w1zl"
   },
   "source": [
    "In a followup to Question 3 on the reading quiz, use the tree and the Python code given below to decode the following message:\n"
   ]
  },
  {
   "cell_type": "markdown",
   "metadata": {
    "id": "k53_1f8_w3GC"
   },
   "source": [
    "```00010010000111010111011011010111100110000010111101100011101011110```\n"
   ]
  },
  {
   "cell_type": "markdown",
   "metadata": {
    "id": "pViZARfOw4Cg"
   },
   "source": [
    "Also, decode the longer message:\n"
   ]
  },
  {
   "cell_type": "markdown",
   "metadata": {
    "id": "jHtqQIc0w7kC"
   },
   "source": [
    "```0001001000111001110101110110110101111001100000101111011000111010111100111```\n"
   ]
  },
  {
   "cell_type": "markdown",
   "metadata": {
    "id": "KXx1EyJsw8jU"
   },
   "source": [
    "and explain the reason for the (perhaps) surprising result!\n"
   ]
  },
  {
   "cell_type": "code",
   "execution_count": null,
   "metadata": {
    "id": "C6w7870Iw98k"
   },
   "outputs": [],
   "source": [
    "tree = [[['n', 't'], [['i', 'o'], [' ', '']]], ['e', ['h', 'r']]]"
   ]
  },
  {
   "cell_type": "code",
   "execution_count": null,
   "metadata": {
    "id": "kFn4FfBvxCUv"
   },
   "outputs": [],
   "source": [
    "def is_leaf(node):\n",
    "  return isinstance(node, str)\n",
    "\n",
    "def get_left(node):\n",
    "  return node[0] if isinstance(node, list) else None\n",
    "\n",
    "def get_right(node):\n",
    "  return node[1] if isinstance(node, list) else None\n",
    "\n",
    "def decode(encoded, tree):\n",
    "  (leaf, encoded) = find_leaf(encoded, tree)\n",
    "  message = leaf\n",
    "  while len(encoded):\n",
    "    (leaf, encoded) = find_leaf(encoded, tree)\n",
    "    message += leaf\n",
    "  return message\n",
    "\n",
    "def find_leaf(encoded, tree):\n",
    "  if is_leaf(tree):\n",
    "    return [tree, encoded]\n",
    "  elif len(encoded):\n",
    "    first_char = encoded[0]\n",
    "    rest_of_encoded = encoded[1:]\n",
    "    return find_leaf(rest_of_encoded, get_left(tree)) \\\n",
    "           if first_char == '0' else \\\n",
    "           find_leaf(rest_of_encoded, get_right(tree)) \\\n",
    "           if first_char == '1' else None\n",
    "  else:\n",
    "    return ['', encoded]"
   ]
  },
  {
   "cell_type": "code",
   "execution_count": null,
   "metadata": {
    "id": "x_gpWfiwxFo5"
   },
   "outputs": [],
   "source": [
    "print(decode('00010010000111010111011011010111100110000010111101100011101011110', tree))"
   ]
  },
  {
   "cell_type": "code",
   "execution_count": null,
   "metadata": {
    "id": "ExaOvc2LxKJ6"
   },
   "outputs": [],
   "source": [
    "print(decode('0001001000111001110101110110110101111001100000101111011000111010111100111', tree))"
   ]
  },
  {
   "cell_type": "markdown",
   "metadata": {
    "id": "CrkSjWgzxT0_"
   },
   "source": [
    "## <font color=red>Step It Up</font>\n"
   ]
  },
  {
   "cell_type": "markdown",
   "metadata": {
    "id": "WZ8_bwA9xU6P"
   },
   "source": [
    "Recall the code from [Prepare for Huffman Trees](https://colab.research.google.com/github/byui-cse/cse280-02F21/blob/main/prepare-for-huffman-trees.ipynb).\n"
   ]
  },
  {
   "cell_type": "markdown",
   "metadata": {
    "id": "ZSV-khg-xWKv"
   },
   "source": [
    "Here's a better version that uses Python's object-orientedness in the form of the **anytree**, **collections**, and **queue** modules:\n"
   ]
  },
  {
   "cell_type": "code",
   "execution_count": null,
   "metadata": {
    "id": "t_phnvtSxXCR"
   },
   "outputs": [],
   "source": [
    "!pip install anytree"
   ]
  },
  {
   "cell_type": "code",
   "execution_count": null,
   "metadata": {
    "id": "mszOO9irxb3p"
   },
   "outputs": [],
   "source": [
    "from anytree import Node, RenderTree, PreOrderIter, Walker\n",
    "from anytree.util import leftsibling, rightsibling\n",
    "from anytree.exporter.dotexporter import UniqueDotExporter\n",
    "from collections import Counter\n",
    "from queue import PriorityQueue\n",
    "from math import ceil, floor, log\n",
    "\n",
    "class HuffmanTreeNode(Node):\n",
    "  def __lt__(self, other):\n",
    "    return self.count < other.count\n",
    "\n",
    "def build_initial_queue(message):\n",
    "  count_dict = Counter(message)\n",
    "  print(len(count_dict.keys()))\n",
    "  q = PriorityQueue()\n",
    "  for key, val in count_dict.items():\n",
    "    q.put(HuffmanTreeNode(key, count = val))\n",
    "  return q\n",
    "\n",
    "def new_internal_node(left, right):\n",
    "  return HuffmanTreeNode('', children = [left, right], count = left.count + right.count)\n",
    "\n",
    "def make_huffman_tree(Q):\n",
    "  while Q.qsize() > 1:\n",
    "    left = Q.get()\n",
    "    right = Q.get()\n",
    "    Q.put(new_internal_node(left, right))\n",
    "\n",
    "  return Q.get()\n",
    "\n",
    "def get_codes(root):\n",
    "  leaves = [node for node in PreOrderIter(root, filter_=lambda n: not n.children)]\n",
    "  codes = {}\n",
    "  w = Walker()\n",
    "  for leaf in leaves:\n",
    "    path = w.walk(leaf, root)[0]\n",
    "    code = ''\n",
    "    for node in path:\n",
    "      code = ('1' if leftsibling(node) else '0') + code\n",
    "    codes[leaf.name] = tuple([code, leaf.count])\n",
    "  return codes\n",
    "\n",
    "def calc_compression_ratio(f, v):\n",
    "  return 100 * (f - v) / f\n",
    "\n",
    "def get_encoded_size(codes):\n",
    "  return sum([len(code) * count for _, (code, count) in codes.items()])\n",
    "\n",
    "def get_fixed_size(codes):\n",
    "  num_keys = len(codes)\n",
    "  num_bits_per_key = ceil(log(num_keys, 2))\n",
    "  return sum([num_bits_per_key * count for _, (code, count) in codes.items()])\n",
    "\n",
    "def report(codes):\n",
    "  cr = calc_compression_ratio(get_fixed_size(codes), get_encoded_size(codes))\n",
    "  print(f'\\nCompression ratio: {cr:.2f}%')"
   ]
  },
  {
   "cell_type": "markdown",
   "metadata": {
    "id": "rKTHjbI_xhvz"
   },
   "source": [
    "Recall Tuesday's task about compressing a larger message?\n"
   ]
  },
  {
   "cell_type": "markdown",
   "metadata": {
    "id": "Pti76ZUlxkkg"
   },
   "source": [
    "What is the highest compression ratio achievable using Huffman encoding to compress the entire [Standard Works](https://byui-cse.github.io/cse280-course/scriptures.txt)?!"
   ]
  },
  {
   "cell_type": "code",
   "execution_count": null,
   "metadata": {
    "id": "uqd6tmXwxpjV"
   },
   "outputs": [],
   "source": [
    "!curl -s -O https://byui-cse.github.io/cse280-course/scriptures.txt"
   ]
  },
  {
   "cell_type": "code",
   "execution_count": null,
   "metadata": {
    "id": "g984KY8G44Y3"
   },
   "outputs": [],
   "source": [
    "!curl -s -O https://byui-cse.github.io/cse280-course/scriptures.csv"
   ]
  },
  {
   "cell_type": "code",
   "execution_count": null,
   "metadata": {
    "id": "ate6_nbq4-xl"
   },
   "outputs": [],
   "source": [
    "!head -20 scriptures.csv"
   ]
  },
  {
   "cell_type": "code",
   "execution_count": null,
   "metadata": {
    "id": "40ASc4Y8xsUK"
   },
   "outputs": [],
   "source": [
    "def try_The_Word():\n",
    "  global root\n",
    "  with open('scriptures.txt') as f:\n",
    "    message = f.read()\n",
    "\n",
    "    root = make_huffman_tree(build_initial_queue(message))\n",
    "    report(get_codes(root))"
   ]
  },
  {
   "cell_type": "code",
   "execution_count": null,
   "metadata": {
    "id": "viISwa_PxvVf"
   },
   "outputs": [],
   "source": [
    "try_The_Word()"
   ]
  },
  {
   "cell_type": "code",
   "execution_count": null,
   "metadata": {
    "id": "jrqQiJuVyAQG"
   },
   "outputs": [],
   "source": [
    "# And if you love things visual...\n",
    "print(RenderTree(root))"
   ]
  },
  {
   "cell_type": "code",
   "execution_count": null,
   "metadata": {
    "id": "d6sx_Ya3yRkv"
   },
   "outputs": [],
   "source": [
    "# Dot is a beautiful thing...\n",
    "UniqueDotExporter(root).to_picture('scriptures_encoded.png')"
   ]
  },
  {
   "cell_type": "markdown",
   "metadata": {
    "id": "u2TsGbwSyWiy"
   },
   "source": [
    "## <font color=red>**TODO** Compare to Standard</font>"
   ]
  },
  {
   "cell_type": "markdown",
   "metadata": {
    "id": "4L2HnpPUyYdc"
   },
   "source": [
    "Compare the compression ratio you just saw to the compression ratio using another compression method:\n"
   ]
  },
  {
   "cell_type": "code",
   "execution_count": null,
   "metadata": {
    "id": "1pZJJjRdyak7"
   },
   "outputs": [],
   "source": [
    "!cp scriptures.txt scriptures.tmp\n",
    "!gzip scriptures.tmp\n",
    "!wc -c scriptures.txt\n",
    "!wc -c scriptures.tmp.gz"
   ]
  },
  {
   "cell_type": "markdown",
   "metadata": {
    "id": "yzznjTDDzSp6"
   },
   "source": [
    "Using the reported sizes in bytes of these two files, what is the compression ratio?\n"
   ]
  },
  {
   "cell_type": "markdown",
   "metadata": {
    "id": "oRSznpvizgoQ"
   },
   "source": [
    "What if we were to use PREcalculated frequency counts?"
   ]
  },
  {
   "cell_type": "markdown",
   "metadata": {
    "id": "JBXeBFjizh-A"
   },
   "source": [
    "Typically, no punctuation or other special characters are counted, only the 26 uppercase letters, so unless you manipulate the text or add counts for the other characters, these three sources are only FYI:"
   ]
  },
  {
   "cell_type": "markdown",
   "metadata": {
    "id": "5gvHxZDfzkR1"
   },
   "source": [
    "[Too small a sample](http://pi.math.cornell.edu/~mec/2003-2004/cryptography/subs/frequencies.html)"
   ]
  },
  {
   "cell_type": "markdown",
   "metadata": {
    "id": "6OZj2TIFzl4J"
   },
   "source": [
    "[A better sample](https://www.sttmedia.com/characterfrequency-english)"
   ]
  },
  {
   "cell_type": "markdown",
   "metadata": {
    "id": "bSkOq-TnznZK"
   },
   "source": [
    "[From analyzing the Concise Oxford Dictionary](https://www3.nd.edu/~busiforc/handouts/cryptography/letterfrequencies.html)"
   ]
  },
  {
   "cell_type": "markdown",
   "metadata": {
    "id": "sucOblEEzpCR"
   },
   "source": [
    "## <font color=red>**TODO** Go Above and Beyond --- Study a Little History, Read, and Draw</font>\n"
   ]
  },
  {
   "cell_type": "markdown",
   "metadata": {
    "id": "mD9GS3WVzqol"
   },
   "source": [
    "The Huffman Tree Algorithm is a thing of beauty for three reasons:\n"
   ]
  },
  {
   "cell_type": "markdown",
   "metadata": {
    "id": "l48aP0Mazrmo"
   },
   "source": [
    "1. It is easy to understand and implement --- a classic greedy algorithm.\n",
    "2. It is provably optimal among methods encoding symbols separately.\n",
    "3. David Huffman was inspired!\n"
   ]
  },
  {
   "cell_type": "markdown",
   "metadata": {
    "id": "c9rBnIDgzsd-"
   },
   "source": [
    "From the [History section of Wikipedia's page on Huffman coding](https://en.wikipedia.org/wiki/Huffman_coding#History):\n"
   ]
  },
  {
   "cell_type": "markdown",
   "metadata": {
    "id": "5i4wuzNYztXH"
   },
   "source": [
    "> In 1951, David A. Huffman and his MIT information theory classmates were given the choice of a term paper or a final exam. The professor, Robert M. Fano, assigned a term paper on the problem of finding the most efficient binary code. Huffman, unable to prove any codes were the most efficient, was about to give up and start studying for the final when he hit upon the idea of using a frequency-sorted binary tree and quickly proved this method the most efficient.\n"
   ]
  },
  {
   "cell_type": "markdown",
   "metadata": {
    "id": "uOrJ74fbzus6"
   },
   "source": [
    "> In doing so, Huffman outdid Fano, who had worked with information theory inventor Claude Shannon to develop a similar code. Building the tree from the bottom up guaranteed optimality, unlike top-down Shannon-Fano coding.\n"
   ]
  },
  {
   "cell_type": "markdown",
   "metadata": {
    "id": "xcDBf4Apzvxd"
   },
   "source": [
    "Read [A Method for the Construction of Minimum-Redundancy Codes](http://compression.ru/download/articles/huff/huffman_1952_minimum-redundancy-codes.pdf) (David Huffman's original paper) and by drawing pictures, make the connection between trees and rivers vivid in your mind!\n"
   ]
  }
 ],
 "metadata": {
  "colab": {
   "authorship_tag": "ABX9TyO4R/umP06qAjPfU2+W34ly",
   "collapsed_sections": [
    "u2TsGbwSyWiy",
    "sucOblEEzpCR"
   ],
   "name": "learn-more-about-huffman-trees.ipynb",
   "private_outputs": true,
   "provenance": []
  },
  "kernelspec": {
   "display_name": "Python 3",
   "language": "python",
   "name": "python3"
  },
  "language_info": {
   "codemirror_mode": {
    "name": "ipython",
    "version": 3
   },
   "file_extension": ".py",
   "mimetype": "text/x-python",
   "name": "python",
   "nbconvert_exporter": "python",
   "pygments_lexer": "ipython3",
   "version": "3.9.0"
  }
 },
 "nbformat": 4,
 "nbformat_minor": 1
}
