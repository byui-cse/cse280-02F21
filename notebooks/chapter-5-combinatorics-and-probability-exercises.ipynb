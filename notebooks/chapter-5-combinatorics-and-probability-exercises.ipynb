{
 "cells": [
  {
   "cell_type": "markdown",
   "source": [
    "# <font color=blue>Chapter 5 Combinatorics and Probability Exercises</font>\n",
    "## <font color=blue>Prepare</font>\n"
   ],
   "metadata": {
    "id": "Wnybwmomj8q2"
   }
  },
  {
   "cell_type": "markdown",
   "source": [
    "## <font color=red>5.1 Frequently Subjective</font>\n"
   ],
   "metadata": {
    "id": "PF1ZB6XskMm9"
   }
  },
  {
   "cell_type": "markdown",
   "source": [
    "No exercises.\n"
   ],
   "metadata": {
    "id": "lzvdqejnkObd"
   }
  },
  {
   "cell_type": "markdown",
   "source": [
    "## <font color=red>5.2 Elementary and Basic</font>\n"
   ],
   "metadata": {
    "id": "22sE44Z0kPKO"
   }
  },
  {
   "cell_type": "markdown",
   "source": [
    "### Exercise 5.2.1\n"
   ],
   "metadata": {
    "id": "zRSWtA5skP6O"
   }
  },
  {
   "cell_type": "markdown",
   "source": [
    "Tessie and her friends have between them 15 board games, 12 card games, and one word game. If their game nights feature the word game plus one other game --- either a board game or a card game --- how many different game nights can they have?\n"
   ],
   "metadata": {
    "id": "pDRAcd2pkQ0y"
   }
  },
  {
   "cell_type": "code",
   "execution_count": null,
   "source": [
    "#@title Hint {display-mode: \"form\"}\r\n",
    "print('''\r\n",
    "Avoid overthinking this exercise, it is very straightforward.\r\n",
    "The either/or is a very obvious clue.\r\n",
    "''')\r\n"
   ],
   "outputs": [],
   "metadata": {
    "id": "6zCcyTuKkSBD"
   }
  },
  {
   "cell_type": "code",
   "execution_count": null,
   "source": [
    "#@title Answer {display-mode: \"form\"}\r\n",
    "print('15 + 12 = 27.')"
   ],
   "outputs": [],
   "metadata": {
    "id": "P4RVkNUEkcHu"
   }
  },
  {
   "cell_type": "markdown",
   "source": [
    "### Exercise 5.2.2\n"
   ],
   "metadata": {
    "id": "Gg09XzlLkhBf"
   }
  },
  {
   "cell_type": "markdown",
   "source": [
    "Which basic counting principle applies to Exercise 5.2.1?\n"
   ],
   "metadata": {
    "id": "OXvAZk5okh5t"
   }
  },
  {
   "cell_type": "code",
   "execution_count": null,
   "source": [
    "#@title Hint {display-mode: \"form\"}\r\n",
    "from IPython.display import Markdown\r\n",
    "display(Markdown('Rhymes with &lsquo;some&rsquo;!'))\r\n"
   ],
   "outputs": [],
   "metadata": {
    "id": "hcKjioAVkk-m"
   }
  },
  {
   "cell_type": "code",
   "execution_count": null,
   "source": [
    "#@title Answer {display-mode: \"form\"}\r\n",
    "print('The Sum Rule (or Addition Principle).')\r\n"
   ],
   "outputs": [],
   "metadata": {
    "id": "uNyKKA_TkoL5"
   }
  },
  {
   "cell_type": "markdown",
   "source": [
    "### Exercise 5.2.3\n"
   ],
   "metadata": {
    "id": "sYMJ6go4ks9w"
   }
  },
  {
   "cell_type": "markdown",
   "source": [
    "Now Tessie and her friends have acquired two more word games, and have decided to vary the snacks they munch on while playing games. If a game-night configuration consists of a word game and another game and a snack, and they have 7 different types of snacks, how many different game-night configurations are possible now?\n"
   ],
   "metadata": {
    "id": "k9J-Q6_qkt83"
   }
  },
  {
   "cell_type": "code",
   "execution_count": null,
   "source": [
    "#@title Hint {display-mode: \"form\"}\r\n",
    "print('This is only slightly harder.')\r\n"
   ],
   "outputs": [],
   "metadata": {
    "id": "7RDsfJ8skvC_"
   }
  },
  {
   "cell_type": "code",
   "execution_count": null,
   "source": [
    "#@title Answer {display-mode: \"form\"}\n",
    "from IPython.display import Markdown\n",
    "display(Markdown('$3 \\\\times 27 \\\\times 7 = 567$.'))\n"
   ],
   "outputs": [],
   "metadata": {
    "id": "W3ZPA6nEk0za"
   }
  },
  {
   "cell_type": "markdown",
   "source": [
    "### Exercise 5.2.4\n"
   ],
   "metadata": {
    "id": "pCpZtEfIk3zi"
   }
  },
  {
   "cell_type": "markdown",
   "source": [
    "Which basic counting principle applies to Exercise 5.2.3?\n"
   ],
   "metadata": {
    "id": "GNMtBWT9k411"
   }
  },
  {
   "cell_type": "code",
   "execution_count": null,
   "source": [
    "#@title Hint {display-mode: \"form\"}\n",
    "print('How about the other one?!')\n"
   ],
   "outputs": [],
   "metadata": {
    "id": "PikA2rVKk65F"
   }
  },
  {
   "cell_type": "code",
   "execution_count": null,
   "source": [
    "#@title Answer {display-mode: \"form\"}\n",
    "print('The Product Rule (or Multiplication Principle).')\n"
   ],
   "outputs": [],
   "metadata": {
    "id": "JRqmFQMkk9QF"
   }
  },
  {
   "cell_type": "markdown",
   "source": [
    "### Exercise 5.2.5\n"
   ],
   "metadata": {
    "id": "yP7DiH1olAC3"
   }
  },
  {
   "cell_type": "markdown",
   "source": [
    "How should the Sum Rule be adjusted when the two sets being selected from are *not* disjoint --- which means the opposite of the oft-repeated &ldquo;the sets are disjoint&rdquo; --- they have a *nonempty* intersection; in other words, they have *some* members in common.\n"
   ],
   "metadata": {
    "id": "e0rFRhG3lBvJ"
   }
  },
  {
   "cell_type": "code",
   "execution_count": null,
   "source": [
    "#@title Hint {display-mode: \"form\"}\n",
    "print('Concretize two sets and draw their Venn diagram to get some insights.')\n"
   ],
   "outputs": [],
   "metadata": {
    "id": "cJKUL6zMlOOW"
   }
  },
  {
   "cell_type": "code",
   "execution_count": null,
   "source": [
    "#@title Answer {display-mode: \"form\"}\n",
    "from IPython.display import Markdown\n",
    "display(Markdown('''\n",
    "Shorter Explanation: The sum of the sizes of the two sets should be diminished\n",
    "by the size of the *intersection* of the two sets, as that size would be\n",
    "counted twice if the sets were not disjoint.\n",
    "\n",
    "Longer Explanation: To correct the overcounting that would otherwise occur, the\n",
    "number of members the two sets (say $A$ and $B$) have in common (their\n",
    "intersection) must be subtracted out from the total count of members of $A$ and\n",
    "members of $B$. In symbols: $\\\\vert A \\\\cup B\\\\vert = \\\\vert A\\\\vert + \\\\vert B\\\\vert - \\\\vert A \\\\cap B\\\\vert$.\n",
    "\n",
    "If their intersection is empty (zero members in common) the adjustment amounts\n",
    "to subtracting zero --- no change from the original rule in that case.\n",
    "'''))"
   ],
   "outputs": [],
   "metadata": {
    "id": "bqb1Wx35lQ6y"
   }
  },
  {
   "cell_type": "markdown",
   "source": [
    "### Exercise 5.2.6\n"
   ],
   "metadata": {
    "id": "dK2tIQ19lXlQ"
   }
  },
  {
   "cell_type": "markdown",
   "source": [
    "How many different functions are there from a set with 3 elements to a set with 5 elements?\n"
   ],
   "metadata": {
    "id": "jLxMQs-ylYYv"
   }
  },
  {
   "cell_type": "code",
   "execution_count": null,
   "source": [
    "#@title Hint {display-mode: \"form\"}\n",
    "from IPython.display import Markdown\n",
    "display(Markdown('It may be helpful to review the definition of a *function*.'))\n"
   ],
   "outputs": [],
   "metadata": {
    "id": "QWJqJLpPlZOL"
   }
  },
  {
   "cell_type": "code",
   "execution_count": null,
   "source": [
    "#@title Answer {display-mode: \"form\"}\n",
    "from IPython.display import Markdown\n",
    "display(Markdown('''There are 5 choices for the image of the first of 3 elements,\n",
    "5 choices for the second, and 5 for the third,\n",
    "for a total of $5^{3} = 125$.'''))\n"
   ],
   "outputs": [],
   "metadata": {
    "id": "hn6NgdzaldDN"
   }
  },
  {
   "cell_type": "markdown",
   "source": [
    "### Exercise 5.2.7\n"
   ],
   "metadata": {
    "id": "NWLbqPLflhZe"
   }
  },
  {
   "cell_type": "markdown",
   "source": [
    "How many different *one-to-one* functions are there from a set with 3 elements to a set with 5 elements?\n"
   ],
   "metadata": {
    "id": "57aj3QYdlic-"
   }
  },
  {
   "cell_type": "code",
   "execution_count": null,
   "source": [
    "#@title Hint {display-mode: \"form\"}\n",
    "from IPython.display import Markdown\n",
    "display(Markdown('It may be helpful to review the definition of a *one-to-one function* (an *injection*).'))\n"
   ],
   "outputs": [],
   "metadata": {
    "id": "uYtB8Awkljpa"
   }
  },
  {
   "cell_type": "code",
   "execution_count": null,
   "source": [
    "#@title Answer {display-mode: \"form\"}\r\n",
    "from IPython.display import Markdown\r\n",
    "display(Markdown('''\r\n",
    "In this case, the same image cannot be selected more than once.\r\n",
    "So there are 5 choices for the image of the first of 3 elements,\r\n",
    "4 choices for the second, and 3 for the third, for a total of\r\n",
    "$5 \\\\times 4 \\\\times 3 = 60$.\r\n",
    "'''))\r\n"
   ],
   "outputs": [],
   "metadata": {
    "id": "WtoPKgk7lnbc"
   }
  },
  {
   "cell_type": "markdown",
   "source": [
    "### Exercise 5.2.8\n"
   ],
   "metadata": {
    "id": "MyeHW_XWlrX3"
   }
  },
  {
   "cell_type": "markdown",
   "source": [
    "How many different *onto* functions are there from a set with 3 elements to a set with 5 elements?\n"
   ],
   "metadata": {
    "id": "bssbq1JhltzQ"
   }
  },
  {
   "cell_type": "code",
   "execution_count": null,
   "source": [
    "#@title Hint {display-mode: \"form\"}\r\n",
    "from IPython.display import Markdown\r\n",
    "display(Markdown('It may be helpful to review the definition of an *onto function* (a *surjection*).'))\r\n"
   ],
   "outputs": [],
   "metadata": {
    "id": "7Saosk0RlvPV"
   }
  },
  {
   "cell_type": "code",
   "execution_count": null,
   "source": [
    "#@title Answer {display-mode: \"form\"}\r\n",
    "from IPython.display import Markdown\r\n",
    "display(Markdown('Zero. It is impossible to have a *surjection* from a smaller set to a larger set.'))\r\n"
   ],
   "outputs": [],
   "metadata": {
    "id": "uF_GCfrflx9j"
   }
  },
  {
   "cell_type": "markdown",
   "source": [
    "## <font color=red>5.3 Perms and Combs</font>\n"
   ],
   "metadata": {
    "id": "FLIE3FYzl0pe"
   }
  },
  {
   "cell_type": "markdown",
   "source": [
    "### Exercise 5.3.1\n"
   ],
   "metadata": {
    "id": "Kko5btgWl1s-"
   }
  },
  {
   "cell_type": "markdown",
   "source": [
    "Concretize the equality\n"
   ],
   "metadata": {
    "id": "VWlKtEfYl2xL"
   }
  },
  {
   "cell_type": "markdown",
   "source": [
    "$n(n - 1)(n - 2) \\cdots (n - (r - 1)) = n!/(n - r)!$\n"
   ],
   "metadata": {
    "id": "jYprKxKel4C6"
   }
  },
  {
   "cell_type": "markdown",
   "source": [
    "and convince yourself that it really is an equality.\n"
   ],
   "metadata": {
    "id": "4newJ1xml5J5"
   }
  },
  {
   "cell_type": "code",
   "execution_count": null,
   "source": [
    "#@title Hint {display-mode: \"form\"}\n",
    "from IPython.display import Markdown\n",
    "display(Markdown('''\n",
    "Concretize by plugging in actual numbers for $n$ and $r$ --- any two positive integer values with $n \\\\ge r$ (e.g., 8 and 5) will do.\n",
    "'''))\n"
   ],
   "outputs": [],
   "metadata": {
    "id": "ku88NQYIl6TE"
   }
  },
  {
   "cell_type": "code",
   "execution_count": null,
   "source": [
    "#@title Answer {display-mode: \"form\"}\n",
    "from IPython.display import Markdown\n",
    "display(Markdown('''\n",
    "$P(8, 5) = 8 \\\\cdot 7 \\\\cdot 6 \\\\cdot 5 \\\\cdot 4 = 6720 = 8!/3! = 8 \\\\cdot 7 \\\\cdot 6 \\\\cdot 5 \\\\cdot 4 \\\\cdot 3 \\\\cdot 2 \\\\cdot 1 / 3 \\\\cdot 2 \\\\cdot 1$.\n",
    "\n",
    "Are you convinced?\n",
    "'''))\n"
   ],
   "outputs": [],
   "metadata": {
    "id": "n3x6FDecmC6w"
   }
  },
  {
   "cell_type": "markdown",
   "source": [
    "### Exercise 5.3.2\n"
   ],
   "metadata": {
    "id": "BYQzMjVfmFkF"
   }
  },
  {
   "cell_type": "markdown",
   "source": [
    "The English language predominantly uses the Subject-Verb-Object word type ordering; for example, &ldquo;Gary saw Alice&rdquo;. Other languages might use Subject-Object-Verb or Object-Verb-Subject, etc. How many different word orderings are possible, *not* depending on specific words, just their type?\n"
   ],
   "metadata": {
    "id": "K8pDfUi6mGc_"
   }
  },
  {
   "cell_type": "code",
   "execution_count": null,
   "source": [
    "#@title Hint {display-mode: \"form\"}\r\n",
    "print('This is a very straightforward exercise in permutations.')\r\n"
   ],
   "outputs": [],
   "metadata": {
    "id": "9_7iXpYWmH_d"
   }
  },
  {
   "cell_type": "code",
   "execution_count": null,
   "source": [
    "#@title Answer {display-mode: \"form\"}\r\n",
    "from IPython.display import Markdown\r\n",
    "display(Markdown('$3 \\\\cdot 2 \\\\cdot 1 = 3! = 6$ word-type orderings are possible.'))\r\n"
   ],
   "outputs": [],
   "metadata": {
    "id": "Uq3f_31TmJ7j"
   }
  },
  {
   "cell_type": "markdown",
   "source": [
    "### Exercise 5.3.3\n"
   ],
   "metadata": {
    "id": "O0EBDyLtmP82"
   }
  },
  {
   "cell_type": "markdown",
   "source": [
    "Recalling the example of how many are the permutations of the letters ```ABCDELMNO```, investigate and explain why $0!$ is defined to be equal to $1$.\n"
   ],
   "metadata": {
    "id": "N2jHS2HgmRI-"
   }
  },
  {
   "cell_type": "code",
   "execution_count": null,
   "source": [
    "#@title Hint {display-mode: \"form\"}\r\n",
    "print('How many ways can you arrange zero objects? Really?!')\r\n"
   ],
   "outputs": [],
   "metadata": {
    "id": "4uOsksDYmTCD"
   }
  },
  {
   "cell_type": "code",
   "execution_count": null,
   "source": [
    "#@title Answer {display-mode: \"form\"}\n",
    "from IPython.display import Markdown\n",
    "display(Markdown('''\n",
    "Having $0! = 1$ not only makes the formula give the right answer, it makes sense that there is only one arrangement (permutation) of an empty set of objects --- namely, the empty permutation! This is similar to why $x^{0} = 1$, or why the [Empty Product](https://en.wikipedia.org/wiki/Empty_product) is $1$.\n",
    "'''))\n"
   ],
   "outputs": [],
   "metadata": {
    "id": "7nIEkiP8mb5S"
   }
  },
  {
   "cell_type": "markdown",
   "source": [
    "### Exercise 5.3.4\n"
   ],
   "metadata": {
    "id": "dcJgdo8_mmjT"
   }
  },
  {
   "cell_type": "markdown",
   "source": [
    "Of the $9!$ arrangements of the letters ```ABCDELMNO```, how many contain the string ```ELM```?\n"
   ],
   "metadata": {
    "id": "CFNfXER1mnyw"
   }
  },
  {
   "cell_type": "code",
   "execution_count": null,
   "source": [
    "#@title Hint {display-mode: \"form\"}\r\n",
    "from IPython.display import Markdown\r\n",
    "display(Markdown('''How many arrangements of ```ABCDENO``` are there?'''))\r\n"
   ],
   "outputs": [],
   "metadata": {
    "id": "OdruhPU6mo2n"
   }
  },
  {
   "cell_type": "code",
   "execution_count": null,
   "source": [
    "#@title Answer {display-mode: \"form\"}\r\n",
    "from IPython.display import Markdown\r\n",
    "display(Markdown('''\r\n",
    "Treating ```ELM``` as one indivisible &ldquo;oversized&rdquo; letter, there are only 7 letters to permute, so $7! = 5040$ is the answer.'''))\r\n"
   ],
   "outputs": [],
   "metadata": {
    "id": "93aIoynImr2h"
   }
  },
  {
   "cell_type": "markdown",
   "source": [
    "### Exercise 5.3.5\n"
   ],
   "metadata": {
    "id": "EKGHHtJMmwf9"
   }
  },
  {
   "cell_type": "markdown",
   "source": [
    "How many TLAs (arrangements of 3 alphabetic letters) are there *with repetition allowed*?\n"
   ],
   "metadata": {
    "id": "Zc9AJJqumxYN"
   }
  },
  {
   "cell_type": "code",
   "execution_count": null,
   "source": [
    "#@title Hint {display-mode: \"form\"}\r\n",
    "print('Use the Multiplication Principle with each term in the product being the same number.')\r\n"
   ],
   "outputs": [],
   "metadata": {
    "id": "8IjqwjEHmyHI"
   }
  },
  {
   "cell_type": "code",
   "execution_count": null,
   "source": [
    "#@title Answer {display-mode: \"form\"}\r\n",
    "from IPython.display import Markdown\r\n",
    "display(Markdown('''$26 \\\\times 26 \\\\times 26 = 17576.$\r\n",
    "\r\n",
    "In general, $n^{r}$ gives the number of $r$-permutations of $n$ things when *repetition is allowed*.\r\n",
    "'''))"
   ],
   "outputs": [],
   "metadata": {
    "id": "04R4aJgbm1Yz"
   }
  },
  {
   "cell_type": "markdown",
   "source": [
    "### Exercise 5.3.6\n"
   ],
   "metadata": {
    "id": "_hpeDhPNm_BV"
   }
  },
  {
   "cell_type": "markdown",
   "source": [
    "How many different sequences of initials are there for people who either have two initials (first and last) or three initials (first, middle and last)?\n"
   ],
   "metadata": {
    "id": "R0adN9_OnAdN"
   }
  },
  {
   "cell_type": "code",
   "execution_count": null,
   "source": [
    "#@title Hint {display-mode: \"form\"}\r\n",
    "print('Use the Sum Rule together with the Product Rule, or else the Product Rule by itself.')\r\n"
   ],
   "outputs": [],
   "metadata": {
    "id": "wYi1hJQLnBqm"
   }
  },
  {
   "cell_type": "code",
   "execution_count": null,
   "source": [
    "#@title Answer {display-mode: \"form\"}\r\n",
    "from IPython.display import Markdown\r\n",
    "display(Markdown('''\r\n",
    "Using either the Sum Rule and Product Rule together, or just the Product Rule:\r\n",
    "\r\n",
    "$26^{2} + 26^{3} = 18252 = 26 \\\\cdot 27 \\\\cdot 26$.\r\n",
    "'''))\r\n"
   ],
   "outputs": [],
   "metadata": {
    "id": "mkwiaX1_nF6m"
   }
  },
  {
   "cell_type": "markdown",
   "source": [
    "### Exercise 5.3.7\n"
   ],
   "metadata": {
    "id": "TuSr54_NnJch"
   }
  },
  {
   "cell_type": "markdown",
   "source": [
    "How many different sequences can be formed using *either* two *or* three letters (A-Z) followed by *either* two *or* three digits (0-9)?\n"
   ],
   "metadata": {
    "id": "Qr1V57rPnLon"
   }
  },
  {
   "cell_type": "markdown",
   "source": [
    "For example:\n",
    "* ```AB01```\n",
    "* ```ABC02```\n",
    "* ```XYZ123```\n",
    "* $\\ldots$\n"
   ],
   "metadata": {
    "id": "2M6A4qxnnM7w"
   }
  },
  {
   "cell_type": "code",
   "execution_count": null,
   "source": [
    "#@title Hint {display-mode: \"form\"}\n",
    "print('There are four terms in the sum, each term the product of two numbers.')\n"
   ],
   "outputs": [],
   "metadata": {
    "id": "d4OEkIWknPQc"
   }
  },
  {
   "cell_type": "code",
   "execution_count": null,
   "source": [
    "#@title Answer {display-mode: \"form\"}\n",
    "from IPython.display import Markdown\n",
    "display(Markdown('''\n",
    "$(26^{2} \\\\cdot 10^{2}) + (26^{3} \\\\cdot 10^{2}) + (26^{2} \\\\cdot 10^{3}) + (26^{3} \\\\cdot 10^{3}) = 20077200$.\n",
    "'''))\n"
   ],
   "outputs": [],
   "metadata": {
    "id": "-nqGvGIWnSBH"
   }
  },
  {
   "cell_type": "markdown",
   "source": [
    "### Exercise 5.3.8\n"
   ],
   "metadata": {
    "id": "gbjsinmLnTUc"
   }
  },
  {
   "cell_type": "markdown",
   "source": [
    "How many different &ldquo;words&rdquo; of the form ```ccvcv``` are there where ```c``` represents one of the 21 consonants and ```v``` represents one of the 5 vowels in the English alphabet? Assume no letter can be repeated, just count words like &ldquo;tribe&rdquo; or &ldquo;blizo&rdquo; --- a non-word but count it anyway --- but not something like &ldquo;trite&rdquo; or &ldquo;gligi&rdquo;, which have repeated letters.\n"
   ],
   "metadata": {
    "id": "60aggp3hnXqs"
   }
  },
  {
   "cell_type": "code",
   "execution_count": null,
   "source": [
    "#@title Hint {display-mode: \"form\"}\n",
    "print('Compute the permutations of vowels and consonants separately, then apply the Product Rule.')\n"
   ],
   "outputs": [],
   "metadata": {
    "id": "XBShPHORnnPq"
   }
  },
  {
   "cell_type": "code",
   "execution_count": null,
   "source": [
    "#@title Answer {display-mode: \"form\"}\r\n",
    "from IPython.display import Markdown\r\n",
    "display(Markdown('''\r\n",
    "The 2 vowels can be arranged in $P(5, 2) = 5!/(5 - 2)! = 5!/3! = 5 \\\\cdot 4 = 20$\r\n",
    "ways. The 3 consonants can be arranged in $P(21, 3) = 21!/(21 - 3)! = 21!/18! =\r\n",
    "21 \\\\cdot 20 \\\\cdot 19 = 7980$ ways, for a total of $20 \\\\cdot 7980 = 159600$\r\n",
    "different ways to arrange the 5 letters.\r\n",
    "'''))\r\n"
   ],
   "outputs": [],
   "metadata": {
    "id": "_pew3Kfbnqmz"
   }
  },
  {
   "cell_type": "markdown",
   "source": [
    "## <font color=red>5.4 Choosing</font>\n"
   ],
   "metadata": {
    "id": "4L_gzqb0nwNN"
   }
  },
  {
   "cell_type": "markdown",
   "source": [
    "### Exercise 5.4.1\n"
   ],
   "metadata": {
    "id": "EXoWFISBnxvf"
   }
  },
  {
   "cell_type": "markdown",
   "source": [
    "The recurrence relation\n",
    "$${n \\choose k} = {n - 1 \\choose k} + {n - 1 \\choose k - 1}$$\n",
    "is normally defined for nonnegative $n$ and $k$ ($0 \\le\n",
    "k \\le n$), and to implement it as a recursive function of two parameters we need\n",
    "to supply some &ldquo;escape hatch&rdquo; base cases:\n",
    "$${n \\choose k} = 1\\ \\mbox{whenever}\\ k = 0\\ \\mbox{or}\\ k = n.$$\n"
   ],
   "metadata": {
    "id": "XR3SDsLpnyhl"
   }
  },
  {
   "cell_type": "markdown",
   "source": [
    "A straightforward implementation that expects $n \\ge k \\ge 0$ falls right out of this definition:\n"
   ],
   "metadata": {
    "id": "kpN-1xEMn2Kp"
   }
  },
  {
   "cell_type": "code",
   "execution_count": null,
   "source": [
    "def nCk(n, k):\r\n",
    "  return 1 if k == 0 or k == n else \\\r\n",
    "    nCk(n - 1, k) + nCk(n - 1, k - 1)\r\n"
   ],
   "outputs": [],
   "metadata": {
    "id": "eRThakzin4Re"
   }
  },
  {
   "cell_type": "markdown",
   "source": [
    "Note that this code will fail with a ```RecursionError``` if you give it an $n$ that is smaller than $k$. In addition to fixing this problem, there are good reasons to define other boundary conditions and let the parameters of this basic combinatorial function range over all the integers: ${n \\choose k} = 0$ whenever $k < 0$ or $k > n$. Explore these reasons, and reimplement ```nCk``` to handle these other conditions.\n"
   ],
   "metadata": {
    "id": "Q2iBvERMn_1Y"
   }
  },
  {
   "cell_type": "code",
   "execution_count": null,
   "source": [
    "#@title Hint {display-mode: \"form\"}\r\n",
    "print('Start with the links in the sidenotes.')\r\n"
   ],
   "outputs": [],
   "metadata": {
    "id": "vWnwzcrwoF18"
   }
  },
  {
   "cell_type": "code",
   "execution_count": null,
   "source": [
    "#@title Answer {display-mode: \"form\"}\r\n",
    "def nCk(n, k):\r\n",
    "  return 0 if k < 0 or k > n else \\\r\n",
    "         1 if k == 0 or k == n else \\\r\n",
    "              nCk(n - 1, k) + nCk(n - 1, k - 1)"
   ],
   "outputs": [],
   "metadata": {
    "id": "rv8MR2LSoNwj"
   }
  },
  {
   "cell_type": "markdown",
   "source": [
    "### Exercise 5.4.2"
   ],
   "metadata": {
    "id": "mQV5bQAZovN1"
   }
  },
  {
   "cell_type": "markdown",
   "source": [
    "Thinking in terms of subsets of size $k$ from a set of size $n$, convince yourself of the validity of this summation:\n"
   ],
   "metadata": {
    "id": "Q_5MrE2PowkI"
   }
  },
  {
   "cell_type": "markdown",
   "source": [
    "$$\\sum_{k = 0}^{n} {n \\choose k} = 2^{n}.$$\n"
   ],
   "metadata": {
    "id": "1Q2vTeVSoxq_"
   }
  },
  {
   "cell_type": "code",
   "execution_count": null,
   "source": [
    "#@title Hint {display-mode: \"form\"}\r\n",
    "from IPython.display import Markdown\r\n",
    "display(Markdown('Plug in a few values for $n$ and grind out the left-hand sums.'))\r\n"
   ],
   "outputs": [],
   "metadata": {
    "id": "sqcQ6KIao0IQ"
   }
  },
  {
   "cell_type": "code",
   "execution_count": null,
   "source": [
    "#@title Answer {display-mode: \"form\"}\r\n",
    "from IPython.display import Markdown\r\n",
    "display(Markdown('''\r\n",
    "$2^n$ is the total number of subsets of a set of size $n$.\r\n",
    "The same total is also arrived at by adding up the total number of subsets of each possible size:\r\n",
    "\r\n",
    "* **Size 0**: ${n \\\\choose 0} = 1$.\r\n",
    "* **Size 1**: ${n \\\\choose 1} = n$.\r\n",
    "* **Size 2**: ${n \\\\choose 2} = \\\\frac{n(n-1)}{2}$.\r\n",
    "* $\\\\ldots$\r\n",
    "* **Size n**: ${n \\\\choose n} = 1$.\r\n",
    "'''))\r\n"
   ],
   "outputs": [],
   "metadata": {
    "id": "APPTmECvo3PG"
   }
  },
  {
   "cell_type": "markdown",
   "source": [
    "### Exercise 5.4.3\n"
   ],
   "metadata": {
    "id": "zRnpNNCdpfH1"
   }
  },
  {
   "cell_type": "markdown",
   "source": [
    "Suppose you flip a *fair* coin 10 times. How many different ways can you get\n",
    "1. no heads?\n",
    "2. exactly one head?\n",
    "3. exactly two heads?\n",
    "4. exactly $r$ heads?\n",
    "5. at least two heads?\n"
   ],
   "metadata": {
    "id": "M9rhCPujpgn1"
   }
  },
  {
   "cell_type": "code",
   "execution_count": null,
   "source": [
    "#@title Hint {display-mode: \"form\"}\n",
    "print('The last one is the only tricky one.')\n"
   ],
   "outputs": [],
   "metadata": {
    "id": "BrtGEC9Apjc3"
   }
  },
  {
   "cell_type": "code",
   "execution_count": null,
   "source": [
    "#@title Answer {display-mode: \"form\"}\r\n",
    "from IPython.display import Markdown\r\n",
    "display(Markdown('''\r\n",
    "This is a straightforward application of combinations without repetition.\r\n",
    "1. $C(10, 0) = 1$.\r\n",
    "2. $C(10, 1) = 10$.\r\n",
    "3. $C(10, 2) = 45$.\r\n",
    "4. $C(10, r) = \\\\frac{10!}{r!(10 - r)!}$.\r\n",
    "5. $C(10, 2) + C(10, 3) + \\\\cdots + C(10, 10) = 45 + 120 + 210 + 252 + 210 + 120 + 45 + 10 + 1 = 1013$.\r\n",
    "\r\n",
    "An easier way to compute the last one is $2^{10} - C(10, 0) - C(10, 1) = 1024 - 1 - 10 = 1013.$\r\n",
    "'''))\r\n"
   ],
   "outputs": [],
   "metadata": {
    "id": "qE7cX1HLpnEN"
   }
  },
  {
   "cell_type": "markdown",
   "source": [
    "### Exercise 5.4.4\n"
   ],
   "metadata": {
    "id": "cNHRbZiTpu5f"
   }
  },
  {
   "cell_type": "markdown",
   "source": [
    "How many bit strings of length 10 contain at least two 1s?\n"
   ],
   "metadata": {
    "id": "JozF_O5apvxZ"
   }
  },
  {
   "cell_type": "code",
   "execution_count": null,
   "source": [
    "#@title Hint {display-mode: \"form\"}\r\n",
    "print('Think of heads as 1s, and tails as 0s.')\r\n"
   ],
   "outputs": [],
   "metadata": {
    "id": "Lzgvm6QFpw5o"
   }
  },
  {
   "cell_type": "code",
   "execution_count": null,
   "source": [
    "#@title Answer {display-mode: \"form\"}\r\n",
    "from IPython.display import Markdown\r\n",
    "display(Markdown('''\r\n",
    "This is exactly the same as the answer to how many ways you can get at least two heads when flipping a coin 10 times:\r\n",
    "\r\n",
    "$2^{10} - C(10, 0) - C(10, 1)$ = $1024 - 1 - 10 = 1013$.\r\n",
    "'''))\r\n"
   ],
   "outputs": [],
   "metadata": {
    "id": "GpqfACGipzgE"
   }
  },
  {
   "cell_type": "markdown",
   "source": [
    "### Exercise 5.4.5"
   ],
   "metadata": {
    "id": "mSqTX9lSp4FQ"
   }
  },
  {
   "cell_type": "markdown",
   "source": [
    "There are many kinds of fruit: raspberries, strawberries, blueberries, apples, oranges, bananas, kiwi, papaya, mango, just to name a few. Just choosing five from that list of nine, how many different combinations of fruit salad can you make?\n"
   ],
   "metadata": {
    "id": "YWGWWbt7p620"
   }
  },
  {
   "cell_type": "code",
   "execution_count": null,
   "source": [
    "#@title Hint {display-mode: \"form\"}\n",
    "print('Nine choose five is easy.')\n"
   ],
   "outputs": [],
   "metadata": {
    "id": "a985r4-0p762"
   }
  },
  {
   "cell_type": "code",
   "execution_count": null,
   "source": [
    "#@title Answer {display-mode: \"form\"}\n",
    "from IPython.display import Markdown\n",
    "display(Markdown('''\n",
    "${9 \\\\choose 5} = \\\\frac{9!}{5!4!} = \\\\frac{9 \\\\cdot 8 \\\\cdot 7 \\\\cdot 6 }{ 4 \\\\cdot 3 \\\\cdot 2 \\\\cdot 1} = 9 \\\\cdot 7 \\\\cdot 2 = 126.$\n",
    "'''))\n"
   ],
   "outputs": [],
   "metadata": {
    "id": "9pLxNg3bp-2N"
   }
  },
  {
   "cell_type": "markdown",
   "source": [
    "### Exercise 5.4.6\n"
   ],
   "metadata": {
    "id": "5_n3kvqpqE-u"
   }
  },
  {
   "cell_type": "markdown",
   "source": [
    "In the game of *Five Crowns* there are 116 cards in two combined decks, and in each of 11 hands the number of cards dealt each player increases by one, starting at 3, ending at 13. This implies 11 different numbers of total possible hands from randomly shuffled decks. How many total possible hands are there?\n"
   ],
   "metadata": {
    "id": "Tq6ciR3tqF0F"
   }
  },
  {
   "cell_type": "code",
   "execution_count": null,
   "source": [
    "#@title Hint {display-mode: \"form\"}\n",
    "print('Treat each card as unique, and the answer is the sum of 11 numbers.')\n"
   ],
   "outputs": [],
   "metadata": {
    "id": "-r5rQVhHqHKp"
   }
  },
  {
   "cell_type": "code",
   "execution_count": null,
   "source": [
    "#@title Answer {display-mode: \"form\"}\n",
    "from IPython.display import Markdown\n",
    "display(Markdown('''\n",
    "${116 \\\\choose 3} + {116 \\\\choose 4} + {116 \\\\choose 5} + {116\n",
    "\\\\choose 6} + {116 \\\\choose 7} + {116 \\\\choose 8} + {116 \\\\choose 9} + {116\n",
    "\\\\choose 10} + {116 \\\\choose 11} + {116 \\\\choose 12} + {116 \\\\choose 13} = 253460\n",
    "+ 7160245 + 160389488 + 2967205528 + 46627515440 + 635299897870 + 7623598774440\n",
    "+ 81572506886508 + 786062339088168 + 6878045467021470 + 55024363736171760 =\n",
    "62778352710364377$.\n",
    "'''))\n"
   ],
   "outputs": [],
   "metadata": {
    "id": "IW64ph0-qL5f"
   }
  },
  {
   "cell_type": "markdown",
   "source": [
    "### Exercise 5.4.7\n"
   ],
   "metadata": {
    "id": "592DrF_MqOO6"
   }
  },
  {
   "cell_type": "markdown",
   "source": [
    "A standard 52-card deck has 4 suits: $\\heartsuit$, $\\spadesuit$, $\\diamondsuit$, and $\\clubsuit$, of 13 cards each. A 5-card hand can be chosen in any of ${52 \\choose 5}$ ways. Bridge is a game where each of 4 players is dealt 13 cards, which means the whole deck is dealt. A hand has a distribution of suits, which is how many of each suit make up the 13 total. For example, ```[2, 2, 3, 6]``` is the suit distribution of the hand [Ace$\\heartsuit$, 3$\\heartsuit$, 2$\\diamondsuit$, 9$\\diamondsuit$, 4$\\clubsuit$, 2$\\clubsuit$, 7$\\clubsuit$, Jack$\\spadesuit$, 9$\\spadesuit$, 5$\\spadesuit$, Queen$\\spadesuit$, 10$\\spadesuit$, 6$\\spadesuit$] --- so 2 hearts, 2 diamonds, 3 clubs, and 6 spades.\n"
   ],
   "metadata": {
    "id": "ohDUHdyaqQ8C"
   }
  },
  {
   "cell_type": "markdown",
   "source": [
    "How many different hands with a ```[4, 4, 3, 2]``` suit distribution can be dealt?\n"
   ],
   "metadata": {
    "id": "YGVkZuaaqX2d"
   }
  },
  {
   "cell_type": "markdown",
   "source": [
    "How many different suit distributions are there? (```[4, 4, 3, 2]``` is *not* different than ```[2, 3, 4, 4]```, because the order of the suits does *not* matter.)\n"
   ],
   "metadata": {
    "id": "nZCr57xWqZNE"
   }
  },
  {
   "cell_type": "markdown",
   "source": [
    "Rephrased, there are two questions to answer, both about counting ways of choosing cards from a standard 52-card deck:\n",
    "1. How many choices of suit distribution are there for 13 dealt cards to have 4 of one suit, 4 of another, 3 of yet another, and 2 of the last suit?\n",
    "2. How many choices are there for a number of one suit, a number of another, a number of yet another, and a number of the last suit, where what the order of the suits is does not matter, just that the total number of all 4 suits is 13?\n"
   ],
   "metadata": {
    "id": "FJAFbfW7qePb"
   }
  },
  {
   "cell_type": "code",
   "execution_count": null,
   "source": [
    "#@title Hint {display-mode: \"form\"}\r\n",
    "from IPython.display import Markdown\r\n",
    "display(Markdown('''\r\n",
    "A good approach would be to use the product rule together with the ${n \\\\choose k}$ formula. Count carefully.\r\n",
    "'''))\r\n"
   ],
   "outputs": [],
   "metadata": {
    "id": "_0n0t4tnqizG"
   }
  },
  {
   "cell_type": "code",
   "execution_count": null,
   "source": [
    "#@title Answer {display-mode: \"form\"}\r\n",
    "from IPython.display import Markdown\r\n",
    "display(Markdown('''\r\n",
    "There are ${4 \\\\choose 2} = 6$ ways of choosing the 2 suits for the 2 sets of 4\r\n",
    "dealt cards, ${2 \\\\choose 1} = 2$ ways of choosing the suit for the 3 cards, and\r\n",
    "only ${1 \\\\choose 1} = 1$ way left to choose the remaining suit for the 2 dealt\r\n",
    "cards. Hence the number of hands is the product of $6 \\\\cdot 2 \\\\cdot 1 = 12$ and\r\n",
    "how many ways there are of choosing the specific number of cards from the 13 of\r\n",
    "each suit: $12 \\\\cdot C(13, 4) \\\\cdot C(13, 4) \\\\cdot C(13, 3) \\\\cdot C(13, 2) =\r\n",
    "136,852,887,600.$\r\n",
    "\r\n",
    "The second question is harder! It is asking for how many sets of 4 nonnegative\r\n",
    "integers there are with 13 as the sum of their members. The answer is 39. Can\r\n",
    "you discern the pattern in these 39 sets?\r\n",
    "* $\\\\{0, 0, 0, 13\\\\}$\r\n",
    "* $\\\\{0, 0, 1, 12\\\\}$\r\n",
    "* $\\\\{0, 0, 2, 11\\\\}$\r\n",
    "* $\\\\{0, 0, 3, 10\\\\}$\r\n",
    "* $\\\\{0, 0, 4,  9\\\\}$\r\n",
    "* $\\\\{0, 0, 5,  8\\\\}$\r\n",
    "* $\\\\{0, 0, 6,  7\\\\}$\r\n",
    "* $\\\\{0, 1, 1, 11\\\\}$\r\n",
    "* $\\\\{0, 1, 2, 10\\\\}$\r\n",
    "* $\\\\{0, 1, 3,  9\\\\}$\r\n",
    "* $\\\\{0, 1, 4,  8\\\\}$\r\n",
    "* $\\\\{0, 1, 5,  7\\\\}$\r\n",
    "* $\\\\{0, 1, 6,  6\\\\}$\r\n",
    "* $\\\\{0, 2, 2,  9\\\\}$\r\n",
    "* $\\\\{0, 2, 3,  8\\\\}$\r\n",
    "* $\\\\{0, 2, 4,  7\\\\}$\r\n",
    "* $\\\\{0, 2, 5,  6\\\\}$\r\n",
    "* $\\\\{0, 3, 3,  7\\\\}$\r\n",
    "* $\\\\{0, 3, 4,  6\\\\}$\r\n",
    "* $\\\\{0, 3, 5,  5\\\\}$\r\n",
    "* $\\\\{0, 4, 4,  5\\\\}$\r\n",
    "* $\\\\{1, 1, 1, 10\\\\}$\r\n",
    "* $\\\\{1, 1, 2,  9\\\\}$\r\n",
    "* $\\\\{1, 1, 3,  8\\\\}$\r\n",
    "* $\\\\{1, 1, 4,  7\\\\}$\r\n",
    "* $\\\\{1, 1, 5,  6\\\\}$\r\n",
    "* $\\\\{1, 2, 2,  8\\\\}$\r\n",
    "* $\\\\{1, 2, 3,  7\\\\}$\r\n",
    "* $\\\\{1, 2, 4,  6\\\\}$\r\n",
    "* $\\\\{1, 2, 5,  5\\\\}$\r\n",
    "* $\\\\{1, 3, 3,  6\\\\}$\r\n",
    "* $\\\\{1, 3, 4,  5\\\\}$\r\n",
    "* $\\\\{1, 4, 4,  4\\\\}$\r\n",
    "* $\\\\{2, 2, 2,  7\\\\}$\r\n",
    "* $\\\\{2, 2, 3,  6\\\\}$\r\n",
    "* $\\\\{2, 2, 4,  5\\\\}$\r\n",
    "* $\\\\{2, 3, 3,  5\\\\}$\r\n",
    "* $\\\\{2, 3, 4,  4\\\\}$\r\n",
    "* $\\\\{3, 3, 3,  4\\\\}$\r\n",
    "'''))\r\n"
   ],
   "outputs": [],
   "metadata": {
    "id": "1a2NuwLLqmpl"
   }
  },
  {
   "cell_type": "markdown",
   "source": [
    "## <font color=red>5.5 Multichoosing</font>\n"
   ],
   "metadata": {
    "id": "H-Nn6futqyu1"
   }
  },
  {
   "cell_type": "markdown",
   "source": [
    "### Exercise 5.5.1\n"
   ],
   "metadata": {
    "id": "J8jS6Xydqz3R"
   }
  },
  {
   "cell_type": "markdown",
   "source": [
    "How many different 3-scoop cups of ice cream are there with just 3 flavors to choose from?\n"
   ],
   "metadata": {
    "id": "8qimV7qOq0nP"
   }
  },
  {
   "cell_type": "code",
   "execution_count": null,
   "source": [
    "#@title Hint {display-mode: \"form\"}\n",
    "print(\"Weren't Til, Abu, and Ila just talking about multichoosing ice cream scoops?\")\n"
   ],
   "outputs": [],
   "metadata": {
    "id": "0ntL-s6sq1kv"
   }
  },
  {
   "cell_type": "code",
   "execution_count": null,
   "source": [
    "#@title Answer {display-mode: \"form\"}\n",
    "from IPython.display import Markdown\n",
    "display(Markdown('''\n",
    "$\\\\left(\\\\!\\\\!{3 \\\\choose 3}\\\\!\\\\!\\\\right) = C(3 - 1 + 3, 3) = {5 \\\\choose 3} = \\\\frac{5!}{2!3!} = 10.$\n",
    "'''))\n"
   ],
   "outputs": [],
   "metadata": {
    "id": "fuaxN-LIrD0F"
   }
  },
  {
   "cell_type": "markdown",
   "source": [
    "### Exercise 5.5.2\n"
   ],
   "metadata": {
    "id": "VKE3NdQQ0nFo"
   }
  },
  {
   "cell_type": "markdown",
   "source": [
    "How many different 3-scoop cups of ice cream are there with 31 flavors to choose from?\n"
   ],
   "metadata": {
    "id": "fm2i7zbc0pEF"
   }
  },
  {
   "cell_type": "code",
   "execution_count": null,
   "source": [
    "#@title Hint {display-mode: \"form\"}\r\n",
    "print('Do you really need a hint here?')"
   ],
   "outputs": [],
   "metadata": {
    "id": "coHKZNEm0qq5"
   }
  },
  {
   "cell_type": "code",
   "execution_count": null,
   "source": [
    "#@title Answer {display-mode: \"form\"}\r\n",
    "from IPython.display import Markdown\r\n",
    "display(Markdown('''\r\n",
    "$\\\\left(\\\\!\\\\! {31 \\\\choose 3}\\\\!\\\\!\\\\right) = C(31 - 1 + 3, 3) = {33 \\\\choose 3} = \\\\frac{33!}{30!3!} = 5456.$\r\n",
    "'''))\r\n"
   ],
   "outputs": [],
   "metadata": {
    "id": "5OwuNnrc0s3_"
   }
  },
  {
   "cell_type": "markdown",
   "source": [
    "### Exercise 5.5.3\n"
   ],
   "metadata": {
    "id": "W64zqRE50xVY"
   }
  },
  {
   "cell_type": "markdown",
   "source": [
    "How many different ways are there to choose ten cookies from the three types: chocolate chip, oatmeal, and peanut butter?\n"
   ],
   "metadata": {
    "id": "imLWWtwE0xpx"
   }
  },
  {
   "cell_type": "code",
   "execution_count": null,
   "source": [
    "#@title Hint {display-mode: \"form\"}\r\n",
    "from IPython.display import Markdown\r\n",
    "display(Markdown('The word *types* is a dead giveaway.'))\r\n"
   ],
   "outputs": [],
   "metadata": {
    "id": "4v3weqlF0ynV"
   }
  },
  {
   "cell_type": "code",
   "execution_count": null,
   "source": [
    "#@title Answer {display-mode: \"form\"}\r\n",
    "from IPython.display import Markdown\r\n",
    "display(Markdown('''\r\n",
    "$\\\\left(\\\\!\\\\! {3 \\\\choose 10}\\\\!\\\\!\\\\right) = C(3 - 1 + 10, 10) = {12 \\\\choose 10} = \\\\frac{12!}{10!2!} = 66.$\r\n",
    "'''))\r\n"
   ],
   "outputs": [],
   "metadata": {
    "id": "D6FzlELz04M5"
   }
  },
  {
   "cell_type": "markdown",
   "source": [
    "### Exercise 5.5.4\n"
   ],
   "metadata": {
    "id": "n-mnWHx41FRO"
   }
  },
  {
   "cell_type": "markdown",
   "source": [
    "Find the connection between multichoosing and counting the number of solutions to equations of the form $x_1 + x_2 + \\cdots + x_m = q$, where $q$ is a positive integer, and all of the $x_i$ variables have nonnegative integer values.\n"
   ],
   "metadata": {
    "id": "P7izuyw_1GKM"
   }
  },
  {
   "cell_type": "code",
   "execution_count": null,
   "source": [
    "#@title Hint {display-mode: \"form\"}\n",
    "from IPython.display import Markdown\n",
    "display(Markdown('Substitute $n$ for $m$ and $r$ for $q$.'))\n"
   ],
   "outputs": [],
   "metadata": {
    "id": "NzkU1_fV1Lsi"
   }
  },
  {
   "cell_type": "code",
   "execution_count": null,
   "source": [
    "#@title Answer {display-mode: \"form\"}\n",
    "from IPython.display import Markdown\n",
    "display(Markdown('''\n",
    "Renaming per the hint, in $x_1 + x_2 + \\\\cdots + x_n = r$, the variables count how many of each type of object there are for a total of $r$ objects in a counting scenario of $r$-combinations of $n$ objects with repetition --- so *n multichoose r* gives the number of possible solutions in nonnegative integers. (Zero is included, because you can choose zero of some types.)\n",
    "'''))\n"
   ],
   "outputs": [],
   "metadata": {
    "id": "JXz0aV-31Oho"
   }
  },
  {
   "cell_type": "markdown",
   "source": [
    "### Exercise 5.5.5\n"
   ],
   "metadata": {
    "id": "f4w0bMXi1XYq"
   }
  },
  {
   "cell_type": "markdown",
   "source": [
    "Refer to Exercise 5.4.7. What if order matters?\n"
   ],
   "metadata": {
    "id": "pEoAgPtZ1Zf_"
   }
  },
  {
   "cell_type": "markdown",
   "source": [
    "That is, what if we want to know which number goes with which suit?\n"
   ],
   "metadata": {
    "id": "KDR3DLQH1ay_"
   }
  },
  {
   "cell_type": "markdown",
   "source": [
    "The sets in the answer to Exercise 5.4.7 are reproduced below in table form, with an additional fifth column.\n"
   ],
   "metadata": {
    "id": "Z7EYECqW1bhX"
   }
  },
  {
   "cell_type": "markdown",
   "source": [
    "What do the numbers in this fifth column count?\n",
    "\n",
    "$\\begin{array}{rrrrr}\n",
    "  0 & 0 & 0 & 13 &  4\\\\\n",
    "  0 & 0 & 1 & 12 & 12\\\\\n",
    "  0 & 0 & 2 & 11 & 12\\\\\n",
    "  0 & 0 & 3 & 10 & 12\\\\\n",
    "  0 & 0 & 4 &  9 & 12\\\\\n",
    "  0 & 0 & 5 &  8 & 12\\\\\n",
    "  0 & 0 & 6 &  7 & 12\\\\\n",
    "  0 & 1 & 1 & 11 & 12\\\\\n",
    "  0 & 1 & 2 & 10 & 24\\\\\n",
    "  0 & 1 & 3 &  9 & 24\\\\\n",
    "  0 & 1 & 4 &  8 & 24\\\\\n",
    "  0 & 1 & 5 &  7 & 24\\\\\n",
    "  0 & 1 & 6 &  6 & 12\\\\\n",
    "  0 & 2 & 2 &  9 & 12\\\\\n",
    "  0 & 2 & 3 &  8 & 24\\\\\n",
    "  0 & 2 & 4 &  7 & 24\\\\\n",
    "  0 & 2 & 5 &  6 & 24\\\\\n",
    "  0 & 3 & 3 &  7 & 12\\\\\n",
    "  0 & 3 & 4 &  6 & 24\\\\\n",
    "  0 & 3 & 5 &  5 & 12\\\\\n",
    "  0 & 4 & 4 &  5 & 12\\\\\n",
    "  1 & 1 & 1 & 10 &  4\\\\\n",
    "  1 & 1 & 2 &  9 & 12\\\\\n",
    "  1 & 1 & 3 &  8 & 12\\\\\n",
    "  1 & 1 & 4 &  7 & 12\\\\\n",
    "  1 & 1 & 5 &  6 & 12\\\\\n",
    "  1 & 2 & 2 &  8 & 12\\\\\n",
    "  1 & 2 & 3 &  7 & 24\\\\\n",
    "  1 & 2 & 4 &  6 & 24\\\\\n",
    "  1 & 2 & 5 &  5 & 12\\\\\n",
    "  1 & 3 & 3 &  6 & 12\\\\\n",
    "  1 & 3 & 4 &  5 & 24\\\\\n",
    "  1 & 4 & 4 &  4 &  4\\\\\n",
    "  2 & 2 & 2 &  7 &  4\\\\\n",
    "  2 & 2 & 3 &  6 & 12\\\\\n",
    "  2 & 2 & 4 &  5 & 12\\\\\n",
    "  2 & 3 & 3 &  5 & 12\\\\\n",
    "  2 & 3 & 4 &  4 & 12\\\\\n",
    "  3 & 3 & 3 &  4 &  4\\\\\n",
    "\\end{array}$"
   ],
   "metadata": {
    "id": "mSXJBhfb1dVD"
   }
  },
  {
   "cell_type": "code",
   "execution_count": null,
   "source": [
    "#@title Hint {display-mode: \"form\"}\n",
    "from IPython.display import Markdown\n",
    "display(Markdown('''\n",
    "Another way to ask the question is, how many solutions in nonnegative integers are there to the equation $h + s + d + c = 13$?\n",
    "'''))\n"
   ],
   "outputs": [],
   "metadata": {
    "id": "PIKnleEp10en"
   }
  },
  {
   "cell_type": "code",
   "execution_count": null,
   "source": [
    "#@title Answer {display-mode: \"form\"}\r\n",
    "from IPython.display import Markdown\r\n",
    "display(Markdown('''\r\n",
    "$\\\\left(\\\\!\\\\! {4 \\\\choose 13}\\\\!\\\\!\\\\right) = {16 \\\\choose 13} = 560.$\r\n",
    "'''))\r\n"
   ],
   "outputs": [],
   "metadata": {
    "id": "LckXI4uB13_-"
   }
  },
  {
   "cell_type": "markdown",
   "source": [
    "### Exercise 5.5.6\n"
   ],
   "metadata": {
    "id": "8DXS6cSE2Axa"
   }
  },
  {
   "cell_type": "markdown",
   "source": [
    "What is the number of different strings that can be formed by reordering the characters in the word ```SUCCESS```?\n"
   ],
   "metadata": {
    "id": "JTM10auP2CFm"
   }
  },
  {
   "cell_type": "markdown",
   "source": [
    "The position of the individual S's doesn't matter---only where there are S's does. One way to see this is to label the individual letters with subscripts --- $S_1, S_2,\\ \\mbox{and}\\ S_3$ --- and note that different permutations of the letters lead to the same string when the subscripts are removed:\n"
   ],
   "metadata": {
    "id": "2-0X8KD82DDe"
   }
  },
  {
   "cell_type": "markdown",
   "source": [
    "$$S_1UCCES_2S_3\\ \\mbox{  }\\ S_1UCCES_3S_2\\ \\mbox{  }\\ S_2UCCES_1S_3$$\n",
    "$$S_2UCCES_3S_1\\ \\mbox{  }\\ S_3UCCES_1S_2\\ \\mbox{  }\\ S_3UCCES_2S_1$$\n"
   ],
   "metadata": {
    "id": "Iu1nXsdl2EPy"
   }
  },
  {
   "cell_type": "code",
   "execution_count": null,
   "source": [
    "#@title Hint {display-mode: \"form\"}\r\n",
    "print('These are all indistinguishable if you remove the subscripts.')\r\n"
   ],
   "outputs": [],
   "metadata": {
    "id": "IUZMPq-P2XGx"
   }
  },
  {
   "cell_type": "code",
   "execution_count": null,
   "source": [
    "#@title Answer {display-mode: \"form\"}\r\n",
    "from IPython.display import Markdown\r\n",
    "print('Note that this word contains 3 S\\'s, 2 C\\'s, 1 U, and 1 E. To determine the number of \\\r\n",
    "different strings that can be made by reordering the letters, first observe \\\r\n",
    "that the three S\\'s can be placed among the seven positions in C(7,3) different ways, \\\r\n",
    "leaving four positions free. The two Cs can be placed in C(4,2) ways, leaving two \\\r\n",
    "free postions. The U can be placed in C(2,1) way, leaving one position free. The E can \\\r\n",
    "be placed in C(1,1) way. From the product rule: ')\r\n",
    "\r\n",
    "display(Markdown('''\r\n",
    "$C(7,3)C(4,2)C(2,1)C(1,1) = \\\\frac{7!}{3!4!} \\\\bullet \\\\frac{4!}{2!2!} \\\\bullet \\\\frac{2!}{1!1!} \\\\frac{1!}{1!0!} = \\\\frac{7!}{3!2!1!1!} = 7 \\\\times 6 \\\\times 5 \\\\times 2 = 420.$\r\n",
    "'''))\r\n"
   ],
   "outputs": [],
   "metadata": {
    "id": "oarB_0LU2YW6"
   }
  },
  {
   "cell_type": "markdown",
   "source": [
    "### Exercise 5.5.7\n"
   ],
   "metadata": {
    "id": "6uqtl5aW2bUy"
   }
  },
  {
   "cell_type": "markdown",
   "source": [
    "Make a connection between permutations with indistinguishable objects and combinations with repetitions.\n"
   ],
   "metadata": {
    "id": "Eeb8I-R-2dV_"
   }
  },
  {
   "cell_type": "code",
   "execution_count": null,
   "source": [
    "#@title Hint {display-mode: \"form\"}\r\n",
    "print('Study the patterns in Exercise 5.5.5.')\r\n"
   ],
   "outputs": [],
   "metadata": {
    "id": "_164h1uF2eWp"
   }
  },
  {
   "cell_type": "code",
   "execution_count": null,
   "source": [
    "#@title Answer {display-mode: \"form\"}\r\n",
    "from IPython.display import Markdown\r\n",
    "display(Markdown('''\r\n",
    "This connection may make more sense if you think about the following counting question:\r\n",
    "\r\n",
    "How many ways can 11 different books be given to 4 students, Mary, Paul, Irene and Stan, if Mary is to receive 1 book, Paul is to receive 2 books, Irene is to receive 4 books, and Stan is to receive 4 books?\r\n",
    "\r\n",
    "${11 \\\\choose 4} \\\\times {11 - 4 \\\\choose 4} \\\\times {11 - 4 - 4 \\\\choose 2} \\\\times {11 - 4 - 4 - 2 \\\\choose 1} = {11 \\\\choose 4} \\\\times {7 \\\\choose 4} \\\\times {3 \\\\choose 2} \\\\times {1 \\\\choose 1}$\r\n",
    "\r\n",
    "calculates how many ways 4 of the 11 books can be given to Stan, then 4 of the remaining 11 - 4 = 7 books can be given to Irene, then 11 - 4 - 4 = 3 of the remaining books can be given to Paul, then the last remaining book given to Mary.\r\n",
    "\r\n",
    "If you expand the calculation using the factorial-based formula and notice denominators that cancel numerators in consecutive terms:\r\n",
    "\r\n",
    "$$\\\\frac{11!}{4!7!} \\\\times \\\\frac{7!}{4!3!} \\\\times \\\\frac{3!}{2!1!} \\\\times \\\\frac{1!}{1!0!} = \\\\frac{11!}{4!4!2!1!}.$$\r\n",
    "\r\n",
    "And indeed, ```MISSISSIPPI``` has $\\\\frac{11!}{4!4!2!1!} = 34650$ permutations.\r\n",
    "'''))"
   ],
   "outputs": [],
   "metadata": {
    "id": "UnJ-fPnL2hxe"
   }
  },
  {
   "cell_type": "markdown",
   "source": [
    "## <font color=red>5.6 Basic Probability Theory</font>\n"
   ],
   "metadata": {
    "id": "S3DZjzKP8ksB"
   }
  },
  {
   "cell_type": "markdown",
   "source": [
    "### Exercise 5.6.1\n"
   ],
   "metadata": {
    "id": "FTVY333S8lbG"
   }
  },
  {
   "cell_type": "markdown",
   "source": [
    "What improvements or fixes does this ```probability``` function need?\n"
   ],
   "metadata": {
    "id": "miJf8fNr8mo1"
   }
  },
  {
   "cell_type": "code",
   "execution_count": null,
   "source": [
    "def probability(event, space):\r\n",
    "  \"\"\"A function that takes an event and a space\r\n",
    "     and returns a number between 0 and 1.\r\n",
    "  \"\"\"\r\n",
    "  result = len(event) / len(space)\r\n",
    "  # Your code goes here\r\n",
    "  return result"
   ],
   "outputs": [],
   "metadata": {
    "id": "X-Abntjf8nWK"
   }
  },
  {
   "cell_type": "markdown",
   "source": [
    "Replace ```# Your code goes here``` with what should go there."
   ],
   "metadata": {
    "id": "sxzh1kAW8rL5"
   }
  },
  {
   "cell_type": "code",
   "execution_count": null,
   "source": [
    "#@title Hint {display-mode: \"form\"}\r\n",
    "print('Try it with various concrete sets for event and space.')"
   ],
   "outputs": [],
   "metadata": {
    "id": "plM5CkAQ8vFV"
   }
  },
  {
   "cell_type": "code",
   "execution_count": null,
   "source": [
    "#@title Answer {display-mode: \"form\"}\r\n",
    "from IPython.display import Markdown\r\n",
    "display(Markdown('''\r\n",
    "Your code that should go here is:\r\n",
    "\r\n",
    "```if not event.issubset(space): raise ValueError```\r\n",
    "'''))"
   ],
   "outputs": [],
   "metadata": {
    "id": "jK28AFcS8yAh"
   }
  },
  {
   "cell_type": "markdown",
   "source": [
    "### Exercise 5.6.2\n"
   ],
   "metadata": {
    "id": "Nx8RiuSn88PG"
   }
  },
  {
   "cell_type": "markdown",
   "source": [
    "Generalize the two- and four-fair-coin-flipping experiment to deal with the experiment of flipping $2n$ coins.\n"
   ],
   "metadata": {
    "id": "t9jjmUIt8-bB"
   }
  },
  {
   "cell_type": "markdown",
   "source": [
    "Find the probability of the event that $n$ will be heads, and $n$ will be tails.\n"
   ],
   "metadata": {
    "id": "k-sSlygE8_ZP"
   }
  },
  {
   "cell_type": "code",
   "execution_count": null,
   "source": [
    "#@title Hint {display-mode: \"form\"}\r\n",
    "from IPython.display import Markdown\r\n",
    "display(Markdown('The answer will be a function of $n$.'))\r\n"
   ],
   "outputs": [],
   "metadata": {
    "id": "X1_ECNWY9CDN"
   }
  },
  {
   "cell_type": "code",
   "execution_count": null,
   "source": [
    "#@title Answer {display-mode: \"form\"}\r\n",
    "from IPython.display import Markdown\r\n",
    "display(Markdown('''\r\n",
    "The event size is ${2n \\\\choose n} = \\\\frac{(2n)!}{(2n - n)!n!} = \\\\frac{(2n!)}{(n!)^{2}}.$\r\n",
    "\r\n",
    "The space size is $2^{2n}$.\r\n",
    "\r\n",
    "The probability is the former over the latter, or $\\\\frac{(2n!)}{((n!)^{2} \\\\cdot 2^{2n})}$.\r\n",
    "'''))\r\n"
   ],
   "outputs": [],
   "metadata": {
    "id": "YgugkjIr9KXE"
   }
  },
  {
   "cell_type": "markdown",
   "source": [
    "### Exercise 5.6.3\n"
   ],
   "metadata": {
    "id": "05emUmQd9Van"
   }
  },
  {
   "cell_type": "markdown",
   "source": [
    "Ruth and Ed flip a coin to decide who’s going to do the chores. One day Ed complains --- he thinks he loses too often. So Ruth says, &ldquo;OK, this time you flip two coins, and I flip one. If you get more heads than I do, I'll clean the toilets.&rdquo; Ed likes Ruth's display of generosity and says, &ldquo;You're on!&rdquo;\n"
   ],
   "metadata": {
    "id": "SFWDpQFP9Xux"
   }
  },
  {
   "cell_type": "markdown",
   "source": [
    "What are his chances?\n"
   ],
   "metadata": {
    "id": "pQmhu3BZ9Z6W"
   }
  },
  {
   "cell_type": "code",
   "execution_count": null,
   "source": [
    "#@title Hint {display-mode: \"form\"}\r\n",
    "from IPython.display import Markdown\r\n",
    "display(Markdown('''\r\n",
    "This was adapted from a problem posed by Marilyn Vos Savant in her &ldquo;Ask Marilyn&rdquo; *Parade Magazine* column.\r\n",
    "'''))\r\n"
   ],
   "outputs": [],
   "metadata": {
    "id": "GRm5V5Rp9bbX"
   }
  },
  {
   "cell_type": "code",
   "execution_count": null,
   "source": [
    "#@title Answer {display-mode: \"form\"}\r\n",
    "from IPython.display import Markdown\r\n",
    "display(Markdown('''\r\n",
    "Ed's chances are exactly the same!\r\n",
    "\r\n",
    "There are eight possibilities, and in only four of them does Ed have more heads than Ruth:\r\n",
    "\r\n",
    "| Ed | Ruth | H(Ed) > H(Ruth) |\r\n",
    "|:--:|:----:|:---------------:|\r\n",
    "| HH |  H   | Yes |\r\n",
    "| HT |  H   | No  |\r\n",
    "| TH |  H   | No  |\r\n",
    "| TT |  H   | No  |\r\n",
    "| HH |  T   | Yes |\r\n",
    "| HT |  T   | Yes |\r\n",
    "| TH |  T   | Yes |\r\n",
    "| TT |  T   | No  |\r\n",
    "'''))\r\n"
   ],
   "outputs": [],
   "metadata": {
    "id": "LtAYpWq09uXo"
   }
  },
  {
   "cell_type": "markdown",
   "source": [
    "### Exercise 5.6.4\n"
   ],
   "metadata": {
    "id": "lXSjEGQD_wC0"
   }
  },
  {
   "cell_type": "markdown",
   "source": [
    "What is the probability of rolling an even number with one roll of a fair die?\n"
   ],
   "metadata": {
    "id": "icVOJ-56_x2K"
   }
  },
  {
   "cell_type": "code",
   "execution_count": null,
   "source": [
    "#@title Hint {display-mode: \"form\"}\r\n",
    "print('This is really easy.')\r\n"
   ],
   "outputs": [],
   "metadata": {
    "id": "oO2gndaD_zcH"
   }
  },
  {
   "cell_type": "code",
   "execution_count": null,
   "source": [
    "#@title Answer {display-mode: \"form\"}\r\n",
    "from IPython.display import Markdown\r\n",
    "display(Markdown('''\r\n",
    "$3/6 = 1/2$.\r\n",
    "'''))\r\n"
   ],
   "outputs": [],
   "metadata": {
    "id": "T8LZv-mN_1cw"
   }
  },
  {
   "cell_type": "markdown",
   "source": [
    "### Exercise 5.6.5\n"
   ],
   "metadata": {
    "id": "mL4E9ox0_4AO"
   }
  },
  {
   "cell_type": "markdown",
   "source": [
    "When you roll two dice, what is the probability that both of them will be sixes?\n"
   ],
   "metadata": {
    "id": "Kveb6aPt_6IT"
   }
  },
  {
   "cell_type": "code",
   "execution_count": null,
   "source": [
    "#@title Hint {display-mode: \"form\"}\r\n",
    "print('This is really easy too.')\r\n"
   ],
   "outputs": [],
   "metadata": {
    "id": "sdeD5cV8_7KB"
   }
  },
  {
   "cell_type": "code",
   "execution_count": null,
   "source": [
    "#@title Answer {display-mode: \"form\"}\r\n",
    "from IPython.display import Markdown\r\n",
    "display(Markdown('''\r\n",
    "$\\\\frac{1}{6} \\\\times \\\\frac{1}{6} = \\\\frac{1}{36}$.\r\n",
    "'''))\r\n"
   ],
   "outputs": [],
   "metadata": {
    "id": "BURlgwzK_-Hg"
   }
  },
  {
   "cell_type": "markdown",
   "source": [
    "### Exercise 5.6.6\n"
   ],
   "metadata": {
    "id": "TguL8zRzAAyB"
   }
  },
  {
   "cell_type": "markdown",
   "source": [
    "When you roll two dice, what is the probability that the sum of the numbers (1-6) on their faces will be a multiple of 3 --- i.e., 3, 6, 9 or 12?\n"
   ],
   "metadata": {
    "id": "4dpzlzrnACD8"
   }
  },
  {
   "cell_type": "code",
   "execution_count": null,
   "source": [
    "#@title Hint {display-mode: \"form\"}\r\n",
    "print(\"Assume order matters. Then try it with the assumption that order doesn't matter.\")\r\n"
   ],
   "outputs": [],
   "metadata": {
    "id": "XDTApBpfADaF"
   }
  },
  {
   "cell_type": "code",
   "execution_count": null,
   "source": [
    "#@title Answer {display-mode: \"form\"}\r\n",
    "from IPython.display import Markdown\r\n",
    "display(Markdown('''\r\n",
    "The 36 possibilities, all equally likely, are:\r\n",
    "\r\n",
    "|         |         |         |         |         |         |\r\n",
    "|---------|---------|---------|---------|---------|---------|\r\n",
    "| (1, 1), | (1, 2), | (1, 3), | (1, 4), | (1, 5), | (1, 6), |\r\n",
    "| (2, 1), | (2, 2), | (2, 3), | (2, 4), | (2, 5), | (2, 6), |\r\n",
    "| (3, 1), | (3, 2), | (3, 3), | (3, 4), | (3, 5), | (3, 6), |\r\n",
    "| (4, 1), | (4, 2), | (4, 3), | (4, 4), | (4, 5), | (4, 6), |\r\n",
    "| (5, 1), | (5, 2), | (5, 3), | (5, 4), | (5, 5), | (5, 6), |\r\n",
    "| (6, 1), | (6, 2), | (6, 3), | (6, 4), | (6, 5), | (6, 6)  |\r\n",
    "\r\n",
    "The event has $12$ points:\r\n",
    "\r\n",
    "|         |         |         |         |         |         |\r\n",
    "|---------|---------|---------|---------|---------|---------|\r\n",
    "| (1, 2), | (2, 1), | (1, 5), | (5, 1), | (2, 4), | (4, 2), |\r\n",
    "| (3, 3), | (3, 6), | (6, 3), | (4, 5), | (5, 4), | (6, 6)  |\r\n",
    "\r\n",
    "Hence $12/36$ or $1/3$ is the probability. Because of symmetry, assuming the order of the dice doesn't matter, which means the space and event are sets, not tuples, the probability would be\r\n",
    "\r\n",
    "|         |         |         |         |         |         |\r\n",
    "|--------:|---------|---------|---------|---------|---------|\r\n",
    "| len({{1, 2}, | {1, 5}, | {2, 4}, | {3, 3}, | | |\r\n",
    "|      {3, 6}, | {4, 5}, | {6, 6}  | })      | / | |\r\n",
    "| len({{1, 1}, | {1, 2}, | {1, 3}, | {1, 4}, | {1, 5}, | {1, 6}, |\r\n",
    "|      {2, 2}, | {2, 3}, | {2, 4}, | {2, 5}, | {2, 6}, | |\r\n",
    "|      {3, 3}, | {3, 4}, | {3, 5}, | {3, 6}, | | |\r\n",
    "|      {4, 4}, | {4, 5}, | {4, 6}, | | | |\r\n",
    "|      {5, 5}, | {5, 6}, | | | | |\r\n",
    "|      {6, 6}  | })      | | | | |\r\n",
    "\r\n",
    "which equals $7/21 = 1/3$, which is the same answer.\r\n",
    "'''))\r\n"
   ],
   "outputs": [],
   "metadata": {
    "id": "ITiBwua9AIGd"
   }
  },
  {
   "cell_type": "markdown",
   "source": [
    "### Exercise 5.6.7\n"
   ],
   "metadata": {
    "id": "twz7SYA5DByA"
   }
  },
  {
   "cell_type": "markdown",
   "source": [
    "What is the probability that the following events will occur when randomly selecting a permutation of the $26$ letters (assumed all uppercase) of the alphabet?\n",
    "1. The first 13 letters will be in alphabetical order.\n",
    "2. The first and last letters will be B and Y.\n",
    "3. The letter I will come before both J and K.\n",
    "4. The letters O and P will be next to each other.\n",
    "5. The letters U and V will be separated by at least 23 letters.\n"
   ],
   "metadata": {
    "id": "9_-DZWNtDCkf"
   }
  },
  {
   "cell_type": "code",
   "execution_count": null,
   "source": [
    "#@title Hint {display-mode: \"form\"}\r\n",
    "from IPython.display import Markdown\r\n",
    "display(Markdown('''\r\n",
    "1. For this you don't need a probability space size of 26!.\r\n",
    "2. The number $24!$ will figure into this.\r\n",
    "3. Just consider the relative (not absolute) placements of I, J, and K.\r\n",
    "4. A permutation of $25$ things is featured here.\r\n",
    "5. There are six different ways this can happen.\r\n",
    "'''))\r\n"
   ],
   "outputs": [],
   "metadata": {
    "id": "FvPuNrFLDEE-"
   }
  },
  {
   "cell_type": "code",
   "execution_count": null,
   "source": [
    "#@title Answer {display-mode: \"form\"}\r\n",
    "from IPython.display import Markdown\r\n",
    "display(Markdown('''\r\n",
    "1. There are 13! possible arrangements of the first 13 letters of the permutation, and in only one of these are they in alphabetical order. Therefore the answer is 1/13!.\r\n",
    "2. Once these two conditions are met, there are 24! ways to choose the remaining letters for positions 2 through 25. Therefore the answer is 24!/26! = 1/650.\r\n",
    "3. Just looking at the relative placements of I, J, and K, only one-third of the time will I come first. The answer is therefore 1/3.\r\n",
    "4. In effect we are forming a permutation of 25 items --- the letters A through N\r\n",
    "and Q through Z and the double letter combination OP or PO. There are 25! ways\r\n",
    "to permute these items, and for each of these permutations there are two choices\r\n",
    "as to whether O or P comes first. Thus there are twice 25! ways to form such\r\n",
    "a permutation, and therefore the answer is 2(25!)/26! = 1/13.\r\n",
    "5. Letting X$^{n}$ mean $n$ repetitions of X, here are the six ways this can happen: UX$^{24}$V, VX$^{24}$U, XUX$^{23}$V, XVX$^{23}$U, UX$^{23}$VX, and VX$^{23}$UX, where X stands for any letter other than U and V (but of course all the Xs are different in each permutation). In each of these there are 24! ways to permute the letters other than U and V, so there are 24! permutations of each type. This gives a total of 6(24!) permutations meeting the conditions, so the answer is 6(24!)/26! = 3/325.\r\n",
    "'''))\r\n"
   ],
   "outputs": [],
   "metadata": {
    "id": "L7z49WYyDLM7"
   }
  },
  {
   "cell_type": "markdown",
   "source": [
    "### Exercise 5.6.8\n"
   ],
   "metadata": {
    "id": "XnLxoos-HAiB"
   }
  },
  {
   "cell_type": "markdown",
   "source": [
    "What is the probability that a randomly chosen 3-digit number unambiguously designates a date (month number plus day number paired without punctuation)? E.g., 111 is ambiguous, it could mean January 11th (month 1, day 11) or November 1st (month 11, day 1). Don't count numbers with zeros in the second or third position (why not the first position?) as ambiguous, given the rule that days are never written with a leading zero. E.g., 101 can only mean October 1st, not January 1st. Eliminate from the event space any invalid numbers, e.g. 345, as neither 3/45 nor 34/5 is a valid date.\n"
   ],
   "metadata": {
    "id": "I5I6S3UXHCVY"
   }
  },
  {
   "cell_type": "code",
   "execution_count": null,
   "source": [
    "#@title Hint {display-mode: \"form\"}\r\n",
    "from IPython.display import Markdown\r\n",
    "display(Markdown('''\r\n",
    "Concretize! List all the 3-digit numbers from 100 to 999 (that's all\r\n",
    "of them) and divide them into two sets, valid and invalid. Carefully count\r\n",
    "the members of each, and divide the number of valid (which means\r\n",
    "unambiguous) date-numbers by the total $(999 - 100 + 1 = 900)$.\r\n",
    "'''))\r\n"
   ],
   "outputs": [],
   "metadata": {
    "id": "G90XmtAiHDpf"
   }
  },
  {
   "cell_type": "code",
   "execution_count": null,
   "source": [
    "#@title Answer {display-mode: \"form\"}\r\n",
    "def compute_unambiguous_date_probability():\r\n",
    "  invalid = [100, (111, 119), (121, 129), (132, 209),\r\n",
    "             (230, 309), (332, 409),\r\n",
    "             (431, 509), (532, 609),\r\n",
    "             (631, 709), (732, 809),\r\n",
    "             (832, 909), (931, 999)]\r\n",
    "  valid = [(101, 110), 120, 130, 131,\r\n",
    "           (210, 229), (310, 331),\r\n",
    "           (410, 430), (510, 531),\r\n",
    "           (610, 630), (710, 731),\r\n",
    "           (810, 831), (910, 930)]\r\n",
    "  all_invalid = set()\r\n",
    "  for x in invalid:\r\n",
    "    all_invalid.update([x] if type(x) is int else \\\r\n",
    "                           list(range(x[0], x[1] + 1)))\r\n",
    "  all_valid = set()\r\n",
    "  for x in valid:\r\n",
    "    all_valid.update([x] if type(x) is int else \\\r\n",
    "                         list(range(x[0], x[1] + 1)))\r\n",
    "  return len(all_valid) / (999 - 100 + 1)\r\n",
    "\r\n",
    "print(compute_unambiguous_date_probability())\r\n"
   ],
   "outputs": [],
   "metadata": {
    "id": "sIyZRLIIHJR4"
   }
  },
  {
   "cell_type": "markdown",
   "source": [
    "### Exercise 5.6.9"
   ],
   "metadata": {
    "id": "PVmzRZ1fITM6"
   }
  },
  {
   "cell_type": "markdown",
   "source": [
    "A dark room contains two barrels. The first barrel is filled with green marbles, the second is filled with a half-and-half mixture of green and blue marbles. So there's a 100% chance of choosing a green marble from the first barrel, and a 50% chance of choosing either color in the second barrel. You reach into one of the barrels (it's dark so you don't know which one) and select a marble at random. It's green. You select another. It's green too. You select a third, a fourth, a fifth, etc. Green each time. What is the *minimum* number of marbles you need to select to *exceed* a probability of 99% that you are picking them out of the all-green barrel? (Note that there are enough marbles so that the answer does not depend on how many marbles are in the second barrel.)\n"
   ],
   "metadata": {
    "id": "xP4wJuVCIUOG"
   }
  },
  {
   "cell_type": "code",
   "execution_count": null,
   "source": [
    "#@title Hint {display-mode: \"form\"}\r\n",
    "from IPython.display import Markdown\r\n",
    "display(Markdown('''\r\n",
    "Assume the probability of choosing *n* green marbles in a row from the\r\n",
    "half-and-half barrel is $(1/2)^{n}$. Compute the complementary probability ---\r\n",
    "that of choosing at least one blue marble --- to be $1 - (1/2)^{n}$. That\r\n",
    "probability first exceeds 99% when *n* equals what? In other words, after\r\n",
    "how many green marbles in a row are you 99+% sure that you are picking marbles\r\n",
    "out of the all-green barrel?\r\n",
    "'''))\r\n"
   ],
   "outputs": [],
   "metadata": {
    "id": "AaeKcL69IWUw"
   }
  },
  {
   "cell_type": "code",
   "execution_count": null,
   "source": [
    "#@title Answer {display-mode: \"form\"}\r\n",
    "from IPython.display import Markdown\r\n",
    "display(Markdown('''\r\n",
    "The probability first exceeds 99% when *n* equals 7. That is when $2^{n} >\r\n",
    "100$, which is saying $1 - (1/2)^{n} > .99$ in an equivalent way.\r\n",
    "'''))\r\n"
   ],
   "outputs": [],
   "metadata": {
    "id": "GccJwDM1IdPA"
   }
  },
  {
   "cell_type": "markdown",
   "source": [
    "## <font color=red>5.7 A Dicey Analysis</font>\n"
   ],
   "metadata": {
    "id": "XXblHmXVIgD-"
   }
  },
  {
   "cell_type": "markdown",
   "source": [
    "No exercises.\n"
   ],
   "metadata": {
    "id": "HkevPW_8IhIn"
   }
  },
  {
   "cell_type": "markdown",
   "source": [
    "## <font color=red>5.8 A Matter of Order</font>\n"
   ],
   "metadata": {
    "id": "AmWO5c67Ih4s"
   }
  },
  {
   "cell_type": "markdown",
   "source": [
    "### Exercise 5.8.1\n"
   ],
   "metadata": {
    "id": "mVSrA1kOIilE"
   }
  },
  {
   "cell_type": "markdown",
   "source": [
    "Find the connection between the strings in these two tables.\n"
   ],
   "metadata": {
    "id": "d_Ics7QKI-rK"
   }
  },
  {
   "cell_type": "markdown",
   "source": [
    "The first table gives representations of the subsets of ```set(range(10))``` with all but those of size five filtered out:\n"
   ],
   "metadata": {
    "id": "HHaWDVzxI_Fy"
   }
  },
  {
   "cell_type": "markdown",
   "source": [
    "$\\begin{array}{llllllll}\n",
    "56789 & 46789 & 45789 & 45689 & 45679 & 45678 & 36789 & 35789 \\\\\n",
    "35689 & 35679 & 35678 & 34789 & 34689 & 34679 & 34678 & 34589 \\\\\n",
    "34579 & 34578 & 34569 & 34568 & 34567 & 26789 & 25789 & 25689 \\\\\n",
    "25679 & 25678 & 24789 & 24689 & 24679 & 24678 & 24589 & 24579 \\\\\n",
    "24578 & 24569 & 24568 & 24567 & 23789 & 23689 & 23679 & 23678 \\\\\n",
    "23589 & 23579 & 23578 & 23569 & 23568 & 23567 & 23489 & 23479 \\\\\n",
    "23478 & 23469 & 23468 & 23467 & 23459 & 23458 & 23457 & 23456 \\\\\n",
    "16789 & 15789 & 15689 & 15679 & 15678 & 14789 & 14689 & 14679 \\\\\n",
    "14678 & 14589 & 14579 & 14578 & 14569 & 14568 & 14567 & 13789 \\\\\n",
    "13689 & 13679 & 13678 & 13589 & 13579 & 13578 & 13569 & 13568 \\\\\n",
    "13567 & 13489 & 13479 & 13478 & 13469 & 13468 & 13467 & 13459 \\\\\n",
    "13458 & 13457 & 13456 & 12789 & 12689 & 12679 & 12678 & 12589 \\\\\n",
    "12579 & 12578 & 12569 & 12568 & 12567 & 12489 & 12479 & 12478 \\\\\n",
    "12469 & 12468 & 12467 & 12459 & 12458 & 12457 & 12456 & 12389 \\\\\n",
    "12379 & 12378 & 12369 & 12368 & 12367 & 12359 & 12358 & 12357 \\\\\n",
    "12356 & 12349 & 12348 & 12347 & 12346 & 12345 & 06789 & 05789 \\\\\n",
    "05689 & 05679 & 05678 & 04789 & 04689 & 04679 & 04678 & 04589 \\\\\n",
    "04579 & 04578 & 04569 & 04568 & 04567 & 03789 & 03689 & 03679 \\\\\n",
    "03678 & 03589 & 03579 & 03578 & 03569 & 03568 & 03567 & 03489 \\\\\n",
    "03479 & 03478 & 03469 & 03468 & 03467 & 03459 & 03458 & 03457 \\\\\n",
    "03456 & 02789 & 02689 & 02679 & 02678 & 02589 & 02579 & 02578 \\\\\n",
    "02569 & 02568 & 02567 & 02489 & 02479 & 02478 & 02469 & 02468 \\\\\n",
    "02467 & 02459 & 02458 & 02457 & 02456 & 02389 & 02379 & 02378 \\\\\n",
    "02369 & 02368 & 02367 & 02359 & 02358 & 02357 & 02356 & 02349 \\\\\n",
    "02348 & 02347 & 02346 & 02345 & 01789 & 01689 & 01679 & 01678 \\\\\n",
    "01589 & 01579 & 01578 & 01569 & 01568 & 01567 & 01489 & 01479 \\\\\n",
    "01478 & 01469 & 01468 & 01467 & 01459 & 01458 & 01457 & 01456 \\\\\n",
    "01389 & 01379 & 01378 & 01369 & 01368 & 01367 & 01359 & 01358 \\\\\n",
    "01357 & 01356 & 01349 & 01348 & 01347 & 01346 & 01345 & 01289 \\\\\n",
    "01279 & 01278 & 01269 & 01268 & 01267 & 01259 & 01258 & 01257 \\\\\n",
    "01256 & 01249 & 01248 & 01247 & 01246 & 01245 & 01239 & 01238 \\\\\n",
    "01237 & 01236 & 01235 & 01234 &       &       &       & \\\\\n",
    "\\end{array}$\n"
   ],
   "metadata": {
    "id": "Vtdo3-a1JAGq"
   }
  },
  {
   "cell_type": "markdown",
   "source": [
    "This second table gives alternate representations of the first table's strings:\n"
   ],
   "metadata": {
    "id": "ZXdxRMyzJDhJ"
   }
  },
  {
   "cell_type": "markdown",
   "source": [
    "$\\begin{array}{llllllll}\n",
    "000005 & 000014 & 000023 & 000032 & 000041 & 000050 & 000104 & 000113 \\\\\n",
    "000122 & 000131 & 000140 & 000203 & 000212 & 000221 & 000230 & 000302 \\\\\n",
    "000311 & 000320 & 000401 & 000410 & 000500 & 001004 & 001013 & 001022 \\\\\n",
    "001031 & 001040 & 001103 & 001112 & 001121 & 001130 & 001202 & 001211 \\\\\n",
    "001220 & 001301 & 001310 & 001400 & 002003 & 002012 & 002021 & 002030 \\\\\n",
    "002102 & 002111 & 002120 & 002201 & 002210 & 002300 & 003002 & 003011 \\\\\n",
    "003020 & 003101 & 003110 & 003200 & 004001 & 004010 & 004100 & 005000 \\\\\n",
    "010004 & 010013 & 010022 & 010031 & 010040 & 010103 & 010112 & 010121 \\\\\n",
    "010130 & 010202 & 010211 & 010220 & 010301 & 010310 & 010400 & 011003 \\\\\n",
    "011012 & 011021 & 011030 & 011102 & 011111 & 011120 & 011201 & 011210 \\\\\n",
    "011300 & 012002 & 012011 & 012020 & 012101 & 012110 & 012200 & 013001 \\\\\n",
    "013010 & 013100 & 014000 & 020003 & 020012 & 020021 & 020030 & 020102 \\\\\n",
    "020111 & 020120 & 020201 & 020210 & 020300 & 021002 & 021011 & 021020 \\\\\n",
    "021101 & 021110 & 021200 & 022001 & 022010 & 022100 & 023000 & 030002 \\\\\n",
    "030011 & 030020 & 030101 & 030110 & 030200 & 031001 & 031010 & 031100 \\\\\n",
    "032000 & 040001 & 040010 & 040100 & 041000 & 050000 & 100004 & 100013 \\\\\n",
    "100022 & 100031 & 100040 & 100103 & 100112 & 100121 & 100130 & 100202 \\\\\n",
    "100211 & 100220 & 100301 & 100310 & 100400 & 101003 & 101012 & 101021 \\\\\n",
    "101030 & 101102 & 101111 & 101120 & 101201 & 101210 & 101300 & 102002 \\\\\n",
    "102011 & 102020 & 102101 & 102110 & 102200 & 103001 & 103010 & 103100 \\\\\n",
    "104000 & 110003 & 110012 & 110021 & 110030 & 110102 & 110111 & 110120 \\\\\n",
    "110201 & 110210 & 110300 & 111002 & 111011 & 111020 & 111101 & 111110 \\\\\n",
    "111200 & 112001 & 112010 & 112100 & 113000 & 120002 & 120011 & 120020 \\\\\n",
    "120101 & 120110 & 120200 & 121001 & 121010 & 121100 & 122000 & 130001 \\\\\n",
    "130010 & 130100 & 131000 & 140000 & 200003 & 200012 & 200021 & 200030 \\\\\n",
    "200102 & 200111 & 200120 & 200201 & 200210 & 200300 & 201002 & 201011 \\\\\n",
    "201020 & 201101 & 201110 & 201200 & 202001 & 202010 & 202100 & 203000 \\\\\n",
    "210002 & 210011 & 210020 & 210101 & 210110 & 210200 & 211001 & 211010 \\\\\n",
    "211100 & 212000 & 220001 & 220010 & 220100 & 221000 & 230000 & 300002 \\\\\n",
    "300011 & 300020 & 300101 & 300110 & 300200 & 301001 & 301010 & 301100 \\\\\n",
    "302000 & 310001 & 310010 & 310100 & 311000 & 320000 & 400001 & 400010 \\\\\n",
    "400100 & 401000 & 410000 & 500000 &        &        &        & \\\\\n",
    "\\end{array}$\n"
   ],
   "metadata": {
    "id": "22H_WYyCJFxe"
   }
  },
  {
   "cell_type": "code",
   "execution_count": null,
   "source": [
    "#@title Hint {display-mode: \"form\"}\r\n",
    "from IPython.display import Markdown\r\n",
    "display(Markdown('''\r\n",
    "Remember the &ldquo;stars and bars&rdquo; multichoosing visual representation?\r\n",
    "'''))\r\n"
   ],
   "outputs": [],
   "metadata": {
    "id": "waqutTlvJJMe"
   }
  },
  {
   "cell_type": "code",
   "execution_count": null,
   "source": [
    "#@title Answer {display-mode: \"form\"}\r\n",
    "from IPython.display import Markdown\r\n",
    "display(Markdown('''\r\n",
    "The sets, with their members considered ordered, correspond to different ways to\r\n",
    "place stars in 10 slots, the bars going in the remaining slots for the\r\n",
    "multichoosing representation. The set $\\\\{5, 6, 7, 8, 9\\\\}$, &ldquo;stringified&rdquo;\r\n",
    "as $56789$, corresponds to $000005$, which is\r\n",
    "&ldquo;$\\\\vert\\\\ \\\\vert\\\\ \\\\vert\\\\ \\\\vert\\\\ \\\\vert\\\\ \\\\star\\\\ \\\\star\\\\ \\\\star\\\\ \\\\star\\\\ \\\\star$&rdquo;\r\n",
    "or the multiset $\\\\{5 \\\\cdot 6\\\\}$. The numbers 5, 6, 7, 8 and 9 are the 0-indexed\r\n",
    "*positions* of the stars. Similarly, $12789$ corresponds to $020003$, which is\r\n",
    "&ldquo;$\\\\vert\\\\ \\\\star\\\\ \\\\star\\\\ \\\\vert\\\\ \\\\vert\\\\ \\\\vert\\\\ \\\\vert\\\\ \\\\star\\\\ \\\\star\\\\ \\\\star$&rdquo;,\r\n",
    "or the multiset $\\\\{2 \\\\cdot 2, 3 \\\\cdot 6\\}$.\r\n",
    "'''))\r\n"
   ],
   "outputs": [],
   "metadata": {
    "id": "o7_QsJxWJN3d"
   }
  },
  {
   "cell_type": "markdown",
   "source": [
    "### Exercise 5.8.2\n"
   ],
   "metadata": {
    "id": "Rex8b2TKJr48"
   }
  },
  {
   "cell_type": "markdown",
   "source": [
    "Find the connection between the strings in the second table in Exercise (above)\n",
    "and the corresponding dice rolls, the first nine of which are: 66666, 56666,\n",
    "55666, 55566, 55556, 55555, 46666, 45666, and 45566.\n"
   ],
   "metadata": {
    "id": "8q6XUXi0Ju2G"
   }
  },
  {
   "cell_type": "code",
   "execution_count": null,
   "source": [
    "#@title Hint {display-mode: \"form\"}\r\n",
    "print('''\r\n",
    "These nine rolls are symbolized, respectively, by Yahtzee, 4ofKind, FullHouse,\r\n",
    "FullHouse, 4ofKind, Yahtzee, 4ofKind, 3ofKind, and TwoPair.\r\n",
    "''')\r\n"
   ],
   "outputs": [],
   "metadata": {
    "id": "DYcHYfyoJwD0"
   }
  },
  {
   "cell_type": "code",
   "execution_count": null,
   "source": [
    "#@title Answer {display-mode: \"form\"}\r\n",
    "from IPython.display import Markdown\r\n",
    "display(Markdown('''\r\n",
    "These are multiset representations, being the ordered counts of how many of each\r\n",
    "number are in each type of roll. Thus, 000005 means 0 ones, 0 twos, 0 threes, 0\r\n",
    "fours, 0 fives, and 5 sixes (a Yahtzee instance), and 000122 means 0 ones, 0\r\n",
    "twos, 0 threes, 1 four, 2 fives, and 2 sixes (a TwoPair instance). In multiset\r\n",
    "notation, $000005$ is $\\{5 \\cdot 6\\}$, and $000122$ is $\\{1 \\cdot 4, 2 \\cdot 5,\r\n",
    "2 \\cdot 6\\}$.\r\n",
    "'''))\r\n"
   ],
   "outputs": [],
   "metadata": {
    "id": "VnIwIYQJJ0Y9"
   }
  },
  {
   "cell_type": "markdown",
   "source": [
    "### Exercise 5.8.3\n"
   ],
   "metadata": {
    "id": "OlonBl1eJ7CP"
   }
  },
  {
   "cell_type": "markdown",
   "source": [
    "Under the assumption that order does not matter and therefore\r\n",
    "$$\\left(\\!\\! {6 \\choose 5}\\!\\!\\right) = {10 \\choose 5} = 252$$\r\n",
    "is the size of the probability space, calculate the probabilities of getting\r\n",
    "1. a Yahtzee (five of a kind);\r\n",
    "2. four of a kind (4ofKind);\r\n",
    "3. a straight;\r\n",
    "4. a full house (FullHouse);\r\n",
    "5. three of a kind (3ofKind);\r\n",
    "6. two pair (TwoPair);\r\n",
    "7. one pair; and\r\n",
    "8. junk.\r\n"
   ],
   "metadata": {
    "id": "yghosI-nJ8QH"
   }
  },
  {
   "cell_type": "code",
   "execution_count": null,
   "source": [
    "#@title Hint {display-mode: \"form\"}\r\n",
    "from IPython.display import Markdown\r\n",
    "display(Markdown('''\r\n",
    "1. Count the number of rolls of this and the other seven types carefully.\r\n",
    "2. Perhaps writing some code would help?\r\n",
    "3. Are you starting to get the hang of this?\r\n",
    "4. It's the same as four of a kind. Verify this.\r\n",
    "5. Carefully count with code.\r\n",
    "6. It's the same as three of a kind.\r\n",
    "7. It's the same as two pair and three of a kind.\r\n",
    "8. Even more rare than five of a kind!\r\n",
    "'''))\r\n"
   ],
   "outputs": [],
   "metadata": {
    "id": "0t24TDT7KEYi"
   }
  },
  {
   "cell_type": "code",
   "execution_count": null,
   "source": [
    "#@title Answer {display-mode: \"form\"}\r\n",
    "print('''\r\n",
    "1. 6/252 = 0.023809523809523808.\r\n",
    "2. 30/252 = 0.11904761904761904.\r\n",
    "3. 2/252 = 0.007936507936507936.\r\n",
    "4. 30/252 = 0.11904761904761904.\r\n",
    "5. 60/252 = 0.23809523809523808.\r\n",
    "6. 60/252 = 0.23809523809523808.\r\n",
    "7. 60/252 = 0.23809523809523808.\r\n",
    "8. 4/252 = 0.015873015873015872.\r\n",
    "''')\r\n"
   ],
   "outputs": [],
   "metadata": {
    "id": "9Qu9lfu5KGJN"
   }
  },
  {
   "cell_type": "markdown",
   "source": [
    "### Exercise 5.8.4\n"
   ],
   "metadata": {
    "id": "nkFekoWTKWkk"
   }
  },
  {
   "cell_type": "markdown",
   "source": [
    "Tabulate all 8 probabilities from Exercise 5.8.3 and make sure they add up to 1.\n"
   ],
   "metadata": {
    "id": "beaTidyfKW5H"
   }
  },
  {
   "cell_type": "markdown",
   "source": [
    "Based on this, which type of roll should have the highest scoring value?\n"
   ],
   "metadata": {
    "id": "uSplAfx-KZA_"
   }
  },
  {
   "cell_type": "code",
   "execution_count": null,
   "source": [
    "#@title Hint {display-mode: \"form\"}\r\n",
    "print('Which roll has the smallest probability?')\r\n"
   ],
   "outputs": [],
   "metadata": {
    "id": "VmtSFQA4KZ8Z"
   }
  },
  {
   "cell_type": "code",
   "execution_count": null,
   "source": [
    "#@title Answer {display-mode: \"form\"}\r\n",
    "from IPython.display import Markdown\r\n",
    "display(Markdown('''\r\n",
    "| Probability |   | Fraction |   | Float |\r\n",
    "|-------------|:-:|---------:|:-:|:------|\r\n",
    "| P(Yahtzee)  | = |   6/252  | = | 0.023809523809523808 |\r\n",
    "| P(4ofKind)  | = |  30/252  | = | 0.11904761904761904 |\r\n",
    "| P(Straight) | = |   2/252  | = | 0.007936507936507936 |\r\n",
    "| P(FullHouse)| = |  30/252  | = | 0.11904761904761904 |\r\n",
    "| P(3ofKind)  | = |  60/252  | = | 0.23809523809523808 |\r\n",
    "| P(TwoPair)  | = |  60/252  | = | 0.23809523809523808 |\r\n",
    "| P(OnePair)  | = |  60/252  | = | 0.23809523809523808 |\r\n",
    "| P(Junk)     | = |   4/252  | = | 0.015873015873015872 |\r\n",
    "|             |   |          |   | |\r\n",
    "| Total       | = | 252/252  | = | 1.0 |\r\n",
    "\r\n",
    "A straight is the rarest, hence should have the highest value.\r\n",
    "'''))\r\n"
   ],
   "outputs": [],
   "metadata": {
    "id": "kTfusZK8Kcgv"
   }
  }
 ],
 "metadata": {
  "colab": {
   "authorship_tag": "ABX9TyPTABYsoJapCzRzOoBCj9WB",
   "name": "chapter-5-combinatorics-and-probability-exercises.ipynb",
   "private_outputs": true,
   "provenance": [],
   "collapsed_sections": [],
   "toc_visible": true
  },
  "kernelspec": {
   "display_name": "Python 3",
   "language": "python",
   "name": "python3"
  },
  "language_info": {
   "codemirror_mode": {
    "name": "ipython",
    "version": 3
   },
   "file_extension": ".py",
   "mimetype": "text/x-python",
   "name": "python",
   "nbconvert_exporter": "python",
   "pygments_lexer": "ipython3",
   "version": "3.9.0"
  }
 },
 "nbformat": 4,
 "nbformat_minor": 1
}