{
 "cells": [
  {
   "cell_type": "markdown",
   "metadata": {
    "id": "Wnybwmomj8q2"
   },
   "source": [
    "# <font color=blue>Chapter 5 Combinatorics and Probability Exercises</font>\n",
    "## <font color=blue>Prepare</font>\n"
   ]
  },
  {
   "cell_type": "markdown",
   "metadata": {
    "id": "PF1ZB6XskMm9"
   },
   "source": [
    "## <font color=red>5.1 Frequently Subjective</font>\n"
   ]
  },
  {
   "cell_type": "markdown",
   "metadata": {
    "id": "lzvdqejnkObd"
   },
   "source": [
    "No exercises.\n"
   ]
  },
  {
   "cell_type": "markdown",
   "metadata": {
    "id": "22sE44Z0kPKO"
   },
   "source": [
    "## <font color=red>5.2 Elementary and Basic</font>\n"
   ]
  },
  {
   "cell_type": "markdown",
   "metadata": {
    "id": "zRSWtA5skP6O"
   },
   "source": [
    "### Exercise 5.2.1\n"
   ]
  },
  {
   "cell_type": "markdown",
   "metadata": {
    "id": "pDRAcd2pkQ0y"
   },
   "source": [
    "Tessie and her friends have between them 15 board games, 12 card games, and one word game. If their game nights feature the word game plus one other game --- either a board game or a card game --- how many different game nights can they have?\n"
   ]
  },
  {
   "cell_type": "code",
   "execution_count": null,
   "metadata": {
    "id": "6zCcyTuKkSBD"
   },
   "outputs": [],
   "source": [
    "#@title Hint {display-mode: \"form\"}\n",
    "print('''\n",
    "Avoid overthinking this exercise, it is very straightforward.\n",
    "The either/or is a very obvious clue.\n",
    "''')\n"
   ]
  },
  {
   "cell_type": "code",
   "execution_count": null,
   "metadata": {
    "id": "P4RVkNUEkcHu"
   },
   "outputs": [],
   "source": [
    "#@title Answer {display-mode: \"form\"}\n",
    "print('15 + 12 = 27.')"
   ]
  },
  {
   "cell_type": "markdown",
   "metadata": {
    "id": "Gg09XzlLkhBf"
   },
   "source": [
    "### Exercise 5.2.2\n"
   ]
  },
  {
   "cell_type": "markdown",
   "metadata": {
    "id": "OXvAZk5okh5t"
   },
   "source": [
    "Which basic counting principle applies to Exercise 5.2.1?\n"
   ]
  },
  {
   "cell_type": "code",
   "execution_count": null,
   "metadata": {
    "id": "hcKjioAVkk-m"
   },
   "outputs": [],
   "source": [
    "#@title Hint {display-mode: \"form\"}\n",
    "from IPython.display import Markdown\n",
    "display(Markdown('Rhymes with &lsquo;some&rsquo;!'))\n"
   ]
  },
  {
   "cell_type": "code",
   "execution_count": null,
   "metadata": {
    "id": "uNyKKA_TkoL5"
   },
   "outputs": [],
   "source": [
    "#@title Answer {display-mode: \"form\"}\n",
    "print('The Sum Rule (or Addition Principle).')\n"
   ]
  },
  {
   "cell_type": "markdown",
   "metadata": {
    "id": "sYMJ6go4ks9w"
   },
   "source": [
    "### Exercise 5.2.3\n"
   ]
  },
  {
   "cell_type": "markdown",
   "metadata": {
    "id": "k9J-Q6_qkt83"
   },
   "source": [
    "Now Tessie and her friends have acquired two more word games, and have decided to vary the snacks they munch on while playing games. If a game-night configuration consists of a word game and another game and a snack, and they have 7 different types of snacks, how many different game-night configurations are possible now?\n"
   ]
  },
  {
   "cell_type": "code",
   "execution_count": null,
   "metadata": {
    "id": "7RDsfJ8skvC_"
   },
   "outputs": [],
   "source": [
    "#@title Hint {display-mode: \"form\"}\n",
    "print('This is only slightly harder.')\n"
   ]
  },
  {
   "cell_type": "code",
   "execution_count": null,
   "metadata": {
    "id": "W3ZPA6nEk0za"
   },
   "outputs": [],
   "source": [
    "#@title Answer {display-mode: \"form\"}\n",
    "from IPython.display import Markdown\n",
    "display(Markdown('$3 \\\\times 27 \\\\times 7 = 567$.'))\n"
   ]
  },
  {
   "cell_type": "markdown",
   "metadata": {
    "id": "pCpZtEfIk3zi"
   },
   "source": [
    "### Exercise 5.2.4\n"
   ]
  },
  {
   "cell_type": "markdown",
   "metadata": {
    "id": "GNMtBWT9k411"
   },
   "source": [
    "Which basic counting principle applies to Exercise 5.2.3?\n"
   ]
  },
  {
   "cell_type": "code",
   "execution_count": null,
   "metadata": {
    "id": "PikA2rVKk65F"
   },
   "outputs": [],
   "source": [
    "#@title Hint {display-mode: \"form\"}\n",
    "print('How about the other one?!')\n"
   ]
  },
  {
   "cell_type": "code",
   "execution_count": null,
   "metadata": {
    "id": "JRqmFQMkk9QF"
   },
   "outputs": [],
   "source": [
    "#@title Answer {display-mode: \"form\"}\n",
    "print('The Product Rule (or Multiplication Principle).')\n"
   ]
  },
  {
   "cell_type": "markdown",
   "metadata": {
    "id": "yP7DiH1olAC3"
   },
   "source": [
    "### Exercise 5.2.5\n"
   ]
  },
  {
   "cell_type": "markdown",
   "metadata": {
    "id": "e0rFRhG3lBvJ"
   },
   "source": [
    "How should the Sum Rule be adjusted when the two sets being selected from are *not* disjoint --- which means the opposite of the oft-repeated &ldquo;the sets are disjoint&rdquo; --- they have a *nonempty* intersection; in other words, they have *some* members in common.\n"
   ]
  },
  {
   "cell_type": "code",
   "execution_count": null,
   "metadata": {
    "id": "cJKUL6zMlOOW"
   },
   "outputs": [],
   "source": [
    "#@title Hint {display-mode: \"form\"}\n",
    "print('Concretize two sets and draw their Venn diagram to get some insights.')\n"
   ]
  },
  {
   "cell_type": "code",
   "execution_count": null,
   "metadata": {
    "id": "bqb1Wx35lQ6y"
   },
   "outputs": [],
   "source": [
    "#@title Answer {display-mode: \"form\"}\n",
    "from IPython.display import Markdown\n",
    "display(Markdown('''\n",
    "Shorter Explanation: The sum of the sizes of the two sets should be diminished\n",
    "by the size of the *intersection* of the two sets, as that size would be\n",
    "counted twice if the sets were not disjoint.\n",
    "\n",
    "Longer Explanation: To correct the overcounting that would otherwise occur, the\n",
    "number of members the two sets (say $A$ and $B$) have in common (their\n",
    "intersection) must be subtracted out from the total count of members of $A$ and\n",
    "members of $B$. In symbols: $\\\\vert A \\\\cup B\\\\vert = \\\\vert A\\\\vert + \\\\vert B\\\\vert - \\\\vert A \\\\cap B\\\\vert$.\n",
    "\n",
    "If their intersection is empty (zero members in common) the adjustment amounts\n",
    "to subtracting zero --- no change from the original rule in that case.\n",
    "'''))"
   ]
  },
  {
   "cell_type": "markdown",
   "metadata": {
    "id": "dK2tIQ19lXlQ"
   },
   "source": [
    "### Exercise 5.2.6\n"
   ]
  },
  {
   "cell_type": "markdown",
   "metadata": {
    "id": "jLxMQs-ylYYv"
   },
   "source": [
    "How many different functions are there from a set with 3 elements to a set with 5 elements?\n"
   ]
  },
  {
   "cell_type": "code",
   "execution_count": null,
   "metadata": {
    "id": "QWJqJLpPlZOL"
   },
   "outputs": [],
   "source": [
    "#@title Hint {display-mode: \"form\"}\n",
    "from IPython.display import Markdown\n",
    "display(Markdown('It may be helpful to review the definition of a *function*.'))\n"
   ]
  },
  {
   "cell_type": "code",
   "execution_count": null,
   "metadata": {
    "id": "hn6NgdzaldDN"
   },
   "outputs": [],
   "source": [
    "#@title Answer {display-mode: \"form\"}\n",
    "from IPython.display import Markdown\n",
    "display(Markdown('''There are 5 choices for the image of the first of 3 elements,\n",
    "5 choices for the second, and 5 for the third,\n",
    "for a total of $5^{3} = 125$.'''))\n"
   ]
  },
  {
   "cell_type": "markdown",
   "metadata": {
    "id": "NWLbqPLflhZe"
   },
   "source": [
    "### Exercise 5.2.7\n"
   ]
  },
  {
   "cell_type": "markdown",
   "metadata": {
    "id": "57aj3QYdlic-"
   },
   "source": [
    "How many different *one-to-one* functions are there from a set with 3 elements to a set with 5 elements?\n"
   ]
  },
  {
   "cell_type": "code",
   "execution_count": null,
   "metadata": {
    "id": "uYtB8Awkljpa"
   },
   "outputs": [],
   "source": [
    "#@title Hint {display-mode: \"form\"}\n",
    "from IPython.display import Markdown\n",
    "display(Markdown('It may be helpful to review the definition of a *one-to-one function* (an *injection*).'))\n"
   ]
  },
  {
   "cell_type": "code",
   "execution_count": null,
   "metadata": {
    "id": "WtoPKgk7lnbc"
   },
   "outputs": [],
   "source": [
    "#@title Answer {display-mode: \"form\"}\n",
    "from IPython.display import Markdown\n",
    "display(Markdown('''\n",
    "In this case, the same image cannot be selected more than once.\n",
    "So there are 5 choices for the image of the first of 3 elements,\n",
    "4 choices for the second, and 3 for the third, for a total of\n",
    "$5 \\\\times 4 \\\\times 3 = 60$.\n",
    "'''))\n"
   ]
  },
  {
   "cell_type": "markdown",
   "metadata": {
    "id": "MyeHW_XWlrX3"
   },
   "source": [
    "### Exercise 5.2.8\n"
   ]
  },
  {
   "cell_type": "markdown",
   "metadata": {
    "id": "bssbq1JhltzQ"
   },
   "source": [
    "How many different *onto* functions are there from a set with 3 elements to a set with 5 elements?\n"
   ]
  },
  {
   "cell_type": "code",
   "execution_count": null,
   "metadata": {
    "id": "7Saosk0RlvPV"
   },
   "outputs": [],
   "source": [
    "#@title Hint {display-mode: \"form\"}\n",
    "from IPython.display import Markdown\n",
    "display(Markdown('It may be helpful to review the definition of an *onto function* (a *surjection*).'))\n"
   ]
  },
  {
   "cell_type": "code",
   "execution_count": null,
   "metadata": {
    "id": "uF_GCfrflx9j"
   },
   "outputs": [],
   "source": [
    "#@title Answer {display-mode: \"form\"}\n",
    "from IPython.display import Markdown\n",
    "display(Markdown('Zero. It is impossible to have a *surjection* from a smaller set to a larger set.'))\n"
   ]
  },
  {
   "cell_type": "markdown",
   "metadata": {
    "id": "FLIE3FYzl0pe"
   },
   "source": [
    "## <font color=red>5.3 Perms and Combs</font>\n"
   ]
  },
  {
   "cell_type": "markdown",
   "metadata": {
    "id": "Kko5btgWl1s-"
   },
   "source": [
    "### Exercise 5.3.1\n"
   ]
  },
  {
   "cell_type": "markdown",
   "metadata": {
    "id": "VWlKtEfYl2xL"
   },
   "source": [
    "Concretize the equality\n"
   ]
  },
  {
   "cell_type": "markdown",
   "metadata": {
    "id": "jYprKxKel4C6"
   },
   "source": [
    "$n(n - 1)(n - 2) \\cdots (n - (r - 1)) = n!/(n - r)!$\n"
   ]
  },
  {
   "cell_type": "markdown",
   "metadata": {
    "id": "4newJ1xml5J5"
   },
   "source": [
    "and convince yourself that it really is an equality.\n"
   ]
  },
  {
   "cell_type": "code",
   "execution_count": null,
   "metadata": {
    "id": "ku88NQYIl6TE"
   },
   "outputs": [],
   "source": [
    "#@title Hint {display-mode: \"form\"}\n",
    "from IPython.display import Markdown\n",
    "display(Markdown('''\n",
    "Concretize by plugging in actual numbers for $n$ and $r$ --- any two positive integer values with $n \\\\ge r$ (e.g., 8 and 5) will do.\n",
    "'''))\n"
   ]
  },
  {
   "cell_type": "code",
   "execution_count": null,
   "metadata": {
    "id": "n3x6FDecmC6w"
   },
   "outputs": [],
   "source": [
    "#@title Answer {display-mode: \"form\"}\n",
    "from IPython.display import Markdown\n",
    "display(Markdown('''\n",
    "$P(8, 5) = 8 \\\\cdot 7 \\\\cdot 6 \\\\cdot 5 \\\\cdot 4 = 6720 = 8!/3! = 8 \\\\cdot 7 \\\\cdot 6 \\\\cdot 5 \\\\cdot 4 \\\\cdot 3 \\\\cdot 2 \\\\cdot 1 / 3 \\\\cdot 2 \\\\cdot 1$.\n",
    "\n",
    "Are you convinced?\n",
    "'''))\n"
   ]
  },
  {
   "cell_type": "markdown",
   "metadata": {
    "id": "BYQzMjVfmFkF"
   },
   "source": [
    "### Exercise 5.3.2\n"
   ]
  },
  {
   "cell_type": "markdown",
   "metadata": {
    "id": "K8pDfUi6mGc_"
   },
   "source": [
    "The English language predominantly uses the Subject-Verb-Object word type ordering; for example, &ldquo;Gary saw Alice&rdquo;. Other languages might use Subject-Object-Verb or Object-Verb-Subject, etc. How many different word orderings are possible, *not* depending on specific words, just their type?\n"
   ]
  },
  {
   "cell_type": "code",
   "execution_count": null,
   "metadata": {
    "id": "9_7iXpYWmH_d"
   },
   "outputs": [],
   "source": [
    "#@title Hint {display-mode: \"form\"}\n",
    "print('This is a very straightforward exercise in permutations.')\n"
   ]
  },
  {
   "cell_type": "code",
   "execution_count": null,
   "metadata": {
    "id": "Uq3f_31TmJ7j"
   },
   "outputs": [],
   "source": [
    "#@title Answer {display-mode: \"form\"}\n",
    "from IPython.display import Markdown\n",
    "display(Markdown('$3 \\\\cdot 2 \\\\cdot 1 = 3! = 6$ word-type orderings are possible.'))\n"
   ]
  },
  {
   "cell_type": "markdown",
   "metadata": {
    "id": "O0EBDyLtmP82"
   },
   "source": [
    "### Exercise 5.3.3\n"
   ]
  },
  {
   "cell_type": "markdown",
   "metadata": {
    "id": "N2jHS2HgmRI-"
   },
   "source": [
    "Recalling the example of how many are the permutations of the letters ```ABCDELMNO```, investigate and explain why $0!$ is defined to be equal to $1$.\n"
   ]
  },
  {
   "cell_type": "code",
   "execution_count": null,
   "metadata": {
    "id": "4uOsksDYmTCD"
   },
   "outputs": [],
   "source": [
    "#@title Hint {display-mode: \"form\"}\n",
    "print('How many ways can you arrange zero objects? Really?!')\n"
   ]
  },
  {
   "cell_type": "code",
   "execution_count": null,
   "metadata": {
    "id": "7nIEkiP8mb5S"
   },
   "outputs": [],
   "source": [
    "#@title Answer {display-mode: \"form\"}\n",
    "from IPython.display import Markdown\n",
    "display(Markdown('''\n",
    "Having $0! = 1$ not only makes the formula give the right answer, it makes sense that there is only one arrangement (permutation) of an empty set of objects --- namely, the empty permutation! This is similar to why $x^{0} = 1$, or why the [Empty Product](https://en.wikipedia.org/wiki/Empty_product) is $1$.\n",
    "'''))\n"
   ]
  },
  {
   "cell_type": "markdown",
   "metadata": {
    "id": "dcJgdo8_mmjT"
   },
   "source": [
    "### Exercise 5.3.4\n"
   ]
  },
  {
   "cell_type": "markdown",
   "metadata": {
    "id": "CFNfXER1mnyw"
   },
   "source": [
    "Of the $9!$ arrangements of the letters ```ABCDELMNO```, how many contain the string ```ELM```?\n"
   ]
  },
  {
   "cell_type": "code",
   "execution_count": null,
   "metadata": {
    "id": "OdruhPU6mo2n"
   },
   "outputs": [],
   "source": [
    "#@title Hint {display-mode: \"form\"}\n",
    "from IPython.display import Markdown\n",
    "display(Markdown('''How many arrangements of ```ABCDENO``` are there?'''))\n"
   ]
  },
  {
   "cell_type": "code",
   "execution_count": null,
   "metadata": {
    "id": "93aIoynImr2h"
   },
   "outputs": [],
   "source": [
    "#@title Answer {display-mode: \"form\"}\n",
    "from IPython.display import Markdown\n",
    "display(Markdown('''\n",
    "Treating ```ELM``` as one indivisible &ldquo;oversized&rdquo; letter, there are only 7 letters to permute, so $7! = 5040$ is the answer.'''))\n"
   ]
  },
  {
   "cell_type": "markdown",
   "metadata": {
    "id": "EKGHHtJMmwf9"
   },
   "source": [
    "### Exercise 5.3.5\n"
   ]
  },
  {
   "cell_type": "markdown",
   "metadata": {
    "id": "Zc9AJJqumxYN"
   },
   "source": [
    "How many TLAs (arrangements of 3 alphabetic letters) are there *with repetition allowed*?\n"
   ]
  },
  {
   "cell_type": "code",
   "execution_count": null,
   "metadata": {
    "id": "8IjqwjEHmyHI"
   },
   "outputs": [],
   "source": [
    "#@title Hint {display-mode: \"form\"}\n",
    "print('Use the Multiplication Principle with each term in the product being the same number.')\n"
   ]
  },
  {
   "cell_type": "code",
   "execution_count": null,
   "metadata": {
    "id": "04R4aJgbm1Yz"
   },
   "outputs": [],
   "source": [
    "#@title Answer {display-mode: \"form\"}\n",
    "from IPython.display import Markdown\n",
    "display(Markdown('''$26 \\\\times 26 \\\\times 26 = 17576.$\n",
    "\n",
    "In general, $n^{r}$ gives the number of $r$-permutations of $n$ things when *repetition is allowed*.\n",
    "'''))"
   ]
  },
  {
   "cell_type": "markdown",
   "metadata": {
    "id": "_hpeDhPNm_BV"
   },
   "source": [
    "### Exercise 5.3.6\n"
   ]
  },
  {
   "cell_type": "markdown",
   "metadata": {
    "id": "R0adN9_OnAdN"
   },
   "source": [
    "How many different sequences of initials are there for people who either have two initials (first and last) or three initials (first, middle and last)?\n"
   ]
  },
  {
   "cell_type": "code",
   "execution_count": null,
   "metadata": {
    "id": "wYi1hJQLnBqm"
   },
   "outputs": [],
   "source": [
    "#@title Hint {display-mode: \"form\"}\n",
    "print('Use the Sum Rule together with the Product Rule, or else the Product Rule by itself.')\n"
   ]
  },
  {
   "cell_type": "code",
   "execution_count": null,
   "metadata": {
    "id": "mkwiaX1_nF6m"
   },
   "outputs": [],
   "source": [
    "#@title Answer {display-mode: \"form\"}\n",
    "from IPython.display import Markdown\n",
    "display(Markdown('''\n",
    "Using either the Sum Rule and Product Rule together, or just the Product Rule:\n",
    "\n",
    "$26^{2} + 26^{3} = 18252 = 26 \\\\cdot 27 \\\\cdot 26$.\n",
    "'''))\n"
   ]
  },
  {
   "cell_type": "markdown",
   "metadata": {
    "id": "TuSr54_NnJch"
   },
   "source": [
    "### Exercise 5.3.7\n"
   ]
  },
  {
   "cell_type": "markdown",
   "metadata": {
    "id": "Qr1V57rPnLon"
   },
   "source": [
    "How many different sequences can be formed using *either* two *or* three letters (A-Z) followed by *either* two *or* three digits (0-9)?\n"
   ]
  },
  {
   "cell_type": "markdown",
   "metadata": {
    "id": "2M6A4qxnnM7w"
   },
   "source": [
    "For example:\n",
    "* ```AB01```\n",
    "* ```ABC02```\n",
    "* ```XYZ123```\n",
    "* $\\ldots$\n"
   ]
  },
  {
   "cell_type": "code",
   "execution_count": null,
   "metadata": {
    "id": "d4OEkIWknPQc"
   },
   "outputs": [],
   "source": [
    "#@title Hint {display-mode: \"form\"}\n",
    "print('There are four terms in the sum, each term the product of two numbers.')\n"
   ]
  },
  {
   "cell_type": "code",
   "execution_count": null,
   "metadata": {
    "id": "-nqGvGIWnSBH"
   },
   "outputs": [],
   "source": [
    "#@title Answer {display-mode: \"form\"}\n",
    "from IPython.display import Markdown\n",
    "display(Markdown('''\n",
    "$(26^{2} \\\\cdot 10^{2}) + (26^{3} \\\\cdot 10^{2}) + (26^{2} \\\\cdot 10^{3}) + (26^{3} \\\\cdot 10^{3}) = 20077200$.\n",
    "'''))\n"
   ]
  },
  {
   "cell_type": "markdown",
   "metadata": {
    "id": "gbjsinmLnTUc"
   },
   "source": [
    "### Exercise 5.3.8\n"
   ]
  },
  {
   "cell_type": "markdown",
   "metadata": {
    "id": "60aggp3hnXqs"
   },
   "source": [
    "How many different &ldquo;words&rdquo; of the form ```ccvcv``` are there where ```c``` represents one of the 21 consonants and ```v``` represents one of the 5 vowels in the English alphabet? Assume no letter can be repeated, just count words like &ldquo;tribe&rdquo; or &ldquo;blizo&rdquo; --- a non-word but count it anyway --- but not something like &ldquo;trite&rdquo; or &ldquo;gligi&rdquo;, which have repeated letters.\n"
   ]
  },
  {
   "cell_type": "code",
   "execution_count": null,
   "metadata": {
    "id": "XBShPHORnnPq"
   },
   "outputs": [],
   "source": [
    "#@title Hint {display-mode: \"form\"}\n",
    "print('Compute the permutations of vowels and consonants separately, then apply the Product Rule.')\n"
   ]
  },
  {
   "cell_type": "code",
   "execution_count": null,
   "metadata": {
    "id": "_pew3Kfbnqmz"
   },
   "outputs": [],
   "source": [
    "#@title Answer {display-mode: \"form\"}\n",
    "from IPython.display import Markdown\n",
    "display(Markdown('''\n",
    "The 2 vowels can be arranged in $P(5, 2) = 5!/(5 - 2)! = 5!/3! = 5 \\\\cdot 4 = 20$\n",
    "ways. The 3 consonants can be arranged in $P(21, 3) = 21!/(21 - 3)! = 21!/18! =\n",
    "21 \\\\cdot 20 \\\\cdot 19 = 7980$ ways, for a total of $20 \\\\cdot 7980 = 159600$\n",
    "different ways to arrange the 5 letters.\n",
    "'''))\n"
   ]
  },
  {
   "cell_type": "markdown",
   "metadata": {
    "id": "4L_gzqb0nwNN"
   },
   "source": [
    "## <font color=red>5.4 Choosing</font>\n"
   ]
  },
  {
   "cell_type": "markdown",
   "metadata": {
    "id": "EXoWFISBnxvf"
   },
   "source": [
    "### Exercise 5.4.1\n"
   ]
  },
  {
   "cell_type": "markdown",
   "metadata": {
    "id": "XR3SDsLpnyhl"
   },
   "source": [
    "The recurrence relation\n",
    "$${n \\choose k} = {n - 1 \\choose k} + {n - 1 \\choose k - 1}$$\n",
    "is normally defined for nonnegative $n$ and $k$ ($0 \\le\n",
    "k \\le n$), and to implement it as a recursive function of two parameters we need\n",
    "to supply some &ldquo;escape hatch&rdquo; base cases:\n",
    "$${n \\choose k} = 1\\ \\mbox{whenever}\\ k = 0\\ \\mbox{or}\\ k = n.$$\n"
   ]
  },
  {
   "cell_type": "markdown",
   "metadata": {
    "id": "kpN-1xEMn2Kp"
   },
   "source": [
    "A straightforward implementation that expects $n \\ge k \\ge 0$ falls right out of this definition:\n"
   ]
  },
  {
   "cell_type": "code",
   "execution_count": null,
   "metadata": {
    "id": "eRThakzin4Re"
   },
   "outputs": [],
   "source": [
    "def nCk(n, k):\n",
    "  return 1 if k == 0 or k == n else \\\n",
    "    nCk(n - 1, k) + nCk(n - 1, k - 1)\n"
   ]
  },
  {
   "cell_type": "markdown",
   "metadata": {
    "id": "Q2iBvERMn_1Y"
   },
   "source": [
    "Note that this code will fail with a ```RecursionError``` if you give it an $n$ that is smaller than $k$. In addition to fixing this problem, there are good reasons to define other boundary conditions and let the parameters of this basic combinatorial function range over all the integers: ${n \\choose k} = 0$ whenever $k < 0$ or $k > n$. Explore these reasons, and reimplement ```nCk``` to handle these other conditions.\n"
   ]
  },
  {
   "cell_type": "code",
   "execution_count": null,
   "metadata": {
    "id": "vWnwzcrwoF18"
   },
   "outputs": [],
   "source": [
    "#@title Hint {display-mode: \"form\"}\n",
    "print('Start with the links in the sidenotes.')\n"
   ]
  },
  {
   "cell_type": "code",
   "execution_count": null,
   "metadata": {
    "id": "rv8MR2LSoNwj"
   },
   "outputs": [],
   "source": [
    "#@title Answer {display-mode: \"form\"}\n",
    "def nCk(n, k):\n",
    "  return 0 if k < 0 or k > n else \\\n",
    "         1 if k == 0 or k == n else \\\n",
    "              nCk(n - 1, k) + nCk(n - 1, k - 1)"
   ]
  },
  {
   "cell_type": "markdown",
   "metadata": {
    "id": "mQV5bQAZovN1"
   },
   "source": [
    "### Exercise 5.4.2"
   ]
  },
  {
   "cell_type": "markdown",
   "metadata": {
    "id": "Q_5MrE2PowkI"
   },
   "source": [
    "Thinking in terms of subsets of size $k$ from a set of size $n$, convince yourself of the validity of this summation:\n"
   ]
  },
  {
   "cell_type": "markdown",
   "metadata": {
    "id": "1Q2vTeVSoxq_"
   },
   "source": [
    "$$\\sum_{k = 0}^{n} {n \\choose k} = 2^{n}.$$\n"
   ]
  },
  {
   "cell_type": "code",
   "execution_count": null,
   "metadata": {
    "id": "sqcQ6KIao0IQ"
   },
   "outputs": [],
   "source": [
    "#@title Hint {display-mode: \"form\"}\n",
    "from IPython.display import Markdown\n",
    "display(Markdown('Plug in a few values for $n$ and grind out the left-hand sums.'))\n"
   ]
  },
  {
   "cell_type": "code",
   "execution_count": null,
   "metadata": {
    "id": "APPTmECvo3PG"
   },
   "outputs": [],
   "source": [
    "#@title Answer {display-mode: \"form\"}\n",
    "from IPython.display import Markdown\n",
    "display(Markdown('''\n",
    "$2^n$ is the total number of subsets of a set of size $n$.\n",
    "The same total is also arrived at by adding up the total number of subsets of each possible size:\n",
    "\n",
    "* **Size 0**: ${n \\\\choose 0} = 1$.\n",
    "* **Size 1**: ${n \\\\choose 1} = n$.\n",
    "* **Size 2**: ${n \\\\choose 2} = \\\\frac{n(n-1)}{2}$.\n",
    "* $\\\\ldots$\n",
    "* **Size n**: ${n \\\\choose n} = 1$.\n",
    "'''))\n"
   ]
  },
  {
   "cell_type": "markdown",
   "metadata": {
    "id": "zRnpNNCdpfH1"
   },
   "source": [
    "### Exercise 5.4.3\n"
   ]
  },
  {
   "cell_type": "markdown",
   "metadata": {
    "id": "M9rhCPujpgn1"
   },
   "source": [
    "Suppose you flip a *fair* coin 10 times. How many different ways can you get\n",
    "1. no heads?\n",
    "2. exactly one head?\n",
    "3. exactly two heads?\n",
    "4. exactly $r$ heads?\n",
    "5. at least two heads?\n"
   ]
  },
  {
   "cell_type": "code",
   "execution_count": null,
   "metadata": {
    "id": "BrtGEC9Apjc3"
   },
   "outputs": [],
   "source": [
    "#@title Hint {display-mode: \"form\"}\n",
    "print('The last one is the only tricky one.')\n"
   ]
  },
  {
   "cell_type": "code",
   "execution_count": null,
   "metadata": {
    "id": "qE7cX1HLpnEN"
   },
   "outputs": [],
   "source": [
    "#@title Answer {display-mode: \"form\"}\n",
    "from IPython.display import Markdown\n",
    "display(Markdown('''\n",
    "This is a straightforward application of combinations without repetition.\n",
    "1. $C(10, 0) = 1$.\n",
    "2. $C(10, 1) = 10$.\n",
    "3. $C(10, 2) = 45$.\n",
    "4. $C(10, r) = \\\\frac{10!}{r!(10 - r)!}$.\n",
    "5. $C(10, 2) + C(10, 3) + \\\\cdots + C(10, 10) = 45 + 120 + 210 + 252 + 210 + 120 + 45 + 10 + 1 = 1013$.\n",
    "\n",
    "An easier way to compute the last one is $2^{10} - C(10, 0) - C(10, 1) = 1024 - 1 - 10 = 1013.$\n",
    "'''))\n"
   ]
  },
  {
   "cell_type": "markdown",
   "metadata": {
    "id": "cNHRbZiTpu5f"
   },
   "source": [
    "### Exercise 5.4.4\n"
   ]
  },
  {
   "cell_type": "markdown",
   "metadata": {
    "id": "JozF_O5apvxZ"
   },
   "source": [
    "How many bit strings of length 10 contain at least two 1s?\n"
   ]
  },
  {
   "cell_type": "code",
   "execution_count": null,
   "metadata": {
    "id": "Lzgvm6QFpw5o"
   },
   "outputs": [],
   "source": [
    "#@title Hint {display-mode: \"form\"}\n",
    "print('Think of heads as 1s, and tails as 0s.')\n"
   ]
  },
  {
   "cell_type": "code",
   "execution_count": null,
   "metadata": {
    "id": "GpqfACGipzgE"
   },
   "outputs": [],
   "source": [
    "#@title Answer {display-mode: \"form\"}\n",
    "from IPython.display import Markdown\n",
    "display(Markdown('''\n",
    "This is exactly the same as the answer to how many ways you can get at least two heads when flipping a coin 10 times:\n",
    "\n",
    "$2^{10} - C(10, 0) - C(10, 1)$ = $1024 - 1 - 10 = 1013$.\n",
    "'''))\n"
   ]
  },
  {
   "cell_type": "markdown",
   "metadata": {
    "id": "mSqTX9lSp4FQ"
   },
   "source": [
    "### Exercise 5.4.5"
   ]
  },
  {
   "cell_type": "markdown",
   "metadata": {
    "id": "YWGWWbt7p620"
   },
   "source": [
    "There are many kinds of fruit: raspberries, strawberries, blueberries, apples, oranges, bananas, kiwi, papaya, mango, just to name a few. Just choosing five from that list of nine, how many different combinations of fruit salad can you make?\n"
   ]
  },
  {
   "cell_type": "code",
   "execution_count": null,
   "metadata": {
    "id": "a985r4-0p762"
   },
   "outputs": [],
   "source": [
    "#@title Hint {display-mode: \"form\"}\n",
    "print('Nine choose five is easy.')\n"
   ]
  },
  {
   "cell_type": "code",
   "execution_count": null,
   "metadata": {
    "id": "9pLxNg3bp-2N"
   },
   "outputs": [],
   "source": [
    "#@title Answer {display-mode: \"form\"}\n",
    "from IPython.display import Markdown\n",
    "display(Markdown('''\n",
    "${9 \\\\choose 5} = \\\\frac{9!}{5!4!} = \\\\frac{9 \\\\cdot 8 \\\\cdot 7 \\\\cdot 6 }{ 4 \\\\cdot 3 \\\\cdot 2 \\\\cdot 1} = 9 \\\\cdot 7 \\\\cdot 2 = 126.$\n",
    "'''))\n"
   ]
  },
  {
   "cell_type": "markdown",
   "metadata": {
    "id": "5_n3kvqpqE-u"
   },
   "source": [
    "### Exercise 5.4.6\n"
   ]
  },
  {
   "cell_type": "markdown",
   "metadata": {
    "id": "Tq6ciR3tqF0F"
   },
   "source": [
    "In the game of *Five Crowns* there are 116 cards in two combined decks, and in each of 11 hands the number of cards dealt each player increases by one, starting at 3, ending at 13. This implies 11 different numbers of total possible hands from randomly shuffled decks. How many total possible hands are there?\n"
   ]
  },
  {
   "cell_type": "code",
   "execution_count": null,
   "metadata": {
    "id": "-r5rQVhHqHKp"
   },
   "outputs": [],
   "source": [
    "#@title Hint {display-mode: \"form\"}\n",
    "print('Treat each card as unique, and the answer is the sum of 11 numbers.')\n"
   ]
  },
  {
   "cell_type": "code",
   "execution_count": null,
   "metadata": {
    "id": "IW64ph0-qL5f"
   },
   "outputs": [],
   "source": [
    "#@title Answer {display-mode: \"form\"}\n",
    "from IPython.display import Markdown\n",
    "display(Markdown('''\n",
    "${116 \\\\choose 3} + {116 \\\\choose 4} + {116 \\\\choose 5} + {116\n",
    "\\\\choose 6} + {116 \\\\choose 7} + {116 \\\\choose 8} + {116 \\\\choose 9} + {116\n",
    "\\\\choose 10} + {116 \\\\choose 11} + {116 \\\\choose 12} + {116 \\\\choose 13} = 253460\n",
    "+ 7160245 + 160389488 + 2967205528 + 46627515440 + 635299897870 + 7623598774440\n",
    "+ 81572506886508 + 786062339088168 + 6878045467021470 + 55024363736171760 =\n",
    "62778352710364377$.\n",
    "'''))\n"
   ]
  },
  {
   "cell_type": "markdown",
   "metadata": {
    "id": "592DrF_MqOO6"
   },
   "source": [
    "### Exercise 5.4.7\n"
   ]
  },
  {
   "cell_type": "markdown",
   "metadata": {
    "id": "ohDUHdyaqQ8C"
   },
   "source": [
    "A standard 52-card deck has 4 suits: $\\heartsuit$, $\\spadesuit$, $\\diamondsuit$, and $\\clubsuit$, of 13 cards each. A 5-card hand can be chosen in any of ${52 \\choose 5}$ ways. Bridge is a game where each of 4 players is dealt 13 cards, which means the whole deck is dealt. A hand has a distribution of suits, which is how many of each suit make up the 13 total. For example, ```[2, 2, 3, 6]``` is the suit distribution of the hand [Ace$\\heartsuit$, 3$\\heartsuit$, 2$\\diamondsuit$, 9$\\diamondsuit$, 4$\\clubsuit$, 2$\\clubsuit$, 7$\\clubsuit$, Jack$\\spadesuit$, 9$\\spadesuit$, 5$\\spadesuit$, Queen$\\spadesuit$, 10$\\spadesuit$, 6$\\spadesuit$] --- so 2 hearts, 2 diamonds, 3 clubs, and 6 spades.\n"
   ]
  },
  {
   "cell_type": "markdown",
   "metadata": {
    "id": "YGVkZuaaqX2d"
   },
   "source": [
    "How many different hands with a ```[4, 4, 3, 2]``` suit distribution can be dealt?\n"
   ]
  },
  {
   "cell_type": "markdown",
   "metadata": {
    "id": "nZCr57xWqZNE"
   },
   "source": [
    "How many different suit distributions are there? (```[4, 4, 3, 2]``` is *not* different than ```[2, 3, 4, 4]```, because the order of the suits does *not* matter.)\n"
   ]
  },
  {
   "cell_type": "markdown",
   "metadata": {
    "id": "FJAFbfW7qePb"
   },
   "source": [
    "Rephrased, there are two questions to answer, both about counting ways of choosing cards from a standard 52-card deck:\n",
    "1. How many choices of suit distribution are there for 13 dealt cards to have 4 of one suit, 4 of another, 3 of yet another, and 2 of the last suit?\n",
    "2. How many choices are there for a number of one suit, a number of another, a number of yet another, and a number of the last suit, where what the order of the suits is does not matter, just that the total number of all 4 suits is 13?\n"
   ]
  },
  {
   "cell_type": "code",
   "execution_count": null,
   "metadata": {
    "id": "_0n0t4tnqizG"
   },
   "outputs": [],
   "source": [
    "#@title Hint {display-mode: \"form\"}\n",
    "from IPython.display import Markdown\n",
    "display(Markdown('''\n",
    "A good approach would be to use the product rule together with the ${n \\\\choose k}$ formula. Count carefully.\n",
    "'''))\n"
   ]
  },
  {
   "cell_type": "code",
   "execution_count": null,
   "metadata": {
    "id": "1a2NuwLLqmpl"
   },
   "outputs": [],
   "source": [
    "#@title Answer {display-mode: \"form\"}\n",
    "from IPython.display import Markdown\n",
    "display(Markdown('''\n",
    "There are ${4 \\\\choose 2} = 6$ ways of choosing the 2 suits for the 2 sets of 4\n",
    "dealt cards, ${2 \\\\choose 1} = 2$ ways of choosing the suit for the 3 cards, and\n",
    "only ${1 \\\\choose 1} = 1$ way left to choose the remaining suit for the 2 dealt\n",
    "cards. Hence the number of hands is the product of $6 \\\\cdot 2 \\\\cdot 1 = 12$ and\n",
    "how many ways there are of choosing the specific number of cards from the 13 of\n",
    "each suit: $12 \\\\cdot C(13, 4) \\\\cdot C(13, 4) \\\\cdot C(13, 3) \\\\cdot C(13, 2) =\n",
    "136,852,887,600.$\n",
    "\n",
    "The second question is harder! It is asking for how many sets of 4 nonnegative\n",
    "integers there are with 13 as the sum of their members. The answer is 39. Can\n",
    "you discern the pattern in these 39 sets?\n",
    "* $\\\\{0, 0, 0, 13\\\\}$\n",
    "* $\\\\{0, 0, 1, 12\\\\}$\n",
    "* $\\\\{0, 0, 2, 11\\\\}$\n",
    "* $\\\\{0, 0, 3, 10\\\\}$\n",
    "* $\\\\{0, 0, 4,  9\\\\}$\n",
    "* $\\\\{0, 0, 5,  8\\\\}$\n",
    "* $\\\\{0, 0, 6,  7\\\\}$\n",
    "* $\\\\{0, 1, 1, 11\\\\}$\n",
    "* $\\\\{0, 1, 2, 10\\\\}$\n",
    "* $\\\\{0, 1, 3,  9\\\\}$\n",
    "* $\\\\{0, 1, 4,  8\\\\}$\n",
    "* $\\\\{0, 1, 5,  7\\\\}$\n",
    "* $\\\\{0, 1, 6,  6\\\\}$\n",
    "* $\\\\{0, 2, 2,  9\\\\}$\n",
    "* $\\\\{0, 2, 3,  8\\\\}$\n",
    "* $\\\\{0, 2, 4,  7\\\\}$\n",
    "* $\\\\{0, 2, 5,  6\\\\}$\n",
    "* $\\\\{0, 3, 3,  7\\\\}$\n",
    "* $\\\\{0, 3, 4,  6\\\\}$\n",
    "* $\\\\{0, 3, 5,  5\\\\}$\n",
    "* $\\\\{0, 4, 4,  5\\\\}$\n",
    "* $\\\\{1, 1, 1, 10\\\\}$\n",
    "* $\\\\{1, 1, 2,  9\\\\}$\n",
    "* $\\\\{1, 1, 3,  8\\\\}$\n",
    "* $\\\\{1, 1, 4,  7\\\\}$\n",
    "* $\\\\{1, 1, 5,  6\\\\}$\n",
    "* $\\\\{1, 2, 2,  8\\\\}$\n",
    "* $\\\\{1, 2, 3,  7\\\\}$\n",
    "* $\\\\{1, 2, 4,  6\\\\}$\n",
    "* $\\\\{1, 2, 5,  5\\\\}$\n",
    "* $\\\\{1, 3, 3,  6\\\\}$\n",
    "* $\\\\{1, 3, 4,  5\\\\}$\n",
    "* $\\\\{1, 4, 4,  4\\\\}$\n",
    "* $\\\\{2, 2, 2,  7\\\\}$\n",
    "* $\\\\{2, 2, 3,  6\\\\}$\n",
    "* $\\\\{2, 2, 4,  5\\\\}$\n",
    "* $\\\\{2, 3, 3,  5\\\\}$\n",
    "* $\\\\{2, 3, 4,  4\\\\}$\n",
    "* $\\\\{3, 3, 3,  4\\\\}$\n",
    "'''))\n"
   ]
  },
  {
   "cell_type": "markdown",
   "metadata": {
    "id": "H-Nn6futqyu1"
   },
   "source": [
    "## <font color=red>5.5 Multichoosing</font>\n"
   ]
  },
  {
   "cell_type": "markdown",
   "metadata": {
    "id": "J8jS6Xydqz3R"
   },
   "source": [
    "### Exercise 5.5.1\n"
   ]
  },
  {
   "cell_type": "markdown",
   "metadata": {
    "id": "8qimV7qOq0nP"
   },
   "source": [
    "How many different 3-scoop cups of ice cream are there with just 3 flavors to choose from?\n"
   ]
  },
  {
   "cell_type": "code",
   "execution_count": null,
   "metadata": {
    "id": "0ntL-s6sq1kv"
   },
   "outputs": [],
   "source": [
    "#@title Hint {display-mode: \"form\"}\n",
    "print(\"Weren't Til, Abu, and Ila just talking about multichoosing ice cream scoops?\")\n"
   ]
  },
  {
   "cell_type": "code",
   "execution_count": null,
   "metadata": {
    "id": "fuaxN-LIrD0F"
   },
   "outputs": [],
   "source": [
    "#@title Answer {display-mode: \"form\"}\n",
    "from IPython.display import Markdown\n",
    "display(Markdown('''\n",
    "$\\\\left(\\\\!\\\\!{3 \\\\choose 3}\\\\!\\\\!\\\\right) = C(3 - 1 + 3, 3) = {5 \\\\choose 3} = \\\\frac{5!}{2!3!} = 10.$\n",
    "'''))\n"
   ]
  },
  {
   "cell_type": "markdown",
   "metadata": {
    "id": "VKE3NdQQ0nFo"
   },
   "source": [
    "### Exercise 5.5.2\n"
   ]
  },
  {
   "cell_type": "markdown",
   "metadata": {
    "id": "fm2i7zbc0pEF"
   },
   "source": [
    "How many different 3-scoop cups of ice cream are there with 31 flavors to choose from?\n"
   ]
  },
  {
   "cell_type": "code",
   "execution_count": null,
   "metadata": {
    "id": "coHKZNEm0qq5"
   },
   "outputs": [],
   "source": [
    "#@title Hint {display-mode: \"form\"}\n",
    "print('Do you really need a hint here?')"
   ]
  },
  {
   "cell_type": "code",
   "execution_count": null,
   "metadata": {
    "id": "5OwuNnrc0s3_"
   },
   "outputs": [],
   "source": [
    "#@title Answer {display-mode: \"form\"}\n",
    "from IPython.display import Markdown\n",
    "display(Markdown('''\n",
    "$\\\\left(\\\\!\\\\! {31 \\\\choose 3}\\\\!\\\\!\\\\right) = C(31 - 1 + 3, 3) = {33 \\\\choose 3} = \\\\frac{33!}{30!3!} = 5456.$\n",
    "'''))\n"
   ]
  },
  {
   "cell_type": "markdown",
   "metadata": {
    "id": "W64zqRE50xVY"
   },
   "source": [
    "### Exercise 5.5.3\n"
   ]
  },
  {
   "cell_type": "markdown",
   "metadata": {
    "id": "imLWWtwE0xpx"
   },
   "source": [
    "How many different ways are there to choose ten cookies from the three types: chocolate chip, oatmeal, and peanut butter?\n"
   ]
  },
  {
   "cell_type": "code",
   "execution_count": null,
   "metadata": {
    "id": "4v3weqlF0ynV"
   },
   "outputs": [],
   "source": [
    "#@title Hint {display-mode: \"form\"}\n",
    "from IPython.display import Markdown\n",
    "display(Markdown('The word *types* is a dead giveaway.'))\n"
   ]
  },
  {
   "cell_type": "code",
   "execution_count": null,
   "metadata": {
    "id": "D6FzlELz04M5"
   },
   "outputs": [],
   "source": [
    "#@title Answer {display-mode: \"form\"}\n",
    "from IPython.display import Markdown\n",
    "display(Markdown('''\n",
    "$\\\\left(\\\\!\\\\! {3 \\\\choose 10}\\\\!\\\\!\\\\right) = C(3 - 1 + 10, 10) = {12 \\\\choose 10} = \\\\frac{12!}{10!2!} = 66.$\n",
    "'''))\n"
   ]
  },
  {
   "cell_type": "markdown",
   "metadata": {
    "id": "n-mnWHx41FRO"
   },
   "source": [
    "### Exercise 5.5.4\n"
   ]
  },
  {
   "cell_type": "markdown",
   "metadata": {
    "id": "P7izuyw_1GKM"
   },
   "source": [
    "Find the connection between multichoosing and counting the number of solutions to equations of the form $x_1 + x_2 + \\cdots + x_m = q$, where $q$ is a positive integer, and all of the $x_i$ variables have nonnegative integer values.\n"
   ]
  },
  {
   "cell_type": "code",
   "execution_count": null,
   "metadata": {
    "id": "NzkU1_fV1Lsi"
   },
   "outputs": [],
   "source": [
    "#@title Hint {display-mode: \"form\"}\n",
    "from IPython.display import Markdown\n",
    "display(Markdown('Substitute $n$ for $m$ and $r$ for $q$.'))\n"
   ]
  },
  {
   "cell_type": "code",
   "execution_count": null,
   "metadata": {
    "id": "JXz0aV-31Oho"
   },
   "outputs": [],
   "source": [
    "#@title Answer {display-mode: \"form\"}\n",
    "from IPython.display import Markdown\n",
    "display(Markdown('''\n",
    "Renaming per the hint, in $x_1 + x_2 + \\\\cdots + x_n = r$, the variables count how many of each type of object there are for a total of $r$ objects in a counting scenario of $r$-combinations of $n$ objects with repetition --- so *n multichoose r* gives the number of possible solutions in nonnegative integers. (Zero is included, because you can choose zero of some types.)\n",
    "'''))\n"
   ]
  },
  {
   "cell_type": "markdown",
   "metadata": {
    "id": "f4w0bMXi1XYq"
   },
   "source": [
    "### Exercise 5.5.5\n"
   ]
  },
  {
   "cell_type": "markdown",
   "metadata": {
    "id": "pEoAgPtZ1Zf_"
   },
   "source": [
    "Refer to Exercise 5.4.7. What if order matters?\n"
   ]
  },
  {
   "cell_type": "markdown",
   "metadata": {
    "id": "KDR3DLQH1ay_"
   },
   "source": [
    "That is, what if we want to know which number goes with which suit?\n"
   ]
  },
  {
   "cell_type": "markdown",
   "metadata": {
    "id": "Z7EYECqW1bhX"
   },
   "source": [
    "The sets in the answer to Exercise 5.4.7 are reproduced below in table form, with an additional fifth column.\n"
   ]
  },
  {
   "cell_type": "markdown",
   "metadata": {
    "id": "mSXJBhfb1dVD"
   },
   "source": [
    "What do the numbers in this fifth column count?\n",
    "\n",
    "$\\begin{array}{rrrrr}\n",
    "  0 & 0 & 0 & 13 &  4\\\\\n",
    "  0 & 0 & 1 & 12 & 12\\\\\n",
    "  0 & 0 & 2 & 11 & 12\\\\\n",
    "  0 & 0 & 3 & 10 & 12\\\\\n",
    "  0 & 0 & 4 &  9 & 12\\\\\n",
    "  0 & 0 & 5 &  8 & 12\\\\\n",
    "  0 & 0 & 6 &  7 & 12\\\\\n",
    "  0 & 1 & 1 & 11 & 12\\\\\n",
    "  0 & 1 & 2 & 10 & 24\\\\\n",
    "  0 & 1 & 3 &  9 & 24\\\\\n",
    "  0 & 1 & 4 &  8 & 24\\\\\n",
    "  0 & 1 & 5 &  7 & 24\\\\\n",
    "  0 & 1 & 6 &  6 & 12\\\\\n",
    "  0 & 2 & 2 &  9 & 12\\\\\n",
    "  0 & 2 & 3 &  8 & 24\\\\\n",
    "  0 & 2 & 4 &  7 & 24\\\\\n",
    "  0 & 2 & 5 &  6 & 24\\\\\n",
    "  0 & 3 & 3 &  7 & 12\\\\\n",
    "  0 & 3 & 4 &  6 & 24\\\\\n",
    "  0 & 3 & 5 &  5 & 12\\\\\n",
    "  0 & 4 & 4 &  5 & 12\\\\\n",
    "  1 & 1 & 1 & 10 &  4\\\\\n",
    "  1 & 1 & 2 &  9 & 12\\\\\n",
    "  1 & 1 & 3 &  8 & 12\\\\\n",
    "  1 & 1 & 4 &  7 & 12\\\\\n",
    "  1 & 1 & 5 &  6 & 12\\\\\n",
    "  1 & 2 & 2 &  8 & 12\\\\\n",
    "  1 & 2 & 3 &  7 & 24\\\\\n",
    "  1 & 2 & 4 &  6 & 24\\\\\n",
    "  1 & 2 & 5 &  5 & 12\\\\\n",
    "  1 & 3 & 3 &  6 & 12\\\\\n",
    "  1 & 3 & 4 &  5 & 24\\\\\n",
    "  1 & 4 & 4 &  4 &  4\\\\\n",
    "  2 & 2 & 2 &  7 &  4\\\\\n",
    "  2 & 2 & 3 &  6 & 12\\\\\n",
    "  2 & 2 & 4 &  5 & 12\\\\\n",
    "  2 & 3 & 3 &  5 & 12\\\\\n",
    "  2 & 3 & 4 &  4 & 12\\\\\n",
    "  3 & 3 & 3 &  4 &  4\\\\\n",
    "\\end{array}$"
   ]
  },
  {
   "cell_type": "code",
   "execution_count": null,
   "metadata": {
    "id": "PIKnleEp10en"
   },
   "outputs": [],
   "source": [
    "#@title Hint {display-mode: \"form\"}\n",
    "from IPython.display import Markdown\n",
    "display(Markdown('''\n",
    "Another way to ask the question is, how many solutions in nonnegative integers are there to the equation $h + s + d + c = 13$?\n",
    "'''))\n"
   ]
  },
  {
   "cell_type": "code",
   "execution_count": null,
   "metadata": {
    "id": "LckXI4uB13_-"
   },
   "outputs": [],
   "source": [
    "#@title Answer {display-mode: \"form\"}\n",
    "from IPython.display import Markdown\n",
    "display(Markdown('''\n",
    "$\\\\left(\\\\!\\\\! {4 \\\\choose 13}\\\\!\\\\!\\\\right) = {16 \\\\choose 13} = 560.$\n",
    "'''))\n"
   ]
  },
  {
   "cell_type": "markdown",
   "metadata": {
    "id": "8DXS6cSE2Axa"
   },
   "source": [
    "### Exercise 5.5.6\n"
   ]
  },
  {
   "cell_type": "markdown",
   "metadata": {
    "id": "JTM10auP2CFm"
   },
   "source": [
    "What is the number of different strings that can be formed by reordering the characters in the word ```SUCCESS```?\n"
   ]
  },
  {
   "cell_type": "markdown",
   "metadata": {
    "id": "2-0X8KD82DDe"
   },
   "source": [
    "The position of the individual S's doesn't matter---only where there are S's does. One way to see this is to label the individual letters with subscripts --- $S_1, S_2,\\ \\mbox{and}\\ S_3$ --- and note that different permutations of the letters lead to the same string when the subscripts are removed:\n"
   ]
  },
  {
   "cell_type": "markdown",
   "metadata": {
    "id": "Iu1nXsdl2EPy"
   },
   "source": [
    "$$S_1UCCES_2S_3\\ \\mbox{  }\\ S_1UCCES_3S_2\\ \\mbox{  }\\ S_2UCCES_1S_3$$\n",
    "$$S_2UCCES_3S_1\\ \\mbox{  }\\ S_3UCCES_1S_2\\ \\mbox{  }\\ S_3UCCES_2S_1$$\n"
   ]
  },
  {
   "cell_type": "code",
   "execution_count": null,
   "metadata": {
    "id": "IUZMPq-P2XGx"
   },
   "outputs": [],
   "source": [
    "#@title Hint {display-mode: \"form\"}\n",
    "print('These are all indistinguishable if you remove the subscripts.')\n"
   ]
  },
  {
   "cell_type": "code",
   "execution_count": null,
   "metadata": {
    "id": "oarB_0LU2YW6"
   },
   "outputs": [],
   "source": [
    "#@title Answer {display-mode: \"form\"}\n",
    "from IPython.display import Markdown\n",
    "display(Markdown('''\n",
    "$7!/3!2!1!1! = 7 \\\\times 6 \\\\times 5 \\\\times 2 = 420.$\n",
    "'''))\n"
   ]
  },
  {
   "cell_type": "markdown",
   "metadata": {
    "id": "6uqtl5aW2bUy"
   },
   "source": [
    "### Exercise 5.5.7\n"
   ]
  },
  {
   "cell_type": "markdown",
   "metadata": {
    "id": "Eeb8I-R-2dV_"
   },
   "source": [
    "Make a connection between permutations with indistinguishable objects and combinations with repetitions.\n"
   ]
  },
  {
   "cell_type": "code",
   "execution_count": null,
   "metadata": {
    "id": "_164h1uF2eWp"
   },
   "outputs": [],
   "source": [
    "#@title Hint {display-mode: \"form\"}\n",
    "print('Study the patterns in Exercise 5.5.5.')\n"
   ]
  },
  {
   "cell_type": "code",
   "execution_count": null,
   "metadata": {
    "id": "UnJ-fPnL2hxe"
   },
   "outputs": [],
   "source": [
    "#@title Answer {display-mode: \"form\"}\n",
    "from IPython.display import Markdown\n",
    "display(Markdown('''\n",
    "This connection may make more sense if you think about the following counting question:\n",
    "\n",
    "How many ways can 11 different books be given to 4 students, Mary, Paul, Irene and Stan, if Mary is to receive 1 book, Paul is to receive 2 books, Irene is to receive 4 books, and Stan is to receive 4 books?\n",
    "\n",
    "${11 \\\\choose 4} \\\\times {11 - 4 \\\\choose 4} \\\\times {11 - 4 - 4 \\\\choose 2} \\\\times {11 - 4 - 4 - 2 \\\\choose 1} = {11 \\\\choose 4} \\\\times {7 \\\\choose 4} \\\\times {3 \\\\choose 2} \\\\times {1 \\\\choose 1}$\n",
    "\n",
    "calculates how many ways 4 of the 11 books can be given to Stan, then 4 of the remaining 11 - 4 = 7 books can be given to Irene, then 11 - 4 - 4 = 3 of the remaining books can be given to Paul, then the last remaining book given to Mary.\n",
    "\n",
    "If you expand the calculation using the factorial-based formula and notice denominators that cancel numerators in consecutive terms:\n",
    "\n",
    "$$\\\\frac{11!}{4!7!} \\\\times \\\\frac{7!}{4!3!} \\\\times \\\\frac{3!}{2!1!} \\\\times \\\\frac{1!}{1!0!} = \\\\frac{11!}{4!4!2!1!}.$$\n",
    "\n",
    "And indeed, ```MISSISSIPPI``` has $\\\\frac{11!}{4!4!2!1!} = 34650$ permutations.\n",
    "'''))"
   ]
  },
  {
   "cell_type": "markdown",
   "metadata": {
    "id": "S3DZjzKP8ksB"
   },
   "source": [
    "## <font color=red>5.6 Basic Probability Theory</font>\n"
   ]
  },
  {
   "cell_type": "markdown",
   "metadata": {
    "id": "FTVY333S8lbG"
   },
   "source": [
    "### Exercise 5.6.1\n"
   ]
  },
  {
   "cell_type": "markdown",
   "metadata": {
    "id": "miJf8fNr8mo1"
   },
   "source": [
    "What improvements or fixes does this ```probability``` function need?\n"
   ]
  },
  {
   "cell_type": "code",
   "execution_count": null,
   "metadata": {
    "id": "X-Abntjf8nWK"
   },
   "outputs": [],
   "source": [
    "def probability(event, space):\n",
    "  \"\"\"A function that takes an event and a space\n",
    "     and returns a number between 0 and 1.\n",
    "  \"\"\"\n",
    "  result = len(event) / len(space)\n",
    "  # Your code goes here\n",
    "  return result"
   ]
  },
  {
   "cell_type": "markdown",
   "metadata": {
    "id": "sxzh1kAW8rL5"
   },
   "source": [
    "Replace ```# Your code goes here``` with what should go there."
   ]
  },
  {
   "cell_type": "code",
   "execution_count": null,
   "metadata": {
    "id": "plM5CkAQ8vFV"
   },
   "outputs": [],
   "source": [
    "#@title Hint {display-mode: \"form\"}\n",
    "print('Try it with various concrete sets for event and space.')"
   ]
  },
  {
   "cell_type": "code",
   "execution_count": null,
   "metadata": {
    "id": "jK28AFcS8yAh"
   },
   "outputs": [],
   "source": [
    "#@title Answer {display-mode: \"form\"}\n",
    "from IPython.display import Markdown\n",
    "display(Markdown('''\n",
    "Your code that should go here is:\n",
    "\n",
    "```if not event.issubset(space): raise ValueError```\n",
    "'''))"
   ]
  },
  {
   "cell_type": "markdown",
   "metadata": {
    "id": "Nx8RiuSn88PG"
   },
   "source": [
    "### Exercise 5.6.2\n"
   ]
  },
  {
   "cell_type": "markdown",
   "metadata": {
    "id": "t9jjmUIt8-bB"
   },
   "source": [
    "Generalize the two- and four-fair-coin-flipping experiment to deal with the experiment of flipping $2n$ coins.\n"
   ]
  },
  {
   "cell_type": "markdown",
   "metadata": {
    "id": "k-sSlygE8_ZP"
   },
   "source": [
    "Find the probability of the event that $n$ will be heads, and $n$ will be tails.\n"
   ]
  },
  {
   "cell_type": "code",
   "execution_count": null,
   "metadata": {
    "id": "X1_ECNWY9CDN"
   },
   "outputs": [],
   "source": [
    "#@title Hint {display-mode: \"form\"}\n",
    "from IPython.display import Markdown\n",
    "display(Markdown('The answer will be a function of $n$.'))\n"
   ]
  },
  {
   "cell_type": "code",
   "execution_count": null,
   "metadata": {
    "id": "YgugkjIr9KXE"
   },
   "outputs": [],
   "source": [
    "#@title Answer {display-mode: \"form\"}\n",
    "from IPython.display import Markdown\n",
    "display(Markdown('''\n",
    "The event size is ${2n \\\\choose n} = \\\\frac{(2n)!}{(2n - n)!n!} = \\\\frac{(2n!)}{(n!)^{2}}.$\n",
    "\n",
    "The space size is $2^{2n}$.\n",
    "\n",
    "The probability is the former over the latter, or $\\\\frac{(2n!)}{((n!)^{2} \\\\cdot 2^{2n})}$.\n",
    "'''))\n"
   ]
  },
  {
   "cell_type": "markdown",
   "metadata": {
    "id": "05emUmQd9Van"
   },
   "source": [
    "### Exercise 5.6.3\n"
   ]
  },
  {
   "cell_type": "markdown",
   "metadata": {
    "id": "SFWDpQFP9Xux"
   },
   "source": [
    "Ruth and Ed flip a coin to decide who’s going to do the chores. One day Ed complains --- he thinks he loses too often. So Ruth says, &ldquo;OK, this time you flip two coins, and I flip one. If you get more heads than I do, I'll clean the toilets.&rdquo; Ed likes Ruth's display of generosity and says, &ldquo;You're on!&rdquo;\n"
   ]
  },
  {
   "cell_type": "markdown",
   "metadata": {
    "id": "pQmhu3BZ9Z6W"
   },
   "source": [
    "What are his chances?\n"
   ]
  },
  {
   "cell_type": "code",
   "execution_count": null,
   "metadata": {
    "id": "GRm5V5Rp9bbX"
   },
   "outputs": [],
   "source": [
    "#@title Hint {display-mode: \"form\"}\n",
    "from IPython.display import Markdown\n",
    "display(Markdown('''\n",
    "This was adapted from a problem posed by Marilyn Vos Savant in her &ldquo;Ask Marilyn&rdquo; *Parade Magazine* column.\n",
    "'''))\n"
   ]
  },
  {
   "cell_type": "code",
   "execution_count": null,
   "metadata": {
    "id": "LtAYpWq09uXo"
   },
   "outputs": [],
   "source": [
    "#@title Answer {display-mode: \"form\"}\n",
    "from IPython.display import Markdown\n",
    "display(Markdown('''\n",
    "Ed's chances are exactly the same!\n",
    "\n",
    "There are eight possibilities, and in only four of them does Ed have more heads than Ruth:\n",
    "\n",
    "| Ed | Ruth | H(Ed) > H(Ruth) |\n",
    "|:--:|:----:|:---------------:|\n",
    "| HH |  H   | Yes |\n",
    "| HT |  H   | No  |\n",
    "| TH |  H   | No  |\n",
    "| TT |  H   | No  |\n",
    "| HH |  T   | Yes |\n",
    "| HT |  T   | Yes |\n",
    "| TH |  T   | Yes |\n",
    "| TT |  T   | No  |\n",
    "'''))\n"
   ]
  },
  {
   "cell_type": "markdown",
   "metadata": {
    "id": "lXSjEGQD_wC0"
   },
   "source": [
    "### Exercise 5.6.4\n"
   ]
  },
  {
   "cell_type": "markdown",
   "metadata": {
    "id": "icVOJ-56_x2K"
   },
   "source": [
    "What is the probability of rolling an even number with one roll of a fair die?\n"
   ]
  },
  {
   "cell_type": "code",
   "execution_count": null,
   "metadata": {
    "id": "oO2gndaD_zcH"
   },
   "outputs": [],
   "source": [
    "#@title Hint {display-mode: \"form\"}\n",
    "print('This is really easy.')\n"
   ]
  },
  {
   "cell_type": "code",
   "execution_count": null,
   "metadata": {
    "id": "T8LZv-mN_1cw"
   },
   "outputs": [],
   "source": [
    "#@title Answer {display-mode: \"form\"}\n",
    "from IPython.display import Markdown\n",
    "display(Markdown('''\n",
    "$3/6 = 1/2$.\n",
    "'''))\n"
   ]
  },
  {
   "cell_type": "markdown",
   "metadata": {
    "id": "mL4E9ox0_4AO"
   },
   "source": [
    "### Exercise 5.6.5\n"
   ]
  },
  {
   "cell_type": "markdown",
   "metadata": {
    "id": "Kveb6aPt_6IT"
   },
   "source": [
    "When you roll two dice, what is the probability that both of them will be sixes?\n"
   ]
  },
  {
   "cell_type": "code",
   "execution_count": null,
   "metadata": {
    "id": "sdeD5cV8_7KB"
   },
   "outputs": [],
   "source": [
    "#@title Hint {display-mode: \"form\"}\n",
    "print('This is really easy too.')\n"
   ]
  },
  {
   "cell_type": "code",
   "execution_count": null,
   "metadata": {
    "id": "BURlgwzK_-Hg"
   },
   "outputs": [],
   "source": [
    "#@title Answer {display-mode: \"form\"}\n",
    "from IPython.display import Markdown\n",
    "display(Markdown('''\n",
    "$\\\\frac{1}{6} \\\\times \\\\frac{1}{6} = \\\\frac{1}{36}$.\n",
    "'''))\n"
   ]
  },
  {
   "cell_type": "markdown",
   "metadata": {
    "id": "TguL8zRzAAyB"
   },
   "source": [
    "### Exercise 5.6.6\n"
   ]
  },
  {
   "cell_type": "markdown",
   "metadata": {
    "id": "4dpzlzrnACD8"
   },
   "source": [
    "When you roll two dice, what is the probability that the sum of the numbers (1-6) on their faces will be a multiple of 3 --- i.e., 3, 6, 9 or 12?\n"
   ]
  },
  {
   "cell_type": "code",
   "execution_count": null,
   "metadata": {
    "id": "XDTApBpfADaF"
   },
   "outputs": [],
   "source": [
    "#@title Hint {display-mode: \"form\"}\n",
    "print(\"Assume order matters. Then try it with the assumption that order doesn't matter.\")\n"
   ]
  },
  {
   "cell_type": "code",
   "execution_count": null,
   "metadata": {
    "id": "ITiBwua9AIGd"
   },
   "outputs": [],
   "source": [
    "#@title Answer {display-mode: \"form\"}\n",
    "from IPython.display import Markdown\n",
    "display(Markdown('''\n",
    "The 36 possibilities, all equally likely, are:\n",
    "\n",
    "|         |         |         |         |         |         |\n",
    "|---------|---------|---------|---------|---------|---------|\n",
    "| (1, 1), | (1, 2), | (1, 3), | (1, 4), | (1, 5), | (1, 6), |\n",
    "| (2, 1), | (2, 2), | (2, 3), | (2, 4), | (2, 5), | (2, 6), |\n",
    "| (3, 1), | (3, 2), | (3, 3), | (3, 4), | (3, 5), | (3, 6), |\n",
    "| (4, 1), | (4, 2), | (4, 3), | (4, 4), | (4, 5), | (4, 6), |\n",
    "| (5, 1), | (5, 2), | (5, 3), | (5, 4), | (5, 5), | (5, 6), |\n",
    "| (6, 1), | (6, 2), | (6, 3), | (6, 4), | (6, 5), | (6, 6)  |\n",
    "\n",
    "The event has $12$ points:\n",
    "\n",
    "|         |         |         |         |         |         |\n",
    "|---------|---------|---------|---------|---------|---------|\n",
    "| (1, 2), | (2, 1), | (1, 5), | (5, 1), | (2, 4), | (4, 2), |\n",
    "| (3, 3), | (3, 6), | (6, 3), | (4, 5), | (5, 4), | (6, 6)  |\n",
    "\n",
    "Hence $12/36$ or $1/3$ is the probability. Because of symmetry, assuming the order of the dice doesn't matter, which means the space and event are sets, not tuples, the probability would be\n",
    "\n",
    "|         |         |         |         |         |         |\n",
    "|--------:|---------|---------|---------|---------|---------|\n",
    "| len({{1, 2}, | {1, 5}, | {2, 4}, | {3, 3}, | | |\n",
    "|      {3, 6}, | {4, 5}, | {6, 6}  | })      | / | |\n",
    "| len({{1, 1}, | {1, 2}, | {1, 3}, | {1, 4}, | {1, 5}, | {1, 6}, |\n",
    "|      {2, 2}, | {2, 3}, | {2, 4}, | {2, 5}, | {2, 6}, | |\n",
    "|      {3, 3}, | {3, 4}, | {3, 5}, | {3, 6}, | | |\n",
    "|      {4, 4}, | {4, 5}, | {4, 6}, | | | |\n",
    "|      {5, 5}, | {5, 6}, | | | | |\n",
    "|      {6, 6}  | })      | | | | |\n",
    "\n",
    "which equals $7/21 = 1/3$, which is the same answer.\n",
    "'''))\n"
   ]
  },
  {
   "cell_type": "markdown",
   "metadata": {
    "id": "twz7SYA5DByA"
   },
   "source": [
    "### Exercise 5.6.7\n"
   ]
  },
  {
   "cell_type": "markdown",
   "metadata": {
    "id": "9_-DZWNtDCkf"
   },
   "source": [
    "What is the probability that the following events will occur when randomly selecting a permutation of the $26$ letters (assumed all uppercase) of the alphabet?\n",
    "1. The first 13 letters will be in alphabetical order.\n",
    "2. The first and last letters will be B and Y.\n",
    "3. The letter I will come before both J and K.\n",
    "4. The letters O and P will be next to each other.\n",
    "5. The letters U and V will be separated by at least 23 letters.\n"
   ]
  },
  {
   "cell_type": "code",
   "execution_count": null,
   "metadata": {
    "id": "FvPuNrFLDEE-"
   },
   "outputs": [],
   "source": [
    "#@title Hint {display-mode: \"form\"}\n",
    "from IPython.display import Markdown\n",
    "display(Markdown('''\n",
    "1. For this you don't need a probability space size of 26!.\n",
    "2. The number $24!$ will figure into this.\n",
    "3. Just consider the relative (not absolute) placements of I, J, and K.\n",
    "4. A permutation of $25$ things is featured here.\n",
    "5. There are six different ways this can happen.\n",
    "'''))\n"
   ]
  },
  {
   "cell_type": "code",
   "execution_count": null,
   "metadata": {
    "id": "L7z49WYyDLM7"
   },
   "outputs": [],
   "source": [
    "#@title Answer {display-mode: \"form\"}\n",
    "from IPython.display import Markdown\n",
    "display(Markdown('''\n",
    "1. There are 13! possible arrangements of the first 13 letters of the permutation, and in only one of these are they in alphabetical order. Therefore the answer is 1/13!.\n",
    "2. Once these two conditions are met, there are 24! ways to choose the remaining letters for positions 2 through 25. Therefore the answer is 24!/26! = 1/650.\n",
    "3. Just looking at the relative placements of I, J, and K, only one-third of the time will I come first. The answer is therefore 1/3.\n",
    "4. In effect we are forming a permutation of 25 items --- the letters A through N\n",
    "and Q through Z and the double letter combination OP or PO. There are 25! ways\n",
    "to permute these items, and for each of these permutations there are two choices\n",
    "as to whether O or P comes first. Thus there are twice 25! ways to form such\n",
    "a permutation, and therefore the answer is 2(25!)/26! = 1/13.\n",
    "5. Letting X$^{n}$ mean $n$ repetitions of X, here are the six ways this can happen: UX$^{24}$V, VX$^{24}$U, XUX$^{23}$V, XVX$^{23}$U, UX$^{23}$VX, and VX$^{23}$UX, where X stands for any letter other than U and V (but of course all the Xs are different in each permutation). In each of these there are 24! ways to permute the letters other than U and V, so there are 24! permutations of each type. This gives a total of 6(24!) permutations meeting the conditions, so the answer is 6(24!)/26! = 3/325.\n",
    "'''))\n"
   ]
  },
  {
   "cell_type": "markdown",
   "metadata": {
    "id": "XnLxoos-HAiB"
   },
   "source": [
    "### Exercise 5.6.8\n"
   ]
  },
  {
   "cell_type": "markdown",
   "metadata": {
    "id": "I5I6S3UXHCVY"
   },
   "source": [
    "What is the probability that a randomly chosen 3-digit number unambiguously designates a date (month number plus day number paired without punctuation)? E.g., 111 is ambiguous, it could mean January 11th (month 1, day 11) or November 1st (month 11, day 1). Don't count numbers with zeros in the second or third position (why not the first position?) as ambiguous, given the rule that days are never written with a leading zero. E.g., 101 can only mean October 1st, not January 1st. Eliminate from the event space any invalid numbers, e.g. 345, as neither 3/45 nor 34/5 is a valid date.\n"
   ]
  },
  {
   "cell_type": "code",
   "execution_count": null,
   "metadata": {
    "id": "G90XmtAiHDpf"
   },
   "outputs": [],
   "source": [
    "#@title Hint {display-mode: \"form\"}\n",
    "from IPython.display import Markdown\n",
    "display(Markdown('''\n",
    "Concretize! List all the 3-digit numbers from 100 to 999 (that's all\n",
    "of them) and divide them into two sets, valid and invalid. Carefully count\n",
    "the members of each, and divide the number of valid (which means\n",
    "unambiguous) date-numbers by the total $(999 - 100 + 1 = 900)$.\n",
    "'''))\n"
   ]
  },
  {
   "cell_type": "code",
   "execution_count": null,
   "metadata": {
    "id": "sIyZRLIIHJR4"
   },
   "outputs": [],
   "source": [
    "#@title Answer {display-mode: \"form\"}\n",
    "def compute_unambiguous_date_probability():\n",
    "  invalid = [100, (111, 119), (121, 129), (132, 209),\n",
    "             (230, 309), (332, 409),\n",
    "             (431, 509), (532, 609),\n",
    "             (631, 709), (732, 809),\n",
    "             (832, 909), (931, 999)]\n",
    "  valid = [(101, 110), 120, 130, 131,\n",
    "           (210, 229), (310, 331),\n",
    "           (410, 430), (510, 531),\n",
    "           (610, 630), (710, 731),\n",
    "           (810, 831), (910, 930)]\n",
    "  all_invalid = set()\n",
    "  for x in invalid:\n",
    "    all_invalid.update([x] if type(x) is int else \\\n",
    "                           list(range(x[0], x[1] + 1)))\n",
    "  all_valid = set()\n",
    "  for x in valid:\n",
    "    all_valid.update([x] if type(x) is int else \\\n",
    "                         list(range(x[0], x[1] + 1)))\n",
    "  return len(all_valid) / (999 - 100 + 1)\n",
    "\n",
    "print(compute_unambiguous_date_probability())\n"
   ]
  },
  {
   "cell_type": "markdown",
   "metadata": {
    "id": "PVmzRZ1fITM6"
   },
   "source": [
    "### Exercise 5.6.9"
   ]
  },
  {
   "cell_type": "markdown",
   "metadata": {
    "id": "xP4wJuVCIUOG"
   },
   "source": [
    "A dark room contains two barrels. The first barrel is filled with green marbles, the second is filled with a half-and-half mixture of green and blue marbles. So there's a 100% chance of choosing a green marble from the first barrel, and a 50% chance of choosing either color in the second barrel. You reach into one of the barrels (it's dark so you don't know which one) and select a marble at random. It's green. You select another. It's green too. You select a third, a fourth, a fifth, etc. Green each time. What is the *minimum* number of marbles you need to select to *exceed* a probability of 99% that you are picking them out of the all-green barrel? (Note that there are enough marbles so that the answer does not depend on how many marbles are in the second barrel.)\n"
   ]
  },
  {
   "cell_type": "code",
   "execution_count": null,
   "metadata": {
    "id": "AaeKcL69IWUw"
   },
   "outputs": [],
   "source": [
    "#@title Hint {display-mode: \"form\"}\n",
    "from IPython.display import Markdown\n",
    "display(Markdown('''\n",
    "Assume the probability of choosing *n* green marbles in a row from the\n",
    "half-and-half barrel is $(1/2)^{n}$. Compute the complementary probability ---\n",
    "that of choosing at least one blue marble --- to be $1 - (1/2)^{n}$. That\n",
    "probability first exceeds 99% when *n* equals what? In other words, after\n",
    "how many green marbles in a row are you 99+% sure that you are picking marbles\n",
    "out of the all-green barrel?\n",
    "'''))\n"
   ]
  },
  {
   "cell_type": "code",
   "execution_count": null,
   "metadata": {
    "id": "GccJwDM1IdPA"
   },
   "outputs": [],
   "source": [
    "#@title Answer {display-mode: \"form\"}\n",
    "from IPython.display import Markdown\n",
    "display(Markdown('''\n",
    "The probability first exceeds 99% when *n* equals 7. That is when $2^{n} >\n",
    "100$, which is saying $1 - (1/2)^{n} > .99$ in an equivalent way.\n",
    "'''))\n"
   ]
  },
  {
   "cell_type": "markdown",
   "metadata": {
    "id": "XXblHmXVIgD-"
   },
   "source": [
    "## <font color=red>5.7 A Dicey Analysis</font>\n"
   ]
  },
  {
   "cell_type": "markdown",
   "metadata": {
    "id": "HkevPW_8IhIn"
   },
   "source": [
    "No exercises.\n"
   ]
  },
  {
   "cell_type": "markdown",
   "metadata": {
    "id": "AmWO5c67Ih4s"
   },
   "source": [
    "## <font color=red>5.8 A Matter of Order</font>\n"
   ]
  },
  {
   "cell_type": "markdown",
   "metadata": {
    "id": "mVSrA1kOIilE"
   },
   "source": [
    "### Exercise 5.8.1\n"
   ]
  },
  {
   "cell_type": "markdown",
   "metadata": {
    "id": "d_Ics7QKI-rK"
   },
   "source": [
    "Find the connection between the strings in these two tables.\n"
   ]
  },
  {
   "cell_type": "markdown",
   "metadata": {
    "id": "HHaWDVzxI_Fy"
   },
   "source": [
    "The first table gives representations of the subsets of ```set(range(10))``` with all but those of size five filtered out:\n"
   ]
  },
  {
   "cell_type": "markdown",
   "metadata": {
    "id": "Vtdo3-a1JAGq"
   },
   "source": [
    "$\\begin{array}{llllllll}\n",
    "56789 & 46789 & 45789 & 45689 & 45679 & 45678 & 36789 & 35789 \\\\\n",
    "35689 & 35679 & 35678 & 34789 & 34689 & 34679 & 34678 & 34589 \\\\\n",
    "34579 & 34578 & 34569 & 34568 & 34567 & 26789 & 25789 & 25689 \\\\\n",
    "25679 & 25678 & 24789 & 24689 & 24679 & 24678 & 24589 & 24579 \\\\\n",
    "24578 & 24569 & 24568 & 24567 & 23789 & 23689 & 23679 & 23678 \\\\\n",
    "23589 & 23579 & 23578 & 23569 & 23568 & 23567 & 23489 & 23479 \\\\\n",
    "23478 & 23469 & 23468 & 23467 & 23459 & 23458 & 23457 & 23456 \\\\\n",
    "16789 & 15789 & 15689 & 15679 & 15678 & 14789 & 14689 & 14679 \\\\\n",
    "14678 & 14589 & 14579 & 14578 & 14569 & 14568 & 14567 & 13789 \\\\\n",
    "13689 & 13679 & 13678 & 13589 & 13579 & 13578 & 13569 & 13568 \\\\\n",
    "13567 & 13489 & 13479 & 13478 & 13469 & 13468 & 13467 & 13459 \\\\\n",
    "13458 & 13457 & 13456 & 12789 & 12689 & 12679 & 12678 & 12589 \\\\\n",
    "12579 & 12578 & 12569 & 12568 & 12567 & 12489 & 12479 & 12478 \\\\\n",
    "12469 & 12468 & 12467 & 12459 & 12458 & 12457 & 12456 & 12389 \\\\\n",
    "12379 & 12378 & 12369 & 12368 & 12367 & 12359 & 12358 & 12357 \\\\\n",
    "12356 & 12349 & 12348 & 12347 & 12346 & 12345 & 06789 & 05789 \\\\\n",
    "05689 & 05679 & 05678 & 04789 & 04689 & 04679 & 04678 & 04589 \\\\\n",
    "04579 & 04578 & 04569 & 04568 & 04567 & 03789 & 03689 & 03679 \\\\\n",
    "03678 & 03589 & 03579 & 03578 & 03569 & 03568 & 03567 & 03489 \\\\\n",
    "03479 & 03478 & 03469 & 03468 & 03467 & 03459 & 03458 & 03457 \\\\\n",
    "03456 & 02789 & 02689 & 02679 & 02678 & 02589 & 02579 & 02578 \\\\\n",
    "02569 & 02568 & 02567 & 02489 & 02479 & 02478 & 02469 & 02468 \\\\\n",
    "02467 & 02459 & 02458 & 02457 & 02456 & 02389 & 02379 & 02378 \\\\\n",
    "02369 & 02368 & 02367 & 02359 & 02358 & 02357 & 02356 & 02349 \\\\\n",
    "02348 & 02347 & 02346 & 02345 & 01789 & 01689 & 01679 & 01678 \\\\\n",
    "01589 & 01579 & 01578 & 01569 & 01568 & 01567 & 01489 & 01479 \\\\\n",
    "01478 & 01469 & 01468 & 01467 & 01459 & 01458 & 01457 & 01456 \\\\\n",
    "01389 & 01379 & 01378 & 01369 & 01368 & 01367 & 01359 & 01358 \\\\\n",
    "01357 & 01356 & 01349 & 01348 & 01347 & 01346 & 01345 & 01289 \\\\\n",
    "01279 & 01278 & 01269 & 01268 & 01267 & 01259 & 01258 & 01257 \\\\\n",
    "01256 & 01249 & 01248 & 01247 & 01246 & 01245 & 01239 & 01238 \\\\\n",
    "01237 & 01236 & 01235 & 01234 &       &       &       & \\\\\n",
    "\\end{array}$\n"
   ]
  },
  {
   "cell_type": "markdown",
   "metadata": {
    "id": "ZXdxRMyzJDhJ"
   },
   "source": [
    "This second table gives alternate representations of the first table's strings:\n"
   ]
  },
  {
   "cell_type": "markdown",
   "metadata": {
    "id": "22H_WYyCJFxe"
   },
   "source": [
    "$\\begin{array}{llllllll}\n",
    "000005 & 000014 & 000023 & 000032 & 000041 & 000050 & 000104 & 000113 \\\\\n",
    "000122 & 000131 & 000140 & 000203 & 000212 & 000221 & 000230 & 000302 \\\\\n",
    "000311 & 000320 & 000401 & 000410 & 000500 & 001004 & 001013 & 001022 \\\\\n",
    "001031 & 001040 & 001103 & 001112 & 001121 & 001130 & 001202 & 001211 \\\\\n",
    "001220 & 001301 & 001310 & 001400 & 002003 & 002012 & 002021 & 002030 \\\\\n",
    "002102 & 002111 & 002120 & 002201 & 002210 & 002300 & 003002 & 003011 \\\\\n",
    "003020 & 003101 & 003110 & 003200 & 004001 & 004010 & 004100 & 005000 \\\\\n",
    "010004 & 010013 & 010022 & 010031 & 010040 & 010103 & 010112 & 010121 \\\\\n",
    "010130 & 010202 & 010211 & 010220 & 010301 & 010310 & 010400 & 011003 \\\\\n",
    "011012 & 011021 & 011030 & 011102 & 011111 & 011120 & 011201 & 011210 \\\\\n",
    "011300 & 012002 & 012011 & 012020 & 012101 & 012110 & 012200 & 013001 \\\\\n",
    "013010 & 013100 & 014000 & 020003 & 020012 & 020021 & 020030 & 020102 \\\\\n",
    "020111 & 020120 & 020201 & 020210 & 020300 & 021002 & 021011 & 021020 \\\\\n",
    "021101 & 021110 & 021200 & 022001 & 022010 & 022100 & 023000 & 030002 \\\\\n",
    "030011 & 030020 & 030101 & 030110 & 030200 & 031001 & 031010 & 031100 \\\\\n",
    "032000 & 040001 & 040010 & 040100 & 041000 & 050000 & 100004 & 100013 \\\\\n",
    "100022 & 100031 & 100040 & 100103 & 100112 & 100121 & 100130 & 100202 \\\\\n",
    "100211 & 100220 & 100301 & 100310 & 100400 & 101003 & 101012 & 101021 \\\\\n",
    "101030 & 101102 & 101111 & 101120 & 101201 & 101210 & 101300 & 102002 \\\\\n",
    "102011 & 102020 & 102101 & 102110 & 102200 & 103001 & 103010 & 103100 \\\\\n",
    "104000 & 110003 & 110012 & 110021 & 110030 & 110102 & 110111 & 110120 \\\\\n",
    "110201 & 110210 & 110300 & 111002 & 111011 & 111020 & 111101 & 111110 \\\\\n",
    "111200 & 112001 & 112010 & 112100 & 113000 & 120002 & 120011 & 120020 \\\\\n",
    "120101 & 120110 & 120200 & 121001 & 121010 & 121100 & 122000 & 130001 \\\\\n",
    "130010 & 130100 & 131000 & 140000 & 200003 & 200012 & 200021 & 200030 \\\\\n",
    "200102 & 200111 & 200120 & 200201 & 200210 & 200300 & 201002 & 201011 \\\\\n",
    "201020 & 201101 & 201110 & 201200 & 202001 & 202010 & 202100 & 203000 \\\\\n",
    "210002 & 210011 & 210020 & 210101 & 210110 & 210200 & 211001 & 211010 \\\\\n",
    "211100 & 212000 & 220001 & 220010 & 220100 & 221000 & 230000 & 300002 \\\\\n",
    "300011 & 300020 & 300101 & 300110 & 300200 & 301001 & 301010 & 301100 \\\\\n",
    "302000 & 310001 & 310010 & 310100 & 311000 & 320000 & 400001 & 400010 \\\\\n",
    "400100 & 401000 & 410000 & 500000 &        &        &        & \\\\\n",
    "\\end{array}$\n"
   ]
  },
  {
   "cell_type": "code",
   "execution_count": null,
   "metadata": {
    "id": "waqutTlvJJMe"
   },
   "outputs": [],
   "source": [
    "#@title Hint {display-mode: \"form\"}\n",
    "from IPython.display import Markdown\n",
    "display(Markdown('''\n",
    "Remember the &ldquo;stars and bars&rdquo; multichoosing visual representation?\n",
    "'''))\n"
   ]
  },
  {
   "cell_type": "code",
   "execution_count": null,
   "metadata": {
    "id": "o7_QsJxWJN3d"
   },
   "outputs": [],
   "source": [
    "#@title Answer {display-mode: \"form\"}\n",
    "from IPython.display import Markdown\n",
    "display(Markdown('''\n",
    "The sets, with their members considered ordered, correspond to different ways to\n",
    "place stars in 10 slots, the bars going in the remaining slots for the\n",
    "multichoosing representation. The set $\\\\{5, 6, 7, 8, 9\\\\}$, &ldquo;stringified&rdquo;\n",
    "as $56789$, corresponds to $000005$, which is\n",
    "&ldquo;$\\\\vert\\\\ \\\\vert\\\\ \\\\vert\\\\ \\\\vert\\\\ \\\\vert\\\\ \\\\star\\\\ \\\\star\\\\ \\\\star\\\\ \\\\star\\\\ \\\\star$&rdquo;\n",
    "or the multiset $\\\\{5 \\\\cdot 6\\\\}$. The numbers 5, 6, 7, 8 and 9 are the 0-indexed\n",
    "*positions* of the stars. Similarly, $12789$ corresponds to $020003$, which is\n",
    "&ldquo;$\\\\vert\\\\ \\\\star\\\\ \\\\star\\\\ \\\\vert\\\\ \\\\vert\\\\ \\\\vert\\\\ \\\\vert\\\\ \\\\star\\\\ \\\\star\\\\ \\\\star$&rdquo;,\n",
    "or the multiset $\\\\{2 \\\\cdot 2, 3 \\\\cdot 6\\}$.\n",
    "'''))\n"
   ]
  },
  {
   "cell_type": "markdown",
   "metadata": {
    "id": "Rex8b2TKJr48"
   },
   "source": [
    "### Exercise 5.8.2\n"
   ]
  },
  {
   "cell_type": "markdown",
   "metadata": {
    "id": "8q6XUXi0Ju2G"
   },
   "source": [
    "Find the connection between the strings in the second table in Exercise (above)\n",
    "and the corresponding dice rolls, the first nine of which are: 66666, 56666,\n",
    "55666, 55566, 55556, 55555, 46666, 45666, and 45566.\n"
   ]
  },
  {
   "cell_type": "code",
   "execution_count": null,
   "metadata": {
    "id": "DYcHYfyoJwD0"
   },
   "outputs": [],
   "source": [
    "#@title Hint {display-mode: \"form\"}\n",
    "print('''\n",
    "These nine rolls are symbolized, respectively, by Yahtzee, 4ofKind, FullHouse,\n",
    "FullHouse, 4ofKind, Yahtzee, 4ofKind, 3ofKind, and TwoPair.\n",
    "''')\n"
   ]
  },
  {
   "cell_type": "code",
   "execution_count": null,
   "metadata": {
    "id": "VnIwIYQJJ0Y9"
   },
   "outputs": [],
   "source": [
    "#@title Answer {display-mode: \"form\"}\n",
    "from IPython.display import Markdown\n",
    "display(Markdown('''\n",
    "These are multiset representations, being the ordered counts of how many of each\n",
    "number are in each type of roll. Thus, 000005 means 0 ones, 0 twos, 0 threes, 0\n",
    "fours, 0 fives, and 5 sixes (a Yahtzee instance), and 000122 means 0 ones, 0\n",
    "twos, 0 threes, 1 four, 2 fives, and 2 sixes (a TwoPair instance). In multiset\n",
    "notation, $000005$ is $\\{5 \\cdot 6\\}$, and $000122$ is $\\{1 \\cdot 4, 2 \\cdot 5,\n",
    "2 \\cdot 6\\}$.\n",
    "'''))\n"
   ]
  },
  {
   "cell_type": "markdown",
   "metadata": {
    "id": "OlonBl1eJ7CP"
   },
   "source": [
    "### Exercise 5.8.3\n"
   ]
  },
  {
   "cell_type": "markdown",
   "metadata": {
    "id": "yghosI-nJ8QH"
   },
   "source": [
    "Under the assumption that order does not matter and therefore\n",
    "$$\\left(\\!\\! {6 \\choose 4}\\!\\!\\right) = {10 \\choose 5} = 252$$\n",
    "is the size of the probability space, calculate the probabilities of getting\n",
    "1. a Yahtzee (five of a kind);\n",
    "2. four of a kind (4ofKind);\n",
    "3. a straight;\n",
    "4. a full house (FullHouse);\n",
    "5. three of a kind (3ofKind);\n",
    "6. two pair (TwoPair);\n",
    "7. one pair; and\n",
    "8. junk.\n"
   ]
  },
  {
   "cell_type": "code",
   "execution_count": null,
   "metadata": {
    "id": "0t24TDT7KEYi"
   },
   "outputs": [],
   "source": [
    "#@title Hint {display-mode: \"form\"}\n",
    "from IPython.display import Markdown\n",
    "display(Markdown('''\n",
    "1. Count the number of rolls of this and the other seven types carefully.\n",
    "2. Perhaps writing some code would help?\n",
    "3. Are you starting to get the hang of this?\n",
    "4. It's the same as four of a kind. Verify this.\n",
    "5. Carefully count with code.\n",
    "6. It's the same as three of a kind.\n",
    "7. It's the same as two pair and three of a kind.\n",
    "8. Even more rare than five of a kind!\n",
    "'''))\n"
   ]
  },
  {
   "cell_type": "code",
   "execution_count": null,
   "metadata": {
    "id": "9Qu9lfu5KGJN"
   },
   "outputs": [],
   "source": [
    "#@title Answer {display-mode: \"form\"}\n",
    "print('''\n",
    "1. 6/252 = 0.023809523809523808.\n",
    "2. 30/252 = 0.11904761904761904.\n",
    "3. 2/252 = 0.007936507936507936.\n",
    "4. 30/252 = 0.11904761904761904.\n",
    "5. 60/252 = 0.23809523809523808.\n",
    "6. 60/252 = 0.23809523809523808.\n",
    "7. 60/252 = 0.23809523809523808.\n",
    "8. 4/252 = 0.015873015873015872.\n",
    "''')\n"
   ]
  },
  {
   "cell_type": "markdown",
   "metadata": {
    "id": "nkFekoWTKWkk"
   },
   "source": [
    "### Exercise 5.8.4\n"
   ]
  },
  {
   "cell_type": "markdown",
   "metadata": {
    "id": "beaTidyfKW5H"
   },
   "source": [
    "Tabulate all 8 probabilities from Exercise 5.8.3 and make sure they add up to 1.\n"
   ]
  },
  {
   "cell_type": "markdown",
   "metadata": {
    "id": "uSplAfx-KZA_"
   },
   "source": [
    "Based on this, which type of roll should have the highest scoring value?\n"
   ]
  },
  {
   "cell_type": "code",
   "execution_count": null,
   "metadata": {
    "id": "VmtSFQA4KZ8Z"
   },
   "outputs": [],
   "source": [
    "#@title Hint {display-mode: \"form\"}\n",
    "print('Which roll has the smallest probability?')\n"
   ]
  },
  {
   "cell_type": "code",
   "execution_count": null,
   "metadata": {
    "id": "kTfusZK8Kcgv"
   },
   "outputs": [],
   "source": [
    "#@title Answer {display-mode: \"form\"}\n",
    "from IPython.display import Markdown\n",
    "display(Markdown('''\n",
    "| Probability |   | Fraction |   | Float |\n",
    "|-------------|:-:|---------:|:-:|:------|\n",
    "| P(Yahtzee)  | = |   6/252  | = | 0.023809523809523808 |\n",
    "| P(4ofKind)  | = |  30/252  | = | 0.11904761904761904 |\n",
    "| P(Straight) | = |   2/252  | = | 0.007936507936507936 |\n",
    "| P(FullHouse)| = |  30/252  | = | 0.11904761904761904 |\n",
    "| P(3ofKind)  | = |  60/252  | = | 0.23809523809523808 |\n",
    "| P(TwoPair)  | = |  60/252  | = | 0.23809523809523808 |\n",
    "| P(OnePair)  | = |  60/252  | = | 0.23809523809523808 |\n",
    "| P(Junk)     | = |   4/252  | = | 0.015873015873015872 |\n",
    "|             |   |          |   | |\n",
    "| Total       | = | 252/252  | = | 1.0 |\n",
    "\n",
    "A straight is the rarest, hence should have the highest value.\n",
    "'''))\n"
   ]
  }
 ],
 "metadata": {
  "colab": {
   "authorship_tag": "ABX9TyPTABYsoJapCzRzOoBCj9WB",
   "name": "chapter-5-combinatorics-and-probability-exercises.ipynb",
   "private_outputs": true,
   "provenance": [],
   "collapsed_sections": [],
   "toc_visible": true
  },
  "kernelspec": {
   "display_name": "Python 3",
   "language": "python",
   "name": "python3"
  },
  "language_info": {
   "codemirror_mode": {
    "name": "ipython",
    "version": 3
   },
   "file_extension": ".py",
   "mimetype": "text/x-python",
   "name": "python",
   "nbconvert_exporter": "python",
   "pygments_lexer": "ipython3",
   "version": "3.9.0"
  }
 },
 "nbformat": 4,
 "nbformat_minor": 1
}
