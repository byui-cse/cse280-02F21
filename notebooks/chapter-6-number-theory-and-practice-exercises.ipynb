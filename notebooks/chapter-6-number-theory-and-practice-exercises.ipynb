{
 "cells": [
  {
   "cell_type": "markdown",
   "source": [
    "# <font color=blue>Chapter 6 Number Theory and Practice Exercises</font>\n",
    "## <font color=blue>Prepare</font>\n"
   ],
   "metadata": {
    "id": "futeFeAsX1Kk"
   }
  },
  {
   "cell_type": "markdown",
   "source": [
    "## <font color=red>6.1 Infinitely Many</font>\n"
   ],
   "metadata": {
    "id": "hWaOI3ZpYF8D"
   }
  },
  {
   "cell_type": "markdown",
   "source": [
    "No exercises.\n"
   ],
   "metadata": {
    "id": "mTKjgit-YHE0"
   }
  },
  {
   "cell_type": "markdown",
   "source": [
    "## <font color=red>6.2 Divisibility Redux</font>\n"
   ],
   "metadata": {
    "id": "qHwZhxvMYH1W"
   }
  },
  {
   "cell_type": "markdown",
   "source": [
    "### Exercise 6.2.1\n"
   ],
   "metadata": {
    "id": "KOpdU2HWYIsb"
   }
  },
  {
   "cell_type": "markdown",
   "source": [
    "There is a redundant word in the statement of the Division Theorem in this Chapter's Summary of Terms, Definitions, and Theorems. What is it, and why is it redundant?"
   ],
   "metadata": {
    "id": "lOMxdNM-YJss"
   }
  },
  {
   "cell_type": "code",
   "execution_count": null,
   "source": [
    "#@title Hint {display-mode: \"form\"}\r\n",
    "print(\"Compare it with the Division Theorem's statement in this section.\")\r\n"
   ],
   "outputs": [],
   "metadata": {
    "id": "SvGTrN_EYOvR"
   }
  },
  {
   "cell_type": "code",
   "execution_count": null,
   "source": [
    "#@title Answer {display-mode: \"form\"}\r\n",
    "from IPython.display import Markdown\r\n",
    "display(Markdown('''\r\n",
    "The redundant word is &ldquo;positive&rdquo; --- as in &ldquo;$d$ is a positive integer&rdquo;.\r\n",
    "There is no way it could be otherwise, because the condition $0 \\le r < d$ forces $d$ to be greater than zero.\r\n",
    "'''))"
   ],
   "outputs": [],
   "metadata": {
    "id": "5VpbMp07YW0M"
   }
  },
  {
   "cell_type": "markdown",
   "source": [
    "### Exercise 6.2.2\n"
   ],
   "metadata": {
    "id": "1EhsxtRsdYWh"
   }
  },
  {
   "cell_type": "markdown",
   "source": [
    "There are shortcuts for determining divisibility by 2, 3, 4, 5, 6, 7, 8, 9, 10 and 11. Of course, using the mod function is the easy way, but in case this function were somehow off limits, or only worked for numbers that aren't too big (3 digits max), these shortcuts are helpful.\n"
   ],
   "metadata": {
    "id": "VLegzvHvdapo"
   }
  },
  {
   "cell_type": "markdown",
   "source": [
    "In the following list $N$ (preceding the colon) is short for *A number (a positive integer) is divisible by $N$ if*:\n",
    "* 2: the units digit is 0, 2, 4, 6, or 8.\n",
    "* 3: the &ldquo;iterated sum&rdquo; of the digits is 3, 6, or 9.\n",
    "* 4: the number formed by the 2 rightmost digits is divisible by 4.\n",
    "* 5: the units digit is 0 or 5.\n",
    "* 6: it passes the shortcuts for 2 **and** 3.\n",
    "* 7: take the last digit, double it, and subtract it from the rest of the number. If that results in a number divisible by 7 (including 0), then the original number is also divisible by 7. If you find the new number in a list of &ldquo;small&rdquo; multiples of 7 (e.g., ```range(-98, 100, 7)```) you're done, otherwise apply the rule again to the new number.\n",
    "* 8: the number formed by the 3 rightmost digits is divisible by 8.\n",
    "* 9: the iterated sum of the digits is 9.\n",
    "* 10: the units digit is a zero. (It must pass shortcuts for 2 **and** 5).\n",
    "* 11: add up every other digit into *sum1*, add up the rest that are not already summed into *sum2*, and if the difference between *sum1* and *sum2* is divisible by 11, the original number is.\n"
   ],
   "metadata": {
    "id": "35a4il_UdfTk"
   }
  },
  {
   "cell_type": "markdown",
   "source": [
    "Write Python functions implementing these divisibility-determining predicates and test them on several large (30-digit or so) numbers.\n"
   ],
   "metadata": {
    "id": "C7RcfwR_d0he"
   }
  },
  {
   "cell_type": "code",
   "execution_count": null,
   "source": [
    "#@title Hint {display-mode: \"form\"}\r\n",
    "from IPython.display import Markdown\r\n",
    "display(Markdown('''\r\n",
    "The rule for 7 is the hardest, potentially most time-consuming one to implement.\r\n",
    "Also, &ldquo;iterated sum&rdquo; means continue adding digits over and over until you\r\n",
    "reach a single-digit number --- for example, given a function &ldquo;sumd&rdquo; that sums\r\n",
    "digits once, sumd(766893741909388135) yields 97, sumd(97) yields 16, and sumd(16) yields 7.\r\n",
    "'''))"
   ],
   "outputs": [],
   "metadata": {
    "id": "iccd-D6jd4HY"
   }
  },
  {
   "cell_type": "code",
   "execution_count": null,
   "source": [
    "#@title Answer {display-mode: \"form\"}\r\n",
    "def sumd(n):\r\n",
    "  return n % 10 + sumd(n // 10) if n else 0\r\n",
    "\r\n",
    "def isumd(n):\r\n",
    "  while n >= 10:\r\n",
    "    n = sumd(n)\r\n",
    "  return n"
   ],
   "outputs": [],
   "metadata": {
    "id": "4ipjIV6WeArp"
   }
  },
  {
   "cell_type": "markdown",
   "source": [
    "### Exercise 6.2.3\n"
   ],
   "metadata": {
    "id": "0tq5m1EseGmQ"
   }
  },
  {
   "cell_type": "markdown",
   "source": [
    "How many divisors does a given number have? Take 36. By trial division (trying successive divisors, starting with 1, which divides everything) we see that 36 is\n",
    "* 1 times 36 (that's 2),\n",
    "* 2 times 18 (another 2),\n",
    "* 3 times 12 (2 more),\n",
    "* 4 times 9 (2 more),\n",
    "* 6 times 6 (1 more — no double counting!)\n"
   ],
   "metadata": {
    "id": "puJv8_ZfeHAz"
   }
  },
  {
   "cell_type": "markdown",
   "source": [
    "The total is 9 divisors. What is a general method for finding this total divisor count for any positive number?\n"
   ],
   "metadata": {
    "id": "kMaNizI3eJhc"
   }
  },
  {
   "cell_type": "code",
   "execution_count": null,
   "source": [
    "#@title Hint {display-mode: \"form\"}\n",
    "print('''\n",
    "Do as the example suggests. 1 and the number itself make 2 divisors. Then see if\n",
    "2 divides the number, then 3, then 4, etc., counting 2 divisors for each pair\n",
    "you find. Stop when you get to the square root of the number (else you will\n",
    "double-count divisors). This will find all the divisors as well as their total\n",
    "count. Can just the count be computed without finding all the divisors?\n",
    "''')\n"
   ],
   "outputs": [],
   "metadata": {
    "id": "W556HdSTeLZt"
   }
  },
  {
   "cell_type": "code",
   "execution_count": null,
   "source": [
    "#@title Answer {display-mode: \"form\"}\n",
    "print('''\n",
    "Yes. If you find the prime factorization of the number\n",
    "then it's one line of code. See Section 6.4.\n",
    "''')\n"
   ],
   "outputs": [],
   "metadata": {
    "id": "lIyK-lGJeSfv"
   }
  },
  {
   "cell_type": "markdown",
   "source": [
    "## <font color=red>6.3 Building Blocks</font>\n"
   ],
   "metadata": {
    "id": "5rnJhhzMeW4H"
   }
  },
  {
   "cell_type": "markdown",
   "source": [
    "No exercises.\n"
   ],
   "metadata": {
    "id": "iaR87CwJeZBj"
   }
  },
  {
   "cell_type": "markdown",
   "source": [
    "## <font color=red>6.4 Fundamental and Standard</font>\n"
   ],
   "metadata": {
    "id": "0Bx3i4SCeZub"
   }
  },
  {
   "cell_type": "markdown",
   "source": [
    "### Exercise 6.4.1\n"
   ],
   "metadata": {
    "id": "SY-LXoWjealx"
   }
  },
  {
   "cell_type": "markdown",
   "source": [
    "Code from Figure 6.3 A function to reconstruct a number from its prime power list:\n"
   ],
   "metadata": {
    "id": "QoQIqeoWeelu"
   }
  },
  {
   "cell_type": "code",
   "execution_count": null,
   "source": [
    "def ppl2n(ppl):\n",
    "  \"\"\"ppl2n = prime power list to\n",
    "     number takes ppl, an ordered\n",
    "     list of prime powers, and\n",
    "     computes the number by\n",
    "     raising each prime in\n",
    "     ascending order to the\n",
    "     associated power, and\n",
    "     multiplying these\n",
    "     exponentiations together.\n",
    "  \"\"\"\n",
    "  primes = [2, 3, 5, 7, 11, 13]\n",
    "  number = 1\n",
    "  for prime, pow in zip(primes, ppl):\n",
    "    number *= prime ** pow\n",
    "  return number\n"
   ],
   "outputs": [],
   "metadata": {
    "id": "rwUkBZNWefdk"
   }
  },
  {
   "cell_type": "code",
   "execution_count": null,
   "source": [
    "print(ppl2n([6, 5, 4, 3, 2, 1]))"
   ],
   "outputs": [],
   "metadata": {
    "id": "eTDUVyrpeiti"
   }
  },
  {
   "cell_type": "markdown",
   "source": [
    "Come up with at least two improvements to the ```ppl2n``` function of Figure 6.3.\n"
   ],
   "metadata": {
    "id": "-107Abd4eo43"
   }
  },
  {
   "cell_type": "code",
   "execution_count": null,
   "source": [
    "#@title Hint {display-mode: \"form\"}\r\n",
    "print('Do some research into Python modules dealing with primes.')\r\n"
   ],
   "outputs": [],
   "metadata": {
    "id": "7wFEBX_-eqsX"
   }
  },
  {
   "cell_type": "code",
   "execution_count": null,
   "source": [
    "#@title Answer {display-mode: \"form\"}\r\n",
    "from IPython.display import Markdown\r\n",
    "display(Markdown('''\r\n",
    "A good module is ```pyprimesieve``` that can calculate the ```primes``` function for any $n$.\r\n",
    "Then the literal list of primes can be removed, and calculated instead.\r\n",
    "'''))\r\n"
   ],
   "outputs": [],
   "metadata": {
    "id": "d2w8czrNet0u"
   }
  },
  {
   "cell_type": "markdown",
   "source": [
    "### Exercise 6.4.2\n"
   ],
   "metadata": {
    "id": "WFn-2DRzezU_"
   }
  },
  {
   "cell_type": "markdown",
   "source": [
    "The FTA (Fundamental Theorem of Arithmetic) supports the mapping of the sequence ```[2, 0, 0, 0, 0, 1]``` to a two-digit number. What is that number?\r\n"
   ],
   "metadata": {
    "id": "fBNVvQWre0fi"
   }
  },
  {
   "cell_type": "code",
   "execution_count": null,
   "source": [
    "#@title Hint {display-mode: \"form\"}\r\n",
    "from IPython.display import Markdown\r\n",
    "display(Markdown('''\r\n",
    "Use the ```ppl2n``` function.\r\n",
    "'''))"
   ],
   "outputs": [],
   "metadata": {
    "id": "PrjGW_tXe39W"
   }
  },
  {
   "cell_type": "code",
   "execution_count": null,
   "source": [
    "#@title Answer {display-mode: \"form\"}\r\n",
    "from IPython.display import Markdown\r\n",
    "display(Markdown('''\r\n",
    "```print(ppl2n([2, 0, 0, 0, 0, 1]))``` prints ```52```.\r\n",
    "'''))"
   ],
   "outputs": [],
   "metadata": {
    "id": "7d5eMWgwe6fS"
   }
  },
  {
   "cell_type": "markdown",
   "source": [
    "### Exercise 6.4.3\n"
   ],
   "metadata": {
    "id": "Zhr15DitfFD1"
   }
  },
  {
   "cell_type": "markdown",
   "source": [
    "Write a Python function that will take an RLE (Run Length Encoding) like the one for the prime power list of 129857981739587 and revert it to its uncompressed form, testing the result with your enhanced ```ppl2n``` function.\r\n"
   ],
   "metadata": {
    "id": "4p0sioiafGzG"
   }
  },
  {
   "cell_type": "code",
   "execution_count": null,
   "source": [
    "#@title Hint {display-mode: \"form\"}\r\n",
    "print('''\r\n",
    "This will require some ingenuity, especially if you try the functional rather\r\n",
    "than the iterative approach.\r\n",
    "''')\r\n"
   ],
   "outputs": [],
   "metadata": {
    "id": "y0mgQwQSfJ6b"
   }
  },
  {
   "cell_type": "code",
   "execution_count": null,
   "source": [
    "#@title Answer {display-mode: \"form\"}\r\n",
    "from itertools import repeat\r\n",
    "\r\n",
    "def rle_decode(rle_list):\r\n",
    "  return rle_decode_rec(rle_list, [])\r\n",
    "\r\n",
    "def rle_decode_rec(rle_list, accumulator):\r\n",
    "  first_of_list = rle_list[0] if rle_list else None\r\n",
    "  if type(first_of_list) == list and len(first_of_list) == 2:\r\n",
    "    accumulator.extend(repeat(first_of_list[1], first_of_list[0]))\r\n",
    "  else:\r\n",
    "    accumulator.append(first_of_list)\r\n",
    "  if not rle_list[1:]:\r\n",
    "    return accumulator\r\n",
    "  else:\r\n",
    "    return rle_decode_rec(rle_list[1:], accumulator)\r\n"
   ],
   "outputs": [],
   "metadata": {
    "id": "lDQ4cFDAfPA1"
   }
  },
  {
   "cell_type": "markdown",
   "source": [
    "### Exercise 6.4.4\n"
   ],
   "metadata": {
    "id": "hQwpfYVafXHj"
   }
  },
  {
   "cell_type": "markdown",
   "source": [
    "Here is another way to RLE:\n"
   ],
   "metadata": {
    "id": "frI7BztmfZEj"
   }
  },
  {
   "cell_type": "markdown",
   "source": [
    "```[1,1,0,1,0,1,3,1,0,1,3,1,0,1,3,1,5,1,0,1,5,1,3,1,0,1,3,1,5,1,5,1,0,1,5,1,3,1,0,1,5,1,3,1,5,1,7,1,3]```\n"
   ],
   "metadata": {
    "id": "nd1eF_3yfZ1E"
   }
  },
  {
   "cell_type": "markdown",
   "source": [
    "Decode this RLE.\n"
   ],
   "metadata": {
    "id": "zJJLA8rlfamf"
   }
  },
  {
   "cell_type": "code",
   "execution_count": null,
   "source": [
    "#@title Hint {display-mode: \"form\"}\n",
    "print('''\n",
    "The numbers greater than 1 are the zero counts. A one represents one kind of\n",
    "number, a zero represents another kind of number.\n",
    "''')\n"
   ],
   "outputs": [],
   "metadata": {
    "id": "VhsbDW23fb-1"
   }
  },
  {
   "cell_type": "code",
   "execution_count": null,
   "source": [
    "#@title Answer {display-mode: \"form\"}\n",
    "print('This encodes a list of the first 25 primes.')\n"
   ],
   "outputs": [],
   "metadata": {
    "id": "cDi7RXBKffMg"
   }
  },
  {
   "cell_type": "markdown",
   "source": [
    "## <font color=red>6.5 Knowns and Unknowns</font>\n"
   ],
   "metadata": {
    "id": "lI1t5fL-fh7n"
   }
  },
  {
   "cell_type": "markdown",
   "source": [
    "### Exercise 6.5.1\n"
   ],
   "metadata": {
    "id": "BsvMXRpTfi8-"
   }
  },
  {
   "cell_type": "markdown",
   "source": [
    "Euler's polynomial, $x^{2} + x + 41$, computes a prime number for every integer $x$ in the range $-40 \\le x \\le 39$, which is $80$ primes total. So, in probability terms, the chances that you will generate a prime by plugging in a random integer in that range are 100%. So no chance about it, it's certain!\n"
   ],
   "metadata": {
    "id": "bQsbZemWfj5H"
   }
  },
  {
   "cell_type": "markdown",
   "source": [
    "Other polynomials of the form $f(x) = x^{2} + x + C$, where $C$ is some integer constant, can also generate primes, though maybe not as reliably as Euler's (which is the special case where $C = 41$). And different ranges and constants will vary in the number of primes generated.\n"
   ],
   "metadata": {
    "id": "3N6ipIV2fl9o"
   }
  },
  {
   "cell_type": "markdown",
   "source": [
    "Define the *sweetness* of a given range+constant pair to be a quantity such that the more integers in the range that generate primes through this constant plugged into the polynomial (and taking the absolute value, $|f(x)|$), the higher the sweetness. So the first example, with range+constant $-40 \\le x \\le 39, C = 41$, is seemingly pretty sweet, 80 out of 80, 100%, as already mentioned. But how many of these 80 are duplicates? Looking closer, it's half. Only 40 unique primes are generated. Not so sweet after all.\n"
   ],
   "metadata": {
    "id": "Yg9mS7c2fmyY"
   }
  },
  {
   "cell_type": "markdown",
   "source": [
    "Find a range and constant that have a sweetness value as high as possible, subject to the arbitrary constraints that the constant will be between negative four million and positive four million. To fix another degree of freedom, which will also save some time, use the constant value of ten thousand for the *size* of the range (so only its starting value will vary).\n"
   ],
   "metadata": {
    "id": "cCzKHYVJf1UE"
   }
  },
  {
   "cell_type": "code",
   "execution_count": null,
   "source": [
    "#@title Hint {display-mode: \"form\"}\n",
    "from IPython.display import Markdown\n",
    "display(Markdown('''\n",
    "Two observations will help you shorten this potentially time-consuming search\n",
    "task. First observation: $x^{2} + x$ is always even, so for adding $C$ and having\n",
    "some hope of being prime, $C$ can only be odd. That cuts the possible values for\n",
    "$C$ in half!\n",
    "\n",
    "Second observation: If you limit your search to the best constant\n",
    "for the range 0 to 9999, you can assume you're not going to do much\n",
    "better with a different constant while varying the range. So find\n",
    "the best constant first, then see if varying the range can improve\n",
    "the sweetness. Realize, too, that any range that straddles the\n",
    "origin, i.e, that has both positive and negative $x$ values, will\n",
    "produce duplicate primes (why is that?) that will lessen the\n",
    "sweetness.\n",
    "'''))\n"
   ],
   "outputs": [],
   "metadata": {
    "id": "M_SuwAEBf5Q0"
   }
  },
  {
   "cell_type": "code",
   "execution_count": null,
   "source": [
    "#@title Answer {display-mode: \"form\"}\n",
    "from IPython.display import Markdown\n",
    "display(Markdown('''\n",
    "You will meet with success if you follow the hints, and divide and conquer:\n",
    "divide the search for $C$ into non-overlapping intervals; give each member of a\n",
    "large group one interval to test; and finally consolidate the results from all\n",
    "participants.\n",
    "'''))\n"
   ],
   "outputs": [],
   "metadata": {
    "id": "LZnG2Yjsf7nH"
   }
  },
  {
   "cell_type": "markdown",
   "source": [
    "### Exercise 6.5.2\n"
   ],
   "metadata": {
    "id": "0W3gvuW2gDt4"
   }
  },
  {
   "cell_type": "markdown",
   "source": [
    "A famous conjecture (not theorem) states that every even number appears\n",
    "infinitely often as a gap between consecutive primes. This statement has not\n",
    "been proved --- nor has it been disproved. Even proving that there are infinitely\n",
    "many twin primes (gap of 2) remains elusive. Indeed, the TPC ([Twin Prime Conjecture](https://www.youtube.com/watch?v=QKHKD8bRAro\\&list=PLt5AfwLFPxWJdwkdjaK1ogByEGiVHdEnM)) --- along\n",
    "with its &ldquo;every even number appears infinitely often as a\n",
    "gap between consecutive primes&rdquo; generalization put forth\n",
    "famously by [Alphonse de Polignac](https://en.wikipedia.org/wiki/Polignac%27s_conjecture)\n",
    "in 1849 --- is an active area of mathematical research, both in finding twins and in attempting to prove (or disprove)\n",
    "that they never run out.\n"
   ],
   "metadata": {
    "id": "s24QhCV6gGZD"
   }
  },
  {
   "cell_type": "markdown",
   "source": [
    "As of September 2016 the pair $2996863034895 \\cdot 2^{1290000} \\pm 1$ holds\n",
    "the twin-prime record. Each is a prime with $388,342$ digits!\n"
   ],
   "metadata": {
    "id": "5R6B9hUKhMPu"
   }
  },
  {
   "cell_type": "markdown",
   "source": [
    "Here is a statement in first-order (predicate) logic that there are infinitely many primes:\n"
   ],
   "metadata": {
    "id": "fKolXn4ahORZ"
   }
  },
  {
   "cell_type": "markdown",
   "source": [
    "$\\forall q \\exists p \\forall x \\forall y\\ [p > q \\land ((x > 1 \\land y > 1) \\rightarrow xy \\ne p)].$\n"
   ],
   "metadata": {
    "id": "EaF0dTqLhRCE"
   }
  },
  {
   "cell_type": "markdown",
   "source": [
    "Add to this statement no more than ten symbols to change it to a statement of\n",
    "the TPC, namely, that there is no largest $p$ such that $p$ and $p + 2$ are both\n",
    "prime.\n"
   ],
   "metadata": {
    "id": "o631egtfhVpZ"
   }
  },
  {
   "cell_type": "code",
   "execution_count": null,
   "source": [
    "#@title Hint {display-mode: \"form\"}\n",
    "print('''\n",
    "Time for another refresher on predicate logic? This is very straightforward, and\n",
    "easier than you think.\n",
    "''')\n"
   ],
   "outputs": [],
   "metadata": {
    "id": "ftKMpgcbhXZJ"
   }
  },
  {
   "cell_type": "code",
   "execution_count": null,
   "source": [
    "#@title Answer {display-mode: \"form\"}\n",
    "from IPython.display import Markdown\n",
    "display(Markdown('''\n",
    "$\\\\forall q \\\\exists p \\\\forall x \\\\forall y\\\\ [p > q \\\\land ((x > 1 \\\\land y > 1) \\\\rightarrow xy \\\\ne p \\\\land xy \\\\ne p + 2)].$\n",
    "'''))\n"
   ],
   "outputs": [],
   "metadata": {
    "id": "VDkAIOrkhaV7"
   }
  },
  {
   "cell_type": "markdown",
   "source": [
    "### Exercise 6.5.3\n"
   ],
   "metadata": {
    "id": "q8rtqeShiFhj"
   }
  },
  {
   "cell_type": "markdown",
   "source": [
    "Find the smallest primes such that $n^{2} < p < (n + 1)^{2}$ for the first 100 pairs\n",
    "of consecutive squares. That is, find the smallest primes in the ranges (1, 4), (4, 9), (9, 16), etc.\n"
   ],
   "metadata": {
    "id": "9Jzu3tv0iG04"
   }
  },
  {
   "cell_type": "code",
   "execution_count": null,
   "source": [
    "#@title Hint {display-mode: \"form\"}\n",
    "print('Find them all with the help of a small amount of code.')\n"
   ],
   "outputs": [],
   "metadata": {
    "id": "qX8TUN6UiJ5t"
   }
  },
  {
   "cell_type": "code",
   "execution_count": null,
   "source": [
    "#@title Answer {display-mode: \"form\"}\n",
    "from IPython.display import Markdown\n",
    "display(Markdown('''\n",
    "```[2,5,11,17,29,37,53,67,83,101,127,149,173,197,227,257,293,331,367,401,443,487,541,577,631,677,733,787,853,907,967,1031,1091,1163,1229,1297,1373,1447,1523,1601,1693,1777,1861,1949,2027,2129,2213,2309,2411,2503,2609,2707,2819,2917,3037,3137,3251,3371,3491,3607,3727,3847,3989,4099,4229,4357,4493,4637,4783,4903,5051,5189,5333,5477,5639,5779,5939,6089,6247,6421,6563,6733,6899,7057,7229,7411,7573,7753,7927,8101,8287,8467,8663,8837,9029,9221,9413,9613,9803,10007]```\n",
    "'''))\n"
   ],
   "outputs": [],
   "metadata": {
    "id": "g50sAyYBiPEM"
   }
  },
  {
   "cell_type": "markdown",
   "source": [
    "### Exercise 6.5.4\n"
   ],
   "metadata": {
    "id": "bRaU5sD1iSAS"
   }
  },
  {
   "cell_type": "markdown",
   "source": [
    "How many 7-digit primes have the form $n^{2} + 1$? What are they?\n"
   ],
   "metadata": {
    "id": "CM6JBJU3iTHT"
   }
  },
  {
   "cell_type": "code",
   "execution_count": null,
   "source": [
    "#@title Hint {display-mode: \"form\"}\n",
    "print('''\n",
    "A working prime sieve or an already-generated list of big enough primes, plus a\n",
    "little code, will reveal the answer.\n",
    "''')\n"
   ],
   "outputs": [],
   "metadata": {
    "id": "e-IT9w3viU0n"
   }
  },
  {
   "cell_type": "code",
   "execution_count": null,
   "source": [
    "#@title Answer {display-mode: \"form\"}\n",
    "print('There are 204 primes of this form between 1008017 and 9985601 inclusive.')\n"
   ],
   "outputs": [],
   "metadata": {
    "id": "dM__hQgbiX5g"
   }
  },
  {
   "cell_type": "markdown",
   "source": [
    "## <font color=red>6.6 Primes Up To N</font>\n"
   ],
   "metadata": {
    "id": "uTnzwKO1ii_S"
   }
  },
  {
   "cell_type": "markdown",
   "source": [
    "No exercises.\n"
   ],
   "metadata": {
    "id": "NbKNKie-ikvI"
   }
  },
  {
   "cell_type": "markdown",
   "source": [
    "## <font color=red>6.7 A Dearth of Primes</font>\n"
   ],
   "metadata": {
    "id": "9ZE4DfDGilZS"
   }
  },
  {
   "cell_type": "markdown",
   "source": [
    "### Exercise 6.7.1\n"
   ],
   "metadata": {
    "id": "OxcKk2RoimOA"
   }
  },
  {
   "cell_type": "markdown",
   "source": [
    "What is the first CCS of the given lengths?\n",
    "* 2\n",
    "* 3\n",
    "* 4\n",
    "* 10\n"
   ],
   "metadata": {
    "id": "qS28Oh02inJE"
   }
  },
  {
   "cell_type": "code",
   "execution_count": null,
   "source": [
    "#@title Hint {display-mode: \"form\"}\n",
    "from IPython.display import Markdown\n",
    "display(Markdown('''\n",
    "Read this as &ldquo;at least&rdquo; the given length.\n",
    "There are no even-length sequences (think about it).\n",
    "\n",
    "These are not hard to find.\n",
    "\n",
    "If your search enters the 3-digit numbers, you've gone too far.\n",
    "'''))"
   ],
   "outputs": [],
   "metadata": {
    "id": "mMiboe7bip9J"
   }
  },
  {
   "cell_type": "code",
   "execution_count": null,
   "source": [
    "#@title Answer {display-mode: \"form\"}\n",
    "from IPython.display import Markdown\n",
    "display(Markdown('''\n",
    "The first CCS of length 2, 3, 4, and 10 (also 11, 12, and 13) are:\n",
    "* 8, 9\n",
    "* 8, 9, 10\n",
    "* 24, 25, 26, 27\n",
    "* 114, 115, 116, 117, 118, 119, 120, 121, 122, 123, 124, 125, 126\n",
    "'''))\n"
   ],
   "outputs": [],
   "metadata": {
    "id": "tk9gBd7Li3R8"
   }
  },
  {
   "cell_type": "markdown",
   "source": [
    "### Exercise 6.7.2\n"
   ],
   "metadata": {
    "id": "nCSiz5x_jHIX"
   }
  },
  {
   "cell_type": "markdown",
   "source": [
    "Write a Python function that takes a positive integer $n$ and returns a list that is a CCS of length $n$.\n"
   ],
   "metadata": {
    "id": "raeYr0mZjHbM"
   }
  },
  {
   "cell_type": "code",
   "execution_count": null,
   "source": [
    "#@title Hint {display-mode: \"form\"}\n",
    "from IPython.display import Markdown\n",
    "display(Markdown('''\n",
    "This is asking for *some* list, not the first one, nor even the only one.\n",
    "\n",
    "Perhaps a factorial function can help?\n",
    "'''))\n"
   ],
   "outputs": [],
   "metadata": {
    "id": "bOith5yejIgP"
   }
  },
  {
   "cell_type": "code",
   "execution_count": null,
   "source": [
    "#@title Answer {display-mode: \"form\"}\n",
    "from IPython.display import Markdown\n",
    "display(Markdown('''\n",
    "Not the first, nor the only one, but the following is a CCS of length\n",
    "$r: (r+1)! + 2, (r+1)! + 3, (r+1)! + 4, \\\\ldots, (r+1)! + (r+1)$.\n",
    "To verify that this sequence contains only composites, note that\n",
    "in a sequence of consecutive numbers, every other one is even, hence\n",
    "composite, every third one is a multiple of 3, hence composite, etc. But is\n",
    "there a better way to see this than sifting through the sequence looking for\n",
    "primes somehow hiding among all those composites? Yes! Use logic together\n",
    "with the definitions of factorial and composite. To concretize, let $r = 4$,\n",
    "so $r + 1 = 5$, so the sequence of $4$ numbers is $5! + 2, 5! + 3, 5! + 4$,\n",
    "and $5! + 5$ --- or, $122, 123, 124$ and $125$.\n",
    "\n",
    "$\\\\begin{array}{rlll}\n",
    "\\\\hline\n",
    "\\\\mathbf{Number} & \\\\mathbf{Factorial} & \\\\mathbf{Expanded} & \\\\mathbf{Factored\\\\ out} \\\\\\\\\n",
    "\\\\mathbf{in\\\\ sequence} & \\\\mathbf{form} & \\\\mathbf{without} \\\\cdot 1 & \\\\mathbf{the\\\\ number\\\\ added} \\\\\\\\\n",
    "\\\\hline\n",
    "122 & 5! + 2 & 5 \\\\cdot 4 \\cdot 3 \\\\cdot 2 + 2 & 2 \\\\cdot (5 \\\\cdot 4 \\\\cdot 3 + 1) \\\\\\\\\n",
    "123 & 5! + 3 & 5 \\\\cdot 4 \\\\cdot 3 \\\\cdot 2 + 3 & 3 \\\\cdot (5 \\\\cdot 4 \\\\cdot 2 + 1) \\\\\\\\\n",
    "124 & 5! + 4 & 5 \\\\cdot 4 \\\\cdot 3 \\\\cdot 2 + 4 & 4 \\\\cdot (5 \\\\cdot 3 \\\\cdot 2 + 1) \\\\\\\\\n",
    "125 & 5! + 5 & 5 \\\\cdot 4 \\\\cdot 3 \\\\cdot 2 + 5 & 5 \\\\cdot (4 \\\\cdot 3 \\\\cdot 2 + 1) \\\\\\\\\n",
    "\\\\hline\n",
    "\\end{array}$\n",
    "\n",
    "In summary:\n",
    "\n",
    "$\\\\begin{array}{rcl}\n",
    "\\\\hline\n",
    "\\\\mathbf{Number} & \\\\mathbf{is} & \\\\mathbf{Composite\\\\ because} \\\\\\\\\n",
    "\\\\hline\n",
    "122 & = & 2 \\\\cdot 61 \\\\\\\\\n",
    "123 & = & 3 \\\\cdot 41 \\\\\\\\\n",
    "124 & = & 4 \\\\cdot 31 \\\\\\\\\n",
    "125 & = & 5 \\\\cdot 25 \\\\\\\\\n",
    "\\\\hline\n",
    "\\\\end{array}$\n",
    "'''))\n"
   ],
   "outputs": [],
   "metadata": {
    "id": "x0525yTljNSE"
   }
  },
  {
   "cell_type": "markdown",
   "source": [
    "### Exercise 6.7.3\n"
   ],
   "metadata": {
    "id": "cjHl9dYKmKsA"
   }
  },
  {
   "cell_type": "markdown",
   "source": [
    "Experiment to see that there *are* gaps of many (with one exception, even-numbered) sizes between consecutive primes. A gap is computed as the difference between a given prime and the previous prime, E.g., the gap between 11 and 7 is 4, even though there are only 3 nonprimes filling the gap.\n"
   ],
   "metadata": {
    "id": "5j1_dWG1mMBH"
   }
  },
  {
   "cell_type": "markdown",
   "source": [
    "Write some Python code to facilitate your experiment. For example, create something like a frequency table suitable for computing some statistics, e.g., the average gap size in the first million primes.\n"
   ],
   "metadata": {
    "id": "NoTUnXB_mMvh"
   }
  },
  {
   "cell_type": "code",
   "execution_count": null,
   "source": [
    "#@title Hint {display-mode: \"form\"}\n",
    "from IPython.display import Markdown\n",
    "display(Markdown('''\n",
    "The function ```primerange``` in the ```sympy``` module is your friend. (Or ```primes``` in ```pyprimesieve```.)\n",
    "\n",
    "Use a dictionary for the frequency table.\n",
    "'''))\n"
   ],
   "outputs": [],
   "metadata": {
    "id": "lx4mzZ0UmOIx"
   }
  },
  {
   "cell_type": "code",
   "execution_count": null,
   "source": [
    "#@title Answer {display-mode: \"form\"}\n",
    "# The magic happens in realprimes, which is based on a sieve\n",
    "# found somewhere online. This takes a few  seconds to run.\n",
    "# Pretty close to as fast as using the highly tuned\n",
    "# primerange function found in the sympy module, or\n",
    "# primes in pyprimesieve.\n",
    "def realprimes(n):\n",
    "  \"\"\"Input n > 5, returns a list of primes, 3 < p < n.\n",
    "  \"\"\"\n",
    "  if n <= 5:\n",
    "      raise ValueError(f\"realprimes needs a number > 5, but got {n}.\")\n",
    "  n, correction = n - n % 6 + 6, 2 - (n % 6 > 1)\n",
    "  sieve = [True] * (n // 3)\n",
    "  for i in range(1, int(n ** 0.5) // 3 + 1):\n",
    "      if sieve[i]:\n",
    "          k = 3 * i + 1 | 1\n",
    "          sieve[k * k // 3 :: 2 * k] = [False] * ((n // 6 - k * k // 6 - 1) // k + 1)\n",
    "          sieve[k * (k - 2 * (i & 1) + 4) // 3 :: 2 * k] = [False] * ((n // 6 - k * (k - 2 * (i & 1) + 4) // 6 - 1) // k + 1)\n",
    "  return [3 * i + 1 | 1 for i in range(1, n // 3 - correction) if sieve[i]]\n",
    "\n",
    "def list_the_gaps():\n",
    "  \"\"\"Finds the first million primes, and returns\n",
    "     a list of all the gaps between them.\n",
    "  \"\"\"\n",
    "  list_of_gaps = []\n",
    "  prev = 3\n",
    "  gap = 0\n",
    "  # found at https://www.answers.com/Q/What_is_the_one_millionth_prime_number\n",
    "  millionth_prime = 15485863\n",
    "\n",
    "  for prime in list(realprimes(millionth_prime + 1)):\n",
    "      gap = prime - prev\n",
    "      prev = prime\n",
    "      list_of_gaps.append(gap)\n",
    "  return list_of_gaps\n",
    "\n",
    "def make_frequency_table(gap_list):\n",
    "  \"\"\"Finds the frequency of each member of gap_list.\n",
    "  \"\"\"\n",
    "  keys = sorted(sorted(set(gap_list), key = lambda ele: gap_list.count(ele)))\n",
    "  freq = {}\n",
    "  for i in keys:\n",
    "      freq[i] = gap_list.count(i)\n",
    "  return freq"
   ],
   "outputs": [],
   "metadata": {
    "id": "o4om53NKmSDS"
   }
  },
  {
   "cell_type": "code",
   "execution_count": null,
   "source": [
    "#@title Answer (call to code) {display-mode: \"form\"}\n",
    "make_frequency_table(list_the_gaps())"
   ],
   "outputs": [],
   "metadata": {
    "id": "gBMU6s-9m69-"
   }
  },
  {
   "cell_type": "markdown",
   "source": [
    "## <font color=red>6.8 Greatest and Least</font>\n"
   ],
   "metadata": {
    "id": "5fVnF6onnW5s"
   }
  },
  {
   "cell_type": "markdown",
   "source": [
    "### Exercise 6.8.1\n"
   ],
   "metadata": {
    "id": "JDyX86ZZnXzX"
   }
  },
  {
   "cell_type": "markdown",
   "source": [
    "Trace through the steps of computing the following greatest common divisors:\n",
    "1. gcd(57, 43)\n",
    "2. gcd(501, 39)\n",
    "3. gcd(765, 110)\n",
    "4. gcd(899, 493)\n"
   ],
   "metadata": {
    "id": "s45IAYYrnYq4"
   }
  },
  {
   "cell_type": "code",
   "execution_count": null,
   "source": [
    "#@title Hint {display-mode: \"form\"}\n",
    "from IPython.display import Markdown\n",
    "display(Markdown('''\n",
    "1. Actually make a table like the ones in Figure 6.4, only consolidate all the steps into one table.\n",
    "2. Write code to trace the steps.\n",
    "3. Did you write some code?\n",
    "4. You got this!\n",
    "'''))\n"
   ],
   "outputs": [],
   "metadata": {
    "id": "pMHwT6bAname"
   }
  },
  {
   "cell_type": "code",
   "execution_count": null,
   "source": [
    "#@title Answer {display-mode: \"form\"}\n",
    "from IPython.display import Markdown\n",
    "display(Markdown('''\n",
    "$\\\\begin{array}{rlrllrl}\n",
    "a & = & b & (q) & + & r & \\\\\\\\\n",
    "\\\\hline\n",
    "57 & = & 43 & (1) & + & 14 & \\\\\\\\\n",
    "43 & = & 14 & (3) & + & 1 & \\\\leftarrow \\\\gcd \\\\\\\\\n",
    "14 & = & 1 & (14) & + & 0 & \\\\\\\\\n",
    "\\\\end{array}$\n",
    "\n",
    "$\\\\begin{array}{rlrllrl}\n",
    "a & = & b & (q) & + & r & \\\\\\\\\n",
    "\\\\hline\n",
    "501 & = & 39 & (12) & + & 33 & \\\\\\\\\n",
    "39 & = & 33 & (1) & + & 6 & \\\\\\\\\n",
    "33 & = & 6 & (5) & + & 3 & \\\\leftarrow \\\\gcd \\\\\\\\\n",
    "6 & = & 3 & (2) & + & 0 & \\\\\\\\\n",
    "\\\\end{array}$\n",
    "\n",
    "$\\\\begin{array}{rlrllrl}\n",
    "a & = & b & (q) & + & r & \\\\\\\\\n",
    "\\\\hline\n",
    "765 & = & 110 & (6) & + & 105 & \\\\\\\\\n",
    "110 & = & 105 & (1) & + & 5 & \\\\leftarrow \\\\gcd \\\\\\\\\n",
    "105 & = & 5 & (21) & + & 0 & \\\\\\\\\n",
    "\\\\end{array}$\n",
    "\n",
    "$\\\\begin{array}{rlrllrl}\n",
    "a & = & b & (q) & + & r & \\\\\\\\\n",
    "\\\\hline\n",
    "899 & = & 493 & (1) & + & 406 & \\\\\\\\\n",
    "493 & = & 406 & (1) & + & 87 & \\\\\\\\\n",
    "406 & = & 87 & (4) & + & 58 & \\\\\\\\\n",
    "87 & = & 58 & (1) & + & 29 & \\\\leftarrow \\\\gcd \\\\\\\\\n",
    "58 & = & 29 & (2) & + & 0 & \\\\\\\\\n",
    "\\\\end{array}$\n",
    "'''))\n"
   ],
   "outputs": [],
   "metadata": {
    "id": "qAy056rUnpSv"
   }
  },
  {
   "cell_type": "markdown",
   "source": [
    "### Exercise 6.8.2\n"
   ],
   "metadata": {
    "id": "TR0ugeXaqkVY"
   }
  },
  {
   "cell_type": "markdown",
   "source": [
    "Predict and then verify, and if you were surprised by what the following code returns, ponder why you were surprised:\n"
   ],
   "metadata": {
    "id": "dq1DYQY_qmR4"
   }
  },
  {
   "cell_type": "markdown",
   "source": [
    "```all([gcd(56,8)==8,gcd(65,15)==5,lcm(5,7)==35,lcm(4,6)==12])```\n"
   ],
   "metadata": {
    "id": "McgtA-0QqnnC"
   }
  },
  {
   "cell_type": "code",
   "execution_count": null,
   "source": [
    "#@title Hint {display-mode: \"form\"}\n",
    "print(\"Don't forget to import what you can from the math module.\")"
   ],
   "outputs": [],
   "metadata": {
    "id": "dKMdqL8eqs-K"
   }
  },
  {
   "cell_type": "code",
   "execution_count": null,
   "source": [
    "#@title Answer {display-mode: \"form\"}\n",
    "print('Were you surprised?')\n"
   ],
   "outputs": [],
   "metadata": {
    "id": "ktp6zBvoq3Bc"
   }
  },
  {
   "cell_type": "markdown",
   "source": [
    "### Exercise 6.8.3\n"
   ],
   "metadata": {
    "id": "8Xla_EqVq_76"
   }
  },
  {
   "cell_type": "markdown",
   "source": [
    "Verify that for many pairs of positive integers ```a``` and ```b```:\n"
   ],
   "metadata": {
    "id": "OPH0xQUlrA5w"
   }
  },
  {
   "cell_type": "markdown",
   "source": [
    "```gcd(a, b) * lcm(a, b) == a * b```\n"
   ],
   "metadata": {
    "id": "dp531k-GrBpO"
   }
  },
  {
   "cell_type": "markdown",
   "source": [
    "Does this equality necessarily hold for *all* pairs of positive integers?\n"
   ],
   "metadata": {
    "id": "cswd2bo0rDB0"
   }
  },
  {
   "cell_type": "markdown",
   "source": [
    "Why or why not?\n"
   ],
   "metadata": {
    "id": "nYG9c9wWrFIq"
   }
  },
  {
   "cell_type": "code",
   "execution_count": null,
   "source": [
    "#@title Hint {display-mode: \"form\"}\n",
    "from IPython.display import Markdown\n",
    "display(Markdown('''\n",
    "Use ```assert``` in a nested loop.\n",
    "'''))"
   ],
   "outputs": [],
   "metadata": {
    "id": "iLaQe6wdrGMo"
   }
  },
  {
   "cell_type": "code",
   "execution_count": null,
   "source": [
    "#@title Answer {display-mode: \"form\"}\n",
    "print('See Exercise 6.8.4.')"
   ],
   "outputs": [],
   "metadata": {
    "id": "rU9chEIhrJVD"
   }
  },
  {
   "cell_type": "markdown",
   "source": [
    "### Exercise 6.8.4\n"
   ],
   "metadata": {
    "id": "MODUDqWtrMqa"
   }
  },
  {
   "cell_type": "markdown",
   "source": [
    "Given that (a slight expansion of) the CSF of $a$ is $2^{3} \\cdot 3^{2} \\cdot 5^{1}\n",
    "\\cdot 7^{0}$ and the CSF of $b$ is $2^{2} \\cdot 3^{3} \\cdot 5^{0} \\cdot 7^{1}$, give the\n",
    "CSFs of the GCD, the LCM, and the product of $a$ and $b$.\n"
   ],
   "metadata": {
    "id": "8WEBwT9jrNwF"
   }
  },
  {
   "cell_type": "markdown",
   "source": [
    "Write a Python function that will compute these for any CSFs for $a$ and $b$,\n",
    "where the representation of the CSFs is a list of (prime, power) tuples, e.g.,\n",
    "the CSF for 360 is ```[(2, 3), (3, 2), (5, 1), (7, 0)]```.\n"
   ],
   "metadata": {
    "id": "XNviYLuJrPcg"
   }
  },
  {
   "cell_type": "code",
   "execution_count": null,
   "source": [
    "#@title Hint {display-mode: \"form\"}\n",
    "from IPython.display import Markdown\n",
    "display(Markdown('''\n",
    "Doing this exercise should help you see the answer to Exercise 6.8.3.\n",
    "\n",
    "If not, the $GCD(a,b) \\cdot LCM(a,b) = ab$ theorem/proof in Appendix A might shed some light.\n",
    "'''))"
   ],
   "outputs": [],
   "metadata": {
    "id": "p-JM_kKcrZAs"
   }
  },
  {
   "cell_type": "code",
   "execution_count": null,
   "source": [
    "#@title Answer {display-mode: \"form\"}\n",
    "import functools, math, operator, sys\n",
    "\n",
    "if sys.version_info >= (3, 8):\n",
    "  product = math.prod\n",
    "else:\n",
    "  product = functools.partial(functools.reduce, operator.mul)\n",
    "\n",
    "def gcdxlcm(aInCSF, bInCSF):\n",
    "  primes = list(map(lambda x:x[0], aInCSF))\n",
    "  powers = lambda x:x[1]\n",
    "  add = lambda x,y:x+y\n",
    "  exp = lambda x,y:x**y\n",
    "  aCSFpowers = list(map(powers, aInCSF))\n",
    "  bCSFpowers = list(map(powers, bInCSF))\n",
    "  gcdInCSF = list(zip(primes, map(min, aCSFpowers, bCSFpowers)))\n",
    "  gcdCSFpowers = list(map(powers, gcdInCSF))\n",
    "  gcd2mul = list(map(exp, primes, gcdCSFpowers))\n",
    "  gcdProduct = product(gcd2mul)\n",
    "  lcmInCSF = list(zip(primes, map(max, aCSFpowers, bCSFpowers)))\n",
    "  lcmCSFpowers = list(map(powers, lcmInCSF))\n",
    "  lcm2mul = list(map(exp, primes, lcmCSFpowers))\n",
    "  lcmProduct = product(lcm2mul)\n",
    "  gcdxlcmInCSF = list(zip(primes, map(add, aCSFpowers, bCSFpowers)))\n",
    "  gcdxlcmPowers = list(map(powers, gcdxlcmInCSF))\n",
    "  a2mul = list(map(exp, primes, aCSFpowers))\n",
    "  b2mul = list(map(exp, primes, bCSFpowers))\n",
    "  a = product(a2mul)\n",
    "  b = product(b2mul)\n",
    "  ab = a * b\n",
    "  gcdxlcm2mul = list(map(exp, primes, gcdxlcmPowers))\n",
    "  check = ab == product(gcdxlcm2mul)\n",
    "  return f\"a = {aInCSF} = product({a2mul}) = {a};\\n\\\n",
    "b = {bInCSF} = product({b2mul}) = {b};\\n\\\n",
    "gcd(a, b) = {gcdInCSF} = product({gcd2mul}) = {gcdProduct};\\n\\\n",
    "lcm(a, b) = {lcmInCSF} = product({lcm2mul}) = {lcmProduct};\\n\\\n",
    "gcd * lcm = {gcdxlcmInCSF} = product({gcdxlcm2mul}) =\\n\\\n",
    "a * b = {a} * {b} = {ab} ({check}).\"\n",
    "\n",
    "csf4a = [(2, 3), (3, 2), (5, 1), (7, 0)]\n",
    "\n",
    "csf4b = [(2, 2), (3, 3), (5, 0), (7, 1)]\n",
    "\n",
    "print(gcdxlcm(csf4a, csf4b))\n"
   ],
   "outputs": [],
   "metadata": {
    "id": "Vdz9GagMrgnd"
   }
  },
  {
   "cell_type": "markdown",
   "source": [
    "## <font color=red>6.9 Infinite Alternatives</font>\n"
   ],
   "metadata": {
    "id": "lH3BNgIVtar3"
   }
  },
  {
   "cell_type": "markdown",
   "source": [
    "### Exercise 6.9.1\n"
   ],
   "metadata": {
    "id": "XEC8DgKatcO1"
   }
  },
  {
   "cell_type": "markdown",
   "source": [
    "Implement in Python a recursive version of the iterative algorithm sketched in Section 6.9 for finding an ABR.\n"
   ],
   "metadata": {
    "id": "0kr85CdqtdO_"
   }
  },
  {
   "cell_type": "code",
   "execution_count": null,
   "source": [
    "#@title Hint {display-mode: \"form\"}\n",
    "from IPython.display import Markdown\n",
    "display(Markdown('''\n",
    "You've already seen a function like this for base 2 in Exercise 4.2.5. Its name is ```int2bits```.\n",
    "'''))"
   ],
   "outputs": [],
   "metadata": {
    "id": "YVPYYFE7te_J"
   }
  },
  {
   "cell_type": "code",
   "execution_count": null,
   "source": [
    "#@title Answer {display-mode: \"form\"}\n",
    "def abr(n, b):\n",
    "  d, m = n // b, n % b\n",
    "  if (d == 0):\n",
    "      return [m]\n",
    "  else:\n",
    "      l = abr(d, b)\n",
    "      l.append(m)\n",
    "      return l"
   ],
   "outputs": [],
   "metadata": {
    "id": "IZHTAiV2tj-Y"
   }
  },
  {
   "cell_type": "markdown",
   "source": [
    "### Exercise 6.9.2\n"
   ],
   "metadata": {
    "id": "gE6Qrrp4tnAl"
   }
  },
  {
   "cell_type": "markdown",
   "source": [
    "Try your ```abr``` function with several values for $n$ and $b$, e.g.:\n",
    "\n",
    "```\n",
    "print(abr(987654321, 127))\n",
    "# prints\n",
    "# [3, 101, 20, 87, 86]\n",
    "```\n"
   ],
   "metadata": {
    "id": "Lp3vzFtItoPr"
   }
  },
  {
   "cell_type": "markdown",
   "source": [
    "Why are some ABRs more useful than others?\n"
   ],
   "metadata": {
    "id": "FnfLikndtrXi"
   }
  },
  {
   "cell_type": "code",
   "execution_count": null,
   "source": [
    "#@title Hint {display-mode: \"form\"}\n",
    "from IPython.display import Markdown\n",
    "display(Markdown('''\n",
    "Think about the difference in magnitude between the first element of the &ldquo;abr&rdquo; given above, and the other elements.\n",
    "'''))\n"
   ],
   "outputs": [],
   "metadata": {
    "id": "K4T8R7nBts8-"
   }
  },
  {
   "cell_type": "code",
   "execution_count": null,
   "source": [
    "#@title Answer {display-mode: \"form\"}\n",
    "from IPython.display import Markdown\n",
    "display(Markdown('''\n",
    "Some ABRs are not very useful, as there are not enough single characters to give\n",
    "each &ldquo;character&rdquo; a unique representation like hexadecimal (base 16) does: 0-9\n",
    "map to 0-9, then 10 $\\\\rightarrow$ A, 11 $\\\\rightarrow$ B, 12 $\\\\rightarrow$ C, 13 $\\\\rightarrow$ D, 14\n",
    "$\\\\rightarrow$ E, and 15 $\\\\rightarrow$ F.\n",
    "'''))"
   ],
   "outputs": [],
   "metadata": {
    "id": "p4EER7QctyI9"
   }
  },
  {
   "cell_type": "markdown",
   "source": [
    "### Exercise 6.9.3\n"
   ],
   "metadata": {
    "id": "OHurRLDjt-kP"
   }
  },
  {
   "cell_type": "markdown",
   "source": [
    "Convert your name (first and last with @ between) as a base 27 number to\n",
    "decimal. Write two Python functions ```from27to10``` and ```to27from10``` to do\n",
    "in general the round-trip conversion from base 27 to decimal and back to base 27 again.\n"
   ],
   "metadata": {
    "id": "E_QirzJ_uAQi"
   }
  },
  {
   "cell_type": "code",
   "execution_count": null,
   "source": [
    "#@title Hint {display-mode: \"form\"}\n",
    "from IPython.display import Markdown\n",
    "display(Markdown('''\n",
    "Converting ```from27to10``` can profit from a helper function that reconstructs\n",
    "a number from its *abr* list.\n",
    "'''))\n"
   ],
   "outputs": [],
   "metadata": {
    "id": "6ci3PhC8uECh"
   }
  },
  {
   "cell_type": "code",
   "execution_count": null,
   "source": [
    "#@title Answer {display-mode: \"form\"}\n",
    "def reconstruct_number_from_abr(list_of_coefficients, base):\n",
    "  if not list_of_coefficients:\n",
    "      return 0\n",
    "  else:\n",
    "      return list_of_coefficients[0] + (base *\n",
    "      reconstruct_number_from_abr(list_of_coefficients[1:], base))\n",
    "\n",
    "def from27to10(alphabetic_message):\n",
    "  l = list(map(lambda n: int(ord(n) - ord('@')), alphabetic_message))\n",
    "  l.reverse()\n",
    "  return reconstruct_number_from_abr(l, 27)\n",
    "\n",
    "def to27from10(decimal_number):\n",
    "  l = list(map(lambda n: chr(n + ord('@')), abr(decimal_number, 27)))\n",
    "  return ''.join(l)"
   ],
   "outputs": [],
   "metadata": {
    "id": "gl_oL4yLuJo2"
   }
  },
  {
   "cell_type": "markdown",
   "source": [
    "### Exercise 6.9.4\n"
   ],
   "metadata": {
    "id": "lPMR66QluN37"
   }
  },
  {
   "cell_type": "markdown",
   "source": [
    "**Squareful** numbers are positive integers with some factor besides 1\n",
    "that is a square (e.g., 4, 9, 16). **Squarefree** numbers are positive\n",
    "integers with **no** factors that are squares. (The one exception is 1\n",
    "--- by convention, 1 is considered squarefree.) For example, 12 is\n",
    "squareful because it has 4 as a factor. 15 is squarefree because\n",
    "none of its factors --- 3 and 5 and 15 (remember, don't count 1) ---\n",
    "are squares.\n"
   ],
   "metadata": {
    "id": "pBHrJAx-uPy3"
   }
  },
  {
   "cell_type": "markdown",
   "source": [
    "Explain how the mapping below of squarefree number (**SFN**) to nonnegative integer (**NNI**) works:\n"
   ],
   "metadata": {
    "id": "KUn6yow-uRVf"
   }
  },
  {
   "cell_type": "markdown",
   "source": [
    "$\\begin{array}{rr}\n",
    "\\mathbf{SFN} & \\mathbf{NNI} \\\\\n",
    "\\hline\n",
    "1 & 0\\\\\n",
    "2 & 1\\\\\n",
    "3 & 2\\\\\n",
    "5 & 4\\\\\n",
    "6 & 3\\\\\n",
    "7 & 8\\\\\n",
    "10 & 5\\\\\n",
    "11 & 16\\\\\n",
    "13 & 32\\\\\n",
    "14 & 9\\\\\n",
    "15 & 6\\\\\n",
    "17 & 64\\\\\n",
    "19 & 128\\\\\n",
    "21 & 10\\\\\n",
    "22 & 17\\\\\n",
    "23 & 256\\\\\n",
    "26 & 33\\\\\n",
    "29 & 512\\\\\n",
    "30 & 7\\\\\n",
    "31 & 1024\\\\\n",
    "\\end{array}$"
   ],
   "metadata": {
    "id": "z1bHWiOMuSY-"
   }
  },
  {
   "cell_type": "markdown",
   "source": [
    "What is the integer that the squarefree number 42 would map to under this mapping?\n"
   ],
   "metadata": {
    "id": "xFAdLxpYuajl"
   }
  },
  {
   "cell_type": "code",
   "execution_count": null,
   "source": [
    "#@title Hint {display-mode: \"form\"}\n",
    "print('Think alternate base representation, base 2, specifically.')\n"
   ],
   "outputs": [],
   "metadata": {
    "id": "HGl5sNhRuewg"
   }
  },
  {
   "cell_type": "code",
   "execution_count": null,
   "source": [
    "#@title Answer {display-mode: \"form\"}\n",
    "from IPython.display import Markdown\n",
    "display(Markdown('''\n",
    "42 maps to 11 because $42 = 2^{1} \\cdot 3^{1} \\cdot 5^{0} \\cdot 7^{1}$ and the exponents\n",
    "are ```[1, 1, 0, 1]```, which reversed and viewed as the bits of a binary number\n",
    "are ```1011```, which is ```11``` in decimal.\n",
    "'''))"
   ],
   "outputs": [],
   "metadata": {
    "id": "-5hWKix7uhhi"
   }
  },
  {
   "cell_type": "markdown",
   "source": [
    "## <font color=red>6.10 A Combination of Theorems</font>\n"
   ],
   "metadata": {
    "id": "EREvK1Ejuo9D"
   }
  },
  {
   "cell_type": "markdown",
   "source": [
    "### Exercise 6.10.1\n"
   ],
   "metadata": {
    "id": "kLFB8NVVuqN6"
   }
  },
  {
   "cell_type": "markdown",
   "source": [
    "You are given the fact that $33(-5) + 28(11) = 143$. Using the *rinse and\n",
    "repeat* method (demonstrated in the proof of which of the four fundamental\n",
    "theorems?), find a pair of integers $x$ and $y$ such that $33x + 28y = 1$.\n"
   ],
   "metadata": {
    "id": "0PgGucVwurA2"
   }
  },
  {
   "cell_type": "code",
   "execution_count": null,
   "source": [
    "#@title Hint {display-mode: \"form\"}\n",
    "from IPython.display import Markdown\n",
    "display(Markdown('''\n",
    "You may find helpful a function that computes the linear combination $ax + by$ given those four parameters.\n",
    "'''))\n"
   ],
   "outputs": [],
   "metadata": {
    "id": "oQxiY8UOuvkS"
   }
  },
  {
   "cell_type": "code",
   "execution_count": null,
   "source": [
    "#@title Answer {display-mode: \"form\"}\n",
    "def axVby(a, x, b, y):\n",
    "  \"\"\"\n",
    "  Let a = 33 and b = 28, and 143 is certainly greater than 1, and doesn't divide\n",
    "  either a or b, so choose a to rinse and repeat on.\n",
    "\n",
    "     n   =     d   (q)   +    r\n",
    "   -----------------------------\n",
    "    33   =   143   (0)   +   33\n",
    "\n",
    "  33 is less than 143, so skip to using 33 as a new n with 28 as d:\n",
    "\n",
    "     n   =    d   (q)   +   r\n",
    "   ---------------------------\n",
    "    33   =   28   (1)   +   5\n",
    "\n",
    "  And 5, which is less than 33, equals 33(1) + 28(-1), and doesn't divide either\n",
    "  33 or 28, so continue with 33 as n and 5 as d:\n",
    "\n",
    "     n   =   d   (q)   +   r\n",
    "   --------------------------\n",
    "    33   =   5   (6)   +   3\n",
    "\n",
    "    3                              =\n",
    "    33 - 5(6)                      =\n",
    "    33(1) + 5(-6)                  = (verify with axVby(33, 1, 5, -6) -> 3)\n",
    "    33(1) + (33(1) + 28(-1))(-6)   =\n",
    "    33(1) + 33(1)(-6) + 28(-1)(-6) =\n",
    "    33(1 + (1)(-6)) + 28(-1)(-6)   =\n",
    "    33(-5) + 28(6)                 = (verify axVby(33, -5, 28, 6) -> 3)\n",
    "    3\n",
    "\n",
    "  Now 3, which is less than 5, equals 33(-5) + 28(6), but does divide 33, so use\n",
    "  28 as n and 3 as d:\n",
    "\n",
    "     n   =   d   (q)   +   r\n",
    "   --------------------------\n",
    "    28   =   3   (9)   +   1\n",
    "\n",
    "    1                              =\n",
    "    28 - 3(9)                      =\n",
    "    28(1) + 3(-9)                  =\n",
    "    28(1) + (33(-5) + 28(6))(-9)   =\n",
    "    28(1) + 33(-5)(-9) + 28(6)(-9) =\n",
    "    28(1) + 28(6)(-9) + 33(-5)(-9) =\n",
    "    28(1 + (6)(-9)) + 33(-5)(-9)   =\n",
    "    28(-53) + 33(45)               = (verify axVby(28, -53, 33, 45) -> 1)\n",
    "    1\n",
    "\n",
    "  So we have found an x=45 and y=-53 such that 33x + 28y = 1. Are those the only\n",
    "  possible values for x and y? Hardly! The pattern shown below repeats forever.\n",
    "  So what are the values of x and y that are smallest in absolute value?\n",
    "  \"\"\"\n",
    "  return a * x + b * y\n",
    "\n",
    "print([axVby(33, (45 + 28 * -1), 28, (-53 + 33 * 1)),\n",
    "       axVby(33, (45 + 28 * -2), 28, (-53 + 33 * 2)),\n",
    "       axVby(33, (45 + 28 * -3), 28, (-53 + 33 * 3))])"
   ],
   "outputs": [],
   "metadata": {
    "id": "ifLA7_miuya5"
   }
  },
  {
   "cell_type": "markdown",
   "source": [
    "### Exercise 6.10.2"
   ],
   "metadata": {
    "id": "1waVeNVSu4sx"
   }
  },
  {
   "cell_type": "markdown",
   "source": [
    "Find if there is an integer-pair solution to $91x + 11y = 1$ in the range from $-49$ to $50$.\n"
   ],
   "metadata": {
    "id": "uyrsKtcou79m"
   }
  },
  {
   "cell_type": "code",
   "execution_count": null,
   "source": [
    "def forsomeforsome(predicate, domainX, domainY):\n",
    "  return any(map(lambda x: any(map(lambda y: predicate(x, y),\n",
    "                 domainY)), domainX))"
   ],
   "outputs": [],
   "metadata": {
    "id": "NJbJ5f6wu9TA"
   }
  },
  {
   "cell_type": "code",
   "execution_count": null,
   "source": [
    "predicate = # your predicate goes here\n",
    "print(forsomeforsome(predicate, range(-49, 51), range(-49, 51)))"
   ],
   "outputs": [],
   "metadata": {
    "id": "lZdJ3KHzvWcj"
   }
  },
  {
   "cell_type": "code",
   "execution_count": null,
   "source": [
    "#@title Hint {display-mode: \"form\"}\n",
    "from IPython.display import Markdown\n",
    "display(Markdown('''\n",
    "Think about how a straightforward translation of the equation $91x + 11y = 1$\n",
    "could be written as a ```lambda``` predicate suitable for passing to\n",
    "```forsomeforsome``` in the given code.\n",
    "'''))\n"
   ],
   "outputs": [],
   "metadata": {
    "id": "dZz5MTsEvC8L"
   }
  },
  {
   "cell_type": "code",
   "execution_count": null,
   "source": [
    "#@title Answer {display-mode: \"form\"}\n",
    "predicate = lambda x, y: 91 * x + 11 * y == 1\n",
    "print(forsomeforsome(predicate, domain, domain))"
   ],
   "outputs": [],
   "metadata": {
    "id": "jh3aiT-rvINB"
   }
  },
  {
   "cell_type": "markdown",
   "source": [
    "### Exercise 6.10.3\n"
   ],
   "metadata": {
    "id": "mXypXv0Gvqw1"
   }
  },
  {
   "cell_type": "markdown",
   "source": [
    "What is the largest **unfillable** order of chicken nuggets that only come 5 to\n",
    "a box or 7 to a box, with no partial boxes allowed? Note that negative boxes\n",
    "aren't allowed either, but zero boxes are, hence every multiple of 5 or 7 is a\n",
    "fillable number.\n"
   ],
   "metadata": {
    "id": "6mEwZw6VvuNz"
   }
  },
  {
   "cell_type": "code",
   "execution_count": null,
   "source": [
    "#@title Hint {display-mode: \"form\"}\n",
    "print('''\n",
    "Get your hands dirty. Try lots of numbers and look for patterns.\n",
    "\n",
    "Functions from (or like those in) the previous two exercises might be helpful.\n",
    "''')\n"
   ],
   "outputs": [],
   "metadata": {
    "id": "E8u9IfEsvw1n"
   }
  },
  {
   "cell_type": "code",
   "execution_count": null,
   "source": [
    "#@title Answer {display-mode: \"form\"}\n",
    "print('23 nuggets is the largest unfillable order.')"
   ],
   "outputs": [],
   "metadata": {
    "id": "1-Fg03M9vy4y"
   }
  },
  {
   "cell_type": "markdown",
   "source": [
    "## <font color=red>6.11 Theorems of Congruence</font>\n"
   ],
   "metadata": {
    "id": "BFS7O9Uov3ft"
   }
  },
  {
   "cell_type": "markdown",
   "source": [
    "### Exercise 6.11.1\n"
   ],
   "metadata": {
    "id": "7QIx7dZIv4bd"
   }
  },
  {
   "cell_type": "markdown",
   "source": [
    "Two notable applications of CMM are &ldquo;casting out nines'' (using CM9) and &ldquo;ISBN error\n",
    "detection&rdquo; (using CM11). Investigate and report on both.\n"
   ],
   "metadata": {
    "id": "F2TCdcgOv5LT"
   }
  },
  {
   "cell_type": "code",
   "execution_count": null,
   "source": [
    "#@title Hint {display-mode: \"form\"}\n",
    "print('Where have you seen CM11 before?')\n"
   ],
   "outputs": [],
   "metadata": {
    "id": "TXTXuY0Bv67b"
   }
  },
  {
   "cell_type": "code",
   "execution_count": null,
   "source": [
    "#@title Answer {display-mode: \"form\"}\n",
    "from IPython.display import Markdown\n",
    "display(Markdown('''\n",
    "The technique of *casting out nines* sums the digits of the result of some\n",
    "big arithmetic problems in order to check the reasonableness of the answer. It\n",
    "works because of how CM9 works. Recall the ```sumd``` function from Exercise 6.2.2.\n",
    "\n",
    "Note that if $x > 0, x \\\\equiv_{9} sumd(x)$.\n",
    "\n",
    "For example, $sumd(2456) = 17$, thus $2456 \\\\equiv 17 \\\\equiv_{9} 8$.\n",
    "\n",
    "This can be seen by first expressing $2456$ as $2 \\\\cdot 10^{3} + 4 \\\\cdot 10^{2} + 5 \\\\cdot 10^{1} + 6$.\n",
    "Then since $10 \\\\equiv_{9} 1$, by exponentiating both sides and substituting, $2456 \\\\equiv_{9} 2 \\\\cdot\n",
    "1^{3} + 4 \\\\cdot 1^{2} + 5 \\\\cdot 1 + 6 = 17$.\n",
    "\n",
    "So to check the multiplication problem $49 \\\\cdot 41 = 2009$, reduce the numbers mod\n",
    "$9$ (by summing their digits) and do the smaller problem.\n",
    "\n",
    "While not guaranteeing that the answer is right, you can guarantee it's wrong if\n",
    "a different remainder is obtained when reducing $49 (\\\\equiv_{9} 4), 41 (\\\\equiv_{9}\n",
    "5)$, and their product $2009 (\\\\equiv_{9} 2)$, and comparing the reduced results:\n",
    "$4 \\\\cdot 5 = 20 \\\\equiv_{9} 2$.\n",
    "\n",
    "CM11 appeared before in Exercise 6.2.2. Recall the\n",
    "function checking for divisibility by 11. It depends on this technique, which\n",
    "might be called *casting out elevens*, which works by alternately adding and\n",
    "subtracting a number's digits from right to left.\n",
    "\n",
    "For example:\n",
    "1. $1234 \\\\equiv_{11} 4 - 3 + 2 - 1 = 2$.\n",
    "2. $87 \\\\equiv 7 - 8 = -1 \\\\equiv_{11} 10$.\n",
    "3. This works because 10 is congruent mod 11 to -1, so $10^{k} \\\\equiv_{11} (-1)^{k}$.\n",
    "4. Thus $1234 = 1(10^{3}) + 2(10^{2}) + 3(10^{1}) + 4 \\\\equiv_{11} 1(-1) + 2(1) + 3(-1) + 4 = 2$.\n",
    "\n",
    "Now for the &ldquo;ISBN error detection&rdquo; application. Every book has an **ISBN**,\n",
    "which is a 10- (or 13-) digit number coded using mod-11 arithmetic. If the ISBN\n",
    "is a 10-digit number, we can represent it as the digits $abcdefghij$ satisfying\n",
    "$10a + 9b + 8c + 7d + 6e + 5f + 4g + 3h + 2i + j \\\\equiv_{11} 0$.\n",
    "\n",
    "The last digit, $j$, called the check digit, is chosen so as to make the above\n",
    "sum $\\\\equiv_{11} 0$. (If $j$ needs to be 10, code it as $X$.) The point of this\n",
    "coding is that it can detect an error where one digit is incorrectly written or\n",
    "errors resulting from any two digits being transposed.\n",
    "\n",
    "For example: suppose a textbook has ISBN $0073312711$. We can confirm that it is\n",
    "valid by &ldquo;dotting&rdquo; the vector ```[0, 0, 7, 3, 3, 1, 2, 7, 1, 1]``` with the\n",
    "vector ```[10, 9, 8, 7, 6, 5, 4, 3, 2, 1]``` to get ```sum([0, 0, 56, 21, 18,\n",
    "5, 8, 21, 2, 1])``` $= 132 \\\\equiv_{11} 0$.\n",
    "'''))\n"
   ],
   "outputs": [],
   "metadata": {
    "id": "Zt-3gYANv9iR"
   }
  },
  {
   "cell_type": "markdown",
   "source": [
    "## <font color=red>6.12 Modular Inverse</font>\n"
   ],
   "metadata": {
    "id": "9UWH8iitwVkq"
   }
  },
  {
   "cell_type": "markdown",
   "source": [
    "### Exercise 6.12.1\n"
   ],
   "metadata": {
    "id": "NjnM9H98wXit"
   }
  },
  {
   "cell_type": "markdown",
   "source": [
    "Using the &ldquo;eyeball it&rdquo; method described in this section, find a mod-11 MMI of 2. Express the infinitely many of these MMIs in the form $i + mk, k \\in \\mathbb{Z}$ by filling in the correct values for $i$ and $m$. Which one of the infinite set of MMIs is TUMMI?\n"
   ],
   "metadata": {
    "id": "OMHLIkPPwYZP"
   }
  },
  {
   "cell_type": "code",
   "execution_count": null,
   "source": [
    "#@title Hint {display-mode: \"form\"}\n",
    "print('The variable names used suggest their values.')"
   ],
   "outputs": [],
   "metadata": {
    "id": "FyMX4M4fwks2"
   }
  },
  {
   "cell_type": "code",
   "execution_count": null,
   "source": [
    "#@title Answer {display-mode: \"form\"}\n",
    "from IPython.display import Markdown\n",
    "display(Markdown('''\n",
    "One answer is six, since two times six is twelve, and twelve mod eleven is one.\n",
    "Six is also TUMMI, the value in $6 + 11k$ when $k$ is zero.\n",
    "'''))"
   ],
   "outputs": [],
   "metadata": {
    "id": "VIu9fQdfwmZH"
   }
  },
  {
   "cell_type": "markdown",
   "source": [
    "### Exercise 6.12.2\n"
   ],
   "metadata": {
    "id": "Rfu91sQWwplP"
   }
  },
  {
   "cell_type": "markdown",
   "source": [
    "Show that the positive integers less than 11, except 1 and 10, can be grouped\n",
    "into pairs of integers such that each pair consists of integers that are\n",
    "mod-11 MMIs of each other.\n"
   ],
   "metadata": {
    "id": "WDKHiFo0xJwH"
   }
  },
  {
   "cell_type": "code",
   "execution_count": null,
   "source": [
    "#@title Hint {display-mode: \"form\"}\n",
    "print('Start by recalling Exercise 6.12.1.')"
   ],
   "outputs": [],
   "metadata": {
    "id": "P88DMGhjxK2k"
   }
  },
  {
   "cell_type": "code",
   "execution_count": null,
   "source": [
    "#@title Answer {display-mode: \"form\"}\n",
    "print('The pairs are two and six, three and four, five and nine, and seven and eight.')"
   ],
   "outputs": [],
   "metadata": {
    "id": "w34ArpAdxOJJ"
   }
  },
  {
   "cell_type": "markdown",
   "source": [
    "## <font color=red>6.13 Modular Exponentiation</font>\n"
   ],
   "metadata": {
    "id": "Jhh2PwthxQ59"
   }
  },
  {
   "cell_type": "markdown",
   "source": [
    "### Exercise 6.13.1\n"
   ],
   "metadata": {
    "id": "V_G0yZrRxR7A"
   }
  },
  {
   "cell_type": "markdown",
   "source": [
    "Use the demonstrated table method to find $893^{1357} \\% 4721$.\n"
   ],
   "metadata": {
    "id": "iFS9GU1UxSmm"
   }
  },
  {
   "cell_type": "code",
   "execution_count": null,
   "source": [
    "#@title Hint {display-mode: \"form\"}\n",
    "print('You can reuse the table of powers of 2 powers of 893.')"
   ],
   "outputs": [],
   "metadata": {
    "id": "gQsP7CgfxfWO"
   }
  },
  {
   "cell_type": "code",
   "execution_count": null,
   "source": [
    "#@title Answer {display-mode: \"form\"}\n",
    "print('You should get the answer 1890, which is easy to verify.')"
   ],
   "outputs": [],
   "metadata": {
    "id": "CKxGL6eUxiUZ"
   }
  },
  {
   "cell_type": "markdown",
   "source": [
    "### Exercise 6.13.2\n"
   ],
   "metadata": {
    "id": "ivxE5eWRxnLG"
   }
  },
  {
   "cell_type": "markdown",
   "source": [
    "The modular exponentiation algorithm is implemented in Python's ```pow``` function (the arity-3\n",
    "version). The documentation for this function says: &ldquo;Some types, such as ints,\n",
    "are able to use a more efficient algorithm when invoked using the three argument\n",
    "form.&rdquo; Investigate by finding the source code (written in C) to this function\n",
    "and compare it with the pseudocode for modular exponentiation that you can also\n",
    "find online.\n"
   ],
   "metadata": {
    "id": "6J_exhr6xpR7"
   }
  },
  {
   "cell_type": "code",
   "execution_count": null,
   "source": [
    "#@title Hint {display-mode: \"form\"}\n",
    "print('This is a good exercise in researching implementations of number-theoretic algorithms.')"
   ],
   "outputs": [],
   "metadata": {
    "id": "CS6oPsqlx2ly"
   }
  },
  {
   "cell_type": "code",
   "execution_count": null,
   "source": [
    "#@title Answer {display-mode: \"form\"}\n",
    "print('Did you find it?')"
   ],
   "outputs": [],
   "metadata": {
    "id": "UwYtXGSVx6MM"
   }
  },
  {
   "cell_type": "markdown",
   "source": [
    "## <font color=red>6.14 Solving Simultaneously</font>\n"
   ],
   "metadata": {
    "id": "fMrdodFhx8l2"
   }
  },
  {
   "cell_type": "markdown",
   "source": [
    "No exercises.\n"
   ],
   "metadata": {
    "id": "Wy0YHxAfx9e8"
   }
  },
  {
   "cell_type": "markdown",
   "source": [
    "## <font color=red>6.15 Bijectivity Guaranteed?</font>\n"
   ],
   "metadata": {
    "id": "xLM-OR_1x-V2"
   }
  },
  {
   "cell_type": "markdown",
   "source": [
    "### Exercise 6.15.1\n"
   ],
   "metadata": {
    "id": "3EEy5We5x_JT"
   }
  },
  {
   "cell_type": "markdown",
   "source": [
    "Code from\n",
    "* Figure 6.5 A function to print repeating residues, and\n",
    "* Figure 6.6 Showing an explicit bijection.\n"
   ],
   "metadata": {
    "id": "QvAM_uTFyABw"
   }
  },
  {
   "cell_type": "code",
   "execution_count": null,
   "source": [
    "def repres(rows, *moduli):\n",
    "  \"\"\"Repeating residues made\n",
    "     by modding range(rows+1)\n",
    "     by each of an arbitrary\n",
    "     number of moduli, one\n",
    "     tuple of residues per row.\n",
    "  \"\"\"\n",
    "  for n in range(rows + 1):\n",
    "    print(n, end=' ')\n",
    "    residues=list(map(lambda m: n % m, moduli))\n",
    "    print(*residues)\n",
    "\n",
    "repres(24, 3, 5, 8, 4, 6)\n",
    "\n",
    "import functools, math, operator, sys\n",
    "\n",
    "if sys.version_info >= (3, 8):\n",
    "  product = math.prod\n",
    "else:\n",
    "  product = functools.partial(functools.reduce, operator.mul)\n",
    "\n",
    "def lcm(*numbers):\n",
    "  return product(numbers) // math.gcd(*numbers)\n",
    "\n",
    "def represBG(*moduli):\n",
    "  \"\"\"Repeating residues with\n",
    "     bijectivity guaranteed\n",
    "     made by modding\n",
    "     range(lcm(*moduli))\n",
    "     by each of an arbitrary\n",
    "     number of moduli, one\n",
    "     tuple of residues per row.\n",
    "  \"\"\"\n",
    "  for n in range(lcm(*moduli)):\n",
    "    print(n, end=' <--> (')\n",
    "    residues=list(map(lambda m: n % m, moduli))\n",
    "    print(*residues, sep=', ', end=')\\n')\n",
    "\n",
    "represBG(3, 5)"
   ],
   "outputs": [],
   "metadata": {
    "id": "zPS0dCTIyBa5"
   }
  },
  {
   "cell_type": "markdown",
   "source": [
    "Reimplement ```represBG``` more in the functional programming style.\n"
   ],
   "metadata": {
    "id": "lgONwEFYylbq"
   }
  },
  {
   "cell_type": "code",
   "execution_count": null,
   "source": [
    "#@title Hint {display-mode: \"form\"}\n",
    "print('Use mapping instead of looping.')"
   ],
   "outputs": [],
   "metadata": {
    "id": "uRtB-vhMyrdP"
   }
  },
  {
   "cell_type": "code",
   "execution_count": null,
   "source": [
    "#@title Answer {display-mode: \"form\"}\n",
    "from pprint import *\n",
    "\n",
    "# Note: using map to essentially call a function for its\n",
    "# side effect --- format for printing --- is frowned upon\n",
    "# as contrary to the spirit of functional programming.\n",
    "# And despite using pprint (pretty print) to display\n",
    "# the resulting list one element per line, it's not as\n",
    "# pretty as just printing in a loop, as the unwanted\n",
    "# string delimiters and commas clutter the output.\n",
    "\n",
    "def format_one_line(n, *moduli):\n",
    "  residues = list(map(lambda m:n % m, moduli))\n",
    "  return f'{n} <--> ({residues})'\n",
    "\n",
    "def represBG(*moduli):\n",
    "  \"\"\"Repeating residues with\n",
    "     bijectivity guaranteed\n",
    "     made by modding\n",
    "     range(lcm(*moduli))\n",
    "     by each of an arbitrary\n",
    "     number of moduli, one\n",
    "     tuple of residues per row.\n",
    "  \"\"\"\n",
    "  return list(map(lambda n:format_one_line(n, *moduli),\n",
    "                  range(lcm(*moduli))))\n",
    "\n",
    "pprint(represBG(3, 5))"
   ],
   "outputs": [],
   "metadata": {
    "id": "pN2wqpmGyuqM"
   }
  },
  {
   "cell_type": "markdown",
   "source": [
    "## <font color=red>6.16 A Most Beguiling Theorem</font>\n"
   ],
   "metadata": {
    "id": "X2xEMckvyzWj"
   }
  },
  {
   "cell_type": "markdown",
   "source": [
    "No exercises.\n"
   ],
   "metadata": {
    "id": "mJQHMppPy1BA"
   }
  },
  {
   "cell_type": "markdown",
   "source": [
    "## <font color=red>6.17 Linear Systems</font>\n"
   ],
   "metadata": {
    "id": "LVqAsuGHy1yN"
   }
  },
  {
   "cell_type": "markdown",
   "source": [
    "### Exercise 6.17.1\n"
   ],
   "metadata": {
    "id": "t-zFvWIzy2nS"
   }
  },
  {
   "cell_type": "markdown",
   "source": [
    "Replace the &ldquo;```# ...```&rdquo; line with three lines, setting the values of\n",
    "```y1```, ```y2``` and ```y3```. Write a helper function to compute these values.\n"
   ],
   "metadata": {
    "id": "lv5fO8Ywy31J"
   }
  },
  {
   "cell_type": "markdown",
   "source": [
    "```\n",
    "r1 = 4\n",
    "r2 = 2\n",
    "r3 = 9\n",
    "m1 = 7\n",
    "m2 = 11\n",
    "m3 = 13\n",
    "m = m1 * m2 * m3\n",
    "o1 = m // m1\n",
    "o2 = m // m2\n",
    "o3 = m // m3\n",
    "# ...\n",
    "roys = (r1 * o1 * y1) + (r2 * o2 * y2) + (r3 * o3 * y3)\n",
    "solution = roys % m\n",
    "print(solution)\n",
    "```\n"
   ],
   "metadata": {
    "id": "3HPVjeGmy6zv"
   }
  },
  {
   "cell_type": "code",
   "execution_count": null,
   "source": [
    "#@title Hint {display-mode: \"form\"}\n",
    "from IPython.display import Markdown\n",
    "display(Markdown('''\n",
    "The $y_i$'s are the mod $m_i$ MMIs of the $o_i$'s.\n",
    "'''))\n"
   ],
   "outputs": [],
   "metadata": {
    "id": "_n4J89xQy9wL"
   }
  },
  {
   "cell_type": "code",
   "execution_count": null,
   "source": [
    "#@title Answer {display-mode: \"form\"}\n",
    "# A general-purpose solver of simultaneous congruences:\n",
    "\n",
    "def egcd(a, b):\n",
    "  \"\"\"Computes the greatest common divisor of a and b recursively.\n",
    "     This extended version returns d, x and y, where\n",
    "     d = ax + by = gcd(a, b).\"\n",
    "  \"\"\"\n",
    "  if b == 0:\n",
    "    return [a, 1, 0]\n",
    "  else:\n",
    "    q, r = a // b, a % b\n",
    "    d, x, y = egcd(b, r)\n",
    "    return [d, y, x - q * y]\n",
    "\n",
    "def find_y(o, m):\n",
    "  d, x, y = egcd(o, m)\n",
    "  return x\n",
    "\n",
    "def solveSSC(*pairs):\n",
    "  r_list = list(map(lambda x: x[0], pairs))\n",
    "  m_list = list(map(lambda x: x[1], pairs))\n",
    "  m = product(m_list)\n",
    "  o_list = list(map(lambda x: m // x, m_list))\n",
    "  y_list = list(map(find_y, o_list, m_list))\n",
    "  roys = map(lambda r, o, y: r * o * y, r_list, o_list, y_list)\n",
    "  almost = sum(roys)\n",
    "  return almost % m\n",
    "\n",
    "def demoSSC():\n",
    "  print(solveSSC((1, 7), (6, 11), (3, 13)))"
   ],
   "outputs": [],
   "metadata": {
    "id": "JB_b7EHLzDTw"
   }
  },
  {
   "cell_type": "code",
   "execution_count": null,
   "source": [
    "demoSSC()"
   ],
   "outputs": [],
   "metadata": {
    "id": "cUfxP1VGzJkS"
   }
  },
  {
   "cell_type": "markdown",
   "source": [
    "### Exercise 6.17.2\n"
   ],
   "metadata": {
    "id": "SaA9nGX6zMdm"
   }
  },
  {
   "cell_type": "markdown",
   "source": [
    "What are the 3-digit positive simultaneous solutions to the following systems of linear congruences?\n"
   ],
   "metadata": {
    "id": "ggHDCINkz1e2"
   }
  },
  {
   "cell_type": "markdown",
   "source": [
    "1."
   ],
   "metadata": {
    "id": "-HntAqvvzPyp"
   }
  },
  {
   "cell_type": "markdown",
   "source": [
    "$\\begin{array}{rlr}\n",
    " x & \\equiv_{7}  & 3\\\\\n",
    " x & \\equiv_{11} & 5\\\\\n",
    " x & \\equiv_{13} & 4\\\\\n",
    "\\end{array}$\n"
   ],
   "metadata": {
    "id": "mQIb_N3c0SU3"
   }
  },
  {
   "cell_type": "markdown",
   "source": [
    "2.\n"
   ],
   "metadata": {
    "id": "AbKFvDbu0T0u"
   }
  },
  {
   "cell_type": "markdown",
   "source": [
    "$\\begin{array}{rlr}\n",
    " x & \\equiv_{7}  & 3\\\\\n",
    " x & \\equiv_{11} & 2\\\\\n",
    " x & \\equiv_{13} & 1\\\\\n",
    "\\end{array}$"
   ],
   "metadata": {
    "id": "Rk1FH8t20Vo2"
   }
  },
  {
   "cell_type": "markdown",
   "source": [
    "3."
   ],
   "metadata": {
    "id": "Gcjdi-ub0Xbn"
   }
  },
  {
   "cell_type": "markdown",
   "source": [
    "$\\begin{array}{rlr}\n",
    " x & \\equiv_{7}  & 2\\\\\n",
    " x & \\equiv_{11} & 3\\\\\n",
    " x & \\equiv_{13} & 4\\\\\n",
    "\\end{array}$\n"
   ],
   "metadata": {
    "id": "i6EvAgK60YRd"
   }
  },
  {
   "cell_type": "markdown",
   "source": [
    "4."
   ],
   "metadata": {
    "id": "hq4EDvHT0Zly"
   }
  },
  {
   "cell_type": "markdown",
   "source": [
    "$\\begin{array}{rll}\n",
    " x & \\equiv_{7}  & 0\\\\\n",
    " x & \\equiv_{11} & 8\\\\\n",
    " x & \\equiv_{13} & 12\\\\\n",
    "\\end{array}$"
   ],
   "metadata": {
    "id": "jVmJSHIr0acr"
   }
  },
  {
   "cell_type": "code",
   "execution_count": null,
   "source": [
    "#@title Hint {display-mode: \"form\"}\n",
    "from IPython.display import Markdown\n",
    "display(Markdown('''\n",
    "Did you do Exercise 6.17.1? If you make a general-purpose\n",
    "&ldquo;Simultaneous System of Congruences solver function&rdquo; that passes in\n",
    "instead of hardwiring the ```r1```, ```r2```, ```r3```, and the ```m1```,\n",
    "```m2```, and ```m3``` values, this exercise will be a cinch.\n",
    "'''))"
   ],
   "outputs": [],
   "metadata": {
    "id": "O1boiTO40iYH"
   }
  },
  {
   "cell_type": "code",
   "execution_count": null,
   "source": [
    "#@title Answer {display-mode: \"form\"}\n",
    "from IPython.display import Markdown\n",
    "display(Markdown('''\n",
    "1. 654\n",
    "2. 794\n",
    "3. 212\n",
    "4. 987\n",
    "'''))"
   ],
   "outputs": [],
   "metadata": {
    "id": "pXYvkYiB0oa9"
   }
  },
  {
   "cell_type": "markdown",
   "source": [
    "### Exercise 6.17.3"
   ],
   "metadata": {
    "id": "8yyr5YQx0r9B"
   }
  },
  {
   "cell_type": "markdown",
   "source": [
    "Are there any 3-digit ($d_{1}d_{2}d_{3}$) positive simultaneous solutions to a system of linear congruences\n"
   ],
   "metadata": {
    "id": "e5jRxr7V0txD"
   }
  },
  {
   "cell_type": "markdown",
   "source": [
    "$\\begin{array}{rll}\n",
    " x & \\equiv_{7}  & r_1\\\\\n",
    " x & \\equiv_{11} & r_2\\\\\n",
    " x & \\equiv_{13} & r_3\\\\\n",
    "\\end{array}$\n"
   ],
   "metadata": {
    "id": "k0xjwbak0uop"
   }
  },
  {
   "cell_type": "markdown",
   "source": [
    "with the property that $d_{1} = r_{1}, d_{2} = r_{2},\\ \\mbox{and}\\ d_{3} = r_{3}$?\n"
   ],
   "metadata": {
    "id": "61r-oJxI0070"
   }
  },
  {
   "cell_type": "code",
   "execution_count": null,
   "source": [
    "#@title Hint {display-mode: \"form\"}\n",
    "from IPython.display import Markdown\n",
    "display(Markdown('''\n",
    "A simple search through the ```range(100, 1000)``` (all 3-digit numbers) will reveal the answer.\n",
    "'''))"
   ],
   "outputs": [],
   "metadata": {
    "id": "0mVRYzsE03ZI"
   }
  },
  {
   "cell_type": "code",
   "execution_count": null,
   "source": [
    "#@title Answer {display-mode: \"form\"}\n",
    "print('No, there are no solutions.')\n"
   ],
   "outputs": [],
   "metadata": {
    "id": "7sVC7xMD05Nn"
   }
  },
  {
   "cell_type": "markdown",
   "source": [
    "### Exercise 6.17.4\n"
   ],
   "metadata": {
    "id": "rlvwEJOr07hr"
   }
  },
  {
   "cell_type": "markdown",
   "source": [
    "These eight small-number triples are not random:\n"
   ],
   "metadata": {
    "id": "CkdGilLY0-O0"
   }
  },
  {
   "cell_type": "markdown",
   "source": [
    "```\n",
    "(1, 1, 3), (1, 1, 4),\n",
    "(1, 4, 3), (1, 4, 4),\n",
    "(2, 1, 3), (2, 1, 4),\n",
    "(2, 4, 3), (2, 4, 4)\n",
    "```\n"
   ],
   "metadata": {
    "id": "6Q5WO0bJ0_Mr"
   }
  },
  {
   "cell_type": "markdown",
   "source": [
    "They have something to do with the product of the first three odd primes and the fourth power of two.\n"
   ],
   "metadata": {
    "id": "aONCAJqr1A9J"
   }
  },
  {
   "cell_type": "markdown",
   "source": [
    "Find the connection.\n"
   ],
   "metadata": {
    "id": "KRflZu241CCl"
   }
  },
  {
   "cell_type": "code",
   "execution_count": null,
   "source": [
    "#@title Hint {display-mode: \"form\"}\n",
    "print('''\n",
    "This problem involves the Chinese Remainder Theorem. Use of the solver function\n",
    "mentioned in the hint for Exercise 6.17.2 would be helpful here, as long as you\n",
    "change the moduli from 7, 11, 13 to ones more appropriate for this problem.\n",
    "''')"
   ],
   "outputs": [],
   "metadata": {
    "id": "2RZ2AQOR1DR_"
   }
  },
  {
   "cell_type": "code",
   "execution_count": null,
   "source": [
    "#@title Answer {display-mode: \"form\"}\n",
    "print('We will look at this in class.')"
   ],
   "outputs": [],
   "metadata": {
    "id": "m52pM2OO1Hnj"
   }
  },
  {
   "cell_type": "code",
   "execution_count": null,
   "source": [
    "#@title Answer 2 {display-mode: \"form\"}\n",
    "from IPython.display import YouTubeVideo\n",
    "YouTubeVideo('X63MWZIN3gM')"
   ],
   "outputs": [],
   "metadata": {
    "id": "illgoXzT0D60"
   }
  },
  {
   "cell_type": "markdown",
   "source": [
    "Extra credit to anyone who finds the connection!"
   ],
   "metadata": {
    "id": "ICOcyEtahXhh"
   }
  },
  {
   "cell_type": "markdown",
   "source": [
    "## <font color=red>6.18 Residue Number Systems</font>\n"
   ],
   "metadata": {
    "id": "M0DJ1giH1TWU"
   }
  },
  {
   "cell_type": "markdown",
   "source": [
    "### Exercise 6.18.1\n"
   ],
   "metadata": {
    "id": "Dh4uM-FL1Uc8"
   }
  },
  {
   "cell_type": "markdown",
   "source": [
    "Using the code below as a guide and a starting point, finish implementing the ```toRNS```, ```fromRNS```, ```add2``` and ```mul2``` functions.\n"
   ],
   "metadata": {
    "id": "pR9my5jD1VWn"
   }
  },
  {
   "cell_type": "markdown",
   "source": [
    "Test your code to see if it can correctly add and multiply one-, two-, and three-digit nonnegative integers, converting to rns, doing the rns operations, then converting back from rns.\n"
   ],
   "metadata": {
    "id": "rUPQnQxX1WtZ"
   }
  },
  {
   "cell_type": "markdown",
   "source": [
    "**Avoid at all costs** the use of ```+```, ```-```, ```*```, ```/```, or ```%```.\n"
   ],
   "metadata": {
    "id": "uAKcmSnk1Yqw"
   }
  },
  {
   "cell_type": "markdown",
   "source": [
    "No fudging by implementing ```+```, say, by more primitive bit operations either.\n"
   ],
   "metadata": {
    "id": "G6X2rk7_1afd"
   }
  },
  {
   "cell_type": "code",
   "execution_count": null,
   "source": [
    "def a7(i: int, j: int):\n",
    "  \"\"\"Add two nonnegative integers in the Z_7 residue set to produce\n",
    "     a sum in that set. Error check to ensure the inputs are valid,\n",
    "     and use table lookup instead of normal addition/mod.\n",
    "  \"\"\"\n",
    "  if i < 0 or j < 0 or i > 6 or j > 6:\n",
    "      raise ValueError(f\"Invalid arguments {i} and/or {j}\")\n",
    "  m = [[0, 1, 2, 3, 4, 5, 6],\n",
    "       [1, 2, 3, 4, 5, 6, 0],\n",
    "       [2, 3, 4, 5, 6, 0, 1],\n",
    "       [3, 4, 5, 6, 0, 1, 2],\n",
    "       [4, 5, 6, 0, 1, 2, 3],\n",
    "       [5, 6, 0, 1, 2, 3, 4],\n",
    "       [6, 0, 1, 2, 3, 4, 5]]\n",
    "  return m[i][j]\n",
    "\n",
    "def a11(i: int, j: int):\n",
    "  \"\"\"Add two nonnegative integers in the Z_11 residue set to produce\n",
    "     a sum in that set. Error check to ensure the inputs are valid,\n",
    "     and use table lookup instead of normal addition/mod.\n",
    "  \"\"\"\n",
    "  if i < 0 or j < 0 or i > 10 or j > 10:\n",
    "      raise ValueError(f\"Invalid arguments {i} and/or {j}\")\n",
    "  m = [[0, 1, 2, 3, 4, 5, 6, 7, 8, 9, 10],\n",
    "       [1, 2, 3, 4, 5, 6, 7, 8, 9, 10, 0],\n",
    "       [2, 3, 4, 5, 6, 7, 8, 9, 10, 0, 1],\n",
    "       [3, 4, 5, 6, 7, 8, 9, 10, 0, 1, 2],\n",
    "       [4, 5, 6, 7, 8, 9, 10, 0, 1, 2, 3],\n",
    "       [5, 6, 7, 8, 9, 10, 0, 1, 2, 3, 4],\n",
    "       [6, 7, 8, 9, 10, 0, 1, 2, 3, 4, 5],\n",
    "       [7, 8, 9, 10, 0, 1, 2, 3, 4, 5, 6],\n",
    "       [8, 9, 10, 0, 1, 2, 3, 4, 5, 6, 7],\n",
    "       [9, 10, 0, 1, 2, 3, 4, 5, 6, 7, 8],\n",
    "       [10, 0, 1, 2, 3, 4, 5, 6, 7, 8, 9]]\n",
    "  return m[i][j]\n",
    "\n",
    "def a13(i: int, j: int):\n",
    "  \"\"\"Add two nonnegative integers in the Z_13 residue set to produce\n",
    "     a sum in that set. Error check to ensure the inputs are valid,\n",
    "     and use table lookup instead of normal addition/mod.\n",
    "  \"\"\"\n",
    "  if i < 0 or j < 0 or i > 12 or j > 12:\n",
    "      raise ValueError(f\"Invalid arguments {i} and/or {j}\")\n",
    "  m = [[0, 1, 2, 3, 4, 5, 6, 7, 8, 9, 10, 11, 12],\n",
    "       [1, 2, 3, 4, 5, 6, 7, 8, 9, 10, 11, 12, 0],\n",
    "       [2, 3, 4, 5, 6, 7, 8, 9, 10, 11, 12, 0, 1],\n",
    "       [3, 4, 5, 6, 7, 8, 9, 10, 11, 12, 0, 1, 2],\n",
    "       [4, 5, 6, 7, 8, 9, 10, 11, 12, 0, 1, 2, 3],\n",
    "       [5, 6, 7, 8, 9, 10, 11, 12, 0, 1, 2, 3, 4],\n",
    "       [6, 7, 8, 9, 10, 11, 12, 0, 1, 2, 3, 4, 5],\n",
    "       [7, 8, 9, 10, 11, 12, 0, 1, 2, 3, 4, 5, 6],\n",
    "       [8, 9, 10, 11, 12, 0, 1, 2, 3, 4, 5, 6, 7],\n",
    "       [9, 10, 11, 12, 0, 1, 2, 3, 4, 5, 6, 7, 8],\n",
    "       [10, 11, 12, 0, 1, 2, 3, 4, 5, 6, 7, 8, 9],\n",
    "       [11, 12, 0, 1, 2, 3, 4, 5, 6, 7, 8, 9, 10],\n",
    "       [12, 0, 1, 2, 3, 4, 5, 6, 7, 8, 9, 10, 11]]\n",
    "  return m[i][j]\n",
    "\n",
    "def m7(i: int, j: int):\n",
    "  \"\"\"Multiply two nonnegative integers in the Z_7 residue set to produce\n",
    "     a product in that set. Error check to ensure the inputs are valid,\n",
    "     and use table lookup instead of normal multiplication/mod.\n",
    "  \"\"\"\n",
    "  if i < 0 or j < 0 or i > 6 or j > 6:\n",
    "      raise ValueError(f\"Invalid arguments {i} and/or {j}\")\n",
    "  m = [[0, 0, 0, 0, 0, 0, 0],\n",
    "       [0, 1, 2, 3, 4, 5, 6],\n",
    "       [0, 2, 4, 6, 1, 3, 5],\n",
    "       [0, 3, 6, 2, 5, 1, 4],\n",
    "       [0, 4, 1, 5, 2, 6, 3],\n",
    "       [0, 5, 3, 1, 6, 4, 2],\n",
    "       [0, 6, 5, 4, 3, 2, 1]]\n",
    "  return m[i][j]\n",
    "\n",
    "def m11(i: int, j: int):\n",
    "  \"\"\"Multiply two nonnegative integers in the Z_11 residue set to produce\n",
    "     a product in that set. Error check to ensure the inputs are valid,\n",
    "     and use table lookup instead of normal multiplication/mod.\n",
    "  \"\"\"\n",
    "  if i < 0 or j < 0 or i > 10 or j > 10:\n",
    "      raise ValueError(f\"Invalid arguments {i} and/or {j}\")\n",
    "  m = [[0, 0, 0, 0, 0, 0, 0, 0, 0, 0, 0],\n",
    "       [0, 1, 2, 3, 4, 5, 6, 7, 8, 9, 10],\n",
    "       [0, 2, 4, 6, 8, 10, 1, 3, 5, 7, 9],\n",
    "       [0, 3, 6, 9, 1, 4, 7, 10, 2, 5, 8],\n",
    "       [0, 4, 8, 1, 5, 9, 2, 6, 10, 3, 7],\n",
    "       [0, 5, 10, 4, 9, 3, 8, 2, 7, 1, 6],\n",
    "       [0, 6, 1, 7, 2, 8, 3, 9, 4, 10, 5],\n",
    "       [0, 7, 3, 10, 6, 2, 9, 5, 1, 8, 4],\n",
    "       [0, 8, 5, 2, 10, 7, 4, 1, 9, 6, 3],\n",
    "       [0, 9, 7, 5, 3, 1, 10, 8, 6, 4, 2],\n",
    "       [0, 10, 9, 8, 7, 6, 5, 4, 3, 2, 1]]\n",
    "  return m[i][j]\n",
    "\n",
    "def m13(i: int, j: int):\n",
    "  \"\"\"Multiply two nonnegative integers in the Z_13 residue set to produce\n",
    "     a product in that set. Error check to ensure the inputs are valid,\n",
    "     and use table lookup instead of normal multiplication/mod.\n",
    "  \"\"\"\n",
    "  if i < 0 or j < 0 or i > 12 or j > 12:\n",
    "      raise ValueError(f\"Invalid arguments {i} and/or {j}\")\n",
    "  m = [[0, 0, 0, 0, 0, 0, 0, 0, 0, 0, 0, 0, 0],\n",
    "       [0, 1, 2, 3, 4, 5, 6, 7, 8, 9, 10, 11, 12],\n",
    "       [0, 2, 4, 6, 8, 10, 12, 1, 3, 5, 7, 9, 11],\n",
    "       [0, 3, 6, 9, 12, 2, 5, 8, 11, 1, 4, 7, 10],\n",
    "       [0, 4, 8, 12, 3, 7, 11, 2, 6, 10, 1, 5, 9],\n",
    "       [0, 5, 10, 2, 7, 12, 4, 9, 1, 6, 11, 3, 8],\n",
    "       [0, 6, 12, 5, 11, 4, 10, 3, 9, 2, 8, 1, 7],\n",
    "       [0, 7, 1, 8, 2, 9, 3, 10, 4, 11, 5, 12, 6],\n",
    "       [0, 8, 3, 11, 6, 1, 9, 4, 12, 7, 2, 10, 5],\n",
    "       [0, 9, 5, 1, 10, 6, 2, 11, 7, 3, 12, 8, 4],\n",
    "       [0, 10, 7, 4, 1, 11, 8, 5, 2, 12, 9, 6, 3],\n",
    "       [0, 11, 9, 7, 5, 3, 1, 12, 10, 8, 6, 4, 2],\n",
    "       [0, 12, 11, 10, 9, 8, 7, 6, 5, 4, 3, 2, 1]]\n",
    "  return m[i][j]\n",
    "\n",
    "\n",
    "# This code creates a number-to-RNS-representation lookup\n",
    "# dictionary for three moduli (e.g. m1 = 7, m2 = 11, m3 = 13)\n",
    "# with looping and using '*' and '%':\n",
    "def createRNSlookupNoFP(m1, m2, m3):\n",
    "  rns_dict = {}\n",
    "  for n in range(m1 * m2 * m3):\n",
    "      rns_dict[n] = (n % m1, n % m2, n % m3)\n",
    "  return rns_dict\n",
    "\n",
    "# This code creates a number-to-RNS-representation lookup\n",
    "# dictionary for three moduli (e.g. m1 = 7, m2 = 11, m3 = 13)\n",
    "# without looping, or using '%' (however, it still uses '*'):\n",
    "def createRNSlookup(m1, m2, m3):\n",
    "  return dict(zip(range(m1 * m2 * m3),\n",
    "              zip(list(range(m1)) * m2 * m3,\n",
    "                  list(range(m2)) * m1 * m3,\n",
    "                  list(range(m3)) * m1 * m2)))\n",
    "\n",
    "# Create the rns lookup dictionary for moduli 7, 11 and 13.\n",
    "rns_dict = createRNSlookup(7, 11, 13)\n",
    "\n",
    "# These four functions are for you to implement:\n",
    "def toRNS(n):\n",
    "  raise NotImplementedError('Implement this function.')\n",
    "\n",
    "def fromRNS(rns):\n",
    "  raise NotImplementedError('Implement this function.')\n",
    "\n",
    "def add2(rns1, rns2):\n",
    "  raise NotImplementedError('Implement this function.')\n",
    "\n",
    "def mul2(rns1, rns2):\n",
    "  raise NotImplementedError('Implement this function.')\n",
    "\n",
    "# For testing: call the last two of these four functions\n",
    "# AFTER implementing toRNS, fromRNS, add2 and mul2.\n",
    "def test_rns_add2(test_pairs):\n",
    "  return [*map(lambda a, b: a + b == fromRNS(add2(toRNS(a), toRNS(b))),\n",
    "               [*map(lambda tp: tp[0], test_pairs)],\n",
    "               [*map(lambda tp: tp[1], test_pairs)])]\n",
    "\n",
    "def test_rns_mul2(test_pairs):\n",
    "  return [*map(lambda a, b: a * b == fromRNS(mul2(toRNS(a), toRNS(b))),\n",
    "               [*map(lambda tp: tp[0], test_pairs)],\n",
    "               [*map(lambda tp: tp[1], test_pairs)])]\n",
    "\n",
    "def do_test_rns_add2():\n",
    "  return all(test_rns_add2([(272, 202),\n",
    "                            (209, 280),\n",
    "                            (39, 184),\n",
    "                            (283, 282),\n",
    "                            (96, 137),\n",
    "                            (231, 298),\n",
    "                            (171, 187),\n",
    "                            (300, 178),\n",
    "                            (0, 177),\n",
    "                            (77, 238),\n",
    "                            (77, 157),\n",
    "                            (98, 248),\n",
    "                            (352, 93),\n",
    "                            (385, 152),\n",
    "                            (165, 98),\n",
    "                            (512, 127)]))\n",
    "\n",
    "def do_test_rns_mul2():\n",
    "  return all(test_rns_mul2([(10, 7),\n",
    "                            (12, 11),\n",
    "                            (2, 0),\n",
    "                            (17, 16),\n",
    "                            (10, 16),\n",
    "                            (12, 10),\n",
    "                            (2, 11),\n",
    "                            (17, 11),\n",
    "                            (10, 10),\n",
    "                            (12, 7),\n",
    "                            (2, 11),\n",
    "                            (17, 1),\n",
    "                            (10, 9),\n",
    "                            (12, 16),\n",
    "                            (2, 14),\n",
    "                            (17, 15),\n",
    "                            (18, 7),\n",
    "                            (1, 11),\n",
    "                            (15, 0),\n",
    "                            (6, 16),\n",
    "                            (18, 16),\n",
    "                            (1, 10),\n",
    "                            (15, 11),\n",
    "                            (6, 11),\n",
    "                            (18, 10),\n",
    "                            (1, 7),\n",
    "                            (15, 11),\n",
    "                            (6, 1),\n",
    "                            (18, 9),\n",
    "                            (1, 16),\n",
    "                            (15, 14),\n",
    "                            (6, 15),\n",
    "                            (8, 7),\n",
    "                            (11, 11),\n",
    "                            (7, 0),\n",
    "                            (0, 16),\n",
    "                            (8, 16),\n",
    "                            (11, 10),\n",
    "                            (7, 11),\n",
    "                            (0, 11),\n",
    "                            (8, 10),\n",
    "                            (11, 7),\n",
    "                            (7, 11),\n",
    "                            (0, 1),\n",
    "                            (8, 9),\n",
    "                            (11, 16),\n",
    "                            (7, 14),\n",
    "                            (0, 15),\n",
    "                            (7, 7),\n",
    "                            (4, 11),\n",
    "                            (13, 0),\n",
    "                            (22, 16),\n",
    "                            (7, 16),\n",
    "                            (4, 10),\n",
    "                            (13, 11),\n",
    "                            (22, 11),\n",
    "                            (7, 10),\n",
    "                            (4, 7),\n",
    "                            (13, 11),\n",
    "                            (22, 1),\n",
    "                            (7, 9),\n",
    "                            (4, 16),\n",
    "                            (13, 14),\n",
    "                            (22, 15)]))"
   ],
   "outputs": [],
   "metadata": {
    "id": "jW703ADN1c-f"
   }
  },
  {
   "cell_type": "code",
   "execution_count": null,
   "source": [
    "#@title Hint {display-mode: \"form\"}\n",
    "print('''\n",
    "You will benefit greatly if you write helper functions and use good functional\n",
    "programming style throughout.\n",
    "''')"
   ],
   "outputs": [],
   "metadata": {
    "id": "vnUTmh9L2F4f"
   }
  },
  {
   "cell_type": "code",
   "execution_count": null,
   "source": [
    "#@title Answer {display-mode: \"form\"}\n",
    "# Kyle Mueller's code avoids at all costs the use of +, -, *, /, %, or mod!\n",
    "from functools import reduce\n",
    "\n",
    "flatten = lambda l:sum(map(flatten, l), []) if isinstance(l, list) else [l]\n",
    "\n",
    "make_list = lambda a,b:flatten([a,b])\n",
    "\n",
    "def create_residue_list_repeating(modulus, repetitions, existing_list=None):\n",
    "  residue_list = []\n",
    "  reduce(lambda _,__:residue_list.extend(existing_list or list(range(modulus))),\n",
    "         range(-1,repetitions))\n",
    "  return residue_list\n",
    "\n",
    "def createRNSlookup(m1, m2, m3):\n",
    "  second_third_lists = list(map(make_list, create_residue_list_repeating(m2, m3),\n",
    "                                create_residue_list_repeating(m3, m2)))\n",
    "  second_third_lists_augmented = create_residue_list_repeating(0, m1, second_third_lists)\n",
    "  first_second_third_list = list(map(make_list, create_residue_list_repeating(m1, len(second_third_lists)),\n",
    "                                     second_third_lists_augmented))\n",
    "  return dict(zip(range(len(first_second_third_list)), first_second_third_list))\n",
    "\n",
    "rns_dict = createRNSlookup(7, 11, 13)\n",
    "\n",
    "# These four functions you should have implemented:\n",
    "def toRNS(n):\n",
    "  return rns_dict[n]\n",
    "\n",
    "def fromRNS(rns):\n",
    "  return list(rns_dict.keys())[list(rns_dict.values()).index(rns)]\n",
    "\n",
    "def add2(rns1, rns2):\n",
    "  return [a7(rns1[0], rns2[0]),\n",
    "          a11(rns1[1], rns2[1]),\n",
    "          a13(rns1[2], rns2[2])]\n",
    "\n",
    "def mul2(rns1, rns2):\n",
    "  return [m7(rns1[0], rns2[0]),\n",
    "          m11(rns1[1], rns2[1]),\n",
    "          m13(rns1[2], rns2[2])]\n",
    "\n",
    "print(do_test_rns_add2())\n",
    "\n",
    "print(do_test_rns_mul2())"
   ],
   "outputs": [],
   "metadata": {
    "id": "bA24l4xK2K9t"
   }
  },
  {
   "cell_type": "markdown",
   "source": [
    "## <font color=red>6.19 The RSA Cryptosystem</font>\n"
   ],
   "metadata": {
    "id": "BYuc4k9k3qpr"
   }
  },
  {
   "cell_type": "markdown",
   "source": [
    "### Exercise 6.19.1\n"
   ],
   "metadata": {
    "id": "gW1nUHu43sHb"
   }
  },
  {
   "cell_type": "markdown",
   "source": [
    "Experiment with the RSA Cryptosystem using the code below:\n"
   ],
   "metadata": {
    "id": "9e6dy8w-3s_U"
   }
  },
  {
   "cell_type": "code",
   "execution_count": null,
   "source": [
    "def igcd(b, n):\n",
    "  x0, x1, y0, y1 = 1, 0, 0, 1\n",
    "  while n != 0:\n",
    "      q, b, n = b // n, n, b % n\n",
    "      x0, x1 = x1, x0 - q * x1\n",
    "      y0, y1 = y1, y0 - q * y1\n",
    "  return b, x0, y0\n",
    "\n",
    "def TUMMI(e, t):\n",
    "  d, x, y = igcd(e, t)\n",
    "  if d != 1:\n",
    "      raise ValueError(\"no TUMMI exists\")\n",
    "  else:\n",
    "      return x % t\n",
    "\n",
    "def demoRSA():\n",
    "  p = 37\n",
    "  q = 41\n",
    "  n = p * q\n",
    "  e = 65537 # 2 ** 16 + 1\n",
    "  t = (p - 1) * (q - 1)\n",
    "  d = TUMMI(e, t)\n",
    "  m = 42\n",
    "  c = pow(m, e, n)\n",
    "  m_again = pow(c, d, n)\n",
    "  print(p, q, n, t, e, d, m, c, m_again)"
   ],
   "outputs": [],
   "metadata": {
    "id": "QUq2KHRS3tsq"
   }
  },
  {
   "cell_type": "code",
   "execution_count": null,
   "source": [
    "demoRSA()"
   ],
   "outputs": [],
   "metadata": {
    "id": "oPLKHGCT30Ks"
   }
  },
  {
   "cell_type": "markdown",
   "source": [
    "How &ldquo;big&rdquo; a message can be successfully round-trip encrypted/decrypted using these &ldquo;RSA Players&rdquo;?\n"
   ],
   "metadata": {
    "id": "7Yfz4usr32WE"
   }
  },
  {
   "cell_type": "markdown",
   "source": [
    "Those of your own devising?\n"
   ],
   "metadata": {
    "id": "DAWEuZsU356W"
   }
  },
  {
   "cell_type": "code",
   "execution_count": null,
   "source": [
    "#@title Hint {display-mode: \"form\"}\n",
    "from IPython.display import Markdown\n",
    "display(Markdown('''\n",
    "Pay attention to the difference between *encoding* and *encryption*, and\n",
    "between *decryption* and *decoding*.\n",
    "'''))"
   ],
   "outputs": [],
   "metadata": {
    "id": "wklxwvAY37OZ"
   }
  },
  {
   "cell_type": "code",
   "execution_count": null,
   "source": [
    "#@title Answer {display-mode: \"form\"}\n",
    "print('To be revealed in class.')"
   ],
   "outputs": [],
   "metadata": {
    "id": "3vTlkgbO4Enq"
   }
  }
 ],
 "metadata": {
  "colab": {
   "authorship_tag": "ABX9TyMmsNy3N3UC3fhdg9f5Fq0f",
   "collapsed_sections": [],
   "name": "chapter-6-number-theory-and-practice-exercises.ipynb",
   "private_outputs": true,
   "provenance": [],
   "toc_visible": true
  },
  "kernelspec": {
   "display_name": "Python 3",
   "language": "python",
   "name": "python3"
  },
  "language_info": {
   "codemirror_mode": {
    "name": "ipython",
    "version": 3
   },
   "file_extension": ".py",
   "mimetype": "text/x-python",
   "name": "python",
   "nbconvert_exporter": "python",
   "pygments_lexer": "ipython3",
   "version": "3.9.0"
  }
 },
 "nbformat": 4,
 "nbformat_minor": 1
}