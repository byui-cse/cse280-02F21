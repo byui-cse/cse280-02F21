{
 "cells": [
  {
   "cell_type": "markdown",
   "source": [
    "# <font color=blue>Chapter 1 Introductions Exercises</font>\r\n",
    "## <font color=blue>Prepare</font>"
   ],
   "metadata": {
    "id": "_Mr3AvSgSswx"
   }
  },
  {
   "cell_type": "markdown",
   "source": [
    "Do your best to answer the following questions. Use any resources at your disposal to try and solve them. You *should* write some Python code to help you and to illuminate your answers. You can and should write Python code and your answers right here in the notebook. Save a copy to your Google Drive and that is what you'll turn in."
   ],
   "metadata": {}
  },
  {
   "cell_type": "markdown",
   "source": [
    "## Exercise 1.4.1"
   ],
   "metadata": {
    "id": "yZQPenktDawj"
   }
  },
  {
   "cell_type": "markdown",
   "source": [
    "The operation called *dehydration* takes a word and deletes all letters in it from H to O. What is the original (rehydrated) text of this\r\n",
    "dehydrated sequence of words?\r\n",
    "\r\n",
    "TE TE AS CE TE WARUS SAD T TA F AY TGS F SES AD SPS AD\r\n",
    "SEAG WAX F CABBAGES AD GS AD WY TE SEA S BG T AD WETER\r\n",
    "PGS AVE WGS"
   ],
   "metadata": {}
  },
  {
   "cell_type": "markdown",
   "source": [
    "## Exercise 1.4.2"
   ],
   "metadata": {
    "id": "aqngF-1JDkvy"
   }
  },
  {
   "cell_type": "markdown",
   "source": [
    "What English word has the largest *finite* consonant-vowel-ratio\r\n",
    "(CVR)? For example, the CVRs of the words (including the TLA)\r\n",
    "in the previous sentence are 3:1, 5:2, 3:1, 2:1, 2:1, 5:2, 1:1, 2:1,\r\n",
    "3:2, 2:3, and 3:0 — say n:0, which is n/0, is infinity for any positive integer n. Which is to say that “words” with no vowels are\r\n",
    "disqualified (because CVRs must be finite)."
   ],
   "metadata": {}
  },
  {
   "cell_type": "markdown",
   "source": [
    "## Exercise 1.4.3"
   ],
   "metadata": {
    "id": "aqngF-1JDkvy"
   }
  },
  {
   "cell_type": "markdown",
   "source": [
    "Do you think mathematicians discover or invent patterns? While\r\n",
    "pondering that question, consider what G. H. Hardy famously wrote:\r\n",
    "*A mathematician, like a painter or a poet, is a maker of patterns.\r\n",
    "If his patterns are more permanent than theirs, it is because they\r\n",
    "are made with ideas.* What do you think he meant by that?\r\n",
    "\r\n",
    "Pick a number (a positive integer). Form the product of: that number, one more than that number, and one more than twice that\r\n",
    "number. Repeat for several different numbers. There is a pattern\r\n",
    "to these products. What is it?"
   ],
   "metadata": {}
  },
  {
   "cell_type": "markdown",
   "source": [
    "## Exercise 1.4.4"
   ],
   "metadata": {
    "id": "KBEUQkdhECru"
   }
  },
  {
   "cell_type": "markdown",
   "source": [
    "Find the connection between the bolded portions of the words\r\n",
    "**MAKE** **HI**M **FOCU**S and the numbers 9, 0, 7, 1, 5, 2, 3, 3, 1, and 4."
   ],
   "metadata": {}
  },
  {
   "cell_type": "markdown",
   "source": [
    "## Exercise 1.4.5"
   ],
   "metadata": {
    "id": "KBEUQkdhECru"
   }
  },
  {
   "cell_type": "markdown",
   "source": [
    "In this figure, the innermost circle has radius 1. It is circumscribed by an equilateral triangle, which is circumscribed by a\r\n",
    "circle, which is circumscribed by a square, which is circumscribed\r\n",
    "by yet another circle, and so the pattern continues. What is the\r\n",
    "radius of the outermost circle?\r\n",
    "\r\n",
    "\r\n"
   ],
   "metadata": {}
  },
  {
   "cell_type": "markdown",
   "source": [
    "## Hints and Answers"
   ],
   "metadata": {
    "id": "KBEUQkdhECru"
   }
  },
  {
   "cell_type": "markdown",
   "source": [
    "Here are links to the Hints and Answers for the five Chapter 1.4 exercises. Try to do them on your own first. Then look at the hints to help you proceed. Finally, compare your answers with the answers shown below. \r\n",
    "\r\n",
    "[Hints]({notebook_base_url}/chapter-1-introductions-exercises-hints.ipynb)\r\n",
    "\r\n",
    "[Answers]({notebook_base_url}/chapter-1-introductions-exercises-answers-1dtnfeZCwywv1jnxk6wKgrCpmBhDPhigx.ipynb)\r\n",
    "\r\n",
    "You have to do some more work, though, to get to the Answers. You'll need to do that work in order to check the boxes accurately where you are asked to answer \"What is True?\" and assert (or not) that you got the right answers to these five exercises.\r\n",
    "\r\n",
    "A simple transformation was applied to the GUID (Globally Unique ID) in the file link. You will need to reverse that transformation and splice back in the original GUID to make the link valid. Splice it in by modifying the code cell below and running it.\r\n",
    "\r\n",
    "As for what that transformation could be? --- think Hints!\r\n",
    "\r\n",
    "(If you can't figure it out after noodling on it for 10 or so minutes, well, you know what to do!)"
   ],
   "metadata": {
    "id": "fLIKG9ZmdG5-"
   }
  },
  {
   "cell_type": "code",
   "execution_count": null,
   "source": [
    "from IPython.display import Markdown\r\n",
    "transformed_GUID = '1dtnfeZCwywv1jnxk6wKgrCpmBhDPhigx'\r\n",
    "original_GUID = '0' # replace 0 with the reverse-transformed transformed_GUID\r\n",
    "# The actual link:\r\n",
    "display(Markdown('[Answers]({notebook_base_url}/chapter-1-introductions-exercises-answers-'+original_GUID+'.ipynb)'))"
   ],
   "outputs": [],
   "metadata": {
    "id": "1XTOnEmicVnd"
   }
  },
  {
   "cell_type": "markdown",
   "source": [
    "Your code does not need to be the same as or even close to the sample solutions. But here is your chance to compare and contrast your code with these possible solutions/illuminations. And make note of any improvements you could make for the future."
   ],
   "metadata": {}
  }
 ],
 "metadata": {
  "colab": {
   "authorship_tag": "ABX9TyM2pnZ50IB1krMNsEI2wRWT",
   "name": "chapter-1-introductions-exercises.ipynb",
   "private_outputs": true,
   "provenance": [],
   "collapsed_sections": [],
   "toc_visible": true
  },
  "kernelspec": {
   "display_name": "Python 3",
   "language": "python",
   "name": "python3"
  },
  "language_info": {
   "codemirror_mode": {
    "name": "ipython",
    "version": 3
   },
   "file_extension": ".py",
   "mimetype": "text/x-python",
   "name": "python",
   "nbconvert_exporter": "python",
   "pygments_lexer": "ipython3",
   "version": "3.9.0"
  }
 },
 "nbformat": 4,
 "nbformat_minor": 1
}