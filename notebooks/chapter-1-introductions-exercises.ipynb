{
 "cells": [
  {
   "cell_type": "markdown",
   "metadata": {
    "id": "_Mr3AvSgSswx"
   },
   "source": [
    "# <font color=blue>Chapter 1 Introductions Exercises</font>\n",
    "## <font color=blue>Prepare</font>"
   ]
  },
  {
   "cell_type": "markdown",
   "metadata": {},
   "source": [
    "**Instructions:** Do your best to answer the following questions. Use any resources at your disposal to try and solve them. You are highly encouraged to write some Python code to help you and to illuminate your answers. \n",
    "\n",
    "1. First, make a copy of this Colab Notebook to your GitHub account as a GitHub Gist (File -> Save a copy as a GitHub Gist). This will allow you to save any changes you make.\n",
    "\n",
    "2. Now enter your answers to each question in the places shown below. \n",
    "\n",
    "3. To submit your work, turn in the URL for your Colab notebook. Make sure the URL has `gist` in it. It should look something like this:\n",
    "`https://colab.research.google.com/gist/yourgithubusername/somerandomnumbersandletters/chapter-1-introductions-exercises.ipynb`"
   ]
  },
  {
   "cell_type": "markdown",
   "metadata": {
    "id": "yZQPenktDawj"
   },
   "source": [
    "## Exercise 1.4.1"
   ]
  },
  {
   "cell_type": "markdown",
   "metadata": {},
   "source": [
    "The operation called *dehydration* takes a word and deletes all letters in it from H to O. What is the original (rehydrated) text of this\n",
    "dehydrated sequence of words?\n",
    "\n",
    "TE TE AS CE TE WARUS SAD T TA F AY TGS F SES AD SPS AD\n",
    "SEAG WAX F CABBAGES AD GS AD WY TE SEA S BG T AD WETER\n",
    "PGS AVE WGS"
   ]
  },
  {
   "cell_type": "markdown",
   "metadata": {},
   "source": [
    "*Write your answer here by editing this cell*"
   ]
  },
  {
   "cell_type": "code",
   "execution_count": null,
   "metadata": {},
   "outputs": [],
   "source": [
    "# Include any python code you wrote to illuminate your answer here\n",
    "# in this Jupyter Notebook code cell"
   ]
  },
  {
   "cell_type": "markdown",
   "metadata": {
    "id": "aqngF-1JDkvy"
   },
   "source": [
    "## Exercise 1.4.2"
   ]
  },
  {
   "cell_type": "markdown",
   "metadata": {},
   "source": [
    "What English word has the largest *finite* consonant-vowel-ratio\n",
    "(CVR)? For example, the CVRs of the words (including the TLA)\n",
    "in the previous sentence are 3:1, 5:2, 3:1, 2:1, 2:1, 5:2, 1:1, 2:1,\n",
    "3:2, 2:3, and 3:0 — say n:0, which is n/0, is infinity for any positive integer n. Which is to say that “words” with no vowels are\n",
    "disqualified (because CVRs must be finite)."
   ]
  },
  {
   "cell_type": "markdown",
   "metadata": {},
   "source": [
    "*Write your answer here by editing this cell*"
   ]
  },
  {
   "cell_type": "code",
   "execution_count": null,
   "metadata": {},
   "outputs": [],
   "source": [
    "# Include any python code you wrote to illuminate your answer here\n",
    "# in this Jupyter Notebook code cell"
   ]
  },
  {
   "cell_type": "markdown",
   "metadata": {
    "id": "aqngF-1JDkvy"
   },
   "source": [
    "## Exercise 1.4.3"
   ]
  },
  {
   "cell_type": "markdown",
   "metadata": {},
   "source": [
    "Do you think mathematicians discover or invent patterns? While\n",
    "pondering that question, consider what G. H. Hardy famously wrote:\n",
    "*A mathematician, like a painter or a poet, is a maker of patterns.\n",
    "If his patterns are more permanent than theirs, it is because they\n",
    "are made with ideas.* What do you think he meant by that?\n",
    "\n",
    "Pick a number (a positive integer). Form the product of: that number, one more than that number, and one more than twice that\n",
    "number. Repeat for several different numbers. There is a pattern\n",
    "to these products. What is it?"
   ]
  },
  {
   "cell_type": "markdown",
   "metadata": {},
   "source": [
    "*Write your answer here by editing this cell*"
   ]
  },
  {
   "cell_type": "code",
   "execution_count": null,
   "metadata": {},
   "outputs": [],
   "source": [
    "# Include any python code you wrote to illuminate your answer here\n",
    "# in this Jupyter Notebook code cell"
   ]
  },
  {
   "cell_type": "markdown",
   "metadata": {
    "id": "KBEUQkdhECru"
   },
   "source": [
    "## Exercise 1.4.4"
   ]
  },
  {
   "cell_type": "markdown",
   "metadata": {},
   "source": [
    "Find the connection between the bolded portions of the words\n",
    "**MAKE** **HI**M **FOCU**S and the numbers 9, 0, 7, 1, 5, 2, 3, 3, 1, and 4."
   ]
  },
  {
   "cell_type": "markdown",
   "metadata": {},
   "source": [
    "*Write your answer here by editing this cell*"
   ]
  },
  {
   "cell_type": "code",
   "execution_count": null,
   "metadata": {},
   "outputs": [],
   "source": [
    "# Include any python code you wrote to illuminate your answer here\n",
    "# in this Jupyter Notebook code cell"
   ]
  },
  {
   "cell_type": "markdown",
   "metadata": {
    "id": "KBEUQkdhECru"
   },
   "source": [
    "## Exercise 1.4.5"
   ]
  },
  {
   "cell_type": "markdown",
   "metadata": {},
   "source": [
    "In this figure, the innermost circle has radius 1. It is circumscribed by an equilateral triangle, which is circumscribed by a\n",
    "circle, which is circumscribed by a square, which is circumscribed\n",
    "by yet another circle, and so the pattern continues. What is the\n",
    "radius of the outermost circle?\n",
    "\n",
    "![circle](images/fig-circumscribed-polygons-and-circles.png)"
   ]
  },
  {
   "cell_type": "markdown",
   "metadata": {},
   "source": [
    "*Write your answer here by editing this cell*"
   ]
  },
  {
   "cell_type": "code",
   "execution_count": null,
   "metadata": {},
   "outputs": [],
   "source": [
    "# Include any python code you wrote to illuminate your answer here\n",
    "# in this Jupyter Notebook code cell"
   ]
  },
  {
   "cell_type": "markdown",
   "metadata": {
    "id": "KBEUQkdhECru"
   },
   "source": [
    "## Hints and Answers"
   ]
  },
  {
   "cell_type": "markdown",
   "metadata": {
    "id": "fLIKG9ZmdG5-"
   },
   "source": [
    "Here are links to the Hints and Answers for the five Chapter 1.4 exercises. Try to do the exercises on your own first. Then look at the hints to help you proceed. Finally, compare your answers with the answers shown below. \n",
    "\n",
    "Your code does not need to be the same as or even close to the sample solutions. This is your chance to compare and contrast your code with these possible solutions/illuminations and take note of any improvements you could make for the future.\n",
    "\n",
    "[Hints](https://colab.research.google.com/github/byui-cse/cse280-course-notebooks/blob/main/notebooks/chapter-1-introductions-exercises-hints.ipynb)\n",
    "\n",
    "[Answers](https://colab.research.google.com/github/byui-cse/cse280-course-notebooks/blob/main/notebooks/chapter-1-introductions-exercises-answers-1dtnfeZCwywv1jnxk6wKgrCpmBhDPhigx.ipynb)\n",
    "\n",
    "You will have to do a little more work, though, to get to the Answers. You'll need to do that work in order to check the boxes accurately where you are asked to answer \"What is True?\" and assert (or not) that you got the right answers to these five exercises.\n",
    "\n",
    "A simple transformation was applied to the GUID (Globally Unique ID) in the file link. You will need to reverse that transformation and splice back in the original GUID to make the link valid. Splice it in by modifying the code cell below and running it.\n",
    "\n",
    "As for what that transformation could be? --- think Hints!\n",
    "\n",
    "(If you can't figure it out after noodling on it for 10 or so minutes, reach out to a classmate, the TA, or your instructor.)"
   ]
  },
  {
   "cell_type": "code",
   "execution_count": null,
   "metadata": {
    "id": "1XTOnEmicVnd"
   },
   "outputs": [],
   "source": [
    "from IPython.display import Markdown\n",
    "transformed_GUID = '1dtnfeZCwywv1jnxk6wKgrCpmBhDPhigx'\n",
    "original_GUID = '0' # replace 0 with the reverse-transformed transformed_GUID\n",
    "# The actual link:\n",
    "display(Markdown('[Answers](https://colab.research.google.com/github/byui-cse/cse280-course-notebooks/blob/main/notebooks/chapter-1-introductions-exercises-answers-'+original_GUID+'.ipynb)'))"
   ]
  }
 ],
 "metadata": {
  "colab": {
   "authorship_tag": "ABX9TyM2pnZ50IB1krMNsEI2wRWT",
   "collapsed_sections": [],
   "name": "chapter-1-introductions-exercises.ipynb",
   "private_outputs": false,
   "provenance": [],
   "toc_visible": true
  },
  "kernelspec": {
   "display_name": "Python 3",
   "language": "python",
   "name": "python3"
  },
  "language_info": {
   "codemirror_mode": {
    "name": "ipython",
    "version": 3
   },
   "file_extension": ".py",
   "mimetype": "text/x-python",
   "name": "python",
   "nbconvert_exporter": "python",
   "pygments_lexer": "ipython3",
   "version": "3.9.0"
  }
 },
 "nbformat": 4,
 "nbformat_minor": 1
}
