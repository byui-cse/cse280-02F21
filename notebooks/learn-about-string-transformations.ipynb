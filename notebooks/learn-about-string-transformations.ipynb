{
 "cells": [
  {
   "cell_type": "markdown",
   "metadata": {
    "id": "R-STpDOl3_bd"
   },
   "source": [
    "# <font color=blue>Learn About String Transformations</font>\n",
    "## <font color=blue>Teach One Another</font>"
   ]
  },
  {
   "cell_type": "markdown",
   "metadata": {
    "id": "mWiD0ybJ4OlP"
   },
   "source": [
    "## <font color=red>Actually, String/Language Transformations</font>"
   ]
  },
  {
   "cell_type": "markdown",
   "metadata": {
    "id": "bM1imjXp4vzC"
   },
   "source": [
    "For example:\n"
   ]
  },
  {
   "cell_type": "code",
   "execution_count": null,
   "metadata": {
    "id": "SA5Gbsrl4w1G"
   },
   "outputs": [],
   "source": [
    "def revs(S):\n",
    "  \"\"\"Reverse a string.\n",
    "     revs('ab') --> 'ba'\n",
    "  \"\"\"\n",
    "  return ''.join(reversed(S))"
   ]
  },
  {
   "cell_type": "code",
   "execution_count": null,
   "metadata": {
    "id": "3aPV3caM41tl"
   },
   "outputs": [],
   "source": [
    "def revl(L):\n",
    "  \"\"\"Reverse a language.\n",
    "     revl(set(['ab', 'bc'])) --> set(['cb', 'ba'])\n",
    "  \"\"\"\n",
    "  return set(map(lambda x: revs(x), L))"
   ]
  },
  {
   "cell_type": "code",
   "execution_count": null,
   "metadata": {
    "id": "xQ7TblJe47Hh"
   },
   "outputs": [],
   "source": [
    "revs('wonderful')"
   ]
  },
  {
   "cell_type": "markdown",
   "metadata": {
    "id": "kEWFQLE84-vZ"
   },
   "source": [
    "Usually, however, the most useful kinds of transformations are string-to-string mappings, where the strings are of length 1, i.e., single characters."
   ]
  },
  {
   "cell_type": "markdown",
   "metadata": {
    "id": "BwGNdTyf5jxt"
   },
   "source": [
    "These are called *homomorphisms* (Greek *homo* = same, *morph* = form).\n"
   ]
  },
  {
   "cell_type": "code",
   "execution_count": null,
   "metadata": {
    "id": "G-x2WMp85lPC"
   },
   "outputs": [],
   "source": [
    "def sxf(S, f):\n",
    "  \"\"\"String homomorphism wrt lambda f.\n",
    "     Suppose hm = lambda x:chr((ord(x)+1)%256)\n",
    "     Then sxf('abcd', hm) --> 'bcde'\n",
    "  \"\"\"\n",
    "  return ''.join(map(f,S))"
   ]
  },
  {
   "cell_type": "code",
   "execution_count": null,
   "metadata": {
    "id": "47ndOUSk5sUi"
   },
   "outputs": [],
   "source": [
    "def lxf(L, f):\n",
    "  \"\"\"Language homomorphism wrt lambda f.\n",
    "     Suppose rot13 = lambda x:chr((ord(x)+13)%256)\n",
    "     Then lxf('Hello there', rot13) --> 'Uryy|-\\x81ur\\x7fr'\n",
    "  \"\"\"\n",
    "  return set(map(lambda S: sxf(S,f), L))"
   ]
  },
  {
   "cell_type": "markdown",
   "metadata": {
    "id": "cUI6vFZm5ufE"
   },
   "source": [
    "Note that a defining property of a homomorphism is that, where the `+` is normal string concatenation, the following identity always holds:\n"
   ]
  },
  {
   "cell_type": "markdown",
   "metadata": {
    "id": "3c3KViN05wBT"
   },
   "source": [
    "`h(xy) = h(x) + h(y)`\n"
   ]
  },
  {
   "cell_type": "markdown",
   "metadata": {
    "id": "3Ya41VHi50V-"
   },
   "source": [
    "What this means is that you will get the same result applying `h` to the string `xy` as you would get by taking the result of applying `h` to a first piece `x` and the result of applying `h` to a second piece `y` and concatenating those two results.\n"
   ]
  },
  {
   "cell_type": "markdown",
   "metadata": {
    "id": "9RHSPQkm56Kb"
   },
   "source": [
    "The two pieces `x` and `y` are made by arbitrarily pulling apart the original string `xy` somewhere in the middle.\n"
   ]
  },
  {
   "cell_type": "markdown",
   "metadata": {
    "id": "t4ftqDUl570m"
   },
   "source": [
    "For example, `x` could be `'ho'` and `y` could be `'momorphism'` made from splitting `'homomorphism'` at (zero-based) index 2.\n"
   ]
  },
  {
   "cell_type": "markdown",
   "metadata": {
    "id": "uiqVP5dP59dR"
   },
   "source": [
    "Try it with `rot13` defined as above:\n"
   ]
  },
  {
   "cell_type": "code",
   "execution_count": null,
   "metadata": {
    "id": "3XZoejPo5-p-"
   },
   "outputs": [],
   "source": [
    "xy = 'homomorphism'\n",
    "\n",
    "rot13 = lambda x:chr((ord(x)+13)%256)"
   ]
  },
  {
   "cell_type": "code",
   "execution_count": null,
   "metadata": {
    "id": "7j7pCSxj6BAG"
   },
   "outputs": [],
   "source": [
    "result0 = sxf(xy, rot13)\n",
    "result1 = sxf(xy[:2], rot13)\n",
    "result2 = sxf(xy[2:], rot13)"
   ]
  },
  {
   "cell_type": "code",
   "execution_count": null,
   "metadata": {
    "id": "ZsKPV5wZ6DuG"
   },
   "outputs": [],
   "source": [
    "[result0, result1, result2, result0 == result1 + result2]"
   ]
  },
  {
   "cell_type": "markdown",
   "metadata": {
    "id": "swQpr-Rl6S7w"
   },
   "source": [
    "Suppose we try a &ldquo;heteromorphism&rdquo; instead. Now the transformation need not be the same for each character. We can have arbitrary mappings, for example:\n"
   ]
  },
  {
   "cell_type": "markdown",
   "metadata": {
    "id": "DIYWO20a6U5P"
   },
   "source": [
    "| Map | To  |\n",
    "|-----|-----|\n",
    "| `'C'` | `' '` |\n",
    "| `'I'` | `'U'` |\n",
    "| `'D'` | `'F'` |\n",
    "| `'R'` | `'W'` |\n",
    "| `'S'` | `'N'` |\n",
    "| `'E'` | `'I'` |"
   ]
  },
  {
   "cell_type": "markdown",
   "metadata": {
    "id": "oiz2AV7E6qAx"
   },
   "source": [
    "Every other (uppercase) character maps to itself."
   ]
  },
  {
   "cell_type": "markdown",
   "metadata": {
    "id": "m0rmOs-J6ryf"
   },
   "source": [
    "So transforming the string `'DESIRED RESULT'` would give `'FINUWIF WINULT'`."
   ]
  },
  {
   "cell_type": "markdown",
   "metadata": {
    "id": "cwAs8e8s6zRe"
   },
   "source": [
    "## <font color=red>**TODO** A Programming Challenge</font>\n"
   ]
  },
  {
   "cell_type": "markdown",
   "metadata": {
    "id": "zPpudWe_60ey"
   },
   "source": [
    "Find four different ways to implement this mapping in Python."
   ]
  },
  {
   "cell_type": "markdown",
   "metadata": {
    "id": "MO1i-2E-613D"
   },
   "source": [
    "What does your name (first and last) look like when transformed by your function?"
   ]
  },
  {
   "cell_type": "markdown",
   "metadata": {
    "id": "otdOw0yA63lc"
   },
   "source": [
    "Does anyone's name in your group transform into something readable/pronounceable?"
   ]
  },
  {
   "cell_type": "markdown",
   "metadata": {
    "id": "_SZfxkNf648F"
   },
   "source": [
    "If not, can you invent a name that will?!\n"
   ]
  }
 ],
 "metadata": {
  "colab": {
   "authorship_tag": "ABX9TyNkC8ymxPJtajfN4wyH10X8",
   "collapsed_sections": [],
   "name": "learn-about-string-transformations.ipynb",
   "private_outputs": true,
   "provenance": []
  },
  "kernelspec": {
   "display_name": "Python 3",
   "language": "python",
   "name": "python3"
  },
  "language_info": {
   "codemirror_mode": {
    "name": "ipython",
    "version": 3
   },
   "file_extension": ".py",
   "mimetype": "text/x-python",
   "name": "python",
   "nbconvert_exporter": "python",
   "pygments_lexer": "ipython3",
   "version": "3.9.0"
  }
 },
 "nbformat": 4,
 "nbformat_minor": 1
}
