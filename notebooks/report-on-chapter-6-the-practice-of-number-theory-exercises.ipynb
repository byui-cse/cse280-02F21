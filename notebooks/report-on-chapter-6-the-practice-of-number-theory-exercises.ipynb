{
 "cells": [
  {
   "cell_type": "markdown",
   "metadata": {
    "id": "djgpbEc4ahuN"
   },
   "source": [
    "# <font color=blue>Report on Chapter 6 The Practice of Number Theory Exercises</font>\n"
   ]
  },
  {
   "cell_type": "markdown",
   "metadata": {
    "id": "kCgh7wxBam3B"
   },
   "source": [
    "## <font color=red>Instructions</font>\n"
   ]
  },
  {
   "cell_type": "markdown",
   "metadata": {
    "id": "fsoff3GDan04"
   },
   "source": [
    "This self-assessment will NOT ask you to enter how long you spent doing the rest of the Chapter 6 exercises, but you were expected to spend a significant amount of time on them.\n"
   ]
  },
  {
   "cell_type": "markdown",
   "metadata": {
    "id": "NZ-KiUYUa0mY"
   },
   "source": [
    "There are four assertions, earning you as before a point for each box you can truthfully check to assert that you took seriously the amount of time and effort required to understand how number theory is practiced.\n"
   ]
  },
  {
   "cell_type": "markdown",
   "metadata": {
    "id": "i358Wn88a4hB"
   },
   "source": [
    "## <font color=purple>Access</font>\n"
   ]
  },
  {
   "cell_type": "markdown",
   "metadata": {
    "id": "lAaH6Ix6a44k"
   },
   "source": [
    "[Take the Self-Assessment](https://byui.instructure.com/courses/149380/quizzes/2724905)"
   ]
  }
 ],
 "metadata": {
  "colab": {
   "authorship_tag": "ABX9TyP7k7UbZUdJ7MkJUSpqBySZ",
   "collapsed_sections": [],
   "name": "report-on-chapter-6-the-practice-of-number-theory-exercises.ipynb",
   "private_outputs": true,
   "provenance": []
  },
  "kernelspec": {
   "display_name": "Python 3",
   "language": "python",
   "name": "python3"
  },
  "language_info": {
   "codemirror_mode": {
    "name": "ipython",
    "version": 3
   },
   "file_extension": ".py",
   "mimetype": "text/x-python",
   "name": "python",
   "nbconvert_exporter": "python",
   "pygments_lexer": "ipython3",
   "version": "3.9.0"
  }
 },
 "nbformat": 4,
 "nbformat_minor": 1
}
