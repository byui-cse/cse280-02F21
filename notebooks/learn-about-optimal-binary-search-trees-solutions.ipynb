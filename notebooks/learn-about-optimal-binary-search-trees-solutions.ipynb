{
 "cells": [
  {
   "cell_type": "markdown",
   "metadata": {
    "id": "-jpXvL6wIC56"
   },
   "source": [
    "# <font color=blue>Learn About Optimal Binary Search Trees</font>\n",
    "## <font color=blue>Solutions</font>"
   ]
  },
  {
   "cell_type": "markdown",
   "metadata": {
    "id": "_7tFcwlx2Mt6"
   },
   "source": [
    "## <font color=red>**DONE** Explore the Catalan Number Connection</font>\n"
   ]
  },
  {
   "cell_type": "markdown",
   "metadata": {
    "id": "72mmtuU02Pr7"
   },
   "source": [
    "$$b(n) = \\frac{{2n \\choose n}}{n + 1}.$$\n"
   ]
  },
  {
   "cell_type": "markdown",
   "metadata": {
    "id": "kixlVLeXtAFo"
   },
   "source": [
    "https://en.wikipedia.org/wiki/Catalan_number"
   ]
  },
  {
   "cell_type": "markdown",
   "metadata": {
    "id": "DGF12SVv278v"
   },
   "source": [
    "## <font color=red>**DONE** An Exercise in Formula Manipulation</font>\n"
   ]
  },
  {
   "cell_type": "markdown",
   "metadata": {
    "id": "QnUvmFZL28YL"
   },
   "source": [
    "Note Stirling's approximation for the factorial function (for large $n$):\n"
   ]
  },
  {
   "cell_type": "markdown",
   "metadata": {
    "id": "tr3b2VbZ29Zi"
   },
   "source": [
    "$$n! \\approx \\sqrt{2\\pi n}\\ \\left(\\frac{n}{e}\\right)^{n}.$$\n"
   ]
  },
  {
   "cell_type": "markdown",
   "metadata": {
    "id": "K2yHmz3Q3B8_"
   },
   "source": [
    "Use this formula in the numerator of the exact formula for $b(n)$ to arrive at the approximate formula for $b(n)$.\n"
   ]
  },
  {
   "cell_type": "markdown",
   "metadata": {
    "id": "0gOFPIBndESs"
   },
   "source": [
    "$$\\frac{{2n \\choose n}}{n+1} = \\frac{\\frac{(2n)!}{(n!)^{2}}}{n+1} = \\frac{\\frac{\\sqrt{2\\pi2n}(2n/e)^{2n}}{[\\sqrt{2\\pi n}(n/e)^{n}]^{2}}}{n+1} = \\frac{\\frac{\\sqrt{4\\pi n}(2n/e)^{2n}}{2\\pi n(n/e)^{2n}}}{n+1} = \\frac{\\frac{1}{\\sqrt{\\pi n}}\\left(\\frac{2n/e}{n/e}\\right)^{2n}}{n+1} = \\frac{\\frac{1}{\\sqrt{\\pi n}}2^{2n}}{n+1} = \\frac{2^{2n}}{\\sqrt{\\pi n}(n+1)} \\in O\\left(\\frac{4^{n}}{n^{1.5}}\\right).$$"
   ]
  },
  {
   "cell_type": "markdown",
   "metadata": {
    "id": "PAblbyAn3G5v"
   },
   "source": [
    "## <font color=red>**DONE** An Exercise in Pattern Recognition</font>\n"
   ]
  },
  {
   "cell_type": "markdown",
   "metadata": {
    "id": "X5-Yunkd3IHm"
   },
   "source": [
    "Match each valid binary search tree with its associated parenthesized multiplication (relabeling the nodes $1 \\rightarrow \\mathsf{A}, 2 \\rightarrow \\mathsf{B}, 3 \\rightarrow \\mathsf{C}, 4 \\rightarrow \\mathsf{D}$ and dispensing with the fancy graphics):"
   ]
  },
  {
   "cell_type": "markdown",
   "metadata": {
    "id": "NhZY9aZ7hALp"
   },
   "source": [
    "1. $x_{0} \\cdot (x_{1} \\cdot (x_{2} \\cdot (x_{3} \\cdot x_{4})))$"
   ]
  },
  {
   "cell_type": "code",
   "execution_count": null,
   "metadata": {
    "id": "aqx90TTJ3Uyc"
   },
   "outputs": [],
   "source": [
    "#@title 1. ABCD {display-mode: \"form\"}\n",
    "print('''\n",
    "    A\n",
    "   / \\\\\n",
    "  x0  B\n",
    "     / \\\\\n",
    "    x1  C\n",
    "       / \\\\\n",
    "      x2  D\n",
    "         / \\\\\n",
    "        x3 x4\n",
    "''')\n"
   ]
  },
  {
   "cell_type": "markdown",
   "metadata": {
    "id": "cCggjmgDhCVo"
   },
   "source": [
    "2. $x_{0} \\cdot (x_{1} \\cdot ((x_{2} \\cdot x_{3}) \\cdot x_{4}))$\n"
   ]
  },
  {
   "cell_type": "code",
   "execution_count": null,
   "metadata": {
    "id": "5R3yo8BK3sWa"
   },
   "outputs": [],
   "source": [
    "#@title 2. ABDC {display-mode: \"form\"}\n",
    "print('''\n",
    "    A\n",
    "   / \\\\\n",
    "  x0  B\n",
    "     / \\\\\n",
    "    x1  D\n",
    "       / \\\\\n",
    "      C  x4\n",
    "     / \\\\\n",
    "    x2 x3 \n",
    "''')"
   ]
  },
  {
   "cell_type": "markdown",
   "metadata": {
    "id": "bngg0Tm-hQAa"
   },
   "source": [
    "3. $x_{0} \\cdot ((x_{1} \\cdot x_{2}) \\cdot (x_{3} \\cdot x_{4}))$"
   ]
  },
  {
   "cell_type": "code",
   "execution_count": null,
   "metadata": {
    "id": "GCdQDNNO3twD"
   },
   "outputs": [],
   "source": [
    "#@title 3. ACBD {display-mode: \"form\"}\n",
    "print('''\n",
    "    A\n",
    "   / \\\\\n",
    "  x0  C\n",
    "     / \\\\\n",
    "    B   D\n",
    "   / \\\\ / \\\\\n",
    " x1 x2 x3 x4\n",
    "''')"
   ]
  },
  {
   "cell_type": "markdown",
   "metadata": {
    "id": "paV0MA7OiwEy"
   },
   "source": [
    "4. $x_{0} \\cdot ((x_{1} \\cdot (x_{2} \\cdot x_{3})) \\cdot x_{4})$"
   ]
  },
  {
   "cell_type": "code",
   "execution_count": null,
   "metadata": {
    "id": "3x1Q5KDu3uJN"
   },
   "outputs": [],
   "source": [
    "#@title 4. ADBC {display-mode: \"form\"}\n",
    "print('''\n",
    "    A\n",
    "   / \\\\\n",
    "  x0  D\n",
    "     / \\\\\n",
    "    B  x4\n",
    "   / \\\\\n",
    "  x1  C\n",
    "     / \\\\\n",
    "    x2 x3\n",
    "''')"
   ]
  },
  {
   "cell_type": "markdown",
   "metadata": {
    "id": "MfLH3AvBiGUR"
   },
   "source": [
    "5. $x_{0} \\cdot (((x_{1} \\cdot x_{2}) \\cdot x_{3}) \\cdot x_{4})$"
   ]
  },
  {
   "cell_type": "code",
   "execution_count": null,
   "metadata": {
    "id": "1abIGxKX3t-T"
   },
   "outputs": [],
   "source": [
    "#@title 5. ADCB {display-mode: \"form\"}\n",
    "print('''\n",
    "    A\n",
    "   / \\\\\n",
    " x0   D\n",
    "     / \\\\\n",
    "    C   x4\n",
    "   / \\\\\n",
    "  B   x3\n",
    " / \\\\\n",
    "x1 x2\n",
    "''')"
   ]
  },
  {
   "cell_type": "markdown",
   "metadata": {
    "id": "5iw9mww7kE8n"
   },
   "source": [
    "6. $(x_{0} \\cdot x_{1}) \\cdot (x_{2} \\cdot (x_{3} \\cdot x_{4}))$"
   ]
  },
  {
   "cell_type": "code",
   "execution_count": null,
   "metadata": {
    "id": "8zgS1dtv3uSh"
   },
   "outputs": [],
   "source": [
    "#@title 6. BACD {display-mode: \"form\"}\n",
    "print('''\n",
    "     B\n",
    "   /   \\\\\n",
    "  A     C\n",
    " / \\\\   / \\\\\n",
    "x0 x1 x2  D\n",
    "         / \\\\\n",
    "        x3 x4\n",
    "''')"
   ]
  },
  {
   "cell_type": "markdown",
   "metadata": {
    "id": "h9JEkMMYkmuZ"
   },
   "source": [
    "7. $(x_{0} \\cdot x_{1}) \\cdot ((x_{2} \\cdot x_{3}) \\cdot x_{4})$"
   ]
  },
  {
   "cell_type": "code",
   "execution_count": null,
   "metadata": {
    "id": "wiqF88Z53ucX"
   },
   "outputs": [],
   "source": [
    "#@title 7. BADC {display-mode: \"form\"}\n",
    "print('''\n",
    "     B\n",
    "   /   \\\\\n",
    "  A     D\n",
    " / \\   / \\\\\n",
    "x0 x1 C  x4\n",
    "     / \\\\\n",
    "    x2 x3\n",
    "''')"
   ]
  },
  {
   "cell_type": "markdown",
   "metadata": {
    "id": "WGDYvHeDlqWj"
   },
   "source": [
    "8. $(x_{0} \\cdot (x_{1} \\cdot x_{2})) \\cdot (x_{3} \\cdot x_{4})$"
   ]
  },
  {
   "cell_type": "code",
   "execution_count": null,
   "metadata": {
    "id": "EYi6dMXw3uvs"
   },
   "outputs": [],
   "source": [
    "#@title 8. CADB {display-mode: \"form\"}\n",
    "print('''\n",
    "     C\n",
    "   /   \\\\\n",
    "  A     D\n",
    " / \\\\   / \\\\\n",
    "x0  B x3 x4\n",
    "   / \\\\\n",
    "  x1 x2\n",
    "''')"
   ]
  },
  {
   "cell_type": "markdown",
   "metadata": {
    "id": "vPqRxJFHl2pp"
   },
   "source": [
    "9. $((x_{0} \\cdot x_{1}) \\cdot x_{2}) \\cdot (x_{3} \\cdot x_{4})$"
   ]
  },
  {
   "cell_type": "code",
   "execution_count": null,
   "metadata": {
    "id": "rzKRkcAM3ul2"
   },
   "outputs": [],
   "source": [
    "#@title 9. CBDA {display-mode: \"form\"}\n",
    "print('''\n",
    "       C\n",
    "     /   \\\\\n",
    "    B     D\n",
    "   / \\\\   / \\\\\n",
    "  A  x2 x3 x4\n",
    " / \\\\\n",
    "x0 x1\n",
    "''')"
   ]
  },
  {
   "cell_type": "markdown",
   "metadata": {
    "id": "4563VPrx3MEM"
   },
   "source": [
    "10. $((x_{0} \\cdot (x_{1} \\cdot x_{2})) \\cdot x_{3}) \\cdot x_{4}$"
   ]
  },
  {
   "cell_type": "code",
   "execution_count": null,
   "metadata": {
    "id": "GX2xvli93vXE"
   },
   "outputs": [],
   "source": [
    "#@title 10. DCAB {display-mode: \"form\"}\n",
    "print('''\n",
    "      D\n",
    "     / \\\\\n",
    "    C  x4\n",
    "   / \\\\\n",
    "  A  x3\n",
    " / \\\\\n",
    "x0  B\n",
    "   / \\\\\n",
    "  x1 x2\n",
    "''')"
   ]
  },
  {
   "cell_type": "markdown",
   "metadata": {
    "id": "qhrRI6QdnZ5q"
   },
   "source": [
    "11. $(((x_{0} \\cdot x_{1}) \\cdot x_{2}) \\cdot x_{3}) \\cdot x_{4}$\n"
   ]
  },
  {
   "cell_type": "code",
   "execution_count": null,
   "metadata": {
    "id": "EmHoLKS93vg6"
   },
   "outputs": [],
   "source": [
    "#@title DCBA {display-mode: \"form\"}\n",
    "print('''\n",
    "        D\n",
    "       / \\\\\n",
    "      C  x4\n",
    "     / \\\\\n",
    "    B  x3\n",
    "   / \\\\\n",
    "  A  x2\n",
    " / \\\\\n",
    "x0 x1\n",
    "''')"
   ]
  },
  {
   "cell_type": "markdown",
   "metadata": {
    "id": "CZVr3-5WnMhJ"
   },
   "source": [
    "12. $(((x_{0} \\cdot x_{1}) \\cdot (x_{2} \\cdot x_{3})) \\cdot x_{4}$\n"
   ]
  },
  {
   "cell_type": "code",
   "execution_count": null,
   "metadata": {
    "id": "_1NpcwIM3vM4"
   },
   "outputs": [],
   "source": [
    "#@title 12. DBAC {display-mode: \"form\"}\n",
    "print('''\n",
    "       D\n",
    "      / \\\\\n",
    "     B   x4\n",
    "   /   \\\\\n",
    "  A     C\n",
    " / \\   / \\\\\n",
    "x0 x1 x2 x3\n",
    "''')"
   ]
  },
  {
   "cell_type": "markdown",
   "metadata": {
    "id": "m19dKYaxoqpP"
   },
   "source": [
    "13. $(x_{0} \\cdot ((x_{1} \\cdot x_{2}) \\cdot x_{3})) \\cdot x_{4}$\n"
   ]
  },
  {
   "cell_type": "code",
   "execution_count": null,
   "metadata": {
    "id": "CsvDaiUf3vDY"
   },
   "outputs": [],
   "source": [
    "#@title 13. DACB {display-mode: \"form\"}\n",
    "print('''\n",
    "    D\n",
    "   / \\\\\n",
    "  A  x4\n",
    " / \\\\\n",
    "x0  C\n",
    "   / \\\\\n",
    "  B  x3\n",
    " / \\\\\n",
    "x1 x2\n",
    "''')"
   ]
  },
  {
   "cell_type": "markdown",
   "metadata": {
    "id": "2Vpng09torkS"
   },
   "source": [
    "14. $(x_{0} \\cdot (x_{1} \\cdot (x_{2} \\cdot x_{3}))) \\cdot x_{4}$\n"
   ]
  },
  {
   "cell_type": "code",
   "execution_count": null,
   "metadata": {
    "id": "K8WAybuI3u5Q"
   },
   "outputs": [],
   "source": [
    "#@title 14. DABC {display-mode: \"form\"}\n",
    "print('''\n",
    "    D\n",
    "   / \\\\\n",
    "  A  x4\n",
    " / \\\\\n",
    "x0  B\n",
    "   / \\\\\n",
    "  x1  C\n",
    "     / \\\\\n",
    "    x2 x3\n",
    "''')"
   ]
  }
 ],
 "metadata": {
  "colab": {
   "authorship_tag": "ABX9TyOBGwKT4tPJembyOiWU27Lo",
   "collapsed_sections": [
    "-jpXvL6wIC56"
   ],
   "name": "learn-about-optimal-binary-search-trees-solutions.ipynb",
   "private_outputs": true,
   "provenance": [
    {
     "file_id": "1xLJIJhn9xFKDpTlWk_y71xELS1koPrjh",
     "timestamp": 1628534007786
    }
   ]
  },
  "kernelspec": {
   "display_name": "Python 3",
   "language": "python",
   "name": "python3"
  },
  "language_info": {
   "codemirror_mode": {
    "name": "ipython",
    "version": 3
   },
   "file_extension": ".py",
   "mimetype": "text/x-python",
   "name": "python",
   "nbconvert_exporter": "python",
   "pygments_lexer": "ipython3",
   "version": "3.9.0"
  }
 },
 "nbformat": 4,
 "nbformat_minor": 1
}
