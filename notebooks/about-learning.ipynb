{
 "cells": [
  {
   "cell_type": "markdown",
   "metadata": {
    "id": "8Hk0N4R8OCtX"
   },
   "source": [
    "# <font color=blue>About Learning</font>\n",
    "## <font color=blue>About Time</font>"
   ]
  },
  {
   "cell_type": "markdown",
   "metadata": {
    "id": "ALcrir2-O-mS"
   },
   "source": [
    "## <font color=red>TL;DR</font>"
   ]
  },
  {
   "cell_type": "markdown",
   "metadata": {
    "id": "98K17221OLID"
   },
   "source": [
    "Learning is like eating. We do it out of necessity. But it should also be enjoyable, not just for survival."
   ]
  },
  {
   "cell_type": "markdown",
   "metadata": {
    "id": "dtqWAMIiPEBE"
   },
   "source": [
    "### <font color=brown>Learning is Knowing</font>"
   ]
  },
  {
   "cell_type": "markdown",
   "metadata": {
    "id": "TT0U-18MD4TN"
   },
   "source": [
    "What do you **really** know?\n",
    "\n",
    "How do you **know** you know it?\n",
    "\n",
    "What does it **mean** to know something?\n",
    "\n",
    "What is it **like** to know something?\n",
    "\n",
    "A real mystery. Perhaps the biggest mystery. The study of knowledge, what it is, how we acquire it, etc., has ever been and still is the business of philosophers, who call this study *epistemology*."
   ]
  },
  {
   "cell_type": "markdown",
   "metadata": {
    "id": "WCFpkdukEJDm"
   },
   "source": [
    "Of course, believers have a distinct advantage over philosophers, or people in general, who lack a knowledge of the gospel, and the role of the Holy Ghost, by whose power [we may know the truth of all things](https://www.churchofjesuschrist.org/study/scriptures/bofm/moro/10.5?lang=eng#p5#5). (Note *may*, not *will*.)"
   ]
  },
  {
   "cell_type": "markdown",
   "metadata": {
    "id": "IIL95gC0PIp9"
   },
   "source": [
    "The subtitle of this document is \"About Time\". Think of this in terms of trying to find shortcuts to the process of learning in order to save time. Now consider..."
   ]
  },
  {
   "cell_type": "markdown",
   "metadata": {
    "id": "p-QQ9LYiPn-W"
   },
   "source": [
    "#### <font color=turquoise>Are You A Label Learner?!</font>"
   ]
  },
  {
   "cell_type": "markdown",
   "metadata": {
    "id": "5urudWkDPrI-"
   },
   "source": [
    "> To handle problems requiring data beyond the capacity of students and educators impatient to shine, the ancient Sophists devised certain very effective discussion techniques. In these, the most important skill was that of presenting evidence by implication or inference only. Since it is quite impossible in a public discourse (or in print, for that matter) to put all one&rsquo;s evidence on display, one must be allowed on occasion to present one&rsquo;s knowledge merely by inference. The Sophists seized upon this welcome path of escape from drudgery, and by the arts of rhetoric made of it a broad highway to successful teaching careers. A limited use of jargon is indispensable in any field: having solved for &ldquo;x&rdquo;, we do not have to derive &ldquo;x&rdquo; every time it is mentioned, but simply to indicate it by a symbol, such as those useful keywords commonly used to power historical discussions: The Medieval Mind, Sturm und Drang, the Frontier, Hellenism, the Enlightenment, Puritanism, the Primitive, Relativity, etc., each of which is supposed to set a whole chorus of bells chiming in our heads&#x2014;the echoes of deep and thorough reading. But by a more familiar process these labels are no mere labels anymore; they have become the whole substance of our knowledge. The student today has never solved for that &ldquo;x&rdquo; about which he talks so glibly&#x2014;he has got its value from an answerbook; the cue word is not just a cue; it is now the whole play.\n",
    "\n",
    "> &#x2014; Hugh Nibley, *Do Religion and History Conflict?*, Temple and Cosmos, The Collected Works of Hugh Nibley: Volume 12 Ancient History, page 442."
   ]
  },
  {
   "cell_type": "markdown",
   "metadata": {
    "id": "9tehsLAeO8uY"
   },
   "source": [
    "#### <font color=red>Words From a Professor</font>"
   ]
  },
  {
   "cell_type": "markdown",
   "metadata": {
    "id": "wKBR6V09-S-L"
   },
   "source": [
    "> Most of us know what we know. Fewer know what they don&rsquo;t know. All of us don&rsquo;t know as much as we need to know in order to enjoy productive, refining thinking. Yet we all tend to resist new knowledge, content in the truth that what we already know is all we really need to know to get by. Gaining greater knowledge, then, requires us to fight this tendency to live to get by. But when getting by seems good enough, how does one develop the desire to learn to change?\n",
    "\n",
    "> If embraced as an excuse for not learning what one ought to learn, &ldquo;ignorance&rdquo; is a word that doesn&rsquo;t refer primarily to the absence of understanding. Rather it refers to a fundamental commitment to ignore that which challenges one&rsquo;s comfortable thinking. To admit that one is ignorant in this regard is not to confess that one doesn&rsquo;t understand. Rather it is to confess that one chooses not to understand.\n",
    "\n",
    "--- David L. Ward, retired BYU-Idaho English Professor"
   ]
  },
  {
   "cell_type": "markdown",
   "metadata": {
    "id": "00h9ejb2-1iQ"
   },
   "source": [
    "#### <font color=red>Words From the Lord</font>"
   ]
  },
  {
   "cell_type": "markdown",
   "metadata": {
    "id": "beeccWFf-4c7"
   },
   "source": [
    "> Take heed therefore how ye hear: for whosoever hath, to him shall be given; and whosoever hath not, from him shall be taken even that which he seemeth to have.\n",
    "\n",
    "--- [Luke 8:18](https://www.churchofjesuschrist.org/study/scriptures/nt/luke/8.18?lang=eng#p18#18)"
   ]
  },
  {
   "cell_type": "markdown",
   "metadata": {
    "id": "F8S6vj6b_MqU"
   },
   "source": [
    "### <font color=purple>An Analogy to Ponder</font>"
   ]
  },
  {
   "cell_type": "markdown",
   "metadata": {
    "id": "ZSO_Cp47_hyj"
   },
   "source": [
    "**Learning is like eating** --- but the **menu** is not the **meal**!\n",
    "\n",
    "Like a Label Learner, a person who goes to a restaurant, looks over the full-color menu showing a dazzling array of appetizing dishes, salivates in anticipation, and then walks out --- leaves very unsatisfied.\n",
    "\n",
    "Who wants to be *that* person?!"
   ]
  },
  {
   "cell_type": "markdown",
   "metadata": {
    "id": "gzo6FInD_tmr"
   },
   "source": [
    "Let&rsquo;s expand a little on the idea that learning is like eating (or at least, like **tasting**).\n",
    "\n",
    "From the Prophet Joseph Smith, who in his King Follett sermon said:\n",
    "\n",
    "> This is good doctrine. It **tastes** good. I can **taste** the principles of eternal life, and so can you. They are given to me by the revelations of Jesus Christ; and I know that when I tell you these words of eternal life as they are given to me, you **taste** them, and I know that you believe them. You say **honey** is **sweet**, and so do I. I can also **taste** the spirit of eternal life. I **know** it is good; and when I tell you of these things which were given me by inspiration of the Holy Spirit, you are bound to receive them as **sweet**, and rejoice more and more. (Emphasis added.)"
   ]
  },
  {
   "cell_type": "markdown",
   "metadata": {
    "id": "mi5monOnABJq"
   },
   "source": [
    "Let's also recall what the prophet Alma said, who also knew that\n",
    "[knowledge is sweet](https://www.churchofjesuschrist.org/study/scriptures/bofm/alma/32.34-35?lang=eng#p34#34)!"
   ]
  },
  {
   "cell_type": "markdown",
   "metadata": {
    "id": "89JFIKZ1CY-H"
   },
   "source": [
    "Ponder on these things. Later you&rsquo;ll have the opportunity to **prove** them!"
   ]
  }
 ],
 "metadata": {
  "colab": {
   "authorship_tag": "ABX9TyPVyB+5WYWl4ThxD/3Hd/6I",
   "name": "About Learning.ipynb",
   "private_outputs": true,
   "provenance": []
  },
  "kernelspec": {
   "display_name": "Python 3",
   "language": "python",
   "name": "python3"
  },
  "language_info": {
   "codemirror_mode": {
    "name": "ipython",
    "version": 3
   },
   "file_extension": ".py",
   "mimetype": "text/x-python",
   "name": "python",
   "nbconvert_exporter": "python",
   "pygments_lexer": "ipython3",
   "version": "3.9.0"
  }
 },
 "nbformat": 4,
 "nbformat_minor": 1
}
