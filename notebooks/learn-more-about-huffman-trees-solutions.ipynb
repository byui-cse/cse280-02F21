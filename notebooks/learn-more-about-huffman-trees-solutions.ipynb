{
 "cells": [
  {
   "cell_type": "markdown",
   "metadata": {
    "id": "RFn_SuYmhHod"
   },
   "source": [
    "# <font color=blue>Learn More About Huffman Trees</font>\n",
    "## <font color=blue>Solutions</font>\n"
   ]
  },
  {
   "cell_type": "markdown",
   "metadata": {
    "id": "gkeGJc_Ywu-U"
   },
   "source": [
    "## <font color=red>**DONE** Study a Simple Huffman Tree Representation</font>\n"
   ]
  },
  {
   "cell_type": "code",
   "execution_count": null,
   "metadata": {
    "id": "C6w7870Iw98k"
   },
   "outputs": [],
   "source": [
    "tree = [[['n', 't'], [['i', 'o'], [' ', '']]], ['e', ['h', 'r']]]"
   ]
  },
  {
   "cell_type": "code",
   "execution_count": null,
   "metadata": {
    "id": "kFn4FfBvxCUv"
   },
   "outputs": [],
   "source": [
    "def is_leaf(node):\n",
    "  return isinstance(node, str)\n",
    "\n",
    "def get_left(node):\n",
    "  return node[0] if isinstance(node, list) else None\n",
    "\n",
    "def get_right(node):\n",
    "  return node[1] if isinstance(node, list) else None\n",
    "\n",
    "def decode(encoded, tree):\n",
    "  (leaf, encoded) = find_leaf(encoded, tree)\n",
    "  message = leaf\n",
    "  while len(encoded):\n",
    "    (leaf, encoded) = find_leaf(encoded, tree)\n",
    "    message += leaf\n",
    "  return message\n",
    "\n",
    "def find_leaf(encoded, tree):\n",
    "  if is_leaf(tree):\n",
    "    return [tree, encoded]\n",
    "  elif len(encoded):\n",
    "    first_char = encoded[0]\n",
    "    rest_of_encoded = encoded[1:]\n",
    "    return find_leaf(rest_of_encoded, get_left(tree)) \\\n",
    "           if first_char == '0' else \\\n",
    "           find_leaf(rest_of_encoded, get_right(tree)) \\\n",
    "           if first_char == '1' else None\n",
    "  else:\n",
    "    return ['', encoded]"
   ]
  },
  {
   "cell_type": "code",
   "execution_count": null,
   "metadata": {
    "id": "x_gpWfiwxFo5"
   },
   "outputs": [],
   "source": [
    "print(decode('00010010000111010111011011010111100110000010111101100011101011110', tree))"
   ]
  },
  {
   "cell_type": "code",
   "execution_count": null,
   "metadata": {
    "id": "ExaOvc2LxKJ6"
   },
   "outputs": [],
   "source": [
    "print(decode('0001001000111001110101110110110101111001100000101111011000111010111100111', tree))"
   ]
  },
  {
   "cell_type": "code",
   "execution_count": null,
   "metadata": {
    "id": "PiUDGtSzxNM_"
   },
   "outputs": [],
   "source": [
    "# It is the same result because 0111 decodes to the empty string\n",
    "print(decode('0111', tree).join(['no', 'space', 'between']))"
   ]
  },
  {
   "cell_type": "markdown",
   "metadata": {
    "id": "u2TsGbwSyWiy"
   },
   "source": [
    "## <font color=red>**DONE** Compare to Standard</font>"
   ]
  },
  {
   "cell_type": "markdown",
   "metadata": {
    "id": "4L2HnpPUyYdc"
   },
   "source": [
    "Compare the compression ratio you calculated earlier to the compression ratio achieved using another compression method:\n"
   ]
  },
  {
   "cell_type": "code",
   "execution_count": null,
   "metadata": {
    "id": "1pZJJjRdyak7"
   },
   "outputs": [],
   "source": [
    "!cp scriptures.txt scriptures.tmp\n",
    "!gzip scriptures.tmp\n",
    "!wc -c scriptures.txt\n",
    "!wc -c scriptures.tmp.gz"
   ]
  },
  {
   "cell_type": "markdown",
   "metadata": {
    "id": "yzznjTDDzSp6"
   },
   "source": [
    "Using the reported sizes in bytes of these two files, what is the compression ratio?\n"
   ]
  },
  {
   "cell_type": "code",
   "execution_count": null,
   "metadata": {
    "id": "uh6J0R-bzThE"
   },
   "outputs": [],
   "source": [
    "size_in_bytes_of_uncompressed_file = 6285497 * 7 / 8\n",
    "size_in_bytes_of_compressed_file = 1824084\n",
    "calc_compression_ratio(size_in_bytes_of_uncompressed_file, size_in_bytes_of_compressed_file)"
   ]
  },
  {
   "cell_type": "markdown",
   "metadata": {
    "id": "oRSznpvizgoQ"
   },
   "source": [
    "Extra credit for using PREcalculated frequency counts and finding a better compression ratio than the one achieved using exact frequency counts."
   ]
  },
  {
   "cell_type": "markdown",
   "metadata": {
    "id": "sucOblEEzpCR"
   },
   "source": [
    "## <font color=red>**DONE** Go Above and Beyond --- Study a Little History, Read, and Draw</font>\n"
   ]
  },
  {
   "cell_type": "markdown",
   "metadata": {
    "id": "xcDBf4Apzvxd"
   },
   "source": [
    "Read [A Method for the Construction of Minimum-Redundancy Codes](http://compression.ru/download/articles/huff/huffman_1952_minimum-redundancy-codes.pdf) (David Huffman's original paper) and by drawing pictures, make the connection between trees and rivers vivid in your mind!\n"
   ]
  },
  {
   "cell_type": "markdown",
   "metadata": {},
   "source": [
    "Drawing can be replaced by finding a river picture. The [Upper Colorado River](https://water.usgs.gov/ogw/highlights/images/feature/20180901_TillmanFig1_1160.jpg) looks even more like a binary tree (from the air --- seeing it as a two-dimensional object) than a real tree does. (See also [this hastily-drawn image](https://byui-cse.github.io/cse280-course/images/colorado-river-tree.png) by Kyle Mueller.)"
   ]
  }
 ],
 "metadata": {
  "colab": {
   "authorship_tag": "ABX9TyO4R/umP06qAjPfU2+W34ly",
   "collapsed_sections": [
    "u2TsGbwSyWiy",
    "sucOblEEzpCR"
   ],
   "name": "learn-more-about-huffman-trees-solutions.ipynb",
   "private_outputs": true,
   "provenance": []
  },
  "kernelspec": {
   "display_name": "Python 3",
   "language": "python",
   "name": "python3"
  },
  "language_info": {
   "codemirror_mode": {
    "name": "ipython",
    "version": 3
   },
   "file_extension": ".py",
   "mimetype": "text/x-python",
   "name": "python",
   "nbconvert_exporter": "python",
   "pygments_lexer": "ipython3",
   "version": "3.9.0"
  }
 },
 "nbformat": 4,
 "nbformat_minor": 1
}
