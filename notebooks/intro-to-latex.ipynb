{
  "cells": [
    {
      "attachments": {},
      "cell_type": "markdown",
      "metadata": {
        "id": "AyZX7Z1JHCgL"
      },
      "source": [
        "# Introduction to LaTeX\n",
        "\n",
        "This is a brief introduction to the basics of how to use $\\LaTeX$ to display equations in Jupyter notebooks, including Google Colab notebooks. I have provided examples of a few of the symbols that will come up often in this course. For other symbols you may need, use Google.\n",
        "\n",
        "In this document, whenever a LaTeX expression is shown, the raw Markdown/LaTeX is shown beneath it. (The word LaTeX is generally stylized as $\\LaTeX$, but for the rest of this document it will be written as \"LaTeX.\")"
      ]
    },
    {
      "attachments": {},
      "cell_type": "markdown",
      "metadata": {
        "id": "HZkA4L88HCgQ"
      },
      "source": [
        "## Basic inline LaTeX\n",
        "\n",
        "To embed LaTeX within a text cell, simply encapsulate the LaTeX portions in dollar signs (`$`). The Jupyter notebook will interpret anything between dollar signs as LaTeX. As an example, consider the sentence below and the LaTeX code to render it.\n",
        "\n",
        "Einstein told us that $E = mc^2$.\n",
        "\n",
        "    Einstein told us that $E = mc^2$.\n",
        "\n",
        "Notice how the equation is properly rendered, with mathematical variables in italics. Note also how `^2` was used to raise to a power. If the power has more than one character in it, it should be enclosed in braces (`{}`).  In fact, braces are used to generally group symbols in LaTeX.\n",
        "\n",
        "Euler told us that $\\mathrm{e}^{i \\pi} - 1 = 0$.\n",
        "\n",
        "    Euler told us that $\\mathrm{e}^{i \\pi} - 1 = 0$.\n",
        "\n",
        "Aside from the grouping braces, there are several other syntactical items of note. First, notice the special character $\\pi$ is made using  `\\pi`. In general, a backward slash precedes special symbols or commands in LaTeX. If we want another Greek letter, like $\\theta$, we use `\\theta`. Now, also note that I used \"`\\mathrm{e}`\" for the base of the natural logarithm.  This signaled to LaTeX that I wanted the character written in Roman font, and not italics, so I used `\\mathrm`. Anything in the braces following the function `\\mathrm` is rendered in Roman font. Note the difference.\n",
        "\n",
        "This is $e$. This is $\\mathrm{e}$\n",
        "\n",
        "    This is $e$. This is $\\mathrm{e}$.\n",
        "\n",
        "Now, back to grouping things in braces. We can do similar groupings using braces with subscripts.\n",
        "\n",
        "The function $f$ is a sequence in which $f_n = f_{n-1} + f_{n-2},\\ \\mathrm{for}\\ n \\ge 2$.\n",
        "\n",
        "    The function $f$ is a sequence in which $f_n = f_{n-1} + f_{n-2},\\ \\mathrm{for}\\ n \\ge 2$.\n",
        "\n",
        "Note that we denote subscripts with an underscore. Note also the use of \"`\\`\" followed by a space to create a space before and after the word \"`for`\"."
      ]
    },
    {
      "attachments": {},
      "cell_type": "markdown",
      "metadata": {
        "id": "ix1Ag29mHCgT"
      },
      "source": [
        "## Useful LaTeX symbols for CSE 280\n",
        "Following is a list of some symbols you may find useful in this class. For other symbols that are not found in this list, use Google.\n",
        "\n",
        "LaTeX | symbol | meaning\n",
        "--- | :---: | :---\n",
        "`\\land` | $\\land$ | Conjunction, logical AND\n",
        "`\\lor` | $\\lor$ | Disjunction, logical OR\n",
        "`\\lnot` or `\\neg` | $\\lnot$ | Negation, logical NOT\n",
        "`\\oplus` | $\\oplus$ | Exclusive OR\n",
        "`\\rightarrow` | $\\rightarrow$ | Conditional\n",
        "`\\leftrightarrow` |$\\leftrightarrow$ | Biconditional\n",
        "`\\equiv` | $\\equiv$ | Logical equivalence\n",
        "`\\forall` | $\\forall$ | Universal Quantifier, \"for all\"\n",
        "`\\exists` | $\\exists$ | Existential Quantifier, \"there exists\"\n",
        "`\\approx` | $\\approx$ | Approximately\n",
        "`\\le` | $\\le$ | Less than or equal to\n",
        "`\\ge` | $\\ge$ | Greater than or equal to\n",
        "`A = \\{1,2,3,\\dots \\}`| $$A = \\{1,2,3,\\dots \\}$$|Roster notation for set $A$\n",
        "`\\in` | $\\in$ | Element of a set\n",
        "`A \\cap B`|$$A \\cap B$$|Set intersection\n",
        "`A \\cup B`|$$A \\cup B$$|Set union\n",
        "`\\overline{A}` | $\\overline{A}$ | Set complement\n",
        "`\\mathbb{N}` | $\\mathbb{N}$ | The set of natural numbers\n",
        "`\\mathbb{Z}` | $\\mathbb{Z}$ | The set of integers\n",
        "`\\mathbb{Z}^+` | $\\mathbb{Z}^+$ | The set of positive integers\n",
        "`\\mathbb{Q}` | $\\mathbb{Q}$ | The set of rational numbers ($\\frac{1}{2}, \\frac{5}{23},$ etc)\n",
        "`\\mathbb{R}` | $\\mathbb{R}$ | The set of real numbers\n",
        "`\\emptyset` | $\\emptyset$ | The empty set\n",
        "`\\sum_{i=1}^{10}{i^2}` | ${\\displaystyle \\sum_{i=1}^{10}{i^2}}$ | Summation\n",
        "`\\frac{1}{n}` | ${\\displaystyle \\frac{1}{n}}$ | Fraction\n",
        "`n^2`|$n^2$| Exponent\n",
        "`\\sqrt{x}` | $\\sqrt{x}$ | Square root"
      ]
    },
    {
      "attachments": {},
      "cell_type": "markdown",
      "metadata": {},
      "source": [
        "This work is adapted from [\"Introduction to LaTeX\" by Justin Bois](https://bebi103a.github.io/lessons/00/intro_to_latex.html), used under CC BY 4.0. This work is licensed under CC BY 4.0 by Nate Phillips."
      ]
    }
  ],
  "metadata": {
    "colab": {
      "provenance": []
    },
    "kernelspec": {
      "display_name": "Python 3 (ipykernel)",
      "language": "python",
      "name": "python3"
    },
    "language_info": {
      "codemirror_mode": {
        "name": "ipython",
        "version": 3
      },
      "file_extension": ".py",
      "mimetype": "text/x-python",
      "name": "python",
      "nbconvert_exporter": "python",
      "pygments_lexer": "ipython3",
      "version": "3.9.12"
    }
  },
  "nbformat": 4,
  "nbformat_minor": 0
}
