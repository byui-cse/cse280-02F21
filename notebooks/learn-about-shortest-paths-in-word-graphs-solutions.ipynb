{
 "cells": [
  {
   "cell_type": "markdown",
   "metadata": {
    "id": "WFQ0drYNUZEI"
   },
   "source": [
    "# <font color=blue>Learn About Shortest Paths in Word Graphs</font>\n",
    "## <font color=blue>Solutions</font>\n"
   ]
  },
  {
   "cell_type": "markdown",
   "metadata": {
    "id": "vRoQJpRBUobX"
   },
   "source": [
    "## <font color=red>**DONE** Search and Find</font>\n"
   ]
  },
  {
   "cell_type": "markdown",
   "metadata": {
    "id": "41C2Zj6ZUox2"
   },
   "source": [
    "Here is a function whose first parameter is a graph suitably defined (see below) that uses depth-first search to find the shortest paths between a `start` word and an `end` word:\n"
   ]
  },
  {
   "cell_type": "code",
   "execution_count": null,
   "metadata": {
    "id": "2IbJrIuiUq5k"
   },
   "outputs": [],
   "source": [
    "def find_shortest_path(graph, length_limit, start, end, path, shortest_path):\n",
    "  if len(path) > length_limit or (len(shortest_path) > 0 and len(shortest_path) < len(path)):\n",
    "    return shortest_path\n",
    "\n",
    "  if end in graph[start]:\n",
    "    path.append(start)\n",
    "    path.append(end)\n",
    "    if len(shortest_path) == 0 or len(path) < len(shortest_path):\n",
    "      shortest_path = path.copy()\n",
    "    return shortest_path\n",
    "\n",
    "  path.append(start)\n",
    "  nodes = graph[start]\n",
    "\n",
    "  for node in nodes:\n",
    "    if node not in path:\n",
    "      new_path = path.copy()\n",
    "      shortest_path = find_shortest_path(graph, length_limit, node, end, new_path, shortest_path)\n",
    "\n",
    "  return shortest_path"
   ]
  },
  {
   "cell_type": "markdown",
   "metadata": {},
   "source": [
    "You will first need to copy into this notebook the cell from [Learn About Shortest Paths in Word Graphs](https://colab.research.google.com/github/byui-cse/cse280-course-notebooks/blob/main/notebooks/learn-about-shortest-paths-in-word-graphs.ipynb) that is titled `some_common_words_with_three_to_six_letters` (that actually defines the variable `some_common_words_to_extract`)."
   ]
  },
  {
   "cell_type": "markdown",
   "metadata": {},
   "source": [
    "Run that cell and then run the following cells:"
   ]
  },
  {
   "cell_type": "code",
   "execution_count": null,
   "metadata": {},
   "outputs": [],
   "source": [
    "some_common_words_with_three_to_six_letters = some_common_words_to_extract.split()"
   ]
  },
  {
   "cell_type": "code",
   "execution_count": null,
   "metadata": {},
   "outputs": [],
   "source": [
    "# Shorter variable name\n",
    "scw = some_common_words_with_three_to_six_letters"
   ]
  },
  {
   "cell_type": "code",
   "execution_count": null,
   "metadata": {},
   "outputs": [],
   "source": [
    "# Create dictionary with keys, set values to empty sets\n",
    "word_graph = {w:set() for w in scw}"
   ]
  },
  {
   "cell_type": "code",
   "execution_count": null,
   "metadata": {},
   "outputs": [],
   "source": [
    "# Derived from the given rule for a link to exist between two words.\n",
    "# But ask: is there a better way?\n",
    "def link_exists(w1, w2):\n",
    "  return len(w1) == len(w2) and len([*filter(lambda i:w1[i]!=w2[i],range(len(w1)))]) == 1"
   ]
  },
  {
   "cell_type": "code",
   "execution_count": null,
   "metadata": {},
   "outputs": [],
   "source": [
    "# Fill dictionary values with the correct links\n",
    "for word1 in scw:\n",
    "  temp_l = list(scw)\n",
    "  temp_l.remove(word1)\n",
    "  for word2 in temp_l:\n",
    "    if link_exists(word1, word2):\n",
    "      word_graph[word1].add(word2)\n",
    "      word_graph[word2].add(word1)"
   ]
  },
  {
   "cell_type": "markdown",
   "metadata": {},
   "source": [
    "Compare these paths with the ones you found by hand:"
   ]
  },
  {
   "cell_type": "code",
   "execution_count": null,
   "metadata": {
    "id": "hKsRrB29Uxeh"
   },
   "outputs": [],
   "source": [
    "find_shortest_path(word_graph, 7, 'dry', 'wet', [], [])"
   ]
  },
  {
   "cell_type": "code",
   "execution_count": null,
   "metadata": {
    "id": "BqFDekFXUz2t"
   },
   "outputs": [],
   "source": [
    "find_shortest_path(word_graph, 7, 'read', 'ride', [], [])"
   ]
  },
  {
   "cell_type": "code",
   "execution_count": null,
   "metadata": {
    "id": "h5bs69kNU1Nj"
   },
   "outputs": [],
   "source": [
    "find_shortest_path(word_graph, 7, 'fish', 'fowl', [], [])"
   ]
  },
  {
   "cell_type": "code",
   "execution_count": null,
   "metadata": {
    "id": "c7jcZ2WNU2lo"
   },
   "outputs": [],
   "source": [
    "find_shortest_path(word_graph, 7, 'hate', 'love', [], [])"
   ]
  },
  {
   "cell_type": "code",
   "execution_count": null,
   "metadata": {
    "id": "40BHsNdRU3l8"
   },
   "outputs": [],
   "source": [
    "find_shortest_path(word_graph, 7, 'head', 'feet', [], [])"
   ]
  },
  {
   "cell_type": "code",
   "execution_count": null,
   "metadata": {
    "id": "A7Xw6xqRU4tU"
   },
   "outputs": [],
   "source": [
    "find_shortest_path(word_graph, 7, 'poor', 'rich', [], [])"
   ]
  },
  {
   "cell_type": "code",
   "execution_count": null,
   "metadata": {
    "id": "6M-2mupZU6Fj"
   },
   "outputs": [],
   "source": [
    "find_shortest_path(word_graph, 7, 'sick', 'well', [], [])"
   ]
  },
  {
   "cell_type": "code",
   "execution_count": null,
   "metadata": {
    "id": "UtnO7R7eU7GR"
   },
   "outputs": [],
   "source": [
    "find_shortest_path(word_graph, 7, 'warm', 'cold', [], [])"
   ]
  },
  {
   "cell_type": "code",
   "execution_count": null,
   "metadata": {
    "id": "JZBVAeVnU8CW"
   },
   "outputs": [],
   "source": [
    "find_shortest_path(word_graph, 7, 'work', 'play', [], [])"
   ]
  },
  {
   "cell_type": "code",
   "execution_count": null,
   "metadata": {
    "id": "fISBXd4YU9D6"
   },
   "outputs": [],
   "source": [
    "find_shortest_path(word_graph, 7, 'bane', 'boon', [], [])"
   ]
  },
  {
   "cell_type": "code",
   "execution_count": null,
   "metadata": {
    "id": "HnstnxCJU-C2"
   },
   "outputs": [],
   "source": [
    "find_shortest_path(word_graph, 7, 'black', 'white', [], [])"
   ]
  },
  {
   "cell_type": "code",
   "execution_count": null,
   "metadata": {
    "id": "4rVzH6Q2U_tt"
   },
   "outputs": [],
   "source": [
    "find_shortest_path(word_graph, 7, 'bread', 'toast', [], [])"
   ]
  },
  {
   "cell_type": "markdown",
   "metadata": {},
   "source": [
    "Here is a shortest path finding function using breadth-first search, from\n",
    "https://www.geeksforgeeks.org/building-an-undirected-graph-and-finding-shortest-path-using-dictionaries-in-python/:"
   ]
  },
  {
   "cell_type": "code",
   "execution_count": null,
   "metadata": {},
   "outputs": [],
   "source": [
    "def BFS_SP(graph, start, end):\n",
    "  explored = []\n",
    "\n",
    "  # Queue for traversing the graph in the BFS\n",
    "  queue = [[start]]\n",
    "\n",
    "  # If the start node is the same as the end node\n",
    "  if start == end:\n",
    "    print(f'ERROR: The starting node, \"{start}\", is equal to the destination node, \"{end}\".')\n",
    "    return []\n",
    "\n",
    "  # Loop to traverse the graph with the help of the queue\n",
    "  while queue:\n",
    "    path = queue.pop(0)\n",
    "    node = path[-1]\n",
    "\n",
    "    # Condition to check if the current node is not visited\n",
    "    if node not in explored:\n",
    "      neighbors = graph.get(node,1)\n",
    "\n",
    "      if neighbors == 1:\n",
    "        print(f'ERROR: Node \"{node}\" does not exist in the given graph.')\n",
    "        return []\n",
    "\n",
    "      # Loop to iterate over the neighbors of the node\n",
    "      for neighbor in neighbors:\n",
    "        new_path = list(path)\n",
    "        new_path.append(neighbor)\n",
    "        queue.append(new_path)\n",
    "\n",
    "        # Condition to check if the neighbor node is the goal\n",
    "        if neighbor == end:\n",
    "          return new_path\n",
    "      explored.append(node)\n",
    "\n",
    "  # Condition when the nodes are not connected\n",
    "  print(f'ERROR: There is no path from \"{start}\" to \"{end}\" in the given graph.')\n",
    "  return []"
   ]
  },
  {
   "cell_type": "markdown",
   "metadata": {},
   "source": [
    "Ask before running these cells: will breadth-first search find the same paths as depth-first search did?"
   ]
  },
  {
   "cell_type": "code",
   "execution_count": null,
   "metadata": {
    "id": "hKsRrB29Uxeh"
   },
   "outputs": [],
   "source": [
    "BFS_SP(word_graph, 'dry', 'wet')"
   ]
  },
  {
   "cell_type": "code",
   "execution_count": null,
   "metadata": {
    "id": "BqFDekFXUz2t"
   },
   "outputs": [],
   "source": [
    "BFS_SP(word_graph, 'read', 'ride')"
   ]
  },
  {
   "cell_type": "code",
   "execution_count": null,
   "metadata": {
    "id": "h5bs69kNU1Nj"
   },
   "outputs": [],
   "source": [
    "BFS_SP(word_graph, 'fish', 'fowl')"
   ]
  },
  {
   "cell_type": "code",
   "execution_count": null,
   "metadata": {
    "id": "c7jcZ2WNU2lo"
   },
   "outputs": [],
   "source": [
    "BFS_SP(word_graph, 'hate', 'love')"
   ]
  },
  {
   "cell_type": "code",
   "execution_count": null,
   "metadata": {
    "id": "40BHsNdRU3l8"
   },
   "outputs": [],
   "source": [
    "BFS_SP(word_graph, 'head', 'feet')"
   ]
  },
  {
   "cell_type": "code",
   "execution_count": null,
   "metadata": {
    "id": "A7Xw6xqRU4tU"
   },
   "outputs": [],
   "source": [
    "BFS_SP(word_graph, 'poor', 'rich')"
   ]
  },
  {
   "cell_type": "code",
   "execution_count": null,
   "metadata": {
    "id": "6M-2mupZU6Fj"
   },
   "outputs": [],
   "source": [
    "BFS_SP(word_graph, 'sick', 'well')"
   ]
  },
  {
   "cell_type": "code",
   "execution_count": null,
   "metadata": {
    "id": "UtnO7R7eU7GR"
   },
   "outputs": [],
   "source": [
    "BFS_SP(word_graph, 'warm', 'cold')"
   ]
  },
  {
   "cell_type": "code",
   "execution_count": null,
   "metadata": {
    "id": "JZBVAeVnU8CW"
   },
   "outputs": [],
   "source": [
    "BFS_SP(word_graph, 'work', 'play')"
   ]
  },
  {
   "cell_type": "code",
   "execution_count": null,
   "metadata": {
    "id": "fISBXd4YU9D6"
   },
   "outputs": [],
   "source": [
    "BFS_SP(word_graph, 'bane', 'boon')"
   ]
  },
  {
   "cell_type": "code",
   "execution_count": null,
   "metadata": {
    "id": "HnstnxCJU-C2"
   },
   "outputs": [],
   "source": [
    "BFS_SP(word_graph, 'black', 'white')"
   ]
  },
  {
   "cell_type": "code",
   "execution_count": null,
   "metadata": {
    "id": "4rVzH6Q2U_tt"
   },
   "outputs": [],
   "source": [
    "BFS_SP(word_graph, 'bread', 'toast')"
   ]
  }
 ],
 "metadata": {
  "colab": {
   "authorship_tag": "ABX9TyPw4t61mnbgijq+e9ewJ9fw",
   "collapsed_sections": [],
   "name": "learn-about-shortest-paths-in-word-graphs-solutions.ipynb",
   "private_outputs": true,
   "provenance": []
  },
  "kernelspec": {
   "display_name": "Python 3",
   "language": "python",
   "name": "python3"
  },
  "language_info": {
   "codemirror_mode": {
    "name": "ipython",
    "version": 3
   },
   "file_extension": ".py",
   "mimetype": "text/x-python",
   "name": "python",
   "nbconvert_exporter": "python",
   "pygments_lexer": "ipython3",
   "version": "3.9.0"
  }
 },
 "nbformat": 4,
 "nbformat_minor": 1
}
