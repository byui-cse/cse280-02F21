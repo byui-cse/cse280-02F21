{
 "cells": [
  {
   "cell_type": "markdown",
   "metadata": {
    "id": "yCS1mUARLIV9"
   },
   "source": [
    "# <font color=blue>Chapter 3 Predicates and Quantifiers Decryption Challenge</font>\n"
   ]
  },
  {
   "cell_type": "markdown",
   "metadata": {
    "id": "l7lzzgPwSVSx"
   },
   "source": [
    "### Exercise 3.14.21"
   ]
  },
  {
   "cell_type": "markdown",
   "metadata": {
    "id": "smVBijesSY38"
   },
   "source": [
    "The ```fn_decrypt``` function, defined in the code cell below and referencing the ```first_pull``` and ```second_pull``` poems shown below, takes a list and returns one of two different functions, each with the same codomain, depending on if a certain function returns true for all elements of the input."
   ]
  },
  {
   "cell_type": "markdown",
   "metadata": {
    "id": "sadapzoGUHSz"
   },
   "source": [
    "Unscramble a secret message in a list of lists of numbers (see fourth code cell below) by first transforming the data, then mapping the data through the respective results of the ```fn_decrypt``` function, which will be called (indirectly) by the ```decrypt_all``` function, which must be defined. (The ```forall``` function called by ```fn_decrypt``` must also be defined.)"
   ]
  },
  {
   "cell_type": "code",
   "execution_count": null,
   "metadata": {
    "id": "RsAvU0e2Tr2a"
   },
   "outputs": [],
   "source": [
    "def fn_decrypt(data):\n",
    "  global modulus, first_pull, second_pull\n",
    "  if forall(lambda x: x % modulus == 0, data):\n",
    "    return (lambda lst: first_pull[int(\"\".join(str(d) for d in lst), 8)])\n",
    "  else:\n",
    "    return (lambda lst: second_pull[int(\"\".join(str(d) for d in lst), 8)])"
   ]
  },
  {
   "cell_type": "code",
   "execution_count": null,
   "metadata": {
    "id": "8Bbh8Jg1SwSx"
   },
   "outputs": [],
   "source": [
    "first_pull = \"\"\"BECAUSE I could not stop for Death, He kindly stopped for me;\n",
    "The carriage held but just ourselves\n",
    "And Immortality.\n",
    "We slowly drove, he knew no haste, And I had put away\n",
    "My labor, and my leisure too,\n",
    "For his civility.\n",
    "We passed the school where children played At wrestling in a ring;\n",
    "We passed the fields of gazing grain,\n",
    "We passed the setting sun.\n",
    "We paused before a house that seemed A swelling of the ground;\n",
    "The roof was scarcely visible,\n",
    "The cornice but a mound.\n",
    "Since then ’t is centuries; but each\n",
    "Feels shorter than the day\n",
    "I first surmised the horses’ heads\n",
    "Were toward eternity.\"\"\" # Public domain. From https://www.bartleby.com/113/4027.html"
   ]
  },
  {
   "cell_type": "code",
   "execution_count": null,
   "metadata": {
    "id": "dGZPKuxuTd9k"
   },
   "outputs": [],
   "source": [
    "second_pull = \"\"\"Tiger, tiger, burning bright\n",
    "In the forests of the night,\n",
    "What immortal hand or eye\n",
    "Could frame thy fearful symmetry?\n",
    "In what distant deeps or skies\n",
    "Burnt the fire of thine eyes?\n",
    "On what wings dare he aspire?\n",
    "What the hand dare seize the fire?\n",
    "And what shoulder and what art\n",
    "Could twist the sinews of thy heart?\n",
    "And, when thy heart began to beat,\n",
    "What dread hand and what dread feet?\n",
    "What the hammer? what the chain?\n",
    "In what furnace was thy brain?\n",
    "What the anvil? what dread grasp\n",
    "Dare its deadly terrors clasp?\n",
    "When the stars threw down their spears,\n",
    "And watered heaven with their tears,\n",
    "Did He smile His work to see?\n",
    "Did He who made the lamb make thee?\n",
    "Tiger, tiger, burning bright\n",
    "In the forests of the night,\n",
    "What immortal hand or eye\n",
    "Dare frame thy fearful symmetry?\"\"\" # Public domain. From http://www.gutenberg.org/files/1934/1934-h/1934-h.htm"
   ]
  },
  {
   "cell_type": "markdown",
   "metadata": {
    "id": "R1MsBc8Jgssz"
   },
   "source": [
    "### Test Your Code\n"
   ]
  },
  {
   "cell_type": "code",
   "execution_count": null,
   "metadata": {
    "id": "aQHur5E-US0W"
   },
   "outputs": [],
   "source": [
    "print(decrypt_all([[4500, 6845, 2660], [4655, 6920, 7795],\n",
    "[4161, 7115, 2685, 4829], [5265, 205, 4545], [986, 7429, 6149],\n",
    "[5993, 7259, 4129, 3343], [7555, 3885, 2060], [8110, 3085, 965],\n",
    "[650, 3215, 5945], [4095, 4310, 120], [3577, 4297, 2467, 4823],\n",
    "[4209, 1109, 6960], [3715, 6785, 3235], [2130, 4540, 5395],\n",
    "[2035, 6760, 4365], [7890, 5167, 7365], [1577, 853, 7781],\n",
    "[313, 7155, 616, 3631], [7241, 1625, 2924], [1505, 5514, 2899, 4029],\n",
    "[1127, 5224, 4487], [275, 220, 6360], [4865, 5785, 7560, 5285],\n",
    "[4097, 3858, 900, 2820], [2201, 490, 687, 1412], [6705, 106, 7878, 6045],\n",
    "[6962, 2266, 6249], [6940, 6420, 6700], [1156, 327, 1729],\n",
    "[2485, 5180, 4790], [6743, 7249, 7480], [4745, 4717, 5185],\n",
    "[1445, 4010, 3670], [2737, 3978, 381, 3658], [7609, 6760, 7779, 1413],\n",
    "[2275, 2525, 925], [6535, 7715, 2935], [4265, 6270, 6440],\n",
    "[1490, 3660, 550], [4775, 2175, 7180], [2710, 291],\n",
    "[7849, 1097, 5392, 3198], [4300, 4280, 2585], [1420, 3755],\n",
    "[6561, 155, 14, 5179], [603, 3473, 6924], [5390, 185, 7300],\n",
    "[4965, 815, 5880], [7905, 1560, 8100, 7870], [5890, 7530, 4710],\n",
    "[5385, 7770, 980], [1905, 1970, 7125], [5035, 45, 3125],\n",
    "[7063, 5013, 455], [5370, 2970, 5005], [1955, 2703, 5740],\n",
    "[7050, 7570], [1172, 4071, 2413], [785, 3550, 2885],\n",
    "[5178, 7243, 424], [3085, 7330, 1820], [4635, 6370, 7015],\n",
    "[1881, 186, 7654, 3402], [1413, 521, 6466], [230, 3220, 5430],\n",
    "[6929, 217, 1348, 4871], [7950, 7065, 3235], [121, 3872, 247, 7933],\n",
    "[1580, 6920, 1105]]))\n"
   ]
  },
  {
   "cell_type": "code",
   "execution_count": null,
   "metadata": {
    "id": "1icPf-g7Uxvm"
   },
   "outputs": [],
   "source": [
    "#@title Hint {display-mode: \"form\"}\n",
    "from IPython.display import Markdown\n",
    "display(Markdown('''\n",
    "This exercise may sound very hard, but it won't be too difficult if you make the\n",
    "function required to transform the data something as simple as\n",
    "\n",
    "x--->map(y--->y%some_modulus, x).\n",
    "\n",
    "(You'll need to figure out what ```some_modulus``` is\n",
    "(```modulus``` in ```fn_decrypt```) ---\n",
    "some positive integer less than 8.)\n",
    "\n",
    "See [Book Cipher](https://en.wikipedia.org/wiki/Book_cipher) for more ideas.\n",
    "'''))"
   ]
  },
  {
   "cell_type": "code",
   "execution_count": null,
   "metadata": {
    "id": "LiUwCwtlU10c"
   },
   "outputs": [],
   "source": [
    "#@title Bonus Hint {display-mode: \"form\"}\n",
    "from IPython.display import Markdown\n",
    "display(Markdown('''\n",
    "A function is presented, which takes a list and returns one of two different functions, each with the same codomain, depending on if a certain function returns true for some element of the input. The exercise is to unscramble a secret message in a list of lists by first transforming the data, then mapping the data through the respective results of the presented function. This idea may sound very hard, but it won't be too difficult if the function required to transform the data is as simple as ```x->map(y->y%2,x)```.\n",
    "\n",
    "#### Design\n",
    "* Data is passed through a series of transformations.\n",
    "* To encrypt, start with a letter and a poem.\n",
    "* Find any index of that letter in the poem. (This step may need human supervision.)\n",
    "* Translate that index in a pre-determined base.\n",
    "* Turn the result into a list of numbers less than the radix (call this transform alpha).\n",
    "* Add a random number times the radix to each element of the list (call this transform beta).\n",
    "\n",
    "Note that if the first pull is selected, all the numbers in the result list must meet a certain condition. If the second pull is selected, at least one number in the result list must not meet that condition. One way to come up with the condition is to pick a certain number $p$ coprime to the radix, and say that $p$ must divide all the numbers in a given list from the first pull. \n",
    "\n",
    "#### Decrypting\n",
    "* Take the encrypted message:\n",
    "* transform it: (lambda x:x%8);\n",
    "* get the decrypt function; and\n",
    "* run the transformed data through the decrypt function.\n",
    "'''))"
   ]
  }
 ],
 "metadata": {
  "colab": {
   "authorship_tag": "ABX9TyN9s4hkg7BE5TKwMIl5rVze",
   "name": "chapter-3-predicates-and-quantifiers-in-class-exercises.ipynb",
   "private_outputs": true,
   "provenance": []
  },
  "kernelspec": {
   "display_name": "Python 3",
   "language": "python",
   "name": "python3"
  },
  "language_info": {
   "codemirror_mode": {
    "name": "ipython",
    "version": 3
   },
   "file_extension": ".py",
   "mimetype": "text/x-python",
   "name": "python",
   "nbconvert_exporter": "python",
   "pygments_lexer": "ipython3",
   "version": "3.9.0"
  }
 },
 "nbformat": 4,
 "nbformat_minor": 1
}
