{
  "nbformat": 4,
  "nbformat_minor": 0,
  "metadata": {
    "colab": {
      "name": "cse280-examples-w04.ipynb",
      "provenance": [],
      "collapsed_sections": [
        "qCaUXa4ZAUP-",
        "iLqOS4FsAW-C",
        "6mRpI1rRC4FG",
        "Sx8y8fSODkFV",
        "DhSi418pV8PV",
        "9hULNvzxWAqQ",
        "AjnR5w8naAY0",
        "kP-M1gzvZkd0",
        "VTlubCPPaDvX",
        "5NQCDk6oAv0K",
        "eolJByILslHf",
        "GM7BTG_4T5uv",
        "W_2I13tUU8oC",
        "PkEr2TBZVKNX"
      ],
      "authorship_tag": "ABX9TyOPu5jjaWG9P7FFEyKojLmY",
      "include_colab_link": true
    },
    "kernelspec": {
      "name": "python3",
      "display_name": "Python 3"
    },
    "language_info": {
      "name": "python"
    }
  },
  "cells": [
    {
      "cell_type": "markdown",
      "metadata": {
        "id": "view-in-github",
        "colab_type": "text"
      },
      "source": [
        "<a href=\"https://colab.research.google.com/github/byui-cse/cse280-course-notebooks/blob/main/notebooks/cse280_examples_w04.ipynb\" target=\"_parent\"><img src=\"https://colab.research.google.com/assets/colab-badge.svg\" alt=\"Open In Colab\"/></a>"
      ]
    },
    {
      "cell_type": "markdown",
      "metadata": {
        "id": "APUKY4CqyCac"
      },
      "source": [
        "# Predicates and Quantifiers"
      ]
    },
    {
      "cell_type": "markdown",
      "metadata": {
        "id": "qCaUXa4ZAUP-"
      },
      "source": [
        "## Predicates"
      ]
    },
    {
      "cell_type": "markdown",
      "metadata": {
        "id": "iLqOS4FsAW-C"
      },
      "source": [
        "### Find the predicate"
      ]
    },
    {
      "cell_type": "code",
      "metadata": {
        "id": "uk89w8f9AZx3"
      },
      "source": [
        "seq = [0, 1, 2, 3, 5, 8, 13]\n",
        "\n",
        "# What part of this is the predicate?\n",
        "result = list(filter(lambda x: x%2 != 0, seq))\n",
        "\n",
        "# What is the output?\n",
        "print(result)"
      ],
      "execution_count": null,
      "outputs": []
    },
    {
      "cell_type": "markdown",
      "metadata": {
        "id": "6mRpI1rRC4FG"
      },
      "source": [
        "### Express using Python"
      ]
    },
    {
      "cell_type": "markdown",
      "metadata": {
        "id": "RS7pwavTDBUp"
      },
      "source": [
        "The universe of discourse $N$ is the name of everyone in your group. Let $C(s,x)$ mean \"name $s$ contains the letter $x$.\"\n",
        "\n",
        "$ \\exists n \\ C(n,e) $"
      ]
    },
    {
      "cell_type": "code",
      "metadata": {
        "id": "VeNU18rDZCJa"
      },
      "source": [
        "names = ['Alice', 'Bob', 'Sue']\n",
        "\n",
        "for x in names:\n",
        "  for letter in x:\n",
        "    if letter == 'e':\n",
        "      print( True )\n",
        "   "
      ],
      "execution_count": null,
      "outputs": []
    },
    {
      "cell_type": "markdown",
      "metadata": {
        "id": "Sx8y8fSODkFV"
      },
      "source": [
        "#### In Python:"
      ]
    },
    {
      "cell_type": "code",
      "metadata": {
        "id": "Br4fx1YVDoJL"
      },
      "source": [
        "names = ['Alice', 'Bob', 'Carol', 'Dave', 'Eliza']\n",
        "\n",
        "# names = ['Bob', 'Carol']\n",
        "\n",
        "# What is the predicate?\n",
        "result = len(list(filter(lambda name: 'e' in name, names))) > 0\n",
        "\n",
        "# What is the result?\n",
        "print(result)\n"
      ],
      "execution_count": null,
      "outputs": []
    },
    {
      "cell_type": "code",
      "metadata": {
        "id": "c9CaJwSp9EZX"
      },
      "source": [
        "# with two variables\n",
        "\n",
        "f = lambda letter: lambda name: letter in name.lower()\n",
        "result = [*filter(f('c'), names)]\n",
        "print(\"c:\",result)\n",
        "\n",
        "result = [*filter((lambda letter: lambda name: letter in name.lower())('a'), names)]\n",
        "print(\"a:\",result)\n"
      ],
      "execution_count": null,
      "outputs": []
    },
    {
      "cell_type": "markdown",
      "metadata": {
        "id": "DhSi418pV8PV"
      },
      "source": [
        "## Quantifiers"
      ]
    },
    {
      "cell_type": "markdown",
      "metadata": {
        "id": "9hULNvzxWAqQ"
      },
      "source": [
        "### $\\forall$ - For all"
      ]
    },
    {
      "cell_type": "markdown",
      "metadata": {
        "id": "e-jti3UMWIVI"
      },
      "source": [
        "Write a function called **forall** that takes two parameters, **p** and **s**, where **p** is a predicate and **s** is a set (or list).\n",
        "\n",
        "**forall** should return true if **every** item in **s** has the property **p**\n",
        "\n"
      ]
    },
    {
      "cell_type": "markdown",
      "metadata": {
        "id": "AjnR5w8naAY0"
      },
      "source": [
        "#### in python"
      ]
    },
    {
      "cell_type": "code",
      "metadata": {
        "colab": {
          "base_uri": "https://localhost:8080/"
        },
        "id": "CphtJ_xfWai3",
        "outputId": "25973d3f-8688-45a4-d242-a638fee36169"
      },
      "source": [
        "# Forall function using loops\n",
        "def forall(p,s):\n",
        "  for element in s:\n",
        "    if not p(element):\n",
        "      return False\n",
        "  return True\n",
        "\n",
        "\n",
        "def is_even(x):\n",
        "  return not (x % 2)\n",
        "\n",
        "nums = [1,2,3,4,5]\n",
        "is_even = lambda x: x % 2 == 0\n",
        "is_odd = lambda x: x % 2 != 0\n",
        "is_positive = lambda x: x > 0\n",
        "\n",
        "print(forall(is_even, nums))\n",
        "print(forall(is_odd, nums))\n",
        "print(forall(is_positive, nums))\n"
      ],
      "execution_count": 80,
      "outputs": [
        {
          "output_type": "stream",
          "name": "stdout",
          "text": [
            "False\n",
            "False\n",
            "True\n"
          ]
        }
      ]
    },
    {
      "cell_type": "markdown",
      "metadata": {
        "id": "LHRkAsnJcXLH"
      },
      "source": [
        "##### Better way to test"
      ]
    },
    {
      "cell_type": "code",
      "metadata": {
        "id": "vYAbQlY0cZWG"
      },
      "source": [
        "print(forall(is_even, nums) == False)\n",
        "print(forall(is_odd, nums) == False)\n",
        "print(forall(is_positive, nums) == True)"
      ],
      "execution_count": null,
      "outputs": []
    },
    {
      "cell_type": "markdown",
      "metadata": {
        "id": "A1VfD1OHbsRq"
      },
      "source": [
        "##### functional style"
      ]
    },
    {
      "cell_type": "code",
      "metadata": {
        "id": "Xux63KMAZb_0"
      },
      "source": [
        "# Forall using functional programming style\n",
        "forall = lambda p,s: len([*filter(p, s)]) == len(s) "
      ],
      "execution_count": null,
      "outputs": []
    },
    {
      "cell_type": "code",
      "metadata": {
        "id": "BdUgfUy4ZaNO"
      },
      "source": [
        "sequence = [2,4,6,8,10]\n",
        "greater_than_two = lambda x: x>2\n",
        "greater_than_zero = lambda x: x>0\n",
        "is_even = lambda x: x%2 == 0\n",
        "\n",
        "\n",
        "print(forall(greater_than_two, sequence))\n",
        "print(forall(greater_than_zero, sequence))\n",
        "print(forall(is_even, sequence))"
      ],
      "execution_count": null,
      "outputs": []
    },
    {
      "cell_type": "markdown",
      "metadata": {
        "id": "pQMT9YZbfryI"
      },
      "source": [
        "##### built-in functions"
      ]
    },
    {
      "cell_type": "code",
      "metadata": {
        "id": "8j5vOT6WfKFl"
      },
      "source": [
        "# built-in \"forall\" - all()\n",
        "a = [True, True, True]\n",
        "b = [True, True, False]\n",
        "print(all(a) == True)\n",
        "print(all(b) == False)\n",
        "\n",
        "print(all(map(is_even, sequence)) == True)\n",
        "print(all(map(greater_than_two, sequence)) == False)\n"
      ],
      "execution_count": null,
      "outputs": []
    },
    {
      "cell_type": "markdown",
      "metadata": {
        "id": "kP-M1gzvZkd0"
      },
      "source": [
        "### $\\exists$ - For some\n"
      ]
    },
    {
      "cell_type": "markdown",
      "metadata": {
        "id": "zvFLgw78Zop0"
      },
      "source": [
        "Write a function called **forsome** that takes a predicate **p** and a set **s**. **forsome** should return True if **at least one** member of the set **s** has the property **p**."
      ]
    },
    {
      "cell_type": "markdown",
      "metadata": {
        "id": "VTlubCPPaDvX"
      },
      "source": [
        "#### in python"
      ]
    },
    {
      "cell_type": "code",
      "metadata": {
        "colab": {
          "base_uri": "https://localhost:8080/"
        },
        "id": "m0Mt2CNEaFrE",
        "outputId": "af3029ca-a1bd-4e5a-e40f-d2454feb8d76"
      },
      "source": [
        "# using loops\n",
        "def forsome(p, s):\n",
        "  for element in s:\n",
        "    if p(element):\n",
        "      return True\n",
        "  return False\n",
        "\n",
        "nums = [1,2,3,4,5,-1]\n",
        "is_even = lambda x: x % 2 == 0\n",
        "is_odd = lambda x: x % 2 != 0\n",
        "is_positive = lambda x: x > 0\n",
        "is_negative = lambda x: x < 0\n",
        "\n",
        "print(forsome(is_even, nums))\n",
        "print(forsome(is_odd, nums))\n",
        "print(forsome(is_positive, nums))\n",
        "print(forsome(is_negative, nums))"
      ],
      "execution_count": 85,
      "outputs": [
        {
          "output_type": "stream",
          "name": "stdout",
          "text": [
            "True\n",
            "True\n",
            "True\n",
            "True\n"
          ]
        }
      ]
    },
    {
      "cell_type": "markdown",
      "metadata": {
        "id": "4AEKALuXcnqd"
      },
      "source": [
        "##### Functional style"
      ]
    },
    {
      "cell_type": "code",
      "metadata": {
        "id": "vdp5fBtiZ-PQ"
      },
      "source": [
        "# Using functional programming style\n",
        "forsome = lambda p,s: len([*filter(p,s)]) > 0"
      ],
      "execution_count": null,
      "outputs": []
    },
    {
      "cell_type": "markdown",
      "metadata": {
        "id": "yK4CxPSecqdr"
      },
      "source": [
        "##### Test it out"
      ]
    },
    {
      "cell_type": "code",
      "metadata": {
        "id": "i8Zk3Dp2aacz"
      },
      "source": [
        "# Test it out\n",
        "sequence1 = [2,4,6,8,10]\n",
        "sequence2 = [1,3,5,7,9]\n",
        "greater_than_two = lambda x: x>2\n",
        "greater_than_zero = lambda x: x>0\n",
        "is_even = lambda x: x%2 == 0\n",
        "is_odd = lambda x: x%2 != 0\n",
        "\n",
        "print(forsome(greater_than_two, sequence1))\n",
        "print(forsome(greater_than_zero, sequence1))\n",
        "print(forsome(is_even, sequence1))\n",
        "print(forsome(is_odd, sequence1))\n",
        "print(forsome(is_odd, sequence2))\n"
      ],
      "execution_count": null,
      "outputs": []
    },
    {
      "cell_type": "markdown",
      "metadata": {
        "id": "ZymqmuQngH3N"
      },
      "source": [
        "##### Built-in functions\n"
      ]
    },
    {
      "cell_type": "code",
      "metadata": {
        "id": "IXuO9WA-gJ2P"
      },
      "source": [
        "# built-in \"forsome\" - any()\n",
        "a = [True, True, True]\n",
        "b = [True, True, False]\n",
        "print(any(a) == True)\n",
        "print(any(b) == True)\n",
        "\n",
        "sequence = [2,4,6,8,10]\n",
        "print(any(map(is_even, sequence)) == True)\n",
        "print(any(map(greater_than_two, sequence)) == True)"
      ],
      "execution_count": null,
      "outputs": []
    },
    {
      "cell_type": "markdown",
      "metadata": {
        "id": "5NQCDk6oAv0K"
      },
      "source": [
        "## Other stuff"
      ]
    },
    {
      "cell_type": "markdown",
      "metadata": {
        "id": "eolJByILslHf"
      },
      "source": [
        "### Summation Examples\n"
      ]
    },
    {
      "cell_type": "markdown",
      "metadata": {
        "id": "OntwQwNPsomY"
      },
      "source": [
        "$$ \\sum_{n=1}^{10}{\\frac{(n+1)}{n}} = \\frac{2}{1} + \\frac{3}{2} + \\dots + \\frac{11}{10}$$"
      ]
    },
    {
      "cell_type": "code",
      "metadata": {
        "id": "x2QaKO6qyEPy"
      },
      "source": [
        "# Summation example\n",
        "result = sum([(n+1)/n for n in range(1,11)])\n",
        "\n",
        "print(result)\n",
        "\n"
      ],
      "execution_count": null,
      "outputs": []
    },
    {
      "cell_type": "markdown",
      "metadata": {
        "id": "GM7BTG_4T5uv"
      },
      "source": [
        "#### Harmonic Series"
      ]
    },
    {
      "cell_type": "markdown",
      "metadata": {
        "id": "eE39xHoaT9rA"
      },
      "source": [
        "$$\n",
        "\\sum_{n=1}^{\\infty} \\frac{1}{n} = \\frac{1}{1} + \\frac{1}{2} + \\frac{1}{3} + \\frac{1}{4} + \\dots \n",
        "$$"
      ]
    },
    {
      "cell_type": "code",
      "metadata": {
        "id": "kJ31VG8fTGoB"
      },
      "source": [
        "# Harmonic series\n",
        "result = sum([1/n for n in range(1,11)])\n",
        "print(result)"
      ],
      "execution_count": null,
      "outputs": []
    },
    {
      "cell_type": "markdown",
      "metadata": {
        "id": "W_2I13tUU8oC"
      },
      "source": [
        "#### Reciprocals of powers of 2"
      ]
    },
    {
      "cell_type": "markdown",
      "metadata": {
        "id": "EkvZ901IU_cr"
      },
      "source": [
        "$$\n",
        "\\sum_{n=0}^{\\infty} {\\frac{1}{2^n}}\n",
        "$$"
      ]
    },
    {
      "cell_type": "code",
      "metadata": {
        "id": "8hdiZILQTe3h"
      },
      "source": [
        "# Reciprocals of powers of 2\n",
        "result = sum([1/(2 ** n) for n in range(0,11)])\n",
        "print(result)"
      ],
      "execution_count": null,
      "outputs": []
    },
    {
      "cell_type": "markdown",
      "metadata": {
        "id": "PkEr2TBZVKNX"
      },
      "source": [
        "#### Reciprocals of powers of two scaled by which power"
      ]
    },
    {
      "cell_type": "markdown",
      "metadata": {
        "id": "ZW7B_9DTVOSm"
      },
      "source": [
        "$$\n",
        "\\sum_{n=0}^{\\infty}{\\frac{n}{2^n}}\n",
        "$$"
      ]
    },
    {
      "cell_type": "code",
      "metadata": {
        "id": "uHcoEoo8T3xI"
      },
      "source": [
        "# Reciprocals of the powers of two scaled by which power\n",
        "result = sum([n/2**n for n in range(0,11)])\n",
        "print(result)"
      ],
      "execution_count": null,
      "outputs": []
    }
  ]
}