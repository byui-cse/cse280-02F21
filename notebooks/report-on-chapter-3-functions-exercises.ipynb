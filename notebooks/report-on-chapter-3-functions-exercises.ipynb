{
 "cells": [
  {
   "cell_type": "markdown",
   "metadata": {
    "id": "P4HjCMYKKoIm"
   },
   "source": [
    "# <font color=blue>Report on Chapter 3 Functions Exercises</font>  "
   ]
  },
  {
   "cell_type": "markdown",
   "metadata": {
    "id": "F7RRYEO3LDhE"
   },
   "source": [
    "## <font color=red>Instructions</font>"
   ]
  },
  {
   "cell_type": "markdown",
   "metadata": {
    "id": "q5mqj5g-LH9z"
   },
   "source": [
    "This self-assessment again asks you to enter the approximate number of hours (rounded up to the nearest whole number) you spent doing the 26 Chapter 3 exercises.\n",
    "\n",
    "Also like last week, there is another question, multiple answers, a point for each box you can truthfully check to assert that you **did** the Chapter 3 exercises, to whatever extent you did them.\n",
    "\n",
    "Here is how to interpret the assertion \"I did the ___ exercise(s)\":\n",
    "\n",
    "I learned something new or achieved something meaningful, or something I can build upon at a later time, from doing the ___ exercise(s)."
   ]
  },
  {
   "cell_type": "markdown",
   "metadata": {
    "id": "ys2mpD1pKyUW"
   },
   "source": [
    "## <font color=purple>Access</font>"
   ]
  },
  {
   "cell_type": "markdown",
   "metadata": {
    "id": "dbEQh6I-KzuB"
   },
   "source": [
    "[Take the Self-Assessment](https://byui.instructure.com/courses/149380/quizzes/2724879)"
   ]
  }
 ],
 "metadata": {
  "colab": {
   "authorship_tag": "ABX9TyProgCCmYS7bNgb9VcuO3gn",
   "name": "report-on-chapter-3-functions-exercises.ipynb",
   "private_outputs": true,
   "provenance": []
  },
  "kernelspec": {
   "display_name": "Python 3",
   "language": "python",
   "name": "python3"
  },
  "language_info": {
   "codemirror_mode": {
    "name": "ipython",
    "version": 3
   },
   "file_extension": ".py",
   "mimetype": "text/x-python",
   "name": "python",
   "nbconvert_exporter": "python",
   "pygments_lexer": "ipython3",
   "version": "3.9.0"
  }
 },
 "nbformat": 4,
 "nbformat_minor": 1
}
