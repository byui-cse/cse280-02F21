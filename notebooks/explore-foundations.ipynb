{
 "cells": [
  {
   "cell_type": "markdown",
   "metadata": {
    "id": "xTOUx9vDBvaJ"
   },
   "source": [
    "# <font color=blue>Explore Foundations</font>\n",
    "## <font color=blue>Ponder and Prove</font>"
   ]
  },
  {
   "cell_type": "markdown",
   "metadata": {
    "id": "0N2PxxIMB8p5"
   },
   "source": [
    "## <font color=red>Your Choice</font>"
   ]
  },
  {
   "cell_type": "markdown",
   "metadata": {
    "id": "oJQf0KkpB39A"
   },
   "source": [
    "Choose one of three Explorations:\n",
    "- [Explore Boolean Function Normal Forms](https://colab.research.google.com/github/byui-cse/cse280-course-notebooks/blob/main/notebooks/explore-boolean-function-normal-forms.ipynb)\n",
    "- [Explore Fuzzy Sets and Fuzzy Logic](https://colab.research.google.com/github/byui-cse/cse280-course-notebooks/blob/main/notebooks/explore-fuzzy-sets-and-fuzzy-logic.ipynb)\n",
    "- [Explore Infinity and Infinite Sets](https://colab.research.google.com/github/byui-cse/cse280-course-notebooks/blob/main/notebooks/explore-infinity-and-infinite-sets.ipynb)\n"
   ]
  },
  {
   "cell_type": "markdown",
   "metadata": {
    "id": "xePrtbecCBAf"
   },
   "source": [
    "## <font color=red>To Aid in Grading</font>"
   ]
  },
  {
   "cell_type": "markdown",
   "metadata": {
    "id": "rIXsGVAC0gAn"
   },
   "source": [
    "[Exploration Rubric](https://colab.research.google.com/github/byui-cse/cse280-course-notebooks/blob/main/notebooks/exploration-rubric.ipynb)\n"
   ]
  },
  {
   "cell_type": "markdown",
   "metadata": {
    "id": "TZ3fU9LDOlZ-"
   },
   "source": [
    "## <font color=red>Consider for Comparison</font>"
   ]
  },
  {
   "cell_type": "markdown",
   "metadata": {
    "id": "qwvvquu-DX75"
   },
   "source": [
    "[Sample Exploration](https://colab.research.google.com/github/byui-cse/cse280-course-notebooks/blob/main/notebooks/sample-exploration.ipynb)"
   ]
  },
  {
   "cell_type": "markdown",
   "metadata": {
    "id": "Zq4QHNLnNwoA"
   },
   "source": [
    "## <font color=red>Submit</font>"
   ]
  },
  {
   "cell_type": "markdown",
   "metadata": {
    "id": "0CL9ZZX0-BfD"
   },
   "source": [
    "[Assignment](https://byui.instructure.com/courses/149380/assignments/7513071)"
   ]
  }
 ],
 "metadata": {
  "colab": {
   "authorship_tag": "ABX9TyMRc3obzWNpA+wCnh2hIeaS",
   "collapsed_sections": [],
   "name": "Explore Foundations.ipynb",
   "private_outputs": true,
   "provenance": []
  },
  "kernelspec": {
   "display_name": "Python 3",
   "language": "python",
   "name": "python3"
  },
  "language_info": {
   "codemirror_mode": {
    "name": "ipython",
    "version": 3
   },
   "file_extension": ".py",
   "mimetype": "text/x-python",
   "name": "python",
   "nbconvert_exporter": "python",
   "pygments_lexer": "ipython3",
   "version": "3.9.0"
  }
 },
 "nbformat": 4,
 "nbformat_minor": 1
}
