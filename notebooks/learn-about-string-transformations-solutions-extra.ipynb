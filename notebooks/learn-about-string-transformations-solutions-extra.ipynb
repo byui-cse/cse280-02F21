{
 "cells": [
  {
   "cell_type": "markdown",
   "metadata": {
    "id": "R-STpDOl3_bd"
   },
   "source": [
    "# <font color=blue>Learn About String Transformations</font>\n",
    "## <font color=blue>Solutions Extra</font>"
   ]
  },
  {
   "cell_type": "markdown",
   "metadata": {
    "id": "swQpr-Rl6S7w"
   },
   "source": [
    "For students who are curious and ask about the rationale behind the *arbitrary* mapping:\n"
   ]
  },
  {
   "cell_type": "markdown",
   "metadata": {
    "id": "DIYWO20a6U5P"
   },
   "source": [
    "| Map | To  |\n",
    "|-----|-----|\n",
    "| `'C'` | `' '` |\n",
    "| `'I'` | `'U'` |\n",
    "| `'D'` | `'F'` |\n",
    "| `'R'` | `'W'` |\n",
    "| `'S'` | `'N'` |\n",
    "| `'E'` | `'I'` |"
   ]
  },
  {
   "cell_type": "markdown",
   "metadata": {
    "id": "oiz2AV7E6qAx"
   },
   "source": [
    "Every other (uppercase) character maps to itself."
   ]
  },
  {
   "cell_type": "code",
   "execution_count": null,
   "metadata": {
    "id": "xfQgQNwXyBTZ"
   },
   "outputs": [],
   "source": [
    "def xf(text):\n",
    "  return ''.join(map(xf_char, text))"
   ]
  },
  {
   "cell_type": "markdown",
   "metadata": {
    "id": "X2XvZ46smaIG"
   },
   "source": [
    "## <font color=red>**TODO** Give Them a Harder Programming Challenge</font>"
   ]
  },
  {
   "cell_type": "markdown",
   "metadata": {
    "id": "GUQWxpqEmbfQ"
   },
   "source": [
    "Suppose the requirement is imposed that the first time (and **only the first time**) the character `'E'` is seen, it is mapped to an `'I'` as before, but **every time** thereafter an `'E'` is encountered it gets mapped to an `'H'`.\n"
   ]
  },
  {
   "cell_type": "markdown",
   "metadata": {
    "id": "3KkIJmDBmcYa"
   },
   "source": [
    "How would you program that requirement?"
   ]
  },
  {
   "cell_type": "code",
   "execution_count": null,
   "metadata": {
    "id": "I56Ek0dopJpf"
   },
   "outputs": [],
   "source": [
    "def xf_char(char):\n",
    "  return ' ' if char == 'C' else \\\n",
    "         'F' if char == 'D' else \\\n",
    "         'W' if char == 'R' else \\\n",
    "         'N' if char == 'S' else \\\n",
    "         'U' if char == 'I' else \\\n",
    "         xfE() if char == 'E' else \\\n",
    "         char"
   ]
  },
  {
   "cell_type": "code",
   "execution_count": null,
   "metadata": {
    "id": "gn-lKT23pNEr"
   },
   "outputs": [],
   "source": [
    "first_time = True\n",
    "def xfE():\n",
    "  global first_time\n",
    "  if first_time:\n",
    "    first_time = False\n",
    "    return 'I'\n",
    "  else:\n",
    "    return 'H'"
   ]
  },
  {
   "cell_type": "markdown",
   "metadata": {},
   "source": [
    "The rationale behind this is to invite you, whenever you think of 'DISCRETE MATH', to think of the transformed version:"
   ]
  },
  {
   "cell_type": "code",
   "execution_count": null,
   "metadata": {
    "id": "l0B9h6Cypb__"
   },
   "outputs": [],
   "source": [
    "xf('DISCRETE MATH')"
   ]
  },
  {
   "cell_type": "markdown",
   "metadata": {},
   "source": [
    "Now ask if they can do it without using a conditional!\n",
    "Let them discuss how this could be done for a few minutes.\n",
    "\n",
    "Perhaps give them a hint that it is still necessary to use a global, and\n",
    "if that doesn't help, give them the stronger hint that a global function can be redefined when called!\n"
   ]
  },
  {
   "cell_type": "code",
   "execution_count": null,
   "metadata": {
    "id": "gn-lKT23pNEr"
   },
   "outputs": [],
   "source": [
    "def xfE():\n",
    "  global xfE\n",
    "  xfE = lambda:'H'\n",
    "  return 'I'"
   ]
  },
  {
   "cell_type": "code",
   "execution_count": null,
   "metadata": {
    "id": "l0B9h6Cypb__"
   },
   "outputs": [],
   "source": [
    "xf('DISCRETE MATH')"
   ]
  },
  {
   "cell_type": "markdown",
   "metadata": {},
   "source": [
    "Another way to show them is the following, which updates the `globals()` dictionary rather than using a `global` declaration/assignment:"
   ]
  },
  {
   "cell_type": "code",
   "execution_count": null,
   "metadata": {
    "id": "gn-lKT23pNEr"
   },
   "outputs": [],
   "source": [
    "def xfE():\n",
    "  globals()['xfE'] = lambda:'H'\n",
    "  return 'I'"
   ]
  },
  {
   "cell_type": "code",
   "execution_count": null,
   "metadata": {
    "id": "l0B9h6Cypb__"
   },
   "outputs": [],
   "source": [
    "xf('DISCRETE MATH')"
   ]
  }
 ],
 "metadata": {
  "colab": {
   "authorship_tag": "ABX9TyNkC8ymxPJtajfN4wyH10X8",
   "collapsed_sections": [],
   "name": "learn-about-string-transformations-solutions-extra.ipynb",
   "private_outputs": true,
   "provenance": []
  },
  "kernelspec": {
   "display_name": "Python 3",
   "language": "python",
   "name": "python3"
  },
  "language_info": {
   "codemirror_mode": {
    "name": "ipython",
    "version": 3
   },
   "file_extension": ".py",
   "mimetype": "text/x-python",
   "name": "python",
   "nbconvert_exporter": "python",
   "pygments_lexer": "ipython3",
   "version": "3.9.0"
  }
 },
 "nbformat": 4,
 "nbformat_minor": 1
}
