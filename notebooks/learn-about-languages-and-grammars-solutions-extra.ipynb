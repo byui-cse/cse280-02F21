{
 "cells": [
  {
   "cell_type": "markdown",
   "metadata": {
    "id": "89GCdwPteJDK"
   },
   "source": [
    "# <font color=blue>Learn About Languages and Grammars</font>\n",
    "## <font color=blue>Solutions Extra</font>"
   ]
  },
  {
   "cell_type": "markdown",
   "metadata": {
    "id": "67u3RTAuffZ1"
   },
   "source": [
    "## <font color=red>**HINT** for Task 2</font>"
   ]
  },
  {
   "cell_type": "markdown",
   "metadata": {},
   "source": [
    "Look at these 8-character strings as 4 2-character strings concatenated together.\n",
    "\n",
    "That should jog students' memories about finding shortest paths in the USA graph, because all the 2-character strings are state abbreviations. The language is the set of valid length-3 paths in that graph, where the paths' node labels have been concatenated to create a single string.\n",
    "\n",
    "So, for example, the string `CAAZUTWY` is in the language because there is a path from California to Arizona to Utah to Wyoming. Likewise, the string `IDFLGANY` is not in the language because **there is no path** from Idaho to Florida to Georgia to New York."
   ]
  }
 ],
 "metadata": {
  "colab": {
   "authorship_tag": "ABX9TyOCDngyditrgtEQMgN9lB0v",
   "collapsed_sections": [],
   "name": "learn-about-languages-and-grammars-solutions-extra.ipynb",
   "private_outputs": true,
   "provenance": []
  },
  "kernelspec": {
   "display_name": "Python 3",
   "language": "python",
   "name": "python3"
  },
  "language_info": {
   "codemirror_mode": {
    "name": "ipython",
    "version": 3
   },
   "file_extension": ".py",
   "mimetype": "text/x-python",
   "name": "python",
   "nbconvert_exporter": "python",
   "pygments_lexer": "ipython3",
   "version": "3.9.0"
  }
 },
 "nbformat": 4,
 "nbformat_minor": 1
}
