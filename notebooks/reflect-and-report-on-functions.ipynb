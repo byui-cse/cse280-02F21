{
 "cells": [
  {
   "cell_type": "markdown",
   "metadata": {
    "id": "KT0iXo3MJ9Mn"
   },
   "source": [
    "# <font color=blue>Reflect and Report on Functions</font>\n",
    "## <font color=blue>Prepare</font>"
   ]
  },
  {
   "cell_type": "markdown",
   "metadata": {
    "id": "ppJRJULvhQBR"
   },
   "source": [
    "## <font color=red>Instructions</font>"
   ]
  },
  {
   "cell_type": "markdown",
   "metadata": {
    "id": "aBfu5dbThSx7"
   },
   "source": [
    "As you reflect and report on your Learning about Sets and Logic this week, keep in mind there are a lot of assertions to answer.\n",
    "\n",
    "Please don't stretch the truth --- if you didn't look at a document **and study it for several seconds, or better, minutes**, then don't say you did.\n",
    "\n",
    "Likewise, if you didn't tackle (grapple with, seek to solve) something, don't say you did. Your conscience will thank you!"
   ]
  },
  {
   "cell_type": "markdown",
   "metadata": {
    "id": "hiKnE6eOKQKH"
   },
   "source": [
    "## <font color=red>Access</font>"
   ]
  },
  {
   "cell_type": "markdown",
   "metadata": {
    "id": "I4m2e_YNKUiz"
   },
   "source": [
    "[Take the Self-Assessment](https://byui.instructure.com/courses/149380/quizzes/2724867)"
   ]
  }
 ],
 "metadata": {
  "colab": {
   "authorship_tag": "ABX9TyNCYo+xIHcTNuxwBInJGnCH",
   "name": "reflect-and-report-on-functions.ipynb",
   "private_outputs": true,
   "provenance": []
  },
  "kernelspec": {
   "display_name": "Python 3",
   "language": "python",
   "name": "python3"
  },
  "language_info": {
   "codemirror_mode": {
    "name": "ipython",
    "version": 3
   },
   "file_extension": ".py",
   "mimetype": "text/x-python",
   "name": "python",
   "nbconvert_exporter": "python",
   "pygments_lexer": "ipython3",
   "version": "3.9.0"
  }
 },
 "nbformat": 4,
 "nbformat_minor": 1
}
