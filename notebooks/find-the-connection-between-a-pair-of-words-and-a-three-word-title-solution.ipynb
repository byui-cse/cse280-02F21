{
 "cells": [
  {
   "cell_type": "markdown",
   "metadata": {
    "id": "k5fTTSexPWDN"
   },
   "source": [
    "# <font color=blue>Find the Connection Between a Pair of Words and a Three-Word Title</font>\n",
    "## <font color=blue>Solution</font>"
   ]
  },
  {
   "cell_type": "markdown",
   "metadata": {
    "id": "UXG2QI0mPdqj"
   },
   "source": [
    "The letters involved in the [READILY -> REALITY](https://byui-cse.github.io/cse280-course/rr.html) transformation are D, L, and T.\n",
    "\n",
    "These are the 4th, 12th, and 20th letters of the alphabet (counting from 1, not 0).\n",
    "\n",
    "The number 4, 12, and 20 are the 1st, 3rd, and 5th multiples of 4.\n",
    "\n",
    "1, 3, and 5 are the [First Three Odds](https://firstthreeodds.org)."
   ]
  },
  {
   "cell_type": "code",
   "execution_count": null,
   "metadata": {
    "id": "xZKajT0qQ1wh"
   },
   "outputs": [],
   "source": [
    "# D->L\n",
    "# L->T\n",
    "D, L, T = 4, 12, 20\n",
    "print(list(map(lambda n: n // 4, [D, L, T])))"
   ]
  }
 ],
 "metadata": {
  "colab": {
   "authorship_tag": "ABX9TyP2nF/OhaaKiUfhZRxXaNvU",
   "name": "Solution to Find the Connection Between a Pair of Words and a Three-Word Title.ipynb",
   "private_outputs": true,
   "provenance": []
  },
  "kernelspec": {
   "display_name": "Python 3",
   "language": "python",
   "name": "python3"
  },
  "language_info": {
   "codemirror_mode": {
    "name": "ipython",
    "version": 3
   },
   "file_extension": ".py",
   "mimetype": "text/x-python",
   "name": "python",
   "nbconvert_exporter": "python",
   "pygments_lexer": "ipython3",
   "version": "3.9.0"
  }
 },
 "nbformat": 4,
 "nbformat_minor": 1
}
