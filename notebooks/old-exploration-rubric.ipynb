{
 "cells": [
  {
   "cell_type": "markdown",
   "metadata": {
    "id": "fhm16ypazGic"
   },
   "source": [
    "# <font color=blue>Old Exploration Rubric</font>\n"
   ]
  },
  {
   "cell_type": "markdown",
   "metadata": {
    "id": "EBdIzK_HzJC5"
   },
   "source": [
    "## <font color=red>Explanation</font>\n"
   ]
  },
  {
   "cell_type": "markdown",
   "metadata": {
    "id": "FkbDQhkDzJwl"
   },
   "source": [
    "This rubric has four criteria each with four proficiency levels (ratings), and points to numerically weight them.\n",
    "\n",
    "Total Points: 100\n"
   ]
  },
  {
   "cell_type": "markdown",
   "metadata": {
    "id": "pnOsQ7YczK-e"
   },
   "source": [
    "|                      | **Exceptional (1)** | **Good (.9)**      | **Acceptable (.7)** | **Developing (.5)**  | **Missing (0)** |\n",
    "|----------------------|---------------------|--------------------|---------------------|----------------------|-----------------|\n",
    "| **Application**      | Acquired new        | Acquired new       | Acquired new        | Acquired new         | No application  |\n",
    "| **30%**              | knowledge and       | knowledge and      | knowledge and       | knowledge and        | of anything     |\n",
    "| Using what           | figured out how     | figured out how    | figured out how     | figured out how      | learned.        |\n",
    "| you&rsquo;ve learned.| it applies.         | it applies.        | it applies.         | it applies.          |                 |\n",
    "|                      | Write-up makes      | Write-up explains  | Write-up explains   | However, write-up    |                 |\n",
    "|                      | that crystal clear. | how it happened    | how it happened     | does not explain     |                 |\n",
    "|                      |                     | (more than once)   | (once)              | how the **figuring** |                 |\n",
    "|                      |                     | but not why.       | but not why.        | **out** process      |                 |\n",
    "|                      |                     |                    |                     | happened, only that  |                 |\n",
    "|                      |                     |                    |                     | it did.              |                 |\n",
    "|                      |                     |                    |                     |                      |                 |\n",
    "| **Correctness/**     | Good, plus your     | Acceptable, plus   | Submitted code      | Submitted code       | No code.        |\n",
    "| **Completeness**     | write-up includes a | your code does     | correctly computes  | does something, but  |                 |\n",
    "| **30%**              | **proof** of the    | verify the         | the right thing,    | not the right thing. |                 |\n",
    "|                      | conjecture, not     | conjecture for     | but does little     | It makes no sense.   |                 |\n",
    "|                      | just a verification | many, many, many   | else.               |                      |                 |\n",
    "|                      | of it.              | positive integers. |                     |                      |                 |\n",
    "|                      |                     |                    |                     |                      |                 |\n",
    "| **Engagement**       | All-out effort,     | Effort and results | Less than whole-    | Effort lacks luster, | Achieved only   |\n",
    "| **30%**              | complete engagement | shine brighter and | hearted effort,     | but results show     | Developing or   |\n",
    "|                      | with the letter and | stronger such that | but more than       | promise.             | worse           |\n",
    "|                      | the spirit of this  | engagement is      | ho-hum results.     |                      | Application and |\n",
    "|                      | exploration.        | unquestionable.    |                     |                      | Correctness/    |\n",
    "|                      |                     |                    |                     |                      | Completeness.   |\n",
    "|                      |                     |                    |                     |                      |                 |\n",
    "| **Mechanics**        | Zero MIs found.     | One or two         | Three or four       | Five or six          | Seven or more   |\n",
    "| **10%**              |                     | MIs found.         | MIs found.          | MIs found.           | MIs found.      |\n"
   ]
  }
 ],
 "metadata": {
  "colab": {
   "authorship_tag": "ABX9TyP8vfsHl4JOj3Go0UBSdWFR",
   "name": "old-exploration-rubric.ipynb",
   "private_outputs": true,
   "provenance": []
  },
  "kernelspec": {
   "display_name": "Python 3",
   "language": "python",
   "name": "python3"
  },
  "language_info": {
   "codemirror_mode": {
    "name": "ipython",
    "version": 3
   },
   "file_extension": ".py",
   "mimetype": "text/x-python",
   "name": "python",
   "nbconvert_exporter": "python",
   "pygments_lexer": "ipython3",
   "version": "3.9.0"
  }
 },
 "nbformat": 4,
 "nbformat_minor": 1
}
