{
 "cells": [
  {
   "cell_type": "markdown",
   "source": [
    "# <font color=blue>Chapter 3 Functions Exercises</font>\n",
    "## <font color=blue>Prepare</font>"
   ],
   "metadata": {
    "id": "TnVHqhsGXNRo"
   }
  },
  {
   "cell_type": "markdown",
   "source": [
    "[Chapter 3 Functions Code in Figures](https://colab.research.google.com/github/byui-cse/cse280-course-notebooks/blob/main/notebooks/chapter-3-functions-code-in-figures.ipynb)"
   ],
   "metadata": {
    "id": "KF0ix4VU60tQ"
   }
  },
  {
   "cell_type": "markdown",
   "source": [
    "## <font color=red>3.2 A Plethora of Terms</font>"
   ],
   "metadata": {
    "id": "yAbrb0Rjw5PN"
   }
  },
  {
   "cell_type": "markdown",
   "source": [
    "### Exercise 3.2.1"
   ],
   "metadata": {
    "id": "Ps9VWGU6w5PO"
   }
  },
  {
   "cell_type": "markdown",
   "source": [
    "What is the codomain of the function whose domain is $\\mathbb{Z}^{+}$ and whose output is the square root of its input?\n"
   ],
   "metadata": {
    "id": "8Utd8McNw5PO"
   }
  },
  {
   "cell_type": "code",
   "execution_count": null,
   "source": [
    "#@title Hint {display-mode: \"form\"}\r\n",
    "print('''\r\n",
    "Think about the square root of 2, for example.\r\n",
    "''')"
   ],
   "outputs": [],
   "metadata": {
    "id": "mTbD83STWV66"
   }
  },
  {
   "cell_type": "code",
   "execution_count": null,
   "source": [
    "#@title Answer {display-mode: \"form\"}\r\n",
    "print('''\r\n",
    "The codomain would have to be $\\mathbb{R}^{+}$ to accommodate square roots of integers\r\n",
    "that are irrational numbers.\r\n",
    "''')"
   ],
   "outputs": [],
   "metadata": {
    "id": "42a7AycOWWfS"
   }
  },
  {
   "cell_type": "markdown",
   "source": [
    "### Exercise 3.2.2"
   ],
   "metadata": {
    "id": "jRJibkLXjpXj"
   }
  },
  {
   "cell_type": "markdown",
   "source": [
    "Look up the definitions of the following Python builtin functions and describe their domains, codomains, and arities:\n",
    "* ```abs```\n",
    "* ```chr```\n",
    "* ```int```\n",
    "* ```len```\n",
    "* ```pow```\n"
   ],
   "metadata": {
    "id": "Su8CI4H8jpXo"
   }
  },
  {
   "cell_type": "code",
   "execution_count": null,
   "source": [
    "#@title Hint {display-mode: \"form\"}\r\n",
    "'''\r\n",
    "These are not just sets of numbers.\r\n",
    "'''"
   ],
   "outputs": [],
   "metadata": {
    "id": "8qYBnA_IjpXp"
   }
  },
  {
   "cell_type": "code",
   "execution_count": null,
   "source": [
    "#@title Answer {display-mode: \"form\"}\r\n",
    "print('''\r\n",
    "| Function | Domain | Codomain | Arity |\r\n",
    "|----------|--------|----------|-------|\r\n",
    "| abs      | Numbers| Nonnegative Numbers | 1 |\r\n",
    "| chr      | Numbers between 0 and 0x10ffff | a Unicode string of one character | 1 |\r\n",
    "| int      | Numbers or Strings | Integers | 1 |\r\n",
    "| len      | Containers | Nonnegative Numbers | 1 |\r\n",
    "| pow      | Numbers | Numbers | 2 or 3 |\r\n",
    "''')"
   ],
   "outputs": [],
   "metadata": {
    "id": "yfQ8hvpijpXq"
   }
  },
  {
   "cell_type": "markdown",
   "source": [
    "### Exercise 3.2.3"
   ],
   "metadata": {
    "id": "X9B52x0hnUXK"
   }
  },
  {
   "cell_type": "markdown",
   "source": [
    "The notation $f : D \\longrightarrow C$ is the math &ldquo;signature&rdquo; for a function $f$ that takes its domain $D$ to its codomain $C$. The sets $D$ and $C$ can be the same set or different sets. Which of the five Python builtin functions in Exercise 3.2.2 best matches the function signature $f : \\mathbb{Z} \\longrightarrow \\mathbb{N}$?\n"
   ],
   "metadata": {
    "id": "_8bO22-DnUXL"
   }
  },
  {
   "cell_type": "code",
   "execution_count": null,
   "source": [
    "#@title Hint {display-mode: \"form\"}\r\n",
    "'''\r\n",
    "Eliminate any functions whose domain or codomain is not a number-type set.\r\n",
    "'''"
   ],
   "outputs": [],
   "metadata": {
    "id": "SvXG8ClhnUXM"
   }
  },
  {
   "cell_type": "code",
   "execution_count": null,
   "source": [
    "#@title Answer {display-mode: \"form\"}\r\n",
    "'''\r\n",
    "The ```abs``` function is the one that matches best. Integers' absolute values are natural numbers.\r\n",
    "'''"
   ],
   "outputs": [],
   "metadata": {
    "id": "P-7g_rrSnUXM"
   }
  },
  {
   "cell_type": "markdown",
   "source": [
    "### Exercise 3.2.4"
   ],
   "metadata": {
    "id": "8cx3U_DvoFg7"
   }
  },
  {
   "cell_type": "markdown",
   "source": [
    "[Wiktionary defines codomain](https://en.wiktionary.org/wiki/codomain) as:\n",
    "> The target set into which a function is formally defined to map elements of its domain; the set denoted Y in the notation $f : X \\longrightarrow Y$.\n",
    "\n",
    "[Wolfram MathWorld defines codomain](https://mathworld.wolfram.com/Codomain.html) as:\n",
    "> A set within which the values of a function lie (as opposed to the range, which is the set of values that the function actually takes).\n",
    "\n",
    "The (two-part) question is: Why bother with the term *codomain* at all? Why not just use *range*?\n",
    "\n"
   ],
   "metadata": {
    "id": "gK-4W21aoFg8"
   }
  },
  {
   "cell_type": "code",
   "execution_count": null,
   "source": [
    "#@title Hint {display-mode: \"form\"}\r\n",
    "'''\r\n",
    "The question is asking for an opinion --- there's no one right answer.\r\n",
    "'''"
   ],
   "outputs": [],
   "metadata": {
    "id": "O1UNyzfqoFg9"
   }
  },
  {
   "cell_type": "code",
   "execution_count": null,
   "source": [
    "#@title Answer {display-mode: \"form\"}\r\n",
    "'''\r\n",
    "What do YOU think?\r\n",
    "'''"
   ],
   "outputs": [],
   "metadata": {
    "id": "veFMXUuFoFg9"
   }
  },
  {
   "cell_type": "markdown",
   "source": [
    "### Exercise 3.2.5"
   ],
   "metadata": {
    "id": "Czt1hdoZo8pm"
   }
  },
  {
   "cell_type": "markdown",
   "source": [
    "More recent books don't use the term &ldquo;range&rdquo; at all, instead preferring which other word?\n"
   ],
   "metadata": {
    "id": "tal_k7Sko8pn"
   }
  },
  {
   "cell_type": "code",
   "execution_count": null,
   "source": [
    "#@title Hint {display-mode: \"form\"}\r\n",
    "'''\r\n",
    "A little research will reveal it.\r\n",
    "'''"
   ],
   "outputs": [],
   "metadata": {
    "id": "6zZISmUwo8po"
   }
  },
  {
   "cell_type": "code",
   "execution_count": null,
   "source": [
    "#@title Answer {display-mode: \"form\"}\r\n",
    "'''\r\n",
    "The term \"image\" is used as the name of the set of all of\r\n",
    "a function's individual **images**,\r\n",
    "as defined in Section 3.3.\r\n",
    "'''"
   ],
   "outputs": [],
   "metadata": {
    "id": "BDBeerzZo8pp"
   }
  },
  {
   "cell_type": "markdown",
   "source": [
    "## <font color=red>3.5 Mix and Match</font>"
   ],
   "metadata": {
    "id": "fBouumi6Ej4J"
   }
  },
  {
   "cell_type": "markdown",
   "source": [
    "### Exercise 3.5.1"
   ],
   "metadata": {
    "id": "EddlWVIRs-XA"
   }
  },
  {
   "cell_type": "markdown",
   "source": [
    "A function is one-to-one if and only if it is onto, *provided* its domain and codomain are the same size.\n",
    "\n",
    "Put this statement in symbolic form using the adjectives *injective* and *surjective*, and argue for its truth using the following formal definitions:\n",
    "\n",
    "Let $f$ be a function from domain $A$ to codomain $B$, $f : A \\longrightarrow B$.\n",
    "\n",
    "$f$ is *injective* means $f(m) \\ne f(n)$ whenever $m \\ne n$, for all $m \\in A$ and for all $n \\in A$.\n",
    "\n",
    "$f$ is *surjective* means for all $b \\in B$ there exists an $a \\in A$ such that $f(a) = b$.\n"
   ],
   "metadata": {
    "id": "VgnZsF5Gs7kC"
   }
  },
  {
   "cell_type": "code",
   "execution_count": null,
   "source": [
    "#@title Hint {display-mode: \"form\"}\r\n",
    "print(r'''\r\n",
    "The statement of the problem in symbolic form is:\r\n",
    "$\\vert A \\vert = \\vert B \\vert \\rightarrow$\r\n",
    "($f$ is injective $\\leftrightarrow$ $f$ is surjective).\r\n",
    "As a conditional, this is true unless the antecedent is \r\n",
    "true and the consequent is false. So you must argue that\r\n",
    "given the equality $\\vert A \\vert = \\vert B \\vert$,\r\n",
    "it *must be true* that the function $f$ is injective\r\n",
    "if it is surjective, and it is surjective if it is\r\n",
    "injective. Reason so as to reject an absurd conclusion\r\n",
    "if it would contradict the premise that sets $A$ and $B$\r\n",
    "are the same size.\r\n",
    "''')"
   ],
   "outputs": [],
   "metadata": {
    "id": "o9VkcOMhs-XD"
   }
  },
  {
   "cell_type": "code",
   "execution_count": null,
   "source": [
    "#@title Answer {display-mode: \"form\"}\r\n",
    "print(r'''\r\n",
    "If $f$ is one-to-one, then every element of $A$ maps to a\r\n",
    "different element of $B$. If we added to the range of $A$\r\n",
    "another element in $B$, then $\\vert B \\vert$ would be at\r\n",
    "least one greater than $\\vert A \\vert$.\r\n",
    "\r\n",
    "This is impossible, so $f$ must be onto.\r\n",
    "\r\n",
    "If $f$ is onto, every element of $B$ is the image of some\r\n",
    "element of $A$. So there must be an element of $A$ for\r\n",
    "each element of $B$. If two or more elements of $A$\r\n",
    "mapped to the same element of $B$, then $\\vert A \\vert$\r\n",
    "would be at least one more than $\\vert B \\vert$,\r\n",
    "which also cannot be the case.\r\n",
    "\r\n",
    "So $f$ must be one-to-one as well.\r\n",
    "''')"
   ],
   "outputs": [],
   "metadata": {
    "id": "Hdj-iZxDs-XE"
   }
  },
  {
   "cell_type": "markdown",
   "source": [
    "## <font color=red>3.10.1 Floor and Ceiling</font>\n"
   ],
   "metadata": {
    "id": "_7lCAQlzK4NE"
   }
  },
  {
   "cell_type": "markdown",
   "source": [
    "### Exercise 3.10.1.1"
   ],
   "metadata": {
    "id": "eBKeX7VeLJER"
   }
  },
  {
   "cell_type": "markdown",
   "source": [
    "Define the &ldquo;take the fractional part of&rdquo; function ```fracpart``` in terms of ```floor``` as follows:"
   ],
   "metadata": {
    "id": "01tCtdJQLJES"
   }
  },
  {
   "cell_type": "code",
   "execution_count": null,
   "source": [
    "from math import floor\r\n",
    "\r\n",
    "def fracpart(number):\r\n",
    "  return number - floor(number)"
   ],
   "outputs": [],
   "metadata": {
    "id": "Wy0AnYhxza0L"
   }
  },
  {
   "cell_type": "markdown",
   "source": [
    "For example:"
   ],
   "metadata": {
    "id": "YlbtsnGqzflT"
   }
  },
  {
   "cell_type": "code",
   "execution_count": null,
   "source": [
    "fracpart(3.14159) # should be 0.14158999999999988"
   ],
   "outputs": [],
   "metadata": {
    "id": "scninqp8zhp1"
   }
  },
  {
   "cell_type": "markdown",
   "source": [
    "Suppose ```fracpart``` were the primitive, builtin function. How would you define ```floor``` (assuming it were *not* builtin) using ```fracpart```?"
   ],
   "metadata": {
    "id": "YkQZWqFbztzS"
   }
  },
  {
   "cell_type": "code",
   "execution_count": null,
   "source": [
    "#@title Hint {display-mode: \"form\"}\r\n",
    "'''\r\n",
    "Be careful, the ```fracpart``` function as defined gives the wrong\r\n",
    "answer for negative numbers.\r\n",
    "'''"
   ],
   "outputs": [],
   "metadata": {
    "id": "p7QASu27LJES"
   }
  },
  {
   "cell_type": "code",
   "execution_count": null,
   "source": [
    "#@title Answer {display-mode: \"form\"}\r\n",
    "'''But the caution in the hint doesn't matter ---\r\n",
    "after subtracting ```fracpart(x)``` from ```x```\r\n",
    "and calling ```int``` to make it an integer,\r\n",
    "you get the right answer regardless. Try it!\r\n",
    "'''\r\n",
    "def myfloor(x):\r\n",
    "  return int(x - fracpart(x))\r\n",
    "\r\n",
    "myfloor(-3.14)"
   ],
   "outputs": [],
   "metadata": {
    "id": "d6vB5vFaLJES"
   }
  },
  {
   "cell_type": "markdown",
   "source": [
    "### Exercise 3.10.1.2"
   ],
   "metadata": {
    "id": "nhq93c4k1GZ9"
   }
  },
  {
   "cell_type": "markdown",
   "source": [
    "The floor of $x$ is denoted $\\lfloor x \\rfloor$, and the ceiling of $x$ is denoted $\\lceil x \\rceil$.\n",
    "\n",
    "Graph these functions $f(x) = \\lfloor x \\rfloor$ and $c(x) = \\lceil x \\rceil$ for real number values of $x$ in the interval from -5.0 to 5.0, inclusive.\n"
   ],
   "metadata": {
    "id": "sKzxNp3u1GZ9"
   }
  },
  {
   "cell_type": "code",
   "execution_count": null,
   "source": [
    "#@title Hint {display-mode: \"form\"}\r\n",
    "print('''\r\n",
    "A tool like [Desmos](https://www.desmos.com/calculator)\r\n",
    "is your friend here. You could also learn how to use matplotlib.\r\n",
    "''')"
   ],
   "outputs": [],
   "metadata": {
    "id": "0I4HdTtq1GZ-"
   }
  },
  {
   "cell_type": "code",
   "execution_count": null,
   "source": [
    "#@title Answer {display-mode: \"form\"}\r\n",
    "\r\n",
    "# This is one way to graph these functions using matplotlib\r\n",
    "# But you should first try to graph them by hand to \r\n",
    "# get an intuitive feel for what the graph should look like.\r\n",
    "import matplotlib.pyplot as plt\r\n",
    "import numpy\r\n",
    "from math import ceil\r\n",
    "from math import floor\r\n",
    "\r\n",
    "# range() returns integers only, so we need a way\r\n",
    "# to approximate some decimal places\r\n",
    "x = [x/100 for x in range(-500,501)] # -5.00, -4.99, -4.98, ..., 4.98, 4.99, 5.00\r\n",
    "\r\n",
    "# Apply the floor() function to each element in x\r\n",
    "y_floor = [*map(floor,x)]\r\n",
    "\r\n",
    "# Apply the ceil() function to each element in x\r\n",
    "y_ceil = [*map(ceil,x)]\r\n",
    "\r\n",
    "# Set up x,y axis marks\r\n",
    "ticks = numpy.arange(-5, 5, 1)\r\n",
    "plt.xticks(ticks)\r\n",
    "plt.yticks(ticks)\r\n",
    "\r\n",
    "# Plot each graph\r\n",
    "plt.plot(x, y_floor)\r\n",
    "plt.plot(x, y_ceil)\r\n",
    "\r\n",
    "# Display the graph\r\n",
    "plt.show()"
   ],
   "outputs": [],
   "metadata": {
    "id": "HH40bskg1GZ_"
   }
  },
  {
   "cell_type": "markdown",
   "source": [
    "### Exercise 3.10.1.3"
   ],
   "metadata": {
    "id": "pXjZSuhN10t6"
   }
  },
  {
   "cell_type": "markdown",
   "source": [
    "Which of these statements about floor and ceiling are correct, for any real number $x$ and any integers $n$ and $m$?\n",
    "\n",
    "1. $x - 1 < \\lfloor{}x\\rfloor \\le x \\le \\lceil{}x\\rceil < x + 1$.\n",
    "2. $\\lfloor{}-x\\rfloor = -\\lceil{}x\\rceil$.\n",
    "3. $\\lceil{}-x\\rceil = -\\lfloor{}x\\rfloor$.\n",
    "4. $\\lfloor{}x + n\\rfloor = \\lfloor{}x\\rfloor + n$.\n",
    "5. $\\lceil{}x + n\\rceil = \\lceil{}x\\rceil + n$.\n",
    "6. $\\lfloor{}\\frac{n}{2}\\rfloor + \\lceil{}\\frac{n}{2}\\rceil = n$.\n",
    "7. $\\lfloor{}\\frac{n}{2}\\rfloor + \\lfloor{}\\frac{n + 1}{2}\\rfloor = n$.\n",
    "8. $\\lceil{}\\frac{n}{2}\\rceil + \\lceil{}\\frac{n + 1}{2}\\rceil = n$.\n",
    "9. $\\lfloor{}\\frac{n + m}{2}\\rfloor + \\lfloor{}\\frac{n - m + 1}{2}\\rfloor = n$ (for any $m$, not just $m = 0$ as in statement 7).\n",
    "10. $\\lceil{}\\frac{n + m}{2}\\rceil + \\lceil{}\\frac{n - m + 1}{2}\\rceil = n$ (for any $m$, not just $m = 0$ as in statement 8).\n"
   ],
   "metadata": {
    "id": "ty_eBRyx10t6"
   }
  },
  {
   "cell_type": "code",
   "execution_count": null,
   "source": [
    "#@title Hint {display-mode: \"form\"}\r\n",
    "'''\r\n",
    "Write some code to help you decide. In Python,\r\n",
    "'''\r\n",
    "from math import floor, ceil\r\n",
    "'''\r\n",
    "are ready to serve.\r\n",
    "'''"
   ],
   "outputs": [],
   "metadata": {
    "id": "YaGI0qIf10t7"
   }
  },
  {
   "cell_type": "code",
   "execution_count": null,
   "source": [
    "#@title Answer {display-mode: \"form\"}\r\n",
    "'''\r\n",
    "The only ones that are incorrect are numbers 8 and 10.\r\n",
    "'''"
   ],
   "outputs": [],
   "metadata": {
    "id": "DomVKBdP10t7"
   }
  },
  {
   "cell_type": "markdown",
   "source": [
    "### Exercise 3.10.1.4"
   ],
   "metadata": {
    "id": "74_XOcLG21FA"
   }
  },
  {
   "cell_type": "markdown",
   "source": [
    "Define the function &ldquo;round to nearest integer&rdquo; using the floor and ceiling functions, together with the &ldquo;Iverson bracket&rdquo; function --- which you must define. A number whose fractional part is less than one-half should be rounded down, otherwise up."
   ],
   "metadata": {
    "id": "Wqo3wYMS21FB"
   }
  },
  {
   "cell_type": "code",
   "execution_count": null,
   "source": [
    "#@title Hint {display-mode: \"form\"}\n",
    "'''\n",
    "The Iverson bracket (search for which) function is a\n",
    "one-liner, don't overthink it.\n",
    "'''"
   ],
   "outputs": [],
   "metadata": {
    "id": "6D6jlLXP21FC"
   }
  },
  {
   "cell_type": "code",
   "execution_count": null,
   "source": [
    "#@title Answer {display-mode: \"form\"}\r\n",
    "'''\r\n",
    "Here is an implementation:\r\n",
    "'''\r\n",
    "from math import ceil, floor\r\n",
    "\r\n",
    "def Iverson_bracket(prop):\r\n",
    "  return 1 if prop else 0\r\n",
    "\r\n",
    "def round_to_nearest_integer(x):\r\n",
    "  if x < 0:\r\n",
    "    up = ceil(x)\r\n",
    "    return up - Iverson_bracket(up - x >= .5)\r\n",
    "  else:\r\n",
    "    down = floor(x)\r\n",
    "    return down + Iverson_bracket(x - down >= .5)\r\n",
    "\r\n",
    "round_to_nearest_integer(3.0) == 3 and \\\r\n",
    "round_to_nearest_integer(3.1) == 3 and \\\r\n",
    "round_to_nearest_integer(3.499) == 3 and \\\r\n",
    "round_to_nearest_integer(3.5) == 4 and \\\r\n",
    "round_to_nearest_integer(3.678) == 4 and \\\r\n",
    "round_to_nearest_integer(3.999) == 4 and \\\r\n",
    "round_to_nearest_integer(-3.0) == -3 and \\\r\n",
    "round_to_nearest_integer(-3.1) == -3 and \\\r\n",
    "round_to_nearest_integer(-3.499) == -3 and \\\r\n",
    "round_to_nearest_integer(-3.5) == -4 and \\\r\n",
    "round_to_nearest_integer(-3.678) == -4 and \\\r\n",
    "round_to_nearest_integer(-3.999) == -4"
   ],
   "outputs": [],
   "metadata": {
    "id": "V1VaDS7P21FD"
   }
  },
  {
   "cell_type": "markdown",
   "source": [
    "## <font color=red>3.10.2 Invert and Compose</font>\n"
   ],
   "metadata": {
    "id": "WwWaFQl7To06"
   }
  },
  {
   "cell_type": "markdown",
   "source": [
    "### Exercise 3.10.2.1"
   ],
   "metadata": {
    "id": "PyOAxvFWTo1B"
   }
  },
  {
   "cell_type": "markdown",
   "source": [
    "What conditions/restrictions must be placed on a function for it to have an inverse (be *invertible*)?"
   ],
   "metadata": {
    "id": "njWeoSHBTo1C"
   }
  },
  {
   "cell_type": "code",
   "execution_count": null,
   "source": [
    "#@title Hint {display-mode: \"form\"}\r\n",
    "'''\r\n",
    "A little research will fill the bill.\r\n",
    "'''"
   ],
   "outputs": [],
   "metadata": {
    "id": "IvVPXCNYTo1C"
   }
  },
  {
   "cell_type": "code",
   "execution_count": null,
   "source": [
    "#@title Answer {display-mode: \"form\"}\r\n",
    "'''\r\n",
    "For a function to be *invertible*\r\n",
    "it must be a *bijection*.\r\n",
    "'''"
   ],
   "outputs": [],
   "metadata": {
    "id": "Gvf1fjFmTo1D"
   }
  },
  {
   "cell_type": "markdown",
   "source": [
    "### Exercise 3.10.2.2"
   ],
   "metadata": {
    "id": "5PtpwR4M-izD"
   }
  },
  {
   "cell_type": "markdown",
   "source": [
    "Write code in the same fashion as Ila's in Figure 3.22 to demonstrate the non-commutativity of the composition of two functions of your own choosing."
   ],
   "metadata": {
    "id": "GfxupEhR-izF"
   }
  },
  {
   "cell_type": "code",
   "execution_count": null,
   "source": [
    "#@title Hint {display-mode: \"form\"}\r\n",
    "'''\r\n",
    "Make them simple functions,\r\n",
    "but different enough to make a difference.\r\n",
    "'''"
   ],
   "outputs": [],
   "metadata": {
    "id": "-yjVsp4X-izG"
   }
  },
  {
   "cell_type": "code",
   "execution_count": null,
   "source": [
    "#@title Answer {display-mode: \"form\"}\r\n",
    "'''\r\n",
    "Your call.\r\n",
    "'''"
   ],
   "outputs": [],
   "metadata": {
    "id": "iVlU7eeQ-izH"
   }
  },
  {
   "cell_type": "markdown",
   "source": [
    "## <font color=red>3.10.4 Arithmetic and Geometric Progressions</font>"
   ],
   "metadata": {
    "id": "G0ZcP419wu6u"
   }
  },
  {
   "cell_type": "markdown",
   "source": [
    "### Exercise 3.10.4.1"
   ],
   "metadata": {
    "id": "6baSyPY9w5Eg"
   }
  },
  {
   "cell_type": "markdown",
   "source": [
    "What is the $a$ (starting value) and the $d$ (delta, or increment) for the infinite sequence [7, 14, 21, 28, 35, 42, 49, 56, 63, 70, ...]?\n"
   ],
   "metadata": {
    "id": "tna26j3fw5Eg"
   }
  },
  {
   "cell_type": "code",
   "execution_count": null,
   "source": [
    "#@title Hint {display-mode: \"form\"}\r\n",
    "'''\r\n",
    "Take the difference between any term and the one\r\n",
    "before it to get $d$. It should be obvious what $a$ is.\r\n",
    "'''"
   ],
   "outputs": [],
   "metadata": {
    "id": "TxOlkNQbw5Eh"
   }
  },
  {
   "cell_type": "code",
   "execution_count": null,
   "source": [
    "#@title Answer {display-mode: \"form\"}\r\n",
    "'''\r\n",
    "The starting value is 7, the delta is also 7.\r\n",
    "'''"
   ],
   "outputs": [],
   "metadata": {
    "id": "i-fagZ0Xw5Eh"
   }
  },
  {
   "cell_type": "markdown",
   "source": [
    "### Exercise 3.10.4.2"
   ],
   "metadata": {
    "id": "qu3KiPEf0AvC"
   }
  },
  {
   "cell_type": "markdown",
   "source": [
    "What is the $a$ (starting value) and the $r$ (ratio) for the infinite sequence [6, 12, 24, 48, 96, 192, 384, 768, 1536, 3072, ...]?\n"
   ],
   "metadata": {
    "id": "GplkPshG0AvE"
   }
  },
  {
   "cell_type": "code",
   "execution_count": null,
   "source": [
    "#@title Hint {display-mode: \"form\"}\r\n",
    "'''\r\n",
    "Take not the difference between two consecutive terms\r\n",
    "but their what?\r\n",
    "'''"
   ],
   "outputs": [],
   "metadata": {
    "id": "hBNEq2f20AvE"
   }
  },
  {
   "cell_type": "code",
   "execution_count": null,
   "source": [
    "#@title Answer {display-mode: \"form\"}\r\n",
    "'''\r\n",
    "a = 6, r = 12/6 = 2.\r\n",
    "'''"
   ],
   "outputs": [],
   "metadata": {
    "id": "wHVRL85x0AvF"
   }
  },
  {
   "cell_type": "markdown",
   "source": [
    "### Exercise 3.10.4.3"
   ],
   "metadata": {
    "id": "b3MsSaQY_w5I"
   }
  },
  {
   "cell_type": "markdown",
   "source": [
    "Using the ```range``` function, create an arithmetic progression that has a *negative* delta."
   ],
   "metadata": {
    "id": "2_bdvDDp_w5J"
   }
  },
  {
   "cell_type": "code",
   "execution_count": null,
   "source": [
    "#@title Hint {display-mode: \"form\"}\n",
    "'''\n",
    "And listify it to make it printable.\n",
    "'''"
   ],
   "outputs": [],
   "metadata": {
    "id": "67J8_qY9_w5J"
   }
  },
  {
   "cell_type": "code",
   "execution_count": null,
   "source": [
    "#@title Answer {display-mode: \"form\"}\n",
    "'''\n",
    "For example:\n",
    "'''\n",
    "list(range(3, -17, -4))"
   ],
   "outputs": [],
   "metadata": {
    "id": "0qtNi5-S_w5K"
   }
  },
  {
   "cell_type": "markdown",
   "source": [
    "### Exercise 3.10.4.4"
   ],
   "metadata": {
    "id": "4surzomG_xBT"
   }
  },
  {
   "cell_type": "markdown",
   "source": [
    "Is there a Python BIF that creates a *geometric* progression?"
   ],
   "metadata": {
    "id": "2IaJv3uS_xBT"
   }
  },
  {
   "cell_type": "code",
   "execution_count": null,
   "source": [
    "#@title Hint {display-mode: \"form\"}\r\n",
    "'''\r\n",
    "Have you found a good source\r\n",
    "of Python documentation yet?\r\n",
    "'''"
   ],
   "outputs": [],
   "metadata": {
    "id": "Vbv0kvvK_xBT"
   }
  },
  {
   "cell_type": "code",
   "execution_count": null,
   "source": [
    "#@title Answer {display-mode: \"form\"}\r\n",
    "'''\r\n",
    "No, there isn't. You can create one with a list\r\n",
    "comprehension, however:\r\n",
    "'''\r\n",
    "a = 2\r\n",
    "r = 3\r\n",
    "length = 7\r\n",
    "\r\n",
    "geometric = [a * r ** n for n in range(length)]\r\n",
    "print(geometric)"
   ],
   "outputs": [],
   "metadata": {
    "id": "GibBfa8A_xBU"
   }
  },
  {
   "cell_type": "markdown",
   "source": [
    "### Exercise 3.10.4.5"
   ],
   "metadata": {
    "id": "6gRyuluc_xHV"
   }
  },
  {
   "cell_type": "markdown",
   "source": [
    "Many, *many* other types of sequences exist. For example, identify the formula or rule that generates the terms of each of the following sequences:\n",
    "1. [3, 4, 6, 9, 13, 18, 24, 31, 39, 48, ...]\n",
    "2. [1, 10, 11, 100, 101, 110, 111, 1000, 1001, 1010, ...]\n",
    "3. [1, 1, 2, 3, 5, 8, 13, 21, 34, 55, ...]\n",
    "4. [7, 22, 11, 34, 17, 52, 26, 13, 40, 20, ...]\n",
    "5. [2, 1, 3, 4, 7, 11, 18, 29, 47, 76, ...]\n",
    "6. [3, 5, 7, 11, 13, 17, 19, 23, 29, ...]"
   ],
   "metadata": {
    "id": "AqJ0Imto_xHW"
   }
  },
  {
   "cell_type": "code",
   "execution_count": null,
   "source": [
    "#@title Hint {display-mode: \"form\"}\r\n",
    "'''\r\n",
    "1. Try subtracting each term from the one before it.\r\n",
    "2. Treat each number as a binary number and convert\r\n",
    "   it to a decimal number.\r\n",
    "3. Starting with the third term, look at the differences\r\n",
    "   between each term and its predecessor.\r\n",
    "   Compare those differences with the original sequence.\r\n",
    "4. Differences won't help here. Look at the next term\r\n",
    "   when the current term is even, versus when it is odd.\r\n",
    "   This should ring a bell!\r\n",
    "5. Compare this with the 3rd sequence.\r\n",
    "6. Notice anything odd about these numbers?!\r\n",
    "'''"
   ],
   "outputs": [],
   "metadata": {
    "id": "uDrcDm7X_xHW"
   }
  },
  {
   "cell_type": "code",
   "execution_count": null,
   "source": [
    "#@title Answer {display-mode: \"form\"}\r\n",
    "'''\r\n",
    "1. The rule is, start with three, then add a\r\n",
    "   number to each term to get the next term,\r\n",
    "   where the number starts at one and increases\r\n",
    "   by one each time.\r\n",
    "2. This is the sequence [1, 2, 3, 4, ...] in binary.\r\n",
    "3. This is (one version) of the Fibonacci sequence.\r\n",
    "4. If the number is odd, multiply it by 3 and add 1.\r\n",
    "   If it is even, divide it by 2.\r\n",
    "5. The rule for this one is just like the rule for\r\n",
    "   the Fibonacci sequence, but this one starts with 2\r\n",
    "   instead of 1. It is called the Lucas sequence.\r\n",
    "6. These are the odd primes.\r\n",
    "'''"
   ],
   "outputs": [],
   "metadata": {
    "id": "DjxPgSV-_xHX"
   }
  },
  {
   "cell_type": "markdown",
   "source": [
    "### Exercise 3.10.4.6"
   ],
   "metadata": {
    "id": "E4u3HgEE_xNU"
   }
  },
  {
   "cell_type": "markdown",
   "source": [
    "Sequences can be non-numeric as well. What is the pattern for the sequence\n",
    "\n",
    "```[f, t, o, d, h, d, r, fi, th, od, do, ha, di, re, fir, thr, ...]```?\n",
    "\n",
    "How long can it continue?\n"
   ],
   "metadata": {
    "id": "Al344RPO_xNU"
   }
  },
  {
   "cell_type": "code",
   "execution_count": null,
   "source": [
    "#@title Hint {display-mode: \"form\"}\n",
    "'''\n",
    "Don't think too hard about this.\n",
    "'''"
   ],
   "outputs": [],
   "metadata": {
    "id": "9Kf2qCrY_xNU"
   }
  },
  {
   "cell_type": "code",
   "execution_count": null,
   "source": [
    "#@title Answer {display-mode: \"form\"}\r\n",
    "'''\r\n",
    "The pattern is that every group of seven \"words\" after\r\n",
    "the first has one-letter-longer-words than the previous\r\n",
    "group, such that eventually a group will (partially)\r\n",
    "spell out the title and subtitle of the book.\r\n",
    "\r\n",
    "It can continue until the shortest word (\"odds\") is\r\n",
    "completely spelled out.\r\n",
    "'''"
   ],
   "outputs": [],
   "metadata": {
    "id": "vmeCg3k5_xNU"
   }
  },
  {
   "cell_type": "markdown",
   "source": [
    "### Exercise 3.10.4.7"
   ],
   "metadata": {
    "id": "5qAMuY1m_xhv"
   }
  },
  {
   "cell_type": "markdown",
   "source": [
    "How many solutions are there in single-digit integers (positive or negative) to the equation $3x + 4y = 7$?"
   ],
   "metadata": {
    "id": "dTEsSh1A_xhv"
   }
  },
  {
   "cell_type": "code",
   "execution_count": null,
   "source": [
    "#@title Hint {display-mode: \"form\"}\r\n",
    "'''\r\n",
    "Use the range function with a nested loop.\r\n",
    "'''"
   ],
   "outputs": [],
   "metadata": {
    "id": "Ncyqi66U_xhv"
   }
  },
  {
   "cell_type": "code",
   "execution_count": null,
   "source": [
    "#@title Answer {display-mode: \"form\"}\r\n",
    "'''\r\n",
    "There are five solutions:\r\n",
    "'''\r\n",
    "for x in range(-9, 10):\r\n",
    "  for y in range(-9, 10):\r\n",
    "    if 3 * x + 4 * y == 7:\r\n",
    "      print(x, y)"
   ],
   "outputs": [],
   "metadata": {
    "id": "yE-lWcsC_xhw"
   }
  },
  {
   "cell_type": "markdown",
   "source": [
    "### Exercise 3.10.4.8"
   ],
   "metadata": {
    "id": "mfsKZ123IjHq"
   }
  },
  {
   "cell_type": "markdown",
   "source": [
    "How many pairs of numbers each taken from the set $\\{2, 3, 4, 5, 6, 7\\}$ that when multiplied together equal one more than a multiple of 9 are there?"
   ],
   "metadata": {
    "id": "voa9ZJN4IjHu"
   }
  },
  {
   "cell_type": "code",
   "execution_count": null,
   "source": [
    "#@title Hint {display-mode: \"form\"}\n",
    "'''\n",
    "See the hint to Exercise 3.10.5.7.\n",
    "'''"
   ],
   "outputs": [],
   "metadata": {
    "id": "-KTQMtLYIjHv"
   }
  },
  {
   "cell_type": "code",
   "execution_count": null,
   "source": [
    "#@title Answer {display-mode: \"form\"}\r\n",
    "'''\r\n",
    "There are two pairs: 2 and 5, and 4 and 7, not\r\n",
    "counting them listed in the opposite order.\r\n",
    "'''\r\n",
    "the_set = [2, 3, 4, 5, 6, 7]\r\n",
    "for a in the_set:\r\n",
    "  for b in the_set:\r\n",
    "    if (a * b) % 9 == 1:\r\n",
    "      print(a, b)"
   ],
   "outputs": [],
   "metadata": {
    "id": "Pd6T6PcKIjHw"
   }
  },
  {
   "cell_type": "markdown",
   "source": [
    "### Exercise 3.10.4.9"
   ],
   "metadata": {
    "id": "uDlRVVZBIjTP"
   }
  },
  {
   "cell_type": "markdown",
   "source": [
    "How many pairs of numbers that when multiplied together equal one more than a multiple of 11 are found in the set $\\{2, 3, 4, 5, 6, 7, 8, 9\\}$?"
   ],
   "metadata": {
    "id": "TTf10eCFIjTP"
   }
  },
  {
   "cell_type": "code",
   "execution_count": null,
   "source": [
    "#@title Hint {display-mode: \"form\"}\r\n",
    "'''\r\n",
    "See the hint to Exercise 3.10.5.7.\r\n",
    "'''"
   ],
   "outputs": [],
   "metadata": {
    "id": "xffCcPudMTVD"
   }
  },
  {
   "cell_type": "code",
   "execution_count": null,
   "source": [
    "#@title Answer {display-mode: \"form\"}\r\n",
    "'''\r\n",
    "There are four pairs: 2 and 6, 3 and 4,\r\n",
    "5 and 9, and 7 and 8. Again, we don't\r\n",
    "count them listed in the opposite order\r\n",
    "as different pairs.\r\n",
    "'''\r\n",
    "the_set = [2, 3, 4, 5, 6, 7, 8, 9]\r\n",
    "for a in the_set:\r\n",
    "  for b in the_set:\r\n",
    "    if (a * b) % 11 == 1:\r\n",
    "      print(a, b)"
   ],
   "outputs": [],
   "metadata": {
    "id": "CC091ZuWIjTQ"
   }
  },
  {
   "cell_type": "markdown",
   "source": [
    "## <font color=red>3.10.5 Summations</font>"
   ],
   "metadata": {
    "id": "oIeg8aPXa_VW"
   }
  },
  {
   "cell_type": "markdown",
   "source": [
    "### Exercise 3.10.5.1"
   ],
   "metadata": {
    "id": "7fU7YBmTa_VW"
   }
  },
  {
   "cell_type": "markdown",
   "source": [
    "Why is the sum of the reciprocals of the powers of two scaled by which power equal to two? (See the middle of page 53.)"
   ],
   "metadata": {
    "id": "2TxaXLuta_VW"
   }
  },
  {
   "cell_type": "code",
   "execution_count": null,
   "source": [
    "#@title Hint {display-mode: \"form\"}\r\n",
    "'''\r\n",
    "Showing why this is so is an exercise in pattern recognition,\r\n",
    "but the right approach is to exploit by rearranging terms of\r\n",
    "the infinite sum the commutativity and associativity of addition\r\n",
    "--- realizing that the sum can be done in any order.\r\n",
    "'''"
   ],
   "outputs": [],
   "metadata": {
    "id": "Ah_f5N9za_VX"
   }
  },
  {
   "cell_type": "code",
   "execution_count": null,
   "source": [
    "#@title Answer {display-mode: \"form\"}\r\n",
    "'''\r\n",
    "Break apart the sum $\\frac{1}{2} + \\frac{2}{4} +\r\n",
    "\\frac{3}{8} + \\frac{4}{16} + \\cdots$\r\n",
    "into the following rows, with the sum of each row\r\n",
    "after the first just half the sum of the previous row,\r\n",
    "making the entire sum just the (infinite) sum of the\r\n",
    "\"last\" column --- the sum of the reciprocals of the\r\n",
    "powers of two, this time starting with two to the\r\n",
    "power zero:\r\n",
    "\r\n",
    "$$\\begin{array}{lllllllllll}\r\n",
    "\\frac{1}{2} & + & \\frac{1}{4} & + & \\frac{1}{8} & + & \\frac{1}{16} & + & \\cdots & = & 1\\\\\r\n",
    " & + & \\frac{1}{4} & + & \\frac{1}{8} & + & \\frac{1}{16} & + & \\cdots & = & \\frac{1}{2}\\\\\r\n",
    " &  &  & + & \\frac{1}{8} & + & \\frac{1}{16} & + & \\cdots & = & \\frac{1}{4}\\\\\r\n",
    " &  &  &  &  & + & \\frac{1}{16} & + & \\cdots & = & \\frac{1}{8}\\\\\r\n",
    " &  &  &  &  &  &  & + & \\cdots & = & \\cdots\\\\\r\n",
    "\\end{array}$$\r\n",
    "\r\n",
    "The following Python code should print the result:\r\n",
    "1.9999999999999998\r\n",
    "'''\r\n",
    "from operator import add\r\n",
    "from functools import reduce\r\n",
    "\r\n",
    "print(reduce(add, map(lambda n: n / 2 ** n, range(1, 10000))))"
   ],
   "outputs": [],
   "metadata": {
    "id": "sLNu-HSJa_VY"
   }
  },
  {
   "cell_type": "markdown",
   "source": [
    "### Exercise 3.10.5.2"
   ],
   "metadata": {
    "id": "8HM9dRBAa_VY"
   }
  },
  {
   "cell_type": "markdown",
   "source": [
    "Explore the counterpart of $\\Sigma$, the symbol used to collapse a *sum* of terms; namely, the Greek letter (which?) used to collapse a *product* of terms."
   ],
   "metadata": {
    "id": "BCvPCti-a_Va"
   }
  },
  {
   "cell_type": "code",
   "execution_count": null,
   "source": [
    "#@title Hint {display-mode: \"form\"}\n",
    "'''\n",
    "'P' is for 'Product'.\n",
    "'''"
   ],
   "outputs": [],
   "metadata": {
    "id": "1jDS-5Voa_Va"
   }
  },
  {
   "cell_type": "code",
   "execution_count": null,
   "source": [
    "#@title Answer {display-mode: \"form\"}\n",
    "'''\n",
    "$\\Pi$ is to Product as $\\Sigma$ is to Sum.\n",
    "'''"
   ],
   "outputs": [],
   "metadata": {
    "id": "ZN8KnRtAa_Vb"
   }
  },
  {
   "cell_type": "markdown",
   "source": [
    "## <font color=red>3.10.6 The Harmonic Series</font>"
   ],
   "metadata": {
    "id": "JaPfm0PBbAa7"
   }
  },
  {
   "cell_type": "markdown",
   "source": [
    "### Exercise 3.10.6.1"
   ],
   "metadata": {
    "id": "sbgEGrRxbAa8"
   }
  },
  {
   "cell_type": "markdown",
   "source": [
    "With at least two examples of a binary function, verify the nested summation interchange rule."
   ],
   "metadata": {
    "id": "c102wwmIbAa9"
   }
  },
  {
   "cell_type": "code",
   "execution_count": null,
   "source": [
    "#@title Hint {display-mode: \"form\"}\n",
    "'''\n",
    "Use your creativity.\n",
    "'''"
   ],
   "outputs": [],
   "metadata": {
    "id": "Pujs2tiubAa9"
   }
  },
  {
   "cell_type": "code",
   "execution_count": null,
   "source": [
    "#@title Answer {display-mode: \"form\"}\r\n",
    "'''\r\n",
    "Your mileage may vary, but here we use\r\n",
    "\"tuple-creator\" and \"adder\" lambda functions\r\n",
    "both ways to achieve the same results.\r\n",
    "'''\r\n",
    "results1 = []\r\n",
    "for j in range(1, 10):\r\n",
    "  for k in range(1, j+1):\r\n",
    "    results1 += (lambda x, y: tuple([[x, y]]))(j, k)\r\n",
    "print(tuple(map(tuple, results1)))\r\n",
    "results2 = []\r\n",
    "for k in range(1, 10):\r\n",
    "  for j in range(k, 10):\r\n",
    "    results2 += (lambda x, y: tuple([[x, y]]))(j, k)\r\n",
    "print(tuple(map(tuple, results2)))\r\n",
    "results1.sort()\r\n",
    "results2.sort()\r\n",
    "print(results1 == results2)\r\n",
    "results3 = []\r\n",
    "for j in range(1, 10):\r\n",
    "  for k in range(1, j+1):\r\n",
    "    results3 += (lambda x, y: tuple([x + y]))(j, k)\r\n",
    "print(results3)\r\n",
    "results4 = []\r\n",
    "for k in range(1, 10):\r\n",
    "  for j in range(k, 10):\r\n",
    "    results4 += (lambda x, y: tuple([x + y]))(j, k)\r\n",
    "print(results4)\r\n",
    "results3.sort()\r\n",
    "results4.sort()\r\n",
    "print(results3 == results4)"
   ],
   "outputs": [],
   "metadata": {
    "id": "Ai_SZWdhbAa9"
   }
  },
  {
   "cell_type": "markdown",
   "source": [
    "### Exercise 3.10.6.2"
   ],
   "metadata": {
    "id": "fHwVvZCXbAa-"
   }
  },
  {
   "cell_type": "markdown",
   "source": [
    "One way to calulate $\\pi$ is to use an infinite series called the Gregory-Leibniz series (Look it up). Consider the following function:"
   ],
   "metadata": {
    "id": "ui5URP8vbAa-"
   }
  },
  {
   "cell_type": "code",
   "execution_count": null,
   "source": [
    "from operator import add\r\n",
    "from functools import reduce\r\n",
    "\r\n",
    "def calculate_pi_very_slowly(max_iterations):\r\n",
    "  return 4 * reduce(add, map(lambda n: \\\r\n",
    "         1.0 / (2 * n + 1) * (-1) ** n, \\\r\n",
    "         range(0, max_iterations + 1)))"
   ],
   "outputs": [],
   "metadata": {
    "id": "Y2aKWXUoTdBt"
   }
  },
  {
   "cell_type": "markdown",
   "source": [
    "How slow is *very slowly*?"
   ],
   "metadata": {
    "id": "IsV55fIBTgXq"
   }
  },
  {
   "cell_type": "code",
   "execution_count": null,
   "source": [
    "calculate_pi_very_slowly(10000)"
   ],
   "outputs": [],
   "metadata": {
    "id": "LQfrASzkTjNb"
   }
  },
  {
   "cell_type": "code",
   "execution_count": null,
   "source": [
    "#@title Hint {display-mode: \"form\"}\r\n",
    "'''\r\n",
    "Research how to do Python *benchmarking*.\r\n",
    "'''"
   ],
   "outputs": [],
   "metadata": {
    "id": "doSOY0aAbAa_"
   }
  },
  {
   "cell_type": "code",
   "execution_count": null,
   "source": [
    "#@title Answer {display-mode: \"form\"}\r\n",
    "'''\r\n",
    "\"Very slowly\" refers not to clock time,\r\n",
    "but to the number of iterations required\r\n",
    "to achieve a certain number of correct\r\n",
    "digits.\r\n",
    "'''"
   ],
   "outputs": [],
   "metadata": {
    "id": "S1e1Vhx1bAa_"
   }
  },
  {
   "cell_type": "markdown",
   "source": [
    "### Exercise 3.10.6.3"
   ],
   "metadata": {
    "id": "dzSZIYEuTZJl"
   }
  },
  {
   "cell_type": "markdown",
   "source": [
    "Investigate and determine how many terms of the harmonic series you have to add up to reach a given number $x$."
   ],
   "metadata": {
    "id": "1KQdIHRCTZJl"
   }
  },
  {
   "cell_type": "code",
   "execution_count": null,
   "source": [
    "#@title Hint {display-mode: \"form\"}\r\n",
    "'''\r\n",
    "The answer will be a function of $x$.\r\n",
    "'''"
   ],
   "outputs": [],
   "metadata": {
    "id": "2MiOUjTNTZJm"
   }
  },
  {
   "cell_type": "code",
   "execution_count": null,
   "source": [
    "#@title Answer {display-mode: \"form\"}\r\n",
    "'''\r\n",
    "The sum will first reach (or exceed) $x$\r\n",
    "after the number of terms is (approximately)\r\n",
    "$e^{x - \\gamma}$ where $\\gamma \\approx 0.57721$,\r\n",
    "rounded to the nearest integer.\r\n",
    "\r\n",
    "You can verify this with the following code:\r\n",
    "'''\r\n",
    "from math import exp\r\n",
    "\r\n",
    "Hn, x = 0, 1\r\n",
    "\r\n",
    "for n in range(1, 100000):\r\n",
    "  Hn += 1 / n\r\n",
    "  if Hn >= x:\r\n",
    "    print(Hn, n, round(exp(x - 0.57721)))\r\n",
    "    x += 1"
   ],
   "outputs": [],
   "metadata": {
    "id": "Az7OywgfTZJn"
   }
  }
 ],
 "metadata": {
  "colab": {
   "authorship_tag": "ABX9TyNav71qrBSnRA66Wjvm8lz8",
   "name": "chapter-3-functions-exercises.ipynb",
   "private_outputs": true,
   "provenance": [],
   "collapsed_sections": [],
   "toc_visible": true
  },
  "kernelspec": {
   "display_name": "Python 3",
   "language": "python",
   "name": "python3"
  },
  "language_info": {
   "codemirror_mode": {
    "name": "ipython",
    "version": 3
   },
   "file_extension": ".py",
   "mimetype": "text/x-python",
   "name": "python",
   "nbconvert_exporter": "python",
   "pygments_lexer": "ipython3",
   "version": "3.9.0"
  }
 },
 "nbformat": 4,
 "nbformat_minor": 1
}