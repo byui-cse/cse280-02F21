{
 "cells": [
  {
   "cell_type": "markdown",
   "metadata": {
    "id": "kVCZljwbDH6f"
   },
   "source": [
    "# <font color=blue>Learn About Shortest Paths in Graphs</font>\n",
    "## <font color=blue>Solutions</font>"
   ]
  },
  {
   "cell_type": "markdown",
   "metadata": {
    "id": "eydatSsZDlfy"
   },
   "source": [
    "## <font color=red>**DONE** Apply This Code</font>\n"
   ]
  },
  {
   "cell_type": "code",
   "execution_count": 1,
   "metadata": {
    "id": "t1KP5JX2DmsE"
   },
   "outputs": [],
   "source": [
    "from collections import defaultdict\n",
    "\n",
    "def create_graph(links):\n",
    "  neighbors = defaultdict(list)\n",
    "  for node1, node2 in links:\n",
    "    neighbors[node1].append(node2)\n",
    "    neighbors[node2].append(node1)\n",
    "  return neighbors\n",
    "\n",
    "def read_graph_links(filename):\n",
    "  f = open(filename, 'r')\n",
    "  links = []\n",
    "  for line in f:\n",
    "    links.append(tuple(line.split()))\n",
    "  return links\n",
    "\n",
    "def find_shortest_path(graph, length_limit, start, end, path, shortest_path):\n",
    "  if len(path) > length_limit or (len(shortest_path) > 0 and len(shortest_path) < len(path)):\n",
    "    return shortest_path\n",
    "\n",
    "  if end in graph[start]:\n",
    "    path.append(start)\n",
    "    path.append(end)\n",
    "    if len(shortest_path) == 0 or len(path) < len(shortest_path):\n",
    "      shortest_path = path.copy()\n",
    "    return shortest_path\n",
    "\n",
    "  path.append(start)\n",
    "  nodes = graph[start]\n",
    "\n",
    "  for node in nodes:\n",
    "    if node not in path:\n",
    "      new_path = path.copy()\n",
    "      shortest_path = find_shortest_path(graph, length_limit, node, end, new_path, shortest_path)\n",
    "\n",
    "  return shortest_path"
   ]
  },
  {
   "cell_type": "code",
   "execution_count": 2,
   "metadata": {
    "id": "i3gHkS8PEog-"
   },
   "outputs": [],
   "source": [
    "!curl -s -O https://byui-cse.github.io/cse280-course/usa_graph_links.txt"
   ]
  },
  {
   "cell_type": "code",
   "execution_count": null,
   "metadata": {
    "id": "x7HWsacqEhgC",
    "scrolled": true
   },
   "outputs": [],
   "source": [
    "usa_graph = create_graph(read_graph_links('usa_graph_links.txt'))\n",
    "\n",
    "find_shortest_path(usa_graph, 7, 'UT', 'NY', [], [])"
   ]
  },
  {
   "cell_type": "markdown",
   "metadata": {
    "id": "ADBmtHGkIGRe"
   },
   "source": [
    "The shortest path from California to Maine needs a higher `length_limit`:"
   ]
  },
  {
   "cell_type": "code",
   "execution_count": null,
   "metadata": {
    "id": "GIsKKqYJIHYd"
   },
   "outputs": [],
   "source": [
    "find_shortest_path(usa_graph, 10, 'CA', 'ME', [], [])"
   ]
  }
 ],
 "metadata": {
  "colab": {
   "authorship_tag": "ABX9TyOhlVIkFonEzZ9tAhQ+NTEN",
   "name": "learn-about-shortest-paths-in-graphs-solutions.ipynb",
   "private_outputs": true,
   "provenance": []
  },
  "kernelspec": {
   "display_name": "Python 3",
   "language": "python",
   "name": "python3"
  },
  "language_info": {
   "codemirror_mode": {
    "name": "ipython",
    "version": 3
   },
   "file_extension": ".py",
   "mimetype": "text/x-python",
   "name": "python",
   "nbconvert_exporter": "python",
   "pygments_lexer": "ipython3",
   "version": "3.9.0"
  }
 },
 "nbformat": 4,
 "nbformat_minor": 1
}
