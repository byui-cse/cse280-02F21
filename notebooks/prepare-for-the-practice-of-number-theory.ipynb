{
 "cells": [
  {
   "cell_type": "markdown",
   "metadata": {
    "id": "lIy5zPAnUNiz"
   },
   "source": [
    "# <font color=blue>Prepare for The Practice of Number Theory</font>"
   ]
  },
  {
   "cell_type": "markdown",
   "metadata": {
    "id": "zmmNiektZcXR"
   },
   "source": [
    "## <font color=red>Instructions</font>\n"
   ]
  },
  {
   "cell_type": "markdown",
   "metadata": {
    "id": "LJ4LZVXwZdHE"
   },
   "source": [
    "Answer questions on the content from the book, Chapter 6 Number Theory and Practice, sections 6.15 - 6.19, and any first-level links therefrom.\n"
   ]
  },
  {
   "cell_type": "markdown",
   "metadata": {
    "id": "nSnXlLLFZeXO"
   },
   "source": [
    "Also, to answer a couple of questions, watch this 11-minute video\n"
   ]
  },
  {
   "cell_type": "code",
   "execution_count": null,
   "metadata": {
    "id": "BDo-lyebZgTS"
   },
   "outputs": [],
   "source": [
    "from IPython.display import YouTubeVideo\n",
    "YouTubeVideo('l9dXo5f3zDc')"
   ]
  },
  {
   "cell_type": "markdown",
   "metadata": {
    "id": "_69g8alQZlgl"
   },
   "source": [
    "and read (or skim) the [Wikipedia RSA article](https://en.wikipedia.org/wiki/RSA_(cryptosystem)).\n"
   ]
  },
  {
   "cell_type": "markdown",
   "metadata": {
    "id": "f1Jib0wMZ5Lr"
   },
   "source": [
    "## <font color=red>Access</font>"
   ]
  },
  {
   "cell_type": "markdown",
   "metadata": {
    "id": "40XSWmykZ6rQ"
   },
   "source": [
    "[Take the Quiz](https://byui.instructure.com/courses/149380/quizzes/2724915)\n"
   ]
  }
 ],
 "metadata": {
  "colab": {
   "authorship_tag": "ABX9TyPGJ9wWrUN10+Wy46TM/6M+",
   "collapsed_sections": [],
   "name": "prepare-for-the-practice-of-number-theory.ipynb",
   "private_outputs": true,
   "provenance": []
  },
  "kernelspec": {
   "display_name": "Python 3",
   "language": "python",
   "name": "python3"
  },
  "language_info": {
   "codemirror_mode": {
    "name": "ipython",
    "version": 3
   },
   "file_extension": ".py",
   "mimetype": "text/x-python",
   "name": "python",
   "nbconvert_exporter": "python",
   "pygments_lexer": "ipython3",
   "version": "3.9.0"
  }
 },
 "nbformat": 4,
 "nbformat_minor": 1
}
