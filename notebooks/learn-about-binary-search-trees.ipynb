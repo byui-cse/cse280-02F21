{
 "cells": [
  {
   "cell_type": "markdown",
   "metadata": {
    "id": "06nhFgxo9MRO"
   },
   "source": [
    "# <font color=blue>Learn About Binary Search Trees</font>\n",
    "## <font color=blue>Teach One Another</font>"
   ]
  },
  {
   "cell_type": "markdown",
   "metadata": {
    "id": "4w2uvF699Qml"
   },
   "source": [
    "## <font color=red>In General</font>\n"
   ]
  },
  {
   "cell_type": "markdown",
   "metadata": {
    "id": "qz_cjDYk9VWs"
   },
   "source": [
    "### Trees are\n"
   ]
  },
  {
   "cell_type": "markdown",
   "metadata": {
    "id": "lgx110P09WIb"
   },
   "source": [
    "#### Easy to understand\n"
   ]
  },
  {
   "cell_type": "markdown",
   "metadata": {
    "id": "JYqnzzE19Xuk"
   },
   "source": [
    "##### Binary Search Tree Basics\n"
   ]
  },
  {
   "cell_type": "markdown",
   "metadata": {
    "id": "LHnJT6mR9Yi7"
   },
   "source": [
    "A binary search tree (BST) is a binary tree\n"
   ]
  },
  {
   "cell_type": "markdown",
   "metadata": {
    "id": "Am1bVwi89Zet"
   },
   "source": [
    "- with a key at each node ($k$)\n",
    "- so that at each node\n",
    "- all keys in the left subtree are less than $k$\n",
    "- all keys in right subtree are greater than $k$\n"
   ]
  },
  {
   "cell_type": "markdown",
   "metadata": {
    "id": "I5w4iLzE9aYX"
   },
   "source": [
    "![fig-bst-invariant.png](data:image/png;base64,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)\n"
   ]
  },
  {
   "cell_type": "markdown",
   "metadata": {
    "id": "w58ikWT_9cUc"
   },
   "source": [
    "##### Beyond Basics\n"
   ]
  },
  {
   "cell_type": "markdown",
   "metadata": {
    "id": "YtpQ_p5G9dFV"
   },
   "source": [
    "Other characteristics of BSTs:\n"
   ]
  },
  {
   "cell_type": "markdown",
   "metadata": {
    "id": "gzJjCV5p9due"
   },
   "source": [
    "- $n$ is the number of nodes (keys).\n",
    "- $h$ is the height of the tree.\n",
    "- Search time is a logarithmic function of $n$ (assuming a **balanced** tree)\n",
    "- Insertion of a key is equally fast: search for the key, insert it at the leaf where the search terminates.\n",
    "- For all operations (search, insert, delete) the worst case number of key comparisons $= h + 1$.\n",
    "- $\\lfloor lg\\ n \\rfloor \\le h \\le n - 1$.\n",
    "- With average (random) data: $h < 1.44\\ lg\\ n$.\n",
    "- With a poorly built (unbalanced) tree, in the worst case binary search degenerates to a sequential search.\n",
    "- Inorder traversal produces a sorted list (the basis for the *treesort* algorithm).\n"
   ]
  },
  {
   "cell_type": "markdown",
   "metadata": {
    "id": "x4dw9zqt9fSR"
   },
   "source": [
    "###### Example\n"
   ]
  },
  {
   "cell_type": "markdown",
   "metadata": {
    "id": "mj34aY-o9gvz"
   },
   "source": [
    "Build a binary search tree for the following words (using alphabetical order):\n"
   ]
  },
  {
   "cell_type": "markdown",
   "metadata": {
    "id": "md8Palx_9hd3"
   },
   "source": [
    "```mathematics, physics, geography, zoology, meteorology, geology, psychology, chemistry```\n"
   ]
  },
  {
   "cell_type": "markdown",
   "metadata": {
    "id": "gSWCRbUR9ibY"
   },
   "source": [
    "1. Dynamic: [Insert: 4 6 2 8 5 3 7 1](http://btv.melezinek.cz/binary-search-tree.html)\n",
    "2. Static: The [anytree](https://pypi.org/project/anytree) module\n"
   ]
  },
  {
   "cell_type": "code",
   "execution_count": null,
   "metadata": {
    "id": "tgkM9BAs9rFv"
   },
   "outputs": [],
   "source": [
    "!pip install anytree"
   ]
  },
  {
   "cell_type": "code",
   "execution_count": null,
   "metadata": {
    "id": "oygjiK0W94eq"
   },
   "outputs": [],
   "source": [
    "from anytree import Node\n",
    "\n",
    "mathematics = Node('mathematics')\n",
    "geography = Node('geography', parent=mathematics)\n",
    "physics = Node('physics', parent=mathematics)\n",
    "meterology = Node('meterology', parent=physics)\n",
    "zoology = Node('zoology', parent=physics)\n",
    "chemistry = Node('chemistry', parent=geography)\n",
    "geology = Node('geology', parent=geography)\n",
    "psychology = Node('psychology', parent=zoology)"
   ]
  },
  {
   "cell_type": "code",
   "execution_count": null,
   "metadata": {
    "id": "-kSMv7c596vH"
   },
   "outputs": [],
   "source": [
    "from anytree import RenderTree\n",
    "\n",
    "for pre, fill, node in RenderTree(mathematics):\n",
    "  print(f'{pre}{node.name}')"
   ]
  },
  {
   "cell_type": "markdown",
   "metadata": {
    "id": "J3BebhoCEyGY"
   },
   "source": [
    "#### Easy to traverse\n"
   ]
  },
  {
   "cell_type": "markdown",
   "metadata": {
    "id": "244tZTSQEzBb"
   },
   "source": [
    "1. Preorder  (VLR)\n",
    "2. Inorder   (LVR)\n",
    "3. Postorder (LRV)\n",
    "4. Level Order\n"
   ]
  },
  {
   "cell_type": "markdown",
   "metadata": {
    "id": "N2A2wYxzE0KM"
   },
   "source": [
    "#### Versatile\n"
   ]
  },
  {
   "cell_type": "markdown",
   "metadata": {
    "id": "Xs6yq6gRE1Bu"
   },
   "source": [
    "For example, the **permutation tree** in Figure 7.11.\n"
   ]
  },
  {
   "cell_type": "markdown",
   "metadata": {
    "id": "mQfTmcoyE76D"
   },
   "source": [
    "## <font color=red>**TODO** Enumerate/Draw Valid BSTs</font>\n"
   ]
  },
  {
   "cell_type": "markdown",
   "metadata": {
    "id": "-pmaDkmsE9Ob"
   },
   "source": [
    "How many valid BSTs are there with 4 keys?\n"
   ]
  },
  {
   "cell_type": "markdown",
   "metadata": {
    "id": "ahSCBYIiE-Lb"
   },
   "source": [
    "### Answer\n"
   ]
  },
  {
   "cell_type": "markdown",
   "metadata": {
    "id": "rndUkRIOE-49"
   },
   "source": [
    "At least 2.\n"
   ]
  },
  {
   "cell_type": "markdown",
   "metadata": {
    "id": "e5-704EzE_iy"
   },
   "source": [
    "##### First\n"
   ]
  },
  {
   "cell_type": "markdown",
   "metadata": {
    "id": "abzExl5vFCC7"
   },
   "source": [
    "1234 is the level-order traversal of the BST:\n"
   ]
  },
  {
   "cell_type": "code",
   "execution_count": null,
   "metadata": {
    "id": "ilOF8nHcNNY2"
   },
   "outputs": [],
   "source": [
    "#@title ASCII graphics {display-mode: \"form\"}\n",
    "print('''\n",
    "1\n",
    " \\\\\n",
    "  2\n",
    "   \\\\\n",
    "    3\n",
    "     \\\\\n",
    "      4\n",
    "''')"
   ]
  },
  {
   "cell_type": "markdown",
   "metadata": {
    "id": "tYuOqTCxNrO7"
   },
   "source": [
    "##### 1234 Picture"
   ]
  },
  {
   "cell_type": "code",
   "execution_count": null,
   "metadata": {
    "id": "7r4lGZWSFDq-"
   },
   "outputs": [],
   "source": [
    "from anytree import *\n",
    "from anytree.exporter.dotexporter import DotExporter \n",
    "\n",
    "not_real  = lambda _: 'label=\" \" shape=none'\n",
    "real      = lambda node: f'label=\"{node.name}\" shape=circle'\n",
    "only_real = lambda node: not_real(node) if not node.name.isnumeric() else real(node)\n",
    "invisible = lambda node,child: 'style=invis' if child.name.isalpha() else ''\n",
    "no_arrow  = lambda _,__: '--'"
   ]
  },
  {
   "cell_type": "code",
   "execution_count": null,
   "metadata": {
    "id": "LH15RAh2FRsf"
   },
   "outputs": [],
   "source": [
    "one = Node('1')\n",
    "\n",
    "twoNR = Node('i', parent=one)\n",
    "two = Node('2', parent=one)\n",
    "\n",
    "threeNR = Node('i', parent=two)\n",
    "three = Node('3', parent=two)\n",
    "\n",
    "fourNR = Node('i', parent=three)\n",
    "four = Node('4', parent=three)"
   ]
  },
  {
   "cell_type": "code",
   "execution_count": null,
   "metadata": {
    "id": "5nIno8UVFWOV"
   },
   "outputs": [],
   "source": [
    "dot_obj = DotExporter(one, graph='graph',\n",
    "                      nodeattrfunc = only_real,\n",
    "                      edgeattrfunc = invisible,\n",
    "                      edgetypefunc = no_arrow)\n",
    "for line in dot_obj:\n",
    "  print(line)"
   ]
  },
  {
   "cell_type": "code",
   "execution_count": null,
   "metadata": {
    "id": "fH70vOKFFyFV"
   },
   "outputs": [],
   "source": [
    "dot_obj.to_picture('1234.png')"
   ]
  },
  {
   "cell_type": "markdown",
   "metadata": {
    "id": "v9kKKOyFGh-B"
   },
   "source": [
    "#### Last\n"
   ]
  },
  {
   "cell_type": "markdown",
   "metadata": {
    "id": "Q5SEwpqxGjX3"
   },
   "source": [
    "4321 is the level-order traversal of the BST\n"
   ]
  },
  {
   "cell_type": "code",
   "execution_count": null,
   "metadata": {
    "id": "2ESQZCTPMz7c"
   },
   "outputs": [],
   "source": [
    "#@title ASCII graphics {display-mode: \"form\"}\n",
    "print('''\n",
    "      4\n",
    "     /\n",
    "    3\n",
    "   /\n",
    "  2\n",
    " /\n",
    "1\n",
    "''')"
   ]
  },
  {
   "cell_type": "markdown",
   "metadata": {
    "id": "vmUasBwBNkKp"
   },
   "source": [
    "##### 4321 Picture"
   ]
  },
  {
   "cell_type": "code",
   "execution_count": null,
   "metadata": {
    "id": "5a6c0qZuMbbN"
   },
   "outputs": [],
   "source": [
    "four = Node('4')\n",
    "\n",
    "three = Node('3', parent=four)\n",
    "threeNR = Node('i', parent=four)\n",
    "\n",
    "two = Node('2', parent=three)\n",
    "twoNR = Node('i', parent=three)\n",
    "\n",
    "one = Node('1', parent=two)\n",
    "oneNR = Node('i', parent=two)"
   ]
  },
  {
   "cell_type": "code",
   "execution_count": null,
   "metadata": {
    "id": "OHB_YwssMfe8"
   },
   "outputs": [],
   "source": [
    "dot_obj = DotExporter(four, graph='graph',\n",
    "                      nodeattrfunc = only_real,\n",
    "                      edgeattrfunc = invisible,\n",
    "                      edgetypefunc = no_arrow)"
   ]
  },
  {
   "cell_type": "code",
   "execution_count": null,
   "metadata": {
    "id": "y5z05XS0Firy"
   },
   "outputs": [],
   "source": [
    "from graphviz import Source\n",
    "Source(''.join(dot_obj))"
   ]
  }
 ],
 "metadata": {
  "colab": {
   "authorship_tag": "ABX9TyMKdgorBSKnvvXeEqg5HZ/N",
   "collapsed_sections": [],
   "name": "learn-about-binary-search-trees.ipynb",
   "private_outputs": true,
   "provenance": []
  },
  "kernelspec": {
   "display_name": "Python 3",
   "language": "python",
   "name": "python3"
  },
  "language_info": {
   "codemirror_mode": {
    "name": "ipython",
    "version": 3
   },
   "file_extension": ".py",
   "mimetype": "text/x-python",
   "name": "python",
   "nbconvert_exporter": "python",
   "pygments_lexer": "ipython3",
   "version": "3.9.0"
  }
 },
 "nbformat": 4,
 "nbformat_minor": 1
}
