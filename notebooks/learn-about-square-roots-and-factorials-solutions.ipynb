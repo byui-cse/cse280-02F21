{
 "cells": [
  {
   "cell_type": "markdown",
   "metadata": {
    "id": "unoW8PqzYUfu"
   },
   "source": [
    "# <font color=blue>Learn About Square Roots and Factorials</font>\n",
    "## <font color=blue>Solutions</font>"
   ]
  },
  {
   "cell_type": "markdown",
   "metadata": {
    "id": "tlQndv3fYihk"
   },
   "source": [
    "## <font color=red>**DONE** Warmup Exercise</font>"
   ]
  },
  {
   "cell_type": "markdown",
   "metadata": {
    "id": "z3uHCci1ZmTF"
   },
   "source": [
    "$$\\begin{array}{rlrlrllr}\n",
    "(0! & + & 0! & + & 0!)! &  & = & 6\\\\\n",
    "&  &  &  &  &  &  & \\\\\n",
    "(1 & + & 1 & + & 1)! &  & = & 6\\\\\n",
    "&  &  &  &  &  &  & \\\\\n",
    "2 & + & 2 & + & 2 &  & = & 6\\\\\n",
    "&  &  &  &  &  &  & \\\\\n",
    "3 & * & 3 & - & 3 &  & = & 6\\\\\n",
    "&  &  &  &  &  &  & \\\\\n",
    "\\sqrt{4} & + & \\sqrt{4} & + & \\sqrt{4} &  & = & 6\\\\\n",
    "&  &  &  &  &  &  & \\\\\n",
    "5 & + & (5 & \\div & 5) &  & = & 6\\\\\n",
    "&  &  &  &  &  &  & \\\\\n",
    "6 & + & 6 & - & 6 &  & = & 6\\\\\n",
    "&  &  &  &  &  &  & \\\\\n",
    "7 & - & (7 & \\div & 7) &  & = & 6\\\\\n",
    "&  &  &  &  &  &  & \\\\\n",
    "(\\sqrt{(8} & + & (8 & \\div & 8)))! &  & = & 6\\\\\n",
    "&  &  &  &  &  &  & \\\\\n",
    "\\sqrt{9} & * & \\sqrt{9} & - & \\sqrt{9} &  & = & 6\\\\\n",
    "&  &  &  &  &  &  & \\\\\n",
    "\\end{array}$$"
   ]
  },
  {
   "cell_type": "markdown",
   "metadata": {
    "id": "lR-VmW4fZwyU"
   },
   "source": [
    "## <font color=red>**DONE** The Main Task</font>"
   ]
  },
  {
   "cell_type": "code",
   "execution_count": null,
   "metadata": {
    "id": "1GYgnvI8aeyL"
   },
   "outputs": [],
   "source": [
    "from math import floor as fl, sqrt as sr, factorial as fa"
   ]
  },
  {
   "cell_type": "code",
   "execution_count": null,
   "metadata": {
    "id": "nmA2KuXQGwse"
   },
   "outputs": [],
   "source": [
    "#@title How to reach 1 {display-mode: \"form\"}\n",
    "fl(sr(sr(4)))"
   ]
  },
  {
   "cell_type": "code",
   "execution_count": null,
   "metadata": {
    "id": "RQmnAJgcHK6b"
   },
   "outputs": [],
   "source": [
    "#@title How to reach 2 {display-mode: \"form\"}\n",
    "fl(sr(4))"
   ]
  },
  {
   "cell_type": "code",
   "execution_count": null,
   "metadata": {
    "id": "9O4K5Mw3HPsz"
   },
   "outputs": [],
   "source": [
    "#@title How to reach 3 {display-mode: \"form\"}\n",
    "three = fl(sr(sr(fa(fl(sr(sr(sr(sr(sr(fa(fa(4))))))))))))\n",
    "three"
   ]
  },
  {
   "cell_type": "code",
   "execution_count": null,
   "metadata": {
    "id": "1s1wOasxHvzm"
   },
   "outputs": [],
   "source": [
    "#@title How to reach 4 {display-mode: \"form\"}\n",
    "4"
   ]
  },
  {
   "cell_type": "code",
   "execution_count": null,
   "metadata": {
    "id": "a2Owf6anLFVR"
   },
   "outputs": [],
   "source": [
    "five = fl(sr(sr(sr(sr(sr(fa(fa(4))))))))\n",
    "five"
   ]
  },
  {
   "cell_type": "code",
   "execution_count": null,
   "metadata": {
    "id": "jIYVykygIAK3"
   },
   "outputs": [],
   "source": [
    "#@title How to reach 6 {display-mode: \"form\"}\n",
    "six = fa(fl(sr(sr(fa(fl(sr(sr(sr(sr(sr(fa(fa(4)))))))))))))\n",
    "six"
   ]
  },
  {
   "cell_type": "code",
   "execution_count": null,
   "metadata": {
    "id": "reem-mmVIYy1"
   },
   "outputs": [],
   "source": [
    "#@title How to reach 7 {display-mode: \"form\"}\n",
    "seven = fl(sr(sr(sr(sr(sr(sr(fa(fl(sr(sr(sr(sr(fa(fl(sr(fa(fa(fl(sr(sr(fa(fl(sr(sr(sr(sr(sr(fa(fa(4))))))))))))))))))))))))))))))\n",
    "seven"
   ]
  },
  {
   "cell_type": "code",
   "execution_count": null,
   "metadata": {
    "id": "zklJw7rmLqFs"
   },
   "outputs": [],
   "source": [
    "#@title How to reach 8 {display-mode: \"form\"}\n",
    "eight = fl(sr(sr(fa(seven))))\n",
    "eight"
   ]
  },
  {
   "cell_type": "code",
   "execution_count": null,
   "metadata": {
    "id": "w_Kt13QbL26i"
   },
   "outputs": [],
   "source": [
    "#@title How to reach 9 {display-mode: \"form\"}\n",
    "'This one takes hundreds of steps. Bonus points to whoever finds a solution!'"
   ]
  },
  {
   "cell_type": "code",
   "execution_count": null,
   "metadata": {
    "id": "b4aoFETUMAew"
   },
   "outputs": [],
   "source": [
    "#@title How to reach 10 {display-mode: \"form\"}\n",
    "ten = fl(sr(fa(five)))\n",
    "ten"
   ]
  }
 ],
 "metadata": {
  "colab": {
   "authorship_tag": "ABX9TyOBQKA/wPFJMgvEnKMNZAGY",
   "name": "learn-about-square-roots-and-factorials-solutions.ipynb",
   "private_outputs": true,
   "provenance": []
  },
  "kernelspec": {
   "display_name": "Python 3",
   "language": "python",
   "name": "python3"
  },
  "language_info": {
   "codemirror_mode": {
    "name": "ipython",
    "version": 3
   },
   "file_extension": ".py",
   "mimetype": "text/x-python",
   "name": "python",
   "nbconvert_exporter": "python",
   "pygments_lexer": "ipython3",
   "version": "3.9.0"
  }
 },
 "nbformat": 4,
 "nbformat_minor": 1
}
