{
 "cells": [
  {
   "cell_type": "markdown",
   "metadata": {
    "id": "qW06eIJD1F73"
   },
   "source": [
    "# <font color=blue>Learn More About Residue Number Systems</font>\n",
    "## <font color=blue>Teach One Another</font>\n"
   ]
  },
  {
   "cell_type": "markdown",
   "metadata": {
    "id": "WeU-3bkq1Kl-"
   },
   "source": [
    "## <font color=red>**TODO** Implement a Realistic RNS</font>\n"
   ]
  },
  {
   "cell_type": "markdown",
   "metadata": {
    "id": "KdiLZf971LdT"
   },
   "source": [
    "See [Exercise 6.18.1](https://colab.research.google.com/github/byui-cse/cse280-02F21/blob/main/chapter-6-number-theory-and-practice-exercises.ipynb#scrollTo=Dh4uM-FL1Uc8) for some code.\n"
   ]
  },
  {
   "cell_type": "markdown",
   "metadata": {
    "id": "JHEGolX51Mw-"
   },
   "source": [
    "Your task is to implement this RNS\n"
   ]
  },
  {
   "cell_type": "markdown",
   "metadata": {
    "id": "Trutm_-I1OH1"
   },
   "source": [
    "1. **without** the restrictions on using normal arithmetic operations (in other words, ```+```, ```*```, and ```%``` are okay); and\n",
    "2. instead of using 7, 11, and 13 as the moduli, use the ones [mentioned here](https://colab.research.google.com/github/byui-cse/cse280-02F21/blob/main/learn-about-elementary-number-theory.ipynb#scrollTo=hCj6-mXUzPKq); and\n",
    "3. instead of dictionary forward-and-reverse lookup to convert to-and-from RNS, use a variation of the ```solveSSC``` function [mentioned here](https://colab.research.google.com/github/byui-cse/cse280-02F21/blob/main/chapter-6-number-theory-and-practice-exercises.ipynb#scrollTo=t-zFvWIzy2nS).\n"
   ]
  },
  {
   "cell_type": "markdown",
   "metadata": {
    "id": "9SjRIBsk1Sqf"
   },
   "source": [
    "### <font color=purple>Don't forget to test!</font>\n"
   ]
  },
  {
   "cell_type": "markdown",
   "metadata": {
    "id": "I1lIaj8B1byG"
   },
   "source": [
    "Write functions similar to\n"
   ]
  },
  {
   "cell_type": "markdown",
   "metadata": {
    "id": "elPcYfdJ1dWQ"
   },
   "source": [
    "1. ```test_rns_add2```;\n",
    "2. ```do_test_rns_add2```;\n",
    "3. ```test_rns_mul2```; and\n",
    "4. ```do_test_rns_mul2```;\n"
   ]
  },
  {
   "cell_type": "markdown",
   "metadata": {
    "id": "NVrlGAT51eQS"
   },
   "source": [
    "and run them.\n"
   ]
  },
  {
   "cell_type": "markdown",
   "metadata": {
    "id": "eMMOm2-MYfvx"
   },
   "source": [
    "# <font color=red>**TODO** Study and Finish Sample Partial Solution</font>\n"
   ]
  },
  {
   "cell_type": "code",
   "execution_count": null,
   "metadata": {
    "id": "hVoCdzn2Bc5x"
   },
   "outputs": [],
   "source": [
    "def igcd(b, n):\n",
    "  x0, x1, y0, y1 = 1, 0, 0, 1\n",
    "  while n != 0:\n",
    "      q, b, n = b // n, n, b % n\n",
    "      x0, x1 = x1, x0 - q * x1\n",
    "      y0, y1 = y1, y0 - q * y1\n",
    "  return b, x0, y0\n",
    "\n",
    "def find_mmi(o, m):\n",
    "  d, x, y = igcd(o, m)\n",
    "  return x"
   ]
  }
 ],
 "metadata": {
  "colab": {
   "authorship_tag": "ABX9TyO73gygcORP/+1aF0DpnTMy",
   "collapsed_sections": [
    "WeU-3bkq1Kl-"
   ],
   "name": "learn-more-about-residue-number-systems.ipynb",
   "private_outputs": true,
   "provenance": []
  },
  "kernelspec": {
   "display_name": "Python 3",
   "language": "python",
   "name": "python3"
  },
  "language_info": {
   "codemirror_mode": {
    "name": "ipython",
    "version": 3
   },
   "file_extension": ".py",
   "mimetype": "text/x-python",
   "name": "python",
   "nbconvert_exporter": "python",
   "pygments_lexer": "ipython3",
   "version": "3.9.0"
  }
 },
 "nbformat": 4,
 "nbformat_minor": 1
}
