{
 "cells": [
  {
   "cell_type": "markdown",
   "metadata": {
    "id": "yCS1mUARLIV9"
   },
   "source": [
    "# <font color=blue>Chapter 2 Sets and Logic In-Class Exercises</font>\n",
    "## <font color=blue>Teach One Another</font>"
   ]
  },
  {
   "cell_type": "markdown",
   "metadata": {
    "id": "oSWyNwbAT9oh"
   },
   "source": [
    "## 2.8 Propositional Membership"
   ]
  },
  {
   "cell_type": "markdown",
   "metadata": {
    "id": "mHPJ9zmoLdyD"
   },
   "source": [
    "### Exercise 2.8.10"
   ]
  },
  {
   "cell_type": "markdown",
   "metadata": {
    "id": "Xq9pO1smI0oi"
   },
   "source": [
    "Explain the connection between logic and sets in Table 2.12 given\n",
    "\n",
    "| Symbol | Proposition it stands for |\n",
    "|--------|---------------------------|\n",
    "| $p$    | $x \\in A$                 |\n",
    "| $q$    | $x \\in B$                 |\n",
    "| $r$    | $x \\in C$                 |\n"
   ]
  },
  {
   "cell_type": "code",
   "execution_count": null,
   "metadata": {
    "id": "4WTf9XVjJgAV"
   },
   "outputs": [],
   "source": [
    "#@title Hint {display-mode: \"form\"}\n",
    "print('Provide an explanation for the equivalence of the logical')\n",
    "print('and set operation description (columns 3 and 2) for each')\n",
    "print('set (column 1) in the table. So, use wording like')\n",
    "print('\"Set A is explained as the union of numbered regions')\n",
    "print('4, 5, 7 and 6, because ...\".')\n"
   ]
  },
  {
   "cell_type": "markdown",
   "metadata": {
    "id": "nsiiKX-8lGV4"
   },
   "source": [
    "## 2.9 Conditional Containment"
   ]
  },
  {
   "cell_type": "markdown",
   "metadata": {
    "id": "KDCV35QDlGV9"
   },
   "source": [
    "### Exercise 2.9.10"
   ]
  },
  {
   "cell_type": "markdown",
   "metadata": {
    "id": "m3wHXG19lGV9"
   },
   "source": [
    "The Venn diagram in the image below shows three numbered regions of Universal set U and set B with a superset-subset-of relationship with set A."
   ]
  },
  {
   "cell_type": "markdown",
   "metadata": {
    "id": "gkenN1ixlbjX"
   },
   "source": [
    "![fig-set-subset-conditional.png](data:image/png;base64,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)"
   ]
  },
  {
   "cell_type": "markdown",
   "metadata": {
    "id": "-CBxRDyjlnmf"
   },
   "source": [
    "Make a connection between the logical conditional operator ($\\rightarrow$) and the definition of a subset. Refer to the three numbered regions in your answer.\n"
   ]
  },
  {
   "cell_type": "code",
   "execution_count": null,
   "metadata": {
    "id": "moGdf2vUlGV-"
   },
   "outputs": [],
   "source": [
    "#@title Hint {display-mode: \"form\"}\n",
    "print('''\n",
    "Making this connection means: 1) express the logical conditional operator in\n",
    "terms of the definition of subset, or 2) express subset in terms of the\n",
    "definition of the logical conditional operator, whichever makes the most sense\n",
    "to you. Express either (or both) in terms of the three numbered regions.\n",
    "\n",
    "More emphatically, making this connection will help you understand why the\n",
    "conditional operator works the way it does. To answer fully, you *must*\n",
    "give the definition of a subset, and you *must* refer to the three numbered\n",
    "regions in the Venn diagram.\n",
    "''')\n"
   ]
  },
  {
   "cell_type": "markdown",
   "metadata": {
    "id": "j9IZvCsXc1O7"
   },
   "source": [
    "## 2.11 Conditional Vocabulary"
   ]
  },
  {
   "cell_type": "markdown",
   "metadata": {
    "id": "D0QSWp35c1PB"
   },
   "source": [
    "### Exercise 2.11.10"
   ]
  },
  {
   "cell_type": "markdown",
   "metadata": {
    "id": "pyENpJGNc1PC"
   },
   "source": [
    "$((p \\lor q) \\land (\\lnot p \\lor r)) \\rightarrow (q \\lor r)$\n",
    "\n",
    "* This has a special name: &ldquo;Resolution&rdquo;\n",
    "* Why it has that name will be revealed later.\n",
    "* Expanded\n",
    "\n",
    "$$\\begin{array}{ccccccccc}\n",
    "p & q & r & p \\lor q & \\lnot p & \\lnot p \\lor r & q \\lor r & (p \\lor q) \\land (\\lnot p \\lor r) & (p \\lor q) \\land (\\lnot p \\lor r) \\rightarrow (q \\lor r)\\\\\n",
    "\\hline\n",
    "0 & 0 & 0 & 0 & 1 & 1 & 0 & 0 & 1\\\\\n",
    "0 & 0 & 1 & 0 & 1 & 1 & 1 & 0 & 1\\\\\n",
    "0 & 1 & 0 & 1 & 1 & 1 & 1 & 1 & 1\\\\\n",
    "0 & 1 & 1 & 1 & 1 & 1 & 1 & 1 & 1\\\\\n",
    "1 & 0 & 0 & 1 & 0 & 0 & 0 & 0 & 1\\\\\n",
    "1 & 0 & 1 & 1 & 0 & 1 & 1 & 1 & 1\\\\\n",
    "1 & 1 & 0 & 1 & 0 & 0 & 1 & 0 & 1\\\\\n",
    "1 & 1 & 1 & 1 & 0 & 1 & 1 & 1 & 1\\\\\n",
    "\\end{array}$$\n",
    "\n",
    "* Compact\n",
    "\n",
    "$$\\begin{array}{cccccccccccccccccc}\n",
    "( & p & \\lor & q & ) & \\land & ( & \\lnot & p & \\lor & r & ) & \\rightarrow & ( & q & \\lor & r & )\\\\\n",
    "\\hline\n",
    " & 0 & 0 & 0 &  & 0 &  & 1 & 0 & 1 & 0 &  & 1 &  & 0 & 0 & 0 & \\\\\n",
    " & 0 & 0 & 0 &  & 0 &  & 1 & 0 & 1 & 1 &  & 1 &  & 0 & 1 & 1 & \\\\\n",
    " & 0 & 1 & 1 &  & 1 &  & 1 & 0 & 1 & 0 &  & 1 &  & 1 & 1 & 0 & \\\\\n",
    " & 0 & 1 & 1 &  & 1 &  & 1 & 0 & 1 & 1 &  & 1 &  & 1 & 1 & 1 & \\\\\n",
    " & 1 & 1 & 0 &  & 0 &  & 0 & 1 & 0 & 0 &  & 1 &  & 0 & 0 & 0 & \\\\\n",
    " & 1 & 1 & 0 &  & 1 &  & 0 & 1 & 1 & 1 &  & 1 &  & 0 & 1 & 1 & \\\\\n",
    " & 1 & 1 & 1 &  & 0 &  & 0 & 1 & 0 & 0 &  & 1 &  & 1 & 1 & 0 & \\\\\n",
    " & 1 & 1 & 1 &  & 1 &  & 0 & 1 & 1 & 1 &  & 1 &  & 1 & 1 & 1 & \\\\\n",
    "\\end{array}$$\n",
    "\n"
   ]
  },
  {
   "cell_type": "markdown",
   "metadata": {
    "id": "T6NdS97ArdfJ"
   },
   "source": [
    "## 2.12 Logical Equivalence"
   ]
  },
  {
   "cell_type": "markdown",
   "metadata": {
    "id": "AASQhBtAqpRI"
   },
   "source": [
    "### Exercise 2.12.10"
   ]
  },
  {
   "cell_type": "markdown",
   "metadata": {
    "id": "tmdtBDW8qpRL"
   },
   "source": [
    "Show that $(p \\leftrightarrow q) \\land (p \\leftrightarrow r)$ and $p \\leftrightarrow (q \\land r)$ are **not** logically equivalent (i.e., the **biconditional** does not distribute over **and**)."
   ]
  }
 ],
 "metadata": {
  "colab": {
   "authorship_tag": "ABX9TyNDuJSEaY0zfz4W3jqiN8Ye",
   "name": "chapter-2-sets-and-logic-in-class-exercises.ipynb",
   "private_outputs": true,
   "provenance": []
  },
  "kernelspec": {
   "display_name": "Python 3",
   "language": "python",
   "name": "python3"
  },
  "language_info": {
   "codemirror_mode": {
    "name": "ipython",
    "version": 3
   },
   "file_extension": ".py",
   "mimetype": "text/x-python",
   "name": "python",
   "nbconvert_exporter": "python",
   "pygments_lexer": "ipython3",
   "version": "3.9.0"
  }
 },
 "nbformat": 4,
 "nbformat_minor": 1
}
