{
 "cells": [
  {
   "cell_type": "markdown",
   "metadata": {
    "id": "WevVgXcOuiqy"
   },
   "source": [
    "# <font color=blue>Learn About Elementary Number Theory</font>\n",
    "## <font color=blue>Teach One Another</font>\n"
   ]
  },
  {
   "cell_type": "markdown",
   "metadata": {
    "id": "fxSWOj3au29f"
   },
   "source": [
    "## <font color=red>Introduction to ENT</font>"
   ]
  },
  {
   "cell_type": "markdown",
   "metadata": {
    "id": "wdGNaQOPu4H_"
   },
   "source": [
    "Elementary Number Theory is our focus for this week and next. But elementary does **NOT** mean easy! It just means we use basic algebra and arithmetic, and a lot of logic, but avoid the abstract algebra and calculus used in Advanced (or Algebraic) Number Theory.\n"
   ]
  },
  {
   "cell_type": "markdown",
   "metadata": {
    "id": "0jfbcvLvvE6Z"
   },
   "source": [
    "### <font color=purple>Divisibility</font>\n"
   ]
  },
  {
   "cell_type": "markdown",
   "metadata": {
    "id": "_OEqqJrgvFPf"
   },
   "source": [
    "If $n$ and $d$ are integers, then there exist integers $q$ and $r$ such that $n = d(q) + r, 0 \\le r < d$.\n"
   ]
  },
  {
   "cell_type": "markdown",
   "metadata": {
    "id": "O9ucJTxFvOpM"
   },
   "source": [
    "In this statement of the Division Theorem, $q$ (the quotient) and $r$ (the remainder) are the &ldquo;witnesses&rdquo; to the existence claims made by this theorem.\n"
   ]
  },
  {
   "cell_type": "markdown",
   "metadata": {
    "id": "IV0SdPsQvkaB"
   },
   "source": [
    "#### <font color=brown>The Division Algorithm</font>\n"
   ]
  },
  {
   "cell_type": "markdown",
   "metadata": {
    "id": "Z-AKehnsvk5p"
   },
   "source": [
    "Divide everything in $n = d(q) + r$ by $d$ to get:\n"
   ]
  },
  {
   "cell_type": "markdown",
   "metadata": {
    "id": "OBvyDgZqvmnh"
   },
   "source": [
    "$$\\frac{n}{d} = \\frac{d(q)}{d} + \\frac{r}{d}.$$\n"
   ]
  },
  {
   "cell_type": "markdown",
   "metadata": {
    "id": "WF5H4TEwvotS"
   },
   "source": [
    "Thus\n"
   ]
  },
  {
   "cell_type": "markdown",
   "metadata": {
    "id": "cKQde6_0vpmP"
   },
   "source": [
    "$$\\frac{n}{d} = q + \\frac{r}{d}$$\n"
   ]
  },
  {
   "cell_type": "markdown",
   "metadata": {
    "id": "x0yRtzw4vq1U"
   },
   "source": [
    "which means\n"
   ]
  },
  {
   "cell_type": "markdown",
   "metadata": {
    "id": "CRZobvT7vrk1"
   },
   "source": [
    "$$q = \\frac{n}{d} - \\frac{r}{d}.$$\n"
   ]
  },
  {
   "cell_type": "markdown",
   "metadata": {
    "id": "2ZCWhRWxvuQA"
   },
   "source": [
    "Note that here we are using normal mathematical division (/), not integer division as in Python (//)."
   ]
  },
  {
   "cell_type": "markdown",
   "metadata": {
    "id": "kOyLMMTdxTIV"
   },
   "source": [
    "Since we are subtracting off the **fractional part** of the division of $n$ by $d$,\n"
   ]
  },
  {
   "cell_type": "markdown",
   "metadata": {
    "id": "qqD97hM3xU6P"
   },
   "source": [
    "$$q = \\left \\lfloor \\frac{n}{d} \\right \\rfloor,$$\n"
   ]
  },
  {
   "cell_type": "markdown",
   "metadata": {
    "id": "kSprUJazxWRa"
   },
   "source": [
    "by definition of the floor function.\n"
   ]
  },
  {
   "cell_type": "markdown",
   "metadata": {
    "id": "Rt9v2YQQxlcZ"
   },
   "source": [
    "We also have"
   ]
  },
  {
   "cell_type": "markdown",
   "metadata": {
    "id": "yTuWHJInxjCw"
   },
   "source": [
    "$$r = n - dq.$$\n"
   ]
  },
  {
   "cell_type": "code",
   "execution_count": null,
   "metadata": {
    "id": "YhPhx-qwxubX"
   },
   "outputs": [],
   "source": [
    "def divmod(n, d):\n",
    "  return n // d, n % d"
   ]
  },
  {
   "cell_type": "code",
   "execution_count": null,
   "metadata": {
    "id": "_4yHyXbexyL9"
   },
   "outputs": [],
   "source": [
    "for n in [10, 12, 19, 42, 64, 77, 98]:\n",
    "  for d in [2, 3, 5, 7]:\n",
    "    q, r = divmod(n, d)\n",
    "    print(f'{n} = {d}({q}) + {r}')"
   ]
  },
  {
   "cell_type": "markdown",
   "metadata": {
    "id": "G8hOjPNtx6w7"
   },
   "source": [
    "ENT, and specifically modular arithmetic, has lots of applications.\n"
   ]
  },
  {
   "cell_type": "markdown",
   "metadata": {
    "id": "wgVfHfnFx7Ie"
   },
   "source": [
    "Here are two not mentioned in the book:\n"
   ]
  },
  {
   "cell_type": "markdown",
   "metadata": {
    "id": "u3fB9Duux77z"
   },
   "source": [
    "### <font color=purple>Hashing</font>\n"
   ]
  },
  {
   "cell_type": "markdown",
   "metadata": {
    "id": "vL6xH8AEx80l"
   },
   "source": [
    "Problem: How can we efficiently store, retrieve, and delete records from a large database?\n"
   ]
  },
  {
   "cell_type": "markdown",
   "metadata": {
    "id": "ynCOrl3jyLxr"
   },
   "source": [
    "* For example, students records.\n"
   ]
  },
  {
   "cell_type": "markdown",
   "metadata": {
    "id": "84iF5ms1yMqG"
   },
   "source": [
    "Assume each record has a unique key\n"
   ]
  },
  {
   "cell_type": "markdown",
   "metadata": {
    "id": "db136rhQyQj3"
   },
   "source": [
    "* E.g., Student ID #, or Social Security #, etc.\n"
   ]
  },
  {
   "cell_type": "markdown",
   "metadata": {
    "id": "4UYFSOGSySeB"
   },
   "source": [
    "Do we keep an array sorted by the key?\n"
   ]
  },
  {
   "cell_type": "markdown",
   "metadata": {
    "id": "95SPk-QTyNrI"
   },
   "source": [
    "* Easy retrieval but difficult insertion and deletion.\n"
   ]
  },
  {
   "cell_type": "markdown",
   "metadata": {
    "id": "vuOQkJbAyU0q"
   },
   "source": [
    "How about a table with an entry for every possible key?\n"
   ]
  },
  {
   "cell_type": "markdown",
   "metadata": {
    "id": "YPYFkuaJyWWb"
   },
   "source": [
    "* Often infeasible, almost always wasteful.\n"
   ]
  },
  {
   "cell_type": "markdown",
   "metadata": {
    "id": "80rMM4jJyXWu"
   },
   "source": [
    "* There are $10^{10}$ possible I-Numbers.\n"
   ]
  },
  {
   "cell_type": "markdown",
   "metadata": {
    "id": "ZYxomlAGyZED"
   },
   "source": [
    "Solution: store the records in an array of size $N$, where $N$ is somewhat bigger than the expected number of records.\n"
   ]
  },
  {
   "cell_type": "markdown",
   "metadata": {
    "id": "aSqdcImIya4Q"
   },
   "source": [
    "* Store record with id ```k``` in location ```h(k)```\n",
    "  - ```h``` is the hash function\n",
    "  - Basic hash function: ```h = lambda k: k % N```\n"
   ]
  },
  {
   "cell_type": "markdown",
   "metadata": {
    "id": "JClvzarByuFe"
   },
   "source": [
    "* A collision occurs when ```h(k1) == h(k2)``` and ```k1 != k2```.\n",
    "  - So choose $N$ sufficiently large to minimize collisions; moreover,\n",
    "  - $N$ is best if it is a prime number.\n"
   ]
  },
  {
   "cell_type": "markdown",
   "metadata": {
    "id": "Dj1cjBU7yvyR"
   },
   "source": [
    "* Lots of techniques for dealing with collisions.\n"
   ]
  },
  {
   "cell_type": "markdown",
   "metadata": {
    "id": "IihQ3Ixkyx46"
   },
   "source": [
    "### <font color=purple>Pseudorandom Sequences</font>\n"
   ]
  },
  {
   "cell_type": "markdown",
   "metadata": {
    "id": "mwq5u2lZyzAS"
   },
   "source": [
    "For randomized algorithms we need a random number generator.\n"
   ]
  },
  {
   "cell_type": "markdown",
   "metadata": {
    "id": "NWWKbD_a-E07"
   },
   "source": [
    "* Most languages provide you with a &ldquo;rand&rdquo; function.\n",
    "  - Warning: a poorly implemented rand, such as in C, can wreak havoc on Monte Carlo simulations, because $\\dots$\n",
    "  - There is nothing random about rand!\n",
    "    - It creates an apparently random sequence deterministically\n",
    "    - These are called pseudorandom sequences\n"
   ]
  },
  {
   "cell_type": "markdown",
   "metadata": {
    "id": "HiAplxGDy2QC"
   },
   "source": [
    "A standard technique for creating pseudorandom sequences is the [**linear congruential method**](https://en.wikipedia.org/wiki/Linear_congruential_generator).\n"
   ]
  },
  {
   "cell_type": "markdown",
   "metadata": {
    "id": "3WO_QxbYy7I7"
   },
   "source": [
    "* Choose a modulus $m \\in \\mathbb{Z}^{+}$,\n",
    "* a multiplier $a \\in \\{2, 3, \\ldots, m − 1\\}$,\n",
    "* an increment $c \\in \\mathbb{Z}_{m} = \\{0, 1, \\ldots, m−1\\}$, and\n",
    "* a seed $x_{0} \\in \\mathbb{Z}_{m}$ (typically set from the time on some internal clock).\n"
   ]
  },
  {
   "cell_type": "markdown",
   "metadata": {
    "id": "iiiFEhPx_FZQ"
   },
   "source": [
    "Compute $x_{n+1} = ax_{n} + c \\pmod{m}$:\n"
   ]
  },
  {
   "cell_type": "code",
   "execution_count": null,
   "metadata": {
    "id": "Fy2JYEbx3sRe"
   },
   "outputs": [],
   "source": [
    "def prng(a, x, c, m):\n",
    "  return (a * x + c) % m"
   ]
  },
  {
   "cell_type": "code",
   "execution_count": null,
   "metadata": {
    "id": "w8xE_xXo76we"
   },
   "outputs": [],
   "source": [
    "a = 7\n",
    "x = 3\n",
    "c = 4\n",
    "m = 9\n",
    "for i in range(m):\n",
    "  x = prng(a, x, c, m)\n",
    "  print(x)"
   ]
  },
  {
   "cell_type": "markdown",
   "metadata": {
    "id": "WJBYL6kA8Nlz"
   },
   "source": [
    "Warning: don't run this next block!"
   ]
  },
  {
   "cell_type": "code",
   "execution_count": null,
   "metadata": {
    "id": "CHPYenRu8QmF"
   },
   "outputs": [],
   "source": [
    "a = 16807\n",
    "x = 1\n",
    "c = 0\n",
    "m = 2 ** 31 - 1\n",
    "xs = []\n",
    "for i in range(m):\n",
    "  x = prng(a, x, c, m)\n",
    "  xs.append(x)\n",
    "len(xs)"
   ]
  },
  {
   "cell_type": "markdown",
   "metadata": {
    "id": "4wJtkLly80aa"
   },
   "source": [
    "This one is okay to run in a command-line-invoked Python REPL in a terminal window on your local machine:"
   ]
  },
  {
   "cell_type": "code",
   "execution_count": null,
   "metadata": {
    "id": "iCWpHSHX9A2u"
   },
   "outputs": [],
   "source": [
    "a = 16807\n",
    "x = 1\n",
    "c = 0\n",
    "m = 2 ** 31 - 1\n",
    "for i in range(m):\n",
    "  x = prng(a, x, c, m)\n",
    "  print(x, end=' ')"
   ]
  },
  {
   "cell_type": "markdown",
   "metadata": {
    "id": "ImojIrXgzLjM"
   },
   "source": [
    "### <font color=purple>And More</font>\n"
   ]
  },
  {
   "cell_type": "markdown",
   "metadata": {
    "id": "vnkpLJ4PzL9t"
   },
   "source": [
    "Two others not mentioned in the book, but which you are invited to explore via Exercise 6.11.1 (ISBN and &ldquo;Casting Out Nines&rdquo;).\n"
   ]
  },
  {
   "cell_type": "markdown",
   "metadata": {
    "id": "Lsrlch4BzN04"
   },
   "source": [
    "And one application mentioned in the book, and which you are invited to explore via Exercise 6.18.1.\n"
   ]
  },
  {
   "cell_type": "markdown",
   "metadata": {
    "id": "hCj6-mXUzPKq"
   },
   "source": [
    "#### <font color=brown>Computer Arithmetic with Large Integers</font>\n"
   ]
  },
  {
   "cell_type": "markdown",
   "metadata": {
    "id": "0tfYMVmXzQJO"
   },
   "source": [
    "Suppose we want to perform arithmetic operations (mainly addition and multiplication) with extremely large integers\n"
   ]
  },
  {
   "cell_type": "markdown",
   "metadata": {
    "id": "0n-vbmFZzRJ6"
   },
   "source": [
    "* too large to be represented easily in a computer.\n"
   ]
  },
  {
   "cell_type": "markdown",
   "metadata": {
    "id": "PkYE-iEUzSD6"
   },
   "source": [
    "Idea:\n"
   ]
  },
  {
   "cell_type": "markdown",
   "metadata": {
    "id": "Z-aJ3swEzTV1"
   },
   "source": [
    "* Step 1: Find suitable moduli $m_1, m_2, \\ldots, m_n$ so that $m_i$'s are coprime and $m_1m_2 \\cdots m_n$ is bigger than the answer.\n",
    "* Step 2: Perform all the operations mod $m_j, j = 1, \\ldots, n$.\n",
    "  - This means we're working with much smaller numbers (no bigger than $m_j$)\n",
    "  - The operations are much faster\n",
    "  - Can do this in parallel\n",
    "* Suppose the answer mod $m_j$ is $a_j$:\n",
    "  - It is possible to find $x$ such that $x \\equiv a_j \\pmod{m_j}$\n",
    "  - The unique $x$ such that $0 < x < m_1m_2 \\cdots m_n$ is the answer to the original problem.\n"
   ]
  },
  {
   "cell_type": "markdown",
   "metadata": {
    "id": "gSJd-LOcza73"
   },
   "source": [
    "Example (of realistic) moduli: the following are pairwise coprime:\n"
   ]
  },
  {
   "cell_type": "markdown",
   "metadata": {
    "id": "EgC8PFN4zcPt"
   },
   "source": [
    "$2^{35} - 1, 2^{34} - 1, 2^{33} - 1, 2^{29} - 1, 2^{23} - 1$\n"
   ]
  },
  {
   "cell_type": "markdown",
   "metadata": {
    "id": "3BYXjDeWzdlq"
   },
   "source": [
    "We can add and multiply positive integers up to\n"
   ]
  },
  {
   "cell_type": "markdown",
   "metadata": {
    "id": "4TfSACEqzehE"
   },
   "source": [
    "$(2^{35} - 1)(2^{34} - 1)(2^{33} - 1)(2^{29} - 1)(2^{23} - 1) > 2^{153} \\approx 10^{46}.$\n"
   ]
  },
  {
   "cell_type": "code",
   "execution_count": null,
   "metadata": {
    "id": "fYk_AInNzfr9"
   },
   "outputs": [],
   "source": [
    "(2 ** 35 - 1) * (2 ** 34 - 1) * (2 ** 33 - 1) * (2 ** 29 - 1) * (2 ** 23 - 1)"
   ]
  },
  {
   "cell_type": "code",
   "execution_count": null,
   "metadata": {
    "id": "H4lV_SW1XKOt"
   },
   "outputs": [],
   "source": [
    "22_835_960_313_848_834_513_196_271_421_660_843_135_129_878_527"
   ]
  },
  {
   "cell_type": "markdown",
   "metadata": {
    "id": "GUG_5lmrzl7g"
   },
   "source": [
    "## <font color=red>Introduction to Proofs</font>\n"
   ]
  },
  {
   "cell_type": "markdown",
   "metadata": {
    "id": "3JJBqxXtzmRo"
   },
   "source": [
    "### <font color=purple>Definitions</font>\n"
   ]
  },
  {
   "cell_type": "markdown",
   "metadata": {
    "id": "c36F_zJaznGt"
   },
   "source": [
    "* Axiom (or postulate) --- a &ldquo;Recognized Truth&rdquo; (self-evident)\n",
    "* Truth --- that which is true. Tautological, yes, but Doctrine and Covenants 93:24 defines it best.\n",
    "* Theorem --- a proposition that has been or is to be proved on the basis of explicit assumptions. It is a significant statement that can be proven using logical (deductive) reasoning.\n",
    "* Proof --- a demonstration that a theorem is true. Not true as in convincing (as in a court of law) beyond any reasonable doubt. True as in convincing beyond all doubt!\n",
    "* Lemma --- a theorem used in the proof of other theorems (a pre-theorem, or theorem helper)\n",
    "* Corollary --- a proposition that can be proved as an immediate consequence of a theorem that has just been proved (a post-theorem)\n",
    "* Conjecture --- a mathematical statement which has been **proposed** as a true statement, but which no one has yet been able to prove or disprove. (Not just a wild guess!)\n"
   ]
  },
  {
   "cell_type": "markdown",
   "metadata": {
    "id": "5x710OeVzy06"
   },
   "source": [
    "### <font color=purple>Types of Proof</font>\n"
   ]
  },
  {
   "cell_type": "markdown",
   "metadata": {
    "id": "DBmDc02jzzSF"
   },
   "source": [
    "#### <font color=brown> Not Found in Textbooks</font>\n"
   ]
  },
  {
   "cell_type": "markdown",
   "metadata": {
    "id": "1aRrqWSFz0eX"
   },
   "source": [
    "From [Scott Aaronson](https://stellar.mit.edu/S/course/6/sp08/6.080/courseMaterial/topics/topic1/lectureNotes/lec1/lec1.pdf) (please read his lecture transcription at that link) comes an &ldquo;example of East-West convergence&rdquo;:\n"
   ]
  },
  {
   "cell_type": "markdown",
   "metadata": {
    "id": "gsDI7amt0C6P"
   },
   "source": [
    "> Apparently, several ancient cultures independently came up with\n",
    "the same proof that $A = \\pi r^{2}$. It's obvious that the area of a\n",
    "circle should go like the radius squared; the question is why the\n",
    "constant of proportionality ($\\pi$) should be the same one that\n",
    "relates circumference to diameter.\n"
   ]
  },
  {
   "cell_type": "markdown",
   "metadata": {
    "id": "5gNWuF4e0Dlg"
   },
   "source": [
    "Proof (by continuing to quote Professor Aaronson):\n"
   ]
  },
  {
   "cell_type": "markdown",
   "metadata": {
    "id": "-OveibCx0E40"
   },
   "source": [
    "> Cut a circle of radius $r$ into thin pizza slices, and then &ldquo;Sicilianize&rdquo; (i.e., stack the slices into a rectangle of height $r$ and length $\\pi r$).\n"
   ]
  },
  {
   "cell_type": "markdown",
   "metadata": {
    "id": "5yXXcHo50GED"
   },
   "source": [
    "[What do you think this type of proof is called?](https://byui-cse.github.io/cse280-course/images/pi-r.jpg)\n"
   ]
  },
  {
   "cell_type": "markdown",
   "metadata": {
    "id": "HAQ9Q6NL0JjR"
   },
   "source": [
    "[Q.E.D.](https://en.wikipedia.org/wiki/Q.E.D.) (also rendered QED --- signaling the end of a proof)\n"
   ]
  },
  {
   "cell_type": "markdown",
   "metadata": {
    "id": "kJ3j545R0Pfq"
   },
   "source": [
    "#### <font color=brown>Direct Proof</font>\n"
   ]
  },
  {
   "cell_type": "markdown",
   "metadata": {
    "id": "McyN8UFo0P7c"
   },
   "source": [
    "A proof of a conditional statement $p \\rightarrow q$ constructed in a straightforward way.\n"
   ]
  },
  {
   "cell_type": "markdown",
   "metadata": {
    "id": "SjKID0pg0RO7"
   },
   "source": [
    "The first step is the assumption that $p$ is true.\n"
   ]
  },
  {
   "cell_type": "markdown",
   "metadata": {
    "id": "PAP8jvzYAKN5"
   },
   "source": [
    "Subsequent steps are constructed using rules of inference.\n"
   ]
  },
  {
   "cell_type": "markdown",
   "metadata": {
    "id": "6gqHO9IPALSx"
   },
   "source": [
    "The final step shows that $q$ must also be true.\n"
   ]
  },
  {
   "cell_type": "markdown",
   "metadata": {
    "id": "-Fs7rqt-ANXd"
   },
   "source": [
    "For example, proving that the product of two odd numbers is odd is a simple, four-step proof:\n"
   ]
  },
  {
   "cell_type": "markdown",
   "metadata": {
    "id": "BIbQf9UxAOdc"
   },
   "source": [
    "1. An odd number is one of the form $2n + 1$, where $n$ is an integer.\n",
    "2. We are given two odd numbers, say $2a + 1$ and $2b + 1$.\n",
    "3. Their product is $(2a + 1)(2b + 1) = 4ab + 2a + 2b + 1 = 2(2ab + a + b) + 1$.\n",
    "4. This last expression shows that the product is odd, since it is of the form $2n + 1$, with $n = 2ab + a + b$.\n"
   ]
  },
  {
   "cell_type": "markdown",
   "metadata": {
    "id": "GPY9DSZOASqZ"
   },
   "source": [
    "#### <font color=brown>Indirect Proof</font>\n"
   ]
  },
  {
   "cell_type": "markdown",
   "metadata": {
    "id": "WSAGXMApATFN"
   },
   "source": [
    "A proof of a conditional statement $p \\rightarrow q$ constructed in a sneaky &ldquo;backwards&rdquo; way, for example, by using the contrapositive equivalence: $p \\rightarrow q \\equiv \\lnot q \\rightarrow \\lnot p$:\n"
   ]
  },
  {
   "cell_type": "markdown",
   "metadata": {
    "id": "KWx2XX-TAVaJ"
   },
   "source": [
    "For example, proving by contraposition that for all integers $x, x^{2}$ is even $\\rightarrow x$ is even:\n"
   ]
  },
  {
   "cell_type": "markdown",
   "metadata": {
    "id": "SIjtcGiNAe7J"
   },
   "source": [
    "This must be true, because if $x$ were odd (negation of $q$) then $x^{2}$ would be odd (negation of $p$).\n"
   ]
  },
  {
   "cell_type": "markdown",
   "metadata": {
    "id": "SYuTB6CxAgW2"
   },
   "source": [
    "Why must that be true? Because we just proved that the product of two odd integers (which can be the same integer, i.e., that integer squared) is odd.\n"
   ]
  },
  {
   "cell_type": "markdown",
   "metadata": {
    "id": "pHMfx1CRAh9g"
   },
   "source": [
    "Another very powerful (and closely related) indirect proof method is mentioned in the book. [Here is more information about it](https://byui-cse.github.io/cse280-course/proof-by-contradiction.html).\n"
   ]
  },
  {
   "cell_type": "markdown",
   "metadata": {
    "id": "tdGXycQ7AwNP"
   },
   "source": [
    "#### <font color=brown>Proof by Counterexample</font>\n"
   ]
  },
  {
   "cell_type": "markdown",
   "metadata": {
    "id": "YDSXLeqrAx1S"
   },
   "source": [
    "A universally quantified statement $\\forall x\\ P(x)$ can be shown to be false by producing a single counterexample.\n"
   ]
  },
  {
   "cell_type": "markdown",
   "metadata": {
    "id": "mCod83R-AzeD"
   },
   "source": [
    "Prime Example:\n"
   ]
  },
  {
   "cell_type": "markdown",
   "metadata": {
    "id": "IilJMvkCA0Zz"
   },
   "source": [
    "All prime numbers are odd.\n"
   ]
  },
  {
   "cell_type": "markdown",
   "metadata": {
    "id": "WqRiyIBSA1VQ"
   },
   "source": [
    "Not so! 2 is prime and is even.\n"
   ]
  },
  {
   "cell_type": "markdown",
   "metadata": {
    "id": "N0M6fvgyEi3Z"
   },
   "source": [
    "#### <font color=brown>Proof by Cases</font>\n"
   ]
  },
  {
   "cell_type": "markdown",
   "metadata": {
    "id": "hYex6cPmEkyi"
   },
   "source": [
    "For example, consider the Theorem: For any distinct real numbers $x$ and $y$, $x^{2} + y^{2} > xy$.\n"
   ]
  },
  {
   "cell_type": "markdown",
   "metadata": {
    "id": "6vaihP_VEm-c"
   },
   "source": [
    "What are the cases?\n"
   ]
  },
  {
   "cell_type": "markdown",
   "metadata": {
    "id": "h3qeHY93EoKA"
   },
   "source": [
    "##### <font color=orange>Trivial Case 0</font>\n"
   ]
  },
  {
   "cell_type": "markdown",
   "metadata": {
    "id": "8xuxeh6REpIF"
   },
   "source": [
    "$x = y = 0$\n"
   ]
  },
  {
   "cell_type": "markdown",
   "metadata": {
    "id": "uNvKBOYLEqA0"
   },
   "source": [
    "The theorem is NOT true in this case!\n"
   ]
  },
  {
   "cell_type": "markdown",
   "metadata": {
    "id": "L4Lc9-unErHJ"
   },
   "source": [
    "But $x$ and $y$ can't both be zero, or else they wouldn't be distinct.\n"
   ]
  },
  {
   "cell_type": "markdown",
   "metadata": {
    "id": "77jWoikLEsQz"
   },
   "source": [
    "So scratch Case 0.\n"
   ]
  },
  {
   "cell_type": "markdown",
   "metadata": {
    "id": "H9PUUhVIEt8j"
   },
   "source": [
    "##### <font color=orange>Trivial Case 1</font>\n"
   ]
  },
  {
   "cell_type": "markdown",
   "metadata": {
    "id": "KfFE3Fe9Eu7s"
   },
   "source": [
    "$x = 0$ and $y \\ne 0$\n"
   ]
  },
  {
   "cell_type": "markdown",
   "metadata": {
    "id": "eXrp3R7zEv6O"
   },
   "source": [
    "The left-hand-side (LHS) of the inequality is always positive, while the right-hand-side (RHS) is always zero.\n"
   ]
  },
  {
   "cell_type": "markdown",
   "metadata": {
    "id": "5Dt4sUOVEw_I"
   },
   "source": [
    "##### <font color=orange>Trivial Case 2</font>\n"
   ]
  },
  {
   "cell_type": "markdown",
   "metadata": {
    "id": "ev-Y0g20Ex2r"
   },
   "source": [
    "$x > 0$ and $y < 0$\n"
   ]
  },
  {
   "cell_type": "markdown",
   "metadata": {
    "id": "whRS_4yBEyts"
   },
   "source": [
    "The LHS is still always positive, while the RHS is negative.\n"
   ]
  },
  {
   "cell_type": "markdown",
   "metadata": {
    "id": "RtfNr_uUEzoc"
   },
   "source": [
    "Hence, the theorem is obviously true for both of these cases.\n"
   ]
  },
  {
   "cell_type": "markdown",
   "metadata": {
    "id": "0N_H2c-pE0_8"
   },
   "source": [
    "What about the opposite cases of $x$ non-zero and $y$ zero, or $x < 0$ and $y > 0$?\n"
   ]
  },
  {
   "cell_type": "markdown",
   "metadata": {
    "id": "C_8PTv6HE22w"
   },
   "source": [
    "They are **not** needed!\n"
   ]
  },
  {
   "cell_type": "markdown",
   "metadata": {
    "id": "3Y5a6yvOE4Bq"
   },
   "source": [
    "The technical phrase **without loss of generality** (WLOG) signals this non-need.\n"
   ]
  },
  {
   "cell_type": "markdown",
   "metadata": {
    "id": "ljPkqikJE_Dz"
   },
   "source": [
    "($x$ and $y$ are interchangeable, without changing the meaning of the Theorem.)\n"
   ]
  },
  {
   "cell_type": "markdown",
   "metadata": {
    "id": "Vn26x8QaFAzw"
   },
   "source": [
    "##### <font color=orange>Non-trivial Cases 3 and 4</font>\n"
   ]
  },
  {
   "cell_type": "markdown",
   "metadata": {
    "id": "7kTzpvUMFBzu"
   },
   "source": [
    "$x$ and $y$ have the same sign\n"
   ]
  },
  {
   "cell_type": "markdown",
   "metadata": {
    "id": "_UGS8EwHFDMV"
   },
   "source": [
    "Case 3: assume WLOG that $x > y > 0$ (i.e., they're both positive and $x$ is more positive than $y$).\n"
   ]
  },
  {
   "cell_type": "markdown",
   "metadata": {
    "id": "qWzIzZOzFEYn"
   },
   "source": [
    "Then $x^2 > xy$ (multiplying both sides by the same positive number $x$ doesn't change the inequality).\n"
   ]
  },
  {
   "cell_type": "markdown",
   "metadata": {
    "id": "aMLK8gNOFGcc"
   },
   "source": [
    "The conclusion follows, because adding the positive number $y^2$ to the LHS only makes the inequality stronger.\n"
   ]
  },
  {
   "cell_type": "markdown",
   "metadata": {
    "id": "losX9tb-FHoY"
   },
   "source": [
    "Case 4: assume WLOG that $x < y < 0$ (i.e., they're both negative and $x$ is more negative than $y$).\n"
   ]
  },
  {
   "cell_type": "markdown",
   "metadata": {
    "id": "052lxc9mFJy4"
   },
   "source": [
    "Use a similar argument to Case 3's, noting that multiplying both sides of an inequality by a **negative** number changes the direction of the inequality!\n"
   ]
  },
  {
   "cell_type": "markdown",
   "metadata": {
    "id": "P8-2SgAdA2Ug"
   },
   "source": [
    "#### <font color=brown>Mistakes in Proofs</font>\n"
   ]
  },
  {
   "cell_type": "markdown",
   "metadata": {
    "id": "1yF0gRnJA3lW"
   },
   "source": [
    "Which step is wrong in this famous **alleged** proof that $1 = 2$? Why?\n"
   ]
  },
  {
   "cell_type": "markdown",
   "metadata": {
    "id": "iQdM34thA7Sr"
   },
   "source": [
    "| Step | Statement &nbsp; &nbsp; &nbsp; &nbsp; &nbsp; &nbsp; &nbsp; &nbsp; &nbsp; &nbsp; &nbsp; &nbsp; &nbsp; &nbsp; &nbsp; &nbsp; &nbsp; | Reason                                      |\n",
    "|------|-----|---------------------------------------------|\n",
    "| 1 | $a = b$                     | Given $a$ and $b$, two equal positive integers. |\n",
    "| 2 | $a^{2} = ab$                | Multiply both sides of Step 1 by $a$. |\n",
    "| 3 | $a^{2} - b^{2} = ab - b^{2}$ | Subtract $b^{2}$ from both sides of Step 2. |\n",
    "| 4 | $(a - b)(a + b) = b(a - b)$ | Factor both sides of Step 3. |\n",
    "| 5 | $a + b = b$                 | Divide both sides of Step 4 by $a - b$. |\n",
    "| 6 | $b + b = b$                 | Replace $a$ by $b$ in Step 5 because $a = b$ (given). |\n",
    "| 7 | $2b = b$                    | Simplify. |\n",
    "| 8 | $2 = 1$                     | Divide both sides of Step 7 by $b$. |\n"
   ]
  },
  {
   "cell_type": "markdown",
   "metadata": {
    "id": "tJ8enZUyCTPP"
   },
   "source": [
    "## <font color=red>**TODO** Investigate</font>\n"
   ]
  },
  {
   "cell_type": "markdown",
   "metadata": {
    "id": "bgUgnWfiCVyV"
   },
   "source": [
    "Every prime (&ldquo;realprime&rdquo; (5 or greater) not &ldquo;subprime&rdquo; (2 or 3)) is either one more or one less than a multiple of 6.\n"
   ]
  },
  {
   "cell_type": "markdown",
   "metadata": {
    "id": "x-aBIgSwCXym"
   },
   "source": [
    "## <font color=red>**TODO** Learn More About Exercise 6.10.3</font>\n"
   ]
  },
  {
   "cell_type": "markdown",
   "metadata": {
    "id": "FFhLlGFuCYsL"
   },
   "source": [
    "The CMM ER (Congruence Modulo M Equivalence Relation) deals with a cyclical subset of the integers:\n"
   ]
  },
  {
   "cell_type": "markdown",
   "metadata": {
    "id": "xDKw8m27CZlq"
   },
   "source": [
    "$\\mathbb{Z}_{m} = \\{0, 1, 2, \\ldots, m - 1\\}$."
   ]
  },
  {
   "cell_type": "markdown",
   "metadata": {
    "id": "fKAEDVQjCayH"
   },
   "source": [
    "Concretize with $m = 5$:\n"
   ]
  },
  {
   "cell_type": "markdown",
   "metadata": {
    "id": "Hpo0Awx4Cfbh"
   },
   "source": [
    "$\\mathbb{Z}_{5} = \\{0, 1, 2, 3, 4\\}$.\n"
   ]
  },
  {
   "cell_type": "markdown",
   "metadata": {
    "id": "oSMZre3gChdv"
   },
   "source": [
    "CM5 puts every integer into one of five equivalence classes:\n"
   ]
  },
  {
   "cell_type": "markdown",
   "metadata": {
    "id": "mqKv9wWqDTjO"
   },
   "source": [
    "* $5x + 0$ (a multiple of $5$)\n",
    "* $5x + 1$ (one more than a multiple of $5$)\n",
    "* $5x + 2$ (two more than a multiple of $5$)\n",
    "* $5x + 3$ (three more than a multiple of $5$)\n",
    "* $5x + 4$ (four more than a multiple of $5$)\n"
   ]
  },
  {
   "cell_type": "markdown",
   "metadata": {
    "id": "7FwI4UawDWBi"
   },
   "source": [
    "How do we make use of these facts in solving this so-called &ldquo;chicken nuggets&rdquo; problem?\n"
   ]
  },
  {
   "cell_type": "markdown",
   "metadata": {
    "id": "yVmOFIg7DXy8"
   },
   "source": [
    "$23$ is the right answer, but why can every number $24$ and higher be made by adding some multiple of $5$ to some multiple of $7$?\n"
   ]
  },
  {
   "cell_type": "markdown",
   "metadata": {
    "id": "nqas27YIDgQS"
   },
   "source": [
    "Here's a proof whose steps have been scrambled.\n"
   ]
  },
  {
   "cell_type": "markdown",
   "metadata": {
    "id": "AY1IgRdhDili"
   },
   "source": [
    "Your task is to unscramble them (give the right permutation of [1, 2, 3, 4, 5, 6, 7]).\n"
   ]
  },
  {
   "cell_type": "markdown",
   "metadata": {
    "id": "6ffh2_C4DleH"
   },
   "source": [
    "1. Consider $7$. It is $2$ more than a multiple of $5$.\n",
    "2. Similarly, since $7 \\times 3 = 21$ is $1$ more than a multiple of $5$, $5(q - 4) + 7(3)$ fills it.\n",
    "3. We have now covered all of the possibilities, $5x + 0, 5x + 1, 5x + 2, 5x + 3$, and $5x + 4$, so it remains to show that the number must be $\\ge 24$.\n",
    "4. So if you reduce any number ($\\ge 24$) mod $5$ and get $2$, at least one way to fill it is by dividing the number by $5$ getting $q$, the quotient, and the number will be $5(q - 1) + 7$.\n",
    "5. Likewise, $7 \\times 2 = 14$ is $4$ more than a multiple of $5$, $5(q - 2) + 7(2)$ fills it, and for $7 \\times 4 = 28 = 3 \\pmod{5}, 5(q - 5) + 7(4)$ fills it.\n",
    "6. Every number is $0, 1, 2, 3,$ or $4$ more than a multiple of $5$. Thus, for $0$ more, that means every multiple of $5$ can be filled.\n",
    "7. The reason the number must be $\\ge 24$ is so that $q$ minus some number between $1$ and $5$ is nonnegative.\n"
   ]
  }
 ],
 "metadata": {
  "colab": {
   "authorship_tag": "ABX9TyNW68JokMJohYdEl5fCt3P2",
   "collapsed_sections": [
    "hCj6-mXUzPKq"
   ],
   "name": "learn-about-elementary-number-theory.ipynb",
   "private_outputs": true,
   "provenance": []
  },
  "kernelspec": {
   "display_name": "Python 3",
   "language": "python",
   "name": "python3"
  },
  "language_info": {
   "codemirror_mode": {
    "name": "ipython",
    "version": 3
   },
   "file_extension": ".py",
   "mimetype": "text/x-python",
   "name": "python",
   "nbconvert_exporter": "python",
   "pygments_lexer": "ipython3",
   "version": "3.9.0"
  }
 },
 "nbformat": 4,
 "nbformat_minor": 1
}
