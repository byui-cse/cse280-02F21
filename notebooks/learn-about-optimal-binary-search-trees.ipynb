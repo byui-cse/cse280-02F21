{
 "cells": [
  {
   "cell_type": "markdown",
   "metadata": {
    "id": "-jpXvL6wIC56"
   },
   "source": [
    "# <font color=blue>Learn About Optimal Binary Search Trees</font>\n",
    "## <font color=blue>Teach One Another</font>\n"
   ]
  },
  {
   "cell_type": "markdown",
   "metadata": {
    "id": "GOetvlCt17XW"
   },
   "source": [
    "## <font color=red>From Section 7.8, Page 137</font>\n"
   ]
  },
  {
   "cell_type": "markdown",
   "metadata": {
    "id": "FrxmP9o51776"
   },
   "source": [
    "> Minimizing the expected search cost for a static (unchanging) tree and a set of keys whose access frequencies are known in advance (think English words as might be used by a spell-checker) is the *Optimal BST problem*. In this problem keys are weighted based on how likely they are to be looked up.\n"
   ]
  },
  {
   "cell_type": "markdown",
   "metadata": {
    "id": "ldfabSO019XU"
   },
   "source": [
    "So, what exactly are Optimal BSTs optimizing?\n"
   ]
  },
  {
   "cell_type": "markdown",
   "metadata": {
    "id": "RwxbH01H1-cl"
   },
   "source": [
    "### <font color=purple>Page 138</font>\n"
   ]
  },
  {
   "cell_type": "markdown",
   "metadata": {
    "id": "AeK0KKYA1_rI"
   },
   "source": [
    "**Weighted Path Length**, is what.\n"
   ]
  },
  {
   "cell_type": "markdown",
   "metadata": {
    "id": "yfX531a_2Bmu"
   },
   "source": [
    "Which is another way to say **Average Search Cost**. (See an example in the [next to last section](#scrollTo=q4XCOxBO4Zvs&line=2&uniqifier=1).)\n"
   ]
  },
  {
   "cell_type": "markdown",
   "metadata": {
    "id": "FRc5zJrm2C23"
   },
   "source": [
    "The point of having you find all the valid BSTs with 4 keys was to make you aware that in general this is hard to do!\n"
   ]
  },
  {
   "cell_type": "markdown",
   "metadata": {
    "id": "6k_uKKOb2Efo"
   },
   "source": [
    "#### <font color=brown>Beware</font>\n"
   ]
  },
  {
   "cell_type": "markdown",
   "metadata": {
    "id": "8b0CQ4_c2FnW"
   },
   "source": [
    "If you were to try an exhaustive search through all possibilities in your search for the optimal, **Exponential Explosion** will bite you!\n"
   ]
  },
  {
   "cell_type": "markdown",
   "metadata": {
    "id": "J8emWaYX2Gd0"
   },
   "source": [
    "Let $b(n) =$ the number of binary search trees with $n$ nodes. Then an approximate formula for $b(n)$ is"
   ]
  },
  {
   "cell_type": "markdown",
   "metadata": {
    "id": "I2oJEVQg2LJX"
   },
   "source": [
    "$$b(n) \\approx \\frac{4^{n}}{n^{1.5}}.$$\n"
   ]
  },
  {
   "cell_type": "markdown",
   "metadata": {
    "id": "_7tFcwlx2Mt6"
   },
   "source": [
    "## <font color=red>**TODO** Explore the Catalan Number Connection</font>\n"
   ]
  },
  {
   "cell_type": "markdown",
   "metadata": {
    "id": "SePSg5gv2N2f"
   },
   "source": [
    "A quick search will show how versatile this combinatorial counting function is.\n"
   ]
  },
  {
   "cell_type": "markdown",
   "metadata": {
    "id": "qbOaBtV62O5_"
   },
   "source": [
    "Note that the exact formula for $b(n)$ is\n"
   ]
  },
  {
   "cell_type": "markdown",
   "metadata": {
    "id": "72mmtuU02Pr7"
   },
   "source": [
    "$$b(n) = \\frac{{2n \\choose n}}{n + 1}.$$\n"
   ]
  },
  {
   "cell_type": "markdown",
   "metadata": {
    "id": "xzjdnz0M2Qwe"
   },
   "source": [
    "With $n = 4$:\n"
   ]
  },
  {
   "cell_type": "markdown",
   "metadata": {
    "id": "-ylwx1Gm2R3f"
   },
   "source": [
    "$$b(4) = \\frac{{8 \\choose 4}}{5} = \\frac{\\frac{8!}{4!4!}}{5} = \\frac{8!}{5 \\times 4!4!} = \\frac{8 \\times 7 \\times 6 \\times 5}{5 \\times 4 \\times 3 \\times 2} = 14.$$\n"
   ]
  },
  {
   "cell_type": "markdown",
   "metadata": {
    "id": "DGF12SVv278v"
   },
   "source": [
    "## <font color=red>**TODO** An Exercise in Formula Manipulation</font>\n"
   ]
  },
  {
   "cell_type": "markdown",
   "metadata": {
    "id": "QnUvmFZL28YL"
   },
   "source": [
    "Note Stirling's approximation for the factorial function (for large $n$):\n"
   ]
  },
  {
   "cell_type": "markdown",
   "metadata": {
    "id": "tr3b2VbZ29Zi"
   },
   "source": [
    "$$n! \\approx \\sqrt{2\\pi n}\\ \\left(\\frac{n}{e}\\right)^{n}.$$\n"
   ]
  },
  {
   "cell_type": "markdown",
   "metadata": {
    "id": "K2yHmz3Q3B8_"
   },
   "source": [
    "Use this formula in the numerator of the exact formula for $b(n)$ to arrive at the approximate formula for $b(n)$.\n"
   ]
  },
  {
   "cell_type": "markdown",
   "metadata": {
    "id": "PAblbyAn3G5v"
   },
   "source": [
    "## <font color=red>**TODO** An Exercise in Pattern Recognition</font>\n"
   ]
  },
  {
   "cell_type": "markdown",
   "metadata": {
    "id": "X5-Yunkd3IHm"
   },
   "source": [
    "Label each binary search tree you drew with its level-order traversal, and match each one with its associated parenthesized multiplication, one of the following:\n"
   ]
  },
  {
   "cell_type": "markdown",
   "metadata": {
    "id": "4563VPrx3MEM"
   },
   "source": [
    "1. $x_{0} \\cdot (x_{1} \\cdot (x_{2} \\cdot (x_{3} \\cdot x_{4})))$\n",
    "2. $x_{0} \\cdot (x_{1} \\cdot ((x_{2} \\cdot x_{3}) \\cdot x_{4}))$\n",
    "3. $x_{0} \\cdot ((x_{1} \\cdot x_{2}) \\cdot (x_{3} \\cdot x_{4}))$\n",
    "4. $x_{0} \\cdot ((x_{1} \\cdot (x_{2} \\cdot x_{3})) \\cdot x_{4})$\n",
    "5. $x_{0} \\cdot (((x_{1} \\cdot x_{2}) \\cdot x_{3}) \\cdot x_{4})$\n",
    "6. $(x_{0} \\cdot x_{1}) \\cdot (x_{2} \\cdot (x_{3} \\cdot x_{4}))$\n",
    "7. $(x_{0} \\cdot x_{1}) \\cdot ((x_{2} \\cdot x_{3}) \\cdot x_{4})$\n",
    "8. $(x_{0} \\cdot (x_{1} \\cdot x_{2})) \\cdot (x_{3} \\cdot x_{4})$\n",
    "9. $((x_{0} \\cdot x_{1}) \\cdot x_{2}) \\cdot (x_{3} \\cdot x_{4})$\n",
    "10. $((x_{0} \\cdot (x_{1} \\cdot x_{2})) \\cdot x_{3}) \\cdot x_{4}$\n",
    "11. $(((x_{0} \\cdot x_{1}) \\cdot x_{2}) \\cdot x_{3}) \\cdot x_{4}$\n",
    "12. $(((x_{0} \\cdot x_{1}) \\cdot (x_{2} \\cdot x_{3})) \\cdot x_{4}$\n",
    "13. $(x_{0} \\cdot ((x_{1} \\cdot x_{2}) \\cdot x_{3})) \\cdot x_{4}$\n",
    "14. $(x_{0} \\cdot (x_{1} \\cdot (x_{2} \\cdot x_{3}))) \\cdot x_{4}$\n"
   ]
  },
  {
   "cell_type": "markdown",
   "metadata": {
    "id": "oEswbaXY3PT-"
   },
   "source": [
    "It may be easier to relabel the nodes $1 \\rightarrow \\mathsf{A}, 2 \\rightarrow \\mathsf{B}, 3 \\rightarrow \\mathsf{C}, 4 \\rightarrow \\mathsf{D}$ and dispense with the fancy graphics:\n"
   ]
  },
  {
   "cell_type": "code",
   "execution_count": null,
   "metadata": {
    "id": "aqx90TTJ3Uyc"
   },
   "outputs": [],
   "source": [
    "#@title ABCD {display-mode: \"form\"}\n",
    "print('''\n",
    "    A\n",
    "     \\\\\n",
    "      B\n",
    "       \\\\\n",
    "        C\n",
    "         \\\\\n",
    "          D\n",
    "''')\n"
   ]
  },
  {
   "cell_type": "code",
   "execution_count": null,
   "metadata": {
    "id": "5R3yo8BK3sWa"
   },
   "outputs": [],
   "source": [
    "#@title ABDC {display-mode: \"form\"}\n",
    "print('''\n",
    "    A\n",
    "     \\\\\n",
    "      B\n",
    "       \\\\\n",
    "        D\n",
    "       /\n",
    "      C\n",
    "''')"
   ]
  },
  {
   "cell_type": "code",
   "execution_count": null,
   "metadata": {
    "id": "GCdQDNNO3twD"
   },
   "outputs": [],
   "source": [
    "#@title ACBD {display-mode: \"form\"}\n",
    "print('''\n",
    "    A\n",
    "     \\\\\n",
    "      C\n",
    "     / \\\\\n",
    "    B   D\n",
    "''')"
   ]
  },
  {
   "cell_type": "code",
   "execution_count": null,
   "metadata": {
    "id": "1abIGxKX3t-T"
   },
   "outputs": [],
   "source": [
    "#@title ADCB {display-mode: \"form\"}\n",
    "print('''\n",
    "    A\n",
    "     \\\\\n",
    "      D\n",
    "     /\n",
    "    C\n",
    "   /\n",
    "  B\n",
    "''')"
   ]
  },
  {
   "cell_type": "code",
   "execution_count": null,
   "metadata": {
    "id": "3x1Q5KDu3uJN"
   },
   "outputs": [],
   "source": [
    "#@title ADBC {display-mode: \"form\"}\n",
    "print('''\n",
    "    A\n",
    "     \\\\\n",
    "      D\n",
    "     /\n",
    "    B\n",
    "     \\\\\n",
    "      C\n",
    "''')"
   ]
  },
  {
   "cell_type": "code",
   "execution_count": null,
   "metadata": {
    "id": "8zgS1dtv3uSh"
   },
   "outputs": [],
   "source": [
    "#@title BACD {display-mode: \"form\"}\n",
    "print('''\n",
    "    B\n",
    "   / \\\\\n",
    "  A   C\n",
    "       \\\\\n",
    "        D\n",
    "''')"
   ]
  },
  {
   "cell_type": "code",
   "execution_count": null,
   "metadata": {
    "id": "wiqF88Z53ucX"
   },
   "outputs": [],
   "source": [
    "#@title BADC {display-mode: \"form\"}\n",
    "print('''\n",
    "    B\n",
    "   / \\\\\n",
    "  A   D\n",
    "     /\n",
    "    C\n",
    "''')"
   ]
  },
  {
   "cell_type": "code",
   "execution_count": null,
   "metadata": {
    "id": "rzKRkcAM3ul2"
   },
   "outputs": [],
   "source": [
    "#@title CBDA {display-mode: \"form\"}\n",
    "print('''\n",
    "     C\n",
    "    / \\\\\n",
    "   B   D\n",
    "  /\n",
    " A\n",
    "''')"
   ]
  },
  {
   "cell_type": "code",
   "execution_count": null,
   "metadata": {
    "id": "EYi6dMXw3uvs"
   },
   "outputs": [],
   "source": [
    "#@title CADB {display-mode: \"form\"}\n",
    "print('''\n",
    "    C\n",
    "   / \\\\\n",
    "  A   D\n",
    "   \\\\\n",
    "    B\n",
    "''')"
   ]
  },
  {
   "cell_type": "code",
   "execution_count": null,
   "metadata": {
    "id": "K8WAybuI3u5Q"
   },
   "outputs": [],
   "source": [
    "#@title DABC {display-mode: \"form\"}\n",
    "print('''\n",
    "    D\n",
    "   /\n",
    "  A\n",
    "   \\\\\n",
    "    B\n",
    "     \\\\\n",
    "      C\n",
    "''')"
   ]
  },
  {
   "cell_type": "code",
   "execution_count": null,
   "metadata": {
    "id": "CsvDaiUf3vDY"
   },
   "outputs": [],
   "source": [
    "#@title DACB {display-mode: \"form\"}\n",
    "print('''\n",
    "    D\n",
    "   /\n",
    "  A\n",
    "   \\\\\n",
    "    C\n",
    "   /\n",
    "  B\n",
    "''')"
   ]
  },
  {
   "cell_type": "code",
   "execution_count": null,
   "metadata": {
    "id": "_1NpcwIM3vM4"
   },
   "outputs": [],
   "source": [
    "#@title DBAC {display-mode: \"form\"}\n",
    "print('''\n",
    "     D\n",
    "    /\n",
    "   B\n",
    "  / \\\\\n",
    " A   C\n",
    "''')"
   ]
  },
  {
   "cell_type": "code",
   "execution_count": null,
   "metadata": {
    "id": "GX2xvli93vXE"
   },
   "outputs": [],
   "source": [
    "#@title DCAB {display-mode: \"form\"}\n",
    "print('''\n",
    "     D\n",
    "    /\n",
    "   C\n",
    "  /\n",
    " A\n",
    "  \\\\\n",
    "   B\n",
    "''')"
   ]
  },
  {
   "cell_type": "code",
   "execution_count": null,
   "metadata": {
    "id": "EmHoLKS93vg6"
   },
   "outputs": [],
   "source": [
    "#@title DCBA {display-mode: \"form\"}\n",
    "print('''\n",
    "       D\n",
    "      /\n",
    "     C\n",
    "    /\n",
    "   B\n",
    "  /\n",
    " A\n",
    "''')"
   ]
  },
  {
   "cell_type": "markdown",
   "metadata": {
    "id": "q4XCOxBO4Zvs"
   },
   "source": [
    "Using these tree drawings may make it easier to eyeball that CBDA is the optimal BST for these weights:\n"
   ]
  },
  {
   "cell_type": "code",
   "execution_count": null,
   "metadata": {
    "id": "ZXX-hAFM4bPp"
   },
   "outputs": [],
   "source": [
    "#@title {'A': 0.1, 'B': 0.2, 'C':0.3, 'D':0.4} {display-mode: \"form\"}\n",
    "print('''\n",
    "     C\n",
    "    / \\\\\n",
    "   B   D\n",
    "  /\n",
    " A\n",
    "''')\n"
   ]
  },
  {
   "cell_type": "code",
   "execution_count": null,
   "metadata": {
    "id": "l8XnhR9r4uDG"
   },
   "outputs": [],
   "source": [
    "def weighted_path_length(costs, weights):\n",
    "  return sum(map(lambda c, w: c * w, costs, weights))"
   ]
  },
  {
   "cell_type": "code",
   "execution_count": null,
   "metadata": {
    "id": "jlAHbcmr45b4"
   },
   "outputs": [],
   "source": [
    "weighted_path_length([1, 2, 2, 3], [.3, .2, .4, .1])"
   ]
  },
  {
   "cell_type": "markdown",
   "metadata": {
    "id": "tHMS5Cbr5ifb"
   },
   "source": [
    "Where do those costs and weights come from?"
   ]
  },
  {
   "cell_type": "markdown",
   "metadata": {
    "id": "X8W5UDHqCmRu"
   },
   "source": [
    "Is it always true that the highest weight key will be at the root of the optimal BST?\n"
   ]
  },
  {
   "cell_type": "markdown",
   "metadata": {
    "id": "8UAWcRSWlQZB"
   },
   "source": [
    "## <font color=red>About Optimal Order of Multiplication</font>\n"
   ]
  },
  {
   "cell_type": "markdown",
   "metadata": {
    "id": "ZBpo5o-cleEW"
   },
   "source": [
    "Which way of inserting the parentheses is best for minimizing the number of multiplications?"
   ]
  },
  {
   "cell_type": "markdown",
   "metadata": {
    "id": "jKWjMlTxoHbH"
   },
   "source": [
    "It doesn't matter when *numbers* are what you're multiplying, but there are mathematical objects that are harder --- more expensive --- to multiply than numbers.\n"
   ]
  },
  {
   "cell_type": "markdown",
   "metadata": {
    "id": "tu-Bfd3GoKbY"
   },
   "source": [
    "Consider **matrix** multiplication!\n"
   ]
  },
  {
   "cell_type": "markdown",
   "metadata": {
    "id": "RzLDvhJxoLwz"
   },
   "source": [
    "Multiplying two matrices of dimensions $m \\times n$ and $n \\times p$ by the standard algorithm requires $mnp$ matrix-element multiplications.\n"
   ]
  },
  {
   "cell_type": "markdown",
   "metadata": {
    "id": "bQSPHqNioNx2"
   },
   "source": [
    "(There are $mp$ elements in the product, each requiring $n$ elementary multiplications to be computed.)\n"
   ]
  },
  {
   "cell_type": "markdown",
   "metadata": {
    "id": "vqSq9rw8oPG7"
   },
   "source": [
    "For simplicity, consider a chain-multiplication of just three matrices $x_1$, $x_2$, and $x_3$.\n"
   ]
  },
  {
   "cell_type": "markdown",
   "metadata": {
    "id": "0ClB1Ny_oQmY"
   },
   "source": [
    "Given the dimensions of these three matrices:\n"
   ]
  },
  {
   "cell_type": "markdown",
   "metadata": {
    "id": "Aa94Z0_QoRjM"
   },
   "source": [
    "| |&nbsp;&nbsp;&nbsp;&nbsp;&nbsp;&nbsp;&nbsp;&nbsp;&nbsp;&nbsp;&nbsp;&nbsp;&nbsp;&nbsp;&nbsp;&nbsp;|\n",
    "|-|-|\n",
    "| $x_1$ | $d_0$-by-$d_1$ |\n",
    "| $x_2$ | $d_1$-by-$d_2$ |\n",
    "| $x_3$ | $d_2$-by-$d_3$ |\n"
   ]
  },
  {
   "cell_type": "markdown",
   "metadata": {
    "id": "84Gw0NSwo8fr"
   },
   "source": [
    "$(x_1 \\cdot x_2) \\cdot x_3$ will require this many elementary multiplications: $d_0d_1d_2 + d_0d_2d_3 = d_0d_2(d_1 + d_3).$\n"
   ]
  },
  {
   "cell_type": "markdown",
   "metadata": {
    "id": "G_JKwFa7pGD6"
   },
   "source": [
    "On the other hand,\n"
   ]
  },
  {
   "cell_type": "markdown",
   "metadata": {
    "id": "M6Szs4N4pG4p"
   },
   "source": [
    "$x_1 \\cdot (x_2 \\cdot x_3)$ will require this many elementary multiplications: $d_1d_2d_3 + d_0d_1d_3 = d_1d_3(d_0 + d_2).$\n"
   ]
  },
  {
   "cell_type": "markdown",
   "metadata": {
    "id": "d_cYIbaRpTuQ"
   },
   "source": [
    "Here's a simple choice of values to make the first of them be **a thousand times** larger than the second:\n"
   ]
  },
  {
   "cell_type": "markdown",
   "metadata": {
    "id": "baLYaYtnpVfE"
   },
   "source": [
    "$d_0 = d_2 = 10^3, d_1 = d_3 = 1.$\n"
   ]
  },
  {
   "cell_type": "markdown",
   "metadata": {
    "id": "D0DjD3pupZad"
   },
   "source": [
    "That makes a huge difference!\n"
   ]
  },
  {
   "cell_type": "markdown",
   "metadata": {
    "id": "v2T6ax_qpajC"
   },
   "source": [
    "### <font color=purple>Aside on Matrix Multiplication</font>\n"
   ]
  },
  {
   "cell_type": "markdown",
   "metadata": {
    "id": "sMPdJ7A-pbYs"
   },
   "source": [
    "A plethora of documents/videos describing/animating matrix multiplication awaits.\n"
   ]
  },
  {
   "cell_type": "markdown",
   "metadata": {
    "id": "zdCfj2R3pcie"
   },
   "source": [
    "Here's a two-by-two matrix multiplication example, color coded to lighten your cognitive load:\n"
   ]
  },
  {
   "cell_type": "markdown",
   "metadata": {
    "id": "cUoZLNdHpdcI"
   },
   "source": [
    "$\\begin{array}{ccccl}\n",
    "\\left[\n",
    "\\begin{array}{cc}\n",
    "{\\color{red} 1} & {\\color{red} 2} \\\\\n",
    "{\\color{blue} 3} & {\\color{blue} 4} \\\\\n",
    "\\end{array}\n",
    "\\right]\n",
    "&\n",
    "\\times\n",
    "&\n",
    "\\left[\n",
    "\\begin{array}{cc}\n",
    "{\\color{green} 5} & {\\color{black} 6} \\\\\n",
    "{\\color{green} 7} & {\\color{black} 8} \\\\\n",
    "\\end{array}\n",
    "\\right]\n",
    "&\n",
    "=\n",
    "&\n",
    "\\left[\n",
    "\\begin{array}{cc}\n",
    "({\\color{red} 1} \\cdot {\\color{green} 5} + {\\color{red} 2} \\cdot {\\color{green} 7}) & ({\\color{red} 1} \\cdot {\\color{black} 6} +{\\color{red} 2} \\cdot {\\color{black} 8})\\\\\n",
    "({\\color{blue} 3} \\cdot {\\color{green} 5} + {\\color{blue} 4} \\cdot {\\color{green} 7}) & ({\\color{blue} 3} \\cdot {\\color{black} 6} + {\\color{blue} 4} \\cdot {\\color{black} 8})\\\\\n",
    "\\end{array}\n",
    "\\right]\n",
    "\\\\\n",
    "& & & = &\n",
    "\\left[\n",
    "\\begin{array}{cc}\n",
    " 19 & 22 \\\\\n",
    " 43 & 50 \\\\\n",
    "\\end{array}\n",
    "\\right]\n",
    "\\\\\n",
    "\\end{array}$"
   ]
  },
  {
   "cell_type": "markdown",
   "metadata": {
    "id": "XJCu7-I75jwG"
   },
   "source": [
    "## <font color=red>**TODO** For Extra Credit</font>\n"
   ]
  },
  {
   "cell_type": "markdown",
   "metadata": {
    "id": "Jy0nGF5d5t-i"
   },
   "source": [
    "Let $b(n)$ be the number of distinct binary trees with $n$ nodes.\n"
   ]
  },
  {
   "cell_type": "markdown",
   "metadata": {
    "id": "utOKpR9a5uTm"
   },
   "source": [
    "If the left subtree of a binary tree with $n$ nodes has $k$ nodes $(0 \\le k \\le n - 1)$, the right subtree must have $n - 1 - k$ nodes.\n"
   ]
  },
  {
   "cell_type": "markdown",
   "metadata": {
    "id": "1nwS0r2K5vG8"
   },
   "source": [
    "By the Product Rule, the number of such trees is therefore $b(k)b(n - 1 - k)$.\n"
   ]
  },
  {
   "cell_type": "markdown",
   "metadata": {
    "id": "NOttcYFt5wRp"
   },
   "source": [
    "Given these facts, what is the recurrence relation for $b(n)$ when $n > 0$?\n"
   ]
  },
  {
   "cell_type": "markdown",
   "metadata": {
    "id": "DqwVjKBs5xal"
   },
   "source": [
    "(The initial condition is $b(0) = 1$.)\n"
   ]
  },
  {
   "cell_type": "markdown",
   "metadata": {
    "id": "BoguVvvW5yjx"
   },
   "source": [
    "The answer is there for all who wish to take this GPAO.\n"
   ]
  }
 ],
 "metadata": {
  "colab": {
   "authorship_tag": "ABX9TyPPjSFFk5vTqiHzh88wL7Mq",
   "name": "learn-about-optimal-binary-search-trees.ipynb",
   "private_outputs": true,
   "provenance": []
  },
  "kernelspec": {
   "display_name": "Python 3",
   "language": "python",
   "name": "python3"
  },
  "language_info": {
   "codemirror_mode": {
    "name": "ipython",
    "version": 3
   },
   "file_extension": ".py",
   "mimetype": "text/x-python",
   "name": "python",
   "nbconvert_exporter": "python",
   "pygments_lexer": "ipython3",
   "version": "3.9.0"
  }
 },
 "nbformat": 4,
 "nbformat_minor": 1
}
