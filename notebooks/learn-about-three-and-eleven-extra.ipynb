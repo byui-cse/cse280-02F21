{
  "nbformat": 4,
  "nbformat_minor": 0,
  "metadata": {
    "colab": {
      "name": "learn-about-three-and-eleven-extra.ipynb",
      "private_outputs": true,
      "provenance": []
    },
    "kernelspec": {
      "display_name": "Python 3",
      "language": "python",
      "name": "python3"
    },
    "language_info": {
      "codemirror_mode": {
        "name": "ipython",
        "version": 3
      },
      "file_extension": ".py",
      "mimetype": "text/x-python",
      "name": "python",
      "nbconvert_exporter": "python",
      "pygments_lexer": "ipython3",
      "version": "3.9.0"
    }
  },
  "cells": [
    {
      "cell_type": "markdown",
      "metadata": {
        "id": "unoW8PqzYUfu"
      },
      "source": [
        "# <font color=blue>Learn About Three and Eleven</font>\n",
        "## <font color=blue>Extra</font>"
      ]
    },
    {
      "cell_type": "markdown",
      "metadata": {
        "id": "lR-VmW4fZwyU"
      },
      "source": [
        "## <font color=red>**HINT**</font>"
      ]
    },
    {
      "cell_type": "markdown",
      "metadata": {
        "id": "p15aa9FOx7vA"
      },
      "source": [
        "If students get stuck, ask them to find the connection between three and eleven involving the relative sizes of the moon and the earth!"
      ]
    },
    {
      "cell_type": "markdown",
      "metadata": {
        "id": "c7403w5Ox7vA"
      },
      "source": [
        "This link is broken, but a cached version of http://garyosborn.moonfruit.com/sacred-earth-moon-geometry/4589547450 reveals some fascinating information!"
      ]
    },
    {
      "cell_type": "markdown",
      "metadata": {
        "id": "dCgSyiAUHd2m"
      },
      "source": [
        "The gist is that the radius of the moon is about 1080 miles, and the radius of the earth is about 3960 miles.\n",
        "\n",
        "Their ratio, $\\frac{1080}{3960}$, is $\\frac{3}{11}$, and the greatest common divisor of these two numbers is another magical number, 360.\n"
      ]
    }
  ]
}