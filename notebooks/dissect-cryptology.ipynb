{
 "cells": [
  {
   "cell_type": "markdown",
   "metadata": {
    "id": "R4kqW6aEWJ4w"
   },
   "source": [
    "# <font color=blue>Dissect Cryptology</font>\n",
    "## <font color=blue>Ponder and Prove</font>\n"
   ]
  },
  {
   "cell_type": "markdown",
   "metadata": {
    "id": "tBLXWI7mWb_Q"
   },
   "source": [
    "## <font color=red>Cryptology to the Fore</font>\n"
   ]
  },
  {
   "cell_type": "markdown",
   "metadata": {
    "id": "pVzBaH6kWdWU"
   },
   "source": [
    "The study of secret messages, cryptology, goes **WAY** back to ancient times. This study has two facets, two sides of the same coin:\n"
   ]
  },
  {
   "cell_type": "markdown",
   "metadata": {
    "id": "4rn2I1OkWeto"
   },
   "source": [
    "1. Cryptography --- the making of secret messages.\n",
    "2. Cryptanalysis --- the breaking of secret messages.\n"
   ]
  },
  {
   "cell_type": "markdown",
   "metadata": {
    "id": "yZwn6sDy6TpY"
   },
   "source": [
    "Which intrigues you more?\n"
   ]
  },
  {
   "cell_type": "markdown",
   "metadata": {
    "id": "QCLYh5D-WiDY"
   },
   "source": [
    "You've already seen these two encodings:\n"
   ]
  },
  {
   "cell_type": "markdown",
   "metadata": {
    "id": "Wy0QSJyCWjQA"
   },
   "source": [
    "1. [rot-13](https://colab.research.google.com/github/byui-cse/cse280-02F21/blob/main/chapter-1-introductions-exercises-hints.ipynb#scrollTo=Dge03LGFDMSZ) (a simple &ldquo;Caesar cipher&rdquo; ); and\n",
    "2. [base64](https://en.wikipedia.org/wiki/Base64) (how image data is embedded in a Jupyter notebook).\n"
   ]
  },
  {
   "cell_type": "markdown",
   "metadata": {
    "id": "_NXlm3eMW5IB"
   },
   "source": [
    "What is the difference between the processes of encoding/decoding and encryption/decryption?\n"
   ]
  },
  {
   "cell_type": "markdown",
   "metadata": {
    "id": "2Noxawn0W8Xp"
   },
   "source": [
    "RSA is the cryptosystem the book talks about, but another more heavily math-based one is ECC (Elliptic Curve Cryptography). Which is more prevalent in industry today? Which is more secure?\n"
   ]
  },
  {
   "cell_type": "markdown",
   "metadata": {
    "id": "8P2xqlT0XBs_"
   },
   "source": [
    "## <font color=red>Variety Galore</font>\n"
   ]
  },
  {
   "cell_type": "markdown",
   "metadata": {
    "id": "fr2GV2PyXCCn"
   },
   "source": [
    "Perhaps you have seen, or even invented, a simple substitution cipher. Have you ever seen/invented such a cipher using non-standard symbols (e.g, GBS (Galactic Basic Standard), Star Wars)?\n"
   ]
  },
  {
   "cell_type": "markdown",
   "metadata": {
    "id": "6juuzUOiXEi5"
   },
   "source": [
    "Via In-Class Exercise 3.14.21 (from Chapter 3 Predicates and Quantifiers) you may have already been exposed to a so-called Book Cipher.\n"
   ]
  },
  {
   "cell_type": "markdown",
   "metadata": {
    "id": "ov8HkCqLXGtw"
   },
   "source": [
    "When we discuss RSA encryption you will be in a position to ask and answer, which is better for keeping a password a secret: this method (which, after all is said and done, is [symmetrical](#scrollTo=IURDMOWe6fDj&line=2&uniqifier=1)) or RSA with a strong private key (which is [asymmetrical](#scrollTo=Xb4gjLzz6ieN&line=2&uniqifier=1))?"
   ]
  },
  {
   "cell_type": "markdown",
   "metadata": {
    "id": "fjYlvS34XJon"
   },
   "source": [
    "This list of Cipher Types, some very old, others of more modern origin, comes from:\n"
   ]
  },
  {
   "cell_type": "markdown",
   "metadata": {
    "id": "knsSbQuuXLE4"
   },
   "source": [
    "https://www.cryptogram.org/resource-area/cipher-types\n"
   ]
  },
  {
   "cell_type": "markdown",
   "metadata": {
    "id": "vnq0rZMKXMFO"
   },
   "source": [
    "* AMSCO\n",
    "* AUTOKEY\n",
    "* BACONIAN\n",
    "* BAZERIES\n",
    "* BEAUFORT\n",
    "* BIFID\n",
    "* CADENUS\n",
    "* CHECKERBOARD\n",
    "* COMPLETE COLUMNAR TRANSPOSITION\n",
    "* CONDI\n",
    "* CM BIFID\n",
    "* DIGRAFID\n",
    "* FOURSQUARE\n",
    "* FRACTIONATED MORSE\n",
    "* GRANDPRÉ\n",
    "* GRILLE\n",
    "* GROMARK\n",
    "* GRONSFELD\n",
    "* HEADLINES\n",
    "* HOMOPHONIC\n",
    "* INCOMPLETE COLUMNAR\n",
    "* INTERRUPTED KEY\n",
    "* KEY PHRASE\n",
    "* MONOME-DINOME\n",
    "* MORBIT\n",
    "* MYSZKOWSKI\n",
    "* NICODEMUS\n",
    "* NIHILIST SUBSTITUTION\n",
    "* NIHILIST TRANSPOSITION\n",
    "* NULL\n",
    "* NUMBERED KEY\n",
    "* PERIODIC GROMARK\n",
    "* PHILLIPS\n",
    "* PHILLIPS-RC\n",
    "* PLAYFAIR\n",
    "* POLLUX\n",
    "* PORTA\n",
    "* PORTAX\n",
    "* PROGRESSIVE KEY\n",
    "* QUAGMIRE I\n",
    "* QUAGMIRE II\n",
    "* QUAGMIRE III\n",
    "* QUAGMIRE IV\n",
    "* RAGBABY\n",
    "* RAILFENCE\n",
    "* REDEFENCE\n",
    "* ROUTE TRANSPOSITION\n",
    "* RUNNING KEY\n",
    "* SERIATED PLAYFAIR\n",
    "* SLIDEFAIR\n",
    "* SWAGMAN\n",
    "* SYLLABARY\n",
    "* TRIDIGITAL\n",
    "* TRIFID\n",
    "* TRI-SQUARE\n",
    "* TWIN BIFID\n",
    "* TWIN TRIFID\n",
    "* TWO-SQUARE\n",
    "* VARIANT\n",
    "* VIGENÈRE\n"
   ]
  },
  {
   "cell_type": "markdown",
   "metadata": {
    "id": "1W9ZfynnXPMi"
   },
   "source": [
    "As you can see, inventing ciphers is a pastime many individuals have indulged in!\n"
   ]
  },
  {
   "cell_type": "markdown",
   "metadata": {
    "id": "6C8PoZnAXSAo"
   },
   "source": [
    "Some ciphers are significantly more difficult than others.\n"
   ]
  },
  {
   "cell_type": "markdown",
   "metadata": {
    "id": "b-tGiituXSyO"
   },
   "source": [
    "Some ciphers are also significantly more impressive/interesting/worthy of a portfolio than others.\n"
   ]
  },
  {
   "cell_type": "markdown",
   "metadata": {
    "id": "ShBNOt5IXfsK"
   },
   "source": [
    "### <font color=red>TODO</font>"
   ]
  },
  {
   "cell_type": "markdown",
   "metadata": {
    "id": "5lxvZcSpXTsO"
   },
   "source": [
    "Pick two to explore, possibly implement in code, and report on your learning in so doing.\n"
   ]
  },
  {
   "cell_type": "markdown",
   "metadata": {
    "id": "dS0_3AbLXVmM"
   },
   "source": [
    "Here's an option for those with a computer engineering or electrical engineering inclination:\n"
   ]
  },
  {
   "cell_type": "markdown",
   "metadata": {
    "id": "qwOzyK9mXWZ5"
   },
   "source": [
    "Implement these two ciphers with an FPGA --- which means writing Verilog code.\n"
   ]
  },
  {
   "cell_type": "markdown",
   "metadata": {
    "id": "zOoo0XhDXYJU"
   },
   "source": [
    "What would it take to make an ASIC from your FPGA design?\n"
   ]
  },
  {
   "cell_type": "markdown",
   "metadata": {
    "id": "hDUd7Hl26eGs"
   },
   "source": [
    "## <font color=red>Notes</font>\n"
   ]
  },
  {
   "cell_type": "markdown",
   "metadata": {
    "id": "IURDMOWe6fDj"
   },
   "source": [
    "### <font color=purple>Symmetrical</font>\n"
   ]
  },
  {
   "cell_type": "markdown",
   "metadata": {
    "id": "EVCxTwd96gGW"
   },
   "source": [
    "A **symmetric** cryptosystem uses the same secret key (also called the **private** key) to do encryption and decryption.\n"
   ]
  },
  {
   "cell_type": "markdown",
   "metadata": {
    "id": "Xb4gjLzz6ieN"
   },
   "source": [
    "### <font color=brown>Asymmetrical</font>\n"
   ]
  },
  {
   "cell_type": "markdown",
   "metadata": {
    "id": "0u7keY1p6jT-"
   },
   "source": [
    "An **asymmetric** cryptosystem uses two different (but related) keys (called the **public** key and the **private** key) to do encryption and decryption. A shining feature of RSA, an asymmetric cryptosystem, is that these two keys can be used (in complementary ways) both for message confidentiality and for message authenticity.\n"
   ]
  }
 ],
 "metadata": {
  "colab": {
   "authorship_tag": "ABX9TyMyfXMYvgYzYDzIGNnspPkv",
   "name": "dissect-cryptology.ipynb",
   "private_outputs": true,
   "provenance": []
  },
  "kernelspec": {
   "display_name": "Python 3",
   "language": "python",
   "name": "python3"
  },
  "language_info": {
   "codemirror_mode": {
    "name": "ipython",
    "version": 3
   },
   "file_extension": ".py",
   "mimetype": "text/x-python",
   "name": "python",
   "nbconvert_exporter": "python",
   "pygments_lexer": "ipython3",
   "version": "3.9.0"
  }
 },
 "nbformat": 4,
 "nbformat_minor": 1
}
