{
 "cells": [
  {
   "cell_type": "markdown",
   "metadata": {
    "id": "HN6-Dbkw04vK"
   },
   "source": [
    "# <font color=blue>Prepare for More Graphs</font>"
   ]
  },
  {
   "cell_type": "markdown",
   "metadata": {
    "id": "Hhq4cN4f09V0"
   },
   "source": [
    "## <font color=red>Instructions</font>\n"
   ]
  },
  {
   "cell_type": "markdown",
   "metadata": {
    "id": "51gCckhIi2eH"
   },
   "source": [
    "Like last week, there will be a few questions from previous course content. Be sure to review Chapter 3 Functions and Chapter 4 Relations.\n"
   ]
  },
  {
   "cell_type": "markdown",
   "metadata": {
    "id": "sVV04SkL0-HC"
   },
   "source": [
    "Answer a few more questions on the content from the book, Chapter 8 Graphs (sections 8.12 and 8.13), and any first-level links therefrom.\n"
   ]
  },
  {
   "cell_type": "markdown",
   "metadata": {
    "id": "F_gZn0VR0_Cz"
   },
   "source": [
    "**NOTE**: make sure you read Exercise 8.12.2 and its answer, and click on the Wikipedia link found there.\n"
   ]
  },
  {
   "cell_type": "markdown",
   "metadata": {
    "id": "LnIkjrp-1BVx"
   },
   "source": [
    "## <font color=red>Access</font>\n"
   ]
  },
  {
   "cell_type": "markdown",
   "metadata": {
    "id": "cl9WGBwYjN1D"
   },
   "source": [
    "[Take the Quiz](https://byui.instructure.com/courses/149380/quizzes/2724871)\n"
   ]
  }
 ],
 "metadata": {
  "colab": {
   "authorship_tag": "ABX9TyPOZxO7lDo0TYqyyDRrUkM+",
   "collapsed_sections": [],
   "name": "prepare-for-more-graphs.ipynb",
   "private_outputs": true,
   "provenance": []
  },
  "kernelspec": {
   "display_name": "Python 3",
   "language": "python",
   "name": "python3"
  },
  "language_info": {
   "codemirror_mode": {
    "name": "ipython",
    "version": 3
   },
   "file_extension": ".py",
   "mimetype": "text/x-python",
   "name": "python",
   "nbconvert_exporter": "python",
   "pygments_lexer": "ipython3",
   "version": "3.9.0"
  }
 },
 "nbformat": 4,
 "nbformat_minor": 1
}
