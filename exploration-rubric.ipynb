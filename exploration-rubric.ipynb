{
 "cells": [
  {
   "cell_type": "markdown",
   "metadata": {
    "id": "rqDFMho6btMd"
   },
   "source": [
    "# <font color=blue>Exploration Rubric</font>"
   ]
  },
  {
   "cell_type": "markdown",
   "metadata": {
    "id": "txNwRJ4XrqBO"
   },
   "source": [
    "## <font color=red>Explanation</font>\n"
   ]
  },
  {
   "cell_type": "markdown",
   "metadata": {
    "id": "859op26SrjD1"
   },
   "source": [
    "This rubric has five criteria each with four proficiency levels (ratings), and points to numerically weight them.\n",
    "\n",
    "Total Points: 100\n"
   ]
  },
  {
   "cell_type": "markdown",
   "metadata": {
    "id": "gDuHAUHrTa_c"
   },
   "source": [
    "|                      | **Exceptional (1)**  | **Good (.9)**         | **Acceptable (.7)**       | **Developing (.5)** | **Missing (0)**     |\n",
    "|----------------------|--------------------|---------------------|-------------------------|-------------------|-------------------|\n",
    "| **Connections**        | Wow!               | I understand what   | I am a little unclear.  | I have lots of    | Self-explanatory. |\n",
    "| **30%**                |                    | you are saying.     |                         | questions.        |                   |\n",
    "| You described        |                    |                     | I wish I had your cell  | I wish you were   |                   |\n",
    "| connections from     | While reading,     | While reading,      | phone number so I could | sitting next to   |                   |\n",
    "| something you        | I want to share    | I find myself       | give you a quick call   | me while I was    |                   |\n",
    "| learned and          | your response with | stopping to         | to clarify. I find      | reading. I am     |                   |\n",
    "| reported on to       | everyone I know.   | consider your       | myself reading along,   | having a hard     |                   |\n",
    "| something you        | Your insights show | thoughts and ideas. | understanding what you  | time grasping     |                   |\n",
    "| already knew.        | new or different   | Your connections    | are saying, and then    | what you are      |                   |\n",
    "|                      | connections than I | make sense, and are | suddenly --- I am       | saying, or I      |                   |\n",
    "|                      | have ever seen or  | clear and specific. | pulled out by something | have to make a    |                   |\n",
    "|                      | considered before. |                     | that doesn&rsquo;t seem | guess at what I   |                   |\n",
    "|                      |                    |                     | to fit.                 | think you meant.  |                   |\n",
    "|                      |                    |                     |                         | I am really       |                   |\n",
    "|                      |                    |                     |                         | struggling        |                   |\n",
    "|                      |                    |                     |                         | to understand     |                   |\n",
    "|                      |                    |                     |                         | your connections. |                   |\n",
    "|                      |                    |                     |                         |                   |                   |\n",
    "| **Organization**       | Exceptionally      | Good                | Organized, but          | Some              | Not organized,    |\n",
    "| **20%**                | well organized.    | organization,       | transitions are         | organization,     | transitions       |\n",
    "| The parts of your    | All parts and      | sharp sense of      | somewhat                | transitions       | make no sense.    |\n",
    "| report --- how       | transitions are    | beginning and       | jumpy.                  | jump around,      |                   |\n",
    "| well do they fit     | logically ordered, | end.                |                         | start and end     |                   |\n",
    "| together?            | flow is natural,   |                     |                         | are unclear.      |                   |\n",
    "| (Introduction,       | start and end are  |                     |                         |                   |                   |\n",
    "| Body (many           | crystal clear.     |                     |                         |                   |                   |\n",
    "| sub-parts),          |                    |                     |                         |                   |                   |\n",
    "| and Conclusion.)     |                    |                     |                         |                   |                   |\n",
    "|                      |                    |                     |                         |                   |                   |\n",
    "| **Quality of**         | Good, plus your    | Acceptable, plus    | You created             | You answered the  | You ignored the   |\n",
    "| **Probing**            | created questions  | the questions       | questions above         | given questions.  | given questions.  |\n",
    "| **20%**                | are deep and       | you created are     | and beyond the          |                   |                   |\n",
    "| How well did you     | mind-stretching.   | open-ended and      | ones given, and         |                   |                   |\n",
    "| answer the           | It is obvious      | provocative.        | made an attempt,        |                   |                   |\n",
    "| supplied             | that they are      | Even though you     | at least, to            |                   |                   |\n",
    "| questions, and       | relevant to you,   | may not have        | answer some of them.    |                   |                   |\n",
    "| then probe further   | personally, even   | been able to        |                         |                   |                   |\n",
    "| by asking and        | if you don't       | answer all of them, |                         |                   |                   |\n",
    "| answering some       | have the answers   | you answered most   |                         |                   |                   |\n",
    "| questions of your    | (yet).             | of them.            |                         |                   |                   |\n",
    "| own creation?        |                    |                     |                         |                   |                   |\n",
    "|                      |                    |                     |                         |                   |                   |\n",
    "| **Level of**           | Good, plus your    | Acceptable, plus    | Your report uses a      | Your report reads | You didn't        |\n",
    "| **Interest**           | introduction       | your conclusion is  | varied vocabulary,      | as monotonous     | bother to be      |\n",
    "| **20%**                | tantalizes me to   | both salient and    | not monotonous.         | or perfunctory.   | interested or     |\n",
    "| How engaged and      | read more with     | pithy.              |                         |                   | try to stimulate  |\n",
    "| interested in        | relish. Your       |                     |                         |                   | interest.         |\n",
    "| your exploration     | conclusion flows   |                     |                         |                   |                   |\n",
    "| does your report     | like milk and      |                     |                         |                   |                   |\n",
    "| reveal you to        | honey. It fairly   |                     |                         |                   |                   |\n",
    "| be? How well do      | sings!             |                     |                         |                   |                   |\n",
    "| your revelations     |                    |                     |                         |                   |                   |\n",
    "| make the reader      |                    |                     |                         |                   |                   |\n",
    "| really sit up        |                    |                     |                         |                   |                   |\n",
    "| and take notice?     |                    |                     |                         |                   |                   |\n",
    "|                      |                    |                     |                         |                   |                   |\n",
    "|                      |                    |                     |                         |                   |                   |\n",
    "|                      |                    |                     |                         |                   |                   |\n",
    "| **Mechanics**          | Zero MIs found.    | One or two          | Three or four           | Five or six       | Seven or more     |\n",
    "| **10%**                |                    | MIs found.          | MIs found.              | MIs found.        | MIs found.        |\n",
    "| Mechanics include    |                    |                     |                         |                   |                   |\n",
    "| correct spelling,    |                    |                     |                         |                   |                   |\n",
    "| correct grammar and  |                    |                     |                         |                   |                   |\n",
    "| punctuation, and     |                    |                     |                         |                   |                   |\n",
    "| formatting.          |                    |                     |                         |                   |                   |\n",
    "| Does the look of     |                    |                     |                         |                   |                   |\n",
    "| your report enhance  |                    |                     |                         |                   |                   |\n",
    "| or detract from the  |                    |                     |                         |                   |                   |\n",
    "| reader's experience? |                    |                     |                         |                   |                   |\n",
    "\n",
    "MI = Mechanical Infelicity: a typo (misspelled word), grammo (grammatical error), puncto (punctuation error), or formato (formatting error).\n"
   ]
  },
  {
   "cell_type": "markdown",
   "metadata": {
    "id": "PoPsG-8UJ1bR"
   },
   "source": [
    "### <font color=red>How To Avoid MIsery</font>"
   ]
  },
  {
   "cell_type": "markdown",
   "metadata": {
    "id": "bfez6QCDJ86b"
   },
   "source": [
    "Take Care of the Mechanics! (And yes, the MI in MIsery was intentional!)\n",
    "\n",
    "Do you take pride in your writing? Enough to free it of MIs?\n",
    "\n",
    "Suggestions to help eliminate MIs:\n",
    "\n",
    "1. Spell-check and grammar-check your writing. (Have you heard of [Grammarly](https://grammarly.com)?!)\n",
    "2. Read your writing aloud (or better yet, have someone else read it to you) to see how it sounds.\n",
    "3. Have someone who is good at English carefully proofread your writing.\n",
    "\n",
    "> Besides a mathematical inclination, an exceptionally good mastery of one's native tongue is the most vital asset of a competent programmer.\n",
    "\n",
    "That quote was from a [manuscript written by a giant of computer science](https://www.cs.utexas.edu/users/EWD/transcriptions/EWD04xx/EWD498.html), BTW."
   ]
  },
  {
   "cell_type": "markdown",
   "metadata": {
    "id": "Ian-Gl0-tndS"
   },
   "source": [
    "## <font color=red>Feedback Addressed to Past Students</font>"
   ]
  },
  {
   "cell_type": "markdown",
   "metadata": {
    "id": "npHTLWmqtxZO"
   },
   "source": [
    "As usual (and lamentable), when I grade these explorations, I found many, many MIs, which cost you 10 points. But\n",
    "the biggest omission, to my eyes, was in the criterion of Connections --- how well you described connections from something you learned and reported on to something you already knew. It's like you entirely ignored that one. I saw no explicit (stated) connections --- which means Missing (0) would be your proficiency level. But I'll give you the benefit of the doubt --- this time! --- and make it a Developing level, for half of those 30 points."
   ]
  },
  {
   "cell_type": "markdown",
   "metadata": {
    "id": "tkDBCU6KubrS"
   },
   "source": [
    "That's a 25 point deduction that could easily have been avoided!"
   ]
  }
 ],
 "metadata": {
  "colab": {
   "authorship_tag": "ABX9TyNNUJgOKt8c7Oy9BRdkrJTK",
   "name": "exploration-rubric.ipynb",
   "private_outputs": true,
   "provenance": []
  },
  "kernelspec": {
   "display_name": "Python 3",
   "language": "python",
   "name": "python3"
  },
  "language_info": {
   "codemirror_mode": {
    "name": "ipython",
    "version": 3
   },
   "file_extension": ".py",
   "mimetype": "text/x-python",
   "name": "python",
   "nbconvert_exporter": "python",
   "pygments_lexer": "ipython3",
   "version": "3.9.0"
  }
 },
 "nbformat": 4,
 "nbformat_minor": 1
}
