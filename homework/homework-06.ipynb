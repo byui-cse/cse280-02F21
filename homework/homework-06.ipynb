{
  "cells": [
    {
      "attachments": {},
      "cell_type": "markdown",
      "metadata": {
        "id": "_Mr3AvSgSswx"
      },
      "source": [
        "# Homework 6 - Relations (draft)"
      ]
    },
    {
      "attachments": {},
      "cell_type": "markdown",
      "metadata": {
        "id": "w1t0weuGbbhA"
      },
      "source": [
        "**Instructions:** Complete the exercises below.\n",
        "\n",
        "1. Make a copy of this Colab Notebook using **`File -> Save a copy in Drive`**. \n",
        "\n",
        "2. Answer the exercise questions below. Type your answers to each question by double-clicking on **`Your Answer`** and typing your response.\n",
        "\n",
        "    Note that you can use any combination of plain text, Markdown, or LaTeX. As a last resort, you can simply take a picture of your handwritten work and upload it to an answer cell below.\n",
        "\n",
        "3. To submit your work, turn in the URL for your Colab notebook."
      ]
    },
    {
      "cell_type": "markdown",
      "metadata": {
        "id": "bEsUKV6DbbhB"
      },
      "source": [
        "**Note**:\n",
        "Sample solutions are provided in order to help you **learn**. The purpose of these exercises is not to simply turn in the answers, but to take the time and effort to learn and understand the material. You are encouraged to work the problems first, then when you are satisfied that you have the correct answer, look at the sample solution and compare it with yours. "
      ]
    },
    {
      "cell_type": "markdown",
      "metadata": {},
      "source": [
        "As you complete the problems below, you may use Python whenever you can think of way it could help you answer the question."
      ]
    },
    {
      "attachments": {},
      "cell_type": "markdown",
      "metadata": {},
      "source": [
        "### Notes about drawing graphs\n",
        "\n",
        "Some of the problems will require you to draw a graph. You may \n",
        "\n",
        "1. (Preferred) Use a Python tool such as `Graphviz`. See the examples below. \n",
        "\n",
        "    For additional help with `Graphviz`, see [A Quick Introduction to Graphviz](https://www.worthe-it.co.za/blog/2017-09-19-quick-introduction-to-graphviz.html) and the [Graphviz Documentation](https://graphviz.org/documentation/), especially the [Attributes](https://graphviz.org/doc/info/attrs.html) page.\n",
        "\n",
        "    or\n",
        "    \n",
        "2. Draw them by hand and take a picture. To easily include a picture in Colab, open a **text** cell and use the \"Insert Image\" button or copy/paste a picture into the cell. Colab will automatically convert it to Base-64 encoding. Type \"ESC\" to close the cell and you'll see the picture. (For very large images, this might be slow...try resizing your images first if they are very large.)\n"
      ]
    },
    {
      "cell_type": "markdown",
      "metadata": {},
      "source": [
        "Here's an example of how to draw a directed graph using `graphviz`."
      ]
    },
    {
      "cell_type": "code",
      "execution_count": 7,
      "metadata": {},
      "outputs": [
        {
          "data": {
            "image/png": "[encoded data removed]",
            "text/plain": [
              "<IPython.core.display.Image object>"
            ]
          },
          "execution_count": 7,
          "metadata": {},
          "output_type": "execute_result"
        }
      ],
      "source": [
        "from graphviz import Source\n",
        "from IPython.display import Image\n",
        "\n",
        "sample_directed_graph = '''\n",
        "digraph {\n",
        "    layout=neato;\n",
        "    node [shape=circle];\n",
        "    a->b;\n",
        "    b->a;\n",
        "    a->c;\n",
        "    a->d;\n",
        "    b->c;\n",
        "    d->d;\n",
        "  }\n",
        " '''\n",
        "g = Source(sample_directed_graph, filename='sample_directed_graph', format='png')\n",
        "g.render()\n",
        "Image('sample_directed_graph.png')"
      ]
    },
    {
      "cell_type": "markdown",
      "metadata": {
        "id": "tWpt07z8bbhB"
      },
      "source": [
        "### Exercise 5.1"
      ]
    },
    {
      "cell_type": "markdown",
      "metadata": {
        "id": "kxjplwJV-ryF"
      },
      "source": [
        "Which of the following pairs are in the relation on the set $\\{1, 2, 3, 4\\}$ given by the description $\\{(x, y)\\ \\vert\\ x > y + 1\\}$? Use a Python lambda function or list comprehension to verify your response.\n",
        "\n",
        "1. $(2, 1)$\n",
        "2. $(2, 2)$\n",
        "3. $(2, 3)$\n",
        "4. $(2, 4)$\n",
        "5. $(3, 1)$\n",
        "6. $(3, 2)$\n",
        "7. $(4, 1)$\n",
        "8. $(4, 2)$\n",
        "9. $(4, 3)$\n"
      ]
    },
    {
      "cell_type": "markdown",
      "metadata": {
        "id": "JIVFRE_KbbhC"
      },
      "source": [
        "#### Your Answer:"
      ]
    },
    {
      "attachments": {},
      "cell_type": "markdown",
      "metadata": {
        "id": "jDG17_wlG06Q"
      },
      "source": [
        "### Exercise 5.2\n",
        "\n"
      ]
    },
    {
      "attachments": {},
      "cell_type": "markdown",
      "metadata": {
        "id": "C0UBBuv1G5h9"
      },
      "source": [
        "Characterize the following relations, generically named $R$. The first four have people as their domain. The last four have numbers as their domain.\n",
        "\n",
        "If the relation is an Equivalence Relation (ER), show it has reflexivity, symmetry and transitivity. If not, explain which of these three properties it lacks."
      ]
    },
    {
      "cell_type": "markdown",
      "metadata": {
        "id": "MDh0fILeG-ad"
      },
      "source": [
        "1. $xRy$ if $x$ and $y$ are siblings.\n",
        "2. $xRy$ if $x$ and $y$ have the same parents.\n",
        "3. $xRy$ if $x$ and $y$ share a common parent.\n",
        "4. $xRy$ if $x$ and $y$ speak a common language.\n",
        "5. $xRy$ if $x$ shares a vowel with $y$, with English words as $R$'s domain.\n",
        "6. $xRy$ if $x \\le y$.\n",
        "7. $xRy$ if $x^{2} + y^{2} = 1$.\n",
        "8. $xRy$ if $x + y = 42$.\n",
        "9. $xRy$ if $\\lceil x \\rceil = \\lfloor y \\rfloor$.\n"
      ]
    },
    {
      "cell_type": "markdown",
      "metadata": {
        "id": "JIVFRE_KbbhC"
      },
      "source": [
        "#### Your Answer:"
      ]
    },
    {
      "attachments": {},
      "cell_type": "markdown",
      "metadata": {},
      "source": [
        "### Sample Solution 5.2\n"
      ]
    },
    {
      "attachments": {},
      "cell_type": "markdown",
      "metadata": {},
      "source": [
        "1. Not an ER, lacks reflexivity. You are not your own sibling.\n",
        "2. Reflexivity: you have the same parents as yourself.\n",
        "   Symmetry: If you have the same parents as your brother, your brother has the same parents as you.\n",
        "   Transitivity: If you have the same parents as your sister,\n",
        "   and your sister has the same parents as your brother,\n",
        "   then you have the same parents as your brother.\n",
        "   Thus this is an ER.\n",
        "3. This is not an ER, because it is not necessarily transitive (assuming biological\n",
        "   parents are what is meant). X may have parents A and B, Y may have parents\n",
        "   B and C, and Z may have parents C and D. Then X and Y share a common parent\n",
        "   (B), Y and Z share a common parent (C), but X and Z do not share a common\n",
        "   parent.\n",
        "4. For similar reasoning to why the relation in Part 3 is not, this is also not an ER.\n",
        "5. Ditto.\n",
        "6. Not an ER, lacks symmetry. 3 is less than or equal to 4, but 4 is not less than or equal to 3.\n",
        "7. Not an ER, lacks transitivity. If $x^{2} + y^{2} = 1$, and $y^{2} + z^{2} = 1$, then $x^{2} + z^{2}$ does not necessarily $= 1$.\n",
        "8. Not an ER, lacks reflexivity. $x + x = 42$ is true for exactly one value, $x = 21$. So unless the universe for this relation consists of the number 21, and nothing else, it cannot be reflexive. If the universe is just the number 21, then it is an ER (trivially).\n",
        "9. Not an ER, lacks reflexivity. $\\lceil 3.14 \\rceil \\ne \\lfloor 3.14 \\rfloor$. Lacks symmetry too."
      ]
    },
    {
      "attachments": {},
      "cell_type": "markdown",
      "metadata": {},
      "source": [
        "### Ideas"
      ]
    },
    {
      "attachments": {},
      "cell_type": "markdown",
      "metadata": {},
      "source": [
        "Additional exercises:\n",
        "\n",
        "6.1.1\n",
        "6.1.2:\n",
        "\n",
        "6.2.4\n",
        "6.9.2\n",
        "6.9.4\n",
        "6.10.1\n"
      ]
    },
    {
      "cell_type": "code",
      "execution_count": null,
      "metadata": {},
      "outputs": [],
      "source": [
        "from graphviz import Source\n",
        "from IPython.display import Image\n",
        "\n",
        "sample_directed_graph = '''\n",
        "digraph {\n",
        "    layout=neato;\n",
        "    node [shape=circle];\n",
        "    a->b;\n",
        "    b->a;\n",
        "    a->c;\n",
        "    a->d;\n",
        "    b->c;\n",
        "    d->d;\n",
        "  }\n",
        " '''\n",
        "g = Source(sample_directed_graph, filename='sample_directed_graph', format='png')\n",
        "g.render()\n",
        "Image('sample_directed_graph.png')"
      ]
    },
    {
      "cell_type": "code",
      "execution_count": null,
      "metadata": {},
      "outputs": [],
      "source": [
        "from graphviz import Source\n",
        "\n",
        "graph1 = '''\n",
        "digraph {\n",
        "    layout=neato\n",
        "    node [shape=circle]\n",
        "    s->a [label=1];\n",
        "    a->b [label=0];\n",
        "    b->b [label=0];\n",
        "    b->a [label=1];\n",
        "    s->b [label=0]\n",
        "}'''\n",
        "Source(graph1)"
      ]
    },
    {
      "attachments": {},
      "cell_type": "markdown",
      "metadata": {},
      "source": [
        "0 0 0 0 \\\n",
        "1 1 1 1 \\\n",
        "0 0 0 0"
      ]
    },
    {
      "attachments": {},
      "cell_type": "markdown",
      "metadata": {
        "id": "jEZp1mjTEI2-"
      },
      "source": [
        "### Exercise 5.# (last one)\n"
      ]
    },
    {
      "cell_type": "markdown",
      "metadata": {
        "id": "VHt6cunTEKI6"
      },
      "source": [
        "Here is a tiny database of students and courses, implemented as Python lists and dictionaries.\n"
      ]
    },
    {
      "cell_type": "code",
      "execution_count": null,
      "metadata": {
        "id": "665RVle5ELll"
      },
      "outputs": [],
      "source": [
        "students = [1, 2, 3, 4, 5, 6, 7, 8]\n",
        "\n",
        "courses = [100, 200, 300, 400]\n",
        "\n",
        "student2course = {1:[100, 200], 2:[100], 3:[100, 200, 300], \\\n",
        "                  4:[100, 200, 300, 400], 5:[100], 6:[100], \\\n",
        "                  7:[100, 200], 8:[100, 200, 300, 400]}\n",
        "\n",
        "course2student = {100:[1, 2, 3, 4, 5, 6, 7, 8], \\\n",
        "                  200:[1, 3, 4, 7, 8], \\\n",
        "                  300:[3, 4, 8], 400:[4, 8]}"
      ]
    },
    {
      "cell_type": "markdown",
      "metadata": {
        "id": "0wDnB9JEESwV"
      },
      "source": [
        "You can tell just by looking, but your task is to write code to\n",
        "* find all students who have taken all courses, and\n",
        "* find all courses that have been taken by all students.\n"
      ]
    },
    {
      "cell_type": "code",
      "execution_count": null,
      "metadata": {
        "id": "U7hE7B-RETUj"
      },
      "outputs": [],
      "source": [
        "#@title Hint {display-mode: \"form\"}\n",
        "from IPython.display import Markdown\n",
        "display(Markdown('''\n",
        "The queries are &ldquo;duals&rdquo; of each other. Both of them could use a couple of ```lambda``` functions and a single call to the ```list```, ```filter```, ```all```, and ```map``` functions.\n",
        "'''))\n"
      ]
    },
    {
      "cell_type": "markdown",
      "metadata": {
        "id": "JIVFRE_KbbhC"
      },
      "source": [
        "#### Your Answer:"
      ]
    },
    {
      "attachments": {},
      "cell_type": "markdown",
      "metadata": {},
      "source": [
        "### Sample Solution 5.#\n"
      ]
    },
    {
      "cell_type": "code",
      "execution_count": null,
      "metadata": {},
      "outputs": [],
      "source": [
        "# students who have taken all courses\n",
        "print(list(filter(lambda student: all(map(lambda course: \\\n",
        "           course in student2course[student], courses)), students)))\n",
        "\n",
        "# courses that have been taken by all students\n",
        "print(list(filter(lambda course: all(map(lambda student: \\\n",
        "           student in course2student[course], students)), courses)))"
      ]
    },
    {
      "cell_type": "markdown",
      "metadata": {
        "id": "HCjgnJwTbbhN"
      },
      "source": [
        "----------------------\n",
        "## Sample Solutions\n",
        "\n",
        "**Note**:\n",
        "Sample solutions are provided in order to help you **learn**. The purpose of these exercises is not to simply turn in the answers, but to take the time and effort to learn and understand the material. You are encouraged to work the problems first, then when you are satisfied that you have the correct answer, look at the sample solution and compare it with yours. "
      ]
    },
    {
      "cell_type": "markdown",
      "metadata": {},
      "source": [
        "### Sample Solution 5.1\n"
      ]
    },
    {
      "cell_type": "code",
      "execution_count": null,
      "metadata": {},
      "outputs": [],
      "source": [
        "s = {1, 2, 3, 4}\n",
        "\n",
        "# Using list comprehension\n",
        "r = [(x,y) for x in s for y in s if x > y + 1]\n",
        "print(r)\n",
        "\n",
        "\n",
        "# Using lambda\n",
        "r = [*filter(lambda pair: pair[0] > pair[1]+1, [(x,y) for x in s for y in s])]\n",
        "print(r)\n",
        "\n",
        "# Using nested for loops\n",
        "for x in range(1, 5):\n",
        "  for y in range(1, 5):\n",
        "    if (lambda x, y: x > y + 1)(x, y):\n",
        "      print(f'{(x, y)}')\n",
        "\n",
        "\n",
        "# Using reduce\n",
        "from functools import reduce\n",
        "r = reduce(lambda a,b: a + [(b[0], b[1])] if b[0] > b[1] + 1 else a, [[], *[(x,y) for x in s for y in s]])\n",
        "print(r)"
      ]
    }
  ],
  "metadata": {
    "colab": {
      "collapsed_sections": [
        "HCjgnJwTbbhN"
      ],
      "name": "cse280-homework-06.ipynb",
      "private_outputs": false,
      "provenance": [],
      "toc_visible": true
    },
    "interpreter": {
      "hash": "1977c1262a5a71e57f8e1e2a9337f4268800bf2d1a595fc1ecb322ccb8b2351d"
    },
    "kernelspec": {
      "display_name": "Python 3.9.0 ('.env': venv)",
      "language": "python",
      "name": "python3"
    },
    "language_info": {
      "codemirror_mode": {
        "name": "ipython",
        "version": 3
      },
      "file_extension": ".py",
      "mimetype": "text/x-python",
      "name": "python",
      "nbconvert_exporter": "python",
      "pygments_lexer": "ipython3",
      "version": "3.9.0 (tags/v3.9.0:9cf6752, Oct  5 2020, 15:34:40) [MSC v.1927 64 bit (AMD64)]"
    }
  },
  "nbformat": 4,
  "nbformat_minor": 0
}
