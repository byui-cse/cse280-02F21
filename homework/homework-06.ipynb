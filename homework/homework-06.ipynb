{
  "cells": [
    {
      "cell_type": "markdown",
      "metadata": {
        "id": "_Mr3AvSgSswx"
      },
      "source": [
        "# Homework 6 - Relations"
      ]
    },
    {
      "cell_type": "markdown",
      "metadata": {
        "id": "w1t0weuGbbhA"
      },
      "source": [
        "**Instructions:** Complete the exercises below.\n",
        "\n",
        "1. Make a copy of this Colab Notebook using **`File -> Save a copy in Drive`**. \n",
        "\n",
        "2. Answer the exercise questions below. Type your answers to each question by double-clicking on **`Your Answer`** and typing your response.\n",
        "\n",
        "    Note that you can use any combination of plain text, Markdown, or LaTeX. As a last resort, you can simply take a picture of your handwritten work and upload it to an answer cell below.\n",
        "\n",
        "3. To submit your work, turn in the URL for your Colab notebook."
      ]
    },
    {
      "cell_type": "markdown",
      "metadata": {
        "id": "bEsUKV6DbbhB"
      },
      "source": [
        "**Note**:\n",
        "Sample solutions are provided in order to help you **learn**. The purpose of these exercises is not to simply turn in the answers, but to take the time and effort to learn and understand the material. You are encouraged to work the problems first, then when you are satisfied that you have the correct answer, look at the sample solution and compare it with yours. "
      ]
    },
    {
      "cell_type": "markdown",
      "metadata": {
        "id": "dv4Eo7tO0Dpq"
      },
      "source": [
        "As you complete the problems below, you may use Python whenever you can think of way it could help you answer the question."
      ]
    },
    {
      "cell_type": "markdown",
      "metadata": {
        "id": "e9fcFDTx0Dpr"
      },
      "source": [
        "### Notes about drawing graphs\n",
        "\n",
        "Some of the problems will require you to draw a graph. You may \n",
        "\n",
        "1. (Preferred) Use a Python tool such as `Graphviz`. See the examples below. \n",
        "\n",
        "    For additional help with `Graphviz`, see [A Quick Introduction to Graphviz](https://www.worthe-it.co.za/blog/2017-09-19-quick-introduction-to-graphviz.html) and the [Graphviz Documentation](https://graphviz.org/documentation/), especially the [Attributes](https://graphviz.org/doc/info/attrs.html) page.\n",
        "\n",
        "    or\n",
        "    \n",
        "2. Draw them by hand and take a picture. To easily include a picture in Colab, open a **text** cell and use the \"Insert Image\" button or copy/paste a picture into the cell. Colab will automatically convert it to Base-64 encoding. Type \"ESC\" to close the cell and you'll see the picture. (For very large images, this might be slow...try resizing your images first if they are very large.)\n"
      ]
    },
    {
      "cell_type": "markdown",
      "metadata": {
        "id": "9EDi9AUL0Dps"
      },
      "source": [
        "Here's an example of how to draw a directed graph using `graphviz`. Note how you can specify the nodes and labels for those nodes like this:\n",
        "\n",
        "`a->b`  \n",
        "\n",
        "Which specifies a node called \"a\" with an edge going to \"b\"."
      ]
    },
    {
      "cell_type": "code",
      "execution_count": 27,
      "metadata": {
        "colab": {
          "base_uri": "https://localhost:8080/",
          "height": 262
        },
        "id": "KDFiffE90Dps",
        "outputId": "edd7b4b8-c927-49c5-ebb7-98e551702de6"
      },
      "outputs": [
        {
          "data": {
            "image/png": "[encoded data removed]",
            "text/plain": [
              "<IPython.core.display.Image object>"
            ]
          },
          "execution_count": 27,
          "metadata": {},
          "output_type": "execute_result"
        }
      ],
      "source": [
        "from graphviz import Source\n",
        "from IPython.display import Image\n",
        "\n",
        "sample_directed_graph = '''\n",
        "digraph {\n",
        "    layout=neato;\n",
        "    label=\"Sample Graph\";\n",
        "    labeljust=l;\n",
        "    labelloc=t;\n",
        "    edge [arrowsize=0.75]; # specifies the arrowhead size\n",
        "    node [shape=circle; fixedsize=true; width=0.30]; # specifies the node size/shape\n",
        "    a->b;\n",
        "    b->a;\n",
        "    a->c;\n",
        "    a->d;\n",
        "    b->c;\n",
        "    d->d;\n",
        "  }\n",
        " '''\n",
        "g = Source(sample_directed_graph, filename='sample_directed_graph', format='png')\n",
        "g.render()\n",
        "Image('sample_directed_graph.png')"
      ]
    },
    {
      "cell_type": "markdown",
      "metadata": {
        "id": "tWpt07z8bbhB"
      },
      "source": [
        "### Exercise 6.1"
      ]
    },
    {
      "cell_type": "markdown",
      "metadata": {
        "id": "kxjplwJV-ryF"
      },
      "source": [
        "Which of the following pairs are in the relation on the set $\\{1, 2, 3, 4\\}$ given by the description $\\{(x, y)\\ \\vert\\ x > y + 1\\}$? Use a Python lambda function or list comprehension to verify your response.\n",
        "\n",
        "1. $(2, 1)$\n",
        "2. $(2, 2)$\n",
        "3. $(2, 3)$\n",
        "4. $(2, 4)$\n",
        "5. $(3, 1)$\n",
        "6. $(3, 2)$\n",
        "7. $(4, 1)$\n",
        "8. $(4, 2)$\n",
        "9. $(4, 3)$\n"
      ]
    },
    {
      "cell_type": "markdown",
      "metadata": {
        "id": "JIVFRE_KbbhC"
      },
      "source": [
        "#### Your Answer:"
      ]
    },
    {
      "cell_type": "markdown",
      "metadata": {
        "id": "jDG17_wlG06Q"
      },
      "source": [
        "### Exercise 6.2\n",
        "\n"
      ]
    },
    {
      "cell_type": "markdown",
      "metadata": {
        "id": "C0UBBuv1G5h9"
      },
      "source": [
        "Characterize the following relations, generically named $R$. The first four problems have people as their domain. The last four problems have numbers as their domain.\n",
        "\n",
        "If the relation is an Equivalence Relation (ER), show it has reflexivity, symmetry and transitivity. If not, explain which of these three properties it lacks."
      ]
    },
    {
      "cell_type": "markdown",
      "metadata": {
        "id": "MDh0fILeG-ad"
      },
      "source": [
        "1. $xRy$ if $x$ and $y$ are siblings.\n",
        "2. $xRy$ if $x$ and $y$ have the same parents.\n",
        "3. $xRy$ if $x$ and $y$ share a common parent.\n",
        "4. $xRy$ if $x$ and $y$ speak a common language.\n",
        "5. $xRy$ if $x$ shares a vowel with $y$, with English words as $R$'s domain.\n",
        "6. $xRy$ if $x \\le y$.\n",
        "7. $xRy$ if $x^{2} + y^{2} = 1$.\n",
        "8. $xRy$ if $x + y = 42$.\n",
        "9. $xRy$ if $\\lceil x \\rceil = \\lfloor y \\rfloor$.\n"
      ]
    },
    {
      "cell_type": "markdown",
      "metadata": {
        "id": "IfX_wofy0Dpy"
      },
      "source": [
        "#### Your Answer:"
      ]
    },
    {
      "cell_type": "markdown",
      "metadata": {
        "id": "i2_OZhQY0SPF"
      },
      "source": [
        "### Exercise 6.3\n"
      ]
    },
    {
      "cell_type": "markdown",
      "metadata": {
        "id": "8gZEkq1p4_5e"
      },
      "source": [
        "For each matrix below, create an arrow diagram and express each relation as a set of ordered pairs.\n",
        "\n",
        "1. $\\begin{bmatrix}\n",
        "   1 & 0 & 1\\\\\n",
        "   0 & 1 & 0\\\\\n",
        "   1 & 0 & 1\n",
        "   \\end{bmatrix}$\n",
        "\n",
        "2. $\\begin{bmatrix}\n",
        "   0 & 1 & 1\\\\\n",
        "   1 & 0 & 0\\\\\n",
        "   0 & 0 & 1\n",
        "   \\end{bmatrix}$\n",
        "\n",
        "3. $\\begin{bmatrix}\n",
        "   1 & 0 & 0 & 1\\\\\n",
        "   0 & 1 & 0 & 0\\\\\n",
        "   0 & 0 & 0 & 0\\\\\n",
        "   0 & 0 & 1 & 1\n",
        "   \\end{bmatrix}$"
      ]
    },
    {
      "attachments": {},
      "cell_type": "markdown",
      "metadata": {
        "id": "BtU404vy0Rbd"
      },
      "source": [
        "#### Your Answer: \n"
      ]
    },
    {
      "cell_type": "markdown",
      "metadata": {
        "id": "Lr-0yejn1FxE"
      },
      "source": [
        "### Exercise 6.4\n"
      ]
    },
    {
      "cell_type": "markdown",
      "metadata": {
        "id": "D8Y4U9Lc5GVT"
      },
      "source": [
        "For each of the arrow diagrams given below, create the Matrix representation and show the relation as a set of ordered pairs. \\\n",
        "*Note there are 3 cells each containing a graph*"
      ]
    },
    {
      "cell_type": "code",
      "execution_count": 24,
      "metadata": {
        "colab": {
          "base_uri": "https://localhost:8080/",
          "height": 255
        },
        "id": "DdGkFx1P6zJS",
        "outputId": "1c777066-08fb-4f19-f403-6d7a3ddfd1ec"
      },
      "outputs": [
        {
          "data": {
            "image/png": "[encoded data removed]",
            "text/plain": [
              "<IPython.core.display.Image object>"
            ]
          },
          "execution_count": 24,
          "metadata": {},
          "output_type": "execute_result"
        }
      ],
      "source": [
        "#@title show code  {display-mode: \"form\"}\n",
        "from graphviz import Source\n",
        "from IPython.display import Image\n",
        "\n",
        "graph64a = '''\n",
        "digraph {\n",
        "    label=\"Diagram A\";\n",
        "    labeljust=l;\n",
        "    labelloc=t;\n",
        "    layout=neato;\n",
        "    edge [arrowsize=0.75];\n",
        "    node [shape=circle; fixedsize=true; width=0.30];\n",
        "    1->2;\n",
        "    1->3;\n",
        "    3->3;\n",
        "    2->1;\n",
        "  }\n",
        " '''\n",
        "g = Source(graph64a, filename='graph64a', format='png')\n",
        "g.render()\n",
        "Image('graph64a.png')"
      ]
    },
    {
      "cell_type": "code",
      "execution_count": 25,
      "metadata": {
        "colab": {
          "base_uri": "https://localhost:8080/",
          "height": 194
        },
        "id": "9djOFO-UAEvd",
        "outputId": "a3d2e220-259d-4dd9-8876-cbc143341872"
      },
      "outputs": [
        {
          "data": {
            "image/png": "[encoded data removed]",
            "text/plain": [
              "<IPython.core.display.Image object>"
            ]
          },
          "execution_count": 25,
          "metadata": {},
          "output_type": "execute_result"
        }
      ],
      "source": [
        "#@title show code  {display-mode: \"form\"}\n",
        "graph64b = '''\n",
        "digraph {\n",
        "    layout=neato;\n",
        "    label=\"Diagram B\";\n",
        "    labeljust=l;\n",
        "    labelloc=t;\n",
        "    edge [arrowsize=0.75];\n",
        "    node [shape=circle; fixedsize=true; width=0.30];\n",
        "    1:n->1:n;\n",
        "    1->2;\n",
        "    2->3;\n",
        "    3->1;\n",
        "  }\n",
        " '''\n",
        "g = Source(graph64b, filename='graph64b', format='png')\n",
        "g.render()\n",
        "Image('graph64b.png')"
      ]
    },
    {
      "cell_type": "code",
      "execution_count": 26,
      "metadata": {
        "colab": {
          "base_uri": "https://localhost:8080/",
          "height": 171
        },
        "id": "h5kzNL_1AShr",
        "outputId": "0fac30f0-62ea-4181-fcc4-04a371e1fb54"
      },
      "outputs": [
        {
          "data": {
            "image/png": "[encoded data removed]",
            "text/plain": [
              "<IPython.core.display.Image object>"
            ]
          },
          "execution_count": 26,
          "metadata": {},
          "output_type": "execute_result"
        }
      ],
      "source": [
        "#@title show code  {display-mode: \"form\"}\n",
        "graph64c = '''\n",
        "digraph {\n",
        "    layout=neato;\n",
        "    label=\"Diagram C\";\n",
        "    labeljust=l;\n",
        "    labelloc=t;\n",
        "    edge [arrowsize=0.75];\n",
        "    node [shape=circle; fixedsize=true; width=0.30];\n",
        "    1->1;\n",
        "    2->3;\n",
        "    3->4;\n",
        "    4->2;\n",
        "    2->4;\n",
        "    3->3;\n",
        "    4->4;\n",
        "  }\n",
        " '''\n",
        "g = Source(graph64c, filename='graph64c', format='png')\n",
        "g.render()\n",
        "Image('graph64c.png')"
      ]
    },
    {
      "cell_type": "markdown",
      "metadata": {
        "id": "pKd89jg71PFu"
      },
      "source": [
        "#### Your Answer: \n"
      ]
    },
    {
      "cell_type": "markdown",
      "metadata": {
        "id": "QpZV0mV01RKZ"
      },
      "source": [
        "### Exercise 6.5"
      ]
    },
    {
      "cell_type": "markdown",
      "metadata": {
        "id": "RVkhpMF5A8pZ"
      },
      "source": [
        "For the following Relation, indicate if the relation is:\n",
        "* Reflexive, Anti-Reflexive, or neither\n",
        "* Symmetric, Anti-Symmetric, or neither\n",
        "* Transitive or not Transitive\n",
        "\n",
        "1. The domain of the relation R is {b}. R = {(b, b)}\n",
        "2. The domain of the relation R is {a, b, c}. R = {(a, a), (b, b), (c, c)}\n",
        "3. The domain of the relation R is {a, b, c}. R = {(a, b), (a, c), (b, c), (c, b)}\n",
        "4. The domain of the relation R is {a, b, c, d, e}. R = {(a, b), (a, c), (a, d), (a, e), (b, e), (d, b), (e, b)}\n",
        "5. The domain of the relation R is {a, b}. R = {(a, b), (a, a), (b, a), (b, b)} "
      ]
    },
    {
      "cell_type": "markdown",
      "metadata": {
        "id": "2PdCkSC-1Uye"
      },
      "source": [
        "#### Your Answer\n"
      ]
    },
    {
      "cell_type": "markdown",
      "metadata": {
        "id": "tpVh-8sy1ZeV"
      },
      "source": [
        "### Exercise 6.6\n"
      ]
    },
    {
      "cell_type": "markdown",
      "metadata": {
        "id": "MflBqSo471n7"
      },
      "source": [
        "S = {3, 31, 39, 65, 75, 20, 40, 30, 81, 18, 57, 88, 92} \\\n",
        "Show the partition of S for the numbers that have the same remainder when divided by 5. "
      ]
    },
    {
      "cell_type": "markdown",
      "metadata": {
        "id": "HUmpu_qJ1a35"
      },
      "source": [
        "#### Your Answer"
      ]
    },
    {
      "cell_type": "markdown",
      "metadata": {
        "id": "wvw7Monq1obH"
      },
      "source": [
        "### Exercise 6.7"
      ]
    },
    {
      "cell_type": "markdown",
      "metadata": {
        "id": "HuNGFLz_8zA-"
      },
      "source": [
        "Let the domain $D = \\{0,1\\}^4$.  Determine whether each of the following are equivalence relations or not. Justify your answers.\n",
        "\n",
        "1. Define the relation $R$ as $xRy$ if $y$ can be obtained by reversing the order of the bits in $x$. For example, if $x=0001$ and $y=1000$, then $xRy$.\n",
        "\n",
        "2. Define the relation $R$ as $xRy$ if $y \\le x$. "
      ]
    },
    {
      "cell_type": "markdown",
      "metadata": {
        "id": "79uygmPe1qhg"
      },
      "source": [
        "#### Your Answer\n"
      ]
    },
    {
      "cell_type": "markdown",
      "metadata": {
        "id": "8XyTJ0Rx1suv"
      },
      "source": [
        "### Exercise 6.8"
      ]
    },
    {
      "cell_type": "markdown",
      "metadata": {
        "id": "cZ0sLsRU4qZO"
      },
      "source": [
        "Show the relations as a set of tuples in roster format: \\\n",
        "A) R = { (w, x, y): w, x, y, z are positive integers, w + x + y = 5 } \\\n",
        "B) D = { (e, f, g, h): e, f, g, h are positive integers, e < f < g < h < 6 } \n"
      ]
    },
    {
      "cell_type": "markdown",
      "metadata": {
        "id": "P_yFNBmI1tu6"
      },
      "source": [
        "#### Your Answer\n"
      ]
    },
    {
      "cell_type": "markdown",
      "metadata": {
        "id": "xArPwVRM1viA"
      },
      "source": [
        "### Exercise 6.9"
      ]
    },
    {
      "cell_type": "markdown",
      "metadata": {
        "id": "1lerP2Jf5cqa"
      },
      "source": [
        "Here are two relations: \\\n",
        "A = { (x, y, z) : x, y, z are positive integers, x < y < z < 7} \\\n",
        "B = { (a, b, c) : a, b, c are positive integers, a != b, b != c, a != c, and a + b + c < 7 } \\\n",
        "\n",
        "a) Express A as a set of triples in roster format. \\\n",
        "b) Express B as a set of triples in roster format. \\\n",
        "c) Express A $\\cap$ B in roster format. \\"
      ]
    },
    {
      "cell_type": "markdown",
      "metadata": {
        "id": "e_7689xT1yhn"
      },
      "source": [
        "#### Your Answer\n"
      ]
    },
    {
      "cell_type": "markdown",
      "metadata": {
        "id": "jEZp1mjTEI2-"
      },
      "source": [
        "### Exercise 6.10\n"
      ]
    },
    {
      "cell_type": "markdown",
      "metadata": {
        "id": "VHt6cunTEKI6"
      },
      "source": [
        "Here is a tiny database of students and courses, implemented as Python lists and dictionaries.\n"
      ]
    },
    {
      "cell_type": "code",
      "execution_count": 36,
      "metadata": {
        "id": "665RVle5ELll"
      },
      "outputs": [],
      "source": [
        "students = [1, 2, 3, 4, 5, 6, 7, 8]\n",
        "\n",
        "courses = [100, 200, 300, 400]\n",
        "\n",
        "student2course = {1:[100, 200], 2:[100], 3:[100, 200, 300], \\\n",
        "                  4:[100, 200, 300, 400], 5:[100], 6:[100], \\\n",
        "                  7:[100, 200], 8:[100, 200, 300, 400]}\n",
        "\n",
        "course2student = {100:[1, 2, 3, 4, 5, 6, 7, 8], \\\n",
        "                  200:[1, 3, 4, 7, 8], \\\n",
        "                  300:[3, 4, 8], 400:[4, 8]}"
      ]
    },
    {
      "cell_type": "markdown",
      "metadata": {
        "id": "0wDnB9JEESwV"
      },
      "source": [
        "You can tell just by looking, but your task is to write code to\n",
        "* find all students who have taken all courses, and\n",
        "* find all courses that have been taken by all students.\n",
        "\n",
        "Hint: The queries are “duals” of each other. Both of them could use a couple of lambda functions and a single call to the list, filter, all, and map functions.\n"
      ]
    },
    {
      "cell_type": "markdown",
      "metadata": {
        "id": "9TRB3BpO0Dp2"
      },
      "source": [
        "#### Your Answer:"
      ]
    },
    {
      "cell_type": "code",
      "execution_count": null,
      "metadata": {
        "id": "tZ6TNg9I0Dp2"
      },
      "outputs": [],
      "source": []
    },
    {
      "cell_type": "markdown",
      "metadata": {
        "id": "HCjgnJwTbbhN"
      },
      "source": [
        "----------------------\n",
        "## Sample Solutions\n",
        "\n",
        "**Note**:\n",
        "Sample solutions are provided in order to help you **learn**. The purpose of these exercises is not to simply turn in the answers, but to take the time and effort to learn and understand the material. You are encouraged to work the problems first, then when you are satisfied that you have the correct answer, look at the sample solution and compare it with yours. "
      ]
    },
    {
      "cell_type": "markdown",
      "metadata": {
        "id": "klO6DoW-0Dp3"
      },
      "source": [
        "### Sample Solution 6.1\n"
      ]
    },
    {
      "cell_type": "code",
      "execution_count": null,
      "metadata": {
        "id": "DTh_8bcp0Dp3"
      },
      "outputs": [],
      "source": [
        "s = {1, 2, 3, 4}\n",
        "\n",
        "# Using list comprehension\n",
        "r = [(x,y) for x in s for y in s if x > y + 1]\n",
        "print(r)\n",
        "\n",
        "\n",
        "# Using lambda\n",
        "r = [*filter(lambda pair: pair[0] > pair[1]+1, [(x,y) for x in s for y in s])]\n",
        "print(r)\n",
        "\n",
        "# Using nested for loops\n",
        "for x in range(1, 5):\n",
        "  for y in range(1, 5):\n",
        "    if (lambda x, y: x > y + 1)(x, y):\n",
        "      print(f'{(x, y)}')\n",
        "\n",
        "\n",
        "# Using reduce\n",
        "from functools import reduce\n",
        "r = reduce(lambda a,b: a + [(b[0], b[1])] if b[0] > b[1] + 1 else a, [[], *[(x,y) for x in s for y in s]])\n",
        "print(r)"
      ]
    },
    {
      "cell_type": "markdown",
      "metadata": {
        "id": "bEUbtbfZ0Dpy"
      },
      "source": [
        "### Sample Solution 6.2\n"
      ]
    },
    {
      "cell_type": "markdown",
      "metadata": {
        "id": "zE8UoLrr2qya"
      },
      "source": [
        "1. Not an ER, lacks reflexivity. You are not your own sibling.\n",
        "2. Reflexivity: you have the same parents as yourself.\n",
        "   Symmetry: If you have the same parents as your brother, your brother has the same parents as you.\n",
        "   Transitivity: If you have the same parents as your sister,\n",
        "   and your sister has the same parents as your brother,\n",
        "   then you have the same parents as your brother.\n",
        "   Thus this is an ER.\n",
        "3. This is not an ER, because it is not necessarily transitive (assuming biological\n",
        "   parents are what is meant). X may have parents A and B, Y may have parents\n",
        "   B and C, and Z may have parents C and D. Then X and Y share a common parent\n",
        "   (B), Y and Z share a common parent (C), but X and Z do not share a common\n",
        "   parent.\n",
        "4. For similar reasoning to why the relation in Part 3 is not, this is also not an ER.\n",
        "5. Ditto.\n",
        "6. Not an ER, lacks symmetry. 3 is less than or equal to 4, but 4 is not less than or equal to 3.\n",
        "7. Not an ER, lacks transitivity. If $x^{2} + y^{2} = 1$, and $y^{2} + z^{2} = 1$, then $x^{2} + z^{2}$ does not necessarily $= 1$.\n",
        "8. Not an ER, lacks reflexivity. $x + x = 42$ is true for exactly one value, $x = 21$. So unless the universe for this relation consists of the number 21, and nothing else, it cannot be reflexive. If the universe is just the number 21, then it is an ER (trivially).\n",
        "9. Not an ER, lacks reflexivity. $\\lceil 3.14 \\rceil \\ne \\lfloor 3.14 \\rfloor$. Lacks symmetry too."
      ]
    },
    {
      "cell_type": "markdown",
      "metadata": {
        "id": "hacaU9FF5p1c"
      },
      "source": [
        "### Sample Solution 6.3"
      ]
    },
    {
      "cell_type": "markdown",
      "metadata": {
        "id": "LA_kzXZQ5vE_"
      },
      "source": [
        "1. {(1,1) (1,3) (2,2) (3,1) (3,3)}\n",
        "2. {(1,2) (1,3) (2,1) (3,3)}\n",
        "3. {(1,1) (1,4) (2,2) (4,3) (4,4)}"
      ]
    },
    {
      "cell_type": "code",
      "execution_count": 28,
      "metadata": {
        "colab": {
          "base_uri": "https://localhost:8080/",
          "height": 148
        },
        "id": "8OUIiD1G56xC",
        "outputId": "26963966-b0de-4d14-fdd7-de73256a6eec"
      },
      "outputs": [
        {
          "data": {
            "image/png": "[encoded data removed]",
            "text/plain": [
              "<IPython.core.display.Image object>"
            ]
          },
          "execution_count": 28,
          "metadata": {},
          "output_type": "execute_result"
        }
      ],
      "source": [
        "from graphviz import Source\n",
        "from IPython.display import Image\n",
        "\n",
        "# 1 ----------------------------------------\n",
        "\n",
        "sample_directed_graph = '''\n",
        "digraph {\n",
        "    layout=neato;\n",
        "    node [shape=circle];\n",
        "    1:n->1:n;\n",
        "    1->3;\n",
        "    2->2;\n",
        "    3->1;\n",
        "    3->3;\n",
        "  }\n",
        " '''\n",
        "g = Source(sample_directed_graph, filename='sample_directed_graph', format='png')\n",
        "g.render()\n",
        "Image('sample_directed_graph.png')"
      ]
    },
    {
      "cell_type": "code",
      "execution_count": null,
      "metadata": {
        "colab": {
          "base_uri": "https://localhost:8080/",
          "height": 243
        },
        "id": "qBKUDfjZ55xX",
        "outputId": "2b6a65e0-5bd0-4d0b-859b-187be575b0ea"
      },
      "outputs": [
        {
          "data": {
            "image/png": "[encoded data removed]",
            "text/plain": [
              "<IPython.core.display.Image object>"
            ]
          },
          "execution_count": 8,
          "metadata": {},
          "output_type": "execute_result"
        }
      ],
      "source": [
        "from graphviz import Source\n",
        "from IPython.display import Image\n",
        "\n",
        "# 2 ----------------------------------------\n",
        "\n",
        "sample_directed_graph = '''\n",
        "digraph {\n",
        "    layout=neato;\n",
        "    node [shape=circle];\n",
        "    1->2;\n",
        "    1->3;\n",
        "    2->1;\n",
        "    3->3;\n",
        "  }\n",
        " '''\n",
        "g = Source(sample_directed_graph, filename='sample_directed_graph', format='png')\n",
        "g.render()\n",
        "Image('sample_directed_graph.png')"
      ]
    },
    {
      "cell_type": "code",
      "execution_count": null,
      "metadata": {
        "colab": {
          "base_uri": "https://localhost:8080/",
          "height": 243
        },
        "id": "DsG-eQzf54AZ",
        "outputId": "5c4fe012-93dd-4997-bb03-2a9a13def3c3"
      },
      "outputs": [
        {
          "data": {
            "image/png": "[encoded data removed]",
            "text/plain": [
              "<IPython.core.display.Image object>"
            ]
          },
          "execution_count": 9,
          "metadata": {},
          "output_type": "execute_result"
        }
      ],
      "source": [
        "from graphviz import Source\n",
        "from IPython.display import Image\n",
        "\n",
        "# 3 ----------------------------------------\n",
        "\n",
        "sample_directed_graph = '''\n",
        "digraph {\n",
        "    layout=neato;\n",
        "    node [shape=circle];\n",
        "    1->1;\n",
        "    1->4;\n",
        "    2->2;\n",
        "    4->3;\n",
        "    4->4;\n",
        "  }\n",
        " '''\n",
        "g = Source(sample_directed_graph, filename='sample_directed_graph', format='png')\n",
        "g.render()\n",
        "Image('sample_directed_graph.png')"
      ]
    },
    {
      "cell_type": "markdown",
      "metadata": {
        "id": "isSbmIlz6AAN"
      },
      "source": [
        "### Sample Solution 6.4"
      ]
    },
    {
      "cell_type": "markdown",
      "metadata": {
        "id": "vBE2N6Fs6E6m"
      },
      "source": [
        "1. $\\begin{bmatrix}\n",
        "   0 & 1 & 1\\\\\n",
        "   1 & 0 & 0\\\\\n",
        "   0 & 0 & 1\n",
        "   \\end{bmatrix} $\n",
        "\n",
        "   {(1, 2), (1, 3), (2, 1), (3, 3)}\n",
        "\n",
        "2. $\\begin{bmatrix}\n",
        "   1 & 1 & 0\\\\\n",
        "   0 & 0 & 1\\\\\n",
        "   1 & 0 & 0\n",
        "   \\end{bmatrix}$\n",
        "\n",
        "   {(1, 1), (1, 2), (2, 3), (3, 1)}\n",
        "\n",
        "3. $\\begin{bmatrix}\n",
        "   1 & 0 & 0 & 0\\\\\n",
        "   0 & 0 & 1 & 1\\\\\n",
        "   0 & 0 & 1 & 0\\\\\n",
        "   0 & 1 & 0 & 1\\\\\n",
        "   \\end{bmatrix}$\n",
        "\n",
        "   {(1, 1), (2, 3), (2, 4), (3, 3), (4, 2), (4, 4)}"
      ]
    },
    {
      "cell_type": "markdown",
      "metadata": {
        "id": "1TJFDM4E68NK"
      },
      "source": [
        "### Sample Solution 6.5"
      ]
    },
    {
      "cell_type": "markdown",
      "metadata": {
        "id": "nV33co9Y6-Fz"
      },
      "source": [
        "1. Reflexive, Anti-Symmetric, Not Transitive\n",
        "2. Reflexive, Anti-Symmetric, Not Transitive\n",
        "3. Anti-Reflexive, Neither, Not Transitive\n",
        "4. Anti-Reflexive, Neither, Not Transitive\n",
        "5. Reflexive, Symmetric, Not Transitive"
      ]
    },
    {
      "cell_type": "markdown",
      "metadata": {
        "id": "msBGisrM94FZ"
      },
      "source": [
        "### Sample Solution 6.6"
      ]
    },
    {
      "cell_type": "markdown",
      "metadata": {
        "id": "bMjTa3dA96Bq"
      },
      "source": [
        "{65, 75, 20, 40, 30}, {31, 81}, {2, 92}, {3, 18, 88}, {39}"
      ]
    },
    {
      "cell_type": "markdown",
      "metadata": {
        "id": "0u5yUhW1NRTi"
      },
      "source": [
        "### Sample Solution 6.7"
      ]
    },
    {
      "cell_type": "markdown",
      "metadata": {
        "id": "e9EpG4N-NcKe"
      },
      "source": [
        "1. R is not reflexive because 0001 reversed is 1000, so xRx is not true.\n",
        "\n",
        "2. R is reflexive because $0000 \\le 0000$, so $x \\le x$. \n",
        "\n",
        "   R is not symmetric. Let $x=0000$ and $y=0001$. $x \\le y$. However, $y\\not \\le x$, therefore, R is not symmetric."
      ]
    },
    {
      "cell_type": "markdown",
      "metadata": {
        "id": "QQWfIJC8_GKg"
      },
      "source": [
        "### Sample Solution 6.8"
      ]
    },
    {
      "cell_type": "markdown",
      "metadata": {
        "id": "LnJSnsEO_KSq"
      },
      "source": [
        "A) {(1, 1, 3), (1, 2, 2), (2, 1, 2), (2, 2, 1), (3, 1, 1)} \\\n",
        "B) {(1, 2, 3, 4), (1, 2, 3, 5), (1, 2, 4, 5), (1, 3, 4, 5), (2, 3, 4, 5)}"
      ]
    },
    {
      "cell_type": "markdown",
      "metadata": {
        "id": "apvLlVAX_OL9"
      },
      "source": [
        "### Sample Solution 6.9"
      ]
    },
    {
      "cell_type": "markdown",
      "metadata": {
        "id": "CplRGr1f_PuU"
      },
      "source": [
        "a) { (1, 2, 3), (1, 2, 4), (1, 2, 5), (1, 2, 6), (1, 3, 4), (1, 3, 5), (1, 3, 6), (1, 4, 5), (1, 4, 6), (1, 5, 6), (2, 3, 4), (2, 3, 5), (2, 3, 6), (2, 4, 5), (2, 4, 6), (2, 5, 6), (3, 4, 5), (3, 4, 6), (3, 5, 6), (4, 5, 6)} \\\n",
        "\n",
        "b) {(1, 2, 3), (1, 3, 2), (2, 1, 3), (2, 3, 1), (3, 1, 2), (3, 2, 1)} \\\n",
        "\n",
        "c) {(1, 2, 3)}"
      ]
    },
    {
      "cell_type": "markdown",
      "metadata": {
        "id": "jYmM3mks0Dp2"
      },
      "source": [
        "### Sample Solution 6.10\n"
      ]
    },
    {
      "cell_type": "code",
      "execution_count": null,
      "metadata": {
        "colab": {
          "base_uri": "https://localhost:8080/"
        },
        "id": "xsU_vrlE3_uK",
        "outputId": "77993ac9-e5b4-4753-9777-d64abcd1d8df"
      },
      "outputs": [
        {
          "name": "stdout",
          "output_type": "stream",
          "text": [
            "[4, 8]\n",
            "[100]\n"
          ]
        }
      ],
      "source": [
        "# students who have taken all courses\n",
        "print(list(filter(lambda student: all(map(lambda course: \\\n",
        "           course in student2course[student], courses)), students)))\n",
        "\n",
        "# courses that have been taken by all students\n",
        "print(list(filter(lambda course: all(map(lambda student: \\\n",
        "           student in course2student[course], students)), courses)))"
      ]
    },
    {
      "cell_type": "code",
      "execution_count": 37,
      "metadata": {
        "colab": {
          "base_uri": "https://localhost:8080/"
        },
        "id": "nA5F-a8seG4k",
        "outputId": "19eb897c-8c13-45c5-f1e7-49583a92f7ae"
      },
      "outputs": [
        {
          "name": "stdout",
          "output_type": "stream",
          "text": [
            "[4, 8]\n",
            "[100]\n"
          ]
        }
      ],
      "source": [
        "# Another way\n",
        "print([student for student in student2course if len(student2course[student]) == len(courses)])\n",
        "print([course for course in course2student if len(course2student[course]) == len(students)])"
      ]
    },
    {
      "cell_type": "code",
      "execution_count": 38,
      "metadata": {
        "colab": {
          "base_uri": "https://localhost:8080/"
        },
        "id": "NYc5BLxXfc-y",
        "outputId": "6a2b5fe4-831b-46b0-ac1e-ca6bd0a0a9e5"
      },
      "outputs": [
        {
          "name": "stdout",
          "output_type": "stream",
          "text": [
            "[4, 8]\n",
            "[100]\n"
          ]
        }
      ],
      "source": [
        "# Another way, using your own \"forall\" function\n",
        "forall = lambda P, seq: len([item for item in seq if P(item) == True]) == len(seq)\n",
        "print([student for student in student2course if forall(lambda x: x in student2course[student], courses)] )\n",
        "print([course for course in course2student if forall(lambda x: x in course2student[course], students)] )\n"
      ]
    },
    {
      "cell_type": "code",
      "execution_count": 40,
      "metadata": {
        "colab": {
          "base_uri": "https://localhost:8080/"
        },
        "id": "gziJ50D0gufN",
        "outputId": "93311ad2-f77d-441d-ae6d-78aeb9b146c2"
      },
      "outputs": [
        {
          "data": {
            "text/plain": [
              "[4, 8]"
            ]
          },
          "execution_count": 40,
          "metadata": {},
          "output_type": "execute_result"
        }
      ],
      "source": [
        "forall = lambda P, seq: all(map(P, seq)) # another way to define \"forall\"\n",
        "[student for student in student2course if forall(lambda x: x in student2course[student], courses)] "
      ]
    },
    {
      "cell_type": "code",
      "execution_count": 42,
      "metadata": {
        "colab": {
          "base_uri": "https://localhost:8080/"
        },
        "id": "9jXr_YQdLrCP",
        "outputId": "cc156f3c-b878-4612-fc2f-d2b1839c188f"
      },
      "outputs": [
        {
          "name": "stdout",
          "output_type": "stream",
          "text": [
            "[4, 8]\n"
          ]
        }
      ],
      "source": [
        "# Another way, using for loops\n",
        "\n",
        "def forall(P, seq):\n",
        "  for item in seq:\n",
        "    if not P(item):\n",
        "      return False\n",
        "  return True\n",
        "\n",
        "result = []\n",
        "for student in student2course:\n",
        "  if forall(lambda course: course in student2course[student], courses):\n",
        "    result.append(student)\n",
        "print(result)\n"
      ]
    }
  ],
  "metadata": {
    "colab": {
      "collapsed_sections": [
        "HCjgnJwTbbhN"
      ],
      "name": "cse280-homework-06.ipynb",
      "private_outputs": false,
      "provenance": [],
      "toc_visible": true
    },
    "interpreter": {
      "hash": "1977c1262a5a71e57f8e1e2a9337f4268800bf2d1a595fc1ecb322ccb8b2351d"
    },
    "kernelspec": {
      "display_name": "Python 3.9.0 ('.env': venv)",
      "language": "python",
      "name": "python3"
    },
    "language_info": {
      "codemirror_mode": {
        "name": "ipython",
        "version": 3
      },
      "file_extension": ".py",
      "mimetype": "text/x-python",
      "name": "python",
      "nbconvert_exporter": "python",
      "pygments_lexer": "ipython3",
      "version": "3.9.0 (tags/v3.9.0:9cf6752, Oct  5 2020, 15:34:40) [MSC v.1927 64 bit (AMD64)]"
    }
  },
  "nbformat": 4,
  "nbformat_minor": 0
}
