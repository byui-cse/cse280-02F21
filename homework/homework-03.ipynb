{
  "cells": [
    {
      "attachments": {},
      "cell_type": "markdown",
      "metadata": {
        "id": "_Mr3AvSgSswx"
      },
      "source": [
        "# Homework 3 - Sets"
      ]
    },
    {
      "attachments": {},
      "cell_type": "markdown",
      "metadata": {
        "id": "w1t0weuGbbhA"
      },
      "source": [
        "**Instructions:** Complete the exercises below.\n",
        "\n",
        "1. Make a copy of this Colab Notebook using **`File -> Save a copy in Drive`**. \n",
        "\n",
        "2. Answer the exercise questions below. Type your answers to each question by double-clicking on **`Your Answer`** and typing your response.\n",
        "\n",
        "    Note that you can use any combination of plain text, Markdown, or LaTeX. As a last resort, you can simply take a picture of your handwritten work and upload it to an answer cell below.\n",
        "\n",
        "3. To submit your work, turn in the URL for your Colab notebook by clicking \"Share\" then \"Copy Link\"."
      ]
    },
    {
      "cell_type": "markdown",
      "metadata": {
        "id": "bEsUKV6DbbhB"
      },
      "source": [
        "**Note**:\n",
        "Sample solutions are provided in order to help you **learn**. The purpose of these exercises is not to simply turn in the answers, but to take the time and effort to learn and understand the material. You are encouraged to work the problems first, then when you are satisfied that you have the correct answer, look at the sample solution and compare it with yours. "
      ]
    },
    {
      "attachments": {},
      "cell_type": "markdown",
      "metadata": {},
      "source": [
        "As you complete the problems below, you may use Python whenever you can think of a way it could help you answer the question."
      ]
    },
    {
      "attachments": {},
      "cell_type": "markdown",
      "metadata": {},
      "source": [
        "### Exercise 3.1"
      ]
    },
    {
      "cell_type": "markdown",
      "metadata": {},
      "source": [
        "List four elements of each of the following sets:\n",
        "\n",
        "1. $\\{x \\in \\mathbb{Z^+} : x - 1 \\texttt{ is a multiple of 7 } \\}$\n",
        "2. $\\{x : x \\texttt{ is a fruit and its skin is normally eaten }\\}$\n",
        "3. $\\{x \\in \\mathbb{Q} : \\frac{1}{x} \\in \\mathbb{Z}\\}$\n",
        "4. $\\{2n: n\\in\\mathbb{Z}, n < 0\\}$\n",
        "5. $\\{s: s=1+2+\\dots+n \\texttt{ for some } n \\in \\mathbb{Z^+}\\}$\n",
        "\n",
        "Question adapted from [Applied Discrete Structures](https://discretemath.org/) by Alan Doerr & Kenneth Levasseur which is licensed under a [Creative Commons Attribution-NonCommercial-ShareAlike 3.0 United States License](http://creativecommons.org/licenses/by-nc-sa/3.0/us/)."
      ]
    },
    {
      "cell_type": "markdown",
      "metadata": {
        "id": "gSFYT4EHbbhF"
      },
      "source": [
        "#### Your Answer:"
      ]
    },
    {
      "attachments": {},
      "cell_type": "markdown",
      "metadata": {},
      "source": [
        "### Exercise 3.2"
      ]
    },
    {
      "cell_type": "markdown",
      "metadata": {},
      "source": [
        "Let $A = \\{0,2,3\\}$, $B = \\{2,3\\}$, $C=\\{1,5,9\\}$, and the universal set $U=\\{0,1,2,\\dots,9\\}$.\n",
        "\n",
        "Determine:\n",
        "\n",
        "1. $A \\cap B$\n",
        "2. $A \\cup B$\n",
        "3. $B \\cup A$\n",
        "4. $A \\cup C$\n",
        "5. $A - B$\n",
        "6. $B - A$\n",
        "7. $\\overline A$\n",
        "8. $\\overline C$\n",
        "9. $A \\cap C$\n",
        "10. $A \\oplus B$\n",
        "\n",
        "\n",
        "\n",
        "Question adapted from [Applied Discrete Structures](https://discretemath.org/) by Alan Doerr & Kenneth Levasseur which is licensed under a [Creative Commons Attribution-NonCommercial-ShareAlike 3.0 United States License](http://creativecommons.org/licenses/by-nc-sa/3.0/us/)."
      ]
    },
    {
      "cell_type": "markdown",
      "metadata": {
        "id": "gSFYT4EHbbhF"
      },
      "source": [
        "#### Your Answer:"
      ]
    },
    {
      "attachments": {},
      "cell_type": "markdown",
      "metadata": {
        "id": "3KuEDe6qAZqG"
      },
      "source": [
        "### Exercise 3.3"
      ]
    },
    {
      "cell_type": "markdown",
      "metadata": {
        "id": "CYE2_bHYAZqG"
      },
      "source": [
        "Python sets are similar to mathematical sets and include a number of methods and operators for working with sets. Note that sets in Python are unordered, so we cannot access elements by position and when displaying sets, no order is guaranteed.\n",
        "\n",
        "Python sets are created similarly to Python lists, but use the \"{\" and \"}\" rather than \"[\" and \"]\".\n",
        "\n",
        "Here are some examples of working with Python sets:"
      ]
    },
    {
      "cell_type": "code",
      "execution_count": null,
      "metadata": {},
      "outputs": [],
      "source": [
        "A = {2, 3, 4, 7, 9} # Create a set A\n",
        "B = {1, 5, 8} # Create a set B\n",
        "C = {3, 7} # Create a set C\n",
        "D = set() # Create an empty set D\n",
        "\n",
        "print('A: ', A)\n",
        "print('B: ', B)\n",
        "print('C: ', C)\n",
        "print('D: ', D, '# Note \"set()\" indicates the empty set')\n",
        "\n",
        "# Use set methods and operators\n",
        "print('A ∪ B:', A.union(B))\n",
        "print('A ∪ B:', A | B)  # The | operator works for set union\n",
        "print('A ∩ B:', A.intersection(B))\n",
        "print('A ∩ B:', A & B)  # The & operator works for set intersection\n",
        "print('A - B:', A.difference(B))\n",
        "print('A - B:', A - B)  # The - operator works for set difference\n",
        "print('C ⊆ A:', C.issubset(A))\n",
        "print('C ⊆ A:', C <= A) # The <= and < operators work for subset and proper subset\n",
        "print('C ⊂ A:', C < A)  # proper subset\n",
        "\n",
        "# Sets can contain items other than numbers\n",
        "E = {'adam', 'bob', 'carol'}\n",
        "F = {'bob', 'dave', 'eve'}\n",
        "print('E:', E)\n",
        "print('F:', F)\n",
        "print('E ∪ F:', E.union(F))\n",
        "print('E ∩ F:', E.intersection(F))\n",
        "\n",
        "# Determine membership in a set using 'in'\n",
        "print('Is \"adam\" a member of E? ', 'adam' in E)\n",
        "\n",
        "# Add or remove items from a set\n",
        "E.add('dave')\n",
        "E.discard('bob')\n",
        "print('Updated E:', E)\n",
        "\n",
        "# Create a set from something else\n",
        "G = set('ABCDEFG') # Create a set from a string\n",
        "H = set(['X', 'Y', 'Z']) # Create a set from a list\n",
        "print('G: ', G)\n",
        "print('H: ', H)\n"
      ]
    },
    {
      "attachments": {},
      "cell_type": "markdown",
      "metadata": {},
      "source": [
        "#### Use Python to answer these questions from Exercise 3.2 and repeated here:\n",
        "\n",
        "Let $A = \\{0,2,3\\}$, $B = \\{2,3\\}$, $C=\\{1,5,9\\}$, and the universal set $U=\\{0,1,2,\\dots,9\\}$.\n",
        "\n",
        "Determine:\n",
        "\n",
        "1. $A \\cap B$\n",
        "2. $A \\cup B$\n",
        "3. $B \\cup A$\n",
        "4. $A \\cup C$\n",
        "5. $A - B$\n",
        "6. $B - A$\n",
        "7. $\\overline A$\n",
        "8. $\\overline C$\n",
        "9. $A \\cap C$\n",
        "10. $A \\oplus B$"
      ]
    },
    {
      "cell_type": "markdown",
      "metadata": {
        "id": "gSFYT4EHbbhF"
      },
      "source": [
        "#### Your Answer:"
      ]
    },
    {
      "cell_type": "code",
      "execution_count": null,
      "metadata": {},
      "outputs": [],
      "source": [
        "# Fill in your code here\n",
        "\n"
      ]
    },
    {
      "attachments": {},
      "cell_type": "markdown",
      "metadata": {},
      "source": [
        "### Exercise 3.4"
      ]
    },
    {
      "cell_type": "markdown",
      "metadata": {},
      "source": [
        "#### Use Python to answer the following questions:\n",
        "\n",
        "Let $A$ be the set of letters in the English alphabet\n",
        "\n",
        "Let $B$ be the set of letters in the Hawaiian alphabet (Do some quick research to find this)\n",
        "\n",
        "1. What is the cardinality of the Hawaiian alphabet?\n",
        "1. Is the Hawaiian alphabet a **proper** subset of the English alphabet?\n",
        "1. What is the set intersection between A and B? What is the cardinality of the intersection? \n",
        "1. What is the set union between A and B? What is the cardinality of the union? \n",
        "1. What is the set difference between A and B? What is the cardinality of the difference? \n",
        "1. What is the symmetric difference between A and B? What is the cardinality of this set?\n",
        "1. Is the symmetric difference the same as the difference? Why or why not?\n"
      ]
    },
    {
      "cell_type": "markdown",
      "metadata": {
        "id": "gSFYT4EHbbhF"
      },
      "source": [
        "#### Your Answer:"
      ]
    },
    {
      "cell_type": "code",
      "execution_count": null,
      "metadata": {},
      "outputs": [],
      "source": [
        "# Fill in your code here\n",
        "\n"
      ]
    },
    {
      "attachments": {},
      "cell_type": "markdown",
      "metadata": {},
      "source": [
        "### Exercise 3.5"
      ]
    },
    {
      "cell_type": "markdown",
      "metadata": {},
      "source": [
        "Python list comprehensions (and set comprehensions) are similar to set builder notation. For example, the set of the first twenty even numbers is represented using set builder notation as:\n",
        "\n",
        "$S = \\{x \\in \\mathbb{Z}: x = 2n \\texttt{ and } 0 \\le n \\le 19 \\}$\n",
        "\n",
        "This set could be created in Python like this:"
      ]
    },
    {
      "cell_type": "code",
      "execution_count": null,
      "metadata": {},
      "outputs": [],
      "source": [
        "S = {2*n for n in range(20)}\n",
        "print(S)"
      ]
    },
    {
      "cell_type": "markdown",
      "metadata": {},
      "source": [
        "We can also include an \"if\" statement in the Python list comprehension to add additional filters when building the set.\n",
        "\n",
        "<!-- The set $S = \\{x \\in \\mathbb{Z}: x = 2n \\texttt{ and } 0 \\le n \\le 19 \\texttt{ and } x \\texttt{ is a multiple of 3 } \\}$ -->\n",
        "\n",
        "For example, to build the set of odd integers between 1 and 20, the set builder notation would be\n",
        "\n",
        "$\\{x \\in \\mathbb{Z}: x \\le 20 \\texttt{ and } x \\texttt{ is odd }\\}$\n",
        "\n",
        "In Python:"
      ]
    },
    {
      "cell_type": "code",
      "execution_count": null,
      "metadata": {},
      "outputs": [],
      "source": [
        "print({x for x in range(21) if x%2})"
      ]
    },
    {
      "cell_type": "markdown",
      "metadata": {},
      "source": [
        "Using Python list (or set) comprehensions, create the following sets. Assume the domain is $\\mathbb{Z}$. \n",
        "\n",
        "When printing the result, use `sorted` to convert the sets to a sorted list to make it easier to verify your result.\n",
        "\n",
        "1. The first 100 multiples of 3.\n",
        "2. The perfect squares from 1 to 100. (An integer $x$ is a perfect square if there is an integer $y$ such that $x = y^2$ )\n",
        "3. All integers whose absolute value is less than 5.\n",
        "4. The odd integers between -10 and 10.\n",
        "5. The integers between 0 and 100 that end in the digit 3 or 7."
      ]
    },
    {
      "cell_type": "markdown",
      "metadata": {
        "id": "gSFYT4EHbbhF"
      },
      "source": [
        "#### Your Answer:"
      ]
    },
    {
      "cell_type": "code",
      "execution_count": null,
      "metadata": {},
      "outputs": [],
      "source": [
        "# Fill in your code here\n",
        "\n"
      ]
    },
    {
      "attachments": {},
      "cell_type": "markdown",
      "metadata": {},
      "source": [
        "### Exercise 3.6"
      ]
    },
    {
      "attachments": {},
      "cell_type": "markdown",
      "metadata": {},
      "source": [
        "Use Python set comprehensions to generate and display all the members of the following sets:\n",
        "\n",
        "1. $\\{\\frac{1}{n}: n \\in \\{2,4,8,16\\}\\}$\n",
        "2. $\\{n^2 : n \\in \\{-2, -1, 0, 1, 2\\}\\}$\n",
        "3. $\\{n \\in \\mathbb{Z^+} : n \\text{ is a factor of } 24\\}$\n",
        "4. $\\{\\alpha \\in \\text{the English alphabet} : \\alpha \\text{ precedes F}\\}$\n",
        "\n",
        "Question adapted from [Applied Discrete Structures](https://discretemath.org/) by Alan Doerr & Kenneth Levasseur which is licensed under a [Creative Commons Attribution-NonCommercial-ShareAlike 3.0 United States License](http://creativecommons.org/licenses/by-nc-sa/3.0/us/)."
      ]
    },
    {
      "cell_type": "markdown",
      "metadata": {},
      "source": [
        "#### Your Answer:"
      ]
    },
    {
      "cell_type": "code",
      "execution_count": null,
      "metadata": {},
      "outputs": [],
      "source": [
        "# Fill in your code here\n",
        "\n"
      ]
    },
    {
      "attachments": {},
      "cell_type": "markdown",
      "metadata": {
        "id": "_0ujyNQdbbhJ"
      },
      "source": [
        "### Exercise 3.7"
      ]
    },
    {
      "cell_type": "markdown",
      "metadata": {
        "id": "tq8CyFLUMxoq"
      },
      "source": [
        "Let A and B be two sets of words:\n",
        "\n",
        "A = {'verve', 'vim', 'vigor'}\n",
        "\n",
        "B = {'butter', 'vinegar', 'pepper', 'vigor'}\n",
        "\n",
        "For each of the following set operations, give its resulting members as a set of strings. Use Python.\n",
        "\n",
        "1. The set of words that are in A $\\cup$ B; call this set C.\n",
        "2. The set of words that are in A $\\cap$ B; call this set D.\n",
        "3. The subset of set C of words that start with 'v'.\n",
        "4. The subset of set C of words that end with 'r'.\n",
        "5. The subset of set C of words that start with 'v' and end with 'r'.\n",
        "6. The subset of set D of words that have five letters.\n",
        "7. The subset of set D of words that have six letters."
      ]
    },
    {
      "cell_type": "markdown",
      "metadata": {},
      "source": [
        "#### Your Answer:"
      ]
    },
    {
      "cell_type": "code",
      "execution_count": null,
      "metadata": {},
      "outputs": [],
      "source": [
        "# Fill in your code here\n",
        "\n"
      ]
    },
    {
      "attachments": {},
      "cell_type": "markdown",
      "metadata": {
        "id": "tWpt07z8bbhB"
      },
      "source": [
        "### Exercise 3.8"
      ]
    },
    {
      "cell_type": "markdown",
      "metadata": {},
      "source": [
        "Let $A = \\{0,2,3\\}$, $B=\\{2,3\\}$, $C = \\{1,4\\}$, and let the universal set $U = \\{0,1,2,3,4\\}$. List the elements of each of the following:\n",
        "\n",
        "1. $A \\times B$\n",
        "2. $B \\times A$\n",
        "3. $A \\times B \\times C$\n",
        "4. $U \\times \\emptyset$\n",
        "5. $A \\times \\overline A$\n",
        "6. $B^2$\n",
        "\n",
        "\n",
        "Question adapted from [Applied Discrete Structures](https://discretemath.org/) by Alan Doerr & Kenneth Levasseur which is licensed under a [Creative Commons Attribution-NonCommercial-ShareAlike 3.0 United States License](http://creativecommons.org/licenses/by-nc-sa/3.0/us/)."
      ]
    },
    {
      "cell_type": "markdown",
      "metadata": {
        "id": "JIVFRE_KbbhC"
      },
      "source": [
        "#### Your Answer:"
      ]
    },
    {
      "attachments": {},
      "cell_type": "markdown",
      "metadata": {
        "id": "tWpt07z8bbhB"
      },
      "source": [
        "### Exercise 3.9"
      ]
    },
    {
      "cell_type": "markdown",
      "metadata": {},
      "source": [
        "Use Python to answer the following questions.\n",
        "\n",
        "1. List all the elements in the Cartesian Product, $A \\times B$, where\n",
        "\n",
        "    $A = \\{a,b,c,d,e,f\\}$ and $B = \\{0,1,2,3,4,5\\}$\n",
        "\n",
        "2. What is the cardinality of $A \\times B$?\n",
        "\n",
        "3. List all the elements in $C \\times C \\times C$, where $C = \\{0,1\\}$\n",
        "\n",
        "4. What is the cardinality of $C \\times C \\times C$?"
      ]
    },
    {
      "cell_type": "markdown",
      "metadata": {
        "id": "JIVFRE_KbbhC"
      },
      "source": [
        "#### Your Answer:"
      ]
    },
    {
      "attachments": {},
      "cell_type": "markdown",
      "metadata": {},
      "source": [
        "### Exercise 3.10"
      ]
    },
    {
      "cell_type": "markdown",
      "metadata": {
        "id": "3vlcLLl-kzRf"
      },
      "source": [
        "Which pairs of the following sets are pairwise disjoint?\n",
        "1. The set of all even numbers.\n",
        "2. The set of all odd numbers.\n",
        "3. The set of all nonnegative powers of 2."
      ]
    },
    {
      "cell_type": "markdown",
      "metadata": {
        "id": "JIVFRE_KbbhC"
      },
      "source": [
        "#### Your Answer:"
      ]
    },
    {
      "attachments": {},
      "cell_type": "markdown",
      "metadata": {
        "id": "IMHczLMQlaSt"
      },
      "source": [
        "### Exercise 3.11"
      ]
    },
    {
      "cell_type": "markdown",
      "metadata": {},
      "source": [
        "List all partitions of the set $A = \\{a,b,c\\}$.\n",
        "\n",
        "\n",
        "Question adapted from [Applied Discrete Structures](https://discretemath.org/) by Alan Doerr & Kenneth Levasseur which is licensed under a [Creative Commons Attribution-NonCommercial-ShareAlike 3.0 United States License](http://creativecommons.org/licenses/by-nc-sa/3.0/us/).\n"
      ]
    },
    {
      "cell_type": "markdown",
      "metadata": {
        "id": "iRX6sYjAbbhN"
      },
      "source": [
        "#### Your Answer:"
      ]
    },
    {
      "cell_type": "markdown",
      "metadata": {
        "id": "HCjgnJwTbbhN"
      },
      "source": [
        "----------------------\n",
        "## Sample Solutions\n",
        "\n",
        "**Note**:\n",
        "Sample solutions are provided in order to help you **learn**. The purpose of these exercises is not to simply turn in the answers, but to take the time and effort to learn and understand the material. You are encouraged to work the problems first, then when you are satisfied that you have the correct answer, look at the sample solution and compare it with yours. "
      ]
    },
    {
      "attachments": {},
      "cell_type": "markdown",
      "metadata": {},
      "source": [
        "### Sample Solution 3.1"
      ]
    },
    {
      "cell_type": "markdown",
      "metadata": {},
      "source": [
        "These answers are not unique.\n",
        "\n",
        "1. 8, 15, 22, 29\n",
        "2. apple, pear, peach, plum\n",
        "3. 1/2, 1/3, 1/4, 1/5\n",
        "4. -2, -4, -6, -8\n",
        "5. 6, 10, 15, 21\n"
      ]
    },
    {
      "attachments": {},
      "cell_type": "markdown",
      "metadata": {},
      "source": [
        "### Sample Solution 3.2"
      ]
    },
    {
      "cell_type": "markdown",
      "metadata": {},
      "source": [
        "1. {2,3}\n",
        "2. {0,2,3}\n",
        "3. {0,2,3}\n",
        "4. {0,1,2,3,5,9}\n",
        "5. {0}\n",
        "6. {}\n",
        "7. {1,4,5,6,7,8,9}\n",
        "8. {0,2,3,4,6,7,8}\n",
        "9. {}\n",
        "10. {0}\n"
      ]
    },
    {
      "attachments": {},
      "cell_type": "markdown",
      "metadata": {},
      "source": [
        "### Sample Solution 3.3"
      ]
    },
    {
      "cell_type": "code",
      "execution_count": null,
      "metadata": {
        "id": "yglBT-UuAZqI"
      },
      "outputs": [],
      "source": [
        "A = {0,2,3}\n",
        "B = {2,3}\n",
        "C = {1,5,9}\n",
        "U = {0,1,2,3,4,5,6,7,8,9}\n",
        "\n",
        "print('1.', A & B)\n",
        "print('2.', A | B)\n",
        "print('3.', B | A)\n",
        "print('4.', A | C)\n",
        "print('5.', A - B)\n",
        "print('6.', B - A)\n",
        "print('7.', U - A)\n",
        "print('8.', U - C)\n",
        "print('9.', A & C)\n",
        "print('10.', A.symmetric_difference(B))\n",
        "print('10.', (A - B) | (B - A)) # Another way to do symmetric difference\n",
        "\n"
      ]
    },
    {
      "attachments": {},
      "cell_type": "markdown",
      "metadata": {},
      "source": [
        "### Sample Solution 3.4"
      ]
    },
    {
      "cell_type": "code",
      "execution_count": null,
      "metadata": {
        "id": "yglBT-UuAZqI"
      },
      "outputs": [],
      "source": [
        "English_alphabet = set('ABCDEFGHIJKLMNOPQRSTUVWXYZ')\n",
        "Hawaiian_alphabet = set('AEIOUHKLMNPW')\n",
        "print('1.', len(Hawaiian_alphabet))\n",
        "print('2.', Hawaiian_alphabet.issubset(English_alphabet) and not Hawaiian_alphabet == English_alphabet)\n",
        "intersection = English_alphabet.intersection(Hawaiian_alphabet)\n",
        "print('3. Intersection: ', intersection, ' Cardinality: ', len(intersection))\n",
        "print('  ', intersection == Hawaiian_alphabet)\n",
        "print(\"   It's no surprise that the intersection is just the Hawaiian alphabet,\")\n",
        "print(\"   given that it's a proper subset of the English alphabet.\")\n",
        "print()\n",
        "union = English_alphabet.union(Hawaiian_alphabet)\n",
        "print('4. Union: ', union, ' Cardinality: ', len(union))\n",
        "difference = English_alphabet - Hawaiian_alphabet\n",
        "print('5. Difference: ', difference, ' Cardinality: ', len(difference))\n",
        "symmetric_difference = English_alphabet.symmetric_difference(Hawaiian_alphabet)\n",
        "print('6. Symmetric Difference ', symmetric_difference, ' Cardinality: ', len(symmetric_difference))\n",
        "print('7.', difference == symmetric_difference)\n",
        "print('''   This is true because the symmetric difference is all of the elements \n",
        "   that are in only one of the sets, but every element in the Hawaiian alphabet \n",
        "   is also in the English alphabet. So the symmetric difference is only those \n",
        "   letters in the English alphabet that are not also in the Hawaiian alphabet.\n",
        "''')"
      ]
    },
    {
      "attachments": {},
      "cell_type": "markdown",
      "metadata": {},
      "source": [
        "### Sample Solution 3.5"
      ]
    },
    {
      "cell_type": "code",
      "execution_count": null,
      "metadata": {},
      "outputs": [],
      "source": [
        "print('1.', sorted({3*n for n in range(101)}))\n",
        "print('2.', sorted({x**2 for x in range(1, 11)}))\n",
        "print('3.', sorted({x for x in range(-4, 5)}))\n",
        "print('4.', sorted({x for x in range(-10, 11) if x%2}))\n",
        "print('5.', sorted({x for x in range(101) if x%10 == 3 or x%10 == 7}))"
      ]
    },
    {
      "attachments": {},
      "cell_type": "markdown",
      "metadata": {},
      "source": [
        "### Sample Solution 3.6"
      ]
    },
    {
      "cell_type": "code",
      "execution_count": null,
      "metadata": {},
      "outputs": [],
      "source": [
        "print('1.', {1/n for n in [2,4,8,16]})\n",
        "print('2.', {n**2 for n in range(-2,3)})\n",
        "print('3.', {n for n in range(1, 24) if not 24 % n})\n",
        "print('4.', {a for a in 'ABCDEFGHIJKLMNOPQRSTUVWXYZ' if a < 'F'})"
      ]
    },
    {
      "attachments": {},
      "cell_type": "markdown",
      "metadata": {},
      "source": [
        "### Sample Solution 3.7"
      ]
    },
    {
      "cell_type": "code",
      "execution_count": null,
      "metadata": {
        "id": "QF919GqlMxos"
      },
      "outputs": [],
      "source": [
        "A = {'verve', 'vim', 'vigor'}\n",
        "print('A =', A)\n",
        "B = {'butter', 'vinegar', 'pepper', 'vigor'}\n",
        "print('B =', B)\n",
        "C = A.union(B)\n",
        "print('1. C =', C)\n",
        "D = A.intersection(B)\n",
        "print('2. D =', D)\n",
        "start_with_v = {word for word in C if word[0] == 'v'}\n",
        "print('3. start_with_v =', start_with_v)\n",
        "end_with_r = {word for word in C if word[-1:] == 'r'}\n",
        "print('4. end_with_r =', end_with_r)\n",
        "start_with_v_and_end_with_r = start_with_v.intersection(end_with_r)\n",
        "print('5. start_with_v_and_end_with_r =', start_with_v_and_end_with_r)\n",
        "subset_of_D_of_words_with_five_letters = {word for word in D if len(word) == 5}\n",
        "print('6. subset_of_D_of_words_with_five_letters =', subset_of_D_of_words_with_five_letters)\n",
        "subset_of_D_of_words_with_six_letters = {word for word in D if len(word) == 6}\n",
        "print('7. subset_of_D_of_words_with_six_letters =', subset_of_D_of_words_with_six_letters)"
      ]
    },
    {
      "attachments": {},
      "cell_type": "markdown",
      "metadata": {},
      "source": [
        "### Sample Solution 3.8"
      ]
    },
    {
      "cell_type": "markdown",
      "metadata": {},
      "source": [
        "1. $\\{(0,2), (0,3), (2,2), (2,3), (3,2), (3,3)\\}$\n",
        "2. $\\{(2,0), (2,2), (2,3), (3,0), (3,2), (3,3)\\}$\n",
        "3. $\\{(0,2,1), (0,2,4), (0,3,1), (0,3,4), (2,2,1), (2,2,4), (2,3,1), (2,3,4), (3,2,1), (3,2,4), (3,3,1), (3,3,4)\\}$\n",
        "4. $\\emptyset$\n",
        "5. $\\{(0,1), (0,4), (2,1), (2,4), (3,1), (3,4)\\}$\n",
        "6. $\\{(2,2), (2,3), (3,2), (3,3)\\}$"
      ]
    },
    {
      "cell_type": "code",
      "execution_count": null,
      "metadata": {},
      "outputs": [],
      "source": [
        "# Using Python\n",
        "A = {0,2,3}\n",
        "B = {2,3}\n",
        "C = {1,4}\n",
        "U = {0,1,2,3,4}\n",
        "\n",
        "print('1.',{(a,b) for a in A for b in B})\n",
        "print('2.',{(b,a) for b in B for a in A})\n",
        "print('3.',{(a,b,c) for a in A for b in B for c in C})\n",
        "print('4.',{(u, x) for u in U for x in set()})\n",
        "print('5.',{(a,na) for a in A for na in U - A})\n",
        "print('6.',{(b1,b2) for b1 in B for b2 in B})"
      ]
    },
    {
      "attachments": {},
      "cell_type": "markdown",
      "metadata": {},
      "source": [
        "### Sample Solution 3.9"
      ]
    },
    {
      "cell_type": "code",
      "execution_count": null,
      "metadata": {},
      "outputs": [],
      "source": [
        "# Sample solution for Exercise 3.9\n",
        "\n",
        "# 1\n",
        "A = {'a', 'b', 'c', 'd', 'e', 'f'}\n",
        "B = {0,1,2,3,4,5}\n",
        "prod = {(a,b) for a in A for b in B}\n",
        "print('1.', *prod)\n",
        "\n",
        "# 2\n",
        "print('2.', len(prod))\n",
        "\n",
        "# Alternatively, use the product function from itertools\n",
        "from itertools import product\n",
        "print('1.', *product(A,B))\n",
        "\n",
        "# 3\n",
        "C = [0,1]\n",
        "prod = [(p1,p2,p3) for p1 in C for p2 in C for p3 in C]\n",
        "print('3.',prod)\n",
        "\n",
        "# 4\n",
        "print('4.', len(prod))"
      ]
    },
    {
      "attachments": {},
      "cell_type": "markdown",
      "metadata": {},
      "source": [
        "### Sample Solution 3.10"
      ]
    },
    {
      "cell_type": "markdown",
      "metadata": {},
      "source": [
        "The evens are disjoint from the odds. No other two sets are pairwise disjoint,\n",
        "because the zero'th power of 2 is 1, an odd number, while every other nonnegative\n",
        "power of 2 is even."
      ]
    },
    {
      "attachments": {},
      "cell_type": "markdown",
      "metadata": {},
      "source": [
        "### Sample Solution 3.11"
      ]
    },
    {
      "cell_type": "markdown",
      "metadata": {},
      "source": [
        "{a,b,c}\n",
        "\n",
        "{a}, {b,c}\n",
        "\n",
        "{a,b}, {c}\n",
        "\n",
        "{a,c}, {b}\n",
        "\n",
        "{a}, {b}, {c}"
      ]
    }
  ],
  "metadata": {
    "colab": {
      "collapsed_sections": [
        "HCjgnJwTbbhN"
      ],
      "name": "cse280-homework-03.ipynb",
      "private_outputs": false,
      "provenance": [],
      "toc_visible": true
    },
    "interpreter": {
      "hash": "1977c1262a5a71e57f8e1e2a9337f4268800bf2d1a595fc1ecb322ccb8b2351d"
    },
    "kernelspec": {
      "display_name": "Python 3.9.0 ('.env': venv)",
      "language": "python",
      "name": "python3"
    },
    "language_info": {
      "codemirror_mode": {
        "name": "ipython",
        "version": 3
      },
      "file_extension": ".py",
      "mimetype": "text/x-python",
      "name": "python",
      "nbconvert_exporter": "python",
      "pygments_lexer": "ipython3",
      "version": "3.9.0"
    }
  },
  "nbformat": 4,
  "nbformat_minor": 0
}
