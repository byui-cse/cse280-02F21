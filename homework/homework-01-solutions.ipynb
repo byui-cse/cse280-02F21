{
 "cells": [
  {
   "cell_type": "markdown",
   "metadata": {
    "id": "_Mr3AvSgSswx"
   },
   "source": [
    "# <font color=blue>Homework 1 - Propositions & Logic </font>\n",
    "## <font color=blue>Prepare</font>"
   ]
  },
  {
   "cell_type": "markdown",
   "metadata": {},
   "source": [
    "**Instructions:** Complete the exercises below.\n",
    "\n",
    "1. First, make a copy of this Colab Notebook to your GitHub account as a GitHub Gist (File -> Save a copy as a GitHub Gist). This will allow you to save any changes you make.\n",
    "\n",
    "2. Now enter your answers to each question in the places shown below. \n",
    "\n",
    "3. To submit your work, turn in the URL for your Colab notebook. Make sure the URL has `gist` in it. It should look something like this:\n",
    "`https://colab.research.google.com/gist/yourgithubusername/somerandomnumbersandletters/chapter-1-introductions-exercises.ipynb`"
   ]
  },
  {
   "cell_type": "markdown",
   "metadata": {},
   "source": [
    "### Exercise 1.1"
   ]
  },
  {
   "cell_type": "markdown",
   "metadata": {
    "id": "2pcAJcFCYS42"
   },
   "source": [
    "Write three propositions and three non-propositions."
   ]
  },
  {
   "cell_type": "markdown",
   "metadata": {},
   "source": [
    "Your Answer:"
   ]
  },
  {
   "cell_type": "markdown",
   "metadata": {
    "id": "cka7gs7GBS72"
   },
   "source": [
    "### Exercise 1.2"
   ]
  },
  {
   "cell_type": "markdown",
   "metadata": {
    "id": "mbd0-wcaBoAi"
   },
   "source": [
    "Let $p$ be the proposition \"I studied.\" and $q$ be the proposition \"I got an A on the test.\" Express the following symbolic propositions in English:\n",
    "1. $p \\land q$.\n",
    "2. $\\lnot p \\land q$.\n",
    "3. $p \\land \\lnot q$.\n",
    "4. $\\lnot p \\land \\lnot q$.\n",
    "5. $p \\lor q$.\n",
    "6. $\\lnot p \\lor q$.\n",
    "7. $p \\lor \\lnot q$.\n",
    "8. $\\lnot p \\lor \\lnot q$.\n"
   ]
  },
  {
   "cell_type": "markdown",
   "metadata": {},
   "source": [
    "Your Answer:\n"
   ]
  },
  {
   "cell_type": "markdown",
   "metadata": {
    "id": "RA3nTBfMYYUm"
   },
   "source": [
    "### Exercise 1.3"
   ]
  },
  {
   "cell_type": "markdown",
   "metadata": {
    "id": "B5CMZM5MYYUn"
   },
   "source": [
    "Construct truth tables for the following propositions:\n",
    "1. $p \\land q$\n",
    "2. $p \\lor q$\n",
    "3. $\\lnot p \\lor q$\n",
    "4. $p \\land \\lnot q$\n",
    "5. $p \\land (q \\oplus \\lnot r)$\n",
    "6. $p \\lor (\\lnot q \\oplus \\lnot r)$\n",
    "\n",
    "This is a chance to practice using either LaTeX or Markdown to construct tables. Just \"Google\" it!\n",
    "\n",
    "Or you can draw them by hand. The point is to practice creating them.\n",
    "\n",
    "Here is an example of how to create a table using Markdown (double-click on cell to see source):\n",
    "\n",
    "| p | q | p $\\land$ q |\n",
    "|---|---|---|\n",
    "|T|T|T|\n",
    "|T|F|F|\n",
    "|F|T|F|\n",
    "|F|F|F|\n",
    "\n",
    "\n",
    "You may create a single large truth table or six smaller truth tables.\n"
   ]
  },
  {
   "cell_type": "markdown",
   "metadata": {},
   "source": [
    "Your Answer:"
   ]
  },
  {
   "cell_type": "markdown",
   "metadata": {},
   "source": [
    "### Exercise 1.4"
   ]
  },
  {
   "cell_type": "markdown",
   "metadata": {},
   "source": [
    "Python has built in logical operators for **or**, **and**, and **not**. Using these operators, write a Python function called `xor` to implement the **exclusive or** operation. Your `xor` function should take two arguments.\n",
    "\n",
    "After you implement your function, run the following code, which should result in a truth table for exclusive or.\n",
    "\n"
   ]
  },
  {
   "cell_type": "code",
   "execution_count": 2,
   "metadata": {},
   "outputs": [
    {
     "name": "stdout",
     "output_type": "stream",
     "text": [
      "p       q       p xor q\n",
      "True    True    False   \n",
      "True    False   True    \n",
      "False   True    True    \n",
      "False   False   False   \n"
     ]
    }
   ],
   "source": [
    "# Print a truth table for p xor q\n",
    "print(f'p       q       p xor q')\n",
    "for (p,q) in [(p,q) for p in [True, False] for q in [True, False]]:\n",
    "    print(f'{p!s:<8}{q!s:<8}{xor(p,q)!s:<8}')\n",
    "\n",
    "\n",
    "# Should result in output like this:\n",
    "# p       q       p xor q\n",
    "# True    True    False   \n",
    "# True    False   True    \n",
    "# False   True    True    \n",
    "# False   False   False "
   ]
  },
  {
   "cell_type": "markdown",
   "metadata": {},
   "source": [
    "### Sample Solution 1.4"
   ]
  },
  {
   "cell_type": "code",
   "execution_count": 1,
   "metadata": {},
   "outputs": [],
   "source": [
    "def xor(p, q):\n",
    "    # return (p and not q) or (q and not p)\n",
    "    # return p != q # another way\n",
    "    return not p if q else p   # an alternative way\n",
    "\n",
    "# Another way, using a lambda function\n",
    "xor = lambda p, q: p != q"
   ]
  },
  {
   "cell_type": "markdown",
   "metadata": {},
   "source": [
    "### Exercise 1.5"
   ]
  },
  {
   "cell_type": "markdown",
   "metadata": {},
   "source": [
    "Explore logical operations in Python by using Python to generate a truth table for the following propositions:\n",
    "1. $p \\land q$\n",
    "2. $p \\lor q$\n",
    "3. $\\lnot p \\lor q$\n",
    "4. $p \\land \\lnot q$\n",
    "5. $p \\land (q \\oplus \\lnot r)$\n",
    "6. $p \\lor (\\lnot q \\oplus \\lnot r)$\n",
    "\n",
    "Compare your Python result with the tables you created in Exercise 1.3.\n",
    "\n",
    "You may need to use the `xor` function you created previously."
   ]
  },
  {
   "cell_type": "markdown",
   "metadata": {},
   "source": [
    "Your Answer:"
   ]
  },
  {
   "cell_type": "markdown",
   "metadata": {},
   "source": [
    "### Sample Solution 1.5:"
   ]
  },
  {
   "cell_type": "code",
   "execution_count": null,
   "metadata": {},
   "outputs": [],
   "source": [
    "print(f'p       q       r       not p or q   p and not q    p and (q xor not r)    p or (not q xor not r)')\n",
    "values = [(p,q,r) for p in [True, False] for q in [True, False] for r in [True, False]]\n",
    "for (p,q,r) in values:\n",
    "    print(f'{p!s:<8}{q!s:<8}{r!s:<8}{not p or q!s:<13}{p and not q!s:<15}{p and (xor(q, not r))!s:<23}{p or (xor(not q, not r))!s:<10}')\n",
    "\n",
    "\n"
   ]
  }
 ],
 "metadata": {
  "colab": {
   "authorship_tag": "ABX9TyM2pnZ50IB1krMNsEI2wRWT",
   "collapsed_sections": [],
   "name": "chapter-1-introductions-exercises.ipynb",
   "private_outputs": false,
   "provenance": [],
   "toc_visible": true
  },
  "kernelspec": {
   "display_name": "Python 3",
   "language": "python",
   "name": "python3"
  },
  "language_info": {
   "codemirror_mode": {
    "name": "ipython",
    "version": 3
   },
   "file_extension": ".py",
   "mimetype": "text/x-python",
   "name": "python",
   "nbconvert_exporter": "python",
   "pygments_lexer": "ipython3",
   "version": "3.9.0"
  }
 },
 "nbformat": 4,
 "nbformat_minor": 1
}
