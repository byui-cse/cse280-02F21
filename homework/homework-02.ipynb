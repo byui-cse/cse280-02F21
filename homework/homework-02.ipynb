{
  "cells": [
    {
      "attachments": {},
      "cell_type": "markdown",
      "metadata": {
        "id": "_Mr3AvSgSswx"
      },
      "source": [
        "# Homework 2 - More Logic and Conditionals"
      ]
    },
    {
      "attachments": {},
      "cell_type": "markdown",
      "metadata": {
        "id": "w1t0weuGbbhA"
      },
      "source": [
        "**Instructions:** Complete the exercises below.\n",
        "\n",
        "1. Make a copy of this Colab Notebook using **`File -> Save a copy in Drive`**. \n",
        "\n",
        "2. Answer the exercise questions below. Type your answers to each question by double-clicking on **`Your Answer`** and typing your response.\n",
        "\n",
        "    Note that you can use any combination of plain text, Markdown, or LaTeX. As a last resort, you can simply take a picture of your handwritten work and upload it to an answer cell below.\n",
        "\n",
        "3. To submit your work, turn in the URL for your Colab notebook."
      ]
    },
    {
      "cell_type": "markdown",
      "metadata": {
        "id": "bEsUKV6DbbhB"
      },
      "source": [
        "**Note**:\n",
        "Sample solutions are provided in order to help you **learn**. The purpose of these exercises is not to simply turn in the answers, but to take the time and effort to learn and understand the material. You are encouraged to work the problems first, then when you are satisfied that you have the correct answer, look at the sample solution and compare it with yours. "
      ]
    },
    {
      "cell_type": "markdown",
      "metadata": {
        "id": "tWpt07z8bbhB"
      },
      "source": [
        "### Exercise 2.1"
      ]
    },
    {
      "cell_type": "markdown",
      "metadata": {
        "id": "f6nBUO4DvajR"
      },
      "source": [
        "Let $p$ be the proposition &ldquo;I studied.&rdquo; and let $q$ be the proposition &ldquo;I got an A on the test.&rdquo;\n",
        "\n",
        "Express the following propositions as English sentences.\n",
        "\n",
        "1. $p \\rightarrow q$\n",
        "2. $\\lnot p \\lor \\lnot q$\n",
        "3. $\\lnot p \\rightarrow (p \\lor q)$\n",
        "4. $\\lnot p \\rightarrow \\lnot q$"
      ]
    },
    {
      "cell_type": "markdown",
      "metadata": {
        "id": "JIVFRE_KbbhC"
      },
      "source": [
        "#### Your Answer:"
      ]
    },
    {
      "cell_type": "markdown",
      "metadata": {
        "id": "cka7gs7GBS72"
      },
      "source": [
        "### Exercise 2.2"
      ]
    },
    {
      "cell_type": "markdown",
      "metadata": {
        "id": "01tCtdJQLJES"
      },
      "source": [
        "True or false? Briefly explain your reasoning for each.\n",
        "\n",
        "1. If 2 + 2 = 4, then pigs can fly.\n",
        "\n",
        "2. If 2 + 7 = 5, then Elvis is alive.\n",
        "\n",
        "3. If pigs can fly, then dogs can't fly.\n",
        "\n",
        "4. If dogs have four legs, then ostriches have two legs.\n",
        "\n",
        "5. 2 + 1 = 3 if and only if 1 + 2 = 3.\n",
        "\n",
        "6. 1 + 2 = 3 if and only if 3 + 1 = 6.\n",
        "\n",
        "7. 1 + 3 = 2 if and only if the earth is flat.\n",
        "\n",
        "8. 1 < 2 if and only if 2 < 3."
      ]
    },
    {
      "cell_type": "markdown",
      "metadata": {
        "id": "1TzQYrqxbbhE"
      },
      "source": [
        "#### Your Answer:\n"
      ]
    },
    {
      "cell_type": "markdown",
      "metadata": {
        "id": "RA3nTBfMYYUm"
      },
      "source": [
        "### Exercise 2.3"
      ]
    },
    {
      "attachments": {},
      "cell_type": "markdown",
      "metadata": {
        "id": "WoqvEXUdI0-l"
      },
      "source": [
        "Let $p$ be the proposition &ldquo;You applied for college admission.&rdquo; and let $q$ be the proposition &ldquo;You were accepted.&rdquo;\n",
        "\n",
        "Express the following English sentences as symbolic compound propositions using the logical **conditional** (or biconditional) connective.\n",
        "\n",
        "1. Your applying for college admission is necessary for your being accepted.\n",
        "2. Your being accepted is a sufficient condition for your applying for college admission.\n",
        "3. Your applying for college admission is necessary and sufficient for your being accepted."
      ]
    },
    {
      "cell_type": "markdown",
      "metadata": {
        "id": "gSFYT4EHbbhF"
      },
      "source": [
        "#### Your Answer:"
      ]
    },
    {
      "cell_type": "markdown",
      "metadata": {
        "id": "ElUxUNgabbhH"
      },
      "source": [
        "### Exercise 2.4"
      ]
    },
    {
      "attachments": {},
      "cell_type": "markdown",
      "metadata": {
        "id": "jPAVeayTbbhH"
      },
      "source": [
        "Write Python functions to implement the **conditional** operator \"$\\rightarrow$\" (implies) and the **biconditional** operator \"$\\leftrightarrow$\" (if and only if, frequently written as \"iff\").\n",
        "\n",
        "In other words, complete these functions:"
      ]
    },
    {
      "cell_type": "code",
      "execution_count": null,
      "metadata": {
        "id": "Pu4EweTwbbhH"
      },
      "outputs": [],
      "source": [
        "def implies(p, q):\n",
        "    \"\"\"Implements the conditional operator ->\n",
        "    \"\"\"\n",
        "    pass # replace with your code\n",
        "\n",
        "\n",
        "def iff(p, q):\n",
        "    \"\"\"Implements the biconditional operator <-->\n",
        "    \"\"\"\n",
        "    pass # replace with your code"
      ]
    },
    {
      "cell_type": "markdown",
      "metadata": {
        "id": "1xGfoMf0bbhH"
      },
      "source": [
        "Then use Python to print a truth table for $p \\rightarrow q$ and $p \\leftrightarrow q$ using your `implies` and `iff` functions to verify they are working correctly. The truth table should look something like this:\n",
        "\n",
        "|p|q|p->q|p<->q\n",
        "|--|--|--|--|\n",
        "|T|T|T|T|\n",
        "|T|F|F|F|\n",
        "|F|T|T|F|\n",
        "|F|F|T|T|\n"
      ]
    },
    {
      "cell_type": "markdown",
      "metadata": {
        "id": "vl6emiMdbbhI"
      },
      "source": [
        "#### Your Answer:"
      ]
    },
    {
      "cell_type": "markdown",
      "metadata": {
        "id": "Gc1VW5ugbbhI"
      },
      "source": [
        "### Exercise 2.5"
      ]
    },
    {
      "cell_type": "markdown",
      "metadata": {
        "id": "GplkPshG0AvE"
      },
      "source": [
        "The Boolean operators `and`, `or`, and `not` are built into Python. This is an exercise in implementing these operators arithmetically (i.e., using `-`, `+`, and `*`). \n",
        "\n",
        "Your task is to implement the `not1`, `or1`, and `and1` functions below, **arithmetically** (i.e., do *not* the built-in Python `and`, `or`, `not`, or `if`). Use **only** the operators +, -, and *. The inputs to these functions will be zeros or ones only, with zero representing False and one representing True. The outputs to these functions will be zero or one only (rather than True or False).\n",
        "\n",
        "You'll know you got it right if the resulting test code returns True for all three functions."
      ]
    },
    {
      "cell_type": "code",
      "execution_count": null,
      "metadata": {
        "id": "ZTxB2kIybbhI"
      },
      "outputs": [],
      "source": [
        "def not1(p):\n",
        "    pass # your code here\n",
        "\n",
        "def and1(p, q):\n",
        "    pass # your code here\n",
        "\n",
        "def or1(p, q):\n",
        "    pass # your code here\n",
        "\n",
        "\n",
        "# Returns a bit string representing the final column\n",
        "# in a truth table for the given function.\n",
        "def test(function):\n",
        "    # handle functions with 1 argument\n",
        "    if function.__code__.co_argcount == 1:\n",
        "        return ''.join([str(function(p)) for p in [0,1]])\n",
        "\n",
        "    # otherwise assume 2 arugments\n",
        "    return ''.join([str(function(p,q)) for p in [0,1] for q in [0,1]])\n",
        "\n",
        "\n",
        "print(test(not1) == '10') # Test not1 function\n",
        "print(test(and1) == '0001') # Test and1 function\n",
        "print(test(or1) == '0111') # Test or1 function"
      ]
    },
    {
      "attachments": {},
      "cell_type": "markdown",
      "metadata": {
        "id": "RA3nTBfMYYUm"
      },
      "source": [
        "### Exercise 2.6"
      ]
    },
    {
      "attachments": {},
      "cell_type": "markdown",
      "metadata": {},
      "source": [
        "Using the operations you created in the previous exercise (`and1`, `or1`, and `not1`), use Python to generate a truth table for the following propositions:\n",
        "1. $p \\land q$\n",
        "2. $p \\lor q$\n",
        "3. $\\lnot p \\lor q$\n",
        "4. $p \\land \\lnot q$\n",
        "\n",
        "Verify your `and1`, `or1`, and `not1` functions are working correctly by manually checking each truth table."
      ]
    },
    {
      "cell_type": "markdown",
      "metadata": {
        "id": "gSFYT4EHbbhF"
      },
      "source": [
        "#### Your Answer:"
      ]
    },
    {
      "attachments": {},
      "cell_type": "markdown",
      "metadata": {
        "id": "RA3nTBfMYYUm"
      },
      "source": [
        "### Exercise 2.7"
      ]
    },
    {
      "attachments": {},
      "cell_type": "markdown",
      "metadata": {},
      "source": [
        "Given the conditional statement $p \\rightarrow q$, write each of the following compound propositions:\n",
        "\n",
        "1. Inverse\n",
        "2. Converse\n",
        "3. Contrapositive"
      ]
    },
    {
      "cell_type": "markdown",
      "metadata": {
        "id": "gSFYT4EHbbhF"
      },
      "source": [
        "#### Your Answer:"
      ]
    },
    {
      "attachments": {},
      "cell_type": "markdown",
      "metadata": {
        "id": "RA3nTBfMYYUm"
      },
      "source": [
        "### Exercise 2.8"
      ]
    },
    {
      "attachments": {},
      "cell_type": "markdown",
      "metadata": {},
      "source": [
        "Explore the relationship between Conditional, Converse, Inverse, and Contrapositive using truth tables. You may construct them by hand, by using LaTeX or Markdown, or by using Python.\n",
        "\n",
        "Construct a truth table showing the conditional, inverse, converse, and contrapositive. Then answer the following questions.\n",
        "\n",
        "1. Based on the truth table, which of them are logically equivalent?\n",
        "\n",
        "2. Is this logical equivalence true? $p \\rightarrow q \\equiv \\lnot p \\lor q$\n",
        "\n",
        "2. Is the negation of a conditional equivalent to negating each of the terms? In other words is the following equivalence true?\n",
        "\n",
        "    $\\lnot(p \\rightarrow q) \\equiv \\lnot p \\rightarrow \\lnot q$\n",
        "\n",
        "4. What is an equivalent statement to $\\lnot (p \\rightarrow q)$? (Use the equivalence in #2 and De Morgan's Laws to help you)"
      ]
    },
    {
      "cell_type": "markdown",
      "metadata": {
        "id": "gSFYT4EHbbhF"
      },
      "source": [
        "#### Your Answer:"
      ]
    },
    {
      "attachments": {},
      "cell_type": "markdown",
      "metadata": {
        "id": "RA3nTBfMYYUm"
      },
      "source": [
        "### Exercise 2.9"
      ]
    },
    {
      "attachments": {},
      "cell_type": "markdown",
      "metadata": {},
      "source": [
        "Give the inverse, contrapositive, and converse for each of the following statements:\n",
        "\n",
        "1. If Bob got an A on the final exam, then Bob passed the class.\n",
        "\n",
        "2. If you complete your homework, then you will pass the exam.\n",
        "\n",
        "3. If you do not study, then you will not pass the exam.\n",
        "\n",
        "4. If you are 46\" tall, then you can ride the rollercoaster."
      ]
    },
    {
      "cell_type": "markdown",
      "metadata": {
        "id": "gSFYT4EHbbhF"
      },
      "source": [
        "#### Your Answer:"
      ]
    },
    {
      "attachments": {},
      "cell_type": "markdown",
      "metadata": {
        "id": "RA3nTBfMYYUm"
      },
      "source": [
        "### Exercise 2.10"
      ]
    },
    {
      "attachments": {},
      "cell_type": "markdown",
      "metadata": {},
      "source": [
        "Given the following propositions:\n",
        "\n",
        "$p$: A rider is at least 12 years old.  \\\n",
        "$q$: A rider is at least 18 years old.  \\\n",
        "$r$: A rider is over 48\" tall.\n",
        "\n",
        "Translate each English sentence into a logical expression. Then negate the entire logical expression using parenthesis and the negation operation. Apply De Morgan's law to the resulting expression and translate the final logical expression back into English. Show all steps. \n",
        "\n",
        "1. A rider is at least 12 years old and over 48\" tall.\n",
        "\n",
        "2. A rider is at least 18 years old or is over 48\" tall.\n",
        "\n",
        "3. A rider is at least 18 years old and is 48\" tall or less."
      ]
    },
    {
      "cell_type": "markdown",
      "metadata": {
        "id": "gSFYT4EHbbhF"
      },
      "source": [
        "#### Your Answer:"
      ]
    },
    {
      "cell_type": "markdown",
      "metadata": {
        "id": "HCjgnJwTbbhN"
      },
      "source": [
        "----------------------\n",
        "## Sample Solutions\n",
        "\n",
        "**Note**:\n",
        "Sample solutions are provided in order to help you **learn**. The purpose of these exercises is not to simply turn in the answers, but to take the time and effort to learn and understand the material. You are encouraged to work the problems first, then when you are satisfied that you have the correct answer, look at the sample solution and compare it with yours. "
      ]
    },
    {
      "cell_type": "markdown",
      "metadata": {},
      "source": [
        "### Sample Solution 2.1"
      ]
    },
    {
      "cell_type": "markdown",
      "metadata": {},
      "source": [
        "1. If I studied then I got an A on the test.\n",
        "2. I did not study or I did not get an A on the test.\n",
        "3. If I didn't study then I studied or I got an A on the test.\n",
        "4. If I did not study then I did not get an A on the test."
      ]
    },
    {
      "cell_type": "markdown",
      "metadata": {},
      "source": [
        "### Sample Solution 2.2"
      ]
    },
    {
      "cell_type": "markdown",
      "metadata": {},
      "source": [
        "1. This is false, because \"2 + 2 = 4\" is true but\n",
        "   \"pigs can fly\" is false.\n",
        "2. Both parts are false, so the conditional is true.\n",
        "3. This is true, because pigs can't fly, and neither can dogs,\n",
        "   so we have false $\\rightarrow$ true.\n",
        "4. We have true $\\rightarrow$ true, so this is true.\n",
        "5. As we have true $\\leftrightarrow$ true, this is true.\n",
        "6. As we have true $\\leftrightarrow$ false, this is false.\n",
        "7. As we have false $\\leftrightarrow$ false, this is true.\n",
        "8. Again we have true $\\rightarrow$ true, so true."
      ]
    },
    {
      "cell_type": "markdown",
      "metadata": {},
      "source": [
        "### Sample Solution 2.3"
      ]
    },
    {
      "cell_type": "markdown",
      "metadata": {},
      "source": [
        "1. $p \\leftarrow q$ (or $q \\rightarrow p$)\n",
        "2. $q \\rightarrow p$\n",
        "3. $p \\leftrightarrow q$"
      ]
    },
    {
      "cell_type": "markdown",
      "metadata": {},
      "source": [
        "### Sample Solution 2.4"
      ]
    },
    {
      "cell_type": "code",
      "execution_count": null,
      "metadata": {
        "id": "7Jzz0SYEbbhO"
      },
      "outputs": [],
      "source": [
        "\n",
        "def implies(p, q):\n",
        "    return not p or q\n",
        "\n",
        "# Another way:\n",
        "def implies(p, q):\n",
        "    return q if p else True\n",
        "\n",
        "# Another way:\n",
        "def implies(p, q):\n",
        "    if p:\n",
        "        return q\n",
        "    else:\n",
        "        return True\n",
        "\n",
        "def iff(p, q):\n",
        "    return implies(p, q) and implies(q, p)\n",
        "\n",
        "\n",
        "operators = {\n",
        "    'implies': '⟶',\n",
        "    'iff': '⟷',\n",
        "}\n",
        "\n",
        "# Print a truth table\n",
        "def print_truth_table(operation):\n",
        "    print(f\"p       q       p {operators[operation.__name__]} q\")\n",
        "    for p in [True, False]:\n",
        "        for q in [True, False]:\n",
        "            print(f'{p!s:<8}{q!s:<8}{operation(p,q)!s:<8}')\n",
        "    print()\n",
        "\n",
        "print_truth_table(implies)\n",
        "print_truth_table(iff)"
      ]
    },
    {
      "cell_type": "markdown",
      "metadata": {},
      "source": [
        "### Sample Solution 2.5"
      ]
    },
    {
      "cell_type": "code",
      "execution_count": null,
      "metadata": {
        "id": "edSA5uN2bbhP"
      },
      "outputs": [],
      "source": [
        "\n",
        "def not1(p):\n",
        "    return 1 - p\n",
        "\n",
        "def and1(p, q):\n",
        "    return p * q\n",
        "\n",
        "def or1(p, q):\n",
        "    return (p + q) - (p * q)"
      ]
    },
    {
      "attachments": {},
      "cell_type": "markdown",
      "metadata": {},
      "source": [
        "### Sample Solution 2.6"
      ]
    },
    {
      "cell_type": "code",
      "execution_count": null,
      "metadata": {},
      "outputs": [],
      "source": [
        "# Print a truth table for 1.\n",
        "print(f\"p       q       p and q\")\n",
        "for p in [True, False]:\n",
        "    for q in [True, False]:\n",
        "        print(f'{p!s:<8}{q!s:<8}{bool(and1(p, q))}')\n",
        "print()\n",
        "\n",
        "# Print a truth table for 2.\n",
        "print(f\"p       q       p or q\")\n",
        "for p in [True, False]:\n",
        "    for q in [True, False]:\n",
        "        print(f'{p!s:<8}{q!s:<8}{bool(or1(p, q))}')\n",
        "print()\n",
        "\n",
        "# Print a truth table for 3.\n",
        "print(f\"p       q       not p or q\")\n",
        "for p in [True, False]:\n",
        "    for q in [True, False]:\n",
        "        print(f'{p!s:<8}{q!s:<8}{bool(or1(not1(p), q))}')\n",
        "print()\n",
        "\n",
        "# Print a truth table for 4.\n",
        "print(f\"p       q       p and not q\")\n",
        "for p in [True, False]:\n",
        "    for q in [True, False]:\n",
        "        print(f'{p!s:<8}{q!s:<8}{bool(and1(p, not1(q)))}')\n",
        "print()\n"
      ]
    },
    {
      "attachments": {},
      "cell_type": "markdown",
      "metadata": {},
      "source": [
        "### Sample Solution 2.7"
      ]
    },
    {
      "attachments": {},
      "cell_type": "markdown",
      "metadata": {},
      "source": [
        "1. Inverse: $\\lnot p \\rightarrow \\lnot q$\n",
        "2. Converse: $q \\rightarrow p $\n",
        "3. Contrapositive: $\\lnot q \\rightarrow \\lnot p$"
      ]
    },
    {
      "attachments": {},
      "cell_type": "markdown",
      "metadata": {},
      "source": [
        "### Sample Solution 2.8"
      ]
    },
    {
      "attachments": {},
      "cell_type": "markdown",
      "metadata": {},
      "source": [
        "Truth table:\n",
        "\n",
        "$p$ | $q$ | $$p \\rightarrow q$$ | $$\\lnot p \\rightarrow \\lnot q$$ | $$q \\rightarrow p $$ | $$\\lnot q \\rightarrow \\lnot p$$\n",
        ":-:|:-:|:-:|:-:|:-:|:-:|\n",
        "T|T|T|T|T|T\n",
        "T|F|F|T|T|F\n",
        "F|T|T|F|F|T\n",
        "F|F|T|T|T|T\n",
        "\n",
        "\n",
        "1. Conditional and its contrapositive: $p \\rightarrow q \\equiv \\lnot q \\rightarrow \\lnot p$ \n",
        "   \n",
        "   Inverse and Converse: $\\lnot p \\rightarrow \\lnot q \\equiv q \\rightarrow p$\n",
        "\n",
        "2. True. $\\lnot p \\lor q$ is logically equivalent to $p \\rightarrow q$. We can show this using a truth table.\n",
        "\n",
        "3. False.  $\\lnot(p \\rightarrow q)$ is NOT the same as $ \\lnot p \\rightarrow \\lnot q$. We can show this using a truth table.\n",
        "\n",
        "4. An equivalent statement to $\\lnot(p \\rightarrow q)$ is $\\lnot (\\lnot p \\lor q)$, which we can simplify using De Morgan's Laws to $p \\land \\lnot q$.\n",
        "\n"
      ]
    },
    {
      "attachments": {},
      "cell_type": "markdown",
      "metadata": {},
      "source": [
        "### Sample Solution 2.9"
      ]
    },
    {
      "attachments": {},
      "cell_type": "markdown",
      "metadata": {},
      "source": [
        "1. If Bob got an A on the final exam, then Bob passed the class.\n",
        "\n",
        "    Inverse: If Bob did not get an A on the final exam, then Bob did not pass the class.\\\n",
        "    Converse: If Bob passed the class, then Bob got an A on the final exam. \\\n",
        "    Contrapositive: If Bob did not pass the class, then Bob did not get an A on the final exam. \n",
        "\n",
        "2. If you complete your homework, then you will pass the exam.\n",
        "\n",
        "    Inverse: If you did not complete your homework, then you will not pass the exam.\\\n",
        "    Converse: If you passed the exam, then you did completed your homework. \\\n",
        "    Contrapositive: If you did not pass the exam, then you did not do your homework. \n",
        "\n",
        "3. If you do not study, then you will not pass the exam.\n",
        "\n",
        "    Inverse: If you study, then you will pass the exam. \\\n",
        "    Converse: If you did not pass the exam, then you did not study. \\\n",
        "    Contrapositive: If you passed the exam, then you did study.\n",
        "\n",
        "4. If you are 46\" tall, then you can ride the rollercoaster.\n",
        "\n",
        "    Inverse: If you are not 46\" tall, then you can not ride the rollercoaster. \\\n",
        "    Converse: If you can ride the rollercoaster, then you are 46\" tall. \\\n",
        "    Contrapositive: If you can not ride the rollercoaster, then you are not 46\" tall.\n"
      ]
    },
    {
      "attachments": {},
      "cell_type": "markdown",
      "metadata": {},
      "source": [
        "### Sample Solution 2.10"
      ]
    },
    {
      "attachments": {},
      "cell_type": "markdown",
      "metadata": {},
      "source": [
        "1. $p \\land r$    \\\n",
        "Negated: $(\\lnot p \\lor \\lnot r)$    \\\n",
        "English: A rider is not older than 12 years old or is not taller than 48\".    \\\n",
        "\n",
        "2. $q \\lor r$    \\\n",
        "Negated: $(\\lnot q \\land \\lnot r)$    \\\n",
        "English: A rider is not older than 18 years old and is not taller than 48\".    \\\n",
        "\n",
        "3. $q \\land \\lnot r$    \\\n",
        "Negated: $(\\lnot q \\lor r)$    \\\n",
        "English: A rider is not older than 18 years old or is taller than 48\"."
      ]
    }
  ],
  "metadata": {
    "colab": {
      "collapsed_sections": [
        "HCjgnJwTbbhN"
      ],
      "name": "cse280-homework-02.ipynb",
      "private_outputs": false,
      "provenance": [],
      "toc_visible": true
    },
    "kernelspec": {
      "display_name": "Python 3.9.0 ('.env': venv)",
      "language": "python",
      "name": "python3"
    },
    "language_info": {
      "codemirror_mode": {
        "name": "ipython",
        "version": 3
      },
      "file_extension": ".py",
      "mimetype": "text/x-python",
      "name": "python",
      "nbconvert_exporter": "python",
      "pygments_lexer": "ipython3",
      "version": "3.9.0 (tags/v3.9.0:9cf6752, Oct  5 2020, 15:34:40) [MSC v.1927 64 bit (AMD64)]"
    },
    "vscode": {
      "interpreter": {
        "hash": "1977c1262a5a71e57f8e1e2a9337f4268800bf2d1a595fc1ecb322ccb8b2351d"
      }
    }
  },
  "nbformat": 4,
  "nbformat_minor": 0
}
