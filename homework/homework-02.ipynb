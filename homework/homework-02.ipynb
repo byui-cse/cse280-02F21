{
  "cells": [
    {
      "cell_type": "markdown",
      "metadata": {
        "id": "_Mr3AvSgSswx"
      },
      "source": [
        "# Homework 2 - Conditionals, Predicates, & Quantifiers"
      ]
    },
    {
      "cell_type": "markdown",
      "metadata": {
        "id": "w1t0weuGbbhA"
      },
      "source": [
        "**Instructions:** Complete the exercises below.\n",
        "\n",
        "1. First, make a copy of this Colab Notebook to your GitHub account as a GitHub Gist (File -> Save a copy as a GitHub Gist). This will allow you to save any changes you make.\n",
        "\n",
        "2. Now enter your answers to each question in the places shown below. \n",
        "\n",
        "3. To submit your work, turn in the URL for your Colab notebook. Make sure the URL has the word `gist` in it. It should look something like this:\n",
        "`https://colab.research.google.com/gist/yourgithubusername/somerandomnumbersandletters/homework-02.ipynb`"
      ]
    },
    {
      "cell_type": "markdown",
      "metadata": {
        "id": "bEsUKV6DbbhB"
      },
      "source": [
        "**Note**:\n",
        "Sample solutions are provided in order to help you **learn**. The purpose of these exercises is not to simply turn in the answers, but to take the time and effort to learn and understand the material. You are encouraged to work the problems first, then when you are satisfied that you have the correct answer, look at the sample solution and compare it with yours. "
      ]
    },
    {
      "cell_type": "markdown",
      "metadata": {
        "id": "tWpt07z8bbhB"
      },
      "source": [
        "### Exercise 2.1"
      ]
    },
    {
      "cell_type": "markdown",
      "metadata": {
        "id": "f6nBUO4DvajR"
      },
      "source": [
        "Let $p$ be the proposition &ldquo;I studied.&rdquo; and let $q$ be the proposition &ldquo;I got an A on the test.&rdquo;\n",
        "\n",
        "Express the following propositions as English sentences.\n",
        "\n",
        "1. $p \\rightarrow q$\n",
        "2. $\\lnot p \\lor \\lnot q$\n",
        "3. $\\lnot p \\rightarrow (p \\lor q)$\n",
        "4. $\\lnot p \\rightarrow \\lnot q$"
      ]
    },
    {
      "cell_type": "markdown",
      "metadata": {
        "id": "JIVFRE_KbbhC"
      },
      "source": [
        "#### Your Answer:"
      ]
    },
    {
      "cell_type": "markdown",
      "metadata": {
        "id": "cka7gs7GBS72"
      },
      "source": [
        "### Exercise 2.2"
      ]
    },
    {
      "cell_type": "markdown",
      "metadata": {
        "id": "01tCtdJQLJES"
      },
      "source": [
        "True or false? Briefly explain your reasoning for each.\n",
        "\n",
        "1. If 2 + 2 = 4, then pigs can fly.\n",
        "\n",
        "2. If 2 + 7 = 5, then Elvis is alive.\n",
        "\n",
        "3. If pigs can fly, then dogs can't fly.\n",
        "\n",
        "4. If dogs have four legs, then ostriches have two legs.\n",
        "\n",
        "5. 2 + 1 = 3 if and only if 1 + 2 = 3.\n",
        "\n",
        "6. 1 + 2 = 3 if and only if 3 + 1 = 6.\n",
        "\n",
        "7. 1 + 3 = 2 if and only if the earth is flat.\n",
        "\n",
        "8. 1 < 2 if and only if 2 < 3."
      ]
    },
    {
      "cell_type": "markdown",
      "metadata": {
        "id": "1TzQYrqxbbhE"
      },
      "source": [
        "#### Your Answer:\n"
      ]
    },
    {
      "cell_type": "markdown",
      "metadata": {
        "id": "RA3nTBfMYYUm"
      },
      "source": [
        "### Exercise 2.3"
      ]
    },
    {
      "cell_type": "markdown",
      "metadata": {
        "id": "WoqvEXUdI0-l"
      },
      "source": [
        "Let $p$ be the proposition &ldquo;You applied for college admission.&rdquo; and let $q$ be the proposition &ldquo;You were accepted.&rdquo;\n",
        "\n",
        "Express the following English sentences as symbolic compound propositions using the logical conditional (or biconditional) connective.\n",
        "\n",
        "1. Your applying for college admission is necessary for your being accepted.\n",
        "2. Your being accepted is a sufficient condition for your applying for college admission.\n",
        "3. Your applying for college admission is necessary and sufficient for your being accepted."
      ]
    },
    {
      "cell_type": "markdown",
      "metadata": {
        "id": "gSFYT4EHbbhF"
      },
      "source": [
        "#### Your Answer:"
      ]
    },
    {
      "cell_type": "markdown",
      "metadata": {
        "id": "ElUxUNgabbhH"
      },
      "source": [
        "### Exercise 2.4"
      ]
    },
    {
      "cell_type": "markdown",
      "metadata": {
        "id": "jPAVeayTbbhH"
      },
      "source": [
        "Write Python functions to implement the conditional operator \"$\\rightarrow$\" (implies) and the biconditional operator \"$\\leftrightarrow$\" (if and only if, frequently written as \"iff\").\n",
        "\n",
        "In other words, complete these functions:"
      ]
    },
    {
      "cell_type": "code",
      "execution_count": null,
      "metadata": {
        "id": "Pu4EweTwbbhH"
      },
      "outputs": [],
      "source": [
        "def implies(p, q):\n",
        "    \"\"\"Implements the conditional operator ->\n",
        "    \"\"\"\n",
        "    pass # replace with your code\n",
        "\n",
        "\n",
        "def iff(p, q):\n",
        "    \"\"\"Implements the biconditional operator <-->\n",
        "    \"\"\"\n",
        "    pass # replace with your code"
      ]
    },
    {
      "cell_type": "markdown",
      "metadata": {
        "id": "1xGfoMf0bbhH"
      },
      "source": [
        "Then use Python to print a truth table for $p \\rightarrow q$ and $p \\leftrightarrow q$ using your `implies` and `iff` functions to verify they are working correctly. The truth table should look something like this:\n",
        "\n",
        "|p|q|p->q|p<->q\n",
        "|--|--|--|--|\n",
        "|T|T|T|T|\n",
        "|T|F|F|F|\n",
        "|F|T|T|F|\n",
        "|F|F|T|T|\n"
      ]
    },
    {
      "cell_type": "markdown",
      "metadata": {
        "id": "vl6emiMdbbhI"
      },
      "source": [
        "#### Your Answer:"
      ]
    },
    {
      "cell_type": "markdown",
      "metadata": {
        "id": "Gc1VW5ugbbhI"
      },
      "source": [
        "### Exercise 2.5"
      ]
    },
    {
      "cell_type": "markdown",
      "metadata": {
        "id": "GplkPshG0AvE"
      },
      "source": [
        "The Boolean operators `and`, `or`, and `not` are built into Python. This is an exercise in implementing these operators arithmetically (i.e., using `-`, `+`, and `*`). \n",
        "\n",
        "Your task is to implement the `not1`, `or1`, and `and1` functions below, **arithmetically** (i.e., do *not* the built-in Python `and`, `or`, `not`, or `if`). Use **only** the operators +, -, and *. The inputs to these functions will be zeros or ones only, with zero representing False and one representing True. The outputs to these functions will be zero or one only (rather than True or False).\n",
        "\n",
        "You'll know you got it right if the resulting test code returns True for all three functions."
      ]
    },
    {
      "cell_type": "code",
      "execution_count": null,
      "metadata": {
        "id": "ZTxB2kIybbhI"
      },
      "outputs": [],
      "source": [
        "def not1(p):\n",
        "    pass # your code here\n",
        "\n",
        "def and1(p, q):\n",
        "    pass # your code here\n",
        "\n",
        "def or1(p, q):\n",
        "    pass # your code here\n",
        "\n",
        "\n",
        "# Returns a bit string representing the final column\n",
        "# in a truth table for the given function.\n",
        "def test(function):\n",
        "    # handle functions with 1 argument\n",
        "    if function.__code__.co_argcount == 1:\n",
        "        return ''.join([str(function(p)) for p in [0,1]])\n",
        "\n",
        "    # otherwise assume 2 arugments\n",
        "    return ''.join([str(function(p,q)) for p in [0,1] for q in [0,1]])\n",
        "\n",
        "\n",
        "print(test(not1) == '10') # Test not1 function\n",
        "print(test(and1) == '0001') # Test and1 function\n",
        "print(test(or1) == '0111') # Test or1 function"
      ]
    },
    {
      "cell_type": "markdown",
      "metadata": {
        "id": "_0ujyNQdbbhJ"
      },
      "source": [
        "### Exercise 2.6"
      ]
    },
    {
      "cell_type": "markdown",
      "metadata": {
        "id": "8Utd8McNw5PO"
      },
      "source": [
        "The domain for this exercise is the set of all people, and:\\\n",
        "$P(x)$ = $\\ x$ is older than 21\\\n",
        "$S(x)$ = $\\ x$ is a student\n",
        "\n",
        "(Remember the **domain** of a variable in a predicate is the set of all possible values for the variable.)\n",
        "\n",
        "Express in good English the following statements:\n",
        "1. $\\exists x\\ P(x)$.\n",
        "2. $\\forall x\\ P(x)$.\n",
        "3. $\\exists x\\ \\lnot P(x)$.\n",
        "4. $\\forall x\\ \\lnot P(x)$.\n",
        "5. $\\exists x\\ S(x)$.\n",
        "6. $\\forall x\\ S(x)$.\n",
        "7. $\\lnot \\exists x\\ S(x)$.\n",
        "8. $\\exists x\\ \\lnot S(x)$.\n",
        "9. $\\lnot \\forall x\\ \\lnot S(x)$.\n",
        "10. $\\forall x\\ \\lnot S(x)$."
      ]
    },
    {
      "cell_type": "markdown",
      "metadata": {
        "id": "U3RnL5QFbbhJ"
      },
      "source": [
        "#### Your Answer:"
      ]
    },
    {
      "cell_type": "markdown",
      "metadata": {},
      "source": [
        "### Hints:"
      ]
    },
    {
      "cell_type": "markdown",
      "metadata": {},
      "source": [
        "1. Don't use the word 'exists'.\n",
        "2. Don't use the word 'all'.\n",
        "3. Use the word `someone'.\n",
        "4. 'No one' sounds better than 'Everyone is not'.\n",
        "5. 'Some' \\<something\\> 'is a' \\<something else\\>.\n",
        "6. Start with 'Everyone'.\n",
        "7. Start with 'There is'.\n",
        "8. Start with 'There is'\n",
        "9. Start with 'No all'.\n",
        "10. Start with 'No one'."
      ]
    },
    {
      "cell_type": "markdown",
      "metadata": {
        "id": "rx97eFCvbbhK"
      },
      "source": [
        "### Exercise 2.7"
      ]
    },
    {
      "cell_type": "markdown",
      "metadata": {
        "id": "tCdbghBApIWA"
      },
      "source": [
        "The domain for this exercise is the set of all people, and:\n",
        "\n",
        "$F(x)$ = $\\ x$ is a friend\\\n",
        "$C(x)$ = $\\ x$ is cool\\\n",
        "$S(x)$ = $\\ x$ is a student\\\n",
        "$N(x)$ = $\\ x$ is from Nepal\n",
        "\n",
        "Express in good English the following statements:\n",
        "1. $\\forall x\\ (F(x) \\rightarrow C(x))\\ $\n",
        "2. $\\exists x\\ (F(x) \\land C(x))\\ $\n",
        "3. $\\forall x\\ (F(x) \\land C(x))\\ $\n",
        "4. $\\exists x\\ (F(x) \\rightarrow C(x))\\ $\n",
        "5. $\\forall x\\ (S(x) \\rightarrow N(x))\\ $\n",
        "6. $\\exists x\\ (S(x) \\rightarrow N(x))\\ $\n",
        "7. $\\forall x\\ (S(x) \\land N(x))\\ $\n",
        "8. $\\exists x\\ (S(x) \\land N(x))\\ $\n",
        " "
      ]
    },
    {
      "cell_type": "markdown",
      "metadata": {
        "id": "WUI_2rb3bbhK"
      },
      "source": [
        "#### Your Answer:"
      ]
    },
    {
      "cell_type": "markdown",
      "metadata": {},
      "source": [
        "### Hints"
      ]
    },
    {
      "cell_type": "markdown",
      "metadata": {},
      "source": [
        "1. Start with 'All'.\n",
        "2. Start with 'Some'.\n",
        "3. Start with 'Everyone'.\n",
        "4. Start with 'Some'.\n",
        "5. Start with 'All'.\n",
        "6. Start with 'Someone' and use 'if' and 'then'.\n",
        "7. Start with 'Everyone'.\n",
        "8. 'Some student ...'."
      ]
    },
    {
      "cell_type": "markdown",
      "metadata": {
        "id": "ETtjI--dbbhK"
      },
      "source": [
        "### Exercise 2.8"
      ]
    },
    {
      "cell_type": "markdown",
      "metadata": {
        "id": "Hplq9f-xuh6p"
      },
      "source": [
        "Translate the following statements into logical expressions using predicates, quantifiers, and logical connectives:\n",
        "\n",
        "1. Everyone's a critic.\n",
        "2. No one is perfect.\n",
        "3. At least one of your friends is perfect.\n",
        "4. All of your friends are critics.\n",
        "5. Everyone is a critic or someone is your friend.\n",
        "6. No one is a critic and everyone is your friend.\n",
        "7. Some state has no neighboring states.\n",
        "8. Whenever there is an error, at least one error message is displayed.\n",
        "9. All the programs have been scanned, but at least one program has a virus."
      ]
    },
    {
      "cell_type": "markdown",
      "metadata": {
        "id": "ZGOyJc3MbbhL"
      },
      "source": [
        "#### Your Answer:"
      ]
    },
    {
      "cell_type": "markdown",
      "metadata": {},
      "source": [
        "### Hints"
      ]
    },
    {
      "cell_type": "markdown",
      "metadata": {},
      "source": [
        "1. Use the predicates C (is a Critic), P (is Perfect), and F (is your Friend).\n",
        "2. Remember to push the negation sign to the right of the quantifier (and change the flavor of the quantifier).\n",
        "3. Remember which connective to use with the existential quantifier?\n",
        "4. Remember which connective to use with the universal quantifier?\n",
        "5. This looks like the disjunction of two quantified statements.\n",
        "6. This looks like the conjunction of two quantified statements, one of them negated.\n",
        "7. Use a unary *and* a binary predicate.\n",
        "8. There are two different domains at play here.\n",
        "9. Use three predicates with programs as their domain."
      ]
    },
    {
      "cell_type": "markdown",
      "metadata": {
        "id": "REcbbM1sbbhL"
      },
      "source": [
        "### Exercise 2.9"
      ]
    },
    {
      "cell_type": "markdown",
      "metadata": {
        "id": "IYh5WJzNbbhL"
      },
      "source": [
        "1. Write a function `is_even(x)` that returns `True` if `x` is even. \n",
        "\n",
        "   Test this function with several different values for `x` to make sure it is working the way you expect.\n",
        "\n",
        "   Notice that `is_even(x)` is a predicate. In other words, it is a function that returns `True` if the input `x` has the property defined by the predicate. \n",
        "\n",
        "\n",
        "2. Now write a function called `forall` that takes two parameters, `p` and `s`, where `p` is a predicate and `s` is a list of numbers. `forall` should return `True` if every item in `s` has the property `p`.\n",
        "\n",
        "   Test the `forall` function by passing in your `is_even` function as the first argument and the list `s = [2, 4, 6, 8, 10]` as the second argument. The result should be `True` because every number in `s` is even.\n",
        "\n",
        "   Then test the `forall` function by passing in your `is_even` function with the list `s = [1, 2, 3, 4, 5]`. The result should be `False`, because not *every* number in `s` is even. \n",
        "\n",
        "\n"
      ]
    },
    {
      "cell_type": "code",
      "execution_count": null,
      "metadata": {
        "id": "SYx_KVvVbbhL"
      },
      "outputs": [],
      "source": [
        "# Define a predicate that returns True if x is even\n",
        "def is_even(x):\n",
        "    pass # your code here\n",
        "\n",
        "\n",
        "# Returns True if p is True for all integers in s\n",
        "def forall(p, s):\n",
        "    pass # your code here\n"
      ]
    },
    {
      "cell_type": "markdown",
      "metadata": {
        "id": "CLHCWwQcbbhM"
      },
      "source": [
        "You'll know you have correctly implemented `forall` if the following code block returns True for each test."
      ]
    },
    {
      "cell_type": "code",
      "execution_count": null,
      "metadata": {
        "id": "cyVrKWF1bbhM"
      },
      "outputs": [],
      "source": [
        "# Test forall and is_even with a list containing only even numbers\n",
        "s = [2, 4, 6, 8, 10]\n",
        "print(forall(is_even, s) == True)\n",
        "\n",
        "\n",
        "# Test forall and is_even with a list containing some numbers that are not even\n",
        "s = [1, 2, 3, 4, 5]\n",
        "print(forall(is_even, s) == False)"
      ]
    },
    {
      "cell_type": "markdown",
      "metadata": {
        "id": "k0sGA_WKbbhM"
      },
      "source": [
        "### Exercise 2.10"
      ]
    },
    {
      "cell_type": "markdown",
      "metadata": {
        "id": "WQw2MDn-bbhM"
      },
      "source": [
        "Write a function called `forsome` that takes a predicate `p` and a list `s`. `forsome` should return `True` if *at least one* number in the list `s` has the property `p`.\n",
        "\n",
        "Test the `forsome` function by passing in your `is_even` function as the first argument and the list `s = [1, 3, 5, 7, 9]` as the second argument. The result should be `False`.\n",
        "\n",
        "Then test the `forsome` function by passing in your `is_even` function with the list `s = [1,2,3,4,5,6]`. The result should be `True`, because at least one number in `s` is even."
      ]
    },
    {
      "cell_type": "code",
      "execution_count": null,
      "metadata": {
        "id": "qr55mW46bbhM"
      },
      "outputs": [],
      "source": [
        "def forsome(p, s):\n",
        "    pass # your code here\n"
      ]
    },
    {
      "cell_type": "markdown",
      "metadata": {
        "id": "tuWS-AFYbbhM"
      },
      "source": [
        "You'll know you have correctly implemented `forsome` if the following code block returns True for each test."
      ]
    },
    {
      "cell_type": "code",
      "execution_count": null,
      "metadata": {
        "id": "PCwt3E_HbbhN"
      },
      "outputs": [],
      "source": [
        "# Test forsome and is_even with a list containing only odd numbers\n",
        "s = [1, 3, 5, 7, 9]\n",
        "print(forsome(is_even, s) == False)\n",
        "\n",
        "\n",
        "# Test forsome with a list containing some numbers that are even\n",
        "s = [1, 2, 3, 4, 5]\n",
        "print(forsome(is_even, s) == True)"
      ]
    },
    {
      "cell_type": "markdown",
      "metadata": {
        "id": "7vdH2GoxbbhN"
      },
      "source": [
        "### Exercise 2.11"
      ]
    },
    {
      "cell_type": "markdown",
      "metadata": {
        "id": "GLDGlDnebbhN"
      },
      "source": [
        "In this problem, the domain is the integers `[-5, -4, -3, -2, -1, 0, 1, 2, 3, 4, 5]`.\n",
        "\n",
        "(Remember the **domain** of a variable in a predicate is the set of all possible values for the variable.)\n",
        "\n",
        "Determine the truth value of each of the following:\n",
        "\n",
        "1. $\\forall x (\\texttt{x is odd})$\n",
        "\n",
        "1. $\\exists x (\\texttt{x is odd})$\n",
        "\n",
        "1. $\\forall x (\\texttt{x is negative})$\n",
        "\n",
        "1. $\\exists x (\\texttt{x is negative})$\n",
        "\n",
        "1. $\\forall x (x^2 - x \\ne 1)$\n",
        "\n",
        "1. $\\forall x (x^2 > 0)$\n",
        "\n",
        "1. $\\exists x (x^2 > 0)$\n",
        "\n",
        "1. $\\forall x (x \\le x + 1)$\n",
        "\n",
        "1. $\\exists x (x + x = 1)$\n",
        "\n",
        "1. $\\exists x (x + 2 = 1)$\n",
        "\n",
        "Then use your `forall` and `forsome` functions to determine the truth value of each statement. You will need to write a predicate function for each one, similar to the `is_even` function you wrote previously. (You are encouraged to use *lambda* functions, but you may also use regular named functions)\n",
        "\n",
        "Here's an example of using a *lambda* function for the first one:\n",
        "\n",
        "$\\forall x (\\texttt{x is odd})$\n",
        "\n",
        "In Python:\n",
        "\n",
        "```\n",
        "  domain = [-5, -4, -3, -2, -1, 0, 1, 2, 3, 4, 5]\n",
        "  print(forall(lambda x: x % 2, domain)) # prints True or False\n",
        "```"
      ]
    },
    {
      "cell_type": "markdown",
      "metadata": {
        "id": "iRX6sYjAbbhN"
      },
      "source": [
        "#### Your Answer:"
      ]
    },
    {
      "cell_type": "markdown",
      "metadata": {
        "id": "HCjgnJwTbbhN"
      },
      "source": [
        "----------------------\n",
        "## Sample Solutions\n",
        "\n",
        "**Note**:\n",
        "Sample solutions are provided in order to help you **learn**. The purpose of these exercises is not to simply turn in the answers, but to take the time and effort to learn and understand the material. You are encouraged to work the problems first, then when you are satisfied that you have the correct answer, look at the sample solution and compare it with yours. "
      ]
    },
    {
      "cell_type": "markdown",
      "metadata": {},
      "source": [
        "### Sample Solution 2.1"
      ]
    },
    {
      "cell_type": "markdown",
      "metadata": {},
      "source": [
        "1. If I studied then I got an A on the test.\n",
        "2. I did not study or I did not get an A on the test.\n",
        "3. If I didn't study then I studied or I got an A on the test.\n",
        "4. If I did not study then I did not get an A on the test."
      ]
    },
    {
      "cell_type": "markdown",
      "metadata": {},
      "source": [
        "### Sample Solution 2.2"
      ]
    },
    {
      "cell_type": "markdown",
      "metadata": {},
      "source": [
        "1. This is false, because \"2 + 2 = 4\" is true but\n",
        "   \"pigs can fly\" is false.\n",
        "2. Both parts are false, so the conditional is true.\n",
        "3. This is true, because pigs can't fly, and neither can dogs,\n",
        "   so we have false $\\rightarrow$ true.\n",
        "4. We have true $\\rightarrow$ true, so this is true.\n",
        "5. As we have true $\\leftrightarrow$ true, this is true.\n",
        "6. As we have true $\\leftrightarrow$ false, this is false.\n",
        "7. As we have false $\\leftrightarrow$ false, this is true.\n",
        "8. Again we have true $\\rightarrow$ true, so true."
      ]
    },
    {
      "cell_type": "markdown",
      "metadata": {},
      "source": [
        "### Sample Solution 2.3"
      ]
    },
    {
      "cell_type": "markdown",
      "metadata": {},
      "source": [
        "1. $p \\leftarrow q$ (or $q \\rightarrow p$)\n",
        "2. $q \\rightarrow p$\n",
        "3. $p \\leftrightarrow q$"
      ]
    },
    {
      "cell_type": "markdown",
      "metadata": {},
      "source": [
        "### Sample Solution 2.4"
      ]
    },
    {
      "cell_type": "code",
      "execution_count": null,
      "metadata": {
        "id": "7Jzz0SYEbbhO"
      },
      "outputs": [],
      "source": [
        "\n",
        "def implies(p, q):\n",
        "    return not p or q\n",
        "\n",
        "# Another way:\n",
        "def implies(p, q):\n",
        "    return q if p else True\n",
        "\n",
        "# Another way:\n",
        "def implies(p, q):\n",
        "    if p:\n",
        "        return q\n",
        "    else:\n",
        "        return True\n",
        "\n",
        "def iff(p, q):\n",
        "    return implies(p, q) and implies(q, p)\n",
        "\n",
        "\n",
        "operators = {\n",
        "    'implies': '⟶',\n",
        "    'iff': '⟷',\n",
        "}\n",
        "\n",
        "# Print a truth table\n",
        "def print_truth_table(operation):\n",
        "    print(f\"p       q       p {operators[operation.__name__]} q\")\n",
        "    for p in [True, False]:\n",
        "        for q in [True, False]:\n",
        "            print(f'{p!s:<8}{q!s:<8}{operation(p,q)!s:<8}')\n",
        "    print()\n",
        "\n",
        "print_truth_table(implies)\n",
        "print_truth_table(iff)"
      ]
    },
    {
      "cell_type": "markdown",
      "metadata": {},
      "source": [
        "### Sample Solution 2.5"
      ]
    },
    {
      "cell_type": "code",
      "execution_count": null,
      "metadata": {
        "id": "edSA5uN2bbhP"
      },
      "outputs": [],
      "source": [
        "\n",
        "def not1(p):\n",
        "    return 1 - p\n",
        "\n",
        "def and1(p, q):\n",
        "    return p * q\n",
        "\n",
        "def or1(p, q):\n",
        "    return (p + q) - (p * q)"
      ]
    },
    {
      "cell_type": "markdown",
      "metadata": {},
      "source": [
        "### Sample Solution 2.6"
      ]
    },
    {
      "cell_type": "markdown",
      "metadata": {},
      "source": [
        "1. Somebody is older than 21.\n",
        "2. Everyone is older than 21.\n",
        "3. Someone is not older than 21.\n",
        "4. No one is older than 21.\n",
        "5. Someone (or some person) is a student.\n",
        "6. Everyone is a student.\n",
        "7. There is no student.\n",
        "8. There is someone who is not a student.\n",
        "9. Not all people are non-students.\n",
        "10. No one is a student."
      ]
    },
    {
      "cell_type": "markdown",
      "metadata": {},
      "source": [
        "### Sample Solution 2.7"
      ]
    },
    {
      "cell_type": "markdown",
      "metadata": {},
      "source": [
        "1. All friends are cool.\n",
        "2. Someone is a friend and is cool.\n",
        "3. Everyone is a friend and is cool.\n",
        "4. Some friends are cool. (Better than 'For some person, if that person is a friend, then that person is cool.')\n",
        "5. All students are from Nepal.\n",
        "6. Someone, if he/she is a student then he/she is from Nepal. (Better than 'For some person, if that person is a student, then that student is from Nepal.)\n",
        "7. Everyone is a student and is from Nepal.\n",
        "8. Some student is from Nepal."
      ]
    },
    {
      "cell_type": "markdown",
      "metadata": {},
      "source": [
        "### Sample Solution 2.8"
      ]
    },
    {
      "cell_type": "markdown",
      "metadata": {},
      "source": [
        "\n",
        "1. $\\forall x\\ C(x)$\n",
        "2. $\\forall x\\ \\lnot P(x)$\n",
        "3. $\\exists x\\ (F(x) \\land P(x))$\n",
        "4. $\\forall x\\ (F(x) \\rightarrow C(x))$\n",
        "5. $\\forall x\\ C(x) \\lor \\exists x\\ F(x)$\n",
        "6. $\\lnot \\exists x\\ C(x) \\land \\forall x\\ F(x)$\n",
        "7. $\\exists x\\ State(x) \\land (\\forall y\\ State(y) \\rightarrow \\lnot ShareABorder(x, y))$\n",
        "8. $\\exists x\\ is\\_an\\_Error(x) \\rightarrow (\\exists y\\ is\\_an\\_error\\_Message(y) \\land is\\_Displayed(y))$\n",
        "9. $[\\forall x\\ (is\\_a\\_Program(x) \\rightarrow has\\_been\\_Scanned(x))] \\land [\\exists x\\ (is\\_a\\_Program(x) \\land has\\_a\\_Virus(x))]$\n"
      ]
    },
    {
      "cell_type": "markdown",
      "metadata": {},
      "source": [
        "### Sample Solution 2.9"
      ]
    },
    {
      "cell_type": "code",
      "execution_count": null,
      "metadata": {
        "id": "SsWkrMtfbbhQ"
      },
      "outputs": [],
      "source": [
        "\n",
        "def is_even(x):\n",
        "    return not(x % 2)\n",
        "\n",
        "def forall(p, s):\n",
        "    for x in s:\n",
        "        if not p(x):\n",
        "            return False\n",
        "    return True"
      ]
    },
    {
      "cell_type": "markdown",
      "metadata": {},
      "source": [
        "### Sample Solution 2.10"
      ]
    },
    {
      "cell_type": "code",
      "execution_count": null,
      "metadata": {
        "id": "wGCEaranbbhQ"
      },
      "outputs": [],
      "source": [
        "def forsome(p, s):\n",
        "    for x in s:\n",
        "        if p(x):\n",
        "            return True\n",
        "    return False"
      ]
    },
    {
      "cell_type": "markdown",
      "metadata": {},
      "source": [
        "### Sample Solution 2.11"
      ]
    },
    {
      "cell_type": "code",
      "execution_count": null,
      "metadata": {
        "id": "Piw7uyzdbbhQ"
      },
      "outputs": [],
      "source": [
        "domain = list(range(-5, 6))\n",
        "\n",
        "print(f'1. {forall(lambda x: x % 2, domain)}')\n",
        "print(f'2. {forsome(lambda x: x % 2, domain)}')\n",
        "print(f'3. {forall(lambda x: x < 0, domain)}')\n",
        "print(f'4. {forsome(lambda x: x < 0, domain)}')\n",
        "print(f'5. {forall(lambda x: x**2 - x != 1, domain)}')\n",
        "print(f'6. {forall(lambda x: x**2 > 0, domain)}')\n",
        "print(f'7. {forsome(lambda x: x**2 > 0, domain)}')\n",
        "print(f'8. {forall(lambda x: x <= x + 1, domain)}')\n",
        "print(f'9. {forsome(lambda x: x + x == 1, domain)}')\n",
        "print(f'10. {forsome(lambda x: x + 2 == 1, domain)}')\n"
      ]
    }
  ],
  "metadata": {
    "colab": {
      "collapsed_sections": [
        "HCjgnJwTbbhN"
      ],
      "name": "cse280-homework-02.ipynb",
      "private_outputs": false,
      "provenance": [],
      "toc_visible": true
    },
    "kernelspec": {
      "display_name": "Python 3.9.0 ('.env': venv)",
      "language": "python",
      "name": "python3"
    },
    "language_info": {
      "codemirror_mode": {
        "name": "ipython",
        "version": 3
      },
      "file_extension": ".py",
      "mimetype": "text/x-python",
      "name": "python",
      "nbconvert_exporter": "python",
      "pygments_lexer": "ipython3",
      "version": "3.9.0"
    },
    "vscode": {
      "interpreter": {
        "hash": "1977c1262a5a71e57f8e1e2a9337f4268800bf2d1a595fc1ecb322ccb8b2351d"
      }
    }
  },
  "nbformat": 4,
  "nbformat_minor": 0
}
