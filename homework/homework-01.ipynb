{
 "cells": [
  {
   "cell_type": "markdown",
   "metadata": {
    "id": "_Mr3AvSgSswx"
   },
   "source": [
    "# Homework 1 - Propositions & Logic"
   ]
  },
  {
   "attachments": {},
   "cell_type": "markdown",
   "metadata": {},
   "source": [
    "**Instructions:** Complete the exercises below.\n",
    "\n",
    "1. Make a copy of this Colab Notebook using **`File -> Save a copy in Drive`**. \n",
    "\n",
    "2. By default, your copy of the notebook will be saved in your [Google Drive](https://drive.google.com/drive/my-drive) under the folder **`Colab Notebooks`**. You will need to share this folder with your instructor and any TAs so they will be able to view your homework. \n",
    "\n",
    "    **Follow the instructions [in this video](https://www.google.com) to share your `Colab Notebooks` folder with the instructor and TAs and to finish setting up Colab to properly save your work.**\n",
    "\n",
    "3. Click the settings icon in the top-right corner of the Colab window. Make sure the box `New notebooks use private outputs (omit outputs when saving)` is NOT checked. This will make sure any Python output is saved with your notebook.\n",
    "\n",
    "    ![alt text](./settings-1.png)\n",
    "\n",
    "    ![alt text](./settings-2.png)\n",
    "    \n",
    "4. Now proceed to answer the exercise questions below. Type your answers to each question by double-clicking on **`Your Answer`** and typing your response.\n",
    "\n",
    "    Note that you can use any combination of plain text, Markdown, or LaTeX. As a last resort, you can simply take a picture of your handwritten work and upload it to an answer cell below.\n",
    "\n",
    "5. To submit your work, turn in the URL for your Colab notebook."
   ]
  },
  {
   "cell_type": "markdown",
   "metadata": {
    "id": "bEsUKV6DbbhB"
   },
   "source": [
    "**Note**:\n",
    "Sample solutions are provided in order to help you **learn**. The purpose of these exercises is not to simply turn in the answers, but to take the time and effort to learn and understand the material. You are encouraged to work the problems first, then when you are satisfied that you have the correct answer, look at the sample solution and compare it with yours. "
   ]
  },
  {
   "cell_type": "markdown",
   "metadata": {},
   "source": [
    "### Exercise 1.1"
   ]
  },
  {
   "cell_type": "markdown",
   "metadata": {
    "id": "2pcAJcFCYS42"
   },
   "source": [
    "Write three propositions and three non-propositions."
   ]
  },
  {
   "cell_type": "markdown",
   "metadata": {},
   "source": [
    "#### Your Answer:"
   ]
  },
  {
   "cell_type": "markdown",
   "metadata": {
    "id": "cka7gs7GBS72"
   },
   "source": [
    "### Exercise 1.2"
   ]
  },
  {
   "cell_type": "markdown",
   "metadata": {
    "id": "mbd0-wcaBoAi"
   },
   "source": [
    "Let $p$ be the proposition \"I studied.\" and $q$ be the proposition \"I got an A on the test.\" Express the following symbolic propositions in English:\n",
    "1. $p \\land q$.\n",
    "2. $\\lnot p \\land q$.\n",
    "3. $p \\land \\lnot q$.\n",
    "4. $\\lnot p \\land \\lnot q$.\n",
    "5. $p \\lor q$.\n",
    "6. $\\lnot p \\lor q$.\n",
    "7. $p \\lor \\lnot q$.\n",
    "8. $\\lnot p \\lor \\lnot q$.\n"
   ]
  },
  {
   "cell_type": "markdown",
   "metadata": {},
   "source": [
    "#### Your Answer:"
   ]
  },
  {
   "cell_type": "markdown",
   "metadata": {
    "id": "RA3nTBfMYYUm"
   },
   "source": [
    "### Exercise 1.3"
   ]
  },
  {
   "cell_type": "markdown",
   "metadata": {
    "id": "B5CMZM5MYYUn"
   },
   "source": [
    "Construct truth tables for the following propositions:\n",
    "1. $p \\land q$\n",
    "2. $p \\lor q$\n",
    "3. $\\lnot p \\lor q$\n",
    "4. $p \\land \\lnot q$\n",
    "5. $p \\land (q \\oplus \\lnot r)$\n",
    "6. $p \\lor (\\lnot q \\oplus \\lnot r)$\n",
    "\n",
    "This is a chance to practice using either LaTeX or Markdown to construct tables. Just \"Google\" it!\n",
    "\n",
    "Or you can draw them by hand, then take a picture. The point is to practice creating them. You may create a single large truth table or six smaller truth tables.\n",
    "\n",
    "(If you take a picture, you can add it to Colab by opening a new **text** cell, then click on the \"Insert Image\" button)"
   ]
  },
  {
   "cell_type": "markdown",
   "metadata": {},
   "source": [
    "Here is an example of how to create a table using Markdown (double-click on cell to see source):\n",
    "\n",
    "| p | q | p $\\land$ q |\n",
    "|---|---|:-:|\n",
    "|T|T|T|\n",
    "|T|F|F|\n",
    "|F|T|F|\n",
    "|F|F|F|\n",
    "\n",
    "The `---` and `:-:` parts of the table control the column alignment. `:-:` tells the column to be centered."
   ]
  },
  {
   "cell_type": "markdown",
   "metadata": {},
   "source": [
    "And this is how to create a table using LaTeX:\n",
    "$$\n",
    "\\begin{array}{|r|r|c|}\n",
    "\\hline\n",
    "p & q & p \\land q\\\\\n",
    "\\hline\n",
    "T&T&T\\\\\n",
    "T&F&F\\\\\n",
    "F&T&F\\\\\n",
    "F&F&F\\\\\n",
    "\\hline\n",
    "\\end{array}\n",
    "$$\n",
    "\n",
    "The `|r|r|c|` part controls each column's alignment. In this case: right, right, center. The `$$` at the beginning and end allow multi-line LaTeX code. Code set in `$$` blocks will be centered on the page."
   ]
  },
  {
   "cell_type": "markdown",
   "metadata": {},
   "source": [
    "#### Your Answer:"
   ]
  },
  {
   "cell_type": "markdown",
   "metadata": {},
   "source": [
    "### Exercise 1.4"
   ]
  },
  {
   "cell_type": "markdown",
   "metadata": {},
   "source": [
    "Python has built in logical operators for **or**, **and**, and **not**. Using these operators, write a Python function called `xor` to implement the **exclusive or** operation. Your `xor` function should take two arguments.\n",
    "\n",
    "After you implement your `xor` function, run the following code, which should result in a truth table for exclusive or.\n",
    "\n"
   ]
  },
  {
   "cell_type": "markdown",
   "metadata": {},
   "source": [
    "#### Your Answer:"
   ]
  },
  {
   "cell_type": "code",
   "execution_count": null,
   "metadata": {},
   "outputs": [],
   "source": [
    "# Create an xor function\n",
    "def xor(p, q):\n",
    "    # Your code here\n",
    "    pass\n",
    "\n",
    "\n",
    "\n",
    "# Print a truth table for p xor q\n",
    "print(f'p       q       p xor q')\n",
    "for (p,q) in [(p,q) for p in [True, False] for q in [True, False]]:\n",
    "    print(f'{p!s:<8}{q!s:<8}{xor(p,q)!s:<8}')\n",
    "\n",
    "\n",
    "# Should result in output like this:\n",
    "# p       q       p xor q\n",
    "# True    True    False   \n",
    "# True    False   True    \n",
    "# False   True    True    \n",
    "# False   False   False "
   ]
  },
  {
   "cell_type": "markdown",
   "metadata": {},
   "source": [
    "### Exercise 1.5"
   ]
  },
  {
   "cell_type": "markdown",
   "metadata": {},
   "source": [
    "Explore logical operations in Python by using Python to generate a truth table for the following propositions:\n",
    "1. $p \\land q$\n",
    "2. $p \\lor q$\n",
    "3. $\\lnot p \\lor q$\n",
    "4. $p \\land \\lnot q$\n",
    "5. $p \\land (q \\oplus \\lnot r)$\n",
    "6. $p \\lor (\\lnot q \\oplus \\lnot r)$\n",
    "\n",
    "Compare your Python result with the tables you created in Exercise 1.3.\n",
    "\n",
    "You may need to use the `xor` function you created previously."
   ]
  },
  {
   "cell_type": "markdown",
   "metadata": {},
   "source": [
    "#### Your Answer:"
   ]
  },
  {
   "cell_type": "markdown",
   "metadata": {
    "id": "HCjgnJwTbbhN"
   },
   "source": [
    "----------------------\n",
    "## Sample Solutions\n",
    "\n",
    "**Note**:\n",
    "Sample solutions are provided in order to help you **learn**. The purpose of these exercises is not to simply turn in the answers, but to take the time and effort to learn and understand the material. You are encouraged to work the problems first, then when you are satisfied that you have the correct answer, look at the sample solution and compare it with yours. "
   ]
  },
  {
   "cell_type": "markdown",
   "metadata": {},
   "source": [
    "### Sample Solution 1.1"
   ]
  },
  {
   "cell_type": "markdown",
   "metadata": {},
   "source": [
    "Three propositions:\n",
    "\n",
    "1. The sky is blue.\n",
    "2. It is raining.\n",
    "3. Snow is white.\n",
    "\n",
    "Three non-propositions:\n",
    "\n",
    "1. Do you like pizza?\n",
    "2. Pick up your toys.\n",
    "3. Go to the store."
   ]
  },
  {
   "cell_type": "markdown",
   "metadata": {},
   "source": [
    "### Sample Solution 1.2"
   ]
  },
  {
   "cell_type": "markdown",
   "metadata": {},
   "source": [
    "1. I studied and I got an A on the test.\n",
    "2. I did not study and I got an A on the test.\n",
    "3. I studied but I did not get an A on the test. (Logically speaking, \"but\" means \"and\" --- and it sounds better here.)\n",
    "4. I did not study and I did not get an A on the test.\n",
    "5. I studied or I got an A on the test.\n",
    "6. I did not study or I got an A on the test.\n",
    "7. I studied or I did not get an A on the test.\n",
    "8. I did not study or I did not get an A on the test."
   ]
  },
  {
   "cell_type": "markdown",
   "metadata": {},
   "source": [
    "### Sample Solution 1.3"
   ]
  },
  {
   "cell_type": "markdown",
   "metadata": {},
   "source": [
    "Using LaTeX:\n",
    "\n",
    "1. $\\begin{array}{|r|c|}\n",
    "\\hline \n",
    "p & p \\land p \\\\ \n",
    "\\hline \\hline \n",
    "0 & 0 \\\\ \n",
    "1 & 1 \\\\ \n",
    "\\hline \n",
    "\\end{array}\n",
    "$\n",
    "\n",
    "2. $\\begin{array}{|r|c|}\\hline p & p \\lor p\\\\ \\hline \\hline 0 & 0 \\\\ 1 & 1 \\\\ \\hline \\end{array}$\n",
    "\n",
    "3. $\\begin{array}{|r|r|c|}\\hline p & q & \\lnot p \\lor q\\\\ \\hline \\hline 0 & 0 & 1\\\\ 0 & 1 & 1\\\\ 1 & 0 & 0\\\\ 1 & 1 & 1\\\\ \\hline\\end{array}$\n",
    "\n",
    "4. $\\begin{array}{|r|r|c|}\\hline p & q & p \\land \\lnot q\\\\ \\hline \\hline 0 & 0 & 0\\\\ 0 & 1 & 0\\\\ 1 & 0 & 1\\\\ 1 & 1 & 0\\\\ \\hline\\end{array}$\n",
    "\n",
    "5. $\\begin{array}{|r|r|r|r|r|r|}\n",
    "\\hline\n",
    "p & \\land & (q & \\oplus & \\lnot & r)\\\\\n",
    "\\hline\n",
    "\\hline\n",
    "0 & 0 & 0 & 1 & 1 & 0\\\\\n",
    "0 & 0 & 0 & 0 & 0 & 1\\\\\n",
    "0 & 0 & 1 & 0 & 1 & 0\\\\\n",
    "0 & 0 & 1 & 1 & 0 & 1\\\\\n",
    "1 & 1 & 0 & 1 & 1 & 0\\\\\n",
    "1 & 0 & 0 & 0 & 0 & 1\\\\\n",
    "1 & 0 & 1 & 0 & 1 & 0\\\\\n",
    "1 & 1 & 1 & 1 & 0 & 1\\\\\n",
    "\\hline\n",
    "\\end{array}$\n",
    "\n",
    "6. $\\begin{array}{|r|r|r|r|r|}\n",
    "\\hline\n",
    "p & \\lor & (\\lnot q & \\oplus & \\lnot r)\\\\\n",
    "\\hline\n",
    "\\hline\n",
    "0 & 0 & 1 & 0 & 1\\\\\n",
    "0 & 1 & 1 & 1 & 0\\\\\n",
    "0 & 1 & 0 & 1 & 1\\\\\n",
    "0 & 0 & 0 & 0 & 0\\\\\n",
    "1 & 1 & 1 & 0 & 1\\\\\n",
    "1 & 1 & 1 & 1 & 0\\\\\n",
    "1 & 1 & 0 & 1 & 1\\\\\n",
    "1 & 1 & 0 & 0 & 0\\\\\n",
    "\\hline\n",
    "\\end{array}$\n",
    "\n",
    "A few examples using Markdown:\n",
    "\n",
    "$p \\land p$ \n",
    "\n",
    "|p|p $\\land$ p|\n",
    "|-|:-:|\n",
    "|0|0|\n",
    "|1|1|\n",
    "\n",
    "$p \\land (q \\oplus \\lnot r)$\n",
    "\n",
    "|p|$\\land$| (q | $\\oplus$ | $\\lnot$ | r) |\n",
    "|:-:|:-:|:-:|:-:|:-:|:-:|\n",
    "|0 |0 |0 |1 |1 |0 |\n",
    "|0 |0 |0 |0 |0 |1 |\n",
    "|0 |0 |1 |0 |1 |0 |\n",
    "|0 |0 |1 |1 |0 |1 |\n",
    "|1 |1 |0 |1 |1 |0 |\n",
    "|1 |0 |0 |0 |0 |1 |\n",
    "|1 |0 |1 |0 |1 |0 |\n",
    "|1 |1 |1 |1 |0 |1 |"
   ]
  },
  {
   "cell_type": "markdown",
   "metadata": {},
   "source": [
    "### Sample Solution 1.4"
   ]
  },
  {
   "cell_type": "code",
   "execution_count": null,
   "metadata": {},
   "outputs": [],
   "source": [
    "def xor(p, q):\n",
    "    # return (p and not q) or (q and not p)\n",
    "    # return p != q # another way\n",
    "    return not p if q else p   # another way\n",
    "\n",
    "# Another way, using a lambda function\n",
    "xor = lambda p, q: p != q"
   ]
  },
  {
   "cell_type": "markdown",
   "metadata": {},
   "source": [
    "### Sample Solution 1.5:"
   ]
  },
  {
   "cell_type": "code",
   "execution_count": null,
   "metadata": {},
   "outputs": [],
   "source": [
    "print(f'p       q       r       not p or q   p and not q    p and (q xor not r)    p or (not q xor not r)')\n",
    "values = [(p,q,r) for p in [True, False] for q in [True, False] for r in [True, False]]\n",
    "for (p,q,r) in values:\n",
    "    print(f'{p!s:<8}{q!s:<8}{r!s:<8}{not p or q!s:<13}{p and not q!s:<15}{p and (xor(q, not r))!s:<23}{p or (xor(not q, not r))!s:<10}')\n",
    "\n",
    "\n"
   ]
  }
 ],
 "metadata": {
  "colab": {
   "authorship_tag": "ABX9TyM2pnZ50IB1krMNsEI2wRWT",
   "collapsed_sections": [
    "HCjgnJwTbbhN"
   ],
   "name": "cse280-homework-01.ipynb",
   "private_outputs": false,
   "provenance": [],
   "toc_visible": true
  },
  "kernelspec": {
   "display_name": "Python 3.9.0 ('.env': venv)",
   "language": "python",
   "name": "python3"
  },
  "language_info": {
   "codemirror_mode": {
    "name": "ipython",
    "version": 3
   },
   "file_extension": ".py",
   "mimetype": "text/x-python",
   "name": "python",
   "nbconvert_exporter": "python",
   "pygments_lexer": "ipython3",
   "version": "3.9.0"
  },
  "vscode": {
   "interpreter": {
    "hash": "1977c1262a5a71e57f8e1e2a9337f4268800bf2d1a595fc1ecb322ccb8b2351d"
   }
  }
 },
 "nbformat": 4,
 "nbformat_minor": 1
}
