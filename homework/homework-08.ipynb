{
  "cells": [
    {
      "attachments": {},
      "cell_type": "markdown",
      "metadata": {
        "id": "_Mr3AvSgSswx"
      },
      "source": [
        "# Homework 8 - Sequences & Summations"
      ]
    },
    {
      "attachments": {},
      "cell_type": "markdown",
      "metadata": {
        "id": "w1t0weuGbbhA"
      },
      "source": [
        "**Instructions:** Complete the exercises below.\n",
        "\n",
        "1. Make a copy of this Colab Notebook using **`File -> Save a copy in Drive`**. \n",
        "\n",
        "2. Answer the exercise questions below. Type your answers to each question by double-clicking on **`Your Answer`** and typing your response.\n",
        "\n",
        "    Note that you can use any combination of plain text, Markdown, or LaTeX. As a last resort, you can simply take a picture of your handwritten work and upload it to an answer cell below.\n",
        "\n",
        "3. To submit your work, turn in the URL for your Colab notebook."
      ]
    },
    {
      "attachments": {},
      "cell_type": "markdown",
      "metadata": {
        "id": "bEsUKV6DbbhB"
      },
      "source": [
        "**Note**:\n",
        "Sample solutions are provided in order to help you **learn**. The purpose of these exercises is not to simply turn in the answers, but to take the time and effort to learn and understand the material. You are encouraged to work the problems first, then when you are satisfied that you have the correct answer, look at the sample solution and compare it with yours. "
      ]
    },
    {
      "attachments": {},
      "cell_type": "markdown",
      "metadata": {
        "id": "RRJOoQK65YrG"
      },
      "source": [
        "As you complete the problems below, you may use Python whenever you can think of a way it could help you answer the question."
      ]
    },
    {
      "attachments": {},
      "cell_type": "markdown",
      "metadata": {
        "id": "d09J6ZSB5YrH"
      },
      "source": [
        "### Exercise 8.1"
      ]
    },
    {
      "attachments": {},
      "cell_type": "markdown",
      "metadata": {
        "id": "J5tDI9iB5YrH"
      },
      "source": [
        "Give the first six terms of the following sequences. You can assume the sequences start with an index of 1.\n",
        "\n",
        "1. A geometric sequence in which the first value is 5 and the common ratio is 7\n",
        "\n",
        "2. An arithmetic sequence in which the first value is 3 and the common difference is 2.\n",
        "\n",
        "3. A geometric sequence in which the first value is 36 and the common ratio is 1/4.\n",
        "\n",
        "4. An arithmetic sequence in which the first value is 9 and the common difference is -1/2."
      ]
    },
    {
      "attachments": {},
      "cell_type": "markdown",
      "metadata": {
        "id": "OJVBaf995YrH"
      },
      "source": [
        "#### Your Answer:\n"
      ]
    },
    {
      "attachments": {},
      "cell_type": "markdown",
      "metadata": {
        "id": "_q3l2ol75YrI"
      },
      "source": [
        "### Exercise 8.2"
      ]
    },
    {
      "attachments": {},
      "cell_type": "markdown",
      "metadata": {
        "id": "pNotOAnQ5YrI"
      },
      "source": [
        "Write functions using Python to generate the first 10 terms of each of the following sequences $f_n$.\n",
        "\n",
        "1. $f_0 = 5$\\\n",
        "   $f_n = f_{n-1} + 3n \\text{,   for } n\\ge1$\n",
        "\n",
        "2. $f_0 = 1$\\\n",
        "   $f_n = n^3 + f_{n-1} \\text{, for } n\\ge 1$\n",
        "\n",
        "3. $f_0 = 1$\\\n",
        "   $f_1 = 3$\\\n",
        "   $f_n = f_{n-1} * f_{n-2} \\text{, for } n\\ge 2$\n",
        "\n",
        "3. $f_0 = 1$\\\n",
        "   $f_1 = 5$\\\n",
        "   $f_n = f_{n-1} + (f_{n-2})^2 \\text{, for } n\\ge 2$\n"
      ]
    },
    {
      "attachments": {},
      "cell_type": "markdown",
      "metadata": {
        "id": "Nablr5Kn5YrJ"
      },
      "source": [
        "#### Your Answer:"
      ]
    },
    {
      "attachments": {},
      "cell_type": "markdown",
      "metadata": {
        "id": "bIPflbgB5YrJ"
      },
      "source": [
        "### Exercise 8.3"
      ]
    },
    {
      "attachments": {},
      "cell_type": "markdown",
      "metadata": {
        "id": "W-_rlqxt7x2J"
      },
      "source": [
        "You took out a loan for a new car. The loan amount is \\$60,000. The monthly payment is \\$850. The annual interest is 9% and compounds monthly. $a_n$ is the amount owed at the end of the $n\\text{th}$ month. The payments start in the first month and are due the last day of every month. \n",
        "\n",
        "Give a recurrence relation for $a_n$. Include the base case. "
      ]
    },
    {
      "attachments": {},
      "cell_type": "markdown",
      "metadata": {
        "id": "yhQwDOWy5YrJ"
      },
      "source": [
        "#### Your Answer:\n"
      ]
    },
    {
      "attachments": {},
      "cell_type": "markdown",
      "metadata": {
        "id": "B5FNOXN85YrK"
      },
      "source": [
        "### Exercise 8.4"
      ]
    },
    {
      "attachments": {},
      "cell_type": "markdown",
      "metadata": {
        "id": "v-R6LUWL5YrK"
      },
      "source": [
        "Use the Python `sum` function and list comprehensions to solve the following summations:\n",
        "\n",
        "1. $\\displaystyle \\sum_{k=1}^{53} k^3$\n",
        "\n",
        "2. $\\displaystyle \\sum_{k=4}^{27} 2^k - 2$\n",
        "\n",
        "3. $\\displaystyle \\sum_{k=-3}^{18} k^5$\n",
        "\n",
        "4. $\\displaystyle \\sum_{k=-2}^{7} 2^k$"
      ]
    },
    {
      "attachments": {},
      "cell_type": "markdown",
      "metadata": {
        "id": "CRfv5lDi5YrK"
      },
      "source": [
        "#### Your Answer:"
      ]
    },
    {
      "attachments": {},
      "cell_type": "markdown",
      "metadata": {
        "id": "FJ4wlHWml_Ys"
      },
      "source": [
        "### Exercise 8.5\n"
      ]
    },
    {
      "attachments": {},
      "cell_type": "markdown",
      "metadata": {
        "id": "aTBxQzQcmCqh"
      },
      "source": [
        "Here's an example of how to show a summation using LaTeX:\n",
        "\n",
        "`$\\displaystyle \\sum_{i=1}^{10}{i^2}$` \n",
        "\n",
        "will result in\n",
        "\n",
        "$\\displaystyle \\sum_{i=1}^{10}{i^2}$\n",
        "\n",
        "\n",
        "Use LaTeX and express the following sums in summation notation. \n",
        "\n",
        "1. ${0}^{2} + {1}^{2} + {2}^{2} + {3}^{2} + {4}^{2} + {5}^{2} + ⋯ + {22}^{2}$\n",
        "\n",
        "2. ${-2}^{3} + {-1}^{3} + ⋯ + {8}^{3}$\n",
        "\n",
        "3. The sum of the first 10 multiples of 5, excluding 0.\n",
        "\n",
        "4. The sum of the squares of the first 10 positive integers."
      ]
    },
    {
      "attachments": {},
      "cell_type": "markdown",
      "metadata": {
        "id": "zTshrsg1mG7h"
      },
      "source": [
        "#### Your Answer:"
      ]
    },
    {
      "attachments": {},
      "cell_type": "markdown",
      "metadata": {
        "id": "_faPgI9QAKhh"
      },
      "source": [
        "### Exercise 8.6\n",
        "\n"
      ]
    },
    {
      "attachments": {},
      "cell_type": "markdown",
      "metadata": {
        "id": "6MH5lWZlANZ8"
      },
      "source": [
        "Determine what the recursive definition (base case and the recursive rule) would be in the following scenarios:\n",
        "\n",
        "1. The factorial of a non-negative integer $n$.\n",
        "\n",
        "2. The sum of the digits of a non-negative integer.\n",
        "\n",
        "3. The product of two positive integers a and b using only addition and subtraction.\n",
        "\n",
        "You may choose to represent these in Python instead."
      ]
    },
    {
      "attachments": {},
      "cell_type": "markdown",
      "metadata": {
        "id": "wGhxJYseBk0i"
      },
      "source": [
        "#### Your Answer:"
      ]
    },
    {
      "attachments": {},
      "cell_type": "markdown",
      "metadata": {
        "id": "ms4_USUV9jdc"
      },
      "source": [
        "### Exercise 8.7\n",
        "\n",
        "\n"
      ]
    },
    {
      "attachments": {},
      "cell_type": "markdown",
      "metadata": {
        "id": "suDqxxB29n0R"
      },
      "source": [
        "Define a recursive function in Python that computes the ${n}^{th}$ Fibonacci number, where $n$ is a non-negative integer."
      ]
    },
    {
      "attachments": {},
      "cell_type": "markdown",
      "metadata": {
        "id": "K_xkdgRT-D6j"
      },
      "source": [
        "#### Your Answer:"
      ]
    },
    {
      "attachments": {},
      "cell_type": "markdown",
      "metadata": {
        "id": "7ruM2yf5ifRj"
      },
      "source": [
        "### Exercise 8.8\n",
        "\n",
        "\n"
      ]
    },
    {
      "attachments": {},
      "cell_type": "markdown",
      "metadata": {
        "id": "mlDOB_FjjKK-"
      },
      "source": [
        "Write a Python function that takes as input two non-negative integers ${x}$ and ${y}$ and returns the sum of ${x}$ and ${y}$ using only recursion. You may not use any loops or arithmetic operations other than incrementing and decrementing the input values."
      ]
    },
    {
      "attachments": {},
      "cell_type": "markdown",
      "metadata": {
        "id": "XO1QUdxGjtU0"
      },
      "source": [
        "#### Your Answer:"
      ]
    },
    {
      "attachments": {},
      "cell_type": "markdown",
      "metadata": {
        "id": "-oNPkzbDjkLq"
      },
      "source": [
        "### Exercise 8.9\n",
        "\n",
        "\n"
      ]
    },
    {
      "attachments": {},
      "cell_type": "markdown",
      "metadata": {
        "id": "-04MoAbsjn7Q"
      },
      "source": [
        "Extend your solution from Part 1 to include the following functionality: instead of just adding two numbers, your function should be able to add a list of any number of non-negative integers using recursion. You may assume that the list contains at least one element."
      ]
    },
    {
      "attachments": {},
      "cell_type": "markdown",
      "metadata": {
        "id": "M_qm-vT-jdVP"
      },
      "source": [
        "#### Your Answer:"
      ]
    },
    {
      "attachments": {},
      "cell_type": "markdown",
      "metadata": {
        "id": "HCjgnJwTbbhN"
      },
      "source": [
        "----------------------\n",
        "## Sample Solutions\n",
        "\n",
        "**Note**:\n",
        "Sample solutions are provided in order to help you **learn**. The purpose of these exercises is not to simply turn in the answers, but to take the time and effort to learn and understand the material. You are encouraged to work the problems first, then when you are satisfied that you have the correct answer, look at the sample solution and compare it with yours. "
      ]
    },
    {
      "attachments": {},
      "cell_type": "markdown",
      "metadata": {
        "id": "xIuKSJ-M7PQn"
      },
      "source": [
        "### Sample Solution 8.1 "
      ]
    },
    {
      "attachments": {},
      "cell_type": "markdown",
      "metadata": {
        "id": "qEA6WZc07UyB"
      },
      "source": [
        "1. 5, 35, 245, 1715, 12005, 84035\n",
        "2. 3, 5, 7, 9, 11, 13\n",
        "3. 36, 9, 2.25, 0.5625, 0.140625, 0.03515625 (36, 9, 9/4, 9/16, 9/64, 9/256)\n",
        "4. 9, 8.5, 8, 7.5, 7, 6.5 (9, 17/2, 8, 15/2, 7, 13/2)"
      ]
    },
    {
      "attachments": {},
      "cell_type": "markdown",
      "metadata": {
        "id": "ergmjhpb5YrN"
      },
      "source": [
        "### Sample Solution 8.2"
      ]
    },
    {
      "cell_type": "code",
      "execution_count": null,
      "metadata": {
        "id": "e16LZrEc5YrN",
        "outputId": "c5a62617-0cfa-40c1-b8d8-b472601b53f0"
      },
      "outputs": [
        {
          "name": "stdout",
          "output_type": "stream",
          "text": [
            "1. [5, 8, 14, 23, 35, 50, 68, 89, 113, 140]\n",
            "2. [1, 2, 10, 37, 101, 226, 442, 785, 1297, 2026]\n",
            "3. [1, 3, 3, 9, 27, 243, 6561, 1594323, 10460353203, 16677181699666569]\n",
            "4. [1, 5, 6, 31, 67, 1028, 5517, 1062301, 31499590, 1128514914191]\n"
          ]
        }
      ],
      "source": [
        "# 1.\n",
        "f = lambda n: 5 if n==0 else f(n-1) + 3*n\n",
        "print(f'1. {[f(n) for n in range(10)]}')\n",
        "\n",
        "# 2.\n",
        "f = lambda n: 1 if n==0 else n**3 + f(n-1)\n",
        "print(f'2. {[f(n) for n in range(10)]}')\n",
        "\n",
        "# 3.\n",
        "f = lambda n: 1 if n==0 else 3 if n==1 else f(n-1)*f(n-2)\n",
        "print(f'3. {[f(n) for n in range(10)]}')\n",
        "\n",
        "# 4.\n",
        "f = lambda n: 1 if n==0 else 5 if n==1 else f(n-1) + f(n-2)**2\n",
        "print(f'4. {[f(n) for n in range(10)]}')"
      ]
    },
    {
      "cell_type": "code",
      "execution_count": null,
      "metadata": {
        "colab": {
          "base_uri": "https://localhost:8080/"
        },
        "id": "cx_sMgtz5YrO",
        "outputId": "50ab0268-6d98-40b0-fa2f-1bb1e1676df1"
      },
      "outputs": [
        {
          "name": "stdout",
          "output_type": "stream",
          "text": [
            "[5, 8, 14, 23, 35, 50, 68, 89, 113, 140]\n",
            "[1, 2, 10, 37, 101, 226, 442, 785, 1297, 2026]\n",
            "[1, 3, 3, 9, 27, 243, 6561, 1594323, 10460353203, 16677181699666569]\n",
            "[1, 5, 6, 31, 67, 1028, 5517, 1062301, 31499590, 1128514914191]\n"
          ]
        }
      ],
      "source": [
        "# Alternative solutions\n",
        "# 1. \n",
        "def f(n):\n",
        "    if n==0:\n",
        "        return 5\n",
        "    else:\n",
        "        return f(n-1) + 3*n\n",
        "    \n",
        "# Display the first 10 numbers in the sequence\n",
        "print([f(n) for n in range(10)])\n",
        "\n",
        "# 2.\n",
        "def f(n):\n",
        "    if n==0:\n",
        "        return 1\n",
        "    else:\n",
        "        return n**3 + f(n-1)\n",
        "    \n",
        "# Display the first 10 numbers in the sequence\n",
        "print([f(n) for n in range(10)])\n",
        "\n",
        "# 3.\n",
        "def f(n):\n",
        "    if n==0:\n",
        "        return 1\n",
        "    elif n==1:\n",
        "        return 3\n",
        "    else:\n",
        "        return f(n-1) * f(n-2)\n",
        "\n",
        "print([f(n) for n in range(10)])\n",
        "\n",
        "# 4. \n",
        "def f(n):\n",
        "    if n==0:\n",
        "        return 1\n",
        "    elif n==1:\n",
        "        return 5\n",
        "    else:\n",
        "        return f(n-1) + f(n-2)**2 \n",
        "\n",
        "print([f(n) for n in range(10)])\n"
      ]
    },
    {
      "attachments": {},
      "cell_type": "markdown",
      "metadata": {
        "id": "I_gsIe8L5YrJ"
      },
      "source": [
        "### Sample Solution 8.3"
      ]
    },
    {
      "attachments": {},
      "cell_type": "markdown",
      "metadata": {
        "id": "lWr2P4m-9evQ"
      },
      "source": [
        "Monthly interest is (9/12) = 0.75%. The amount owed increases by a factor of 1.0075 each month. \\\n",
        "$a_0 = 60000$ \\\n",
        "$a_n = (1.0075) a_{n-1} - 850$, for $n \\geq 1$"
      ]
    },
    {
      "attachments": {},
      "cell_type": "markdown",
      "metadata": {
        "id": "Wk722ku55YrO"
      },
      "source": [
        "### Sample Solution 8.4"
      ]
    },
    {
      "cell_type": "code",
      "execution_count": 1,
      "metadata": {
        "id": "YrV5IRLr5YrO",
        "outputId": "481ceb66-823a-49bf-e80a-969f977edfa5"
      },
      "outputs": [
        {
          "name": "stdout",
          "output_type": "stream",
          "text": [
            "1. 2047761\n",
            "2. 268435392\n",
            "3. 6656925\n",
            "4. 255.75\n"
          ]
        }
      ],
      "source": [
        "print(f'1. {sum([k**3 for k in range(1,54)])}')\n",
        "print(f'2. {sum([(2**k)-2 for k in range(4,28)])}')\n",
        "print(f'3. {sum([(k**5) for k in range(-3,19)])}')\n",
        "print(f'4. {sum([2**k for k in range(-2,8)])}')"
      ]
    },
    {
      "attachments": {},
      "cell_type": "markdown",
      "metadata": {
        "id": "Jhgu_17buOfj"
      },
      "source": [
        "### Sample Solution 8.5\n"
      ]
    },
    {
      "attachments": {},
      "cell_type": "markdown",
      "metadata": {
        "id": "UxA6FNFOuSv_"
      },
      "source": [
        "Express the following sums in summation notation:\n",
        "\n",
        "1. $\\displaystyle \\sum_{i=0}^{22} i^2$\n",
        "\n",
        "2. $\\displaystyle \\sum_{i=-2}^{8} i^3$\n",
        "\n",
        "3. $\\displaystyle \\sum_{i=1}^{10} 5i$\n",
        "\n",
        "4. $\\displaystyle \\sum_{i=1}^{10} i^2$\n"
      ]
    },
    {
      "attachments": {},
      "cell_type": "markdown",
      "metadata": {
        "id": "Fr4CF3bMCtqa"
      },
      "source": [
        "### Sample Solution 8.6\n",
        "\n",
        "\n",
        "\n",
        "\n"
      ]
    },
    {
      "attachments": {},
      "cell_type": "markdown",
      "metadata": {
        "id": "4hKSnH-0CzU_"
      },
      "source": [
        "1. Base case: 0! = 1\n",
        "\n",
        "  Recursive rule: n! = n * (n-1)!\n",
        "\n",
        "2. Base case: if n is less than 10, then the sum of its digits is n itself.\n",
        "\n",
        "   Recursive rule: if n is greater than 10, then the sum of its digits is the sum of the last digit (n%10) and the sum of the digits of the remaining number (n//10).\n",
        "\n",
        "3. Base case: if b is 1, then the product is a itself.\n",
        "\n",
        "   Recursive rule: if b is greater than 1, then the product is a plus the product of a and (b-1).\n",
        "\n"
      ]
    },
    {
      "attachments": {},
      "cell_type": "markdown",
      "metadata": {
        "id": "5p5DJiSe-Mn2"
      },
      "source": [
        "### Sample Solution 8.7\n",
        "\n",
        "\n",
        "\n"
      ]
    },
    {
      "cell_type": "code",
      "execution_count": null,
      "metadata": {
        "id": "ckd6Aeql-Qwb"
      },
      "outputs": [],
      "source": [
        "def fibonacci(n):\n",
        "    if n == 0:\n",
        "        return 0\n",
        "    elif n == 1:\n",
        "        return 1\n",
        "    else:\n",
        "        return fibonacci(n-1) + fibonacci(n-2)"
      ]
    },
    {
      "attachments": {},
      "cell_type": "markdown",
      "metadata": {
        "id": "Ojkrvqi1iZ8y"
      },
      "source": [
        "### Sample Solution 8.8\n",
        "\n",
        "\n",
        "\n"
      ]
    },
    {
      "cell_type": "code",
      "execution_count": null,
      "metadata": {
        "id": "zZgm28zPjuK5"
      },
      "outputs": [],
      "source": [
        "def recursive_addition(x, y):\n",
        "    if y == 0:\n",
        "        return x\n",
        "    return recursive_addition(x+1, y-1)"
      ]
    },
    {
      "attachments": {},
      "cell_type": "markdown",
      "metadata": {
        "id": "nOF2uU8SiaN7"
      },
      "source": [
        "### Sample Solution 8.9\n",
        "\n",
        "\n",
        "\n"
      ]
    },
    {
      "cell_type": "code",
      "execution_count": null,
      "metadata": {
        "id": "3ko7ox6AkIvh"
      },
      "outputs": [],
      "source": [
        "def recursive_add(numbers):\n",
        "    if len(numbers) == 1:\n",
        "        return numbers[0]\n",
        "    else:\n",
        "        return numbers[0] + recursive_add(numbers[1:])"
      ]
    }
  ],
  "metadata": {
    "colab": {
      "provenance": []
    },
    "interpreter": {
      "hash": "1977c1262a5a71e57f8e1e2a9337f4268800bf2d1a595fc1ecb322ccb8b2351d"
    },
    "kernelspec": {
      "display_name": "Python 3.9.0 ('.env': venv)",
      "language": "python",
      "name": "python3"
    },
    "language_info": {
      "codemirror_mode": {
        "name": "ipython",
        "version": 3
      },
      "file_extension": ".py",
      "mimetype": "text/x-python",
      "name": "python",
      "nbconvert_exporter": "python",
      "pygments_lexer": "ipython3",
      "version": "3.9.0"
    }
  },
  "nbformat": 4,
  "nbformat_minor": 0
}
