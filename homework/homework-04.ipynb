{
  "cells": [
    {
      "cell_type": "markdown",
      "metadata": {
        "id": "_Mr3AvSgSswx"
      },
      "source": [
        "# <font color=blue>Homework 4 - Sets & Functions </font>\n",
        "## <font color=blue>Prepare</font>"
      ]
    },
    {
      "cell_type": "markdown",
      "metadata": {
        "id": "w1t0weuGbbhA"
      },
      "source": [
        "**Instructions:** Complete the exercises below.\n",
        "\n",
        "1. First, make a copy of this Colab Notebook to your GitHub account as a GitHub Gist (File -> Save a copy as a GitHub Gist). This will allow you to save any changes you make.\n",
        "\n",
        "2. Now enter your answers to each question in the places shown below. \n",
        "\n",
        "3. To submit your work, turn in the URL for your Colab notebook. Make sure the URL has the word `gist` in it. It should look something like this:\n",
        "`https://colab.research.google.com/gist/yourgithubusername/somerandomnumbersandletters/homework-04.ipynb`"
      ]
    },
    {
      "cell_type": "markdown",
      "metadata": {
        "id": "bEsUKV6DbbhB"
      },
      "source": [
        "**Note**:\n",
        "Sample solutions are provided in order to help you **learn**. The purpose of these exercises is not to simply turn in the answers, but to take the time and effort to learn and understand the material. You are encouraged to work the problems first, then when you are satisfied that you have the correct answer, look at the sample solution and compare it with yours. "
      ]
    },
    {
      "cell_type": "markdown",
      "metadata": {},
      "source": [
        "As you complete the problems below, you may use Python whenever you can think of way it could help you answer the question."
      ]
    },
    {
      "cell_type": "markdown",
      "metadata": {
        "id": "tWpt07z8bbhB"
      },
      "source": [
        "### Exercise 4.1"
      ]
    },
    {
      "cell_type": "markdown",
      "metadata": {},
      "source": [
        "Let $A = \\{0,2,3\\}$, $B=\\{2,3\\}$, $C = \\{1,4\\}$, and let the universal set $U = \\{0,1,2,3,4\\}$. List the elements of each of the following:\n",
        "\n",
        "1. $A \\times B$\n",
        "2. $B \\times A$\n",
        "3. $A \\times B \\times C$\n",
        "4. $U \\times \\emptyset$\n",
        "5. $A \\times \\overline A$\n",
        "6. $B^2$\n",
        "\n",
        "\n",
        "Question adapted from [Applied Discrete Structures](https://discretemath.org/) by Alan Doerr & Kenneth Levasseur which is licensed under a [Creative Commons Attribution-NonCommercial-ShareAlike 3.0 United States License](http://creativecommons.org/licenses/by-nc-sa/3.0/us/)."
      ]
    },
    {
      "cell_type": "markdown",
      "metadata": {
        "id": "JIVFRE_KbbhC"
      },
      "source": [
        "#### Your Answer:"
      ]
    },
    {
      "cell_type": "markdown",
      "metadata": {
        "id": "tWpt07z8bbhB"
      },
      "source": [
        "### Exercise 4.2"
      ]
    },
    {
      "cell_type": "markdown",
      "metadata": {},
      "source": [
        "Use Python to answer the following questions.\n",
        "\n",
        "1. List all the elements in the Cartesian Product, $A \\times B$, where\n",
        "\n",
        "    $A = \\{a,b,c,d,e,f\\}$ and $B = \\{0,1,2,3,4,5\\}$\n",
        "\n",
        "2. What is the cardinality of $A \\times B$?\n",
        "\n",
        "3. List all the elements in $C \\times C \\times C$, where $C = \\{0,1\\}$\n",
        "\n",
        "4. What is the cardinality of $C \\times C \\times C$?"
      ]
    },
    {
      "cell_type": "markdown",
      "metadata": {
        "id": "JIVFRE_KbbhC"
      },
      "source": [
        "#### Your Answer:"
      ]
    },
    {
      "cell_type": "markdown",
      "metadata": {},
      "source": [
        "### Exercise 4.3"
      ]
    },
    {
      "cell_type": "markdown",
      "metadata": {
        "id": "3vlcLLl-kzRf"
      },
      "source": [
        "Which pairs of the following sets are pairwise disjoint?\n",
        "1. The set of all even numbers.\n",
        "2. The set of all odd numbers.\n",
        "3. The set of all nonnegative powers of 2."
      ]
    },
    {
      "cell_type": "markdown",
      "metadata": {
        "id": "JIVFRE_KbbhC"
      },
      "source": [
        "#### Your Answer:"
      ]
    },
    {
      "cell_type": "markdown",
      "metadata": {
        "id": "IMHczLMQlaSt"
      },
      "source": [
        "### Exercise 4.4"
      ]
    },
    {
      "cell_type": "markdown",
      "metadata": {},
      "source": [
        "List all partitions of the set $A = \\{a,b,c\\}$.\n",
        "\n",
        "\n",
        "Question adapted from [Applied Discrete Structures](https://discretemath.org/) by Alan Doerr & Kenneth Levasseur which is licensed under a [Creative Commons Attribution-NonCommercial-ShareAlike 3.0 United States License](http://creativecommons.org/licenses/by-nc-sa/3.0/us/).\n"
      ]
    },
    {
      "cell_type": "markdown",
      "metadata": {
        "id": "iRX6sYjAbbhN"
      },
      "source": [
        "#### Your Answer:"
      ]
    },
    {
      "cell_type": "markdown",
      "metadata": {
        "id": "Ps9VWGU6w5PO"
      },
      "source": [
        "### Exercise 4.5"
      ]
    },
    {
      "cell_type": "markdown",
      "metadata": {
        "id": "8Utd8McNw5PO"
      },
      "source": [
        "What is the target or codomain of the following functions if the domain is $\\mathbb{Z}^{+}$? \n",
        "\n",
        "1. $f(x) = \\sqrt{x}$\n",
        "2. $f(x) = 2x$\n",
        "3. $f(x) = 2x + 1$\n",
        "4. $f(x) = \\frac{1}{x}$"
      ]
    },
    {
      "cell_type": "markdown",
      "metadata": {
        "id": "iRX6sYjAbbhN"
      },
      "source": [
        "#### Your Answer:"
      ]
    },
    {
      "cell_type": "markdown",
      "metadata": {},
      "source": [
        "### Exercise 4.6"
      ]
    },
    {
      "cell_type": "markdown",
      "metadata": {},
      "source": [
        "Let $A = \\{1,2,3,4\\}$ and $B=\\{a,b,c,d\\}$. Determine which of the following are well-defined functions. If it is a function, determine whether it is onto, one-to-one, both, or neither. Explain your reasoning.\n",
        "\n",
        "1. $f: A \\rightarrow B$, where $ f = \\{(1,a), (2,b), (3,c), (4,d)\\}$\n",
        "2. $f: A \\rightarrow B$, where $ f = \\{(1,a), (2,a), (3,b), (4,d)\\}$ \n",
        "3. $f: A \\rightarrow B$, where $ f = \\{(1,a), (2,b), (3,c)\\}$\n",
        "4. $f: A \\rightarrow B$, where $ f = \\{(1,a), (2,b), (2,c), (3,a), (4,a)\\}$\n",
        "5. $f: A \\rightarrow A$, where $ f = \\{(1,1), (2,1), (3,1), (4,1) \\}$\n",
        "\n",
        "\n",
        "\n",
        "Question adapted from [Applied Discrete Structures](https://discretemath.org/) by Alan Doerr & Kenneth Levasseur which is licensed under a [Creative Commons Attribution-NonCommercial-ShareAlike 3.0 United States License](http://creativecommons.org/licenses/by-nc-sa/3.0/us/)."
      ]
    },
    {
      "cell_type": "markdown",
      "metadata": {
        "id": "iRX6sYjAbbhN"
      },
      "source": [
        "#### Your Answer:"
      ]
    },
    {
      "cell_type": "markdown",
      "metadata": {},
      "source": [
        "### Exercise 4.7"
      ]
    },
    {
      "cell_type": "markdown",
      "metadata": {
        "id": "Su8CI4H8jpXo"
      },
      "source": [
        "Look up the definitions of the following Python builtin functions and describe their domains and codomains using regular English. Not all of these will be sets of numbers.\n",
        "* ```abs```\n",
        "* ```chr```\n",
        "* ```int```\n",
        "* ```len```\n",
        "* ```pow```\n",
        "\n",
        "The notation $f : D \\longrightarrow C$ is the math &ldquo;signature&rdquo; for a function $f$ that takes its domain $D$ to its codomain $C$. The sets $D$ and $C$ can be the same set or different sets. Which of these five Python builtin functions best matches the function signature $f : \\mathbb{Z} \\longrightarrow \\mathbb{N}$?\n"
      ]
    },
    {
      "cell_type": "markdown",
      "metadata": {
        "id": "iRX6sYjAbbhN"
      },
      "source": [
        "#### Your Answer:"
      ]
    },
    {
      "cell_type": "markdown",
      "metadata": {},
      "source": [
        "### Exercise 4.8"
      ]
    },
    {
      "cell_type": "markdown",
      "metadata": {},
      "source": [
        "Python has built-in `floor` and `ceil` functions as part of the `math` module."
      ]
    },
    {
      "cell_type": "code",
      "execution_count": null,
      "metadata": {},
      "outputs": [],
      "source": [
        "from math import floor\n",
        "from math import ceil\n",
        "\n",
        "print(floor(2.9))\n",
        "print(ceil(1.1))"
      ]
    },
    {
      "cell_type": "markdown",
      "metadata": {},
      "source": [
        "Implement your own `floor` and `ceil` functions, but call them `floor1` and `ceil1` to avoid confusion with the built-in Python functions. You'll know your functions are working correctly if the `test_floor_ceiling` function results in `True`. (Hint: What happens if you convert a floating point number to an integer in Python using the `int()` function?)"
      ]
    },
    {
      "cell_type": "markdown",
      "metadata": {
        "id": "iRX6sYjAbbhN"
      },
      "source": [
        "#### Your Answer:"
      ]
    },
    {
      "cell_type": "code",
      "execution_count": null,
      "metadata": {},
      "outputs": [],
      "source": [
        "def floor1(x):\n",
        "    # Your code here\n",
        "    pass\n",
        "\n",
        "def ceil1(x):\n",
        "    # Your code here\n",
        "    pass\n",
        "\n",
        "def test_floor_ceiling():\n",
        "    \"\"\"Test the floor1 and ceil1 functions.\n",
        "    Do not modify this function. It will return\n",
        "    True if your floor1 and ceil1 functions are\n",
        "    correct.\n",
        "\n",
        "    Returns:\n",
        "        bool: True if all tests pass\n",
        "    \"\"\"\n",
        "    return (\n",
        "        floor1(2) == 2\n",
        "        and floor1(-2) == -2\n",
        "        and floor1(-1.1) == -2\n",
        "        and floor1(-1.9) == -2\n",
        "        and floor1(1.9) == 1\n",
        "        and floor1(1.1) == 1\n",
        "        and ceil1(2) == 2\n",
        "        and ceil1(-2) == -2\n",
        "        and ceil1(1.1) == 2\n",
        "        and ceil1(1.9) == 2\n",
        "        and ceil1(-1.1) == -1\n",
        "        and ceil1(-1.9) == -1\n",
        "    )\n",
        "\n",
        "print(test_floor_ceiling())"
      ]
    },
    {
      "cell_type": "markdown",
      "metadata": {},
      "source": [
        "### Exercise 4.9"
      ]
    },
    {
      "cell_type": "markdown",
      "metadata": {},
      "source": [
        "Which of the following are one-to-one, onto, or both? Feel free to write some Python code to help you decide.\n",
        "\n",
        "1. $f : \\mathbb{R} \\rightarrow \\mathbb{R}$ where $f(x) = x^3 - x$\n",
        "2. $f : \\mathbb{Z} \\rightarrow \\mathbb{Z}$ where $f(x) = -x + 2$\n",
        "3. $f : \\mathbb{N} \\times \\mathbb{N} \\rightarrow \\mathbb{Z}$ where $f(i,j) = 2^i 3^j $\n",
        "4. $f : \\mathbb{Z^+} \\rightarrow \\mathbb{Z^+}$ where $f(n) = \\lceil n/2 \\rceil$\n",
        "5. $f : \\mathbb{N} \\rightarrow \\mathbb{N}$ where $f(n) = n^2 + n$\n",
        "6. $f : \\mathbb{N} \\rightarrow \\mathbb{N} \\times \\mathbb{N}$ where $f(n) = (2n, 2n+1)$\n",
        "\n",
        "\n",
        "\n",
        "\n",
        "\n",
        "\n",
        "\n",
        "Question adapted from [Applied Discrete Structures](https://discretemath.org/) by Alan Doerr & Kenneth Levasseur which is licensed under a [Creative Commons Attribution-NonCommercial-ShareAlike 3.0 United States License](http://creativecommons.org/licenses/by-nc-sa/3.0/us/)."
      ]
    },
    {
      "cell_type": "markdown",
      "metadata": {},
      "source": [
        "### Introduction to *lambda* functions"
      ]
    },
    {
      "cell_type": "markdown",
      "metadata": {},
      "source": [
        "Python allows the creation of small *anonymous* functions using the `lambda` keyword. These functions are restricted to a single expression and have an implicit return statement.\n",
        "\n",
        "For example, the following anonymous function takes two parameters, `a` and `b`, then returns their sum."
      ]
    },
    {
      "cell_type": "code",
      "execution_count": null,
      "metadata": {},
      "outputs": [],
      "source": [
        "lambda a, b: a+b"
      ]
    },
    {
      "cell_type": "markdown",
      "metadata": {},
      "source": [
        "On its own, this function doesn't do much. But if we assign it to a variable, then we can call it just like a regular Python function."
      ]
    },
    {
      "cell_type": "code",
      "execution_count": null,
      "metadata": {},
      "outputs": [],
      "source": [
        "# Assign an anonymous function to a variable\n",
        "adder = lambda a, b: a + b\n",
        "\n",
        "# Call the function just like a normal Python function\n",
        "adder(3, 5) # returns 8"
      ]
    },
    {
      "cell_type": "markdown",
      "metadata": {},
      "source": [
        "This is equivalent to the same Python function defined using the `def` keyword:"
      ]
    },
    {
      "cell_type": "code",
      "execution_count": null,
      "metadata": {},
      "outputs": [],
      "source": [
        "def adder2(a, b):\n",
        "    return a + b\n",
        "\n",
        "adder2(3, 5) # returns 8"
      ]
    },
    {
      "cell_type": "markdown",
      "metadata": {},
      "source": [
        "### Exercise 4.10"
      ]
    },
    {
      "cell_type": "markdown",
      "metadata": {},
      "source": [
        "Given the three functions $f$, $g$, and $h$, where\n",
        "\n",
        "$f: \\mathbb{R^+}\\rightarrow\\mathbb{R^+}, f(x) = x^2$\n",
        "\n",
        "$g: \\mathbb{R}\\rightarrow\\mathbb{R^+}, g(x) = 2^x$\n",
        "\n",
        "$h: \\mathbb{R}\\rightarrow\\mathbb{Z}, h(x) = \\lceil x/5 \\rceil $\n",
        "\n",
        "Write Python code and use the `lambda` keyword to define each of these functions.\n",
        "\n",
        "As an example, to define the function $s(x) = x + 1$, the Python code would be `s = lambda x: x + 1` and this function would be called like so: `s(3)`."
      ]
    },
    {
      "cell_type": "code",
      "execution_count": null,
      "metadata": {},
      "outputs": [],
      "source": [
        "f = # your code here\n",
        "g = # your code here\n",
        "h = # your code here"
      ]
    },
    {
      "cell_type": "markdown",
      "metadata": {},
      "source": [
        "Now use your Python functions `f`, `g`, and `h` to evaluate the following.\n",
        "\n",
        "1. $f(5)$\n",
        "2. $g(6)$\n",
        "3. $h(27)$\n",
        "4. $(f \\circ g)(0)$\n",
        "5. $(f \\circ h)(52)$\n",
        "6. $(g \\circ h \\circ f)(4)$"
      ]
    },
    {
      "cell_type": "markdown",
      "metadata": {
        "id": "iRX6sYjAbbhN"
      },
      "source": [
        "#### Your Answer:"
      ]
    },
    {
      "cell_type": "code",
      "execution_count": null,
      "metadata": {},
      "outputs": [],
      "source": [
        "# Your code here"
      ]
    },
    {
      "cell_type": "markdown",
      "metadata": {},
      "source": [
        "### Exercise 4.11"
      ]
    },
    {
      "cell_type": "markdown",
      "metadata": {},
      "source": [
        "Use the functions from the previous exercise to answer the following questions.\n",
        "\n",
        "1. What is $f^{-1}(x)$? Write a lambda function and call it `f_inv`.\n",
        "2. Use the functions you wrote to evaluate  $(f^{-1} \\circ f)(3)$\n",
        "3. What is $g^{-1}(x)$? Write a lambda function and call it `g_inv`.\n",
        "4. Use the functions you wrote to evaluate $(g^{-1} \\circ g)(16)$"
      ]
    },
    {
      "cell_type": "markdown",
      "metadata": {
        "id": "iRX6sYjAbbhN"
      },
      "source": [
        "#### Your Answer:"
      ]
    },
    {
      "cell_type": "code",
      "execution_count": null,
      "metadata": {},
      "outputs": [],
      "source": [
        "# Your code here"
      ]
    },
    {
      "cell_type": "markdown",
      "metadata": {
        "id": "HCjgnJwTbbhN"
      },
      "source": [
        "----------------------\n",
        "## Sample Solutions\n",
        "\n",
        "**Note**:\n",
        "Sample solutions are provided in order to help you **learn**. The purpose of these exercises is not to simply turn in the answers, but to take the time and effort to learn and understand the material. You are encouraged to work the problems first, then when you are satisfied that you have the correct answer, look at the sample solution and compare it with yours. "
      ]
    },
    {
      "cell_type": "markdown",
      "metadata": {},
      "source": [
        "### Sample Solution 4.1"
      ]
    },
    {
      "cell_type": "markdown",
      "metadata": {},
      "source": [
        "1. $\\{(0,2), (0,3), (2,2), (2,3), (3,2), (3,3)\\}$\n",
        "2. $\\{(2,0), (2,2), (2,3), (3,0), (3,2), (3,3)\\}$\n",
        "3. $\\{(0,2,1), (0,2,4), (0,3,1), (0,3,4), (2,2,1), (2,2,4), (2,3,1), (2,3,4), (3,2,1), (3,2,4), (3,3,1), (3,3,4)\\}$\n",
        "4. $\\emptyset$\n",
        "5. $\\{(0,1), (0,4), (2,1), (2,4), (3,1), (3,4)\\}$\n",
        "6. $\\{(2,2), (2,3), (3,2), (3,3)\\}$"
      ]
    },
    {
      "cell_type": "code",
      "execution_count": null,
      "metadata": {},
      "outputs": [],
      "source": [
        "# Using Python\n",
        "A = {0,2,3}\n",
        "B = {2,3}\n",
        "C = {1,4}\n",
        "U = {0,1,2,3,4}\n",
        "\n",
        "print('1.',{(a,b) for a in A for b in B})\n",
        "print('2.',{(b,a) for b in B for a in A})\n",
        "print('3.',{(a,b,c) for a in A for b in B for c in C})\n",
        "print('4.',{(u, x) for u in U for x in set()})\n",
        "print('5.',{(a,na) for a in A for na in U - A})\n",
        "print('6.',{(b1,b2) for b1 in B for b2 in B})"
      ]
    },
    {
      "cell_type": "markdown",
      "metadata": {},
      "source": [
        "### Sample Solution 4.2"
      ]
    },
    {
      "cell_type": "code",
      "execution_count": null,
      "metadata": {},
      "outputs": [],
      "source": [
        "# Sample solution for Exercise 4.2\n",
        "\n",
        "# 1\n",
        "A = {'a', 'b', 'c', 'd', 'e', 'f'}\n",
        "B = {0,1,2,3,4,5}\n",
        "prod = {(a,b) for a in A for b in B}\n",
        "print('1.', *prod)\n",
        "\n",
        "# 2\n",
        "print('2.', len(prod))\n",
        "\n",
        "# Alternatively, use the product function from itertools\n",
        "from itertools import product\n",
        "print('1.', *product(A,B))\n",
        "\n",
        "# 3\n",
        "C = [0,1]\n",
        "prod = [(p1,p2,p3) for p1 in C for p2 in C for p3 in C]\n",
        "print('3.',prod)\n",
        "\n",
        "# 4\n",
        "print('4.', len(prod))"
      ]
    },
    {
      "cell_type": "markdown",
      "metadata": {},
      "source": [
        "### Sample Solution 4.3"
      ]
    },
    {
      "cell_type": "markdown",
      "metadata": {},
      "source": [
        "The evens are disjoint from the odds. No other two sets are pairwise disjoint,\n",
        "because the zero'th power of 2 is 1, an odd number, while every other nonnegative\n",
        "power of 2 is even."
      ]
    },
    {
      "cell_type": "markdown",
      "metadata": {},
      "source": [
        "### Sample Solution 4.4"
      ]
    },
    {
      "cell_type": "markdown",
      "metadata": {},
      "source": [
        "{a,b,c}\n",
        "\n",
        "{a}, {b,c}\n",
        "\n",
        "{a,b}, {c}\n",
        "\n",
        "{a,c}, {b}\n",
        "\n",
        "{a}, {b}, {c}"
      ]
    },
    {
      "cell_type": "markdown",
      "metadata": {},
      "source": [
        "### Sample Solution 4.5"
      ]
    },
    {
      "cell_type": "markdown",
      "metadata": {},
      "source": [
        "1. The positive real numbers $\\mathbb{R}^{+}$\n",
        "2. Positive even integers\n",
        "3. Positive odd integers\n",
        "4. The positive rational numbers $\\mathbb{Q}^{+}$\n"
      ]
    },
    {
      "cell_type": "markdown",
      "metadata": {},
      "source": [
        "### Sample Solution 4.6"
      ]
    },
    {
      "cell_type": "markdown",
      "metadata": {},
      "source": [
        "1. Yes, both. Every member of the domain maps to a different element of the codomain (one-to-one) and every element of the codomain is in the range (onto).\n",
        "2. Yes, neither. Not onto because the range $\\ne$ codomain. Not one-to-one because $a$ is used twice.\n",
        "3. Not a function. Some element of the domain are not used.\n",
        "4. Not a function. 2 maps to two different elements in the codomain.\n",
        "5. Yes, neither. Not one-to-one because each element in the domain maps to the same element in the co-domain. Not onto because the range $\\ne$ codomain."
      ]
    },
    {
      "cell_type": "markdown",
      "metadata": {},
      "source": [
        "### Sample Solution 4.7"
      ]
    },
    {
      "cell_type": "markdown",
      "metadata": {},
      "source": [
        "| Function | Domain | Codomain |\n",
        "|----------|--------|----------|\n",
        "| abs      | Numbers| Nonnegative Numbers |\n",
        "| chr      | Numbers between 0 and 0x10ffff | a Unicode string of one character |\n",
        "| int      | Numbers or Strings | Integers |\n",
        "| len      | Containers | Nonnegative Numbers |\n",
        "| pow      | Numbers | Numbers |\n",
        "\n",
        "The `abs` function matches the signature $f: \\mathbb{Z} \\rightarrow \\mathbb{N}$"
      ]
    },
    {
      "cell_type": "markdown",
      "metadata": {},
      "source": [
        "### Sample Solution 4.8"
      ]
    },
    {
      "cell_type": "code",
      "execution_count": null,
      "metadata": {},
      "outputs": [],
      "source": [
        "def floor1(x):\n",
        "    return x // 1  # integer division\n",
        "\n",
        "\n",
        "def ceil1(x):\n",
        "    if (int(x) == x): # x is a whole number\n",
        "        return x\n",
        "    else:\n",
        "        return int(x+1) if x > 0 else int(x)\n",
        "\n",
        "\n",
        "def test_floor_ceiling():\n",
        "    \"\"\"Test floor and ceil functions.\n",
        "\n",
        "    Returns:\n",
        "        bool: True if all tests pass\n",
        "    \"\"\"\n",
        "    return (\n",
        "        floor1(2) == 2\n",
        "        and floor1(-2) == -2\n",
        "        and floor1(-1.1) == -2\n",
        "        and floor1(-1.9) == -2\n",
        "        and floor1(1.9) == 1\n",
        "        and floor1(1.1) == 1\n",
        "        and ceil1(2) == 2\n",
        "        and ceil1(-2) == -2\n",
        "        and ceil1(1.1) == 2\n",
        "        and ceil1(1.9) == 2\n",
        "        and ceil1(-1.1) == -1\n",
        "        and ceil1(-1.9) == -1\n",
        "    )\n",
        "\n",
        "\n",
        "print(test_floor_ceiling())"
      ]
    },
    {
      "cell_type": "markdown",
      "metadata": {},
      "source": [
        "### Sample solution 4.9"
      ]
    },
    {
      "cell_type": "markdown",
      "metadata": {},
      "source": [
        "1. onto but not one-to-one. f(0) = f(1) = f(-1)\n",
        "2. both\n",
        "3. one-to-one, not onto\n",
        "4. onto, not one-to-one\n",
        "5. one-to-one,  not onto\n",
        "6. one-to-one, not onto"
      ]
    },
    {
      "cell_type": "code",
      "execution_count": null,
      "metadata": {},
      "outputs": [],
      "source": [
        "# Example of using python to get a feel for the outputs or \"range\" of each function\n",
        "\n",
        "print('1.', [x**3 - x for x in [-5, -4.3, -2, -1.1, -1, -0.2, 0, 0.2, 1, 1.1, 2, 4.3, 5]])\n",
        "\n",
        "print('2.', [-x + 2 for x in range(-10, 11)])\n",
        "\n",
        "# using sorted() to make it easy to spot duplicates and gaps\n",
        "print('3.', sorted([2**i * 3**j for i in range(5) for j in range(5)]))\n",
        "\n",
        "from math import ceil\n",
        "print('4.', [ceil(n/2) for n in range(1,11)])\n",
        "\n",
        "print('5.', [n**2 + n for n in range(10)])\n",
        "\n",
        "print('6.', [(2*n, 2*n + 1) for n in range(10)])"
      ]
    },
    {
      "cell_type": "markdown",
      "metadata": {},
      "source": [
        "### Sample Solution 4.10"
      ]
    },
    {
      "cell_type": "code",
      "execution_count": null,
      "metadata": {},
      "outputs": [],
      "source": [
        "f = lambda x: x**2\n",
        "g = lambda x: 2**x\n",
        "h = lambda x: ceil(x/5)\n",
        "\n",
        "print('1.', f(5))\n",
        "print('2.', g(6))\n",
        "print('3.', h(27))\n",
        "print('4.', f(g(0)))\n",
        "print('5.', f(h(52)))\n",
        "print('6.', g(h(f(4))))"
      ]
    },
    {
      "cell_type": "markdown",
      "metadata": {},
      "source": [
        "### Sample Solution 4.11"
      ]
    },
    {
      "cell_type": "code",
      "execution_count": null,
      "metadata": {},
      "outputs": [],
      "source": [
        "from math import sqrt, log2\n",
        "f_inv = lambda x: sqrt(x)\n",
        "g_inv = lambda x: log2(x)\n",
        "\n",
        "print('2.', f_inv(f(3)))\n",
        "print('4.', g_inv(g(16)))"
      ]
    }
  ],
  "metadata": {
    "colab": {
      "collapsed_sections": [
        "HCjgnJwTbbhN"
      ],
      "name": "cse280-homework-04.ipynb",
      "private_outputs": false,
      "provenance": [],
      "toc_visible": true
    },
    "interpreter": {
      "hash": "1977c1262a5a71e57f8e1e2a9337f4268800bf2d1a595fc1ecb322ccb8b2351d"
    },
    "kernelspec": {
      "display_name": "Python 3.9.0 ('.env': venv)",
      "language": "python",
      "name": "python3"
    },
    "language_info": {
      "codemirror_mode": {
        "name": "ipython",
        "version": 3
      },
      "file_extension": ".py",
      "mimetype": "text/x-python",
      "name": "python",
      "nbconvert_exporter": "python",
      "pygments_lexer": "ipython3",
      "version": "3.9.0"
    }
  },
  "nbformat": 4,
  "nbformat_minor": 0
}
