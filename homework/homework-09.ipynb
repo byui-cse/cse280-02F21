{
  "cells": [
    {
      "attachments": {},
      "cell_type": "markdown",
      "metadata": {
        "id": "_Mr3AvSgSswx"
      },
      "source": [
        "# Homework 9 - Cryptography"
      ]
    },
    {
      "attachments": {},
      "cell_type": "markdown",
      "metadata": {
        "id": "w1t0weuGbbhA"
      },
      "source": [
        "**Instructions:** Complete the exercises below.\n",
        "\n",
        "1. Make a copy of this Colab Notebook using **`File -> Save a copy in Drive`**. \n",
        "\n",
        "2. Answer the exercise questions below. Type your answers to each question by double-clicking on **`Your Answer`** and typing your response.\n",
        "\n",
        "    Note that you can use any combination of plain text, Markdown, or LaTeX. As a last resort, you can simply take a picture of your handwritten work and upload it to an answer cell below.\n",
        "\n",
        "3. To submit your work, turn in the URL for your Colab notebook."
      ]
    },
    {
      "cell_type": "markdown",
      "metadata": {
        "id": "bEsUKV6DbbhB"
      },
      "source": [
        "**Note**:\n",
        "Sample solutions are provided in order to help you **learn**. The purpose of these exercises is not to simply turn in the answers, but to take the time and effort to learn and understand the material. You are encouraged to work the problems first, then when you are satisfied that you have the correct answer, look at the sample solution and compare it with yours. "
      ]
    },
    {
      "cell_type": "markdown",
      "metadata": {},
      "source": [
        "As you complete the problems below, you may use Python whenever you can think of way it could help you answer the question."
      ]
    },
    {
      "attachments": {},
      "cell_type": "markdown",
      "metadata": {},
      "source": [
        "### Exercise 9.1"
      ]
    },
    {
      "cell_type": "markdown",
      "metadata": {},
      "source": [
        "For each of the following n and b, convert n to base b. (Compute this by hand)\n",
        "\n",
        "1. n=39, b=2\n",
        "2. n=27, b=3\n",
        "3. n=365, b=16 (hex)\n",
        "4. n=99, b=8"
      ]
    },
    {
      "cell_type": "markdown",
      "metadata": {},
      "source": [
        "#### Your Answer:"
      ]
    },
    {
      "attachments": {},
      "cell_type": "markdown",
      "metadata": {},
      "source": [
        "### Exercise 9.2"
      ]
    },
    {
      "cell_type": "markdown",
      "metadata": {},
      "source": [
        "Implement the base-b expansion algorithm in Figure 9.6.3 and reproduced here.\n",
        "\n",
        "```\n",
        "Input: Integers n and b. b > 1 and n ≥ 1.\n",
        "Output: Base b expansion of n. Base b digits are output in reverse order.\n",
        "\n",
        "x := n\n",
        "while ( x > 0 )\n",
        "      Output( x mod b )\n",
        "      x := x div b\n",
        "End-while\n",
        "```"
      ]
    },
    {
      "cell_type": "markdown",
      "metadata": {},
      "source": [
        "#### Your answer:"
      ]
    },
    {
      "cell_type": "code",
      "execution_count": null,
      "metadata": {},
      "outputs": [],
      "source": [
        "# convert n to base b \n",
        "def ntob(n, b):\n",
        "    # Your code here\n",
        "    pass\n",
        "\n",
        "print(ntob(32,2)) # should print 100000\n",
        "print(ntob(16,8)) # should print 20\n",
        "print(ntob(10,8)) # should print 12\n",
        "print(ntob(10,3)) # should print 101\n"
      ]
    },
    {
      "attachments": {},
      "cell_type": "markdown",
      "metadata": {},
      "source": [
        "### Exercise 9.3"
      ]
    },
    {
      "cell_type": "markdown",
      "metadata": {},
      "source": [
        "Implement the algorithm for fast modular exponentiation found in Figure 9.7.4 and reproduced here.\n",
        "\n",
        "```\n",
        "Input: Positive integers x, y, and n.\n",
        "Output: xy mod n\n",
        "\n",
        "p := 1     //p holds the partial result.\n",
        "s := x     //s holds the current $x^2^j$.\n",
        "r := y     //r is used to compute the binary expansion of y\n",
        "\n",
        "While ( r > 0 )\n",
        "      If ( r mod 2 = 1 )\n",
        "            p := p·s mod n\n",
        "      s := s·s mod n\n",
        "      r := r div 2\n",
        "End-while\n",
        "\n",
        "Return(p)\n",
        "```"
      ]
    },
    {
      "cell_type": "markdown",
      "metadata": {},
      "source": [
        "#### Your answer:"
      ]
    },
    {
      "cell_type": "code",
      "execution_count": null,
      "metadata": {},
      "outputs": [],
      "source": [
        "# Computes x**y mod n\n",
        "def fast_mod_exp(x, y, n):\n",
        "    # your code here\n",
        "    pass\n",
        "\n",
        "print(fast_mod_exp(5,35,11))  # should be 1\n",
        "print(fast_mod_exp(5,68,7))   # should be 4\n",
        "print(fast_mod_exp(53,27,12)) # should be 5"
      ]
    },
    {
      "attachments": {},
      "cell_type": "markdown",
      "metadata": {},
      "source": [
        "### Exercise 9.4"
      ]
    },
    {
      "cell_type": "markdown",
      "metadata": {},
      "source": [
        "The following function `xgcd()` implements the extended Euclidean algorithm to return the gcd and the coefficients s and t of the equation gcd(x,y) = sx + ty. "
      ]
    },
    {
      "cell_type": "code",
      "execution_count": null,
      "metadata": {},
      "outputs": [],
      "source": [
        "# Extended Euclidean Algorithm. Solves gcd(x,y)=sx+ty.\n",
        "# Returns (gcd(x,y), s, t)\n",
        "def xgcd(x,y):\n",
        "    x0, x1 = 1, 0\n",
        "    y0, y1 = 0, 1\n",
        "    while y>0:\n",
        "        q = x//y\n",
        "        x1, x0 = x0 - q*x1, x1\n",
        "        y1, y0 = y0 - q*y1, y1\n",
        "        x,y = y, x%y\n",
        "    return x,x0,y0\n",
        "\n",
        "xgcd(83,96) # returns (1, -37, 32), which represents 1 = -37*83 + 32*96"
      ]
    },
    {
      "cell_type": "markdown",
      "metadata": {},
      "source": [
        "Using the `xgcd()` function, write another function to return the multiplicative inverse of x mod n."
      ]
    },
    {
      "cell_type": "code",
      "execution_count": null,
      "metadata": {},
      "outputs": [],
      "source": [
        "# returns the multiplicative inverse (MMI) of x under mod n\n",
        "def MMI(x,n):\n",
        "    # your code here\n",
        "    pass\n",
        "\n",
        "MMI(83,96) # should return 59. If it returns -37, be sure to add n to make it positive"
      ]
    },
    {
      "attachments": {},
      "cell_type": "markdown",
      "metadata": {},
      "source": [
        "### Exercise 9.5"
      ]
    },
    {
      "cell_type": "markdown",
      "metadata": {},
      "source": [
        "Use the RSA public key encryption scheme for this exercise.\n",
        "\n",
        "Given the following\n",
        "\n",
        "p=87178291199, q=22815088913, e=65537, c=1927890433981470755542\n",
        "\n",
        "Use Python to compute N and d, then decrypt c to find m. Use your `MMI()` function from the previous exercise to help you find d. Use your `fast_mod_exp()` function from a previous exercise to help you decrypt c to find m.\n",
        "\n",
        "To check your work, encrypt m and you should get the original c.\n",
        "\n",
        "<!-- Hint: Python has a built-in `pow` function. This function takes three arguments: base, exponent, mod. To compute $m^e \\mod n$, use `pow(m,e,n)` -->\n",
        "\n",
        "Bonus: After finding m, convert it to letters to reveal a hidden message."
      ]
    },
    {
      "cell_type": "markdown",
      "metadata": {},
      "source": [
        "#### Your answer:"
      ]
    },
    {
      "cell_type": "code",
      "execution_count": null,
      "metadata": {},
      "outputs": [],
      "source": [
        "# Your code here"
      ]
    },
    {
      "cell_type": "markdown",
      "metadata": {
        "id": "HCjgnJwTbbhN"
      },
      "source": [
        "----------------------\n",
        "## Sample Solutions\n",
        "\n",
        "**Note**:\n",
        "Sample solutions are provided in order to help you **learn**. The purpose of these exercises is not to simply turn in the answers, but to take the time and effort to learn and understand the material. You are encouraged to work the problems first, then when you are satisfied that you have the correct answer, look at the sample solution and compare it with yours. "
      ]
    },
    {
      "attachments": {},
      "cell_type": "markdown",
      "metadata": {},
      "source": [
        "### Sample Solution 9.1"
      ]
    },
    {
      "cell_type": "markdown",
      "metadata": {},
      "source": [
        "1. 39 = 2(19) + 1\n",
        "\n",
        "   19 = 2(9) + 1\n",
        "\n",
        "   9 = 2(4) + 1\n",
        "\n",
        "   4 = 2(2) + 0\n",
        "\n",
        "   2 = 2(1) + 0\n",
        "\n",
        "   1 = 2(0) + 1\n",
        "\n",
        "   100111\n",
        "\n",
        "2. 27 = 3(9) + 0\n",
        "\n",
        "   9 = 3(3) + 0\n",
        "    \n",
        "   3 = 3(1) + 0\n",
        "\n",
        "   1 = 3(0) + 1\n",
        "\n",
        "   1000\n",
        "\n",
        "3. 365 = 16(22) + 13  'D'\n",
        "   \n",
        "   22 = 16(1) + 6\n",
        "    \n",
        "   1 = 16(0) + 1\n",
        "\n",
        "   16D\n",
        "\n",
        "4. 99 = 8(12) + 3\n",
        "   \n",
        "   12 = 8(1) + 4\n",
        "\n",
        "   1 = 8(0) + 1\n",
        "\n",
        "   143\n"
      ]
    },
    {
      "cell_type": "code",
      "execution_count": null,
      "metadata": {},
      "outputs": [],
      "source": [
        "# Check answers using ntob() from next exercise\n",
        "print(ntob(39,2))\n",
        "print(ntob(27,3))\n",
        "print(ntob(365,22))\n",
        "print(ntob(99,8))"
      ]
    },
    {
      "attachments": {},
      "cell_type": "markdown",
      "metadata": {},
      "source": [
        "### Sample Solution 9.2"
      ]
    },
    {
      "cell_type": "code",
      "execution_count": null,
      "metadata": {},
      "outputs": [],
      "source": [
        "def ntob(n, b):\n",
        "    result = ''\n",
        "    x=n\n",
        "    while (x>0):\n",
        "        result = str(x%b) + result\n",
        "        x = x//b\n",
        "    return result\n",
        "\n",
        "print(ntob(32,2))\n",
        "print(ntob(16,8))\n",
        "print(ntob(10,8))\n",
        "print(ntob(10,3))"
      ]
    },
    {
      "attachments": {},
      "cell_type": "markdown",
      "metadata": {},
      "source": [
        "### Sample Solution 9.3"
      ]
    },
    {
      "cell_type": "code",
      "execution_count": null,
      "metadata": {},
      "outputs": [],
      "source": [
        "# Computes x**y mod n\n",
        "def fast_mod_exp(x, y, n):\n",
        "    p = 1\n",
        "    s = x\n",
        "    r = y\n",
        "    while r>0:\n",
        "        if r % 2 == 1:\n",
        "            p = p*s % n\n",
        "        s = s*s % n\n",
        "        r = r // 2\n",
        "    return p\n",
        "\n",
        "print(fast_mod_exp(5,35,11))  # should be 1\n",
        "print(fast_mod_exp(5,68,7))   # should be 4\n",
        "print(fast_mod_exp(53,27,12)) # should be 5"
      ]
    },
    {
      "attachments": {},
      "cell_type": "markdown",
      "metadata": {},
      "source": [
        "### Sample Solution 9.4"
      ]
    },
    {
      "cell_type": "code",
      "execution_count": null,
      "metadata": {},
      "outputs": [],
      "source": [
        "# returns the multiplicative inverse (MMI) of x under mod n\n",
        "def MMI(x,n):\n",
        "    g,s,t = xgcd(x,n)\n",
        "    if s<0:\n",
        "        s+=n\n",
        "    return s\n",
        "\n",
        "MMI(83,96) # should return 59. If it returns -37, be sure to add n to make it positive"
      ]
    },
    {
      "cell_type": "code",
      "execution_count": null,
      "metadata": {},
      "outputs": [],
      "source": [
        "# Alternative solution, contributed by student Luke Nethercott in Fall 2022\n",
        "\n",
        "def MMI(x,n):\n",
        "  return xgcd(x,n)[1]%n\n",
        "\n",
        "\n"
      ]
    },
    {
      "attachments": {},
      "cell_type": "markdown",
      "metadata": {},
      "source": [
        "### Sample Solution 9.5"
      ]
    },
    {
      "cell_type": "code",
      "execution_count": null,
      "metadata": {},
      "outputs": [],
      "source": [
        "# Given\n",
        "p = 87178291199\n",
        "q = 22815088913\n",
        "e = 65537\n",
        "c = 1927890433981470755542\n",
        "\n",
        "# Compute n\n",
        "n = p*q\n",
        "print(f'n: {n}')\n",
        "\n",
        "# Compute t, necessary to find d\n",
        "t = (p-1)*(q-1)\n",
        "\n",
        "# Use MMI function from previous exercise to find d where e*d mod t = 1\n",
        "d = MMI(e, t)\n",
        "print(f'd: {d}')\n",
        "\n",
        "# decrypt c to get m\n",
        "m = fast_mod_exp(c, d, n)\n",
        "print(f'm: {m}')\n",
        "\n",
        "# re-encrypt m to make sure we get the original c back\n",
        "c = fast_mod_exp(m, e, n)\n",
        "print(f'c: {c}')\n",
        "\n",
        "\n",
        "# turn m into letters\n",
        "letters = ''\n",
        "while(m>0):\n",
        "    r = m%100  # get last two digits\n",
        "    letters = chr(ord('A')+r-1) + letters\n",
        "    m = m//100 # remove last two digits\n",
        "\n",
        "print(letters)"
      ]
    }
  ],
  "metadata": {
    "colab": {
      "collapsed_sections": [
        "HCjgnJwTbbhN"
      ],
      "name": "cse280-homework-09.ipynb",
      "private_outputs": false,
      "provenance": [],
      "toc_visible": true
    },
    "interpreter": {
      "hash": "1977c1262a5a71e57f8e1e2a9337f4268800bf2d1a595fc1ecb322ccb8b2351d"
    },
    "kernelspec": {
      "display_name": "Python 3.9.0 ('.env': venv)",
      "language": "python",
      "name": "python3"
    },
    "language_info": {
      "codemirror_mode": {
        "name": "ipython",
        "version": 3
      },
      "file_extension": ".py",
      "mimetype": "text/x-python",
      "name": "python",
      "nbconvert_exporter": "python",
      "pygments_lexer": "ipython3",
      "version": "3.9.0"
    }
  },
  "nbformat": 4,
  "nbformat_minor": 0
}
