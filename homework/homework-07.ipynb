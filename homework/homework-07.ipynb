{
  "cells": [
    {
      "cell_type": "markdown",
      "metadata": {
        "id": "_Mr3AvSgSswx"
      },
      "source": [
        "# Homework 7 - Sequences & Summations; Division & Modular Arithmetic"
      ]
    },
    {
      "cell_type": "markdown",
      "metadata": {
        "id": "w1t0weuGbbhA"
      },
      "source": [
        "**Instructions:** Complete the exercises below.\n",
        "\n",
        "1. Make a copy of this Colab Notebook using **`File -> Save a copy in Drive`**. \n",
        "\n",
        "2. Answer the exercise questions below. Type your answers to each question by double-clicking on **`Your Answer`** and typing your response.\n",
        "\n",
        "    Note that you can use any combination of plain text, Markdown, or LaTeX. As a last resort, you can simply take a picture of your handwritten work and upload it to an answer cell below.\n",
        "\n",
        "3. To submit your work, turn in the URL for your Colab notebook."
      ]
    },
    {
      "cell_type": "markdown",
      "metadata": {
        "id": "bEsUKV6DbbhB"
      },
      "source": [
        "**Note**:\n",
        "Sample solutions are provided in order to help you **learn**. The purpose of these exercises is not to simply turn in the answers, but to take the time and effort to learn and understand the material. You are encouraged to work the problems first, then when you are satisfied that you have the correct answer, look at the sample solution and compare it with yours. "
      ]
    },
    {
      "cell_type": "markdown",
      "metadata": {
        "id": "RRJOoQK65YrG"
      },
      "source": [
        "As you complete the problems below, you may use Python whenever you can think of way it could help you answer the question."
      ]
    },
    {
      "cell_type": "markdown",
      "metadata": {
        "id": "d09J6ZSB5YrH"
      },
      "source": [
        "### Exercise 7.1"
      ]
    },
    {
      "cell_type": "markdown",
      "metadata": {
        "id": "J5tDI9iB5YrH"
      },
      "source": [
        "Give the first six terms of the following sequences. You can assume the sequences start with an index of 1.\n",
        "\n",
        "1. A geometric sequence in which the first value is 5 and the common ratio is 7\n",
        "\n",
        "2. An arithmetic sequence in which the first value is 3 and the common difference is 2.\n",
        "\n",
        "3. A geometric sequence in which the first value is 36 and the common ratio is 1/4.\n",
        "\n",
        "4. An arithmetic sequence in which the first value is 9 and the common difference is -1/2."
      ]
    },
    {
      "cell_type": "markdown",
      "metadata": {
        "id": "OJVBaf995YrH"
      },
      "source": [
        "#### Your Answer:\n"
      ]
    },
    {
      "cell_type": "markdown",
      "metadata": {
        "id": "_q3l2ol75YrI"
      },
      "source": [
        "### Exercise 7.2"
      ]
    },
    {
      "cell_type": "markdown",
      "metadata": {
        "id": "pNotOAnQ5YrI"
      },
      "source": [
        "Write functions using Python to generate the first 10 terms of each of the following sequences $f_n$.\n",
        "\n",
        "1. $f_0 = 5$\\\n",
        "   $f_n = f_{n-1} + 3n \\text{,   for } n\\ge1$\n",
        "\n",
        "2. $f_0 = 1$\\\n",
        "   $f_n = n^3 + f_{n-1} \\text{, for } n\\ge 1$\n",
        "\n",
        "3. $f_0 = 1$\\\n",
        "   $f_1 = 3$\\\n",
        "   $f_n = f_{n-1} * f_{n-2} \\text{, for } n\\ge 2$\n",
        "\n",
        "3. $f_0 = 1$\\\n",
        "   $f_1 = 5$\\\n",
        "   $f_n = f_{n-1} + (f_{n-2})^2 \\text{, for } n\\ge 2$\n"
      ]
    },
    {
      "cell_type": "markdown",
      "metadata": {
        "id": "Nablr5Kn5YrJ"
      },
      "source": [
        "#### Your Answer:"
      ]
    },
    {
      "cell_type": "markdown",
      "metadata": {
        "id": "bIPflbgB5YrJ"
      },
      "source": [
        "### Exercise 7.3"
      ]
    },
    {
      "cell_type": "markdown",
      "metadata": {
        "id": "W-_rlqxt7x2J"
      },
      "source": [
        "You took out a loan for a new car. The loan amount is \\$60,000. The monthly payment is \\$850. The annual interest is 9% and compounds monthly. $a_n$ is the amount owed at the end of the $n$th month. The payments start in the first month and are due the last day of every month. \n",
        "\n",
        "Give a recurrence relation for $a_n$. Include the base case. "
      ]
    },
    {
      "cell_type": "markdown",
      "metadata": {
        "id": "yhQwDOWy5YrJ"
      },
      "source": [
        "#### Your Answer:\n"
      ]
    },
    {
      "cell_type": "markdown",
      "metadata": {
        "id": "B5FNOXN85YrK"
      },
      "source": [
        "### Exercise 7.4"
      ]
    },
    {
      "cell_type": "markdown",
      "metadata": {
        "id": "v-R6LUWL5YrK"
      },
      "source": [
        "Use the Python `sum` function and list comprehensions to solve the following summations:\n",
        "\n",
        "1. $\\sum_{k=1}^{53} k^3$\n",
        "\n",
        "2. $\\sum_{k=4}^{27} 2^k - 2$\n",
        "\n",
        "3. $\\sum_{k=-3}^{18} k^5$\n",
        "\n",
        "4. $\\sum_{k=-2}^{7} 2^k$"
      ]
    },
    {
      "cell_type": "markdown",
      "metadata": {
        "id": "CRfv5lDi5YrK"
      },
      "source": [
        "#### Your Answer:"
      ]
    },
    {
      "cell_type": "markdown",
      "metadata": {
        "id": "Q8mAWZ6j5YrK"
      },
      "source": [
        "### Exercise 7.5"
      ]
    },
    {
      "cell_type": "markdown",
      "metadata": {
        "id": "0XMr7jdO5YrK"
      },
      "source": [
        "How is integer division performed in Python? Python has built-in operators to perform integer or floor division and modular division. The `//` operator performs floor division and the `%` operator performs modular division.\n",
        "\n",
        "Write a Python lambda function that takes two numbers $a$ and $b$, then use Python integer or floor division and modular division to return a quotient and remainder as a tuple (q,r).\n",
        "\n",
        "For example, if $a=9$ and $b=4$, the result should be (2,1). \n"
      ]
    },
    {
      "cell_type": "markdown",
      "metadata": {
        "id": "iRX6sYjAbbhN"
      },
      "source": [
        "#### Your Answer:\n",
        "(Add your code where it says `# Your code here`)"
      ]
    },
    {
      "cell_type": "code",
      "execution_count": null,
      "metadata": {
        "id": "kb5RErIO5YrL"
      },
      "outputs": [],
      "source": [
        "# Define a function to perform integer division, \n",
        "# returning an integer and a remainder.\n",
        "\n",
        "integer_division = lambda a, b: # Your code here\n",
        "\n",
        "result = integer_division(9,4)\n",
        "print(f'{result[0]}r{result[1]}') # should output 2r1"
      ]
    },
    {
      "cell_type": "markdown",
      "metadata": {
        "id": "9M-e2h2R5YrL"
      },
      "source": [
        "### Exercise 7.6"
      ]
    },
    {
      "cell_type": "markdown",
      "metadata": {
        "id": "z6FGLZMF5YrL"
      },
      "source": [
        "Does $d$ evenly divide $n$? Determine whether each of the following is True or False. If False, give the quotient and remainder. (You are encouraged to write some Python code to help)\n",
        "\n",
        "1. $3 | 12$\n",
        "2. $3 | 13$\n",
        "3. $14 | 58$\n",
        "4. $73 | 1752$\n",
        "5. $73 | 1753$"
      ]
    },
    {
      "cell_type": "markdown",
      "metadata": {
        "id": "1ijkC7uO5YrM"
      },
      "source": [
        "#### Your Answer:"
      ]
    },
    {
      "cell_type": "markdown",
      "metadata": {
        "id": "Zshei_L65YrM"
      },
      "source": [
        "### Exercise 7.7"
      ]
    },
    {
      "cell_type": "markdown",
      "metadata": {
        "id": "EirlsOAq5YrM"
      },
      "source": [
        "List all the positive divisors of each of the following. You may choose to compute them by hand or you may use Python.\n",
        "\n",
        "1. 36\n",
        "2. 24\n",
        "3. 56\n",
        "4. 100\n",
        "5. 116"
      ]
    },
    {
      "cell_type": "markdown",
      "metadata": {
        "id": "c8VCyAIs5YrM"
      },
      "source": [
        "#### Your Answer:"
      ]
    },
    {
      "cell_type": "markdown",
      "metadata": {
        "id": "wGNT3KzW5YrM"
      },
      "source": [
        "### Exercise 7.8"
      ]
    },
    {
      "cell_type": "markdown",
      "metadata": {
        "id": "EPha2iOu5YrM"
      },
      "source": [
        "Use the Division Algorithm to help you find the value of $n$ for each of the below. The division algorithm says $n=dq+r$.\n",
        "\n",
        "1. n div 11 = 4, n mod  11 = 3\n",
        "2. n div 5 = 8, n mod 5 = 1\n",
        "3. n div 7 = 9, n mod 7 = 0\n",
        "4. n div 15 = 4, n mod 15 = 7\n",
        "5. n div 13 = -2, n mod 13 = 3\n"
      ]
    },
    {
      "cell_type": "markdown",
      "metadata": {
        "id": "nO4otT3Z5YrM"
      },
      "source": [
        "#### Your Answer:"
      ]
    },
    {
      "cell_type": "markdown",
      "metadata": {
        "id": "7Ck0Cc635YrM"
      },
      "source": [
        "### Exercise 7.9"
      ]
    },
    {
      "cell_type": "markdown",
      "metadata": {
        "id": "irJRXuPu5YrM"
      },
      "source": [
        "#### Division Algorithm\n",
        "\n",
        "The procedural version of the Division Algorithm is presented as pseudocode in 9.1.3 and reproduced here:\n",
        "\n",
        "##### Definition 9.1.3: Procedural version of the Division Algorithm.\n",
        "\n",
        "Input: Integers n and d > 0.\n",
        "\n",
        "Output: q = n div d, and r = n mod d.\n",
        "\n",
        "```\n",
        "Case 1: n ≥ 0.         Case 2: n < 0.\n",
        "--------------         -------------- \n",
        "q := 0                 q := 0\n",
        "r := n                 r := n\n",
        "While ( r ≥ d )        While ( r < 0 )\n",
        "  q := q + 1             q := q - 1\n",
        "  r := r - d             r := r + d\n",
        "End-While              End-While\n",
        "```\n",
        "\n",
        "\n",
        "#### Your task is to complete the following.\n",
        "1. By hand, trace through the procedural version of the Division Algorithm using the following inputs to make sure you fully understand how the algorithm works.\n",
        "\n",
        "   $n=9$, $d=4$\n",
        "   \n",
        "   $n=-9$, $d=4$\n",
        "\n",
        "3. Implement the division algorithm shown above as a Python function that returns a tuple (q, r).\n",
        "\n",
        "4. Test your function on several numbers.\n"
      ]
    },
    {
      "cell_type": "markdown",
      "metadata": {
        "id": "jMMiHkqU5YrN"
      },
      "source": [
        "#### Your Answer:"
      ]
    },
    {
      "cell_type": "code",
      "execution_count": null,
      "metadata": {
        "id": "C7vFJZG55YrN"
      },
      "outputs": [],
      "source": [
        "def division(n, d):\n",
        "    # Your code here\n",
        "\n",
        "print(division(9,4)) # should be (2, 1)\n",
        "print(division(-9,4)) # should be (-3, 3)"
      ]
    },
    {
      "cell_type": "markdown",
      "metadata": {
        "id": "zO2bQNpl5YrN"
      },
      "source": [
        "### Exercise 7.10"
      ]
    },
    {
      "cell_type": "markdown",
      "metadata": {
        "id": "M5Xu7FXL5YrN"
      },
      "source": [
        "Group the following numbers according to congruence mod 7. In other words, put two numbers in the same group if they are equivalent mod 7.\n",
        "\n",
        "{-48, -26, 1, 8, 3, 70, 24, 32, 11, 5, 27, 19, 49}"
      ]
    },
    {
      "cell_type": "markdown",
      "metadata": {
        "id": "IawEYg5j5YrN"
      },
      "source": [
        "#### Your Answer:"
      ]
    },
    {
      "attachments": {},
      "cell_type": "markdown",
      "metadata": {},
      "source": [
        "### Exercise 7.11"
      ]
    },
    {
      "attachments": {},
      "cell_type": "markdown",
      "metadata": {},
      "source": [
        "Compute the value of the following expressions. Show your work. You should not need a calculator.\n",
        "\n",
        "1. $50^{27}\\bmod 7$\n",
        "2. $27^{4}\\bmod 5$\n",
        "3. $65^{8}\\bmod 9$\n",
        "4. $81^{10}\\bmod 7$"
      ]
    },
    {
      "cell_type": "markdown",
      "metadata": {},
      "source": [
        "#### Your Answer:"
      ]
    },
    {
      "cell_type": "markdown",
      "metadata": {
        "id": "HCjgnJwTbbhN"
      },
      "source": [
        "----------------------\n",
        "## Sample Solutions\n",
        "\n",
        "**Note**:\n",
        "Sample solutions are provided in order to help you **learn**. The purpose of these exercises is not to simply turn in the answers, but to take the time and effort to learn and understand the material. You are encouraged to work the problems first, then when you are satisfied that you have the correct answer, look at the sample solution and compare it with yours. "
      ]
    },
    {
      "cell_type": "markdown",
      "metadata": {
        "id": "xIuKSJ-M7PQn"
      },
      "source": [
        "### Sample Solution 7.1 "
      ]
    },
    {
      "attachments": {},
      "cell_type": "markdown",
      "metadata": {
        "id": "qEA6WZc07UyB"
      },
      "source": [
        "1. 5, 35, 245, 1715, 12005, 84035\n",
        "2. 3, 5, 7, 9, 11, 13\n",
        "3. 36, 9, 2.25, 0.5625, 0.140625, 0.03515625 (36, 9, 9/4, 9/16, 9/64, 9/256)\n",
        "4. 9, 8.5, 8, 7.5, 7, 6.5 (9, 17/2, 8, 15/2, 7, 13/2)"
      ]
    },
    {
      "cell_type": "markdown",
      "metadata": {
        "id": "ergmjhpb5YrN"
      },
      "source": [
        "### Sample Solution 7.2"
      ]
    },
    {
      "cell_type": "code",
      "execution_count": null,
      "metadata": {
        "id": "e16LZrEc5YrN",
        "outputId": "c5a62617-0cfa-40c1-b8d8-b472601b53f0"
      },
      "outputs": [
        {
          "name": "stdout",
          "output_type": "stream",
          "text": [
            "1. [5, 8, 14, 23, 35, 50, 68, 89, 113, 140]\n",
            "2. [1, 2, 10, 37, 101, 226, 442, 785, 1297, 2026]\n",
            "3. [1, 3, 3, 9, 27, 243, 6561, 1594323, 10460353203, 16677181699666569]\n",
            "4. [1, 5, 6, 31, 67, 1028, 5517, 1062301, 31499590, 1128514914191]\n"
          ]
        }
      ],
      "source": [
        "# 1.\n",
        "f = lambda n: 5 if n==0 else f(n-1) + 3*n\n",
        "print(f'1. {[f(n) for n in range(10)]}')\n",
        "\n",
        "# 2.\n",
        "f = lambda n: 1 if n==0 else n**3 + f(n-1)\n",
        "print(f'2. {[f(n) for n in range(10)]}')\n",
        "\n",
        "# 3.\n",
        "f = lambda n: 1 if n==0 else 3 if n==1 else f(n-1)*f(n-2)\n",
        "print(f'3. {[f(n) for n in range(10)]}')\n",
        "\n",
        "# 4.\n",
        "f = lambda n: 1 if n==0 else 5 if n==1 else f(n-1) + f(n-2)**2\n",
        "print(f'4. {[f(n) for n in range(10)]}')"
      ]
    },
    {
      "cell_type": "code",
      "execution_count": 2,
      "metadata": {
        "colab": {
          "base_uri": "https://localhost:8080/"
        },
        "id": "cx_sMgtz5YrO",
        "outputId": "50ab0268-6d98-40b0-fa2f-1bb1e1676df1"
      },
      "outputs": [
        {
          "name": "stdout",
          "output_type": "stream",
          "text": [
            "[5, 8, 14, 23, 35, 50, 68, 89, 113, 140]\n",
            "[1, 2, 10, 37, 101, 226, 442, 785, 1297, 2026]\n",
            "[1, 3, 3, 9, 27, 243, 6561, 1594323, 10460353203, 16677181699666569]\n",
            "[1, 5, 6, 31, 67, 1028, 5517, 1062301, 31499590, 1128514914191]\n"
          ]
        }
      ],
      "source": [
        "# Alternative solutions\n",
        "# 1. \n",
        "def f(n):\n",
        "    if n==0:\n",
        "        return 5\n",
        "    else:\n",
        "        return f(n-1) + 3*n\n",
        "    \n",
        "# Display the first 10 numbers in the sequence\n",
        "print([f(n) for n in range(10)])\n",
        "\n",
        "# 2.\n",
        "def f(n):\n",
        "    if n==0:\n",
        "        return 1\n",
        "    else:\n",
        "        return n**3 + f(n-1)\n",
        "    \n",
        "# Display the first 10 numbers in the sequence\n",
        "print([f(n) for n in range(10)])\n",
        "\n",
        "# 3.\n",
        "def f(n):\n",
        "    if n==0:\n",
        "        return 1\n",
        "    elif n==1:\n",
        "        return 3\n",
        "    else:\n",
        "        return f(n-1) * f(n-2)\n",
        "\n",
        "print([f(n) for n in range(10)])\n",
        "\n",
        "# 4. \n",
        "def f(n):\n",
        "    if n==0:\n",
        "        return 1\n",
        "    elif n==1:\n",
        "        return 5\n",
        "    else:\n",
        "        return f(n-1) + f(n-2)**2 \n",
        "\n",
        "print([f(n) for n in range(10)])\n"
      ]
    },
    {
      "cell_type": "markdown",
      "metadata": {
        "id": "I_gsIe8L5YrJ"
      },
      "source": [
        "### Sample Solution 7.3"
      ]
    },
    {
      "cell_type": "markdown",
      "metadata": {
        "id": "lWr2P4m-9evQ"
      },
      "source": [
        "Monthly interest is (9/12) = 0.75%. The amount owed increases by a factor of 1.0075 each month. \\\n",
        "$a_0 = 60000$ \\\n",
        "$a_n = (1.0075) a_{n-1} - 850$, for $n \\geq 1$"
      ]
    },
    {
      "cell_type": "markdown",
      "metadata": {
        "id": "Wk722ku55YrO"
      },
      "source": [
        "### Sample Solution 7.4"
      ]
    },
    {
      "cell_type": "code",
      "execution_count": null,
      "metadata": {
        "id": "YrV5IRLr5YrO",
        "outputId": "481ceb66-823a-49bf-e80a-969f977edfa5"
      },
      "outputs": [
        {
          "name": "stdout",
          "output_type": "stream",
          "text": [
            "1. 2047761\n",
            "2. 268435392\n",
            "3. 6656947\n",
            "4. 255.75\n"
          ]
        }
      ],
      "source": [
        "print(f'1. {sum([k**3 for k in range(1,54)])}')\n",
        "print(f'2. {sum([(2**k)-2 for k in range(4,28)])}')\n",
        "print(f'3. {sum([(k**5)+1 for k in range(-3,19)])}')\n",
        "print(f'4. {sum([2**k for k in range(-2,8)])}')"
      ]
    },
    {
      "cell_type": "markdown",
      "metadata": {
        "id": "L8vZ2s065YrO"
      },
      "source": [
        "### Sample Solution 7.5"
      ]
    },
    {
      "cell_type": "code",
      "execution_count": null,
      "metadata": {
        "id": "aUYFAOx-5YrP"
      },
      "outputs": [],
      "source": [
        "# Define a function to perform integer division, \n",
        "# returning an integer and a remainder.\n",
        "integer_division = lambda a,b: (a//b, a%b)\n",
        "\n",
        "result = integer_division(9,4)\n",
        "print(f'{result[0]}r{result[1]}')\n"
      ]
    },
    {
      "cell_type": "markdown",
      "metadata": {
        "id": "0sDS8Uvy5YrP"
      },
      "source": [
        "### Sample Solution 7.6"
      ]
    },
    {
      "cell_type": "code",
      "execution_count": null,
      "metadata": {
        "id": "EJ6a1wwv5YrP"
      },
      "outputs": [],
      "source": [
        "divides = lambda d,n: True if n%d == 0 else (n//d, n%d)\n",
        "\n",
        "print('1.', divides(3,12))\n",
        "print('2.', divides(3,13))\n",
        "print('3.', divides(14,58))\n",
        "print('4.', divides(73,1752))\n",
        "print('5.', divides(73,1753))"
      ]
    },
    {
      "cell_type": "markdown",
      "metadata": {
        "id": "IyXxzZT95YrP"
      },
      "source": [
        "### Sample Solution 7.7"
      ]
    },
    {
      "cell_type": "code",
      "execution_count": null,
      "metadata": {
        "id": "nyIfbJd25YrP"
      },
      "outputs": [],
      "source": [
        "divisors = lambda n: {n//x for x in range(1,n+1) if n%x == 0}\n",
        "\n",
        "print('1.', sorted(divisors(36)))\n",
        "print('2.', sorted(divisors(24)))\n",
        "print('3.', sorted(divisors(56)))\n",
        "print('4.', sorted(divisors(100)))\n",
        "print('5.', sorted(divisors(116)))"
      ]
    },
    {
      "cell_type": "markdown",
      "metadata": {
        "id": "aaJyNUGt5YrP"
      },
      "source": [
        "### Sample Solution 7.8"
      ]
    },
    {
      "cell_type": "markdown",
      "metadata": {
        "id": "63IxzR1u5YrP"
      },
      "source": [
        "The division algorithm says $n = dq + r$. So we can solve for $n$ by plugging in $d$, $q$, and $r$.\n",
        "\n",
        "1. n = 11*4 + 3 = 47\n",
        "2. n = 5*8 + 1 = 41\n",
        "3. n = 7*9 + 0 = 63\n",
        "4. n = 15*4 + 7 = 67\n",
        "5. n = -2*13 + 3 = -23"
      ]
    },
    {
      "cell_type": "markdown",
      "metadata": {
        "id": "bfY-IQAG5YrP"
      },
      "source": [
        "### Sample Solution 7.9"
      ]
    },
    {
      "cell_type": "code",
      "execution_count": null,
      "metadata": {
        "id": "UaHkPXrK5YrQ"
      },
      "outputs": [],
      "source": [
        "# Solution\n",
        "\n",
        "def division(n, d):\n",
        "    q = 0\n",
        "    r = n\n",
        "    \n",
        "    # Case 1\n",
        "    if n >= 0:\n",
        "        while r >= d:\n",
        "            q = q + 1\n",
        "            r = r - d\n",
        "\n",
        "    # Case 2\n",
        "    else:\n",
        "        while r < 0:\n",
        "            q = q - 1\n",
        "            r = r + d\n",
        "    \n",
        "    return (q, r)\n",
        "\n",
        "print(division(9,4))\n",
        "print(division(-9,4))\n"
      ]
    },
    {
      "cell_type": "markdown",
      "metadata": {
        "id": "L49nXGJz5YrQ"
      },
      "source": [
        "### Sample Solution 7.10"
      ]
    },
    {
      "cell_type": "markdown",
      "metadata": {
        "id": "0942QJ8v5YrQ"
      },
      "source": [
        "0 mod 7: 49, 70\n",
        "\n",
        "1 mod 7: -48, 1, 8 \n",
        "\n",
        "2 mod 7: -26\n",
        "\n",
        "3 mod 7: 3, 24\n",
        "\n",
        "4 mod 7: 11, 32\n",
        "\n",
        "5 mod 7: 5, 19\n",
        "\n",
        "6 mod 7: 27"
      ]
    },
    {
      "cell_type": "code",
      "execution_count": null,
      "metadata": {
        "id": "m5v2MGZe5YrQ",
        "outputId": "3fa9a07c-94a0-49e5-bcbf-fa1134afd207"
      },
      "outputs": [
        {
          "data": {
            "text/plain": [
              "[(1, -48),\n",
              " (2, -26),\n",
              " (1, 1),\n",
              " (1, 8),\n",
              " (3, 3),\n",
              " (0, 70),\n",
              " (3, 24),\n",
              " (4, 32),\n",
              " (4, 11),\n",
              " (5, 5),\n",
              " (6, 27),\n",
              " (5, 19),\n",
              " (0, 49)]"
            ]
          },
          "execution_count": 52,
          "metadata": {},
          "output_type": "execute_result"
        }
      ],
      "source": [
        "# Some python to help quickly find the solution\n",
        "nums = [-48, -26, 1, 8, 3, 70, 24, 32, 11, 5, 27, 19, 49]\n",
        "[*map(lambda x: (x%7, x), nums)]"
      ]
    },
    {
      "cell_type": "code",
      "execution_count": null,
      "metadata": {
        "id": "NinKlDi_5YrQ",
        "outputId": "66118324-a79e-4c11-d13a-effe2c6d5197"
      },
      "outputs": [
        {
          "name": "stdout",
          "output_type": "stream",
          "text": [
            "{1: [-48, 1, 8], 2: [-26], 3: [3, 24], 0: [70, 49], 4: [32, 11], 5: [5, 19], 6: [27]}\n"
          ]
        }
      ],
      "source": [
        "# Another way, using defaultdict\n",
        "from collections import defaultdict \n",
        "congruence_mod_7 = defaultdict(list) # creates a dictionary in which the default value is a list\n",
        "for x in nums:\n",
        "    congruence_mod_7[x%7].append(x)\n",
        "\n",
        "print(dict(congruence_mod_7))\n"
      ]
    },
    {
      "attachments": {},
      "cell_type": "markdown",
      "metadata": {},
      "source": [
        "### Sample Solution 7.11"
      ]
    },
    {
      "attachments": {},
      "cell_type": "markdown",
      "metadata": {},
      "source": [
        "Compute the value of the following expressions. Show your work. You should not need a calculator.\n",
        "\n",
        "1. $50^{27}\\bmod 7 = (50\\bmod 7)^{27}\\bmod 7 = 1^{27}\\bmod 7 = 1 $\n",
        "2. $27^{4}\\bmod 5 = (27\\bmod 5)^{4} \\bmod 5 = 2^4 \\bmod 5 = 16 \\bmod 5 = 1$\n",
        "3. $65^{8}\\bmod 9$\n",
        "   \n",
        "   First find $65^1 \\bmod 9$, then square that result to find $65^2 \\bmod 9$, then square that to find $65^4 \\bmod 9$, and so on.\n",
        "   \n",
        "   $65 \\bmod 9 = 2$\\\n",
        "   $65^2\\bmod 9 = (65 \\bmod 9)^2 \\bmod 9 = (2^2) \\bmod 9 = 4\\bmod 9 = 4$\\\n",
        "   $65^4\\bmod 9 = (65^2\\bmod 9)^2 \\bmod 9 = (4^2)\\bmod 9 = 16 \\bmod 9 = 7$\\\n",
        "   $65^8\\bmod 9 = (65^4\\bmod 9)^2 \\bmod 9 = (7^2)\\bmod 9 = 49 \\bmod 9 = 4$\n",
        "\n",
        "   Thus, $65^{8}\\bmod 9 = 4$\n",
        "   \n",
        "   \n",
        "4. $81^{10}\\bmod 7$\n",
        "\n",
        "   First, find $81^1 \\bmod 7$, then square that result to find $81^2 \\bmod 7$, and so on...\n",
        "\n",
        "   $81^1\\bmod 7 = 4$\\\n",
        "   $81^2\\bmod 7 = (4^2) \\bmod 7 = 16 \\bmod 7 = 2$\\\n",
        "   $81^4\\bmod 7 = (2^2) \\bmod 7 = 4 \\bmod 7 = 4$\\\n",
        "   $81^8\\bmod 7 = (4^2) \\bmod 7 = 16 \\bmod 7 = 2$\\\n",
        "   $81^{10}\\bmod 7 = (81^8 \\bmod 7 * 81^2 \\bmod 7) \\bmod 7 = (2*2) \\bmod 7 = 4$\n"
      ]
    }
  ],
  "metadata": {
    "colab": {
      "collapsed_sections": [
        "HCjgnJwTbbhN"
      ],
      "name": "cse280-homework-07.ipynb",
      "private_outputs": false,
      "provenance": [],
      "toc_visible": true
    },
    "interpreter": {
      "hash": "1977c1262a5a71e57f8e1e2a9337f4268800bf2d1a595fc1ecb322ccb8b2351d"
    },
    "kernelspec": {
      "display_name": "Python 3.9.0 ('.env': venv)",
      "language": "python",
      "name": "python3"
    },
    "language_info": {
      "codemirror_mode": {
        "name": "ipython",
        "version": 3
      },
      "file_extension": ".py",
      "mimetype": "text/x-python",
      "name": "python",
      "nbconvert_exporter": "python",
      "pygments_lexer": "ipython3",
      "version": "3.9.0"
    }
  },
  "nbformat": 4,
  "nbformat_minor": 0
}
