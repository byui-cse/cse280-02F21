{
 "cells": [
  {
   "cell_type": "markdown",
   "metadata": {
    "id": "RdJXCoaSGcYS"
   },
   "source": [
    "# <font color=blue>Chapter 3 Predicates and Quantifiers In-Class Exercises Solutions</font>\n",
    "## <font color=blue>Teach One Another</font>"
   ]
  },
  {
   "cell_type": "markdown",
   "metadata": {
    "id": "oSWyNwbAT9oh"
   },
   "source": [
    "## <font color=red>3.13 Negating Quantifiers</font>"
   ]
  },
  {
   "cell_type": "markdown",
   "metadata": {
    "id": "mHPJ9zmoLdyD"
   },
   "source": [
    "### Exercise 3.13.10"
   ]
  },
  {
   "cell_type": "markdown",
   "metadata": {
    "id": "Xq9pO1smI0oi"
   },
   "source": [
    "True or false?\n",
    "\n",
    "$\\exists !x\\ P(x) \\rightarrow \\exists x\\ P(x)$."
   ]
  },
  {
   "cell_type": "code",
   "execution_count": null,
   "metadata": {
    "id": "4WTf9XVjJgAV"
   },
   "outputs": [],
   "source": [
    "#@title Answer {display-mode: \"form\"}\n",
    "print('''\n",
    "True. Yes 'exactly one' implies 'at least one'.\n",
    "''')"
   ]
  },
  {
   "cell_type": "markdown",
   "metadata": {
    "id": "qEXm4Z7J37Qy"
   },
   "source": [
    "### Exercise 3.13.11"
   ]
  },
  {
   "cell_type": "markdown",
   "metadata": {
    "id": "m2YFAolS37Q0"
   },
   "source": [
    "True or false?\n",
    "\n",
    "$\\forall x\\ P(x) \\rightarrow \\exists !x\\ P(x)$."
   ]
  },
  {
   "cell_type": "code",
   "execution_count": null,
   "metadata": {
    "id": "DTC6C9Ht37Q0"
   },
   "outputs": [],
   "source": [
    "#@title Answer {display-mode: \"form\"}\n",
    "print('''\n",
    "It depends. If the universe has exactly one thing in it,\n",
    "the statement is true, but if the universe has more than\n",
    "one thing in it, the statement is false.\n",
    "''')"
   ]
  },
  {
   "cell_type": "markdown",
   "metadata": {
    "id": "43FmwLHV8K8q"
   },
   "source": [
    "### Exercise 3.13.12"
   ]
  },
  {
   "cell_type": "markdown",
   "metadata": {
    "id": "Ia51fTwT8K8x"
   },
   "source": [
    "True or false?\n",
    "\n",
    "$\\exists !x\\ \\lnot P(x) \\rightarrow \\lnot \\forall x\\ P(x)$."
   ]
  },
  {
   "cell_type": "code",
   "execution_count": null,
   "metadata": {
    "id": "cHQpB6aN8K8x"
   },
   "outputs": [],
   "source": [
    "#@title Answer {display-mode: \"form\"}\n",
    "print('''\n",
    "True. If there is exactly one thing that is not Pisolacious,\n",
    "then not all things are Pisolacious.\n",
    "''')"
   ]
  },
  {
   "cell_type": "markdown",
   "metadata": {
    "id": "vO6OHFodCPEp"
   },
   "source": [
    "### Exercise 3.13.13"
   ]
  },
  {
   "cell_type": "markdown",
   "metadata": {
    "id": "8_CmBAlFCSox"
   },
   "source": [
    "Consider the two functions shown below:"
   ]
  },
  {
   "cell_type": "code",
   "execution_count": null,
   "metadata": {
    "id": "ZDvP9lVGCW-h"
   },
   "outputs": [],
   "source": [
    "def forall(P, S):\n",
    "  for x in S:\n",
    "    if not P(x):\n",
    "      return False\n",
    "  return True\n",
    "\n",
    "def forsome(P, S):\n",
    "  for x in S:\n",
    "    if P(x):\n",
    "      return True\n",
    "  return False"
   ]
  },
  {
   "cell_type": "markdown",
   "metadata": {
    "id": "_OgoqKvNCrdZ"
   },
   "source": [
    "Test this code:"
   ]
  },
  {
   "cell_type": "code",
   "execution_count": null,
   "metadata": {
    "id": "WvPmceaGCm04"
   },
   "outputs": [],
   "source": [
    "even = lambda x: x % 2 == 0\n",
    "\n",
    "odd  = lambda x: x % 2 == 1\n",
    "\n",
    "all_evens = [2, 4, 6, 8, 10]\n",
    "not_all_evens = [2, 4, 5, 8, 10]\n",
    "all_odds = [1, 3, 5, 7, 9]\n",
    "not_all_odds = [1, 3, 6, 7, 9]\n",
    "\n",
    "print(forall(odd, not_all_odds))\n",
    "print(forall(odd, all_odds))\n",
    "print(forall(even, not_all_evens))\n",
    "print(forall(even, all_evens))\n",
    "\n",
    "print(forsome(odd, not_all_evens))\n",
    "print(forsome(odd, all_evens))\n",
    "print(forsome(even, not_all_odds))\n",
    "print(forsome(even, all_odds))"
   ]
  },
  {
   "cell_type": "markdown",
   "metadata": {
    "id": "R3Zea71QCvoM"
   },
   "source": [
    "The function ```forall``` operationalizes the Universal Quantification of $P(x)$, the proposition that is true if and only if $P(x)$ is true for all $x \\in S$.\n",
    "\n",
    "```forall``` loops through each value in a set $S$ of finite size to see if the predicate $P$ is always true. If it encounters a value for which $P$ is false, then it short-circuits the loop and returns False. Otherwise it finishes the loop and returns True.\n",
    "\n",
    "The function ```forsome``` operationalizes the Existential Quantification of $P(x)$, the proposition that is true if and only if there exists an $x$ in the set $S$ such that $P(x)$ is true.\n",
    "\n",
    "```forsome``` loops through each value in a set $S$ of finite size to see if the predicate $P$ is ever true. If it encounters any value for which $P$ is true, then it short-circuits the loop and returns True. Otherwise it finishes the loop and returns False.\n",
    "\n",
    "Find and explore the builtin Python functional (loop-free) equivalents of these two functions."
   ]
  },
  {
   "cell_type": "code",
   "execution_count": null,
   "metadata": {
    "id": "ugAGM9wuD9LZ"
   },
   "outputs": [],
   "source": [
    "#@title Answer {display-mode: \"form\"}\n",
    "help(all)\n",
    "help(any)"
   ]
  },
  {
   "cell_type": "markdown",
   "metadata": {
    "id": "DduLmuoMEQlw"
   },
   "source": [
    "### Exercise 3.13.14"
   ]
  },
  {
   "cell_type": "markdown",
   "metadata": {
    "id": "jtGfAo0cEQly"
   },
   "source": [
    "True or false?\n",
    "\n",
    "$\\forall x\\ P(x) \\rightarrow \\exists x\\ P(x)$."
   ]
  },
  {
   "cell_type": "code",
   "execution_count": null,
   "metadata": {
    "id": "tleFL3tTEQlz"
   },
   "outputs": [],
   "source": [
    "#@title Answer {display-mode: \"form\"}\n",
    "print('''\n",
    "It depends. If the universe is nonempty,\n",
    "the statement is true, but if the universe\n",
    "is empty, it is false.\n",
    "\n",
    "This is exactly what the last sentences in the\n",
    "documentation for the \"all\" and \"any\" functions\n",
    "suggest.\n",
    "''')"
   ]
  },
  {
   "cell_type": "markdown",
   "metadata": {
    "id": "h4Oh-XpHhK-X"
   },
   "source": [
    "## <font color=red>3.14 Free and Bound</font>\n"
   ]
  },
  {
   "cell_type": "markdown",
   "metadata": {
    "id": "GxdydtbHhM5y"
   },
   "source": [
    "### Exercise 3.14.20\n"
   ]
  },
  {
   "cell_type": "markdown",
   "metadata": {
    "id": "TNe8VUilhSOj"
   },
   "source": [
    "Expand to two nested quantifiers the code you explored for one quantifier in Exercise 3.13.13.\n",
    "\n",
    "Specifically, implement these four functions, shown side-by-side with their symbolic logic equivalents:\n",
    "\n",
    "| Function Name        | In Symbols            |\n",
    "|----------------------|-----------------------|\n",
    "| ```forallforall```   | $\\forall x \\forall y$ |\n",
    "| ```forallforsome```  | $\\forall x \\exists y$ |\n",
    "| ```forsomeforall```  | $\\exists x \\forall y$ |\n",
    "| ```forsomeforsome``` | $\\exists x \\exists y$ |\n",
    "\n",
    "\n",
    "Look at these quantifications in the context of loops and a generic predicate $P$. These will be *nested* loops, an outer one wrapping an inner one, because *nested* quantification is what is being expressed. The predicate (function) call $P(x, y)$ goes in the inner loop, which controls the $y$, while the outer loop controls the $x$.\n",
    "\n",
    "&ldquo;For all $x$ for all $y$&rdquo; wants to find $P(x, y)$ always true. That's what it means for the nested quantification to be true, and naturally, this only works if the domains of $x$ and $y$ are finite. Even then, it really only **works** if these domains are reasonably finite — not *too* big. Iteration is serial, after all, and time is limited.\n",
    "\n",
    "So, ```forallforall``` loops through $x$'s domain, and for each $x$ loops through each $y$ in $y$'s domain. On each inner-loop iteration it calls $P(x, y)$ and checks the value. If the value is ever false, ```forallforall``` is false --- immediately --- no need to check any further. Some $y$ has been found for some $x$ where the predicate is false. If both loops finish with no false evaluation, ```forallforall``` is ultimately true. There is no $x$ for which, for any $y$, $P(x, y)$ is false.\n",
    "\n",
    "The other function with relatively simple logic is ```forsomeforsome```. This function loops through $x$'s domain, and for each $x$ loops through each $y$ in $y$'s domain. On each inner-loop iteration it calls $P(x, y)$ and checks the value. If a true value is found, then ```forsomeforsome``` is true --- immediately --- no need to check any further. If both loops finish never having triggered true, ```forsomeforsome``` is ultimately false. There is no $x$ for which there is some $y$ for which $P(x, y)$ is true.\n",
    "\n",
    "The other two are trickier: &ldquo;for all x for some y&rdquo; wants $P(x, y)$ to always be true *sometimes*, and &ldquo;for some x for all y&rdquo; wants $P(x, y)$ to sometimes be true *always*.\n",
    "\n",
    "Implement ```forallforsome``` and ```forsomeforall``` the best, most elegant way you can. Test your implementations of all four functions using suitable binary (2-ary) predicates, for example &lsquo;$>$&rsquo;, and their associated domains."
   ]
  },
  {
   "cell_type": "code",
   "execution_count": null,
   "metadata": {
    "id": "wv8yEgA8hXLp"
   },
   "outputs": [],
   "source": [
    "#@title Answer forallforall {display-mode: \"form\"}\n",
    "def forallforall(P, X, Y):\n",
    "  return all(map(lambda x: all(map(lambda y: P(x, y), Y)), X))"
   ]
  },
  {
   "cell_type": "code",
   "execution_count": null,
   "metadata": {
    "id": "ERVW4N9lTutL"
   },
   "outputs": [],
   "source": [
    "# should return True\n",
    "forallforall(lambda x, y: x > y, [4, 5, 6], [1, 2, 3])"
   ]
  },
  {
   "cell_type": "code",
   "execution_count": null,
   "metadata": {
    "id": "YO7cpC8HTyQG"
   },
   "outputs": [],
   "source": [
    "# should return False\n",
    "forallforall(lambda x, y: x < y, [4, 5, 6], [1, 2, 3])"
   ]
  },
  {
   "cell_type": "code",
   "execution_count": null,
   "metadata": {
    "id": "qesRIM1AT1RF"
   },
   "outputs": [],
   "source": [
    "#@title Answer forallforsome {display-mode: \"form\"}\n",
    "def forallforsome(P, X, Y):\n",
    "  return all(map(lambda x: any(map(lambda y: P(x, y), Y)), X))"
   ]
  },
  {
   "cell_type": "code",
   "execution_count": null,
   "metadata": {
    "id": "GoD4KYpiT3x8"
   },
   "outputs": [],
   "source": [
    "# should return True\n",
    "forallforsome(lambda x, y: x > y, [4, 5, 6], [3, 6, 9])"
   ]
  },
  {
   "cell_type": "code",
   "execution_count": null,
   "metadata": {
    "id": "DqWGe_fUT5nr"
   },
   "outputs": [],
   "source": [
    "# should return False\n",
    "forallforsome(lambda x, y: x > y, [4, 5, 6], [7, 8, 9])"
   ]
  },
  {
   "cell_type": "code",
   "execution_count": null,
   "metadata": {
    "id": "8fll4EK8T7HI"
   },
   "outputs": [],
   "source": [
    "#@title Answer forsomeforall {display-mode: \"form\"}\n",
    "def forsomeforall(P, X, Y):\n",
    "  return any(map(lambda x: all(map(lambda y: P(x, y), Y)), X))\n"
   ]
  },
  {
   "cell_type": "code",
   "execution_count": null,
   "metadata": {
    "id": "QCfXp74qUAm2"
   },
   "outputs": [],
   "source": [
    "# should return True\n",
    "forsomeforall(lambda x, y: x > y, [4, 5, 6], [3, 4, 5])"
   ]
  },
  {
   "cell_type": "code",
   "execution_count": null,
   "metadata": {
    "id": "bdDpEGmNUJGT"
   },
   "outputs": [],
   "source": [
    "# should return False\n",
    "forsomeforall(lambda x, y: x > y, [4, 5, 6], [7, 8, 9])"
   ]
  },
  {
   "cell_type": "code",
   "execution_count": null,
   "metadata": {
    "id": "yqohis4dUL3Q"
   },
   "outputs": [],
   "source": [
    "#@title Answer forsomeforsome {display-mode: \"form\"}\n",
    "def forsomeforsome(P, X, Y):\n",
    "  return any(map(lambda x: any(map(lambda y: P(x, y), Y)), X))"
   ]
  },
  {
   "cell_type": "code",
   "execution_count": null,
   "metadata": {
    "id": "2S2U7CiFUN59"
   },
   "outputs": [],
   "source": [
    "# should return True\n",
    "forsomeforsome(lambda x, y: x > y, [4, 5, 6], [5, 6, 7])"
   ]
  },
  {
   "cell_type": "code",
   "execution_count": null,
   "metadata": {
    "id": "Gebt3aCiUPyk"
   },
   "outputs": [],
   "source": [
    "# should return False\n",
    "forsomeforsome(lambda x, y: x > y, [4, 5, 6], [7, 8, 9])"
   ]
  },
  {
   "cell_type": "markdown",
   "metadata": {
    "id": "l7lzzgPwSVSx"
   },
   "source": [
    "### Exercise 3.14.21"
   ]
  },
  {
   "cell_type": "markdown",
   "metadata": {
    "id": "smVBijesSY38"
   },
   "source": [
    "The ```fn_decrypt``` function, defined in the code cell below and referencing the ```first_pull``` and ```second_pull``` poems shown below, takes a list and returns one of two different functions, each with the same codomain, depending on if a certain function returns true for all elements of the input."
   ]
  },
  {
   "cell_type": "markdown",
   "metadata": {
    "id": "sadapzoGUHSz"
   },
   "source": [
    "Unscramble a secret message in a list of lists of numbers (see fourth code cell below) by first transforming the data, then mapping the data through the respective results of the ```fn_decrypt``` function, which will be called (indirectly) by the ```decrypt_all``` function, which must be defined. (The ```forall``` function called by ```fn_decrypt``` must also be defined.)"
   ]
  },
  {
   "cell_type": "code",
   "execution_count": null,
   "metadata": {
    "id": "RsAvU0e2Tr2a"
   },
   "outputs": [],
   "source": [
    "def fn_decrypt(data):\n",
    "  global modulus, first_pull, second_pull\n",
    "  if forall(lambda x: x % modulus == 0, data):\n",
    "    return (lambda lst: first_pull[int(\"\".join(str(d) for d in lst), 8)])\n",
    "  else:\n",
    "    return (lambda lst: second_pull[int(\"\".join(str(d) for d in lst), 8)])"
   ]
  },
  {
   "cell_type": "code",
   "execution_count": null,
   "metadata": {
    "id": "8Bbh8Jg1SwSx"
   },
   "outputs": [],
   "source": [
    "first_pull = \"\"\"BECAUSE I could not stop for Death, He kindly stopped for me;\n",
    "The carriage held but just ourselves\n",
    "And Immortality.\n",
    "We slowly drove, he knew no haste, And I had put away\n",
    "My labor, and my leisure too,\n",
    "For his civility.\n",
    "We passed the school where children played At wrestling in a ring;\n",
    "We passed the fields of gazing grain,\n",
    "We passed the setting sun.\n",
    "We paused before a house that seemed A swelling of the ground;\n",
    "The roof was scarcely visible,\n",
    "The cornice but a mound.\n",
    "Since then ’t is centuries; but each\n",
    "Feels shorter than the day\n",
    "I first surmised the horses’ heads\n",
    "Were toward eternity.\"\"\" # Public domain. From https://www.bartleby.com/113/4027.html"
   ]
  },
  {
   "cell_type": "code",
   "execution_count": null,
   "metadata": {
    "id": "dGZPKuxuTd9k"
   },
   "outputs": [],
   "source": [
    "second_pull = \"\"\"Tiger, tiger, burning bright\n",
    "In the forests of the night,\n",
    "What immortal hand or eye\n",
    "Could frame thy fearful symmetry?\n",
    "In what distant deeps or skies\n",
    "Burnt the fire of thine eyes?\n",
    "On what wings dare he aspire?\n",
    "What the hand dare seize the fire?\n",
    "And what shoulder and what art\n",
    "Could twist the sinews of thy heart?\n",
    "And, when thy heart began to beat,\n",
    "What dread hand and what dread feet?\n",
    "What the hammer? what the chain?\n",
    "In what furnace was thy brain?\n",
    "What the anvil? what dread grasp\n",
    "Dare its deadly terrors clasp?\n",
    "When the stars threw down their spears,\n",
    "And watered heaven with their tears,\n",
    "Did He smile His work to see?\n",
    "Did He who made the lamb make thee?\n",
    "Tiger, tiger, burning bright\n",
    "In the forests of the night,\n",
    "What immortal hand or eye\n",
    "Dare frame thy fearful symmetry?\"\"\" # Public domain. From http://www.gutenberg.org/files/1934/1934-h/1934-h.htm"
   ]
  },
  {
   "cell_type": "code",
   "execution_count": null,
   "metadata": {
    "id": "elfY3HiLXjVB"
   },
   "outputs": [],
   "source": [
    "#@title Answer {display-mode: \"form\"}\n",
    "def forall(P, S):\n",
    "  return all(map(P, S))\n",
    "\n",
    "def transform(data):\n",
    "  return list(map(lambda x: x % 8, data))\n",
    "\n",
    "modulus = 5\n",
    "\n",
    "def decrypt_one(data):\n",
    "  return fn_decrypt(data)(transform(data))\n",
    "\n",
    "def decrypt_all(data):\n",
    "  return ''.join(list(map(decrypt_one, data)))"
   ]
  },
  {
   "cell_type": "markdown",
   "metadata": {
    "id": "R1MsBc8Jgssz"
   },
   "source": [
    "### Test the code\n"
   ]
  },
  {
   "cell_type": "code",
   "execution_count": null,
   "metadata": {
    "id": "aQHur5E-US0W"
   },
   "outputs": [],
   "source": [
    "print(decrypt_all([[4500, 6845, 2660], [4655, 6920, 7795],\n",
    "[4161, 7115, 2685, 4829], [5265, 205, 4545], [986, 7429, 6149],\n",
    "[5993, 7259, 4129, 3343], [7555, 3885, 2060], [8110, 3085, 965],\n",
    "[650, 3215, 5945], [4095, 4310, 120], [3577, 4297, 2467, 4823],\n",
    "[4209, 1109, 6960], [3715, 6785, 3235], [2130, 4540, 5395],\n",
    "[2035, 6760, 4365], [7890, 5167, 7365], [1577, 853, 7781],\n",
    "[313, 7155, 616, 3631], [7241, 1625, 2924], [1505, 5514, 2899, 4029],\n",
    "[1127, 5224, 4487], [275, 220, 6360], [4865, 5785, 7560, 5285],\n",
    "[4097, 3858, 900, 2820], [2201, 490, 687, 1412], [6705, 106, 7878, 6045],\n",
    "[6962, 2266, 6249], [6940, 6420, 6700], [1156, 327, 1729],\n",
    "[2485, 5180, 4790], [6743, 7249, 7480], [4745, 4717, 5185],\n",
    "[1445, 4010, 3670], [2737, 3978, 381, 3658], [7609, 6760, 7779, 1413],\n",
    "[2275, 2525, 925], [6535, 7715, 2935], [4265, 6270, 6440],\n",
    "[1490, 3660, 550], [4775, 2175, 7180], [2710, 291],\n",
    "[7849, 1097, 5392, 3198], [4300, 4280, 2585], [1420, 3755],\n",
    "[6561, 155, 14, 5179], [603, 3473, 6924], [5390, 185, 7300],\n",
    "[4965, 815, 5880], [7905, 1560, 8100, 7870], [5890, 7530, 4710],\n",
    "[5385, 7770, 980], [1905, 1970, 7125], [5035, 45, 3125],\n",
    "[7063, 5013, 455], [5370, 2970, 5005], [1955, 2703, 5740],\n",
    "[7050, 7570], [1172, 4071, 2413], [785, 3550, 2885],\n",
    "[5178, 7243, 424], [3085, 7330, 1820], [4635, 6370, 7015],\n",
    "[1881, 186, 7654, 3402], [1413, 521, 6466], [230, 3220, 5430],\n",
    "[6929, 217, 1348, 4871], [7950, 7065, 3235], [121, 3872, 247, 7933],\n",
    "[1580, 6920, 1105]]))"
   ]
  }
 ],
 "metadata": {
  "colab": {
   "authorship_tag": "ABX9TyNpoZfip3HUZsvLReRAkSZR",
   "name": "chapter-3-predicates-and-quantifiers-in-class-exercises-solutions.ipynb",
   "private_outputs": true,
   "provenance": []
  },
  "kernelspec": {
   "display_name": "Python 3",
   "language": "python",
   "name": "python3"
  },
  "language_info": {
   "codemirror_mode": {
    "name": "ipython",
    "version": 3
   },
   "file_extension": ".py",
   "mimetype": "text/x-python",
   "name": "python",
   "nbconvert_exporter": "python",
   "pygments_lexer": "ipython3",
   "version": "3.9.0"
  }
 },
 "nbformat": 4,
 "nbformat_minor": 1
}
