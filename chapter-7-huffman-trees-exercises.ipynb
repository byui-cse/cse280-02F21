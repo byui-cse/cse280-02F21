{
 "cells": [
  {
   "cell_type": "markdown",
   "metadata": {
    "id": "vOnCzZLsJMm4"
   },
   "source": [
    "# <font color=blue>Chapter 7 Huffman Trees Exercises</font>\n",
    "## <font color=blue>Prepare</font>"
   ]
  },
  {
   "cell_type": "markdown",
   "metadata": {
    "id": "6nTFx7cKJVBy"
   },
   "source": [
    "## <font color=red>Instructions</font>\n"
   ]
  },
  {
   "cell_type": "markdown",
   "metadata": {
    "id": "XAkdg2kLJV3P"
   },
   "source": [
    "The exercises for this week were supposed to be from [Chapter 7 Trees Exercises](https://colab.research.google.com/github/byui-cse/cse280-02F21/blob/main/chapter-7-trees-exercises.ipynb) (7.9 through 7.11).\n"
   ]
  },
  {
   "cell_type": "markdown",
   "metadata": {
    "id": "k74r72xeJedb"
   },
   "source": [
    "These exercises are all about Huffman trees and codes. Some of them could have been quite time-consuming, as you may have discovered if you did them.\n"
   ]
  },
  {
   "cell_type": "markdown",
   "metadata": {
    "id": "3IgmVvhtJgoS"
   },
   "source": [
    "By fully engaging with the in-class exercises this week, the learning benefit of doing these book exercises could be mostly compensated for. It's important at any rate to be comfortable with and have a good grasp of these ideas and techniques.\n"
   ]
  },
  {
   "cell_type": "markdown",
   "metadata": {
    "id": "dl28VCtuJopx"
   },
   "source": [
    "Any of you who are especially intrigued by Huffman trees/codes are encouraged to do the [Connecting Primes and Algorithmic Information Theory](https://colab.research.google.com/github/byui-cse/cse280-02F21/blob/main/connecting-primes-and-algorithmic-information-theory.ipynb) exploration!\n"
   ]
  }
 ],
 "metadata": {
  "colab": {
   "authorship_tag": "ABX9TyN6on/1yAF9+eVRdVH2W5zb",
   "name": "chapter-7-huffman-trees-exercises.ipynb",
   "private_outputs": true,
   "provenance": []
  },
  "kernelspec": {
   "display_name": "Python 3",
   "language": "python",
   "name": "python3"
  },
  "language_info": {
   "codemirror_mode": {
    "name": "ipython",
    "version": 3
   },
   "file_extension": ".py",
   "mimetype": "text/x-python",
   "name": "python",
   "nbconvert_exporter": "python",
   "pygments_lexer": "ipython3",
   "version": "3.9.0"
  }
 },
 "nbformat": 4,
 "nbformat_minor": 1
}
