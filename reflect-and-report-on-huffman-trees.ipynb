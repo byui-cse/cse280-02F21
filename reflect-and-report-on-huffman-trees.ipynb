{
 "cells": [
  {
   "cell_type": "markdown",
   "metadata": {
    "id": "KtXHJsjNS6Gb"
   },
   "source": [
    "# <font color=blue>Reflect and Report on Huffman Trees</font>\n",
    "## <font color=blue>Prepare</font>\n"
   ]
  },
  {
   "cell_type": "markdown",
   "metadata": {
    "id": "sz5-ZkP4S-ef"
   },
   "source": [
    "## <font color=red>Instructions</font>\n"
   ]
  },
  {
   "cell_type": "markdown",
   "metadata": {
    "id": "BrbvGS5iS_T6"
   },
   "source": [
    "You will be asked &ldquo;What is True?&rdquo;:\n"
   ]
  },
  {
   "cell_type": "markdown",
   "metadata": {
    "id": "nmLgQsEZTAEb"
   },
   "source": [
    "* I attended class on Tuesday this week.\n",
    "* I participated in the In-Class Exercise(s) on Tuesday this week.\n",
    "* I attended class on Thursday this week.\n",
    "* I participated in the In-Class Exercise(s) on Thursday this week.\n"
   ]
  },
  {
   "cell_type": "markdown",
   "metadata": {
    "id": "HmL6zJSiTF1L"
   },
   "source": [
    "## <font color=red>Access</font>\n"
   ]
  },
  {
   "cell_type": "markdown",
   "metadata": {
    "id": "DLuom2N8TGnd"
   },
   "source": [
    "[Take the Self-Assessment](https://byui.instructure.com/courses/149380/quizzes/2724859)\n"
   ]
  }
 ],
 "metadata": {
  "colab": {
   "authorship_tag": "ABX9TyPIbIlfgCVgXhX7YJ88Kjwk",
   "collapsed_sections": [],
   "name": "reflect-and-report-on-huffman-trees.ipynb",
   "private_outputs": true,
   "provenance": []
  },
  "kernelspec": {
   "display_name": "Python 3",
   "language": "python",
   "name": "python3"
  },
  "language_info": {
   "codemirror_mode": {
    "name": "ipython",
    "version": 3
   },
   "file_extension": ".py",
   "mimetype": "text/x-python",
   "name": "python",
   "nbconvert_exporter": "python",
   "pygments_lexer": "ipython3",
   "version": "3.9.0"
  }
 },
 "nbformat": 4,
 "nbformat_minor": 1
}
