{
 "cells": [
  {
   "cell_type": "markdown",
   "metadata": {},
   "source": [
    "# Integer Division\n",
    "\n",
    "How is integer division performed in Python? \n",
    "\n",
    "Write a function that takes two numbers $a$ and $b$, then perform floor division, modulo division, and floating point division.\n"
   ]
  },
  {
   "cell_type": "code",
   "execution_count": 6,
   "metadata": {},
   "outputs": [
    {
     "name": "stdout",
     "output_type": "stream",
     "text": [
      "2r1\n"
     ]
    }
   ],
   "source": [
    "# Define a function to perform integer division, \n",
    "# returning an integer and a remainder.\n",
    "integer_division = lambda a,b: (a//b, a%b)\n",
    "\n",
    "result = integer_division(9,4)\n",
    "print(f'{result[0]}r{result[1]}')\n"
   ]
  },
  {
   "cell_type": "markdown",
   "metadata": {},
   "source": [
    "## Division Algorithm\n",
    "\n",
    "The procedural version of the Division Algorithm is presented as pseudocode in 9.1.3 and reproduced here:\n",
    "\n",
    "#### Definition 9.1.3: Procedural version of the Division Algorithm.\n",
    "\n",
    "Input: Integers n and d > 0.\n",
    "\n",
    "Output: q = n div d, and r = n mod d.\n",
    "\n",
    "```\n",
    "Case 1: n ≥ 0.         Case 2: n < 0.\n",
    "--------------         -------------- \n",
    "q := 0                 q := 0\n",
    "r := n                 r := n\n",
    "While ( r ≥ d )        While ( r < 0 )\n",
    "  q := q + 1             q := q - 1\n",
    "  r := r - d             r := r + d\n",
    "End-While              End-While\n",
    "```\n",
    "\n",
    "1. By hand, trace through the procedural version of the Division Algorithm using the following inputs to make sure you fully understand how the algorithm works.\n",
    "\n",
    "   $n=9$, $d=4$\n",
    "   \n",
    "   $n=-9$, $d=4$\n",
    "\n",
    "3. Implement the division algorithm as a Python function\n"
   ]
  },
  {
   "cell_type": "code",
   "execution_count": 9,
   "metadata": {},
   "outputs": [
    {
     "name": "stdout",
     "output_type": "stream",
     "text": [
      "(2, 1)\n",
      "(-3, 3)\n"
     ]
    }
   ],
   "source": [
    "# Solution\n",
    "\n",
    "def division(n, d):\n",
    "    q = 0\n",
    "    r = n\n",
    "    \n",
    "    # Case 1\n",
    "    if n >= 0:\n",
    "        while r >= d:\n",
    "            q = q + 1\n",
    "            r = r - d\n",
    "\n",
    "    # Case 2\n",
    "    else:\n",
    "        while r < 0:\n",
    "            q = q - 1\n",
    "            r = r + d\n",
    "    \n",
    "    return (q, r)\n",
    "\n",
    "print(division(9,4))\n",
    "print(division(-9,4))\n"
   ]
  },
  {
   "cell_type": "code",
   "execution_count": 12,
   "metadata": {},
   "outputs": [
    {
     "name": "stdout",
     "output_type": "stream",
     "text": [
      "-3\n",
      "3\n",
      "-2\n",
      "1\n"
     ]
    }
   ],
   "source": [
    "print(-9//4)\n",
    "print(-9%4)\n",
    "\n",
    "print(-7//4)\n",
    "print(-7%4)"
   ]
  },
  {
   "cell_type": "markdown",
   "metadata": {},
   "source": [
    "## Hash functions\n",
    "Implement a hash function based on Application 9.2.1 that will place the following ID numbers into a list of size 10.\n",
    "\n"
   ]
  },
  {
   "cell_type": "code",
   "execution_count": 11,
   "metadata": {},
   "outputs": [
    {
     "name": "stdout",
     "output_type": "stream",
     "text": [
      "[70207, 941373, 742166, 845267, 466638, 176806, 399967, 944775, 738324, 469709]\n",
      "[77, 3, 26, 37, 18, 66, 37, 25, 64, 99]\n"
     ]
    }
   ],
   "source": [
    "# Create a simple hash function\n",
    "# based on h(n) = cn mod T\n",
    "\n",
    "c = 11 # arbitrarily chosen value for c    \n",
    "T = 100 # Size of the storage table/array\n",
    "def hash(n):\n",
    "    return c*n % T\n",
    "\n",
    "\n",
    "# generate 10 random ID numbers then compute their hashes\n",
    "\n",
    "import random\n",
    "\n",
    "id_nums = [random.randrange(1000000) for _ in range(10)]\n",
    "\n",
    "print(id_nums)\n",
    "\n",
    "hash_values = [*map(hash, id_nums)]\n",
    "print(hash_values)"
   ]
  },
  {
   "cell_type": "markdown",
   "metadata": {},
   "source": [
    "## Pseudo-random numbers generators\n",
    "Implement a pseudo-random number generator based on the function $X_{n+1} = (aX_n + c)\\mod m$. Experiment with different values for $a$, $c$, and $m$.\n"
   ]
  },
  {
   "cell_type": "code",
   "execution_count": 23,
   "metadata": {},
   "outputs": [
    {
     "name": "stdout",
     "output_type": "stream",
     "text": [
      "[19, 30, 41, 52, 63, 74, 85, 96, 107, 118, 129, 140, 151, 162, 173, 184, 195, 206, 217, 228]\n",
      "[686709762214, 553807384373, 91881228122, 10693509361, 117628602990, 293914632909, 233060962018, 563670582217, 200376404406, 204140448485, 245544933354, 700994266913, 710936936062, 820306296701, 23369263730, 257061901049, 827680911558, 104490027157, 149390298746, 643293286225]\n",
      "01010101010101010101\n"
     ]
    }
   ],
   "source": [
    "# Pseudo-random number generator\n",
    "def rand_int(seed=0, a=11, c=19, m=10**12):\n",
    "    return (a * seed + c) % m\n",
    "\n",
    "\n",
    "# Sequence of random nums using seed 0-19 sequentially\n",
    "print([rand_int(seed=x) for x in range(20)])\n",
    "\n",
    "\n",
    "# Sequence of random nums using a single start seed\n",
    "# then using the resulting random number as the seed\n",
    "# for the next number\n",
    "\n",
    "seed = 516973614745  # arbitrarily chosen seed\n",
    "nums = []\n",
    "for x in range(20):\n",
    "    r = rand_int(seed)\n",
    "    nums.append(r)\n",
    "    seed = r\n",
    "\n",
    "print(nums)\n",
    "\n",
    "\n",
    "# Sequence of randomly? generated 0s and 1s\n",
    "bits = []\n",
    "for x in range(20):\n",
    "    r = rand_int(seed, m=2)\n",
    "    bits.append(r)\n",
    "    seed = r\n",
    "print(''.join(map(lambda x: str(x), bits)))\n",
    "\n"
   ]
  }
 ],
 "metadata": {
  "interpreter": {
   "hash": "1977c1262a5a71e57f8e1e2a9337f4268800bf2d1a595fc1ecb322ccb8b2351d"
  },
  "kernelspec": {
   "display_name": "Python 3.9.0 ('.env': venv)",
   "language": "python",
   "name": "python3"
  },
  "language_info": {
   "codemirror_mode": {
    "name": "ipython",
    "version": 3
   },
   "file_extension": ".py",
   "mimetype": "text/x-python",
   "name": "python",
   "nbconvert_exporter": "python",
   "pygments_lexer": "ipython3",
   "version": "3.9.0"
  },
  "orig_nbformat": 4
 },
 "nbformat": 4,
 "nbformat_minor": 2
}
