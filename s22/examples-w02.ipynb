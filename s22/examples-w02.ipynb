{
 "cells": [
  {
   "cell_type": "markdown",
   "metadata": {},
   "source": [
    "# Predicates & Quantifiers"
   ]
  },
  {
   "cell_type": "markdown",
   "metadata": {},
   "source": [
    "## Predicates"
   ]
  },
  {
   "cell_type": "markdown",
   "metadata": {},
   "source": [
    "Let's use a predicate to determine which numbers in a list are even "
   ]
  },
  {
   "cell_type": "code",
   "execution_count": 23,
   "metadata": {},
   "outputs": [],
   "source": [
    "seq = [0, 1, 2, 3, 5, 8, 13]\n",
    "\n",
    "# Create a predicate to determine\n",
    "# whether x is even\n",
    "def P(x):\n",
    "    return x%2 != 0"
   ]
  },
  {
   "cell_type": "markdown",
   "metadata": {},
   "source": [
    "Try our predicate for a couple of values"
   ]
  },
  {
   "cell_type": "code",
   "execution_count": 24,
   "metadata": {},
   "outputs": [
    {
     "name": "stdout",
     "output_type": "stream",
     "text": [
      "True\n",
      "False\n"
     ]
    }
   ],
   "source": [
    "print(P(1)) # True\n",
    "print(P(2)) # False"
   ]
  },
  {
   "cell_type": "markdown",
   "metadata": {},
   "source": [
    "Now let's figure out which items in the list `seq` are even"
   ]
  },
  {
   "cell_type": "code",
   "execution_count": 25,
   "metadata": {},
   "outputs": [
    {
     "name": "stdout",
     "output_type": "stream",
     "text": [
      "False\n",
      "True\n",
      "False\n",
      "True\n",
      "True\n",
      "False\n",
      "True\n"
     ]
    }
   ],
   "source": [
    "# Which items in seq are even?\n",
    "for x in seq:\n",
    "    print(P(x))"
   ]
  },
  {
   "cell_type": "code",
   "execution_count": 26,
   "metadata": {},
   "outputs": [
    {
     "name": "stdout",
     "output_type": "stream",
     "text": [
      "1\n",
      "3\n",
      "5\n",
      "13\n"
     ]
    }
   ],
   "source": [
    "# Or do it this way\n",
    "for x in seq:\n",
    "    if P(x):\n",
    "        print(x)"
   ]
  },
  {
   "cell_type": "markdown",
   "metadata": {},
   "source": [
    "Python has a built-in function called `filter` that takes a predicate and returns only those items in a list for which the predicate is true."
   ]
  },
  {
   "cell_type": "code",
   "execution_count": 27,
   "metadata": {},
   "outputs": [
    {
     "name": "stdout",
     "output_type": "stream",
     "text": [
      "[1, 3, 5, 13]\n"
     ]
    }
   ],
   "source": [
    "print(list(filter(P, seq)))"
   ]
  },
  {
   "cell_type": "markdown",
   "metadata": {},
   "source": [
    "What if we want to determine some other predicate? We don't need to give the predicate function a name, we can use an anonymous function instead. This is called a **lambda** function."
   ]
  },
  {
   "cell_type": "code",
   "execution_count": 28,
   "metadata": {},
   "outputs": [
    {
     "name": "stdout",
     "output_type": "stream",
     "text": [
      "[3, 5, 8, 13]\n",
      "[3, 5, 8, 13]\n"
     ]
    }
   ],
   "source": [
    "# Find all values greater than 2\n",
    "print(list(filter(lambda x: x > 2, seq)))\n",
    "\n",
    "# Another way using the unpack operator *\n",
    "print([*filter(lambda x: x > 2, seq)])"
   ]
  },
  {
   "cell_type": "markdown",
   "metadata": {},
   "source": [
    "Note that a **lambda** function has an implicit return statement built in. \n",
    "\n",
    "We can also assign a lambda function to a variable."
   ]
  },
  {
   "cell_type": "code",
   "execution_count": 29,
   "metadata": {},
   "outputs": [
    {
     "name": "stdout",
     "output_type": "stream",
     "text": [
      "[1, 3, 5, 13]\n",
      "[0, 2, 8]\n"
     ]
    }
   ],
   "source": [
    "is_odd = lambda x: x % 2\n",
    "is_even = lambda x: not x%2\n",
    "\n",
    "print([*filter(is_odd, seq)])\n",
    "print([*filter(is_even, seq)])"
   ]
  },
  {
   "cell_type": "markdown",
   "metadata": {},
   "source": [
    "## Quantifiers"
   ]
  },
  {
   "cell_type": "markdown",
   "metadata": {},
   "source": [
    "### List of names"
   ]
  },
  {
   "cell_type": "markdown",
   "metadata": {},
   "source": [
    "The universe of discourse $N$ is the name of everyone in your group. Let $C(s,x)$ mean \"name $s$ contains the letter $x$.\"\n",
    "\n",
    "Let's figure out $\\exists n \\ C(n, \\texttt{\"e\"}) $"
   ]
  },
  {
   "cell_type": "code",
   "execution_count": 30,
   "metadata": {},
   "outputs": [],
   "source": [
    "names = ['Alice', 'Bob', 'Sue']\n",
    "letter = 'e'\n",
    "\n",
    "# This is a predicate. \n",
    "# It returns True or False based on a variable or variables.\n",
    "def C(name, letter):\n",
    "  return letter in name"
   ]
  },
  {
   "cell_type": "code",
   "execution_count": 31,
   "metadata": {},
   "outputs": [
    {
     "name": "stdout",
     "output_type": "stream",
     "text": [
      "True\n"
     ]
    }
   ],
   "source": [
    "# Let's check for the name \"Alice\"\n",
    "print(C(\"Alice\", letter))"
   ]
  },
  {
   "cell_type": "code",
   "execution_count": 32,
   "metadata": {},
   "outputs": [
    {
     "name": "stdout",
     "output_type": "stream",
     "text": [
      "Alice\n",
      "Sue\n"
     ]
    }
   ],
   "source": [
    "# How do we check every name in the list of names?\n",
    "for name in names:\n",
    "  if C(name, letter):\n",
    "    print(name)"
   ]
  },
  {
   "cell_type": "code",
   "execution_count": 33,
   "metadata": {},
   "outputs": [
    {
     "name": "stdout",
     "output_type": "stream",
     "text": [
      "True\n",
      "True\n"
     ]
    }
   ],
   "source": [
    "# How do we find out if there is at least one?\n",
    "for name in names:\n",
    "  if C(name, letter):\n",
    "    print(True)\n"
   ]
  },
  {
   "cell_type": "code",
   "execution_count": 34,
   "metadata": {},
   "outputs": [
    {
     "data": {
      "text/plain": [
       "['Alice', 'Sue']"
      ]
     },
     "execution_count": 34,
     "metadata": {},
     "output_type": "execute_result"
    }
   ],
   "source": [
    "# A better way....We can use the built-in filter function\n",
    "[*filter(lambda name: C(name, letter), names)]"
   ]
  },
  {
   "cell_type": "markdown",
   "metadata": {},
   "source": [
    "Back to our problem:\n",
    "\n",
    "$ \\exists n \\ C(n, \\texttt{\"e\"}) $"
   ]
  },
  {
   "cell_type": "code",
   "execution_count": 39,
   "metadata": {},
   "outputs": [
    {
     "name": "stdout",
     "output_type": "stream",
     "text": [
      "True\n"
     ]
    }
   ],
   "source": [
    "names = ['Alice', 'Bob', 'Carol', 'Dave', 'Eliza']\n",
    "\n",
    "# names = ['Bob', 'Carol']\n",
    "\n",
    "# What is the predicate?\n",
    "result = len([*filter(lambda name: 'e' in name, names)]) > 0\n",
    "\n",
    "# What is the result?\n",
    "print(result)"
   ]
  },
  {
   "cell_type": "markdown",
   "metadata": {},
   "source": [
    "### Universal Quantifier $\\forall$"
   ]
  },
  {
   "cell_type": "markdown",
   "metadata": {},
   "source": [
    "How do we determine whether **all** items in a list match some predicate?"
   ]
  },
  {
   "cell_type": "code",
   "execution_count": 35,
   "metadata": {},
   "outputs": [
    {
     "data": {
      "text/plain": [
       "True"
      ]
     },
     "execution_count": 35,
     "metadata": {},
     "output_type": "execute_result"
    }
   ],
   "source": [
    "odds = [1, 3, 5, 7, 9]\n",
    "\n",
    "# are all of these numbers odd?\n",
    "len([*filter(is_odd, odds)]) == len(odds)\n",
    "\n",
    "# or create an \"all\" function that takes a predicate and a sequence\n",
    "def forall(p, s):\n",
    "    for x in s:\n",
    "        if not p(x):\n",
    "            return False\n",
    "    return True\n",
    "\n",
    "forall(is_odd, odds)"
   ]
  },
  {
   "cell_type": "markdown",
   "metadata": {},
   "source": [
    "Python has a built-in **all** function. It takes a list and returns True if every item in the list is True."
   ]
  },
  {
   "cell_type": "code",
   "execution_count": 36,
   "metadata": {},
   "outputs": [
    {
     "data": {
      "text/plain": [
       "True"
      ]
     },
     "execution_count": 36,
     "metadata": {},
     "output_type": "execute_result"
    }
   ],
   "source": [
    "all(map(is_odd, odds))"
   ]
  },
  {
   "cell_type": "markdown",
   "metadata": {},
   "source": [
    "Python also has a built-in **any** function. It takes a list and returns True if at least one item in the list is True."
   ]
  },
  {
   "cell_type": "code",
   "execution_count": 37,
   "metadata": {},
   "outputs": [
    {
     "name": "stdout",
     "output_type": "stream",
     "text": [
      "True\n",
      "True\n",
      "False\n"
     ]
    }
   ],
   "source": [
    "mixed = [1,2,4,6,8,10]\n",
    "evens = [2,4,6,8,10]\n",
    "\n",
    "print(any(map(is_odd, odds)))\n",
    "print(any(map(is_odd, mixed)))\n",
    "print(any(map(is_odd, evens)))"
   ]
  }
 ],
 "metadata": {
  "interpreter": {
   "hash": "6a8e4dad0b4e8ea345e3fd0a3780de1d4c1a41dc382b6d487e229e2a51e4f041"
  },
  "kernelspec": {
   "display_name": "Python 3.9.0 ('.env': venv)",
   "language": "python",
   "name": "python3"
  },
  "language_info": {
   "codemirror_mode": {
    "name": "ipython",
    "version": 3
   },
   "file_extension": ".py",
   "mimetype": "text/x-python",
   "name": "python",
   "nbconvert_exporter": "python",
   "pygments_lexer": "ipython3",
   "version": "3.9.0"
  },
  "orig_nbformat": 4
 },
 "nbformat": 4,
 "nbformat_minor": 2
}
