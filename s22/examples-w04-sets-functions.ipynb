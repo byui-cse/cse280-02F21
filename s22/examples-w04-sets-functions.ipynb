{
    "cells": [
        {
            "cell_type": "markdown",
            "metadata": {
                "id": "x3jDo0XI-xop"
            },
            "source": [
                "# Sets"
            ]
        },
        {
            "cell_type": "markdown",
            "metadata": {
                "id": "inPz8IXf-z7k"
            },
            "source": [
                "## Cartesian Product"
            ]
        },
        {
            "cell_type": "markdown",
            "metadata": {
                "id": "mvprI7h9v7Lc"
            },
            "source": [
                "### Find $ A \\times A$ if $A = \\{0,1\\}$"
            ]
        },
        {
            "cell_type": "code",
            "execution_count": null,
            "metadata": {
                "id": "gfFyGK42wK9d"
            },
            "outputs": [],
            "source": [
                "A = {0, 1}\n",
                "\n",
                "{(x,y) for x in A for y in A}\n",
                "\n"
            ]
        },
        {
            "cell_type": "markdown",
            "metadata": {
                "id": "oqCev_cu-2dt"
            },
            "source": [
                "#### How would we do a Cartesian Product of {1,2,3} and {a,b,c} in Python?"
            ]
        },
        {
            "cell_type": "code",
            "execution_count": null,
            "metadata": {
                "id": "Q_9LQQIR-sPe"
            },
            "outputs": [],
            "source": [
                "# Cartesian Product\n",
                "A = ['a', 'b', 'c']\n",
                "B = [1,2,3]\n",
                "\n",
                "# Using a list comprehension\n",
                "cartesian_product = [(a,b) for a in A for b in B]\n",
                "print(cartesian_product)\n",
                "\n",
                "len(cartesian_product)\n",
                "\n",
                "\n"
            ]
        },
        {
            "cell_type": "code",
            "execution_count": null,
            "metadata": {
                "id": "AWYIRrjoATtV"
            },
            "outputs": [],
            "source": [
                "# Using product function\n",
                "from itertools import product\n",
                "cartesian_product = [*product(A,B)]\n",
                "\n",
                "# cartesian_product = product(A,B)\n",
                "print(cartesian_product)\n"
            ]
        },
        {
            "cell_type": "code",
            "execution_count": null,
            "metadata": {
                "id": "tVEkuhDWAWij"
            },
            "outputs": [],
            "source": [
                "# Note that A x B is not the same as B x A\n",
                "axb = [*product(A,B)]\n",
                "bxa = [*product(B,A)]\n",
                "print(axb)\n",
                "print(bxa)"
            ]
        },
        {
            "cell_type": "markdown",
            "metadata": {
                "id": "wWMfAwIOAs3n"
            },
            "source": [
                "A = {0, 1}\n",
                "\n",
                "What is $ A \\times A \\times A $?"
            ]
        },
        {
            "cell_type": "code",
            "execution_count": null,
            "metadata": {
                "id": "1ndmd_LWA7Jx"
            },
            "outputs": [],
            "source": [
                "A = {0,1}\n",
                "\n",
                "print(*product(A,A,A))\n"
            ]
        },
        {
            "cell_type": "code",
            "execution_count": null,
            "metadata": {},
            "outputs": [],
            "source": [
                "# Another way\n",
                "for a in A:\n",
                "  for b in A:\n",
                "    for c in A:\n",
                "      print(a,b,c)"
            ]
        },
        {
            "cell_type": "markdown",
            "metadata": {
                "id": "PaMZKJiZ9CsP"
            },
            "source": [
                "## Group activity"
            ]
        },
        {
            "cell_type": "markdown",
            "metadata": {
                "id": "nYAzlMnA9Giw"
            },
            "source": [
                "You own an ice cream shop. If you offer 15 different flavors of ice cream, how many types of 3-scoop cones might you be able to claim in your advertising if you use the Cartesian product to build the set of possibilities?\n"
            ]
        },
        {
            "cell_type": "markdown",
            "metadata": {
                "id": "dkjJbtXE9vg3"
            },
            "source": [
                "### Sample solution"
            ]
        },
        {
            "cell_type": "code",
            "execution_count": null,
            "metadata": {
                "id": "OsG3JH2z9x8g"
            },
            "outputs": [],
            "source": [
                "# represent each of the 15 different flavors\n",
                "flavors = range(0,15)\n",
                "\n",
                "# compute Cartesian Product\n",
                "number_of_possible_cones = len([(scoop1, scoop2, scoop3) for scoop1 in flavors for scoop2 in flavors for scoop3 in flavors])\n",
                "\n",
                "print(number_of_possible_cones)\n"
            ]
        },
        {
            "cell_type": "code",
            "execution_count": null,
            "metadata": {
                "id": "iGnY-jcA-Riy"
            },
            "outputs": [],
            "source": [
                "# Using product function\n",
                "from itertools import product\n",
                "len([*product(flavors,flavors,flavors)])"
            ]
        },
        {
            "cell_type": "code",
            "execution_count": null,
            "metadata": {
                "id": "WsDKyuez-uMy"
            },
            "outputs": [],
            "source": [
                "# Shorter way:\n",
                "flavors = 15\n",
                "n = flavors**3\n",
                "print(n)"
            ]
        },
        {
            "cell_type": "markdown",
            "metadata": {
                "id": "pHJU08e_W9fh"
            },
            "source": [
                "# Functions"
            ]
        },
        {
            "cell_type": "code",
            "execution_count": null,
            "metadata": {
                "executionInfo": {
                    "elapsed": 2317,
                    "status": "ok",
                    "timestamp": 1642631647431,
                    "user": {
                        "displayName": "Nate",
                        "photoUrl": "https://lh3.googleusercontent.com/a-/AOh14Gge88W5IOQYc84jtvpRC5fLJ4ItlakwxVm7Al1tPKo=s64",
                        "userId": "10456852639543583831"
                    },
                    "user_tz": 420
                },
                "id": "97VTUkd7IlDT"
            },
            "outputs": [],
            "source": [
                "def square(n):\n",
                "  return n*n\n"
            ]
        },
        {
            "cell_type": "markdown",
            "metadata": {
                "id": "Te9BvPUUuaQK"
            },
            "source": [
                "Try this out on your own. Can you demonstrate the domain? How about the codomain?"
            ]
        },
        {
            "cell_type": "markdown",
            "metadata": {
                "id": "wxusHNI5xRlT"
            },
            "source": [
                "#### What is the domain?\n"
            ]
        },
        {
            "cell_type": "markdown",
            "metadata": {
                "id": "plBTE0ypxTwv"
            },
            "source": [
                "All Real Numbers ($\\mathbb{R}$)"
            ]
        },
        {
            "cell_type": "markdown",
            "metadata": {
                "id": "KkNF2I_IxbU_"
            },
            "source": [
                "#### What is the codomain?"
            ]
        },
        {
            "cell_type": "markdown",
            "metadata": {
                "id": "T299K-YQxdwt"
            },
            "source": [
                "All positive real numbers and 0 ($\\mathbb{R}^+ \\cup {0}$)"
            ]
        },
        {
            "cell_type": "markdown",
            "metadata": {
                "id": "fEsvdcaTx3d_"
            },
            "source": [
                "#### Demonstration\n"
            ]
        },
        {
            "cell_type": "code",
            "execution_count": null,
            "metadata": {
                "colab": {
                    "base_uri": "https://localhost:8080/"
                },
                "executionInfo": {
                    "elapsed": 183,
                    "status": "ok",
                    "timestamp": 1642631714445,
                    "user": {
                        "displayName": "Nate",
                        "photoUrl": "https://lh3.googleusercontent.com/a-/AOh14Gge88W5IOQYc84jtvpRC5fLJ4ItlakwxVm7Al1tPKo=s64",
                        "userId": "10456852639543583831"
                    },
                    "user_tz": 420
                },
                "id": "QNYVOB2Tx6o0",
                "outputId": "52364e3e-28fc-49fc-ca4e-c7f044770128"
            },
            "outputs": [],
            "source": [
                "print(square(2))\n",
                "print(square(0))\n",
                "print(square(-1))\n",
                "print(square(3.14))"
            ]
        },
        {
            "cell_type": "markdown",
            "metadata": {
                "id": "XoQI2Uxku192"
            },
            "source": [
                "\n",
                "\n",
                "---\n",
                "\n"
            ]
        },
        {
            "cell_type": "markdown",
            "metadata": {},
            "source": [
                "### Floor"
            ]
        },
        {
            "cell_type": "code",
            "execution_count": null,
            "metadata": {},
            "outputs": [],
            "source": [
                "from math import floor\n",
                "floor(-3.5)"
            ]
        },
        {
            "cell_type": "markdown",
            "metadata": {},
            "source": [
                "### Ceiling"
            ]
        },
        {
            "cell_type": "code",
            "execution_count": null,
            "metadata": {},
            "outputs": [],
            "source": [
                "from math import ceil\n",
                "ceil(-0.5)"
            ]
        },
        {
            "cell_type": "markdown",
            "metadata": {},
            "source": [
                "## Functional Programming"
            ]
        },
        {
            "cell_type": "markdown",
            "metadata": {
                "id": "YJODv_0zw4gH"
            },
            "source": [
                "### Lambdas"
            ]
        },
        {
            "cell_type": "code",
            "execution_count": null,
            "metadata": {
                "colab": {
                    "base_uri": "https://localhost:8080/"
                },
                "executionInfo": {
                    "elapsed": 176,
                    "status": "ok",
                    "timestamp": 1642632871022,
                    "user": {
                        "displayName": "Nate",
                        "photoUrl": "https://lh3.googleusercontent.com/a-/AOh14Gge88W5IOQYc84jtvpRC5fLJ4ItlakwxVm7Al1tPKo=s64",
                        "userId": "10456852639543583831"
                    },
                    "user_tz": 420
                },
                "id": "8aeGHc7_w6Xh",
                "outputId": "ed9c5627-1ba8-4e78-d894-ee5d823266eb"
            },
            "outputs": [],
            "source": [
                "# Simple example, what does this do?\n",
                "z = 5\n",
                "print((lambda x: x * x) (z))\n"
            ]
        },
        {
            "cell_type": "code",
            "execution_count": null,
            "metadata": {
                "colab": {
                    "base_uri": "https://localhost:8080/"
                },
                "executionInfo": {
                    "elapsed": 199,
                    "status": "ok",
                    "timestamp": 1642632876021,
                    "user": {
                        "displayName": "Nate",
                        "photoUrl": "https://lh3.googleusercontent.com/a-/AOh14Gge88W5IOQYc84jtvpRC5fLJ4ItlakwxVm7Al1tPKo=s64",
                        "userId": "10456852639543583831"
                    },
                    "user_tz": 420
                },
                "id": "Lo1q5UIgxGmf",
                "outputId": "b73d6589-1069-446d-ab81-da9b68e1369a"
            },
            "outputs": [],
            "source": [
                "# This is the same thing as:\n",
                "def square(x):\n",
                "  return x * x\n",
                "\n",
                "print(square(5))"
            ]
        },
        {
            "cell_type": "code",
            "execution_count": null,
            "metadata": {
                "colab": {
                    "base_uri": "https://localhost:8080/"
                },
                "executionInfo": {
                    "elapsed": 182,
                    "status": "ok",
                    "timestamp": 1642632885910,
                    "user": {
                        "displayName": "Nate",
                        "photoUrl": "https://lh3.googleusercontent.com/a-/AOh14Gge88W5IOQYc84jtvpRC5fLJ4ItlakwxVm7Al1tPKo=s64",
                        "userId": "10456852639543583831"
                    },
                    "user_tz": 420
                },
                "id": "xTskXA5JsNd7",
                "outputId": "0ff10768-c819-4e7c-e13d-f828ffe795a9"
            },
            "outputs": [],
            "source": [
                "# We could also do this:\n",
                "\n",
                "square = lambda x: x*x\n",
                "\n",
                "print(square(5))\n",
                "print(square(10))"
            ]
        },
        {
            "cell_type": "code",
            "execution_count": null,
            "metadata": {
                "colab": {
                    "base_uri": "https://localhost:8080/"
                },
                "executionInfo": {
                    "elapsed": 204,
                    "status": "ok",
                    "timestamp": 1642632922322,
                    "user": {
                        "displayName": "Nate",
                        "photoUrl": "https://lh3.googleusercontent.com/a-/AOh14Gge88W5IOQYc84jtvpRC5fLJ4ItlakwxVm7Al1tPKo=s64",
                        "userId": "10456852639543583831"
                    },
                    "user_tz": 420
                },
                "id": "ilKDFdNfX5Uq",
                "outputId": "bf1677e4-943a-4e2f-ce0f-a45c9c2f1dfa"
            },
            "outputs": [],
            "source": [
                "# Lambda with two arguments\n",
                "\n",
                "result = (lambda a,b: a + b)(2,3)\n",
                "print(result)"
            ]
        },
        {
            "cell_type": "code",
            "execution_count": null,
            "metadata": {
                "colab": {
                    "base_uri": "https://localhost:8080/"
                },
                "executionInfo": {
                    "elapsed": 171,
                    "status": "ok",
                    "timestamp": 1642632980950,
                    "user": {
                        "displayName": "Nate",
                        "photoUrl": "https://lh3.googleusercontent.com/a-/AOh14Gge88W5IOQYc84jtvpRC5fLJ4ItlakwxVm7Al1tPKo=s64",
                        "userId": "10456852639543583831"
                    },
                    "user_tz": 420
                },
                "id": "28uohUYhQFjt",
                "outputId": "0b762399-4678-4889-a84b-c052a002aeb9"
            },
            "outputs": [],
            "source": [
                "result = (lambda a,b: 2*a+4*b)(2,3)\n",
                "print(result)"
            ]
        },
        {
            "cell_type": "markdown",
            "metadata": {
                "id": "4cbdi4FlrdjH"
            },
            "source": [
                "#### Map"
            ]
        },
        {
            "cell_type": "code",
            "execution_count": null,
            "metadata": {
                "colab": {
                    "base_uri": "https://localhost:8080/"
                },
                "executionInfo": {
                    "elapsed": 176,
                    "status": "ok",
                    "timestamp": 1642633360826,
                    "user": {
                        "displayName": "Nate",
                        "photoUrl": "https://lh3.googleusercontent.com/a-/AOh14Gge88W5IOQYc84jtvpRC5fLJ4ItlakwxVm7Al1tPKo=s64",
                        "userId": "10456852639543583831"
                    },
                    "user_tz": 420
                },
                "id": "QFeIK6csrfVf",
                "outputId": "7b292237-7519-4c43-fe0a-573fd3ea2e19"
            },
            "outputs": [],
            "source": [
                "# Show how map works\n",
                "nums = [1,2,3,4,5]\n",
                "\n",
                "# Double each number in the list\n",
                "result = [*map(lambda x: x * 2, nums)]\n",
                "\n",
                "print(result)"
            ]
        },
        {
            "cell_type": "code",
            "execution_count": null,
            "metadata": {
                "colab": {
                    "base_uri": "https://localhost:8080/"
                },
                "executionInfo": {
                    "elapsed": 195,
                    "status": "ok",
                    "timestamp": 1642633377485,
                    "user": {
                        "displayName": "Nate",
                        "photoUrl": "https://lh3.googleusercontent.com/a-/AOh14Gge88W5IOQYc84jtvpRC5fLJ4ItlakwxVm7Al1tPKo=s64",
                        "userId": "10456852639543583831"
                    },
                    "user_tz": 420
                },
                "id": "2t98mZQoNbIS",
                "outputId": "816c9809-d948-4683-ac7d-b5783fb4d716"
            },
            "outputs": [],
            "source": [
                "# Or do something else with each number in the list\n",
                "result = [*map(lambda x: 3*x - 1, nums)]\n",
                "print(result)"
            ]
        },
        {
            "cell_type": "code",
            "execution_count": null,
            "metadata": {
                "colab": {
                    "base_uri": "https://localhost:8080/"
                },
                "executionInfo": {
                    "elapsed": 214,
                    "status": "ok",
                    "timestamp": 1642633393414,
                    "user": {
                        "displayName": "Nate",
                        "photoUrl": "https://lh3.googleusercontent.com/a-/AOh14Gge88W5IOQYc84jtvpRC5fLJ4ItlakwxVm7Al1tPKo=s64",
                        "userId": "10456852639543583831"
                    },
                    "user_tz": 420
                },
                "id": "rADnpjDBMsnZ",
                "outputId": "d0dbbf38-5d20-48ff-f9db-4823eaf800b0"
            },
            "outputs": [],
            "source": [
                "# Simple encryption algorithm that shifts \n",
                "# each character by 3\n",
                "alphabet = [chr(letter + 32) for letter in range(0, 95)]\n",
                "print(alphabet)\n",
                "\n",
                "rotate = lambda text, shift: ''.join(map(lambda c: alphabet[alphabet.index(c) - shift % len(alphabet)], text))\n",
                "derotate = lambda text, shift: rotate(text, -shift)\n",
                "\n",
                "plaintext = 'Hello class, this is the plaintext'\n",
                "print('Plaintext:', plaintext)\n",
                "ciphertext = rotate(plaintext, 5)\n",
                "print('Ciphertext:', ciphertext)\n",
                "print('Plaintext:', derotate(ciphertext, 5))\n"
            ]
        },
        {
            "cell_type": "markdown",
            "metadata": {
                "id": "np12jYYBrthB"
            },
            "source": [
                "#### Filter"
            ]
        },
        {
            "cell_type": "code",
            "execution_count": null,
            "metadata": {
                "colab": {
                    "base_uri": "https://localhost:8080/"
                },
                "executionInfo": {
                    "elapsed": 209,
                    "status": "ok",
                    "timestamp": 1642633545145,
                    "user": {
                        "displayName": "Nate",
                        "photoUrl": "https://lh3.googleusercontent.com/a-/AOh14Gge88W5IOQYc84jtvpRC5fLJ4ItlakwxVm7Al1tPKo=s64",
                        "userId": "10456852639543583831"
                    },
                    "user_tz": 420
                },
                "id": "AlU607Joru5M",
                "outputId": "f724a748-aa3b-40d0-93ce-3755e3364085"
            },
            "outputs": [],
            "source": [
                "# Show how filter works\n",
                "\n",
                "nums = [1,2,3,4,5]\n",
                "\n",
                "# Find everything greater than 2\n",
                "result = [*filter(lambda x: x != 2, nums)]\n",
                "print(result)"
            ]
        },
        {
            "cell_type": "markdown",
            "metadata": {
                "id": "CZK_anhEpD4B"
            },
            "source": [
                "#### Reduce"
            ]
        },
        {
            "cell_type": "code",
            "execution_count": null,
            "metadata": {
                "colab": {
                    "base_uri": "https://localhost:8080/"
                },
                "executionInfo": {
                    "elapsed": 176,
                    "status": "ok",
                    "timestamp": 1642633622680,
                    "user": {
                        "displayName": "Nate",
                        "photoUrl": "https://lh3.googleusercontent.com/a-/AOh14Gge88W5IOQYc84jtvpRC5fLJ4ItlakwxVm7Al1tPKo=s64",
                        "userId": "10456852639543583831"
                    },
                    "user_tz": 420
                },
                "id": "czBWMzTJpF-7",
                "outputId": "c5b9534d-68f5-467a-dffa-d9af4ebf1332"
            },
            "outputs": [],
            "source": [
                "# Show how reduce works\n",
                "\n",
                "nums = [1,2,3,4,5]\n",
                "\n",
                "# Add up five numbers in a list the loop way\n",
                "result = 0\n",
                "for x in nums:\n",
                "  result += x\n",
                "\n",
                "print(result)"
            ]
        },
        {
            "cell_type": "code",
            "execution_count": null,
            "metadata": {
                "colab": {
                    "base_uri": "https://localhost:8080/"
                },
                "executionInfo": {
                    "elapsed": 183,
                    "status": "ok",
                    "timestamp": 1642633626951,
                    "user": {
                        "displayName": "Nate",
                        "photoUrl": "https://lh3.googleusercontent.com/a-/AOh14Gge88W5IOQYc84jtvpRC5fLJ4ItlakwxVm7Al1tPKo=s64",
                        "userId": "10456852639543583831"
                    },
                    "user_tz": 420
                },
                "id": "VzT3gVnwN9Jx",
                "outputId": "2235c18b-e8db-48e5-c94e-1f4482051018"
            },
            "outputs": [],
            "source": [
                "# Add up five numbers in a list using reduce\n",
                "from functools import reduce\n",
                "\n",
                "result = reduce(lambda a, b: a + b, nums) # 1 + 2 + 3 + 4 + 5 = 15\n",
                "print(result)"
            ]
        },
        {
            "cell_type": "code",
            "execution_count": null,
            "metadata": {
                "colab": {
                    "base_uri": "https://localhost:8080/"
                },
                "executionInfo": {
                    "elapsed": 192,
                    "status": "ok",
                    "timestamp": 1642633682418,
                    "user": {
                        "displayName": "Nate",
                        "photoUrl": "https://lh3.googleusercontent.com/a-/AOh14Gge88W5IOQYc84jtvpRC5fLJ4ItlakwxVm7Al1tPKo=s64",
                        "userId": "10456852639543583831"
                    },
                    "user_tz": 420
                },
                "id": "LSCMFiJJOLld",
                "outputId": "576cf3d4-4507-4333-e28c-47e96442835c"
            },
            "outputs": [],
            "source": [
                "# Combine items in a list\n",
                "bits = ['0', '0', '1', '1', '0']\n",
                "result = reduce(lambda a,b: a + ' ' + b, bits)\n",
                "print(result)\n",
                "\n",
                "# We can also use the string.join method:\n",
                "result = ' '.join(bits)\n",
                "print(result)"
            ]
        },
        {
            "cell_type": "code",
            "execution_count": null,
            "metadata": {
                "colab": {
                    "base_uri": "https://localhost:8080/"
                },
                "executionInfo": {
                    "elapsed": 225,
                    "status": "ok",
                    "timestamp": 1642633715819,
                    "user": {
                        "displayName": "Nate",
                        "photoUrl": "https://lh3.googleusercontent.com/a-/AOh14Gge88W5IOQYc84jtvpRC5fLJ4ItlakwxVm7Al1tPKo=s64",
                        "userId": "10456852639543583831"
                    },
                    "user_tz": 420
                },
                "id": "QtCV7B3LPIsc",
                "outputId": "33d038ca-adb3-48f6-8910-d3b8e5d1ce71"
            },
            "outputs": [],
            "source": [
                "# Find the max\n",
                "nums = [5,3,2,6,9,10,1,0,4]\n",
                "result = reduce(lambda a,b: a if a > b else b, nums)\n",
                "print(result)\n",
                "print(nums)"
            ]
        },
        {
            "cell_type": "markdown",
            "metadata": {},
            "source": [
                "The real power of lambda functions comes when we need to pass a function as an argument to another function, or return a function as the result of another function. For example, the builtin Python function `filter` takes two arguments. The first argument is a *function* that represents a property or *predicate* returning `True` or `False`. The second argument is an iterable, such as a list or set. The `filter` function will return an iterator containing only those items from the original  that match the predicate.\n",
                "\n",
                "Here is an example of using `filter` and a `lambda` function to select only those items in the list `s` that are multiples of 3."
            ]
        },
        {
            "cell_type": "code",
            "execution_count": null,
            "metadata": {},
            "outputs": [],
            "source": [
                "s = [1,2,3,4,5,6,7,8,9,10,11,12,13,14,15]\n",
                "result = filter(lambda x: not x%3, s)\n",
                "print(result) # prints an iterator"
            ]
        },
        {
            "cell_type": "markdown",
            "metadata": {},
            "source": [
                "Notice that we can extract the results from the `filter` function by using the `unpack` operator `*`."
            ]
        },
        {
            "cell_type": "code",
            "execution_count": null,
            "metadata": {},
            "outputs": [],
            "source": [
                "print(*result) # unpack the elements in the filter object"
            ]
        },
        {
            "cell_type": "markdown",
            "metadata": {},
            "source": [
                "We can use the `unpack` operator to extract from the `filter` iterator directly:"
            ]
        },
        {
            "cell_type": "code",
            "execution_count": null,
            "metadata": {},
            "outputs": [],
            "source": [
                "s = [1,2,3,4,5,6,7,8,9,10,11,12,13,14,15]\n",
                "result = [*filter(lambda x: not x%3, s)]\n",
                "print(result)"
            ]
        },
        {
            "cell_type": "code",
            "execution_count": null,
            "metadata": {},
            "outputs": [],
            "source": []
        },
        {
            "cell_type": "code",
            "execution_count": null,
            "metadata": {},
            "outputs": [],
            "source": [
                "# Find all multiples of 3 or 7 up to 100\n",
                "result = [*filter(lambda x: not x%3 or not x%7, range(100))]\n",
                "print(result)\n",
                "\n",
                "# Find all multiples of 3 and 7 up to 100\n",
                "result = [*filter(lambda x: not x%3 and not x%7, range(100))]\n",
                "print(result)\n"
            ]
        }
    ],
    "metadata": {
        "colab": {
            "authorship_tag": "ABX9TyNyZRjEdtqmbEr+s7hl9KM1",
            "collapsed_sections": [
                "inPz8IXf-z7k",
                "mvprI7h9v7Lc",
                "oqCev_cu-2dt",
                "PaMZKJiZ9CsP",
                "dkjJbtXE9vg3",
                "AzesZl9RM5sC",
                "BEQiqXE7M-Fv",
                "ebeaQZXBN3DU",
                "32-S3hmMNESI",
                "vHMpCGGOQWzr"
            ],
            "name": "examples-w04-sets-functions.ipynb",
            "provenance": []
        },
        "kernelspec": {
            "display_name": "Python 3",
            "name": "python3"
        },
        "language_info": {
            "name": "python",
            "version": "3.9.0"
        }
    },
    "nbformat": 4,
    "nbformat_minor": 0
}
