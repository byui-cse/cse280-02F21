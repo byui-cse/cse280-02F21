{
    "cells": [
        {
            "cell_type": "markdown",
            "metadata": {
                "id": "k5lqHI-sggvz"
            },
            "source": [
                "# Number Theory"
            ]
        },
        {
            "cell_type": "markdown",
            "metadata": {
                "id": "1xpThXl1gjpg"
            },
            "source": [
                "## Division Theorem"
            ]
        },
        {
            "cell_type": "code",
            "execution_count": null,
            "metadata": {
                "id": "gsLVKalGglWP"
            },
            "outputs": [],
            "source": [
                "# Does d evenly divide n?\n",
                "\n",
                "d_divides_n = lambda d,n: n % d == 0\n",
                "\n",
                "print(d_divides_n(3,12))\n",
                "print(d_divides_n(3,13))\n",
                "print(d_divides_n(13,52))\n",
                "print(d_divides_n(14,58))\n"
            ]
        },
        {
            "cell_type": "code",
            "execution_count": null,
            "metadata": {
                "id": "L557BO-LhQ6n"
            },
            "outputs": [],
            "source": [
                "# What about for any n?\n",
                "\n",
                "# Let's try is with some random number n\n",
                "n = 392412123\n",
                "print(d_divides_n(1,n))\n",
                "print(d_divides_n(n,n))\n",
                "print(d_divides_n(n,0))\n",
                "print(d_divides_n(0,n))"
            ]
        },
        {
            "cell_type": "markdown",
            "metadata": {
                "id": "YYhcdAq13jfd"
            },
            "source": [
                "What are $q$ and $r$ when $-11$ is divided by $3$?"
            ]
        },
        {
            "cell_type": "code",
            "execution_count": null,
            "metadata": {
                "id": "ZQ3ebjWAgcn3"
            },
            "outputs": [],
            "source": [
                "from math import floor\n",
                "a = -11\n",
                "d = 3\n",
                "q = floor(-11 / 3)\n",
                "r = a - d*q\n",
                "\n",
                "print(q)\n",
                "print(r)"
            ]
        },
        {
            "cell_type": "markdown",
            "metadata": {},
            "source": [
                "Python floor or integer division"
            ]
        },
        {
            "cell_type": "code",
            "execution_count": null,
            "metadata": {},
            "outputs": [],
            "source": [
                "-11 // 3"
            ]
        },
        {
            "cell_type": "markdown",
            "metadata": {},
            "source": [
                "Python modulo division"
            ]
        },
        {
            "cell_type": "code",
            "execution_count": null,
            "metadata": {},
            "outputs": [],
            "source": [
                "-11 % 3"
            ]
        },
        {
            "cell_type": "markdown",
            "metadata": {},
            "source": [
                "# Integer Division\n",
                "\n",
                "How is integer division performed in Python? \n",
                "\n",
                "Write a function that takes two numbers $a$ and $b$, then return the quotient and remainder.\n"
            ]
        },
        {
            "cell_type": "code",
            "execution_count": null,
            "metadata": {},
            "outputs": [],
            "source": [
                "# Define a function to perform integer division, \n",
                "# returning an integer and a remainder.\n",
                "integer_division = lambda a,b: (a//b, a%b)\n",
                "\n",
                "result = integer_division(9,4)\n",
                "print(f'{result[0]}r{result[1]}')\n"
            ]
        },
        {
            "cell_type": "markdown",
            "metadata": {
                "id": "AzesZl9RM5sC"
            },
            "source": [
                "## Congruences"
            ]
        },
        {
            "cell_type": "markdown",
            "metadata": {
                "id": "BEQiqXE7M-Fv"
            },
            "source": [
                "### Demonstrate modulo in Python"
            ]
        },
        {
            "cell_type": "markdown",
            "metadata": {
                "id": "ebeaQZXBN3DU"
            },
            "source": [
                "#### Show 19 and 37 are congruent modulo 9:"
            ]
        },
        {
            "cell_type": "code",
            "execution_count": null,
            "metadata": {
                "id": "NMi3fbA5N54k"
            },
            "outputs": [],
            "source": [
                "a = 19\n",
                "b = 37\n",
                "m = 9\n",
                "\n",
                "print(a % m)\n",
                "print(b % m)\n",
                "print(a % m == b % m)"
            ]
        },
        {
            "cell_type": "code",
            "execution_count": null,
            "metadata": {
                "id": "AQbQ2hUZOBHa"
            },
            "outputs": [],
            "source": [
                "# can also do this:\n",
                "print((a - b) % m == 0)\n",
                "print((b - a) % m == 0)"
            ]
        },
        {
            "cell_type": "markdown",
            "metadata": {
                "id": "OJFAjQF0GR_e"
            },
            "source": [
                "In other words, is the *difference* between $a$ and $b$ a multiple of 9? If it is, then they are congruent modulo 9."
            ]
        },
        {
            "cell_type": "markdown",
            "metadata": {
                "id": "32-S3hmMNESI"
            },
            "source": [
                "##### Show that each item in this list is congruent modulo 9\n",
                "\n",
                "[-17, -8, 1, 10, 19, 28, 37]\n"
            ]
        },
        {
            "cell_type": "code",
            "execution_count": null,
            "metadata": {
                "id": "ALiQsdw4NZzd"
            },
            "outputs": [],
            "source": [
                "A = [-17, -8, 1, 10, 19, 28, 37]\n",
                "m = 9\n",
                "\n",
                "for a in A:\n",
                "  print(a % m)"
            ]
        },
        {
            "cell_type": "code",
            "execution_count": null,
            "metadata": {
                "id": "r04iouxcO2JM"
            },
            "outputs": [],
            "source": [
                "# Using map:\n",
                "remainder = A[0] % m\n",
                "[*map(lambda a: a % m == remainder, A)]\n",
                "\n",
                "\n"
            ]
        },
        {
            "cell_type": "code",
            "execution_count": null,
            "metadata": {
                "id": "ohry2iBcG7FE"
            },
            "outputs": [],
            "source": [
                "# Using filter\n",
                "[*filter(lambda a: a % m == remainder, A)]"
            ]
        },
        {
            "cell_type": "code",
            "execution_count": null,
            "metadata": {
                "id": "F5OTnExgPsY-"
            },
            "outputs": [],
            "source": [
                "# Using reduce\n",
                "from functools import reduce\n",
                "reduce(lambda a,b: a if a%m == b%m else b, A) == A[0]\n"
            ]
        },
        {
            "cell_type": "markdown",
            "metadata": {
                "id": "vHMpCGGOQWzr"
            },
            "source": [
                "##### Generate the equivalence class for 3 if the relation is congruence modulo 5\n",
                "\n",
                "$ [3]_5 = {?} $\n"
            ]
        },
        {
            "cell_type": "code",
            "execution_count": null,
            "metadata": {
                "id": "6_ViiObrQl6m"
            },
            "outputs": [],
            "source": [
                "m = 5\n",
                "a = 3\n",
                "for b in range(-20,21):\n",
                "  if b % m == a % m:\n",
                "    print(b)"
            ]
        },
        {
            "cell_type": "code",
            "execution_count": null,
            "metadata": {
                "id": "elGCFynMTtaq"
            },
            "outputs": [],
            "source": [
                "# Using filter\n",
                "a = 3\n",
                "m = 5\n",
                "A = range(-20,21)\n",
                "[*filter(lambda b: b % m == a % m, A)]"
            ]
        },
        {
            "cell_type": "code",
            "execution_count": null,
            "metadata": {
                "id": "4qI2bjUctR3F"
            },
            "outputs": [],
            "source": [
                "def p(b):\n",
                "  return b%m == a%m\n",
                "\n",
                "[*filter(p, A)]\n",
                "\n"
            ]
        },
        {
            "cell_type": "markdown",
            "metadata": {
                "id": "750NdZ94FY2v"
            },
            "source": [
                "## Primes"
            ]
        },
        {
            "cell_type": "markdown",
            "metadata": {
                "id": "V_6z4rdkFdPW"
            },
            "source": [
                "### Using python to find primes\n"
            ]
        },
        {
            "cell_type": "markdown",
            "metadata": {
                "id": "jlLV-ufIFgvR"
            },
            "source": [
                "pyprimesieve library: (https://pypi.org/project/pyprimesieve/)\n",
                "\n",
                "Use `!pip install pyprimesieve`\n"
            ]
        },
        {
            "cell_type": "code",
            "execution_count": null,
            "metadata": {
                "id": "Z0NeUBdiFntx"
            },
            "outputs": [],
            "source": [
                "!pip install pyprimesieve"
            ]
        },
        {
            "cell_type": "code",
            "execution_count": null,
            "metadata": {
                "id": "wiXZFl-uitKh"
            },
            "outputs": [],
            "source": [
                "!pwd\n"
            ]
        },
        {
            "cell_type": "code",
            "execution_count": null,
            "metadata": {
                "id": "_OH3GTMmFcFL"
            },
            "outputs": [],
            "source": [
                "# Now use it to find primes\n",
                "from pyprimesieve import primes\n",
                "primes(100)"
            ]
        }
    ],
    "metadata": {
        "colab": {
            "authorship_tag": "ABX9TyOG9WOxbzCs8jZ104xK/E1O",
            "collapsed_sections": [
                "1xpThXl1gjpg",
                "750NdZ94FY2v",
                "C54k5-JjObtg",
                "e2oScCHOFVlX",
                "7Ru-XRyLO9ak",
                "k6O-VRnZCnfg",
                "VmG3vfVNKOMi"
            ],
            "name": "cse280-examples-w06.ipynb",
            "provenance": []
        },
        "interpreter": {
            "hash": "81794d4967e6c3204c66dcd87b604927b115b27c00565d3d43f05ba2f3a2cb0d"
        },
        "kernelspec": {
            "display_name": "Python 3.9.0 64-bit",
            "language": "python",
            "name": "python3"
        },
        "language_info": {
            "codemirror_mode": {
                "name": "ipython",
                "version": 3
            },
            "file_extension": ".py",
            "mimetype": "text/x-python",
            "name": "python",
            "nbconvert_exporter": "python",
            "pygments_lexer": "ipython3",
            "version": "3.9.0"
        }
    },
    "nbformat": 4,
    "nbformat_minor": 0
}