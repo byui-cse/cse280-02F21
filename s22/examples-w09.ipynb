{
 "cells": [
  {
   "cell_type": "markdown",
   "metadata": {},
   "source": [
    "One out of every 10,000 people has a particular genetic disease. A test has been developed for the disease that is very accurate but has some likelihood of error. If a person with the disease is tested, the test results say the person does not have the disease with probability 0.01. If the person does not have the disease, the test is incorrect with probability 0.005. Let D be the event that the person has the disease. Let T be the event that the person tests positive for the disease.\n",
    "\n",
    "Note that a \"positive\" test result means that the results indicate that the person has the disease. A \"negative\" test result means that the results indicate that the person does not have the disease."
   ]
  },
  {
   "cell_type": "markdown",
   "metadata": {},
   "source": [
    "Calculate the probability a person has the disease if the test is negative.\n",
    "\n",
    "$p(D|\\overline T)$"
   ]
  },
  {
   "cell_type": "code",
   "execution_count": 8,
   "metadata": {},
   "outputs": [
    {
     "name": "stdout",
     "output_type": "stream",
     "text": [
      "0.0000010\n"
     ]
    }
   ],
   "source": [
    "prob_d_given_notT = .01 * .0001 / ((.01*.0001) + (.995*.9999))\n",
    "print(f'{prob_d_given_notT:.7f}')\n"
   ]
  },
  {
   "cell_type": "code",
   "execution_count": 9,
   "metadata": {},
   "outputs": [
    {
     "data": {
      "text/plain": [
       "0.22335423197492163"
      ]
     },
     "execution_count": 9,
     "metadata": {},
     "output_type": "execute_result"
    }
   ],
   "source": [
    ".95*.009 / ((.95*.009) + .03*.991)"
   ]
  },
  {
   "cell_type": "markdown",
   "metadata": {},
   "source": [
    "A spinner with possible outcomes {1, 2, 3, 4, 5, 6} is spun. Each outcome is equally likely.\n",
    "\n",
    "The game costs $10 to play. The number of dollars you win is the square of the number that comes up on the spinner. Ex: If the spinner comes up 3, you win $9.\n",
    "\n",
    "Let N be a random variable that corresponds to your net winnings in dollars. What is the expected value of N?"
   ]
  },
  {
   "cell_type": "code",
   "execution_count": 13,
   "metadata": {},
   "outputs": [
    {
     "data": {
      "text/plain": [
       "5.166666666666667"
      ]
     },
     "execution_count": 13,
     "metadata": {},
     "output_type": "execute_result"
    }
   ],
   "source": [
    "-9/6 + -6/6 + -1/6 + 6/6 + 15/6 + 26/6\n",
    "31/6"
   ]
  },
  {
   "cell_type": "code",
   "execution_count": 26,
   "metadata": {},
   "outputs": [
    {
     "name": "stdout",
     "output_type": "stream",
     "text": [
      "E1: {3, 6, 9, 12, 15, 18, 21, 24, 27, 30, 33, 36, 39, 42, 45, 48, 51, 54, 57, 60, 63, 66, 69, 72, 75, 78, 81, 84, 87, 90, 93, 96, 99}\n",
      "|E1| = 33\n",
      "E2: {5, 10, 15, 20, 25, 30, 35, 40, 45, 50, 55, 60, 65, 70, 75, 80, 85, 90, 95, 100}\n",
      "|E2| = 20\n",
      "E1 ∩ E2: {75, 45, 15, 90, 60, 30}\n",
      "|E1 ∩ E2|: 6\n",
      "E1 ∩ E2: {75, 45, 15, 90, 60, 30}\n",
      "|E1 ∩ E2|: 6\n",
      "Probability of E1 or E2: 0.47\n"
     ]
    }
   ],
   "source": [
    "S = list(range(1,101)) # 1-100 inclusive\n",
    "E1 = {x for x in S if not x%3} # all numbers divisible by 3\n",
    "print(f'E1: {E1}')\n",
    "print(f'|E1| = {len(E1)}')\n",
    "\n",
    "E2 = {x for x in S if not x%5} # all numbers divisible by 5\n",
    "print(f'E2: {E2}')\n",
    "print(f'|E2| = {len(E2)}')\n",
    "\n",
    "# All numbers divisible by 3 and 5. These are counted twice. \n",
    "E1_and_E2 = {x for x in S if not x%3 and not x%5}\n",
    "print(f'E1 ∩ E2: {E1_and_E2}')\n",
    "print(f'|E1 ∩ E2|: {len(E1_and_E2)}')\n",
    "\n",
    "# We can also use sets.\n",
    "E1_and_E2 = E1.intersection(E2)\n",
    "print(f'E1 ∩ E2: {E1_and_E2}')\n",
    "print(f'|E1 ∩ E2|: {len(E1_and_E2)}')\n",
    "\n",
    "def P(E,S):\n",
    "    return len(E) / len(S)\n",
    "\n",
    "Prob_E1_or_E2 = P(E1,S) + P(E2, S) - P(E1.intersection(E2), S)\n",
    "print(f'Probability of E1 or E2: {Prob_E1_or_E2:.2f}')"
   ]
  }
 ],
 "metadata": {
  "interpreter": {
   "hash": "1977c1262a5a71e57f8e1e2a9337f4268800bf2d1a595fc1ecb322ccb8b2351d"
  },
  "kernelspec": {
   "display_name": "Python 3.9.0 ('.env': venv)",
   "language": "python",
   "name": "python3"
  },
  "language_info": {
   "codemirror_mode": {
    "name": "ipython",
    "version": 3
   },
   "file_extension": ".py",
   "mimetype": "text/x-python",
   "name": "python",
   "nbconvert_exporter": "python",
   "pygments_lexer": "ipython3",
   "version": "3.9.0"
  },
  "orig_nbformat": 4
 },
 "nbformat": 4,
 "nbformat_minor": 2
}
