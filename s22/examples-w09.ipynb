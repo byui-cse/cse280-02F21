{
 "cells": [
  {
   "cell_type": "markdown",
   "metadata": {
    "id": "Y39ZCWXgRhAa"
   },
   "source": [
    "### Sequences"
   ]
  },
  {
   "cell_type": "markdown",
   "metadata": {
    "id": "zBCNAYe_Rppf"
   },
   "source": [
    "#### Generate the following sequence:\n",
    "\n",
    "$ 1, 6, 11, 16, 21 $"
   ]
  },
  {
   "cell_type": "code",
   "execution_count": null,
   "metadata": {
    "colab": {
     "base_uri": "https://localhost:8080/"
    },
    "executionInfo": {
     "elapsed": 236,
     "status": "ok",
     "timestamp": 1642634125393,
     "user": {
      "displayName": "Nate",
      "photoUrl": "https://lh3.googleusercontent.com/a-/AOh14Gge88W5IOQYc84jtvpRC5fLJ4ItlakwxVm7Al1tPKo=s64",
      "userId": "10456852639543583831"
     },
     "user_tz": 420
    },
    "id": "LAsv_vbqRjrQ",
    "outputId": "26bdf9db-741c-4866-a54a-de8e19a19de9"
   },
   "outputs": [],
   "source": [
    "# This is an arithmetic progression of the form a+nd\n",
    "# where a=1, n=0,1,2,3,4 and d=5\n",
    "\n",
    "result = [*range(1, 22, 5)]\n",
    "print(result)\n"
   ]
  },
  {
   "cell_type": "markdown",
   "metadata": {
    "id": "cQ3WIniRVcHX"
   },
   "source": [
    "#### Generate the following sequence:\n",
    "\n",
    "$1, 3, 9, 27, 81$"
   ]
  },
  {
   "cell_type": "code",
   "execution_count": null,
   "metadata": {
    "colab": {
     "base_uri": "https://localhost:8080/"
    },
    "executionInfo": {
     "elapsed": 241,
     "status": "ok",
     "timestamp": 1642634149909,
     "user": {
      "displayName": "Nate",
      "photoUrl": "https://lh3.googleusercontent.com/a-/AOh14Gge88W5IOQYc84jtvpRC5fLJ4ItlakwxVm7Al1tPKo=s64",
      "userId": "10456852639543583831"
     },
     "user_tz": 420
    },
    "id": "T_S8YxvVVrWz",
    "outputId": "b2332601-5f74-4958-d137-cccef8023bbe"
   },
   "outputs": [],
   "source": [
    "# This is a geometric progression of the form ar^n\n",
    "# where a=1, n=0,1,2,3,4, and r=3\n",
    "\n",
    "# Using list comprehension\n",
    "result = [3**x for x in range(0, 5)]\n",
    "print(result)"
   ]
  },
  {
   "cell_type": "code",
   "execution_count": null,
   "metadata": {
    "id": "0r8a7TPwIsyH"
   },
   "outputs": [],
   "source": [
    "# We could also use a=4 or some other number:\n",
    "result = [4*3**x for x in range(0,5)]\n",
    "print(result)"
   ]
  },
  {
   "cell_type": "code",
   "execution_count": null,
   "metadata": {
    "id": "G97UwXccIYBN"
   },
   "outputs": [],
   "source": [
    "# Using map\n",
    "result = [*map(lambda x: 4*3**x, range(0,5))]\n",
    "print(result)"
   ]
  },
  {
   "cell_type": "markdown",
   "metadata": {
    "id": "8fZiQvoExjJq"
   },
   "source": [
    "### Summations"
   ]
  },
  {
   "cell_type": "markdown",
   "metadata": {
    "id": "a0ZaJm_buLPk"
   },
   "source": [
    "Let's find the answer to this summation using Python.\n",
    "\n",
    "$$ \\sum_{i = 1}^{100}  i = 1 + 2 + 3 + 4 + \\dots  + 100$$\n"
   ]
  },
  {
   "cell_type": "markdown",
   "metadata": {
    "id": "u0ALz8ZZIk5J"
   },
   "source": [
    "#### In Python"
   ]
  },
  {
   "cell_type": "code",
   "execution_count": null,
   "metadata": {
    "id": "-TQCuEhlvMwO"
   },
   "outputs": [],
   "source": [
    "# Using sum\n",
    "result = sum(range(1,101))\n",
    "print(result)"
   ]
  },
  {
   "cell_type": "markdown",
   "metadata": {
    "id": "u5J9Y7JEvFAW"
   },
   "source": [
    "#### Another way"
   ]
  },
  {
   "cell_type": "code",
   "execution_count": null,
   "metadata": {
    "id": "gJUuZHy9xk3u"
   },
   "outputs": [],
   "source": [
    "# Using reduce\n",
    "from functools import reduce\n",
    "result = reduce(lambda a,b: a + b, range(1, 101))\n",
    "print(result)\n",
    "\n",
    "# Can also use the 'add' operator\n",
    "from operator import add\n",
    "result = reduce(add, range(1, 101))\n",
    "print(result)"
   ]
  },
  {
   "cell_type": "markdown",
   "metadata": {
    "id": "gTos_sX0vNEw"
   },
   "source": [
    "#### Use Python to find the following summation:"
   ]
  },
  {
   "cell_type": "markdown",
   "metadata": {
    "id": "JLdY_aYfzd5o"
   },
   "source": [
    "\n",
    "$$ \\sum_{k=1}^{42} k^2 = 1^2 + 2^2 + 3^2 + 4^2 + \\dots + 42^2 = 1 + 4 + 9 + 16 + \\dots = ? $$"
   ]
  },
  {
   "cell_type": "markdown",
   "metadata": {
    "id": "kaRDtstbv9fd"
   },
   "source": [
    "##### Sample Solution:"
   ]
  },
  {
   "cell_type": "code",
   "execution_count": null,
   "metadata": {
    "id": "GYbYQnoqt6J6"
   },
   "outputs": [],
   "source": [
    "# Using list comprehension\n",
    "n = 42\n",
    "result = sum([k**2 for k in range(1, n+1)])\n",
    "print(result)"
   ]
  },
  {
   "cell_type": "code",
   "execution_count": null,
   "metadata": {
    "id": "FkYvAqxDx9kd"
   },
   "outputs": [],
   "source": [
    "# Using sum and map\n",
    "def f(k):\n",
    "  return k**2\n",
    "\n",
    "# or also\n",
    "f = lambda k: k**2\n",
    "\n",
    "result = sum(map(f, range(1, n+1)))\n",
    "print(result)\n"
   ]
  },
  {
   "cell_type": "code",
   "execution_count": null,
   "metadata": {
    "id": "cIPk-J6xwMV1"
   },
   "outputs": [],
   "source": [
    "# Using reduce\n",
    "from functools import reduce\n",
    "from operator import add\n",
    "result = reduce(add, map(lambda i: i**2, range(1,n+1)))\n",
    "print(result)"
   ]
  },
  {
   "cell_type": "markdown",
   "metadata": {
    "id": "KsGhrTL-GHMz"
   },
   "source": [
    "## Probability"
   ]
  },
  {
   "cell_type": "markdown",
   "metadata": {
    "id": "8DPeGy7kGMUx"
   },
   "source": [
    "Let's figure out the probability of getting one head and one tail when flipping two coins (or one coin twice)."
   ]
  },
  {
   "cell_type": "code",
   "execution_count": null,
   "metadata": {
    "id": "yZOkbXTHGV9V"
   },
   "outputs": [],
   "source": [
    "coin = {'H', 'T'}\n",
    "\n",
    "# We can generate the complete sample space using Cartesian product:\n",
    "from itertools import product\n",
    "\n",
    "sample_space = [*product(coin, coin)] # flipping two coins\n",
    "\n",
    "print(sample_space)\n"
   ]
  },
  {
   "cell_type": "code",
   "execution_count": null,
   "metadata": {
    "id": "8aZNk8rmGuVm"
   },
   "outputs": [],
   "source": [
    "# The odds of getting one head and one tail can be found by \n",
    "# filtering out those events in the sample space that \n",
    "# consist of one head and one tail.\n",
    "\n",
    "event_space = [*filter(lambda x: x[0] != x[1], sample_space)]\n",
    "print(event_space)"
   ]
  },
  {
   "cell_type": "code",
   "execution_count": null,
   "metadata": {
    "id": "BiRcsVwuHDSO"
   },
   "outputs": [],
   "source": [
    "# Now we can compute the probability of flipping one H and one T:\n",
    "\n",
    "probability = len(event_space) / len(sample_space)\n",
    "print(probability)"
   ]
  },
  {
   "cell_type": "markdown",
   "metadata": {},
   "source": [
    "### Dice"
   ]
  },
  {
   "cell_type": "code",
   "execution_count": null,
   "metadata": {},
   "outputs": [],
   "source": [
    "die = {1,2,3,4,5,6}\n",
    "\n",
    "sample_space = [(d1, d2) for d1 in die for d2 in die]\n",
    "print(sample_space)"
   ]
  },
  {
   "cell_type": "markdown",
   "metadata": {},
   "source": [
    "What is the probability of rolling two numbers that sum to 5?"
   ]
  },
  {
   "cell_type": "code",
   "execution_count": null,
   "metadata": {},
   "outputs": [],
   "source": [
    "event_space = [*filter(lambda x: x[0] + x[1] == 5, sample_space)]\n",
    "print(event_space)\n",
    "\n",
    "probability_event = len(event_space) / len(sample_space)\n",
    "print(f'Probability: {len(event_space)}/{len(sample_space)} = {probability_event}')"
   ]
  },
  {
   "cell_type": "markdown",
   "metadata": {},
   "source": [
    "### Choose six numbers from 1 to 40."
   ]
  },
  {
   "cell_type": "markdown",
   "metadata": {},
   "source": [
    "Imagine you are participating in a game show where you win $1,000,000 if you correctly guess a set of six numbers between 1 and 40. What are your chances of winning?"
   ]
  },
  {
   "cell_type": "code",
   "execution_count": null,
   "metadata": {},
   "outputs": [],
   "source": [
    "# Use subsets / combinations because it is a set of six numbers.\n",
    "# 40 choose 6\n",
    "\n",
    "from math import comb\n",
    "sample_space = comb(40,6)\n",
    "print(sample_space)\n",
    "\n",
    "event_space = 1\n",
    "\n",
    "print(f'probability = {event_space / sample_space}')\n",
    "\n"
   ]
  },
  {
   "cell_type": "markdown",
   "metadata": {},
   "source": [
    "What if you have to guess the six numbers in order? (Assume no number will be chosen twice)."
   ]
  },
  {
   "cell_type": "code",
   "execution_count": null,
   "metadata": {},
   "outputs": [],
   "source": [
    "from math import perm\n",
    "\n",
    "sample_space = perm(40,6)\n",
    "print(sample_space)\n",
    "\n",
    "print(f'probability = {event_space / sample_space:.15f}')\n",
    "\n",
    "\n"
   ]
  },
  {
   "cell_type": "markdown",
   "metadata": {},
   "source": [
    "### Probability Union"
   ]
  },
  {
   "cell_type": "markdown",
   "metadata": {},
   "source": [
    "What is the probability that a randomly chosen number between 1 and 100 (inclusive) is divisible by either 3 or 5?\n",
    "\n",
    "$ P(E_1 \\cup E_2) = P(E_1) + P(E_2) - P(E_1 \\cap E_2)$\n"
   ]
  },
  {
   "cell_type": "code",
   "execution_count": null,
   "metadata": {},
   "outputs": [],
   "source": [
    "S = list(range(1,101)) # 1-100 inclusive\n",
    "E1 = {x for x in S if not x%3} # all numbers divisible by 3\n",
    "print(f'E1: {E1}')\n",
    "print(f'|E1| = {len(E1)}')"
   ]
  },
  {
   "cell_type": "code",
   "execution_count": null,
   "metadata": {},
   "outputs": [],
   "source": [
    "# all numbers divisible by 5\n",
    "E2 = {x for x in S if not x%5}\n",
    "print(f'E2: {E2}')\n",
    "print(f'|E2| = {len(E2)}')"
   ]
  },
  {
   "cell_type": "code",
   "execution_count": null,
   "metadata": {},
   "outputs": [],
   "source": [
    "# All numbers divisible by 3 and 5. These are counted twice. \n",
    "E1_and_E2 = {x for x in S if not x%3 and not x%5}\n",
    "print(f'E1 ∩ E2: {E1_and_E2}')\n",
    "print(f'|E1 ∩ E2|: {len(E1_and_E2)}')"
   ]
  },
  {
   "cell_type": "code",
   "execution_count": null,
   "metadata": {},
   "outputs": [],
   "source": [
    "# We can also use sets.\n",
    "E1_and_E2 = E1.intersection(E2)\n",
    "print(f'E1 ∩ E2: {E1_and_E2}')\n",
    "print(f'|E1 ∩ E2|: {len(E1_and_E2)}')"
   ]
  },
  {
   "cell_type": "code",
   "execution_count": null,
   "metadata": {},
   "outputs": [],
   "source": [
    "# Define a probability function that takes an event space and a sample space\n",
    "def P(E, S):\n",
    "    return len(E) / len(S) # assumes a uniform distribution"
   ]
  },
  {
   "cell_type": "markdown",
   "metadata": {},
   "source": [
    "What is the probability that a randomly chosen number between 1 and 100 (inclusive) is divisible by either 3 or 5?\n",
    "\n",
    "Let's apply our definition of the union of the probability of events:\n",
    "\n",
    "$ P(E_1 \\cup E_2) = P(E_1) + P(E_2) - P(E_1 \\cap E_2)$"
   ]
  },
  {
   "cell_type": "code",
   "execution_count": null,
   "metadata": {},
   "outputs": [],
   "source": [
    "Prob_E1_or_E2 = P(E1, S) + P(E2, S) - P(E1.intersection(E2), S)\n",
    "print(f'Probability of E1 or E2: {Prob_E1_or_E2:.2f}')"
   ]
  },
  {
   "cell_type": "markdown",
   "metadata": {},
   "source": [
    "### More coin flips"
   ]
  },
  {
   "cell_type": "markdown",
   "metadata": {},
   "source": [
    "A coin is flipped four times. For each of the events described below, express the event as a set in roster notation. Each outcome is written as a string of length 4 from {H, T}, such as HHTH. Assuming the coin is a fair coin, give the probability of each event."
   ]
  },
  {
   "cell_type": "markdown",
   "metadata": {},
   "source": [
    "a. \n",
    "The first and last flips come up heads."
   ]
  },
  {
   "cell_type": "code",
   "execution_count": null,
   "metadata": {},
   "outputs": [],
   "source": [
    "coin = {'H', 'T'}\n",
    "from itertools import product\n",
    "sample_space = [*product(coin, coin, coin, coin)]\n",
    "print(f'Sample space: {sample_space}')\n",
    "\n",
    "# first and last come up heads\n",
    "event_space = [*filter(lambda x: x[0] == x[3] == 'H', sample_space)]\n",
    "print(f'Event space: {event_space}')"
   ]
  },
  {
   "cell_type": "markdown",
   "metadata": {},
   "source": [
    "b. There are at least two consecutive flips that come up heads."
   ]
  },
  {
   "cell_type": "markdown",
   "metadata": {},
   "source": [
    "c. The first flip comes up tails and there are at least two consecutive flips that come up heads."
   ]
  }
 ],
 "metadata": {
  "interpreter": {
   "hash": "1977c1262a5a71e57f8e1e2a9337f4268800bf2d1a595fc1ecb322ccb8b2351d"
  },
  "kernelspec": {
   "display_name": "Python 3.9.0 ('.env': venv)",
   "language": "python",
   "name": "python3"
  },
  "language_info": {
   "codemirror_mode": {
    "name": "ipython",
    "version": 3
   },
   "file_extension": ".py",
   "mimetype": "text/x-python",
   "name": "python",
   "nbconvert_exporter": "python",
   "pygments_lexer": "ipython3",
   "version": "3.9.0"
  },
  "orig_nbformat": 4
 },
 "nbformat": 4,
 "nbformat_minor": 2
}
