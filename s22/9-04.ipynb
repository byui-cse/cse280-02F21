{
 "cells": [
  {
   "cell_type": "markdown",
   "metadata": {},
   "source": [
    "# Factoring\n",
    "\n",
    "Write a brute-force algorithm for factoring an integer $N$ based on Figure 9.4.1 and reproduced here:\n",
    "\n",
    "```\n",
    "Input: Integer N greater than 1.\n",
    "Output: \"Prime\" if N is prime. If N is composite, return two integers greater than 1 whose product is N.\n",
    "\n",
    "For x = 2 to N-1\n",
    "      If x evenly divides N,\n",
    "            Return( x, N/x )\n",
    "End-for\n",
    "\n",
    "Return( \"Prime\" )\n",
    "```"
   ]
  },
  {
   "cell_type": "markdown",
   "metadata": {},
   "source": [
    "Try a few numbers for the input $N$. Does this algorithm work well for large numbers? \n",
    "\n",
    "Try these numbers (all of which are Primes):\n",
    "39916801, 433494437, 87178291199, 10888869450418352160768000001"
   ]
  },
  {
   "cell_type": "code",
   "execution_count": 1,
   "metadata": {},
   "outputs": [
    {
     "name": "stdout",
     "output_type": "stream",
     "text": [
      "[416, 687, 108, 120, 115, 855, 535, 85, 89, 722]\n",
      "[(2, 208), (3, 229), (2, 54), (2, 60), (5, 23), (3, 285), (5, 107), (5, 17), 'Prime', (2, 361)]\n"
     ]
    }
   ],
   "source": [
    "# sample solution\n",
    "def factor(n):\n",
    "    for x in range(2, n):\n",
    "        if n % x == 0: # x evenly divides n\n",
    "            return (x, n//x)\n",
    "    return (\"Prime\")\n",
    "\n",
    "# Pick some random numbers\n",
    "import random\n",
    "random_nums = [random.randrange(1,1000) for _ in range(10)]\n",
    "print(random_nums)\n",
    "\n",
    "\n",
    "# Try out our algorithm with each of them\n",
    "result = [*map(lambda n: factor(n), random_nums)]\n",
    "print(result)\n",
    "\n",
    "\n"
   ]
  },
  {
   "cell_type": "code",
   "execution_count": 3,
   "metadata": {},
   "outputs": [
    {
     "data": {
      "text/plain": [
       "'Prime'"
      ]
     },
     "execution_count": 3,
     "metadata": {},
     "output_type": "execute_result"
    }
   ],
   "source": [
    "# Try with a larger number\n",
    "n = 39916801 # ~2s\n",
    "# n = 433494437 # ~20s\n",
    "# n = 8589935681 # ~1600s\n",
    "# n = 87178291199 # ~\n",
    "# n = 10888869450418352160768000001\n",
    "factor(n)"
   ]
  },
  {
   "cell_type": "markdown",
   "metadata": {},
   "source": [
    "Now modifiy this algorithm to make it more efficient by only testing factors up to $\\sqrt{N}$.\n"
   ]
  },
  {
   "cell_type": "code",
   "execution_count": 7,
   "metadata": {},
   "outputs": [],
   "source": [
    "# sample solution\n",
    "from math import floor, sqrt\n",
    "def factor_2(n):\n",
    "    for x in range(2, floor(sqrt(n))):\n",
    "        if n % x == 0: # x evenly divides n\n",
    "            return (x, n//x)\n",
    "    return (\"Prime\")\n",
    "\n"
   ]
  },
  {
   "cell_type": "markdown",
   "metadata": {},
   "source": [
    "Now use a lambda function with map"
   ]
  },
  {
   "cell_type": "code",
   "execution_count": 21,
   "metadata": {},
   "outputs": [
    {
     "name": "stdout",
     "output_type": "stream",
     "text": [
      "[2, 3]\n"
     ]
    }
   ],
   "source": [
    "n = 30\n",
    "factors = [*filter(lambda x: n%x==0, range(2,floor(sqrt(n))))]\n",
    "print(f'{\"prime\" if len(factors)==0 else factors}')"
   ]
  },
  {
   "cell_type": "code",
   "execution_count": 6,
   "metadata": {},
   "outputs": [
    {
     "data": {
      "text/plain": [
       "'Prime'"
      ]
     },
     "execution_count": 6,
     "metadata": {},
     "output_type": "execute_result"
    }
   ],
   "source": [
    "n = 39916801 # ~0.4s\n",
    "n = 433494437 # ~0.4s\n",
    "n = 8589935681 # ~0.4s\n",
    "n = 87178291199 # ~0.8s\n",
    "# n = 10888869450418352160768000001\n",
    "factor_2(n)"
   ]
  }
 ],
 "metadata": {
  "interpreter": {
   "hash": "1977c1262a5a71e57f8e1e2a9337f4268800bf2d1a595fc1ecb322ccb8b2351d"
  },
  "kernelspec": {
   "display_name": "Python 3.9.0 ('.env': venv)",
   "language": "python",
   "name": "python3"
  },
  "language_info": {
   "codemirror_mode": {
    "name": "ipython",
    "version": 3
   },
   "file_extension": ".py",
   "mimetype": "text/x-python",
   "name": "python",
   "nbconvert_exporter": "python",
   "pygments_lexer": "ipython3",
   "version": "3.9.0"
  },
  "orig_nbformat": 4
 },
 "nbformat": 4,
 "nbformat_minor": 2
}
