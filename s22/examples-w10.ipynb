{
 "cells": [
  {
   "cell_type": "markdown",
   "metadata": {},
   "source": [
    "## Conditional Probability"
   ]
  },
  {
   "cell_type": "markdown",
   "metadata": {},
   "source": [
    "Let's do 12.3.2 from Addition Exercises in the textbook, using Python.\n",
    "\n",
    "\n",
    "The letters {a, b, c, d, e, f, g} are put in a random order. Each permutation is equally likely. Define the following events:\n",
    "\n",
    "A: The letter b falls in the middle (with three before it and three after it)\n",
    "\n",
    "B: The letter c appears to the right of b, although c is not necessarily immediately to the right of b. For example, \"agbdcef\" would be an outcome in this event.\n",
    "\n",
    "C: The letters \"def\" occur together in that order (e.g. \"gdefbca\")\n",
    "\n",
    "\n",
    "1. Calculate the probability of each individual event. That is, calculate p(A), p(B), and p(C).\n",
    "\n",
    "2. What is p(A|C)?\n",
    "\n",
    "3. What is p(B|C)?\n",
    "\n",
    "4. What is p(A|B)?\n",
    "\n",
    "5. Which pairs of events among A, B, and C are independent?"
   ]
  },
  {
   "cell_type": "code",
   "execution_count": 1,
   "metadata": {},
   "outputs": [
    {
     "name": "stdout",
     "output_type": "stream",
     "text": [
      "|S| = 5040\n",
      "P(A): 0.14285714285714285\n",
      "P(B): 0.5\n",
      "P(C): 0.023809523809523808\n",
      "P(A|C): 0.1\n",
      "P(B|C): 0.5\n",
      "P(A|B): 0.14285714285714285\n"
     ]
    },
    {
     "data": {
      "text/plain": [
       "False"
      ]
     },
     "execution_count": 1,
     "metadata": {},
     "output_type": "execute_result"
    }
   ],
   "source": [
    "letters = {'a','b','c','d','e','f','g'}\n",
    "\n",
    "from itertools import permutations\n",
    "S = permutations(letters)\n",
    "\n",
    "S = list(S)\n",
    "print(f'|S| = {len(S)}')\n",
    "\n",
    "\n",
    "A = {x for x in S if x[3] == 'b'}\n",
    "B = {x for x in S if x.index('b') < x.index('c')}\n",
    "C = {x for x in S if 'def' in ''.join(x)}\n",
    "\n",
    "A = {*filter(lambda x: x[3] == 'b', S)}\n",
    "B = {*filter(lambda x: x.index('b') < x.index('c'), S)}\n",
    "C = {*filter(lambda x: 'def' in ''.join(x), S)}\n",
    "\n",
    "# Define P(E,S) = |E| / |S|\n",
    "P = lambda E,S: len(E) / len(S)\n",
    "\n",
    "print(f'P(A): {P(A,S)}')\n",
    "print(f'P(B): {P(B,S)}')\n",
    "print(f'P(C): {P(C,S)}')\n",
    "\n",
    "\n",
    "A_given_C = A.intersection(C)\n",
    "print(f'P(A|C): {P(A_given_C, C)}')\n",
    "\n",
    "B_given_C = B.intersection(C)\n",
    "print(f'P(B|C): {P(B_given_C, C)}')\n",
    "\n",
    "A_given_B = A.intersection(B)\n",
    "print(f'P(A|B): {P(A_given_B, B)}')\n",
    "\n",
    "# Which pairs are independent? Just look at the numbers and compare.\n"
   ]
  }
 ],
 "metadata": {
  "kernelspec": {
   "display_name": "Python 3.9.0 ('.env': venv)",
   "language": "python",
   "name": "python3"
  },
  "language_info": {
   "codemirror_mode": {
    "name": "ipython",
    "version": 3
   },
   "file_extension": ".py",
   "mimetype": "text/x-python",
   "name": "python",
   "nbconvert_exporter": "python",
   "pygments_lexer": "ipython3",
   "version": "3.9.0"
  },
  "orig_nbformat": 4,
  "vscode": {
   "interpreter": {
    "hash": "1977c1262a5a71e57f8e1e2a9337f4268800bf2d1a595fc1ecb322ccb8b2351d"
   }
  }
 },
 "nbformat": 4,
 "nbformat_minor": 2
}
