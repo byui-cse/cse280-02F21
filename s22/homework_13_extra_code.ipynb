{
 "cells": [
  {
   "cell_type": "code",
   "execution_count": null,
   "metadata": {},
   "outputs": [
    {
     "name": "stdout",
     "output_type": "stream",
     "text": [
      "a b c d e f g h i j k l m n o \n",
      "d e c g h f b j l n o m k i a "
     ]
    },
    {
     "data": {
      "text/plain": [
       "2"
      ]
     },
     "metadata": {},
     "output_type": "display_data"
    }
   ],
   "source": [
    "# Pre-order traversal\n",
    "tree = ['a', ['b', ['c', ['d'], ['e']], ['f', ['g'], ['h']]], ['i', ['j'], ['k', ['l'], ['m', ['n'], ['o']]]]]\n",
    "\n",
    "def process(v):\n",
    "    print(v, end=\" \")\n",
    "\n",
    "def preorder(T):\n",
    "    process(T[0])\n",
    "    for child in T[1:]:\n",
    "        preorder(child)\n",
    "\n",
    "preorder(tree)\n",
    "print()\n",
    "\n",
    "# Post-order traversal\n",
    "def postorder(T):\n",
    "    for child in T[1:]:\n",
    "        postorder(child)\n",
    "    process(T[0])\n",
    "\n",
    "postorder(tree)\n",
    "\n",
    "\n",
    "\n",
    "# leafcounting using postorder traversal\n",
    "leaf_count = dict()\n",
    "def countleaves(T):\n",
    "    for child in T[1:]:\n",
    "        countleaves(child)\n",
    "    if len(T) == 1: # it is a leaf\n",
    "        leaf_count[T[0]] = 1\n",
    "    else:\n",
    "        leaf_count[T[0]] = leaf_count[T[1][0]] + leaf_count[T[2][0]]\n",
    "\n",
    "countleaves(tree)\n",
    "leaf_count['c']"
   ]
  },
  {
   "cell_type": "code",
   "execution_count": null,
   "metadata": {},
   "outputs": [],
   "source": [
    "# leafcounting using postorder traversal\n",
    "tree = ['a', ['b', ['c', ['d'], ['e']], ['f', ['g'], ['h']]], ['i', ['j'], ['k', ['l'], ['m', ['n'], ['o']]]]]\n",
    "\n",
    "leaf_count = dict()\n",
    "def countleaves(T):\n",
    "    for child in T[1:]:\n",
    "        countleaves(child)\n",
    "    if len(T) == 1: # it is a leaf\n",
    "        leaf_count[T[0]] = 1\n",
    "    else:\n",
    "        leaf_count[T[0]] = leaf_count[T[1][0]] + leaf_count[T[2][0]]\n",
    "\n",
    "countleaves(tree)\n",
    "leaf_count['c']"
   ]
  },
  {
   "cell_type": "code",
   "execution_count": null,
   "metadata": {},
   "outputs": [
    {
     "data": {
      "text/plain": [
       "8"
      ]
     },
     "metadata": {},
     "output_type": "display_data"
    }
   ],
   "source": [
    "# redefine postorder and preorder to take a function as a parameter. this function will be the processing action.\n",
    "leaf_count = dict()\n",
    "\n",
    "def preorder(T, process):\n",
    "    process(T)\n",
    "    for child in T[1:]:\n",
    "        preorder(child, process)\n",
    "\n",
    "def postorder(T, process):\n",
    "    for child in T[1:]:\n",
    "        postorder(child, process)\n",
    "    process(T)\n",
    "\n",
    "def count(v):\n",
    "    if len(v) == 1: # it is a leaf\n",
    "        leaf_count[v[0]] = 1\n",
    "    else:\n",
    "        leaf_count[v[0]] = leaf_count[v[1][0]] + leaf_count[v[2][0]]\n",
    "\n",
    "postorder(tree, count)\n",
    "leaf_count['a']"
   ]
  }
 ],
 "metadata": {
  "kernelspec": {
   "display_name": "Python 3.9.0 ('.env': venv)",
   "language": "python",
   "name": "python3"
  },
  "language_info": {
   "name": "python",
   "version": "3.9.0"
  },
  "orig_nbformat": 4,
  "vscode": {
   "interpreter": {
    "hash": "1977c1262a5a71e57f8e1e2a9337f4268800bf2d1a595fc1ecb322ccb8b2351d"
   }
  }
 },
 "nbformat": 4,
 "nbformat_minor": 2
}
