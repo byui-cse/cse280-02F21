{
 "cells": [
  {
   "cell_type": "markdown",
   "metadata": {
    "id": "aGzI8fs9v_xs"
   },
   "source": [
    "# <font color=blue>Solve Some Logic Puzzles</font>\n",
    "## <font color=blue>Solutions</font>"
   ]
  },
  {
   "cell_type": "markdown",
   "metadata": {
    "id": "o2HZaLtGwMZj"
   },
   "source": [
    "## <font color=red>Rules</font>"
   ]
  },
  {
   "cell_type": "markdown",
   "metadata": {
    "id": "xFD58YKRwQW7"
   },
   "source": [
    "To reason logically and make correct inferences, you have to follow some rules --- Rules of Inference. Here are a few:\n"
   ]
  },
  {
   "cell_type": "markdown",
   "metadata": {
    "id": "wcSEOjSCw-EA"
   },
   "source": [
    "1. If you have $p$ and you have $p \\rightarrow q$ (if $p$ then $q$), you can infer $q$.\n",
    "2. If you have $\\lnot q$ and you have $p \\rightarrow q$ (if $p$ then $q$), you can infer $\\lnot p$.\n",
    "3. If you have $p \\rightarrow q$ and you have $q \\rightarrow r$, you can infer $p \\rightarrow r$.\n",
    "4. If you have $p \\lor q$ and you have $\\lnot q$, you can infer $p$."
   ]
  },
  {
   "cell_type": "markdown",
   "metadata": {
    "id": "oZZEwkpewCRR"
   },
   "source": [
    "Each rule is a tautology as shown below:"
   ]
  },
  {
   "cell_type": "markdown",
   "metadata": {
    "id": "pwjqIBxQwBsW"
   },
   "source": [
    "1. $(p \\land (p \\rightarrow q)) \\rightarrow q$ (modus ponens)\n",
    "2. $(\\lnot q \\land (p \\rightarrow q)) \\rightarrow \\lnot p$ (modus tollens)\n",
    "3. $((p \\rightarrow q) \\land (q \\rightarrow r)) \\rightarrow (p \\rightarrow r)$ (hypothetical syllogism)\n",
    "4. $((p \\lor q) \\land \\lnot q) \\rightarrow p$ (disjunctive syllogism)"
   ]
  },
  {
   "cell_type": "markdown",
   "metadata": {
    "id": "ph1mfmNQwR3u"
   },
   "source": [
    "## <font color=red>Easy Application</font>"
   ]
  },
  {
   "cell_type": "markdown",
   "metadata": {
    "id": "Cf1RWv__wR3v"
   },
   "source": [
    "Apply the above rules to the following:\n",
    "\n",
    "You are about to leave for school in the morning and discover that you don’t\n",
    "have your glasses.\n",
    "\n",
    "You know the following statements are true:\n",
    "\n",
    "a. If I was reading the newspaper in the kitchen, then my glasses are on the\n",
    "kitchen table.\\\n",
    "b. If my glasses are on the kitchen table, then I saw them at breakfast.\\\n",
    "c. I did not see my glasses at breakfast.\\\n",
    "d. I was reading the newspaper in the living room or I was reading the\n",
    "newspaper in the kitchen.\\\n",
    "e. If I was reading the newspaper in the living room then my glasses are on\n",
    "the coffee table.\n",
    "\n",
    "Where are your glasses?\n"
   ]
  },
  {
   "cell_type": "markdown",
   "metadata": {
    "id": "o_a4HBsrydUy"
   },
   "source": [
    "### <font color=purple>Hint</font>"
   ]
  },
  {
   "cell_type": "markdown",
   "metadata": {
    "id": "35U8HPxIyjYB"
   },
   "source": [
    "```\n",
    "Let RK = I was reading the newspaper in the kitchen,\n",
    "    GK = My glasses are on the kitchen table,\n",
    "    SB = I saw my glasses at breakfast,\n",
    "    RL = I was reading the newspaper in the living room,\n",
    "    GC = My glasses are on the coffee table.\n",
    "```\n",
    "\n",
    "You have the following as &ldquo;premises&rdquo;:\n",
    "\n",
    "1. ```RK``` $\\rightarrow$ ```GK```\n",
    "2. ```GK``` $\\rightarrow$ ```SB```\n",
    "3. $\\lnot$ ```SB```\n",
    "4. ```RL``` $\\lor$ ```RK```\n",
    "5. ```RL``` $\\rightarrow$ ```GC```\n"
   ]
  },
  {
   "cell_type": "markdown",
   "metadata": {
    "id": "3tAnhHY6zhn1"
   },
   "source": [
    "### <font color=brown>Answer</font>"
   ]
  },
  {
   "cell_type": "markdown",
   "metadata": {
    "id": "qm-4IJcozhn1"
   },
   "source": [
    "Starting with your premises, build your argument step by step:\n",
    "\n",
    "| Step | Inference | Reason       |\n",
    "|------|-----------|--------------|\n",
    "|    1 | ```RK``` $\\rightarrow$ ```GK```   | premise      |\n",
    "|    2 | ```GK``` $\\rightarrow$ ```SB```   | premise      |\n",
    "|    3 | $\\lnot$ ```SB```       | premise      |\n",
    "|    4 | ```RL``` $\\lor$ ```RK``` | premise      |\n",
    "|    5 | ```RL``` $\\rightarrow$ ```GC```   | premise      |\n",
    "|    6 | $\\lnot$ ```GK```       | 3, 2, Rule 2 |\n",
    "|    7 | $\\lnot$ ```RK```       | 6, 1, Rule 2 |\n",
    "|    8 | ```RL```        | 7, 4, Rule 4 |\n",
    "|    9 | ```GC```        | 8, 5, Rule 1 |\n",
    "\n",
    "Your glasses are on the coffee table."
   ]
  },
  {
   "cell_type": "markdown",
   "metadata": {
    "id": "4pVBvBHOwSRY"
   },
   "source": [
    "## <font color=red>Another Way?</font>"
   ]
  },
  {
   "cell_type": "markdown",
   "metadata": {
    "id": "SrEXGjoUwSRZ"
   },
   "source": [
    "Try to build a solution using Rule 3 somewhere.\n",
    "\n",
    "Is it a shorter (fewer rows) solution?\n"
   ]
  },
  {
   "cell_type": "markdown",
   "metadata": {
    "id": "XScs0nJJ1I-B"
   },
   "source": [
    "## <font color=red>Harder (But Not By Much)</font>"
   ]
  },
  {
   "cell_type": "markdown",
   "metadata": {
    "id": "jUDNWFdj1I-B"
   },
   "source": [
    "What conclusion(s) validly follow(s) from these two assumptions?\n",
    "1. Logic is difficult, or not many students like logic.\n",
    "2. If mathematics is easy, then logic is not difficult.\n",
    "\n",
    "a. Mathematics is not easy, if many students like logic.\\\n",
    "b. Not many students like logic, if mathematics is not easy.\\\n",
    "c. Mathematics is not easy or logic is difficult.\\\n",
    "d. Logic is not difficult or mathematics is not easy.\\\n",
    "e. If not many students like logic, then either mathematics is not easy or logic is not difficult.\n"
   ]
  },
  {
   "cell_type": "markdown",
   "metadata": {
    "id": "yp_dgXh1ShBg"
   },
   "source": [
    "## <font color=red>Harder Still</font>"
   ]
  },
  {
   "cell_type": "markdown",
   "metadata": {
    "id": "eSUBHeizShBg"
   },
   "source": [
    "First, the [Background of the Tardy Bus Problem](https://byui-cse.github.io/cse280-course/the-background-of-the-tardy-bus-problem.pdf).\n",
    "\n",
    "Second, the actual [Tardy Bus Problem](https://byui-cse.github.io/cse280-course/the-tardy-bus-problem.pdf).\n"
   ]
  }
 ],
 "metadata": {
  "colab": {
   "authorship_tag": "ABX9TyNq1cscmXwC6bKeJe4KnPEx",
   "name": "solve-some-logic-puzzles-solutions.ipynb",
   "private_outputs": true,
   "provenance": []
  },
  "kernelspec": {
   "display_name": "Python 3",
   "language": "python",
   "name": "python3"
  },
  "language_info": {
   "codemirror_mode": {
    "name": "ipython",
    "version": 3
   },
   "file_extension": ".py",
   "mimetype": "text/x-python",
   "name": "python",
   "nbconvert_exporter": "python",
   "pygments_lexer": "ipython3",
   "version": "3.9.0"
  }
 },
 "nbformat": 4,
 "nbformat_minor": 1
}
