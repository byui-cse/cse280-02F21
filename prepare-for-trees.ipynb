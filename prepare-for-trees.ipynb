{
 "cells": [
  {
   "cell_type": "markdown",
   "metadata": {
    "id": "T4k_cXGCvO_e"
   },
   "source": [
    "# <font color=blue>Prepare for Trees</font>\n"
   ]
  },
  {
   "cell_type": "markdown",
   "metadata": {
    "id": "-zm-e-32vWE9"
   },
   "source": [
    "## <font color=red>Instructions</font>\n"
   ]
  },
  {
   "cell_type": "markdown",
   "metadata": {
    "id": "z91NtZvDvXGr"
   },
   "source": [
    "Answer questions on the content from the book, Chapter 7 Trees, sections 7.1 - 7.8 only, and any first-level links therefrom.\n"
   ]
  },
  {
   "cell_type": "markdown",
   "metadata": {
    "id": "0nkumgUMvcaT"
   },
   "source": [
    "## <font color=red>Access</font>\n"
   ]
  },
  {
   "cell_type": "markdown",
   "metadata": {
    "id": "95VN5I9Mwd4N"
   },
   "source": [
    "[Take the Quiz](https://byui.instructure.com/courses/149380/quizzes/2724901)"
   ]
  }
 ],
 "metadata": {
  "colab": {
   "authorship_tag": "ABX9TyPjsiZTORaIxFoe+Q6qdK9Q",
   "collapsed_sections": [],
   "name": "prepare-for-trees.ipynb",
   "private_outputs": true,
   "provenance": []
  },
  "kernelspec": {
   "display_name": "Python 3",
   "language": "python",
   "name": "python3"
  },
  "language_info": {
   "codemirror_mode": {
    "name": "ipython",
    "version": 3
   },
   "file_extension": ".py",
   "mimetype": "text/x-python",
   "name": "python",
   "nbconvert_exporter": "python",
   "pygments_lexer": "ipython3",
   "version": "3.9.0"
  }
 },
 "nbformat": 4,
 "nbformat_minor": 1
}
