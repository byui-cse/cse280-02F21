{
 "cells": [
  {
   "cell_type": "markdown",
   "metadata": {
    "id": "9i-gc_PAMnA9"
   },
   "source": [
    "# <font color=blue>Learn More About Shortest Paths in Graphs</font>\n",
    "## <font color=blue>Teach One Another</font>\n"
   ]
  },
  {
   "cell_type": "markdown",
   "metadata": {
    "id": "GUdNPL67MtLh"
   },
   "source": [
    "## <font color=red>**TODO** Go Onward and Upward</font>\n"
   ]
  },
  {
   "cell_type": "markdown",
   "metadata": {
    "id": "2VNN76q1MvTl"
   },
   "source": [
    "Now think about how to use the [USA graph](https://byui-cse.github.io/cse280-course/images/usa-shortest-path.png) to find the shortest path (driving-distance-wise) from (Sacramento) California to (Augusta) Maine, **driving through all the other capital cities** on the way!\n"
   ]
  },
  {
   "cell_type": "code",
   "execution_count": null,
   "metadata": {
    "id": "Y7VjHbC3M3Qy"
   },
   "outputs": [],
   "source": [
    "!curl -s -O https://byui-cse.github.io/cse280-course/usa_graph_with_intercity_distances.txt"
   ]
  },
  {
   "cell_type": "code",
   "execution_count": null,
   "metadata": {
    "id": "h9p6RzMAM53a"
   },
   "outputs": [],
   "source": [
    "# Courtesy Kyle Mueller\n",
    "\n",
    "from collections import defaultdict\n",
    "\n",
    "def read_graph_links_functional(filename):\n",
    "  with open(filename, 'r') as f:\n",
    "    return [*map(str.split,f.readlines())]\n",
    "\n",
    "def create_graph_weighted(links):\n",
    "  neighbors = defaultdict(dict)\n",
    "  for node1, node2, weight in links:\n",
    "    weight = int(weight)\n",
    "    neighbors[node1][node2] = weight\n",
    "    neighbors[node2][node1] = weight\n",
    "  return neighbors"
   ]
  },
  {
   "cell_type": "code",
   "execution_count": null,
   "metadata": {
    "id": "lX4CvT22M74E"
   },
   "outputs": [],
   "source": [
    "usa_graph = create_graph_weighted(read_graph_links_functional('usa_graph_with_intercity_distances.txt'))"
   ]
  },
  {
   "cell_type": "code",
   "execution_count": null,
   "metadata": {
    "id": "fvSfKM8jM97X"
   },
   "outputs": [],
   "source": [
    "usa_graph"
   ]
  },
  {
   "cell_type": "code",
   "execution_count": null,
   "metadata": {
    "id": "WEXZjmmUM_GP"
   },
   "outputs": [],
   "source": [
    "usa_graph['CA']['NV']"
   ]
  },
  {
   "cell_type": "code",
   "execution_count": null,
   "metadata": {
    "id": "LlzZKDqJNBqD"
   },
   "outputs": [],
   "source": [
    "def link_distance(c1, c2):\n",
    "  global usa_graph\n",
    "  return usa_graph[c1].get(c2, 9999)"
   ]
  },
  {
   "cell_type": "code",
   "execution_count": null,
   "metadata": {
    "id": "u4_JIvHFNDh8"
   },
   "outputs": [],
   "source": [
    "link_distance('CA', 'NV')"
   ]
  },
  {
   "cell_type": "code",
   "execution_count": null,
   "metadata": {
    "id": "8yqZJ6udNE2e"
   },
   "outputs": [],
   "source": [
    "link_distance('CA', 'MT')"
   ]
  },
  {
   "cell_type": "code",
   "execution_count": null,
   "metadata": {
    "id": "uRqcX1uQNGJc"
   },
   "outputs": [],
   "source": [
    "def path_distance(path):\n",
    "  return sum(map(link_distance, path, path[1:]))"
   ]
  },
  {
   "cell_type": "code",
   "execution_count": null,
   "metadata": {
    "id": "c2E-i3zKNK2u"
   },
   "outputs": [],
   "source": [
    "path_distance(['CA', 'NV', 'ID', 'MT'])"
   ]
  }
 ],
 "metadata": {
  "colab": {
   "authorship_tag": "ABX9TyMnKVymShvx4hr7pbowrx+G",
   "collapsed_sections": [],
   "name": "learn-more-about-shortest-paths-in-graphs.ipynb",
   "private_outputs": true,
   "provenance": []
  },
  "kernelspec": {
   "display_name": "Python 3",
   "language": "python",
   "name": "python3"
  },
  "language_info": {
   "codemirror_mode": {
    "name": "ipython",
    "version": 3
   },
   "file_extension": ".py",
   "mimetype": "text/x-python",
   "name": "python",
   "nbconvert_exporter": "python",
   "pygments_lexer": "ipython3",
   "version": "3.9.0"
  }
 },
 "nbformat": 4,
 "nbformat_minor": 1
}
