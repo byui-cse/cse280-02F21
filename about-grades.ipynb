{
 "cells": [
  {
   "cell_type": "markdown",
   "metadata": {
    "id": "GUci1UKbBPx3"
   },
   "source": [
    "# <font color=blue>About Grades</font>\n",
    "## <font color=blue>and Grading</font>"
   ]
  },
  {
   "cell_type": "markdown",
   "metadata": {
    "id": "CS-PAjxXBY9c"
   },
   "source": [
    "## <font color=red>Grades are degrading</font>"
   ]
  },
  {
   "cell_type": "markdown",
   "metadata": {
    "id": "Uk5hv0mkBcEb"
   },
   "source": [
    "Grades are evil. They are bad, both for the grader and the gradee. They presuppose that you can take a complicated, infinitely-nuanced, multi-dimensionally-faceted human being, and reduce that human being's performance on some intellectual task to a **number**! And a very limited range number at that."
   ]
  },
  {
   "cell_type": "markdown",
   "metadata": {
    "id": "dMuOEuUsMnwa"
   },
   "source": [
    "When I say number, I include letter grades, which you know are just numbers in disguise."
   ]
  },
  {
   "cell_type": "markdown",
   "metadata": {
    "id": "4S7tEhpWCIaH"
   },
   "source": [
    "[BYU-Idaho&rsquo;s Grading System](http://www.byui.edu/student-records/grades/grading-system) is better than most, but still..."
   ]
  },
  {
   "cell_type": "markdown",
   "metadata": {
    "id": "dCu_7CCRNwZd"
   },
   "source": [
    "## <font color=red>The Debate Rages On</font>"
   ]
  },
  {
   "cell_type": "markdown",
   "metadata": {
    "id": "B8GmQHOVGYIg"
   },
   "source": [
    "Here's a short excerpt from a blog post that I found originally at ecologyofeducation.net/wsite/the-folly-of-rubrics-and-grades (link now dead), and that I tracked down the author of ([see below](#scrollTo=ciqHhcCBLh6R&line=5&uniqifier=1)):\n",
    "\n",
    "> There is absolutely nothing objective about grading, and in 1976, Paul Dressel wrote a brilliant summary of what a grade actually means:\n",
    "\n",
    "> > A mark or grade is an inadequate report of an inaccurate judgment by a biased and variable judge of the extent to which a student has attained an indefinite amount of material.\n",
    "\n",
    "> A more profound or practical statement on the subject is hard to imagine.  \n",
    " Grades and rubrics are a solution in search of a problem that will further destroy learning for its own sake."
   ]
  },
  {
   "cell_type": "markdown",
   "metadata": {
    "id": "JrJp_8mVLb-E"
   },
   "source": [
    "Paul Dressel gets quoted a lot in education circles. For example..."
   ]
  },
  {
   "cell_type": "markdown",
   "metadata": {
    "id": "nOBL8Zv5K8EV"
   },
   "source": [
    "[Grading and Reporting Student Learning](http://tguskey.com/wp-content/uploads/Grading-and-Reporting-Student-Learning.pdf)\n"
   ]
  },
  {
   "cell_type": "markdown",
   "metadata": {
    "id": "tlgMKsRXNO_s"
   },
   "source": [
    "So if grades and grading are problematic, why do we have them (do it)?\n",
    "\n",
    "In my 19 years of teaching, I have never found a satisfactory answer.\n",
    "\n",
    "The best I can suggest is that we [change the focus to learning](https://colab.research.google.com/github/byui-cse/cse280-02F21/blob/main/about-learning.ipynb) instead!"
   ]
  },
  {
   "cell_type": "markdown",
   "metadata": {
    "id": "126iEh5wC-5B"
   },
   "source": [
    "## Citation"
   ]
  },
  {
   "cell_type": "markdown",
   "metadata": {
    "id": "ciqHhcCBLh6R"
   },
   "source": [
    "Found on his LinkedIn page:\n",
    "\n",
    "Jason Flom, currently Director at Cornerstone Learning Community at the University of Florida, was a Founding Editor (until 2016) of Ecology of Education...\n",
    "\n",
    "> ... a group blog designed to give a voice to people working in various sectors of the education industry. Just as biodiversity is an indicator of an ecosystem's health, diversity of voices leads to a more in-depth understanding of issues in education. It also provides new avenues for exploring the landscape of learning.\n"
   ]
  }
 ],
 "metadata": {
  "colab": {
   "authorship_tag": "ABX9TyPqP94teOdF0gf+gY2YF3p0",
   "name": "about-grades.ipynb",
   "private_outputs": true,
   "provenance": []
  },
  "kernelspec": {
   "display_name": "Python 3",
   "language": "python",
   "name": "python3"
  },
  "language_info": {
   "codemirror_mode": {
    "name": "ipython",
    "version": 3
   },
   "file_extension": ".py",
   "mimetype": "text/x-python",
   "name": "python",
   "nbconvert_exporter": "python",
   "pygments_lexer": "ipython3",
   "version": "3.9.0"
  }
 },
 "nbformat": 4,
 "nbformat_minor": 1
}
