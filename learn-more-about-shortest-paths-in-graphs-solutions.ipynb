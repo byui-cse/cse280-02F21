{
 "cells": [
  {
   "cell_type": "markdown",
   "metadata": {
    "id": "9i-gc_PAMnA9"
   },
   "source": [
    "# <font color=blue>Learn Even More About Shortest Paths in Graphs</font>\n",
    "## <font color=blue>Solutions</font>\n"
   ]
  },
  {
   "cell_type": "markdown",
   "metadata": {
    "id": "GUdNPL67MtLh"
   },
   "source": [
    "## <font color=red>**DONE** Go Onward and Upward</font>\n"
   ]
  },
  {
   "cell_type": "code",
   "execution_count": null,
   "metadata": {
    "id": "Y7VjHbC3M3Qy"
   },
   "outputs": [],
   "source": [
    "!curl -s -O https://byui-cse.github.io/cse280-course/usa_graph_with_intercity_distances.txt"
   ]
  },
  {
   "cell_type": "code",
   "execution_count": null,
   "metadata": {
    "id": "h9p6RzMAM53a"
   },
   "outputs": [],
   "source": [
    "# Code by Kyle Mueller\n",
    "\n",
    "from collections import defaultdict\n",
    "\n",
    "def read_graph_links_functional(filename):\n",
    "  with open(filename, 'r') as f:\n",
    "    return [*map(str.split,f.readlines())]\n",
    "\n",
    "def create_graph_weighted(links):\n",
    "  neighbors = defaultdict(dict)\n",
    "  for node1, node2, weight in links:\n",
    "    weight = int(weight)\n",
    "    neighbors[node1][node2] = weight\n",
    "    neighbors[node2][node1] = weight\n",
    "  return neighbors"
   ]
  },
  {
   "cell_type": "code",
   "execution_count": null,
   "metadata": {
    "id": "lX4CvT22M74E"
   },
   "outputs": [],
   "source": [
    "usa_graph = create_graph_weighted(read_graph_links_functional('usa_graph_with_intercity_distances.txt'))"
   ]
  },
  {
   "cell_type": "markdown",
   "metadata": {},
   "source": [
    "Here's one path that's pretty good:"
   ]
  },
  {
   "cell_type": "code",
   "execution_count": null,
   "metadata": {
    "id": "cyOQngc8NATa"
   },
   "outputs": [],
   "source": [
    "usa_CA_ME = ['CA', 'NV', 'OR', 'WA', 'ID', 'UT', 'AZ', 'NM', 'CO', 'WY', 'MT', 'ND', 'SD', 'MN', 'WI', 'IA', 'NE', 'KS', 'MO', 'IL', 'IN', 'MI', 'OH', 'WV', 'KY', 'TN', 'AR', 'OK', 'TX', 'LA', 'MS', 'AL', 'FL', 'GA', 'SC', 'NC', 'VA', 'MD', 'DE', 'PA', 'NJ', 'NY', 'CT', 'RI', 'MA', 'VT', 'NH', 'ME']"
   ]
  },
  {
   "cell_type": "code",
   "execution_count": null,
   "metadata": {
    "id": "LlzZKDqJNBqD"
   },
   "outputs": [],
   "source": [
    "def link_distance(c1, c2):\n",
    "  global usa_graph\n",
    "  return usa_graph[c1].get(c2, 9999)"
   ]
  },
  {
   "cell_type": "code",
   "execution_count": null,
   "metadata": {
    "id": "uRqcX1uQNGJc"
   },
   "outputs": [],
   "source": [
    "def path_distance(path):\n",
    "  return sum(map(link_distance, path, path[1:]))"
   ]
  },
  {
   "cell_type": "code",
   "execution_count": null,
   "metadata": {
    "id": "EgeEDOfTNIgz"
   },
   "outputs": [],
   "source": [
    "path_distance(usa_CA_ME)"
   ]
  },
  {
   "cell_type": "markdown",
   "metadata": {},
   "source": [
    "But 12186 is not the best we can do! If we change the order of the first 11 states we can do better."
   ]
  },
  {
   "cell_type": "code",
   "execution_count": null,
   "metadata": {
    "id": "7h4yHR6NNJxe"
   },
   "outputs": [],
   "source": [
    "path_distance(usa_CA_ME[:11])"
   ]
  },
  {
   "cell_type": "code",
   "execution_count": null,
   "metadata": {
    "id": "c2E-i3zKNK2u"
   },
   "outputs": [],
   "source": [
    "import functools, math, operator, sys\n",
    "from itertools import permutations\n",
    "\n",
    "if sys.version_info >= (3, 8):\n",
    "  product = math.prod\n",
    "else:\n",
    "  product = functools.partial(functools.reduce, operator.mul)"
   ]
  },
  {
   "cell_type": "code",
   "execution_count": null,
   "metadata": {
    "id": "ytDCixELNMmt"
   },
   "outputs": [],
   "source": [
    "# How big is 47 factorial?\n",
    "product(range(1, 48))"
   ]
  },
  {
   "cell_type": "code",
   "execution_count": null,
   "metadata": {
    "id": "se2ZCkDlNN9h"
   },
   "outputs": [],
   "source": [
    "# Test the permutations function from itertools.\n",
    "# 4! is small enough to list\n",
    "list(map(''.join, permutations('ABCD')))"
   ]
  },
  {
   "cell_type": "code",
   "execution_count": null,
   "metadata": {
    "id": "rum22n_INPF9"
   },
   "outputs": [],
   "source": [
    "# Not so much 10! permutations:\n",
    "ll = list(permutations(range(10)))"
   ]
  },
  {
   "cell_type": "code",
   "execution_count": null,
   "metadata": {
    "id": "fHtXFffiNSVL"
   },
   "outputs": [],
   "source": [
    "# Too big to print!\n",
    "len(ll)"
   ]
  },
  {
   "cell_type": "code",
   "execution_count": null,
   "metadata": {
    "id": "X4GAJoO7NTS4"
   },
   "outputs": [],
   "source": [
    "#@title Which states should permute? {display-mode: \"form\"}\n",
    "states_to_permute = ['AZ', 'CA', 'CO', 'ID', 'NM', 'NV', 'OR', 'UT', 'WY']"
   ]
  },
  {
   "cell_type": "code",
   "execution_count": null,
   "metadata": {
    "id": "FyyfCxKoNYBO"
   },
   "outputs": [],
   "source": [
    "# Starting at Washington instead of California is the key!\n",
    "def path_distance_to_minimize(path):\n",
    "  \"\"\"Add to the front the link that goes from WA to the first of the path being permuted,\n",
    "     and append the link from the last of the permuted path to MT.\n",
    "     The goal is for that distance to be 3679, so that the total distance is 11698.\n",
    "  \"\"\"\n",
    "  return link_distance('WA', path[0]) + path_distance(path) + link_distance(path[-1], 'MT')"
   ]
  },
  {
   "cell_type": "code",
   "execution_count": null,
   "metadata": {
    "id": "7XPDgBZBNVN6"
   },
   "outputs": [],
   "source": [
    "def find_shortest_initial_path(starting_path):\n",
    "  distance_to_beat = 9999\n",
    "  best_path_so_far = None\n",
    "  for path in permutations(starting_path):\n",
    "    distance = path_distance_to_minimize(path)\n",
    "    if distance < distance_to_beat:\n",
    "      distance_to_beat = distance\n",
    "      best_path_so_far = path\n",
    "  return distance_to_beat, best_path_so_far"
   ]
  },
  {
   "cell_type": "code",
   "execution_count": null,
   "metadata": {
    "id": "mXPUIcTcNWqA"
   },
   "outputs": [],
   "source": [
    "find_shortest_initial_path(states_to_permute)"
   ]
  },
  {
   "cell_type": "code",
   "execution_count": null,
   "metadata": {},
   "outputs": [],
   "source": [
    "# Double check\n",
    "path_distance(['WA', 'OR', 'CA', 'NV', 'AZ', 'NM', 'CO', 'WY', 'UT', 'ID', 'MT'])"
   ]
  },
  {
   "cell_type": "code",
   "execution_count": null,
   "metadata": {},
   "outputs": [],
   "source": [
    "# For a total distance of:\n",
    "path_distance(['WA', 'OR', 'CA', 'NV', 'AZ', 'NM', 'CO', 'WY', 'UT', 'ID', 'MT', 'ND', 'SD', 'MN', 'WI', 'IA', 'NE', 'KS', 'MO', 'IL', 'IN', 'MI', 'OH', 'WV', 'KY', 'TN', 'AR', 'OK', 'TX', 'LA', 'MS', 'AL', 'FL', 'GA', 'SC', 'NC', 'VA', 'MD', 'DE', 'PA', 'NJ', 'NY', 'CT', 'RI', 'MA', 'VT', 'NH', 'ME'])"
   ]
  }
 ],
 "metadata": {
  "colab": {
   "authorship_tag": "ABX9TyMnKVymShvx4hr7pbowrx+G",
   "collapsed_sections": [],
   "name": "learn-more-about-shortest-paths-in-graphs-solutions.ipynb",
   "private_outputs": true,
   "provenance": []
  },
  "kernelspec": {
   "display_name": "Python 3",
   "language": "python",
   "name": "python3"
  },
  "language_info": {
   "codemirror_mode": {
    "name": "ipython",
    "version": 3
   },
   "file_extension": ".py",
   "mimetype": "text/x-python",
   "name": "python",
   "nbconvert_exporter": "python",
   "pygments_lexer": "ipython3",
   "version": "3.9.0"
  }
 },
 "nbformat": 4,
 "nbformat_minor": 1
}
