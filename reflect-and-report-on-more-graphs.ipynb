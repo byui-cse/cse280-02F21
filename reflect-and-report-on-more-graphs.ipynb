{
 "cells": [
  {
   "cell_type": "markdown",
   "metadata": {
    "id": "4OQVXhcMNQb_"
   },
   "source": [
    "# <font color=blue>Reflect and Report on More Graphs</font>\n",
    "## <font color=blue>Prepare</font>"
   ]
  },
  {
   "cell_type": "markdown",
   "metadata": {
    "id": "6tQ8-OyaNVWz"
   },
   "source": [
    "## <font color=red>Instructions</font>\n"
   ]
  },
  {
   "cell_type": "markdown",
   "metadata": {
    "id": "qotourFLNcl9"
   },
   "source": [
    "You will be asked to assert the usual:\n"
   ]
  },
  {
   "cell_type": "markdown",
   "metadata": {
    "id": "zPIY-ExMNc34"
   },
   "source": [
    "* I attended class on Tuesday this week.\n",
    "* I participated in the In-Class Exercise(s) on Tuesday this week.\n",
    "* I attended class on Thursday this week.\n",
    "* I participated in the In-Class Exercise(s) on Thursday this week.\n"
   ]
  },
  {
   "cell_type": "markdown",
   "metadata": {
    "id": "G8X_rF8VNgDQ"
   },
   "source": [
    "## <font color=red>Access</font>\n"
   ]
  },
  {
   "cell_type": "markdown",
   "metadata": {
    "id": "d6GfTbZMNhwZ"
   },
   "source": [
    "[Take the Self-Assessment](https://byui.instructure.com/courses/149380/quizzes/2724895)"
   ]
  }
 ],
 "metadata": {
  "colab": {
   "authorship_tag": "ABX9TyNzYuVjdk3wbUzHnflWQVvU",
   "collapsed_sections": [],
   "name": "reflect-and-report-on-more-graphs.ipynb",
   "private_outputs": true,
   "provenance": []
  },
  "kernelspec": {
   "display_name": "Python 3",
   "language": "python",
   "name": "python3"
  },
  "language_info": {
   "codemirror_mode": {
    "name": "ipython",
    "version": 3
   },
   "file_extension": ".py",
   "mimetype": "text/x-python",
   "name": "python",
   "nbconvert_exporter": "python",
   "pygments_lexer": "ipython3",
   "version": "3.9.0"
  }
 },
 "nbformat": 4,
 "nbformat_minor": 1
}
