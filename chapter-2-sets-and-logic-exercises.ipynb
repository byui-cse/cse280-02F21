{
 "cells": [
  {
   "cell_type": "markdown",
   "metadata": {
    "id": "TnVHqhsGXNRo"
   },
   "source": [
    "# <font color=blue>Chapter 2 Sets and Logic Exercises</font>\n",
    "## <font color=blue>Prepare</font>"
   ]
  },
  {
   "cell_type": "markdown",
   "metadata": {
    "id": "yAbrb0Rjw5PN"
   },
   "source": [
    "## 2.1 Set the Stage"
   ]
  },
  {
   "cell_type": "markdown",
   "metadata": {
    "id": "Ps9VWGU6w5PO"
   },
   "source": [
    "### Exercise 2.1.1"
   ]
  },
  {
   "cell_type": "markdown",
   "metadata": {
    "id": "8Utd8McNw5PO"
   },
   "source": [
    "Look up some of the books linked to in the sidenotes of this section. Learn anything intriguing?"
   ]
  },
  {
   "cell_type": "markdown",
   "metadata": {
    "id": "yS0lzihiwv17"
   },
   "source": [
    "## 2.2 Start with Propositions"
   ]
  },
  {
   "cell_type": "markdown",
   "metadata": {
    "id": "MH-jwFMfYPAV"
   },
   "source": [
    "### Exercise 2.2.1"
   ]
  },
  {
   "cell_type": "markdown",
   "metadata": {
    "id": "2pcAJcFCYS42"
   },
   "source": [
    "Write three propositions and three non-propositions. Make them pithy."
   ]
  },
  {
   "cell_type": "code",
   "execution_count": null,
   "metadata": {
    "id": "CMK5nDJTwhlM"
   },
   "outputs": [],
   "source": [
    "#@title Hint {display-mode: \"form\"}\n",
    "from codecs import decode\n",
    "\n",
    "hint = '''\n",
    "Rknzcyrf:\n",
    "\n",
    "|                                                                       | Cebcbfvgvba? | Cvgul? |\n",
    "|-----------------------------------------------------------------------|-------------|--------|\n",
    "| Rq vf gnyy.                                                           | Lrf | Lrf |\n",
    "| Abj vf gur gvzr sbe nyy tbbq zra gb pbzr gb gur nvq bs gurve pbhagel. | Lrf | Ab |\n",
    "| Qhpx! | Ab | Lrf |\n",
    "| Qvq lbh xabj gung abj vf gur gvzr sbe nyy tbbq zra gb pbzr gb gur nvq bs gurve pbhagel? | Ab | Ab |\n",
    "'''\n",
    "print(decode(hint, 'rot-13'))"
   ]
  },
  {
   "cell_type": "code",
   "execution_count": null,
   "metadata": {
    "id": "-s48Ckg933mP"
   },
   "outputs": [],
   "source": [
    "#@title Answer {display-mode: \"form\"}\n",
    "'It varies from student to student.'"
   ]
  },
  {
   "cell_type": "markdown",
   "metadata": {
    "id": "bb3lX89z4Ol_"
   },
   "source": [
    "### Exercise 2.2.2"
   ]
  },
  {
   "cell_type": "markdown",
   "metadata": {
    "id": "4Aae06Dm4Rzg"
   },
   "source": [
    "Put the proposition \"x is a member of the set of English alphabet consonants\" in symbolic logic terms, using $C$ as the symbol naming the set of consonants.\n"
   ]
  },
  {
   "cell_type": "code",
   "execution_count": null,
   "metadata": {
    "id": "OfYxOZoh5Fsu"
   },
   "outputs": [],
   "source": [
    "#@title Hint {display-mode: \"form\"}\n",
    "hint = 'Guvf vf irel fgenvtugsbejneq. Guerr flzobyf ner nyy gung ner pnyyrq sbe.'\n",
    "print(decode(hint, 'rot-13'))"
   ]
  },
  {
   "cell_type": "code",
   "execution_count": null,
   "metadata": {
    "id": "QgVGffZG5x30"
   },
   "outputs": [],
   "source": [
    "#@title Answer {display-mode: \"form\"}\n",
    "'$x \\in C$'"
   ]
  },
  {
   "cell_type": "markdown",
   "metadata": {
    "id": "QX0eSP5o5-le"
   },
   "source": [
    "### Exercise 2.2.3"
   ]
  },
  {
   "cell_type": "markdown",
   "metadata": {
    "id": "3dH0K6SS6A63"
   },
   "source": [
    "Which of the following are propositions? If so, are they true or false?\n",
    "1. $2 + 2 = 4$.\n",
    "2. $2 + 1 = 4$.\n",
    "3. Toronto is the capital of Germany.\n",
    "4. Read these questions carefully.\n",
    "5. $x + y + z = q$.\n",
    "6. What time is it?\n",
    "7. $2x + 3 = 9$.\n",
    "8. Jump!"
   ]
  },
  {
   "cell_type": "code",
   "execution_count": null,
   "metadata": {
    "id": "Rb_QcwuZ6uNE"
   },
   "outputs": [],
   "source": [
    "#@title Hint {display-mode: \"form\"}\n",
    "hint = 'Gurfr ner irel fgenvtugsbejneq. Jvgu ncbybtvrf gb nal Pnanqvnaf be Treznaf (3). Erzrzore, pbzznaqf (vzcrengvirf) naq dhrfgvbaf ner abg cebcbfvgvbaf.'\n",
    "print(decode(hint, 'rot-13'))"
   ]
  },
  {
   "cell_type": "code",
   "execution_count": null,
   "metadata": {
    "id": "Yr0q8-Qu7euo"
   },
   "outputs": [],
   "source": [
    "#@title Answer {display-mode: \"form\"}\n",
    "'''1. Yes, true.\n",
    "2. Yes, false.\n",
    "3. Yes, false.\n",
    "4. No, N/A.\n",
    "5. It depends. What are the values of $x$, $y$, $z$, and $q$?\n",
    "6. No, N/A.\n",
    "7. It depends on knowing the value of $x$.\n",
    "8. No, N/A.\n",
    "'''"
   ]
  },
  {
   "cell_type": "markdown",
   "metadata": {
    "id": "OnTW9qdR8IVC"
   },
   "source": [
    "### Exercise 2.2.4"
   ]
  },
  {
   "cell_type": "markdown",
   "metadata": {
    "id": "SR_RYW_Q8KNd"
   },
   "source": [
    "Are the following **simple** propositions or **compound** propositions?\n",
    "1. Weeks are shorter than months.\n",
    "2. Days are longer than hours and minutes.\n",
    "3. Hours are long than minutes and seconds are shorter than minutes.\n",
    "4. People can fly or pigs can sing."
   ]
  },
  {
   "cell_type": "code",
   "execution_count": null,
   "metadata": {
    "id": "IZQ4ndHz8zBR"
   },
   "outputs": [],
   "source": [
    "#@title Hint {display-mode: \"form\"}\n",
    "hint = 'Fgenvtugsbejneq, ohg or pnershy ba (2)!'\n",
    "print(decode(hint, 'rot-13'))"
   ]
  },
  {
   "cell_type": "code",
   "execution_count": null,
   "metadata": {
    "id": "ZqYxE_ek9Ryo"
   },
   "outputs": [],
   "source": [
    "#@title Answer {display-mode: \"form\"}\n",
    "'''\n",
    "1. Simple.\n",
    "2. Compound. The statement is a conjunction of two simple statements: \"Days are longer than hours\" and \"Days are longer than minutes.\"\n",
    "3. Compound. The statement is an obvious conjunction.\n",
    "4. Compound. The statement is a disjunction.\n",
    "'''"
   ]
  },
  {
   "cell_type": "markdown",
   "metadata": {
    "id": "Qefn9ogh-Nm6"
   },
   "source": [
    "## 2.3 Modeling Stuff"
   ]
  },
  {
   "cell_type": "markdown",
   "metadata": {
    "id": "dv-mx8l--QZG"
   },
   "source": [
    "### Exercise 2.3.1"
   ]
  },
  {
   "cell_type": "markdown",
   "metadata": {
    "id": "oTm2TNcE_XaF"
   },
   "source": [
    "Express in English the negation of the following propositions:\n",
    "\n",
    "1. Two plus two is four.\n",
    "2. Two plus two equals four.\n",
    "3. Toronto is the capital of Germany.\n",
    "4. A total eclipse happens infrequently.\n",
    "5. Special measures must be taken to deal with the current situation."
   ]
  },
  {
   "cell_type": "code",
   "execution_count": null,
   "metadata": {
    "id": "In2So1hdAEyj"
   },
   "outputs": [],
   "source": [
    "#@title Hint {display-mode: \"form\"}\n",
    "'''\n",
    "Do **not** use the \"It is not the case that\" prefix trick.\n",
    "1. Make it sound like good English.\n",
    "2. Ditto.\n",
    "3. Ditto.\n",
    "4. Did you see the one on August 21st, 2017?\n",
    "5. Before it gets out of hand.\n",
    "'''"
   ]
  },
  {
   "cell_type": "code",
   "execution_count": null,
   "metadata": {
    "id": "ATRTlWRAAwr9"
   },
   "outputs": [],
   "source": [
    "#@title Answer {display-mode: \"form\"}\n",
    "'''\n",
    "1. Two plus two is not four.\n",
    "2. Two plus two does not equal four.\n",
    "3. Toronto is not the capital of Germany.\n",
    "4. Two possibilities: \"A total eclipse does not happen infrequently.\" or \"A\n",
    "total eclipse happens frequently.\"\n",
    "5. Special measures must not be taken to deal with the current situation.\n",
    "'''"
   ]
  },
  {
   "cell_type": "markdown",
   "metadata": {
    "id": "cka7gs7GBS72"
   },
   "source": [
    "### Exercise 2.3.2"
   ]
  },
  {
   "cell_type": "markdown",
   "metadata": {
    "id": "mbd0-wcaBoAi"
   },
   "source": [
    "Let $p$ be the proposition \"I studied.\" and $q$ be the proposition \"I got an A on the test.\" Express the following symbolic propositions in English:\n",
    "1. $p \\land q$.\n",
    "2. $\\lnot p \\land q$.\n",
    "3. $p \\land \\lnot q$.\n",
    "4. $\\lnot p \\land \\lnot q$.\n",
    "5. $p \\lor q$.\n",
    "6. $\\lnot p \\lor q$.\n",
    "7. $p \\lor \\lnot q$.\n",
    "8. $\\lnot p \\lor \\lnot q$.\n"
   ]
  },
  {
   "cell_type": "code",
   "execution_count": null,
   "metadata": {
    "id": "fGHCatUaCkNc"
   },
   "outputs": [],
   "source": [
    "#@title Hint {display-mode: \"form\"}\n",
    "'''\n",
    "1. Substitute $p$ and $q$ as appropriate.\n",
    "2. You got lucky.\n",
    "3. Try studying harder.\n",
    "4. Are you surprised?\n",
    "5. Continue to use the same $p$ and $q$.\n",
    "6. Which is it?\n",
    "7. It's better to study.\n",
    "8. Reconsider how you study.\n",
    "'''"
   ]
  },
  {
   "cell_type": "code",
   "execution_count": null,
   "metadata": {
    "id": "mftXQPigC6Ai"
   },
   "outputs": [],
   "source": [
    "#@title Answer {display-mode: \"form\"}\n",
    "'''\n",
    "1. I studied and I got an A on the test.\n",
    "2. I did not study and I got an A on the test.\n",
    "3. I studied but I did not get an A on the test. (Logically speaking, \"but\" means \"and\" --- and it sounds better here.)\n",
    "4. I did not study and I did not get an A on the test.\n",
    "5. I studied or I got an A on the test.\n",
    "6. I did not study or I got an A on the test.\n",
    "7. I studied or I did not get an A on the test.\n",
    "8. I did not study or I did not get an A on the test.\n",
    "'''"
   ]
  },
  {
   "cell_type": "markdown",
   "metadata": {
    "id": "fBouumi6Ej4J"
   },
   "source": [
    "## 2.4 Exclusive and Inclusive"
   ]
  },
  {
   "cell_type": "markdown",
   "metadata": {
    "id": "7IPcft9pEagO"
   },
   "source": [
    "### Exercise 2.4.1"
   ]
  },
  {
   "cell_type": "markdown",
   "metadata": {
    "id": "CMFXYycZFBms"
   },
   "source": [
    "Which \"or\" is the intended meaning (which makes more sense) in the following sentences, **inclusive** or **exclusive**?\n",
    "1. A side of fries or chips comes with your sandwich.\n",
    "2. A high school diploma or a GED are needed for this position.\n",
    "3. To get your license, you must provide your social security card or birth certificate.\n",
    "4. We accept Mastercard or Visa credit cards.\n",
    "5. You can cash in your tickets or exchange them for a prize.\n",
    "6. Take it or leave it."
   ]
  },
  {
   "cell_type": "code",
   "execution_count": null,
   "metadata": {
    "id": "aXy-6gziFcGh"
   },
   "outputs": [],
   "source": [
    "#@title Hint {display-mode: \"form\"}\n",
    "'''\n",
    "1. How hungry are you?\n",
    "2. It's not hard to tell.\n",
    "3. And pass a test.\n",
    "4. What's in your wallet?\n",
    "5. A cash prize?\n",
    "6. Last chance.\n",
    "'''"
   ]
  },
  {
   "cell_type": "code",
   "execution_count": null,
   "metadata": {
    "id": "Wrd1dXaYFp5S"
   },
   "outputs": [],
   "source": [
    "#@title Answer {display-mode: \"form\"}\n",
    "'''\n",
    "1. Exclusive.\n",
    "2. Exclusive.\n",
    "3. Inclusive.\n",
    "4. Inclusive.\n",
    "5. You can exchange some of your tickets for a prize and get cash for the rest, so inclusive would be correct. But you could also argue for exclusive if you think it means you can cash in **all** your tickets or exchange them **all** for a prize, but not both. So it depends on how you interpret the statement.\n",
    "6. Exclusive.\n",
    "'''"
   ]
  },
  {
   "cell_type": "markdown",
   "metadata": {
    "id": "kiW_JLgOtZVL"
   },
   "source": [
    "## 2.5 Rules to Build By"
   ]
  },
  {
   "cell_type": "markdown",
   "metadata": {
    "id": "IMirygwztZVN"
   },
   "source": [
    "### Exercise 2.5.1"
   ]
  },
  {
   "cell_type": "markdown",
   "metadata": {
    "id": "BzGKmDy6tZVO"
   },
   "source": [
    "Solidify your connection between $2^n$ and the binary decision tree truth assignments in Figure 2.2."
   ]
  },
  {
   "cell_type": "code",
   "execution_count": null,
   "metadata": {
    "id": "d_i8HcdWtZVP"
   },
   "outputs": [],
   "source": [
    "#@title Hint {display-mode: \"form\"}\n",
    "'''\n",
    "Think counting in binary.\n",
    "'''"
   ]
  },
  {
   "cell_type": "code",
   "execution_count": null,
   "metadata": {
    "id": "RqgVblzNtZVQ"
   },
   "outputs": [],
   "source": [
    "#@title Answer {display-mode: \"form\"}\n",
    "# See 4.1 or the code in the Binary Function Normal Forms Exploration\n",
    "# for other ways to do this.\n",
    "def get_bits(n):\n",
    "  bits = []\n",
    "  for i in range(2 ** n):\n",
    "    binary = []\n",
    "    for c in bin(i)[2::].zfill(n):\n",
    "      binary.append(int(c))\n",
    "    bits.append(binary)\n",
    "  return bits"
   ]
  },
  {
   "cell_type": "code",
   "execution_count": null,
   "metadata": {
    "id": "BWAH3qXwv9b5"
   },
   "outputs": [],
   "source": [
    "#@title Answer Continued {display-mode: \"form\"}\n",
    "get_bits(4)"
   ]
  },
  {
   "cell_type": "markdown",
   "metadata": {
    "id": "BxXa_GDDHebZ"
   },
   "source": [
    "## 2.6 Truth Tables"
   ]
  },
  {
   "cell_type": "markdown",
   "metadata": {
    "id": "jUeZTWTFQLWy"
   },
   "source": [
    "### Exercise 2.6.1"
   ]
  },
  {
   "cell_type": "markdown",
   "metadata": {
    "id": "z_QnZRMZRHdk"
   },
   "source": [
    "Compare the truth table outputs in Table 2.5 with those in Table 2.6."
   ]
  },
  {
   "cell_type": "code",
   "execution_count": null,
   "metadata": {
    "id": "G8B0d8hTXh6n"
   },
   "outputs": [],
   "source": [
    "#@title Hint {display-mode: \"form\"}\n",
    "'They differ in just two places.'"
   ]
  },
  {
   "cell_type": "code",
   "execution_count": null,
   "metadata": {
    "id": "Qh8DubGJXzxH"
   },
   "outputs": [],
   "source": [
    "#@title Answer {display-mode: \"form\"}\n",
    "'They differ in the fourth row, fourth column ($\\lor$), and in the fifth row, second column ($\\land$).'"
   ]
  },
  {
   "cell_type": "markdown",
   "metadata": {
    "id": "RA3nTBfMYYUm"
   },
   "source": [
    "### Exercise 2.6.2"
   ]
  },
  {
   "cell_type": "markdown",
   "metadata": {
    "id": "B5CMZM5MYYUn"
   },
   "source": [
    "Construct truth tables for the following:\n",
    "1. $p \\land p$\n",
    "2. $p \\lor p$\n",
    "3. $\\lnot p \\lor q$\n",
    "4. $p \\land \\lnot q$\n",
    "5. $p \\land (q \\oplus \\lnot r)$\n",
    "6. $p \\lor (\\lnot q \\oplus \\lnot r)$\n",
    "7. $(p \\lor \\lnot q) \\oplus (\\lnot r \\land \\lnot s)$"
   ]
  },
  {
   "cell_type": "code",
   "execution_count": null,
   "metadata": {
    "id": "lSvPyK1OYYUn"
   },
   "outputs": [],
   "source": [
    "#@title Hint {display-mode: \"form\"}\n",
    "'''\n",
    "1. This has just one input column and one output column.\n",
    "2. Ditto.\n",
    "3. This is an important one.\n",
    "4. Remember that $\\land$ is only true when both sides are true.\n",
    "5. Use the expanded or more compact form, whichever is easier.\n",
    "6. It's sometimes easier to copy and modify an existing table than to start from scratch.\n",
    "7. With four variables your truth table will have $2^4 = 16$ rows.\n",
    "'''\n"
   ]
  },
  {
   "cell_type": "code",
   "execution_count": null,
   "metadata": {
    "id": "1WnV78H9YYUo"
   },
   "outputs": [],
   "source": [
    "#@title Answer {display-mode: \"form\"}\n",
    "'''\n",
    "1. $$\\begin{array}{|r|c|}\\hline p & p \\land p\\\\ \\hline \\hline 0 & 0 \\\\ 1 & 1 \\\\ \\hline \\end{array}$$\n",
    "2. $$\\begin{array}{|r|c|}\\hline p & p \\lor p\\\\ \\hline \\hline 0 & 0 \\\\ 1 & 1 \\\\ \\hline \\end{array}$$\n",
    "2. $$\\begin{array}{|r|r|c|}\\hline p & q & \\lnot p \\lor q\\\\ \\hline \\hline 0 & 0 & 1\\\\ 0 & 1 & 1\\\\ 1 & 0 & 0\\\\ 1 & 1 & 1\\\\ \\hline\\end{array}$$\n",
    "4. $$\\begin{array}{|r|r|c|}\\hline p & q & p \\land \\lnot q\\\\ \\hline \\hline 0 & 0 & 0\\\\ 0 & 1 & 0\\\\ 1 & 0 & 1\\\\ 1 & 1 & 0\\\\ \\hline\\end{array}$$\n",
    "5. $$\\begin{array}{|r|r|r|r|r|r|}\n",
    "\\hline\n",
    "p & \\land & (q & \\oplus & \\lnot & r)\\\\\n",
    "\\hline\n",
    "\\hline\n",
    "0 & 0 & 0 & 1 & 1 & 0\\\\\n",
    "0 & 0 & 0 & 0 & 0 & 1\\\\\n",
    "0 & 0 & 1 & 0 & 1 & 0\\\\\n",
    "0 & 0 & 1 & 1 & 0 & 1\\\\\n",
    "1 & 1 & 0 & 1 & 1 & 0\\\\\n",
    "1 & 0 & 0 & 0 & 0 & 1\\\\\n",
    "1 & 0 & 1 & 0 & 1 & 0\\\\\n",
    "1 & 1 & 1 & 1 & 0 & 1\\\\\n",
    "\\hline\n",
    "\\end{array}$$\n",
    "6. $$\\begin{array}{|r|r|r|r|r|}\n",
    "\\hline\n",
    "p & \\lor & (\\lnot q & \\oplus & \\lnot r)\\\\\n",
    "\\hline\n",
    "\\hline\n",
    "0 & 0 & 1 & 0 & 1\\\\\n",
    "0 & 1 & 1 & 1 & 0\\\\\n",
    "0 & 1 & 0 & 1 & 1\\\\\n",
    "0 & 0 & 0 & 0 & 0\\\\\n",
    "1 & 1 & 1 & 0 & 1\\\\\n",
    "1 & 1 & 1 & 1 & 0\\\\\n",
    "1 & 1 & 0 & 1 & 1\\\\\n",
    "1 & 1 & 0 & 0 & 0\\\\\n",
    "\\hline\n",
    "\\end{array}$$\n",
    "7. $$\\begin{array}{lrrrlrlrrrl}\n",
    "( & p & \\lor & \\lnot q & ) & \\oplus & ( & \\lnot r & \\land & \\lnot s & )\\\\\n",
    "\\hline\n",
    " & 0 & 1 & 1 &  & 0 &  & 1 & 1 & 1 &\\\\\n",
    " & 0 & 1 & 1 &  & 1 &  & 1 & 0 & 0 &\\\\\n",
    " & 0 & 1 & 1 &  & 1 &  & 0 & 0 & 1 &\\\\\n",
    " & 0 & 1 & 1 &  & 1 &  & 0 & 0 & 0 &\\\\\n",
    " & 0 & 0 & 0 &  & 1 &  & 1 & 1 & 1 &\\\\\n",
    " & 0 & 0 & 0 &  & 0 &  & 1 & 0 & 0 &\\\\\n",
    " & 0 & 0 & 0 &  & 0 &  & 0 & 0 & 1 &\\\\\n",
    " & 0 & 0 & 0 &  & 0 &  & 0 & 0 & 0 &\\\\\n",
    " & 1 & 1 & 1 &  & 0 &  & 1 & 1 & 1 &\\\\\n",
    " & 1 & 1 & 1 &  & 1 &  & 1 & 0 & 0 &\\\\\n",
    " & 1 & 1 & 1 &  & 1 &  & 0 & 0 & 1 &\\\\\n",
    " & 1 & 1 & 1 &  & 1 &  & 0 & 0 & 0 &\\\\\n",
    " & 1 & 1 & 0 &  & 0 &  & 1 & 1 & 1 &\\\\\n",
    " & 1 & 1 & 0 &  & 1 &  & 1 & 0 & 0 &\\\\\n",
    " & 1 & 1 & 0 &  & 1 &  & 0 & 0 & 1 &\\\\\n",
    " & 1 & 1 & 0 &  & 1 &  & 0 & 0 & 0 &\\\\\n",
    "\\end{array}$$\n",
    "'''"
   ]
  },
  {
   "cell_type": "markdown",
   "metadata": {
    "id": "O_N8gbQqMBxK"
   },
   "source": [
    "1. $$\\begin{array}{|r|c|}\\hline p & p \\land p\\\\ \\hline \\hline 0 & 0 \\\\ 1 & 1 \\\\ \\hline \\end{array}$$\n",
    "2. $$\\begin{array}{|r|c|}\\hline p & p \\lor p\\\\ \\hline \\hline 0 & 0 \\\\ 1 & 1 \\\\ \\hline \\end{array}$$\n",
    "2. $$\\begin{array}{|r|r|c|}\\hline p & q & \\lnot p \\lor q\\\\ \\hline \\hline 0 & 0 & 1\\\\ 0 & 1 & 1\\\\ 1 & 0 & 0\\\\ 1 & 1 & 1\\\\ \\hline\\end{array}$$\n",
    "4. $$\\begin{array}{|r|r|c|}\\hline p & q & p \\land \\lnot q\\\\ \\hline \\hline 0 & 0 & 0\\\\ 0 & 1 & 0\\\\ 1 & 0 & 1\\\\ 1 & 1 & 0\\\\ \\hline\\end{array}$$\n",
    "5. $$\\begin{array}{|r|r|r|r|r|r|}\n",
    "\\hline\n",
    "p & \\land & (q & \\oplus & \\lnot & r)\\\\\n",
    "\\hline\n",
    "\\hline\n",
    "0 & 0 & 0 & 1 & 1 & 0\\\\\n",
    "0 & 0 & 0 & 0 & 0 & 1\\\\\n",
    "0 & 0 & 1 & 0 & 1 & 0\\\\\n",
    "0 & 0 & 1 & 1 & 0 & 1\\\\\n",
    "1 & 1 & 0 & 1 & 1 & 0\\\\\n",
    "1 & 0 & 0 & 0 & 0 & 1\\\\\n",
    "1 & 0 & 1 & 0 & 1 & 0\\\\\n",
    "1 & 1 & 1 & 1 & 0 & 1\\\\\n",
    "\\hline\n",
    "\\end{array}$$\n",
    "6. $$\\begin{array}{|r|r|r|r|r|}\n",
    "\\hline\n",
    "p & \\lor & (\\lnot q & \\oplus & \\lnot r)\\\\\n",
    "\\hline\n",
    "\\hline\n",
    "0 & 0 & 1 & 0 & 1\\\\\n",
    "0 & 1 & 1 & 1 & 0\\\\\n",
    "0 & 1 & 0 & 1 & 1\\\\\n",
    "0 & 0 & 0 & 0 & 0\\\\\n",
    "1 & 1 & 1 & 0 & 1\\\\\n",
    "1 & 1 & 1 & 1 & 0\\\\\n",
    "1 & 1 & 0 & 1 & 1\\\\\n",
    "1 & 1 & 0 & 0 & 0\\\\\n",
    "\\hline\n",
    "\\end{array}$$\n",
    "7. $$\\begin{array}{lrrrlrlrrrl}\n",
    "( & p & \\lor & \\lnot q & ) & \\oplus & ( & \\lnot r & \\land & \\lnot s & )\\\\\n",
    "\\hline\n",
    " & 0 & 1 & 1 &  & 0 &  & 1 & 1 & 1 &\\\\\n",
    " & 0 & 1 & 1 &  & 1 &  & 1 & 0 & 0 &\\\\\n",
    " & 0 & 1 & 1 &  & 1 &  & 0 & 0 & 1 &\\\\\n",
    " & 0 & 1 & 1 &  & 1 &  & 0 & 0 & 0 &\\\\\n",
    " & 0 & 0 & 0 &  & 1 &  & 1 & 1 & 1 &\\\\\n",
    " & 0 & 0 & 0 &  & 0 &  & 1 & 0 & 0 &\\\\\n",
    " & 0 & 0 & 0 &  & 0 &  & 0 & 0 & 1 &\\\\\n",
    " & 0 & 0 & 0 &  & 0 &  & 0 & 0 & 0 &\\\\\n",
    " & 1 & 1 & 1 &  & 0 &  & 1 & 1 & 1 &\\\\\n",
    " & 1 & 1 & 1 &  & 1 &  & 1 & 0 & 0 &\\\\\n",
    " & 1 & 1 & 1 &  & 1 &  & 0 & 0 & 1 &\\\\\n",
    " & 1 & 1 & 1 &  & 1 &  & 0 & 0 & 0 &\\\\\n",
    " & 1 & 1 & 0 &  & 0 &  & 1 & 1 & 1 &\\\\\n",
    " & 1 & 1 & 0 &  & 1 &  & 1 & 0 & 0 &\\\\\n",
    " & 1 & 1 & 0 &  & 1 &  & 0 & 0 & 1 &\\\\\n",
    " & 1 & 1 & 0 &  & 1 &  & 0 & 0 & 0 &\\\\\n",
    "\\end{array}$$"
   ]
  },
  {
   "cell_type": "markdown",
   "metadata": {
    "id": "LhY32f6NaaZN"
   },
   "source": [
    "## 2.7 Go Visual\n"
   ]
  },
  {
   "cell_type": "markdown",
   "metadata": {
    "id": "dgIi_X7wkzRf"
   },
   "source": [
    "### Exercise 2.7.1"
   ]
  },
  {
   "cell_type": "markdown",
   "metadata": {
    "id": "3vlcLLl-kzRf"
   },
   "source": [
    "Which pairs of the following sets are disjoint?\n",
    "1. The set of all even numbers.\n",
    "2. The set of all odd numbers.\n",
    "3. The set of all nonnegative powers of 2."
   ]
  },
  {
   "cell_type": "code",
   "execution_count": null,
   "metadata": {
    "id": "_zVpp9pNkzRg"
   },
   "outputs": [],
   "source": [
    "#@title Hint {display-mode: \"form\"}\n",
    "'Be careful with the third set.'"
   ]
  },
  {
   "cell_type": "code",
   "execution_count": null,
   "metadata": {
    "id": "j4mEA3NvkzRg"
   },
   "outputs": [],
   "source": [
    "#@title Answer {display-mode: \"form\"}\n",
    "'''\n",
    "The evens are disjoint from the odds. No other two sets are pairwise disjoint,\n",
    "because the zero'th power of 2 is 1, an odd number, while every other nonnegative\n",
    "power of 2 is even.\n",
    "'''"
   ]
  },
  {
   "cell_type": "markdown",
   "metadata": {
    "id": "IMHczLMQlaSt"
   },
   "source": [
    "### Exercise 2.7.2"
   ]
  },
  {
   "cell_type": "markdown",
   "metadata": {
    "id": "3zA7und8laSt"
   },
   "source": [
    "Which pairs of the following sets are disjoint?\n",
    "1. The set of all white elephants.\n",
    "2. The set of all gray pachyderms.\n",
    "3. The set of all purple cows."
   ]
  },
  {
   "cell_type": "code",
   "execution_count": null,
   "metadata": {
    "id": "BUCytgcslaSu"
   },
   "outputs": [],
   "source": [
    "#@title Hint {display-mode: \"form\"}\n",
    "'This is too easy.'"
   ]
  },
  {
   "cell_type": "code",
   "execution_count": null,
   "metadata": {
    "id": "f9paGM3dlaSu"
   },
   "outputs": [],
   "source": [
    "#@title Answer {display-mode: \"form\"}\n",
    "'''\n",
    "All pairs of these sets are disjoint.\n",
    "'''"
   ]
  },
  {
   "cell_type": "markdown",
   "metadata": {
    "id": "3KuEDe6qAZqG"
   },
   "source": [
    "### Exercise 2.7.3"
   ]
  },
  {
   "cell_type": "markdown",
   "metadata": {
    "id": "CYE2_bHYAZqG"
   },
   "source": [
    "What is the set difference between the set of letters in the English alphabet and the set of letters in the Hawaiian alphabet?"
   ]
  },
  {
   "cell_type": "code",
   "execution_count": null,
   "metadata": {
    "id": "zA0b--SAAZqH"
   },
   "outputs": [],
   "source": [
    "#@title Hint {display-mode: \"form\"}\n",
    "print('The Hawaiian alphabet has one less than half as many letters.')"
   ]
  },
  {
   "cell_type": "code",
   "execution_count": null,
   "metadata": {
    "id": "yglBT-UuAZqI"
   },
   "outputs": [],
   "source": [
    "#@title Answer {display-mode: \"form\"}\n",
    "English_alphabet = set('ABCDEFGHIJKLMNOPQRSTUVWXYZ')\n",
    "Hawaiian_alphabet = set('AEIOUHKLMNPW')\n",
    "intersection = English_alphabet.intersection(set(Hawaiian_alphabet))\n",
    "print(intersection)\n",
    "print(intersection == set(Hawaiian_alphabet))\n",
    "print(\"It's no surprise that the intersection is just the Hawaiian alphabet,\")\n",
    "print(\"given that it's a proper subset of the English alphabet.\")"
   ]
  },
  {
   "cell_type": "markdown",
   "metadata": {
    "id": "KtXoKlhjKmfq"
   },
   "source": [
    "## 2.8 Propositional Membership\n"
   ]
  },
  {
   "cell_type": "markdown",
   "metadata": {
    "id": "UxOhDCUSMxop"
   },
   "source": [
    "### Exercise 2.8.1"
   ]
  },
  {
   "cell_type": "markdown",
   "metadata": {
    "id": "tq8CyFLUMxoq"
   },
   "source": [
    "Let A and B be two sets of words:\n",
    "\n",
    "A = {'verve', 'vim', 'vigor'}\n",
    "\n",
    "B = {'butter', 'vinegar', 'pepper', 'vigor'}\n",
    "\n",
    "For each of the following set operations, give its resulting members as a set of strings:\n",
    "\n",
    "* The set of words that are in A $\\cup$ B; call this set C.\n",
    "* The set of words that are in A $\\cap$ B; call this set D.\n",
    "* The subset of set C of words that start with 'v'.\n",
    "* The subset of set C of words that end with 'r'.\n",
    "* The subset of set C of words that start with 'v' and end with 'r'.\n",
    "* The subset of set D of words that have five letters.\n",
    "* The subset of set D of words that have six letters."
   ]
  },
  {
   "cell_type": "code",
   "execution_count": null,
   "metadata": {
    "id": "pksfOl6kMxor"
   },
   "outputs": [],
   "source": [
    "#@title Hint {display-mode: \"form\"}\n",
    "print('This is very straightforward. But see if you can write some')\n",
    "print('Python code to help you find the answers!')\n"
   ]
  },
  {
   "cell_type": "code",
   "execution_count": null,
   "metadata": {
    "id": "QF919GqlMxos"
   },
   "outputs": [],
   "source": [
    "#@title Answer {display-mode: \"form\"}\n",
    "A = {'verve', 'vim', 'vigor'}\n",
    "print('A =', A)\n",
    "B = {'butter', 'vinegar', 'pepper', 'vigor'}\n",
    "print('B =', B)\n",
    "C = A.union(B)\n",
    "print('C =', C)\n",
    "D = A.intersection(B)\n",
    "print('D =', D)\n",
    "start_with_v = {word for word in C if word[0] == 'v'}\n",
    "print('start_with_v =', start_with_v)\n",
    "end_with_r = {word for word in C if word[-1:] == 'r'}\n",
    "print('end_with_r =', end_with_r)\n",
    "start_with_v_and_end_with_r = start_with_v.intersection(end_with_r)\n",
    "print('start_with_v_and_end_with_r =', start_with_v_and_end_with_r)\n",
    "subset_of_D_of_words_with_five_letters = {word for word in D if len(word) == 5}\n",
    "print('subset_of_D_of_words_with_five_letters =', subset_of_D_of_words_with_five_letters)\n",
    "subset_of_D_of_words_with_six_letters = {word for word in D if len(word) == 6}\n",
    "print('subset_of_D_of_words_with_six_letters =', subset_of_D_of_words_with_six_letters)"
   ]
  },
  {
   "cell_type": "markdown",
   "metadata": {
    "id": "CNzsWymVKxAB"
   },
   "source": [
    "## 2.9 Conditional Containment\n"
   ]
  },
  {
   "cell_type": "markdown",
   "metadata": {
    "id": "5g7jWZNTUt9v"
   },
   "source": [
    "### Exercise 2.9.1"
   ]
  },
  {
   "cell_type": "markdown",
   "metadata": {
    "id": "6rPUIhfPVKdC"
   },
   "source": [
    "Here are some Python assignment statements illustrating subset size compared to superset size:\n"
   ]
  },
  {
   "cell_type": "code",
   "execution_count": null,
   "metadata": {
    "id": "orwS-dQhU6xJ"
   },
   "outputs": [],
   "source": [
    "A = {1, 3, 7, 9}\n",
    "a = 4 # the size of A\n",
    "B = {1, 3, 6, 7, 8, 9, 10, 21, 42, 63, 68, 76}\n",
    "b = 12 # the size of B\n",
    "A_is_a_subset_of_B = True\n",
    "a_is_less_than_or_equal_to_b = True"
   ]
  },
  {
   "cell_type": "markdown",
   "metadata": {
    "id": "x6nMThl_Ut9w"
   },
   "source": [
    "Revise this sequence of assignments to avoid using the literals 4, 12 and True, instead replacing them with calls to built-in Python functions or operators.\n"
   ]
  },
  {
   "cell_type": "code",
   "execution_count": null,
   "metadata": {
    "id": "42FvlLUmUt9x"
   },
   "outputs": [],
   "source": [
    "#@title Hint {display-mode: \"form\"}\n",
    "print('Any decent Python documentation website will reveal these.')"
   ]
  },
  {
   "cell_type": "code",
   "execution_count": null,
   "metadata": {
    "id": "d0NKhYASUt9x"
   },
   "outputs": [],
   "source": [
    "#@title Answer {display-mode: \"form\"}\n",
    "A = {1, 3, 7, 9}\n",
    "a = len(A)\n",
    "B = {1, 3, 6, 7, 8, 9, 10, 21, 42, 63, 68, 76}\n",
    "b = len(B)\n",
    "A_is_a_subset_of_B = A.issubset(B)\n",
    "a_is_less_than_or_equal_to_b = a <= b"
   ]
  },
  {
   "cell_type": "markdown",
   "metadata": {
    "id": "BzfmmLtuvajO"
   },
   "source": [
    "### Exercise 2.9.2"
   ]
  },
  {
   "cell_type": "markdown",
   "metadata": {
    "id": "f6nBUO4DvajR"
   },
   "source": [
    "Let $p$ be the proposition &ldquo;I studied.&rdquo; and let $q$ be the proposition &ldquo;I got an A on the test.&rdquo;\n",
    "\n",
    "Express the following propositions as English sentences.\n",
    "\n",
    "1. $p \\rightarrow q$\n",
    "2. $\\lnot p \\lor \\lnot q$\n",
    "3. $\\lnot p \\rightarrow (p \\lor q)$\n",
    "4. $\\lnot p \\rightarrow \\lnot q$"
   ]
  },
  {
   "cell_type": "code",
   "execution_count": null,
   "metadata": {
    "id": "fIH2bbbevajV"
   },
   "outputs": [],
   "source": [
    "#@title Hint {display-mode: \"form\"}\n",
    "print('''\n",
    "1. Use \"if-then\" keywords.\n",
    "2. Use the same $p$ and $q$.\n",
    "3. It doesn't have to make sense!\n",
    "4. Still use the same $p$ and $q$.\n",
    "''')"
   ]
  },
  {
   "cell_type": "code",
   "execution_count": null,
   "metadata": {
    "id": "tyt5dNw_vajW"
   },
   "outputs": [],
   "source": [
    "#@title Answer {display-mode: \"form\"}\n",
    "print('''\n",
    "1. If I studied then I got an A on the test.\n",
    "2. I did not study or I did not get an A on the test.\n",
    "3. If I didn't study then I studied or I got an A on the test.\n",
    "4. If I did not study then I did not get an A on the test.\n",
    "''')"
   ]
  },
  {
   "cell_type": "markdown",
   "metadata": {
    "id": "5o1DUHX8Efii"
   },
   "source": [
    "### Exercise 2.9.3"
   ]
  },
  {
   "cell_type": "markdown",
   "metadata": {
    "id": "dW2kRo-2Efin"
   },
   "source": [
    "Let $p$ be the proposition &ldquo;You applied for college admission.&rdquo; and let $q$ be the proposition &ldquo;You were accepted.&rdquo;\n",
    "\n",
    "Express the following English sentences as symbolic compound propositions using logical connectives.\n",
    "\n",
    "1. You applied for college admission and were accepted.\n",
    "2. You did not apply for college admission but were still accepted.\n",
    "3. You applied for college admission but were not accepted.\n",
    "4. Either you did not apply for college admission and didn't get accepted or you did apply and got accepted."
   ]
  },
  {
   "cell_type": "code",
   "execution_count": null,
   "metadata": {
    "id": "FBr7wKfyEfio"
   },
   "outputs": [],
   "source": [
    "#@title Hint {display-mode: \"form\"}\n",
    "print('''\n",
    "1. Don't overthink this.\n",
    "2. That should not happen!\n",
    "3. Remember, \"but\" means \"and\".\n",
    "4. Inclusive or exclusive or?\n",
    "''')"
   ]
  },
  {
   "cell_type": "code",
   "execution_count": null,
   "metadata": {
    "id": "pixxjpDSEfio"
   },
   "outputs": [],
   "source": [
    "#@title Answer {display-mode: \"form\"}\n",
    "print('''\n",
    "1. $p \\land q$\n",
    "2. $\\lnot p \\land q$\n",
    "3. $p \\land \\lnot q$\n",
    "4. $(\\lnot p \\land \\lnot q) \\lor (p \\land q)$\n",
    "''')"
   ]
  },
  {
   "cell_type": "markdown",
   "metadata": {
    "id": "BTcxVhQIGxxF"
   },
   "source": [
    "### Exercise 2.9.4"
   ]
  },
  {
   "cell_type": "markdown",
   "metadata": {
    "id": "exnqIhu1GxxG"
   },
   "source": [
    "There are many different ways in English to put the same conditional statement, &ldquo;if $p$ then $q$&rdquo;. Here are four:\n",
    "1. $p \\rightarrow q$ (pronounced) $p$ only if $q$.\n",
    "2. omit the &lsquo;then&rsquo;: if $p$, $q$.\n",
    "3. reversed: $q$ if $p$.\n",
    "4. &lsquo;whenever&rsquo; means &lsquo;if&rsquo;, so either\n",
    " \n",
    "   whenever $p$, $q$\n",
    "   \n",
    "   or\n",
    "\n",
    "   $q$ whenever $p$.\n",
    "\n",
    "Find at least four other ways."
   ]
  },
  {
   "cell_type": "code",
   "execution_count": null,
   "metadata": {
    "id": "Zp191s40GxxG"
   },
   "outputs": [],
   "source": [
    "#@title Hint {display-mode: \"form\"}\n",
    "print('''\n",
    "Some have to do with conditions being necessary (necessity)\n",
    "versus being sufficient (sufficiency).\n",
    "''')"
   ]
  },
  {
   "cell_type": "code",
   "execution_count": null,
   "metadata": {
    "id": "0vU83rSrGxxH"
   },
   "outputs": [],
   "source": [
    "#@title Answer {display-mode: \"form\"}\n",
    "print('''\n",
    "Here are eight:\n",
    "1. $q$ is necessary for $p$\n",
    "2. $q$ is a necessary condition for $p$.\n",
    "3. $p$ is sufficient for $q$.\n",
    "4. $p$ is a sufficient condition for $q$.\n",
    "5. $p$ implies $q$.\n",
    "6. $q$ is implied by $p$.\n",
    "7. $p$ entails $q$.\n",
    "8. $q$ is entailed by $p$.\n",
    "''')"
   ]
  },
  {
   "cell_type": "markdown",
   "metadata": {
    "id": "tX_qDfQfI0-k"
   },
   "source": [
    "### Exercise 2.9.5"
   ]
  },
  {
   "cell_type": "markdown",
   "metadata": {
    "id": "WoqvEXUdI0-l"
   },
   "source": [
    "As in Exercise 2.9.3, let $p$ be the proposition &ldquo;You applied for college admission.&rdquo; and let $q$ be the proposition &ldquo;You were accepted.&rdquo;\n",
    "\n",
    "Express the following English sentences as symbolic compound propositions using the logical conditional (or biconditional) connective.\n",
    "\n",
    "1. Your applying for college admission is necessary for your being accepted.\n",
    "2. Your being accepted is a sufficient condition for your applying for college admission.\n",
    "3. Your applying for college admission is necessary and sufficient for your being accepted."
   ]
  },
  {
   "cell_type": "code",
   "execution_count": null,
   "metadata": {
    "id": "Dd6W3JiPI0-l"
   },
   "outputs": [],
   "source": [
    "#@title Hint {display-mode: \"form\"}\n",
    "print('''\n",
    "1. Sometimes this is called a \"precondition\".\n",
    "2. Don't confuse sufficiency with necessity.\n",
    "3. If and only if. (This is not the same as 1 or 2.)\n",
    "''')"
   ]
  },
  {
   "cell_type": "code",
   "execution_count": null,
   "metadata": {
    "id": "s-y_fLFMI0-m"
   },
   "outputs": [],
   "source": [
    "#@title Answer {display-mode: \"form\"}\n",
    "from IPython.display import Markdown\n",
    "display(Markdown('''\n",
    "1. $p \\\\leftarrow q$ (or $q \\\\rightarrow p$)\n",
    "2. $q \\\\rightarrow p$\n",
    "3. $p \\\\leftrightarrow q$\n",
    "'''))"
   ]
  },
  {
   "cell_type": "markdown",
   "metadata": {
    "id": "_7lCAQlzK4NE"
   },
   "source": [
    "## 2.10 Understanding Conditional Logic\n"
   ]
  },
  {
   "cell_type": "markdown",
   "metadata": {
    "id": "eBKeX7VeLJER"
   },
   "source": [
    "### Exercise 2.10.1"
   ]
  },
  {
   "cell_type": "markdown",
   "metadata": {
    "id": "01tCtdJQLJES"
   },
   "source": [
    "True or false?\n",
    "1. If 2 + 2 = 4, then pigs can fly.\n",
    "2. If 2 + 7 = 5, then Elvis is alive.\n",
    "3. If pigs can fly, then dogs can't fly.\n",
    "4. If dogs have four legs, then ostriches have two legs.\n",
    "5. 2 + 1 = 3 if and only if 1 + 2 = 3.\n",
    "6. 1 + 2 = 3 if and only if 3 + 1 = 6.\n",
    "7. 1 + 3 = 2 if and only if the earth is flat.\n",
    "8. 1 < 2 if and only if 2 < 3."
   ]
  },
  {
   "cell_type": "code",
   "execution_count": null,
   "metadata": {
    "id": "p7QASu27LJES"
   },
   "outputs": [],
   "source": [
    "#@title Hint {display-mode: \"form\"}\n",
    "print('''\n",
    "1. Check your PCK (Porcine Capability Knowledge).\n",
    "2. Check your arithmetic, and your RDF (Reality Distortion Field)!\n",
    "3. Pigs can do a lot of things that dogs can't do, and vice versa.\n",
    "   Flying is not one of them.\n",
    "4. Normally speaking, that is.\n",
    "5. This is not hard.\n",
    "6. This is easy.\n",
    "7. Flat-earthers need not apply.\n",
    "8. I'm convinced. Are you?\n",
    "''')"
   ]
  },
  {
   "cell_type": "code",
   "execution_count": null,
   "metadata": {
    "id": "d6vB5vFaLJES"
   },
   "outputs": [],
   "source": [
    "#@title Answer {display-mode: \"form\"}\n",
    "print('''\n",
    "1. This is false, because \"2 + 2 = 4\" is true but\n",
    "   \"pigs can fly\" is false.\n",
    "2. Both parts are false, so the conditional is true.\n",
    "3. This is true, because pigs can't fly, and neither can dogs,\n",
    "   so we have false $\\\\rightarrow$ false.\n",
    "4. We have true $\\\\rightarrow$ true, so this is true.\n",
    "5. As we have true $\\\\leftrightarrow$ true, this is true.\n",
    "6. As we have true $\\\\leftrightarrow$ false, this is false.\n",
    "7. As we have false $\\\\leftrightarrow$ false, this is true.\n",
    "8. Again we have true $\\\\rightarrow$ true, so true.\n",
    "''')"
   ]
  },
  {
   "cell_type": "markdown",
   "metadata": {
    "id": "8V4o4rixLKYS"
   },
   "source": [
    "### Exercise 2.10.2"
   ]
  },
  {
   "cell_type": "markdown",
   "metadata": {
    "id": "r6V6Wf8-LKYS"
   },
   "source": [
    "Write the following sentences as an &lsquo;If $p$ then $q$&rsquo; statement.\n",
    "1. It is necessary to sign up to win the contest.\n",
    "2. I get a cold whenever I go outside.\n",
    "3. It is sufficient to be an A student to receive the scholarship.\n",
    "4. As long as you leave now, you will get there on time.\n",
    "5. I'll get half off if I act now."
   ]
  },
  {
   "cell_type": "code",
   "execution_count": null,
   "metadata": {
    "id": "Ix0YQTp9LKYT"
   },
   "outputs": [],
   "source": [
    "#@title Hint {display-mode: \"form\"}\n",
    "print('''\n",
    "1. The necessary thing is the outermost circle.\n",
    "2. Whenever means if, remember?\n",
    "3. If that were only true!\n",
    "4. Think about it.\n",
    "5. Pretty straightforward.\n",
    "''')"
   ]
  },
  {
   "cell_type": "code",
   "execution_count": null,
   "metadata": {
    "id": "tMa-wcmDLKYT"
   },
   "outputs": [],
   "source": [
    "#@title Answer {display-mode: \"form\"}\n",
    "print('''\n",
    "1. If you win the contest then you sign up.\n",
    "   (Or better, if you won the contest then\n",
    "    you must have signed up.)\n",
    "2. If I go outside then I get a cold.\n",
    "3. If you are an A student then you'll receive the scholarship.\n",
    "4. If you leave now then you'll get there on time.\n",
    "5. If I act now then I'll get half off.\n",
    "''')"
   ]
  },
  {
   "cell_type": "markdown",
   "metadata": {
    "id": "WwWaFQl7To06"
   },
   "source": [
    "## 2.11 Conditional Vocabulary\n"
   ]
  },
  {
   "cell_type": "markdown",
   "metadata": {
    "id": "PyOAxvFWTo1B"
   },
   "source": [
    "### Exercise 2.11.1"
   ]
  },
  {
   "cell_type": "markdown",
   "metadata": {
    "id": "njWeoSHBTo1C"
   },
   "source": [
    "Write the inverse, the converse, and the contrapositive of the following conditional statements.\n",
    "1. If it rains today, we won't go to the park.\n",
    "2. If you do your homework, I'll give you a pat on the back.\n",
    "3. Whenever I babysit, I get sick.\n",
    "4. Every time there is a quiz, I go to class.\n",
    "5. I wake up late when I stay up past my bedtime."
   ]
  },
  {
   "cell_type": "code",
   "execution_count": null,
   "metadata": {
    "id": "IvVPXCNYTo1C"
   },
   "outputs": [],
   "source": [
    "#@title Hint {display-mode: \"form\"}\n",
    "print('''\n",
    "1. Symbolize first, then form the variants,\n",
    "   then translate the symbols back into words.\n",
    "2. Symbolize means put in \"p --> q\" form.\n",
    "3. You should be getting the hang of it.\n",
    "4. It's as though correlation implies causation.\n",
    "5. Go to bed on time then!\n",
    "''')"
   ]
  },
  {
   "cell_type": "code",
   "execution_count": null,
   "metadata": {
    "id": "Gvf1fjFmTo1D"
   },
   "outputs": [],
   "source": [
    "#@title Answer {display-mode: \"form\"}\n",
    "print('''\n",
    "1. Statement put in p --> q form: it rains today --> we won't go to the park. \n",
    "   Converse: If we won't go to the park, then it rains today.\n",
    "   Inverse: If it doesn't rain today, then we will go to the park.\n",
    "   Contrapositive: If we will go to the park, then it doesn't rain today.\n",
    "\n",
    "2. you do your homework --> I'll give you a pat on the back.\n",
    "   Converse: If I give you a pat on the back, then you do your homework.\n",
    "   Inverse: If you don't do your homework, then I won't give you a pat on the back.\n",
    "   Contrapositive: If I won't give you a pat on the back, then you don't do your homework.\n",
    "\n",
    "3. I babysit --> I get sick.\n",
    "   Converse: If I get sick, then I babysit.\n",
    "   Inverse: If I don't babysit, then I don't get sick.\n",
    "   Contrapositive: If I don't get sick, then I don't babysit.\n",
    "\n",
    "4. there is a quiz --> I go to class.\n",
    "   Converse: If I go to class, then there is a quiz.\n",
    "   Inverse: If there isn't a quiz, then I don't go to class.\n",
    "   Contrapositive: If I don't go to class, then there isn't a quiz.\n",
    "\n",
    "5. I stay up past my bedtime --> I wake up late.\n",
    "   Converse: If I wake up late, then I stayed up past my bedtime.\n",
    "   Inverse: If I don't stay up past my bedtime, then I don't wake up late.\n",
    "   Contrapositive: If I don't wake up late, then I didn't stay up past my bedtime.\n",
    "''')"
   ]
  },
  {
   "cell_type": "markdown",
   "metadata": {
    "id": "QdGrGvKcTo1E"
   },
   "source": [
    "### Exercise 2.11.2"
   ]
  },
  {
   "cell_type": "markdown",
   "metadata": {
    "id": "VHXdHcMgTo1E"
   },
   "source": [
    "Verify the following truth tables are correct by inspection, or, for the larger ones, by comparing them with the results of entering the symbolic propositions into [this online tool](http://tma.main.jp/logic/index_en.html), or [this one written by a former student](https://kyle-west.github.io/truthfulness/) (beware of bugs!), or a better tool if you can find (make?!) one.\n",
    "\n",
    "The truth tables are given in both expanded and compact form.\n",
    "\n",
    "You may need to translate $p \\rightarrow q$ conditional statements into their equivalent $\\lnot p \\lor q$ form."
   ]
  },
  {
   "cell_type": "markdown",
   "metadata": {
    "id": "bC5dfvsDTKTs"
   },
   "source": [
    "$p \\rightarrow q$\n",
    "* Implication\n",
    "* Expanded\n",
    "\n",
    "| $p$ | $q$ | $p$ | $\\rightarrow$ | $q$ |\n",
    "|:-:|:-:|-|:-:|-|\n",
    "| 0 | 0 | | 1 | |\n",
    "| 0 | 1 | | 1 | |\n",
    "| 1 | 0 | | 0 | |\n",
    "| 1 | 1 | | 1 | |\n",
    "\n",
    "* Compact\n",
    "\n",
    "| $p$ | $\\rightarrow$ | $q$ |\n",
    "|:-:|:-:|:-:|\n",
    "| 0 | 1 | 0 |\n",
    "| 0 | 1 | 1 |\n",
    "| 1 | 0 | 0 |\n",
    "| 1 | 1 | 1 |\n",
    "\n",
    "* Compare LaTeX Expanded\n",
    "$$\\begin{array}{|r|r|c|}\n",
    "\\hline\n",
    "p & q & p \\rightarrow q\\\\\n",
    "\\hline\n",
    "\\hline\n",
    "0 & 0 & 1\\\\\n",
    "0 & 1 & 1\\\\\n",
    "1 & 0 & 0\\\\\n",
    "1 & 1 & 1\\\\\n",
    "\\hline\n",
    "\\end{array}$$\n",
    "\n",
    "* and LaTeX Compact\n",
    "$$\\begin{array}{|r|c|r|}\n",
    "\\hline\n",
    "p & \\rightarrow & q\\\\\n",
    "\\hline\n",
    "\\hline\n",
    "0 & 1 & 0\\\\\n",
    "0 & 1 & 1\\\\\n",
    "1 & 0 & 0\\\\\n",
    "1 & 1 & 1\\\\\n",
    "\\hline\n",
    "\\end{array}$$\n",
    "\n",
    "<font color=red>Question: If you were creating truth tables by hand (in a notebook like this), which syntax would you prefer to use, the Markdown syntax, or the LaTeX syntax?</font>"
   ]
  },
  {
   "cell_type": "markdown",
   "metadata": {
    "id": "CwYIDn59VYd-"
   },
   "source": [
    "$\\lnot p \\rightarrow q$\n",
    "* This is logically equivalent to $p \\lor q$\n",
    "* Expanded\n",
    "\n",
    "| $p$ | $q$ | $\\lnot p$ | $\\lnot p$ | $\\rightarrow$ | $q$ |\n",
    "|:-:|:-:|:-:|-|:-:|-|\n",
    "| 0 | 0 | 1 | | 0 | |\n",
    "| 0 | 1 | 1 | | 1 | |\n",
    "| 1 | 0 | 0 | | 1 | |\n",
    "| 1 | 1 | 0 | | 1 | |\n",
    "\n",
    "* Compact\n",
    "\n",
    "|$\\lnot$ | $p$ | $\\rightarrow$ | $q$ |\n",
    "|:-:|:-:|:-:|:-:|\n",
    "| 1 | 0 | 0 | 0 |\n",
    "| 1 | 0 | 1 | 1 |\n",
    "| 0 | 1 | 1 | 0 |\n",
    "| 0 | 1 | 1 | 1 |"
   ]
  },
  {
   "cell_type": "markdown",
   "metadata": {
    "id": "mfbsR3ahS8ha"
   },
   "source": [
    "$p \\rightarrow \\lnot q$\n",
    "\n",
    "* &ldquo;NAND&rdquo; (Not And)\n",
    "* All true except for the last row when $p$ and $q$ are both true:\n",
    "* Expanded\n",
    "\n",
    "| $p$ | $q$ | $\\lnot q$ | $p$ | $\\rightarrow$ | $\\lnot q$ |\n",
    "|:-:|:-:|:-:|-|:-:|-|\n",
    "| 0 | 0 | 1 | | 1 | |\n",
    "| 0 | 1 | 0 | | 1 | |\n",
    "| 1 | 0 | 1 | | 1 | |\n",
    "| 1 | 1 | 0 | | 0 | |\n",
    "\n",
    "* Compact\n",
    "\n",
    "| $p$ | $\\rightarrow$ | $\\lnot$ | $q$ |\n",
    "|:-:|:-:|:-:|:-:|\n",
    "| 0 | 1 | 1 | 0 |\n",
    "| 0 | 1 | 0 | 1 |\n",
    "| 1 | 1 | 1 | 0 |\n",
    "| 1 | 0 | 0 | 1 |\n",
    "\n",
    "Question: Can &ldquo;NOR&rdquo; (Not Or) be put in terms of a conditional?\n"
   ]
  },
  {
   "cell_type": "markdown",
   "metadata": {
    "id": "_Mz6bld3V7_m"
   },
   "source": [
    "$p \\oplus q$\n",
    "* Zero if either both are zero or neither is zero, one otherwise.\n",
    "* Expanded\n",
    "\n",
    "| $p$ | $q$ | $p$ | $\\oplus$ | $q$ |\n",
    "|:-:|:-:|-|:-:|-|\n",
    "| 0 | 0 | | 0 | |\n",
    "| 0 | 1 | | 1 | |\n",
    "| 1 | 0 | | 1 | |\n",
    "| 1 | 1 | | 0 | |\n",
    "\n",
    "* Compact\n",
    "\n",
    "| $p$ | $\\oplus$ | $q$ |\n",
    "|:-:|:-:|:-:|\n",
    "| 0 | 0 | 0 |\n",
    "| 0 | 1 | 1 |\n",
    "| 1 | 1 | 0 |\n",
    "| 1 | 0 | 1 |\n"
   ]
  },
  {
   "cell_type": "markdown",
   "metadata": {
    "id": "Ne4g-nqdW8JU"
   },
   "source": [
    "$\\lnot q \\rightarrow q$\n",
    "* Remember, true > false.\n",
    "* This is true only when $q$ is true.\n",
    "* Expanded\n",
    "\n",
    "| $q$ | $\\lnot q$ | $\\lnot q$ | $\\rightarrow$ | $q$ |\n",
    "|:-:|:-:|-|:-:| |\n",
    "| 0 | 1 | | 0 | |\n",
    "| 1 | 0 | | 1 | |\n",
    "\n",
    "* Compact\n",
    "\n",
    "| $\\lnot$ | $q$ | $\\rightarrow$ | $q$ |\n",
    "|:-:|:-:|:-:|:-:|\n",
    "| 1 | 0 | 0 | 0 |\n",
    "| 0 | 1 | 1 | 1 |"
   ]
  },
  {
   "cell_type": "markdown",
   "metadata": {
    "id": "Z7R-8zQZyoOT"
   },
   "source": [
    "$p \\lor \\lnot q$\n",
    "* Same as $p \\leftarrow q$, or $q \\rightarrow p$\n",
    "* Expanded\n",
    "\n",
    "| $p$ | $q$ | $\\lnot q$ | $p$ | $\\lor$ | $\\lnot q$ |\n",
    "|:-:|:-:|:-:|-|:-:|-|\n",
    "| 0 | 0 | 1 | | 1 | |\n",
    "| 0 | 1 | 0 | | 0 | |\n",
    "| 1 | 0 | 1 | | 1 | |\n",
    "| 1 | 1 | 0 | | 1 | |\n",
    "\n",
    "* Compact\n",
    "\n",
    "| $p$ | $\\lor$ | $\\lnot$ | $q$ |\n",
    "|:-:|:-:|:-:|:-:|\n",
    "| 0 | 1 | 1 | 0 |\n",
    "| 0 | 0 | 0 | 1 |\n",
    "| 1 | 1 | 1 | 0 |\n",
    "| 1 | 1 | 0 | 1 |\n"
   ]
  },
  {
   "cell_type": "markdown",
   "metadata": {
    "id": "UHzpB0EvM-qp"
   },
   "source": [
    "$p \\rightarrow \\lnot p$\n",
    "* Essentially the same as [$\\lnot q \\rightarrow q$](#scrollTo=Ne4g-nqdW8JU&line=13&uniqifier=1).\n",
    "* Exactly the same as just $\\lnot p$\n",
    "* Expanded\n",
    "\n",
    "| $p$ | $\\lnot p$ | $p$ | $\\rightarrow$ | $\\lnot p$ |\n",
    "|:-:|:-:|-|:-:|-|\n",
    "| 0 | 1 | | 1 | |\n",
    "| 1 | 0 | | 0 | |\n",
    "\n",
    "* Compact\n",
    "\n",
    "| $p$ | $\\rightarrow$ | $\\lnot$ | $p$ |\n",
    "|:-:|:-:|:-:|:-:|\n",
    "| 0 | 1 | 1 | 0 |\n",
    "| 1 | 0 | 0 | 1 |"
   ]
  },
  {
   "cell_type": "markdown",
   "metadata": {
    "id": "6D08L8HGQwFb"
   },
   "source": [
    "$p \\leftrightarrow q$\n",
    "* The implication goes both ways.\n",
    "* Expanded\n",
    "\n",
    "| $p$ | $q$ | $p$ | $\\leftrightarrow$ | $q$ |\n",
    "|:-:|:-:|-|:-:|-|\n",
    "| 0 | 0 | | 1 | |\n",
    "| 0 | 1 | | 0 | |\n",
    "| 1 | 0 | | 0 | |\n",
    "| 1 | 1 | | 1 | |\n",
    "\n",
    "* Compact\n",
    "\n",
    "| $p$ | $\\leftrightarrow$| $q$ |\n",
    "|:-:|:-:|:-:|\n",
    "| 0 | 1 | 0 |\n",
    "| 0 | 0 | 1 |\n",
    "| 1 | 0 | 0 |\n",
    "| 1 | 1 | 1 |\n"
   ]
  },
  {
   "cell_type": "markdown",
   "metadata": {
    "id": "oggKaWpMQ4IA"
   },
   "source": [
    "$p \\leftrightarrow (\\lnot p)$\n",
    "* Au contraire.\n",
    "* This is a contradiction --- always false.\n",
    "* Expanded\n",
    "\n",
    "| $p$ | $\\lnot p$ | $p$ | $\\leftrightarrow$ | $\\lnot p$ |\n",
    "|:-:|:-:|-|:-:|-|\n",
    "| 0 | 1 | | 0 | |\n",
    "| 1 | 0 | | 0 | |\n",
    "\n",
    "* Compact\n",
    "\n",
    "| $p$ | $\\leftrightarrow$ | $\\lnot$ | $p$ |\n",
    "|:-:|:-:|:-:|:-:|\n",
    "| 0 | 0 | 1 | 0 |\n",
    "| 1 | 0 | 0 | 1 |"
   ]
  },
  {
   "cell_type": "markdown",
   "metadata": {
    "id": "K60e0FEMSgss"
   },
   "source": [
    "$(p \\rightarrow q) \\rightarrow (q \\rightarrow r) \\rightarrow (r \\rightarrow s)$\n",
    "* Take it one step at a time.\n",
    "* Expanded\n",
    "\n",
    "$$\\begin{array}{ccccccccc}\n",
    "p & q & r & s & p \\rightarrow q & q \\rightarrow r & r \\rightarrow s & (p \\rightarrow q) \\rightarrow (q \\rightarrow r) & (p \\rightarrow q) \\rightarrow (q \\rightarrow r) \\rightarrow (r \\rightarrow s)\\\\\n",
    "\\hline\n",
    "0 & 0 & 0 & 0 & 1 & 1 & 1 & 1 & 1\\\\\n",
    "0 & 0 & 0 & 1 & 1 & 1 & 1 & 1 & 1\\\\\n",
    "0 & 0 & 1 & 0 & 1 & 1 & 0 & 1 & 0\\\\\n",
    "0 & 0 & 1 & 1 & 1 & 1 & 1 & 1 & 1\\\\\n",
    "0 & 1 & 0 & 0 & 1 & 0 & 1 & 0 & 1\\\\\n",
    "0 & 1 & 0 & 1 & 1 & 0 & 1 & 0 & 1\\\\\n",
    "0 & 1 & 1 & 0 & 1 & 1 & 0 & 1 & 0\\\\\n",
    "0 & 1 & 1 & 1 & 1 & 1 & 1 & 1 & 1\\\\\n",
    "1 & 0 & 0 & 0 & 0 & 1 & 1 & 1 & 1\\\\\n",
    "1 & 0 & 0 & 1 & 0 & 1 & 1 & 1 & 1\\\\\n",
    "1 & 0 & 1 & 0 & 0 & 1 & 0 & 1 & 0\\\\\n",
    "1 & 0 & 1 & 1 & 0 & 1 & 1 & 1 & 1\\\\\n",
    "1 & 1 & 0 & 0 & 1 & 0 & 1 & 0 & 1\\\\\n",
    "1 & 1 & 0 & 1 & 1 & 0 & 1 & 0 & 1\\\\\n",
    "1 & 1 & 1 & 0 & 1 & 1 & 0 & 1 & 0\\\\\n",
    "1 & 1 & 1 & 1 & 1 & 1 & 1 & 1 & 1\\\\\n",
    "\\end{array}$$\n",
    "\n",
    "* Compact\n",
    "\n",
    "$$\\begin{array}{lrrrlrlrrrlrlrrrl}\n",
    "( & p & \\rightarrow & q & ) & \\rightarrow & ( & q & \\rightarrow & r & ) & \\rightarrow & ( & r & \\rightarrow & s & )\\\\\n",
    "\\hline\n",
    " & 0 & 1 & 0 &  & 1 &  & 0 & 1 & 0 &  & 1 &  & 0 & 1 & 0 & \\\\\n",
    " & 0 & 1 & 0 &  & 1 &  & 0 & 1 & 0 &  & 1 &  & 0 & 1 & 1 & \\\\\n",
    " & 0 & 1 & 0 &  & 1 &  & 0 & 1 & 1 &  & 0 &  & 1 & 0 & 0 & \\\\\n",
    " & 0 & 1 & 0 &  & 1 &  & 0 & 1 & 1 &  & 1 &  & 1 & 1 & 1 & \\\\\n",
    " & 0 & 1 & 1 &  & 0 &  & 1 & 0 & 0 &  & 1 &  & 0 & 1 & 0 & \\\\\n",
    " & 0 & 1 & 1 &  & 0 &  & 1 & 0 & 0 &  & 1 &  & 0 & 1 & 1 & \\\\\n",
    " & 0 & 1 & 1 &  & 1 &  & 1 & 1 & 1 &  & 0 &  & 1 & 0 & 0 & \\\\\n",
    " & 0 & 1 & 1 &  & 1 &  & 1 & 1 & 1 &  & 1 &  & 1 & 1 & 1 & \\\\\n",
    " & 1 & 0 & 0 &  & 1 &  & 0 & 1 & 0 &  & 1 &  & 0 & 1 & 0 & \\\\\n",
    " & 1 & 0 & 0 &  & 1 &  & 0 & 1 & 0 &  & 1 &  & 0 & 1 & 1 & \\\\\n",
    " & 1 & 0 & 0 &  & 1 &  & 0 & 1 & 1 &  & 0 &  & 1 & 0 & 0 & \\\\\n",
    " & 1 & 0 & 0 &  & 1 &  & 0 & 1 & 1 &  & 1 &  & 1 & 1 & 1 & \\\\\n",
    " & 1 & 1 & 1 &  & 0 &  & 1 & 0 & 0 &  & 1 &  & 0 & 1 & 0 & \\\\\n",
    " & 1 & 1 & 1 &  & 0 &  & 1 & 0 & 0 &  & 1 &  & 0 & 1 & 1 & \\\\\n",
    " & 1 & 1 & 1 &  & 1 &  & 1 & 1 & 1 &  & 0 &  & 1 & 0 & 0 & \\\\\n",
    " & 1 & 1 & 1 &  & 1 &  & 1 & 1 & 1 &  & 1 &  & 1 & 1 & 1 & \\\\\n",
    "\\end{array}$$\n"
   ]
  },
  {
   "cell_type": "markdown",
   "metadata": {
    "id": "YVzz4vLHkVvj"
   },
   "source": [
    "## 2.12 Logical Equivalence\n"
   ]
  },
  {
   "cell_type": "markdown",
   "metadata": {
    "id": "V4UOX_n7kVvp"
   },
   "source": [
    "### Exercise 2.12.1"
   ]
  },
  {
   "cell_type": "markdown",
   "metadata": {
    "id": "kFeDFXEQkVvq"
   },
   "source": [
    "Use De Morgan&rsquo;s Laws to find the negations of the propositions:\n",
    "1. Winning the first round is necessary for winning the trophy.\n",
    "2. Winning the tournament is sufficient for winning the trophy.\n",
    "3. Getting an A on the final exam is necessary and sufficient for passing this class.\n",
    "\n"
   ]
  },
  {
   "cell_type": "code",
   "execution_count": null,
   "metadata": {
    "id": "dKmLRejckVvr"
   },
   "outputs": [],
   "source": [
    "#@title Hint {display-mode: \"form\"}\n",
    "print('''\n",
    "See Exercise 2.9.4 (link below) if necessary to remind yourself\n",
    "of the difference between necessary and sufficient, and how to\n",
    "express those in terms of the conditional operator. Note that to\n",
    "apply De Morgan's Laws you must first translate these conditional\n",
    "statements into their equivalent form (not p or q).\n",
    "''')"
   ]
  },
  {
   "cell_type": "markdown",
   "metadata": {
    "id": "8O-XgFIVlYmk"
   },
   "source": [
    "[Exercise 2.9.4](#scrollTo=BTcxVhQIGxxF&line=1&uniqifier=1)"
   ]
  },
  {
   "cell_type": "code",
   "execution_count": null,
   "metadata": {
    "id": "aAYp2HvVkVvr"
   },
   "outputs": [],
   "source": [
    "#@title Answer {display-mode: \"form\"}\n",
    "print('''\n",
    "p = winning the trophy\n",
    "q = winning the first round\n",
    "r = winning the tournament\n",
    "s = getting an A on the final exam\n",
    "t = passing this class\n",
    "\n",
    "1. p --> q, equivalent to not p or q, negated is p and not q, or\n",
    "   Winning the trophy is sufficient for not winning the first round\n",
    "   --OR--\n",
    "   Not winning the first round is necessary for winning the trophy.\n",
    "\n",
    "2. r --> p, equivalent to not r or p, negated is r and not p, or\n",
    "   Winning the tournament is sufficient for not winning the trophy\n",
    "   --OR--\n",
    "   Not winning the trophy is necessary for winning the tournament.\n",
    "\n",
    "3. s <--> t, equivalent to (not s or t) and (not t or s), negated\n",
    "   is not (not s or t) or not (not t or s), which is not (not s or t)\n",
    "   or (t and not s), which is (not s or t) --> (t and not s), which is\n",
    "   Not getting an A on the final exam or passing this class is sufficient\n",
    "   for passing this class and not getting an A on the final exam\n",
    "   --OR--\n",
    "   Passing this class and not getting an A on the final exam is necessary\n",
    "   for not getting an A on the final exam or passing this class.\n",
    "   --OR--\n",
    "   Getting an A on the final exam is necessary and sufficient for not\n",
    "   passing this class. (See Exercise 2.12.3)\n",
    "''')"
   ]
  },
  {
   "cell_type": "markdown",
   "metadata": {
    "id": "AASQhBtAqpRI"
   },
   "source": [
    "### Exercise 2.12.2"
   ]
  },
  {
   "cell_type": "markdown",
   "metadata": {
    "id": "tmdtBDW8qpRL"
   },
   "source": [
    "Show that $(p \\leftrightarrow q) \\land (p \\leftrightarrow r)$ and $p \\leftrightarrow (q \\land r)$ are **not** logically equivalent (i.e., the **biconditional** does not distribute over **and**)."
   ]
  },
  {
   "cell_type": "code",
   "execution_count": null,
   "metadata": {
    "id": "Fm3dCcozqpRM"
   },
   "outputs": [],
   "source": [
    "#@title Hint {display-mode: \"form\"}\n",
    "print('''\n",
    "You should make the truth table to verify this.\n",
    "''')"
   ]
  },
  {
   "cell_type": "code",
   "execution_count": null,
   "metadata": {
    "id": "D2PeovJHqpRP"
   },
   "outputs": [],
   "source": [
    "#@title Answer {display-mode: \"form\"}\n",
    "print('''\n",
    "The first three rows and the last row are true, the rest are false.\n",
    "''')"
   ]
  },
  {
   "cell_type": "markdown",
   "metadata": {
    "id": "IhZcgP83sF21"
   },
   "source": [
    "### Exercise 2.12.3"
   ]
  },
  {
   "cell_type": "markdown",
   "metadata": {
    "id": "CBAt1q5ksF22"
   },
   "source": [
    "Verify that $\\lnot(p \\leftrightarrow q)$ and $p \\leftrightarrow \\lnot q$ are logically equivalent by checking if this truth table (in either form) is correct:\n",
    "\n",
    "* Expanded\n",
    "\n",
    "$$\\begin{array}{ccccccc}\n",
    "p & q & p \\leftrightarrow q & \\lnot (p \\leftrightarrow q) & \\lnot q & (p \\leftrightarrow \\lnot q) & \\lnot (p \\leftrightarrow q) \\leftrightarrow (p \\leftrightarrow \\lnot q)\\\\\n",
    "\\hline\n",
    "0 & 0 & 1 & 0 & 1 & 0 & 1\\\\\n",
    "0 & 1 & 0 & 1 & 0 & 1 & 1\\\\\n",
    "1 & 0 & 0 & 1 & 1 & 1 & 1\\\\\n",
    "1 & 1 & 1 & 0 & 0 & 0 & 1\\\\\n",
    "\\end{array}$$\n",
    "\n",
    "* Compact\n",
    "\n",
    "$$\\begin{array}{lrlcccllclccccl}\n",
    "( & \\lnot & ( & p & \\leftrightarrow & q & ) & ) & \\leftrightarrow & ( & p & \\leftrightarrow & \\lnot & q & )\\\\\n",
    "\\hline\n",
    " & 0 &  & 0 & 1 & 0 &  &  & 1 &  & 0 & 0 & 1 & 0 & \\\\\n",
    " & 1 &  & 0 & 0 & 1 &  &  & 1 &  & 0 & 1 & 0 & 1 & \\\\\n",
    " & 1 &  & 1 & 0 & 0 &  &  & 1 &  & 1 & 1 & 1 & 0 & \\\\\n",
    " & 0 &  & 1 & 1 & 1 &  &  & 1 &  & 1 & 0 & 0 & 1 & \\\\\n",
    "\\end{array}$$\n",
    "\n"
   ]
  },
  {
   "cell_type": "markdown",
   "metadata": {
    "id": "7u1oXl6hvbdZ"
   },
   "source": [
    "### Exercise 2.12.4"
   ]
  },
  {
   "cell_type": "markdown",
   "metadata": {
    "id": "QgNgtxq4vbdZ"
   },
   "source": [
    "Find a compound proposition involving the propositional variables $p$, $q$, and $r$ that is true when $p$ and $q$ are true and $r$ is false, but is false otherwise.\n"
   ]
  },
  {
   "cell_type": "code",
   "execution_count": null,
   "metadata": {
    "id": "wtf5E_1_vbda"
   },
   "outputs": [],
   "source": [
    "#@title Hint {display-mode: \"form\"}\n",
    "print('''\n",
    "It's exactly as described.\n",
    "''')"
   ]
  },
  {
   "cell_type": "code",
   "execution_count": null,
   "metadata": {
    "id": "U5mWVj6evbdb"
   },
   "outputs": [],
   "source": [
    "#@title Answer {display-mode: \"form\"}\n",
    "print('''\n",
    "The compound proposition $p \\land q \\land \\lnot r$ is true when $p$ and $q$ are\n",
    "true and $r$ is false, but is false otherwise.\n",
    "''')"
   ]
  },
  {
   "cell_type": "markdown",
   "metadata": {
    "id": "G0ZcP419wu6u"
   },
   "source": [
    "## 2.13 Explanation and Implementation"
   ]
  },
  {
   "cell_type": "markdown",
   "metadata": {
    "id": "6baSyPY9w5Eg"
   },
   "source": [
    "### Exercise 2.13.1"
   ]
  },
  {
   "cell_type": "markdown",
   "metadata": {
    "id": "tna26j3fw5Eg"
   },
   "source": [
    "The implementation of the conditional operator in terms of its simplest logical equivalence that was given in Figure 2.14 is reproduced below, along with the implementation of the biconditional (iff) operator $p \\leftrightarrow q$ in terms of the conditional operator.\n"
   ]
  },
  {
   "cell_type": "code",
   "execution_count": null,
   "metadata": {
    "id": "x_eKlvxzxDoL"
   },
   "outputs": [],
   "source": [
    "def cond(p, q):\n",
    "  \"\"\"straight conditional\n",
    "  \"\"\"\n",
    "  return (not p) or q\n",
    "\n",
    "def iff(p, q):\n",
    "  \"\"\"biconditional:\n",
    "     p if and only if q.\n",
    "  \"\"\"\n",
    "  return cond(p, q) and cond(q, p)"
   ]
  },
  {
   "cell_type": "markdown",
   "metadata": {
    "id": "ibLYj45Kyr8g"
   },
   "source": [
    "Find two shorter ways (fewer characters) to correctly implement the ```iff``` function."
   ]
  },
  {
   "cell_type": "code",
   "execution_count": null,
   "metadata": {
    "id": "TxOlkNQbw5Eh"
   },
   "outputs": [],
   "source": [
    "#@title Hint {display-mode: \"form\"}\n",
    "print('''\n",
    "Use something you have seen before (see Figure 2.1).\n",
    "''')"
   ]
  },
  {
   "cell_type": "code",
   "execution_count": null,
   "metadata": {
    "id": "i-fagZ0Xw5Eh"
   },
   "outputs": [],
   "source": [
    "#@title Answer {display-mode: \"form\"}\n",
    "def xor(p, q):\n",
    "  return not q if p else q\n",
    "\n",
    "def iff1(p, q):\n",
    "  return not xor(p, q)\n",
    "\n",
    "def iff2(p, q):\n",
    "  return p == q"
   ]
  },
  {
   "cell_type": "markdown",
   "metadata": {
    "id": "qu3KiPEf0AvC"
   },
   "source": [
    "### Exercise 2.13.2"
   ]
  },
  {
   "cell_type": "markdown",
   "metadata": {
    "id": "GplkPshG0AvE"
   },
   "source": [
    "This is an exercise in implementing logic gate Boolean functions to generate &ldquo;personalities&rdquo; (output strings) of compound Boolean functions.\n",
    "\n",
    "Specifically, your task is to implement the $\\texttt{not1}$, $\\texttt{or2}$ and $\\texttt{and2}$ functions, **arithmetically** (i.e., do *not* use any conditional logic --- using $\\texttt{if}$ or the like). Use **only** the operators +, -, and *. The inputs to these three functions will be zeros or ones only. You'll know you got it right if $\\texttt{True}$ is printed when running the code in the two cells below:"
   ]
  },
  {
   "cell_type": "code",
   "execution_count": null,
   "metadata": {
    "id": "LJ2vTIbR0AvE"
   },
   "outputs": [],
   "source": [
    "def f1(p, q, r):\n",
    "    return or2(and2(p, q), not1(r))\n",
    "\n",
    "def f2(p, q, r):\n",
    "    return and2(p, or2(q, not1(r)))\n",
    "\n",
    "def f3(p, q, r):\n",
    "    return or2(p, and2(q, r))\n",
    "\n",
    "def personality3(boolfunc3):\n",
    "  outputs = ''\n",
    "  i1 = 0\n",
    "  while i1 <= 1:\n",
    "      i2 = 0\n",
    "      while i2 <= 1:\n",
    "          i3 = 0\n",
    "          while i3 <= 1:\n",
    "              outputs += str(boolfunc3(i1, i2, i3))\n",
    "              i3 += 1\n",
    "          i2 += 1\n",
    "      i1 += 1\n",
    "  return outputs"
   ]
  },
  {
   "cell_type": "code",
   "execution_count": null,
   "metadata": {
    "id": "5tzwX2X-1AQ1"
   },
   "outputs": [],
   "source": [
    "print(personality3(f1) == '10101011' and\n",
    "      personality3(f2) == '00001011' and\n",
    "      personality3(f3) == '00011111')"
   ]
  },
  {
   "cell_type": "code",
   "execution_count": null,
   "metadata": {
    "id": "hBNEq2f20AvE"
   },
   "outputs": [],
   "source": [
    "#@title Hint {display-mode: \"form\"}\n",
    "print('''\n",
    "Work in groups!\n",
    "''')"
   ]
  },
  {
   "cell_type": "code",
   "execution_count": null,
   "metadata": {
    "id": "wHVRL85x0AvF"
   },
   "outputs": [],
   "source": [
    "#@title Answer {display-mode: \"form\"}\n",
    "def and2(p, q):\n",
    "  return p * q\n",
    "\n",
    "def not1(p):\n",
    "  return 1 - p\n",
    "\n",
    "def or2(p, q):\n",
    "  return p + q - p * q"
   ]
  }
 ],
 "metadata": {
  "colab": {
   "authorship_tag": "ABX9TyM7C3GK5jRAEC2vcw8xvQj6",
   "collapsed_sections": [
    "TnVHqhsGXNRo",
    "yAbrb0Rjw5PN",
    "Ps9VWGU6w5PO",
    "yS0lzihiwv17",
    "MH-jwFMfYPAV",
    "bb3lX89z4Ol_",
    "QX0eSP5o5-le",
    "OnTW9qdR8IVC",
    "Qefn9ogh-Nm6",
    "dv-mx8l--QZG",
    "cka7gs7GBS72",
    "fBouumi6Ej4J",
    "7IPcft9pEagO",
    "kiW_JLgOtZVL",
    "IMirygwztZVN",
    "BxXa_GDDHebZ",
    "jUeZTWTFQLWy",
    "RA3nTBfMYYUm",
    "LhY32f6NaaZN",
    "dgIi_X7wkzRf",
    "IMHczLMQlaSt",
    "3KuEDe6qAZqG",
    "KtXoKlhjKmfq",
    "UxOhDCUSMxop",
    "CNzsWymVKxAB",
    "5g7jWZNTUt9v",
    "BzfmmLtuvajO",
    "5o1DUHX8Efii",
    "BTcxVhQIGxxF",
    "tX_qDfQfI0-k",
    "_7lCAQlzK4NE",
    "eBKeX7VeLJER",
    "8V4o4rixLKYS",
    "WwWaFQl7To06",
    "PyOAxvFWTo1B",
    "QdGrGvKcTo1E",
    "YVzz4vLHkVvj",
    "V4UOX_n7kVvp",
    "AASQhBtAqpRI",
    "IhZcgP83sF21",
    "7u1oXl6hvbdZ"
   ],
   "name": "chapter-2-sets-and-logic-exercises.ipynb",
   "private_outputs": true,
   "provenance": []
  },
  "kernelspec": {
   "display_name": "Python 3",
   "language": "python",
   "name": "python3"
  },
  "language_info": {
   "codemirror_mode": {
    "name": "ipython",
    "version": 3
   },
   "file_extension": ".py",
   "mimetype": "text/x-python",
   "name": "python",
   "nbconvert_exporter": "python",
   "pygments_lexer": "ipython3",
   "version": "3.9.0"
  }
 },
 "nbformat": 4,
 "nbformat_minor": 1
}
