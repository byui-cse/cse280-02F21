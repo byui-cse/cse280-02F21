{
 "cells": [
  {
   "cell_type": "markdown",
   "metadata": {
    "id": "rgfU4U9N_JBF"
   },
   "source": [
    "# <font color=blue>Think Logic</font>\n",
    "## <font color=blue>Consider the Ramifications</font>"
   ]
  },
  {
   "cell_type": "markdown",
   "metadata": {
    "id": "iDkD5RFf_JBG"
   },
   "source": [
    "## <font color=red>Logic is Everywhere</font>"
   ]
  },
  {
   "cell_type": "markdown",
   "metadata": {
    "id": "OJy1JqWa_JBH"
   },
   "source": [
    "### Applications of Discrete Mathematics\n",
    "\n"
   ]
  },
  {
   "cell_type": "markdown",
   "metadata": {
    "id": "h4Yofjhe_JBH"
   },
   "source": [
    "-   Formal Languages (computer languages)\n",
    "-   Natural Languages (people languages)\n",
    "-   Data Structures\n",
    "-   Algorithm Design\n",
    "-   Compiler Design\n",
    "-   Relational Database Theory\n",
    "-   Computability Theory\n",
    "-   &#x2026;\n",
    "\n"
   ]
  },
  {
   "cell_type": "markdown",
   "metadata": {
    "id": "XHRnCFPB_JBI"
   },
   "source": [
    "#### All of these (except one)\n",
    "\n"
   ]
  },
  {
   "cell_type": "markdown",
   "metadata": {
    "id": "gtr9kwOE_JBI"
   },
   "source": [
    "are built on the foundation of *formal* logic.\n",
    "\n"
   ]
  },
  {
   "cell_type": "markdown",
   "metadata": {
    "id": "uF3LoxaC_JBJ"
   },
   "source": [
    "#### As Opposed to Everyday Logic?\n",
    "\n"
   ]
  },
  {
   "cell_type": "markdown",
   "metadata": {
    "id": "ZotGmVRC_JBJ"
   },
   "source": [
    "> When we think, we bring a variety of thoughts together into some order. When the combination of thoughts are mutually supporting and make sense in combination, the thinking is “logical.” When the combination is not mutually supporting, is contradictory in some sense, or does not “make sense,” the combination is &ldquo;not logical.”\n",
    "\n",
    ">   &#x2014; Richard Paul and Linda Elder, *Critical Thinking, Concepts & Tools*\n",
    "\n"
   ]
  },
  {
   "cell_type": "markdown",
   "metadata": {
    "id": "odOha6ecAHp5"
   },
   "source": [
    "### Questions"
   ]
  },
  {
   "cell_type": "markdown",
   "metadata": {
    "id": "FIRXlC5VALMI"
   },
   "source": [
    "* Why is it important to think logically?\n",
    "* Why know logic (formal or informal)?"
   ]
  },
  {
   "cell_type": "markdown",
   "metadata": {
    "id": "73zJDjIP_JBK"
   },
   "source": [
    "### Answers\n",
    "\n"
   ]
  },
  {
   "cell_type": "markdown",
   "metadata": {
    "id": "EtmTzqvB_JBL"
   },
   "source": [
    "-   Logic sharpens your thinking, allowing it to “cut” more powerfully.\n",
    "-   Logic gives you a means to mechanize reasoning.\n",
    "\n"
   ]
  },
  {
   "cell_type": "markdown",
   "metadata": {
    "id": "zvAHO4PN_JBL"
   },
   "source": [
    "#### Which means?\n",
    "\n"
   ]
  },
  {
   "cell_type": "markdown",
   "metadata": {
    "id": "XOQO0Qsr_JBN"
   },
   "source": [
    "Mechanizing reasoning means programming a computer to do it.\n",
    "\n"
   ]
  },
  {
   "cell_type": "markdown",
   "metadata": {
    "id": "-AnpNunC_JBO"
   },
   "source": [
    "### The Proposition\n",
    "\n"
   ]
  },
  {
   "cell_type": "markdown",
   "metadata": {
    "id": "OizssKY-_JBO"
   },
   "source": [
    "Time flies like an arrow.\n",
    "\n"
   ]
  },
  {
   "cell_type": "markdown",
   "metadata": {
    "id": "0uUVYBBv_JBO"
   },
   "source": [
    "### The Problem\n",
    "\n"
   ]
  },
  {
   "cell_type": "markdown",
   "metadata": {
    "id": "9KAC2GYM_JBO"
   },
   "source": [
    "According to Steven Pinker:\n",
    "\n",
    "The problem is that computer parsers are too **meticulous** for their own good.\n",
    "They find ambiguities that are quite legitimate, as far as English grammar is\n",
    "concerned, but that would never occur to a sane person. One of the first\n",
    "computer parsers provided this famous example &#x2026; by finding, to the surprise\n",
    "of the programmers, five different meanings for these five words.\n",
    "\n"
   ]
  },
  {
   "cell_type": "markdown",
   "metadata": {
    "id": "Ast9XaiT_JBP"
   },
   "source": [
    "#### Meaning 1 (the intended reading)\n",
    "\n"
   ]
  },
  {
   "cell_type": "markdown",
   "metadata": {
    "id": "q6tF34ko_JBP"
   },
   "source": [
    "Time proceeds as quickly as an arrow proceeds.\n",
    "\n"
   ]
  },
  {
   "cell_type": "markdown",
   "metadata": {
    "id": "I6EWotAj_JBP"
   },
   "source": [
    "#### Meaning 2\n",
    "\n"
   ]
  },
  {
   "cell_type": "markdown",
   "metadata": {
    "id": "jHh8bdxS_JBP"
   },
   "source": [
    "Measure the speed of flies in the same way that you measure the\n",
    "speed of an arrow.\n",
    "\n"
   ]
  },
  {
   "cell_type": "markdown",
   "metadata": {
    "id": "yHeFlIyR_JBQ"
   },
   "source": [
    "#### Meaning 3\n",
    "\n"
   ]
  },
  {
   "cell_type": "markdown",
   "metadata": {
    "id": "-ZvAX4xa_JBQ"
   },
   "source": [
    "Measure the speed of flies in the same way that an arrow measures\n",
    "the speed of flies.\n",
    "\n"
   ]
  },
  {
   "cell_type": "markdown",
   "metadata": {
    "id": "Kldx8G-D_JBQ"
   },
   "source": [
    "#### Meaning 4\n",
    "\n"
   ]
  },
  {
   "cell_type": "markdown",
   "metadata": {
    "id": "jzyb0fTf_JBQ"
   },
   "source": [
    "Measure the speed of flies that resemble an arrow.\n",
    "\n"
   ]
  },
  {
   "cell_type": "markdown",
   "metadata": {
    "id": "8Mv987NY_JBQ"
   },
   "source": [
    "#### Meaning 5\n",
    "\n"
   ]
  },
  {
   "cell_type": "markdown",
   "metadata": {
    "id": "RjRIJW3v_JBR"
   },
   "source": [
    "Flies of a particular kind, time-flies, are fond of an arrow.\n",
    "\n"
   ]
  },
  {
   "cell_type": "markdown",
   "metadata": {
    "id": "KIms_TKe_JBR"
   },
   "source": [
    "#### An Aphorism to Capture the Moment\n",
    "\n"
   ]
  },
  {
   "cell_type": "markdown",
   "metadata": {
    "id": "_8aPweQl_JBR"
   },
   "source": [
    "Time flies like an arrow, fruit flies like a banana.\n",
    "\n"
   ]
  }
 ],
 "metadata": {
  "colab": {
   "name": "think-logic.ipynb",
   "provenance": []
  },
  "kernelspec": {
   "display_name": "Python 3",
   "language": "python",
   "name": "python3"
  },
  "language_info": {
   "codemirror_mode": {
    "name": "ipython",
    "version": 3
   },
   "file_extension": ".py",
   "mimetype": "text/x-python",
   "name": "python",
   "nbconvert_exporter": "python",
   "pygments_lexer": "ipython3",
   "version": "3.9.0"
  },
  "org": null
 },
 "nbformat": 4,
 "nbformat_minor": 1
}
