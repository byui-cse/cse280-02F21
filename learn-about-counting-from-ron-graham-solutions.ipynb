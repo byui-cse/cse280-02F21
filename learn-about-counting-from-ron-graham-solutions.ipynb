{
 "cells": [
  {
   "cell_type": "markdown",
   "metadata": {
    "id": "tPsaeovrVvGY"
   },
   "source": [
    "# <font color=blue>Learn About Counting From Ron Graham</font>\n",
    "## <font color=blue>Solutions</font>\n"
   ]
  },
  {
   "cell_type": "markdown",
   "metadata": {
    "id": "_MEsIcPeVwTX"
   },
   "source": [
    "## <font color=red>Teaching Combinatorics through Examples</font>"
   ]
  },
  {
   "cell_type": "markdown",
   "metadata": {
    "id": "FmzQAIzFWG7X"
   },
   "source": [
    "### <font color=red>Sandwiches</font>\n"
   ]
  },
  {
   "cell_type": "markdown",
   "metadata": {
    "id": "rUWKA6DjWHXg"
   },
   "source": [
    "| Set | Sandwich component | How many kinds? |\n",
    "|-----|--------|--:|\n",
    "|  B  | bread  | 3 |\n",
    "|  C  | cheese | 4 |\n",
    "|  S  | spread | 5 |\n",
    "|  M  | meat   | 6 |\n"
   ]
  },
  {
   "cell_type": "markdown",
   "metadata": {
    "id": "medt1yxxWjPR"
   },
   "source": [
    "How many different kinds of sandwiches are there?\n"
   ]
  },
  {
   "cell_type": "markdown",
   "metadata": {
    "id": "ks7vOiWYWkgF"
   },
   "source": [
    "$X = \\{(b, c, s, m)\\ \\vert\\ b \\in B, c \\in C, s \\in S, m \\in M\\}$\n"
   ]
  },
  {
   "cell_type": "markdown",
   "metadata": {
    "id": "c39Aa7xIWrZ_"
   },
   "source": [
    "$\\vert X \\vert = $?\n"
   ]
  },
  {
   "cell_type": "markdown",
   "metadata": {
    "id": "_GS62P1vWsF6"
   },
   "source": [
    "$X = R_0 \\cup R_1 \\cup R_2 \\cup R_3 \\cup R_4 \\cup R_5 \\cup R_6 \\cup R_7$.\n"
   ]
  },
  {
   "cell_type": "markdown",
   "metadata": {
    "id": "wu92CCW6WtRL"
   },
   "source": [
    "$\\vert X \\vert = \\vert R_0 \\vert + \\vert R_1 \\vert + \\vert R_2 \\vert + \\vert R_3 \\vert + \\vert R_4 \\vert + \\vert R_5 \\vert + \\vert R_6 \\vert + \\vert R_7 \\vert$\n"
   ]
  },
  {
   "cell_type": "markdown",
   "metadata": {
    "id": "yvWCoTa1Wyt6"
   },
   "source": [
    "#### <font color=purple>Restrictions</font>\n"
   ]
  },
  {
   "cell_type": "markdown",
   "metadata": {
    "id": "YwFf8ecwWzCn"
   },
   "source": [
    "| R | cheese? | spread? | meat? | How many?     |   = |\n",
    "|---|---------|---------|-------|--------------:|----:|\n",
    "| 0 | Yes     | Yes     | Yes   | 3 * 4 * 5 * 6 | 360 |\n",
    "| 1 | No      | Yes     | Yes   | 3 * 1 * 5 * 6 |  90 |\n",
    "| 2 | Yes     | No      | Yes   | 3 * 4 * 1 * 6 |  72 |\n",
    "| 3 | Yes     | Yes     | No    | 3 * 4 * 5 * 1 |  60 |\n",
    "| 4 | No      | No      | Yes   | 3 * 1 * 1 * 6 |  18 |\n",
    "| 5 | No      | Yes     | No    | 3 * 1 * 5 * 1 |  15 |\n",
    "| 6 | Yes     | No      | No    | 3 * 4 * 1 * 1 |  12 |\n",
    "| 7 | No      | No      | No    | 3 * 1 * 1 * 1 |   3 |\n",
    "|   |         |         |       | $\\sum$        | 630 |\n"
   ]
  },
  {
   "cell_type": "markdown",
   "metadata": {
    "id": "N1ToWDa_W3L5"
   },
   "source": [
    "The smarter way is the easier way.\n"
   ]
  },
  {
   "cell_type": "markdown",
   "metadata": {
    "id": "ckpB_nSWW4Tw"
   },
   "source": [
    "Add \"without\" as an option!\n"
   ]
  },
  {
   "cell_type": "markdown",
   "metadata": {
    "id": "5ZjqdZ6wW6Bc"
   },
   "source": [
    "4 kinds of cheese + \"no cheese\" = 5 total choices\n"
   ]
  },
  {
   "cell_type": "markdown",
   "metadata": {
    "id": "kaqUSvA2W7ZX"
   },
   "source": [
    "5 kinds of spread + \"no spread\" = 6 total choices\n"
   ]
  },
  {
   "cell_type": "markdown",
   "metadata": {
    "id": "XtoTLELUW-Il"
   },
   "source": [
    "6 kinds of meat + \"no meat\"     = 7 total choices\n"
   ]
  },
  {
   "cell_type": "code",
   "execution_count": null,
   "metadata": {
    "id": "ffmyoI5t9z8S"
   },
   "outputs": [],
   "source": [
    "3*5*6*7"
   ]
  },
  {
   "cell_type": "markdown",
   "metadata": {
    "id": "M_0HPcTSbMXS"
   },
   "source": [
    "## <font color=red>Another Counting/Probability Problem</font>"
   ]
  },
  {
   "cell_type": "markdown",
   "metadata": {
    "id": "p4oUPulGbVe2"
   },
   "source": [
    "What is the probability that 4 different randomly chosen points on an 8x8 chessboard (64 squares, count a point as the corner of one of these squares, not in the center or anywhere else) form a rectangle? (Count only rectangles with non-zero area, and with horizontal and vertical sides, not ones with other slanted angles.)"
   ]
  },
  {
   "cell_type": "code",
   "execution_count": null,
   "metadata": {
    "id": "ByBSLgUoNxnl"
   },
   "outputs": [],
   "source": [
    "# space_size = nCk(9 * 9, 4) \n",
    "space_size = 81 * 80 * 79 * 78 // (4 * 3 * 2 * 1)\n",
    "space_size = 27 * 20 * 79 * 39\n",
    "event_size = (9 - 1) ** 2 * 9 ** 2 / 4\n",
    "event_size = (9 * 8 // 2) ** 2\n",
    "print(event_size / space_size)\n",
    "[event_size, space_size]"
   ]
  }
 ],
 "metadata": {
  "colab": {
   "authorship_tag": "ABX9TyNwflpe+oL0kIgEolLH43PT",
   "collapsed_sections": [
    "IRq3M2u_uF0_"
   ],
   "name": "learn-about-counting-from-ron-graham-solutions.ipynb",
   "private_outputs": true,
   "provenance": []
  },
  "kernelspec": {
   "display_name": "Python 3",
   "language": "python",
   "name": "python3"
  },
  "language_info": {
   "codemirror_mode": {
    "name": "ipython",
    "version": 3
   },
   "file_extension": ".py",
   "mimetype": "text/x-python",
   "name": "python",
   "nbconvert_exporter": "python",
   "pygments_lexer": "ipython3",
   "version": "3.9.0"
  }
 },
 "nbformat": 4,
 "nbformat_minor": 1
}
