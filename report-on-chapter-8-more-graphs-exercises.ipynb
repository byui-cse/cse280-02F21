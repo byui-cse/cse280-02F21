{
 "cells": [
  {
   "cell_type": "markdown",
   "metadata": {
    "id": "V0aM2GXS54r0"
   },
   "source": [
    "# <font color=blue>Report on Chapter 8 More Graphs Exercises</font>\n"
   ]
  },
  {
   "cell_type": "markdown",
   "metadata": {
    "id": "p-Wlhant5_8m"
   },
   "source": [
    "## <font color=red>Instructions</font>\n"
   ]
  },
  {
   "cell_type": "markdown",
   "metadata": {
    "id": "eCl4W1Z96AtG"
   },
   "source": [
    "Assertions this week are both more stringent and more relaxed.\n"
   ]
  },
  {
   "cell_type": "markdown",
   "metadata": {
    "id": "JcDWpNOY6Bjn"
   },
   "source": [
    "$\\square$ I worked on Exercise 8.#.# and entered my answer in a .ipynb notebook.\n"
   ]
  },
  {
   "cell_type": "markdown",
   "metadata": {
    "id": "Bejeg6kU6C7e"
   },
   "source": [
    "$\\square$ I followed the protocol **to the letter** for getting the official answer (see below).\n"
   ]
  },
  {
   "cell_type": "markdown",
   "metadata": {
    "id": "4nvSqnsl6D5L"
   },
   "source": [
    "$\\square$ I checked my answer, and if incorrect, I pondered what I thought or did that tripped me up.\n"
   ]
  },
  {
   "cell_type": "markdown",
   "metadata": {
    "id": "4wVtlpwU6GFG"
   },
   "source": [
    "## <font color=red>Protocol</font>\n"
   ]
  },
  {
   "cell_type": "markdown",
   "metadata": {
    "id": "W2j1RAD66IEA"
   },
   "source": [
    "1. Send an email to your instructor with an attachment that has your answer in it.\n",
    "2. Make sure your email has a subject, and that it has exactly this form (replacing #.# with the right section and sequential numbers): Exercise 8.#.# Key Request\n"
   ]
  },
  {
   "cell_type": "markdown",
   "metadata": {
    "id": "dH72MfV56JdH"
   },
   "source": [
    "Note that this will only work if your instructor's gmail account is set up to auto-reply using filters and templates, with each looking something like:\n"
   ]
  },
  {
   "cell_type": "markdown",
   "metadata": {
    "id": "yKO6Cx7b6M56"
   },
   "source": [
    "Matches: **subject:(Exercise 8.12.5 Key Request) has:attachment**\n",
    "\n",
    "Do this: Skip Inbox, Mark as read, Send template \"Key 8.12.5\"\n"
   ]
  },
  {
   "cell_type": "markdown",
   "metadata": {
    "id": "qF2-57if6QCR"
   },
   "source": [
    "### <font color=purple>Suggestion</font>\n"
   ]
  },
  {
   "cell_type": "markdown",
   "metadata": {
    "id": "0q1bSl9Y6RQU"
   },
   "source": [
    "One suggested workflow is as follows:\n"
   ]
  },
  {
   "cell_type": "markdown",
   "metadata": {
    "id": "B0y6WyS16SA1"
   },
   "source": [
    "Do an exercise in your copy of the [Chapter 8 Graphs Exercises](https://colab.research.google.com/github/byui-cse/cse280-02F21/blob/main/chapter-8-graphs-exercises.ipynb) notebook, then request the key for it, attaching the notebook (that has your answer in it).\n"
   ]
  },
  {
   "cell_type": "markdown",
   "metadata": {
    "id": "ueLlf4iB6Urr"
   },
   "source": [
    "You should get a near-immediate auto-reply.\n"
   ]
  },
  {
   "cell_type": "markdown",
   "metadata": {
    "id": "aw2pOUgk6Vfi"
   },
   "source": [
    "Check your answer against the key.\n"
   ]
  },
  {
   "cell_type": "markdown",
   "metadata": {
    "id": "bQazvnpK6WU9"
   },
   "source": [
    "Then work on the next exercise, and request its answer key **attaching the same document** (it does not matter that it has more than your answer to the current exercise).\n"
   ]
  },
  {
   "cell_type": "markdown",
   "metadata": {
    "id": "oaXbnZ3E6X9v"
   },
   "source": [
    "Repeat until done!\n"
   ]
  },
  {
   "cell_type": "markdown",
   "metadata": {
    "id": "zfsH_9NR6Zqt"
   },
   "source": [
    "### <font color=purple>An Alternative</font>\n"
   ]
  },
  {
   "cell_type": "markdown",
   "metadata": {
    "id": "Mc7wOB6B6apS"
   },
   "source": [
    "Another suggested workflow is to **batch request** all the keys after doing all the exercises. Then it's just one email, attaching the one notebook that has all your answers. The auto-reply will have all the keys, **provided it gets triggered**:\n"
   ]
  },
  {
   "cell_type": "markdown",
   "metadata": {
    "id": "0jxvzK7c6blN"
   },
   "source": [
    "Matches: **subject:(Exercises 8.10.1-8.12.5 All Keys Request) has:attachment**\n",
    "\n",
    "Do this: Skip Inbox, Mark as read, Send template \"Keys 8.10.1-8.12.5\"\n"
   ]
  },
  {
   "cell_type": "markdown",
   "metadata": {
    "id": "I7C072iP6d5C"
   },
   "source": [
    "## <font color=red>Access</font>\n"
   ]
  },
  {
   "cell_type": "markdown",
   "metadata": {
    "id": "6MJck1-g6e5j"
   },
   "source": [
    "[Take the Self-Assessment](https://byui.instructure.com/courses/149380/quizzes/2724899)"
   ]
  }
 ],
 "metadata": {
  "colab": {
   "authorship_tag": "ABX9TyO8GVq3amRoQsp45yogQ5Ys",
   "name": "report-on-chapter-8-more-graphs-exercises.ipynb",
   "private_outputs": true,
   "provenance": []
  },
  "kernelspec": {
   "display_name": "Python 3",
   "language": "python",
   "name": "python3"
  },
  "language_info": {
   "codemirror_mode": {
    "name": "ipython",
    "version": 3
   },
   "file_extension": ".py",
   "mimetype": "text/x-python",
   "name": "python",
   "nbconvert_exporter": "python",
   "pygments_lexer": "ipython3",
   "version": "3.9.0"
  }
 },
 "nbformat": 4,
 "nbformat_minor": 1
}
