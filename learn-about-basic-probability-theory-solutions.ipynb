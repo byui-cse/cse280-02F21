{
 "cells": [
  {
   "cell_type": "markdown",
   "metadata": {
    "id": "DJvLmCh2tk7N"
   },
   "source": [
    "# <font color=blue>Learn About Basic Probability Theory</font>\n",
    "## <font color=blue>Solutions</font>\n"
   ]
  },
  {
   "cell_type": "markdown",
   "metadata": {
    "id": "6bm0dEwCuaoS"
   },
   "source": [
    "## <font color=red>**DONE** Deduce Some Properties of Probabilities</font>"
   ]
  },
  {
   "cell_type": "markdown",
   "metadata": {
    "id": "q3QJNDdmudwK"
   },
   "source": [
    "Remember that probability distributions satisfy two conditions:"
   ]
  },
  {
   "cell_type": "markdown",
   "metadata": {
    "id": "MF3fvy3oueY7"
   },
   "source": [
    "1. $0 \\le P(s) \\le 1$ for each $s \\in S$, and\n",
    "2. $\\sum_{s \\in S} P(s) = 1$."
   ]
  },
  {
   "cell_type": "markdown",
   "metadata": {
    "id": "JFe43U5Quils"
   },
   "source": [
    "Knowing these two conditions and how the s events partition the probability space, we can infer these three additional facts:"
   ]
  },
  {
   "cell_type": "markdown",
   "metadata": {
    "id": "tYoJzlTfukKD"
   },
   "source": [
    "1. For the *complementary* event, $P(\\overline{s}) = 1 - P(s)$.\n",
    "2. For the *union* of two events (either one or both happen), $P(E \\cup F) = P(E) + P(F) - P(E \\cap F)$.\n",
    "3. For *independent events*, $P(E \\cap F) = P(E) \\cdot P(F)$.\n"
   ]
  },
  {
   "cell_type": "markdown",
   "metadata": {
    "id": "olxJOivNuph2"
   },
   "source": [
    "Furthermore, the probability of the union of two independent events is the sum of the probabilities of the two events minus the product of their probabilities.\n"
   ]
  },
  {
   "cell_type": "markdown",
   "metadata": {
    "id": "9JLiB2Okuqfv"
   },
   "source": [
    "Given the above, what can you say about the probability of the union of two *mutually exclusive* events?\n"
   ]
  },
  {
   "cell_type": "markdown",
   "metadata": {
    "id": "-C1o60jRRpkl"
   },
   "source": [
    "When you finish answering this, please tackle Exercise 5.6.9."
   ]
  },
  {
   "cell_type": "markdown",
   "metadata": {},
   "source": [
    "Answer: The probability of the union of two *mutually exclusive* events is the **sum** of their probabilities --- period.\n"
   ]
  },
  {
   "cell_type": "markdown",
   "metadata": {},
   "source": [
    "There is no need to subtract the probability of their intersection (as per Fact 2), which (per Fact 3) would be the product of their probabilities **if they were independent events**. But *mutually exclusive* events are most definitely **NOT** independent --- if one happens, the other cannot, and vice versa.\n"
   ]
  }
 ],
 "metadata": {
  "colab": {
   "authorship_tag": "ABX9TyP7k1j4zF/AXZnYf0b1MwhX",
   "collapsed_sections": [],
   "name": "learn-about-basic-probability-theory-solutions.ipynb",
   "private_outputs": true,
   "provenance": []
  },
  "kernelspec": {
   "display_name": "Python 3",
   "language": "python",
   "name": "python3"
  },
  "language_info": {
   "codemirror_mode": {
    "name": "ipython",
    "version": 3
   },
   "file_extension": ".py",
   "mimetype": "text/x-python",
   "name": "python",
   "nbconvert_exporter": "python",
   "pygments_lexer": "ipython3",
   "version": "3.9.0"
  }
 },
 "nbformat": 4,
 "nbformat_minor": 1
}
