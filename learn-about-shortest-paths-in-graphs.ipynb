{
 "cells": [
  {
   "cell_type": "markdown",
   "metadata": {
    "id": "kVCZljwbDH6f"
   },
   "source": [
    "# <font color=blue>Learn About Shortest Paths in Graphs</font>\n",
    "## <font color=blue>Teach One Another</font>\n"
   ]
  },
  {
   "cell_type": "markdown",
   "metadata": {
    "id": "dSbw4uOkDNnp"
   },
   "source": [
    "## <font color=red>Graphs and Paths</font>\n"
   ]
  },
  {
   "cell_type": "markdown",
   "metadata": {
    "id": "T7MO55sADPEc"
   },
   "source": [
    "Several insights await the taker of paths through graphs.\n"
   ]
  },
  {
   "cell_type": "markdown",
   "metadata": {
    "id": "28sbqFEaDSVy"
   },
   "source": [
    "Consider the Traveling Salesperson Problem (TSP), whose gist, given by Peter Norvig, Director of Research for Google, is\n"
   ]
  },
  {
   "cell_type": "markdown",
   "metadata": {
    "id": "5f7N8X3_DTaV"
   },
   "source": [
    "> Given a list of cities and the distances between them, what tour through all the cities that returns to the starting city is the shortest?\n"
   ]
  },
  {
   "cell_type": "markdown",
   "metadata": {
    "id": "h4syBXb6DUr5"
   },
   "source": [
    "This problem treated in some depth in Norvig's [**&ldquo;pytude&rdquo;**](https://colab.research.google.com/github/norvig/pytudes/blob/main/ipynb/TSP.ipynb).\n"
   ]
  },
  {
   "cell_type": "markdown",
   "metadata": {
    "id": "TemL9cahDWD9"
   },
   "source": [
    "The simplicity of the statement of the TSP masks its complexity. But its complexity must be dealt with, as the TSP is useful in many real world applications:\n"
   ]
  },
  {
   "cell_type": "markdown",
   "metadata": {
    "id": "IR1mCeZyDXLg"
   },
   "source": [
    "* Route optimization;\n",
    "* Manufacturing;\n",
    "* Astronomy; and\n",
    "* The list goes on...\n"
   ]
  },
  {
   "cell_type": "markdown",
   "metadata": {
    "id": "evCstYTvDYvL"
   },
   "source": [
    "The brute force approach is both simple and straightforward:\n"
   ]
  },
  {
   "cell_type": "markdown",
   "metadata": {
    "id": "p94G0ZyzDaAA"
   },
   "source": [
    "1. produce every permutation of cities;\n",
    "2. for each permutation, create a tour by joining the last node to the first node;\n",
    "3. calculate each tour's distance; and\n",
    "4. return the tour with the shortest distance.\n"
   ]
  },
  {
   "cell_type": "markdown",
   "metadata": {
    "id": "axdeEBoHDbEN"
   },
   "source": [
    "The problem with this approach is, of course, **combinatorial explosion** --- how quickly the number of permutations grows!\n"
   ]
  },
  {
   "cell_type": "markdown",
   "metadata": {
    "id": "5af20MFSDhpD"
   },
   "source": [
    "Finally, consider for a simpler variation of the TSP, the [USA graph](https://byui-cse.github.io/cse280-course/images/usa-shortest-path.png).\n"
   ]
  },
  {
   "cell_type": "markdown",
   "metadata": {
    "id": "AyF-jxSyDjqu"
   },
   "source": [
    "How would you find the shortest path (driving-distance-wise) from one (city) state (e.g., (Sacramento) California) to another (e.g., (Augusta) Maine --- for a long shortest path.)\n"
   ]
  },
  {
   "cell_type": "markdown",
   "metadata": {
    "id": "eydatSsZDlfy"
   },
   "source": [
    "## <font color=red>**TODO** Study This Code and Apply It</font>\n"
   ]
  },
  {
   "cell_type": "code",
   "execution_count": null,
   "metadata": {
    "id": "t1KP5JX2DmsE"
   },
   "outputs": [],
   "source": [
    "from collections import defaultdict\n",
    "\n",
    "def create_graph(links):\n",
    "  neighbors = defaultdict(list)\n",
    "  for node1, node2 in links:\n",
    "    neighbors[node1].append(node2)\n",
    "    neighbors[node2].append(node1)\n",
    "  return neighbors\n",
    "\n",
    "def read_graph_links(filename):\n",
    "  f = open(filename, 'r')\n",
    "  links = []\n",
    "  for line in f:\n",
    "    links.append(tuple(line.split()))\n",
    "  return links\n",
    "\n",
    "def find_shortest_path(graph, length_limit, start, end, path, shortest_path):\n",
    "  if len(path) > length_limit or (len(shortest_path) > 0 and len(shortest_path) < len(path)):\n",
    "    return shortest_path\n",
    "\n",
    "  if end in graph[start]:\n",
    "    path.append(start)\n",
    "    path.append(end)\n",
    "    if len(shortest_path) == 0 or len(path) < len(shortest_path):\n",
    "      shortest_path = path.copy()\n",
    "    return shortest_path\n",
    "\n",
    "  path.append(start)\n",
    "  nodes = graph[start]\n",
    "\n",
    "  for node in nodes:\n",
    "    if node not in path:\n",
    "      new_path = path.copy()\n",
    "      shortest_path = find_shortest_path(graph, length_limit, node, end, new_path, shortest_path)\n",
    "\n",
    "  return shortest_path"
   ]
  },
  {
   "cell_type": "code",
   "execution_count": null,
   "metadata": {
    "id": "i3gHkS8PEog-"
   },
   "outputs": [],
   "source": [
    "!curl -s -O https://byui-cse.github.io/cse280-course/usa_graph_links.txt"
   ]
  },
  {
   "cell_type": "code",
   "execution_count": null,
   "metadata": {
    "id": "x7HWsacqEhgC"
   },
   "outputs": [],
   "source": [
    "usa_graph = create_graph(read_graph_links('usa_graph_links.txt'))"
   ]
  },
  {
   "cell_type": "code",
   "execution_count": null,
   "metadata": {},
   "outputs": [],
   "source": [
    "find_shortest_path(usa_graph, 5, 'UT', 'NY', [], [])"
   ]
  }
 ],
 "metadata": {
  "colab": {
   "authorship_tag": "ABX9TyOhlVIkFonEzZ9tAhQ+NTEN",
   "name": "learn-about-shortest-paths-in-graphs.ipynb",
   "private_outputs": true,
   "provenance": []
  },
  "kernelspec": {
   "display_name": "Python 3",
   "language": "python",
   "name": "python3"
  },
  "language_info": {
   "codemirror_mode": {
    "name": "ipython",
    "version": 3
   },
   "file_extension": ".py",
   "mimetype": "text/x-python",
   "name": "python",
   "nbconvert_exporter": "python",
   "pygments_lexer": "ipython3",
   "version": "3.9.0"
  }
 },
 "nbformat": 4,
 "nbformat_minor": 1
}
