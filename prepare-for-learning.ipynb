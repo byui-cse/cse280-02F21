{
 "cells": [
  {
   "cell_type": "markdown",
   "metadata": {
    "id": "b4_FwROi_3F-"
   },
   "source": [
    "# <font color=blue>Prepare for Learning</font>"
   ]
  },
  {
   "cell_type": "markdown",
   "metadata": {
    "id": "txFBRukJLjbO"
   },
   "source": [
    "## <font color=red>Instructions</font>"
   ]
  },
  {
   "cell_type": "markdown",
   "metadata": {
    "id": "Erwv3nK9_2Fm"
   },
   "source": [
    "Answer questions on the content from the book, Preface and Chapter 1 Introductions, and all first-level links therefrom."
   ]
  },
  {
   "cell_type": "markdown",
   "metadata": {
    "id": "xn_SqVAUAds_"
   },
   "source": [
    "One question will ask you to make a distinction between exercises and problems; hence, read the following:"
   ]
  },
  {
   "cell_type": "markdown",
   "metadata": {
    "id": "ss5BTNr_9aJt"
   },
   "source": [
    "## <font color=red>Exercises Versus Problems</font>\n"
   ]
  },
  {
   "cell_type": "markdown",
   "metadata": {
    "id": "hvdgx9359aJu"
   },
   "source": [
    "This is a synopsis of the explanation Paul Zeitz gives in Chapter 1 of his\n",
    "book [The Art and Craft of Problem Solving](https://www.wiley.com/en-us/The+Art+and+Craft+of+Problem+Solving%252C+3rd+Edition-p-9781119094845), wherein he seeks to clearly answer\n",
    "these and related questions:\n",
    "\n",
    "What does problem solving mean?\n",
    "\n",
    "Why should you study it?\n",
    "\n",
    "What is the difference between exercises and problems?\n",
    "\n",
    "**An exercise** is a mathematical question that you immediately know how to\n",
    "answer. You may not answer it correctly, or it may be nearly impossible to\n",
    "answer, but there is no doubt about how to proceed.\n",
    "\n",
    "**A problem** is a question that you initially don&rsquo;t know how to answer. One\n",
    "person&rsquo;s problem may be another person&rsquo;s exercise. Problems require\n",
    "investigation, using strategies and tactics.\n",
    "\n",
    "Work on problems to develop mental discipline.\n",
    "\n",
    "Brain exercises like crossword puzzles or Sudoku puzzles are not without\n",
    "merit, but they miss a crucial aspect of your intellectual life. Our brains\n",
    "can help us with open-ended experimentation, involving long wild goose chases\n",
    "and hard-earned triumph. We need brain problems.\n",
    "\n",
    "Exercisers are gym rats, problem solvers are mountaineers. Climbing a mountain\n",
    "is a messier experience, but it is much more fun.\n",
    "\n",
    "Exercise: Learning Italian from a book.\n",
    "\n",
    "Problem: Learning Italian by immersion.\n",
    "\n",
    "Problem solving should be a way of life.\n",
    "\n",
    "There are psychological barriers to problem solving.\n",
    "\n",
    "Learning to become a problem solver requires a change in mental attitudes.\n",
    "\n",
    "Most of us are not used to thinking hard for a few seconds or a minute.\n",
    "\n",
    "Work on increasing your levels.\n",
    "\n"
   ]
  },
  {
   "cell_type": "markdown",
   "metadata": {
    "id": "TWyhsalp9aJw"
   },
   "source": [
    "### Levels in seconds (roughly)\n",
    "\n"
   ]
  },
  {
   "cell_type": "markdown",
   "metadata": {
    "id": "eqDANlsE9aJ0"
   },
   "source": [
    "-   10<sup>0</sup> Second\n",
    "-   10<sup>1</sup> Minute\n",
    "-   10<sup>3</sup> Hour\n",
    "-   10<sup>5</sup> Day\n",
    "-   10<sup>6</sup> Week\n",
    "-   10<sup>7</sup> Year\n",
    "-   10<sup>9</sup> Lifetime\n",
    "\n",
    "We will fail in problem solving. We need to cultivate an attitude that\n",
    "investigation is worthwhile even if it doesn&rsquo;t lead to a solution.\n",
    "\n",
    ">   The explorer is the person who is lost. &#x2014; Tim Cahill, *Jaguars Ripped My Flesh*\n",
    "\n"
   ]
  },
  {
   "cell_type": "markdown",
   "metadata": {
    "id": "nfLvyRBh9aJ1"
   },
   "source": [
    "### Art\n",
    "\n"
   ]
  },
  {
   "cell_type": "markdown",
   "metadata": {
    "id": "pHAzdE0t9aJ2"
   },
   "source": [
    "Folklore: Stories with morals\n",
    "\n"
   ]
  },
  {
   "cell_type": "markdown",
   "metadata": {
    "id": "mkM0FO6J9aJ3"
   },
   "source": [
    "### Craft\n",
    "\n"
   ]
  },
  {
   "cell_type": "markdown",
   "metadata": {
    "id": "sWivLd4J9aJ4"
   },
   "source": [
    "Strategies: broad\n",
    "\n",
    "Tactics: narrow\n",
    "\n"
   ]
  },
  {
   "cell_type": "markdown",
   "metadata": {
    "id": "sno7Vy3-9aJ5"
   },
   "source": [
    "### Strategies and Tactics\n",
    "\n"
   ]
  },
  {
   "cell_type": "markdown",
   "metadata": {
    "id": "v2emfz7m9aJ6"
   },
   "source": [
    "Strategy: Wishful Thinking. Yay, I&rsquo;ve solved the problem! Pretend you&rsquo;ve got\n",
    "a solution. This helps you learn the penultimate step.\n",
    "\n",
    "Strategy: Get Your Hands Dirty (Concretize The Abstract)\n",
    "\n",
    "Tactic: Symmetry.\n",
    "\n",
    "A problem is a problem because we needed more information. When you\n",
    "balance your problem, you get more information.\n",
    "\n"
   ]
  },
  {
   "cell_type": "markdown",
   "metadata": {
    "id": "pss1q7zC9vIF"
   },
   "source": [
    "## <font color=red>Watch and Learn</font>"
   ]
  },
  {
   "cell_type": "markdown",
   "metadata": {
    "id": "nif7S-cY9xVx"
   },
   "source": [
    "Watch Arthur Benjamin's TED talk, *The Magic of Fibonacci Numbers*, by running the code cell below:"
   ]
  },
  {
   "cell_type": "code",
   "execution_count": null,
   "metadata": {
    "id": "ROcgUY4I-SAD"
   },
   "outputs": [],
   "source": [
    "# 6 minutes 24 seconds\n",
    "from IPython.display import YouTubeVideo\n",
    "YouTubeVideo('SjSHVDfXHQ4')"
   ]
  },
  {
   "cell_type": "markdown",
   "metadata": {
    "id": "Df-7O93xBPGy"
   },
   "source": [
    "On the last question, be prepared to fill in the blanks from something he says.\n"
   ]
  },
  {
   "cell_type": "markdown",
   "metadata": {
    "id": "jp6UXJRsBaw-"
   },
   "source": [
    "## <font color=red>Access</font>"
   ]
  },
  {
   "cell_type": "markdown",
   "metadata": {
    "id": "alaJ2UjGBraX"
   },
   "source": [
    "[Take the Quiz]()\n"
   ]
  }
 ],
 "metadata": {
  "colab": {
   "name": "prepare-for-learning.ipynb",
   "provenance": []
  },
  "kernelspec": {
   "display_name": "Python 3",
   "language": "python",
   "name": "python3"
  },
  "language_info": {
   "codemirror_mode": {
    "name": "ipython",
    "version": 3
   },
   "file_extension": ".py",
   "mimetype": "text/x-python",
   "name": "python",
   "nbconvert_exporter": "python",
   "pygments_lexer": "ipython3",
   "version": "3.9.0"
  },
  "org": null
 },
 "nbformat": 4,
 "nbformat_minor": 1
}
