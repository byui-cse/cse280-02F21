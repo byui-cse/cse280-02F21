{
 "cells": [
  {
   "cell_type": "markdown",
   "metadata": {
    "id": "KT0iXo3MJ9Mn"
   },
   "source": [
    "# <font color=blue>Reflect and Report on Learning</font>\n",
    "## <font color=blue>Prepare</font>"
   ]
  },
  {
   "cell_type": "markdown",
   "metadata": {
    "id": "3DFV8qZzKe-B"
   },
   "source": [
    "## <font color=red>Instructions</font>"
   ]
  },
  {
   "cell_type": "markdown",
   "metadata": {
    "id": "ZiGJH3Rn5GqB"
   },
   "source": [
    "Read and think [About Grades](https://colab.research.google.com/github/byui-cse/cse280-02F21/blob/main/about-grades.ipynb)."
   ]
  },
  {
   "cell_type": "markdown",
   "metadata": {},
   "source": [
    "Now ponder what, if anything, you learned about learning."
   ]
  },
  {
   "cell_type": "markdown",
   "metadata": {
    "id": "hiKnE6eOKQKH"
   },
   "source": [
    "## <font color=red>Access</font>"
   ]
  },
  {
   "cell_type": "markdown",
   "metadata": {},
   "source": [
    "Nothing to report this week. Starting next week there will be a link like the one below to take you to a self-assessment --- a vehicle to report on your reflections for the week."
   ]
  },
  {
   "cell_type": "markdown",
   "metadata": {
    "id": "d980c2uIkSbD"
   },
   "source": [
    "[Take the Self-Assessment]()"
   ]
  }
 ],
 "metadata": {
  "colab": {
   "authorship_tag": "ABX9TyO/+lWMZNrzfHVV82g6Gp2i",
   "name": "reflect-and-report-on-learning.ipynb",
   "private_outputs": true,
   "provenance": []
  },
  "kernelspec": {
   "display_name": "Python 3",
   "language": "python",
   "name": "python3"
  },
  "language_info": {
   "codemirror_mode": {
    "name": "ipython",
    "version": 3
   },
   "file_extension": ".py",
   "mimetype": "text/x-python",
   "name": "python",
   "nbconvert_exporter": "python",
   "pygments_lexer": "ipython3",
   "version": "3.9.0"
  }
 },
 "nbformat": 4,
 "nbformat_minor": 1
}
