{
 "cells": [
  {
   "cell_type": "markdown",
   "metadata": {
    "id": "qW06eIJD1F73"
   },
   "source": [
    "# <font color=blue>Learn More About Residue Number Systems</font>\n",
    "## <font color=blue>Solutions</font>\n"
   ]
  },
  {
   "cell_type": "markdown",
   "metadata": {
    "id": "eMMOm2-MYfvx"
   },
   "source": [
    "# <font color=red>**DONE** Study and Finish Sample Partial Solution</font>\n"
   ]
  },
  {
   "cell_type": "code",
   "execution_count": null,
   "metadata": {
    "id": "hVoCdzn2Bc5x"
   },
   "outputs": [],
   "source": [
    "def igcd(b, n):\n",
    "  x0, x1, y0, y1 = 1, 0, 0, 1\n",
    "  while n != 0:\n",
    "      q, b, n = b // n, n, b % n\n",
    "      x0, x1 = x1, x0 - q * x1\n",
    "      y0, y1 = y1, y0 - q * y1\n",
    "  return b, x0, y0\n",
    "\n",
    "def find_mmi(o, m):\n",
    "  d, x, y = igcd(o, m)\n",
    "  return x"
   ]
  },
  {
   "cell_type": "code",
   "execution_count": null,
   "metadata": {
    "id": "H0hxrKKdWVG9"
   },
   "outputs": [],
   "source": [
    "# global variables\n",
    "\n",
    "m1 = 2 ** 35 - 1\n",
    "m2 = 2 ** 34 - 1\n",
    "m3 = 2 ** 33 - 1\n",
    "m4 = 2 ** 29 - 1\n",
    "m5 = 2 ** 23 - 1\n",
    "\n",
    "m1m2m3m4m5 = m1 * m2 * m3 * m4 * m5\n",
    "m1m2m3m4m5_list = [m1, m2, m3, m4, m5]\n",
    "\n",
    "o1 = m1m2m3m4m5 // m1\n",
    "o2 = m1m2m3m4m5 // m2\n",
    "o3 = m1m2m3m4m5 // m3\n",
    "o4 = m1m2m3m4m5 // m4\n",
    "o5 = m1m2m3m4m5 // m5\n",
    "\n",
    "y1 = find_mmi(o1, m1)\n",
    "y2 = find_mmi(o2, m2)\n",
    "y3 = find_mmi(o3, m3)\n",
    "y4 = find_mmi(o4, m4)\n",
    "y5 = find_mmi(o5, m5)\n",
    "\n",
    "m1m2m3m4m5_oy_list = [o1 * y1, o2 * y2, o3 * y3, o4 * y4, o5 * y5]"
   ]
  },
  {
   "cell_type": "code",
   "execution_count": null,
   "metadata": {
    "id": "2ycLSRHEB8nU"
   },
   "outputs": [],
   "source": [
    "def toRNS(n):\n",
    "  global m1, m2, m3, m4, m5\n",
    "  return (n % m1, n % m2, n % m3, n % m4, n % m5)"
   ]
  },
  {
   "cell_type": "code",
   "execution_count": null,
   "metadata": {
    "id": "npVWtreX_QjG"
   },
   "outputs": [],
   "source": [
    "def solveSSC(rns, m, oy_list):\n",
    "  roys = map(lambda r, oy: r * oy, rns, oy_list)\n",
    "  almost = sum(roys)\n",
    "  return almost % m"
   ]
  },
  {
   "cell_type": "code",
   "execution_count": null,
   "metadata": {
    "id": "EXvQGJue-i96"
   },
   "outputs": [],
   "source": [
    "def fromRNS(rns):\n",
    "  global m1m2m3m4m5, m1m2m3m4m5_oy_list\n",
    "  return solveSSC(rns, m1m2m3m4m5, m1m2m3m4m5_oy_list)"
   ]
  },
  {
   "cell_type": "code",
   "execution_count": null,
   "metadata": {
    "id": "K7jQy6SbWtwZ"
   },
   "outputs": [],
   "source": [
    "rns = toRNS(1234567890123456789)"
   ]
  },
  {
   "cell_type": "code",
   "execution_count": null,
   "metadata": {
    "id": "b5sMcqhGU03t"
   },
   "outputs": [],
   "source": [
    "rns"
   ]
  },
  {
   "cell_type": "code",
   "execution_count": null,
   "metadata": {
    "id": "xO2AUK_gCePF"
   },
   "outputs": [],
   "source": [
    "fromRNS(rns)"
   ]
  },
  {
   "cell_type": "code",
   "execution_count": null,
   "metadata": {
    "id": "3VIiYs-OOrUL"
   },
   "outputs": [],
   "source": [
    "def add2(rns1, rns2):\n",
    "  global m1m2m3m4m5_list\n",
    "  return tuple([r1 + r2 % m for r1, r2, m in zip(rns1, rns2, m1m2m3m4m5_list)])"
   ]
  },
  {
   "cell_type": "code",
   "execution_count": null,
   "metadata": {
    "id": "7aNpNyEDQ0Im"
   },
   "outputs": [],
   "source": [
    "def mul2(rns1, rns2):\n",
    "  global m1m2m3m4m5_list\n",
    "  return tuple([r1 * r2 % m for r1, r2, m in zip(rns1, rns2, m1m2m3m4m5_list)])"
   ]
  },
  {
   "cell_type": "code",
   "execution_count": null,
   "metadata": {
    "id": "C-KigdSsVcjb"
   },
   "outputs": [],
   "source": [
    "list(zip(toRNS(1111), toRNS(2222), toRNS(3333)))"
   ]
  },
  {
   "cell_type": "code",
   "execution_count": null,
   "metadata": {
    "id": "QL1uMCBYPA0z"
   },
   "outputs": [],
   "source": [
    "fromRNS(add2(toRNS(11111111111111111111), toRNS(22222222222222222222)))"
   ]
  },
  {
   "cell_type": "code",
   "execution_count": null,
   "metadata": {
    "id": "SauSZEyAV3yW"
   },
   "outputs": [],
   "source": [
    "fromRNS(mul2(toRNS(11111111111111111111), toRNS(22222222222222222222)))"
   ]
  },
  {
   "cell_type": "code",
   "execution_count": null,
   "metadata": {
    "id": "oGP9DT8mVJur"
   },
   "outputs": [],
   "source": [
    "11111111111111111111 * 22222222222222222222"
   ]
  },
  {
   "cell_type": "markdown",
   "metadata": {
    "id": "FfNZYAbb31um"
   },
   "source": [
    "# <font color=red>Contributed by Tim Womble (Spring 2021)\n",
    "## With additions by Kyle Mueller</font>"
   ]
  },
  {
   "cell_type": "markdown",
   "metadata": {
    "id": "da5VpThN3jAn"
   },
   "source": [
    "## Exploration Code"
   ]
  },
  {
   "cell_type": "code",
   "execution_count": null,
   "metadata": {
    "id": "90ClbVm06xEJ"
   },
   "outputs": [],
   "source": [
    "fromRNS(add2(toRNS(11111111111111111111111111111111111111111111111), toRNS(22222222222222222222)))"
   ]
  },
  {
   "cell_type": "code",
   "execution_count": null,
   "metadata": {
    "id": "KOeQGml9v5jL"
   },
   "outputs": [],
   "source": [
    "print(10**47-1)"
   ]
  },
  {
   "cell_type": "code",
   "execution_count": null,
   "metadata": {
    "id": "CrFLgIQJ6xEL"
   },
   "outputs": [],
   "source": [
    "fromRNS(mul2(toRNS(1111111111111111111), toRNS(22222222222222222222222222222222)))"
   ]
  },
  {
   "cell_type": "code",
   "execution_count": null,
   "metadata": {
    "id": "OnHjF1TNuZDw"
   },
   "outputs": [],
   "source": [
    "print(len(str(m1m2m3m4m5)))\n",
    "print(m1m2m3m4m5.bit_length())"
   ]
  },
  {
   "cell_type": "markdown",
   "metadata": {
    "id": "1Dg8eYC03lVi"
   },
   "source": [
    "## Testing Setup"
   ]
  },
  {
   "cell_type": "code",
   "execution_count": null,
   "metadata": {
    "id": "zNAqIgLevgqs"
   },
   "outputs": [],
   "source": [
    "import random"
   ]
  },
  {
   "cell_type": "code",
   "execution_count": null,
   "metadata": {
    "id": "DSBcC665vLI1"
   },
   "outputs": [],
   "source": [
    "# Numbers for addition testing\n",
    "# Each number can be roughly 150 bits in size\n",
    "big_numbers_1 = list(map(random.getrandbits, random.sample(range(143, 153), 10)))\n",
    "big_numbers_2 = list(map(random.getrandbits, random.sample(range(143, 153), 10)))\n",
    "print(big_numbers_1)\n",
    "print(big_numbers_2)"
   ]
  },
  {
   "cell_type": "code",
   "execution_count": null,
   "metadata": {
    "id": "FnineTk6qJhz"
   },
   "outputs": [],
   "source": [
    "# Enforces that the random number produced is never greater than the square root of the modulus,\n",
    "# thus ensuring that multiplication with the RNS will never \"overflow\"\n",
    "from math import floor, sqrt\n",
    "srm = floor(sqrt(m1m2m3m4m5))\n",
    "\n",
    "def rand_safe(num_bits):\n",
    "  n = random.getrandbits(num_bits)\n",
    "  while n > srm:\n",
    "    n = random.getrandbits(num_bits)\n",
    "  return n"
   ]
  },
  {
   "cell_type": "code",
   "execution_count": null,
   "metadata": {
    "id": "LNOAJsxuEDlZ"
   },
   "outputs": [],
   "source": [
    "# Numbers for multiplication testing\n",
    "# Each number can be roughly 80 bits in size\n",
    "big_numbers_3 = list(map(rand_safe, random.sample(range(70, 80), 10)))\n",
    "big_numbers_4 = list(map(rand_safe, random.sample(range(70, 80), 10)))\n",
    "print(big_numbers_3)\n",
    "print(big_numbers_4)"
   ]
  },
  {
   "cell_type": "markdown",
   "metadata": {
    "id": "2Sx7finO3bz5"
   },
   "source": [
    "## Compare Addition Times"
   ]
  },
  {
   "cell_type": "code",
   "execution_count": null,
   "metadata": {
    "id": "NLJRK0UwB2Od"
   },
   "outputs": [],
   "source": [
    "# Custom RNS Implementation\n",
    "# Check cell time at left\n",
    "for (x, y) in zip(big_numbers_1, big_numbers_2):\n",
    "  print(fromRNS(add2(toRNS(x), toRNS(y))))"
   ]
  },
  {
   "cell_type": "code",
   "execution_count": null,
   "metadata": {
    "id": "bGITMz_sDoP8"
   },
   "outputs": [],
   "source": [
    "# Standard Python Implementation\n",
    "# Check cell time at left\n",
    "for (x, y) in zip(big_numbers_1, big_numbers_2):\n",
    "  print(x + y)"
   ]
  },
  {
   "cell_type": "markdown",
   "metadata": {
    "id": "kRmLkpfU4Mgw"
   },
   "source": [
    "## Test Addition Accuracy"
   ]
  },
  {
   "cell_type": "code",
   "execution_count": null,
   "metadata": {
    "id": "-08A0arJ20Tw"
   },
   "outputs": [],
   "source": [
    "def test_rns_add2(test_pairs):\n",
    "  return [*map(lambda a, b: a + b == fromRNS(add2(toRNS(a), toRNS(b))),\n",
    "               *zip(*test_pairs))] # zip courtesy Kyle Mueller\n",
    "\n",
    "def do_test_rns_add2():\n",
    "  return all(test_rns_add2(zip(big_numbers_1, big_numbers_2)))\n",
    "\n",
    "def do_print_test_rns_add2():\n",
    "  return print(test_rns_add2(zip(big_numbers_1, big_numbers_2)))\n"
   ]
  },
  {
   "cell_type": "code",
   "execution_count": null,
   "metadata": {
    "id": "2rUJvaDJ3XSm"
   },
   "outputs": [],
   "source": [
    "do_test_rns_add2()"
   ]
  },
  {
   "cell_type": "code",
   "execution_count": null,
   "metadata": {
    "id": "Be9bCNw86PPc"
   },
   "outputs": [],
   "source": [
    "do_print_test_rns_add2()"
   ]
  },
  {
   "cell_type": "markdown",
   "metadata": {
    "id": "79v781f23YTo"
   },
   "source": [
    "## Compare Multiplication Times"
   ]
  },
  {
   "cell_type": "code",
   "execution_count": null,
   "metadata": {
    "id": "_lXmQ0ZVEPNk"
   },
   "outputs": [],
   "source": [
    "# Custom RNS Implementation\n",
    "# Check cell time at left\n",
    "for (x, y) in zip(big_numbers_3, big_numbers_4):\n",
    "  print(fromRNS(mul2(toRNS(x), toRNS(y))))"
   ]
  },
  {
   "cell_type": "code",
   "execution_count": null,
   "metadata": {
    "id": "0lF8hms-EDdk"
   },
   "outputs": [],
   "source": [
    "# Standard Python Implementation\n",
    "# Check cell time at left\n",
    "for (x, y) in zip(big_numbers_3, big_numbers_4):\n",
    "  print(x * y)"
   ]
  },
  {
   "cell_type": "markdown",
   "metadata": {
    "id": "7HkSVK-G5iJq"
   },
   "source": [
    "## Test Multiplication Accuracy"
   ]
  },
  {
   "cell_type": "code",
   "execution_count": null,
   "metadata": {
    "id": "BlHDV_cf2maU"
   },
   "outputs": [],
   "source": [
    "def test_rns_mul2(test_pairs):\n",
    "  return [*map(lambda a, b: a * b == fromRNS(mul2(toRNS(a), toRNS(b))),\n",
    "               *zip(*test_pairs))] # zip courtesy Kyle Mueller\n",
    "\n",
    "def do_test_rns_mul2():\n",
    "  return all(test_rns_mul2(zip(big_numbers_3, big_numbers_4)))\n",
    "\n",
    "def do_print_test_rns_mul2():\n",
    "  return print(test_rns_mul2(zip(big_numbers_3, big_numbers_4)))\n"
   ]
  },
  {
   "cell_type": "code",
   "execution_count": null,
   "metadata": {
    "id": "JPsEIV2UztZX"
   },
   "outputs": [],
   "source": [
    "do_test_rns_mul2()"
   ]
  },
  {
   "cell_type": "code",
   "execution_count": null,
   "metadata": {
    "id": "-mERXvxP6aP1"
   },
   "outputs": [],
   "source": [
    "do_print_test_rns_mul2()"
   ]
  }
 ],
 "metadata": {
  "colab": {
   "authorship_tag": "ABX9TyO73gygcORP/+1aF0DpnTMy",
   "collapsed_sections": [
    "WeU-3bkq1Kl-"
   ],
   "name": "learn-more-about-residue-number-systems-solutions.ipynb",
   "private_outputs": true,
   "provenance": []
  },
  "kernelspec": {
   "display_name": "Python 3",
   "language": "python",
   "name": "python3"
  },
  "language_info": {
   "codemirror_mode": {
    "name": "ipython",
    "version": 3
   },
   "file_extension": ".py",
   "mimetype": "text/x-python",
   "name": "python",
   "nbconvert_exporter": "python",
   "pygments_lexer": "ipython3",
   "version": "3.9.0"
  }
 },
 "nbformat": 4,
 "nbformat_minor": 1
}
