{
 "cells": [
  {
   "cell_type": "markdown",
   "metadata": {
    "id": "N3BPNoRECWNH"
   },
   "source": [
    "# <font color=blue>Learn About Predicates and Quantifiers</font>\n",
    "## <font color=blue>Solutions</font>"
   ]
  },
  {
   "cell_type": "markdown",
   "metadata": {
    "id": "IFTWOCfAO9jE"
   },
   "source": [
    "## <font color=red>**DONE** Two Tasks</font>"
   ]
  },
  {
   "cell_type": "markdown",
   "metadata": {
    "id": "uXFKujIAO_m1"
   },
   "source": [
    "Write the symbolic equivalent of the full quantified proposition\n",
    "\n",
    "> Everything is cool when you&rsquo;re part of a team (AND) \\\\\n",
    "> Everything is awesome when we&rsquo;re living our dream."
   ]
  },
  {
   "cell_type": "markdown",
   "metadata": {
    "id": "qJdaToiHPKE6"
   },
   "source": [
    "### Use these predicates"
   ]
  },
  {
   "cell_type": "markdown",
   "metadata": {
    "id": "Rt2C2Fu9PMag"
   },
   "source": [
    "* A = is awesome\n",
    "* T = is a team\n",
    "* C = is cool\n",
    "* D = is living dream"
   ]
  },
  {
   "cell_type": "markdown",
   "metadata": {
    "id": "gPJJllBnPPZ5"
   },
   "source": [
    "$[\\exists y\\ (T(y) \\land u \\in y) \\rightarrow \\forall x\\ C(x)] \\land [\\forall w D(w) \\rightarrow \\forall x\\ A(x)]$\n"
   ]
  },
  {
   "cell_type": "markdown",
   "metadata": {
    "id": "EThdkM_1PUb7"
   },
   "source": [
    "Negated:\n"
   ]
  },
  {
   "cell_type": "markdown",
   "metadata": {
    "id": "YU2_OvvPPWRf"
   },
   "source": [
    "$[\\exists y\\ (T(y) \\land u \\in y) \\land \\exists x\\ \\lnot C(x)] \\lor [\\forall w\\ D(w) \\land \\exists x\\ \\lnot A(x)]$"
   ]
  }
 ],
 "metadata": {
  "colab": {
   "authorship_tag": "ABX9TyMFs1bV8uyKn2SvbuPHG7Mz",
   "name": "learn-about-predicates-and-quantifiers-solutions.ipynb",
   "private_outputs": true,
   "provenance": []
  },
  "kernelspec": {
   "display_name": "Python 3",
   "language": "python",
   "name": "python3"
  },
  "language_info": {
   "codemirror_mode": {
    "name": "ipython",
    "version": 3
   },
   "file_extension": ".py",
   "mimetype": "text/x-python",
   "name": "python",
   "nbconvert_exporter": "python",
   "pygments_lexer": "ipython3",
   "version": "3.9.0"
  }
 },
 "nbformat": 4,
 "nbformat_minor": 1
}
