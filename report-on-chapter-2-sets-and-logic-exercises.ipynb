{
 "cells": [
  {
   "cell_type": "markdown",
   "metadata": {
    "id": "P4HjCMYKKoIm"
   },
   "source": [
    "# <font color=blue>Report on Chapter 2 Sets and Logic Exercises</font>  "
   ]
  },
  {
   "cell_type": "markdown",
   "metadata": {
    "id": "F7RRYEO3LDhE"
   },
   "source": [
    "## <font color=red>Instructions</font>"
   ]
  },
  {
   "cell_type": "markdown",
   "metadata": {
    "id": "q5mqj5g-LH9z"
   },
   "source": [
    "This self-assessment asks you to enter the approximate number of hours (rounded up to the nearest whole number) you spent doing the 34 Chapter 2 exercises.\n",
    "\n",
    "Like last week, there is another question, multiple answers, a point for each box you can truthfully check. Here is your opportunity to assert that you **did** the Chapter 2 exercises, to whatever extent you did them (unlike last week, there is not a requirement for writing code for each exercise).\n",
    "\n",
    "Here is how to interpret the assertion \"I did the ___ exercise(s)\":\n",
    "\n",
    "I learned something new or achieved something meaningful, or something I can build upon at a later time, from doing the ___ exercise(s)."
   ]
  },
  {
   "cell_type": "markdown",
   "metadata": {
    "id": "nrXheZEpIVPH"
   },
   "source": [
    "### <font color=red>Time Considerations</font>"
   ]
  },
  {
   "cell_type": "markdown",
   "metadata": {
    "id": "sqhbvg3QN2b9"
   },
   "source": [
    "To avoid burnout you would do well to carefully track and manage the time you spend for this class. In accordance with the standard \"formula\" (caveat --- only for an average student seeking an average grade) that you should expect to spend two hours outside of class for every hour in, you are not *expected* to work more than 10 hours per week on this class. (You are also not *forbidden* to work more than that. Your choice.) Note that 10 hours is 8 hours in addition to the 2 you spend in class. That is *double* the outside-of-class hours of the above-mentioned standard --- the reason being that this is a more demanding course, and you are above-average students, or else you would not be seeking the degrees you are.\n"
   ]
  },
  {
   "cell_type": "markdown",
   "metadata": {
    "id": "58gxBXQMOnVu"
   },
   "source": [
    "#### <font color=purple>Advice for the Wise</font>"
   ]
  },
  {
   "cell_type": "markdown",
   "metadata": {
    "id": "sm8O13bYOzwR"
   },
   "source": [
    "As managing time well is crucial to success in life, BYU-Idaho has some helpful tips [here](https://courses.byui.edu/AcademicSupport/study-skills/tips/Developing%20Your%20Study%20Schedule.pdf) and [here](https://www.byui.edu/Documents/counseling-center/Time%20Management/STUDY%20HOURS%20FORMULA.pdf).\n",
    "\n",
    "From the STUDY HOURS FORMULA document:\n",
    "\n",
    "> To decide how many hours you need to study each week in order to get A's, use this rule of thumb: Study two hours per credit hour for a lighter class, three hours per credit hour for an average class, and four hours per credit hour for a difficult class.\n",
    "\n",
    "Most students consider this a difficult class, hence 4 hours per credit hour equals 8 hours a week of study outside of class.\n",
    "\n",
    "\n"
   ]
  },
  {
   "cell_type": "markdown",
   "metadata": {
    "id": "01-FatOlQ-sr"
   },
   "source": [
    "##### Advice from a former student..."
   ]
  },
  {
   "cell_type": "markdown",
   "metadata": {
    "id": "cQE9Yej_RJIR"
   },
   "source": [
    "...who also taught this class during his last semester at BYU-Idaho:\n",
    "\n",
    "> You are taking an Engineering with Theory course. If you want less homework and more of a social life this is not the right path for you.  If you feel video games, card games, or even individuals of the opposite gender should take priority over the education commitment that you have made, I warn you the outcome of your education will be diminished by that.  Whether that be in lower grades or in just getting the “A” but not really understanding anything, both will hurt you and cause you to lose job opportunities that are more profitable and result in better lifestyles.  \n",
    "\n",
    "> 3 reasons why Google doesn’t hire the top students GPA-wise:\\\n",
    "https://mic.com/articles/83377/3-simple-reasons-google-doesn-t-hire-the-top-college-grads#.9vaYnHlRY\n",
    "\n",
    "> Google’s HR boss explains why GPA is useless in coding technical interviews:\\\n",
    "http://www.businessinsider.com/how-google-hires-people-2013-6\n",
    "\n",
    "> You may play the game right and graduate from BYU-I with a 3.7 or a 2.0 but neither is the defining characteristic for success in the CS industry.\n",
    "\n"
   ]
  },
  {
   "cell_type": "markdown",
   "metadata": {
    "id": "ys2mpD1pKyUW"
   },
   "source": [
    "## <font color=purple>Access</font>"
   ]
  },
  {
   "cell_type": "markdown",
   "metadata": {
    "id": "dbEQh6I-KzuB"
   },
   "source": [
    "[Take the Self-Assessment](https://byui.instructure.com/courses/149380/quizzes/2724889)"
   ]
  }
 ],
 "metadata": {
  "colab": {
   "authorship_tag": "ABX9TyPvG1EmMhPg+VRtafuiUs0n",
   "name": "report-on-chapter-2-sets-and-logic-exercises.ipynb",
   "private_outputs": true,
   "provenance": []
  },
  "kernelspec": {
   "display_name": "Python 3",
   "language": "python",
   "name": "python3"
  },
  "language_info": {
   "codemirror_mode": {
    "name": "ipython",
    "version": 3
   },
   "file_extension": ".py",
   "mimetype": "text/x-python",
   "name": "python",
   "nbconvert_exporter": "python",
   "pygments_lexer": "ipython3",
   "version": "3.9.0"
  }
 },
 "nbformat": 4,
 "nbformat_minor": 1
}
