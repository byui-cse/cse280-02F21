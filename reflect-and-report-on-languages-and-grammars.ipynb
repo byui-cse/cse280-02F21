{
 "cells": [
  {
   "cell_type": "markdown",
   "metadata": {
    "id": "1I2mgQBbgOMN"
   },
   "source": [
    "# <font color=blue>Reflect and Report on Languages and Grammars</font>\n",
    "## <font color=blue>Prepare</font>\n"
   ]
  },
  {
   "cell_type": "markdown",
   "metadata": {
    "id": "-cJhiMlegTAo"
   },
   "source": [
    "## <font color=red>Instructions</font>\n"
   ]
  },
  {
   "cell_type": "markdown",
   "metadata": {
    "id": "w1HrHSQKgU-J"
   },
   "source": [
    "You will be asked to assert the usual:\n"
   ]
  },
  {
   "cell_type": "markdown",
   "metadata": {
    "id": "MALwxMZRgV55"
   },
   "source": [
    "* I attended class on Tuesday this week.\n",
    "* I participated in the In-Class Exercise(s) on Tuesday this week.\n",
    "* I attended class on Thursday this week.\n",
    "* I participated in the In-Class Exercise(s) on Thursday this week.\n"
   ]
  },
  {
   "cell_type": "markdown",
   "metadata": {
    "id": "LyzJ-v9Kgan3"
   },
   "source": [
    "## <font color=red>Access</font>\n"
   ]
  },
  {
   "cell_type": "markdown",
   "metadata": {
    "id": "cxjGEjiugcRC"
   },
   "source": [
    "[Take the Self-Assessment]()\n"
   ]
  }
 ],
 "metadata": {
  "colab": {
   "authorship_tag": "ABX9TyO5bVsxM39OW6HUudg/Hsxc",
   "collapsed_sections": [],
   "name": "reflect-and-report-on-graphs.ipynb",
   "private_outputs": true,
   "provenance": []
  },
  "kernelspec": {
   "display_name": "Python 3",
   "language": "python",
   "name": "python3"
  },
  "language_info": {
   "codemirror_mode": {
    "name": "ipython",
    "version": 3
   },
   "file_extension": ".py",
   "mimetype": "text/x-python",
   "name": "python",
   "nbconvert_exporter": "python",
   "pygments_lexer": "ipython3",
   "version": "3.9.0"
  }
 },
 "nbformat": 4,
 "nbformat_minor": 1
}
