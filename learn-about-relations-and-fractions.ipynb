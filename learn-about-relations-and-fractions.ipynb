{
 "cells": [
  {
   "cell_type": "markdown",
   "metadata": {
    "id": "vZYuEGuXoa60"
   },
   "source": [
    "# <font color=blue>Learn About Relations and Fractions</font>\n",
    "## <font color=blue>Teach One Another</font>\n"
   ]
  },
  {
   "cell_type": "markdown",
   "metadata": {
    "id": "s1SqMACfpGid"
   },
   "source": [
    "## <font color=red>**TODO** Study and Understand the Python Fractions module.</font>\n"
   ]
  },
  {
   "cell_type": "markdown",
   "metadata": {
    "id": "Hahb3HmMpItT"
   },
   "source": [
    "What do relations have to do with fractions?\n"
   ]
  },
  {
   "cell_type": "markdown",
   "metadata": {
    "id": "pXgWokqIpJ2m"
   },
   "source": [
    "How are fractions constructed? Printed? Operated on?\n"
   ]
  },
  {
   "cell_type": "code",
   "execution_count": null,
   "metadata": {
    "id": "eKaebVTQoaUd"
   },
   "outputs": [],
   "source": [
    "from fractions import Fraction as frac"
   ]
  },
  {
   "cell_type": "markdown",
   "metadata": {
    "id": "rJJDp7BEpKxH"
   },
   "source": [
    "Once you have a ```Fraction``` (aliased as ```frac```) object, you can evaluate it as a floating-point number:"
   ]
  },
  {
   "cell_type": "code",
   "execution_count": null,
   "metadata": {
    "id": "U6QdoCgxpc-2"
   },
   "outputs": [],
   "source": [
    "def eval_frac(f):\n",
    "  \"\"\"Evaluate the fraction f as a float.\n",
    "  \"\"\"\n",
    "  return f.numerator / f.denominator"
   ]
  },
  {
   "cell_type": "markdown",
   "metadata": {
    "id": "_HkepOA5pjRY"
   },
   "source": [
    "## <font color=red>**TODO** Solve for $x$</font>"
   ]
  },
  {
   "cell_type": "markdown",
   "metadata": {
    "id": "zb02osJFpkxV"
   },
   "source": [
    "Discuss this problem and use what you learned to solve for $x$ in the best way you can think of:"
   ]
  },
  {
   "cell_type": "markdown",
   "metadata": {
    "id": "zusv3VtopnH1"
   },
   "source": [
    "$$\\frac{x}{1} + \\frac{x}{1+2} + \\frac{x}{1+2+3} + \\frac{x}{1+2+3+4} + \\cdots + \\frac{x}{1+2+3+\\cdots+4041} = 4041.$$\n"
   ]
  }
 ],
 "metadata": {
  "colab": {
   "authorship_tag": "ABX9TyPnIRFAEiF98iqRZZTuym+2",
   "collapsed_sections": [
    "_HkepOA5pjRY"
   ],
   "name": "learn-about-relations-and-fractions.ipynb",
   "private_outputs": true,
   "provenance": []
  },
  "kernelspec": {
   "display_name": "Python 3",
   "language": "python",
   "name": "python3"
  },
  "language_info": {
   "codemirror_mode": {
    "name": "ipython",
    "version": 3
   },
   "file_extension": ".py",
   "mimetype": "text/x-python",
   "name": "python",
   "nbconvert_exporter": "python",
   "pygments_lexer": "ipython3",
   "version": "3.9.0"
  }
 },
 "nbformat": 4,
 "nbformat_minor": 1
}
