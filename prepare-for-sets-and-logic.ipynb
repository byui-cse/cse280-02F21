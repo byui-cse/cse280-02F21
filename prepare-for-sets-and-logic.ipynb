{
 "cells": [
  {
   "cell_type": "markdown",
   "metadata": {
    "id": "b4_FwROi_3F-"
   },
   "source": [
    "# <font color=blue>Prepare for Sets and Logic</font>"
   ]
  },
  {
   "cell_type": "markdown",
   "metadata": {
    "id": "R9HGJLJSUe1G"
   },
   "source": [
    "## <font color=red>Instructions</font>"
   ]
  },
  {
   "cell_type": "markdown",
   "metadata": {
    "id": "Erwv3nK9_2Fm"
   },
   "source": [
    "Answer questions on the content from the book, Chapter 2 Sets and Logic, and all first-level links therefrom.\n",
    "\n",
    "A word of caution: The book doesn't describe very clearly the correspondence between sets and bit strings, but the quiz does. Careful reading and logical thinking are required, regardless."
   ]
  },
  {
   "cell_type": "markdown",
   "metadata": {
    "id": "CzjgHiEFgPDT"
   },
   "source": [
    "Another word of caution: The last question uses LaTeX symbols spelled out (not rendered in the left-hand sides by Canvas). Here they are rendered:\n",
    "\n",
    "$A \\cap U = A$\n",
    "\n",
    "$A \\cup \\emptyset = A$\n",
    "\n",
    "$A \\cup U = U$\n",
    "\n",
    "$A \\cap \\emptyset = \\emptyset$\n",
    "\n",
    "$\\overline{\\overline{A}} = A$\n"
   ]
  },
  {
   "cell_type": "markdown",
   "metadata": {
    "id": "jp6UXJRsBaw-"
   },
   "source": [
    "## <font color=red>Access</font>"
   ]
  },
  {
   "cell_type": "markdown",
   "metadata": {
    "id": "alaJ2UjGBraX"
   },
   "source": [
    "[Take the Quiz](https://byui.instructure.com/courses/149380/quizzes/2724897)"
   ]
  }
 ],
 "metadata": {
  "colab": {
   "collapsed_sections": [
    "R9HGJLJSUe1G"
   ],
   "name": "prepare-for-sets-and-logic.ipynb",
   "provenance": []
  },
  "kernelspec": {
   "display_name": "Python 3",
   "language": "python",
   "name": "python3"
  },
  "language_info": {
   "codemirror_mode": {
    "name": "ipython",
    "version": 3
   },
   "file_extension": ".py",
   "mimetype": "text/x-python",
   "name": "python",
   "nbconvert_exporter": "python",
   "pygments_lexer": "ipython3",
   "version": "3.9.0"
  },
  "org": null
 },
 "nbformat": 4,
 "nbformat_minor": 1
}
