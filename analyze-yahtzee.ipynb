{
 "cells": [
  {
   "cell_type": "markdown",
   "metadata": {
    "id": "xvps-MEvTxgO"
   },
   "source": [
    "# <font color=blue>Analyze Yahtzee</font>\n",
    "## <font color=blue>Ponder and Prove</font>\n"
   ]
  },
  {
   "cell_type": "markdown",
   "metadata": {
    "id": "gJDTjtBVT4dI"
   },
   "source": [
    "## <font color=red>Further and Deeper</font>\n"
   ]
  },
  {
   "cell_type": "markdown",
   "metadata": {
    "id": "gIAnUvC7UCUO"
   },
   "source": [
    "This exploration invites you to deeply analyze the game of Yahtzee, going above and beyond the cursory analysis in the book.\n"
   ]
  },
  {
   "cell_type": "markdown",
   "metadata": {
    "id": "lTdeuWswUDsc"
   },
   "source": [
    "What is the right model? Are you willing to experiment with actual dice?!\n"
   ]
  },
  {
   "cell_type": "markdown",
   "metadata": {
    "id": "WpUZQ2tZUE1O"
   },
   "source": [
    "Here are some email exchanges between Brother Rick Neff, Michael Heninger (DM1 student Fall 2020), and Brother John Sinkovic (Professor in the Math Department at BYU-Idaho):\n"
   ]
  },
  {
   "cell_type": "markdown",
   "metadata": {
    "id": "MY6j7Gw-UHJ-"
   },
   "source": [
    "From: Sinkovic, John <sinkovicj@byui.edu><br>\n",
    "Sent: Friday, October 23, 2020 at 8:43 PM<br>\n",
    "To: Neff, Rick <NeffR@byui.edu><br>\n",
    "Subject: Re: Yahtzee Probabilities, are you sure?\n"
   ]
  },
  {
   "cell_type": "markdown",
   "metadata": {
    "id": "mhHen_uwUIcX"
   },
   "source": [
    "Rick,\n"
   ]
  },
  {
   "cell_type": "markdown",
   "metadata": {
    "id": "EXUgvpPuUQBV"
   },
   "source": [
    "I spoke with Brent Morring in our department, who has a stats background. He also has undergraduate degrees in CS and Physics. He was interested in our discussion. So much so that he started rolling dice. My initial question was, how big of a sample space would I need to create a 99% confidence interval? It turns out that it doesn’t actually take that many rolls to determine the probability of rolling doubles with two dice.\n"
   ]
  },
  {
   "cell_type": "markdown",
   "metadata": {
    "id": "1QoJJncPURfB"
   },
   "source": [
    "When I spoke with him last, he was going to figure out the number of rolls necessary to determine, with high confidence, the odds of rolling three of a kind with three dice.\n"
   ]
  },
  {
   "cell_type": "markdown",
   "metadata": {
    "id": "9SUCpHKdUSkR"
   },
   "source": [
    "Anyway, I’m interested to hear what he finds out from his experiments.\n"
   ]
  },
  {
   "cell_type": "markdown",
   "metadata": {
    "id": "EtP9KzuVUTb1"
   },
   "source": [
    "-John\n"
   ]
  },
  {
   "cell_type": "markdown",
   "metadata": {
    "id": "6rU295g7UUbd"
   },
   "source": [
    "From: \"Neff, Rick\" <NeffR@byui.edu><br>\n",
    "Date: Friday, October 23, 2020 at 8:25 AM<br> \n",
    "To: \"Heninger, Michael\" <hen19024@byui.edu><br>\n",
    "Subject: Re: Yahtzee Probabilities, are you sure?\n"
   ]
  },
  {
   "cell_type": "markdown",
   "metadata": {
    "id": "WVOUO8SjUYKg"
   },
   "source": [
    "Michael,\n"
   ]
  },
  {
   "cell_type": "markdown",
   "metadata": {
    "id": "HbEYyBjaUZYh"
   },
   "source": [
    "Excellent! Thanks for your email, for thinking about this above and beyond the call of duty, and for caring enough to put your thoughts in writing!\n"
   ]
  },
  {
   "cell_type": "markdown",
   "metadata": {
    "id": "sDwiVFuRUaQ0"
   },
   "source": [
    "There is indeed much to discuss --- and I’d like to do that face-to-face, if you’re willing.\n"
   ]
  },
  {
   "cell_type": "markdown",
   "metadata": {
    "id": "zTWk6-itUbG6"
   },
   "source": [
    "Also, do you know Brother Sinkovic from the math department? He’s not a stats guy, but he and I have had some interesting conversations and email exchanges on this matter, which I’ll share with you later.\n"
   ]
  },
  {
   "cell_type": "markdown",
   "metadata": {
    "id": "NyYGKk1jUdKw"
   },
   "source": [
    "Thanks again!\n"
   ]
  },
  {
   "cell_type": "markdown",
   "metadata": {
    "id": "slfogRf5Udkc"
   },
   "source": [
    "Brother Neff\n"
   ]
  },
  {
   "cell_type": "markdown",
   "metadata": {
    "id": "yJ-s-HWEUeoR"
   },
   "source": [
    "From: \"Heninger, Michael\" <hen19024@byui.edu><br>\n",
    "Date: Friday, October 23, 2020 at 3:55 AM<br>\n",
    "To: \"Neff, Rick\" <NeffR@byui.edu><br>\n",
    "Subject: Yahtzee Probabilities, are you sure?\n"
   ]
  },
  {
   "cell_type": "markdown",
   "metadata": {
    "id": "c4GtPCmPUiHq"
   },
   "source": [
    "I'm currently looking at Exercise 5.8.3 and I'm not convinced that the \"alternative\" explanation, presented in 5.8, is correct. Just intuitively, 11% seems far too high of a probability of getting a four-of-a-kind on the first roll, and an additional 11% chance of getting a full house also seems off. The odds of one pair matching those of 3 of a kind also seems wrong.\n"
   ]
  },
  {
   "cell_type": "markdown",
   "metadata": {
    "id": "0FnBG9lUUjvv"
   },
   "source": [
    "I think my reasoning behind this is that, while table 5.5 shows all possible outcomes of the dice rolls, not all the entries of 5.5 are equally likely. I think 5 separate dice being rolled is not analogous to 5 choose 6, as you have 5 independent events, each with their own associated probabilities.\n"
   ]
  },
  {
   "cell_type": "markdown",
   "metadata": {
    "id": "gsovdFU1Uk8v"
   },
   "source": [
    "There's also just the fact that I've trawled the web, and have not found any sites that agree with the analysis in the book. Have you had this section of the book peer reviewed? Perhaps by someone in the stats department?\n"
   ]
  },
  {
   "cell_type": "markdown",
   "metadata": {
    "id": "NF4QapQEUnBp"
   },
   "source": [
    "I think I can do the problems as intended, but I'm not comfortable that the answers that I'd get are accurate. I guess this is something to think over. Please let me know if I'm definitely wrong, for a reason I haven't thought of. It's probably the most likely scenario, but something just doesn't sit right.\n"
   ]
  },
  {
   "cell_type": "markdown",
   "metadata": {
    "id": "I2o_rjVBUnbS"
   },
   "source": [
    "Thanks,\n"
   ]
  },
  {
   "cell_type": "markdown",
   "metadata": {
    "id": "l95JT12yUog3"
   },
   "source": [
    "Michael Heninger\n"
   ]
  },
  {
   "cell_type": "markdown",
   "metadata": {
    "id": "GYr3tD2HUp2q"
   },
   "source": [
    "## <font color=red>More Questions</font>\n"
   ]
  },
  {
   "cell_type": "markdown",
   "metadata": {
    "id": "fV79cIbrUsym"
   },
   "source": [
    "Til, at the beginning of Chapter 5, reveals that he is **both** a frequentist **and** a subjectivist (and also, subvocally, that he is neither). What do you think he meant? Do you think this is contradictory? Do you see yourself in a similar mindset? Answer in the context of Yahtzee, or some other probability context.\n"
   ]
  }
 ],
 "metadata": {
  "colab": {
   "authorship_tag": "ABX9TyOKDi+MX6D0MYBNETMODv8o",
   "name": "analyze-yahtzee.ipynb",
   "private_outputs": true,
   "provenance": []
  },
  "kernelspec": {
   "display_name": "Python 3",
   "language": "python",
   "name": "python3"
  },
  "language_info": {
   "codemirror_mode": {
    "name": "ipython",
    "version": 3
   },
   "file_extension": ".py",
   "mimetype": "text/x-python",
   "name": "python",
   "nbconvert_exporter": "python",
   "pygments_lexer": "ipython3",
   "version": "3.9.0"
  }
 },
 "nbformat": 4,
 "nbformat_minor": 1
}
