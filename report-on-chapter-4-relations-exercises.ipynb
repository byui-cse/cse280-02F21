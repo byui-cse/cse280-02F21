{
 "cells": [
  {
   "cell_type": "markdown",
   "metadata": {
    "id": "Jkzd2zRBI7Un"
   },
   "source": [
    "# <font color=blue>Report on Chapter 4 Relations Exercises</font>\n"
   ]
  },
  {
   "cell_type": "markdown",
   "metadata": {
    "id": "aL2HgxvFJAud"
   },
   "source": [
    "## <font color=red>Instructions</font>\n"
   ]
  },
  {
   "cell_type": "markdown",
   "metadata": {
    "id": "8I7RbkSoJBfs"
   },
   "source": [
    "This self-assessment again asks you to enter the approximate number of hours (rounded up to the nearest whole number) you spent doing the Chapter 4 exercises.\n"
   ]
  },
  {
   "cell_type": "markdown",
   "metadata": {
    "id": "KAlgp2ctJCy0"
   },
   "source": [
    "Also like last week, there is another question, multiple answers, a point for each box you can truthfully check to assert that you **did** the Chapter 4 exercises, to whatever extent you did them.\n"
   ]
  },
  {
   "cell_type": "markdown",
   "metadata": {
    "id": "o8rejRwjJErm"
   },
   "source": [
    "Here is how to interpret the assertion \"I did the ___ exercise(s)\":"
   ]
  },
  {
   "cell_type": "markdown",
   "metadata": {
    "id": "amN-QHMbJRMz"
   },
   "source": [
    "I learned something new or achieved something meaningful, or something I can build upon at a later time, from doing the ___ exercise(s).\n"
   ]
  },
  {
   "cell_type": "markdown",
   "metadata": {
    "id": "t8bzyhJ3JUdm"
   },
   "source": [
    "## <font color=purple>Access</font>\n"
   ]
  },
  {
   "cell_type": "markdown",
   "metadata": {
    "id": "nPisrkA5JVVI"
   },
   "source": [
    "[Take the Self-Assessment](https://byui.instructure.com/courses/149380/quizzes/2724911)"
   ]
  }
 ],
 "metadata": {
  "colab": {
   "authorship_tag": "ABX9TyOX2DCUSnXN20pwe76MF0VO",
   "name": "report-on-chapter-4-relations-exercises.ipynb",
   "private_outputs": true,
   "provenance": []
  },
  "kernelspec": {
   "display_name": "Python 3",
   "language": "python",
   "name": "python3"
  },
  "language_info": {
   "codemirror_mode": {
    "name": "ipython",
    "version": 3
   },
   "file_extension": ".py",
   "mimetype": "text/x-python",
   "name": "python",
   "nbconvert_exporter": "python",
   "pygments_lexer": "ipython3",
   "version": "3.9.0"
  }
 },
 "nbformat": 4,
 "nbformat_minor": 1
}
