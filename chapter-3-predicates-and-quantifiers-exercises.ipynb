{
 "cells": [
  {
   "cell_type": "markdown",
   "metadata": {
    "id": "TnVHqhsGXNRo"
   },
   "source": [
    "# <font color=blue>Chapter 3 Predicates and Quantifiers Exercises</font>\n",
    "## <font color=blue>Prepare</font>"
   ]
  },
  {
   "cell_type": "markdown",
   "metadata": {
    "id": "yAbrb0Rjw5PN"
   },
   "source": [
    "## <font color=red>3.12 Quantifiers</font>"
   ]
  },
  {
   "cell_type": "markdown",
   "metadata": {
    "id": "Fd-nWFj1foSb"
   },
   "source": [
    "### Exercise 3.12.1"
   ]
  },
  {
   "cell_type": "markdown",
   "metadata": {
    "id": "8Utd8McNw5PO"
   },
   "source": [
    "The domain of discourse for this exercise is the set of all people, and:\n",
    "* $P(x) = x$ is older than 21\n",
    "* $S(x) = x$ is a student\n",
    "\n",
    "Express in good English the following statements:\n",
    "1. $\\exists x\\ P(x)$.\n",
    "2. $\\forall x\\ P(x)$.\n",
    "3. $\\exists x\\ \\lnot P(x)$.\n",
    "4. $\\forall x\\ \\lnot P(x)$.\n",
    "5. $\\exists x\\ S(x)$.\n",
    "6. $\\forall x\\ S(x)$.\n",
    "7. $\\lnot \\exists x\\ S(x)$.\n",
    "8. $\\exists x\\ \\lnot S(x)$.\n",
    "9. $\\lnot \\forall x\\ \\lnot S(x)$.\n",
    "10. $\\forall x\\ \\lnot S(x)$."
   ]
  },
  {
   "cell_type": "code",
   "execution_count": null,
   "metadata": {
    "id": "mTbD83STWV66"
   },
   "outputs": [],
   "source": [
    "#@title Hint {display-mode: \"form\"}\n",
    "print('''\n",
    "1. Don't use the word 'exists'.\n",
    "2. Don't use the word 'all'.\n",
    "3. Use the word `someone'.\n",
    "4. 'No one' sounds better than 'Everyone is not'.\n",
    "5. `Some' <something> `is a' <something else>.\n",
    "6. Start with 'Everyone'.\n",
    "7. Start with 'There is'.\n",
    "8. Start with 'There is'\n",
    "9. Start with 'No all'.\n",
    "10. Start with 'No one'.\n",
    "''')"
   ]
  },
  {
   "cell_type": "code",
   "execution_count": null,
   "metadata": {
    "id": "42a7AycOWWfS"
   },
   "outputs": [],
   "source": [
    "#@title Answer {display-mode: \"form\"}\n",
    "print('''\n",
    "1. Somebody is older than 21.\n",
    "2. Everyone is older than 21.\n",
    "3. Someone is not older than 21.\n",
    "4. No one is older than 21.\n",
    "5. Someone (or some person) is a student.\n",
    "6. Everyone is a student.\n",
    "7. There is no student.\n",
    "8. There is someone who is not a student.\n",
    "9. Not all people are non-students.\n",
    "10. No one is a student.\n",
    "''')"
   ]
  },
  {
   "cell_type": "markdown",
   "metadata": {
    "id": "LOidAiIjpGFO"
   },
   "source": [
    "### Exercise 3.12.2"
   ]
  },
  {
   "cell_type": "markdown",
   "metadata": {
    "id": "tCdbghBApIWA"
   },
   "source": [
    "The domain of discourse for this exercise is the set of all people, and:\n",
    "* $F(x) = x$ is a friend\n",
    "* $C(x) = x$ is cool\n",
    "* $S(x) = x$ is a student\n",
    "* $N(x) = x$ is from Nepal\n",
    "\n",
    "Express in good English the following statements:\n",
    "1. $\\forall x\\ (F(x) \\rightarrow C(x))$.\n",
    "2. $\\exists x\\ (F(x) \\land C(x))$.\n",
    "3. $\\forall x\\ (F(x) \\land C(x))$.\n",
    "4. $\\exists x\\ (F(x) \\rightarrow C(x))$.\n",
    "5. $\\forall x\\ (S(x) \\rightarrow N(x))$.\n",
    "6. $\\exists x\\ (S(x) \\rightarrow N(x))$.\n",
    "7. $\\forall x\\ (S(x) \\land N(x))$.\n",
    "8. $\\exists x\\ (S(x) \\land N(x))$.\n",
    " "
   ]
  },
  {
   "cell_type": "code",
   "execution_count": null,
   "metadata": {
    "id": "Ud2ILiJbuAxx"
   },
   "outputs": [],
   "source": [
    "#@title Hint {display-mode: \"form\"}\n",
    "print('''\n",
    "1. Start with 'All'.\n",
    "2. Start with 'Some'.\n",
    "3. Start with 'Everyone'.\n",
    "4. Start with 'Some'.\n",
    "5. Start with 'All'.\n",
    "6. Start with 'Someone' and use 'if' and 'then'.\n",
    "7. Start with 'Everyone'.\n",
    "8. 'Some student ...'.\n",
    "''')"
   ]
  },
  {
   "cell_type": "code",
   "execution_count": null,
   "metadata": {
    "id": "mz91zQ_NuA-Q"
   },
   "outputs": [],
   "source": [
    "#@title Answer {display-mode: \"form\"}\n",
    "print('''\n",
    "1. All friends are cool.\n",
    "2. Someone is a friend and is cool.\n",
    "3. Everyone is a friend and is cool.\n",
    "4. Some friends are cool. (Better than 'For some person, if that person is a friend, then that person is cool.')\n",
    "5. All students are from Nepal.\n",
    "6. Someone, if he/she is a student then he/she is from Nepal. (Better than 'For some person, if that person is a student, then that student is from Nepal.)\n",
    "7. Everyone is a student and is from Nepal.\n",
    "8. Some student is from Nepal.\n",
    "''')"
   ]
  },
  {
   "cell_type": "markdown",
   "metadata": {
    "id": "le4z-RBmuh6p"
   },
   "source": [
    "### Exercise 3.12.3"
   ]
  },
  {
   "cell_type": "markdown",
   "metadata": {
    "id": "Hplq9f-xuh6p"
   },
   "source": [
    "Translate the following statements into logical expressions using predicates, quantifiers, and logical connectives:\n",
    "1. Everyone's a critic.\n",
    "2. No one is perfect.\n",
    "3. At least one of your friends is perfect.\n",
    "4. All of your friends are critics.\n",
    "5. Everyone is a critic or someone is your friend.\n",
    "6. No one is a critic and everyone is your friend.\n",
    "7. Some state has no neighboring states.\n",
    "8. Whenever there is an error, at least one error message is displayed.\n",
    "9. All the programs have been scanned, but at least one program has a virus."
   ]
  },
  {
   "cell_type": "code",
   "execution_count": null,
   "metadata": {
    "id": "rtHun4Eiuh6q"
   },
   "outputs": [],
   "source": [
    "#@title Hint {display-mode: \"form\"}\n",
    "print('''\n",
    "1. Use the predicates C (is a Critic), P (is Perfect), and F (is your Friend).\n",
    "2. Remember to push the negation sign to the right of the quantifier (and change the flavor of the quantifier).\n",
    "3. Remember which connective to use with the existential quantifier?\n",
    "4. Remember which connective to use with the universal quantifier?\n",
    "5. This looks like the disjunction of two quantified statements.\n",
    "6. This looks like the conjunction of two quantified statements, one of them negated.\n",
    "7. Use a unary *and* a binary predicate.\n",
    "8. There are two different domains at play here.\n",
    "9. Use three predicates with programs as their domain.\n",
    "''')"
   ]
  },
  {
   "cell_type": "code",
   "execution_count": null,
   "metadata": {
    "id": "WmpQNI1Auh6q"
   },
   "outputs": [],
   "source": [
    "#@title Answer {display-mode: \"form\"}\n",
    "from IPython.display import Markdown\n",
    "display(Markdown('''\n",
    "1. $\\\\forall x\\\\ C(x)$\n",
    "2. $\\\\forall x\\\\ \\\\lnot P(x)$\n",
    "3. $\\\\exists x\\\\ (F(x) \\\\land P(x))$\n",
    "4. $\\\\forall x\\\\ (F(x) \\\\rightarrow C(x))$\n",
    "5. $\\\\forall x\\\\ C(x) \\\\lor \\\\exists x\\\\ F(x)$\n",
    "6. $\\\\lnot \\\\exists x\\\\ C(x) \\\\land \\\\forall x\\\\ F(x)$\n",
    "7. $\\\\exists x\\\\ State(x) \\\\land (\\\\forall y\\\\ State(y) \\\\rightarrow \\\\lnot ShareABorder(x, y))$\n",
    "8. $\\\\exists x\\\\ is\\_an\\_Error(x) \\\\rightarrow (\\\\exists y\\\\ is\\_an\\_error\\_Message(y) \\\\land is\\_Displayed(y))$\n",
    "9. $[\\\\forall x\\\\ (is\\_a\\_Program(x) \\\\rightarrow has\\_been\\_Scanned(x))] \\\\land [\\\\exists x\\\\ (is\\_a\\_Program(x) \\\\land has\\_a\\_Virus(x))]$\n",
    "'''))"
   ]
  },
  {
   "cell_type": "markdown",
   "metadata": {
    "id": "qTATYaqA9IFU"
   },
   "source": [
    "## <font color=red>3.13 Negating Quantifiers</font>"
   ]
  },
  {
   "cell_type": "markdown",
   "metadata": {
    "id": "IXDTyw-qG83G"
   },
   "source": [
    "### Exercise 3.13.1"
   ]
  },
  {
   "cell_type": "markdown",
   "metadata": {
    "id": "1S_jxnGHG83L"
   },
   "source": [
    "Express the following statements using quantifiers; then form the negation of the statement so that no $\\lnot$ is to the left of a quantifier; then express the negation in simple English.\n",
    "\n",
    "1. All horses have hooves.\n",
    "2. No horse can fly.\n",
    "3. Every bat is blind.\n",
    "4. No bear can dance.\n",
    "5. There is at least one penguin that can swim and catch fish."
   ]
  },
  {
   "cell_type": "code",
   "execution_count": null,
   "metadata": {
    "id": "4DdLOMTgG83L"
   },
   "outputs": [],
   "source": [
    "#@title Hint {display-mode: \"form\"}\n",
    "print('''\n",
    "1. Use the predicates H = is a horse, and V = has hooves.\n",
    "2. Use H as in Part 1, and the predicate F = can fly.\n",
    "3. This is like Part 1.\n",
    "4. Use B for Bear and D for Dance (as in 'can dance).\n",
    "5. Use three predicates with one quantifier.\n",
    "''')"
   ]
  },
  {
   "cell_type": "code",
   "execution_count": null,
   "metadata": {
    "id": "TD4mTN8yG83M"
   },
   "outputs": [],
   "source": [
    "#@title Answer {display-mode: \"form\"}\n",
    "from IPython.display import Markdown\n",
    "display(Markdown('''\n",
    "1. $\\\\forall x\\\\ H(x) \\\\rightarrow V(x)$; negated is $\\\\exists x\\\\ H(x) \\\\land \\\\lnot V(x)$ = 'Some horse does not have hooves.'\n",
    "2. $\\\\forall x\\\\ H(x) \\\\rightarrow \\\\lnot F(x)$; negated is $\\\\exists x\\\\ H(x) \\\\land F(x) =$ 'Some horse can fly'.\n",
    "3. $\\\\forall x\\\\ Bat(x) \\\\rightarrow Blind(x)$; negated is $\\\\exists x\\\\ Bat(x) \\\\land \\\\lnot Blind(x) =$ 'Some bat is not blind'.\n",
    "4. $\\\\forall x\\\\ B(x) \\\\rightarrow \\\\lnot D(x)$; negated is $\\\\exists x\\\\ bear(x) \\\\land D(x) =$ 'Some bear can dance'. \n",
    "5. $\\\\exists x\\\\ Penguin(x) \\\\land can\\_Swim(x) \\\\land can\\_Catch\\_Fish(x)$; negated is $\\\\forall x\\\\ \\\\lnot Penguin(x) \\\\lor \\\\lnot can\\_Swim(x) \\\\lor \\\\lnot can\\_Catch\\_Fish(x) = $ 'Everything is either a non-penguin or a non-swimmer or a non-fish-catcher' (or better: 'No penguin can swim and catch fish').\n",
    "'''))"
   ]
  },
  {
   "cell_type": "markdown",
   "metadata": {
    "id": "huTlmPImune6"
   },
   "source": [
    "### Exercise 3.13.2"
   ]
  },
  {
   "cell_type": "markdown",
   "metadata": {
    "id": "nyeEfJKPune9"
   },
   "source": [
    "The notation $\\exists !x\\ P(x)$ means \"There exisits a unique $x$ such that $P(x)$ is true.\"\n",
    "\n",
    "Let $\\mathbb{Z}$ be the domain for $x$.\n",
    "\n",
    "True or false? $\\exists !x\\ (x > 1)$.\n"
   ]
  },
  {
   "cell_type": "code",
   "execution_count": null,
   "metadata": {
    "id": "suSy3imqune9"
   },
   "outputs": [],
   "source": [
    "#@title Hint {display-mode: \"form\"}\n",
    "print('''\n",
    "How many numbers are greater than 1?!\n",
    "''')"
   ]
  },
  {
   "cell_type": "code",
   "execution_count": null,
   "metadata": {
    "id": "FFarvEZWune-"
   },
   "outputs": [],
   "source": [
    "#@title Answer {display-mode: \"form\"}\n",
    "print('''\n",
    "The statement is false. There is not just one, but\n",
    "infinitely many integers are greater than one.\n",
    "''')"
   ]
  },
  {
   "cell_type": "markdown",
   "metadata": {
    "id": "9Idm_9Dqv6kY"
   },
   "source": [
    "### Exercise 3.13.3"
   ]
  },
  {
   "cell_type": "markdown",
   "metadata": {
    "id": "qXy5H4evv6kZ"
   },
   "source": [
    "Which of the following statements is/are true?\n",
    "1. $\\exists !x \\in \\mathbb{Z}\\ (x^{2} = 1)$.\n",
    "2. $\\exists !x \\in \\mathbb{Z}\\ (x + 3 = 2x)$.\n",
    "3. $\\exists !x \\in \\mathbb{Z}\\ (x = x + 1)$.\n",
    "4. $\\exists x \\in \\mathbb{R}\\ (x^{3} = -9)$.\n",
    "5. $\\exists x \\in \\mathbb{R}\\ (x^{4} > x^{2})$.\n",
    "6. $\\forall x \\in \\mathbb{R}\\ ((-x)^{2} = x^{2})$.\n",
    "7. $\\forall x \\in \\mathbb{R}\\ (2x > x)$."
   ]
  },
  {
   "cell_type": "code",
   "execution_count": null,
   "metadata": {
    "id": "WmAGKw21v6kZ"
   },
   "outputs": [],
   "source": [
    "#@title Hint {display-mode: \"form\"}\n",
    "print('''\n",
    "1. The definition is in Exercise 3.13.2 in case you missed it.\n",
    "2. Just do the algebra.\n",
    "3. Algebra won't help here, but logical thinking will.\n",
    "4. Algebra works!\n",
    "5. Take advantage of the fact that both sides of the inequality are positive (or zero).\n",
    "6. A negative times a negative equals a what?\n",
    "7. Be careful here.\n",
    "''')"
   ]
  },
  {
   "cell_type": "code",
   "execution_count": null,
   "metadata": {
    "id": "McP8e3jzv6ka"
   },
   "outputs": [],
   "source": [
    "#@title Answer {display-mode: \"form\"}\n",
    "print('''\n",
    "1. False. There are two: 1 and -1.\n",
    "2. True. x = 3 is the unique solution to the equation. \n",
    "3. False. There is no number (integer or otherwise) equal to one more than that number.\n",
    "4. True. The cube root of -9 exists and is a negative number.\n",
    "5. True. The inequality simplifies to 'x-squared is greater than 1', which has infinite solutions.\n",
    "6. True. A number squared is the same as the negative of that number squared.\n",
    "7. False. This fails for negative x.\n",
    "''')"
   ]
  },
  {
   "cell_type": "markdown",
   "metadata": {
    "id": "Ps9VWGU6w5PO"
   },
   "source": [
    "### Exercise 3.13.4"
   ]
  },
  {
   "cell_type": "markdown",
   "metadata": {
    "id": "3jCRLk4_pd5k"
   },
   "source": [
    "Let $E(x) = x$ is an excuse,\n",
    "\n",
    "$I(x) = x$ is ignored,\n",
    "\n",
    "$L(x) = x$ is a lie, and\n",
    "\n",
    "$R(x) = x$ is a reason,\n",
    "\n",
    "and let the domain for $x$ consist of all English words.\n",
    "\n",
    "Express each of these statements using quantifiers, logical connectives, and $E(x)$, $L(x)$, and $R(x)$:\n",
    "1. Some excuses are ignored.\n",
    "2. Not all lies are reasons.\n",
    "3. Some excuses are not reasons.\n",
    "4. Some excuses are lies.\n"
   ]
  },
  {
   "cell_type": "code",
   "execution_count": null,
   "metadata": {
    "id": "_3Qvx5Gdpofk"
   },
   "outputs": [],
   "source": [
    "#@title Hint {display-mode: \"form\"}\n",
    "print('''\n",
    "This should be getting easier.\n",
    "''')"
   ]
  },
  {
   "cell_type": "code",
   "execution_count": null,
   "metadata": {
    "id": "Y-0vIlXRpwnU"
   },
   "outputs": [],
   "source": [
    "#@title Answer {display-mode: \"form\"}\n",
    "from IPython.display import Markdown\n",
    "display(Markdown('''\n",
    "1. $\\\\exists x\\\\ (E(x) \\\\land I(x))$.\n",
    "2. $\\\\lnot \\\\forall x\\\\ L(x) \\\\rightarrow R(x)$. Or, $\\\\exists x\\\\ (L(x) \\\\land \\\\lnot R(x))$.\n",
    "3. $\\\\exists x\\\\ (E(x) \\\\land \\\\lnot R(x))$.\n",
    "4. $\\\\exists x\\\\ (E(x) \\\\land L(x))$.\n",
    "'''))"
   ]
  },
  {
   "cell_type": "markdown",
   "metadata": {
    "id": "q3KuZdvPJnBb"
   },
   "source": [
    "### Exercise 3.13.5"
   ]
  },
  {
   "cell_type": "markdown",
   "metadata": {
    "id": "vl2hlaLjJnBc"
   },
   "source": [
    "Let $T = $ is a teetotaler,\n",
    "\n",
    "$F = $ is one of my friends,\n",
    "\n",
    "$R =$ is a soldier, and\n",
    "\n",
    "$D =$ is willing to drink. \n",
    "\n",
    "Express each of the following statements using quantifiers, logical connectives, and $T(x)$, $F(x)$, $R(x)$, and $D(x)$.\n",
    "1. No teetotaler is willing to drink.\n",
    "2. No soldiers ever decline a drink.\n",
    "3. All my friends are teetotalers.\n",
    "4. My friends are not soldiers.\n",
    "\n",
    "Does 4 follow logically from 1, 2 and 3? If not, is there a correct conclusion?"
   ]
  },
  {
   "cell_type": "code",
   "execution_count": null,
   "metadata": {
    "id": "wTe4Y3I1JnBc"
   },
   "outputs": [],
   "source": [
    "#@title Hint {display-mode: \"form\"}\n",
    "print('''\n",
    "This is easier than it looks.\n",
    "''')"
   ]
  },
  {
   "cell_type": "code",
   "execution_count": null,
   "metadata": {
    "id": "YrV2Or6fJnBd"
   },
   "outputs": [],
   "source": [
    "#@title Answer {display-mode: \"form\"}\n",
    "from IPython.display import Markdown\n",
    "display(Markdown('''\n",
    "1. $\\\\forall x\\\\ T(x) \\\\rightarrow \\\\lnot D(x)$.\n",
    "2. $\\\\forall x\\\\ R(x) \\\\rightarrow D(x)$.\n",
    "3. $\\\\forall x\\\\ F(x) \\\\rightarrow T(x)$.\n",
    "4. $\\\\forall x\\\\ F(x) \\\\rightarrow \\\\lnot R(x)$.\n",
    "'''))\n",
    "print('''\n",
    "Yes, 4 logically follows from 1, 2 and 3.\n",
    "No friend of mine is willing to drink by 1 and 3,\n",
    "and soldiers are willing to drink by 2, so no\n",
    "soldier can be a friend of mine.\n",
    "''')"
   ]
  },
  {
   "cell_type": "markdown",
   "metadata": {
    "id": "fBouumi6Ej4J"
   },
   "source": [
    "## <font color=red>3.14 Free and Bound</font>"
   ]
  },
  {
   "cell_type": "markdown",
   "metadata": {
    "id": "LwhsPYwyntRL"
   },
   "source": [
    "### Exercise 3.14.1"
   ]
  },
  {
   "cell_type": "markdown",
   "metadata": {
    "id": "NYQJjyswntRN"
   },
   "source": [
    "Write the formal definitions of **injective** and **surjective** given in Exercise 3.5.1 using quantifier symbols instead of words."
   ]
  },
  {
   "cell_type": "code",
   "execution_count": null,
   "metadata": {
    "id": "BwO4iY_AntRN"
   },
   "outputs": [],
   "source": [
    "#@title Hint {display-mode: \"form\"}\n",
    "from IPython.display import Markdown\n",
    "display(Markdown('''\n",
    "$\\\\forall m, n \\\\in A$ is short for $\\\\forall m \\\\in A \\\\land \\\\forall n \\\\in A$.\n",
    "'''))"
   ]
  },
  {
   "cell_type": "code",
   "execution_count": null,
   "metadata": {
    "id": "i5ZIL2rxntRO"
   },
   "outputs": [],
   "source": [
    "#@title Answer {display-mode: \"form\"}\n",
    "from IPython.display import Markdown\n",
    "display(Markdown('''\n",
    "For $f : A \\\\longrightarrow B$,\n",
    "\n",
    "$f$ is injective means $\\\\forall m,n \\\\in A, f(m) \\\\ne f(n)$ whenever $m \\\\ne n$, and\n",
    "\n",
    "$f$ is surjective means $\\\\forall b \\\\in B, \\\\exists a \\\\in A$ such that $f(a) = b$.\n",
    "'''))"
   ]
  },
  {
   "cell_type": "markdown",
   "metadata": {
    "id": "pEkbAbC8ntmm"
   },
   "source": [
    "### Exercise 3.14.2"
   ]
  },
  {
   "cell_type": "markdown",
   "metadata": {
    "id": "5KaBVs2dntmn"
   },
   "source": [
    "Translate these statements into English, where the domain for each variable consists of all real numbers.\n",
    "1. $\\exists x \\forall y\\ (x > y)$.\n",
    "2. $\\exists x \\exists y\\ (((x \\ge 0) \\land (y \\ge 0)) \\rightarrow (xy \\ge 0))$.\n",
    "3. $\\exists x \\forall y \\exists z\\ (x = y + z)$."
   ]
  },
  {
   "cell_type": "code",
   "execution_count": null,
   "metadata": {
    "id": "QVNtttntntmn"
   },
   "outputs": [],
   "source": [
    "#@title Hint {display-mode: \"form\"}\n",
    "print('''\n",
    "It might help to plug in some actual numbers (\"concretize\").\n",
    "''')"
   ]
  },
  {
   "cell_type": "code",
   "execution_count": null,
   "metadata": {
    "id": "0kisB8Ymntmo"
   },
   "outputs": [],
   "source": [
    "#@title Answer {display-mode: \"form\"}\n",
    "print('''\n",
    "1. Some number is greater than every number.\n",
    "   (Or, there is a greatest number. Clearly false!)\n",
    "2. The product of some nonnegative numbers is nonnegative.\n",
    "3. Some number is the sum of every number and some other number.\n",
    "''')"
   ]
  },
  {
   "cell_type": "markdown",
   "metadata": {
    "id": "o3z70hQintxh"
   },
   "source": [
    "### Exercise 3.14.3"
   ]
  },
  {
   "cell_type": "markdown",
   "metadata": {
    "id": "X4vYB9bMntxh"
   },
   "source": [
    "Let $Q(x, y)$ be the statement &ldquo;$x$ asks $y$ a question&rdquo;, where the domain for both $x$ and $y$ consists of all students in a study group.\n",
    "\n",
    "Express each nested quantification as an English sentence.\n",
    "1. $\\forall x \\exists y\\ Q(x, y)$.\n",
    "2. $\\forall x \\forall y\\ Q(x, y)$.\n",
    "3. $\\exists x \\exists y\\ Q(x, y)$.\n",
    "4. $\\exists x \\forall y\\ Q(x, y)$.\n",
    "5. $\\forall y \\exists x\\ Q(x, y)$.\n",
    "6. $\\exists y \\exists x\\ Q(x, y)$."
   ]
  },
  {
   "cell_type": "code",
   "execution_count": null,
   "metadata": {
    "id": "aFEAF9Aantxi"
   },
   "outputs": [],
   "source": [
    "#@title Hint {display-mode: \"form\"}\n",
    "print('''\n",
    "Use \"every\" and \"some\" (or \"at least one\").\n",
    "''')"
   ]
  },
  {
   "cell_type": "code",
   "execution_count": null,
   "metadata": {
    "id": "MtY47PhCntxi"
   },
   "outputs": [],
   "source": [
    "#@title Answer {display-mode: \"form\"}\n",
    "print('''\n",
    "1. Every student asks some student a question.\n",
    "2. Every student asks every student a question.\n",
    "3. Some student asks at least one student a question.\n",
    "4. Some student asks every student a question.\n",
    "5. Every student is asked a question by some (or at least one) student.\n",
    "6. Some student asks some student a question. (Another way to say the answer to 3.)\n",
    "''')"
   ]
  },
  {
   "cell_type": "markdown",
   "metadata": {
    "id": "b7-egK9ont44"
   },
   "source": [
    "### Exercise 3.14.4"
   ]
  },
  {
   "cell_type": "markdown",
   "metadata": {
    "id": "NLIaPtFunt44"
   },
   "source": [
    "Let $Q(x, y)$ be &ldquo;$x$ asks $y$ a question&rdquo;, where the domain for both $x$ and $y$ consists of all people at your school.\n",
    "\n",
    "Express each of the sentences below in terms of $Q(x, y)$, quantifiers, and logical connectives.\n",
    "\n",
    "(To distinguish different roles for people, use the predicates $S(x) = x$ is a student, $T(x) = x$ is a teacher, and $A(x) = x$ is a TA.) \n",
    "1. No student has ever asked a teacher a question.\n",
    "2. There is a student who has asked a teacher a question.\n",
    "3. Every student has asked a teacher and a TA a question.\n",
    "4. At least two students have asked a teacher a question."
   ]
  },
  {
   "cell_type": "code",
   "execution_count": null,
   "metadata": {
    "id": "Cw4eg2j8nt44"
   },
   "outputs": [],
   "source": [
    "#@title Hint {display-mode: \"form\"}\n",
    "print('''\n",
    "The last two need three quantifiers.\n",
    "''')"
   ]
  },
  {
   "cell_type": "code",
   "execution_count": null,
   "metadata": {
    "id": "eW1TOlAXnt44"
   },
   "outputs": [],
   "source": [
    "#@title Answer {display-mode: \"form\"}\n",
    "from IPython.display import Markdown\n",
    "display(Markdown('''\n",
    "1. $\\\\forall x \\\\forall y\\\\ S(x) \\land T(y) \\\\rightarrow \\\\lnot Q(x, y)$.\n",
    "2. $\\\\exists x \\\\exists y\\\\ S(x) \\\\land T(y) \\\\land Q(x, y)$.\n",
    "3. $\\\\forall x \\\\exists y \\\\exists z\\\\ S(x) \\\\land T(y) \\\\land A(z) \\\\rightarrow (Q(x, y) \\\\land Q(x, z))$.\n",
    "4. $\\\\exists x \\\\exists y \\\\exists z\\\\ S(x) \\\\land S(y) \\\\land x \\\\ne y \\\\land T(z) \\\\land Q(x, z) \\\\land Q(y, z)$.\n",
    "'''))"
   ]
  },
  {
   "cell_type": "markdown",
   "metadata": {
    "id": "CeiyKAPJnt-f"
   },
   "source": [
    "### Exercise 3.14.5"
   ]
  },
  {
   "cell_type": "markdown",
   "metadata": {
    "id": "v1c70rXjnt-g"
   },
   "source": [
    "Let $T(x, y)$ be $x$ has taught $y$, where the domain for $x$ is all teachers teaching in some department, and the domain for $y$ is all classes taught in that department.\n",
    "\n",
    "Express each of these sentences in terms of $T(x, y)$, quantifiers, and logical connectives:\n",
    "1. No teacher has taught every class.\n",
    "2. Every teacher has taught every class.\n",
    "3. Every teacher has taught some class.\n",
    "4. At least two teachers have taught a class."
   ]
  },
  {
   "cell_type": "code",
   "execution_count": null,
   "metadata": {
    "id": "rbdxE_VNnt-g"
   },
   "outputs": [],
   "source": [
    "#@title Hint {display-mode: \"form\"}\n",
    "print('''\n",
    "The last one needs three quantifiers binding three different variables.\n",
    "''')"
   ]
  },
  {
   "cell_type": "code",
   "execution_count": null,
   "metadata": {
    "id": "sWT20-9Gnt-g"
   },
   "outputs": [],
   "source": [
    "#@title Answer {display-mode: \"form\"}\n",
    "from IPython.display import Markdown\n",
    "display(Markdown('''\n",
    "1. $\\\\lnot \\\\exists x \\\\forall y\\\\ T(x, y)$. Better as $\\\\forall x \\\\exists y\\\\ \\\\lnot T(x, y)$.\n",
    "2. $\\\\forall x \\\\forall y\\\\ T(x, y)$.\n",
    "3. $\\\\forall x \\\\exists y\\\\ T(x, y)$.\n",
    "4. $\\\\exists x \\\\exists y \\\\exists z\\\\ T(x, z) \\\\land T(y, z) \\\\land x \\\\ne y$.\n",
    "'''))"
   ]
  },
  {
   "cell_type": "markdown",
   "metadata": {
    "id": "MWtpv_OxnuD0"
   },
   "source": [
    "### Exercise 3.14.6"
   ]
  },
  {
   "cell_type": "markdown",
   "metadata": {
    "id": "YYp9r7N1nuD0"
   },
   "source": [
    "Use quantifiers and predicates, some with two variables, to express these statements **and** their negations:\n",
    "1. Every student needs a laptop.\n",
    "2. No student has been in every building on campus.\n",
    "3. Exactly one student has been in every room of exactly one building on campus.\n",
    "4. Every student has been in at least one room of every building on campus."
   ]
  },
  {
   "cell_type": "code",
   "execution_count": null,
   "metadata": {
    "id": "RNZzWQ5QnuD0"
   },
   "outputs": [],
   "source": [
    "#@title Hint {display-mode: \"form\"}\n",
    "from IPython.display import Markdown\n",
    "display(Markdown('''\n",
    "Use the predicates:\\\\\n",
    "$S(x) = x$ is a student,\\\\\n",
    "$N(x, y) = x$ needs $y$,\\\\\n",
    "$B(x) = x$ is a building on campus,\\\\\n",
    "$R(x, y) = x$ is a room in building $y$, and\\\\\n",
    "$I(x, y) = x$ has been in $y$.\n",
    "'''))"
   ]
  },
  {
   "cell_type": "code",
   "execution_count": null,
   "metadata": {
    "id": "_NmylLwAnuD1"
   },
   "outputs": [],
   "source": [
    "#@title Answer {display-mode: \"form\"}\n",
    "from IPython.display import Markdown\n",
    "display(Markdown('''\n",
    "1. $\\\\forall x\\\\ S(x) \\\\rightarrow N(x, laptop)$.\n",
    "2. $\\\\forall x \\\\exists y\\\\ [S(x) \\\\land B(y) \\\\land \\\\lnot I(x, y)]$.\n",
    "3. $\\\\exists! x \\\\forall y \\\\exists! z\\\\ [(S(x) \\\\land R(y, z) \\\\land B(z)) \\\\rightarrow I(x, y)]$.\n",
    "4. $\\\\forall s\\\\ \\\\forall b\\\\ \\\\exists r\\\\ [R(r, b) \\\\land I(s, r)]$\n",
    "\n",
    "Negations:\n",
    "\n",
    "1. $\\\\exists x\\\\ S(x) \\\\land \\\\lnot N(x, laptop)$.\n",
    "2. $\\\\exists x \\\\forall y\\\\ [\\\\lnot S(x) \\\\lor \\\\lnot B(y) \\\\lor I(x, y)]$.\n",
    "3. $\\\\forall x \\\\exists y \\\\forall z\\\\ [S(x) \\\\land R(y, z) \\\\land B(z) \\\\land \\\\lnot I(x, y)]$.\n",
    "4. $\\\\exists s\\\\ \\\\exists b\\\\ \\\\forall r\\\\ [R(r, b) \\\\rightarrow \\\\lnot I(s, r)]$.\n",
    "'''))"
   ]
  },
  {
   "cell_type": "markdown",
   "metadata": {
    "id": "lp9AU1x_nuJD"
   },
   "source": [
    "### Exercise 3.14.7"
   ]
  },
  {
   "cell_type": "markdown",
   "metadata": {
    "id": "I62y-IpZnuJD"
   },
   "source": [
    "Express each of these statements using predicates, quantifiers, logical connectives, and mathematical operators where the domain consists of all integers.\n",
    "1. The average of two numbers is not greater than those two numbers.\n",
    "2. The product of a positive number and a negative number is negative.\n",
    "3. There is no solution in radicals to a quintic equation.\n",
    "4. All positive numbers are greater than all negative numbers."
   ]
  },
  {
   "cell_type": "code",
   "execution_count": null,
   "metadata": {
    "id": "C5m_Nw-6nuJD"
   },
   "outputs": [],
   "source": [
    "#@title Hint {display-mode: \"form\"}\n",
    "print('''\n",
    "Both the second one and the fourth one need an implication.\n",
    "All involve two universal quantifiers except the third one,\n",
    "which involves just one after applying De Morgan's rule for\n",
    "negating quantified statements.\n",
    "''')"
   ]
  },
  {
   "cell_type": "code",
   "execution_count": null,
   "metadata": {
    "id": "cATvO312nuJD"
   },
   "outputs": [],
   "source": [
    "#@title Answer {display-mode: \"form\"}\n",
    "from IPython.display import Markdown\n",
    "display(Markdown('''\n",
    "1. $\\\\forall x \\\\forall y\\\\ ((x + y)/2 \\\\le x) \\\\lor ((x + y)/2 \\\\le y)$.\n",
    "2. $\\\\forall x \\\\forall y\\\\ (((x > 0) \\\\land (y < 0)) \\\\rightarrow xy < 0)$.\n",
    "3. $\\\\forall x\\\\ IsQuinticEquation(x) \\\\rightarrow \\\\lnot HasSolutionInRadicals(x)$.\n",
    "4. $\\\\forall x \\\\forall y\\\\ (((x > 0) \\\\land (y < 0)) \\\\rightarrow x > y)$.\n",
    "'''))\n",
    "print('''\n",
    "\n",
    "''')"
   ]
  },
  {
   "cell_type": "markdown",
   "metadata": {
    "id": "tI4hCz0PnuOA"
   },
   "source": [
    "### Exercise 3.14.8"
   ]
  },
  {
   "cell_type": "markdown",
   "metadata": {
    "id": "9dUIVe1BnuOA"
   },
   "source": [
    "Express the statement &ldquo;no prime number has 3 factors&rdquo; using predicates, quantifiers, logical connectives, and mathematical operators."
   ]
  },
  {
   "cell_type": "code",
   "execution_count": null,
   "metadata": {
    "id": "nltJNSkHnuOA"
   },
   "outputs": [],
   "source": [
    "#@title Hint {display-mode: \"form\"}\n",
    "print('''\n",
    "This needs four universal quantifiers binding four different variables,\n",
    "and it definitely calls for an application of the gersy principle!\n",
    "''')"
   ]
  },
  {
   "cell_type": "code",
   "execution_count": null,
   "metadata": {
    "id": "gS-flXl_nuOA"
   },
   "outputs": [],
   "source": [
    "#@title Answer {display-mode: \"form\"}\n",
    "from IPython.display import Markdown\n",
    "display(Markdown('''\n",
    "$\\\\forall p \\\\forall x \\\\forall y \\\\forall z\\\\ [Prime(p) \\\\land x > 1 \\\\land y > 1 \\\\land z > 1 \\\\rightarrow p \\\\ne xyz]$.\n",
    "'''))"
   ]
  },
  {
   "cell_type": "markdown",
   "metadata": {
    "id": "Wcbf55P9nuSk"
   },
   "source": [
    "### Exercise 3.14.9"
   ]
  },
  {
   "cell_type": "markdown",
   "metadata": {
    "id": "mUnYPiOenuSk"
   },
   "source": [
    "If the domain for $x$ and $y$ is $\\mathbb{Z}$, what are the truth values of these statements?\n",
    "1. $\\forall x \\forall y\\ ((x \\ne 0) \\land (y \\ne 0) \\leftrightarrow (xy \\ne 0))$.\n",
    "2. $\\exists x \\forall y\\ (x + y > y)$.\n",
    "3. $\\exists x \\forall y\\ (x + y < y)$.\n",
    "4. $\\exists !x \\forall y\\ (x + y = y)$."
   ]
  },
  {
   "cell_type": "code",
   "execution_count": null,
   "metadata": {
    "id": "0e57F8UBnuSk"
   },
   "outputs": [],
   "source": [
    "#@title Hint {display-mode: \"form\"}\n",
    "from IPython.display import Markdown\n",
    "display(Markdown('''\n",
    "Recall that $\\mathbb{Z}$ is the set of all integers.\n",
    "'''))"
   ]
  },
  {
   "cell_type": "code",
   "execution_count": null,
   "metadata": {
    "id": "EC1baG_pnuSl"
   },
   "outputs": [],
   "source": [
    "#@title Answer {display-mode: \"form\"}\n",
    "print('''\n",
    "All of these are true.\n",
    "''')"
   ]
  },
  {
   "cell_type": "markdown",
   "metadata": {
    "id": "rIMeagPYnuXG"
   },
   "source": [
    "### Exercise 3.14.10"
   ]
  },
  {
   "cell_type": "markdown",
   "metadata": {
    "id": "iDxpANcrnuXG"
   },
   "source": [
    "What are the truth values of the expressions below if $T(x, y)$ is $xy < y$, where the domain for both $x$ and $y$ is $\\mathbb{Z}$?\n",
    "1. $T(0, 5)$.\n",
    "2. $T(1, 1)$.\n",
    "3. $T(7, -3)$.\n",
    "4. $\\exists x \\forall y\\ T(x, y)$.\n",
    "5. $\\exists x\\ T(x, 2)$.\n",
    "6. $\\forall y\\ T(9, y)$.\n",
    "7. $\\forall x \\forall y\\ T(x, y)$.\n",
    "8. $\\forall x \\exists y\\ T(x, y)$."
   ]
  },
  {
   "cell_type": "code",
   "execution_count": null,
   "metadata": {
    "id": "byo_cFATnuXG"
   },
   "outputs": [],
   "source": [
    "#@title Hint {display-mode: \"form\"}\n",
    "from IPython.display import Markdown\n",
    "display(Markdown('''\n",
    "Write some code that implements the $T$ predicate and tests it.\n",
    "'''))"
   ]
  },
  {
   "cell_type": "code",
   "execution_count": null,
   "metadata": {
    "id": "3zGQToL8nuXH"
   },
   "outputs": [],
   "source": [
    "#@title Answer {display-mode: \"form\"}\n",
    "print('''\n",
    "1. True\n",
    "2. False\n",
    "3. True\n",
    "4. True\n",
    "5. True\n",
    "6. False\n",
    "7. False\n",
    "8. True\n",
    "''')"
   ]
  },
  {
   "cell_type": "markdown",
   "metadata": {
    "id": "aY9iKjFgnubW"
   },
   "source": [
    "### Exercise 3.14.11"
   ]
  },
  {
   "cell_type": "markdown",
   "metadata": {
    "id": "MK2pb-EgnubX"
   },
   "source": [
    "Determine the truth value of the statement $\\forall x \\exists y\\ (x - y \\ge x)$ if the domain for $x$ and $y$ is\n",
    "1. the real numbers.\n",
    "2. the natural numbers.\n",
    "3. the negative integers.\n",
    "4. the rational numbers."
   ]
  },
  {
   "cell_type": "code",
   "execution_count": null,
   "metadata": {
    "id": "CJbyrHnMnubX"
   },
   "outputs": [],
   "source": [
    "#@title Hint {display-mode: \"form\"}\n",
    "print('''\n",
    "Plug in concrete numbers if necessary.\n",
    "''')"
   ]
  },
  {
   "cell_type": "code",
   "execution_count": null,
   "metadata": {
    "id": "bqZP9wSbnubX"
   },
   "outputs": [],
   "source": [
    "#@title Answer {display-mode: \"form\"}\n",
    "print('''\n",
    "All of these are true.\n",
    "''')"
   ]
  },
  {
   "cell_type": "markdown",
   "metadata": {
    "id": "8FFxFKP-nvUS"
   },
   "source": [
    "### Exercise 3.14.12"
   ]
  },
  {
   "cell_type": "markdown",
   "metadata": {
    "id": "yRdlC3L4nvUS"
   },
   "source": [
    "Another highly useful higher-order function is ```filter```, which takes a predicate and a sequence and creates a new sequence filtered through the predicate. Items in the original sequence for which the predicate returns true remain, if false they are filtered out.\n",
    "\n",
    "For example, the following prints out a list of the first three odds:"
   ]
  },
  {
   "cell_type": "code",
   "execution_count": null,
   "metadata": {
    "id": "1qG2aWl2B4yY"
   },
   "outputs": [],
   "source": [
    "print(list(filter(lambda x: x % 2 == 1, range(1, 7))))"
   ]
  },
  {
   "cell_type": "markdown",
   "metadata": {
    "id": "OrMvJwxJB-ak"
   },
   "source": [
    "Write a function called ```summer``` (that has nothing to do with sums or series) and make it so the summer months (June, July, August) are kept and the others discarded when passing ```summer``` to ```filter``` with the list:\n"
   ]
  },
  {
   "cell_type": "code",
   "execution_count": null,
   "metadata": {
    "id": "yVMK4CPJCCYl"
   },
   "outputs": [],
   "source": [
    "months = ['January', 'February', 'March',\n",
    "          'April', 'May', 'June',\n",
    "          'July','August', 'September',\n",
    "          'October', 'November', 'December']"
   ]
  },
  {
   "cell_type": "code",
   "execution_count": null,
   "metadata": {
    "id": "08Mlexa1nvUT"
   },
   "outputs": [],
   "source": [
    "#@title Hint {display-mode: \"form\"}\n",
    "print('''\n",
    "Make the filter code as efficient as possible.\n",
    "''')"
   ]
  },
  {
   "cell_type": "code",
   "execution_count": null,
   "metadata": {
    "id": "IGpHRvX0nvUT"
   },
   "outputs": [],
   "source": [
    "#@title Answer {display-mode: \"form\"}\n",
    "# Exploit the fact that the summer months all have\n",
    "# a 'u' as their second letter:\n",
    "def summer(month):\n",
    "  return month[1] == 'u'\n",
    "\n",
    "list(filter(summer, months))"
   ]
  },
  {
   "cell_type": "markdown",
   "metadata": {
    "id": "EddlWVIRs-XA"
   },
   "source": [
    "### Exercise 3.14.13"
   ]
  },
  {
   "cell_type": "markdown",
   "metadata": {
    "id": "VgnZsF5Gs7kC"
   },
   "source": [
    "In the spirit of nested quantifiers, define a &ldquo;nested filter&rdquo; creator function.\n",
    "\n",
    "This is a function that takes two parameters, ```m``` and ```r```, and returns a ```lambda``` filter with parameter ```x``` and expression ```(x % m) == r```.\n",
    "\n",
    "Call this function with three different pairs of values for ```m``` and ```r``` to create three filters.\n",
    "\n",
    "Apply these filters to the ```range(0, 100)``` and print lists of the filtered results.\n",
    "\n",
    "Where have you seen this type of list before?"
   ]
  },
  {
   "cell_type": "code",
   "execution_count": null,
   "metadata": {
    "id": "o9VkcOMhs-XD"
   },
   "outputs": [],
   "source": [
    "#@title Hint {display-mode: \"form\"}\n",
    "print('''\n",
    "This foreshadows some number theoretic concepts coming later,\n",
    "but introduced in Chapter 4 with the TLA CMM.\n",
    "''')"
   ]
  },
  {
   "cell_type": "code",
   "execution_count": null,
   "metadata": {
    "id": "Hdj-iZxDs-XE"
   },
   "outputs": [],
   "source": [
    "#@title Answer {display-mode: \"form\"}\n",
    "def create_filter(m, r):\n",
    "  \"\"\"Seen before as arithmetic progressions.\n",
    "  \"\"\"\n",
    "  return lambda x: (x % m) == r\n",
    "\n",
    "f53 = create_filter(5, 3)\n",
    "\n",
    "f74 = create_filter(7, 4)\n",
    "\n",
    "f118 = create_filter(11, 8)\n",
    "\n",
    "print(list(filter(f53, range(100))))\n",
    "\n",
    "print(list(filter(f74, range(100))))\n",
    "\n",
    "print(list(filter(f118, range(100))))"
   ]
  },
  {
   "cell_type": "markdown",
   "metadata": {
    "id": "BdBEczWUBR6b"
   },
   "source": [
    "### Exercise 3.14.14"
   ]
  },
  {
   "cell_type": "markdown",
   "metadata": {
    "id": "3vw7BIetBR6c"
   },
   "source": [
    "Write a predicate for which the call to the ```test_predicate``` function shown below returns True. (You'll need your ```forall```\n",
    "function too.)"
   ]
  },
  {
   "cell_type": "code",
   "execution_count": null,
   "metadata": {
    "id": "KLJ4PgppEQJB"
   },
   "outputs": [],
   "source": [
    "def test_predicate(predicate):\n",
    "  return forall(predicate, [['Discrete', 8], ['Math', 8],\n",
    "                            ['Is', 6], ['Awesome', 28]]) and \\\n",
    "         not forall(predicate, [['Oracle', 0], ['Apple', 11],\n",
    "                                ['Microsoft', -18], ['Google', 25]])\n",
    "\n",
    "def my_predicate(data):\n",
    "  # YOUR ANSWER GOES HERE\n",
    "  raise NotImplementedError\n",
    "  \n",
    "print(test_predicate(my_predicate))"
   ]
  },
  {
   "cell_type": "code",
   "execution_count": null,
   "metadata": {
    "id": "VPSoJdn7BR6e"
   },
   "outputs": [],
   "source": [
    "#@title Hint {display-mode: \"form\"}\n",
    "print('''\n",
    "This will require some thought. But it's simpler than it looks.\n",
    "Put your code (a one-liner) in the place of the line that says\n",
    "\"YOUR ANSWER GOES HERE\". After doing so, you can remove the\n",
    "\"raise NotImplementedError\" line, or leave it, it won't matter.\n",
    "''')"
   ]
  },
  {
   "cell_type": "code",
   "execution_count": null,
   "metadata": {
    "id": "gKtA71NdBR6f"
   },
   "outputs": [],
   "source": [
    "#@title Answer {display-mode: \"form\"}\n",
    "def my_predicate(data):\n",
    "  \"\"\"Returns whether or not the length of the word\n",
    "     data[0] divides the number data[1] evenly.\n",
    "  \"\"\"\n",
    "  return data[1] % len(data[0]) == 0"
   ]
  }
 ],
 "metadata": {
  "colab": {
   "authorship_tag": "ABX9TyM2oFHg6PQtEb99phZf8EzH",
   "collapsed_sections": [
    "IXDTyw-qG83G",
    "huTlmPImune6",
    "9Idm_9Dqv6kY",
    "Ps9VWGU6w5PO",
    "q3KuZdvPJnBb",
    "LwhsPYwyntRL",
    "pEkbAbC8ntmm",
    "o3z70hQintxh",
    "b7-egK9ont44",
    "CeiyKAPJnt-f",
    "EddlWVIRs-XA",
    "BdBEczWUBR6b"
   ],
   "name": "chapter-3-predicates-and-quantifiers-exercises.ipynb",
   "private_outputs": true,
   "provenance": []
  },
  "kernelspec": {
   "display_name": "Python 3",
   "language": "python",
   "name": "python3"
  },
  "language_info": {
   "codemirror_mode": {
    "name": "ipython",
    "version": 3
   },
   "file_extension": ".py",
   "mimetype": "text/x-python",
   "name": "python",
   "nbconvert_exporter": "python",
   "pygments_lexer": "ipython3",
   "version": "3.9.0"
  }
 },
 "nbformat": 4,
 "nbformat_minor": 1
}
