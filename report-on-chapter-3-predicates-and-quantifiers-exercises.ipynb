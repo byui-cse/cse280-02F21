{
 "cells": [
  {
   "cell_type": "markdown",
   "metadata": {
    "id": "vC2iXwCNIIwy"
   },
   "source": [
    "# <font color=blue>Report on Chapter 3 Predicates and Quantifiers Exercises</font>\n"
   ]
  },
  {
   "cell_type": "markdown",
   "metadata": {
    "id": "rrW6JZ0sIO7j"
   },
   "source": [
    "## <font color=red>Instructions</font>\n"
   ]
  },
  {
   "cell_type": "markdown",
   "metadata": {
    "id": "d9xmRbFGIQSC"
   },
   "source": [
    "This self-assessment again asks you to enter the approximate number of hours (rounded up to the nearest whole number) you spent doing the remainder of the Chapter 3 exercises.\n"
   ]
  },
  {
   "cell_type": "markdown",
   "metadata": {
    "id": "8HdHsnAWISos"
   },
   "source": [
    "Also like last week, there is another question, multiple answers, a point for each box you can truthfully check to assert that you **did** these remaining Chapter 3 exercises, to whatever extent you did them.\n"
   ]
  },
  {
   "cell_type": "markdown",
   "metadata": {
    "id": "dsESklgNIUdO"
   },
   "source": [
    "Here is how to interpret the assertion \"I did the ___ exercise(s)\":\n"
   ]
  },
  {
   "cell_type": "markdown",
   "metadata": {
    "id": "-19qgKJ1IV5q"
   },
   "source": [
    "I learned something new or achieved something meaningful, or something I can build upon at a later time, from doing the ___ exercise(s).\n"
   ]
  },
  {
   "cell_type": "markdown",
   "metadata": {
    "id": "rj6RrnDeIYlk"
   },
   "source": [
    "## <font color=purple>Access</font>\n"
   ]
  },
  {
   "cell_type": "markdown",
   "metadata": {
    "id": "6toHj0c9IZWm"
   },
   "source": [
    "[Take the Self-Assessment](https://byui.instructure.com/courses/149380/quizzes/2724873)"
   ]
  }
 ],
 "metadata": {
  "colab": {
   "authorship_tag": "ABX9TyP3bOMmMvxZVDhvPd6vnK0D",
   "name": "report-on-chapter-3-predicates-and-quantifiers-exercises.ipynb",
   "private_outputs": true,
   "provenance": []
  },
  "kernelspec": {
   "display_name": "Python 3",
   "language": "python",
   "name": "python3"
  },
  "language_info": {
   "codemirror_mode": {
    "name": "ipython",
    "version": 3
   },
   "file_extension": ".py",
   "mimetype": "text/x-python",
   "name": "python",
   "nbconvert_exporter": "python",
   "pygments_lexer": "ipython3",
   "version": "3.9.0"
  }
 },
 "nbformat": 4,
 "nbformat_minor": 1
}
