{
 "cells": [
  {
   "cell_type": "markdown",
   "metadata": {
    "id": "_Mr3AvSgSswx"
   },
   "source": [
    "# <font color=blue>Chapter 1 Introductions Exercises</font>\n",
    "## <font color=blue>Prepare</font>"
   ]
  },
  {
   "cell_type": "markdown",
   "metadata": {
    "id": "fLIKG9ZmdG5-"
   },
   "source": [
    "Here are links to the Hints (again) and Answers for the five Chapter 1.4 exercises.\n",
    "\n",
    "[Hints](https://colab.research.google.com/github/byui-cse/cse280-02F21/blob/main/chapter-1-introductions-exercises-hints.ipynb)\n",
    "\n",
    "[Answers](https://colab.research.google.com/github/byui-cse/cse280-02F21/blob/main/chapter-1-introductions-exercises-answers-1dtnfeZCwywv1jnxk6wKgrCpmBhDPhigx.ipynb)\n",
    "\n",
    "You have to do some more work, though, to get to the Answers. You'll need to do that work in order to check the boxes accurately where you are asked to answer \"What is True?\" and assert (or not) that you got the right answers to these five exercises.\n",
    "\n",
    "A simple transformation was applied to the GUID (Globally Unique ID) in the file link. You will need to reverse that transformation and splice back in the original GUID to make the link valid. Splice it in by modifying the code cell below and running it.\n",
    "\n",
    "As for what that transformation could be? --- think Hints!\n",
    "\n",
    "(If you can't figure it out after noodling on it for 10 or so minutes, well, you know what to do!)"
   ]
  },
  {
   "cell_type": "code",
   "execution_count": null,
   "metadata": {
    "id": "1XTOnEmicVnd"
   },
   "outputs": [],
   "source": [
    "from IPython.display import Markdown\n",
    "transformed_GUID = '1dtnfeZCwywv1jnxk6wKgrCpmBhDPhigx'\n",
    "original_GUID = '0' # replace 0 with the reverse-transformed transformed_GUID\n",
    "# The actual link:\n",
    "display(Markdown('[Answers](https://colab.research.google.com/github/byui-cse/cse280-02F21/blob/main/chapter-1-introductions-exercises-answers-'+original_GUID+'.ipynb)'))"
   ]
  }
 ],
 "metadata": {
  "colab": {
   "authorship_tag": "ABX9TyM2pnZ50IB1krMNsEI2wRWT",
   "name": "chapter-1-introductions-exercises.ipynb",
   "private_outputs": true,
   "provenance": []
  },
  "kernelspec": {
   "display_name": "Python 3",
   "language": "python",
   "name": "python3"
  },
  "language_info": {
   "codemirror_mode": {
    "name": "ipython",
    "version": 3
   },
   "file_extension": ".py",
   "mimetype": "text/x-python",
   "name": "python",
   "nbconvert_exporter": "python",
   "pygments_lexer": "ipython3",
   "version": "3.9.0"
  }
 },
 "nbformat": 4,
 "nbformat_minor": 1
}
