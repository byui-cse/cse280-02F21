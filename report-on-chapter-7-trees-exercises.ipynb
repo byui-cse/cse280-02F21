{
 "cells": [
  {
   "cell_type": "markdown",
   "metadata": {
    "id": "Rnxp4097hkwO"
   },
   "source": [
    "# <font color=blue>Report on Chapter 7 Trees Exercises</font>\n"
   ]
  },
  {
   "cell_type": "markdown",
   "metadata": {
    "id": "M_Hqbt_lhr4z"
   },
   "source": [
    "## <font color=red>Instructions</font>\n"
   ]
  },
  {
   "cell_type": "markdown",
   "metadata": {
    "id": "p7w1IFdfhsvq"
   },
   "source": [
    "Again, this self-assessment will NOT ask you to enter how long you spent doing the first part of the Chapter 7 exercises, but you were expected to spend a sufficient amount of time on them.\n"
   ]
  },
  {
   "cell_type": "markdown",
   "metadata": {
    "id": "4cT_x3HnhubZ"
   },
   "source": [
    "There are six assertions, earning you as before a point for each box you can truthfully check to assert that you took seriously the amount of time and effort required to understand trees.\n"
   ]
  },
  {
   "cell_type": "markdown",
   "metadata": {
    "id": "QzaHheC_hwds"
   },
   "source": [
    "1. I did Exercise 7.1.1 and got the right answer.\n",
    "2. I did Exercise 7.2.1 and got the right answer.\n",
    "3. I did Exercise 7.4.1 and got the right answer.\n",
    "4. I did Exercise 7.6.1 and got the right answer.\n",
    "5. I did Exercise 7.7.1 and got the right answer.\n",
    "6. I did Exercise 7.8.1 and got the right answer.\n"
   ]
  },
  {
   "cell_type": "markdown",
   "metadata": {
    "id": "VksGDGqUhx-h"
   },
   "source": [
    "For an extra challenge, part of the answer to one of these exercises is RSA-encrypted --- a connection to last week's work!\n"
   ]
  },
  {
   "cell_type": "markdown",
   "metadata": {
    "id": "W6aamO3ehz8C"
   },
   "source": [
    "## <font color=purple>Access</font>\n"
   ]
  },
  {
   "cell_type": "markdown",
   "metadata": {
    "id": "ysxDvuOKh13-"
   },
   "source": [
    "[Take the Self-Assessment](https://byui.instructure.com/courses/149380/quizzes/2724927)"
   ]
  }
 ],
 "metadata": {
  "colab": {
   "authorship_tag": "ABX9TyMspg/aJDdb+9QRj6rF7S7j",
   "collapsed_sections": [],
   "name": "report-on-chapter-7-trees-exercises.ipynb",
   "private_outputs": true,
   "provenance": []
  },
  "kernelspec": {
   "display_name": "Python 3",
   "language": "python",
   "name": "python3"
  },
  "language_info": {
   "codemirror_mode": {
    "name": "ipython",
    "version": 3
   },
   "file_extension": ".py",
   "mimetype": "text/x-python",
   "name": "python",
   "nbconvert_exporter": "python",
   "pygments_lexer": "ipython3",
   "version": "3.9.0"
  }
 },
 "nbformat": 4,
 "nbformat_minor": 1
}
