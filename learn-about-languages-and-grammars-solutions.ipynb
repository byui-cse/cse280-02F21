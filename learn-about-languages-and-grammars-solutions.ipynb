{
 "cells": [
  {
   "cell_type": "markdown",
   "metadata": {
    "id": "89GCdwPteJDK"
   },
   "source": [
    "# <font color=blue>Learn About Languages and Grammars</font>\n",
    "## <font color=blue>Solutions</font>"
   ]
  },
  {
   "cell_type": "markdown",
   "metadata": {
    "id": "0mUMjzrOekdR"
   },
   "source": [
    "## <font color=red>**DONE** Task 1</font>\n"
   ]
  },
  {
   "cell_type": "code",
   "execution_count": null,
   "metadata": {
    "id": "aF07qpxlemua"
   },
   "outputs": [],
   "source": [
    "import random\n",
    "\n",
    "def Grammar(**grammar):\n",
    "  \"Create a dictionary mapping symbols to alternatives.\"\n",
    "  for (cat, rhs) in grammar.items():\n",
    "    grammar[cat] = [alt.split() for alt in rhs.split('|')]\n",
    "  return grammar\n",
    "\n",
    "grammar = Grammar(\n",
    "  S   = 'NP VP',\n",
    "  NP  = 'CN | CN PP',\n",
    "  VP  = 'CV | CV PP',\n",
    "  PP  = 'P CN',\n",
    "  CN  = 'Art N',\n",
    "  CV  = 'V NP | V',\n",
    "  Art = 'a | the',\n",
    "  N   = 'boy | girl | flower',\n",
    "  V   = 'touches | likes | sees',\n",
    "  P   = 'with'\n",
    "  )\n",
    "\n",
    "def generate(symbol='S'):\n",
    "  \"Replace symbol with a random entry in grammar (recursively); join into a string.\"\n",
    "  global grammar\n",
    "  if symbol not in grammar:\n",
    "    return symbol\n",
    "  else:\n",
    "    return ' '.join(map(generate, random.choice(grammar[symbol])))\n",
    "\n",
    "def generate_tree(symbol='S'):\n",
    "  \"Replace symbol with a random entry in grammar (recursively); return a tree.\"\n",
    "  global grammar\n",
    "  if symbol not in grammar:\n",
    "    return symbol\n",
    "  else:\n",
    "    return {symbol: [generate_tree(x) for x in random.choice(grammar[symbol])]}"
   ]
  },
  {
   "cell_type": "code",
   "execution_count": null,
   "metadata": {
    "id": "3hAl1nI6e6Eo"
   },
   "outputs": [],
   "source": [
    "# Run this cell several times\n",
    "print(generate())"
   ]
  },
  {
   "cell_type": "markdown",
   "metadata": {
    "id": "67u3RTAuffZ1"
   },
   "source": [
    "## <font color=red>**DONE** Task 2</font>\n"
   ]
  },
  {
   "cell_type": "markdown",
   "metadata": {
    "id": "eUN80nplf377"
   },
   "source": [
    "### <font color=purple>More Sample Members</font>\n"
   ]
  },
  {
   "cell_type": "markdown",
   "metadata": {
    "id": "GyWMq-s7f4zd"
   },
   "source": [
    "`CAAZUTWY`\n"
   ]
  },
  {
   "cell_type": "markdown",
   "metadata": {
    "id": "hdYQrXeuf5de"
   },
   "source": [
    "`ORNVCAAZ`\n"
   ]
  },
  {
   "cell_type": "markdown",
   "metadata": {
    "id": "FgWjxJaHf6IO"
   },
   "source": [
    "`IDUTWYNE`\n"
   ]
  },
  {
   "cell_type": "markdown",
   "metadata": {
    "id": "mCKqeexYf65D"
   },
   "source": [
    "`UTCONEKS`\n"
   ]
  },
  {
   "cell_type": "markdown",
   "metadata": {
    "id": "awUvSo34f76G"
   },
   "source": [
    "### <font color=purple>More Sample Nonmembers</font>\n"
   ]
  },
  {
   "cell_type": "markdown",
   "metadata": {
    "id": "_EREJLOjf8rr"
   },
   "source": [
    "`IDFLGANY`\n"
   ]
  },
  {
   "cell_type": "markdown",
   "metadata": {
    "id": "BBr3lKRCf9qQ"
   },
   "source": [
    "`AZILOHME`\n"
   ]
  },
  {
   "cell_type": "markdown",
   "metadata": {
    "id": "ei5Sv2fjf-nZ"
   },
   "source": [
    "`KSSCWYIL`\n"
   ]
  },
  {
   "cell_type": "markdown",
   "metadata": {
    "id": "fURexpzsf_kl"
   },
   "source": [
    "`NDSCRIMT`\n"
   ]
  },
  {
   "cell_type": "markdown",
   "metadata": {
    "id": "eYsuaVnUgAcG"
   },
   "source": [
    "## <font color=red>**DONE** Task 3</font>\n"
   ]
  },
  {
   "cell_type": "markdown",
   "metadata": {
    "id": "yR0fSgjdgBp-"
   },
   "source": [
    "Which is the bigger language --- the language of Task 1 or the language of Task 2?\n"
   ]
  },
  {
   "cell_type": "code",
   "execution_count": null,
   "metadata": {
    "id": "HwLFa79c-8wd"
   },
   "outputs": [],
   "source": [
    "# The size of the language of Task 1, calculated by the product rule and the sum rule:\n",
    "P = 1\n",
    "V = 3\n",
    "N = 3\n",
    "A = 2\n",
    "CN = A * N\n",
    "PP = P * CN\n",
    "NP = CN + CN * PP\n",
    "CV = V * NP + V\n",
    "VP = CV + CV * PP\n",
    "S = NP * VP\n",
    "S"
   ]
  },
  {
   "cell_type": "code",
   "execution_count": null,
   "metadata": {},
   "outputs": [],
   "source": [
    "size_of_language_of_Task_1 = S"
   ]
  },
  {
   "cell_type": "code",
   "execution_count": null,
   "metadata": {},
   "outputs": [],
   "source": [
    "# How to calculate the size of the language of Task 2 --- generate all members of the language:\n",
    "states = {1: 'CA', 2: 'WA', 3: 'OR', 4: 'NV', 5: 'ID', 6: 'UT', 7: 'AZ', 8: 'MT', 9: 'WY', 10: 'CO', 11: 'NM', 12: 'ND', 13: 'SD', 14: 'NE', 15: 'KS', 16: 'OK', 17: 'TX', 18: 'MN', 19: 'IA', 20: 'MO', 21: 'AR', 22: 'LA', 23: 'WI', 24: 'IL', 25: 'MS', 26: 'MI', 27: 'IN', 28: 'KY', 29: 'TN', 30: 'AL', 31: 'OH', 32: 'WV', 33: 'VA', 34: 'GA', 35: 'FL', 36: 'PA', 37: 'MD', 38: 'NC', 39: 'SC', 40: 'VT', 41: 'NY', 42: 'NJ', 43: 'DE', 44: 'NH', 45: 'MA', 46: 'CT', 47: 'ME', 48: 'RI'}\n",
    "links = [(1, 4), (1, 3), (1, 7), (2, 3), (2, 5), (3, 5), (3, 4), (4, 5), (4, 6), (4, 7), (5, 8), (5, 9), (5, 6), (6, 9), (6, 10), (6, 7), (7, 11), (8, 12), (8, 13), (8, 9), (9, 13), (9, 14), (9, 10), (10, 14), (10, 15), (10, 16), (10, 11), (11, 16), (11, 17), (12, 18), (12, 13), (13, 18), (13, 19), (13, 14), (14, 19), (14, 20), (14, 15), (15, 20), (15, 16), (16, 20), (16, 21), (16, 17), (17, 21), (17, 22), (18, 23), (18, 19), (19, 23), (19, 24), (19, 20), (20, 24), (20, 28), (20, 29), (20, 21), (21, 29), (21, 25), (21, 22), (22, 25), (23, 26), (23, 24), (24, 27), (24, 28), (25, 29), (25, 30), (26, 31), (26, 27), (27, 31), (27, 28), (28, 31), (28, 32), (28, 33), (28, 29), (29, 33), (29, 38), (29, 34), (29, 30), (30, 34), (30, 35), (31, 36), (31, 32), (32, 36), (32, 37), (32, 33), (33, 37), (33, 38), (34, 38), (34, 39), (34, 35), (36, 41), (36, 42), (36, 43), (36, 37), (37, 43), (40, 44), (40, 45), (40, 41), (41, 45), (41, 46), (41, 42), (42, 43), (44, 47), (44, 45), (45, 48), (45, 46), (46, 48), (39, 40)]\n",
    "all_paths_of_length_3 = []\n",
    "for s1 in range(1, 49):\n",
    "  for s2 in range(1, 49):\n",
    "    for s3 in range(1, 49):\n",
    "      for s4 in range(1, 49):\n",
    "        if len(set([s1, s2, s3, s4])) == 4:\n",
    "          all_paths_of_length_3.append((s1, s2, s3, s4))\n",
    "\n",
    "n = len(all_paths_of_length_3)\n",
    "# n should equal the number of 4-permutations of a 48-element set without repetition\n",
    "# which is 48!/(48-4)! = 48 * 47 * 46 * 45 = 4669920\n",
    "assert(n == 48 * 47 * 46 * 45)\n",
    "\n",
    "all_members = []\n",
    "for p in all_paths_of_length_3:\n",
    "  if ((p[0], p[1]) in links or (p[1], p[0]) in links) and \\\n",
    "     ((p[1], p[2]) in links or (p[2], p[1]) in links) and \\\n",
    "     ((p[2], p[3]) in links or (p[3], p[2]) in links):\n",
    "    member = f\"{states[p[0]]}{states[p[1]]}{states[p[2]]}{states[p[3]]}\"\n",
    "    all_members.append(member)\n",
    "    # print(member)\n",
    "size_of_language_of_Task_2 = len(all_members)"
   ]
  },
  {
   "cell_type": "code",
   "execution_count": null,
   "metadata": {
    "scrolled": true
   },
   "outputs": [],
   "source": [
    "print(size_of_language_of_Task_1, '>', size_of_language_of_Task_2,\n",
    "      size_of_language_of_Task_1 > size_of_language_of_Task_2)"
   ]
  }
 ],
 "metadata": {
  "colab": {
   "authorship_tag": "ABX9TyOCDngyditrgtEQMgN9lB0v",
   "collapsed_sections": [],
   "name": "learn-about-languages-and-grammars-solutions.ipynb",
   "private_outputs": true,
   "provenance": []
  },
  "kernelspec": {
   "display_name": "Python 3",
   "language": "python",
   "name": "python3"
  },
  "language_info": {
   "codemirror_mode": {
    "name": "ipython",
    "version": 3
   },
   "file_extension": ".py",
   "mimetype": "text/x-python",
   "name": "python",
   "nbconvert_exporter": "python",
   "pygments_lexer": "ipython3",
   "version": "3.9.0"
  }
 },
 "nbformat": 4,
 "nbformat_minor": 1
}
