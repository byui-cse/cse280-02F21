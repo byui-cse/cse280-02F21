{
 "cells": [
  {
   "cell_type": "markdown",
   "metadata": {
    "id": "06nhFgxo9MRO"
   },
   "source": [
    "# <font color=blue>Learn About Binary Search Trees</font>\n",
    "## <font color=blue>Solutions</font>"
   ]
  },
  {
   "cell_type": "markdown",
   "metadata": {
    "id": "mQfTmcoyE76D"
   },
   "source": [
    "## <font color=red>**DONE** Enumerate/Draw Valid BSTs</font>\n"
   ]
  },
  {
   "cell_type": "markdown",
   "metadata": {
    "id": "-pmaDkmsE9Ob"
   },
   "source": [
    "There are 14 valid BSTs with 4 keys.\n"
   ]
  },
  {
   "cell_type": "markdown",
   "metadata": {
    "id": "e9oIc2lc1e1M"
   },
   "source": [
    "Position nodes on a 4x4 grid indexed from 0:\n"
   ]
  },
  {
   "cell_type": "markdown",
   "metadata": {
    "id": "WyyCGwAC1gvL"
   },
   "source": [
    "|     |  0  |  1  |  2  |  3  |\n",
    "|-----|:---:|:---:|:---:|:---:|\n",
    "|**3**|(0,3)|(1,3)|(2,3)|(3,3)|\n",
    "|**2**|(0,2)|(1,2)|(2,2)|(3,2)|\n",
    "|**1**|(0,1)|(1,1)|(2,1)|(3,1)|\n",
    "|**0**|(0,0)|(1,0)|(2,0)|(3,0)|\n"
   ]
  },
  {
   "cell_type": "markdown",
   "metadata": {
    "id": "lMRVKUDJSH_z"
   },
   "source": [
    "Draw all 14 using the **neato** layout engine:"
   ]
  },
  {
   "cell_type": "code",
   "execution_count": null,
   "metadata": {
    "id": "smQkHRx1bjwm"
   },
   "outputs": [],
   "source": [
    "from graphviz import Source"
   ]
  },
  {
   "cell_type": "code",
   "execution_count": null,
   "metadata": {
    "id": "J8WnnrXkhsYB"
   },
   "outputs": [],
   "source": [
    "# 1234\n",
    "Source('''graph {node [shape=circle];\n",
    "  1 [pos=\"0,3!\"]; 2 [pos=\"1,2!\"]; 3 [pos=\"2,1!\"]; 4 [pos=\"3,0!\"];\n",
    "  1 -- 2 -- 3 -- 4 }''', engine='neato')"
   ]
  },
  {
   "cell_type": "code",
   "execution_count": null,
   "metadata": {
    "id": "Hd-q0Sm4kDYG"
   },
   "outputs": [],
   "source": [
    "# 1243\n",
    "Source('''graph {node [shape=circle];\n",
    "  1 [pos=\"0,3!\"]; 2 [pos=\"1,2!\"]; 4 [pos=\"2,1!\"]; 3 [pos=\"1,0!\"];\n",
    "  1 -- 2 -- 4 -- 3 }''', engine='neato')"
   ]
  },
  {
   "cell_type": "code",
   "execution_count": null,
   "metadata": {
    "id": "caOQ-yR2nmhY"
   },
   "outputs": [],
   "source": [
    "# 1324\n",
    "Source('''graph {node [shape=circle];\n",
    "  1 [pos=\"0,2!\"]; 3 [pos=\"1,1!\"]; 2 [pos=\"0,0!\"]; 4 [pos=\"2,0!\"];\n",
    "  1 -- 3 -- 2, 4 }''', engine='neato')"
   ]
  },
  {
   "cell_type": "code",
   "execution_count": null,
   "metadata": {
    "id": "xgUZTJqwoA7G"
   },
   "outputs": [],
   "source": [
    "# 1423\n",
    "Source('''graph {node [shape=circle];\n",
    "  1 [pos=\"0,3!\"]; 4 [pos=\"1,2!\"]; 2 [pos=\"0,1!\"]; 3 [pos=\"1,0!\"];\n",
    "  1 -- 4 -- 2 -- 3 }''', engine='neato')"
   ]
  },
  {
   "cell_type": "code",
   "execution_count": null,
   "metadata": {
    "id": "HSPBV79zoSES"
   },
   "outputs": [],
   "source": [
    "# 1432\n",
    "Source('''graph {node [shape=circle];\n",
    "  1 [pos=\"1,3!\"]; 4 [pos=\"2,2!\"]; 3 [pos=\"1,1!\"]; 2 [pos=\"0,0!\"];\n",
    "  1 -- 4 -- 3 -- 2 }''', engine='neato')"
   ]
  },
  {
   "cell_type": "code",
   "execution_count": null,
   "metadata": {
    "id": "TH0GaofSrZm2"
   },
   "outputs": [],
   "source": [
    "# 2134\n",
    "Source('''graph {node [shape=circle];\n",
    "  2 [pos=\"1,2!\"]; 1 [pos=\"0,1!\"]; 3 [pos=\"2,1!\"]; 4 [pos=\"3,0!\"];\n",
    "  2 -- 1, 3; 3 -- 4 }''', engine='neato')"
   ]
  },
  {
   "cell_type": "code",
   "execution_count": null,
   "metadata": {
    "id": "ilhUoWRDr5fa"
   },
   "outputs": [],
   "source": [
    "# 2143\n",
    "Source('''graph {node [shape=circle];\n",
    "  2 [pos=\"1,2!\"]; 1 [pos=\"0,1!\"]; 4 [pos=\"2,1!\"]; 3 [pos=\"1,0!\"];\n",
    "  2 -- 1, 4; 4 -- 3 }''', engine='neato')"
   ]
  },
  {
   "cell_type": "code",
   "execution_count": null,
   "metadata": {
    "id": "pwB0T4_Ksg4l"
   },
   "outputs": [],
   "source": [
    "# 3142\n",
    "Source('''graph {node [shape=circle];\n",
    "  3 [pos=\"1,2!\"]; 1 [pos=\"0,1!\"]; 4 [pos=\"2,1!\"]; 2 [pos=\"1,0!\"];\n",
    "  3 -- 1, 4; 1 -- 2 }''', engine='neato')"
   ]
  },
  {
   "cell_type": "code",
   "execution_count": null,
   "metadata": {
    "id": "FDBpbnc-vAr8"
   },
   "outputs": [],
   "source": [
    "# 3241\n",
    "Source('''graph {node [shape=circle];\n",
    "  3 [pos=\"2,2!\"]; 2 [pos=\"1,1!\"]; 4 [pos=\"3,1!\"]; 1 [pos=\"0,0!\"];\n",
    "  3 -- 2, 4; 2 -- 1 }''', engine='neato')"
   ]
  },
  {
   "cell_type": "code",
   "execution_count": null,
   "metadata": {
    "id": "s1GavRRUweYK"
   },
   "outputs": [],
   "source": [
    "# 4123\n",
    "Source('''graph {node [shape=circle];\n",
    "  4 [pos=\"1,3!\"]; 1 [pos=\"0,2!\"]; 2 [pos=\"1,1!\"]; 3 [pos=\"2,0!\"];\n",
    "  4 -- 1 -- 2 -- 3 }''', engine='neato')"
   ]
  },
  {
   "cell_type": "code",
   "execution_count": null,
   "metadata": {
    "id": "rq0VMwHdwGYP"
   },
   "outputs": [],
   "source": [
    "# 4132\n",
    "Source('''graph {node [shape=circle];\n",
    "  4 [pos=\"1,3!\"]; 1 [pos=\"0,2!\"]; 3 [pos=\"1,1!\"]; 2 [pos=\"0,0!\"];\n",
    "  4 -- 1 -- 3 -- 2 }''', engine='neato')"
   ]
  },
  {
   "cell_type": "code",
   "execution_count": null,
   "metadata": {
    "id": "h1c4bK5Rv1sw"
   },
   "outputs": [],
   "source": [
    "# 4213\n",
    "Source('''graph {node [shape=circle];\n",
    "  4 [pos=\"2,2!\"]; 2 [pos=\"1,1!\"]; 1 [pos=\"0,0!\"]; 3 [pos=\"2,0!\"];\n",
    "  4 -- 2 -- 1, 3 }''', engine='neato')"
   ]
  },
  {
   "cell_type": "code",
   "execution_count": null,
   "metadata": {
    "id": "lzJbmWHxvfQI"
   },
   "outputs": [],
   "source": [
    "# 4312\n",
    "Source('''graph {node [shape=circle];\n",
    "  4 [pos=\"2,3!\"]; 3 [pos=\"1,2!\"]; 1 [pos=\"0,1!\"]; 2 [pos=\"1,0!\"];\n",
    "  4 -- 3 -- 1 -- 2 }''', engine='neato')"
   ]
  },
  {
   "cell_type": "code",
   "execution_count": null,
   "metadata": {
    "id": "fpKNAGEHvufK"
   },
   "outputs": [],
   "source": [
    "# 4321\n",
    "Source('''graph {node [shape=circle];\n",
    "  4 [pos=\"3,3!\"]; 3 [pos=\"2,2!\"]; 2 [pos=\"1,1!\"]; 1 [pos=\"0,0!\"];\n",
    "  4 -- 3 -- 2 -- 1 }''', engine='neato')"
   ]
  }
 ],
 "metadata": {
  "colab": {
   "authorship_tag": "ABX9TyO+kuZkmk4GB5KfGKVfcuUx",
   "collapsed_sections": [
    "06nhFgxo9MRO"
   ],
   "name": "learn-about-binary-search-trees-solutions.ipynb",
   "private_outputs": true,
   "provenance": [
    {
     "file_id": "1ZVkEhnWYCnBX56k0z57jrWfJAVRHT1Av",
     "timestamp": 1628534032229
    }
   ]
  },
  "kernelspec": {
   "display_name": "Python 3",
   "language": "python",
   "name": "python3"
  },
  "language_info": {
   "codemirror_mode": {
    "name": "ipython",
    "version": 3
   },
   "file_extension": ".py",
   "mimetype": "text/x-python",
   "name": "python",
   "nbconvert_exporter": "python",
   "pygments_lexer": "ipython3",
   "version": "3.9.0"
  }
 },
 "nbformat": 4,
 "nbformat_minor": 1
}
