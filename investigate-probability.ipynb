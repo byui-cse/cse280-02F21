{
 "cells": [
  {
   "cell_type": "markdown",
   "metadata": {
    "id": "btbZFbIFVD6e"
   },
   "source": [
    "# <font color=blue>Investigate Probability</font>\n",
    "## <font color=blue>Ponder and Prove</font>\n"
   ]
  },
  {
   "cell_type": "markdown",
   "metadata": {
    "id": "JuBSQkMFVG-l"
   },
   "source": [
    "This exploration invites you to investigate and discover new ideas from probability theory, and make new connections to combinatorics.\n"
   ]
  },
  {
   "cell_type": "markdown",
   "metadata": {
    "id": "gq2zSRdsVJo4"
   },
   "source": [
    "## <font color=red>Explore Yet Another Pascal's Triangle Pattern</font>\n"
   ]
  },
  {
   "cell_type": "markdown",
   "metadata": {
    "id": "E2NlBnn4VKuU"
   },
   "source": [
    "Imagine you have applied the ```lambda x: '1' if x % 2 else ' '``` function when printing out Pascal's Triangle, to begin an investigation into the distribution of the odd numbers in it.\n"
   ]
  },
  {
   "cell_type": "markdown",
   "metadata": {
    "id": "m6f0aAQUVNCp"
   },
   "source": [
    "### <font color=purple>The Distribution of the Odds</font>\n"
   ]
  },
  {
   "cell_type": "markdown",
   "metadata": {
    "id": "cvdw-76AVQm2"
   },
   "source": [
    "```\n",
    "                                                                                                    # of 1's\n",
    "                                                                   1                                   1\n",
    "                                                                  1 1                                  2\n",
    "                                                                 1   1                                 2\n",
    "                                                                1 1 1 1                                4\n",
    "                                                               1       1                               2\n",
    "                                                              1 1     1 1                              4\n",
    "                                                             1   1   1   1                             4\n",
    "                                                            1 1 1 1 1 1 1 1                            8\n",
    "                                                           1               1                           2\n",
    "                                                          1 1             1 1                          4\n",
    "                                                         1   1           1   1                         4\n",
    "                                                        1 1 1 1         1 1 1 1                        8\n",
    "                                                       1       1       1       1                       4\n",
    "                                                      1 1     1 1     1 1     1 1                      8\n",
    "                                                     1   1   1   1   1   1   1   1                     8\n",
    "                                                    1 1 1 1 1 1 1 1 1 1 1 1 1 1 1 1                   16\n",
    "                                                   1                               1                   2\n",
    "                                                  1 1                             1 1                  4\n",
    "                                                 1   1                           1   1                 4\n",
    "                                                1 1 1 1                         1 1 1 1                8\n",
    "                                               1       1                       1       1               4\n",
    "                                              1 1     1 1                     1 1     1 1              8\n",
    "                                             1   1   1   1                   1   1   1   1             8\n",
    "                                            1 1 1 1 1 1 1 1                 1 1 1 1 1 1 1 1           16\n",
    "                                           1               1               1               1           4\n",
    "                                          1 1             1 1             1 1             1 1          8\n",
    "                                         1   1           1   1           1   1           1   1         8\n",
    "                                        1 1 1 1         1 1 1 1         1 1 1 1         1 1 1 1       16\n",
    "                                       1       1       1       1       1       1       1       1       8\n",
    "                                      1 1     1 1     1 1     1 1     1 1     1 1     1 1     1 1     16\n",
    "                                     1   1   1   1   1   1   1   1   1   1   1   1   1   1   1   1    16\n",
    "                                    1 1 1 1 1 1 1 1 1 1 1 1 1 1 1 1 1 1 1 1 1 1 1 1 1 1 1 1 1 1 1 1   32\n",
    "                                   1                                                               1   2\n",
    "                                  1 1                                                             1 1 etc.\n",
    "                                 1   1                                                           1   1\n",
    "                                1 1 1 1                                                         1 1 1 1\n",
    "                               1       1                                                       1       1\n",
    "                              1 1     1 1                                                     1 1     1 1\n",
    "                             1   1   1   1                                                   1   1   1   1\n",
    "                            1 1 1 1 1 1 1 1                                                 1 1 1 1 1 1 1 1\n",
    "                           1               1                                               1               1\n",
    "                          1 1             1 1                                             1 1             1 1\n",
    "                         1   1           1   1                                           1   1           1   1\n",
    "                        1 1 1 1         1 1 1 1                                         1 1 1 1         1 1 1 1\n",
    "                       1       1       1       1                                       1       1       1       1\n",
    "                      1 1     1 1     1 1     1 1                                     1 1     1 1     1 1     1 1\n",
    "                     1   1   1   1   1   1   1   1                                   1   1   1   1   1   1   1   1\n",
    "                    1 1 1 1 1 1 1 1 1 1 1 1 1 1 1 1                                 1 1 1 1 1 1 1 1 1 1 1 1 1 1 1 1\n",
    "                   1                               1                               1                               1\n",
    "                  1 1                             1 1                             1 1                             1 1\n",
    "                 1   1                           1   1                           1   1                           1   1\n",
    "                1 1 1 1                         1 1 1 1                         1 1 1 1                         1 1 1 1\n",
    "               1       1                       1       1                       1       1                       1       1\n",
    "              1 1     1 1                     1 1     1 1                     1 1     1 1                     1 1     1 1\n",
    "             1   1   1   1                   1   1   1   1                   1   1   1   1                   1   1   1   1\n",
    "            1 1 1 1 1 1 1 1                 1 1 1 1 1 1 1 1                 1 1 1 1 1 1 1 1                 1 1 1 1 1 1 1 1\n",
    "           1               1               1               1               1               1               1               1\n",
    "          1 1             1 1             1 1             1 1             1 1             1 1             1 1             1 1\n",
    "         1   1           1   1           1   1           1   1           1   1           1   1           1   1           1   1\n",
    "        1 1 1 1         1 1 1 1         1 1 1 1         1 1 1 1         1 1 1 1         1 1 1 1         1 1 1 1         1 1 1 1\n",
    "       1       1       1       1       1       1       1       1       1       1       1       1       1       1       1       1\n",
    "      1 1     1 1     1 1     1 1     1 1     1 1     1 1     1 1     1 1     1 1     1 1     1 1     1 1     1 1     1 1     1 1\n",
    "     1   1   1   1   1   1   1   1   1   1   1   1   1   1   1   1   1   1   1   1   1   1   1   1   1   1   1   1   1   1   1   1\n",
    "    1 1 1 1 1 1 1 1 1 1 1 1 1 1 1 1 1 1 1 1 1 1 1 1 1 1 1 1 1 1 1 1 1 1 1 1 1 1 1 1 1 1 1 1 1 1 1 1 1 1 1 1 1 1 1 1 1 1 1 1 1 1 1 1\n",
    "```\n"
   ]
  },
  {
   "cell_type": "markdown",
   "metadata": {
    "id": "L1G-Gh9LVXEx"
   },
   "source": [
    "### <font color=purple>In Terms of Parity</font>\n"
   ]
  },
  {
   "cell_type": "markdown",
   "metadata": {
    "id": "LXj5fABiVZbm"
   },
   "source": [
    "Parity is evenness or oddness (parity 0 or parity 1). So we count the number of odd numbers in each row. (The number of even numbers would then be the total minus the number of odds. And, of course, the total number of numbers in row $n$ is $n$ (if we number the rows starting at 1 instead of 0).)\n"
   ]
  },
  {
   "cell_type": "markdown",
   "metadata": {
    "id": "eDi7kKQPVaZF"
   },
   "source": [
    "| n | n in binary | no. of ones in n's binary rep. | $2^{\\mbox{no. of ones}}$ |\n",
    "|---|-------------|--------------------------------|--------------------------|\n",
    "| 0 |          00 |                              0 | $2^0 = 1$                |\n",
    "| 1 |          01 |                              1 | $2^1 = 2$                |\n",
    "| 2 |          10 |                              1 | $2^1 = 2$                |\n",
    "| 3 |          11 |                              2 | $2^2 = 4$                |\n"
   ]
  },
  {
   "cell_type": "markdown",
   "metadata": {
    "id": "hiiPW1AXVfSs"
   },
   "source": [
    "### <font color=purple>In Terms of the Binomial Theorem</font>\n"
   ]
  },
  {
   "cell_type": "markdown",
   "metadata": {
    "id": "oVQESh1xVgaj"
   },
   "source": [
    "That is, the Binomial Theorem's $(1 + x)^n$ expanded, then *reduced mod 2*.\n"
   ]
  },
  {
   "cell_type": "markdown",
   "metadata": {
    "id": "7SbcljVVVheQ"
   },
   "source": [
    "In the following, ```rm2``` stands for 'reduced mod 2'.\n"
   ]
  },
  {
   "cell_type": "markdown",
   "metadata": {
    "id": "Us8YpjSoViW1"
   },
   "source": [
    "1. Expand and reduce: $$(1 + x)^2 = 1 + 2x + x^2,\\ \\mbox{rm2} \\Rightarrow 1 + 0x + x^2 = 1 + x^2$$\n",
    "2. Try with an odd power: $$(1 + x)^3 = (1 + 2x + x^2) + (x + 2x^2 + x^3) = 1 + 3x + 3x^2 + x^3,\\ \\mbox{rm2} \\Rightarrow 1 + 1x + 1x^2 + x^3$$\n",
    "3. Better stick with even: $$(1 + x)^4 = 1 + 4x + 6x^2 + 4x^3 + x^4,\\ \\mbox{rm2} \\Rightarrow 1 + x^4$$\n",
    "4. Or decomposed into power of 2 powers: $$(1 + x)^{11} = (1 + x)^{8 + 2 + 1} = (1 + x)^8 (1 + x)^2 (1 + x)^1,\\ \\mbox{rm2} \\Rightarrow (1 + x^8)(1 + x^2)(1 + x^1)$$\n"
   ]
  },
  {
   "cell_type": "markdown",
   "metadata": {
    "id": "YVZmcvUEVl2Q"
   },
   "source": [
    "# <font color=red>The Main Question</font>\n"
   ]
  },
  {
   "cell_type": "markdown",
   "metadata": {
    "id": "_Bk7pLxpVnN8"
   },
   "source": [
    "What is the probability that a randomly chosen number from Pascal's Triangle is even?\n"
   ]
  },
  {
   "cell_type": "code",
   "execution_count": null,
   "metadata": {
    "id": "eICznAxvVoHQ"
   },
   "outputs": [],
   "source": [
    "#@title Hint {display-mode: \"form\"}\n",
    "print(\"Use the complementary probability that a randomly chosen number from Pascal's Triangle is odd!\")\n"
   ]
  },
  {
   "cell_type": "markdown",
   "metadata": {
    "id": "ZR8JzrilV5dn"
   },
   "source": [
    "```\n",
    "                                                                                                               Total # of 1's\n",
    "Also, what if you numbered the rows starting at 1 instead of 0?    1                                   1             1\n",
    "                                                                  1 1                                  2             3\n",
    "                                                                 1   1                                 3\n",
    "                                                                1 1 1 1                                4             9\n",
    "                                                               1       1                               5\n",
    "                                                              1 1     1 1                              6\n",
    "                                                             1   1   1   1                             7\n",
    "                                                            1 1 1 1 1 1 1 1                            8            27\n",
    "                                                           1               1                           9\n",
    "                                                          1 1             1 1                         10\n",
    "                                                         1   1           1   1                        11\n",
    "                                                        1 1 1 1         1 1 1 1                       12\n",
    "                                                       1       1       1       1                      13\n",
    "                                                      1 1     1 1     1 1     1 1                     14\n",
    "                                                     1   1   1   1   1   1   1   1                    15\n",
    "                                                    1 1 1 1 1 1 1 1 1 1 1 1 1 1 1 1                   16            81\n",
    "                                                   1                               1                  17\n",
    "                                                  1 1                             1 1                 18\n",
    "                                                 1   1                           1   1                19\n",
    "                                                1 1 1 1                         1 1 1 1               20\n",
    "                                               1       1                       1       1              21\n",
    "                                              1 1     1 1                     1 1     1 1             22\n",
    "                                             1   1   1   1                   1   1   1   1            23\n",
    "                                            1 1 1 1 1 1 1 1                 1 1 1 1 1 1 1 1           24\n",
    "                                           1               1               1               1          25\n",
    "                                          1 1             1 1             1 1             1 1         26\n",
    "                                         1   1           1   1           1   1           1   1        27\n",
    "                                        1 1 1 1         1 1 1 1         1 1 1 1         1 1 1 1       28\n",
    "                                       1       1       1       1       1       1       1       1      29\n",
    "                                      1 1     1 1     1 1     1 1     1 1     1 1     1 1     1 1     30\n",
    "                                     1   1   1   1   1   1   1   1   1   1   1   1   1   1   1   1    31\n",
    "                                    1 1 1 1 1 1 1 1 1 1 1 1 1 1 1 1 1 1 1 1 1 1 1 1 1 1 1 1 1 1 1 1   32          243\n",
    "                                   1                                                               1\n",
    "                                  1 1                                                             1 1\n",
    "                                 1   1                                                           1   1\n",
    "                                1 1 1 1                                                         1 1 1 1\n",
    "                               1       1                                                       1       1\n",
    "                              1 1     1 1                                                     1 1     1 1\n",
    "                             1   1   1   1                                                   1   1   1   1\n",
    "                            1 1 1 1 1 1 1 1                                                 1 1 1 1 1 1 1 1\n",
    "                           1               1                                               1               1\n",
    "                          1 1             1 1                                             1 1             1 1\n",
    "                         1   1           1   1                                           1   1           1   1\n",
    "                        1 1 1 1         1 1 1 1                                         1 1 1 1         1 1 1 1\n",
    "                       1       1       1       1                                       1       1       1       1\n",
    "                      1 1     1 1     1 1     1 1                                     1 1     1 1     1 1     1 1\n",
    "                     1   1   1   1   1   1   1   1                                   1   1   1   1   1   1   1   1\n",
    "                    1 1 1 1 1 1 1 1 1 1 1 1 1 1 1 1                                 1 1 1 1 1 1 1 1 1 1 1 1 1 1 1 1\n",
    "                   1                               1                               1                               1\n",
    "                  1 1                             1 1                             1 1                             1 1\n",
    "                 1   1                           1   1                           1   1                           1   1\n",
    "                1 1 1 1                         1 1 1 1                         1 1 1 1                         1 1 1 1\n",
    "               1       1                       1       1                       1       1                       1       1\n",
    "              1 1     1 1                     1 1     1 1                     1 1     1 1                     1 1     1 1\n",
    "             1   1   1   1                   1   1   1   1                   1   1   1   1                   1   1   1   1\n",
    "            1 1 1 1 1 1 1 1                 1 1 1 1 1 1 1 1                 1 1 1 1 1 1 1 1                 1 1 1 1 1 1 1 1\n",
    "           1               1               1               1               1               1               1               1\n",
    "          1 1             1 1             1 1             1 1             1 1             1 1             1 1             1 1\n",
    "         1   1           1   1           1   1           1   1           1   1           1   1           1   1           1   1\n",
    "        1 1 1 1         1 1 1 1         1 1 1 1         1 1 1 1         1 1 1 1         1 1 1 1         1 1 1 1         1 1 1 1\n",
    "       1       1       1       1       1       1       1       1       1       1       1       1       1       1       1       1\n",
    "      1 1     1 1     1 1     1 1     1 1     1 1     1 1     1 1     1 1     1 1     1 1     1 1     1 1     1 1     1 1     1 1\n",
    "     1   1   1   1   1   1   1   1   1   1   1   1   1   1   1   1   1   1   1   1   1   1   1   1   1   1   1   1   1   1   1   1\n",
    "    1 1 1 1 1 1 1 1 1 1 1 1 1 1 1 1 1 1 1 1 1 1 1 1 1 1 1 1 1 1 1 1 1 1 1 1 1 1 1 1 1 1 1 1 1 1 1 1 1 1 1 1 1 1 1 1 1 1 1 1 1 1 1 1\n",
    "```\n"
   ]
  }
 ],
 "metadata": {
  "colab": {
   "authorship_tag": "ABX9TyN74uGsdn3qfHcOLMZrVpV5",
   "name": "investigate-probability.ipynb",
   "private_outputs": true,
   "provenance": []
  },
  "kernelspec": {
   "display_name": "Python 3",
   "language": "python",
   "name": "python3"
  },
  "language_info": {
   "codemirror_mode": {
    "name": "ipython",
    "version": 3
   },
   "file_extension": ".py",
   "mimetype": "text/x-python",
   "name": "python",
   "nbconvert_exporter": "python",
   "pygments_lexer": "ipython3",
   "version": "3.9.0"
  }
 },
 "nbformat": 4,
 "nbformat_minor": 1
}
