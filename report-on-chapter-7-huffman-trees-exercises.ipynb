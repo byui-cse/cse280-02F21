{
 "cells": [
  {
   "cell_type": "markdown",
   "metadata": {
    "id": "B-aAJ3hyPPP-"
   },
   "source": [
    "# <font color=blue>Report on Chapter 7 Huffman Trees Exercises</font>"
   ]
  },
  {
   "cell_type": "markdown",
   "metadata": {
    "id": "C6TxlVCSPV9s"
   },
   "source": [
    "## <font color=red>Instructions</font>\n"
   ]
  },
  {
   "cell_type": "markdown",
   "metadata": {
    "id": "FWyhMQnWPXCc"
   },
   "source": [
    "There is one assertion this week. You must truthfully assert that you deliberately made a choice and are prepared to face the consequences:\n"
   ]
  },
  {
   "cell_type": "markdown",
   "metadata": {
    "id": "Rpcfmt5ZPX_9"
   },
   "source": [
    "1. If I asserted that I did Exercise 7.4.1 and got the right answer, I am prepared to explain to my instructor how I knew the answer I got was right even though I chose not to ask for the passphrase to RSA-decrypt the supplied answer.\n"
   ]
  },
  {
   "cell_type": "markdown",
   "metadata": {
    "id": "rEQ1rQtvPbwx"
   },
   "source": [
    "This is important to note because for the next two weeks the Chapter 8 exercises are **ALL** encrypted, and the keys are available only by requesting them from your instructor.\n"
   ]
  },
  {
   "cell_type": "markdown",
   "metadata": {
    "id": "dCIChXWUPdU-"
   },
   "source": [
    "## <font color=purple>Access</font>\n"
   ]
  },
  {
   "cell_type": "markdown",
   "metadata": {
    "id": "Uq_vBeYVPeWs"
   },
   "source": [
    "[Take the Self-Assessment](https://byui.instructure.com/courses/149380/quizzes/2724887)"
   ]
  }
 ],
 "metadata": {
  "colab": {
   "authorship_tag": "ABX9TyMw6WEFxEZhQfajEwsc3BjR",
   "collapsed_sections": [],
   "name": "report-on-chapter-7-huffman-trees-exercises.ipynb",
   "private_outputs": true,
   "provenance": []
  },
  "kernelspec": {
   "display_name": "Python 3",
   "language": "python",
   "name": "python3"
  },
  "language_info": {
   "codemirror_mode": {
    "name": "ipython",
    "version": 3
   },
   "file_extension": ".py",
   "mimetype": "text/x-python",
   "name": "python",
   "nbconvert_exporter": "python",
   "pygments_lexer": "ipython3",
   "version": "3.9.0"
  }
 },
 "nbformat": 4,
 "nbformat_minor": 1
}
