{
 "cells": [
  {
   "cell_type": "markdown",
   "metadata": {
    "id": "WevVgXcOuiqy"
   },
   "source": [
    "# <font color=blue>Learn About Elementary Number Theory</font>\n",
    "## <font color=blue>Solutions</font>\n"
   ]
  },
  {
   "cell_type": "markdown",
   "metadata": {
    "id": "tJ8enZUyCTPP"
   },
   "source": [
    "## <font color=red>**DONE** Investigate</font>\n"
   ]
  },
  {
   "cell_type": "markdown",
   "metadata": {
    "id": "bgUgnWfiCVyV"
   },
   "source": [
    "Every prime (&ldquo;realprime&rdquo; (5 or greater) not &ldquo;subprime&rdquo; (2 or 3)) is either one more or one less than a multiple of 6.\n"
   ]
  },
  {
   "cell_type": "markdown",
   "metadata": {
    "id": "B0J0_NFPzAsY"
   },
   "source": [
    "See the `realprimes` function in the Answer to Exercise 6.7.3."
   ]
  },
  {
   "cell_type": "markdown",
   "metadata": {
    "id": "M8DaomKuz2qe"
   },
   "source": [
    "Borrowing an idea from the next TODO, every number is either:"
   ]
  },
  {
   "cell_type": "markdown",
   "metadata": {
    "id": "9uzgikyTz1ra"
   },
   "source": [
    "* $6x + 0$ (a multiple of $6$ --- so obviously not prime)\n",
    "* $6x + 1$ (one more than a multiple of $6$ --- so possibly but not necessarily prime)\n",
    "* $6x + 2$ (two more than a multiple of $6$ --- divisible by 2, so not prime)\n",
    "* $6x + 3$ (three more than a multiple of $6$ --- divisible by 3, so not prime)\n",
    "* $6x + 4$ (four more than a multiple of $6$ --- divisible by 2 again, so not prime)\n",
    "* $6x + 5$ (five more than a multiple of $6$ --- which is the same as one less than a multiple of $6$ --- again, possibly prime)\n"
   ]
  },
  {
   "cell_type": "markdown",
   "metadata": {
    "id": "x-aBIgSwCXym"
   },
   "source": [
    "## <font color=red>**DONE** Learn More About Exercise 6.10.3</font>\n"
   ]
  },
  {
   "cell_type": "markdown",
   "metadata": {
    "id": "FFhLlGFuCYsL"
   },
   "source": [
    "The CMM ER (Congruence Modulo M Equivalence Relation) deals with a cyclical subset of the integers:\n"
   ]
  },
  {
   "cell_type": "markdown",
   "metadata": {
    "id": "xDKw8m27CZlq"
   },
   "source": [
    "$\\mathbb{Z}_{m} = \\{0, 1, 2, \\ldots, m - 1\\}$."
   ]
  },
  {
   "cell_type": "markdown",
   "metadata": {
    "id": "fKAEDVQjCayH"
   },
   "source": [
    "Concretize with $m = 5$:\n"
   ]
  },
  {
   "cell_type": "markdown",
   "metadata": {
    "id": "Hpo0Awx4Cfbh"
   },
   "source": [
    "$\\mathbb{Z}_{5} = \\{0, 1, 2, 3, 4\\}$.\n"
   ]
  },
  {
   "cell_type": "markdown",
   "metadata": {
    "id": "oSMZre3gChdv"
   },
   "source": [
    "CM5 puts every integer into one of five equivalence classes:\n"
   ]
  },
  {
   "cell_type": "markdown",
   "metadata": {
    "id": "mqKv9wWqDTjO"
   },
   "source": [
    "* $5x + 0$ (a multiple of $5$)\n",
    "* $5x + 1$ (one more than a multiple of $5$)\n",
    "* $5x + 2$ (two more than a multiple of $5$)\n",
    "* $5x + 3$ (three more than a multiple of $5$)\n",
    "* $5x + 4$ (four more than a multiple of $5$)\n"
   ]
  },
  {
   "cell_type": "markdown",
   "metadata": {
    "id": "7FwI4UawDWBi"
   },
   "source": [
    "How do we make use of these facts in solving this so-called &ldquo;chicken nuggets&rdquo; problem?\n"
   ]
  },
  {
   "cell_type": "markdown",
   "metadata": {
    "id": "yVmOFIg7DXy8"
   },
   "source": [
    "$23$ is the right answer, but why can every number $24$ and higher be made by adding some multiple of $5$ to some multiple of $7$?\n"
   ]
  },
  {
   "cell_type": "markdown",
   "metadata": {
    "id": "nqas27YIDgQS"
   },
   "source": [
    "Here's a proof whose steps have been scrambled.\n"
   ]
  },
  {
   "cell_type": "markdown",
   "metadata": {
    "id": "AY1IgRdhDili"
   },
   "source": [
    "Your task is to unscramble them (give the right permutation of [1, 2, 3, 4, 5, 6, 7]).\n"
   ]
  },
  {
   "cell_type": "markdown",
   "metadata": {
    "id": "6ffh2_C4DleH"
   },
   "source": [
    "1. Consider $7$. It is $2$ more than a multiple of $5$.\n",
    "2. Similarly, since $7 \\times 3 = 21$ is $1$ more than a multiple of $5$, $5(q - 4) + 7(3)$ fills it.\n",
    "3. We have now covered all of the possibilities, $5x + 0, 5x + 1, 5x + 2, 5x + 3$, and $5x + 4$, so it remains to show that the number must be $\\ge 24$.\n",
    "4. So if you reduce any number ($\\ge 24$) mod $5$ and get $2$, at least one way to fill it is by dividing the number by $5$ getting $q$, the quotient, and the number will be $5(q - 1) + 7$.\n",
    "5. Likewise, $7 \\times 2 = 14$ is $4$ more than a multiple of $5$, $5(q - 2) + 7(2)$ fills it, and for $7 \\times 4 = 28 = 3 \\pmod{5}, 5(q - 5) + 7(4)$ fills it.\n",
    "6. Every number is $0, 1, 2, 3,$ or $4$ more than a multiple of $5$. Thus, for $0$ more, that means every multiple of $5$ can be filled.\n",
    "7. The reason the number must be $\\ge 24$ is so that $q$ minus some number between $1$ and $5$ is nonnegative.\n"
   ]
  },
  {
   "cell_type": "markdown",
   "metadata": {
    "id": "noeGWS6Q1Mrk"
   },
   "source": [
    "The right permutation is [6, 1, 4, 2, 5, 3, 7]. Here is the proof unscrambled:\n",
    " "
   ]
  },
  {
   "cell_type": "markdown",
   "metadata": {
    "id": "L1LvxyIw2YJW"
   },
   "source": [
    "Every number is $0, 1, 2, 3,$ or $4$ more than a multiple of $5$. Thus, for $0$ more, that means every multiple of $5$ can be filled.\n"
   ]
  },
  {
   "cell_type": "markdown",
   "metadata": {
    "id": "kQyaez1m2aNM"
   },
   "source": [
    "Consider $7$. It is $2$ more than a multiple of $5$."
   ]
  },
  {
   "cell_type": "markdown",
   "metadata": {
    "id": "qEkozt-N2nIj"
   },
   "source": [
    "So if you reduce any number ($\\ge 24$) mod $5$ and get $2$, at least one way to fill it is by dividing the number by $5$ getting $q$, the quotient, and the number will be $5(q - 1) + 7$."
   ]
  },
  {
   "cell_type": "markdown",
   "metadata": {
    "id": "4kfo_lxc2rbe"
   },
   "source": [
    "Similarly, since $7 \\times 3 = 21$ is $1$ more than a multiple of $5$, $5(q - 4) + 7(3)$ fills it."
   ]
  },
  {
   "cell_type": "markdown",
   "metadata": {
    "id": "NElFPlYM2udi"
   },
   "source": [
    "Likewise, $7 \\times 2 = 14$ is $4$ more than a multiple of $5$, $5(q - 2) + 7(2)$ fills it, and for $7 \\times 4 = 28 = 3 \\pmod{5}, 5(q - 5) + 7(4)$ fills it."
   ]
  },
  {
   "cell_type": "markdown",
   "metadata": {
    "id": "3XEH8vyr216b"
   },
   "source": [
    "We have now covered all of the possibilities, $5x + 0, 5x + 1, 5x + 2, 5x + 3$, and $5x + 4$, so it remains to show that the number must be $\\ge 24$."
   ]
  },
  {
   "cell_type": "markdown",
   "metadata": {
    "id": "IQf1D7Go25dW"
   },
   "source": [
    "The reason the number must be $\\ge 24$ is so that $q$ minus some number between $1$ and $5$ is nonnegative."
   ]
  }
 ],
 "metadata": {
  "colab": {
   "authorship_tag": "ABX9TyPKOHygZX3SsX4sSnv0TcDU",
   "collapsed_sections": [
    "hCj6-mXUzPKq"
   ],
   "name": "learn-about-elementary-number-theory-solutions.ipynb",
   "private_outputs": true,
   "provenance": [
    {
     "file_id": "1POg1dekv510-Dx_fKzbndsBhkuJ7johG",
     "timestamp": 1628544089114
    }
   ]
  },
  "kernelspec": {
   "display_name": "Python 3",
   "language": "python",
   "name": "python3"
  },
  "language_info": {
   "codemirror_mode": {
    "name": "ipython",
    "version": 3
   },
   "file_extension": ".py",
   "mimetype": "text/x-python",
   "name": "python",
   "nbconvert_exporter": "python",
   "pygments_lexer": "ipython3",
   "version": "3.9.0"
  }
 },
 "nbformat": 4,
 "nbformat_minor": 1
}
