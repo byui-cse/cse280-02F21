{
 "cells": [
  {
   "cell_type": "markdown",
   "metadata": {
    "id": "9i-gc_PAMnA9"
   },
   "source": [
    "# <font color=blue>Learn Even More About Shortest Paths in Graphs</font>\n",
    "## <font color=blue>Solutions Extra</font>\n"
   ]
  },
  {
   "cell_type": "markdown",
   "metadata": {},
   "source": [
    "If students are curious and ask how that pretty good path was found, show them how it was done using a very nice package for dealing with hard graph problems: [graphillion](https://github.com/takemaru/graphillion)!"
   ]
  },
  {
   "cell_type": "code",
   "execution_count": null,
   "metadata": {
    "id": "Y7VjHbC3M3Qy"
   },
   "outputs": [],
   "source": [
    "!curl -s -O https://byui-cse.github.io/cse280-course/usa_graph_with_intercity_distances.txt"
   ]
  },
  {
   "cell_type": "code",
   "execution_count": null,
   "metadata": {
    "id": "h9p6RzMAM53a"
   },
   "outputs": [],
   "source": [
    "def read_graph_links(filename):\n",
    "  with open(filename, 'r') as f:\n",
    "    data = map(str.split, f.readlines())\n",
    "    return list(map(lambda triple: (triple[0], triple[1], int(triple[2])), data))"
   ]
  },
  {
   "cell_type": "code",
   "execution_count": null,
   "metadata": {
    "id": "lX4CvT22M74E"
   },
   "outputs": [],
   "source": [
    "usa_graph_links = read_graph_links('usa_graph_with_intercity_distances.txt')"
   ]
  },
  {
   "cell_type": "code",
   "execution_count": null,
   "metadata": {
    "id": "LlzZKDqJNBqD"
   },
   "outputs": [],
   "source": [
    "!pip install graphillion"
   ]
  },
  {
   "cell_type": "code",
   "execution_count": null,
   "metadata": {
    "id": "7h4yHR6NNJxe"
   },
   "outputs": [],
   "source": [
    "from graphillion import GraphSet\n",
    "from pprint import pprint\n",
    "GraphSet.set_universe(usa_graph_links)\n",
    "start = 'CA'\n",
    "goal = 'ME'\n",
    "paths = GraphSet.paths(start, goal)\n",
    "print(f'Total number of paths from {start} to {goal}: {len(paths)}')\n",
    "hamilton_paths = GraphSet.paths(start, goal, is_hamilton=True)\n",
    "print(f'Total number of Hamilton paths from {start} to {goal}: {len(hamilton_paths)}')\n",
    "for path in hamilton_paths.min_iter():\n",
    "  minimum_length_path = path\n",
    "  break\n",
    "print('The miminum-length path is:')\n",
    "pprint(minimum_length_path)\n",
    "length_of_minimum_length_path = sum(map(lambda link: GraphSet._weights[link], minimum_length_path))\n",
    "print(f'The total length of this path is {length_of_minimum_length_path} miles.')"
   ]
  },
  {
   "cell_type": "markdown",
   "metadata": {},
   "source": [
    "Of course, graphillion can find the best path too!"
   ]
  },
  {
   "cell_type": "code",
   "execution_count": null,
   "metadata": {},
   "outputs": [],
   "source": [
    "# Try the code cell above again, only with\n",
    "start = 'WA'"
   ]
  }
 ],
 "metadata": {
  "colab": {
   "authorship_tag": "ABX9TyMnKVymShvx4hr7pbowrx+G",
   "collapsed_sections": [],
   "name": "learn-more-about-shortest-paths-in-graphs-solutions-extra.ipynb",
   "private_outputs": true,
   "provenance": []
  },
  "kernelspec": {
   "display_name": "Python 3",
   "language": "python",
   "name": "python3"
  },
  "language_info": {
   "codemirror_mode": {
    "name": "ipython",
    "version": 3
   },
   "file_extension": ".py",
   "mimetype": "text/x-python",
   "name": "python",
   "nbconvert_exporter": "python",
   "pygments_lexer": "ipython3",
   "version": "3.9.0"
  }
 },
 "nbformat": 4,
 "nbformat_minor": 1
}
