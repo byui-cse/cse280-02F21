{
 "cells": [
  {
   "cell_type": "markdown",
   "metadata": {
    "id": "eKUTKekJMwFV"
   },
   "source": [
    "# <font color=blue>Prepare for Functions</font>"
   ]
  },
  {
   "cell_type": "markdown",
   "metadata": {
    "id": "4EK7pb_hS-Ox"
   },
   "source": [
    "## <font color=red>Instructions</font>"
   ]
  },
  {
   "cell_type": "markdown",
   "metadata": {
    "id": "04cG8534tgTM"
   },
   "source": [
    "Answer questions on the content from the book, Chapter 3 Functions, and all first-level links therefrom."
   ]
  },
  {
   "cell_type": "markdown",
   "metadata": {
    "id": "DJm1MaXor4UB"
   },
   "source": [
    "## <font color=red>Access</font>"
   ]
  },
  {
   "cell_type": "markdown",
   "metadata": {
    "id": "l9cUIbIVsiC7"
   },
   "source": [
    "[Take the Quiz](https://byui.instructure.com/courses/149380/quizzes/2724883/)"
   ]
  }
 ],
 "metadata": {
  "colab": {
   "authorship_tag": "ABX9TyONCMZJ1boBtyEvLzYzU8oe",
   "collapsed_sections": [],
   "name": "prepare-for-functions.ipynb",
   "private_outputs": true,
   "provenance": []
  },
  "kernelspec": {
   "display_name": "Python 3",
   "language": "python",
   "name": "python3"
  },
  "language_info": {
   "codemirror_mode": {
    "name": "ipython",
    "version": 3
   },
   "file_extension": ".py",
   "mimetype": "text/x-python",
   "name": "python",
   "nbconvert_exporter": "python",
   "pygments_lexer": "ipython3",
   "version": "3.9.0"
  }
 },
 "nbformat": 4,
 "nbformat_minor": 1
}
