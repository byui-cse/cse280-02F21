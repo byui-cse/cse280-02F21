{
 "cells": [
  {
   "cell_type": "markdown",
   "metadata": {
    "id": "FTpWGfp9kwwS"
   },
   "source": [
    "# <font color=blue>Explore Fuzzy Sets and Fuzzy Logic</font>\n",
    "## <font color=blue>Ponder and Prove</font>"
   ]
  },
  {
   "cell_type": "markdown",
   "metadata": {
    "id": "IogiTjbUwAwV"
   },
   "source": [
    "## <font color=red>Clarification</font>"
   ]
  },
  {
   "cell_type": "markdown",
   "metadata": {
    "id": "NzOMNW5rk40z"
   },
   "source": [
    "In this Exploration, \"Ponder and Prove\" mean to \"Investigate and Report On\"."
   ]
  },
  {
   "cell_type": "markdown",
   "metadata": {},
   "source": [
    "## <font color=red>Questions</font>"
   ]
  },
  {
   "cell_type": "markdown",
   "metadata": {},
   "source": [
    "What are some applications of **fuzzy sets** and **fuzzy logic**?"
   ]
  },
  {
   "cell_type": "markdown",
   "metadata": {},
   "source": [
    "Do you see why fuzzy logic makes an exception to the Law of the Excluded Middle?"
   ]
  },
  {
   "cell_type": "markdown",
   "metadata": {},
   "source": [
    "## <font color=red>Caution</font>"
   ]
  },
  {
   "cell_type": "markdown",
   "metadata": {
    "id": "sWcZoyHonPoP"
   },
   "source": [
    "Do more than parrot some answer you find online (or, e.g., below) about fuzzy sets/logic!"
   ]
  },
  {
   "cell_type": "markdown",
   "metadata": {
    "id": "KAk5ktCtvw7h"
   },
   "source": [
    "## <font color=red>Example</font>"
   ]
  },
  {
   "cell_type": "markdown",
   "metadata": {
    "id": "XmVbSj8Lt7fa"
   },
   "source": [
    "[Click here](https://byui-cse.github.io/cse280-course/images/fuzzy-logic-from-the-math-book-page-430.png) and [here](https://byui-cse.github.io/cse280-course/images/fuzzy-logic-washing-machine-from-the-math-book-page-431.png) to see an excerpt from [The Math Book](https://www.amazon.com/Math-Book-Pythagoras-Milestones-Mathematics/dp/1402788290) by Clifford Pickover."
   ]
  }
 ],
 "metadata": {
  "colab": {
   "authorship_tag": "ABX9TyNsn7WmyKozWQ98oU67IP0i",
   "collapsed_sections": [],
   "name": "explore-fuzzy-sets-and-fuzzy-logic.ipynb",
   "private_outputs": true,
   "provenance": []
  },
  "kernelspec": {
   "display_name": "Python 3",
   "language": "python",
   "name": "python3"
  },
  "language_info": {
   "codemirror_mode": {
    "name": "ipython",
    "version": 3
   },
   "file_extension": ".py",
   "mimetype": "text/x-python",
   "name": "python",
   "nbconvert_exporter": "python",
   "pygments_lexer": "ipython3",
   "version": "3.9.0"
  }
 },
 "nbformat": 4,
 "nbformat_minor": 1
}
