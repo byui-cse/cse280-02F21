{
 "cells": [
  {
   "cell_type": "markdown",
   "metadata": {
    "id": "m5ah7oBj14EO"
   },
   "source": [
    "# <font color=blue>Reflect and Report on Relations</font>\n",
    "## <font color=blue>Prepare</font>"
   ]
  },
  {
   "cell_type": "markdown",
   "metadata": {
    "id": "RAvyHxR716gS"
   },
   "source": [
    "## <font color=red>Instructions</font>"
   ]
  },
  {
   "cell_type": "markdown",
   "metadata": {
    "id": "rJ6sPLbM3xQ3"
   },
   "source": [
    "You will be asked to assert the usual:\n",
    "* I attended class on Tuesday this week.\n",
    "* I participated in the In-Class Exercise(s) on Tuesday this week.\n",
    "* I attended class on Thursday this week.\n",
    "* I participated in the In-Class Exercise(s) on Thursday this week.\n"
   ]
  },
  {
   "cell_type": "markdown",
   "metadata": {
    "id": "aoXmGo6r4Dh6"
   },
   "source": [
    "## <font color=red>Access</font>\n"
   ]
  },
  {
   "cell_type": "markdown",
   "metadata": {
    "id": "7YmZUMDq4EdV"
   },
   "source": [
    "[Take the Self-Assessment](https://byui.instructure.com/courses/149380/quizzes/2724907)"
   ]
  }
 ],
 "metadata": {
  "colab": {
   "authorship_tag": "ABX9TyPPmXRz1uifHWa+iekR7+mI",
   "collapsed_sections": [],
   "name": "reflect-and-report-on-relations.ipynb",
   "private_outputs": true,
   "provenance": [
    {
     "file_id": "14DBC_ok9O0RUzKrkOXmhXkQrVc6dYnP6",
     "timestamp": 1621558731751
    }
   ]
  },
  "kernelspec": {
   "display_name": "Python 3",
   "language": "python",
   "name": "python3"
  },
  "language_info": {
   "codemirror_mode": {
    "name": "ipython",
    "version": 3
   },
   "file_extension": ".py",
   "mimetype": "text/x-python",
   "name": "python",
   "nbconvert_exporter": "python",
   "pygments_lexer": "ipython3",
   "version": "3.9.0"
  }
 },
 "nbformat": 4,
 "nbformat_minor": 1
}
