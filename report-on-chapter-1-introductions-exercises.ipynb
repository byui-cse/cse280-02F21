{
 "cells": [
  {
   "cell_type": "markdown",
   "metadata": {
    "id": "P4HjCMYKKoIm"
   },
   "source": [
    "# <font color=blue>Report on Chapter 1 Introductions Exercises</font>  "
   ]
  },
  {
   "cell_type": "markdown",
   "metadata": {
    "id": "F7RRYEO3LDhE"
   },
   "source": [
    "## <font color=red>Instructions</font>"
   ]
  },
  {
   "cell_type": "markdown",
   "metadata": {
    "id": "q5mqj5g-LH9z"
   },
   "source": [
    "This self-assessment has one question, multiple answers, a point for each box you can truthfully check. Here is your opportunity to assert that you got the right answers to each of the Chapter 1.4 Exercises, and that you wrote Python code to illuminate your answers.\n",
    "\n",
    "Your code does not need to be the same as or even close to the sample code. But here is your chance to compare and contrast your code with these possible solutions/illuminations. And make note of any improvements you could make for the future."
   ]
  },
  {
   "cell_type": "markdown",
   "metadata": {
    "id": "ys2mpD1pKyUW"
   },
   "source": [
    "## <font color=purple>Access</font>"
   ]
  },
  {
   "cell_type": "markdown",
   "metadata": {
    "id": "dbEQh6I-KzuB"
   },
   "source": [
    "[Take the Self-Assessment]()"
   ]
  }
 ],
 "metadata": {
  "colab": {
   "authorship_tag": "ABX9TyMeDPT2caz7LZkDjxQbCcjX",
   "name": "report-on-chapter-1-introductions-exercises.ipynb",
   "private_outputs": true,
   "provenance": []
  },
  "kernelspec": {
   "display_name": "Python 3",
   "language": "python",
   "name": "python3"
  },
  "language_info": {
   "codemirror_mode": {
    "name": "ipython",
    "version": 3
   },
   "file_extension": ".py",
   "mimetype": "text/x-python",
   "name": "python",
   "nbconvert_exporter": "python",
   "pygments_lexer": "ipython3",
   "version": "3.9.0"
  }
 },
 "nbformat": 4,
 "nbformat_minor": 1
}
